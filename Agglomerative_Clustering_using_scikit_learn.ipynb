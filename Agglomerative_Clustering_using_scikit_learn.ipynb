{
  "nbformat": 4,
  "nbformat_minor": 0,
  "metadata": {
    "colab": {
      "name": "Agglomerative Clustering using scikit-learn.ipynb",
      "provenance": [],
      "toc_visible": true,
      "authorship_tag": "ABX9TyMja+vXc8m+n1emxXt5/n9a",
      "include_colab_link": true
    },
    "kernelspec": {
      "name": "python3",
      "display_name": "Python 3"
    },
    "language_info": {
      "name": "python"
    }
  },
  "cells": [
    {
      "cell_type": "markdown",
      "metadata": {
        "id": "view-in-github",
        "colab_type": "text"
      },
      "source": [
        "<a href=\"https://colab.research.google.com/github/hussain0048/Machine-Learning/blob/master/Agglomerative_Clustering_using_scikit_learn.ipynb\" target=\"_parent\"><img src=\"https://colab.research.google.com/assets/colab-badge.svg\" alt=\"Open In Colab\"/></a>"
      ]
    },
    {
      "cell_type": "markdown",
      "source": [
        "# **Import Library**"
      ],
      "metadata": {
        "id": "_TuBj_Q-q3_I"
      }
    },
    {
      "cell_type": "markdown",
      "source": [
        "For more detail please viste to [Courseteach](https://coursesteach.com/mod/page/view.php?id=5699&forceview=1)"
      ],
      "metadata": {
        "id": "korFuDPMtXAE"
      }
    },
    {
      "cell_type": "code",
      "execution_count": 2,
      "metadata": {
        "id": "al-34z-RqoUj"
      },
      "outputs": [],
      "source": [
        "import numpy as np \n",
        "import pandas as pd\n",
        "from scipy import ndimage \n",
        "from scipy.cluster import hierarchy \n",
        "from scipy.spatial import distance_matrix \n",
        "from matplotlib import pyplot as plt \n",
        "from sklearn import manifold, datasets \n",
        "from sklearn.cluster import AgglomerativeClustering \n",
        "%matplotlib inline"
      ]
    },
    {
      "cell_type": "markdown",
      "source": [
        "# **Dataset**"
      ],
      "metadata": {
        "id": "-aYeZYPqrRH4"
      }
    },
    {
      "cell_type": "markdown",
      "source": [
        "Imagine that an automobile manufacturer has developed prototypes for a new vehicle. Before introducing the new model into its range, the manufacturer wants to determine which existing vehicles on the market are most like the prototypes--that is, how vehicles can be grouped, which group is the most similar with the model, and therefore which models they will be competing against.\n",
        "\n",
        "Our objective here, is to use clustering methods, to find the most distinctive clusters of vehicles. It will summarize the existing vehicles and help manufacturers to make decision about the supply of new models."
      ],
      "metadata": {
        "id": "YtyZqjF1radp"
      }
    },
    {
      "cell_type": "code",
      "source": [
        "!wget -O cars_clus.csv https://s3-api.us-geo.objectstorage.softlayer.net/cf-courses-data/CognitiveClass/ML0101ENv3/labs/cars_clus.csv"
      ],
      "metadata": {
        "id": "o6dVSOZurhNR"
      },
      "execution_count": null,
      "outputs": []
    },
    {
      "cell_type": "code",
      "source": [
        "filename = 'cars_clus.csv'\n",
        "\n",
        "#Read csv\n",
        "pdf = pd.read_csv(filename)\n",
        "print (\"Shape of dataset: \", pdf.shape)\n",
        "\n",
        "pdf.head(5)"
      ],
      "metadata": {
        "colab": {
          "base_uri": "https://localhost:8080/",
          "height": 288
        },
        "id": "BzmB9rgVrmol",
        "outputId": "6381cdf0-f8b4-4af5-b7ae-9ea4372b6f83"
      },
      "execution_count": 4,
      "outputs": [
        {
          "output_type": "stream",
          "name": "stdout",
          "text": [
            "Shape of dataset:  (159, 16)\n"
          ]
        },
        {
          "output_type": "execute_result",
          "data": {
            "text/plain": [
              "  manufact    model   sales  resale   type   price engine_s horsepow wheelbas  \\\n",
              "0    Acura  Integra  16.919  16.360  0.000  21.500    1.800  140.000  101.200   \n",
              "1    Acura       TL  39.384  19.875  0.000  28.400    3.200  225.000  108.100   \n",
              "2    Acura       CL  14.114  18.225  0.000  $null$    3.200  225.000  106.900   \n",
              "3    Acura       RL   8.588  29.725  0.000  42.000    3.500  210.000  114.600   \n",
              "4     Audi       A4  20.397  22.255  0.000  23.990    1.800  150.000  102.600   \n",
              "\n",
              "    width   length curb_wgt fuel_cap     mpg lnsales  partition  \n",
              "0  67.300  172.400    2.639   13.200  28.000   2.828        0.0  \n",
              "1  70.300  192.900    3.517   17.200  25.000   3.673        0.0  \n",
              "2  70.600  192.000    3.470   17.200  26.000   2.647        0.0  \n",
              "3  71.400  196.600    3.850   18.000  22.000   2.150        0.0  \n",
              "4  68.200  178.000    2.998   16.400  27.000   3.015        0.0  "
            ],
            "text/html": [
              "\n",
              "  <div id=\"df-4da64008-95bd-426e-bba5-b1ca267fd503\">\n",
              "    <div class=\"colab-df-container\">\n",
              "      <div>\n",
              "<style scoped>\n",
              "    .dataframe tbody tr th:only-of-type {\n",
              "        vertical-align: middle;\n",
              "    }\n",
              "\n",
              "    .dataframe tbody tr th {\n",
              "        vertical-align: top;\n",
              "    }\n",
              "\n",
              "    .dataframe thead th {\n",
              "        text-align: right;\n",
              "    }\n",
              "</style>\n",
              "<table border=\"1\" class=\"dataframe\">\n",
              "  <thead>\n",
              "    <tr style=\"text-align: right;\">\n",
              "      <th></th>\n",
              "      <th>manufact</th>\n",
              "      <th>model</th>\n",
              "      <th>sales</th>\n",
              "      <th>resale</th>\n",
              "      <th>type</th>\n",
              "      <th>price</th>\n",
              "      <th>engine_s</th>\n",
              "      <th>horsepow</th>\n",
              "      <th>wheelbas</th>\n",
              "      <th>width</th>\n",
              "      <th>length</th>\n",
              "      <th>curb_wgt</th>\n",
              "      <th>fuel_cap</th>\n",
              "      <th>mpg</th>\n",
              "      <th>lnsales</th>\n",
              "      <th>partition</th>\n",
              "    </tr>\n",
              "  </thead>\n",
              "  <tbody>\n",
              "    <tr>\n",
              "      <th>0</th>\n",
              "      <td>Acura</td>\n",
              "      <td>Integra</td>\n",
              "      <td>16.919</td>\n",
              "      <td>16.360</td>\n",
              "      <td>0.000</td>\n",
              "      <td>21.500</td>\n",
              "      <td>1.800</td>\n",
              "      <td>140.000</td>\n",
              "      <td>101.200</td>\n",
              "      <td>67.300</td>\n",
              "      <td>172.400</td>\n",
              "      <td>2.639</td>\n",
              "      <td>13.200</td>\n",
              "      <td>28.000</td>\n",
              "      <td>2.828</td>\n",
              "      <td>0.0</td>\n",
              "    </tr>\n",
              "    <tr>\n",
              "      <th>1</th>\n",
              "      <td>Acura</td>\n",
              "      <td>TL</td>\n",
              "      <td>39.384</td>\n",
              "      <td>19.875</td>\n",
              "      <td>0.000</td>\n",
              "      <td>28.400</td>\n",
              "      <td>3.200</td>\n",
              "      <td>225.000</td>\n",
              "      <td>108.100</td>\n",
              "      <td>70.300</td>\n",
              "      <td>192.900</td>\n",
              "      <td>3.517</td>\n",
              "      <td>17.200</td>\n",
              "      <td>25.000</td>\n",
              "      <td>3.673</td>\n",
              "      <td>0.0</td>\n",
              "    </tr>\n",
              "    <tr>\n",
              "      <th>2</th>\n",
              "      <td>Acura</td>\n",
              "      <td>CL</td>\n",
              "      <td>14.114</td>\n",
              "      <td>18.225</td>\n",
              "      <td>0.000</td>\n",
              "      <td>$null$</td>\n",
              "      <td>3.200</td>\n",
              "      <td>225.000</td>\n",
              "      <td>106.900</td>\n",
              "      <td>70.600</td>\n",
              "      <td>192.000</td>\n",
              "      <td>3.470</td>\n",
              "      <td>17.200</td>\n",
              "      <td>26.000</td>\n",
              "      <td>2.647</td>\n",
              "      <td>0.0</td>\n",
              "    </tr>\n",
              "    <tr>\n",
              "      <th>3</th>\n",
              "      <td>Acura</td>\n",
              "      <td>RL</td>\n",
              "      <td>8.588</td>\n",
              "      <td>29.725</td>\n",
              "      <td>0.000</td>\n",
              "      <td>42.000</td>\n",
              "      <td>3.500</td>\n",
              "      <td>210.000</td>\n",
              "      <td>114.600</td>\n",
              "      <td>71.400</td>\n",
              "      <td>196.600</td>\n",
              "      <td>3.850</td>\n",
              "      <td>18.000</td>\n",
              "      <td>22.000</td>\n",
              "      <td>2.150</td>\n",
              "      <td>0.0</td>\n",
              "    </tr>\n",
              "    <tr>\n",
              "      <th>4</th>\n",
              "      <td>Audi</td>\n",
              "      <td>A4</td>\n",
              "      <td>20.397</td>\n",
              "      <td>22.255</td>\n",
              "      <td>0.000</td>\n",
              "      <td>23.990</td>\n",
              "      <td>1.800</td>\n",
              "      <td>150.000</td>\n",
              "      <td>102.600</td>\n",
              "      <td>68.200</td>\n",
              "      <td>178.000</td>\n",
              "      <td>2.998</td>\n",
              "      <td>16.400</td>\n",
              "      <td>27.000</td>\n",
              "      <td>3.015</td>\n",
              "      <td>0.0</td>\n",
              "    </tr>\n",
              "  </tbody>\n",
              "</table>\n",
              "</div>\n",
              "      <button class=\"colab-df-convert\" onclick=\"convertToInteractive('df-4da64008-95bd-426e-bba5-b1ca267fd503')\"\n",
              "              title=\"Convert this dataframe to an interactive table.\"\n",
              "              style=\"display:none;\">\n",
              "        \n",
              "  <svg xmlns=\"http://www.w3.org/2000/svg\" height=\"24px\"viewBox=\"0 0 24 24\"\n",
              "       width=\"24px\">\n",
              "    <path d=\"M0 0h24v24H0V0z\" fill=\"none\"/>\n",
              "    <path d=\"M18.56 5.44l.94 2.06.94-2.06 2.06-.94-2.06-.94-.94-2.06-.94 2.06-2.06.94zm-11 1L8.5 8.5l.94-2.06 2.06-.94-2.06-.94L8.5 2.5l-.94 2.06-2.06.94zm10 10l.94 2.06.94-2.06 2.06-.94-2.06-.94-.94-2.06-.94 2.06-2.06.94z\"/><path d=\"M17.41 7.96l-1.37-1.37c-.4-.4-.92-.59-1.43-.59-.52 0-1.04.2-1.43.59L10.3 9.45l-7.72 7.72c-.78.78-.78 2.05 0 2.83L4 21.41c.39.39.9.59 1.41.59.51 0 1.02-.2 1.41-.59l7.78-7.78 2.81-2.81c.8-.78.8-2.07 0-2.86zM5.41 20L4 18.59l7.72-7.72 1.47 1.35L5.41 20z\"/>\n",
              "  </svg>\n",
              "      </button>\n",
              "      \n",
              "  <style>\n",
              "    .colab-df-container {\n",
              "      display:flex;\n",
              "      flex-wrap:wrap;\n",
              "      gap: 12px;\n",
              "    }\n",
              "\n",
              "    .colab-df-convert {\n",
              "      background-color: #E8F0FE;\n",
              "      border: none;\n",
              "      border-radius: 50%;\n",
              "      cursor: pointer;\n",
              "      display: none;\n",
              "      fill: #1967D2;\n",
              "      height: 32px;\n",
              "      padding: 0 0 0 0;\n",
              "      width: 32px;\n",
              "    }\n",
              "\n",
              "    .colab-df-convert:hover {\n",
              "      background-color: #E2EBFA;\n",
              "      box-shadow: 0px 1px 2px rgba(60, 64, 67, 0.3), 0px 1px 3px 1px rgba(60, 64, 67, 0.15);\n",
              "      fill: #174EA6;\n",
              "    }\n",
              "\n",
              "    [theme=dark] .colab-df-convert {\n",
              "      background-color: #3B4455;\n",
              "      fill: #D2E3FC;\n",
              "    }\n",
              "\n",
              "    [theme=dark] .colab-df-convert:hover {\n",
              "      background-color: #434B5C;\n",
              "      box-shadow: 0px 1px 3px 1px rgba(0, 0, 0, 0.15);\n",
              "      filter: drop-shadow(0px 1px 2px rgba(0, 0, 0, 0.3));\n",
              "      fill: #FFFFFF;\n",
              "    }\n",
              "  </style>\n",
              "\n",
              "      <script>\n",
              "        const buttonEl =\n",
              "          document.querySelector('#df-4da64008-95bd-426e-bba5-b1ca267fd503 button.colab-df-convert');\n",
              "        buttonEl.style.display =\n",
              "          google.colab.kernel.accessAllowed ? 'block' : 'none';\n",
              "\n",
              "        async function convertToInteractive(key) {\n",
              "          const element = document.querySelector('#df-4da64008-95bd-426e-bba5-b1ca267fd503');\n",
              "          const dataTable =\n",
              "            await google.colab.kernel.invokeFunction('convertToInteractive',\n",
              "                                                     [key], {});\n",
              "          if (!dataTable) return;\n",
              "\n",
              "          const docLinkHtml = 'Like what you see? Visit the ' +\n",
              "            '<a target=\"_blank\" href=https://colab.research.google.com/notebooks/data_table.ipynb>data table notebook</a>'\n",
              "            + ' to learn more about interactive tables.';\n",
              "          element.innerHTML = '';\n",
              "          dataTable['output_type'] = 'display_data';\n",
              "          await google.colab.output.renderOutput(dataTable, element);\n",
              "          const docLink = document.createElement('div');\n",
              "          docLink.innerHTML = docLinkHtml;\n",
              "          element.appendChild(docLink);\n",
              "        }\n",
              "      </script>\n",
              "    </div>\n",
              "  </div>\n",
              "  "
            ]
          },
          "metadata": {},
          "execution_count": 4
        }
      ]
    },
    {
      "cell_type": "markdown",
      "source": [
        "# **Data Cleaning**\n"
      ],
      "metadata": {
        "id": "bgfEv7AbrtYV"
      }
    },
    {
      "cell_type": "code",
      "source": [
        "print (\"Shape of dataset before cleaning: \", pdf.size)\n",
        "pdf[[ 'sales', 'resale', 'type', 'price', 'engine_s',\n",
        "       'horsepow', 'wheelbas', 'width', 'length', 'curb_wgt', 'fuel_cap',\n",
        "       'mpg', 'lnsales']] = pdf[['sales', 'resale', 'type', 'price', 'engine_s',\n",
        "       'horsepow', 'wheelbas', 'width', 'length', 'curb_wgt', 'fuel_cap',\n",
        "       'mpg', 'lnsales']].apply(pd.to_numeric, errors='coerce')\n",
        "pdf = pdf.dropna()\n",
        "pdf = pdf.reset_index(drop=True)\n",
        "print (\"Shape of dataset after cleaning: \", pdf.size)\n",
        "pdf.head(5)"
      ],
      "metadata": {
        "id": "j04tlrMVrz5o"
      },
      "execution_count": null,
      "outputs": []
    },
    {
      "cell_type": "markdown",
      "source": [
        "# **Feature selection**\n"
      ],
      "metadata": {
        "id": "EMGkyS2jr7hF"
      }
    },
    {
      "cell_type": "code",
      "source": [
        "featureset = pdf[['engine_s',  'horsepow', 'wheelbas', 'width', 'length', 'curb_wgt', 'fuel_cap', 'mpg']]"
      ],
      "metadata": {
        "id": "iOUi546JsB6y"
      },
      "execution_count": 6,
      "outputs": []
    },
    {
      "cell_type": "markdown",
      "source": [
        "# **Normalization**\n"
      ],
      "metadata": {
        "id": "VTJcPBYMsGOJ"
      }
    },
    {
      "cell_type": "code",
      "source": [
        "from sklearn.preprocessing import MinMaxScaler\n",
        "x = featureset.values #returns a numpy array\n",
        "min_max_scaler = MinMaxScaler()\n",
        "feature_mtx = min_max_scaler.fit_transform(x)\n",
        "feature_mtx [0:5]"
      ],
      "metadata": {
        "id": "kwiv1vp2sNjX"
      },
      "execution_count": null,
      "outputs": []
    },
    {
      "cell_type": "markdown",
      "source": [
        "# **AgglomerativeClustering**"
      ],
      "metadata": {
        "id": "1e-B6l63sW7K"
      }
    },
    {
      "cell_type": "code",
      "source": [
        "dist_matrix = distance_matrix(feature_mtx,feature_mtx) \n",
        "print(dist_matrix)"
      ],
      "metadata": {
        "id": "YRPZ-6dHsVpl"
      },
      "execution_count": null,
      "outputs": []
    },
    {
      "cell_type": "code",
      "source": [
        "agglom = AgglomerativeClustering(n_clusters = 6, linkage = 'complete')\n",
        "agglom.fit(feature_mtx)\n",
        "agglom.labels_"
      ],
      "metadata": {
        "colab": {
          "base_uri": "https://localhost:8080/"
        },
        "id": "Zo5xcyF2sh_V",
        "outputId": "656c7bc8-0e54-4843-b81f-e48572c5d73b"
      },
      "execution_count": 9,
      "outputs": [
        {
          "output_type": "execute_result",
          "data": {
            "text/plain": [
              "array([1, 2, 2, 1, 2, 3, 1, 2, 2, 2, 2, 2, 3, 3, 2, 1, 1, 2, 2, 2, 5, 1,\n",
              "       4, 1, 1, 2, 1, 2, 1, 1, 1, 5, 0, 0, 0, 3, 2, 1, 2, 1, 2, 3, 2, 3,\n",
              "       0, 3, 0, 1, 1, 1, 2, 3, 1, 1, 1, 2, 1, 1, 2, 2, 2, 3, 3, 3, 1, 1,\n",
              "       1, 2, 1, 2, 2, 1, 1, 2, 3, 2, 3, 1, 2, 3, 5, 1, 1, 2, 3, 2, 1, 3,\n",
              "       2, 3, 1, 1, 2, 1, 1, 2, 2, 2, 1, 1, 1, 1, 1, 1, 1, 1, 2, 1, 1, 1,\n",
              "       2, 0, 1, 1, 1, 1, 1])"
            ]
          },
          "metadata": {},
          "execution_count": 9
        }
      ]
    },
    {
      "cell_type": "code",
      "source": [
        "pdf['cluster_'] = agglom.labels_\n",
        "pdf.head()"
      ],
      "metadata": {
        "colab": {
          "base_uri": "https://localhost:8080/",
          "height": 270
        },
        "id": "VQ-9LAoCsorc",
        "outputId": "8e086939-ed2a-41d5-c50c-1575fa7813d2"
      },
      "execution_count": 10,
      "outputs": [
        {
          "output_type": "execute_result",
          "data": {
            "text/plain": [
              "  manufact    model   sales  resale  type  price  engine_s  horsepow  \\\n",
              "0    Acura  Integra  16.919  16.360   0.0  21.50       1.8     140.0   \n",
              "1    Acura       TL  39.384  19.875   0.0  28.40       3.2     225.0   \n",
              "2    Acura       RL   8.588  29.725   0.0  42.00       3.5     210.0   \n",
              "3     Audi       A4  20.397  22.255   0.0  23.99       1.8     150.0   \n",
              "4     Audi       A6  18.780  23.555   0.0  33.95       2.8     200.0   \n",
              "\n",
              "   wheelbas  width  length  curb_wgt  fuel_cap   mpg  lnsales  partition  \\\n",
              "0     101.2   67.3   172.4     2.639      13.2  28.0    2.828        0.0   \n",
              "1     108.1   70.3   192.9     3.517      17.2  25.0    3.673        0.0   \n",
              "2     114.6   71.4   196.6     3.850      18.0  22.0    2.150        0.0   \n",
              "3     102.6   68.2   178.0     2.998      16.4  27.0    3.015        0.0   \n",
              "4     108.7   76.1   192.0     3.561      18.5  22.0    2.933        0.0   \n",
              "\n",
              "   cluster_  \n",
              "0         1  \n",
              "1         2  \n",
              "2         2  \n",
              "3         1  \n",
              "4         2  "
            ],
            "text/html": [
              "\n",
              "  <div id=\"df-6cf42ef3-fa69-41ce-a37d-9f9535e30b7f\">\n",
              "    <div class=\"colab-df-container\">\n",
              "      <div>\n",
              "<style scoped>\n",
              "    .dataframe tbody tr th:only-of-type {\n",
              "        vertical-align: middle;\n",
              "    }\n",
              "\n",
              "    .dataframe tbody tr th {\n",
              "        vertical-align: top;\n",
              "    }\n",
              "\n",
              "    .dataframe thead th {\n",
              "        text-align: right;\n",
              "    }\n",
              "</style>\n",
              "<table border=\"1\" class=\"dataframe\">\n",
              "  <thead>\n",
              "    <tr style=\"text-align: right;\">\n",
              "      <th></th>\n",
              "      <th>manufact</th>\n",
              "      <th>model</th>\n",
              "      <th>sales</th>\n",
              "      <th>resale</th>\n",
              "      <th>type</th>\n",
              "      <th>price</th>\n",
              "      <th>engine_s</th>\n",
              "      <th>horsepow</th>\n",
              "      <th>wheelbas</th>\n",
              "      <th>width</th>\n",
              "      <th>length</th>\n",
              "      <th>curb_wgt</th>\n",
              "      <th>fuel_cap</th>\n",
              "      <th>mpg</th>\n",
              "      <th>lnsales</th>\n",
              "      <th>partition</th>\n",
              "      <th>cluster_</th>\n",
              "    </tr>\n",
              "  </thead>\n",
              "  <tbody>\n",
              "    <tr>\n",
              "      <th>0</th>\n",
              "      <td>Acura</td>\n",
              "      <td>Integra</td>\n",
              "      <td>16.919</td>\n",
              "      <td>16.360</td>\n",
              "      <td>0.0</td>\n",
              "      <td>21.50</td>\n",
              "      <td>1.8</td>\n",
              "      <td>140.0</td>\n",
              "      <td>101.2</td>\n",
              "      <td>67.3</td>\n",
              "      <td>172.4</td>\n",
              "      <td>2.639</td>\n",
              "      <td>13.2</td>\n",
              "      <td>28.0</td>\n",
              "      <td>2.828</td>\n",
              "      <td>0.0</td>\n",
              "      <td>1</td>\n",
              "    </tr>\n",
              "    <tr>\n",
              "      <th>1</th>\n",
              "      <td>Acura</td>\n",
              "      <td>TL</td>\n",
              "      <td>39.384</td>\n",
              "      <td>19.875</td>\n",
              "      <td>0.0</td>\n",
              "      <td>28.40</td>\n",
              "      <td>3.2</td>\n",
              "      <td>225.0</td>\n",
              "      <td>108.1</td>\n",
              "      <td>70.3</td>\n",
              "      <td>192.9</td>\n",
              "      <td>3.517</td>\n",
              "      <td>17.2</td>\n",
              "      <td>25.0</td>\n",
              "      <td>3.673</td>\n",
              "      <td>0.0</td>\n",
              "      <td>2</td>\n",
              "    </tr>\n",
              "    <tr>\n",
              "      <th>2</th>\n",
              "      <td>Acura</td>\n",
              "      <td>RL</td>\n",
              "      <td>8.588</td>\n",
              "      <td>29.725</td>\n",
              "      <td>0.0</td>\n",
              "      <td>42.00</td>\n",
              "      <td>3.5</td>\n",
              "      <td>210.0</td>\n",
              "      <td>114.6</td>\n",
              "      <td>71.4</td>\n",
              "      <td>196.6</td>\n",
              "      <td>3.850</td>\n",
              "      <td>18.0</td>\n",
              "      <td>22.0</td>\n",
              "      <td>2.150</td>\n",
              "      <td>0.0</td>\n",
              "      <td>2</td>\n",
              "    </tr>\n",
              "    <tr>\n",
              "      <th>3</th>\n",
              "      <td>Audi</td>\n",
              "      <td>A4</td>\n",
              "      <td>20.397</td>\n",
              "      <td>22.255</td>\n",
              "      <td>0.0</td>\n",
              "      <td>23.99</td>\n",
              "      <td>1.8</td>\n",
              "      <td>150.0</td>\n",
              "      <td>102.6</td>\n",
              "      <td>68.2</td>\n",
              "      <td>178.0</td>\n",
              "      <td>2.998</td>\n",
              "      <td>16.4</td>\n",
              "      <td>27.0</td>\n",
              "      <td>3.015</td>\n",
              "      <td>0.0</td>\n",
              "      <td>1</td>\n",
              "    </tr>\n",
              "    <tr>\n",
              "      <th>4</th>\n",
              "      <td>Audi</td>\n",
              "      <td>A6</td>\n",
              "      <td>18.780</td>\n",
              "      <td>23.555</td>\n",
              "      <td>0.0</td>\n",
              "      <td>33.95</td>\n",
              "      <td>2.8</td>\n",
              "      <td>200.0</td>\n",
              "      <td>108.7</td>\n",
              "      <td>76.1</td>\n",
              "      <td>192.0</td>\n",
              "      <td>3.561</td>\n",
              "      <td>18.5</td>\n",
              "      <td>22.0</td>\n",
              "      <td>2.933</td>\n",
              "      <td>0.0</td>\n",
              "      <td>2</td>\n",
              "    </tr>\n",
              "  </tbody>\n",
              "</table>\n",
              "</div>\n",
              "      <button class=\"colab-df-convert\" onclick=\"convertToInteractive('df-6cf42ef3-fa69-41ce-a37d-9f9535e30b7f')\"\n",
              "              title=\"Convert this dataframe to an interactive table.\"\n",
              "              style=\"display:none;\">\n",
              "        \n",
              "  <svg xmlns=\"http://www.w3.org/2000/svg\" height=\"24px\"viewBox=\"0 0 24 24\"\n",
              "       width=\"24px\">\n",
              "    <path d=\"M0 0h24v24H0V0z\" fill=\"none\"/>\n",
              "    <path d=\"M18.56 5.44l.94 2.06.94-2.06 2.06-.94-2.06-.94-.94-2.06-.94 2.06-2.06.94zm-11 1L8.5 8.5l.94-2.06 2.06-.94-2.06-.94L8.5 2.5l-.94 2.06-2.06.94zm10 10l.94 2.06.94-2.06 2.06-.94-2.06-.94-.94-2.06-.94 2.06-2.06.94z\"/><path d=\"M17.41 7.96l-1.37-1.37c-.4-.4-.92-.59-1.43-.59-.52 0-1.04.2-1.43.59L10.3 9.45l-7.72 7.72c-.78.78-.78 2.05 0 2.83L4 21.41c.39.39.9.59 1.41.59.51 0 1.02-.2 1.41-.59l7.78-7.78 2.81-2.81c.8-.78.8-2.07 0-2.86zM5.41 20L4 18.59l7.72-7.72 1.47 1.35L5.41 20z\"/>\n",
              "  </svg>\n",
              "      </button>\n",
              "      \n",
              "  <style>\n",
              "    .colab-df-container {\n",
              "      display:flex;\n",
              "      flex-wrap:wrap;\n",
              "      gap: 12px;\n",
              "    }\n",
              "\n",
              "    .colab-df-convert {\n",
              "      background-color: #E8F0FE;\n",
              "      border: none;\n",
              "      border-radius: 50%;\n",
              "      cursor: pointer;\n",
              "      display: none;\n",
              "      fill: #1967D2;\n",
              "      height: 32px;\n",
              "      padding: 0 0 0 0;\n",
              "      width: 32px;\n",
              "    }\n",
              "\n",
              "    .colab-df-convert:hover {\n",
              "      background-color: #E2EBFA;\n",
              "      box-shadow: 0px 1px 2px rgba(60, 64, 67, 0.3), 0px 1px 3px 1px rgba(60, 64, 67, 0.15);\n",
              "      fill: #174EA6;\n",
              "    }\n",
              "\n",
              "    [theme=dark] .colab-df-convert {\n",
              "      background-color: #3B4455;\n",
              "      fill: #D2E3FC;\n",
              "    }\n",
              "\n",
              "    [theme=dark] .colab-df-convert:hover {\n",
              "      background-color: #434B5C;\n",
              "      box-shadow: 0px 1px 3px 1px rgba(0, 0, 0, 0.15);\n",
              "      filter: drop-shadow(0px 1px 2px rgba(0, 0, 0, 0.3));\n",
              "      fill: #FFFFFF;\n",
              "    }\n",
              "  </style>\n",
              "\n",
              "      <script>\n",
              "        const buttonEl =\n",
              "          document.querySelector('#df-6cf42ef3-fa69-41ce-a37d-9f9535e30b7f button.colab-df-convert');\n",
              "        buttonEl.style.display =\n",
              "          google.colab.kernel.accessAllowed ? 'block' : 'none';\n",
              "\n",
              "        async function convertToInteractive(key) {\n",
              "          const element = document.querySelector('#df-6cf42ef3-fa69-41ce-a37d-9f9535e30b7f');\n",
              "          const dataTable =\n",
              "            await google.colab.kernel.invokeFunction('convertToInteractive',\n",
              "                                                     [key], {});\n",
              "          if (!dataTable) return;\n",
              "\n",
              "          const docLinkHtml = 'Like what you see? Visit the ' +\n",
              "            '<a target=\"_blank\" href=https://colab.research.google.com/notebooks/data_table.ipynb>data table notebook</a>'\n",
              "            + ' to learn more about interactive tables.';\n",
              "          element.innerHTML = '';\n",
              "          dataTable['output_type'] = 'display_data';\n",
              "          await google.colab.output.renderOutput(dataTable, element);\n",
              "          const docLink = document.createElement('div');\n",
              "          docLink.innerHTML = docLinkHtml;\n",
              "          element.appendChild(docLink);\n",
              "        }\n",
              "      </script>\n",
              "    </div>\n",
              "  </div>\n",
              "  "
            ]
          },
          "metadata": {},
          "execution_count": 10
        }
      ]
    },
    {
      "cell_type": "code",
      "source": [
        "import matplotlib.cm as cm\n",
        "n_clusters = max(agglom.labels_)+1\n",
        "colors = cm.rainbow(np.linspace(0, 1, n_clusters))\n",
        "cluster_labels = list(range(0, n_clusters))\n",
        "\n",
        "# Create a figure of size 6 inches by 4 inches.\n",
        "plt.figure(figsize=(16,14))\n",
        "\n",
        "for color, label in zip(colors, cluster_labels):\n",
        "    subset = pdf[pdf.cluster_ == label]\n",
        "    for i in subset.index:\n",
        "            plt.text(subset.horsepow[i], subset.mpg[i],str(subset['model'][i]), rotation=25) \n",
        "    plt.scatter(subset.horsepow, subset.mpg, s= subset.price*10, c=color, label='cluster'+str(label),alpha=0.5)\n",
        "#    plt.scatter(subset.horsepow, subset.mpg)\n",
        "plt.legend()\n",
        "plt.title('Clusters')\n",
        "plt.xlabel('horsepow')\n",
        "plt.ylabel('mpg')"
      ],
      "metadata": {
        "id": "whqjlu3asvNk"
      },
      "execution_count": null,
      "outputs": []
    },
    {
      "cell_type": "code",
      "source": [
        "pdf.groupby(['cluster_','type'])['cluster_'].count()\n"
      ],
      "metadata": {
        "colab": {
          "base_uri": "https://localhost:8080/"
        },
        "id": "Tbc0VXubs2KN",
        "outputId": "53a1622b-3ba4-4f9a-8680-594d38fc2977"
      },
      "execution_count": 12,
      "outputs": [
        {
          "output_type": "execute_result",
          "data": {
            "text/plain": [
              "cluster_  type\n",
              "0         1.0      6\n",
              "1         0.0     47\n",
              "          1.0      5\n",
              "2         0.0     27\n",
              "          1.0     11\n",
              "3         0.0     10\n",
              "          1.0      7\n",
              "4         0.0      1\n",
              "5         0.0      3\n",
              "Name: cluster_, dtype: int64"
            ]
          },
          "metadata": {},
          "execution_count": 12
        }
      ]
    },
    {
      "cell_type": "code",
      "source": [
        "agg_cars = pdf.groupby(['cluster_','type'])['horsepow','engine_s','mpg','price'].mean()\n",
        "agg_cars"
      ],
      "metadata": {
        "colab": {
          "base_uri": "https://localhost:8080/",
          "height": 418
        },
        "id": "Pw4xAF6js84Y",
        "outputId": "664b809e-f336-4465-d736-d2d7a48d0caf"
      },
      "execution_count": 13,
      "outputs": [
        {
          "output_type": "stream",
          "name": "stderr",
          "text": [
            "/usr/local/lib/python3.7/dist-packages/ipykernel_launcher.py:1: FutureWarning: Indexing with multiple keys (implicitly converted to a tuple of keys) will be deprecated, use a list instead.\n",
            "  \"\"\"Entry point for launching an IPython kernel.\n"
          ]
        },
        {
          "output_type": "execute_result",
          "data": {
            "text/plain": [
              "                 horsepow  engine_s        mpg      price\n",
              "cluster_ type                                            \n",
              "0        1.0   211.666667  4.483333  16.166667  29.024667\n",
              "1        0.0   146.531915  2.246809  27.021277  20.306128\n",
              "         1.0   145.000000  2.580000  22.200000  17.009200\n",
              "2        0.0   203.111111  3.303704  24.214815  27.750593\n",
              "         1.0   182.090909  3.345455  20.181818  26.265364\n",
              "3        0.0   256.500000  4.410000  21.500000  42.870400\n",
              "         1.0   160.571429  3.071429  21.428571  21.527714\n",
              "4        0.0    55.000000  1.000000  45.000000   9.235000\n",
              "5        0.0   365.666667  6.233333  19.333333  66.010000"
            ],
            "text/html": [
              "\n",
              "  <div id=\"df-c6a3afa1-aa58-4ba1-b832-f432ae1fe22b\">\n",
              "    <div class=\"colab-df-container\">\n",
              "      <div>\n",
              "<style scoped>\n",
              "    .dataframe tbody tr th:only-of-type {\n",
              "        vertical-align: middle;\n",
              "    }\n",
              "\n",
              "    .dataframe tbody tr th {\n",
              "        vertical-align: top;\n",
              "    }\n",
              "\n",
              "    .dataframe thead th {\n",
              "        text-align: right;\n",
              "    }\n",
              "</style>\n",
              "<table border=\"1\" class=\"dataframe\">\n",
              "  <thead>\n",
              "    <tr style=\"text-align: right;\">\n",
              "      <th></th>\n",
              "      <th></th>\n",
              "      <th>horsepow</th>\n",
              "      <th>engine_s</th>\n",
              "      <th>mpg</th>\n",
              "      <th>price</th>\n",
              "    </tr>\n",
              "    <tr>\n",
              "      <th>cluster_</th>\n",
              "      <th>type</th>\n",
              "      <th></th>\n",
              "      <th></th>\n",
              "      <th></th>\n",
              "      <th></th>\n",
              "    </tr>\n",
              "  </thead>\n",
              "  <tbody>\n",
              "    <tr>\n",
              "      <th>0</th>\n",
              "      <th>1.0</th>\n",
              "      <td>211.666667</td>\n",
              "      <td>4.483333</td>\n",
              "      <td>16.166667</td>\n",
              "      <td>29.024667</td>\n",
              "    </tr>\n",
              "    <tr>\n",
              "      <th rowspan=\"2\" valign=\"top\">1</th>\n",
              "      <th>0.0</th>\n",
              "      <td>146.531915</td>\n",
              "      <td>2.246809</td>\n",
              "      <td>27.021277</td>\n",
              "      <td>20.306128</td>\n",
              "    </tr>\n",
              "    <tr>\n",
              "      <th>1.0</th>\n",
              "      <td>145.000000</td>\n",
              "      <td>2.580000</td>\n",
              "      <td>22.200000</td>\n",
              "      <td>17.009200</td>\n",
              "    </tr>\n",
              "    <tr>\n",
              "      <th rowspan=\"2\" valign=\"top\">2</th>\n",
              "      <th>0.0</th>\n",
              "      <td>203.111111</td>\n",
              "      <td>3.303704</td>\n",
              "      <td>24.214815</td>\n",
              "      <td>27.750593</td>\n",
              "    </tr>\n",
              "    <tr>\n",
              "      <th>1.0</th>\n",
              "      <td>182.090909</td>\n",
              "      <td>3.345455</td>\n",
              "      <td>20.181818</td>\n",
              "      <td>26.265364</td>\n",
              "    </tr>\n",
              "    <tr>\n",
              "      <th rowspan=\"2\" valign=\"top\">3</th>\n",
              "      <th>0.0</th>\n",
              "      <td>256.500000</td>\n",
              "      <td>4.410000</td>\n",
              "      <td>21.500000</td>\n",
              "      <td>42.870400</td>\n",
              "    </tr>\n",
              "    <tr>\n",
              "      <th>1.0</th>\n",
              "      <td>160.571429</td>\n",
              "      <td>3.071429</td>\n",
              "      <td>21.428571</td>\n",
              "      <td>21.527714</td>\n",
              "    </tr>\n",
              "    <tr>\n",
              "      <th>4</th>\n",
              "      <th>0.0</th>\n",
              "      <td>55.000000</td>\n",
              "      <td>1.000000</td>\n",
              "      <td>45.000000</td>\n",
              "      <td>9.235000</td>\n",
              "    </tr>\n",
              "    <tr>\n",
              "      <th>5</th>\n",
              "      <th>0.0</th>\n",
              "      <td>365.666667</td>\n",
              "      <td>6.233333</td>\n",
              "      <td>19.333333</td>\n",
              "      <td>66.010000</td>\n",
              "    </tr>\n",
              "  </tbody>\n",
              "</table>\n",
              "</div>\n",
              "      <button class=\"colab-df-convert\" onclick=\"convertToInteractive('df-c6a3afa1-aa58-4ba1-b832-f432ae1fe22b')\"\n",
              "              title=\"Convert this dataframe to an interactive table.\"\n",
              "              style=\"display:none;\">\n",
              "        \n",
              "  <svg xmlns=\"http://www.w3.org/2000/svg\" height=\"24px\"viewBox=\"0 0 24 24\"\n",
              "       width=\"24px\">\n",
              "    <path d=\"M0 0h24v24H0V0z\" fill=\"none\"/>\n",
              "    <path d=\"M18.56 5.44l.94 2.06.94-2.06 2.06-.94-2.06-.94-.94-2.06-.94 2.06-2.06.94zm-11 1L8.5 8.5l.94-2.06 2.06-.94-2.06-.94L8.5 2.5l-.94 2.06-2.06.94zm10 10l.94 2.06.94-2.06 2.06-.94-2.06-.94-.94-2.06-.94 2.06-2.06.94z\"/><path d=\"M17.41 7.96l-1.37-1.37c-.4-.4-.92-.59-1.43-.59-.52 0-1.04.2-1.43.59L10.3 9.45l-7.72 7.72c-.78.78-.78 2.05 0 2.83L4 21.41c.39.39.9.59 1.41.59.51 0 1.02-.2 1.41-.59l7.78-7.78 2.81-2.81c.8-.78.8-2.07 0-2.86zM5.41 20L4 18.59l7.72-7.72 1.47 1.35L5.41 20z\"/>\n",
              "  </svg>\n",
              "      </button>\n",
              "      \n",
              "  <style>\n",
              "    .colab-df-container {\n",
              "      display:flex;\n",
              "      flex-wrap:wrap;\n",
              "      gap: 12px;\n",
              "    }\n",
              "\n",
              "    .colab-df-convert {\n",
              "      background-color: #E8F0FE;\n",
              "      border: none;\n",
              "      border-radius: 50%;\n",
              "      cursor: pointer;\n",
              "      display: none;\n",
              "      fill: #1967D2;\n",
              "      height: 32px;\n",
              "      padding: 0 0 0 0;\n",
              "      width: 32px;\n",
              "    }\n",
              "\n",
              "    .colab-df-convert:hover {\n",
              "      background-color: #E2EBFA;\n",
              "      box-shadow: 0px 1px 2px rgba(60, 64, 67, 0.3), 0px 1px 3px 1px rgba(60, 64, 67, 0.15);\n",
              "      fill: #174EA6;\n",
              "    }\n",
              "\n",
              "    [theme=dark] .colab-df-convert {\n",
              "      background-color: #3B4455;\n",
              "      fill: #D2E3FC;\n",
              "    }\n",
              "\n",
              "    [theme=dark] .colab-df-convert:hover {\n",
              "      background-color: #434B5C;\n",
              "      box-shadow: 0px 1px 3px 1px rgba(0, 0, 0, 0.15);\n",
              "      filter: drop-shadow(0px 1px 2px rgba(0, 0, 0, 0.3));\n",
              "      fill: #FFFFFF;\n",
              "    }\n",
              "  </style>\n",
              "\n",
              "      <script>\n",
              "        const buttonEl =\n",
              "          document.querySelector('#df-c6a3afa1-aa58-4ba1-b832-f432ae1fe22b button.colab-df-convert');\n",
              "        buttonEl.style.display =\n",
              "          google.colab.kernel.accessAllowed ? 'block' : 'none';\n",
              "\n",
              "        async function convertToInteractive(key) {\n",
              "          const element = document.querySelector('#df-c6a3afa1-aa58-4ba1-b832-f432ae1fe22b');\n",
              "          const dataTable =\n",
              "            await google.colab.kernel.invokeFunction('convertToInteractive',\n",
              "                                                     [key], {});\n",
              "          if (!dataTable) return;\n",
              "\n",
              "          const docLinkHtml = 'Like what you see? Visit the ' +\n",
              "            '<a target=\"_blank\" href=https://colab.research.google.com/notebooks/data_table.ipynb>data table notebook</a>'\n",
              "            + ' to learn more about interactive tables.';\n",
              "          element.innerHTML = '';\n",
              "          dataTable['output_type'] = 'display_data';\n",
              "          await google.colab.output.renderOutput(dataTable, element);\n",
              "          const docLink = document.createElement('div');\n",
              "          docLink.innerHTML = docLinkHtml;\n",
              "          element.appendChild(docLink);\n",
              "        }\n",
              "      </script>\n",
              "    </div>\n",
              "  </div>\n",
              "  "
            ]
          },
          "metadata": {},
          "execution_count": 13
        }
      ]
    },
    {
      "cell_type": "code",
      "source": [
        "plt.figure(figsize=(16,10))\n",
        "for color, label in zip(colors, cluster_labels):\n",
        "    subset = agg_cars.loc[(label,),]\n",
        "    for i in subset.index:\n",
        "        plt.text(subset.loc[i][0]+5, subset.loc[i][2], 'type='+str(int(i)) + ', price='+str(int(subset.loc[i][3]))+'k')\n",
        "    plt.scatter(subset.horsepow, subset.mpg, s=subset.price*20, c=color, label='cluster'+str(label))\n",
        "plt.legend()\n",
        "plt.title('Clusters')\n",
        "plt.xlabel('horsepow')\n",
        "plt.ylabel('mpg')"
      ],
      "metadata": {
        "id": "wap-sKf4tCUH"
      },
      "execution_count": null,
      "outputs": []
    },
    {
      "cell_type": "markdown",
      "source": [
        "# **Referecs**"
      ],
      "metadata": {
        "id": "c-GBeJfUtGQT"
      }
    },
    {
      "cell_type": "markdown",
      "source": [
        "[Hierarchical Clustering](https://github.com/samp-suman/Machine-Learning-With-Python--IBM-Coursera/blob/master/ML0101EN-8.%20Clus-Hierarchical-Cars-py-v1.ipynb)"
      ],
      "metadata": {
        "id": "1kyRYwFKtKmF"
      }
    }
  ]
}