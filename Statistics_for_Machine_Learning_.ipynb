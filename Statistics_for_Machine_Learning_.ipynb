{
  "nbformat": 4,
  "nbformat_minor": 0,
  "metadata": {
    "colab": {
      "provenance": [],
      "toc_visible": true,
      "include_colab_link": true
    },
    "kernelspec": {
      "name": "python3",
      "display_name": "Python 3"
    },
    "language_info": {
      "name": "python"
    },
    "accelerator": "GPU"
  },
  "cells": [
    {
      "cell_type": "markdown",
      "metadata": {
        "id": "view-in-github",
        "colab_type": "text"
      },
      "source": [
        "<a href=\"https://colab.research.google.com/github/hussain0048/Machine-Learning/blob/master/Statistics_for_Machine_Learning_.ipynb\" target=\"_parent\"><img src=\"https://colab.research.google.com/assets/colab-badge.svg\" alt=\"Open In Colab\"/></a>"
      ]
    },
    {
      "cell_type": "markdown",
      "metadata": {
        "id": "BiE4HQuXA1jb"
      },
      "source": [
        "# **Import libaray**"
      ]
    },
    {
      "cell_type": "code",
      "metadata": {
        "id": "CYcSX5ofA8Yz"
      },
      "source": [
        "import numpy as np \n",
        "import pandas as pd \n",
        "import seaborn as sns \n",
        "import matplotlib.pyplot as plt\n",
        "from prettytable import PrettyTable\n",
        "from sklearn.metrics import roc_curve, auc\n",
        "from mlxtend.plotting import plot_confusion_matrix \n",
        "from sklearn.model_selection import train_test_split\n",
        "from sklearn.metrics import classification_report, confusion_matrix\n",
        "from sklearn.tree import DecisionTreeClassifier\n",
        "from sklearn.ensemble import RandomForestClassifier\n",
        "from sklearn.svm import LinearSVC\n",
        "from sklearn.linear_model import LogisticRegression\n",
        "from sklearn.neighbors import KNeighborsClassifier\n",
        "import warnings\n",
        "warnings.filterwarnings(\"ignore\")"
      ],
      "execution_count": null,
      "outputs": []
    },
    {
      "cell_type": "markdown",
      "metadata": {
        "id": "-dEH-aOwYdNx"
      },
      "source": [
        "# **Introduction**"
      ]
    },
    {
      "cell_type": "markdown",
      "metadata": {
        "id": "69-GFSEUYpQA"
      },
      "source": [
        "# **Data Loading**"
      ]
    },
    {
      "cell_type": "markdown",
      "metadata": {
        "id": "ucwJyax-cZmZ"
      },
      "source": [
        "**Load data from google drive** "
      ]
    },
    {
      "cell_type": "code",
      "metadata": {
        "colab": {
          "base_uri": "https://localhost:8080/"
        },
        "id": "fYNNsGgxmxyQ",
        "outputId": "1731049e-9044-4ef5-e7bc-164b298a6e31"
      },
      "source": [
        "from google.colab import drive\n",
        "drive.mount('/content/drive')"
      ],
      "execution_count": null,
      "outputs": [
        {
          "output_type": "stream",
          "text": [
            "Mounted at /content/drive\n"
          ],
          "name": "stdout"
        }
      ]
    },
    {
      "cell_type": "code",
      "metadata": {
        "id": "bkoAdyxInLR4",
        "colab": {
          "base_uri": "https://localhost:8080/",
          "height": 426
        },
        "outputId": "d598f1ea-2243-44e0-e042-304495b09614"
      },
      "source": [
        "import pandas as pd\n",
        "import numpy as np\n",
        "data = pd.read_csv(\"/content/drive/MyDrive/Datasets/Recommended System/Placement_Data_Full_Class.csv\")"
      ],
      "execution_count": null,
      "outputs": [
        {
          "output_type": "error",
          "ename": "FileNotFoundError",
          "evalue": "ignored",
          "traceback": [
            "\u001b[0;31m---------------------------------------------------------------------------\u001b[0m",
            "\u001b[0;31mFileNotFoundError\u001b[0m                         Traceback (most recent call last)",
            "\u001b[0;32m<ipython-input-5-bce6df013084>\u001b[0m in \u001b[0;36m<module>\u001b[0;34m()\u001b[0m\n\u001b[1;32m      1\u001b[0m \u001b[0;32mimport\u001b[0m \u001b[0mpandas\u001b[0m \u001b[0;32mas\u001b[0m \u001b[0mpd\u001b[0m\u001b[0;34m\u001b[0m\u001b[0;34m\u001b[0m\u001b[0m\n\u001b[1;32m      2\u001b[0m \u001b[0;32mimport\u001b[0m \u001b[0mnumpy\u001b[0m \u001b[0;32mas\u001b[0m \u001b[0mnp\u001b[0m\u001b[0;34m\u001b[0m\u001b[0;34m\u001b[0m\u001b[0m\n\u001b[0;32m----> 3\u001b[0;31m \u001b[0mdata\u001b[0m \u001b[0;34m=\u001b[0m \u001b[0mpd\u001b[0m\u001b[0;34m.\u001b[0m\u001b[0mread_csv\u001b[0m\u001b[0;34m(\u001b[0m\u001b[0;34m\"/content/drive/MyDrive/Datasets/Recommended System/Placement_Data_Full_Class.csv\"\u001b[0m\u001b[0;34m)\u001b[0m\u001b[0;34m\u001b[0m\u001b[0;34m\u001b[0m\u001b[0m\n\u001b[0m",
            "\u001b[0;32m/usr/local/lib/python3.7/dist-packages/pandas/io/parsers.py\u001b[0m in \u001b[0;36mread_csv\u001b[0;34m(filepath_or_buffer, sep, delimiter, header, names, index_col, usecols, squeeze, prefix, mangle_dupe_cols, dtype, engine, converters, true_values, false_values, skipinitialspace, skiprows, skipfooter, nrows, na_values, keep_default_na, na_filter, verbose, skip_blank_lines, parse_dates, infer_datetime_format, keep_date_col, date_parser, dayfirst, cache_dates, iterator, chunksize, compression, thousands, decimal, lineterminator, quotechar, quoting, doublequote, escapechar, comment, encoding, dialect, error_bad_lines, warn_bad_lines, delim_whitespace, low_memory, memory_map, float_precision)\u001b[0m\n\u001b[1;32m    686\u001b[0m     )\n\u001b[1;32m    687\u001b[0m \u001b[0;34m\u001b[0m\u001b[0m\n\u001b[0;32m--> 688\u001b[0;31m     \u001b[0;32mreturn\u001b[0m \u001b[0m_read\u001b[0m\u001b[0;34m(\u001b[0m\u001b[0mfilepath_or_buffer\u001b[0m\u001b[0;34m,\u001b[0m \u001b[0mkwds\u001b[0m\u001b[0;34m)\u001b[0m\u001b[0;34m\u001b[0m\u001b[0;34m\u001b[0m\u001b[0m\n\u001b[0m\u001b[1;32m    689\u001b[0m \u001b[0;34m\u001b[0m\u001b[0m\n\u001b[1;32m    690\u001b[0m \u001b[0;34m\u001b[0m\u001b[0m\n",
            "\u001b[0;32m/usr/local/lib/python3.7/dist-packages/pandas/io/parsers.py\u001b[0m in \u001b[0;36m_read\u001b[0;34m(filepath_or_buffer, kwds)\u001b[0m\n\u001b[1;32m    452\u001b[0m \u001b[0;34m\u001b[0m\u001b[0m\n\u001b[1;32m    453\u001b[0m     \u001b[0;31m# Create the parser.\u001b[0m\u001b[0;34m\u001b[0m\u001b[0;34m\u001b[0m\u001b[0;34m\u001b[0m\u001b[0m\n\u001b[0;32m--> 454\u001b[0;31m     \u001b[0mparser\u001b[0m \u001b[0;34m=\u001b[0m \u001b[0mTextFileReader\u001b[0m\u001b[0;34m(\u001b[0m\u001b[0mfp_or_buf\u001b[0m\u001b[0;34m,\u001b[0m \u001b[0;34m**\u001b[0m\u001b[0mkwds\u001b[0m\u001b[0;34m)\u001b[0m\u001b[0;34m\u001b[0m\u001b[0;34m\u001b[0m\u001b[0m\n\u001b[0m\u001b[1;32m    455\u001b[0m \u001b[0;34m\u001b[0m\u001b[0m\n\u001b[1;32m    456\u001b[0m     \u001b[0;32mif\u001b[0m \u001b[0mchunksize\u001b[0m \u001b[0;32mor\u001b[0m \u001b[0miterator\u001b[0m\u001b[0;34m:\u001b[0m\u001b[0;34m\u001b[0m\u001b[0;34m\u001b[0m\u001b[0m\n",
            "\u001b[0;32m/usr/local/lib/python3.7/dist-packages/pandas/io/parsers.py\u001b[0m in \u001b[0;36m__init__\u001b[0;34m(self, f, engine, **kwds)\u001b[0m\n\u001b[1;32m    946\u001b[0m             \u001b[0mself\u001b[0m\u001b[0;34m.\u001b[0m\u001b[0moptions\u001b[0m\u001b[0;34m[\u001b[0m\u001b[0;34m\"has_index_names\"\u001b[0m\u001b[0;34m]\u001b[0m \u001b[0;34m=\u001b[0m \u001b[0mkwds\u001b[0m\u001b[0;34m[\u001b[0m\u001b[0;34m\"has_index_names\"\u001b[0m\u001b[0;34m]\u001b[0m\u001b[0;34m\u001b[0m\u001b[0;34m\u001b[0m\u001b[0m\n\u001b[1;32m    947\u001b[0m \u001b[0;34m\u001b[0m\u001b[0m\n\u001b[0;32m--> 948\u001b[0;31m         \u001b[0mself\u001b[0m\u001b[0;34m.\u001b[0m\u001b[0m_make_engine\u001b[0m\u001b[0;34m(\u001b[0m\u001b[0mself\u001b[0m\u001b[0;34m.\u001b[0m\u001b[0mengine\u001b[0m\u001b[0;34m)\u001b[0m\u001b[0;34m\u001b[0m\u001b[0;34m\u001b[0m\u001b[0m\n\u001b[0m\u001b[1;32m    949\u001b[0m \u001b[0;34m\u001b[0m\u001b[0m\n\u001b[1;32m    950\u001b[0m     \u001b[0;32mdef\u001b[0m \u001b[0mclose\u001b[0m\u001b[0;34m(\u001b[0m\u001b[0mself\u001b[0m\u001b[0;34m)\u001b[0m\u001b[0;34m:\u001b[0m\u001b[0;34m\u001b[0m\u001b[0;34m\u001b[0m\u001b[0m\n",
            "\u001b[0;32m/usr/local/lib/python3.7/dist-packages/pandas/io/parsers.py\u001b[0m in \u001b[0;36m_make_engine\u001b[0;34m(self, engine)\u001b[0m\n\u001b[1;32m   1178\u001b[0m     \u001b[0;32mdef\u001b[0m \u001b[0m_make_engine\u001b[0m\u001b[0;34m(\u001b[0m\u001b[0mself\u001b[0m\u001b[0;34m,\u001b[0m \u001b[0mengine\u001b[0m\u001b[0;34m=\u001b[0m\u001b[0;34m\"c\"\u001b[0m\u001b[0;34m)\u001b[0m\u001b[0;34m:\u001b[0m\u001b[0;34m\u001b[0m\u001b[0;34m\u001b[0m\u001b[0m\n\u001b[1;32m   1179\u001b[0m         \u001b[0;32mif\u001b[0m \u001b[0mengine\u001b[0m \u001b[0;34m==\u001b[0m \u001b[0;34m\"c\"\u001b[0m\u001b[0;34m:\u001b[0m\u001b[0;34m\u001b[0m\u001b[0;34m\u001b[0m\u001b[0m\n\u001b[0;32m-> 1180\u001b[0;31m             \u001b[0mself\u001b[0m\u001b[0;34m.\u001b[0m\u001b[0m_engine\u001b[0m \u001b[0;34m=\u001b[0m \u001b[0mCParserWrapper\u001b[0m\u001b[0;34m(\u001b[0m\u001b[0mself\u001b[0m\u001b[0;34m.\u001b[0m\u001b[0mf\u001b[0m\u001b[0;34m,\u001b[0m \u001b[0;34m**\u001b[0m\u001b[0mself\u001b[0m\u001b[0;34m.\u001b[0m\u001b[0moptions\u001b[0m\u001b[0;34m)\u001b[0m\u001b[0;34m\u001b[0m\u001b[0;34m\u001b[0m\u001b[0m\n\u001b[0m\u001b[1;32m   1181\u001b[0m         \u001b[0;32melse\u001b[0m\u001b[0;34m:\u001b[0m\u001b[0;34m\u001b[0m\u001b[0;34m\u001b[0m\u001b[0m\n\u001b[1;32m   1182\u001b[0m             \u001b[0;32mif\u001b[0m \u001b[0mengine\u001b[0m \u001b[0;34m==\u001b[0m \u001b[0;34m\"python\"\u001b[0m\u001b[0;34m:\u001b[0m\u001b[0;34m\u001b[0m\u001b[0;34m\u001b[0m\u001b[0m\n",
            "\u001b[0;32m/usr/local/lib/python3.7/dist-packages/pandas/io/parsers.py\u001b[0m in \u001b[0;36m__init__\u001b[0;34m(self, src, **kwds)\u001b[0m\n\u001b[1;32m   2008\u001b[0m         \u001b[0mkwds\u001b[0m\u001b[0;34m[\u001b[0m\u001b[0;34m\"usecols\"\u001b[0m\u001b[0;34m]\u001b[0m \u001b[0;34m=\u001b[0m \u001b[0mself\u001b[0m\u001b[0;34m.\u001b[0m\u001b[0musecols\u001b[0m\u001b[0;34m\u001b[0m\u001b[0;34m\u001b[0m\u001b[0m\n\u001b[1;32m   2009\u001b[0m \u001b[0;34m\u001b[0m\u001b[0m\n\u001b[0;32m-> 2010\u001b[0;31m         \u001b[0mself\u001b[0m\u001b[0;34m.\u001b[0m\u001b[0m_reader\u001b[0m \u001b[0;34m=\u001b[0m \u001b[0mparsers\u001b[0m\u001b[0;34m.\u001b[0m\u001b[0mTextReader\u001b[0m\u001b[0;34m(\u001b[0m\u001b[0msrc\u001b[0m\u001b[0;34m,\u001b[0m \u001b[0;34m**\u001b[0m\u001b[0mkwds\u001b[0m\u001b[0;34m)\u001b[0m\u001b[0;34m\u001b[0m\u001b[0;34m\u001b[0m\u001b[0m\n\u001b[0m\u001b[1;32m   2011\u001b[0m         \u001b[0mself\u001b[0m\u001b[0;34m.\u001b[0m\u001b[0munnamed_cols\u001b[0m \u001b[0;34m=\u001b[0m \u001b[0mself\u001b[0m\u001b[0;34m.\u001b[0m\u001b[0m_reader\u001b[0m\u001b[0;34m.\u001b[0m\u001b[0munnamed_cols\u001b[0m\u001b[0;34m\u001b[0m\u001b[0;34m\u001b[0m\u001b[0m\n\u001b[1;32m   2012\u001b[0m \u001b[0;34m\u001b[0m\u001b[0m\n",
            "\u001b[0;32mpandas/_libs/parsers.pyx\u001b[0m in \u001b[0;36mpandas._libs.parsers.TextReader.__cinit__\u001b[0;34m()\u001b[0m\n",
            "\u001b[0;32mpandas/_libs/parsers.pyx\u001b[0m in \u001b[0;36mpandas._libs.parsers.TextReader._setup_parser_source\u001b[0;34m()\u001b[0m\n",
            "\u001b[0;31mFileNotFoundError\u001b[0m: [Errno 2] No such file or directory: '/content/drive/MyDrive/Datasets/Recommended System/Placement_Data_Full_Class.csv'"
          ]
        }
      ]
    },
    {
      "cell_type": "code",
      "metadata": {
        "id": "OE_f4-bToHWA",
        "colab": {
          "base_uri": "https://localhost:8080/",
          "height": 241
        },
        "outputId": "c712448e-d337-41db-d5ce-e94996a3b39a"
      },
      "source": [
        "data.head()"
      ],
      "execution_count": null,
      "outputs": [
        {
          "output_type": "execute_result",
          "data": {
            "text/html": [
              "<div>\n",
              "<style scoped>\n",
              "    .dataframe tbody tr th:only-of-type {\n",
              "        vertical-align: middle;\n",
              "    }\n",
              "\n",
              "    .dataframe tbody tr th {\n",
              "        vertical-align: top;\n",
              "    }\n",
              "\n",
              "    .dataframe thead th {\n",
              "        text-align: right;\n",
              "    }\n",
              "</style>\n",
              "<table border=\"1\" class=\"dataframe\">\n",
              "  <thead>\n",
              "    <tr style=\"text-align: right;\">\n",
              "      <th></th>\n",
              "      <th>sl_no</th>\n",
              "      <th>gender</th>\n",
              "      <th>ssc_p</th>\n",
              "      <th>ssc_b</th>\n",
              "      <th>hsc_p</th>\n",
              "      <th>hsc_b</th>\n",
              "      <th>hsc_s</th>\n",
              "      <th>degree_p</th>\n",
              "      <th>degree_t</th>\n",
              "      <th>workex</th>\n",
              "      <th>etest_p</th>\n",
              "      <th>specialisation</th>\n",
              "      <th>mba_p</th>\n",
              "      <th>status</th>\n",
              "      <th>salary</th>\n",
              "    </tr>\n",
              "  </thead>\n",
              "  <tbody>\n",
              "    <tr>\n",
              "      <th>0</th>\n",
              "      <td>1</td>\n",
              "      <td>M</td>\n",
              "      <td>67.00</td>\n",
              "      <td>Others</td>\n",
              "      <td>91.00</td>\n",
              "      <td>Others</td>\n",
              "      <td>Commerce</td>\n",
              "      <td>58.00</td>\n",
              "      <td>Sci&amp;Tech</td>\n",
              "      <td>No</td>\n",
              "      <td>55.0</td>\n",
              "      <td>Mkt&amp;HR</td>\n",
              "      <td>58.80</td>\n",
              "      <td>Placed</td>\n",
              "      <td>270000.0</td>\n",
              "    </tr>\n",
              "    <tr>\n",
              "      <th>1</th>\n",
              "      <td>2</td>\n",
              "      <td>M</td>\n",
              "      <td>79.33</td>\n",
              "      <td>Central</td>\n",
              "      <td>78.33</td>\n",
              "      <td>Others</td>\n",
              "      <td>Science</td>\n",
              "      <td>77.48</td>\n",
              "      <td>Sci&amp;Tech</td>\n",
              "      <td>Yes</td>\n",
              "      <td>86.5</td>\n",
              "      <td>Mkt&amp;Fin</td>\n",
              "      <td>66.28</td>\n",
              "      <td>Placed</td>\n",
              "      <td>200000.0</td>\n",
              "    </tr>\n",
              "    <tr>\n",
              "      <th>2</th>\n",
              "      <td>3</td>\n",
              "      <td>M</td>\n",
              "      <td>65.00</td>\n",
              "      <td>Central</td>\n",
              "      <td>68.00</td>\n",
              "      <td>Central</td>\n",
              "      <td>Arts</td>\n",
              "      <td>64.00</td>\n",
              "      <td>Comm&amp;Mgmt</td>\n",
              "      <td>No</td>\n",
              "      <td>75.0</td>\n",
              "      <td>Mkt&amp;Fin</td>\n",
              "      <td>57.80</td>\n",
              "      <td>Placed</td>\n",
              "      <td>250000.0</td>\n",
              "    </tr>\n",
              "    <tr>\n",
              "      <th>3</th>\n",
              "      <td>4</td>\n",
              "      <td>M</td>\n",
              "      <td>56.00</td>\n",
              "      <td>Central</td>\n",
              "      <td>52.00</td>\n",
              "      <td>Central</td>\n",
              "      <td>Science</td>\n",
              "      <td>52.00</td>\n",
              "      <td>Sci&amp;Tech</td>\n",
              "      <td>No</td>\n",
              "      <td>66.0</td>\n",
              "      <td>Mkt&amp;HR</td>\n",
              "      <td>59.43</td>\n",
              "      <td>Not Placed</td>\n",
              "      <td>NaN</td>\n",
              "    </tr>\n",
              "    <tr>\n",
              "      <th>4</th>\n",
              "      <td>5</td>\n",
              "      <td>M</td>\n",
              "      <td>85.80</td>\n",
              "      <td>Central</td>\n",
              "      <td>73.60</td>\n",
              "      <td>Central</td>\n",
              "      <td>Commerce</td>\n",
              "      <td>73.30</td>\n",
              "      <td>Comm&amp;Mgmt</td>\n",
              "      <td>No</td>\n",
              "      <td>96.8</td>\n",
              "      <td>Mkt&amp;Fin</td>\n",
              "      <td>55.50</td>\n",
              "      <td>Placed</td>\n",
              "      <td>425000.0</td>\n",
              "    </tr>\n",
              "  </tbody>\n",
              "</table>\n",
              "</div>"
            ],
            "text/plain": [
              "   sl_no gender  ssc_p    ssc_b  ...  specialisation  mba_p      status    salary\n",
              "0      1      M  67.00   Others  ...          Mkt&HR  58.80      Placed  270000.0\n",
              "1      2      M  79.33  Central  ...         Mkt&Fin  66.28      Placed  200000.0\n",
              "2      3      M  65.00  Central  ...         Mkt&Fin  57.80      Placed  250000.0\n",
              "3      4      M  56.00  Central  ...          Mkt&HR  59.43  Not Placed       NaN\n",
              "4      5      M  85.80  Central  ...         Mkt&Fin  55.50      Placed  425000.0\n",
              "\n",
              "[5 rows x 15 columns]"
            ]
          },
          "metadata": {
            "tags": []
          },
          "execution_count": 4
        }
      ]
    },
    {
      "cell_type": "markdown",
      "metadata": {
        "id": "Y7r4GCZ_r578"
      },
      "source": [
        "# **Preprocessing**"
      ]
    },
    {
      "cell_type": "markdown",
      "metadata": {
        "id": "JL1FYrIa5kv8"
      },
      "source": [
        "**Check Missing Value**\n"
      ]
    },
    {
      "cell_type": "code",
      "metadata": {
        "id": "_6sqt75_5o9y",
        "colab": {
          "base_uri": "https://localhost:8080/",
          "height": 173
        },
        "outputId": "e3ee7e19-a459-4f26-899f-16969c146af3"
      },
      "source": [
        "total = data.isnull().sum().sort_values(ascending=False)\n",
        "percent = (data.isnull().sum()/data.isnull().count()).sort_values(ascending=False)\n",
        "missing = pd.concat([total, percent], axis=1, keys=['Total', 'Percent'])\n",
        "missing.head(4)"
      ],
      "execution_count": null,
      "outputs": [
        {
          "output_type": "execute_result",
          "data": {
            "text/html": [
              "<div>\n",
              "<style scoped>\n",
              "    .dataframe tbody tr th:only-of-type {\n",
              "        vertical-align: middle;\n",
              "    }\n",
              "\n",
              "    .dataframe tbody tr th {\n",
              "        vertical-align: top;\n",
              "    }\n",
              "\n",
              "    .dataframe thead th {\n",
              "        text-align: right;\n",
              "    }\n",
              "</style>\n",
              "<table border=\"1\" class=\"dataframe\">\n",
              "  <thead>\n",
              "    <tr style=\"text-align: right;\">\n",
              "      <th></th>\n",
              "      <th>Total</th>\n",
              "      <th>Percent</th>\n",
              "    </tr>\n",
              "  </thead>\n",
              "  <tbody>\n",
              "    <tr>\n",
              "      <th>salary</th>\n",
              "      <td>67</td>\n",
              "      <td>0.311628</td>\n",
              "    </tr>\n",
              "    <tr>\n",
              "      <th>status</th>\n",
              "      <td>0</td>\n",
              "      <td>0.000000</td>\n",
              "    </tr>\n",
              "    <tr>\n",
              "      <th>mba_p</th>\n",
              "      <td>0</td>\n",
              "      <td>0.000000</td>\n",
              "    </tr>\n",
              "    <tr>\n",
              "      <th>specialisation</th>\n",
              "      <td>0</td>\n",
              "      <td>0.000000</td>\n",
              "    </tr>\n",
              "  </tbody>\n",
              "</table>\n",
              "</div>"
            ],
            "text/plain": [
              "                Total   Percent\n",
              "salary             67  0.311628\n",
              "status              0  0.000000\n",
              "mba_p               0  0.000000\n",
              "specialisation      0  0.000000"
            ]
          },
          "metadata": {
            "tags": []
          },
          "execution_count": 5
        }
      ]
    },
    {
      "cell_type": "code",
      "metadata": {
        "colab": {
          "base_uri": "https://localhost:8080/"
        },
        "id": "Y_DhzYPtFlrL",
        "outputId": "bf11bce9-f041-425f-879c-e43ea752184e"
      },
      "source": [
        "missing_v = [col for col in data.columns if (data[col].isnull().sum()/data.shape[0]) * 100 > 0.001]\n",
        "print(len(missing_v))\n",
        "for cols in missing_v:\n",
        "    del data[cols]"
      ],
      "execution_count": null,
      "outputs": [
        {
          "output_type": "stream",
          "text": [
            "1\n"
          ],
          "name": "stdout"
        }
      ]
    },
    {
      "cell_type": "code",
      "metadata": {
        "id": "21xYr0iDF-wc",
        "colab": {
          "base_uri": "https://localhost:8080/"
        },
        "outputId": "8a2822d1-e3b6-4e83-99bb-9dc4055cee28"
      },
      "source": [
        "np.sum(data.isnull().any(axis=1))"
      ],
      "execution_count": null,
      "outputs": [
        {
          "output_type": "execute_result",
          "data": {
            "text/plain": [
              "0"
            ]
          },
          "metadata": {
            "tags": []
          },
          "execution_count": 7
        }
      ]
    },
    {
      "cell_type": "markdown",
      "metadata": {
        "id": "tnvVuWKg6vj1"
      },
      "source": [
        "**Hot Encoding**"
      ]
    },
    {
      "cell_type": "code",
      "metadata": {
        "colab": {
          "base_uri": "https://localhost:8080/"
        },
        "id": "2Fa0DkFL6yEq",
        "outputId": "66d1df11-bc83-4202-d072-f1202f8472bd"
      },
      "source": [
        "data.select_dtypes(include=['object']).columns"
      ],
      "execution_count": null,
      "outputs": [
        {
          "output_type": "execute_result",
          "data": {
            "text/plain": [
              "Index(['gender', 'ssc_b', 'hsc_b', 'hsc_s', 'degree_t', 'workex',\n",
              "       'specialisation', 'status'],\n",
              "      dtype='object')"
            ]
          },
          "metadata": {
            "tags": []
          },
          "execution_count": 8
        }
      ]
    },
    {
      "cell_type": "code",
      "metadata": {
        "id": "7g24nkqr7Qx8"
      },
      "source": [
        "data['gender'] = data['gender'].fillna(data['gender'].mode()[0])\n",
        "data['ssc_b'] = data['ssc_b'].fillna(data['ssc_b'].mode()[0])\n",
        "data['hsc_b'] = data['hsc_b'].fillna(data['hsc_b'].mode()[0])\n",
        "data['hsc_s'] = data['hsc_s'].fillna(data['hsc_s'].mode()[0])\n",
        "data['degree_t'] = data['degree_t'].fillna(data['degree_t'].mode()[0])\n",
        "data['workex'] = data['workex'].fillna(data['workex'].mode()[0])\n",
        "data['specialisation'] = data['specialisation'].fillna(data['specialisation'].mode()[0])\n",
        "data['status'] = data['status'].fillna(data['status'].mode()[0])\n",
        "\n",
        "\n"
      ],
      "execution_count": null,
      "outputs": []
    },
    {
      "cell_type": "code",
      "metadata": {
        "id": "fLaZar8T-YkY"
      },
      "source": [
        "from sklearn.preprocessing import LabelEncoder\n",
        "lencoders = {}\n",
        "for col in data.select_dtypes(include=['object']).columns:\n",
        "    lencoders[col] = LabelEncoder()\n",
        "    data[col] = lencoders[col].fit_transform(data[col])"
      ],
      "execution_count": null,
      "outputs": []
    },
    {
      "cell_type": "code",
      "metadata": {
        "id": "w5GR2wIi-k--"
      },
      "source": [
        "data"
      ],
      "execution_count": null,
      "outputs": []
    },
    {
      "cell_type": "markdown",
      "metadata": {
        "id": "1X3_s7X8_hEc"
      },
      "source": [
        "**Feature Scaling**"
      ]
    },
    {
      "cell_type": "code",
      "metadata": {
        "id": "iQgnWr7Q_jey"
      },
      "source": [
        "# Standardizing data\n",
        "from sklearn import preprocessing\n",
        "r_scaler = preprocessing.MinMaxScaler()\n",
        "r_scaler.fit(data)\n",
        "data = pd.DataFrame(r_scaler.transform(data), index=data.index, columns=data.columns)"
      ],
      "execution_count": null,
      "outputs": []
    },
    {
      "cell_type": "markdown",
      "metadata": {
        "id": "2m6tWQEIAQfb"
      },
      "source": [
        "**Data spliting**\n"
      ]
    },
    {
      "cell_type": "code",
      "metadata": {
        "id": "j9t6Ik9SAUPX"
      },
      "source": [
        "X=data.drop('specialisation',axis=1)\n"
      ],
      "execution_count": null,
      "outputs": []
    },
    {
      "cell_type": "code",
      "metadata": {
        "id": "f52X64tDAYXY"
      },
      "source": [
        "y=data[['specialisation']]\n"
      ],
      "execution_count": null,
      "outputs": []
    },
    {
      "cell_type": "code",
      "metadata": {
        "id": "5-S8fYFyApQB"
      },
      "source": [
        "X_train, X_test, y_train, y_test = train_test_split(X, y, test_size=0.30, random_state=100)\n"
      ],
      "execution_count": null,
      "outputs": []
    },
    {
      "cell_type": "markdown",
      "metadata": {
        "id": "veVGTXVWmwvl"
      },
      "source": [
        "# **Correlation**"
      ]
    },
    {
      "cell_type": "markdown",
      "metadata": {
        "id": "hjilCSB-wTIV"
      },
      "source": [
        "Correlation is a statistical technique that can show whether and how strongly pairs of variables are related/interdependent. When we look at two variables over time if one variable changes how does this affect change in another variable."
      ]
    },
    {
      "cell_type": "markdown",
      "metadata": {
        "id": "1-62SlUUnABt"
      },
      "source": [
        "EvalML is an AutoML library that builds, optimizes, and evaluates machine learning pipelines using domain-specific objective functions."
      ]
    },
    {
      "cell_type": "markdown",
      "metadata": {
        "id": "Kb6MkqEhnEau"
      },
      "source": [
        "**Correlation measures to what extend different variables are interdependent.**\n"
      ]
    },
    {
      "cell_type": "markdown",
      "metadata": {
        "id": "xaRrTKZEwjR4"
      },
      "source": [
        "For example, lung cancer and smoking are related; smokers tend to develop lung cancer more than non-smokers. The relationship isn't perfect. You can easily think of two people you know who smoke but don't have lung cancer. Nonetheless, the average cancer development in smokers is higher than in non-smokers. Correlation can tell you just how much of the variation in chances of getting cancer is related to their cigarette consumption.\n",
        "\n",
        "Although this correlation is fairly obvious, your data may contain unsuspected correlations. You may also suspect there are correlations but don't know which are the strongest. Intelligent correlation analysis can lead to a greater understanding of your data.\n",
        "\n",
        "The long and short of correlation is the following: Correlation is a number between –1.0 and +1.0. A correlation could be positive, meaning both variables move in the same direction, or negative, meaning that when one variable’s value increases, the other variables values decrease. Correlation can also be neural or zero, meaning that the variables are unrelated."
      ]
    },
    {
      "cell_type": "markdown",
      "metadata": {
        "id": "675uBwhfxE6U"
      },
      "source": [
        "- **Positive Correlation:** both variables change in the same direction.\n",
        "- **Neutral Correlation**: No relationship in the change of the variables.\n",
        "- **Negative Correlation:** variables change in opposite directions."
      ]
    },
    {
      "cell_type": "markdown",
      "metadata": {
        "id": "IAOVFF4XxXX4"
      },
      "source": [
        "It is important to note that correlation doesn't imply causation. Correlation quantifies the strength of the relationship between the features of a dataset. In some cases, the association is caused by a factor common to several features of interest. (For example, umbrellas are used during the rain, but they don't cause rain).\n",
        "\n",
        "There are several statistics that you can use to quantify correlation. In this article, you’ll learn about three correlation coefficients:\n",
        "\n",
        "- **Pearson’s r**\n",
        "- **Spearman’s ρ (rho)**\n",
        "- **Kendall’s τ (tau)**"
      ]
    },
    {
      "cell_type": "markdown",
      "metadata": {
        "id": "vCJZ8p5B4weG"
      },
      "source": [
        "**Pearson’s** coefficient measures linear correlation, while the S**pearman and Kendall** coefficients compare the ranks of data."
      ]
    },
    {
      "cell_type": "markdown",
      "metadata": {
        "id": "QEZc1xnz5AkB"
      },
      "source": [
        "Correlation can be useful in data analysis and modelling to better understand the relationships between variables. So it is important that you have a good understanding of it before you attempt a data analysis or modelling"
      ]
    },
    {
      "cell_type": "markdown",
      "metadata": {
        "id": "OS2jKFB3-tKZ"
      },
      "source": [
        "## **- Pearson correlation - Linear correlation**"
      ]
    },
    {
      "cell_type": "markdown",
      "metadata": {
        "id": "u4K88TEq5PXI"
      },
      "source": [
        "One way to measoure the strenth of corelation between continuose numerical variables is to use Pearson correlation. Pearson correlation method will give you two values:\n",
        "\n",
        "- **correlation coefficient**\n",
        "- **p-value**"
      ]
    },
    {
      "cell_type": "markdown",
      "metadata": {
        "id": "vlv6hgUD5hdJ"
      },
      "source": [
        "The Pearson correlation coefficient (named for Karl Pearson) can be used to summarize the strength of the linear relationship between two data samples.\n",
        "\n",
        "Several conditions have to be met for Pearson correlation:"
      ]
    },
    {
      "cell_type": "markdown",
      "metadata": {
        "id": "HicOMJ3L5vwI"
      },
      "source": [
        "- The variables x and y must have a linear relationship.\n",
        "- Both variables x and y must be numerical (or quantitative). That is, they must represent measurements with no restriction on their level of precision. For example, numbers with many places after the decimal point (such as 11.332 or 0.229) must be possible.\n",
        "- The y values must have a normal distribution for each x, with the same variance at each x."
      ]
    },
    {
      "cell_type": "markdown",
      "metadata": {
        "id": "OeyCBx3b6Fj_"
      },
      "source": [
        "The Pearson’s correlation coefficient is calculated as the covariance of the two variables divided by the product of the standard deviation of each data sample. It is the normalization of the covariance between the two variables to give an interpretable score.\n",
        "\n",
        "Correlation coefficient and p-value will tell you the following:\n",
        "\n",
        "Correlation coefficient"
      ]
    },
    {
      "cell_type": "markdown",
      "metadata": {
        "id": "cxxPuD6j6Raq"
      },
      "source": [
        "- close to +1: Large Positive relationship\n",
        "- close to -1: Large Negative relationship\n",
        "- close to 0: No relationship"
      ]
    },
    {
      "cell_type": "markdown",
      "metadata": {
        "id": "wx_WkV8M6aCa"
      },
      "source": [
        "P-value\n",
        "\n",
        "- P-value <0.001: Strong certainty in the result\n",
        "- P-value <0.05:  Moderate certainty in the result\n",
        "- P-value <0.1: Weak certainty in the result\n",
        "- P-value > 0.1: No certainty in the result"
      ]
    },
    {
      "cell_type": "markdown",
      "metadata": {
        "id": "ZBJOy_QB6flI"
      },
      "source": [
        "The Pearson’s correlation coefficient can be used to evaluate the relationship between more than two variables.\n",
        "\n",
        "This can be done by calculating a matrix of the relationships between each pair of variables in the dataset. The result is a symmetric matrix called a correlation matrix with a value of 1.0 along the diagonal as each column always perfectly correlates with itself."
      ]
    },
    {
      "cell_type": "markdown",
      "metadata": {
        "id": "JMOFGpMS-5t3"
      },
      "source": [
        "## **- Spearman Correlation - Rank correlation**"
      ]
    },
    {
      "cell_type": "markdown",
      "metadata": {
        "id": "jsn6ukJr9sPk"
      },
      "source": [
        "Pearson’s correlation coefficient is the most common correlation measure out there, but it is not the only one out there. Pearson’s correlation can't be used in all cases. It can be used only when certain conditions are met (those are listed above). If those conditions are not met, the rank correlation can be used (Spearman and Kendall correlation).\n",
        "\n",
        "Pearson correlation assumes that the data we are comparing is normally distributed. When that assumption is not true, the correlation value is reflecting the true association. Spearman correlation does not assume that data is from a specific distribution, so it is a non-parametric correlation measure."
      ]
    },
    {
      "cell_type": "markdown",
      "metadata": {
        "id": "WOwfhdxb98ML"
      },
      "source": [
        "Spearman’s rank correlation doesn’t require the relationship between the variables x and y to be linear, nor does it require the variables to be numerical. You use Spearman’s rank when the variables are ordinal or/and quantitative. Rather than examining a linear relationship between x and y, Spearman’s rank correlation tests whether two ordinal or/and quantitative variables are dependent.\n",
        "\n",
        "Note that Spearman’s rank applies to ordinal data only.\n",
        "\n",
        "Spearman's correlation coefficient, (ρ, also signified by rs) measures the strength and direction of the association between two ranked variables. You interpret the value of Spearman’s rank correlation, ρ the same way you interpret Pearson’s correlation, r. The values of ρ can go between –1 and +1. The higher the magnitude of ρ (in the positive or negative directions), the stronger the relationship."
      ]
    },
    {
      "cell_type": "markdown",
      "metadata": {
        "id": "c9k2A14Y_FIF"
      },
      "source": [
        "## **- Kendall correlation - Rank correlation**"
      ]
    },
    {
      "cell_type": "markdown",
      "metadata": {
        "id": "PP3IflHn-LZB"
      },
      "source": [
        "The Kendall correlation coefficient compares the number of concordant and discordant pairs of data. This coefficient is based on the difference in the counts of concordant and discordant pairs relative to the number of x-y pairs. It’s often denoted with τ called Kendall’s tau. It is considered an alternative to the nonparametric Spearman correlation coefficient (especially when you have a small sample size with many tied ranks)."
      ]
    },
    {
      "cell_type": "markdown",
      "metadata": {
        "id": "XnUpBepE-ZKK"
      },
      "source": [
        "Important facts about the Kendall correlation coefficient are:\n",
        "\n",
        "- It can take a real value in the range −1 ≤ τ ≤ 1.\n",
        "- Its maximum value τ = 1 corresponds to the case when the ranks of the corresponding values in x and y are the same. In other words, all pairs are concordant.\n",
        "- Its minimum value τ = −1 corresponds to the case when the rankings in x are the reverse of the rankings in y. In other words, all pairs are discordant."
      ]
    },
    {
      "cell_type": "markdown",
      "metadata": {
        "id": "1qFAXK9i_Nf-"
      },
      "source": [
        "## **Correlation Calculation in Pandas**"
      ]
    },
    {
      "cell_type": "markdown",
      "metadata": {
        "id": "M1FLafx6-nuy"
      },
      "source": [
        "Pandas offers **.corr()** function that we can use to calculate correlation coefficient.\n",
        "\n",
        "Pandas **dataframe.corr()**is used to find the pairwise correlation of all columns in the dataframe. Any NA values are automatically excluded. For any non-numeric data type columns in the dataframe it is ignored."
      ]
    },
    {
      "cell_type": "code",
      "metadata": {
        "colab": {
          "base_uri": "https://localhost:8080/",
          "height": 266
        },
        "id": "VPY44tER6QoO",
        "outputId": "a74bd582-7d5c-452d-bdb2-ebb2ff0ab329"
      },
      "source": [
        "data.corr(method='pearson', min_periods=1)\n",
        "\n"
      ],
      "execution_count": null,
      "outputs": [
        {
          "output_type": "execute_result",
          "data": {
            "text/html": [
              "<div>\n",
              "<style scoped>\n",
              "    .dataframe tbody tr th:only-of-type {\n",
              "        vertical-align: middle;\n",
              "    }\n",
              "\n",
              "    .dataframe tbody tr th {\n",
              "        vertical-align: top;\n",
              "    }\n",
              "\n",
              "    .dataframe thead th {\n",
              "        text-align: right;\n",
              "    }\n",
              "</style>\n",
              "<table border=\"1\" class=\"dataframe\">\n",
              "  <thead>\n",
              "    <tr style=\"text-align: right;\">\n",
              "      <th></th>\n",
              "      <th>sl_no</th>\n",
              "      <th>ssc_p</th>\n",
              "      <th>hsc_p</th>\n",
              "      <th>degree_p</th>\n",
              "      <th>etest_p</th>\n",
              "      <th>mba_p</th>\n",
              "      <th>salary</th>\n",
              "    </tr>\n",
              "  </thead>\n",
              "  <tbody>\n",
              "    <tr>\n",
              "      <th>sl_no</th>\n",
              "      <td>1.000000</td>\n",
              "      <td>-0.078155</td>\n",
              "      <td>-0.085711</td>\n",
              "      <td>-0.088281</td>\n",
              "      <td>0.063636</td>\n",
              "      <td>0.022327</td>\n",
              "      <td>0.063764</td>\n",
              "    </tr>\n",
              "    <tr>\n",
              "      <th>ssc_p</th>\n",
              "      <td>-0.078155</td>\n",
              "      <td>1.000000</td>\n",
              "      <td>0.511472</td>\n",
              "      <td>0.538404</td>\n",
              "      <td>0.261993</td>\n",
              "      <td>0.388478</td>\n",
              "      <td>0.035330</td>\n",
              "    </tr>\n",
              "    <tr>\n",
              "      <th>hsc_p</th>\n",
              "      <td>-0.085711</td>\n",
              "      <td>0.511472</td>\n",
              "      <td>1.000000</td>\n",
              "      <td>0.434206</td>\n",
              "      <td>0.245113</td>\n",
              "      <td>0.354823</td>\n",
              "      <td>0.076819</td>\n",
              "    </tr>\n",
              "    <tr>\n",
              "      <th>degree_p</th>\n",
              "      <td>-0.088281</td>\n",
              "      <td>0.538404</td>\n",
              "      <td>0.434206</td>\n",
              "      <td>1.000000</td>\n",
              "      <td>0.224470</td>\n",
              "      <td>0.402364</td>\n",
              "      <td>-0.019272</td>\n",
              "    </tr>\n",
              "    <tr>\n",
              "      <th>etest_p</th>\n",
              "      <td>0.063636</td>\n",
              "      <td>0.261993</td>\n",
              "      <td>0.245113</td>\n",
              "      <td>0.224470</td>\n",
              "      <td>1.000000</td>\n",
              "      <td>0.218055</td>\n",
              "      <td>0.178307</td>\n",
              "    </tr>\n",
              "    <tr>\n",
              "      <th>mba_p</th>\n",
              "      <td>0.022327</td>\n",
              "      <td>0.388478</td>\n",
              "      <td>0.354823</td>\n",
              "      <td>0.402364</td>\n",
              "      <td>0.218055</td>\n",
              "      <td>1.000000</td>\n",
              "      <td>0.175013</td>\n",
              "    </tr>\n",
              "    <tr>\n",
              "      <th>salary</th>\n",
              "      <td>0.063764</td>\n",
              "      <td>0.035330</td>\n",
              "      <td>0.076819</td>\n",
              "      <td>-0.019272</td>\n",
              "      <td>0.178307</td>\n",
              "      <td>0.175013</td>\n",
              "      <td>1.000000</td>\n",
              "    </tr>\n",
              "  </tbody>\n",
              "</table>\n",
              "</div>"
            ],
            "text/plain": [
              "             sl_no     ssc_p     hsc_p  degree_p   etest_p     mba_p    salary\n",
              "sl_no     1.000000 -0.078155 -0.085711 -0.088281  0.063636  0.022327  0.063764\n",
              "ssc_p    -0.078155  1.000000  0.511472  0.538404  0.261993  0.388478  0.035330\n",
              "hsc_p    -0.085711  0.511472  1.000000  0.434206  0.245113  0.354823  0.076819\n",
              "degree_p -0.088281  0.538404  0.434206  1.000000  0.224470  0.402364 -0.019272\n",
              "etest_p   0.063636  0.261993  0.245113  0.224470  1.000000  0.218055  0.178307\n",
              "mba_p     0.022327  0.388478  0.354823  0.402364  0.218055  1.000000  0.175013\n",
              "salary    0.063764  0.035330  0.076819 -0.019272  0.178307  0.175013  1.000000"
            ]
          },
          "metadata": {
            "tags": []
          },
          "execution_count": 6
        }
      ]
    },
    {
      "cell_type": "markdown",
      "metadata": {
        "id": "Qz3TRxFz_ga0"
      },
      "source": [
        "**Parameters:**\n",
        "\n",
        "**methods :**\n",
        "\n",
        "- pearson : Standard correlation coefficient\n",
        "- kendall : Kendall Tau correlation coefficient\n",
        "- spearman : Spearman rank correlation"
      ]
    },
    {
      "cell_type": "markdown",
      "metadata": {
        "id": "G4h7TZMIB-tH"
      },
      "source": [
        "**min_periods :** Minimum number of observations required per pair of columns to have a valid result. Currently only available for Pearson and Spearman correlation.\n",
        "\n",
        "- It returns a dataframe (Correlation matrix).\n",
        "\n",
        "- Let's create a datasets to illustare how the function works.\n",
        "\n",
        "- Here we are creating a dataframe with two columns that have positive correlation."
      ]
    },
    {
      "cell_type": "code",
      "metadata": {
        "colab": {
          "base_uri": "https://localhost:8080/",
          "height": 299
        },
        "id": "u9tOCs3QCLX3",
        "outputId": "379b30d3-6f1a-42f1-9538-b4a1eded8d7c"
      },
      "source": [
        "# creating a datasets to illustrate positive correlation.\n",
        "\n",
        "# importing libraries\n",
        "import numpy as np\n",
        "import pandas as pd\n",
        "\n",
        "from numpy import mean\n",
        "from numpy import std\n",
        "from numpy.random import randn\n",
        "from numpy.random import seed\n",
        "from matplotlib import pyplot\n",
        "\n",
        "# seed random number generator\n",
        "seed(1)\n",
        "\n",
        "# creating data for columns\n",
        "d1 = 30 * randn(1500) + 100\n",
        "d2 = d1 + (20 * randn(1500) + 50)\n",
        "\n",
        "# let's convert to a dataframe\n",
        "df = pd.DataFrame({'Column1': d1, 'Column2': d2})\n",
        "\n",
        "# summarize\n",
        "print('d1: mean=%.3f stdv=%.3f' % (mean(d1), std(d1)))\n",
        "print('d2: mean=%.3f stdv=%.3f' % (mean(d2), std(d2)))\n",
        "\n",
        "# plot\n",
        "pyplot.scatter(d1, d2)\n",
        "pyplot.show()\n"
      ],
      "execution_count": null,
      "outputs": [
        {
          "output_type": "stream",
          "text": [
            "d1: mean=101.554 stdv=29.851\n",
            "d2: mean=151.104 stdv=35.806\n"
          ],
          "name": "stdout"
        },
        {
          "output_type": "display_data",
          "data": {
            "image/png": "[encoded data removed]",
            "text/plain": [
              "<Figure size 432x288 with 1 Axes>"
            ]
          },
          "metadata": {
            "tags": [],
            "needs_background": "light"
          }
        }
      ]
    },
    {
      "cell_type": "code",
      "metadata": {
        "id": "YSnbe2H5CW89"
      },
      "source": [
        "df.head()"
      ],
      "execution_count": null,
      "outputs": []
    },
    {
      "cell_type": "markdown",
      "metadata": {
        "id": "7QdAkpfgC0Wk"
      },
      "source": [
        "Now let's calculate Pearson Correlation Coefficient with Pandas .corr() and prove that we are dealing with the positive correlation.\n",
        "\n",
        "You will need to run  df.corr(method ='pearson') to get Pearson correlation coefficient for your dataframe."
      ]
    },
    {
      "cell_type": "code",
      "metadata": {
        "colab": {
          "base_uri": "https://localhost:8080/",
          "height": 111
        },
        "id": "Or567hoJCkCd",
        "outputId": "719beaed-3169-43b1-ed99-081176bea20b"
      },
      "source": [
        "df.corr(method='pearson')\n"
      ],
      "execution_count": null,
      "outputs": [
        {
          "output_type": "execute_result",
          "data": {
            "text/html": [
              "<div>\n",
              "<style scoped>\n",
              "    .dataframe tbody tr th:only-of-type {\n",
              "        vertical-align: middle;\n",
              "    }\n",
              "\n",
              "    .dataframe tbody tr th {\n",
              "        vertical-align: top;\n",
              "    }\n",
              "\n",
              "    .dataframe thead th {\n",
              "        text-align: right;\n",
              "    }\n",
              "</style>\n",
              "<table border=\"1\" class=\"dataframe\">\n",
              "  <thead>\n",
              "    <tr style=\"text-align: right;\">\n",
              "      <th></th>\n",
              "      <th>Column1</th>\n",
              "      <th>Column2</th>\n",
              "    </tr>\n",
              "  </thead>\n",
              "  <tbody>\n",
              "    <tr>\n",
              "      <th>Column1</th>\n",
              "      <td>1.000000</td>\n",
              "      <td>0.831948</td>\n",
              "    </tr>\n",
              "    <tr>\n",
              "      <th>Column2</th>\n",
              "      <td>0.831948</td>\n",
              "      <td>1.000000</td>\n",
              "    </tr>\n",
              "  </tbody>\n",
              "</table>\n",
              "</div>"
            ],
            "text/plain": [
              "          Column1   Column2\n",
              "Column1  1.000000  0.831948\n",
              "Column2  0.831948  1.000000"
            ]
          },
          "metadata": {
            "tags": []
          },
          "execution_count": 12
        }
      ]
    },
    {
      "cell_type": "markdown",
      "metadata": {
        "id": "BwF9rXnYDYSm"
      },
      "source": [
        "This is what we expected for the dataframe as it was created to show a positive correlation.\n",
        "\n",
        "A correlation coefficient close to +1 demonstrates a large positive relationship. Any column correlation with self will result in 1. Here the correlation between column1 and column2 is **0.83**, which is close to +1, and so this confirms that we are dealing with positive correlation."
      ]
    },
    {
      "cell_type": "markdown",
      "metadata": {
        "id": "03x9yYWVDfuz"
      },
      "source": [
        "Let's calculate **Spearman  Correlation Coefficient** with Pandas .corr() and prove that we are dealing with the positive correlation.\n",
        "\n",
        "You will need to run  df.corr(method ='spearman') to get Pearson Correlation Coefficient for your dataframe."
      ]
    },
    {
      "cell_type": "code",
      "metadata": {
        "colab": {
          "base_uri": "https://localhost:8080/",
          "height": 111
        },
        "id": "TktcLx62DnPM",
        "outputId": "204a05b7-75aa-4818-8726-5680dbbff9e8"
      },
      "source": [
        "df.corr(method='spearman')\n"
      ],
      "execution_count": null,
      "outputs": [
        {
          "output_type": "execute_result",
          "data": {
            "text/html": [
              "<div>\n",
              "<style scoped>\n",
              "    .dataframe tbody tr th:only-of-type {\n",
              "        vertical-align: middle;\n",
              "    }\n",
              "\n",
              "    .dataframe tbody tr th {\n",
              "        vertical-align: top;\n",
              "    }\n",
              "\n",
              "    .dataframe thead th {\n",
              "        text-align: right;\n",
              "    }\n",
              "</style>\n",
              "<table border=\"1\" class=\"dataframe\">\n",
              "  <thead>\n",
              "    <tr style=\"text-align: right;\">\n",
              "      <th></th>\n",
              "      <th>Column1</th>\n",
              "      <th>Column2</th>\n",
              "    </tr>\n",
              "  </thead>\n",
              "  <tbody>\n",
              "    <tr>\n",
              "      <th>Column1</th>\n",
              "      <td>1.000000</td>\n",
              "      <td>0.808668</td>\n",
              "    </tr>\n",
              "    <tr>\n",
              "      <th>Column2</th>\n",
              "      <td>0.808668</td>\n",
              "      <td>1.000000</td>\n",
              "    </tr>\n",
              "  </tbody>\n",
              "</table>\n",
              "</div>"
            ],
            "text/plain": [
              "          Column1   Column2\n",
              "Column1  1.000000  0.808668\n",
              "Column2  0.808668  1.000000"
            ]
          },
          "metadata": {
            "tags": []
          },
          "execution_count": 13
        }
      ]
    },
    {
      "cell_type": "markdown",
      "metadata": {
        "id": "-hnF9aaSDx9-"
      },
      "source": [
        "Finally, let's calculate **Kendall  Correlation Coefficient**with Pandas .corr() and prove that we are dealing with the positive correlation.\n",
        "\n",
        "You will need to run  df.corr(method ='kendall') to get Pearson Correlation Coefficient for your dataframe.\n",
        "\n"
      ]
    },
    {
      "cell_type": "code",
      "metadata": {
        "colab": {
          "base_uri": "https://localhost:8080/",
          "height": 111
        },
        "id": "R9f1MD-ID247",
        "outputId": "209af6d2-5452-45ab-ccde-24cefb499fe3"
      },
      "source": [
        "df.corr(method='kendall')\n"
      ],
      "execution_count": null,
      "outputs": [
        {
          "output_type": "execute_result",
          "data": {
            "text/html": [
              "<div>\n",
              "<style scoped>\n",
              "    .dataframe tbody tr th:only-of-type {\n",
              "        vertical-align: middle;\n",
              "    }\n",
              "\n",
              "    .dataframe tbody tr th {\n",
              "        vertical-align: top;\n",
              "    }\n",
              "\n",
              "    .dataframe thead th {\n",
              "        text-align: right;\n",
              "    }\n",
              "</style>\n",
              "<table border=\"1\" class=\"dataframe\">\n",
              "  <thead>\n",
              "    <tr style=\"text-align: right;\">\n",
              "      <th></th>\n",
              "      <th>Column1</th>\n",
              "      <th>Column2</th>\n",
              "    </tr>\n",
              "  </thead>\n",
              "  <tbody>\n",
              "    <tr>\n",
              "      <th>Column1</th>\n",
              "      <td>1.000000</td>\n",
              "      <td>0.615858</td>\n",
              "    </tr>\n",
              "    <tr>\n",
              "      <th>Column2</th>\n",
              "      <td>0.615858</td>\n",
              "      <td>1.000000</td>\n",
              "    </tr>\n",
              "  </tbody>\n",
              "</table>\n",
              "</div>"
            ],
            "text/plain": [
              "          Column1   Column2\n",
              "Column1  1.000000  0.615858\n",
              "Column2  0.615858  1.000000"
            ]
          },
          "metadata": {
            "tags": []
          },
          "execution_count": 14
        }
      ]
    },
    {
      "cell_type": "markdown",
      "metadata": {
        "id": "B8mtE--MEInd"
      },
      "source": [
        "The first thing that strikes when comparing correlation coefficients for the test dataframe computed by Pearson and Spearman and Kendall correlation coefficients is the difference between them. Why are they different? We can understand the difference if we understand the assumption of each method.\n",
        "\n",
        "As mentioned before, Pearson's correlation assumes the data is normally distributed. However, Spearman's and Kendall's correlations don't make any assumption on the distribution of the data. That is the main reason for the difference."
      ]
    },
    {
      "cell_type": "markdown",
      "metadata": {
        "id": "Yc-u2NC0_Xqs"
      },
      "source": [
        "## **Correlation Calculation in SciPy**"
      ]
    },
    {
      "cell_type": "markdown",
      "metadata": {
        "id": "COw52KbEEOeU"
      },
      "source": [
        "**Correlation Calculation in SciPy**\n"
      ]
    },
    {
      "cell_type": "markdown",
      "metadata": {
        "id": "VQPHsvDUGDeB"
      },
      "source": [
        "Pandas does not have a function that calculates **p-values**, so it is better to use **SciPy **to calculate correlation as it will give you both **p-value** and **correlation coefficient.**\n",
        "\n",
        "SciPy library has many statistics routines contained in **scipy.stats.** You can use the following methods to calculate the three correlation coefficients you saw earlier:\n",
        "\n"
      ]
    },
    {
      "cell_type": "markdown",
      "metadata": {
        "id": "ASBGA6ehGj6h"
      },
      "source": [
        "- pearsonr()\n",
        "- spearmanr()\n",
        "- kendalltau()"
      ]
    },
    {
      "cell_type": "markdown",
      "metadata": {
        "id": "GL7q2PxkGvow"
      },
      "source": [
        "That's how you would use these functions in Python:\n",
        "\n",
        "We will create a new test dataframe this time with negative correlation."
      ]
    },
    {
      "cell_type": "code",
      "metadata": {
        "id": "Yv1qMHL8GOeJ",
        "colab": {
          "base_uri": "https://localhost:8080/",
          "height": 299
        },
        "outputId": "241a82b6-774a-483f-f585-531ef5414ce0"
      },
      "source": [
        "# creating a datasets to illustrate negative correlation.\n",
        "\n",
        "# importing libraries\n",
        "import numpy as np\n",
        "import pandas as pd\n",
        "import scipy\n",
        "\n",
        "from numpy import mean\n",
        "from numpy import std\n",
        "from numpy.random import randn\n",
        "from numpy.random import seed\n",
        "from matplotlib import pyplot\n",
        "\n",
        "# seed random number generator\n",
        "seed(24)\n",
        "\n",
        "# prepare data\n",
        "d1 = 30 * randn(1000) + 100\n",
        "d2 = d1 * -1 + (20 * randn(1000) + 50)\n",
        "\n",
        "# let's convert to a dataframe\n",
        "df = pd.DataFrame({'Column1': d1, 'Column2': d2})\n",
        "\n",
        "# summarize\n",
        "print('d1: mean=%.3f stdv=%.3f' % (mean(d1), std(d1)))\n",
        "print('d2: mean=%.3f stdv=%.3f' % (mean(d2), std(d2)))\n",
        "\n",
        "# plot\n",
        "pyplot.scatter(d1, d2)\n",
        "pyplot.show()\n"
      ],
      "execution_count": null,
      "outputs": [
        {
          "output_type": "stream",
          "text": [
            "d1: mean=100.408 stdv=30.396\n",
            "d2: mean=-51.359 stdv=36.784\n"
          ],
          "name": "stdout"
        },
        {
          "output_type": "display_data",
          "data": {
            "image/png": "[encoded data removed]",
            "text/plain": [
              "<Figure size 432x288 with 1 Axes>"
            ]
          },
          "metadata": {
            "tags": [],
            "needs_background": "light"
          }
        }
      ]
    },
    {
      "cell_type": "markdown",
      "metadata": {
        "id": "0sg2wC8UHDZK"
      },
      "source": [
        "he **scipy.stats.pearsonr(x, y)** calculates a Pearson correlation coefficient and the **p-value** for testing non-correlation.\n",
        "\n",
        "The Pearson correlation coefficient measures the linear relationship between two datasets.\n",
        "\n",
        "The **p-value** roughly indicates the probability of an uncorrelated system producing datasets that have a Pearson correlation at least as extreme as the one computed from these datasets. The p-values are not entirely reliable but are probably reasonable for datasets larger than 500 or so."
      ]
    },
    {
      "cell_type": "code",
      "metadata": {
        "colab": {
          "base_uri": "https://localhost:8080/"
        },
        "id": "vGMRIH5pHjnL",
        "outputId": "694811fa-932d-4f76-f920-e64a3535ac94"
      },
      "source": [
        "scipy.stats.pearsonr(df['Column1'], df['Column2'])"
      ],
      "execution_count": null,
      "outputs": [
        {
          "output_type": "execute_result",
          "data": {
            "text/plain": [
              "(-0.8494613723907997, 2.370666878292138e-279)"
            ]
          },
          "metadata": {
            "tags": []
          },
          "execution_count": 11
        }
      ]
    },
    {
      "cell_type": "code",
      "metadata": {
        "id": "AnicM6FGH4b3"
      },
      "source": [
        "corr, pvalue=scipy.stats.pearsonr(df['Column1'], df['Column2'])"
      ],
      "execution_count": null,
      "outputs": []
    },
    {
      "cell_type": "code",
      "metadata": {
        "colab": {
          "base_uri": "https://localhost:8080/"
        },
        "id": "UbriSqINH97P",
        "outputId": "460d374e-1001-41fc-949b-ad952a288896"
      },
      "source": [
        "print('correlation coefficent', corr)"
      ],
      "execution_count": null,
      "outputs": [
        {
          "output_type": "stream",
          "text": [
            "correlation coefficent -0.8494613723907997\n"
          ],
          "name": "stdout"
        }
      ]
    },
    {
      "cell_type": "code",
      "metadata": {
        "colab": {
          "base_uri": "https://localhost:8080/"
        },
        "id": "2BWjYJT6IGk4",
        "outputId": "7cedbd0f-4cc5-4e03-f87e-bc1f2e52ec46"
      },
      "source": [
        "print('P-VALUE', pvalue)"
      ],
      "execution_count": null,
      "outputs": [
        {
          "output_type": "stream",
          "text": [
            "P-VALUE 2.370666878292138e-279\n"
          ],
          "name": "stdout"
        }
      ]
    },
    {
      "cell_type": "code",
      "metadata": {
        "colab": {
          "base_uri": "https://localhost:8080/"
        },
        "id": "YMdbG7ArIZkf",
        "outputId": "4bf74aac-155d-4b4f-810a-bf35f31592e0"
      },
      "source": [
        "print('P-value without a notations','{:0.300f}'.format(pvalue))"
      ],
      "execution_count": null,
      "outputs": [
        {
          "output_type": "stream",
          "text": [
            "P-value without a notations 0.000000000000000000000000000000000000000000000000000000000000000000000000000000000000000000000000000000000000000000000000000000000000000000000000000000000000000000000000000000000000000000000000000000000000000000000000000000000000000000000000000000000000000000000000000000000000002370666878292137817821\n"
          ],
          "name": "stdout"
        }
      ]
    },
    {
      "cell_type": "markdown",
      "metadata": {
        "id": "93NrdJJOJS9Y"
      },
      "source": [
        "As expected, the function produced correlation coefficient -0.8494613, that is close to -1, and it confirms a strong negative correlation. The returned p-value is < 0.001, and so it confirms strong certainty in the result."
      ]
    },
    {
      "cell_type": "markdown",
      "metadata": {
        "id": "06nM5ydzJU0V"
      },
      "source": [
        "**Spearman correlation coefficient and the p-value**"
      ]
    },
    {
      "cell_type": "markdown",
      "metadata": {
        "id": "ME6JpPxN8QlN"
      },
      "source": [
        "The scipy.stats.spearmanr(a, b=None, axis=0, nan_policy='propagate') calculates a Spearman correlation coefficient with associated p-value.\n",
        "\n",
        "The Spearman rank-order correlation coefficient is a nonparametric measure of the monotonicity of the relationship between two datasets. Unlike the Pearson correlation, the Spearman correlation does not assume that both datasets are normally distributed."
      ]
    },
    {
      "cell_type": "markdown",
      "metadata": {
        "id": "z_D2zBlz8ZkI"
      },
      "source": [
        "The p-value roughly indicates the probability of an uncorrelated system producing datasets that have a Spearman correlation at least as extreme as the one computed from these datasets."
      ]
    },
    {
      "cell_type": "markdown",
      "metadata": {
        "id": "1IsEmFHj8gp0"
      },
      "source": [
        "**Parameters:**\n",
        "\n",
        "- a, b: 1D or 2D array_like, b is optional. One or two 1-D or 2-D arrays containing multiple variables and observations. When these are 1-D, each represents a vector of observations of a single variable. For the behavior in the 2-D case, see under axis, below. Both arrays need to have the same length in the axis dimension.\n",
        "- axis : int or None, optional. If axis=0 (default), then each column represents a variable, with observations in the rows. If axis=1, the relationship is transposed: each row represents a variable, while the columns contain observations. If axis=None, then both arrays will be raveled.\n",
        "- nan_policy : {‘propagate’, ‘raise’, ‘omit’}, optional. Defines how to handle when input contains nan. The following options are available (default is propagate): propagate: returns nan, raise: throws an error, and omit: performs the calculations ignoring nan values"
      ]
    },
    {
      "cell_type": "markdown",
      "metadata": {
        "id": "ziufmStY89gr"
      },
      "source": [
        "The scipy.stats.spearmanr(a, b=None, axis=0, nan_policy='propagate') function returns:\n",
        "\n",
        "- **correlation** : float or ndarray (2-D square). Spearman correlation matrix or correlation coefficient (if only 2 variables are given as parameters. Correlation matrix is square with length equal to total number of variables (columns or rows) in a and b combined.\n",
        "- **p-value :** float. The two-sided p-value for a hypothesis test whose null hypothesis is that two sets of data are uncorrelated, has same dimension as rho."
      ]
    },
    {
      "cell_type": "code",
      "metadata": {
        "colab": {
          "base_uri": "https://localhost:8080/"
        },
        "id": "FCBvFVmo9M6p",
        "outputId": "0290fa8f-16d5-420e-da71-018d21d61740"
      },
      "source": [
        "scipy.stats.spearmanr(df)"
      ],
      "execution_count": null,
      "outputs": [
        {
          "output_type": "execute_result",
          "data": {
            "text/plain": [
              "SpearmanrResult(correlation=-0.8516826716826716, pvalue=2.5840062112066416e-282)"
            ]
          },
          "metadata": {
            "tags": []
          },
          "execution_count": 17
        }
      ]
    },
    {
      "cell_type": "code",
      "metadata": {
        "id": "-YqCFoj39sQ6"
      },
      "source": [
        "corr, Pvalue=scipy.stats.spearmanr(df)"
      ],
      "execution_count": null,
      "outputs": []
    },
    {
      "cell_type": "code",
      "metadata": {
        "id": "apKmgTn_97m0"
      },
      "source": [
        "print('correlation coefficent', corr)"
      ],
      "execution_count": null,
      "outputs": []
    },
    {
      "cell_type": "code",
      "metadata": {
        "colab": {
          "base_uri": "https://localhost:8080/"
        },
        "id": "lg6yESx0-B1f",
        "outputId": "cbd6cc05-814a-4246-b411-1c15a2f7cc39"
      },
      "source": [
        "print('P-VALUE', Pvalue)"
      ],
      "execution_count": null,
      "outputs": [
        {
          "output_type": "stream",
          "text": [
            "P-VALUE 2.5840062112066416e-282\n"
          ],
          "name": "stdout"
        }
      ]
    },
    {
      "cell_type": "markdown",
      "metadata": {
        "id": "sMMx2MkJ-nDq"
      },
      "source": [
        "We know that the data is Gaussian and that the relationship between the variables is linear. Nevertheless, the nonparametric rank-based approach shows a strong correlation between the variables of 0.85. Returned p-value is < 0.001 and so confirms strong certainty in the result."
      ]
    },
    {
      "cell_type": "markdown",
      "metadata": {
        "id": "pZLPbHHf_p_O"
      },
      "source": [
        "**Kendall correlation coefficient and the p-value**\n"
      ]
    },
    {
      "cell_type": "markdown",
      "metadata": {
        "id": "YO3nUnbR_si1"
      },
      "source": [
        "The scipy.stats.kendalltau(x, y, nan_policy='propagate', method='auto') calculates Kendall’s tau, a correlation measure for ordinal data.\n",
        "\n",
        "Kendall’s tau is a measure of the correspondence between two rankings. Values close to 1 indicate strong agreement, values close to -1 indicate strong disagreement."
      ]
    },
    {
      "cell_type": "markdown",
      "metadata": {
        "id": "Qwm9l6YS_9cA"
      },
      "source": [
        "**Parameters:**\n",
        "\n",
        "- **x, yarray_like.**  Arrays of rankings, of the same shape. If arrays are not 1-D, they will be flattened to 1-D.\n",
        "- **nan_policy : {‘propagate’, ‘raise’, ‘omit’}, optional.** Defines how to handle when input contains nan. The following options are available (default is propagate): propagate: returns nan, raise: throws an error, and omit: performs the calculations ignoring nan values.\n",
        "- method: {‘auto’, ‘asymptotic’, ‘exact’}, optional. Defines which method is used to calculate the p-value. The following options are available (default is auto): auto: selects the appropriate method based on a trade-off between speed and accuracy. asymptotic: uses a normal approximation valid for large samples. exact: computes the exact p-value, but can only be used if no ties are present.\n",
        "The scipy.stats"
      ]
    },
    {
      "cell_type": "markdown",
      "metadata": {
        "id": "n7DUeEYIAM5s"
      },
      "source": [
        "The scipy.stats.kendalltau(x, y, nan_policy='propagate', method='auto') function returns:"
      ]
    },
    {
      "cell_type": "markdown",
      "metadata": {
        "id": "HcznpJE1AQwt"
      },
      "source": [
        "**correlation float**\n",
        "- The tau statistic - p-value float. The two-sided p-value for a hypothesis test whose null hypothesis is an absence of association, tau = 0."
      ]
    },
    {
      "cell_type": "code",
      "metadata": {
        "colab": {
          "base_uri": "https://localhost:8080/"
        },
        "id": "_eZB-edwAbjx",
        "outputId": "940c5717-e4c1-4047-db9c-2e60a254d392"
      },
      "source": [
        "scipy.stats.kendalltau(df['Column1'], df['Column2'])"
      ],
      "execution_count": null,
      "outputs": [
        {
          "output_type": "execute_result",
          "data": {
            "text/plain": [
              "KendalltauResult(correlation=-0.6591271271271271, pvalue=7.67043823229759e-214)"
            ]
          },
          "metadata": {
            "tags": []
          },
          "execution_count": 26
        }
      ]
    },
    {
      "cell_type": "code",
      "metadata": {
        "id": "o2leSjFWAmRN"
      },
      "source": [
        "corr, pvalue=scipy.stats.kendalltau(df['Column1'], df['Column2'])"
      ],
      "execution_count": null,
      "outputs": []
    },
    {
      "cell_type": "code",
      "metadata": {
        "colab": {
          "base_uri": "https://localhost:8080/"
        },
        "id": "UB5cyjCfAteu",
        "outputId": "342b4775-eaf2-4e4b-b667-0bf30cea7507"
      },
      "source": [
        "print('correlation coefficent', corr)"
      ],
      "execution_count": null,
      "outputs": [
        {
          "output_type": "stream",
          "text": [
            "correlation coefficent -0.6591271271271271\n"
          ],
          "name": "stdout"
        }
      ]
    },
    {
      "cell_type": "code",
      "metadata": {
        "colab": {
          "base_uri": "https://localhost:8080/"
        },
        "id": "iWTkPtG5AxxX",
        "outputId": "55397a31-e87c-4c51-c5b4-0548672cec20"
      },
      "source": [
        "print('P-VALUE', pvalue)"
      ],
      "execution_count": null,
      "outputs": [
        {
          "output_type": "stream",
          "text": [
            "P-VALUE 7.67043823229759e-214\n"
          ],
          "name": "stdout"
        }
      ]
    },
    {
      "cell_type": "markdown",
      "metadata": {
        "id": "qwK2bzqjA86s"
      },
      "source": [
        "## **Visualization of Correlation with Matplotlib and Seaborn**"
      ]
    },
    {
      "cell_type": "markdown",
      "metadata": {
        "id": "p5a_9D2VMVbj"
      },
      "source": [
        "The fastest way to learn more about your data is to use data visualization. In this section, you’ll learn how to visually represent the relationship between two features with an x-y plot. You’ll also use heatmaps to visualize a correlation matrix and scatterplot matrix."
      ]
    },
    {
      "cell_type": "markdown",
      "metadata": {
        "id": "_ZprdPZzMYnI"
      },
      "source": [
        "**Scatterplot matrix**\n"
      ]
    },
    {
      "cell_type": "markdown",
      "metadata": {
        "id": "BvkUFWZFMmTs"
      },
      "source": [
        "Scatter plots are useful for spotting structured relationships between variables, like whether you could summarize the relationship between two variables with a line. Attributes with structured relationships may also be correlated and good candidates for removal from your dataset. You don't need to delete anything from the test dataframe, but when dealing with real world data this can be necessary."
      ]
    },
    {
      "cell_type": "markdown",
      "metadata": {
        "id": "Je9SxHgPMvhg"
      },
      "source": [
        "pandas.plotting.scatter_matrix(frame, alpha=0.5, figsize=None, ax=None, grid=False, diagonal='hist', marker='.', density_kwds=None, hist_kwds=None, range_padding=0.05, **kwargs) - The command syntax for a scatterplot matrix.\n",
        "\n",
        "For scatterplt matrix we are using the same test df as in SciPy section."
      ]
    },
    {
      "cell_type": "code",
      "metadata": {
        "colab": {
          "base_uri": "https://localhost:8080/",
          "height": 502
        },
        "id": "arpVQbDAM1Oe",
        "outputId": "7fa5238c-e712-4ab0-bc08-f072de9de77c"
      },
      "source": [
        "#Scatterplot Matrix - Histogram plots\n",
        "\n",
        "#import pandas\n",
        "#from matplotlib import pyplot\n",
        "\n",
        "from pandas.plotting import scatter_matrix\n",
        "\n",
        "scatter_matrix(df, figsize = (14,8))\n",
        "pyplot.show()"
      ],
      "execution_count": null,
      "outputs": [
        {
          "output_type": "display_data",
          "data": {
            "image/png": "[encoded data removed]",
            "text/plain": [
              "<Figure size 1008x576 with 4 Axes>"
            ]
          },
          "metadata": {
            "tags": [],
            "needs_background": "light"
          }
        }
      ]
    },
    {
      "cell_type": "code",
      "metadata": {
        "colab": {
          "base_uri": "https://localhost:8080/",
          "height": 502
        },
        "id": "-Vg_GPioNR55",
        "outputId": "1f17a43e-af85-43a8-e3b4-1a02840499d8"
      },
      "source": [
        "# Scatterplot Matrix - Kernel Density Estimation\n",
        "\n",
        "scatter_matrix(df, alpha = 0.3, figsize = (14,8), diagonal = 'kde')\n",
        "pyplot.show()"
      ],
      "execution_count": null,
      "outputs": [
        {
          "output_type": "display_data",
          "data": {
            "image/png": "[encoded data removed]",
            "text/plain": [
              "<Figure size 1008x576 with 4 Axes>"
            ]
          },
          "metadata": {
            "tags": [],
            "needs_background": "light"
          }
        }
      ]
    },
    {
      "cell_type": "markdown",
      "metadata": {
        "id": "7bGUdImiNhGv"
      },
      "source": [
        "**X-Y Plots With a Regression Line**\n"
      ]
    },
    {
      "cell_type": "markdown",
      "metadata": {
        "id": "iB6ja21HNn2n"
      },
      "source": [
        "Now you’ll see how to create an x-y plot with the regression line, its equation, and the Pearson correlation coefficient. The slope and the intercept of the regression line, as well as the correlation coefficient are calculated with linregress()."
      ]
    },
    {
      "cell_type": "code",
      "metadata": {
        "colab": {
          "base_uri": "https://localhost:8080/",
          "height": 497
        },
        "id": "IAlcpwCvNpZC",
        "outputId": "24372d6a-3bca-4b7a-8f02-02d924568400"
      },
      "source": [
        "# creating X-Y Plots With a Regression Line\n",
        "\n",
        "# slope, intersept, and correlation coefficient calculation \n",
        "slope, intercept, r, p, stderr = scipy.stats.linregress(df['Column1'], df['Column2'])\n",
        "\n",
        "line = f'Regression line: y={intercept:.2f}+{slope:.2f}x, r={r:.2f}'\n",
        "\n",
        "# plotting\n",
        "fig, ax = pyplot.subplots(figsize = (14,8))\n",
        "ax.plot(df['Column1'], df['Column2'], linewidth=0, marker='s', label='Data points')\n",
        "ax.plot(df['Column1'], intercept + slope * df['Column1'], label=line)\n",
        "ax.set_xlabel('Column1')\n",
        "ax.set_ylabel('Column2')\n",
        "ax.legend(facecolor='white')\n",
        "pyplot.show()"
      ],
      "execution_count": null,
      "outputs": [
        {
          "output_type": "display_data",
          "data": {
            "image/png": "[encoded data removed]",
            "text/plain": [
              "<Figure size 1008x576 with 1 Axes>"
            ]
          },
          "metadata": {
            "tags": [],
            "needs_background": "light"
          }
        }
      ]
    },
    {
      "cell_type": "markdown",
      "metadata": {
        "id": "-8gYFlxXN54v"
      },
      "source": [
        "**Heatmaps of Correlation Matrices**\n"
      ]
    },
    {
      "cell_type": "markdown",
      "metadata": {
        "id": "eT79s3T8N8Nv"
      },
      "source": [
        "You can calculate the correlation between each pair of attributes. This is called a correlation matrix. You can then plot the correlation matrix and get an idea of which variables have a high correlation with each other.\n",
        "\n",
        "The easiest way to get a pretty heatmap is to use seaborn library. So let's do this.\n",
        "\n",
        "seaborn.heatmap(data, vmin=None, vmax=None, cmap=None, center=None, robust=False, annot=None, fmt='.2g', annot_kws=None, linewidths=0, linecolor='white', cbar=True, cbar_kws=None, cbar_ax=None, square=False, xticklabels='auto', yticklabels='auto', mask=None, ax=None, **kwargs) - Plots rectangular data as a color-encoded matrix."
      ]
    },
    {
      "cell_type": "code",
      "metadata": {
        "colab": {
          "base_uri": "https://localhost:8080/",
          "height": 504
        },
        "id": "DtGQc2WWODko",
        "outputId": "8f54be48-c5ac-4e86-a26a-22d353c0d2a3"
      },
      "source": [
        "import seaborn as sns\n",
        "\n",
        "f, ax = pyplot.subplots(figsize=(14, 8))\n",
        "corr = df.corr()\n",
        "sns.heatmap(corr, mask=np.zeros_like(corr, dtype=np.bool), cmap=sns.diverging_palette(220, 10, as_cmap=True),\n",
        "            square=True, annot=True, ax=ax)"
      ],
      "execution_count": null,
      "outputs": [
        {
          "output_type": "execute_result",
          "data": {
            "text/plain": [
              "<matplotlib.axes._subplots.AxesSubplot at 0x7f632cb39250>"
            ]
          },
          "metadata": {
            "tags": []
          },
          "execution_count": 13
        },
        {
          "output_type": "display_data",
          "data": {
            "image/png": "[encoded data removed]",
            "text/plain": [
              "<Figure size 1008x576 with 2 Axes>"
            ]
          },
          "metadata": {
            "tags": [],
            "needs_background": "light"
          }
        }
      ]
    },
    {
      "cell_type": "markdown",
      "metadata": {
        "id": "pvrFbtyHONSG"
      },
      "source": [
        "The command returns a table with the coefficients. It sort of looks like the Pandas output with colored backgrounds. The colors help you interpret the output. In this example, the red color represents the number 1, blue corresponds to -0.85."
      ]
    },
    {
      "cell_type": "markdown",
      "metadata": {
        "id": "5CKqdX86iIBc"
      },
      "source": [
        "# **References**"
      ]
    },
    {
      "cell_type": "markdown",
      "source": [
        "# **Measures of central tendency and dispersion**"
      ],
      "metadata": {
        "id": "ACgz_hvwQFqI"
      }
    },
    {
      "cell_type": "markdown",
      "source": [
        "## **Central Tendency** "
      ],
      "metadata": {
        "id": "T7v9dwD_QWrQ"
      }
    },
    {
      "cell_type": "code",
      "source": [
        "# Import libraries\n",
        "import numpy as np\n",
        "import matplotlib.pyplot as plt\n",
        "import pandas as pd\n",
        "import seaborn as sns"
      ],
      "metadata": {
        "id": "3vt9OdyBQfFe"
      },
      "execution_count": 2,
      "outputs": []
    },
    {
      "cell_type": "code",
      "source": [
        "# Generate a normally distributed dataset with mean=50 and standard deviation=10\n",
        "data = np.random.normal(50, 10, 50)\n",
        "\n",
        "# Generate a skewed dataset with mean=50 and standard deviation=10\n",
        "data_skewed = np.random.normal(50, 10, 50)**5\n",
        "\n",
        "# Calculate the mean, median, and mode of the dataset\n",
        "mean = np.mean(data)\n",
        "median = np.median(data)\n",
        "mode = np.round(np.mean(data))\n",
        "\n",
        "# Calculate the mean, median, and mode of the skewed dataset\n",
        "mean_skewed = np.mean(data_skewed)\n",
        "median_skewed = np.median(data_skewed)\n",
        "mode_skewed = np.round(np.mean(data_skewed))\n",
        "\n",
        "# Print the results\n",
        "print(\"For the normally distributed dataset:\")\n",
        "print(\"Mean: \", mean)\n",
        "print(\"Median: \", median)\n",
        "print(\"Mode: \", mode)\n",
        "print(\"--------------------------------------------------------------------\")\n",
        "print(\"For the skewed dataset:\")\n",
        "print(\"Mean: \", mean_skewed)\n",
        "print(\"Median: \", median_skewed)\n",
        "print(\"Mode: \", mode_skewed)\n",
        "\n",
        "\n",
        "fig, ax= plt.subplots(1,2, figsize = (9,6))\n",
        "\n",
        "\n",
        "# Plot a histogram of the dataset using the seabron library\n",
        "sns.histplot(data, ax=ax[0])\n",
        "ax[0].axvline(x=mean, color='r', label='Mean')\n",
        "ax[0].axvline(x=median, color='g', label='Median')\n",
        "ax[0].axvline(x=mode, color='b', label='Mode')\n",
        "ax[0].legend()\n",
        "ax[0].set_title(\"Mean, Median and Mode of a normally distributed data\", fontsize=10)\n",
        "\n",
        "sns.histplot(data_skewed, ax=ax[1])\n",
        "ax[1].axvline(x=mean_skewed, color='r', label='Mean')\n",
        "ax[1].axvline(x=median_skewed, color='g', label='Median')\n",
        "ax[1].axvline(x= mode_skewed, color='b', label='Mode')\n",
        "ax[1].set_title(\"Mean, Median and Mode of skewed distribution\", fontsize=10)\n",
        "\n",
        "ax[1].legend()\n",
        "\n",
        "plt.tight_layout()"
      ],
      "metadata": {
        "colab": {
          "base_uri": "https://localhost:8080/",
          "height": 597
        },
        "id": "3i7knwzZQjsh",
        "outputId": "7edc8965-811c-4040-9a03-0801ffef35dc"
      },
      "execution_count": 3,
      "outputs": [
        {
          "output_type": "stream",
          "name": "stdout",
          "text": [
            "For the normally distributed dataset:\n",
            "Mean:  50.40276547730953\n",
            "Median:  48.89989270327049\n",
            "Mode:  50.0\n",
            "--------------------------------------------------------------------\n",
            "For the skewed dataset:\n",
            "Mean:  389273771.93103933\n",
            "Median:  268860386.53533196\n",
            "Mode:  389273772.0\n"
          ]
        },
        {
          "output_type": "display_data",
          "data": {
            "text/plain": [
              "<Figure size 648x432 with 2 Axes>"
            ],
            "image/png": "[encoded data removed]"
          },
          "metadata": {
            "needs_background": "light"
          }
        }
      ]
    },
    {
      "cell_type": "markdown",
      "source": [
        "## **Measures of dispersion**\n"
      ],
      "metadata": {
        "id": "gzM0o1dsNFF1"
      }
    },
    {
      "cell_type": "markdown",
      "source": [
        "**Range**"
      ],
      "metadata": {
        "id": "Z37yotmtNVej"
      }
    },
    {
      "cell_type": "code",
      "source": [
        "# Calculate the range\n",
        "range_min = np.min(data)\n",
        "range_max = np.max(data)\n",
        "\n",
        "# Create a line plot with the range represented by two horizontal lines\n",
        "fig, ax = plt.subplots()\n",
        "ax.plot(data)\n",
        "ax.axhline(y=range_min, color='r', label='Range')\n",
        "ax.axhline(y=range_max, color='r')\n",
        "ax.legend()\n",
        "ax.set_title(\"Range Visualization\")\n",
        "ax.set_xlabel(\"Data Point Index\")\n",
        "ax.set_ylabel(\"Data Values\")\n",
        "plt.show()\n",
        "print(f\"The minimum value is {range_min}\")\n",
        "print(f\"The maximum value is {range_max}\")\n",
        "print(f\"The range  is {range_max-range_min}\")\n"
      ],
      "metadata": {
        "id": "3EPwKPb3NO9p",
        "outputId": "15791657-8c86-4479-e68e-bb847eaa4b52",
        "colab": {
          "base_uri": "https://localhost:8080/",
          "height": 347
        }
      },
      "execution_count": 4,
      "outputs": [
        {
          "output_type": "display_data",
          "data": {
            "text/plain": [
              "<Figure size 432x288 with 1 Axes>"
            ],
            "image/png": "[encoded data removed]"
          },
          "metadata": {
            "needs_background": "light"
          }
        },
        {
          "output_type": "stream",
          "name": "stdout",
          "text": [
            "The minimum value is 31.618403135931473\n",
            "The maximum value is 79.68173964580336\n",
            "The range  is 48.06333650987189\n"
          ]
        }
      ]
    },
    {
      "cell_type": "markdown",
      "source": [
        "**Standard deviation**"
      ],
      "metadata": {
        "id": "bgzWrNVXNvDq"
      }
    },
    {
      "cell_type": "code",
      "source": [
        "# Calculate the variance and standard deviation of the dataset\n",
        "variance = np.var(data)\n",
        "std_dev = np.std(data)\n",
        "\n",
        "# Create a histogram\n",
        "plt.hist(data, bins=30, alpha=0.5)\n",
        "plt.axvline(x=np.mean(data), color='r', linestyle='--', label='Mean')\n",
        "plt.axvline(x=np.median(data), color='g', linestyle='--', label='Median')\n",
        "plt.axvline(x=np.mean(data) + std_dev, color='b', linestyle='--', label='1 Std Dev')\n",
        "plt.axvline(x=np.mean(data) - std_dev, color='b', linestyle='--')\n",
        "plt.legend()\n",
        "plt.title('Histogram of Normally Distributed Data\\nVariance = {:.2f}, Standard Deviation = {:.2f}'.format(variance, std_dev))\n",
        "plt.xlabel('Value')\n",
        "plt.ylabel('Frequency')"
      ],
      "metadata": {
        "id": "yuEp43fiNxFi",
        "outputId": "a18f6ec7-ec6f-4f5d-9cd5-2077deefc14e",
        "colab": {
          "base_uri": "https://localhost:8080/",
          "height": 327
        }
      },
      "execution_count": 5,
      "outputs": [
        {
          "output_type": "execute_result",
          "data": {
            "text/plain": [
              "Text(0, 0.5, 'Frequency')"
            ]
          },
          "metadata": {},
          "execution_count": 5
        },
        {
          "output_type": "display_data",
          "data": {
            "text/plain": [
              "<Figure size 432x288 with 1 Axes>"
            ],
            "image/png": "[encoded data removed]"
          },
          "metadata": {
            "needs_background": "light"
          }
        }
      ]
    },
    {
      "cell_type": "markdown",
      "metadata": {
        "id": "OZF79FvqiNhO"
      },
      "source": [
        "[Exploring Correlation in Python: Pandas, SciPy](https://re-thought.com/exploring-correlation-in-python/)\n",
        "\n",
        "[How to find the correlation between continuous variables and visualise it using python?](https://medium.com/geekculture/how-to-find-the-correlation-between-continuous-variables-and-visualise-it-using-python-7faf5b028ae0)"
      ]
    },
    {
      "cell_type": "markdown",
      "source": [],
      "metadata": {
        "id": "iw5KX_C0Ni1O"
      }
    }
  ]
}