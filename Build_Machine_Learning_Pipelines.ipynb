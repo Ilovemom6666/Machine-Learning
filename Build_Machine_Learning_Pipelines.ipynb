{
  "nbformat": 4,
  "nbformat_minor": 0,
  "metadata": {
    "colab": {
      "name": "Build Machine Learning Pipelines.ipynb",
      "provenance": [],
      "toc_visible": true,
      "authorship_tag": "ABX9TyOMMS3G/LeIKIVScOARv7cJ",
      "include_colab_link": true
    },
    "kernelspec": {
      "name": "python3",
      "display_name": "Python 3"
    },
    "language_info": {
      "name": "python"
    }
  },
  "cells": [
    {
      "cell_type": "markdown",
      "metadata": {
        "id": "view-in-github",
        "colab_type": "text"
      },
      "source": [
        "<a href=\"https://colab.research.google.com/github/hussain0048/Machine-Learning/blob/master/Build_Machine_Learning_Pipelines.ipynb\" target=\"_parent\"><img src=\"https://colab.research.google.com/assets/colab-badge.svg\" alt=\"Open In Colab\"/></a>"
      ]
    },
    {
      "cell_type": "markdown",
      "source": [
        "# **Import Necessary Libraries**"
      ],
      "metadata": {
        "id": "ceFopDVNcbe_"
      }
    },
    {
      "cell_type": "code",
      "execution_count": 30,
      "metadata": {
        "id": "D0n2uYOTcWW9"
      },
      "outputs": [],
      "source": [
        "import pandas as pd\n",
        "import numpy as np\n",
        "from sklearn.linear_model import LogisticRegression\n",
        "from sklearn.svm import SVC\n",
        "from sklearn.neighbors import KNeighborsClassifier\n",
        "from sklearn.tree import DecisionTreeClassifier\n",
        "from sklearn.ensemble import RandomForestClassifier\n",
        "from sklearn.pipeline import Pipeline\n",
        "from sklearn.metrics import accuracy_score\n",
        "from sklearn.model_selection import train_test_split\n",
        "from sklearn.preprocessing import StandardScaler\n",
        "from sklearn.preprocessing import MinMaxScaler\n",
        "from sklearn.preprocessing import RobustScaler\n",
        "from sklearn.decomposition import PCA"
      ]
    },
    {
      "cell_type": "markdown",
      "source": [
        "# **Dataset**"
      ],
      "metadata": {
        "id": "OkHSgdnKeGp2"
      }
    },
    {
      "cell_type": "code",
      "source": [
        "# read in the iris data\n",
        "from sklearn.datasets import load_iris\n",
        "iris = load_iris()\n",
        "\n",
        "# create X (features) and y (response)\n",
        "X = iris.data\n",
        "y = iris.target"
      ],
      "metadata": {
        "id": "bX7BZLHGeOGt"
      },
      "execution_count": 2,
      "outputs": []
    },
    {
      "cell_type": "markdown",
      "source": [
        "# **Split Dataset into Training and Testing Set**"
      ],
      "metadata": {
        "id": "6-BAJe0NeXgC"
      }
    },
    {
      "cell_type": "code",
      "source": [
        "from sklearn.model_selection import train_test_split\n",
        "from sklearn import preprocessing"
      ],
      "metadata": {
        "id": "vpl-tg3CejB1"
      },
      "execution_count": 3,
      "outputs": []
    },
    {
      "cell_type": "code",
      "source": [
        "X_train, X_test, y_train, y_test = train_test_split(X,y)"
      ],
      "metadata": {
        "id": "L5Qx_7CCenus"
      },
      "execution_count": 6,
      "outputs": []
    },
    {
      "cell_type": "markdown",
      "source": [
        "# **Machine Learning Model Pipeline**"
      ],
      "metadata": {
        "id": "2MySkg4lfvas"
      }
    },
    {
      "cell_type": "code",
      "source": [
        "from sklearn.linear_model import LogisticRegression\n",
        "# instantiate the model\n",
        "logreg = LogisticRegression(solver='liblinear')\n",
        "from sklearn.svm import SVC\n",
        "#from sklearn.neighbors import kneighborsClassifiers\n",
        "from sklearn.neighbors import KNeighborsClassifier\n",
        "from sklearn.tree import DecisionTreeClassifier\n",
        "from sklearn.ensemble import RandomForestClassifier\n",
        "from sklearn.naive_bayes import GaussianNB\n",
        "\n",
        "model_pipline =[]\n",
        "model_pipline.append(LogisticRegression (solver='liblinear'))\n",
        "model_pipline.append(SVC())\n",
        "model_pipline.append(KNeighborsClassifier())\n",
        "model_pipline.append(DecisionTreeClassifier())\n",
        "model_pipline.append(RandomForestClassifier())\n",
        "model_pipline.append(GaussianNB())"
      ],
      "metadata": {
        "id": "Q1vCuLnpgbRk"
      },
      "execution_count": 59,
      "outputs": []
    },
    {
      "cell_type": "markdown",
      "source": [
        "# **Model Evaluation**"
      ],
      "metadata": {
        "id": "WRxTh7A9sBAB"
      }
    },
    {
      "cell_type": "code",
      "source": [
        "from sklearn import metrics\n",
        "from sklearn.metrics import classification_report\n",
        "from sklearn.metrics import confusion_matrix\n",
        "from sklearn.metrics import roc_curve\n"
      ],
      "metadata": {
        "id": "esj7yOJOsSEA"
      },
      "execution_count": 60,
      "outputs": []
    },
    {
      "cell_type": "code",
      "source": [
        "model_list=['logistic Regression','SVM','KNN', 'DT', 'RF','NB']\n",
        "acc_list = []\n",
        "auc_list = []\n",
        "cm_list = []"
      ],
      "metadata": {
        "id": "i62eDHaCs67P"
      },
      "execution_count": 65,
      "outputs": []
    },
    {
      "cell_type": "code",
      "source": [
        "for model in model_pipline:\n",
        "  model.fit(X_train,y_train)\n",
        "  y_pred = model.predict(X_test)\n",
        "  acc_list.append(metrics.accuracy_score(y_test, y_pred))\n",
        "  #fpr, tpr, _thresholds = metrics.roc_curve(y_test, y_pred)\n",
        "  fpr, tpr, _thresholds = roc_curve(y_test, y_pred, pos_label=1)\n",
        "  auc_list.append (round(metrics.auc(fpr, tpr),2))\n",
        "  cm_list.append(confusion_matrix(y_test, y_pred))"
      ],
      "metadata": {
        "id": "iefHX_4Lt7y9"
      },
      "execution_count": 66,
      "outputs": []
    },
    {
      "cell_type": "markdown",
      "source": [
        "**Confusion matrix**"
      ],
      "metadata": {
        "id": "YQyzrTtmM3YN"
      }
    },
    {
      "cell_type": "code",
      "source": [
        "import matplotlib.pyplot as plt\n",
        "import seaborn as sns \n",
        "fig = plt.figure (figsize = (18,10))\n",
        "for i in range(len(cm_list)):\n",
        "  cm = cm_list[i]\n",
        "  model = model_list[i]\n",
        "  sub = fig.add_subplot(2, 3, i+1).set_title(model)\n",
        "  cm_plot = sns.heatmap(cm, annot= True, cmap ='Blues_r')\n",
        "  cm_plot.set_xlabel('predicted Values')\n",
        "  #cm_plot.set_ylablel('Actual Values')\n",
        "  cm_plot.set_ylabel('Actual Values')"
      ],
      "metadata": {
        "colab": {
          "base_uri": "https://localhost:8080/",
          "height": 641
        },
        "id": "YTxbYDIZKixG",
        "outputId": "1bccf351-1943-4377-8c9c-2dfb2cb63cbd"
      },
      "execution_count": 76,
      "outputs": [
        {
          "output_type": "display_data",
          "data": {
            "text/plain": [
              "<Figure size 1296x720 with 12 Axes>"
            ],
            "image/png": "[encoded data removed]"
          },
          "metadata": {
            "needs_background": "light"
          }
        }
      ]
    },
    {
      "cell_type": "markdown",
      "source": [
        "**Accuracy**"
      ],
      "metadata": {
        "id": "R6Jh5jAuM8Bo"
      }
    },
    {
      "cell_type": "code",
      "source": [
        "#result_df= pd.DataFrame({'Model':model_list, 'Accuracy': acc_list, 'AUC': auc_list})\n",
        "result_df =pd.DataFrame({'Model':model_list, 'Accuracy': acc_list,'AUC': auc_list })\n",
        "result_df"
      ],
      "metadata": {
        "id": "zgdCSTfwx2IE"
      },
      "execution_count": null,
      "outputs": []
    },
    {
      "cell_type": "markdown",
      "source": [
        "# **References**"
      ],
      "metadata": {
        "id": "0d0iphaCNHyx"
      }
    },
    {
      "cell_type": "markdown",
      "source": [
        "[1-Top 6 Machine Learning Algorithms for Classification](https://towardsdatascience.com/top-machine-learning-algorithms-for-classification-2197870ff501)"
      ],
      "metadata": {
        "id": "MFvhgmpmNL-q"
      }
    }
  ]
}