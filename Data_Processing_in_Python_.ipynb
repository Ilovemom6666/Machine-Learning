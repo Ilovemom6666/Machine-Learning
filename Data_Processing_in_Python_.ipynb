{
  "nbformat": 4,
  "nbformat_minor": 0,
  "metadata": {
    "colab": {
      "name": "Data Processing in Python .ipynb",
      "provenance": [],
      "toc_visible": true,
      "include_colab_link": true
    },
    "kernelspec": {
      "name": "python3",
      "display_name": "Python 3"
    },
    "language_info": {
      "name": "python"
    }
  },
  "cells": [
    {
      "cell_type": "markdown",
      "metadata": {
        "id": "view-in-github",
        "colab_type": "text"
      },
      "source": [
        "<a href=\"https://colab.research.google.com/github/hussain0048/Machine-Learning/blob/master/Data_Processing_in_Python_.ipynb\" target=\"_parent\"><img src=\"https://colab.research.google.com/assets/colab-badge.svg\" alt=\"Open In Colab\"/></a>"
      ]
    },
    {
      "cell_type": "markdown",
      "metadata": {
        "id": "YX1XA2lOe_hC"
      },
      "source": [
        "# **Table Content**"
      ]
    },
    {
      "cell_type": "markdown",
      "metadata": {
        "id": "iRvGGuOwfGui"
      },
      "source": [
        "\n",
        "<div class=\"alert alert-block alert-info\" style=\"margin-top: 20px\">\n",
        "    <ol>\n",
        "        <li><a href=\"https:\">Introduction</a></li>\n",
        "        <li><a href=\"https:\">Import Library</a></li>\n",
        "        <li><a href=\"https:\">Dataset</a></li>\n",
        "        <li><a href=\"#downloading_data\">Data Loading</a></li>\n",
        "        <li><a href=\"#downloading_data\">Python Usfull Library</a></li>\n",
        "        <li><a href=\"#pre-processing\">Dropping feature</a></li>\n",
        "         <li><a href=\"#pre-processing\">Convert target variable into binary Form</a></li>\n",
        "        <li><a href=\"#setting_up_tree\">Data Imbalanced problem </a></li>\n",
        "        <li><a href=\"#modeling\">Missing Values</a></li>\n",
        "         <li><a href=\"#modeling\">Inconsistent data/Irrelevant features</a></li>\n",
        "        <li><a href=\"#prediction\">Hot Encoding</a></li>\n",
        "        <li><a href=\"#prediction\">Feature Scaling</a></li>\n",
        "        <li><a href=\"#evaluation\">Outlier Detection</a></li>\n",
        "    </ol>\n",
        "</div>\n",
        "<br>\n",
        "<hr>\n"
      ]
    },
    {
      "cell_type": "markdown",
      "metadata": {
        "id": "4ssGUNVwEhKt"
      },
      "source": [
        "# **Data Collection**"
      ]
    },
    {
      "cell_type": "markdown",
      "metadata": {
        "id": "03SJEJN_EsD8"
      },
      "source": [
        "Data Collection is the first step in the project of the data science life cycle. It is one of the most important things in the life cycle. The data can be taken from various places likes the internet, company data, database, and many more…"
      ]
    },
    {
      "cell_type": "markdown",
      "metadata": {
        "id": "EWkj57LrEtuT"
      },
      "source": [
        "![](https://drive.google.com/uc?export=view&id=1kCl_cjl1lzyMJ96MXBuz0EppQ9gClTM7)"
      ]
    },
    {
      "cell_type": "markdown",
      "metadata": {
        "id": "s1xpAC0Sf0EQ"
      },
      "source": [
        "# **Introduction** "
      ]
    },
    {
      "cell_type": "markdown",
      "metadata": {
        "id": "o2tTizNTf7o3"
      },
      "source": [
        "Data preprocessing is an integral step in Machine Learning as the quality of data and the useful information that can be derived from it directly affects the ability of our model to learn; therefore, it is extremely important that we preprocess our data before feeding it into our model."
      ]
    },
    {
      "cell_type": "markdown",
      "metadata": {
        "id": "NLYwzxRyFsra"
      },
      "source": [
        "![](https://drive.google.com/uc?export=view&id=1BmbAhW7JFubwX4r8lNIYQ700VD0VPa8h)"
      ]
    },
    {
      "cell_type": "markdown",
      "metadata": {
        "id": "1U89AHcd7zu1"
      },
      "source": [
        "# **Import libaray**"
      ]
    },
    {
      "cell_type": "code",
      "metadata": {
        "id": "-le5SNQq78rk"
      },
      "source": [
        "import numpy as np \n",
        "import pandas as pd \n",
        "import seaborn as sns \n",
        "import matplotlib.pyplot as plt\n",
        "from prettytable import PrettyTable\n",
        "from sklearn.metrics import roc_curve, auc\n",
        "from mlxtend.plotting import plot_confusion_matrix \n",
        "from sklearn.model_selection import train_test_split\n",
        "from sklearn.metrics import classification_report, confusion_matrix\n",
        "from sklearn.tree import DecisionTreeClassifier\n",
        "from sklearn.ensemble import RandomForestClassifier\n",
        "from sklearn.svm import LinearSVC\n",
        "from sklearn.linear_model import LogisticRegression\n",
        "from sklearn.neighbors import KNeighborsClassifier\n",
        "import warnings\n",
        "warnings.filterwarnings(\"ignore\")"
      ],
      "execution_count": 1,
      "outputs": []
    },
    {
      "cell_type": "markdown",
      "metadata": {
        "id": "GzD5U0xTyspT"
      },
      "source": [
        "# **Data Sets**\n",
        "\n",
        "I am going to show you how there are data sets that are already included in a Python package. Not only that, but I am also going to show you how to find them, what they entail, and what kind of project they would be great for."
      ]
    },
    {
      "cell_type": "markdown",
      "metadata": {
        "id": "31G9-jMPfiLF"
      },
      "source": [
        "## **Generate random dummy data**[11]\n",
        "\n",
        "To generate random ‘dummy’ data, we can make use of the make_classification() function in case of classification data, and make_regression() function in case of regression data. This is very useful in some cases when debugging or when you want to try out certain things on a (small) random data set.\n",
        "\n",
        "Below, we generate 10 classification data points consisting of 4 features (found in X) and a class label (found in y), where the data points belong to either the negative class (0) or the positive class (1):"
      ]
    },
    {
      "cell_type": "code",
      "metadata": {
        "id": "r8BK8iaXgGAq"
      },
      "source": [
        "from sklearn.datasets import make_classification\n",
        "import pandas as pd\n",
        "X, y = make_classification(n_samples=10, n_features=4, n_classes=2, random_state=123)"
      ],
      "execution_count": null,
      "outputs": []
    },
    {
      "cell_type": "markdown",
      "metadata": {
        "id": "YVtKt8R7gUVA"
      },
      "source": [
        "Here, X consists of the 4 feature columns for the generated data points:"
      ]
    },
    {
      "cell_type": "code",
      "metadata": {
        "id": "IZKahrPIgYcw"
      },
      "source": [
        "pd.DataFrame(X, columns=['Feature_1', 'Feature_2', 'Feature_3', 'Feature_4'])"
      ],
      "execution_count": null,
      "outputs": []
    },
    {
      "cell_type": "code",
      "metadata": {
        "id": "OuLSRT-ZgcU3"
      },
      "source": [
        "#And y contains the corresponding label of each data point:\n",
        "pd.DataFrame(y, columns=['Label'])\n"
      ],
      "execution_count": null,
      "outputs": []
    },
    {
      "cell_type": "markdown",
      "metadata": {
        "id": "zULD0DFiy6Qq"
      },
      "source": [
        "### **Faker [10]**"
      ]
    },
    {
      "cell_type": "markdown",
      "metadata": {
        "id": "4iMy4XnjzCgZ"
      },
      "source": [
        "We might come across a situation where we need to generate some test data or use some dummy data in our analysis. One way to get dummy data is by using the Faker library. This will generate fake data for you very quickly when you need to."
      ]
    },
    {
      "cell_type": "markdown",
      "source": [
        "Faker is a fantastic package to generate fake random data. Each time you use the faker library generator, it will result in different random data. There are numerous exciting methods like fake text, fake credit card numbers. The complete documentation of this faker library and its uses is at this link [21]"
      ],
      "metadata": {
        "id": "Gw9iwdMJ2BWy"
      }
    },
    {
      "cell_type": "markdown",
      "metadata": {
        "id": "A2yv_EKjzJQp"
      },
      "source": [
        "**Installation**\n"
      ]
    },
    {
      "cell_type": "code",
      "metadata": {
        "id": "9hNDEcTPzQba"
      },
      "source": [
        "!pip install faker\n"
      ],
      "execution_count": null,
      "outputs": []
    },
    {
      "cell_type": "markdown",
      "metadata": {
        "id": "KVDOrl66zcRa"
      },
      "source": [
        "**Example**"
      ]
    },
    {
      "cell_type": "code",
      "metadata": {
        "id": "t8CbJXJLzx32"
      },
      "source": [
        "from faker import Faker\n",
        "fake = Faker()"
      ],
      "execution_count": null,
      "outputs": []
    },
    {
      "cell_type": "code",
      "metadata": {
        "id": "DXKpmmCRzeJl"
      },
      "source": [
        "# Generating fake email\n",
        "print (fake.email()) \n",
        "# Generating fake country name\n",
        "print(fake.country()) \n",
        "# Generating fake name\n",
        "print(fake.name()) \n",
        "# Generating fake text\n",
        "print(fake.text()) \n",
        "# Generating fake lat and lon\n",
        "print(fake.latitude(), fake.longitude())\n",
        "# Generating fake url\n",
        "print(fake.url()) \n",
        "# Generating fake profile\n",
        "print(fake.profile())\n",
        "# Generating random number\n",
        "print(fake.random_number())"
      ],
      "execution_count": null,
      "outputs": []
    },
    {
      "cell_type": "code",
      "source": [
        "from faker import Faker\n",
        "fake = Faker()\n",
        "\n",
        "print(fake.profile())\n",
        "print(fake.credit_card_number())"
      ],
      "metadata": {
        "id": "spKNYfPH2TKx"
      },
      "execution_count": null,
      "outputs": []
    },
    {
      "cell_type": "markdown",
      "metadata": {
        "id": "dk60DEvnkCx7"
      },
      "source": [
        "### **Wine Dataset**"
      ]
    },
    {
      "cell_type": "code",
      "metadata": {
        "id": "WUyfFpqkkNfo"
      },
      "source": [
        "from sklearn.datasets import load_wine\n",
        "\n",
        "wine = load_wine()\n",
        "\n",
        "for line in wine.DESCR.split(\"\\n\")[5:29]:\n",
        "    print(line)\n",
        "\n",
        "wine_df = pd.DataFrame(data=wine.data, columns = wine.feature_names)\n",
        "wine_df[\"WineType\"] = wine.target\n",
        "\n",
        "wine_df.head()"
      ],
      "execution_count": null,
      "outputs": []
    },
    {
      "cell_type": "markdown",
      "metadata": {
        "id": "8aHRZSAtkYtR"
      },
      "source": [
        "### **Breast Cancer Dataset**"
      ]
    },
    {
      "cell_type": "code",
      "metadata": {
        "id": "NQicqZsBkdps"
      },
      "source": [
        "from sklearn.datasets import load_breast_cancer\n",
        "\n",
        "breast_cancer = load_breast_cancer()\n",
        "\n",
        "for line in breast_cancer.DESCR.split(\"\\n\")[5:31]:\n",
        "    print(line)\n",
        "\n",
        "breast_cancer_df = pd.DataFrame(data=breast_cancer.data, columns = breast_cancer.feature_names)\n",
        "breast_cancer_df[\"TumorType\"] = breast_cancer.target\n",
        "\n",
        "breast_cancer_df.head()"
      ],
      "execution_count": null,
      "outputs": []
    },
    {
      "cell_type": "markdown",
      "metadata": {
        "id": "EdjrebzJkkft"
      },
      "source": [
        "### **Boston Housing Dataset**"
      ]
    },
    {
      "cell_type": "code",
      "metadata": {
        "id": "lDIDJeqhkv1w"
      },
      "source": [
        "from sklearn.datasets import load_boston\n",
        "\n",
        "boston = load_boston()\n",
        "\n",
        "for line in boston.DESCR.split(\"\\n\")[5:29]:\n",
        "    print(line)\n",
        "\n",
        "boston_df = pd.DataFrame(data=boston.data, columns = boston.feature_names)\n",
        "boston_df[\"Price\"] = boston.target\n",
        "\n",
        "boston_df.head()"
      ],
      "execution_count": null,
      "outputs": []
    },
    {
      "cell_type": "markdown",
      "metadata": {
        "id": "sOLVCtlQ-A5H"
      },
      "source": [
        "### **Seaborn Datasets**[16]"
      ]
    },
    {
      "cell_type": "code",
      "metadata": {
        "id": "MOWnQ7d7-GzP"
      },
      "source": [
        "#Importing the modules\n",
        "import pandas as pd\n",
        "import seaborn as sns\n",
        "#Loading the dataset\n",
        "planets = sns.load_dataset('planets')\n",
        "#Showing 10 first row in the planets data\n",
        "planets.head()"
      ],
      "execution_count": null,
      "outputs": []
    },
    {
      "cell_type": "code",
      "source": [
        "# we need to import the seaborn package first\n",
        "import seaborn as sb\n",
        "\n",
        "# import pandas for data frame\n",
        "import pandas as pd\n",
        "\n",
        "# using seaborn, we can return a list of the data set names\n",
        "sb.get_dataset_names()"
      ],
      "metadata": {
        "id": "3tWcn3Rnnv2C"
      },
      "execution_count": null,
      "outputs": []
    },
    {
      "cell_type": "code",
      "source": [
        "# we can load the dataset directly onto a data frame\n",
        "df = sb.load_dataset('anscombe')\n",
        "\n",
        "# look at a portion to see what we are working with\n",
        "df.head()"
      ],
      "metadata": {
        "id": "HuAepZ5Qn4aB"
      },
      "execution_count": null,
      "outputs": []
    },
    {
      "cell_type": "markdown",
      "source": [
        "#### **Dataset Details**[16]"
      ],
      "metadata": {
        "id": "vGdGqC4AKWtF"
      }
    },
    {
      "cell_type": "markdown",
      "source": [
        "**1. Anscombe**\n",
        "\n",
        "Anscombe’s quartet is comprised of four data sets that have nearly identical simple descriptive statistics — meaning that they all have eleven points and their averages and variance are all very similar. But they all have very different distributions and appear very different when graphed. They were constructed in 1973 by the statistician Francis Anscombe to demonstrate both the importance of graphing data before analyzing it and the effect of outliers and other influential observations on statistical properties. Both of these are important ideas to a good data scientist.\n",
        "\n",
        "The trend lines show a striking contrast to their points. Pay close attention to how their observations form unique patterns but the trend lines are all similar.Suggested Projects\n",
        "We can do a few things here:\n",
        "- Clustering — build an algorithm that can detect patterns in the data and see if there is any similarity between points in datasets I, II, III, and IV.\n",
        "- Logistic Regression — try and predict which point belongs to which data set\n",
        "- Linear Regression — try and predict the missing value of x or y"
      ],
      "metadata": {
        "id": "NkUHaNG8IPxT"
      }
    },
    {
      "cell_type": "markdown",
      "source": [
        "**2. Attention**\n",
        "\n",
        "This data set is built upon test takers, whether they were focused, and what score they received. The data set looks like this:"
      ],
      "metadata": {
        "id": "4xWDaB1GI3hC"
      }
    },
    {
      "cell_type": "markdown",
      "source": [
        "**Suggested Projects:**\n",
        "\n",
        "Logistic Regression — we can try and predict whether the target variable is ‘focused’ or ‘distracted.’"
      ],
      "metadata": {
        "id": "1tDdH6cxI-h-"
      }
    },
    {
      "cell_type": "markdown",
      "source": [
        "**3. Car Crashes**\n",
        "\n",
        "This data set is divided into different states in the U.S. Each state has the following features:\n",
        "As you can see, the data set is flush with continuous variables. Ignoring the ‘abbrev’ feature which just tells us the state, we can use this data set to predict almost any feature."
      ],
      "metadata": {
        "id": "5UiJnEcUJE0v"
      }
    },
    {
      "cell_type": "markdown",
      "source": [
        "**Suggested Projects:**\n",
        "\n",
        "- Multivariate Linear Regression — using the combination of features you can try to build a model that will predict any of the features.\n",
        "- Clustering — grouping states together based on the features. An interesting analysis idea would be to look at the clusters to try and determine group models using outside research (ie. traffic laws)."
      ],
      "metadata": {
        "id": "a_229sWDJOAR"
      }
    },
    {
      "cell_type": "markdown",
      "source": [
        "**4. Diamonds**\n",
        "\n",
        "Let’s take a look at the data set below:\n",
        "n this data set, each observation is a unique diamond. Features include carat, color, cut, clarity, and dimensions (x,y,z). This is a well-known beginner data set that can be used in a variety of projects."
      ],
      "metadata": {
        "id": "rzYBuzFeJZ95"
      }
    },
    {
      "cell_type": "markdown",
      "source": [
        "**Suggested Projects:**\n",
        "\n",
        "- Multivariate Linear Regression — there are a lot of continuous variables that could be predicted\n",
        "- Multivariate Logistic Regression — try to predict either color, cut, or clarity using the other features\n",
        "- Clustering — analyze clusters that come up and determine shared characteristics (ie. overpriced, fairly priced, etc)"
      ],
      "metadata": {
        "id": "RCRuJQ6UJngr"
      }
    },
    {
      "cell_type": "markdown",
      "source": [
        "**5. Flights**\n",
        "\n",
        "This data set is the first we are going to talk about that is time-related. It looks like this:It is the monthly passenger amount from January 1949 to December 1960. With some data wrangling, you can get year and month features to combine leaving you with a nice time step."
      ],
      "metadata": {
        "id": "_W8CTfRXJwue"
      }
    },
    {
      "cell_type": "markdown",
      "source": [
        "**Suggested Projects:**\n",
        "\n",
        "Time Series — using the data, you can set out to predict the passenger at the later end of the time frame.\n",
        "Be careful, there is a cyclical nature to this data set."
      ],
      "metadata": {
        "id": "VundnVKYKFo4"
      }
    },
    {
      "cell_type": "markdown",
      "source": [
        "**6. Iris**\n",
        "\n",
        "The Iris data set is another fundamental data set that most of us in data science have worked with in one way or another. It contains sepal and petal dimensions for four types of iris flowers."
      ],
      "metadata": {
        "id": "1wqNHYMHKQs0"
      }
    },
    {
      "cell_type": "markdown",
      "source": [
        "**Suggested Projects:**\n",
        "\n",
        "Multivariate Logistic Regression — using the dimensions above, you can try and predict the species of flower.\n",
        "Clustering — using the features, aside from species, you can try and create clusters and analyze them for patterns"
      ],
      "metadata": {
        "id": "5flERgpEKl9q"
      }
    },
    {
      "cell_type": "markdown",
      "source": [
        "**7. MPG**\n",
        "\n",
        "The MPG data set is a data frame full of cars with features and names attached. As you can see below, there is a mixture of variables that can be used for regression style models."
      ],
      "metadata": {
        "id": "VWAyIR1ZKwXS"
      }
    },
    {
      "cell_type": "markdown",
      "source": [
        "**Suggested Projects:**\n",
        "\n",
        "- Multivariate Linear Regression — trying to predict weight or displacement could be a worthwhile goal\n",
        "- Multivariate Logistic Regression — the non-continuous variables include origin and model year\n",
        "- Clustering — ignoring the name column, you can cluster them to determine which observations are the most similar. This would mean outside research."
      ],
      "metadata": {
        "id": "hZheMH2RKy76"
      }
    },
    {
      "cell_type": "markdown",
      "source": [
        "**8. Planets**\n",
        "\n",
        "The ‘planets’ data set is interesting if you are a fan of astronomy. It has a series of observations which are all exoplanets. Take a quick look at the data set itself:"
      ],
      "metadata": {
        "id": "Tug0JSegLAx-"
      }
    },
    {
      "cell_type": "markdown",
      "source": [
        "As you can see there a number of features, not all of which are easy to understand. So let’s talk about the most important features for a second.\n",
        "- method — this reflects how the planet was detected. Be careful, there is a large class imbalance here.\n",
        "- orbital period — how long it takes to complete one cycle of rotation around its center. Note: some are so far away from a star that it is unclear where the orbit begins, thus the NaN\n",
        "- mass — relative weight of the exoplanet\n",
        "- distance — light-years from Earth. If you are unfamiliar, a light-year is a distance that it takes light a year to travel. Since light is the fastest thing we know, this is a large distance."
      ],
      "metadata": {
        "id": "eFTkqUsCLDfi"
      }
    },
    {
      "cell_type": "markdown",
      "source": [
        "**Suggested Projects:**\n",
        "\n",
        "- Logistic Regression — you can try and predict the method of detection using the other variables. Note: large class imbalance here\n",
        "Clustering — you can do a deep dive and find patterns among the exoplanets. Use different techniques like PCA to help account for variance.\n",
        "- Linear Regression — you can determine whether there is a linear relationship between any of the variables and the mass of the exoplanet."
      ],
      "metadata": {
        "id": "h89sbHhlLU0G"
      }
    },
    {
      "cell_type": "markdown",
      "source": [
        "**9. Titanic**\n",
        "\n",
        "This data set is the most well-known and used in my honest opinion — even the subject of an ongoing Kaggle competition. In this data set, you get a manifest of the passenger vessel that sank due to the infamous iceberg on its way from Ireland to New York City."
      ],
      "metadata": {
        "id": "iERx3m5-L5XJ"
      }
    },
    {
      "cell_type": "markdown",
      "source": [
        "There are many features here — whether they traveled alone, what passenger class they were in, gender, and even if they had siblings — but I will only recommend one as the target variable for tradition's sake. The survived class records whether they survived or not. It is interesting to think about the final product telling you which coefficients were most important for predicting if a person lived or died.\n",
        "- Logistic Regression — looking at the ‘survived’ column, you can build a model to predict which passenger will survive and which will not.\n",
        "This will be a fun project and if you can master it, submit it to the Kaggle competition."
      ],
      "metadata": {
        "id": "C3FHTVMCL-MY"
      }
    },
    {
      "cell_type": "markdown",
      "metadata": {
        "id": "G2WuuWtcgNG4"
      },
      "source": [
        "# **Data Loading**"
      ]
    },
    {
      "cell_type": "markdown",
      "metadata": {
        "id": "Biql2sZngvIB"
      },
      "source": [
        "## **2.1 Data Loading from Google Drive**"
      ]
    },
    {
      "cell_type": "code",
      "metadata": {
        "colab": {
          "base_uri": "https://localhost:8080/"
        },
        "id": "Gwp1rpowgTKQ",
        "outputId": "1e2d5894-8248-45d7-f8c3-41ddf499fb36"
      },
      "source": [
        "from google.colab import drive\n",
        "drive.mount('/content/drive')"
      ],
      "execution_count": 2,
      "outputs": [
        {
          "output_type": "stream",
          "name": "stdout",
          "text": [
            "Mounted at /content/drive\n"
          ]
        }
      ]
    },
    {
      "cell_type": "code",
      "metadata": {
        "id": "3RoIsrRghTBm"
      },
      "source": [
        "import pandas as pd \n",
        "Train_data = pd.read_csv('/content/drive/MyDrive/Datasets/Water Brone diesease/Malyria_2-21-2021.csv',encoding = 'latin')"
      ],
      "execution_count": 3,
      "outputs": []
    },
    {
      "cell_type": "code",
      "metadata": {
        "id": "9hwlf9uUhdzP"
      },
      "source": [
        "Train_data"
      ],
      "execution_count": null,
      "outputs": []
    },
    {
      "cell_type": "markdown",
      "source": [
        "## **Data loading From Github**"
      ],
      "metadata": {
        "id": "veBKTm_lIp7a"
      }
    },
    {
      "cell_type": "code",
      "source": [
        "!rm markets.csv\n",
        "!wget https://raw.githubusercontent.com/shadgriffin/ml_bias/main/markets.csv\n",
        "    \n",
        "df = pd.read_csv(\"markets.csv\", sep=\",\", header=0)"
      ],
      "metadata": {
        "id": "yt5sXwmPIxAH"
      },
      "execution_count": null,
      "outputs": []
    },
    {
      "cell_type": "markdown",
      "metadata": {
        "id": "NgGpVwLIuwx9"
      },
      "source": [
        "# **Python Usufull library**[10] "
      ]
    },
    {
      "cell_type": "markdown",
      "metadata": {
        "id": "gpoRvASfvnt8"
      },
      "source": [
        "## **Numerizer**\n",
        "\n",
        "Amazing library to convert text numerics into int and float. Useful library for NLP projects. For more details, please check PyPI and this github repo."
      ]
    },
    {
      "cell_type": "code",
      "metadata": {
        "id": "yY9DuivVvvKt"
      },
      "source": [
        "!pip install numerizer\n"
      ],
      "execution_count": null,
      "outputs": []
    },
    {
      "cell_type": "markdown",
      "metadata": {
        "id": "9wD_hPsEv2Xe"
      },
      "source": [
        "**Example**"
      ]
    },
    {
      "cell_type": "code",
      "metadata": {
        "id": "yf7tknpKv1YV"
      },
      "source": [
        "#importing numerize library\n",
        "from numerizer import numerize \n",
        "from numerizer import numerize\n",
        "#examples\n",
        "a = int(numerize('Three')) \n",
        "print(a) \n",
        "print(numerize('five thousand two hundred and twenty')) \n"
      ],
      "execution_count": null,
      "outputs": []
    },
    {
      "cell_type": "markdown",
      "metadata": {
        "id": "UhofRji70CQr"
      },
      "source": [
        "## **EMOT [10]**"
      ]
    },
    {
      "cell_type": "markdown",
      "metadata": {
        "id": "UBckIXJS0IoD"
      },
      "source": [
        "Collecting and analyzing data on emojis as well as emoticons give useful insights, especially in sentiment analysis. An emoji is an image small enough to insert into text that expresses an emotion or idea. An emoticon is a representation of a human facial expression using only keyboard characters such as letters, numbers, and punctuation marks.\n",
        "emot helped us to convert the emojis and emoticons into words. For more details on this library, please check this Github repo. It has a good collection of emoticons and emojis with the corresponding words."
      ]
    },
    {
      "cell_type": "code",
      "metadata": {
        "id": "3Pf_yaWw0YLp"
      },
      "source": [
        "!pip install emot\n"
      ],
      "execution_count": null,
      "outputs": []
    },
    {
      "cell_type": "code",
      "metadata": {
        "id": "LDquWCWZ0bUi"
      },
      "source": [
        "#Importing libraries\n",
        "import re\n",
        "from emot.emo_unicode import UNICODE_EMO, EMOTICONS\n",
        "# Function for converting emojis into word\n",
        "def convert_emojis(text):\n",
        "    for emot in UNICODE_EMO:\n",
        "        text = text.replace(emot, \"_\".join(UNICODE_EMO[emot].replace(\",\",\"\").replace(\":\",\"\").split()))\n",
        "    return text\n",
        "# Example\n",
        "text1 = \"Hilarious 😂. The feeling of making a sale 😎, The feeling of actually fulfilling orders 😒\"\n",
        "convert_emojis(text1)"
      ],
      "execution_count": null,
      "outputs": []
    },
    {
      "cell_type": "code",
      "metadata": {
        "id": "kBt3kxpC0lAz"
      },
      "source": [
        "# Function for converting emoticons into word\n",
        "def convert_emoticons(text):\n",
        "    for emot in EMOTICONS:\n",
        "        text = re.sub(u'('+emot+')', \"_\".join(EMOTICONS[emot].replace(\",\",\"\").split()), text)\n",
        "    return text# Example\n",
        "text = \"Hello :-) :-)\"\n",
        "convert_emoticons(text)"
      ],
      "execution_count": null,
      "outputs": []
    },
    {
      "cell_type": "markdown",
      "source": [
        "## **Pretty-Table**"
      ],
      "metadata": {
        "id": "lyfWTFY41cii"
      }
    },
    {
      "cell_type": "markdown",
      "source": [
        "The prettytable library is used to represent data in a relational table. With prettytable other operations on the tabular data can be performed like adding or deleting a row, alignment of columns, and clearing all the data in the table [21]"
      ],
      "metadata": {
        "id": "XuN9VSQ81kia"
      }
    },
    {
      "cell_type": "code",
      "source": [
        "python -m pip install -U prettytable"
      ],
      "metadata": {
        "id": "AKMDCG0U1wRx"
      },
      "execution_count": null,
      "outputs": []
    },
    {
      "cell_type": "code",
      "source": [
        "from prettytable import PrettyTable\n",
        "table = PrettyTable()\n",
        "\n",
        "table.field_names = [\"Month\",\"Earning\"]\n",
        "table.add_rows(\n",
        "    [\n",
        "        [\"JANUARY\",1020],\n",
        "        [\"FEBRUARY\", 1233],\n",
        "        [\"MARCH\", 1892],\n",
        "        [\"APRIL\", 1500]\n",
        "    ]\n",
        ")\n",
        "print(table)         "
      ],
      "metadata": {
        "id": "eL77_T-q15Hq"
      },
      "execution_count": null,
      "outputs": []
    },
    {
      "cell_type": "markdown",
      "source": [
        "## **Barcode**"
      ],
      "metadata": {
        "id": "vsQy87Y52li3"
      }
    },
    {
      "cell_type": "markdown",
      "source": [
        "Accessible and yet powerful library in Python to create the barcode. We are using this library, a barcode in .png format. In the program, we have used European Article Number(EAN) 13 number barcode image. You can try to use different methods present in the barcode library [21]"
      ],
      "metadata": {
        "id": "0tT6E6VV2vAY"
      }
    },
    {
      "cell_type": "code",
      "source": [
        "!pip install python-barcode"
      ],
      "metadata": {
        "id": "JHf7NBGo20BA",
        "outputId": "5b8cc154-aef6-4d3c-a69c-fe6a61f9365b",
        "colab": {
          "base_uri": "https://localhost:8080/"
        }
      },
      "execution_count": 10,
      "outputs": [
        {
          "output_type": "stream",
          "name": "stdout",
          "text": [
            "Collecting python-barcode\n",
            "  Downloading python_barcode-0.13.1-py3-none-any.whl (217 kB)\n",
            "\u001b[?25l\r\u001b[K     |█▌                              | 10 kB 23.4 MB/s eta 0:00:01\r\u001b[K     |███                             | 20 kB 15.3 MB/s eta 0:00:01\r\u001b[K     |████▌                           | 30 kB 10.7 MB/s eta 0:00:01\r\u001b[K     |██████                          | 40 kB 9.4 MB/s eta 0:00:01\r\u001b[K     |███████▌                        | 51 kB 9.3 MB/s eta 0:00:01\r\u001b[K     |█████████                       | 61 kB 9.9 MB/s eta 0:00:01\r\u001b[K     |██████████▋                     | 71 kB 8.8 MB/s eta 0:00:01\r\u001b[K     |████████████                    | 81 kB 9.8 MB/s eta 0:00:01\r\u001b[K     |█████████████▋                  | 92 kB 10.1 MB/s eta 0:00:01\r\u001b[K     |███████████████                 | 102 kB 10.2 MB/s eta 0:00:01\r\u001b[K     |████████████████▋               | 112 kB 10.2 MB/s eta 0:00:01\r\u001b[K     |██████████████████              | 122 kB 10.2 MB/s eta 0:00:01\r\u001b[K     |███████████████████▋            | 133 kB 10.2 MB/s eta 0:00:01\r\u001b[K     |█████████████████████▏          | 143 kB 10.2 MB/s eta 0:00:01\r\u001b[K     |██████████████████████▋         | 153 kB 10.2 MB/s eta 0:00:01\r\u001b[K     |████████████████████████▏       | 163 kB 10.2 MB/s eta 0:00:01\r\u001b[K     |█████████████████████████▋      | 174 kB 10.2 MB/s eta 0:00:01\r\u001b[K     |███████████████████████████▏    | 184 kB 10.2 MB/s eta 0:00:01\r\u001b[K     |████████████████████████████▋   | 194 kB 10.2 MB/s eta 0:00:01\r\u001b[K     |██████████████████████████████▏ | 204 kB 10.2 MB/s eta 0:00:01\r\u001b[K     |███████████████████████████████▊| 215 kB 10.2 MB/s eta 0:00:01\r\u001b[K     |████████████████████████████████| 217 kB 10.2 MB/s \n",
            "\u001b[?25hInstalling collected packages: python-barcode\n",
            "Successfully installed python-barcode-0.13.1\n"
          ]
        }
      ]
    },
    {
      "cell_type": "code",
      "source": [
        "from barcode import EAN13\n",
        "from barcode.writer import ImageWriter\n",
        "\n",
        "number='123456789123'\n",
        "mycode=EAN13(number, writer=ImageWriter())\n",
        "mycode.save('new') "
      ],
      "metadata": {
        "id": "OA3KTNLZ27rA",
        "outputId": "dd4f84bf-5057-4924-9ae1-db243562ae34",
        "colab": {
          "base_uri": "https://localhost:8080/",
          "height": 35
        }
      },
      "execution_count": 11,
      "outputs": [
        {
          "output_type": "execute_result",
          "data": {
            "application/vnd.google.colaboratory.intrinsic+json": {
              "type": "string"
            },
            "text/plain": [
              "'new.png'"
            ]
          },
          "metadata": {},
          "execution_count": 11
        }
      ]
    },
    {
      "cell_type": "markdown",
      "metadata": {
        "id": "SbnAH9rKhntf"
      },
      "source": [
        "# **Dropping feature**\n",
        "\n",
        "Dropping feature usually isn’t recommended because you’re losing information. But if you’re sure that the column isn’t important, or simply has too many missing values, you can choose to drop them. For example, for this dataset, the host_name column was removed for ethical reasons, and id was removed because it was was unnecessary.\n",
        "To drop features, use drop and set axis to 1 and inplace to true. Axis is 1 because we want to drop columns (0 means row), and inplace is True because you're transforming it directly on your dataset."
      ]
    },
    {
      "cell_type": "markdown",
      "metadata": {
        "id": "sfufIU6Ph4DJ"
      },
      "source": [
        "## **3.1 Drop Index Columns**"
      ]
    },
    {
      "cell_type": "code",
      "metadata": {
        "id": "qRMwPJugh_cV"
      },
      "source": [
        "Train_data=Train_data.reset_index()\n",
        "Train_data=Train_data.drop(columns=['index'])"
      ],
      "execution_count": 5,
      "outputs": []
    },
    {
      "cell_type": "markdown",
      "metadata": {
        "id": "_ywNezHyiN1J"
      },
      "source": [
        "## **3.2 Drop Multiple featurs**"
      ]
    },
    {
      "cell_type": "code",
      "metadata": {
        "id": "0iDC_p4nigy-"
      },
      "source": [
        "New5=Train_data.drop(Train_data.columns[[0,1,3,4,5,6,7,10,17]], axis=1, inplace=True)"
      ],
      "execution_count": null,
      "outputs": []
    },
    {
      "cell_type": "code",
      "metadata": {
        "id": "pJUyNsNCygat"
      },
      "source": [
        "# Drop unnecessary columns that are not important\n",
        "colsToDrop = ['id','host_name','last_review']\n",
        "\n",
        "airbnb.drop(colsToDrop, axis=1, inplace=True)\n",
        "\n",
        "missing_cols(airbnb)"
      ],
      "execution_count": null,
      "outputs": []
    },
    {
      "cell_type": "markdown",
      "metadata": {
        "id": "Qsjo7VQeynsV"
      },
      "source": [
        "## **3.3-Dropping the row**"
      ]
    },
    {
      "cell_type": "markdown",
      "metadata": {
        "id": "IYvBStP2yx5f"
      },
      "source": [
        "If you want to remove rows, you do so using dropna . I’m not going to do that because there are no missing values in price."
      ]
    },
    {
      "cell_type": "code",
      "metadata": {
        "id": "1Fb5a_4iyw4b"
      },
      "source": [
        "# remove rows with missing values in price\n",
        "airbnb['price'].dropna(inplace=True)"
      ],
      "execution_count": null,
      "outputs": []
    },
    {
      "cell_type": "markdown",
      "metadata": {
        "id": "cjrtdkJdkvGz"
      },
      "source": [
        "# **Convert target variable into binary Form**"
      ]
    },
    {
      "cell_type": "code",
      "metadata": {
        "id": "jPeuZ7VPk50C"
      },
      "source": [
        "Train_data['RESULT_TEXT'].replace({'Negative': 0, 'Positive': 1},inplace = True)"
      ],
      "execution_count": null,
      "outputs": []
    },
    {
      "cell_type": "markdown",
      "metadata": {
        "id": "XgG-pUdEI3CK"
      },
      "source": [
        "# **Data Imbalanced problem** [8]\n",
        "\n",
        "\n",
        "An imbalance occurs when one or more classes have very low proportions/probability in the training data as compared to the other classes. Our model gives us poor predictive performance, specifically for the minority class if we don't handle the imbalanced data.\n",
        "\n",
        "Imagine you are trying to build a classification model, and you have two classes: Cats and Dogs. Unfortunately, your data is very **skewed**: there are 950 cat pictures and 50 dog pictures.[17]\n",
        "\n",
        "If your model classifies every picture as a Cat (dumb, right?), you’ll be 95% accurate! Think about that for a second. The **distribution** in your dataset becomes a big problem really quickly [17]\n",
        "\n",
        "For classification tasks, one may encounter situations where the target class label is un-equally distributed. Such conditions are termed imbalanced data. Due to the presence of class imbalance the model might become biased towards the majority class data sample. A data scientist might face some challenges while modeling an imbalanced class dataset.\n",
        "There are various hacks or techniques to handle an imbalanced class data sample prior to modeling including[19]\n"
      ]
    },
    {
      "cell_type": "markdown",
      "metadata": {
        "id": "AENif9HTYX7P"
      },
      "source": [
        "Classification is one of the most common machine learning problems. One of the common issues found in datasets that are used for classification is imbalanced classes issue. Generally, we expect the labels to be relatively even distributed. In reality, the samples we can get maybe unsatisfactory.\n",
        "\n",
        "Take a binary classification problem for example, we might encounter too few positive samples in the training dataset, called minority class. And most machine learning techniques will ignore, and in turn have poor performance on, the minority class, although typically it is performance on the minority class that is most important. Such an imbalanced dataset can be addressed by sampling techniques. There are mainly three types of sampling techniques: **Oversampling**, **Undersampling** and **Synthetic Sampling**."
      ]
    },
    {
      "cell_type": "markdown",
      "source": [
        "**Which ML algoritherm is sutiable for imbalanced Problem**[17]\n",
        "\n",
        "As a somewhat related note, make sure you are using the right algorithm to solve your problem. For example, Decision Tree-based models are excellent at handling imbalanced classes. When dealing with structured data, that might be all you need."
      ],
      "metadata": {
        "id": "05umKgfCNkBG"
      }
    },
    {
      "cell_type": "markdown",
      "source": [
        "**Performance metrics** [17]"
      ],
      "metadata": {
        "id": "KHUY9WhnOMTz"
      }
    },
    {
      "cell_type": "markdown",
      "source": [
        "Accuracy is not the best performance metric on these problems\n",
        "Accuracy is not a good performance metric when you have an imbalanced dataset.\n",
        "Instead, and depending on your specific problem, you should look at any of the following:\n",
        "\n",
        "- Precision, Recall, F-Score\n",
        "- Confusion Matrix\n",
        "- ROC Curves"
      ],
      "metadata": {
        "id": "1BlaRfvGOTmb"
      }
    },
    {
      "cell_type": "markdown",
      "metadata": {
        "id": "cKIZZsiLYuLh"
      },
      "source": [
        "**Why Imbalanced dataset is bad?**"
      ]
    },
    {
      "cell_type": "markdown",
      "metadata": {
        "id": "vhwsurmIY_aD"
      },
      "source": [
        "So why does imbalance lead to poor model performance? Because any algorithm cannot obtain enough information from a class with a small sample size to make accurate predictions. The uneven distribution of the corresponding variables reduces the accuracy of the algorithm, and the prediction accuracy for small classes will be very low. The algorithm itself is error-driven, that is, the goal of the model is to minimize the overall error, and the contribution of small classes to the overall error is very low. The algorithms themselves assume that the class distribution of the data set is balanced, and they may also assume that different classes of errors bring the same loss.\n"
      ]
    },
    {
      "cell_type": "markdown",
      "source": [
        "## **Handle Imbalanced dataset problem**"
      ],
      "metadata": {
        "id": "TH7wfpZGWnjd"
      }
    },
    {
      "cell_type": "markdown",
      "source": [
        "- 1) Oversampling Minority Class\n",
        "- 2) Downsampling Majority Class\n",
        "- 3) Generate Synthetic Data\n",
        "- 4) Balanced Class Weight\n",
        "- 5) Combine Oversampling & Downsampling Techniques"
      ],
      "metadata": {
        "id": "QXxp7TkkW2YE"
      }
    },
    {
      "cell_type": "markdown",
      "metadata": {
        "id": "dU4NCsm0ZwKP"
      },
      "source": [
        "**Oversampling**\n"
      ]
    },
    {
      "cell_type": "markdown",
      "metadata": {
        "id": "DQNqBvsQZy1P"
      },
      "source": [
        "This method mainly deals with small classes. Use repeated observations to balance the data. There will not be any information loss using this method, but the addition of small-type repeated samples will easily lead to over-fitting, and the calculation time and storage overhead will also increase."
      ]
    },
    {
      "cell_type": "markdown",
      "source": [
        "Upsampling or Oversampling refers to create artificial minority class data points to balance the distribution between the majority and minority class sample. Whereas, downsampling or undersampling refers to the removal of majority class data points to balance the target class distribution.[19]"
      ],
      "metadata": {
        "id": "ZKsApw4QXFpS"
      }
    },
    {
      "cell_type": "markdown",
      "source": [
        "There are various oversampling techniques such as Random Oversampler, SMOTE, ADASYN, etc, that can be used to generate artificial or duplicate minority class data points. Similarly, various undersampling techniques include Random Undersampler, TomekLinks, ENN, NearMiss, etc, that removes the minority class sample.[19]"
      ],
      "metadata": {
        "id": "1Ti2smNoXRa4"
      }
    },
    {
      "cell_type": "markdown",
      "source": [
        "**Idea:**\n",
        "\n",
        "The idea is to combine the oversampling and undersampling techniques to handle the imbalance in the dataset and further train a robust machine learning model."
      ],
      "metadata": {
        "id": "p8XDYnloXZfQ"
      }
    },
    {
      "cell_type": "markdown",
      "metadata": {
        "id": "O1GSVonCaZ23"
      },
      "source": [
        "![](https://drive.google.com/uc?export=view&id=1Zze6DH82-UqfgfYK8J4gerDY18LbH7rO)"
      ]
    },
    {
      "cell_type": "markdown",
      "metadata": {
        "id": "HXyI3y-zahWO"
      },
      "source": [
        "**Undersampling**"
      ]
    },
    {
      "cell_type": "markdown",
      "metadata": {
        "id": "l07UlmTMapWX"
      },
      "source": [
        "This method is mainly to deal with large categories. Use to reduce the number of observations in large categories to balance the data set. It is suitable when the overall data set is large, and this method can also reduce the calculation time and storage overhead (the training set samples are less). It is also possible to combine the two methods of oversampling and undersampling. The large class uses undersampling without replacement, and the small class uses oversampling with replacement."
      ]
    },
    {
      "cell_type": "markdown",
      "metadata": {
        "id": "ODqF6fKbbSDe"
      },
      "source": [
        "![](\n",
        "https://drive.google.com/uc?export=view&id=10OLxqUKqVGd_Uknw-Griz4Ultd9sjMYM)"
      ]
    },
    {
      "cell_type": "markdown",
      "metadata": {
        "id": "cTBMrno6lFox"
      },
      "source": [
        "**Synthetic Sampling**\n"
      ]
    },
    {
      "cell_type": "markdown",
      "metadata": {
        "id": "hf7crddvlIaY"
      },
      "source": [
        "The synthetic data sampling method uses artificial data instead of repeating the original observations to solve the imbalance. Among those algorithms, ASMOTE (Synthetic Minority Oversampling Technique) is the most common a data sampling technique.\n",
        "SMOTE works by selecting examples that are close in the feature space, drawing a line between the examples in the feature space and drawing a new sample at a point along that line.\n",
        "Specifically, a random example from the minority class is first chosen. Then k of the nearest neighbors for that example are found (typically k=5). A randomly selected neighbor is chosen and a synthetic example is created at a randomly selected point between the two examples in feature space.\n",
        "This procedure can be used to create as many synthetic examples for the minority class as are required. As described in the paper, it suggests first using random undersampling to trim the number of examples in the majority class, then use SMOTE to oversample the minority class to balance the class distribution.\n",
        "The approach is effective because new synthetic examples from the minority class are created that are plausible, that is, are relatively close in feature space to existing examples from the minority class.\n",
        "A general downside of the approach is that synthetic examples are created without considering the majority class, possibly resulting in ambiguous examples if there is a strong overlap for the classes."
      ]
    },
    {
      "cell_type": "markdown",
      "metadata": {
        "id": "UWLw27HglTGH"
      },
      "source": [
        "![](https://drive.google.com/uc?export=view&id=1TwyAC1SK2t7fXcdsin6aNGNq0pT48kke)"
      ]
    },
    {
      "cell_type": "markdown",
      "metadata": {
        "id": "JnxhM4IHjs2s"
      },
      "source": [
        "## **5.1 Check Imbalanced Problem in Data**"
      ]
    },
    {
      "cell_type": "code",
      "metadata": {
        "id": "3p7TRBevkGlk"
      },
      "source": [
        "import matplotlib.pyplot as plt\n",
        "fig = plt.figure(figsize = (8,5))\n",
        "Train_data.RESULT_TEXT.value_counts(normalize = True).plot(kind='bar', color= ['skyblue','navy'], alpha = 0.9, rot=0)\n",
        "plt.title('Results Status Negative(0) and Positive(1) in the Imbalanced Dataset')\n",
        "plt.show()"
      ],
      "execution_count": null,
      "outputs": []
    },
    {
      "cell_type": "markdown",
      "metadata": {
        "id": "S0qwuF7Dkaw2"
      },
      "source": [
        "## **Data resample**"
      ]
    },
    {
      "cell_type": "code",
      "metadata": {
        "id": "xAnm9UBIkiC1"
      },
      "source": [
        "from sklearn.utils import resample\n",
        "no = Train_data[Train_data.RESULT_TEXT == 0]\n",
        "yes = Train_data[Train_data.RESULT_TEXT == 1]\n",
        "yes_oversampled = resample(yes, replace=True, n_samples=len(no), random_state=123)\n",
        "oversampled = pd.concat([no, yes_oversampled])\n",
        "fig = plt.figure(figsize = (8,5))\n",
        "oversampled.RESULT_TEXT.value_counts(normalize = True).plot(kind='bar', color= ['skyblue','navy'], alpha = 0.9, rot=0)\n",
        "plt.title('Waterbrone Disease status Nagative(0) and Postive(1) after Oversampling (Balanced Dataset)')\n",
        "plt.show()"
      ],
      "execution_count": null,
      "outputs": []
    },
    {
      "cell_type": "markdown",
      "metadata": {
        "id": "Vj6qu54toUvU"
      },
      "source": [
        "## **SMOTE** [3,4]"
      ]
    },
    {
      "cell_type": "markdown",
      "metadata": {
        "id": "9vx7USJRr-an"
      },
      "source": [
        "**SMOTE**"
      ]
    },
    {
      "cell_type": "code",
      "metadata": {
        "id": "nyZZoekMsBi-"
      },
      "source": [
        "from imblearn.over_sampling import SMOTE\n",
        "sm = SMOTE(random_state=42)\n",
        "X_res, y_res = sm.fit_resample(X_train, y_train)"
      ],
      "execution_count": null,
      "outputs": []
    },
    {
      "cell_type": "code",
      "metadata": {
        "id": "7uaPffyysR3b"
      },
      "source": [
        "import matplotlib.pyplot as plt\n",
        "fig = plt.figure(figsize = (8,5))\n",
        "Train_data.RESULT_TEXT.value_counts(normalize = True).plot(kind='bar', color= ['skyblue','navy'], alpha = 0.9, rot=0)\n",
        "plt.title('Results Status Negative(0) and Positive(1) in the Imbalanced Dataset')\n",
        "plt.show()"
      ],
      "execution_count": null,
      "outputs": []
    },
    {
      "cell_type": "markdown",
      "metadata": {
        "id": "BV6XZYU7r4kq"
      },
      "source": [
        "**Borderline-SMOTE**"
      ]
    },
    {
      "cell_type": "markdown",
      "metadata": {
        "id": "yhFU41hbonjg"
      },
      "source": [
        "To change the number of values in class 1, there are two possible methods: **random undersampling **(reduces the number of entries from the majority class) and **synthetic oversampling** (synthetically generating new entries for the minority class).\n",
        "\n",
        "Because we want to provide our model with as much data as possible, we will use a technique called **Borderline-SMOTE**"
      ]
    },
    {
      "cell_type": "markdown",
      "metadata": {
        "id": "_zNnsxEUpPIG"
      },
      "source": [
        "**Borderline-SMOTE**(Borderline Synthetic Minority Oversampling Technique). The reason that Borderline-SMOTE was used as opposed to SMOTE is that it takes synthetically generates data in between different elements in the minority class, while ignoring outliers. Outliers can be defined as features which neighbour more majority points, than minority ones."
      ]
    },
    {
      "cell_type": "markdown",
      "metadata": {
        "id": "hkUhazdgpcnd"
      },
      "source": [
        "Below is the code to apply Borderline-SMOTE. It is important to only balance the training data, as the test series must reflect real-world field data."
      ]
    },
    {
      "cell_type": "code",
      "metadata": {
        "id": "gze3AZIAq4S6"
      },
      "source": [
        "from imblearn.over_sampling import BorderlineSMOTE\n"
      ],
      "execution_count": null,
      "outputs": []
    },
    {
      "cell_type": "code",
      "metadata": {
        "id": "gfTtoEcLqMpq"
      },
      "source": [
        "X_train_Before= X_train"
      ],
      "execution_count": null,
      "outputs": []
    },
    {
      "cell_type": "code",
      "metadata": {
        "id": "CqfQKTG3qRtw"
      },
      "source": [
        "y_train_Before= y_train"
      ],
      "execution_count": null,
      "outputs": []
    },
    {
      "cell_type": "code",
      "metadata": {
        "id": "HnYGDx8KpeTN"
      },
      "source": [
        "borderlineSMOTE = BorderlineSMOTE(k_neighbors = 10, random_state = 42)\n",
        "X_train, y_train = borderlineSMOTE.fit_resample(X_train_Before,y_train_Before)"
      ],
      "execution_count": null,
      "outputs": []
    },
    {
      "cell_type": "markdown",
      "source": [
        "**SMOTEENN:[19]**"
      ],
      "metadata": {
        "id": "T841P3IEZiqM"
      }
    },
    {
      "cell_type": "markdown",
      "source": [
        "We can perform oversampling of the minority class using SMOTE technique and further perform undersample using Edited Nearest Neighbour (ENN). The advantage of performing the undersampling technique — ENN after oversampling is that it cleans or removes the noise majority class data points.\n",
        "Imblearn library comes with the implementation of SMOTEENN.[19]"
      ],
      "metadata": {
        "id": "hOTp1yn1ZqxD"
      }
    },
    {
      "cell_type": "code",
      "source": [
        "smt = SMOTEENN(random_state=42)\n",
        "X_res, y_res = smt.fit_resample(X_train, y_train)"
      ],
      "metadata": {
        "id": "4Tid24r6ZuXL"
      },
      "execution_count": null,
      "outputs": []
    },
    {
      "cell_type": "markdown",
      "source": [
        "**SMOTETomek:** [19]\n",
        "\n",
        "Similarly, we can perform oversampling of the minority class using SMOTE technique and further undersample or perform cleaning using the Tomek Links technique.\n",
        "Imblearn library comes with the implementation of SMOTETomek."
      ],
      "metadata": {
        "id": "bXNosJq9Z5M6"
      }
    },
    {
      "cell_type": "code",
      "source": [
        "smt = SMOTETomek(random_state=42)\n",
        "X_res, y_res = smt.fit_resample(X_train, y_train)"
      ],
      "metadata": {
        "id": "telst6L2Z-cQ"
      },
      "execution_count": null,
      "outputs": []
    },
    {
      "cell_type": "markdown",
      "metadata": {
        "id": "hmcHEc1llpEt"
      },
      "source": [
        "#**Data cleaning** \n",
        "\n",
        "Missing values is one of the most common problems you saw when you are doing feature engineering/data preparation. The main reason for the missing values because of humans errors and data privacy and so on…"
      ]
    },
    {
      "cell_type": "markdown",
      "source": [
        "Data cleaning is the technique of eliminating garbage, incorrect, duplicate, corrupted, or incomplete data in a dataset as the part of the data preparation process with a motive to build reliable, uniform and standardized data sets. Python pandas is an excellent library for manipulating data and analyzing it.[20]"
      ],
      "metadata": {
        "id": "i45sOOD3baa0"
      }
    },
    {
      "cell_type": "markdown",
      "source": [
        "There are four ways you can perform data cleaning :\n",
        "- Drop the missing values\n",
        "- Replace the missing values\n",
        "- Replace each NaN with a scalar value,\n",
        "- Fill the missing values forward or backward."
      ],
      "metadata": {
        "id": "e5il5oeQbqQa"
      }
    },
    {
      "cell_type": "code",
      "metadata": {
        "id": "jgAsYprj-ywI"
      },
      "source": [
        "np.sum(data.isnull().any(axis=1))"
      ],
      "execution_count": null,
      "outputs": []
    },
    {
      "cell_type": "markdown",
      "source": [
        "## **How to find the exact location of null values**"
      ],
      "metadata": {
        "id": "B_f0em1nepku"
      }
    },
    {
      "cell_type": "code",
      "source": [
        "Train_data[Train_data.isna().any(axis=1)]"
      ],
      "metadata": {
        "id": "ZG7gm1rue3Dk"
      },
      "execution_count": null,
      "outputs": []
    },
    {
      "cell_type": "markdown",
      "source": [
        "[20]"
      ],
      "metadata": {
        "id": "QBu8QnutfRzZ"
      }
    },
    {
      "cell_type": "markdown",
      "source": [
        "## **How to check for percentages of null values in each column**"
      ],
      "metadata": {
        "id": "d6rO-FGcfU81"
      }
    },
    {
      "cell_type": "code",
      "source": [
        "# [20]\n",
        "Train_data.notnull().mean()"
      ],
      "metadata": {
        "id": "rKjglowhfZi2"
      },
      "execution_count": null,
      "outputs": []
    },
    {
      "cell_type": "markdown",
      "metadata": {
        "id": "sKSUNs2rxOy1"
      },
      "source": [
        "## **Missingo**[10]\n",
        "It is widespread to find missing values in a real-world dataset. We need to understand the missing values before imputing. Missingo offers a quick and helpful way to visualize the missing values."
      ]
    },
    {
      "cell_type": "markdown",
      "metadata": {
        "id": "5GBu0R6TxaR5"
      },
      "source": [
        "**Installation**\n"
      ]
    },
    {
      "cell_type": "code",
      "metadata": {
        "id": "_LqBtqghxd_7"
      },
      "source": [
        "!pip install missingno\n"
      ],
      "execution_count": null,
      "outputs": []
    },
    {
      "cell_type": "markdown",
      "metadata": {
        "id": "FADNe9Lix3Ys"
      },
      "source": [
        "**Usage**\n"
      ]
    },
    {
      "cell_type": "code",
      "metadata": {
        "id": "fqepihD_xoTi"
      },
      "source": [
        "# importing necessary libraries\n",
        "import pandas as pd \n",
        "import missingno as mi\n",
        "# reading the dummy dataset\n",
        "#data = pd.read_excel(“dummy.xlsx”)\n",
        "# checking missing values\n",
        "oversampled.isnull().sum()"
      ],
      "execution_count": null,
      "outputs": []
    },
    {
      "cell_type": "markdown",
      "metadata": {
        "id": "kMyjK33fyAIr"
      },
      "source": [
        "Dummy dataset has 11 rows and four columns. Missing values presented in Min, Temp, and city variables. We can visualize using a bar graph and matrix. It also supports heatmap, dendrogram. For more details, please check this Github repository."
      ]
    },
    {
      "cell_type": "code",
      "metadata": {
        "id": "0jVLeXv2yCDd",
        "colab": {
          "base_uri": "https://localhost:8080/",
          "height": 946
        },
        "outputId": "a3d5ae6a-6e9d-40fc-f457-0e6531175fea"
      },
      "source": [
        "#Visualizing using missingo\n",
        "print('Visualizing missing value using bar graph')\n",
        "mi.bar(oversampled, figsize = (10,5))\n",
        "print('Visualizing missing value using matrix')\n",
        "mi.matrix(oversampled, figsize = (10,5) )"
      ],
      "execution_count": null,
      "outputs": [
        {
          "output_type": "stream",
          "name": "stdout",
          "text": [
            "Visualizing missing value using bar graph\n",
            "Visualizing missing value using matrix\n"
          ]
        },
        {
          "output_type": "execute_result",
          "data": {
            "text/plain": [
              "<matplotlib.axes._subplots.AxesSubplot at 0x7fb2cb83fed0>"
            ]
          },
          "metadata": {},
          "execution_count": 23
        },
        {
          "output_type": "display_data",
          "data": {
            "image/png": "[encoded data removed]",
            "text/plain": [
              "<Figure size 720x360 with 3 Axes>"
            ]
          },
          "metadata": {
            "needs_background": "light"
          }
        },
        {
          "output_type": "display_data",
          "data": {
            "image/png": "[encoded data removed]",
            "text/plain": [
              "<Figure size 720x360 with 2 Axes>"
            ]
          },
          "metadata": {
            "needs_background": "light"
          }
        }
      ]
    },
    {
      "cell_type": "markdown",
      "metadata": {
        "id": "hBtctHfzJGya"
      },
      "source": [
        "## **6.1 Why do We Need to Fill Missing Values in a Dataset?**\n",
        "\n",
        "Sometimes the dataset we use to solve a problem contains a lot of missing values that can adversely affect the performance of a machine learning model. A dataset with a lot of missing values can give us wrong information. So if we have missing values in a dataset, here are some strategies we can choose to deal with them:\n",
        "\n",
        "- Removing the whole row which contains missing values\n",
        "- Filling the missing values according to the other known values\n",
        "\n",
        "The first strategy is to remove the entire row containing a missing value. This is not a bad idea, but it can only be considered when the data is very large. If removing missing values results in a data shortage, then this will not be an ideal dataset for any data science task. This is where the second strategy comes in, which is to fill in the missing values according to the other known values. This strategy can be considered in any type of dataset.\n",
        "\n",
        "So this is why we need to fill the missing values in a dataset. In the section below, I will take you through a tutorial on how to fill in missing values in a dataset using Python.\n"
      ]
    },
    {
      "cell_type": "markdown",
      "metadata": {
        "id": "z000rrTwmym1"
      },
      "source": [
        "## **6.2- Check missing Value**"
      ]
    },
    {
      "cell_type": "code",
      "metadata": {
        "id": "Jkrr2G-rm8Hj"
      },
      "source": [
        "total = oversampled.isnull().sum().sort_values(ascending=False)\n",
        "percent = (oversampled.isnull().sum()/oversampled.isnull().count()).sort_values(ascending=False)\n",
        "missing = pd.concat([total, percent], axis=1, keys=['Total', 'Percent'])\n",
        "missing.head(4)"
      ],
      "execution_count": null,
      "outputs": []
    },
    {
      "cell_type": "markdown",
      "metadata": {
        "id": "AZP1cNqkoE6r"
      },
      "source": [
        "If you want to see missing values for all columns, use this command:"
      ]
    },
    {
      "cell_type": "code",
      "metadata": {
        "id": "7nrfoBBHoD8x",
        "colab": {
          "base_uri": "https://localhost:8080/"
        },
        "outputId": "635ec54e-44ce-41f2-90b0-faa626e31cd5"
      },
      "source": [
        "oversampled.isnull().sum()\n"
      ],
      "execution_count": null,
      "outputs": [
        {
          "output_type": "execute_result",
          "data": {
            "text/plain": [
              "MRNO                 0\n",
              "AGE                  0\n",
              "GENDER               0\n",
              "DISTRICT             0\n",
              "TEHSIL               0\n",
              "REPORT_VERIFIED    796\n",
              "CPT_ID               0\n",
              "RESULT_VALUE         0\n",
              "CPT_ID.1             0\n",
              "RESULT_TEXT          0\n",
              "dtype: int64"
            ]
          },
          "metadata": {},
          "execution_count": 38
        }
      ]
    },
    {
      "cell_type": "markdown",
      "metadata": {
        "id": "pk74p_4CoUpy"
      },
      "source": [
        "This gives you the percentage of missing values in each of the columns. Knowing the percentage can be useful in determining whether you should drop the column."
      ]
    },
    {
      "cell_type": "code",
      "metadata": {
        "id": "4JPUXvgboWmO"
      },
      "source": [
        "def perc_missing(df):\n",
        "    '''prints out columns with missing values with its %'''\n",
        "    for col in df.columns:\n",
        "        pct = df[col].isna().mean() * 100\n",
        "        if (pct != 0):\n",
        "            print('{} => {}%'.format(col, round(pct, 2)))"
      ],
      "execution_count": null,
      "outputs": []
    },
    {
      "cell_type": "code",
      "metadata": {
        "colab": {
          "base_uri": "https://localhost:8080/"
        },
        "id": "fjQAQBkJocsC",
        "outputId": "c156e1eb-4e6e-4d6a-8a73-05cffc8b04b3"
      },
      "source": [
        "perc_missing(oversampled)\n"
      ],
      "execution_count": null,
      "outputs": [
        {
          "output_type": "stream",
          "name": "stdout",
          "text": [
            "REPORT_VERIFIED => 1.75%\n"
          ]
        }
      ]
    },
    {
      "cell_type": "code",
      "metadata": {
        "id": "V68XvtF4--IX"
      },
      "source": [
        "oversampled = oversampled.dropna(axis = 0, how ='any') "
      ],
      "execution_count": null,
      "outputs": []
    },
    {
      "cell_type": "markdown",
      "metadata": {
        "id": "XYV__mY_ot7z"
      },
      "source": [
        "**Heatmap of missing values**"
      ]
    },
    {
      "cell_type": "markdown",
      "metadata": {
        "id": "sbSrUwtmowVM"
      },
      "source": [
        "Heatmaps are also useful to visualize your missing values, in particular at which point of the data do missing values exists."
      ]
    },
    {
      "cell_type": "code",
      "metadata": {
        "id": "lJ1zvi_BpGLq"
      },
      "source": [
        "import pandas as pd\n",
        "import seaborn as sns\n",
        "import numpy as np\n",
        "import matplotlib.pyplot as plt\n",
        "\n",
        "plt.style.use('fivethirtyeight')\n",
        "\n",
        "%matplotlib inline"
      ],
      "execution_count": null,
      "outputs": []
    },
    {
      "cell_type": "code",
      "metadata": {
        "id": "BibF54QEo0xB"
      },
      "source": [
        "plt.figure(figsize=(10, 6))\n",
        "sns.heatmap(oversampled.isnull(), yticklabels=False, cmap='viridis', cbar=False)"
      ],
      "execution_count": null,
      "outputs": []
    },
    {
      "cell_type": "markdown",
      "metadata": {
        "id": "Bjlno6_vJrWT"
      },
      "source": [
        "## **6.3 Fill Missing Values in a Dataset using Python**\n",
        "\n",
        "The scikit-learn library in Python offers the **SimpleImputer()** class which can be used for filling the missing values based on:\n",
        "\n",
        "- Mean of the known values\n",
        "- Median of the known values\n",
        "- Most frequent value among the known values\n",
        "\n",
        "So let’s go through all these methods one by one for filling the missing values of a dataset. I will first create a very simple dataset with some missing values:\n"
      ]
    },
    {
      "cell_type": "code",
      "metadata": {
        "id": "EwAapSDzIlmZ"
      },
      "source": [
        "import numpy as np\n",
        "data = np.array([[10, np.nan, 8], \n",
        "                 [9, 8, np.nan], \n",
        "                 [7, 10, 9]])"
      ],
      "execution_count": null,
      "outputs": []
    },
    {
      "cell_type": "code",
      "metadata": {
        "colab": {
          "base_uri": "https://localhost:8080/"
        },
        "id": "7T0jy1jtKHir",
        "outputId": "90f4a826-9345-45ce-97fc-3658bbccff65"
      },
      "source": [
        "print(data)\n"
      ],
      "execution_count": null,
      "outputs": [
        {
          "output_type": "stream",
          "text": [
            "[[10. nan  8.]\n",
            " [ 9.  8. nan]\n",
            " [ 7. 10.  9.]]\n"
          ],
          "name": "stdout"
        }
      ]
    },
    {
      "cell_type": "markdown",
      "metadata": {
        "id": "pfYMTMvOKNAi"
      },
      "source": [
        "Here is how you can use the Mean of the other known values for filling the missing values:\n",
        "\n"
      ]
    },
    {
      "cell_type": "code",
      "metadata": {
        "id": "SAPCWk9XKOli"
      },
      "source": [
        "# Filling Values with mean\n",
        "from sklearn.impute import SimpleImputer\n",
        "mean_values = SimpleImputer(strategy='mean')\n",
        "data1 = mean_values.fit_transform(data)"
      ],
      "execution_count": null,
      "outputs": []
    },
    {
      "cell_type": "code",
      "metadata": {
        "colab": {
          "base_uri": "https://localhost:8080/"
        },
        "id": "nAxbT6vXKWUL",
        "outputId": "a9265655-03ec-4332-b2fe-8a50ec5c934e"
      },
      "source": [
        "print(data1)\n"
      ],
      "execution_count": null,
      "outputs": [
        {
          "output_type": "stream",
          "text": [
            "[[10.   9.   8. ]\n",
            " [ 9.   8.   8.5]\n",
            " [ 7.  10.   9. ]]\n"
          ],
          "name": "stdout"
        }
      ]
    },
    {
      "cell_type": "markdown",
      "metadata": {
        "id": "XzSA3l3YKaCa"
      },
      "source": [
        "Here is how you can use the Median of the other known values for filling the missing values:\n",
        "\n"
      ]
    },
    {
      "cell_type": "code",
      "metadata": {
        "colab": {
          "base_uri": "https://localhost:8080/"
        },
        "id": "GJY6oLTkKfKZ",
        "outputId": "c7320cb8-74f6-4421-e414-98efabd8b0ca"
      },
      "source": [
        "# Filling Values with median\n",
        "from sklearn.impute import SimpleImputer\n",
        "median_values = SimpleImputer(strategy='median')\n",
        "data2 = median_values.fit_transform(data)\n",
        "print(data2)"
      ],
      "execution_count": null,
      "outputs": [
        {
          "output_type": "stream",
          "text": [
            "[[10.   9.   8. ]\n",
            " [ 9.   8.   8.5]\n",
            " [ 7.  10.   9. ]]\n"
          ],
          "name": "stdout"
        }
      ]
    },
    {
      "cell_type": "markdown",
      "metadata": {
        "id": "aHelgUGeKnfi"
      },
      "source": [
        "Here is how you can use the most frequent value among the other known values for filling the missing values:"
      ]
    },
    {
      "cell_type": "code",
      "metadata": {
        "colab": {
          "base_uri": "https://localhost:8080/"
        },
        "id": "NE900achKj6a",
        "outputId": "128d4f81-ad64-4213-f67d-d40468dfa7af"
      },
      "source": [
        "# Filling values with most frequent values\n",
        "from sklearn.impute import SimpleImputer\n",
        "most_frequent = SimpleImputer(strategy='most_frequent')\n",
        "data3 = most_frequent.fit_transform(data)\n",
        "print(data3)"
      ],
      "execution_count": null,
      "outputs": [
        {
          "output_type": "stream",
          "text": [
            "[[10.  8.  8.]\n",
            " [ 9.  8.  8.]\n",
            " [ 7. 10.  9.]]\n"
          ],
          "name": "stdout"
        }
      ]
    },
    {
      "cell_type": "markdown",
      "metadata": {
        "id": "dCTUDxFjzd3g"
      },
      "source": [
        "**Imputing**"
      ]
    },
    {
      "cell_type": "markdown",
      "metadata": {
        "id": "RHy-lrI8zipr"
      },
      "source": [
        "For imputing, there are 3 main techniques shown below.\n",
        "\n",
        "- fillna — filling in null values based on given value (mean, median, mode, or specified value)\n",
        "- bfill / ffill — stands for backward fill and forward fill (filling in missing values based on the value after or before the column.)\n",
        "- Simple Imputer — Sk-learn’s built-in function that imputes missing values (commonly used alongside a pipeline when building ML models)"
      ]
    },
    {
      "cell_type": "markdown",
      "metadata": {
        "id": "XzkrPxWtzwlr"
      },
      "source": [
        "Below you can find examples of applying these methods to the price column if it had missing values."
      ]
    },
    {
      "cell_type": "code",
      "metadata": {
        "id": "bQln8P7xzyN1"
      },
      "source": [
        "# imputing price with mean\n",
        "price_mean_value = round(airbnb['price'].mean(), 2)\n",
        "airbnb['price'].fillna(price_mean_value, inplace=True)\n",
        "\n",
        "# imputing price with median\n",
        "price_median_value = round(airbnb['price'].median(), 2)\n",
        "airbnb['price'].fillna(price_median_value, inplace=True)\n",
        "\n",
        "# imputing with bfill or ffill\n",
        "airbnb['price'].bfill(inplace=True)\n",
        "airbnb['price'].ffill(inplace=True)\n",
        "\n",
        "# imputing with SimpleImputor from the sklearn library\n",
        "from sklearn.impute import SimpleImputer\n",
        "# define the imputer\n",
        "imr = SimpleImputer(missing_values=np.nan, strategy='mean') # or median\n",
        "\n",
        "airbnb[['price']] = imr.fit_transform(airbnb[['price']])"
      ],
      "execution_count": null,
      "outputs": []
    },
    {
      "cell_type": "markdown",
      "metadata": {
        "id": "dDx8A9_Uz5jG"
      },
      "source": [
        "**Replace**"
      ]
    },
    {
      "cell_type": "markdown",
      "metadata": {
        "id": "Wyjcdju7z8CP"
      },
      "source": [
        "To replace values, the fillna function is also used."
      ]
    },
    {
      "cell_type": "markdown",
      "metadata": {
        "id": "dkqWOIfmz__l"
      },
      "source": [
        "You define the value you want to replace in the key, and the substitute in the value — {column_name: replacement_for_NA}\n",
        "\n",
        "Here are examples for replacing values in the columns reviews_per_month and name\n"
      ]
    },
    {
      "cell_type": "code",
      "metadata": {
        "id": "pJIzbrvo0IgT"
      },
      "source": [
        "# replace null values in reviews_per_month with 0 \n",
        "airbnb.fillna({'reviews_per_month':0}, inplace=True)\n",
        "\n",
        "missing_cols(airbnb)"
      ],
      "execution_count": null,
      "outputs": []
    },
    {
      "cell_type": "code",
      "metadata": {
        "id": "Q2256NAA0P0b"
      },
      "source": [
        "# replace null values in name with 'None'\n",
        "airbnb.fillna({'name':'None'}, inplace=True)\n",
        "\n",
        "missing_cols(airbnb)"
      ],
      "execution_count": null,
      "outputs": []
    },
    {
      "cell_type": "markdown",
      "metadata": {
        "id": "sryKvX_eg5-m"
      },
      "source": [
        "## **Impute missing values[11]**\n",
        "\n",
        "Scikit-learn offers multiple ways to impute missing values. Here, we consider two approaches. The SimpleImputer class provides basic strategies for imputing missing values (through the mean or median for example). A more sophisticated approach the KNNImputer class, which provides imputation for filling in missing values using the K-Nearest Neighbors approach. Each missing value is imputed using values from the n_neighbors nearest neighbors that have a value for the particular feature. The values of the neighbors are averaged uniformly or weighted by distance to each neighbor.\n",
        "Below, we show an example application using both imputation methods:"
      ]
    },
    {
      "cell_type": "code",
      "metadata": {
        "id": "AIInDHsphTp8",
        "colab": {
          "base_uri": "https://localhost:8080/"
        },
        "outputId": "d2877566-cfbe-49a9-9a68-649eec4db97c"
      },
      "source": [
        "from sklearn.experimental import enable_iterative_imputer\n",
        "from sklearn.impute import SimpleImputer, KNNImputer\n",
        "from sklearn.datasets import make_classification\n",
        "import pandas as pd\n",
        "X, y = make_classification(n_samples=5, n_features=4, n_classes=2, random_state=123)\n",
        "X = pd.DataFrame(X, columns=['Feature_1', 'Feature_2', 'Feature_3', 'Feature_4'])\n",
        "print(X.iloc[1,2])"
      ],
      "execution_count": null,
      "outputs": [
        {
          "output_type": "stream",
          "name": "stdout",
          "text": [
            "2.2129830531512615\n"
          ]
        }
      ]
    },
    {
      "cell_type": "markdown",
      "metadata": {
        "id": "40vt2q_4hY17"
      },
      "source": [
        "Transform X[1, 2] to a missing value:\n"
      ]
    },
    {
      "cell_type": "code",
      "metadata": {
        "id": "rT_3ELsphdJT"
      },
      "source": [
        "X.iloc[1, 2] = float('NaN')\n"
      ],
      "execution_count": null,
      "outputs": []
    },
    {
      "cell_type": "code",
      "metadata": {
        "id": "s7RCOaTLhfT6"
      },
      "source": [
        "X"
      ],
      "execution_count": null,
      "outputs": []
    },
    {
      "cell_type": "markdown",
      "metadata": {
        "id": "oDIAq3Fohj9q"
      },
      "source": [
        "First we make use of the simple imputer:\n"
      ]
    },
    {
      "cell_type": "code",
      "metadata": {
        "id": "5NwBvlK3hl5i"
      },
      "source": [
        "imputer_simple = SimpleImputer()\n",
        "\n",
        "pd.DataFrame(imputer_simple.fit_transform(X))"
      ],
      "execution_count": null,
      "outputs": []
    },
    {
      "cell_type": "markdown",
      "metadata": {
        "id": "oERO6fnBhs4K"
      },
      "source": [
        "Resulting in a value of -0.143476.\n"
      ]
    },
    {
      "cell_type": "markdown",
      "metadata": {
        "id": "I8jxe0iMhykq"
      },
      "source": [
        "Next, we try the KNN imputer, where the 2 nearest neighbors are considered and the neighbors are weighted uniformly:"
      ]
    },
    {
      "cell_type": "code",
      "metadata": {
        "id": "dlyeMScIh0Ja"
      },
      "source": [
        "imputer_KNN = KNNImputer(n_neighbors=2, weights=\"uniform\")\n",
        "pd.DataFrame(imputer_KNN.fit_transform(X))"
      ],
      "execution_count": null,
      "outputs": []
    },
    {
      "cell_type": "markdown",
      "metadata": {
        "id": "cbYlee8Ch8S5"
      },
      "source": [
        "Resulting in a value of 0.997105 (= 0.5*(1.904188+0.090022)).\n"
      ]
    },
    {
      "cell_type": "markdown",
      "metadata": {
        "id": "TFbHCw8y0gp0"
      },
      "source": [
        "# **Inconsistent data/Irrelevant features**\n",
        "\n",
        "Inconsistent data refers to things like spelling errors in your data, column names that are not relevant to the data, the wrong data type, etc.\n",
        "Here are a couple examples for dealing with these issues."
      ]
    },
    {
      "cell_type": "markdown",
      "metadata": {
        "id": "slY5-kmu008V"
      },
      "source": [
        "**Remove rows based on regex**\n"
      ]
    },
    {
      "cell_type": "markdown",
      "metadata": {
        "id": "JTjb9zNg03PD"
      },
      "source": [
        "Let’s say you want to remove rows that contain a certain word. For my example, I chose the word noisy/Noisy as my target, and I used the function str.contains() to find the indexes that contain those rows."
      ]
    },
    {
      "cell_type": "markdown",
      "metadata": {
        "id": "fh01cN2Q1hHe"
      },
      "source": [
        "Then, using the drop function, and setting axis to index, I can supply the indexes I have and drop those rows.\n",
        "Printing out the number of rows, you can see it reduced by three."
      ]
    },
    {
      "cell_type": "code",
      "metadata": {
        "id": "yPUdWVLA1n9l"
      },
      "source": [
        "# example: remove rows that contain the target word\n",
        "target = '[Nn]oisy'\n",
        "\n",
        "noisy_airbnb = airbnb[airbnb['name'].str.contains(target, regex=True)]\n",
        "\n",
        "# show rows that contains the word noisy\n",
        "print(noisy_airbnb['name'])\n",
        "\n",
        "# get the index that contains the word noisy\n",
        "index_to_drop = noisy_airbnb['name'].index\n",
        "\n",
        "# print(index_to_drop)"
      ],
      "execution_count": null,
      "outputs": []
    },
    {
      "cell_type": "code",
      "metadata": {
        "id": "xaSmQkCq1tDk"
      },
      "source": [
        "# drop rows based on index\n",
        "airbnb.drop(index_to_drop, axis='index', inplace=True)\n",
        "\n",
        "print(len(airbnb_ori))\n",
        "print(len(airbnb))"
      ],
      "execution_count": null,
      "outputs": []
    },
    {
      "cell_type": "markdown",
      "metadata": {
        "id": "pgJXAq3H15Y6"
      },
      "source": [
        "**Spelling errors in categorical data**\n"
      ]
    },
    {
      "cell_type": "markdown",
      "metadata": {
        "id": "v4HwFy_K18iq"
      },
      "source": [
        "Sometimes your categorical data might have spelling errors or different capitalization that can mess up your categorization.\n",
        "\n",
        "I will be using the neighbourhood_group column as an example."
      ]
    },
    {
      "cell_type": "code",
      "metadata": {
        "id": "tuOFkxYd2BrV"
      },
      "source": [
        "airbnb['neighbourhood_group'].value_counts()"
      ],
      "execution_count": null,
      "outputs": []
    },
    {
      "cell_type": "markdown",
      "metadata": {
        "id": "5SksmVjW2cCK"
      },
      "source": [
        "You can see the different types of neighborhoods are already well categorized. But what if it wasn’t?\n",
        "\n",
        "To simulate a scenario where some of the data had capitalization or spelling issues, I sampled 2 rows from the data, and replaced them with the wrong spelling.\n",
        "\n",
        "You can see now how the categorization is messed up. “Manhattan” and “manhatann” refer to the same thing, but they aren’t in the same category because of capitalization. Same goes for “brookln” due to spelling issues.\n",
        "\n",
        "We can fix this by using the replace function in pandas. We first give the values that are wrong, then supply the right ones. Notice the values have to match each other in the list, i.e. “manhatann” → “Manhattan”."
      ]
    },
    {
      "cell_type": "code",
      "metadata": {
        "id": "jGHMa3Kf2nwr"
      },
      "source": [
        "random_index = airbnb.sample(2, random_state = 10).index\n",
        "\n",
        "# airbnb['neighbourhood_group'].loc[random_index]\n",
        "## we randomly selected Manhattan and Brooklyn\n",
        "\n",
        "wrong_spelling = ['manhatann', 'brookln']\n",
        "\n",
        "# replace them with the wrong spelling\n",
        "airbnb.loc[random_index,'neighbourhood_group'] = wrong_spelling\n",
        "airbnb['neighbourhood_group'].value_counts()"
      ],
      "execution_count": null,
      "outputs": []
    },
    {
      "cell_type": "code",
      "metadata": {
        "id": "615qZufj2t4y"
      },
      "source": [
        "airbnb['neighbourhood_group'].replace(['manhatann', 'brookln'],\n",
        "                             ['Manhattan', 'Brooklyn'], inplace=True)\n",
        "airbnb['neighbourhood_group'].value_counts()"
      ],
      "execution_count": null,
      "outputs": []
    },
    {
      "cell_type": "markdown",
      "metadata": {
        "id": "Z1vCjhl4211-"
      },
      "source": [
        "**Renaming columns**\n"
      ]
    },
    {
      "cell_type": "markdown",
      "metadata": {
        "id": "92NhJPml236k"
      },
      "source": [
        "There are cases where you want to rename your columns as well.\n",
        "\n",
        "You can do this by using a dictionary, setting the key as the original column name, and the value as the new column name.\n",
        "\n",
        "Then using the rename function we give our dictionary and voila, the columns names have changed."
      ]
    },
    {
      "cell_type": "code",
      "metadata": {
        "id": "sCbivQOE3DEM"
      },
      "source": [
        "new_names = {'name':'listing_name', 'latitude':'lat', 'longitude':'long'}\n",
        "\n",
        "airbnb.rename(columns=new_names, inplace=True)\n",
        "airbnb.head()"
      ],
      "execution_count": null,
      "outputs": []
    },
    {
      "cell_type": "markdown",
      "metadata": {
        "id": "Rg8UEqbN8aSv"
      },
      "source": [
        "The dataset that I am using here does not have columns names, so let’s give the most appropriate names to these columns:"
      ]
    },
    {
      "cell_type": "code",
      "metadata": {
        "id": "D9g4R2ZE8f-h"
      },
      "source": [
        "data.columns = ['user_id', 'product_id','ratings','timestamp']"
      ],
      "execution_count": null,
      "outputs": []
    },
    {
      "cell_type": "markdown",
      "metadata": {
        "id": "XY4SMhhE3JzD"
      },
      "source": [
        "**Converting to DateTime**"
      ]
    },
    {
      "cell_type": "markdown",
      "metadata": {
        "id": "38V5TvtC3Rh7"
      },
      "source": [
        "If you have data that should be a datetime object, but are strings, you can use the pd.to_datetime, and pass it the format that represents your data.\n",
        "\n",
        "Just like that, the column has converted into a datatime data type."
      ]
    },
    {
      "cell_type": "code",
      "metadata": {
        "id": "Vo5kySe53VzP"
      },
      "source": [
        "airbnb_ori['last_review'] = pd.to_datetime(airbnb_ori['last_review'], format='%Y-%m-%d')\n",
        "airbnb_ori['last_review'].dtype.type"
      ],
      "execution_count": null,
      "outputs": []
    },
    {
      "cell_type": "markdown",
      "metadata": {
        "id": "b2WhiJKU3dvq"
      },
      "source": [
        "**Duplicates**\n"
      ]
    },
    {
      "cell_type": "markdown",
      "metadata": {
        "id": "zaJJWjI_3g3w"
      },
      "source": [
        "There are cases where your rows have duplicate values, this could’ve happened due to some mishaps in your data collection.\n",
        "\n",
        "To find out if you have duplicated values, call duplicated().any() on your data frame, and if it’s true, use the drop_duplicates function\n",
        "\n",
        "You can also specify columns where you want to remove duplicate values like below."
      ]
    },
    {
      "cell_type": "code",
      "metadata": {
        "id": "2A61D9z53pKj"
      },
      "source": [
        "airbnb.duplicated().any()\n",
        "\n",
        "## if true\n",
        "# airbnb.drop_duplicates()\n",
        "\n",
        "## if you want to drop duplicates at specific column\n",
        "# airbnb.drop('col_name', axis=1, inplace=True).drop_duplicates()\n",
        "False"
      ],
      "execution_count": null,
      "outputs": []
    },
    {
      "cell_type": "markdown",
      "metadata": {
        "id": "qxGRgpQN3tTC"
      },
      "source": [
        "**Change data type to reduce memory**\n"
      ]
    },
    {
      "cell_type": "markdown",
      "metadata": {
        "id": "S2EFB99C3wKj"
      },
      "source": [
        "Changing data type is common if you want to reduce memory usage.\n",
        "\n",
        "To do so, you can use the astype(‘dtype’) function where you specify the dtype you want.\n",
        "\n",
        "In my example, I changed the data type for the host_id column from int64 to int32\n",
        "\n",
        "Observe the memory before changing the data type"
      ]
    },
    {
      "cell_type": "code",
      "metadata": {
        "id": "Fafd0hgO38vE"
      },
      "source": [
        "airbnb.info()"
      ],
      "execution_count": null,
      "outputs": []
    },
    {
      "cell_type": "code",
      "metadata": {
        "id": "VFv7767y4Hru"
      },
      "source": [
        "airbnb['host_id'] = airbnb['host_id'].astype('int32')\n",
        "airbnb.info()"
      ],
      "execution_count": null,
      "outputs": []
    },
    {
      "cell_type": "markdown",
      "metadata": {
        "id": "p46jyLsb4MZZ"
      },
      "source": [
        "You can see the memory reduced from 6.5+ to 6.3+ MB."
      ]
    },
    {
      "cell_type": "markdown",
      "metadata": {
        "id": "orpFOyirp-Cd"
      },
      "source": [
        "# **Data Transformation**\n",
        "\n",
        "Data preparation or processing is one of the most important steps when working with real-world data on a machine learning project.\n",
        "\n",
        "One of the major pains in such situations is working with categorical data. This is because most of the machine learning algorithms cannot work with categorical data directly. They are needed to be converted to numerical data. One-Hot Encoding of the data is a very good solution to handle categorical data [14]"
      ]
    },
    {
      "cell_type": "markdown",
      "metadata": {
        "id": "n3yUme6NY6VQ"
      },
      "source": [
        "## **Data Types**"
      ]
    },
    {
      "cell_type": "markdown",
      "metadata": {
        "id": "n4QgkyTXmeIS"
      },
      "source": [
        "**Machine Learning type of Data**[9]"
      ]
    },
    {
      "cell_type": "markdown",
      "metadata": {
        "id": "O_JZmyZDm2Xp"
      },
      "source": [
        "Data Science is the art and science of solving real-world problems and making data-driven decisions. It primarily deals with all kinds of structured or unstructured data. Data, broadly, can be divided into two types i.e., Numerical and Categorical. Most of the data science models are equipped to work with **numerical data**; however, things get interesting when we have to deal with **Categorical data**."
      ]
    },
    {
      "cell_type": "markdown",
      "metadata": {
        "id": "KC4ePMtEZF-r"
      },
      "source": [
        "### **Categorical data**"
      ]
    },
    {
      "cell_type": "markdown",
      "metadata": {
        "id": "dypN39IInD3w"
      },
      "source": [
        "**What is Categorical data?**[9]"
      ]
    },
    {
      "cell_type": "markdown",
      "metadata": {
        "id": "YfrBwUDJnN9n"
      },
      "source": [
        "Categorical data is a form of data that takes on values within a finite set of discrete classes. It is difficult to count or measure categorical data using numbers and therefore they are divided into categories. An example of categorical data would be Gender of a person. It can only take values between Male, Female, and Others.\n",
        "There are two types of categorical variables:"
      ]
    },
    {
      "cell_type": "markdown",
      "metadata": {
        "id": "ByZ8f5q7_IN2"
      },
      "source": [
        "Simply speaking, in categorical data the values are labels instead of numbers.[14]"
      ]
    },
    {
      "cell_type": "markdown",
      "metadata": {
        "id": "gXor3Iq__Ozl"
      },
      "source": [
        "When you want to categorize ‘salary’ in a data set, then you may label it as ‘low’, medium’, ‘high’ [14]"
      ]
    },
    {
      "cell_type": "markdown",
      "metadata": {
        "id": "QJ8pOpcuCzrj"
      },
      "source": [
        "![](\n",
        "https://drive.google.com/uc?export=view&id=1VuTzW-kjbhthiFpIERG6A-YmltAI7bn1)"
      ]
    },
    {
      "cell_type": "markdown",
      "metadata": {
        "id": "Jq0RgYj3DBzh"
      },
      "source": [
        "Similarly, if you want to label ‘shape‘ of objects, you could do something like, ’round’, ‘square’, ‘triangular‘."
      ]
    },
    {
      "cell_type": "markdown",
      "metadata": {
        "id": "MQSboEknDEIp"
      },
      "source": [
        "**The Problem with Categorical Data**[14]"
      ]
    },
    {
      "cell_type": "markdown",
      "metadata": {
        "id": "fuoLkpVCDKU5"
      },
      "source": [
        "You may be thinking that the above situation of categorizing values as labels seems fair enough and reasonable. Actually, you are right. But, when you bring the case of machine learning algorithms, then the situation changes.\n",
        "\n",
        "Most of the machine learning algorithms out there cannot handle categorical labels in a data set directly. Whether it may be for classification or regression, the algorithms specifically need numerical data to carry out the predictions.\n",
        "\n",
        "So, we need to convert the categorical labels into numerical labels. In the Machine Learning world, this is often termed as data **transformation**.\n",
        "\n",
        "Now, let us see the different ways in which categorical labels can be handled."
      ]
    },
    {
      "cell_type": "markdown",
      "metadata": {
        "id": "ri0l29NYZP6b"
      },
      "source": [
        "### **Ordinal Variables**"
      ]
    },
    {
      "cell_type": "markdown",
      "metadata": {
        "id": "fi5xyxuYoMDe"
      },
      "source": [
        "**I. Ordinal Variables:**\n"
      ]
    },
    {
      "cell_type": "markdown",
      "metadata": {
        "id": "Z8vi5AOgoOsm"
      },
      "source": [
        "These variables maintain a natural order in their class of values. If we consider the level of education then we can easily sort them according to their education tag in the order of High School < Under-Graduate<post-Graduate < PhD. The review rating system can also be considered as an ordinal data type where 5 stars is definitely better than 1 star."
      ]
    },
    {
      "cell_type": "markdown",
      "metadata": {
        "id": "WoKYJjoZZXm3"
      },
      "source": [
        "### **Nominal Variables:**"
      ]
    },
    {
      "cell_type": "markdown",
      "metadata": {
        "id": "LjoCmUsyoZcE"
      },
      "source": [
        "I**I. Nominal Variables:**"
      ]
    },
    {
      "cell_type": "markdown",
      "metadata": {
        "id": "QBjqZNclooA5"
      },
      "source": [
        "These variables do not maintain any natural/logical order. The color of a car can be considered as Nominal Variable as we cannot compare the color with each other. It is impossible to state that “Red” is better than “Blue” (subjective!). Similarly, Gender is a type of Nominal Variable as again we cannot differentiate between Male, Female, and Others."
      ]
    },
    {
      "cell_type": "markdown",
      "metadata": {
        "id": "yqHC9KLDEBQp"
      },
      "source": [
        "## **Handling Categorical Labels**\n"
      ]
    },
    {
      "cell_type": "markdown",
      "metadata": {
        "id": "UWgF3v2iENOy"
      },
      "source": [
        "We will focus mainly on two methods here.\n",
        "\n",
        "- Label Encoding\n",
        "- One-Hot Encoding"
      ]
    },
    {
      "cell_type": "markdown",
      "metadata": {
        "id": "iGATCWIXou4Z"
      },
      "source": [
        "**Encoding Categorical Data:**[9]\n"
      ]
    },
    {
      "cell_type": "markdown",
      "metadata": {
        "id": "w5KT7XjYo4KI"
      },
      "source": [
        "Most of the Machine learning algorithms are designed to work with numeric data. Hence, we need to convert Categorical(text) data into numerical data for model building. There are multiple encoding techniques to convert categorical data into numerical data. Let’s look at some of them."
      ]
    },
    {
      "cell_type": "markdown",
      "metadata": {
        "id": "q1gF3x2VX8wL"
      },
      "source": [
        "When working on some datasets, we found that some of the features are categorical, if we pass that feature directly to our model, our model can't understand those feature variables. We all know that machines can't understand categorical data. Machines require all independent and dependent variables i.e input and output features to be numeric. This means that if our data contain a categorical variable, we must have to encode it to the numbers before we fit our data to the model.\n",
        "\n",
        "Models only work with numerical values. For this reason, it is necessary to convert the categorical values of the features into numerical ones, So the machine can learn from those data and gives the right model. This process of converting categorical data into numerical data is called **Encoding** [6]"
      ]
    },
    {
      "cell_type": "markdown",
      "metadata": {
        "id": "gFb6GAEApROW"
      },
      "source": [
        "There are multiple ways of encoding techniques to deal with these variables."
      ]
    },
    {
      "cell_type": "markdown",
      "metadata": {
        "id": "VDOjfOBEYf5N"
      },
      "source": [
        "The two most popular techniques of encoding are,\n"
      ]
    },
    {
      "cell_type": "markdown",
      "metadata": {
        "id": "T1rZA8G2YiYF"
      },
      "source": [
        "### **Nominal Encoding [7]**\n"
      ]
    },
    {
      "cell_type": "markdown",
      "metadata": {
        "id": "dQuw6Na-ZCU_"
      },
      "source": [
        "When we have a feature where variables are just names and there is no order or rank to this variable's feature.For example: City of person lives in, Gender of person, Marital Status, etc…\n",
        "\n",
        "\n"
      ]
    },
    {
      "cell_type": "markdown",
      "metadata": {
        "id": "Ab2VkiHFZbCd"
      },
      "source": [
        "In the above example, We do not have any order or rank, or sequence. All the variables in the respective feature are equal. We can't give them any orders or ranks. Those features are called Nominal features.\n"
      ]
    },
    {
      "cell_type": "markdown",
      "metadata": {
        "id": "b0yExvnid2uo"
      },
      "source": [
        "![](https://drive.google.com/uc?export=view&id=1EzEpCh6IEsZ0RKlDb_8c0fX376-M61ny)"
      ]
    },
    {
      "cell_type": "markdown",
      "metadata": {
        "id": "AeCGPIcVeAHS"
      },
      "source": [
        "### **Ordinal Encoding [7]**"
      ]
    },
    {
      "cell_type": "markdown",
      "metadata": {
        "id": "UY5SNrg8pb1l"
      },
      "source": [
        "Ordinal Encoding primarily encodes ordinal categories into ordered numerical values. Ordinal encoding maps each unique category value to a specific numerical value based on its order or rank. Consider the education column in the given data frame. Here, we define the ordering of the categories when creating an ordinal encoder using sklearn. so, in the example, we arrange the order inside the categories as a list in ascending order. First, we have the High School followed by Associate,Master, and then Ph.D. at the end.[9]"
      ]
    },
    {
      "cell_type": "markdown",
      "metadata": {
        "id": "WPtUBoxTv-Pf"
      },
      "source": [
        ""
      ]
    },
    {
      "cell_type": "markdown",
      "metadata": {
        "id": "uPJHjLF3eOQo"
      },
      "source": [
        "When we have a feature where variables have some order/rank.\n"
      ]
    },
    {
      "cell_type": "markdown",
      "metadata": {
        "id": "-XtvDIhvedAe"
      },
      "source": [
        "![](https://drive.google.com/uc?export=view&id=1G1oAtnnuIuAApxdPPU80679T8rtDpntH)"
      ]
    },
    {
      "cell_type": "markdown",
      "metadata": {
        "id": "qYq-hnQAeSgK"
      },
      "source": [
        "For example: Student’s performance, Customer’s review, Education of person, etc…"
      ]
    },
    {
      "cell_type": "markdown",
      "metadata": {
        "id": "iLROx2pJebAG"
      },
      "source": [
        "In the above example, we have orders/ranks/sequences. We can assign ranks based on student's performance, based on feedback given by customers, based on the highest education of the person. Those features are called Ordinal features."
      ]
    },
    {
      "cell_type": "markdown",
      "metadata": {
        "id": "BPoe8uD4p2Qr"
      },
      "source": [
        "[OrdinalEncoder(categories=[[‘HS’, ‘AS’, ‘M.S’, ‘Ph.D.’]])]\n"
      ]
    },
    {
      "cell_type": "code",
      "metadata": {
        "id": "qxdov92MqB4Z"
      },
      "source": [
        "df['Education'].unique()"
      ],
      "execution_count": null,
      "outputs": []
    },
    {
      "cell_type": "code",
      "metadata": {
        "id": "aEdStYMbqL-5"
      },
      "source": [
        "from sklearn.preprocessing import OrdinalEncoder\n",
        "ordinal = OrdinalEncoder(categories=[['HS', 'AS', 'M.S','Ph.D']])\n",
        "df['Education'] = ordinal.fit_transform(df[['Education']])\n",
        "df.head()"
      ],
      "execution_count": null,
      "outputs": []
    },
    {
      "cell_type": "markdown",
      "metadata": {
        "id": "GYrfQTE5qQsq"
      },
      "source": [
        "![](\n",
        "https://drive.google.com/uc?export=view&id=1jnxgK8GKTX1HyWXyOLDgqmYQqns98njI)"
      ]
    },
    {
      "cell_type": "markdown",
      "metadata": {
        "id": "M8boEcj6q8v5"
      },
      "source": [
        "The ordinal encoder is the most suitable option for encoding ordinal variables. It helps the machine learning model to establish a relationship between a categorical column and the target column. For example, if we want to predict the salary of an employee, it would depend on different features, and education level would be one of those features. Now, logically the one with Ph.D. will have a better salary than the one with a high school degree. so, the model will learn that a Ph.D. with a value of 3 in the data frame weighs more than the one with a high school degree with a value of 0. This way the model will learn that when the level of education goes up, the salary increases and vice versa.[9]"
      ]
    },
    {
      "cell_type": "markdown",
      "metadata": {
        "id": "dIoU6rrjrLaY"
      },
      "source": [
        "### **One Hot Encoding**:[9]"
      ]
    },
    {
      "cell_type": "markdown",
      "metadata": {
        "id": "mOtCZyEwwA52"
      },
      "source": [
        "If there is no ordinal relationship between the categorical variables then ordinal encoding might mislead the model. This is because the ordinal encoder will try to force an ordinal relationship on the variables to assume a natural ordering, thus resulting in poor performance.\n",
        "In this case, One Hot encoder should be used to treat our categorical variables. It will create dummy variables by converting N categories into N features/columns. Considering the gender column again. If we have a male in the first row, then its value is 1. Also if we have a female in the second row then its value is 0. Whenever the category exists its value is 1 and 0 where it does not. We can one-hot encode categorical variables in two ways. One, by using get_dummies in pandas and two, by using OneHotEncoder from sklearn."
      ]
    },
    {
      "cell_type": "markdown",
      "metadata": {
        "id": "JEgDnRBkgjfG"
      },
      "source": [
        "In one-hot encoding, the numerical variables are replaced by binary variables.\n",
        "\n",
        "So, each of the category is either 0 or 1. Again, take the shape category example into account. If the shape is, say, ‘triangle‘, then it is labeled as 1 and all other shapes are labeled as zero.\n",
        "\n",
        "One-hot encoding is particularly used in those cases where there is no ordinal relationship between the labels.\n",
        "\n",
        "The following image may clear some things up[14]"
      ]
    },
    {
      "cell_type": "code",
      "metadata": {
        "id": "YaZV_eZjwHUG"
      },
      "source": [
        "pd.get_dummies(df['Gender']).head()\n"
      ],
      "execution_count": null,
      "outputs": []
    },
    {
      "cell_type": "markdown",
      "metadata": {
        "id": "452Af_mKwIf1"
      },
      "source": [
        "![](\n",
        "https://drive.google.com/uc?export=view&id=1HuX3C28bC8pwODt9xiPXWzTxsN5ICxhJ)"
      ]
    },
    {
      "cell_type": "markdown",
      "metadata": {
        "id": "5r7cKZrvwxwS"
      },
      "source": [
        "Another example is Marital Status. Here, we have three different categories Married: M, Divorced: D, and Single: S. we can reduce the dimensionality by one column by using: “drop_first=True” meaning the number of columns will be one less than the number of categories."
      ]
    },
    {
      "cell_type": "code",
      "metadata": {
        "id": "2pNsHRALw16i"
      },
      "source": [
        "pd.get_dummies(df['Marital Status'],drop_first=True).head()\n"
      ],
      "execution_count": null,
      "outputs": []
    },
    {
      "cell_type": "markdown",
      "metadata": {
        "id": "mD9NJVmWxXk6"
      },
      "source": [
        "![](https://drive.google.com/uc?export=view&id=1kbocIUE7gHMIcbnZtC7CluQMUqdty5G4)"
      ]
    },
    {
      "cell_type": "markdown",
      "metadata": {
        "id": "1MUXlTIzxgjo"
      },
      "source": [
        "In the second row of the table above, we have zero for married and single, which effectively means that it is Divorced."
      ]
    },
    {
      "cell_type": "markdown",
      "metadata": {
        "id": "5_b_Qho_xiT5"
      },
      "source": [
        "If we assign drop_first =False, then we still have three columns: Married, Single, and Divorced."
      ]
    },
    {
      "cell_type": "code",
      "metadata": {
        "id": "FMhpy3o5xmWB"
      },
      "source": [
        "pd.get_dummies(df['Marital Status'],drop_first=False).head()\n"
      ],
      "execution_count": null,
      "outputs": []
    },
    {
      "cell_type": "markdown",
      "metadata": {
        "id": "utFZYVsfyFYS"
      },
      "source": [
        "![](https://drive.google.com/uc?export=view&id=1j654yAZy1pZiMX7uyjmzXXPWlnkag-Vz)"
      ]
    },
    {
      "cell_type": "markdown",
      "metadata": {
        "id": "o8LqoGmZyPuP"
      },
      "source": [
        "As mentioned, we can also implement one-hot encoding through OneHotEncoder from sklearn."
      ]
    },
    {
      "cell_type": "code",
      "metadata": {
        "id": "6LlVVEu7ySC3"
      },
      "source": [
        "from sklearn.preprocessing import OneHotEncoder\n",
        "ohe = OneHotEncoder(sparse=False)\n",
        "ohe.fit_transform(df0[['Marital Status']])"
      ],
      "execution_count": null,
      "outputs": []
    },
    {
      "cell_type": "markdown",
      "metadata": {
        "id": "amsik25XyVyH"
      },
      "source": [
        "If we have a high number of categorical variables in a column, then we should avoid using one-hot encoding. It will result in an increase in the number of corresponding columns which will give rise to a problem called “Curse of Dimensionality”."
      ]
    },
    {
      "cell_type": "code",
      "metadata": {
        "id": "xarFJmqzqNdt",
        "colab": {
          "base_uri": "https://localhost:8080/"
        },
        "outputId": "6f5721ac-d0ab-4844-c00d-be5c6d38c26a"
      },
      "source": [
        "oversampled.select_dtypes(include=['object']).columns\n"
      ],
      "execution_count": null,
      "outputs": [
        {
          "output_type": "execute_result",
          "data": {
            "text/plain": [
              "Index(['MRNO', 'AGE', 'GENDER', 'DISTRICT', 'TEHSIL', 'REPORT_VERIFIED',\n",
              "       'RESULT_VALUE'],\n",
              "      dtype='object')"
            ]
          },
          "metadata": {},
          "execution_count": 10
        }
      ]
    },
    {
      "cell_type": "code",
      "metadata": {
        "id": "zkfkPLXEqSSi"
      },
      "source": [
        "# Impute categorical var with Mode\n",
        "oversampled['MRNO'] = oversampled['MRNO'].fillna(oversampled['MRNO'].mode()[0])\n",
        "oversampled['AGE'] = oversampled['AGE'].fillna(oversampled['AGE'].mode()[0])\n",
        "oversampled['GENDER'] = oversampled['GENDER'].fillna(oversampled['GENDER'].mode()[0])\n",
        "oversampled['DISTRICT'] = oversampled['DISTRICT'].fillna(oversampled['DISTRICT'].mode()[0])\n",
        "oversampled['TEHSIL'] = oversampled['TEHSIL'].fillna(oversampled['TEHSIL'].mode()[0])\n",
        "oversampled['REPORT_VERIFIED'] = oversampled['REPORT_VERIFIED'].fillna(oversampled['REPORT_VERIFIED'].mode()[0])\n",
        "oversampled['RESULT_VALUE'] = oversampled['RESULT_VALUE'].fillna(oversampled['RESULT_VALUE'].mode()[0])"
      ],
      "execution_count": null,
      "outputs": []
    },
    {
      "cell_type": "code",
      "metadata": {
        "id": "yrGan4YLqbCI"
      },
      "source": [
        "# Convert categorical features to continuous features with Label Encoding\n",
        "from sklearn.preprocessing import LabelEncoder\n",
        "lencoders = {}\n",
        "for col in oversampled.select_dtypes(include=['object']).columns:\n",
        "    lencoders[col] = LabelEncoder()\n",
        "    oversampled[col] = lencoders[col].fit_transform(oversampled[col])"
      ],
      "execution_count": null,
      "outputs": []
    },
    {
      "cell_type": "code",
      "metadata": {
        "id": "XPPO6refqh0o"
      },
      "source": [
        "import warnings\n",
        "warnings.filterwarnings(\"ignore\")\n",
        "# Multiple Imputation by Chained Equations\n",
        "from sklearn.experimental import enable_iterative_imputer\n",
        "from sklearn.impute import IterativeImputer\n",
        "MiceImputed = oversampled.copy(deep=True) \n",
        "mice_imputer = IterativeImputer()\n",
        "MiceImputed.iloc[:, :] = mice_imputer.fit_transform(oversampled)"
      ],
      "execution_count": null,
      "outputs": []
    },
    {
      "cell_type": "markdown",
      "metadata": {
        "id": "0nCdkFRKsGV6"
      },
      "source": [
        "### **Label_Encoding**"
      ]
    },
    {
      "cell_type": "markdown",
      "metadata": {
        "id": "uRl1fZL-_EUB"
      },
      "source": [
        "The label encoder will convert each category into a unique numerical value. If implemented with Sklearn, then this encoder should be used to encode output values, i.e. y, and not the input X. It is similar to the ordinal encoder except, here the numeric values are assigned automatically without following any sort of natural order. Generally, the alphabetical order of the categorical values is used to determine which numerical value comes first. Considering our target variable “Job Status” column has four different categories. After applying label encoding to this column the four different categories are mapped into integers 0: Full Time, 1: Intern, 2: Part-Time, and 3:Unemployed. With this, it can be interpreted that Unemployed have a higher priority than Part-Time, Full Time, and Intern while training the model, whereas, there is no such priority or relation between these statuses. We can’t define the order of labels with the label encoding technique."
      ]
    },
    {
      "cell_type": "markdown",
      "metadata": {
        "id": "0Y1miQzned9F"
      },
      "source": [
        "Label encoding is really simple thing. For each of the categorical label you assign an integer to it.\n",
        "\n",
        "If we again consider the salary example, the you will be able to encode low as 1, medium as 2 and high as 3 [14]"
      ]
    },
    {
      "cell_type": "markdown",
      "metadata": {
        "id": "jAj1Gf8UeqHz"
      },
      "source": [
        "This process is okay until the number of labels is considerably small. When the number of labels increases, this solution may not work very well.\n",
        "\n",
        "This brings us to the second technique, One-Hot Encoding.[14]"
      ]
    },
    {
      "cell_type": "markdown",
      "metadata": {
        "id": "cy_rCAjPes5j"
      },
      "source": [
        "![](\n",
        "https://drive.google.com/uc?export=view&id=1qVI_RpzUKwEnivhe418XZykb5t06pise\n",
        ")"
      ]
    },
    {
      "cell_type": "code",
      "metadata": {
        "id": "IRS-UR11_JJw"
      },
      "source": [
        "from sklearn.preprocessing import LabelEncoder \n",
        "lbe = LabelEncoder()\n",
        "df['Employment Status']= lbe.fit_transform(df['Employment Status']) \n",
        "df.head()"
      ],
      "execution_count": null,
      "outputs": []
    },
    {
      "cell_type": "markdown",
      "metadata": {
        "id": "n6Y9_6n8A0MU"
      },
      "source": [
        "\n",
        "[](https://drive.google.com/uc?export=view&id=1j654yAZy1pZiMX7uyjmzXXPWlnkag-Vz)"
      ]
    },
    {
      "cell_type": "markdown",
      "metadata": {
        "id": "FKP9_lp3_RRf"
      },
      "source": [
        "The disadvantage to label encoding is that it gives an order to the categorical value, which might not be suitable to some machine learning algorithms such as Linear Regression, as they are too sensitive to the values; in such case, one hot encoding provides better results.\n",
        "On the other hand, label encoding is suitable with Decision Tree and Random Forest algorithms because they don’t depend on the values of the categorical variables."
      ]
    },
    {
      "cell_type": "markdown",
      "metadata": {
        "id": "qhYgelLK9G8Z"
      },
      "source": [
        "Import Dataset-\n",
        "\n"
      ]
    },
    {
      "cell_type": "code",
      "metadata": {
        "id": "OuqmKLVv9NAx"
      },
      "source": [
        "import seaborn as sns\n",
        "df=sns.load_dataset('titanic')\n",
        "import numpy as np"
      ],
      "execution_count": null,
      "outputs": []
    },
    {
      "cell_type": "markdown",
      "metadata": {
        "id": "NSXNdKhz9Uwn"
      },
      "source": [
        "So, I am considering categorical features and will try to find out the top important features. Creating a data frame for categorical features. We need to compare all the categories with the output category (Survived)."
      ]
    },
    {
      "cell_type": "code",
      "metadata": {
        "colab": {
          "base_uri": "https://localhost:8080/",
          "height": 204
        },
        "id": "Hdsfcixq9aSf",
        "outputId": "db8c4af6-1078-4cab-fcbe-6e2af6aa0f64"
      },
      "source": [
        "##['sex','embarked','alone','pclass','Survived']\n",
        "df=df[['sex','embarked','alone','pclass','survived']]\n",
        "df.head()"
      ],
      "execution_count": null,
      "outputs": [
        {
          "output_type": "execute_result",
          "data": {
            "text/html": [
              "<div>\n",
              "<style scoped>\n",
              "    .dataframe tbody tr th:only-of-type {\n",
              "        vertical-align: middle;\n",
              "    }\n",
              "\n",
              "    .dataframe tbody tr th {\n",
              "        vertical-align: top;\n",
              "    }\n",
              "\n",
              "    .dataframe thead th {\n",
              "        text-align: right;\n",
              "    }\n",
              "</style>\n",
              "<table border=\"1\" class=\"dataframe\">\n",
              "  <thead>\n",
              "    <tr style=\"text-align: right;\">\n",
              "      <th></th>\n",
              "      <th>sex</th>\n",
              "      <th>embarked</th>\n",
              "      <th>alone</th>\n",
              "      <th>pclass</th>\n",
              "      <th>survived</th>\n",
              "    </tr>\n",
              "  </thead>\n",
              "  <tbody>\n",
              "    <tr>\n",
              "      <th>0</th>\n",
              "      <td>male</td>\n",
              "      <td>S</td>\n",
              "      <td>False</td>\n",
              "      <td>3</td>\n",
              "      <td>0</td>\n",
              "    </tr>\n",
              "    <tr>\n",
              "      <th>1</th>\n",
              "      <td>female</td>\n",
              "      <td>C</td>\n",
              "      <td>False</td>\n",
              "      <td>1</td>\n",
              "      <td>1</td>\n",
              "    </tr>\n",
              "    <tr>\n",
              "      <th>2</th>\n",
              "      <td>female</td>\n",
              "      <td>S</td>\n",
              "      <td>True</td>\n",
              "      <td>3</td>\n",
              "      <td>1</td>\n",
              "    </tr>\n",
              "    <tr>\n",
              "      <th>3</th>\n",
              "      <td>female</td>\n",
              "      <td>S</td>\n",
              "      <td>False</td>\n",
              "      <td>1</td>\n",
              "      <td>1</td>\n",
              "    </tr>\n",
              "    <tr>\n",
              "      <th>4</th>\n",
              "      <td>male</td>\n",
              "      <td>S</td>\n",
              "      <td>True</td>\n",
              "      <td>3</td>\n",
              "      <td>0</td>\n",
              "    </tr>\n",
              "  </tbody>\n",
              "</table>\n",
              "</div>"
            ],
            "text/plain": [
              "      sex embarked  alone  pclass  survived\n",
              "0    male        S  False       3         0\n",
              "1  female        C  False       1         1\n",
              "2  female        S   True       3         1\n",
              "3  female        S  False       1         1\n",
              "4    male        S   True       3         0"
            ]
          },
          "metadata": {},
          "execution_count": 35
        }
      ]
    },
    {
      "cell_type": "markdown",
      "metadata": {
        "id": "mVtVy1br9gxJ"
      },
      "source": [
        "Let’s perform label encoding on the embarked\n",
        "\n"
      ]
    },
    {
      "cell_type": "code",
      "metadata": {
        "id": "6iF7vDNz9mtY"
      },
      "source": [
        "df['sex']=np.where(df['sex']==\"male\",1,0)\n",
        "df.head()"
      ],
      "execution_count": null,
      "outputs": []
    },
    {
      "cell_type": "markdown",
      "metadata": {
        "id": "mJjiGyo29zBz"
      },
      "source": [
        "###**Let’s perform label encoding on the embarked**\n"
      ]
    },
    {
      "cell_type": "code",
      "metadata": {
        "id": "BMFVQ6-B9wUY"
      },
      "source": [
        "import numpy as np\n",
        "### let's perform label encoding on embarked\n",
        "ordinal_label = {k: i for i, k in enumerate(df['embarked'].unique(), 0)}\n",
        "df['embarked'] = df['embarked'].map(ordinal_label)"
      ],
      "execution_count": null,
      "outputs": []
    },
    {
      "cell_type": "code",
      "metadata": {
        "id": "Z93qFiJF9-LW"
      },
      "source": [
        "df.head()\n"
      ],
      "execution_count": null,
      "outputs": []
    },
    {
      "cell_type": "code",
      "metadata": {
        "id": "zOXQ48L5-GWW"
      },
      "source": [
        "#Performing label encoding on alone\n",
        "## let's perform label encoding on alone\n",
        "df['alone']=np.where(df['alone']==True,1,0)"
      ],
      "execution_count": null,
      "outputs": []
    },
    {
      "cell_type": "code",
      "metadata": {
        "id": "Dj0pu0gh-URc"
      },
      "source": [
        "df.head()\n"
      ],
      "execution_count": null,
      "outputs": []
    },
    {
      "cell_type": "markdown",
      "metadata": {
        "id": "I9lbjuhM_a4N"
      },
      "source": [
        "# **Feature Scaling**\n",
        "\n",
        "After performing the feature engineering part, we need to do a feature scaling. The goal of feature scaling is to bring down all the data on the same scale, as each feature may vary in a different range."
      ]
    },
    {
      "cell_type": "markdown",
      "metadata": {
        "id": "CoY7XAQuAMXH"
      },
      "source": [
        "One of the primary objectives of normalization is to bring the data close to zero. That makes the optimization problem more “numerically stable”.[12]"
      ]
    },
    {
      "cell_type": "markdown",
      "metadata": {
        "id": "HLgMXIiIAXh1"
      },
      "source": [
        "Now, the scaling using mean and standard deviation assumes that the data is normally distributed, that is, most of the data is sufficiently close to the mean. So shifting the mean to zero ensures that most components of most data points are close to 0. Specifically, 68% of data would be between -1 and 1, as can be seen from the following figure:[12]"
      ]
    },
    {
      "cell_type": "markdown",
      "metadata": {
        "id": "GE5vzrgbDqlu"
      },
      "source": [
        "![](https://drive.google.com/uc?export=view&id=1z3xcwNThquBBCjH_0vCoZwwIG3I0DOcN)"
      ]
    },
    {
      "cell_type": "markdown",
      "metadata": {
        "id": "VXgzbHvjJqak"
      },
      "source": [
        "In this post we explore 3 methods of feature scaling that are implemented in scikit-learn:"
      ]
    },
    {
      "cell_type": "markdown",
      "metadata": {
        "id": "c_395pF3JyEj"
      },
      "source": [
        "- StandardScaler\n",
        "- MinMaxScaler\n",
        "- RobustScaler\n",
        "- Normalizer"
      ]
    },
    {
      "cell_type": "markdown",
      "metadata": {
        "id": "_OqSFSfpJ3Xw"
      },
      "source": [
        "## **StandardScaler** [12]"
      ]
    },
    {
      "cell_type": "markdown",
      "metadata": {
        "id": "AOe0Rz7IKOKg"
      },
      "source": [
        "The StandardScaler assumes your data is normally distributed within each feature and will scale them such that the distribution is now centered around 0, with a standard deviation of 1."
      ]
    },
    {
      "cell_type": "markdown",
      "metadata": {
        "id": "1UIoACeQKTIH"
      },
      "source": [
        "The mean and standard deviation are calculated for the feature and then the feature is scaled based on:"
      ]
    },
    {
      "cell_type": "markdown",
      "metadata": {
        "id": "iUVURlPQKcxP"
      },
      "source": [
        "If data is not normally distributed, this is not the best scaler to use.\n",
        "Let’s take a look at it in action:"
      ]
    },
    {
      "cell_type": "markdown",
      "metadata": {
        "id": "xcYgprnvKejY"
      },
      "source": [
        "![](https://drive.google.com/uc?export=view&id=1p6CMCRRpK9YY96DR4z1zlJGr8SQdGOv2\n",
        ")"
      ]
    },
    {
      "cell_type": "code",
      "metadata": {
        "id": "OhYvBC3p_orq"
      },
      "source": [
        "# Standardizing data\n",
        "from sklearn import preprocessing\n",
        "r_scaler = preprocessing.MinMaxScaler()\n",
        "r_scaler.fit(MiceImputed)\n",
        "MiceImputed = pd.DataFrame(r_scaler.transform(MiceImputed), index=MiceImputed.index, columns=MiceImputed.columns)"
      ],
      "execution_count": null,
      "outputs": []
    },
    {
      "cell_type": "code",
      "metadata": {
        "id": "_eG8wv8wAW4d"
      },
      "source": [
        "import pandas as pd\n",
        "import numpy as np\n",
        "from sklearn import preprocessing\n",
        "import matplotlib\n",
        "import matplotlib.pyplot as plt\n",
        "import seaborn as sns\n",
        "%matplotlib inline\n",
        "matplotlib.style.use('ggplot')"
      ],
      "execution_count": null,
      "outputs": []
    },
    {
      "cell_type": "code",
      "metadata": {
        "id": "XKA4K1NQK_Zd"
      },
      "source": [
        "np.random.seed(1)\n",
        "df = pd.DataFrame({\n",
        "    'x1': np.random.normal(0, 2, 10000),\n",
        "    'x2': np.random.normal(5, 3, 10000),\n",
        "    'x3': np.random.normal(-5, 5, 10000)\n",
        "})\n",
        "scaler = preprocessing.StandardScaler()\n",
        "scaled_df = scaler.fit_transform(df)\n",
        "scaled_df = pd.DataFrame(scaled_df, columns=['x1', 'x2', 'x3'])\n",
        "fig, (ax1, ax2) = plt.subplots(ncols=2, figsize=(6, 5))\n",
        "ax1.set_title('Before Scaling')\n",
        "sns.kdeplot(df['x1'], ax=ax1)\n",
        "sns.kdeplot(df['x2'], ax=ax1)\n",
        "sns.kdeplot(df['x3'], ax=ax1)\n",
        "ax2.set_title('After Standard Scaler')\n",
        "sns.kdeplot(scaled_df['x1'], ax=ax2)\n",
        "sns.kdeplot(scaled_df['x2'], ax=ax2)\n",
        "sns.kdeplot(scaled_df['x3'], ax=ax2)\n",
        "plt.show()"
      ],
      "execution_count": null,
      "outputs": []
    },
    {
      "cell_type": "markdown",
      "metadata": {
        "id": "G6ESPQaRLSLd"
      },
      "source": [
        "## **Min-Max Scaler** [12]"
      ]
    },
    {
      "cell_type": "markdown",
      "metadata": {
        "id": "rx4xTnbgLZmD"
      },
      "source": [
        "The MinMaxScaler is probably the most famous scaling algorithm, and follows the following formula for each feature:\n",
        "\n",
        "It essentially shrinks the range such that the range is now between 0 and 1 (or -1 to 1 if there are negative values).\n",
        "This scaler works better for cases in which the standard scaler might not work so well. If the distribution is not Gaussian or the standard deviation is very small, the min-max scaler works better.\n",
        "However, it is sensitive to outliers, so if there are outliers in the data, you might want to consider the Robust Scaler below.\n",
        "For now, let’s see the min-max scaler in action"
      ]
    },
    {
      "cell_type": "markdown",
      "metadata": {
        "id": "nZR0uDgQg4Tb"
      },
      "source": [
        "![](https://drive.google.com/uc?export=view&id=1WCBHBiai34AgFic_Rs6iA2ILixqU1gQq)"
      ]
    },
    {
      "cell_type": "code",
      "metadata": {
        "id": "CqHc5mcThG_Q"
      },
      "source": [
        "df = pd.DataFrame({\n",
        "    # positive skew\n",
        "    'x1': np.random.chisquare(8, 1000),\n",
        "    # negative skew \n",
        "    'x2': np.random.beta(8, 2, 1000) * 40,\n",
        "    # no skew\n",
        "    'x3': np.random.normal(50, 3, 1000)\n",
        "})\n",
        "scaler = preprocessing.MinMaxScaler()\n",
        "scaled_df = scaler.fit_transform(df)\n",
        "scaled_df = pd.DataFrame(scaled_df, columns=['x1', 'x2', 'x3'])\n",
        "fig, (ax1, ax2) = plt.subplots(ncols=2, figsize=(6, 5))\n",
        "ax1.set_title('Before Scaling')\n",
        "sns.kdeplot(df['x1'], ax=ax1)\n",
        "sns.kdeplot(df['x2'], ax=ax1)\n",
        "sns.kdeplot(df['x3'], ax=ax1)\n",
        "ax2.set_title('After Min-Max Scaling')\n",
        "sns.kdeplot(scaled_df['x1'], ax=ax2)\n",
        "sns.kdeplot(scaled_df['x2'], ax=ax2)\n",
        "sns.kdeplot(scaled_df['x3'], ax=ax2)\n",
        "plt.show()"
      ],
      "execution_count": null,
      "outputs": []
    },
    {
      "cell_type": "markdown",
      "metadata": {
        "id": "qgK__UuThdDt"
      },
      "source": [
        "Notice that the skewness of the distribution is maintained but the 3 distributions are brought into the same scale so that they overlap."
      ]
    },
    {
      "cell_type": "markdown",
      "metadata": {
        "id": "07FEKVPyhmhE"
      },
      "source": [
        "## **Robust Scaler**[12]"
      ]
    },
    {
      "cell_type": "markdown",
      "metadata": {
        "id": "DOhq2BOphubS"
      },
      "source": [
        "The RobustScaler uses a similar method to the Min-Max scaler but it instead uses the interquartile range, rather than the min-max, so that it is robust to outliers. Therefore it follows the formula:"
      ]
    },
    {
      "cell_type": "markdown",
      "metadata": {
        "id": "jvBvkb_TtWjm"
      },
      "source": [
        "![](https://drive.google.com/uc?export=view&id=1lr_IkeqAV-MsYO--MmfAMTj9OfTr6VcG)"
      ]
    },
    {
      "cell_type": "markdown",
      "metadata": {
        "id": "Z_y5F-S2hzMc"
      },
      "source": [
        "For each feature.\n",
        "Of course, this means it is using less of the data for scaling so it’s more suitable for when there are outliers in the data.\n",
        "Let’s take a look at this one in action on some data with outliers"
      ]
    },
    {
      "cell_type": "code",
      "metadata": {
        "id": "YZLP4JT2h00b"
      },
      "source": [
        "x = pd.DataFrame({\n",
        "    # Distribution with lower outliers\n",
        "    'x1': np.concatenate([np.random.normal(20, 1, 1000), np.random.normal(1, 1, 25)]),\n",
        "    # Distribution with higher outliers\n",
        "    'x2': np.concatenate([np.random.normal(30, 1, 1000), np.random.normal(50, 1, 25)]),\n",
        "})\n",
        "scaler = preprocessing.RobustScaler()\n",
        "robust_scaled_df = scaler.fit_transform(x)\n",
        "robust_scaled_df = pd.DataFrame(robust_scaled_df, columns=['x1', 'x2'])\n",
        "scaler = preprocessing.MinMaxScaler()\n",
        "minmax_scaled_df = scaler.fit_transform(x)\n",
        "minmax_scaled_df = pd.DataFrame(minmax_scaled_df, columns=['x1', 'x2'])\n",
        "fig, (ax1, ax2, ax3) = plt.subplots(ncols=3, figsize=(9, 5))\n",
        "ax1.set_title('Before Scaling')\n",
        "sns.kdeplot(x['x1'], ax=ax1)\n",
        "sns.kdeplot(x['x2'], ax=ax1)\n",
        "ax2.set_title('After Robust Scaling')\n",
        "sns.kdeplot(robust_scaled_df['x1'], ax=ax2)\n",
        "sns.kdeplot(robust_scaled_df['x2'], ax=ax2)\n",
        "ax3.set_title('After Min-Max Scaling')\n",
        "sns.kdeplot(minmax_scaled_df['x1'], ax=ax3)\n",
        "sns.kdeplot(minmax_scaled_df['x2'], ax=ax3)\n",
        "plt.show()"
      ],
      "execution_count": null,
      "outputs": []
    },
    {
      "cell_type": "markdown",
      "metadata": {
        "id": "Am45-QUFh777"
      },
      "source": [
        "Notice that after Robust scaling, the distributions are brought into the same scale and overlap, but the outliers remain outside of the bulk of the new distributions.\n",
        "However, in Min-Max scaling, the two normal distributions are kept separate by the outliers that are inside the 0–1 range."
      ]
    },
    {
      "cell_type": "markdown",
      "metadata": {
        "id": "Npy5Jrf5mJoa"
      },
      "source": [
        "## **Normalizer** [12]"
      ]
    },
    {
      "cell_type": "markdown",
      "metadata": {
        "id": "Xj0K1HPwmS-R"
      },
      "source": [
        "The normalizer scales each value by dividing each value by its magnitude in nn-dimensional space for nn number of features.\n",
        "Say your features were x, y, and z Cartesian co-ordinates your scaled value for x would be:"
      ]
    },
    {
      "cell_type": "markdown",
      "metadata": {
        "id": "Vn1lbD5CuHOJ"
      },
      "source": [
        "![](https://drive.google.com/uc?export=view&id=13kXDjD9ZJ1FsMcvOX_of9D-4pIam-z9h)"
      ]
    },
    {
      "cell_type": "markdown",
      "metadata": {
        "id": "kImIKbW2mYuw"
      },
      "source": [
        "Each point is now within 1 unit of the origin on this Cartesian coordinate system."
      ]
    },
    {
      "cell_type": "code",
      "metadata": {
        "id": "qJOuXkTemaLx"
      },
      "source": [
        "from mpl_toolkits.mplot3d import Axes3D\n",
        "df = pd.DataFrame({\n",
        "    'x1': np.random.randint(-100, 100, 1000).astype(float),\n",
        "    'y1': np.random.randint(-80, 80, 1000).astype(float),\n",
        "    'z1': np.random.randint(-150, 150, 1000).astype(float),\n",
        "})\n",
        "scaler = preprocessing.Normalizer()\n",
        "scaled_df = scaler.fit_transform(df)\n",
        "scaled_df = pd.DataFrame(scaled_df, columns=df.columns)\n",
        "fig = plt.figure(figsize=(9, 5))\n",
        "ax1 = fig.add_subplot(121, projection='3d')\n",
        "ax2 = fig.add_subplot(122, projection='3d')\n",
        "ax1.scatter(df['x1'], df['y1'], df['z1'])\n",
        "ax2.scatter(scaled_df['x1'], scaled_df['y1'], scaled_df['z1'])\n",
        "plt.show()"
      ],
      "execution_count": null,
      "outputs": []
    },
    {
      "cell_type": "markdown",
      "metadata": {
        "id": "-qJoRdEemhYh"
      },
      "source": [
        "Note that the points are all brought within a sphere that is at most 1 away from the origin at any point. Also, the axes that were previously different scales are now all one scale."
      ]
    },
    {
      "cell_type": "markdown",
      "metadata": {
        "id": "n3uyiPD3Ivp_"
      },
      "source": [
        "# **Skewness [13]**"
      ]
    },
    {
      "cell_type": "markdown",
      "metadata": {
        "id": "636S73wKI_m-"
      },
      "source": [
        "We can also see the skewness of the target variable to check if it is right or left-skewed. SO, we can make the skewed distribution to normal distribution with mean and standard deviation.[13]"
      ]
    },
    {
      "cell_type": "markdown",
      "source": [
        "We all have come across the terms outliers or skewness while cleaning or preprocessing data for a project. So, in this article, we will be discussing the following points[15]"
      ],
      "metadata": {
        "id": "dybuJov1GGdf"
      }
    },
    {
      "cell_type": "markdown",
      "source": [
        "**What is skewness?**"
      ],
      "metadata": {
        "id": "Muo1jb3dGZsZ"
      }
    },
    {
      "cell_type": "markdown",
      "source": [
        "Skewness is an asymmetry in the distribution of data as it does not show any kind of symmetry in continuous data. Skewed data can be of 2 types. Right-Skewed data is also called as Positively-Skewed data and, Left-Skewed data is called as Negatively-Skewed data [15]"
      ],
      "metadata": {
        "id": "f0A5wCSdGdqW"
      }
    },
    {
      "cell_type": "markdown",
      "source": [
        "**How to identify if your data is skewed or not?[15]**"
      ],
      "metadata": {
        "id": "aGwF3CtOGrxo"
      }
    },
    {
      "cell_type": "markdown",
      "source": [
        "There are 2 main methods to identify skewness in the data. The first is the Observational method and, the second is the Statistical method."
      ],
      "metadata": {
        "id": "iqAKmaclG0cl"
      }
    },
    {
      "cell_type": "markdown",
      "source": [
        "**1. Observational Method**"
      ],
      "metadata": {
        "id": "fY3E8cr_JEiV"
      }
    },
    {
      "cell_type": "markdown",
      "source": [
        "Identification of skewness can be done easily by plotting a histogram and observing a few characteristics.\n",
        "For a normal distribution i.e a distribution with no skewness the histogram should look like Fig(1) here, both the ends (tail regions) taper equally with a peek at the centre of the distribution like a “Bell-Curve”. For data with no skewness the Mean = Median = Mode.[15]"
      ],
      "metadata": {
        "id": "hJybwDSeJOVx"
      }
    },
    {
      "cell_type": "markdown",
      "source": [
        "\n",
        "\n",
        "![](https://drive.google.com/uc?export=view&id=1WjR2nnJUmKoiuZVUiDQADohDOqRGxkKk)"
      ],
      "metadata": {
        "id": "I2nDVuZ2JSoq"
      }
    },
    {
      "cell_type": "markdown",
      "source": [
        "For distribution with left-skewness or negative skewness, the histogram should look like Fig(2) here the only the left part of the distribution tapers with the peak shifted towards the right-hand side. For Left-Skewed data the Mode > Median > Mean.[15]"
      ],
      "metadata": {
        "id": "O6J8yPqcJ78Y"
      }
    },
    {
      "cell_type": "markdown",
      "source": [
        "![](https://drive.google.com/uc?export=view&id=1_tcTjpoywmpL5Ixiyd_NcKZ-1IedALr0)"
      ],
      "metadata": {
        "id": "GAKQ2YVqKEg4"
      }
    },
    {
      "cell_type": "markdown",
      "source": [
        "For distribution with right-skewness or positive-skewness the histogram should look like Fig(3) here the only the right part of the distribution tapers with the peak shifted towards the left-hand side. For Right-Skewed data the Mean > Median > Mode.[15]"
      ],
      "metadata": {
        "id": "BxdtfPkyKflA"
      }
    },
    {
      "cell_type": "markdown",
      "source": [
        "![](https://drive.google.com/uc?export=view&id=17aCr28uZ0v3Ue6mvtXKlPTAqe-EkGKpC)"
      ],
      "metadata": {
        "id": "iOv9bT3xM8Wl"
      }
    },
    {
      "cell_type": "markdown",
      "source": [
        "**2. Statistical Method**[15]"
      ],
      "metadata": {
        "id": "PEX7yNvSNG3s"
      }
    },
    {
      "cell_type": "markdown",
      "source": [
        "Now, the method we studied above is the observational method. We can also calculate the skewness of our data using statistics as well. So the formula to calculate skewness is given below:"
      ],
      "metadata": {
        "id": "cfyUW9e7NMa-"
      }
    },
    {
      "cell_type": "markdown",
      "source": [
        "![](https://drive.google.com/uc?export=view&id=1F_PaMDNfQyI8fEiZcMT0g7brEUzFeXVi)"
      ],
      "metadata": {
        "id": "TzzOZnT4Nerr"
      }
    },
    {
      "cell_type": "markdown",
      "source": [
        "The acceptable value of skewness is considered to be between -3 and +3. If the value of skewness falls on either side of this range then it indicates that the skewness must be fixed."
      ],
      "metadata": {
        "id": "T5jn4cJYNpff"
      }
    },
    {
      "cell_type": "markdown",
      "source": [
        "**Why is skewness a problem?**\n"
      ],
      "metadata": {
        "id": "AeBLb1jdNt7L"
      }
    },
    {
      "cell_type": "markdown",
      "source": [
        "Most of the statistical models do not work when the data is skewed. The reason behind this is that the tapering ends or the tail region of the skewed data distributions are the outliers in the data and it is known to us that outliers can severely damage the performance of a statistical model. The best example of this being regression models that show bad results when trained over skewed data.[15]"
      ],
      "metadata": {
        "id": "Rda5NpGMP2yl"
      }
    },
    {
      "cell_type": "markdown",
      "source": [
        "**How do we fix this skewness?**[15]\n"
      ],
      "metadata": {
        "id": "Cn2dEWYsP6Co"
      }
    },
    {
      "cell_type": "markdown",
      "source": [
        "Now, as we know that skewness is bad for our data and many machine learning algorithms prefer or perform better when numerical data has a normal distribution we need a way to remove this skewness, to do so in python most frequently used methods are PowerTransformer and QuantileTransformer. Both these methods are used to get a normal or Gaussian-like distribution. Now let us see how to use these methods with an example:\n",
        "For the example below the dataset considered is the European Credit Card dataset which you can find on Kaggle and I have considered a few random columns with skewness to perform the transformation. The code for implementing the transformers is as following:"
      ],
      "metadata": {
        "id": "JDSDQJN0QHbg"
      }
    },
    {
      "cell_type": "code",
      "source": [
        "import matplotlib.pyplot as plt\n",
        "import seaborn as sns\n",
        "import numpy as np\n",
        "import pandas as pd \n",
        "from sklearn.preprocessing import PowerTransformer, QuantileTransformer\n",
        "cols1 = [\"V1\", \"V3\", \"V4\"]\n",
        "def test_transformers(columns):\n",
        "    pt = PowerTransformer()\n",
        "    qt = QuantileTransformer(n_quantiles=500, output_distribution='normal')\n",
        "    fig = plt.figure(figsize=(20,30))\n",
        "    j = 1\n",
        "    for i in columns:\n",
        "        array = np.array(df[i]).reshape(-1, 1)\n",
        "        y = pt.fit_transform(array)\n",
        "        x = qt.fit_transform(array)\n",
        "        plt.subplot(3,3,j)\n",
        "        sns.histplot(array, bins = 50, kde = True)\n",
        "        plt.title(f\"Original Distribution for {i}\")\n",
        "        plt.subplot(3,3,j+1)\n",
        "        sns.histplot(x, bins = 50, kde = True)\n",
        "        plt.title(f\"Quantile Transform for {i}\")\n",
        "        plt.subplot(3,3,j+2)\n",
        "        sns.histplot(y, bins = 50, kde = True)\n",
        "        plt.title(f\"Power Transform for {i}\")\n",
        "        j += 3\n",
        "test_transformers(cols1)"
      ],
      "metadata": {
        "id": "Vj_eyT3JNtFz"
      },
      "execution_count": null,
      "outputs": []
    },
    {
      "cell_type": "markdown",
      "source": [
        "![](https://drive.google.com/uc?export=view&id=1D0uYyv5yQ1XgcNklue-Ah6GXhiSqUuHM)"
      ],
      "metadata": {
        "id": "lE2p1QEnQkXA"
      }
    },
    {
      "cell_type": "markdown",
      "source": [
        "It can be seen that QuantileTransformer has performed better than PowerTransformer in terms of converting the skewed distribution into a normal distribution, but you should always select the method which works best with your data. It’s observed that QuantileTransformer works better on larger datasets than PowerTransformer.\n",
        "Other methods can be used to reduce the skewness as well. Like for left-skewed data squares, cubes or, higher power transforms can be performed and, for right-skewed data, we can use the Square-root, Cube-root or Log transforms. To know more about these, you can refer to this article."
      ],
      "metadata": {
        "id": "G_OFAAokQTNz"
      }
    },
    {
      "cell_type": "code",
      "metadata": {
        "colab": {
          "base_uri": "https://localhost:8080/",
          "height": 419
        },
        "id": "JQPfmlqUJOxo",
        "outputId": "75f6a9fa-6728-4ce4-ba0a-7c4b9ca95cb3"
      },
      "source": [
        "MiceImputed"
      ],
      "execution_count": null,
      "outputs": [
        {
          "output_type": "execute_result",
          "data": {
            "text/html": [
              "<div>\n",
              "<style scoped>\n",
              "    .dataframe tbody tr th:only-of-type {\n",
              "        vertical-align: middle;\n",
              "    }\n",
              "\n",
              "    .dataframe tbody tr th {\n",
              "        vertical-align: top;\n",
              "    }\n",
              "\n",
              "    .dataframe thead th {\n",
              "        text-align: right;\n",
              "    }\n",
              "</style>\n",
              "<table border=\"1\" class=\"dataframe\">\n",
              "  <thead>\n",
              "    <tr style=\"text-align: right;\">\n",
              "      <th></th>\n",
              "      <th>MRNO</th>\n",
              "      <th>AGE</th>\n",
              "      <th>GENDER</th>\n",
              "      <th>DISTRICT</th>\n",
              "      <th>TEHSIL</th>\n",
              "      <th>REPORT_VERIFIED</th>\n",
              "      <th>CPT_ID</th>\n",
              "      <th>RESULT_VALUE</th>\n",
              "      <th>CPT_ID.1</th>\n",
              "      <th>RESULT_TEXT</th>\n",
              "    </tr>\n",
              "  </thead>\n",
              "  <tbody>\n",
              "    <tr>\n",
              "      <th>0</th>\n",
              "      <td>0.893023</td>\n",
              "      <td>0.30</td>\n",
              "      <td>0.5</td>\n",
              "      <td>0.000000</td>\n",
              "      <td>1.000000</td>\n",
              "      <td>0.174176</td>\n",
              "      <td>0.481995</td>\n",
              "      <td>1.0</td>\n",
              "      <td>0.0</td>\n",
              "      <td>0.0</td>\n",
              "    </tr>\n",
              "    <tr>\n",
              "      <th>1</th>\n",
              "      <td>0.893454</td>\n",
              "      <td>0.41</td>\n",
              "      <td>0.5</td>\n",
              "      <td>0.000000</td>\n",
              "      <td>0.018519</td>\n",
              "      <td>0.947134</td>\n",
              "      <td>1.000000</td>\n",
              "      <td>1.0</td>\n",
              "      <td>0.0</td>\n",
              "      <td>0.0</td>\n",
              "    </tr>\n",
              "    <tr>\n",
              "      <th>2</th>\n",
              "      <td>0.893454</td>\n",
              "      <td>0.41</td>\n",
              "      <td>0.5</td>\n",
              "      <td>0.000000</td>\n",
              "      <td>0.018519</td>\n",
              "      <td>0.947090</td>\n",
              "      <td>0.481995</td>\n",
              "      <td>1.0</td>\n",
              "      <td>0.0</td>\n",
              "      <td>0.0</td>\n",
              "    </tr>\n",
              "    <tr>\n",
              "      <th>3</th>\n",
              "      <td>0.888200</td>\n",
              "      <td>0.23</td>\n",
              "      <td>0.5</td>\n",
              "      <td>0.000000</td>\n",
              "      <td>0.018519</td>\n",
              "      <td>0.476987</td>\n",
              "      <td>0.481995</td>\n",
              "      <td>1.0</td>\n",
              "      <td>0.0</td>\n",
              "      <td>0.0</td>\n",
              "    </tr>\n",
              "    <tr>\n",
              "      <th>4</th>\n",
              "      <td>0.888286</td>\n",
              "      <td>0.40</td>\n",
              "      <td>0.5</td>\n",
              "      <td>0.000000</td>\n",
              "      <td>0.018519</td>\n",
              "      <td>0.552535</td>\n",
              "      <td>0.481995</td>\n",
              "      <td>1.0</td>\n",
              "      <td>0.0</td>\n",
              "      <td>0.0</td>\n",
              "    </tr>\n",
              "    <tr>\n",
              "      <th>...</th>\n",
              "      <td>...</td>\n",
              "      <td>...</td>\n",
              "      <td>...</td>\n",
              "      <td>...</td>\n",
              "      <td>...</td>\n",
              "      <td>...</td>\n",
              "      <td>...</td>\n",
              "      <td>...</td>\n",
              "      <td>...</td>\n",
              "      <td>...</td>\n",
              "    </tr>\n",
              "    <tr>\n",
              "      <th>13513</th>\n",
              "      <td>0.627562</td>\n",
              "      <td>0.84</td>\n",
              "      <td>0.5</td>\n",
              "      <td>0.000000</td>\n",
              "      <td>0.018519</td>\n",
              "      <td>0.372402</td>\n",
              "      <td>0.633636</td>\n",
              "      <td>1.0</td>\n",
              "      <td>0.0</td>\n",
              "      <td>1.0</td>\n",
              "    </tr>\n",
              "    <tr>\n",
              "      <th>8974</th>\n",
              "      <td>0.064083</td>\n",
              "      <td>0.09</td>\n",
              "      <td>0.5</td>\n",
              "      <td>0.000000</td>\n",
              "      <td>0.018519</td>\n",
              "      <td>0.468029</td>\n",
              "      <td>1.000000</td>\n",
              "      <td>1.0</td>\n",
              "      <td>0.0</td>\n",
              "      <td>1.0</td>\n",
              "    </tr>\n",
              "    <tr>\n",
              "      <th>18480</th>\n",
              "      <td>0.408010</td>\n",
              "      <td>0.20</td>\n",
              "      <td>0.5</td>\n",
              "      <td>0.000000</td>\n",
              "      <td>0.018519</td>\n",
              "      <td>0.545254</td>\n",
              "      <td>0.481995</td>\n",
              "      <td>1.0</td>\n",
              "      <td>0.0</td>\n",
              "      <td>1.0</td>\n",
              "    </tr>\n",
              "    <tr>\n",
              "      <th>20294</th>\n",
              "      <td>0.060034</td>\n",
              "      <td>0.72</td>\n",
              "      <td>0.0</td>\n",
              "      <td>0.567568</td>\n",
              "      <td>0.666667</td>\n",
              "      <td>0.456820</td>\n",
              "      <td>1.000000</td>\n",
              "      <td>1.0</td>\n",
              "      <td>0.0</td>\n",
              "      <td>1.0</td>\n",
              "    </tr>\n",
              "    <tr>\n",
              "      <th>1407</th>\n",
              "      <td>0.456072</td>\n",
              "      <td>0.87</td>\n",
              "      <td>0.5</td>\n",
              "      <td>0.081081</td>\n",
              "      <td>0.148148</td>\n",
              "      <td>0.754865</td>\n",
              "      <td>1.000000</td>\n",
              "      <td>1.0</td>\n",
              "      <td>0.0</td>\n",
              "      <td>1.0</td>\n",
              "    </tr>\n",
              "  </tbody>\n",
              "</table>\n",
              "<p>45512 rows × 10 columns</p>\n",
              "</div>"
            ],
            "text/plain": [
              "           MRNO   AGE  GENDER  ...  RESULT_VALUE  CPT_ID.1  RESULT_TEXT\n",
              "0      0.893023  0.30     0.5  ...           1.0       0.0          0.0\n",
              "1      0.893454  0.41     0.5  ...           1.0       0.0          0.0\n",
              "2      0.893454  0.41     0.5  ...           1.0       0.0          0.0\n",
              "3      0.888200  0.23     0.5  ...           1.0       0.0          0.0\n",
              "4      0.888286  0.40     0.5  ...           1.0       0.0          0.0\n",
              "...         ...   ...     ...  ...           ...       ...          ...\n",
              "13513  0.627562  0.84     0.5  ...           1.0       0.0          1.0\n",
              "8974   0.064083  0.09     0.5  ...           1.0       0.0          1.0\n",
              "18480  0.408010  0.20     0.5  ...           1.0       0.0          1.0\n",
              "20294  0.060034  0.72     0.0  ...           1.0       0.0          1.0\n",
              "1407   0.456072  0.87     0.5  ...           1.0       0.0          1.0\n",
              "\n",
              "[45512 rows x 10 columns]"
            ]
          },
          "metadata": {},
          "execution_count": 19
        }
      ]
    },
    {
      "cell_type": "code",
      "metadata": {
        "colab": {
          "base_uri": "https://localhost:8080/",
          "height": 830
        },
        "id": "t_MJLOLzJEI_",
        "outputId": "6de12c32-4a9c-4a52-8357-a91af639c637"
      },
      "source": [
        "#[13]\n",
        "import seaborn as sns\n",
        "from scipy import stats\n",
        "plt.subplots(figsize=(12,9))\n",
        "sns.distplot(MiceImputed['RESULT_TEXT'], fit=stats.norm)\n",
        "# fit the mean and standard deviation\n",
        "(mu, sigma) = stats.norm.fit(MiceImputed['RESULT_TEXT'])\n",
        "# plot with the distribution\n",
        "plt.legend(['Normal dist. ($\\mu=$ {:.2f} and $\\sigma=$ {:.2f} )'.format(mu, sigma)], loc='best')\n",
        "plt.ylabel('Frequency')\n",
        "#Probablity plot\n",
        "fig = plt.figure()\n",
        "stats.probplot(MiceImputed['RESULT_TEXT'], plot=plt)\n",
        "plt.show()"
      ],
      "execution_count": null,
      "outputs": [
        {
          "output_type": "display_data",
          "data": {
            "image/png": "[encoded data removed]",
            "text/plain": [
              "<Figure size 864x648 with 1 Axes>"
            ]
          },
          "metadata": {
            "needs_background": "light"
          }
        },
        {
          "output_type": "display_data",
          "data": {
            "image/png": "[encoded data removed]",
            "text/plain": [
              "<Figure size 432x288 with 1 Axes>"
            ]
          },
          "metadata": {
            "needs_background": "light"
          }
        }
      ]
    },
    {
      "cell_type": "markdown",
      "metadata": {
        "id": "wfZ907RtJuN-"
      },
      "source": [
        "From the above distribution, it is observed that the target column is right-skewed and one more observation we can conclude from this is that the outliers are on the right side. To make the target variable in a normal distribution we used log function so that the mean and standard deviation becomes to make as a standard normal distribution after standardizing the values in the target column.[13]"
      ]
    },
    {
      "cell_type": "code",
      "metadata": {
        "colab": {
          "base_uri": "https://localhost:8080/",
          "height": 830
        },
        "id": "dg5GN17XJ0no",
        "outputId": "6abf3381-6be2-4b43-e416-836ecfe59334"
      },
      "source": [
        "#This target variabale is right skewed. Now, we need to transform this variable and make it normal distribution.\n",
        "#using log function to normalize#\n",
        "#[13]\n",
        "MiceImputed['price'] = np.log1p(MiceImputed['RESULT_TEXT'])\n",
        "#Check again for more normal distribution\n",
        "plt.subplots(figsize=(12,9))\n",
        "sns.distplot(MiceImputed['RESULT_TEXT'], fit=stats.norm)\n",
        "# fit the mean and standard deviation\n",
        "(mu, sigma) = stats.norm.fit(MiceImputed['RESULT_TEXT'])\n",
        "# plot with the distribution\n",
        "plt.legend(['Normal dist.($\\mu=$ {:.2f} and $\\sigma=$ {:.2f})'\n",
        "                           .format(mu, sigma)], loc='best')\n",
        "plt.ylabel('Frequency')\n",
        "#Probablity plot\n",
        "fig = plt.figure()\n",
        "stats.probplot(MiceImputed['RESULT_TEXT'], plot=plt)\n",
        "plt.show()"
      ],
      "execution_count": null,
      "outputs": [
        {
          "output_type": "display_data",
          "data": {
            "image/png": "[encoded data removed]",
            "text/plain": [
              "<Figure size 864x648 with 1 Axes>"
            ]
          },
          "metadata": {
            "needs_background": "light"
          }
        },
        {
          "output_type": "display_data",
          "data": {
            "image/png": "[encoded data removed]",
            "text/plain": [
              "<Figure size 432x288 with 1 Axes>"
            ]
          },
          "metadata": {
            "needs_background": "light"
          }
        }
      ]
    },
    {
      "cell_type": "markdown",
      "metadata": {
        "id": "-OoCHQ6TwE_f"
      },
      "source": [
        "# **Outlier detection**\n",
        "\n",
        "As most of the machine learning and deep learning algorithms are sensitive, it may take a longer time for training also gives us a less accurate model and poor results."
      ]
    },
    {
      "cell_type": "markdown",
      "source": [
        "**What are Outliers ?**"
      ],
      "metadata": {
        "id": "1xP1DC2HTR7v"
      }
    },
    {
      "cell_type": "markdown",
      "source": [
        "Outliers are the datapoints which are significantly different from the rest of the datapoints in the dataset. Outliers increase the variance in the dataset which inturn results in the decrease in the statistical power. So it is very important to identify these outliers and treat them accordingly.[18]"
      ],
      "metadata": {
        "id": "PM6Fd-4zTWjf"
      }
    },
    {
      "cell_type": "markdown",
      "metadata": {
        "id": "8k2wkbevQ0KQ"
      },
      "source": [
        "**Defination:**\n",
        "\n",
        "Outlier is an observation point that is distant from other observations.Extreme values can be present in both dependent & independent variables, in the case of supervised learning methods.\n",
        "\n",
        "These extreme values need not necessarily impact the model performance or accuracy, but when they do they are called “Influential” points. Many machine learning models, like linear & logistic regression, are easily impacted by the outliers in the training data.Models like AdaBoost increase the weights of misclassified points on every iteration and therefore might put high weights on these outliers as they tend to be often misclassified. This can become an issue if that outlier is an error of some type, or if we want our model to generalize well and not care for extreme values.To overcome this issue, we can either change the model or metric, or we can make some changes in the data and use the same models [5]"
      ]
    },
    {
      "cell_type": "markdown",
      "source": [
        "![](https://drive.google.com/uc?export=view&id=1tZVHeBnhIVH2LkvLXFBFRev7jJl7nelQ)"
      ],
      "metadata": {
        "id": "eVDaNYq8TqiA"
      }
    },
    {
      "cell_type": "markdown",
      "source": [
        "![](https://drive.google.com/uc?export=view&id=1gQ0YliVHDL9QJLcEhSTDlGKwINGB7lYn)"
      ],
      "metadata": {
        "id": "d2zxKv1mSrYZ"
      }
    },
    {
      "cell_type": "markdown",
      "source": [
        "**Reasons for the occurrence of Outliers**\n",
        "\n",
        "Outliers can occur because of various reasons. Some of the most common reasons include:[18]\n",
        "- Error in data entry.\n",
        "- Inappropriate scaling of datapoints.\n",
        "- Errors caused during measurement.\n",
        "- Existence of genuine extreme data points."
      ],
      "metadata": {
        "id": "wR7k9X-eLgwQ"
      }
    },
    {
      "cell_type": "markdown",
      "source": [
        "**Importance of Outlier Detection**[18]\n",
        "\n",
        "\n",
        "Now that we know the reasons for the occurrence of the outliers, it is also important to know why is it important to identify these outliers. Simple reason is that some of the measures of central tendency and measures of variability are affected by outliers.\n",
        "- Mean: Since mean is the average of all the values present in the dataset, it is affected by the presence of outliers. The mean shifts towards the outlier.\n",
        "- Median: Median is the middle value of the dataset and is not affected the presence of outliers. So we should use median instead of mean when we are dealing with the datasets consisting of outliers.\n",
        "- Mode: Mode is the value that occurs maximum number of times in the dataset and is not affected by the outliers.\n",
        "- Variance & Standard Deviation: Since mean is used to calculate both variance and standard deviation, both get affected by the outliers.\n",
        "- Range: Since range is the difference between the minimum and maximum datapoints, range gets most affected by the presence of outliers.\n",
        "\n",
        "Therefore except the median and mode, most of the other important measures get affected by the presence of outliers. Apart from these reasons, outliers also cause problems while fitting models and increase the errors. So it is very important to identify these outliers."
      ],
      "metadata": {
        "id": "weJWkErdMB90"
      }
    },
    {
      "cell_type": "markdown",
      "metadata": {
        "id": "XdlYsfevSLSv"
      },
      "source": [
        "**Extreme Values in Independent Variables [5]**\n",
        "\n",
        "These are called points of “high leverage”. With a single predictor, an extreme value is simply one that is particularly high or low. With multiple predictors, extreme values may be particularly high or low for one or more predictors (univariate analysis — analysis of one variable at a time) or may be “unusual” combinations of predictor values (multivariate analysis)\n"
      ]
    },
    {
      "cell_type": "markdown",
      "metadata": {
        "id": "F6u5JcpQSqPR"
      },
      "source": [
        "**Extreme Values in Target Variables [5]**\n",
        "\n",
        "Regression — these extreme values are termed as “outliers”. They may or may not be influential points\n"
      ]
    },
    {
      "cell_type": "markdown",
      "metadata": {
        "id": "-6Fa2YQ2S62A"
      },
      "source": [
        "Classification: Here, we have two types of extreme values:\n"
      ]
    },
    {
      "cell_type": "markdown",
      "metadata": {
        "id": "hj0_azsUTQRx"
      },
      "source": [
        "1. **Outliers:** For example, in an image classification problem in which we’re trying to identify dogs/cats, one of the images in the training set has a gorilla (or any other category not part of the goal of the problem) by mistake. Here, the gorilla image is clearly noise. Detecting outliers here does not make sense because we already know which categories we want to focus on and which to discard"
      ]
    },
    {
      "cell_type": "markdown",
      "metadata": {
        "id": "q-8ezNNKTZJ3"
      },
      "source": [
        "2. **Novelties:** Many times we’re dealing with novelties, and the problem is often called supervised anomaly detection. In this case, the goal is not to remove outliers or reduce their impact, but we are interested in detecting anomalies in new observations. Therefore we won’t be discussing it in this post. It is especially used for fraud detection in credit-card transactions, fake calls, etc."
      ]
    },
    {
      "cell_type": "markdown",
      "metadata": {
        "id": "ModLlb4mTucn"
      },
      "source": [
        "Our major focus will be outliers (extreme values in target variable for further investigation and treatment). We’ll see the impact of these extreme values on the model’s performance."
      ]
    },
    {
      "cell_type": "markdown",
      "metadata": {
        "id": "htiwFPisfBNg"
      },
      "source": [
        "## **9.1 Methods to identify the Outlier [5]**"
      ]
    },
    {
      "cell_type": "markdown",
      "metadata": {
        "id": "2o137YJKT7TI"
      },
      "source": [
        "**Common Methods for Detecting Outliers [5]**\n",
        "\n",
        "When detecting outliers, we are either doing univariate analysis or multivariate analysis. When your linear model has a single predictor, then you can use univariate analysis. However, it can give misleading results if you use it for multiple predictors. One common way of performing outlier detection is to assume that the regular data come from a known distribution (e.g. data are Gaussian distributed). This assumption is discussed in the Z-Score method section below."
      ]
    },
    {
      "cell_type": "markdown",
      "source": [
        "**Visualization**[18]\n",
        "\n",
        "Presence of outliers can also be detected by using various visualization methods. Some of the famous plots include:\n",
        "- Scatter plot\n",
        "- Box and Whisker plot\n",
        "- Histogram\n",
        "- Distribution Plot\n",
        "- QQ plot"
      ],
      "metadata": {
        "id": "qPa-Kfk9OrW_"
      }
    },
    {
      "cell_type": "markdown",
      "metadata": {
        "id": "xr8JhIW3UQ2Y"
      },
      "source": [
        "1. **Box-Plot**\n",
        "\n",
        "The quickest and easiest way to identify outliers is by visualizing them using plots. If your dataset is not huge (approx. up to 10k observations & 100 features), I would highly recommend you build scatter plots & box-plots of variables. If there aren’t outliers, you’ll definitely gain some other insights like correlations, variability, or external factors like the impact of world war/recession on economic factors. However, this method is not recommended for high dimensional data where the power of visualization fails.\n"
      ]
    },
    {
      "cell_type": "markdown",
      "metadata": {
        "id": "JuqTpjBEHYhn"
      },
      "source": [
        "To know the outliers in column features with the help of box plot visualization. For this, I create a for loop in which I used columns that have the type of int64 and float64. We can also observe outliers from the describe() function. If there are differences between the 75% to the maximum value and the difference between the minimum and 25% then there are outliers.[13]"
      ]
    },
    {
      "cell_type": "markdown",
      "metadata": {
        "id": "CSU43eKUUhD2"
      },
      "source": [
        "The box plot uses inter-quartile range to detect outliers.\n",
        "\n",
        " Here, we first determine the quartiles Q1 and Q3.\n",
        "\n",
        "Interquartile range is given by, IQR = Q3 — Q1\n",
        "\n",
        "Upper limit = Q3+1.5*IQR\n",
        "\n",
        "Lower limit = Q1–1.5*IQR"
      ]
    },
    {
      "cell_type": "markdown",
      "metadata": {
        "id": "40KHu8jfVU-2"
      },
      "source": [
        "![](\n",
        "https://drive.google.com/uc?export=view&id=1Co72C3c03NmxMSXaLVOKb6HDlr10X6Mf)"
      ]
    },
    {
      "cell_type": "code",
      "metadata": {
        "id": "4eCL6XlWHdBe"
      },
      "source": [
        "#[13]\n",
        "\n",
        "#outliers with boxplot\n",
        "for column in MiceImputed :\n",
        "    if MiceImputed [column].dtype in ['int64', 'float64']:\n",
        "        plt.figure()\n",
        "        MiceImputed .boxplot(column = [column])"
      ],
      "execution_count": null,
      "outputs": []
    },
    {
      "cell_type": "markdown",
      "metadata": {
        "id": "tfLDiEbWIIv8"
      },
      "source": [
        "These are some box plots but in actual it will show all column features box plots. We also need to know if there are any outliers in the target column or not.[13]"
      ]
    },
    {
      "cell_type": "code",
      "metadata": {
        "colab": {
          "base_uri": "https://localhost:8080/",
          "height": 419
        },
        "id": "HopJ9joZITFB",
        "outputId": "a71ff874-fb61-4e47-81ef-9e7d0266294f"
      },
      "source": [
        "MiceImputed"
      ],
      "execution_count": null,
      "outputs": [
        {
          "output_type": "execute_result",
          "data": {
            "text/html": [
              "<div>\n",
              "<style scoped>\n",
              "    .dataframe tbody tr th:only-of-type {\n",
              "        vertical-align: middle;\n",
              "    }\n",
              "\n",
              "    .dataframe tbody tr th {\n",
              "        vertical-align: top;\n",
              "    }\n",
              "\n",
              "    .dataframe thead th {\n",
              "        text-align: right;\n",
              "    }\n",
              "</style>\n",
              "<table border=\"1\" class=\"dataframe\">\n",
              "  <thead>\n",
              "    <tr style=\"text-align: right;\">\n",
              "      <th></th>\n",
              "      <th>MRNO</th>\n",
              "      <th>AGE</th>\n",
              "      <th>GENDER</th>\n",
              "      <th>DISTRICT</th>\n",
              "      <th>TEHSIL</th>\n",
              "      <th>REPORT_VERIFIED</th>\n",
              "      <th>CPT_ID</th>\n",
              "      <th>RESULT_VALUE</th>\n",
              "      <th>CPT_ID.1</th>\n",
              "      <th>RESULT_TEXT</th>\n",
              "    </tr>\n",
              "  </thead>\n",
              "  <tbody>\n",
              "    <tr>\n",
              "      <th>0</th>\n",
              "      <td>0.893023</td>\n",
              "      <td>0.30</td>\n",
              "      <td>0.5</td>\n",
              "      <td>0.000000</td>\n",
              "      <td>1.000000</td>\n",
              "      <td>0.174176</td>\n",
              "      <td>0.481995</td>\n",
              "      <td>1.0</td>\n",
              "      <td>0.0</td>\n",
              "      <td>0.0</td>\n",
              "    </tr>\n",
              "    <tr>\n",
              "      <th>1</th>\n",
              "      <td>0.893454</td>\n",
              "      <td>0.41</td>\n",
              "      <td>0.5</td>\n",
              "      <td>0.000000</td>\n",
              "      <td>0.018519</td>\n",
              "      <td>0.947134</td>\n",
              "      <td>1.000000</td>\n",
              "      <td>1.0</td>\n",
              "      <td>0.0</td>\n",
              "      <td>0.0</td>\n",
              "    </tr>\n",
              "    <tr>\n",
              "      <th>2</th>\n",
              "      <td>0.893454</td>\n",
              "      <td>0.41</td>\n",
              "      <td>0.5</td>\n",
              "      <td>0.000000</td>\n",
              "      <td>0.018519</td>\n",
              "      <td>0.947090</td>\n",
              "      <td>0.481995</td>\n",
              "      <td>1.0</td>\n",
              "      <td>0.0</td>\n",
              "      <td>0.0</td>\n",
              "    </tr>\n",
              "    <tr>\n",
              "      <th>3</th>\n",
              "      <td>0.888200</td>\n",
              "      <td>0.23</td>\n",
              "      <td>0.5</td>\n",
              "      <td>0.000000</td>\n",
              "      <td>0.018519</td>\n",
              "      <td>0.476987</td>\n",
              "      <td>0.481995</td>\n",
              "      <td>1.0</td>\n",
              "      <td>0.0</td>\n",
              "      <td>0.0</td>\n",
              "    </tr>\n",
              "    <tr>\n",
              "      <th>4</th>\n",
              "      <td>0.888286</td>\n",
              "      <td>0.40</td>\n",
              "      <td>0.5</td>\n",
              "      <td>0.000000</td>\n",
              "      <td>0.018519</td>\n",
              "      <td>0.552535</td>\n",
              "      <td>0.481995</td>\n",
              "      <td>1.0</td>\n",
              "      <td>0.0</td>\n",
              "      <td>0.0</td>\n",
              "    </tr>\n",
              "    <tr>\n",
              "      <th>...</th>\n",
              "      <td>...</td>\n",
              "      <td>...</td>\n",
              "      <td>...</td>\n",
              "      <td>...</td>\n",
              "      <td>...</td>\n",
              "      <td>...</td>\n",
              "      <td>...</td>\n",
              "      <td>...</td>\n",
              "      <td>...</td>\n",
              "      <td>...</td>\n",
              "    </tr>\n",
              "    <tr>\n",
              "      <th>13513</th>\n",
              "      <td>0.627562</td>\n",
              "      <td>0.84</td>\n",
              "      <td>0.5</td>\n",
              "      <td>0.000000</td>\n",
              "      <td>0.018519</td>\n",
              "      <td>0.372402</td>\n",
              "      <td>0.633636</td>\n",
              "      <td>1.0</td>\n",
              "      <td>0.0</td>\n",
              "      <td>1.0</td>\n",
              "    </tr>\n",
              "    <tr>\n",
              "      <th>8974</th>\n",
              "      <td>0.064083</td>\n",
              "      <td>0.09</td>\n",
              "      <td>0.5</td>\n",
              "      <td>0.000000</td>\n",
              "      <td>0.018519</td>\n",
              "      <td>0.468029</td>\n",
              "      <td>1.000000</td>\n",
              "      <td>1.0</td>\n",
              "      <td>0.0</td>\n",
              "      <td>1.0</td>\n",
              "    </tr>\n",
              "    <tr>\n",
              "      <th>18480</th>\n",
              "      <td>0.408010</td>\n",
              "      <td>0.20</td>\n",
              "      <td>0.5</td>\n",
              "      <td>0.000000</td>\n",
              "      <td>0.018519</td>\n",
              "      <td>0.545254</td>\n",
              "      <td>0.481995</td>\n",
              "      <td>1.0</td>\n",
              "      <td>0.0</td>\n",
              "      <td>1.0</td>\n",
              "    </tr>\n",
              "    <tr>\n",
              "      <th>20294</th>\n",
              "      <td>0.060034</td>\n",
              "      <td>0.72</td>\n",
              "      <td>0.0</td>\n",
              "      <td>0.567568</td>\n",
              "      <td>0.666667</td>\n",
              "      <td>0.456820</td>\n",
              "      <td>1.000000</td>\n",
              "      <td>1.0</td>\n",
              "      <td>0.0</td>\n",
              "      <td>1.0</td>\n",
              "    </tr>\n",
              "    <tr>\n",
              "      <th>1407</th>\n",
              "      <td>0.456072</td>\n",
              "      <td>0.87</td>\n",
              "      <td>0.5</td>\n",
              "      <td>0.081081</td>\n",
              "      <td>0.148148</td>\n",
              "      <td>0.754865</td>\n",
              "      <td>1.000000</td>\n",
              "      <td>1.0</td>\n",
              "      <td>0.0</td>\n",
              "      <td>1.0</td>\n",
              "    </tr>\n",
              "  </tbody>\n",
              "</table>\n",
              "<p>45512 rows × 10 columns</p>\n",
              "</div>"
            ],
            "text/plain": [
              "           MRNO   AGE  GENDER  ...  RESULT_VALUE  CPT_ID.1  RESULT_TEXT\n",
              "0      0.893023  0.30     0.5  ...           1.0       0.0          0.0\n",
              "1      0.893454  0.41     0.5  ...           1.0       0.0          0.0\n",
              "2      0.893454  0.41     0.5  ...           1.0       0.0          0.0\n",
              "3      0.888200  0.23     0.5  ...           1.0       0.0          0.0\n",
              "4      0.888286  0.40     0.5  ...           1.0       0.0          0.0\n",
              "...         ...   ...     ...  ...           ...       ...          ...\n",
              "13513  0.627562  0.84     0.5  ...           1.0       0.0          1.0\n",
              "8974   0.064083  0.09     0.5  ...           1.0       0.0          1.0\n",
              "18480  0.408010  0.20     0.5  ...           1.0       0.0          1.0\n",
              "20294  0.060034  0.72     0.0  ...           1.0       0.0          1.0\n",
              "1407   0.456072  0.87     0.5  ...           1.0       0.0          1.0\n",
              "\n",
              "[45512 rows x 10 columns]"
            ]
          },
          "metadata": {},
          "execution_count": 16
        }
      ]
    },
    {
      "cell_type": "code",
      "metadata": {
        "colab": {
          "base_uri": "https://localhost:8080/",
          "height": 283
        },
        "id": "dDwU0YAJILPT",
        "outputId": "1ae57bae-9da3-46b7-baec-8899c4cebf33"
      },
      "source": [
        "MiceImputed.boxplot(column = ['RESULT_TEXT'])"
      ],
      "execution_count": null,
      "outputs": [
        {
          "output_type": "execute_result",
          "data": {
            "text/plain": [
              "<matplotlib.axes._subplots.AxesSubplot at 0x7f96cb9f1ad0>"
            ]
          },
          "metadata": {},
          "execution_count": 17
        },
        {
          "output_type": "display_data",
          "data": {
            "image/png": "[encoded data removed]",
            "text/plain": [
              "<Figure size 432x288 with 1 Axes>"
            ]
          },
          "metadata": {
            "needs_background": "light"
          }
        }
      ]
    },
    {
      "cell_type": "markdown",
      "metadata": {
        "id": "GpsOlGI0IiIZ"
      },
      "source": [
        "After checking all these, we don’t need to take all the features as the independent variable and the price will be the target variable. So, we will choose some features that are most important for house prediction and making new data for our model.[13]"
      ]
    },
    {
      "cell_type": "markdown",
      "metadata": {
        "id": "xiSoTDtMVj-s"
      },
      "source": [
        "2. **Cook’s Distance**\n",
        "\n",
        "This is a multivariate approach for finding influential points. These points may or may not be outliers as explained above, but they have the power to influence the regression model. We will see their impact in the later part of the blog.\n",
        "This method is used only for linear regression and therefore has a limited application. Cook’s distance measures the effect of deleting a given observation. It’s represents the sum of all the changes in the regression model when observation “i” is removed from it.\n"
      ]
    },
    {
      "cell_type": "markdown",
      "metadata": {
        "id": "LFq1ZvGiVr88"
      },
      "source": [
        "3. **Z-Score**\n",
        "\n",
        "This method assumes that the variable has a Gaussian distribution. It represents the number of standard deviations an observation is away from the mean:\n",
        "\n",
        "Here, we normally define outliers as points whose modulus of z-score is greater than a threshold value. This threshold value is usually greater than 2 (3 is a common value).\n",
        "\n",
        "All the above methods are good for initial analysis of data, but they don’t have much value in multivariate settings or with high dimensional data. For such datasets, we have to use advanced methods like PCA, LOF (Local Outlier Factor) & HiCS: High Contrast Subspaces for Density-Based Outlier Ranking.\n"
      ]
    },
    {
      "cell_type": "markdown",
      "source": [
        "Z-score tells us how many standard deviations above or below the mean a datapoint lies. It assumes that the datapoints follow a gaussian distribution[18]"
      ],
      "metadata": {
        "id": "6VP-j-nZOMy4"
      }
    },
    {
      "cell_type": "markdown",
      "source": [
        "-Z-Score = (X-mean) / Standard deviation"
      ],
      "metadata": {
        "id": "Qdr8K8AUOVaP"
      }
    },
    {
      "cell_type": "markdown",
      "source": [
        "From the above normal distribtion figure we can we that:\n",
        "- 68% of the data lies within 1 standard deviation.\n",
        "- 95% of the data lies within 2 standard deviations.\n",
        "- 99.7% of the data lies within 3 standard deviations.\n",
        "\n",
        "Since majority of the datapoints (99.7%) lie within 3 standard deviations above or below the mean, any Z-score more than +3 or any Z-score less than -3 is considered as an outlier.[18]"
      ],
      "metadata": {
        "id": "3VSukzEnOaAX"
      }
    },
    {
      "cell_type": "markdown",
      "metadata": {
        "id": "NL0Q2JbrWw5s"
      },
      "source": [
        "![](\n",
        "https://drive.google.com/uc?export=view&id=1E2H2NHulGaphunf9oVV_mVRCbgoS1I3e)"
      ]
    },
    {
      "cell_type": "markdown",
      "metadata": {
        "id": "M7gu5ktGW74j"
      },
      "source": [
        "![](\n",
        "https://drive.google.com/uc?export=view&id=1SQkD3XMh-VTNY2fe-mcDaVepK1IJNaP7)"
      ]
    },
    {
      "cell_type": "markdown",
      "source": [
        "![](\n",
        "https://drive.google.com/uc?export=view&id=1GxzFoNg1XpORg9O8c46TvFvFsQ4WT3_e)"
      ],
      "metadata": {
        "id": "1JV1BQRdR_Mg"
      }
    },
    {
      "cell_type": "markdown",
      "metadata": {
        "id": "8tq6yjKx4jg8"
      },
      "source": [
        "Outliers can be dangerous as they can skew your model and give you predictions that are biased and erroneous.\n",
        "The best way to find outliers is to use the describe function and look at information such as maximum and mean."
      ]
    },
    {
      "cell_type": "code",
      "metadata": {
        "id": "FseYShGQwc1n"
      },
      "source": [
        "# Detecting outliers with IQR\n",
        "Q1 = MiceImputed.quantile(0.25)\n",
        "Q3 = MiceImputed.quantile(0.75)\n",
        "IQR = Q3 - Q1\n",
        "print(IQR)"
      ],
      "execution_count": null,
      "outputs": []
    },
    {
      "cell_type": "code",
      "metadata": {
        "id": "aLYT9hGawiaP"
      },
      "source": [
        "# Removing outliers from the dataset\n",
        "MiceImputed = MiceImputed[~((MiceImputed < (Q1 - 1.5 * IQR)) |(MiceImputed > (Q3 + 1.5 * IQR))).any(axis=1)]\n",
        "MiceImputed.shape"
      ],
      "execution_count": null,
      "outputs": []
    },
    {
      "cell_type": "markdown",
      "metadata": {
        "id": "iQL0D8K24wse"
      },
      "source": [
        "You can also plot a histogram and look at the distribution of your data.\n",
        "\n",
        "In this histogram, you can see that most of the data is around 0 to 5000."
      ]
    },
    {
      "cell_type": "code",
      "metadata": {
        "colab": {
          "base_uri": "https://localhost:8080/",
          "height": 388
        },
        "id": "c34xlum141Cl",
        "outputId": "176b3f71-eda4-484d-9cc7-d3ed06100b84"
      },
      "source": [
        "plt.figure(figsize=(10, 6))\n",
        "MiceImputed['RESULT_TEXT'].hist(bins=100)"
      ],
      "execution_count": null,
      "outputs": [
        {
          "output_type": "execute_result",
          "data": {
            "text/plain": [
              "<matplotlib.axes._subplots.AxesSubplot at 0x7f573a604290>"
            ]
          },
          "metadata": {},
          "execution_count": 30
        },
        {
          "output_type": "display_data",
          "data": {
            "image/png": "[encoded data removed]",
            "text/plain": [
              "<Figure size 720x432 with 1 Axes>"
            ]
          },
          "metadata": {
            "needs_background": "light"
          }
        }
      ]
    },
    {
      "cell_type": "markdown",
      "metadata": {
        "id": "HqyFTeET5TZu"
      },
      "source": [
        "A boxplot is also useful in detecting outliers.\n",
        "\n",
        "As you can see, the price column has multiple data points that are outliers (above of the maximum in the boxplot)"
      ]
    },
    {
      "cell_type": "code",
      "metadata": {
        "id": "0MhlqVJ75ZEF"
      },
      "source": [
        "plt.figure(figsize=(10, 6))\n",
        "MiceImputed.boxplot(column=['RESULT_TEXT'])"
      ],
      "execution_count": null,
      "outputs": []
    },
    {
      "cell_type": "markdown",
      "metadata": {
        "id": "Qx-t0PnF527E"
      },
      "source": [
        "For categorical data, you can plot a bar chart to see whether a particular category to view the count of the categories.\n",
        "\n",
        "Outliers in categorical data is tricky, because you have to determine whether it’s appropriate to call it an outlier based on context.\n",
        "\n",
        "Some outliers are more obvious. Let’s say there’s an experiment done where 1000 people choose between a glass of water and a glass of milk. If the final result is 1 person who chose a glass of water, and 999 people choosing a glass of milk, that 1 person can be considered an outlier.\n",
        "\n",
        "However, in some cases, outliers depend on context. In my example, you see that Manhattan and Brooklyn has significantly more data than Staten Island. This doesn’t count as an outlier, since Manhattan and Brooklyn has a higher housing density as compared to Staten Island."
      ]
    },
    {
      "cell_type": "code",
      "metadata": {
        "colab": {
          "base_uri": "https://localhost:8080/",
          "height": 419
        },
        "id": "7SU6nEUR6H83",
        "outputId": "47574fc4-9dd8-4396-d4f7-e5951071196b"
      },
      "source": [
        "MiceImputed"
      ],
      "execution_count": null,
      "outputs": [
        {
          "output_type": "execute_result",
          "data": {
            "text/html": [
              "<div>\n",
              "<style scoped>\n",
              "    .dataframe tbody tr th:only-of-type {\n",
              "        vertical-align: middle;\n",
              "    }\n",
              "\n",
              "    .dataframe tbody tr th {\n",
              "        vertical-align: top;\n",
              "    }\n",
              "\n",
              "    .dataframe thead th {\n",
              "        text-align: right;\n",
              "    }\n",
              "</style>\n",
              "<table border=\"1\" class=\"dataframe\">\n",
              "  <thead>\n",
              "    <tr style=\"text-align: right;\">\n",
              "      <th></th>\n",
              "      <th>MRNO</th>\n",
              "      <th>AGE</th>\n",
              "      <th>GENDER</th>\n",
              "      <th>DISTRICT</th>\n",
              "      <th>TEHSIL</th>\n",
              "      <th>REPORT_VERIFIED</th>\n",
              "      <th>CPT_ID</th>\n",
              "      <th>RESULT_VALUE</th>\n",
              "      <th>CPT_ID.1</th>\n",
              "      <th>RESULT_TEXT</th>\n",
              "    </tr>\n",
              "  </thead>\n",
              "  <tbody>\n",
              "    <tr>\n",
              "      <th>1</th>\n",
              "      <td>10373.0</td>\n",
              "      <td>41.0</td>\n",
              "      <td>1.0</td>\n",
              "      <td>0.0</td>\n",
              "      <td>1.0</td>\n",
              "      <td>21463.0</td>\n",
              "      <td>1.000000e+15</td>\n",
              "      <td>1.0</td>\n",
              "      <td>1.000000e+15</td>\n",
              "      <td>0.0</td>\n",
              "    </tr>\n",
              "    <tr>\n",
              "      <th>2</th>\n",
              "      <td>10373.0</td>\n",
              "      <td>41.0</td>\n",
              "      <td>1.0</td>\n",
              "      <td>0.0</td>\n",
              "      <td>1.0</td>\n",
              "      <td>21462.0</td>\n",
              "      <td>1.000000e+15</td>\n",
              "      <td>1.0</td>\n",
              "      <td>1.000000e+15</td>\n",
              "      <td>0.0</td>\n",
              "    </tr>\n",
              "    <tr>\n",
              "      <th>3</th>\n",
              "      <td>10312.0</td>\n",
              "      <td>23.0</td>\n",
              "      <td>1.0</td>\n",
              "      <td>0.0</td>\n",
              "      <td>1.0</td>\n",
              "      <td>10809.0</td>\n",
              "      <td>1.000000e+15</td>\n",
              "      <td>1.0</td>\n",
              "      <td>1.000000e+15</td>\n",
              "      <td>0.0</td>\n",
              "    </tr>\n",
              "    <tr>\n",
              "      <th>4</th>\n",
              "      <td>10313.0</td>\n",
              "      <td>40.0</td>\n",
              "      <td>1.0</td>\n",
              "      <td>0.0</td>\n",
              "      <td>1.0</td>\n",
              "      <td>12521.0</td>\n",
              "      <td>1.000000e+15</td>\n",
              "      <td>1.0</td>\n",
              "      <td>1.000000e+15</td>\n",
              "      <td>0.0</td>\n",
              "    </tr>\n",
              "    <tr>\n",
              "      <th>5</th>\n",
              "      <td>10315.0</td>\n",
              "      <td>26.0</td>\n",
              "      <td>0.0</td>\n",
              "      <td>0.0</td>\n",
              "      <td>1.0</td>\n",
              "      <td>2063.0</td>\n",
              "      <td>1.000000e+15</td>\n",
              "      <td>1.0</td>\n",
              "      <td>1.000000e+15</td>\n",
              "      <td>0.0</td>\n",
              "    </tr>\n",
              "    <tr>\n",
              "      <th>...</th>\n",
              "      <td>...</td>\n",
              "      <td>...</td>\n",
              "      <td>...</td>\n",
              "      <td>...</td>\n",
              "      <td>...</td>\n",
              "      <td>...</td>\n",
              "      <td>...</td>\n",
              "      <td>...</td>\n",
              "      <td>...</td>\n",
              "      <td>...</td>\n",
              "    </tr>\n",
              "    <tr>\n",
              "      <th>12343</th>\n",
              "      <td>3001.0</td>\n",
              "      <td>65.0</td>\n",
              "      <td>0.0</td>\n",
              "      <td>0.0</td>\n",
              "      <td>1.0</td>\n",
              "      <td>3669.0</td>\n",
              "      <td>1.000000e+15</td>\n",
              "      <td>1.0</td>\n",
              "      <td>1.000000e+15</td>\n",
              "      <td>1.0</td>\n",
              "    </tr>\n",
              "    <tr>\n",
              "      <th>15056</th>\n",
              "      <td>2531.0</td>\n",
              "      <td>29.0</td>\n",
              "      <td>0.0</td>\n",
              "      <td>0.0</td>\n",
              "      <td>1.0</td>\n",
              "      <td>19534.0</td>\n",
              "      <td>1.000000e+15</td>\n",
              "      <td>1.0</td>\n",
              "      <td>1.000000e+15</td>\n",
              "      <td>1.0</td>\n",
              "    </tr>\n",
              "    <tr>\n",
              "      <th>13513</th>\n",
              "      <td>7286.0</td>\n",
              "      <td>84.0</td>\n",
              "      <td>1.0</td>\n",
              "      <td>0.0</td>\n",
              "      <td>1.0</td>\n",
              "      <td>8439.0</td>\n",
              "      <td>1.000000e+15</td>\n",
              "      <td>1.0</td>\n",
              "      <td>1.000000e+15</td>\n",
              "      <td>1.0</td>\n",
              "    </tr>\n",
              "    <tr>\n",
              "      <th>8974</th>\n",
              "      <td>744.0</td>\n",
              "      <td>9.0</td>\n",
              "      <td>1.0</td>\n",
              "      <td>0.0</td>\n",
              "      <td>1.0</td>\n",
              "      <td>10606.0</td>\n",
              "      <td>1.000000e+15</td>\n",
              "      <td>1.0</td>\n",
              "      <td>1.000000e+15</td>\n",
              "      <td>1.0</td>\n",
              "    </tr>\n",
              "    <tr>\n",
              "      <th>18480</th>\n",
              "      <td>4737.0</td>\n",
              "      <td>20.0</td>\n",
              "      <td>1.0</td>\n",
              "      <td>0.0</td>\n",
              "      <td>1.0</td>\n",
              "      <td>12356.0</td>\n",
              "      <td>1.000000e+15</td>\n",
              "      <td>1.0</td>\n",
              "      <td>1.000000e+15</td>\n",
              "      <td>1.0</td>\n",
              "    </tr>\n",
              "  </tbody>\n",
              "</table>\n",
              "<p>34554 rows × 10 columns</p>\n",
              "</div>"
            ],
            "text/plain": [
              "          MRNO   AGE  GENDER  ...  RESULT_VALUE      CPT_ID.1  RESULT_TEXT\n",
              "1      10373.0  41.0     1.0  ...           1.0  1.000000e+15          0.0\n",
              "2      10373.0  41.0     1.0  ...           1.0  1.000000e+15          0.0\n",
              "3      10312.0  23.0     1.0  ...           1.0  1.000000e+15          0.0\n",
              "4      10313.0  40.0     1.0  ...           1.0  1.000000e+15          0.0\n",
              "5      10315.0  26.0     0.0  ...           1.0  1.000000e+15          0.0\n",
              "...        ...   ...     ...  ...           ...           ...          ...\n",
              "12343   3001.0  65.0     0.0  ...           1.0  1.000000e+15          1.0\n",
              "15056   2531.0  29.0     0.0  ...           1.0  1.000000e+15          1.0\n",
              "13513   7286.0  84.0     1.0  ...           1.0  1.000000e+15          1.0\n",
              "8974     744.0   9.0     1.0  ...           1.0  1.000000e+15          1.0\n",
              "18480   4737.0  20.0     1.0  ...           1.0  1.000000e+15          1.0\n",
              "\n",
              "[34554 rows x 10 columns]"
            ]
          },
          "metadata": {},
          "execution_count": 32
        }
      ]
    },
    {
      "cell_type": "code",
      "metadata": {
        "id": "-hObhvoi6AUb"
      },
      "source": [
        "plt.figure(figsize=(10, 6))\n",
        "MiceImputed['DISTRICT'].value_counts().plot.bar()"
      ],
      "execution_count": null,
      "outputs": []
    },
    {
      "cell_type": "markdown",
      "source": [
        "**1. IQR Method**"
      ],
      "metadata": {
        "id": "F8aIWuRlM8_y"
      }
    },
    {
      "cell_type": "markdown",
      "source": [
        "Inter Quartile Range (IQR) is the middle 50% of the dataset. In other words, it is the difference between the third quartile(75th percentile) and first quartile(25th percentile) value of the dataset.\n",
        "\n",
        "- IQR = Q3 -Q1\n",
        "- Lower Bound = Q1–1.5*IQR\n",
        "- Upper Bound = Q3+1.5*IQR\n",
        "The IQR finds the lower and upper bound to identify the outliers. Any value which is 1.5 times above or below these thresholds is identified as an outlier [18]"
      ],
      "metadata": {
        "id": "8yrjC6zVNCk6"
      }
    },
    {
      "cell_type": "markdown",
      "source": [
        "![](https://drive.google.com/uc?export=view&id=1NfCaTr8uAB_e7EtnO0H5N8EAkSl9m-Ke)"
      ],
      "metadata": {
        "id": "IjmzKuTpNPZ6"
      }
    },
    {
      "cell_type": "markdown",
      "source": [
        "**4. DBSCAN (Density-Based Spatial Clustering of Applications with Noise)**\n",
        "\n",
        "DBSCAN is a clustering method that is used to separate clusters of high denstiy from the clusters of low density. It basically divides the datapoints into Core Points, Border Points or Noise Points. Here Noise points are are the outliers.[18]"
      ],
      "metadata": {
        "id": "9XAI544_O-jN"
      }
    },
    {
      "cell_type": "markdown",
      "source": [
        "![](https://drive.google.com/uc?export=view&id=1qf6z8JdPyAK7-EqLqnNHiGkvyMlnRj0R)"
      ],
      "metadata": {
        "id": "GA5P0wnCRtT6"
      }
    },
    {
      "cell_type": "markdown",
      "source": [
        "**Hypothesis Testing** [18]\n",
        "\n",
        "We can also use hypothesis testing to identify the outliers in the dataset. Some of the famous hypothesis tests for outlier detection include:\n",
        "- Grubbs’ test\n",
        "- Chi –square test\n",
        "- Dixon’s Q test"
      ],
      "metadata": {
        "id": "WS2tIUWzSi9g"
      }
    },
    {
      "cell_type": "markdown",
      "source": [
        "Each of these above mentioned tests use different methods to identify outliers. In Grubb’s test, we assume that:\n",
        "- Null hypothesis: All datapoints in the sample were drawn from a single population that follows the same normal distribution.\n",
        "- Alternate hypothesis: One datapoint in the sample was not drawn from the same normally distributed population as the other datapoints.\n",
        "- If the p-value is less than the significance level, we can reject the null hypothesis and conclude that one of the values is an outlier."
      ],
      "metadata": {
        "id": "RUtPUk7wSuhf"
      }
    },
    {
      "cell_type": "markdown",
      "metadata": {
        "id": "0fOVRcZP6aTT"
      },
      "source": [
        "**Dealing with outliers**"
      ]
    },
    {
      "cell_type": "markdown",
      "source": [
        "So now that we know how and why to detect outliers, the next question that arises is that what to do with these outliers.\n",
        "One simple way is to just drop the outlier, but this is not correct for all scenarios. based on the use case we need to decide whether to drop an outlier or not.[18]\n"
      ],
      "metadata": {
        "id": "ghhnkz2gUuBX"
      }
    },
    {
      "cell_type": "markdown",
      "metadata": {
        "id": "gZfdOd6I6ccB"
      },
      "source": [
        "Dealing with outliers is similar to removing missing values, the only difference is the way you find outliers.\n",
        "\n",
        "To categorize numerical values as outliers, there are statistical techniques like using the standard deviation and the Interquartile range. You can refer to this article for code examples to do that.\n",
        "\n",
        "For categorical values, if they have very low frequency (like Staten island in the example above), it still may become a problem for your model. Depending on context and nature of the data, you can choose to group them into one category, for example “Others”. This way your model will be less biased and you’re not losing any information."
      ]
    },
    {
      "cell_type": "markdown",
      "source": [
        "**When to drop an outlier?**[18]\n",
        "\n",
        "- When we know for sure that the outlier is completely wrong.\n",
        "- When we have large amount of data.\n",
        "- When we can revert back to the original data, if in later stage we find that the dropping of the outlier wasn’t a good idea."
      ],
      "metadata": {
        "id": "b8S-YwBRU29K"
      }
    },
    {
      "cell_type": "markdown",
      "source": [
        "**When not to drop an outlier?**[18]\n",
        "\n",
        "- When there a lot of outliers.\n",
        "- When dealing with a sensitive critical use case."
      ],
      "metadata": {
        "id": "Y7bAfCPEVHZX"
      }
    },
    {
      "cell_type": "markdown",
      "source": [
        "**What to do with the undroppable outliers?**[18]\n",
        "\n",
        "- Impuation: We can replace the outlier values with the mean, median or mode value based on the use case.\n",
        "- Quantile-based Flooring and Capping: In this technique,we can do the flooring (e.g., replacing with the 10th percentile) for the lower values and capping (e.g.,replacing with the 90th percentile) for the higher values."
      ],
      "metadata": {
        "id": "lK7qPLVUVQKc"
      }
    },
    {
      "cell_type": "markdown",
      "metadata": {
        "id": "YAFiOSxhxeYd"
      },
      "source": [
        "# **Data spliting**"
      ]
    },
    {
      "cell_type": "markdown",
      "metadata": {
        "id": "BHMtSzwOGSWe"
      },
      "source": [
        "![](https://drive.google.com/uc?export=view&id=168Enbhun0wZ6d9cCr6ef_zUz-P5m3L9v)"
      ]
    },
    {
      "cell_type": "code",
      "metadata": {
        "id": "Vf0zg0EIxjvt"
      },
      "source": [
        "X=MiceImputed.drop('RESULT_TEXT',axis=1)"
      ],
      "execution_count": null,
      "outputs": []
    },
    {
      "cell_type": "code",
      "metadata": {
        "id": "vlZjN0iUxwvk"
      },
      "source": [
        "y=MiceImputed[['RESULT_TEXT']]\n"
      ],
      "execution_count": null,
      "outputs": []
    },
    {
      "cell_type": "code",
      "metadata": {
        "id": "h-eJxgVEx57E"
      },
      "source": [
        "from sklearn.model_selection import train_test_split\n",
        "X_train, X_test, y_train, y_test = train_test_split(X, y, test_size=0.30, random_state=100)"
      ],
      "execution_count": null,
      "outputs": []
    },
    {
      "cell_type": "code",
      "metadata": {
        "id": "x_ZFJl91-Y-J"
      },
      "source": [
        "from sklearn.model_selection import train_test_split\n",
        "X_train,X_test,y_train,y_test=train_test_split(df[['sex','embarked','alone','pclass']],\n",
        "                                              df['survived'],test_size=0.3,random_state=100)"
      ],
      "execution_count": null,
      "outputs": []
    },
    {
      "cell_type": "markdown",
      "metadata": {
        "id": "rMZ3vXkAHyst"
      },
      "source": [
        "# **References**"
      ]
    },
    {
      "cell_type": "markdown",
      "metadata": {
        "id": "uOu2ttBhIqPr"
      },
      "source": [
        "\n",
        "\n",
        "[1-Fill Missing Values in a Dataset using Python](https://thecleverprogrammer.com/2021/05/29/fill-missing-values-in-a-dataset-using-python/)\n",
        "\n",
        "[2- Data Cleaning with Python](https://medium.com/bitgrit-data-science-publication/data-cleaning-with-python-f6bc3da64e45)\n",
        "\n",
        "[3- SMOTE using Python](https://towardsdatascience.com/applying-smote-for-class-imbalance-with-just-a-few-lines-of-code-python-cdf603e58688)\n",
        "\n",
        "[4-Protecting your Money: Detecting Credit Card Fraud with ML/DL](https://towardsdatascience.com/protecting-your-money-detecting-credit-card-fraud-with-ml-dl-2c4a9b9a0779)\n",
        "\n",
        "[5-How to Make Your Machine Learning Models Robust to Outliers](https://heartbeat.comet.ml/how-to-make-your-machine-learning-models-robust-to-outliers-44d404067d07)\n",
        "\n",
        "[6-What Is Encoding? And Its Importance in Data Science!](https://medium.datadriveninvestor.com/what-is-encoding-and-its-importance-in-data-science-6a2b0cce8e8e)\n",
        "\n",
        "[7-Nominal And Ordinal Encoding In Data Science!](https://medium.com/nerd-for-tech/nominal-and-ordinal-encoding-in-data-science-c93872601f16)\n",
        "\n",
        "[Feature Engineering for Categorical Data](https://medium.com/geekculture/feature-engineering-for-categorical-data-a77a04b3308)\n",
        "\n",
        "[Handling Imbalanced Datasets With Oversampling Techniques. It’s Pros & Cons.](https://medium.com/analytics-vidhya/handling-imbalanced-datasets-with-oversampling-techniques-its-pros-cons-ba9f36ac5b71)\n",
        "\n",
        "[8-Overcoming Imbalanced Dataset](https://xzz201920.medium.com/imbalanced-dataset-26732a333cf7)\n",
        "\n",
        "[9-How to handle Categorical variables?](https://medium.com/geekculture/how-to-handle-categorical-variables-7c1ee198c55c)\n",
        "\n",
        "[10-Five Cool Python Libraries for Data Science](https://pub.towardsai.net/five-cool-python-libraries-for-data-science-7f1fce402b90)\n",
        "\n",
        "[11-Scikit-Learn (Python): 6 Useful Tricks for Data Scientists](https://levelup.gitconnected.com/scikit-learn-python-6-useful-tricks-for-data-scientists-1a0a502a6aa3)\n",
        "\n",
        "[12-Feature Scaling with Python’s Scikit-learn](https://pub.towardsai.net/feature-scaling-with-pythons-scikit-learn-10ab42119ae0)\n",
        "\n",
        "[13-Regression Algorithm to Predict House Prices in Python](https://pub.towardsai.net/regression-algorithm-to-predict-house-prices-in-python-7722f2d76548)\n",
        "\n",
        "[14-One Hot Encode in Machine Learning](https://debuggercafe.com/one-hot-encode-in-machine-learning/)\n",
        "\n",
        "[15-What is skewness in data? How to fix skewed data in python?](https://yashowardhanshinde.medium.com/what-is-skewness-in-data-how-to-fix-skewed-data-in-python-a792e98c0fa6)\n",
        "\n",
        "[16- 9 Seaborn Datasets for Data Science + ML Beginners](https://python.plainenglish.io/9-datasets-for-data-science-ml-beginners-cfb57df53fda)\n",
        "\n",
        "[17-How to Deal with an Imbalanced Dataset in Machine Learning](https://towardsdatascience.com/how-to-deal-with-an-imbalanced-dataset-in-machine-learning-4f89a1967868)\n",
        "\n",
        "[18- Outlier Detection in Machine Learning](https://medium.com/@listontellis/outlier-detection-in-machine-learning-382557c775aa)\n",
        "\n",
        "\n",
        "[19- Essential guide to Improve Imbalanced Data Classification Model Performance](https://medium.com/geekculture/essential-guide-to-improve-imbalanced-data-classification-model-performance-c8cf0125b731)\n",
        "\n",
        "[20-Python Tricks for Data Science\n",
        "](https://medium.com/analytics-vidhya/python-tricks-for-data-science-fd038ab838a)\n",
        "\n",
        "\n",
        "[5 Obscure Python Libraries Every Data Scientist Should Know](https://medium.com/analytics-vidhya/5-obscure-python-libraries-every-data-scientist-should-know-3651bf5d3be3)\n",
        "\n",
        "\n",
        "\n",
        "[Descriptive Statistics in data science -with illustrations in ‘python’](https://medium.com/analytics-vidhya/descriptive-statistics-in-data-science-with-illustrations-in-python-efd5ccc152f1)\n",
        "\n",
        "[The Ultimate Python Package to Pre-Process Data for Machine Learning](https://medium.com/swlh/the-ultimate-python-package-to-pre-process-data-for-machin-learning-c87bcc39fa66)\n",
        "\n",
        "[23 great Pandas codes for Data Scientists](https://towardsdatascience.com/23-great-pandas-codes-for-data-scientists-cca5ed9d8a38)\n",
        "\n",
        "[What Is Data Preprocessing in Machine Learning, and Its Importance?](https://www.analytixlabs.co.in/blog/data-preprocessing-in-machine-learning/?fbclid=IwAR0Xg83-Uu9Ha9s1mwkJsr-QiyfjOkIiGqn7mAxFSiNs1w5B0ohD-_x5cnI#sub3.2)\n",
        "\n",
        "[3 Pandas Functions That Will Make Your Life Easier](https://towardsdatascience.com/3-pandas-functions-that-will-make-your-life-easier-4d0ce57775a1)\n",
        "\n",
        "[My top 4 functions to style the Pandas Dataframe](https://towardsdatascience.com/my-top-4-functions-to-style-the-pandas-dataframe-932cdc79be39)\n",
        "\n",
        "[How to Clean and Trim String Values in a Pandas DataFrame with Python, Pandas, and the Strip() method](https://deallen7.medium.com/how-to-clean-and-trim-string-values-in-a-pandas-dataframe-with-python-pandas-and-the-strip-c75169f0ebf2)\n",
        "\n",
        "[7 Uncommon But Useful Pandas Functions](https://towardsdatascience.com/7-uncommon-but-useful-pandas-functions-f9f772858859)\n",
        "\n",
        "[5 Obscure Python Libraries Every Data Scientist Should Know](https://medium.com/analytics-vidhya/5-obscure-python-libraries-every-data-scientist-should-know-3651bf5d3be3)\n",
        "\n",
        "[Life Cycle Of Data Science Projects!](https://medium.com/mlearning-ai/life-cycle-of-data-science-projects-a4739f6e2419)\n",
        "\n",
        "\n",
        "[3 Pandas Functions That Will Make Your Life Easier](https://towardsdatascience.com/3-pandas-functions-that-will-make-your-life-easier-4d0ce57775a1)\n",
        "\n",
        "[Different Ways To Handle Imbalanced Dataset In Machine Learning](https://medium.com/geekculture/different-ways-to-handl-imbalanced-dataset-in-machine-learning-32c7bc350257)\n",
        "\n",
        "[Cleaning a messy dataset using Python](https://medium.com/well-red/cleaning-a-messy-dataset-using-python-7d7ab0bf199b)\n",
        "\n",
        "[6.3. Preprocessing data](https://scikit-learn.org/stable/modules/preprocessing.html#preprocessing)\n",
        "\n",
        "[scikit-learn](https://scikit-learn.org/stable/)\n",
        "\n",
        "[How to Combine Multiple Datasets](https://pub.towardsai.net/how-to-combine-multiple-datasets-e78c7e1433b3)\n",
        "\n",
        "[The Ultimate Python Package to Pre-Process Data for Machine Learning](https://medium.com/swlh/the-ultimate-python-package-to-pre-process-data-for-machin-learning-c87bcc39fa66)\n",
        "\n",
        "[Data-Preprocessing with Python](https://medium.com/dataseries/data-preprocessing-with-python-3914d3e9dd30)\n",
        "\n",
        "[How to Deal with Missing Values?](https://medium.com/analytics-vidhya/how-to-deal-with-missing-values-600b70b79918)\n",
        "\n",
        "[Google Colab for Data Science Projects](https://benjaminobi.medium.com/google-colab-for-data-science-projects-7c59e45e9d32)\n",
        "\n",
        "[Day 13–60 days of Data Science and Machine Learning](https://medium.datadriveninvestor.com/day-13-60-days-of-data-science-and-machine-learning-52df0d8d88f)\n",
        "\n",
        "[How to Deal with Categorical Features for Machine Learning](https://medium.com/analytics-vidhya/how-to-deal-with-categorical-features-for-machine-learning-17c6c160ea1)\n",
        "\n",
        "[5 pandas functions I found to be useful for specific operations](https://soulsinporto.medium.com/5-pandas-functions-i-found-to-be-useful-for-specific-transformations-a5a2af3b69c7)\n",
        "\n",
        "[Different Ways To Handle Imbalanced Dataset In Machine Learning](https://medium.com/geekculture/different-ways-to-handl-imbalanced-dataset-in-machine-learning-32c7bc350257)\n",
        "\n",
        "[Skewness — Everything you need to know about Skewness](https://aayushmaan1306.medium.com/skewness-everything-you-need-to-know-about-skewness-d94e88508e92)\n",
        "\n",
        "[Top 3 Python Packages for Data Cleaning](https://medium.com/trymito/top-3-python-packages-for-data-cleaning-6bc23941e73b)\n",
        "\n",
        "[7 Python Libraries to Make Automation Easy](https://python.plainenglish.io/7-python-libraries-to-make-automation-easy-aea8fb6562a7)\n"
      ]
    }
  ]
}