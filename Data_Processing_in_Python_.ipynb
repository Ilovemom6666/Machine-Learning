{
  "nbformat": 4,
  "nbformat_minor": 0,
  "metadata": {
    "colab": {
      "name": "Data Processing in Python .ipynb",
      "provenance": [],
      "toc_visible": true,
      "include_colab_link": true
    },
    "kernelspec": {
      "name": "python3",
      "display_name": "Python 3"
    },
    "language_info": {
      "name": "python"
    }
  },
  "cells": [
    {
      "cell_type": "markdown",
      "metadata": {
        "id": "view-in-github",
        "colab_type": "text"
      },
      "source": [
        "<a href=\"https://colab.research.google.com/github/hussain0048/Machine-Learning/blob/master/Data_Processing_in_Python_.ipynb\" target=\"_parent\"><img src=\"https://colab.research.google.com/assets/colab-badge.svg\" alt=\"Open In Colab\"/></a>"
      ]
    },
    {
      "cell_type": "markdown",
      "metadata": {
        "id": "YX1XA2lOe_hC"
      },
      "source": [
        "# **Table Content**"
      ]
    },
    {
      "cell_type": "markdown",
      "metadata": {
        "id": "iRvGGuOwfGui"
      },
      "source": [
        "\n",
        "<div class=\"alert alert-block alert-info\" style=\"margin-top: 20px\">\n",
        "    <ol>\n",
        "        <li><a href=\"https:\">Introduction</a></li>\n",
        "        <li><a href=\"https:\">Import Library</a></li>\n",
        "        <li><a href=\"https:\">Dataset</a></li>\n",
        "        <li><a href=\"#downloading_data\">Data Loading</a></li>\n",
        "        <li><a href=\"#downloading_data\">Python Usfull Library</a></li>\n",
        "        <li><a href=\"#pre-processing\">Dropping feature</a></li>\n",
        "         <li><a href=\"#pre-processing\">Convert target variable into binary Form</a></li>\n",
        "        <li><a href=\"#setting_up_tree\">Data Imbalanced problem </a></li>\n",
        "        <li><a href=\"#modeling\">Missing Values</a></li>\n",
        "         <li><a href=\"#modeling\">Inconsistent data/Irrelevant features</a></li>\n",
        "        <li><a href=\"#prediction\">Hot Encoding</a></li>\n",
        "        <li><a href=\"#prediction\">Feature Scaling</a></li>\n",
        "        <li><a href=\"#evaluation\">Outlier Detection</a></li>\n",
        "    </ol>\n",
        "</div>\n",
        "<br>\n",
        "<hr>\n"
      ]
    },
    {
      "cell_type": "markdown",
      "metadata": {
        "id": "4ssGUNVwEhKt"
      },
      "source": [
        "# **Data Collection**"
      ]
    },
    {
      "cell_type": "markdown",
      "metadata": {
        "id": "03SJEJN_EsD8"
      },
      "source": [
        "Data Collection is the first step in the project of the data science life cycle. It is one of the most important things in the life cycle. The data can be taken from various places likes the internet, company data, database, and many more…"
      ]
    },
    {
      "cell_type": "markdown",
      "metadata": {
        "id": "EWkj57LrEtuT"
      },
      "source": [
        "![](https://drive.google.com/uc?export=view&id=1kCl_cjl1lzyMJ96MXBuz0EppQ9gClTM7)"
      ]
    },
    {
      "cell_type": "markdown",
      "metadata": {
        "id": "s1xpAC0Sf0EQ"
      },
      "source": [
        "# **Introduction**"
      ]
    },
    {
      "cell_type": "markdown",
      "metadata": {
        "id": "o2tTizNTf7o3"
      },
      "source": [
        "Data preprocessing is an integral step in Machine Learning as the quality of data and the useful information that can be derived from it directly affects the ability of our model to learn; therefore, it is extremely important that we preprocess our data before feeding it into our model."
      ]
    },
    {
      "cell_type": "markdown",
      "metadata": {
        "id": "NLYwzxRyFsra"
      },
      "source": [
        "![](https://drive.google.com/uc?export=view&id=1BmbAhW7JFubwX4r8lNIYQ700VD0VPa8h)"
      ]
    },
    {
      "cell_type": "markdown",
      "metadata": {
        "id": "1U89AHcd7zu1"
      },
      "source": [
        "# **Import libaray**"
      ]
    },
    {
      "cell_type": "code",
      "metadata": {
        "id": "-le5SNQq78rk"
      },
      "source": [
        "import numpy as np\n",
        "import pandas as pd\n",
        "import seaborn as sns\n",
        "import matplotlib.pyplot as plt\n",
        "from prettytable import PrettyTable\n",
        "from sklearn.metrics import roc_curve, auc\n",
        "from mlxtend.plotting import plot_confusion_matrix\n",
        "from sklearn.model_selection import train_test_split\n",
        "from sklearn.metrics import classification_report, confusion_matrix\n",
        "from sklearn.tree import DecisionTreeClassifier\n",
        "from sklearn.ensemble import RandomForestClassifier\n",
        "from sklearn.svm import LinearSVC\n",
        "from sklearn.linear_model import LogisticRegression\n",
        "from sklearn.neighbors import KNeighborsClassifier\n",
        "import warnings\n",
        "warnings.filterwarnings(\"ignore\")"
      ],
      "execution_count": null,
      "outputs": []
    },
    {
      "cell_type": "markdown",
      "source": [
        "# **Section 1-DataSet loading**"
      ],
      "metadata": {
        "id": "xbcpm3gJnqUo"
      }
    },
    {
      "cell_type": "markdown",
      "metadata": {
        "id": "GzD5U0xTyspT"
      },
      "source": [
        "## **1.1- Synthetic Dataset**\n",
        "\n",
        "I am going to show you how there are data sets that are already included in a Python package. Not only that, but I am also going to show you how to find them, what they entail, and what kind of project they would be great for."
      ]
    },
    {
      "cell_type": "markdown",
      "metadata": {
        "id": "31G9-jMPfiLF"
      },
      "source": [
        "### **Generate random dummy data**[11]\n",
        "\n",
        "To generate random ‘dummy’ data, we can make use of the make_classification() function in case of classification data, and make_regression() function in case of regression data. This is very useful in some cases when debugging or when you want to try out certain things on a (small) random data set.\n",
        "\n",
        "Below, we generate 10 classification data points consisting of 4 features (found in X) and a class label (found in y), where the data points belong to either the negative class (0) or the positive class (1):"
      ]
    },
    {
      "cell_type": "code",
      "metadata": {
        "id": "r8BK8iaXgGAq"
      },
      "source": [
        "from sklearn.datasets import make_classification\n",
        "import pandas as pd\n",
        "X, y = make_classification(n_samples=10, n_features=4, n_classes=2, random_state=123)"
      ],
      "execution_count": null,
      "outputs": []
    },
    {
      "cell_type": "markdown",
      "metadata": {
        "id": "YVtKt8R7gUVA"
      },
      "source": [
        "Here, X consists of the 4 feature columns for the generated data points:"
      ]
    },
    {
      "cell_type": "code",
      "metadata": {
        "id": "IZKahrPIgYcw",
        "colab": {
          "base_uri": "https://localhost:8080/",
          "height": 363
        },
        "outputId": "5a40d585-17da-4fcf-dd27-6bf49ec37c95"
      },
      "source": [
        "pd.DataFrame(X, columns=['Feature_1', 'Feature_2', 'Feature_3', 'Feature_4'])"
      ],
      "execution_count": null,
      "outputs": [
        {
          "output_type": "execute_result",
          "data": {
            "text/plain": [
              "   Feature_1  Feature_2  Feature_3  Feature_4\n",
              "0  -0.525038  -0.891119  -1.713221   1.315132\n",
              "1   0.350666   0.780601   1.892239  -1.453395\n",
              "2  -0.128317  -0.408917  -1.189686   0.914115\n",
              "3   1.422256   1.031467  -0.935643   0.724513\n",
              "4  -1.043645  -1.322303  -1.594203   1.221731\n",
              "5   0.794175   0.935251   0.926843  -0.709606\n",
              "6  -0.773266  -0.353686   1.344147  -1.036172\n",
              "7  -0.992341  -0.860456   0.084953  -0.068954\n",
              "8  -0.152253   0.411750   2.206481  -1.696821\n",
              "9  -1.543099  -1.470873  -0.403813   0.304769"
            ],
            "text/html": [
              "\n",
              "  <div id=\"df-cbadf118-bac2-412a-b714-b5cdb86c1ddf\" class=\"colab-df-container\">\n",
              "    <div>\n",
              "<style scoped>\n",
              "    .dataframe tbody tr th:only-of-type {\n",
              "        vertical-align: middle;\n",
              "    }\n",
              "\n",
              "    .dataframe tbody tr th {\n",
              "        vertical-align: top;\n",
              "    }\n",
              "\n",
              "    .dataframe thead th {\n",
              "        text-align: right;\n",
              "    }\n",
              "</style>\n",
              "<table border=\"1\" class=\"dataframe\">\n",
              "  <thead>\n",
              "    <tr style=\"text-align: right;\">\n",
              "      <th></th>\n",
              "      <th>Feature_1</th>\n",
              "      <th>Feature_2</th>\n",
              "      <th>Feature_3</th>\n",
              "      <th>Feature_4</th>\n",
              "    </tr>\n",
              "  </thead>\n",
              "  <tbody>\n",
              "    <tr>\n",
              "      <th>0</th>\n",
              "      <td>-0.525038</td>\n",
              "      <td>-0.891119</td>\n",
              "      <td>-1.713221</td>\n",
              "      <td>1.315132</td>\n",
              "    </tr>\n",
              "    <tr>\n",
              "      <th>1</th>\n",
              "      <td>0.350666</td>\n",
              "      <td>0.780601</td>\n",
              "      <td>1.892239</td>\n",
              "      <td>-1.453395</td>\n",
              "    </tr>\n",
              "    <tr>\n",
              "      <th>2</th>\n",
              "      <td>-0.128317</td>\n",
              "      <td>-0.408917</td>\n",
              "      <td>-1.189686</td>\n",
              "      <td>0.914115</td>\n",
              "    </tr>\n",
              "    <tr>\n",
              "      <th>3</th>\n",
              "      <td>1.422256</td>\n",
              "      <td>1.031467</td>\n",
              "      <td>-0.935643</td>\n",
              "      <td>0.724513</td>\n",
              "    </tr>\n",
              "    <tr>\n",
              "      <th>4</th>\n",
              "      <td>-1.043645</td>\n",
              "      <td>-1.322303</td>\n",
              "      <td>-1.594203</td>\n",
              "      <td>1.221731</td>\n",
              "    </tr>\n",
              "    <tr>\n",
              "      <th>5</th>\n",
              "      <td>0.794175</td>\n",
              "      <td>0.935251</td>\n",
              "      <td>0.926843</td>\n",
              "      <td>-0.709606</td>\n",
              "    </tr>\n",
              "    <tr>\n",
              "      <th>6</th>\n",
              "      <td>-0.773266</td>\n",
              "      <td>-0.353686</td>\n",
              "      <td>1.344147</td>\n",
              "      <td>-1.036172</td>\n",
              "    </tr>\n",
              "    <tr>\n",
              "      <th>7</th>\n",
              "      <td>-0.992341</td>\n",
              "      <td>-0.860456</td>\n",
              "      <td>0.084953</td>\n",
              "      <td>-0.068954</td>\n",
              "    </tr>\n",
              "    <tr>\n",
              "      <th>8</th>\n",
              "      <td>-0.152253</td>\n",
              "      <td>0.411750</td>\n",
              "      <td>2.206481</td>\n",
              "      <td>-1.696821</td>\n",
              "    </tr>\n",
              "    <tr>\n",
              "      <th>9</th>\n",
              "      <td>-1.543099</td>\n",
              "      <td>-1.470873</td>\n",
              "      <td>-0.403813</td>\n",
              "      <td>0.304769</td>\n",
              "    </tr>\n",
              "  </tbody>\n",
              "</table>\n",
              "</div>\n",
              "    <div class=\"colab-df-buttons\">\n",
              "\n",
              "  <div class=\"colab-df-container\">\n",
              "    <button class=\"colab-df-convert\" onclick=\"convertToInteractive('df-cbadf118-bac2-412a-b714-b5cdb86c1ddf')\"\n",
              "            title=\"Convert this dataframe to an interactive table.\"\n",
              "            style=\"display:none;\">\n",
              "\n",
              "  <svg xmlns=\"http://www.w3.org/2000/svg\" height=\"24px\" viewBox=\"0 -960 960 960\">\n",
              "    <path d=\"M120-120v-720h720v720H120Zm60-500h600v-160H180v160Zm220 220h160v-160H400v160Zm0 220h160v-160H400v160ZM180-400h160v-160H180v160Zm440 0h160v-160H620v160ZM180-180h160v-160H180v160Zm440 0h160v-160H620v160Z\"/>\n",
              "  </svg>\n",
              "    </button>\n",
              "\n",
              "  <style>\n",
              "    .colab-df-container {\n",
              "      display:flex;\n",
              "      gap: 12px;\n",
              "    }\n",
              "\n",
              "    .colab-df-convert {\n",
              "      background-color: #E8F0FE;\n",
              "      border: none;\n",
              "      border-radius: 50%;\n",
              "      cursor: pointer;\n",
              "      display: none;\n",
              "      fill: #1967D2;\n",
              "      height: 32px;\n",
              "      padding: 0 0 0 0;\n",
              "      width: 32px;\n",
              "    }\n",
              "\n",
              "    .colab-df-convert:hover {\n",
              "      background-color: #E2EBFA;\n",
              "      box-shadow: 0px 1px 2px rgba(60, 64, 67, 0.3), 0px 1px 3px 1px rgba(60, 64, 67, 0.15);\n",
              "      fill: #174EA6;\n",
              "    }\n",
              "\n",
              "    .colab-df-buttons div {\n",
              "      margin-bottom: 4px;\n",
              "    }\n",
              "\n",
              "    [theme=dark] .colab-df-convert {\n",
              "      background-color: #3B4455;\n",
              "      fill: #D2E3FC;\n",
              "    }\n",
              "\n",
              "    [theme=dark] .colab-df-convert:hover {\n",
              "      background-color: #434B5C;\n",
              "      box-shadow: 0px 1px 3px 1px rgba(0, 0, 0, 0.15);\n",
              "      filter: drop-shadow(0px 1px 2px rgba(0, 0, 0, 0.3));\n",
              "      fill: #FFFFFF;\n",
              "    }\n",
              "  </style>\n",
              "\n",
              "    <script>\n",
              "      const buttonEl =\n",
              "        document.querySelector('#df-cbadf118-bac2-412a-b714-b5cdb86c1ddf button.colab-df-convert');\n",
              "      buttonEl.style.display =\n",
              "        google.colab.kernel.accessAllowed ? 'block' : 'none';\n",
              "\n",
              "      async function convertToInteractive(key) {\n",
              "        const element = document.querySelector('#df-cbadf118-bac2-412a-b714-b5cdb86c1ddf');\n",
              "        const dataTable =\n",
              "          await google.colab.kernel.invokeFunction('convertToInteractive',\n",
              "                                                    [key], {});\n",
              "        if (!dataTable) return;\n",
              "\n",
              "        const docLinkHtml = 'Like what you see? Visit the ' +\n",
              "          '<a target=\"_blank\" href=https://colab.research.google.com/notebooks/data_table.ipynb>data table notebook</a>'\n",
              "          + ' to learn more about interactive tables.';\n",
              "        element.innerHTML = '';\n",
              "        dataTable['output_type'] = 'display_data';\n",
              "        await google.colab.output.renderOutput(dataTable, element);\n",
              "        const docLink = document.createElement('div');\n",
              "        docLink.innerHTML = docLinkHtml;\n",
              "        element.appendChild(docLink);\n",
              "      }\n",
              "    </script>\n",
              "  </div>\n",
              "\n",
              "\n",
              "<div id=\"df-a997158a-42e0-4caa-9385-315e9b520e2d\">\n",
              "  <button class=\"colab-df-quickchart\" onclick=\"quickchart('df-a997158a-42e0-4caa-9385-315e9b520e2d')\"\n",
              "            title=\"Suggest charts\"\n",
              "            style=\"display:none;\">\n",
              "\n",
              "<svg xmlns=\"http://www.w3.org/2000/svg\" height=\"24px\"viewBox=\"0 0 24 24\"\n",
              "     width=\"24px\">\n",
              "    <g>\n",
              "        <path d=\"M19 3H5c-1.1 0-2 .9-2 2v14c0 1.1.9 2 2 2h14c1.1 0 2-.9 2-2V5c0-1.1-.9-2-2-2zM9 17H7v-7h2v7zm4 0h-2V7h2v10zm4 0h-2v-4h2v4z\"/>\n",
              "    </g>\n",
              "</svg>\n",
              "  </button>\n",
              "\n",
              "<style>\n",
              "  .colab-df-quickchart {\n",
              "      --bg-color: #E8F0FE;\n",
              "      --fill-color: #1967D2;\n",
              "      --hover-bg-color: #E2EBFA;\n",
              "      --hover-fill-color: #174EA6;\n",
              "      --disabled-fill-color: #AAA;\n",
              "      --disabled-bg-color: #DDD;\n",
              "  }\n",
              "\n",
              "  [theme=dark] .colab-df-quickchart {\n",
              "      --bg-color: #3B4455;\n",
              "      --fill-color: #D2E3FC;\n",
              "      --hover-bg-color: #434B5C;\n",
              "      --hover-fill-color: #FFFFFF;\n",
              "      --disabled-bg-color: #3B4455;\n",
              "      --disabled-fill-color: #666;\n",
              "  }\n",
              "\n",
              "  .colab-df-quickchart {\n",
              "    background-color: var(--bg-color);\n",
              "    border: none;\n",
              "    border-radius: 50%;\n",
              "    cursor: pointer;\n",
              "    display: none;\n",
              "    fill: var(--fill-color);\n",
              "    height: 32px;\n",
              "    padding: 0;\n",
              "    width: 32px;\n",
              "  }\n",
              "\n",
              "  .colab-df-quickchart:hover {\n",
              "    background-color: var(--hover-bg-color);\n",
              "    box-shadow: 0 1px 2px rgba(60, 64, 67, 0.3), 0 1px 3px 1px rgba(60, 64, 67, 0.15);\n",
              "    fill: var(--button-hover-fill-color);\n",
              "  }\n",
              "\n",
              "  .colab-df-quickchart-complete:disabled,\n",
              "  .colab-df-quickchart-complete:disabled:hover {\n",
              "    background-color: var(--disabled-bg-color);\n",
              "    fill: var(--disabled-fill-color);\n",
              "    box-shadow: none;\n",
              "  }\n",
              "\n",
              "  .colab-df-spinner {\n",
              "    border: 2px solid var(--fill-color);\n",
              "    border-color: transparent;\n",
              "    border-bottom-color: var(--fill-color);\n",
              "    animation:\n",
              "      spin 1s steps(1) infinite;\n",
              "  }\n",
              "\n",
              "  @keyframes spin {\n",
              "    0% {\n",
              "      border-color: transparent;\n",
              "      border-bottom-color: var(--fill-color);\n",
              "      border-left-color: var(--fill-color);\n",
              "    }\n",
              "    20% {\n",
              "      border-color: transparent;\n",
              "      border-left-color: var(--fill-color);\n",
              "      border-top-color: var(--fill-color);\n",
              "    }\n",
              "    30% {\n",
              "      border-color: transparent;\n",
              "      border-left-color: var(--fill-color);\n",
              "      border-top-color: var(--fill-color);\n",
              "      border-right-color: var(--fill-color);\n",
              "    }\n",
              "    40% {\n",
              "      border-color: transparent;\n",
              "      border-right-color: var(--fill-color);\n",
              "      border-top-color: var(--fill-color);\n",
              "    }\n",
              "    60% {\n",
              "      border-color: transparent;\n",
              "      border-right-color: var(--fill-color);\n",
              "    }\n",
              "    80% {\n",
              "      border-color: transparent;\n",
              "      border-right-color: var(--fill-color);\n",
              "      border-bottom-color: var(--fill-color);\n",
              "    }\n",
              "    90% {\n",
              "      border-color: transparent;\n",
              "      border-bottom-color: var(--fill-color);\n",
              "    }\n",
              "  }\n",
              "</style>\n",
              "\n",
              "  <script>\n",
              "    async function quickchart(key) {\n",
              "      const quickchartButtonEl =\n",
              "        document.querySelector('#' + key + ' button');\n",
              "      quickchartButtonEl.disabled = true;  // To prevent multiple clicks.\n",
              "      quickchartButtonEl.classList.add('colab-df-spinner');\n",
              "      try {\n",
              "        const charts = await google.colab.kernel.invokeFunction(\n",
              "            'suggestCharts', [key], {});\n",
              "      } catch (error) {\n",
              "        console.error('Error during call to suggestCharts:', error);\n",
              "      }\n",
              "      quickchartButtonEl.classList.remove('colab-df-spinner');\n",
              "      quickchartButtonEl.classList.add('colab-df-quickchart-complete');\n",
              "    }\n",
              "    (() => {\n",
              "      let quickchartButtonEl =\n",
              "        document.querySelector('#df-a997158a-42e0-4caa-9385-315e9b520e2d button');\n",
              "      quickchartButtonEl.style.display =\n",
              "        google.colab.kernel.accessAllowed ? 'block' : 'none';\n",
              "    })();\n",
              "  </script>\n",
              "</div>\n",
              "    </div>\n",
              "  </div>\n"
            ]
          },
          "metadata": {},
          "execution_count": 4
        }
      ]
    },
    {
      "cell_type": "code",
      "metadata": {
        "id": "OuLSRT-ZgcU3",
        "colab": {
          "base_uri": "https://localhost:8080/",
          "height": 363
        },
        "outputId": "3e3b796f-54ee-4c48-966c-3ce566c98b2f"
      },
      "source": [
        "#And y contains the corresponding label of each data point:\n",
        "pd.DataFrame(y, columns=['Label'])\n"
      ],
      "execution_count": null,
      "outputs": [
        {
          "output_type": "execute_result",
          "data": {
            "text/plain": [
              "   Label\n",
              "0      0\n",
              "1      1\n",
              "2      0\n",
              "3      0\n",
              "4      0\n",
              "5      1\n",
              "6      1\n",
              "7      1\n",
              "8      1\n",
              "9      0"
            ],
            "text/html": [
              "\n",
              "  <div id=\"df-3fb780b2-d293-46f1-9f07-9b0578a9efc5\" class=\"colab-df-container\">\n",
              "    <div>\n",
              "<style scoped>\n",
              "    .dataframe tbody tr th:only-of-type {\n",
              "        vertical-align: middle;\n",
              "    }\n",
              "\n",
              "    .dataframe tbody tr th {\n",
              "        vertical-align: top;\n",
              "    }\n",
              "\n",
              "    .dataframe thead th {\n",
              "        text-align: right;\n",
              "    }\n",
              "</style>\n",
              "<table border=\"1\" class=\"dataframe\">\n",
              "  <thead>\n",
              "    <tr style=\"text-align: right;\">\n",
              "      <th></th>\n",
              "      <th>Label</th>\n",
              "    </tr>\n",
              "  </thead>\n",
              "  <tbody>\n",
              "    <tr>\n",
              "      <th>0</th>\n",
              "      <td>0</td>\n",
              "    </tr>\n",
              "    <tr>\n",
              "      <th>1</th>\n",
              "      <td>1</td>\n",
              "    </tr>\n",
              "    <tr>\n",
              "      <th>2</th>\n",
              "      <td>0</td>\n",
              "    </tr>\n",
              "    <tr>\n",
              "      <th>3</th>\n",
              "      <td>0</td>\n",
              "    </tr>\n",
              "    <tr>\n",
              "      <th>4</th>\n",
              "      <td>0</td>\n",
              "    </tr>\n",
              "    <tr>\n",
              "      <th>5</th>\n",
              "      <td>1</td>\n",
              "    </tr>\n",
              "    <tr>\n",
              "      <th>6</th>\n",
              "      <td>1</td>\n",
              "    </tr>\n",
              "    <tr>\n",
              "      <th>7</th>\n",
              "      <td>1</td>\n",
              "    </tr>\n",
              "    <tr>\n",
              "      <th>8</th>\n",
              "      <td>1</td>\n",
              "    </tr>\n",
              "    <tr>\n",
              "      <th>9</th>\n",
              "      <td>0</td>\n",
              "    </tr>\n",
              "  </tbody>\n",
              "</table>\n",
              "</div>\n",
              "    <div class=\"colab-df-buttons\">\n",
              "\n",
              "  <div class=\"colab-df-container\">\n",
              "    <button class=\"colab-df-convert\" onclick=\"convertToInteractive('df-3fb780b2-d293-46f1-9f07-9b0578a9efc5')\"\n",
              "            title=\"Convert this dataframe to an interactive table.\"\n",
              "            style=\"display:none;\">\n",
              "\n",
              "  <svg xmlns=\"http://www.w3.org/2000/svg\" height=\"24px\" viewBox=\"0 -960 960 960\">\n",
              "    <path d=\"M120-120v-720h720v720H120Zm60-500h600v-160H180v160Zm220 220h160v-160H400v160Zm0 220h160v-160H400v160ZM180-400h160v-160H180v160Zm440 0h160v-160H620v160ZM180-180h160v-160H180v160Zm440 0h160v-160H620v160Z\"/>\n",
              "  </svg>\n",
              "    </button>\n",
              "\n",
              "  <style>\n",
              "    .colab-df-container {\n",
              "      display:flex;\n",
              "      gap: 12px;\n",
              "    }\n",
              "\n",
              "    .colab-df-convert {\n",
              "      background-color: #E8F0FE;\n",
              "      border: none;\n",
              "      border-radius: 50%;\n",
              "      cursor: pointer;\n",
              "      display: none;\n",
              "      fill: #1967D2;\n",
              "      height: 32px;\n",
              "      padding: 0 0 0 0;\n",
              "      width: 32px;\n",
              "    }\n",
              "\n",
              "    .colab-df-convert:hover {\n",
              "      background-color: #E2EBFA;\n",
              "      box-shadow: 0px 1px 2px rgba(60, 64, 67, 0.3), 0px 1px 3px 1px rgba(60, 64, 67, 0.15);\n",
              "      fill: #174EA6;\n",
              "    }\n",
              "\n",
              "    .colab-df-buttons div {\n",
              "      margin-bottom: 4px;\n",
              "    }\n",
              "\n",
              "    [theme=dark] .colab-df-convert {\n",
              "      background-color: #3B4455;\n",
              "      fill: #D2E3FC;\n",
              "    }\n",
              "\n",
              "    [theme=dark] .colab-df-convert:hover {\n",
              "      background-color: #434B5C;\n",
              "      box-shadow: 0px 1px 3px 1px rgba(0, 0, 0, 0.15);\n",
              "      filter: drop-shadow(0px 1px 2px rgba(0, 0, 0, 0.3));\n",
              "      fill: #FFFFFF;\n",
              "    }\n",
              "  </style>\n",
              "\n",
              "    <script>\n",
              "      const buttonEl =\n",
              "        document.querySelector('#df-3fb780b2-d293-46f1-9f07-9b0578a9efc5 button.colab-df-convert');\n",
              "      buttonEl.style.display =\n",
              "        google.colab.kernel.accessAllowed ? 'block' : 'none';\n",
              "\n",
              "      async function convertToInteractive(key) {\n",
              "        const element = document.querySelector('#df-3fb780b2-d293-46f1-9f07-9b0578a9efc5');\n",
              "        const dataTable =\n",
              "          await google.colab.kernel.invokeFunction('convertToInteractive',\n",
              "                                                    [key], {});\n",
              "        if (!dataTable) return;\n",
              "\n",
              "        const docLinkHtml = 'Like what you see? Visit the ' +\n",
              "          '<a target=\"_blank\" href=https://colab.research.google.com/notebooks/data_table.ipynb>data table notebook</a>'\n",
              "          + ' to learn more about interactive tables.';\n",
              "        element.innerHTML = '';\n",
              "        dataTable['output_type'] = 'display_data';\n",
              "        await google.colab.output.renderOutput(dataTable, element);\n",
              "        const docLink = document.createElement('div');\n",
              "        docLink.innerHTML = docLinkHtml;\n",
              "        element.appendChild(docLink);\n",
              "      }\n",
              "    </script>\n",
              "  </div>\n",
              "\n",
              "\n",
              "<div id=\"df-4fcc9f91-a0fd-46bc-bbfe-1e5adcddaa32\">\n",
              "  <button class=\"colab-df-quickchart\" onclick=\"quickchart('df-4fcc9f91-a0fd-46bc-bbfe-1e5adcddaa32')\"\n",
              "            title=\"Suggest charts\"\n",
              "            style=\"display:none;\">\n",
              "\n",
              "<svg xmlns=\"http://www.w3.org/2000/svg\" height=\"24px\"viewBox=\"0 0 24 24\"\n",
              "     width=\"24px\">\n",
              "    <g>\n",
              "        <path d=\"M19 3H5c-1.1 0-2 .9-2 2v14c0 1.1.9 2 2 2h14c1.1 0 2-.9 2-2V5c0-1.1-.9-2-2-2zM9 17H7v-7h2v7zm4 0h-2V7h2v10zm4 0h-2v-4h2v4z\"/>\n",
              "    </g>\n",
              "</svg>\n",
              "  </button>\n",
              "\n",
              "<style>\n",
              "  .colab-df-quickchart {\n",
              "      --bg-color: #E8F0FE;\n",
              "      --fill-color: #1967D2;\n",
              "      --hover-bg-color: #E2EBFA;\n",
              "      --hover-fill-color: #174EA6;\n",
              "      --disabled-fill-color: #AAA;\n",
              "      --disabled-bg-color: #DDD;\n",
              "  }\n",
              "\n",
              "  [theme=dark] .colab-df-quickchart {\n",
              "      --bg-color: #3B4455;\n",
              "      --fill-color: #D2E3FC;\n",
              "      --hover-bg-color: #434B5C;\n",
              "      --hover-fill-color: #FFFFFF;\n",
              "      --disabled-bg-color: #3B4455;\n",
              "      --disabled-fill-color: #666;\n",
              "  }\n",
              "\n",
              "  .colab-df-quickchart {\n",
              "    background-color: var(--bg-color);\n",
              "    border: none;\n",
              "    border-radius: 50%;\n",
              "    cursor: pointer;\n",
              "    display: none;\n",
              "    fill: var(--fill-color);\n",
              "    height: 32px;\n",
              "    padding: 0;\n",
              "    width: 32px;\n",
              "  }\n",
              "\n",
              "  .colab-df-quickchart:hover {\n",
              "    background-color: var(--hover-bg-color);\n",
              "    box-shadow: 0 1px 2px rgba(60, 64, 67, 0.3), 0 1px 3px 1px rgba(60, 64, 67, 0.15);\n",
              "    fill: var(--button-hover-fill-color);\n",
              "  }\n",
              "\n",
              "  .colab-df-quickchart-complete:disabled,\n",
              "  .colab-df-quickchart-complete:disabled:hover {\n",
              "    background-color: var(--disabled-bg-color);\n",
              "    fill: var(--disabled-fill-color);\n",
              "    box-shadow: none;\n",
              "  }\n",
              "\n",
              "  .colab-df-spinner {\n",
              "    border: 2px solid var(--fill-color);\n",
              "    border-color: transparent;\n",
              "    border-bottom-color: var(--fill-color);\n",
              "    animation:\n",
              "      spin 1s steps(1) infinite;\n",
              "  }\n",
              "\n",
              "  @keyframes spin {\n",
              "    0% {\n",
              "      border-color: transparent;\n",
              "      border-bottom-color: var(--fill-color);\n",
              "      border-left-color: var(--fill-color);\n",
              "    }\n",
              "    20% {\n",
              "      border-color: transparent;\n",
              "      border-left-color: var(--fill-color);\n",
              "      border-top-color: var(--fill-color);\n",
              "    }\n",
              "    30% {\n",
              "      border-color: transparent;\n",
              "      border-left-color: var(--fill-color);\n",
              "      border-top-color: var(--fill-color);\n",
              "      border-right-color: var(--fill-color);\n",
              "    }\n",
              "    40% {\n",
              "      border-color: transparent;\n",
              "      border-right-color: var(--fill-color);\n",
              "      border-top-color: var(--fill-color);\n",
              "    }\n",
              "    60% {\n",
              "      border-color: transparent;\n",
              "      border-right-color: var(--fill-color);\n",
              "    }\n",
              "    80% {\n",
              "      border-color: transparent;\n",
              "      border-right-color: var(--fill-color);\n",
              "      border-bottom-color: var(--fill-color);\n",
              "    }\n",
              "    90% {\n",
              "      border-color: transparent;\n",
              "      border-bottom-color: var(--fill-color);\n",
              "    }\n",
              "  }\n",
              "</style>\n",
              "\n",
              "  <script>\n",
              "    async function quickchart(key) {\n",
              "      const quickchartButtonEl =\n",
              "        document.querySelector('#' + key + ' button');\n",
              "      quickchartButtonEl.disabled = true;  // To prevent multiple clicks.\n",
              "      quickchartButtonEl.classList.add('colab-df-spinner');\n",
              "      try {\n",
              "        const charts = await google.colab.kernel.invokeFunction(\n",
              "            'suggestCharts', [key], {});\n",
              "      } catch (error) {\n",
              "        console.error('Error during call to suggestCharts:', error);\n",
              "      }\n",
              "      quickchartButtonEl.classList.remove('colab-df-spinner');\n",
              "      quickchartButtonEl.classList.add('colab-df-quickchart-complete');\n",
              "    }\n",
              "    (() => {\n",
              "      let quickchartButtonEl =\n",
              "        document.querySelector('#df-4fcc9f91-a0fd-46bc-bbfe-1e5adcddaa32 button');\n",
              "      quickchartButtonEl.style.display =\n",
              "        google.colab.kernel.accessAllowed ? 'block' : 'none';\n",
              "    })();\n",
              "  </script>\n",
              "</div>\n",
              "    </div>\n",
              "  </div>\n"
            ]
          },
          "metadata": {},
          "execution_count": 5
        }
      ]
    },
    {
      "cell_type": "code",
      "source": [
        "from sklearn.datasets import make_classification\n",
        "X, y = make_classification(n_classes=2, class_sep=0.5,\n",
        "weights=[0.05, 0.95], n_informative=2, n_redundant=0, flip_y=0,\n",
        "n_features=2, n_clusters_per_class=1, n_samples=1000, random_state=10"
      ],
      "metadata": {
        "id": "4gq6RddS6iaW"
      },
      "execution_count": null,
      "outputs": []
    },
    {
      "cell_type": "markdown",
      "source": [
        "### **Create Dataset with SMOTE**\n"
      ],
      "metadata": {
        "id": "wP_xqFAA7ReN"
      }
    },
    {
      "cell_type": "code",
      "source": [
        "from imblearn.over_sampling import SMOTE\n",
        "sm = SMOTE(random_state=42)\n",
        "X_res, y_res = sm.fit_resample(X_train, y_train)"
      ],
      "metadata": {
        "id": "5aqdwAiP7SRc"
      },
      "execution_count": null,
      "outputs": []
    },
    {
      "cell_type": "markdown",
      "metadata": {
        "id": "zULD0DFiy6Qq"
      },
      "source": [
        "### **Faker [10]**"
      ]
    },
    {
      "cell_type": "markdown",
      "metadata": {
        "id": "4iMy4XnjzCgZ"
      },
      "source": [
        "We might come across a situation where we need to generate some test data or use some dummy data in our analysis. One way to get dummy data is by using the Faker library. This will generate fake data for you very quickly when you need to."
      ]
    },
    {
      "cell_type": "markdown",
      "source": [
        "Faker is a fantastic package to generate fake random data. Each time you use the faker library generator, it will result in different random data. There are numerous exciting methods like fake text, fake credit card numbers. The complete documentation of this faker library and its uses is at this link [21]"
      ],
      "metadata": {
        "id": "Gw9iwdMJ2BWy"
      }
    },
    {
      "cell_type": "markdown",
      "metadata": {
        "id": "A2yv_EKjzJQp"
      },
      "source": [
        "**Installation**\n"
      ]
    },
    {
      "cell_type": "code",
      "metadata": {
        "id": "9hNDEcTPzQba",
        "colab": {
          "base_uri": "https://localhost:8080/"
        },
        "outputId": "9275c9dc-d1d1-45fb-f69b-02a1b952d2fb"
      },
      "source": [
        "!pip install faker\n"
      ],
      "execution_count": null,
      "outputs": [
        {
          "output_type": "stream",
          "name": "stdout",
          "text": [
            "Collecting faker\n",
            "  Downloading Faker-20.0.3-py3-none-any.whl (1.7 MB)\n",
            "\u001b[2K     \u001b[90m━━━━━━━━━━━━━━━━━━━━━━━━━━━━━━━━━━━━━━━━\u001b[0m \u001b[32m1.7/1.7 MB\u001b[0m \u001b[31m9.8 MB/s\u001b[0m eta \u001b[36m0:00:00\u001b[0m\n",
            "\u001b[?25hRequirement already satisfied: python-dateutil>=2.4 in /usr/local/lib/python3.10/dist-packages (from faker) (2.8.2)\n",
            "Requirement already satisfied: six>=1.5 in /usr/local/lib/python3.10/dist-packages (from python-dateutil>=2.4->faker) (1.16.0)\n",
            "Installing collected packages: faker\n",
            "Successfully installed faker-20.0.3\n"
          ]
        }
      ]
    },
    {
      "cell_type": "markdown",
      "metadata": {
        "id": "KVDOrl66zcRa"
      },
      "source": [
        "**Example**"
      ]
    },
    {
      "cell_type": "code",
      "metadata": {
        "id": "t8CbJXJLzx32"
      },
      "source": [
        "from faker import Faker\n",
        "fake = Faker()"
      ],
      "execution_count": null,
      "outputs": []
    },
    {
      "cell_type": "code",
      "metadata": {
        "id": "DXKpmmCRzeJl"
      },
      "source": [
        "# Generating fake email\n",
        "print (fake.email())\n",
        "# Generating fake country name\n",
        "print(fake.country())\n",
        "# Generating fake name\n",
        "print(fake.name())\n",
        "# Generating fake text\n",
        "print(fake.text())\n",
        "# Generating fake lat and lon\n",
        "print(fake.latitude(), fake.longitude())\n",
        "# Generating fake url\n",
        "print(fake.url())\n",
        "# Generating fake profile\n",
        "print(fake.profile())\n",
        "# Generating random number\n",
        "print(fake.random_number())"
      ],
      "execution_count": null,
      "outputs": []
    },
    {
      "cell_type": "code",
      "source": [
        "from faker import Faker\n",
        "fake = Faker()\n",
        "\n",
        "print(fake.profile())\n",
        "print(fake.credit_card_number())"
      ],
      "metadata": {
        "id": "spKNYfPH2TKx"
      },
      "execution_count": null,
      "outputs": []
    },
    {
      "cell_type": "markdown",
      "metadata": {
        "id": "dk60DEvnkCx7"
      },
      "source": [
        "### **Wine Dataset**"
      ]
    },
    {
      "cell_type": "code",
      "metadata": {
        "id": "WUyfFpqkkNfo"
      },
      "source": [
        "from sklearn.datasets import load_wine\n",
        "\n",
        "wine = load_wine()\n",
        "\n",
        "for line in wine.DESCR.split(\"\\n\")[5:29]:\n",
        "    print(line)\n",
        "\n",
        "wine_df = pd.DataFrame(data=wine.data, columns = wine.feature_names)\n",
        "wine_df[\"WineType\"] = wine.target\n",
        "\n",
        "wine_df.head()"
      ],
      "execution_count": null,
      "outputs": []
    },
    {
      "cell_type": "markdown",
      "metadata": {
        "id": "8aHRZSAtkYtR"
      },
      "source": [
        "### **Breast Cancer Dataset**"
      ]
    },
    {
      "cell_type": "code",
      "metadata": {
        "id": "NQicqZsBkdps"
      },
      "source": [
        "from sklearn.datasets import load_breast_cancer\n",
        "\n",
        "breast_cancer = load_breast_cancer()\n",
        "\n",
        "for line in breast_cancer.DESCR.split(\"\\n\")[5:31]:\n",
        "    print(line)\n",
        "\n",
        "breast_cancer_df = pd.DataFrame(data=breast_cancer.data, columns = breast_cancer.feature_names)\n",
        "breast_cancer_df[\"TumorType\"] = breast_cancer.target\n",
        "\n",
        "breast_cancer_df.head()"
      ],
      "execution_count": null,
      "outputs": []
    },
    {
      "cell_type": "markdown",
      "metadata": {
        "id": "EdjrebzJkkft"
      },
      "source": [
        "### **Boston Housing Dataset**"
      ]
    },
    {
      "cell_type": "code",
      "metadata": {
        "id": "lDIDJeqhkv1w"
      },
      "source": [
        "from sklearn.datasets import load_boston\n",
        "\n",
        "boston = load_boston()\n",
        "\n",
        "for line in boston.DESCR.split(\"\\n\")[5:29]:\n",
        "    print(line)\n",
        "\n",
        "boston_df = pd.DataFrame(data=boston.data, columns = boston.feature_names)\n",
        "boston_df[\"Price\"] = boston.target\n",
        "\n",
        "boston_df.head()"
      ],
      "execution_count": null,
      "outputs": []
    },
    {
      "cell_type": "markdown",
      "metadata": {
        "id": "sOLVCtlQ-A5H"
      },
      "source": [
        "### **Seaborn Datasets**[16]"
      ]
    },
    {
      "cell_type": "code",
      "metadata": {
        "id": "MOWnQ7d7-GzP",
        "colab": {
          "base_uri": "https://localhost:8080/",
          "height": 206
        },
        "outputId": "3a6ad465-3982-4884-bbae-c5b6bc0a3dc8"
      },
      "source": [
        "#Importing the modules\n",
        "import pandas as pd\n",
        "import seaborn as sns\n",
        "#Loading the dataset\n",
        "planets = sns.load_dataset('planets')\n",
        "#Showing 10 first row in the planets data\n",
        "planets.head()"
      ],
      "execution_count": null,
      "outputs": [
        {
          "output_type": "execute_result",
          "data": {
            "text/plain": [
              "            method  number  orbital_period   mass  distance  year\n",
              "0  Radial Velocity       1         269.300   7.10     77.40  2006\n",
              "1  Radial Velocity       1         874.774   2.21     56.95  2008\n",
              "2  Radial Velocity       1         763.000   2.60     19.84  2011\n",
              "3  Radial Velocity       1         326.030  19.40    110.62  2007\n",
              "4  Radial Velocity       1         516.220  10.50    119.47  2009"
            ],
            "text/html": [
              "\n",
              "  <div id=\"df-fea91e85-02d7-4911-ab7b-e796fcf41003\" class=\"colab-df-container\">\n",
              "    <div>\n",
              "<style scoped>\n",
              "    .dataframe tbody tr th:only-of-type {\n",
              "        vertical-align: middle;\n",
              "    }\n",
              "\n",
              "    .dataframe tbody tr th {\n",
              "        vertical-align: top;\n",
              "    }\n",
              "\n",
              "    .dataframe thead th {\n",
              "        text-align: right;\n",
              "    }\n",
              "</style>\n",
              "<table border=\"1\" class=\"dataframe\">\n",
              "  <thead>\n",
              "    <tr style=\"text-align: right;\">\n",
              "      <th></th>\n",
              "      <th>method</th>\n",
              "      <th>number</th>\n",
              "      <th>orbital_period</th>\n",
              "      <th>mass</th>\n",
              "      <th>distance</th>\n",
              "      <th>year</th>\n",
              "    </tr>\n",
              "  </thead>\n",
              "  <tbody>\n",
              "    <tr>\n",
              "      <th>0</th>\n",
              "      <td>Radial Velocity</td>\n",
              "      <td>1</td>\n",
              "      <td>269.300</td>\n",
              "      <td>7.10</td>\n",
              "      <td>77.40</td>\n",
              "      <td>2006</td>\n",
              "    </tr>\n",
              "    <tr>\n",
              "      <th>1</th>\n",
              "      <td>Radial Velocity</td>\n",
              "      <td>1</td>\n",
              "      <td>874.774</td>\n",
              "      <td>2.21</td>\n",
              "      <td>56.95</td>\n",
              "      <td>2008</td>\n",
              "    </tr>\n",
              "    <tr>\n",
              "      <th>2</th>\n",
              "      <td>Radial Velocity</td>\n",
              "      <td>1</td>\n",
              "      <td>763.000</td>\n",
              "      <td>2.60</td>\n",
              "      <td>19.84</td>\n",
              "      <td>2011</td>\n",
              "    </tr>\n",
              "    <tr>\n",
              "      <th>3</th>\n",
              "      <td>Radial Velocity</td>\n",
              "      <td>1</td>\n",
              "      <td>326.030</td>\n",
              "      <td>19.40</td>\n",
              "      <td>110.62</td>\n",
              "      <td>2007</td>\n",
              "    </tr>\n",
              "    <tr>\n",
              "      <th>4</th>\n",
              "      <td>Radial Velocity</td>\n",
              "      <td>1</td>\n",
              "      <td>516.220</td>\n",
              "      <td>10.50</td>\n",
              "      <td>119.47</td>\n",
              "      <td>2009</td>\n",
              "    </tr>\n",
              "  </tbody>\n",
              "</table>\n",
              "</div>\n",
              "    <div class=\"colab-df-buttons\">\n",
              "\n",
              "  <div class=\"colab-df-container\">\n",
              "    <button class=\"colab-df-convert\" onclick=\"convertToInteractive('df-fea91e85-02d7-4911-ab7b-e796fcf41003')\"\n",
              "            title=\"Convert this dataframe to an interactive table.\"\n",
              "            style=\"display:none;\">\n",
              "\n",
              "  <svg xmlns=\"http://www.w3.org/2000/svg\" height=\"24px\" viewBox=\"0 -960 960 960\">\n",
              "    <path d=\"M120-120v-720h720v720H120Zm60-500h600v-160H180v160Zm220 220h160v-160H400v160Zm0 220h160v-160H400v160ZM180-400h160v-160H180v160Zm440 0h160v-160H620v160ZM180-180h160v-160H180v160Zm440 0h160v-160H620v160Z\"/>\n",
              "  </svg>\n",
              "    </button>\n",
              "\n",
              "  <style>\n",
              "    .colab-df-container {\n",
              "      display:flex;\n",
              "      gap: 12px;\n",
              "    }\n",
              "\n",
              "    .colab-df-convert {\n",
              "      background-color: #E8F0FE;\n",
              "      border: none;\n",
              "      border-radius: 50%;\n",
              "      cursor: pointer;\n",
              "      display: none;\n",
              "      fill: #1967D2;\n",
              "      height: 32px;\n",
              "      padding: 0 0 0 0;\n",
              "      width: 32px;\n",
              "    }\n",
              "\n",
              "    .colab-df-convert:hover {\n",
              "      background-color: #E2EBFA;\n",
              "      box-shadow: 0px 1px 2px rgba(60, 64, 67, 0.3), 0px 1px 3px 1px rgba(60, 64, 67, 0.15);\n",
              "      fill: #174EA6;\n",
              "    }\n",
              "\n",
              "    .colab-df-buttons div {\n",
              "      margin-bottom: 4px;\n",
              "    }\n",
              "\n",
              "    [theme=dark] .colab-df-convert {\n",
              "      background-color: #3B4455;\n",
              "      fill: #D2E3FC;\n",
              "    }\n",
              "\n",
              "    [theme=dark] .colab-df-convert:hover {\n",
              "      background-color: #434B5C;\n",
              "      box-shadow: 0px 1px 3px 1px rgba(0, 0, 0, 0.15);\n",
              "      filter: drop-shadow(0px 1px 2px rgba(0, 0, 0, 0.3));\n",
              "      fill: #FFFFFF;\n",
              "    }\n",
              "  </style>\n",
              "\n",
              "    <script>\n",
              "      const buttonEl =\n",
              "        document.querySelector('#df-fea91e85-02d7-4911-ab7b-e796fcf41003 button.colab-df-convert');\n",
              "      buttonEl.style.display =\n",
              "        google.colab.kernel.accessAllowed ? 'block' : 'none';\n",
              "\n",
              "      async function convertToInteractive(key) {\n",
              "        const element = document.querySelector('#df-fea91e85-02d7-4911-ab7b-e796fcf41003');\n",
              "        const dataTable =\n",
              "          await google.colab.kernel.invokeFunction('convertToInteractive',\n",
              "                                                    [key], {});\n",
              "        if (!dataTable) return;\n",
              "\n",
              "        const docLinkHtml = 'Like what you see? Visit the ' +\n",
              "          '<a target=\"_blank\" href=https://colab.research.google.com/notebooks/data_table.ipynb>data table notebook</a>'\n",
              "          + ' to learn more about interactive tables.';\n",
              "        element.innerHTML = '';\n",
              "        dataTable['output_type'] = 'display_data';\n",
              "        await google.colab.output.renderOutput(dataTable, element);\n",
              "        const docLink = document.createElement('div');\n",
              "        docLink.innerHTML = docLinkHtml;\n",
              "        element.appendChild(docLink);\n",
              "      }\n",
              "    </script>\n",
              "  </div>\n",
              "\n",
              "\n",
              "<div id=\"df-a7962cfd-8bf9-483d-87c9-99b7687c70ef\">\n",
              "  <button class=\"colab-df-quickchart\" onclick=\"quickchart('df-a7962cfd-8bf9-483d-87c9-99b7687c70ef')\"\n",
              "            title=\"Suggest charts\"\n",
              "            style=\"display:none;\">\n",
              "\n",
              "<svg xmlns=\"http://www.w3.org/2000/svg\" height=\"24px\"viewBox=\"0 0 24 24\"\n",
              "     width=\"24px\">\n",
              "    <g>\n",
              "        <path d=\"M19 3H5c-1.1 0-2 .9-2 2v14c0 1.1.9 2 2 2h14c1.1 0 2-.9 2-2V5c0-1.1-.9-2-2-2zM9 17H7v-7h2v7zm4 0h-2V7h2v10zm4 0h-2v-4h2v4z\"/>\n",
              "    </g>\n",
              "</svg>\n",
              "  </button>\n",
              "\n",
              "<style>\n",
              "  .colab-df-quickchart {\n",
              "      --bg-color: #E8F0FE;\n",
              "      --fill-color: #1967D2;\n",
              "      --hover-bg-color: #E2EBFA;\n",
              "      --hover-fill-color: #174EA6;\n",
              "      --disabled-fill-color: #AAA;\n",
              "      --disabled-bg-color: #DDD;\n",
              "  }\n",
              "\n",
              "  [theme=dark] .colab-df-quickchart {\n",
              "      --bg-color: #3B4455;\n",
              "      --fill-color: #D2E3FC;\n",
              "      --hover-bg-color: #434B5C;\n",
              "      --hover-fill-color: #FFFFFF;\n",
              "      --disabled-bg-color: #3B4455;\n",
              "      --disabled-fill-color: #666;\n",
              "  }\n",
              "\n",
              "  .colab-df-quickchart {\n",
              "    background-color: var(--bg-color);\n",
              "    border: none;\n",
              "    border-radius: 50%;\n",
              "    cursor: pointer;\n",
              "    display: none;\n",
              "    fill: var(--fill-color);\n",
              "    height: 32px;\n",
              "    padding: 0;\n",
              "    width: 32px;\n",
              "  }\n",
              "\n",
              "  .colab-df-quickchart:hover {\n",
              "    background-color: var(--hover-bg-color);\n",
              "    box-shadow: 0 1px 2px rgba(60, 64, 67, 0.3), 0 1px 3px 1px rgba(60, 64, 67, 0.15);\n",
              "    fill: var(--button-hover-fill-color);\n",
              "  }\n",
              "\n",
              "  .colab-df-quickchart-complete:disabled,\n",
              "  .colab-df-quickchart-complete:disabled:hover {\n",
              "    background-color: var(--disabled-bg-color);\n",
              "    fill: var(--disabled-fill-color);\n",
              "    box-shadow: none;\n",
              "  }\n",
              "\n",
              "  .colab-df-spinner {\n",
              "    border: 2px solid var(--fill-color);\n",
              "    border-color: transparent;\n",
              "    border-bottom-color: var(--fill-color);\n",
              "    animation:\n",
              "      spin 1s steps(1) infinite;\n",
              "  }\n",
              "\n",
              "  @keyframes spin {\n",
              "    0% {\n",
              "      border-color: transparent;\n",
              "      border-bottom-color: var(--fill-color);\n",
              "      border-left-color: var(--fill-color);\n",
              "    }\n",
              "    20% {\n",
              "      border-color: transparent;\n",
              "      border-left-color: var(--fill-color);\n",
              "      border-top-color: var(--fill-color);\n",
              "    }\n",
              "    30% {\n",
              "      border-color: transparent;\n",
              "      border-left-color: var(--fill-color);\n",
              "      border-top-color: var(--fill-color);\n",
              "      border-right-color: var(--fill-color);\n",
              "    }\n",
              "    40% {\n",
              "      border-color: transparent;\n",
              "      border-right-color: var(--fill-color);\n",
              "      border-top-color: var(--fill-color);\n",
              "    }\n",
              "    60% {\n",
              "      border-color: transparent;\n",
              "      border-right-color: var(--fill-color);\n",
              "    }\n",
              "    80% {\n",
              "      border-color: transparent;\n",
              "      border-right-color: var(--fill-color);\n",
              "      border-bottom-color: var(--fill-color);\n",
              "    }\n",
              "    90% {\n",
              "      border-color: transparent;\n",
              "      border-bottom-color: var(--fill-color);\n",
              "    }\n",
              "  }\n",
              "</style>\n",
              "\n",
              "  <script>\n",
              "    async function quickchart(key) {\n",
              "      const quickchartButtonEl =\n",
              "        document.querySelector('#' + key + ' button');\n",
              "      quickchartButtonEl.disabled = true;  // To prevent multiple clicks.\n",
              "      quickchartButtonEl.classList.add('colab-df-spinner');\n",
              "      try {\n",
              "        const charts = await google.colab.kernel.invokeFunction(\n",
              "            'suggestCharts', [key], {});\n",
              "      } catch (error) {\n",
              "        console.error('Error during call to suggestCharts:', error);\n",
              "      }\n",
              "      quickchartButtonEl.classList.remove('colab-df-spinner');\n",
              "      quickchartButtonEl.classList.add('colab-df-quickchart-complete');\n",
              "    }\n",
              "    (() => {\n",
              "      let quickchartButtonEl =\n",
              "        document.querySelector('#df-a7962cfd-8bf9-483d-87c9-99b7687c70ef button');\n",
              "      quickchartButtonEl.style.display =\n",
              "        google.colab.kernel.accessAllowed ? 'block' : 'none';\n",
              "    })();\n",
              "  </script>\n",
              "</div>\n",
              "    </div>\n",
              "  </div>\n"
            ]
          },
          "metadata": {},
          "execution_count": 7
        }
      ]
    },
    {
      "cell_type": "code",
      "source": [
        "# we need to import the seaborn package first\n",
        "import seaborn as sb\n",
        "\n",
        "# import pandas for data frame\n",
        "import pandas as pd\n",
        "\n",
        "# using seaborn, we can return a list of the data set names\n",
        "sb.get_dataset_names()"
      ],
      "metadata": {
        "id": "3tWcn3Rnnv2C",
        "colab": {
          "base_uri": "https://localhost:8080/"
        },
        "outputId": "05091adc-1603-4102-da86-f397d4ae6920"
      },
      "execution_count": null,
      "outputs": [
        {
          "output_type": "execute_result",
          "data": {
            "text/plain": [
              "['anagrams',\n",
              " 'anscombe',\n",
              " 'attention',\n",
              " 'brain_networks',\n",
              " 'car_crashes',\n",
              " 'diamonds',\n",
              " 'dots',\n",
              " 'dowjones',\n",
              " 'exercise',\n",
              " 'flights',\n",
              " 'fmri',\n",
              " 'geyser',\n",
              " 'glue',\n",
              " 'healthexp',\n",
              " 'iris',\n",
              " 'mpg',\n",
              " 'penguins',\n",
              " 'planets',\n",
              " 'seaice',\n",
              " 'taxis',\n",
              " 'tips',\n",
              " 'titanic']"
            ]
          },
          "metadata": {},
          "execution_count": 8
        }
      ]
    },
    {
      "cell_type": "code",
      "source": [
        "# we can load the dataset directly onto a data frame\n",
        "df = sb.load_dataset('anscombe')\n",
        "\n",
        "# look at a portion to see what we are working with\n",
        "df.head()"
      ],
      "metadata": {
        "id": "HuAepZ5Qn4aB",
        "colab": {
          "base_uri": "https://localhost:8080/",
          "height": 206
        },
        "outputId": "c933b2b3-4100-4450-8767-0a17f2f8810b"
      },
      "execution_count": null,
      "outputs": [
        {
          "output_type": "execute_result",
          "data": {
            "text/plain": [
              "  dataset     x     y\n",
              "0       I  10.0  8.04\n",
              "1       I   8.0  6.95\n",
              "2       I  13.0  7.58\n",
              "3       I   9.0  8.81\n",
              "4       I  11.0  8.33"
            ],
            "text/html": [
              "\n",
              "  <div id=\"df-9f6a8744-9312-4cf8-bf27-a2d0a44333bd\" class=\"colab-df-container\">\n",
              "    <div>\n",
              "<style scoped>\n",
              "    .dataframe tbody tr th:only-of-type {\n",
              "        vertical-align: middle;\n",
              "    }\n",
              "\n",
              "    .dataframe tbody tr th {\n",
              "        vertical-align: top;\n",
              "    }\n",
              "\n",
              "    .dataframe thead th {\n",
              "        text-align: right;\n",
              "    }\n",
              "</style>\n",
              "<table border=\"1\" class=\"dataframe\">\n",
              "  <thead>\n",
              "    <tr style=\"text-align: right;\">\n",
              "      <th></th>\n",
              "      <th>dataset</th>\n",
              "      <th>x</th>\n",
              "      <th>y</th>\n",
              "    </tr>\n",
              "  </thead>\n",
              "  <tbody>\n",
              "    <tr>\n",
              "      <th>0</th>\n",
              "      <td>I</td>\n",
              "      <td>10.0</td>\n",
              "      <td>8.04</td>\n",
              "    </tr>\n",
              "    <tr>\n",
              "      <th>1</th>\n",
              "      <td>I</td>\n",
              "      <td>8.0</td>\n",
              "      <td>6.95</td>\n",
              "    </tr>\n",
              "    <tr>\n",
              "      <th>2</th>\n",
              "      <td>I</td>\n",
              "      <td>13.0</td>\n",
              "      <td>7.58</td>\n",
              "    </tr>\n",
              "    <tr>\n",
              "      <th>3</th>\n",
              "      <td>I</td>\n",
              "      <td>9.0</td>\n",
              "      <td>8.81</td>\n",
              "    </tr>\n",
              "    <tr>\n",
              "      <th>4</th>\n",
              "      <td>I</td>\n",
              "      <td>11.0</td>\n",
              "      <td>8.33</td>\n",
              "    </tr>\n",
              "  </tbody>\n",
              "</table>\n",
              "</div>\n",
              "    <div class=\"colab-df-buttons\">\n",
              "\n",
              "  <div class=\"colab-df-container\">\n",
              "    <button class=\"colab-df-convert\" onclick=\"convertToInteractive('df-9f6a8744-9312-4cf8-bf27-a2d0a44333bd')\"\n",
              "            title=\"Convert this dataframe to an interactive table.\"\n",
              "            style=\"display:none;\">\n",
              "\n",
              "  <svg xmlns=\"http://www.w3.org/2000/svg\" height=\"24px\" viewBox=\"0 -960 960 960\">\n",
              "    <path d=\"M120-120v-720h720v720H120Zm60-500h600v-160H180v160Zm220 220h160v-160H400v160Zm0 220h160v-160H400v160ZM180-400h160v-160H180v160Zm440 0h160v-160H620v160ZM180-180h160v-160H180v160Zm440 0h160v-160H620v160Z\"/>\n",
              "  </svg>\n",
              "    </button>\n",
              "\n",
              "  <style>\n",
              "    .colab-df-container {\n",
              "      display:flex;\n",
              "      gap: 12px;\n",
              "    }\n",
              "\n",
              "    .colab-df-convert {\n",
              "      background-color: #E8F0FE;\n",
              "      border: none;\n",
              "      border-radius: 50%;\n",
              "      cursor: pointer;\n",
              "      display: none;\n",
              "      fill: #1967D2;\n",
              "      height: 32px;\n",
              "      padding: 0 0 0 0;\n",
              "      width: 32px;\n",
              "    }\n",
              "\n",
              "    .colab-df-convert:hover {\n",
              "      background-color: #E2EBFA;\n",
              "      box-shadow: 0px 1px 2px rgba(60, 64, 67, 0.3), 0px 1px 3px 1px rgba(60, 64, 67, 0.15);\n",
              "      fill: #174EA6;\n",
              "    }\n",
              "\n",
              "    .colab-df-buttons div {\n",
              "      margin-bottom: 4px;\n",
              "    }\n",
              "\n",
              "    [theme=dark] .colab-df-convert {\n",
              "      background-color: #3B4455;\n",
              "      fill: #D2E3FC;\n",
              "    }\n",
              "\n",
              "    [theme=dark] .colab-df-convert:hover {\n",
              "      background-color: #434B5C;\n",
              "      box-shadow: 0px 1px 3px 1px rgba(0, 0, 0, 0.15);\n",
              "      filter: drop-shadow(0px 1px 2px rgba(0, 0, 0, 0.3));\n",
              "      fill: #FFFFFF;\n",
              "    }\n",
              "  </style>\n",
              "\n",
              "    <script>\n",
              "      const buttonEl =\n",
              "        document.querySelector('#df-9f6a8744-9312-4cf8-bf27-a2d0a44333bd button.colab-df-convert');\n",
              "      buttonEl.style.display =\n",
              "        google.colab.kernel.accessAllowed ? 'block' : 'none';\n",
              "\n",
              "      async function convertToInteractive(key) {\n",
              "        const element = document.querySelector('#df-9f6a8744-9312-4cf8-bf27-a2d0a44333bd');\n",
              "        const dataTable =\n",
              "          await google.colab.kernel.invokeFunction('convertToInteractive',\n",
              "                                                    [key], {});\n",
              "        if (!dataTable) return;\n",
              "\n",
              "        const docLinkHtml = 'Like what you see? Visit the ' +\n",
              "          '<a target=\"_blank\" href=https://colab.research.google.com/notebooks/data_table.ipynb>data table notebook</a>'\n",
              "          + ' to learn more about interactive tables.';\n",
              "        element.innerHTML = '';\n",
              "        dataTable['output_type'] = 'display_data';\n",
              "        await google.colab.output.renderOutput(dataTable, element);\n",
              "        const docLink = document.createElement('div');\n",
              "        docLink.innerHTML = docLinkHtml;\n",
              "        element.appendChild(docLink);\n",
              "      }\n",
              "    </script>\n",
              "  </div>\n",
              "\n",
              "\n",
              "<div id=\"df-47cf3557-00c4-4053-9ce4-e2694bbc93a8\">\n",
              "  <button class=\"colab-df-quickchart\" onclick=\"quickchart('df-47cf3557-00c4-4053-9ce4-e2694bbc93a8')\"\n",
              "            title=\"Suggest charts\"\n",
              "            style=\"display:none;\">\n",
              "\n",
              "<svg xmlns=\"http://www.w3.org/2000/svg\" height=\"24px\"viewBox=\"0 0 24 24\"\n",
              "     width=\"24px\">\n",
              "    <g>\n",
              "        <path d=\"M19 3H5c-1.1 0-2 .9-2 2v14c0 1.1.9 2 2 2h14c1.1 0 2-.9 2-2V5c0-1.1-.9-2-2-2zM9 17H7v-7h2v7zm4 0h-2V7h2v10zm4 0h-2v-4h2v4z\"/>\n",
              "    </g>\n",
              "</svg>\n",
              "  </button>\n",
              "\n",
              "<style>\n",
              "  .colab-df-quickchart {\n",
              "      --bg-color: #E8F0FE;\n",
              "      --fill-color: #1967D2;\n",
              "      --hover-bg-color: #E2EBFA;\n",
              "      --hover-fill-color: #174EA6;\n",
              "      --disabled-fill-color: #AAA;\n",
              "      --disabled-bg-color: #DDD;\n",
              "  }\n",
              "\n",
              "  [theme=dark] .colab-df-quickchart {\n",
              "      --bg-color: #3B4455;\n",
              "      --fill-color: #D2E3FC;\n",
              "      --hover-bg-color: #434B5C;\n",
              "      --hover-fill-color: #FFFFFF;\n",
              "      --disabled-bg-color: #3B4455;\n",
              "      --disabled-fill-color: #666;\n",
              "  }\n",
              "\n",
              "  .colab-df-quickchart {\n",
              "    background-color: var(--bg-color);\n",
              "    border: none;\n",
              "    border-radius: 50%;\n",
              "    cursor: pointer;\n",
              "    display: none;\n",
              "    fill: var(--fill-color);\n",
              "    height: 32px;\n",
              "    padding: 0;\n",
              "    width: 32px;\n",
              "  }\n",
              "\n",
              "  .colab-df-quickchart:hover {\n",
              "    background-color: var(--hover-bg-color);\n",
              "    box-shadow: 0 1px 2px rgba(60, 64, 67, 0.3), 0 1px 3px 1px rgba(60, 64, 67, 0.15);\n",
              "    fill: var(--button-hover-fill-color);\n",
              "  }\n",
              "\n",
              "  .colab-df-quickchart-complete:disabled,\n",
              "  .colab-df-quickchart-complete:disabled:hover {\n",
              "    background-color: var(--disabled-bg-color);\n",
              "    fill: var(--disabled-fill-color);\n",
              "    box-shadow: none;\n",
              "  }\n",
              "\n",
              "  .colab-df-spinner {\n",
              "    border: 2px solid var(--fill-color);\n",
              "    border-color: transparent;\n",
              "    border-bottom-color: var(--fill-color);\n",
              "    animation:\n",
              "      spin 1s steps(1) infinite;\n",
              "  }\n",
              "\n",
              "  @keyframes spin {\n",
              "    0% {\n",
              "      border-color: transparent;\n",
              "      border-bottom-color: var(--fill-color);\n",
              "      border-left-color: var(--fill-color);\n",
              "    }\n",
              "    20% {\n",
              "      border-color: transparent;\n",
              "      border-left-color: var(--fill-color);\n",
              "      border-top-color: var(--fill-color);\n",
              "    }\n",
              "    30% {\n",
              "      border-color: transparent;\n",
              "      border-left-color: var(--fill-color);\n",
              "      border-top-color: var(--fill-color);\n",
              "      border-right-color: var(--fill-color);\n",
              "    }\n",
              "    40% {\n",
              "      border-color: transparent;\n",
              "      border-right-color: var(--fill-color);\n",
              "      border-top-color: var(--fill-color);\n",
              "    }\n",
              "    60% {\n",
              "      border-color: transparent;\n",
              "      border-right-color: var(--fill-color);\n",
              "    }\n",
              "    80% {\n",
              "      border-color: transparent;\n",
              "      border-right-color: var(--fill-color);\n",
              "      border-bottom-color: var(--fill-color);\n",
              "    }\n",
              "    90% {\n",
              "      border-color: transparent;\n",
              "      border-bottom-color: var(--fill-color);\n",
              "    }\n",
              "  }\n",
              "</style>\n",
              "\n",
              "  <script>\n",
              "    async function quickchart(key) {\n",
              "      const quickchartButtonEl =\n",
              "        document.querySelector('#' + key + ' button');\n",
              "      quickchartButtonEl.disabled = true;  // To prevent multiple clicks.\n",
              "      quickchartButtonEl.classList.add('colab-df-spinner');\n",
              "      try {\n",
              "        const charts = await google.colab.kernel.invokeFunction(\n",
              "            'suggestCharts', [key], {});\n",
              "      } catch (error) {\n",
              "        console.error('Error during call to suggestCharts:', error);\n",
              "      }\n",
              "      quickchartButtonEl.classList.remove('colab-df-spinner');\n",
              "      quickchartButtonEl.classList.add('colab-df-quickchart-complete');\n",
              "    }\n",
              "    (() => {\n",
              "      let quickchartButtonEl =\n",
              "        document.querySelector('#df-47cf3557-00c4-4053-9ce4-e2694bbc93a8 button');\n",
              "      quickchartButtonEl.style.display =\n",
              "        google.colab.kernel.accessAllowed ? 'block' : 'none';\n",
              "    })();\n",
              "  </script>\n",
              "</div>\n",
              "    </div>\n",
              "  </div>\n"
            ]
          },
          "metadata": {},
          "execution_count": 9
        }
      ]
    },
    {
      "cell_type": "markdown",
      "source": [
        "#### **Dataset Details**[16]"
      ],
      "metadata": {
        "id": "vGdGqC4AKWtF"
      }
    },
    {
      "cell_type": "markdown",
      "source": [
        "**1. Anscombe**\n",
        "\n",
        "Anscombe’s quartet is comprised of four data sets that have nearly identical simple descriptive statistics — meaning that they all have eleven points and their averages and variance are all very similar. But they all have very different distributions and appear very different when graphed. They were constructed in 1973 by the statistician Francis Anscombe to demonstrate both the importance of graphing data before analyzing it and the effect of outliers and other influential observations on statistical properties. Both of these are important ideas to a good data scientist.\n",
        "\n",
        "The trend lines show a striking contrast to their points. Pay close attention to how their observations form unique patterns but the trend lines are all similar.Suggested Projects\n",
        "We can do a few things here:\n",
        "- Clustering — build an algorithm that can detect patterns in the data and see if there is any similarity between points in datasets I, II, III, and IV.\n",
        "- Logistic Regression — try and predict which point belongs to which data set\n",
        "- Linear Regression — try and predict the missing value of x or y"
      ],
      "metadata": {
        "id": "NkUHaNG8IPxT"
      }
    },
    {
      "cell_type": "markdown",
      "source": [
        "**2. Attention**\n",
        "\n",
        "This data set is built upon test takers, whether they were focused, and what score they received. The data set looks like this:"
      ],
      "metadata": {
        "id": "4xWDaB1GI3hC"
      }
    },
    {
      "cell_type": "markdown",
      "source": [
        "**Suggested Projects:**\n",
        "\n",
        "Logistic Regression — we can try and predict whether the target variable is ‘focused’ or ‘distracted.’"
      ],
      "metadata": {
        "id": "1tDdH6cxI-h-"
      }
    },
    {
      "cell_type": "markdown",
      "source": [
        "**3. Car Crashes**\n",
        "\n",
        "This data set is divided into different states in the U.S. Each state has the following features:\n",
        "As you can see, the data set is flush with continuous variables. Ignoring the ‘abbrev’ feature which just tells us the state, we can use this data set to predict almost any feature."
      ],
      "metadata": {
        "id": "5UiJnEcUJE0v"
      }
    },
    {
      "cell_type": "markdown",
      "source": [
        "**Suggested Projects:**\n",
        "\n",
        "- Multivariate Linear Regression — using the combination of features you can try to build a model that will predict any of the features.\n",
        "- Clustering — grouping states together based on the features. An interesting analysis idea would be to look at the clusters to try and determine group models using outside research (ie. traffic laws)."
      ],
      "metadata": {
        "id": "a_229sWDJOAR"
      }
    },
    {
      "cell_type": "markdown",
      "source": [
        "**4. Diamonds**\n",
        "\n",
        "Let’s take a look at the data set below:\n",
        "n this data set, each observation is a unique diamond. Features include carat, color, cut, clarity, and dimensions (x,y,z). This is a well-known beginner data set that can be used in a variety of projects."
      ],
      "metadata": {
        "id": "rzYBuzFeJZ95"
      }
    },
    {
      "cell_type": "markdown",
      "source": [
        "**Suggested Projects:**\n",
        "\n",
        "- Multivariate Linear Regression — there are a lot of continuous variables that could be predicted\n",
        "- Multivariate Logistic Regression — try to predict either color, cut, or clarity using the other features\n",
        "- Clustering — analyze clusters that come up and determine shared characteristics (ie. overpriced, fairly priced, etc)"
      ],
      "metadata": {
        "id": "RCRuJQ6UJngr"
      }
    },
    {
      "cell_type": "markdown",
      "source": [
        "**5. Flights**\n",
        "\n",
        "This data set is the first we are going to talk about that is time-related. It looks like this:It is the monthly passenger amount from January 1949 to December 1960. With some data wrangling, you can get year and month features to combine leaving you with a nice time step."
      ],
      "metadata": {
        "id": "_W8CTfRXJwue"
      }
    },
    {
      "cell_type": "markdown",
      "source": [
        "**Suggested Projects:**\n",
        "\n",
        "Time Series — using the data, you can set out to predict the passenger at the later end of the time frame.\n",
        "Be careful, there is a cyclical nature to this data set."
      ],
      "metadata": {
        "id": "VundnVKYKFo4"
      }
    },
    {
      "cell_type": "markdown",
      "source": [
        "**6. Iris**\n",
        "\n",
        "The Iris data set is another fundamental data set that most of us in data science have worked with in one way or another. It contains sepal and petal dimensions for four types of iris flowers."
      ],
      "metadata": {
        "id": "1wqNHYMHKQs0"
      }
    },
    {
      "cell_type": "markdown",
      "source": [
        "**Suggested Projects:**\n",
        "\n",
        "Multivariate Logistic Regression — using the dimensions above, you can try and predict the species of flower.\n",
        "Clustering — using the features, aside from species, you can try and create clusters and analyze them for patterns"
      ],
      "metadata": {
        "id": "5flERgpEKl9q"
      }
    },
    {
      "cell_type": "markdown",
      "source": [
        "**7. MPG**\n",
        "\n",
        "The MPG data set is a data frame full of cars with features and names attached. As you can see below, there is a mixture of variables that can be used for regression style models."
      ],
      "metadata": {
        "id": "VWAyIR1ZKwXS"
      }
    },
    {
      "cell_type": "markdown",
      "source": [
        "**Suggested Projects:**\n",
        "\n",
        "- Multivariate Linear Regression — trying to predict weight or displacement could be a worthwhile goal\n",
        "- Multivariate Logistic Regression — the non-continuous variables include origin and model year\n",
        "- Clustering — ignoring the name column, you can cluster them to determine which observations are the most similar. This would mean outside research."
      ],
      "metadata": {
        "id": "hZheMH2RKy76"
      }
    },
    {
      "cell_type": "markdown",
      "source": [
        "**8. Planets**\n",
        "\n",
        "The ‘planets’ data set is interesting if you are a fan of astronomy. It has a series of observations which are all exoplanets. Take a quick look at the data set itself:"
      ],
      "metadata": {
        "id": "Tug0JSegLAx-"
      }
    },
    {
      "cell_type": "markdown",
      "source": [
        "As you can see there a number of features, not all of which are easy to understand. So let’s talk about the most important features for a second.\n",
        "- method — this reflects how the planet was detected. Be careful, there is a large class imbalance here.\n",
        "- orbital period — how long it takes to complete one cycle of rotation around its center. Note: some are so far away from a star that it is unclear where the orbit begins, thus the NaN\n",
        "- mass — relative weight of the exoplanet\n",
        "- distance — light-years from Earth. If you are unfamiliar, a light-year is a distance that it takes light a year to travel. Since light is the fastest thing we know, this is a large distance."
      ],
      "metadata": {
        "id": "eFTkqUsCLDfi"
      }
    },
    {
      "cell_type": "markdown",
      "source": [
        "**Suggested Projects:**\n",
        "\n",
        "- Logistic Regression — you can try and predict the method of detection using the other variables. Note: large class imbalance here\n",
        "Clustering — you can do a deep dive and find patterns among the exoplanets. Use different techniques like PCA to help account for variance.\n",
        "- Linear Regression — you can determine whether there is a linear relationship between any of the variables and the mass of the exoplanet."
      ],
      "metadata": {
        "id": "h89sbHhlLU0G"
      }
    },
    {
      "cell_type": "markdown",
      "source": [
        "**9. Titanic**\n",
        "\n",
        "This data set is the most well-known and used in my honest opinion — even the subject of an ongoing Kaggle competition. In this data set, you get a manifest of the passenger vessel that sank due to the infamous iceberg on its way from Ireland to New York City."
      ],
      "metadata": {
        "id": "iERx3m5-L5XJ"
      }
    },
    {
      "cell_type": "markdown",
      "source": [
        "There are many features here — whether they traveled alone, what passenger class they were in, gender, and even if they had siblings — but I will only recommend one as the target variable for tradition's sake. The survived class records whether they survived or not. It is interesting to think about the final product telling you which coefficients were most important for predicting if a person lived or died.\n",
        "- Logistic Regression — looking at the ‘survived’ column, you can build a model to predict which passenger will survive and which will not.\n",
        "This will be a fun project and if you can master it, submit it to the Kaggle competition."
      ],
      "metadata": {
        "id": "C3FHTVMCL-MY"
      }
    },
    {
      "cell_type": "markdown",
      "metadata": {
        "id": "G2WuuWtcgNG4"
      },
      "source": [
        "## **1.2- Data Loading**"
      ]
    },
    {
      "cell_type": "markdown",
      "metadata": {
        "id": "Biql2sZngvIB"
      },
      "source": [
        "### **Data Loading from Google Drive**"
      ]
    },
    {
      "cell_type": "code",
      "metadata": {
        "colab": {
          "base_uri": "https://localhost:8080/"
        },
        "id": "Gwp1rpowgTKQ",
        "outputId": "7083b58b-dc8e-4e6b-87a5-e7600a349e93"
      },
      "source": [
        "from google.colab import drive\n",
        "drive.mount('/content/drive')"
      ],
      "execution_count": null,
      "outputs": [
        {
          "output_type": "stream",
          "name": "stdout",
          "text": [
            "Drive already mounted at /content/drive; to attempt to forcibly remount, call drive.mount(\"/content/drive\", force_remount=True).\n"
          ]
        }
      ]
    },
    {
      "cell_type": "code",
      "metadata": {
        "id": "3RoIsrRghTBm"
      },
      "source": [
        "import pandas as pd\n",
        "Train_data = pd.read_csv('/content/drive/MyDrive/Datasets/Malyria_2-21-2021.csv',encoding = 'latin')"
      ],
      "execution_count": null,
      "outputs": []
    },
    {
      "cell_type": "code",
      "metadata": {
        "id": "9hwlf9uUhdzP",
        "colab": {
          "base_uri": "https://localhost:8080/",
          "height": 652
        },
        "outputId": "4d9e2618-ae53-4ba2-8487-2029a730c247"
      },
      "source": [
        "Train_data"
      ],
      "execution_count": null,
      "outputs": [
        {
          "output_type": "execute_result",
          "data": {
            "text/plain": [
              "       Unnamed: 0      SECTION_NO            MRNO        PATIENT_NAME  \\\n",
              "0               1  K04HEM20123774  K0460000001363  Saqib Mehmood Khan   \n",
              "1               2  K04HEM18160758  K0460000001680      Muhammad Iqbal   \n",
              "2               3  K04HEM18160758  K0460000001680      Muhammad Iqbal   \n",
              "3               4  K04HEM17056995  K0460000000106       Shahbaz Ahmad   \n",
              "4               5  K04HEM17073233  K0460000000150       Mehfooz Ahmad   \n",
              "...           ...             ...             ...                 ...   \n",
              "22911       22912  K04HEM21017730  K0400002457330       Rooh Ul Ameen   \n",
              "22912       22913  K04HEM21018207  K0400002459565       Zeshan Rustam   \n",
              "22913       22914  K04HEM21019179  K0400002461645              M Umer   \n",
              "22914       22915  K04HEM21021055  K04ACE21027742      Shaheen Akhtar   \n",
              "22915       22916  K04HEM21020544  K0400002464110        Fakhraj Bibi   \n",
              "\n",
              "               FATHER_NAME HUSBAND_NAME       NIC_NEW REFERRED_FROM  \\\n",
              "0      MUHAMMAD AFSAR KHAN          NaN  1.310163e+12           NaN   \n",
              "1             ABDUR REHMAN          NaN  1.310134e+12           NaN   \n",
              "2             ABDUR REHMAN          NaN  1.310134e+12           NaN   \n",
              "3             MUMTAZ AHMAD          NaN  4.220136e+12           NaN   \n",
              "4             HAIDER ZAMAN          NaN  1.310109e+12           NaN   \n",
              "...                    ...          ...           ...           ...   \n",
              "22911          ABDUL SALAM          NaN  8.139494e+10           NaN   \n",
              "22912             M RUSTAM          NaN           NaN           NaN   \n",
              "22913             M JUNAID          NaN           NaN           NaN   \n",
              "22914                  NaN     M SALEEM           NaN           NaN   \n",
              "22915              M FAYAZ          NaN           NaN           NaN   \n",
              "\n",
              "              AGE  GENDER  NO_OF_ADMISSION    DISTRICT      TEHSIL  \\\n",
              "0      34 Year(s)    Male                0  Abbottabad     havelia   \n",
              "1      43 Year(s)    Male                0  Abbottabad  Abbottabad   \n",
              "2      43 Year(s)    Male                0  Abbottabad  Abbottabad   \n",
              "3      28 Year(s)    Male                0  Abbottabad  Abbottabad   \n",
              "4      42 Year(s)    Male                0  Abbottabad  Abbottabad   \n",
              "...           ...     ...              ...         ...         ...   \n",
              "22911  13 Year(s)    Male                1     Haripur     Haripur   \n",
              "22912  20 Year(s)    Male                0  Abbottabad  Abbottabad   \n",
              "22913  21 Year(s)    Male                0  Abbottabad  Abbottabad   \n",
              "22914  45 Year(s)  Female                0  Abbottabad  Abbottabad   \n",
              "22915  22 Year(s)  Female                0  Abbottabad  Abbottabad   \n",
              "\n",
              "                  REPORT_VERIFIED            CPT_ID RESULT_VALUE  \\\n",
              "0      11/12/2020 10:46:53 A11P11  1000000000085007            Y   \n",
              "1          9/29/2018 9:26:21 A9P9  1000000000087207            Y   \n",
              "2          9/29/2018 9:26:07 A9P9  1000000000085007            Y   \n",
              "3           5/4/2017 9:48:37 A5P5  1000000000085007            Y   \n",
              "4          6/3/2017 11:59:38 A6P6  1000000000085007            Y   \n",
              "...                           ...               ...          ...   \n",
              "22911     2/10/2021 16:53:12 A2P2  1000000000085060            Y   \n",
              "22912     2/11/2021 11:49:58 A2P2  1000000000085007            Y   \n",
              "22913     2/13/2021 11:55:21 A2P2  1000000000087207            Y   \n",
              "22914     2/17/2021 11:09:47 A2P2  1000000000087207            Y   \n",
              "22915     2/16/2021 12:37:12 A2P2  1000000000085651            Y   \n",
              "\n",
              "               CPT_ID.1    SECTION_NO.1 RESULT_TEXT  \n",
              "0      1000000000087207  K04HEM20123774    Negative  \n",
              "1      1000000000087207  K04HEM18160758    Negative  \n",
              "2      1000000000087207  K04HEM18160758    Negative  \n",
              "3      1000000000087207  K04HEM17056995    Negative  \n",
              "4      1000000000087207  K04HEM17073233    Negative  \n",
              "...                 ...             ...         ...  \n",
              "22911  1000000000087207  K04HEM21017730    Negative  \n",
              "22912  1000000000087207  K04HEM21018207    Negative  \n",
              "22913  1000000000087207  K04HEM21019179    Negative  \n",
              "22914  1000000000087207  K04HEM21021055    Negative  \n",
              "22915  1000000000087207  K04HEM21020544    Negative  \n",
              "\n",
              "[22916 rows x 19 columns]"
            ],
            "text/html": [
              "\n",
              "  <div id=\"df-a4c0e55b-6dfe-4408-bf60-016aab9ab724\" class=\"colab-df-container\">\n",
              "    <div>\n",
              "<style scoped>\n",
              "    .dataframe tbody tr th:only-of-type {\n",
              "        vertical-align: middle;\n",
              "    }\n",
              "\n",
              "    .dataframe tbody tr th {\n",
              "        vertical-align: top;\n",
              "    }\n",
              "\n",
              "    .dataframe thead th {\n",
              "        text-align: right;\n",
              "    }\n",
              "</style>\n",
              "<table border=\"1\" class=\"dataframe\">\n",
              "  <thead>\n",
              "    <tr style=\"text-align: right;\">\n",
              "      <th></th>\n",
              "      <th>Unnamed: 0</th>\n",
              "      <th>SECTION_NO</th>\n",
              "      <th>MRNO</th>\n",
              "      <th>PATIENT_NAME</th>\n",
              "      <th>FATHER_NAME</th>\n",
              "      <th>HUSBAND_NAME</th>\n",
              "      <th>NIC_NEW</th>\n",
              "      <th>REFERRED_FROM</th>\n",
              "      <th>AGE</th>\n",
              "      <th>GENDER</th>\n",
              "      <th>NO_OF_ADMISSION</th>\n",
              "      <th>DISTRICT</th>\n",
              "      <th>TEHSIL</th>\n",
              "      <th>REPORT_VERIFIED</th>\n",
              "      <th>CPT_ID</th>\n",
              "      <th>RESULT_VALUE</th>\n",
              "      <th>CPT_ID.1</th>\n",
              "      <th>SECTION_NO.1</th>\n",
              "      <th>RESULT_TEXT</th>\n",
              "    </tr>\n",
              "  </thead>\n",
              "  <tbody>\n",
              "    <tr>\n",
              "      <th>0</th>\n",
              "      <td>1</td>\n",
              "      <td>K04HEM20123774</td>\n",
              "      <td>K0460000001363</td>\n",
              "      <td>Saqib Mehmood Khan</td>\n",
              "      <td>MUHAMMAD AFSAR KHAN</td>\n",
              "      <td>NaN</td>\n",
              "      <td>1.310163e+12</td>\n",
              "      <td>NaN</td>\n",
              "      <td>34 Year(s)</td>\n",
              "      <td>Male</td>\n",
              "      <td>0</td>\n",
              "      <td>Abbottabad</td>\n",
              "      <td>havelia</td>\n",
              "      <td>11/12/2020 10:46:53 A11P11</td>\n",
              "      <td>1000000000085007</td>\n",
              "      <td>Y</td>\n",
              "      <td>1000000000087207</td>\n",
              "      <td>K04HEM20123774</td>\n",
              "      <td>Negative</td>\n",
              "    </tr>\n",
              "    <tr>\n",
              "      <th>1</th>\n",
              "      <td>2</td>\n",
              "      <td>K04HEM18160758</td>\n",
              "      <td>K0460000001680</td>\n",
              "      <td>Muhammad Iqbal</td>\n",
              "      <td>ABDUR REHMAN</td>\n",
              "      <td>NaN</td>\n",
              "      <td>1.310134e+12</td>\n",
              "      <td>NaN</td>\n",
              "      <td>43 Year(s)</td>\n",
              "      <td>Male</td>\n",
              "      <td>0</td>\n",
              "      <td>Abbottabad</td>\n",
              "      <td>Abbottabad</td>\n",
              "      <td>9/29/2018 9:26:21 A9P9</td>\n",
              "      <td>1000000000087207</td>\n",
              "      <td>Y</td>\n",
              "      <td>1000000000087207</td>\n",
              "      <td>K04HEM18160758</td>\n",
              "      <td>Negative</td>\n",
              "    </tr>\n",
              "    <tr>\n",
              "      <th>2</th>\n",
              "      <td>3</td>\n",
              "      <td>K04HEM18160758</td>\n",
              "      <td>K0460000001680</td>\n",
              "      <td>Muhammad Iqbal</td>\n",
              "      <td>ABDUR REHMAN</td>\n",
              "      <td>NaN</td>\n",
              "      <td>1.310134e+12</td>\n",
              "      <td>NaN</td>\n",
              "      <td>43 Year(s)</td>\n",
              "      <td>Male</td>\n",
              "      <td>0</td>\n",
              "      <td>Abbottabad</td>\n",
              "      <td>Abbottabad</td>\n",
              "      <td>9/29/2018 9:26:07 A9P9</td>\n",
              "      <td>1000000000085007</td>\n",
              "      <td>Y</td>\n",
              "      <td>1000000000087207</td>\n",
              "      <td>K04HEM18160758</td>\n",
              "      <td>Negative</td>\n",
              "    </tr>\n",
              "    <tr>\n",
              "      <th>3</th>\n",
              "      <td>4</td>\n",
              "      <td>K04HEM17056995</td>\n",
              "      <td>K0460000000106</td>\n",
              "      <td>Shahbaz Ahmad</td>\n",
              "      <td>MUMTAZ AHMAD</td>\n",
              "      <td>NaN</td>\n",
              "      <td>4.220136e+12</td>\n",
              "      <td>NaN</td>\n",
              "      <td>28 Year(s)</td>\n",
              "      <td>Male</td>\n",
              "      <td>0</td>\n",
              "      <td>Abbottabad</td>\n",
              "      <td>Abbottabad</td>\n",
              "      <td>5/4/2017 9:48:37 A5P5</td>\n",
              "      <td>1000000000085007</td>\n",
              "      <td>Y</td>\n",
              "      <td>1000000000087207</td>\n",
              "      <td>K04HEM17056995</td>\n",
              "      <td>Negative</td>\n",
              "    </tr>\n",
              "    <tr>\n",
              "      <th>4</th>\n",
              "      <td>5</td>\n",
              "      <td>K04HEM17073233</td>\n",
              "      <td>K0460000000150</td>\n",
              "      <td>Mehfooz Ahmad</td>\n",
              "      <td>HAIDER ZAMAN</td>\n",
              "      <td>NaN</td>\n",
              "      <td>1.310109e+12</td>\n",
              "      <td>NaN</td>\n",
              "      <td>42 Year(s)</td>\n",
              "      <td>Male</td>\n",
              "      <td>0</td>\n",
              "      <td>Abbottabad</td>\n",
              "      <td>Abbottabad</td>\n",
              "      <td>6/3/2017 11:59:38 A6P6</td>\n",
              "      <td>1000000000085007</td>\n",
              "      <td>Y</td>\n",
              "      <td>1000000000087207</td>\n",
              "      <td>K04HEM17073233</td>\n",
              "      <td>Negative</td>\n",
              "    </tr>\n",
              "    <tr>\n",
              "      <th>...</th>\n",
              "      <td>...</td>\n",
              "      <td>...</td>\n",
              "      <td>...</td>\n",
              "      <td>...</td>\n",
              "      <td>...</td>\n",
              "      <td>...</td>\n",
              "      <td>...</td>\n",
              "      <td>...</td>\n",
              "      <td>...</td>\n",
              "      <td>...</td>\n",
              "      <td>...</td>\n",
              "      <td>...</td>\n",
              "      <td>...</td>\n",
              "      <td>...</td>\n",
              "      <td>...</td>\n",
              "      <td>...</td>\n",
              "      <td>...</td>\n",
              "      <td>...</td>\n",
              "      <td>...</td>\n",
              "    </tr>\n",
              "    <tr>\n",
              "      <th>22911</th>\n",
              "      <td>22912</td>\n",
              "      <td>K04HEM21017730</td>\n",
              "      <td>K0400002457330</td>\n",
              "      <td>Rooh Ul Ameen</td>\n",
              "      <td>ABDUL SALAM</td>\n",
              "      <td>NaN</td>\n",
              "      <td>8.139494e+10</td>\n",
              "      <td>NaN</td>\n",
              "      <td>13 Year(s)</td>\n",
              "      <td>Male</td>\n",
              "      <td>1</td>\n",
              "      <td>Haripur</td>\n",
              "      <td>Haripur</td>\n",
              "      <td>2/10/2021 16:53:12 A2P2</td>\n",
              "      <td>1000000000085060</td>\n",
              "      <td>Y</td>\n",
              "      <td>1000000000087207</td>\n",
              "      <td>K04HEM21017730</td>\n",
              "      <td>Negative</td>\n",
              "    </tr>\n",
              "    <tr>\n",
              "      <th>22912</th>\n",
              "      <td>22913</td>\n",
              "      <td>K04HEM21018207</td>\n",
              "      <td>K0400002459565</td>\n",
              "      <td>Zeshan Rustam</td>\n",
              "      <td>M RUSTAM</td>\n",
              "      <td>NaN</td>\n",
              "      <td>NaN</td>\n",
              "      <td>NaN</td>\n",
              "      <td>20 Year(s)</td>\n",
              "      <td>Male</td>\n",
              "      <td>0</td>\n",
              "      <td>Abbottabad</td>\n",
              "      <td>Abbottabad</td>\n",
              "      <td>2/11/2021 11:49:58 A2P2</td>\n",
              "      <td>1000000000085007</td>\n",
              "      <td>Y</td>\n",
              "      <td>1000000000087207</td>\n",
              "      <td>K04HEM21018207</td>\n",
              "      <td>Negative</td>\n",
              "    </tr>\n",
              "    <tr>\n",
              "      <th>22913</th>\n",
              "      <td>22914</td>\n",
              "      <td>K04HEM21019179</td>\n",
              "      <td>K0400002461645</td>\n",
              "      <td>M Umer</td>\n",
              "      <td>M JUNAID</td>\n",
              "      <td>NaN</td>\n",
              "      <td>NaN</td>\n",
              "      <td>NaN</td>\n",
              "      <td>21 Year(s)</td>\n",
              "      <td>Male</td>\n",
              "      <td>0</td>\n",
              "      <td>Abbottabad</td>\n",
              "      <td>Abbottabad</td>\n",
              "      <td>2/13/2021 11:55:21 A2P2</td>\n",
              "      <td>1000000000087207</td>\n",
              "      <td>Y</td>\n",
              "      <td>1000000000087207</td>\n",
              "      <td>K04HEM21019179</td>\n",
              "      <td>Negative</td>\n",
              "    </tr>\n",
              "    <tr>\n",
              "      <th>22914</th>\n",
              "      <td>22915</td>\n",
              "      <td>K04HEM21021055</td>\n",
              "      <td>K04ACE21027742</td>\n",
              "      <td>Shaheen Akhtar</td>\n",
              "      <td>NaN</td>\n",
              "      <td>M SALEEM</td>\n",
              "      <td>NaN</td>\n",
              "      <td>NaN</td>\n",
              "      <td>45 Year(s)</td>\n",
              "      <td>Female</td>\n",
              "      <td>0</td>\n",
              "      <td>Abbottabad</td>\n",
              "      <td>Abbottabad</td>\n",
              "      <td>2/17/2021 11:09:47 A2P2</td>\n",
              "      <td>1000000000087207</td>\n",
              "      <td>Y</td>\n",
              "      <td>1000000000087207</td>\n",
              "      <td>K04HEM21021055</td>\n",
              "      <td>Negative</td>\n",
              "    </tr>\n",
              "    <tr>\n",
              "      <th>22915</th>\n",
              "      <td>22916</td>\n",
              "      <td>K04HEM21020544</td>\n",
              "      <td>K0400002464110</td>\n",
              "      <td>Fakhraj Bibi</td>\n",
              "      <td>M FAYAZ</td>\n",
              "      <td>NaN</td>\n",
              "      <td>NaN</td>\n",
              "      <td>NaN</td>\n",
              "      <td>22 Year(s)</td>\n",
              "      <td>Female</td>\n",
              "      <td>0</td>\n",
              "      <td>Abbottabad</td>\n",
              "      <td>Abbottabad</td>\n",
              "      <td>2/16/2021 12:37:12 A2P2</td>\n",
              "      <td>1000000000085651</td>\n",
              "      <td>Y</td>\n",
              "      <td>1000000000087207</td>\n",
              "      <td>K04HEM21020544</td>\n",
              "      <td>Negative</td>\n",
              "    </tr>\n",
              "  </tbody>\n",
              "</table>\n",
              "<p>22916 rows × 19 columns</p>\n",
              "</div>\n",
              "    <div class=\"colab-df-buttons\">\n",
              "\n",
              "  <div class=\"colab-df-container\">\n",
              "    <button class=\"colab-df-convert\" onclick=\"convertToInteractive('df-a4c0e55b-6dfe-4408-bf60-016aab9ab724')\"\n",
              "            title=\"Convert this dataframe to an interactive table.\"\n",
              "            style=\"display:none;\">\n",
              "\n",
              "  <svg xmlns=\"http://www.w3.org/2000/svg\" height=\"24px\" viewBox=\"0 -960 960 960\">\n",
              "    <path d=\"M120-120v-720h720v720H120Zm60-500h600v-160H180v160Zm220 220h160v-160H400v160Zm0 220h160v-160H400v160ZM180-400h160v-160H180v160Zm440 0h160v-160H620v160ZM180-180h160v-160H180v160Zm440 0h160v-160H620v160Z\"/>\n",
              "  </svg>\n",
              "    </button>\n",
              "\n",
              "  <style>\n",
              "    .colab-df-container {\n",
              "      display:flex;\n",
              "      gap: 12px;\n",
              "    }\n",
              "\n",
              "    .colab-df-convert {\n",
              "      background-color: #E8F0FE;\n",
              "      border: none;\n",
              "      border-radius: 50%;\n",
              "      cursor: pointer;\n",
              "      display: none;\n",
              "      fill: #1967D2;\n",
              "      height: 32px;\n",
              "      padding: 0 0 0 0;\n",
              "      width: 32px;\n",
              "    }\n",
              "\n",
              "    .colab-df-convert:hover {\n",
              "      background-color: #E2EBFA;\n",
              "      box-shadow: 0px 1px 2px rgba(60, 64, 67, 0.3), 0px 1px 3px 1px rgba(60, 64, 67, 0.15);\n",
              "      fill: #174EA6;\n",
              "    }\n",
              "\n",
              "    .colab-df-buttons div {\n",
              "      margin-bottom: 4px;\n",
              "    }\n",
              "\n",
              "    [theme=dark] .colab-df-convert {\n",
              "      background-color: #3B4455;\n",
              "      fill: #D2E3FC;\n",
              "    }\n",
              "\n",
              "    [theme=dark] .colab-df-convert:hover {\n",
              "      background-color: #434B5C;\n",
              "      box-shadow: 0px 1px 3px 1px rgba(0, 0, 0, 0.15);\n",
              "      filter: drop-shadow(0px 1px 2px rgba(0, 0, 0, 0.3));\n",
              "      fill: #FFFFFF;\n",
              "    }\n",
              "  </style>\n",
              "\n",
              "    <script>\n",
              "      const buttonEl =\n",
              "        document.querySelector('#df-a4c0e55b-6dfe-4408-bf60-016aab9ab724 button.colab-df-convert');\n",
              "      buttonEl.style.display =\n",
              "        google.colab.kernel.accessAllowed ? 'block' : 'none';\n",
              "\n",
              "      async function convertToInteractive(key) {\n",
              "        const element = document.querySelector('#df-a4c0e55b-6dfe-4408-bf60-016aab9ab724');\n",
              "        const dataTable =\n",
              "          await google.colab.kernel.invokeFunction('convertToInteractive',\n",
              "                                                    [key], {});\n",
              "        if (!dataTable) return;\n",
              "\n",
              "        const docLinkHtml = 'Like what you see? Visit the ' +\n",
              "          '<a target=\"_blank\" href=https://colab.research.google.com/notebooks/data_table.ipynb>data table notebook</a>'\n",
              "          + ' to learn more about interactive tables.';\n",
              "        element.innerHTML = '';\n",
              "        dataTable['output_type'] = 'display_data';\n",
              "        await google.colab.output.renderOutput(dataTable, element);\n",
              "        const docLink = document.createElement('div');\n",
              "        docLink.innerHTML = docLinkHtml;\n",
              "        element.appendChild(docLink);\n",
              "      }\n",
              "    </script>\n",
              "  </div>\n",
              "\n",
              "\n",
              "<div id=\"df-9fd1edac-44cb-45e1-a1e7-100c8721701c\">\n",
              "  <button class=\"colab-df-quickchart\" onclick=\"quickchart('df-9fd1edac-44cb-45e1-a1e7-100c8721701c')\"\n",
              "            title=\"Suggest charts\"\n",
              "            style=\"display:none;\">\n",
              "\n",
              "<svg xmlns=\"http://www.w3.org/2000/svg\" height=\"24px\"viewBox=\"0 0 24 24\"\n",
              "     width=\"24px\">\n",
              "    <g>\n",
              "        <path d=\"M19 3H5c-1.1 0-2 .9-2 2v14c0 1.1.9 2 2 2h14c1.1 0 2-.9 2-2V5c0-1.1-.9-2-2-2zM9 17H7v-7h2v7zm4 0h-2V7h2v10zm4 0h-2v-4h2v4z\"/>\n",
              "    </g>\n",
              "</svg>\n",
              "  </button>\n",
              "\n",
              "<style>\n",
              "  .colab-df-quickchart {\n",
              "      --bg-color: #E8F0FE;\n",
              "      --fill-color: #1967D2;\n",
              "      --hover-bg-color: #E2EBFA;\n",
              "      --hover-fill-color: #174EA6;\n",
              "      --disabled-fill-color: #AAA;\n",
              "      --disabled-bg-color: #DDD;\n",
              "  }\n",
              "\n",
              "  [theme=dark] .colab-df-quickchart {\n",
              "      --bg-color: #3B4455;\n",
              "      --fill-color: #D2E3FC;\n",
              "      --hover-bg-color: #434B5C;\n",
              "      --hover-fill-color: #FFFFFF;\n",
              "      --disabled-bg-color: #3B4455;\n",
              "      --disabled-fill-color: #666;\n",
              "  }\n",
              "\n",
              "  .colab-df-quickchart {\n",
              "    background-color: var(--bg-color);\n",
              "    border: none;\n",
              "    border-radius: 50%;\n",
              "    cursor: pointer;\n",
              "    display: none;\n",
              "    fill: var(--fill-color);\n",
              "    height: 32px;\n",
              "    padding: 0;\n",
              "    width: 32px;\n",
              "  }\n",
              "\n",
              "  .colab-df-quickchart:hover {\n",
              "    background-color: var(--hover-bg-color);\n",
              "    box-shadow: 0 1px 2px rgba(60, 64, 67, 0.3), 0 1px 3px 1px rgba(60, 64, 67, 0.15);\n",
              "    fill: var(--button-hover-fill-color);\n",
              "  }\n",
              "\n",
              "  .colab-df-quickchart-complete:disabled,\n",
              "  .colab-df-quickchart-complete:disabled:hover {\n",
              "    background-color: var(--disabled-bg-color);\n",
              "    fill: var(--disabled-fill-color);\n",
              "    box-shadow: none;\n",
              "  }\n",
              "\n",
              "  .colab-df-spinner {\n",
              "    border: 2px solid var(--fill-color);\n",
              "    border-color: transparent;\n",
              "    border-bottom-color: var(--fill-color);\n",
              "    animation:\n",
              "      spin 1s steps(1) infinite;\n",
              "  }\n",
              "\n",
              "  @keyframes spin {\n",
              "    0% {\n",
              "      border-color: transparent;\n",
              "      border-bottom-color: var(--fill-color);\n",
              "      border-left-color: var(--fill-color);\n",
              "    }\n",
              "    20% {\n",
              "      border-color: transparent;\n",
              "      border-left-color: var(--fill-color);\n",
              "      border-top-color: var(--fill-color);\n",
              "    }\n",
              "    30% {\n",
              "      border-color: transparent;\n",
              "      border-left-color: var(--fill-color);\n",
              "      border-top-color: var(--fill-color);\n",
              "      border-right-color: var(--fill-color);\n",
              "    }\n",
              "    40% {\n",
              "      border-color: transparent;\n",
              "      border-right-color: var(--fill-color);\n",
              "      border-top-color: var(--fill-color);\n",
              "    }\n",
              "    60% {\n",
              "      border-color: transparent;\n",
              "      border-right-color: var(--fill-color);\n",
              "    }\n",
              "    80% {\n",
              "      border-color: transparent;\n",
              "      border-right-color: var(--fill-color);\n",
              "      border-bottom-color: var(--fill-color);\n",
              "    }\n",
              "    90% {\n",
              "      border-color: transparent;\n",
              "      border-bottom-color: var(--fill-color);\n",
              "    }\n",
              "  }\n",
              "</style>\n",
              "\n",
              "  <script>\n",
              "    async function quickchart(key) {\n",
              "      const quickchartButtonEl =\n",
              "        document.querySelector('#' + key + ' button');\n",
              "      quickchartButtonEl.disabled = true;  // To prevent multiple clicks.\n",
              "      quickchartButtonEl.classList.add('colab-df-spinner');\n",
              "      try {\n",
              "        const charts = await google.colab.kernel.invokeFunction(\n",
              "            'suggestCharts', [key], {});\n",
              "      } catch (error) {\n",
              "        console.error('Error during call to suggestCharts:', error);\n",
              "      }\n",
              "      quickchartButtonEl.classList.remove('colab-df-spinner');\n",
              "      quickchartButtonEl.classList.add('colab-df-quickchart-complete');\n",
              "    }\n",
              "    (() => {\n",
              "      let quickchartButtonEl =\n",
              "        document.querySelector('#df-9fd1edac-44cb-45e1-a1e7-100c8721701c button');\n",
              "      quickchartButtonEl.style.display =\n",
              "        google.colab.kernel.accessAllowed ? 'block' : 'none';\n",
              "    })();\n",
              "  </script>\n",
              "</div>\n",
              "    </div>\n",
              "  </div>\n"
            ]
          },
          "metadata": {},
          "execution_count": 5
        }
      ]
    },
    {
      "cell_type": "markdown",
      "source": [
        "### **Data loading From Github**"
      ],
      "metadata": {
        "id": "veBKTm_lIp7a"
      }
    },
    {
      "cell_type": "code",
      "source": [
        "!rm markets.csv\n",
        "!wget https://raw.githubusercontent.com/shadgriffin/ml_bias/main/markets.csv\n",
        "\n",
        "df = pd.read_csv(\"markets.csv\", sep=\",\", header=0)"
      ],
      "metadata": {
        "id": "yt5sXwmPIxAH"
      },
      "execution_count": null,
      "outputs": []
    },
    {
      "cell_type": "markdown",
      "metadata": {
        "id": "NgGpVwLIuwx9"
      },
      "source": [
        "# **3- Python Usufull library**[10]"
      ]
    },
    {
      "cell_type": "markdown",
      "metadata": {
        "id": "gpoRvASfvnt8"
      },
      "source": [
        "## **Numerizer**\n",
        "\n",
        "Amazing library to convert text numerics into int and float. Useful library for NLP projects. For more details, please check PyPI and this github repo."
      ]
    },
    {
      "cell_type": "code",
      "metadata": {
        "id": "yY9DuivVvvKt"
      },
      "source": [
        "!pip install numerizer\n"
      ],
      "execution_count": null,
      "outputs": []
    },
    {
      "cell_type": "markdown",
      "metadata": {
        "id": "9wD_hPsEv2Xe"
      },
      "source": [
        "**Example**"
      ]
    },
    {
      "cell_type": "code",
      "metadata": {
        "id": "yf7tknpKv1YV"
      },
      "source": [
        "#importing numerize library\n",
        "from numerizer import numerize\n",
        "from numerizer import numerize\n",
        "#examples\n",
        "a = int(numerize('Three'))\n",
        "print(a)\n",
        "print(numerize('five thousand two hundred and twenty'))\n"
      ],
      "execution_count": null,
      "outputs": []
    },
    {
      "cell_type": "markdown",
      "metadata": {
        "id": "UhofRji70CQr"
      },
      "source": [
        "## **EMOT [10]**"
      ]
    },
    {
      "cell_type": "markdown",
      "metadata": {
        "id": "UBckIXJS0IoD"
      },
      "source": [
        "Collecting and analyzing data on emojis as well as emoticons give useful insights, especially in sentiment analysis. An emoji is an image small enough to insert into text that expresses an emotion or idea. An emoticon is a representation of a human facial expression using only keyboard characters such as letters, numbers, and punctuation marks.\n",
        "emot helped us to convert the emojis and emoticons into words. For more details on this library, please check this Github repo. It has a good collection of emoticons and emojis with the corresponding words."
      ]
    },
    {
      "cell_type": "code",
      "metadata": {
        "id": "3Pf_yaWw0YLp"
      },
      "source": [
        "!pip install emot\n"
      ],
      "execution_count": null,
      "outputs": []
    },
    {
      "cell_type": "code",
      "metadata": {
        "id": "LDquWCWZ0bUi"
      },
      "source": [
        "#Importing libraries\n",
        "import re\n",
        "from emot.emo_unicode import UNICODE_EMO, EMOTICONS\n",
        "# Function for converting emojis into word\n",
        "def convert_emojis(text):\n",
        "    for emot in UNICODE_EMO:\n",
        "        text = text.replace(emot, \"_\".join(UNICODE_EMO[emot].replace(\",\",\"\").replace(\":\",\"\").split()))\n",
        "    return text\n",
        "# Example\n",
        "text1 = \"Hilarious 😂. The feeling of making a sale 😎, The feeling of actually fulfilling orders 😒\"\n",
        "convert_emojis(text1)"
      ],
      "execution_count": null,
      "outputs": []
    },
    {
      "cell_type": "code",
      "metadata": {
        "id": "kBt3kxpC0lAz"
      },
      "source": [
        "# Function for converting emoticons into word\n",
        "def convert_emoticons(text):\n",
        "    for emot in EMOTICONS:\n",
        "        text = re.sub(u'('+emot+')', \"_\".join(EMOTICONS[emot].replace(\",\",\"\").split()), text)\n",
        "    return text# Example\n",
        "text = \"Hello :-) :-)\"\n",
        "convert_emoticons(text)"
      ],
      "execution_count": null,
      "outputs": []
    },
    {
      "cell_type": "markdown",
      "source": [
        "## **Pretty-Table**"
      ],
      "metadata": {
        "id": "lyfWTFY41cii"
      }
    },
    {
      "cell_type": "markdown",
      "source": [
        "The prettytable library is used to represent data in a relational table. With prettytable other operations on the tabular data can be performed like adding or deleting a row, alignment of columns, and clearing all the data in the table [21]"
      ],
      "metadata": {
        "id": "XuN9VSQ81kia"
      }
    },
    {
      "cell_type": "code",
      "source": [
        "python -m pip install -U prettytable"
      ],
      "metadata": {
        "id": "AKMDCG0U1wRx"
      },
      "execution_count": null,
      "outputs": []
    },
    {
      "cell_type": "code",
      "source": [
        "from prettytable import PrettyTable\n",
        "table = PrettyTable()\n",
        "\n",
        "table.field_names = [\"Month\",\"Earning\"]\n",
        "table.add_rows(\n",
        "    [\n",
        "        [\"JANUARY\",1020],\n",
        "        [\"FEBRUARY\", 1233],\n",
        "        [\"MARCH\", 1892],\n",
        "        [\"APRIL\", 1500]\n",
        "    ]\n",
        ")\n",
        "print(table)"
      ],
      "metadata": {
        "id": "eL77_T-q15Hq"
      },
      "execution_count": null,
      "outputs": []
    },
    {
      "cell_type": "markdown",
      "source": [
        "## **Barcode**"
      ],
      "metadata": {
        "id": "vsQy87Y52li3"
      }
    },
    {
      "cell_type": "markdown",
      "source": [
        "Accessible and yet powerful library in Python to create the barcode. We are using this library, a barcode in .png format. In the program, we have used European Article Number(EAN) 13 number barcode image. You can try to use different methods present in the barcode library [21]"
      ],
      "metadata": {
        "id": "0tT6E6VV2vAY"
      }
    },
    {
      "cell_type": "code",
      "source": [
        "!pip install python-barcode"
      ],
      "metadata": {
        "colab": {
          "base_uri": "https://localhost:8080/"
        },
        "id": "JHf7NBGo20BA",
        "outputId": "5b8cc154-aef6-4d3c-a69c-fe6a61f9365b"
      },
      "execution_count": null,
      "outputs": [
        {
          "output_type": "stream",
          "name": "stdout",
          "text": [
            "Collecting python-barcode\n",
            "  Downloading python_barcode-0.13.1-py3-none-any.whl (217 kB)\n",
            "\u001b[?25l\r\u001b[K     |█▌                              | 10 kB 23.4 MB/s eta 0:00:01\r\u001b[K     |███                             | 20 kB 15.3 MB/s eta 0:00:01\r\u001b[K     |████▌                           | 30 kB 10.7 MB/s eta 0:00:01\r\u001b[K     |██████                          | 40 kB 9.4 MB/s eta 0:00:01\r\u001b[K     |███████▌                        | 51 kB 9.3 MB/s eta 0:00:01\r\u001b[K     |█████████                       | 61 kB 9.9 MB/s eta 0:00:01\r\u001b[K     |██████████▋                     | 71 kB 8.8 MB/s eta 0:00:01\r\u001b[K     |████████████                    | 81 kB 9.8 MB/s eta 0:00:01\r\u001b[K     |█████████████▋                  | 92 kB 10.1 MB/s eta 0:00:01\r\u001b[K     |███████████████                 | 102 kB 10.2 MB/s eta 0:00:01\r\u001b[K     |████████████████▋               | 112 kB 10.2 MB/s eta 0:00:01\r\u001b[K     |██████████████████              | 122 kB 10.2 MB/s eta 0:00:01\r\u001b[K     |███████████████████▋            | 133 kB 10.2 MB/s eta 0:00:01\r\u001b[K     |█████████████████████▏          | 143 kB 10.2 MB/s eta 0:00:01\r\u001b[K     |██████████████████████▋         | 153 kB 10.2 MB/s eta 0:00:01\r\u001b[K     |████████████████████████▏       | 163 kB 10.2 MB/s eta 0:00:01\r\u001b[K     |█████████████████████████▋      | 174 kB 10.2 MB/s eta 0:00:01\r\u001b[K     |███████████████████████████▏    | 184 kB 10.2 MB/s eta 0:00:01\r\u001b[K     |████████████████████████████▋   | 194 kB 10.2 MB/s eta 0:00:01\r\u001b[K     |██████████████████████████████▏ | 204 kB 10.2 MB/s eta 0:00:01\r\u001b[K     |███████████████████████████████▊| 215 kB 10.2 MB/s eta 0:00:01\r\u001b[K     |████████████████████████████████| 217 kB 10.2 MB/s \n",
            "\u001b[?25hInstalling collected packages: python-barcode\n",
            "Successfully installed python-barcode-0.13.1\n"
          ]
        }
      ]
    },
    {
      "cell_type": "code",
      "source": [
        "from barcode import EAN13\n",
        "from barcode.writer import ImageWriter\n",
        "\n",
        "number='123456789123'\n",
        "mycode=EAN13(number, writer=ImageWriter())\n",
        "mycode.save('new')"
      ],
      "metadata": {
        "colab": {
          "base_uri": "https://localhost:8080/",
          "height": 35
        },
        "id": "OA3KTNLZ27rA",
        "outputId": "dd4f84bf-5057-4924-9ae1-db243562ae34"
      },
      "execution_count": null,
      "outputs": [
        {
          "output_type": "execute_result",
          "data": {
            "application/vnd.google.colaboratory.intrinsic+json": {
              "type": "string"
            },
            "text/plain": [
              "'new.png'"
            ]
          },
          "metadata": {},
          "execution_count": 11
        }
      ]
    },
    {
      "cell_type": "markdown",
      "source": [
        "## **Num2Words**"
      ],
      "metadata": {
        "id": "wldYxBFO46FF"
      }
    },
    {
      "cell_type": "markdown",
      "source": [
        "With the num2words library, we can change any given number value into words. This library is helpful while building invoice apps where you require to change the entered number into words [21]"
      ],
      "metadata": {
        "id": "t6XSoAdP4_v9"
      }
    },
    {
      "cell_type": "code",
      "source": [
        "!pip install num2words"
      ],
      "metadata": {
        "id": "p7cgmWjl5CS-"
      },
      "execution_count": null,
      "outputs": []
    },
    {
      "cell_type": "code",
      "source": [
        "from num2words import num2words\n",
        "\n",
        "num = input(\"Enter the number \")\n",
        "print(num2words(num))"
      ],
      "metadata": {
        "id": "vnqevNi25J1n"
      },
      "execution_count": null,
      "outputs": []
    },
    {
      "cell_type": "markdown",
      "metadata": {
        "id": "SbnAH9rKhntf"
      },
      "source": [
        "# **4- Dropping feature**\n",
        "\n",
        "Dropping feature usually isn’t recommended because you’re losing information. But if you’re sure that the column isn’t important, or simply has too many missing values, you can choose to drop them. For example, for this dataset, the host_name column was removed for ethical reasons, and id was removed because it was was unnecessary.\n",
        "To drop features, use drop and set axis to 1 and inplace to true. Axis is 1 because we want to drop columns (0 means row), and inplace is True because you're transforming it directly on your dataset."
      ]
    },
    {
      "cell_type": "markdown",
      "metadata": {
        "id": "sfufIU6Ph4DJ"
      },
      "source": [
        "## **3.1 Drop Index Columns**"
      ]
    },
    {
      "cell_type": "code",
      "metadata": {
        "id": "qRMwPJugh_cV"
      },
      "source": [
        "Train_data=Train_data.reset_index()\n",
        "Train_data=Train_data.drop(columns=['index'])"
      ],
      "execution_count": null,
      "outputs": []
    },
    {
      "cell_type": "markdown",
      "metadata": {
        "id": "_ywNezHyiN1J"
      },
      "source": [
        "## **3.2 Drop Multiple featurs**"
      ]
    },
    {
      "cell_type": "code",
      "metadata": {
        "id": "0iDC_p4nigy-"
      },
      "source": [
        "New5=Train_data.drop(Train_data.columns[[0,1,3,4,5,6,7,10,17]], axis=1, inplace=True)"
      ],
      "execution_count": null,
      "outputs": []
    },
    {
      "cell_type": "code",
      "metadata": {
        "id": "pJUyNsNCygat"
      },
      "source": [
        "# Drop unnecessary columns that are not important\n",
        "colsToDrop = ['id','host_name','last_review']\n",
        "\n",
        "airbnb.drop(colsToDrop, axis=1, inplace=True)\n",
        "\n",
        "missing_cols(airbnb)"
      ],
      "execution_count": null,
      "outputs": []
    },
    {
      "cell_type": "markdown",
      "metadata": {
        "id": "Qsjo7VQeynsV"
      },
      "source": [
        "## **3.3-Dropping the row**"
      ]
    },
    {
      "cell_type": "markdown",
      "metadata": {
        "id": "IYvBStP2yx5f"
      },
      "source": [
        "If you want to remove rows, you do so using dropna . I’m not going to do that because there are no missing values in price."
      ]
    },
    {
      "cell_type": "code",
      "metadata": {
        "id": "1Fb5a_4iyw4b"
      },
      "source": [
        "# remove rows with missing values in price\n",
        "airbnb['price'].dropna(inplace=True)"
      ],
      "execution_count": null,
      "outputs": []
    },
    {
      "cell_type": "markdown",
      "metadata": {
        "id": "cjrtdkJdkvGz"
      },
      "source": [
        "# **5- Convert target variable into binary Form**"
      ]
    },
    {
      "cell_type": "code",
      "metadata": {
        "id": "jPeuZ7VPk50C"
      },
      "source": [
        "Train_data['RESULT_TEXT'].replace({'Negative': 0, 'Positive': 1},inplace = True)"
      ],
      "execution_count": null,
      "outputs": []
    },
    {
      "cell_type": "markdown",
      "metadata": {
        "id": "XgG-pUdEI3CK"
      },
      "source": [
        "# **6-Data Imbalanced problem** [8]\n",
        "\n",
        "\n",
        "An imbalance occurs when one or more classes have very low proportions/probability in the training data as compared to the other classes. Our model gives us poor predictive performance, specifically for the minority class if we don't handle the imbalanced data.\n",
        "\n",
        "Imagine you are trying to build a classification model, and you have two classes: Cats and Dogs. Unfortunately, your data is very **skewed**: there are 950 cat pictures and 50 dog pictures.[17]\n",
        "\n",
        "If your model classifies every picture as a Cat (dumb, right?), you’ll be 95% accurate! Think about that for a second. The **distribution** in your dataset becomes a big problem really quickly [17]\n",
        "\n",
        "For classification tasks, one may encounter situations where the target class label is un-equally distributed. Such conditions are termed imbalanced data. Due to the presence of class imbalance the model might become biased towards the majority class data sample. A data scientist might face some challenges while modeling an imbalanced class dataset.\n",
        "There are various hacks or techniques to handle an imbalanced class data sample prior to modeling including[19]\n"
      ]
    },
    {
      "cell_type": "markdown",
      "metadata": {
        "id": "AENif9HTYX7P"
      },
      "source": [
        "Classification is one of the most common machine learning problems. One of the common issues found in datasets that are used for classification is imbalanced classes issue. Generally, we expect the labels to be relatively even distributed. In reality, the samples we can get maybe unsatisfactory.\n",
        "\n",
        "Take a binary classification problem for example, we might encounter too few positive samples in the training dataset, called minority class. And most machine learning techniques will ignore, and in turn have poor performance on, the minority class, although typically it is performance on the minority class that is most important. Such an imbalanced dataset can be addressed by sampling techniques. There are mainly three types of sampling techniques: **Oversampling**, **Undersampling** and **Synthetic Sampling**."
      ]
    },
    {
      "cell_type": "markdown",
      "source": [
        "**Which ML algoritherm is sutiable for imbalanced Problem**[17]\n",
        "\n",
        "As a somewhat related note, make sure you are using the right algorithm to solve your problem. For example, Decision Tree-based models are excellent at handling imbalanced classes. When dealing with structured data, that might be all you need."
      ],
      "metadata": {
        "id": "05umKgfCNkBG"
      }
    },
    {
      "cell_type": "markdown",
      "source": [
        "**Performance metrics** [17]"
      ],
      "metadata": {
        "id": "KHUY9WhnOMTz"
      }
    },
    {
      "cell_type": "markdown",
      "source": [
        "Accuracy is not the best performance metric on these problems\n",
        "Accuracy is not a good performance metric when you have an imbalanced dataset.\n",
        "Instead, and depending on your specific problem, you should look at any of the following:\n",
        "\n",
        "- Precision, Recall, F-Score\n",
        "- Confusion Matrix\n",
        "- ROC Curves"
      ],
      "metadata": {
        "id": "1BlaRfvGOTmb"
      }
    },
    {
      "cell_type": "markdown",
      "metadata": {
        "id": "cKIZZsiLYuLh"
      },
      "source": [
        "**Why Imbalanced dataset is bad?**"
      ]
    },
    {
      "cell_type": "markdown",
      "metadata": {
        "id": "vhwsurmIY_aD"
      },
      "source": [
        "So why does imbalance lead to poor model performance? Because any algorithm cannot obtain enough information from a class with a small sample size to make accurate predictions. The uneven distribution of the corresponding variables reduces the accuracy of the algorithm, and the prediction accuracy for small classes will be very low. The algorithm itself is error-driven, that is, the goal of the model is to minimize the overall error, and the contribution of small classes to the overall error is very low. The algorithms themselves assume that the class distribution of the data set is balanced, and they may also assume that different classes of errors bring the same loss.\n"
      ]
    },
    {
      "cell_type": "markdown",
      "source": [
        "## **Check Imbalanced Problem in Data**"
      ],
      "metadata": {
        "id": "rAsOZDDFmv0L"
      }
    },
    {
      "cell_type": "code",
      "source": [
        "import matplotlib.pyplot as plt\n",
        "fig = plt.figure(figsize = (8,5))\n",
        "Train_data.RESULT_TEXT.value_counts(normalize = True).plot(kind='bar', color= ['skyblue','navy'], alpha = 0.9, rot=0)\n",
        "plt.title('Results Status Negative(0) and Positive(1) in the Imbalanced Dataset')\n",
        "plt.show()"
      ],
      "metadata": {
        "id": "KPr-Jzsnm5jd"
      },
      "execution_count": null,
      "outputs": []
    },
    {
      "cell_type": "markdown",
      "source": [
        "## **6.1-Handle Imbalanced dataset problem**"
      ],
      "metadata": {
        "id": "TH7wfpZGWnjd"
      }
    },
    {
      "cell_type": "markdown",
      "source": [
        "- 1) Oversampling Minority Class\n",
        "- 2) Downsampling Majority Class\n",
        "- 3) Generate Synthetic Data\n",
        "- 4) Balanced Class Weight\n",
        "- 5) Combine Oversampling & Downsampling Techniques"
      ],
      "metadata": {
        "id": "QXxp7TkkW2YE"
      }
    },
    {
      "cell_type": "markdown",
      "source": [
        "### **6.1.1- Oversampling**"
      ],
      "metadata": {
        "id": "fEdbkeXzHGC9"
      }
    },
    {
      "cell_type": "markdown",
      "metadata": {
        "id": "DQNqBvsQZy1P"
      },
      "source": [
        "This method mainly deals with small classes. Use repeated observations to balance the data. There will not be any information loss using this method, but the addition of small-type repeated samples will easily lead to over-fitting, and the calculation time and storage overhead will also increase."
      ]
    },
    {
      "cell_type": "markdown",
      "source": [
        "Upsampling or Oversampling refers to create artificial minority class data points to balance the distribution between the majority and minority class sample. Whereas, downsampling or undersampling refers to the removal of majority class data points to balance the target class distribution.[19]"
      ],
      "metadata": {
        "id": "ZKsApw4QXFpS"
      }
    },
    {
      "cell_type": "markdown",
      "source": [
        "There are various oversampling techniques such as Random Oversampler, SMOTE, ADASYN, etc, that can be used to generate artificial or duplicate minority class data points. Similarly, various undersampling techniques include Random Undersampler, TomekLinks, ENN, NearMiss, etc, that removes the minority class sample.[19]"
      ],
      "metadata": {
        "id": "1Ti2smNoXRa4"
      }
    },
    {
      "cell_type": "markdown",
      "source": [
        "Over Sampling is used to increase the minority class by randomly duplicating them [23]"
      ],
      "metadata": {
        "id": "gp-I5BqO9axO"
      }
    },
    {
      "cell_type": "markdown",
      "source": [
        "**Idea:**\n",
        "\n",
        "The idea is to combine the oversampling and undersampling techniques to handle the imbalance in the dataset and further train a robust machine learning model."
      ],
      "metadata": {
        "id": "p8XDYnloXZfQ"
      }
    },
    {
      "cell_type": "markdown",
      "metadata": {
        "id": "O1GSVonCaZ23"
      },
      "source": [
        "![](https://drive.google.com/uc?export=view&id=1Zze6DH82-UqfgfYK8J4gerDY18LbH7rO)"
      ]
    },
    {
      "cell_type": "markdown",
      "source": [
        "#### **Naive RandomOverSampler**"
      ],
      "metadata": {
        "id": "hCc3-e-iMUFf"
      }
    },
    {
      "cell_type": "markdown",
      "source": [
        "mporting library RandomOverSampler for Over Sampling and then fitting independent features X and dependent feature y.[23]"
      ],
      "metadata": {
        "id": "iQagGi509h1_"
      }
    },
    {
      "cell_type": "code",
      "source": [
        "from imblearn.over_sampling import RandomOverSampler\n",
        "ros = RandomOverSampler()\n",
        "X_os, y_os = ros.fit_resample(X,y)\n"
      ],
      "metadata": {
        "id": "alrSDeBp9d22"
      },
      "execution_count": null,
      "outputs": []
    },
    {
      "cell_type": "markdown",
      "source": [
        "[8]"
      ],
      "metadata": {
        "id": "L9bHjt-9NKYf"
      }
    },
    {
      "cell_type": "code",
      "source": [
        "from imblearn.over_sampling import RandomOverSampler\n",
        "ros = RandomOverSampler(random_state=0)\n",
        "X_resampled, y_resampled = ros.fit_resample(X, y)\n",
        "from collections import Counter\n",
        "print(sorted(Counter(y_resampled).items()))\n",
        "[(0, 4674), (1, 4674), (2, 4674)]"
      ],
      "metadata": {
        "id": "m8qdGa0XMGGZ"
      },
      "execution_count": null,
      "outputs": []
    },
    {
      "cell_type": "markdown",
      "source": [
        "The main disadvantage of over sampling is, it will cause overfitting the machine learning model as we are duplicating the records of minority classes randomly [23]"
      ],
      "metadata": {
        "id": "OQ1PXbEb9vIB"
      }
    },
    {
      "cell_type": "markdown",
      "source": [
        "#### **SMOTE**"
      ],
      "metadata": {
        "id": "xV-f2SHfN73h"
      }
    },
    {
      "cell_type": "code",
      "source": [
        "from imblearn.over_sampling import SMOTE\n",
        "sm = SMOTE(random_state=42)\n",
        "X_res, y_res = sm.fit_resample(X_train, y_trai"
      ],
      "metadata": {
        "id": "IH0H-SNVOnHW"
      },
      "execution_count": null,
      "outputs": []
    },
    {
      "cell_type": "code",
      "source": [
        "from imblearn.over_sampling import SMOTE\n",
        "sm = SMOTE(random_state=42)\n",
        "X_res, y_res = sm.fit_resample(X_train, y_train)"
      ],
      "metadata": {
        "id": "Eq1bqw8RmRv5"
      },
      "execution_count": null,
      "outputs": []
    },
    {
      "cell_type": "code",
      "source": [
        "import matplotlib.pyplot as plt\n",
        "fig = plt.figure(figsize = (8,5))\n",
        "Train_data.RESULT_TEXT.value_counts(normalize = True).plot(kind='bar', color= ['skyblue','navy'], alpha = 0.9, rot=0)\n",
        "plt.title('Results Status Negative(0) and Positive(1) in the Imbalanced Dataset')\n",
        "plt.show()"
      ],
      "metadata": {
        "id": "V_tIM2R0O3XG"
      },
      "execution_count": null,
      "outputs": []
    },
    {
      "cell_type": "markdown",
      "source": [
        "**SMOTEENN:**"
      ],
      "metadata": {
        "id": "3Mz0N9vtPAKO"
      }
    },
    {
      "cell_type": "code",
      "source": [
        "smt = SMOTEENN(random_state=42)\n",
        "X_res, y_res = smt.fit_resample(X_train, y_train)"
      ],
      "metadata": {
        "id": "L9RonXQiPLQO"
      },
      "execution_count": null,
      "outputs": []
    },
    {
      "cell_type": "code",
      "source": [
        "#SMOTENC [8]\n",
        "from imblearn.over_sampling import SMOTENC\n",
        "smote_nc = SMOTENC(categorical_features=[0, 2], random_state=0)\n",
        "X_resampled, y_resampled = smote_nc.fit_resample(X, y)\n",
        "print(sorted(Counter(y_resampled).items()))\n",
        "[(0, 30), (1, 30)]\n",
        "print(X_resampled[-5:])\n",
        "[['A' 0.5246469549655818 2]\n",
        " ['B' -0.3657680728116921 2]\n",
        " ['B' 0.9344237230779993 2]\n",
        " ['B' 0.3710891618824609 2]\n",
        " ['B' 0.3327240726719727 2]]"
      ],
      "metadata": {
        "id": "gFs0W-TgPox1"
      },
      "execution_count": null,
      "outputs": []
    },
    {
      "cell_type": "markdown",
      "source": [
        "**SMOTETomek:**"
      ],
      "metadata": {
        "id": "SjYMBB7FPVMm"
      }
    },
    {
      "cell_type": "code",
      "source": [
        "smt = SMOTETomek(random_state=42)\n",
        "X_res, y_res = smt.fit_resample(X_train, y_train)"
      ],
      "metadata": {
        "id": "8VliYnuLPaTO"
      },
      "execution_count": null,
      "outputs": []
    },
    {
      "cell_type": "markdown",
      "source": [
        "**Borderline-SMOTE**"
      ],
      "metadata": {
        "id": "Gm42GVhbRRFd"
      }
    },
    {
      "cell_type": "code",
      "source": [
        "from imblearn.over_sampling import BorderlineSMOTE\n",
        "X_train_Before= X_train\n",
        "y_train_Before= y_train\n",
        "borderlineSMOTE = BorderlineSMOTE(k_neighbors = 10, random_state = 42)\n",
        "X_train, y_train = borderlineSMOTE.fit_resample(X_train_Before,y_train_Before)"
      ],
      "metadata": {
        "id": "KnRDBix5RTP8"
      },
      "execution_count": null,
      "outputs": []
    },
    {
      "cell_type": "markdown",
      "source": [
        "[8] ADASYN"
      ],
      "metadata": {
        "id": "hZxf1ZI7O-HO"
      }
    },
    {
      "cell_type": "code",
      "source": [
        "from imblearn.over_sampling import SMOTE, ADASYN\n",
        "X_resampled, y_resampled = SMOTE().fit_resample(X, y)\n",
        "print(sorted(Counter(y_resampled).items()))\n",
        "[(0, 4674), (1, 4674), (2, 4674)]\n",
        "clf_smote = LinearSVC().fit(X_resampled, y_resampled)\n",
        "X_resampled, y_resampled = ADASYN().fit_resample(X, y)\n",
        "print(sorted(Counter(y_resampled).items()))\n",
        "[(0, 4673), (1, 4662), (2, 4674)]\n",
        "clf_adasyn = LinearSVC().fit(X_resampled, y_resampled)"
      ],
      "metadata": {
        "id": "QbboEfXBOw2H"
      },
      "execution_count": null,
      "outputs": []
    },
    {
      "cell_type": "markdown",
      "source": [
        "### **6.1.2-Undersampling**"
      ],
      "metadata": {
        "id": "YY2ynWWYHXL2"
      }
    },
    {
      "cell_type": "markdown",
      "metadata": {
        "id": "l07UlmTMapWX"
      },
      "source": [
        "This method is mainly to deal with large categories. Use to reduce the number of observations in large categories to balance the data set. It is suitable when the overall data set is large, and this method can also reduce the calculation time and storage overhead (the training set samples are less). It is also possible to combine the two methods of oversampling and undersampling. The large class uses undersampling without replacement, and the small class uses oversampling with replacement."
      ]
    },
    {
      "cell_type": "markdown",
      "source": [
        "Under Sampling is used to decrease the majority class by randomly eliminating the majority class. This is done until majority and minority class instances are balanced out [23]"
      ],
      "metadata": {
        "id": "6VHysBnE93gN"
      }
    },
    {
      "cell_type": "markdown",
      "source": [
        "#### **NearMiss**"
      ],
      "metadata": {
        "id": "P2L-ltMdHiQG"
      }
    },
    {
      "cell_type": "markdown",
      "source": [
        "Importing library NearMiss for Under Sampling and then fitting independent features X and dependent feature y.[23]"
      ],
      "metadata": {
        "id": "7xj8FX079-vV"
      }
    },
    {
      "cell_type": "code",
      "source": [
        "from imblearn.under_sampling import NearMiss\n",
        "nm = NearMiss()\n",
        "X_us, y_us = nm.fit_resample(X,y)"
      ],
      "metadata": {
        "id": "YjI3YEgZ995N"
      },
      "execution_count": null,
      "outputs": []
    },
    {
      "cell_type": "markdown",
      "source": [
        "The main disadvantage of under-sampling is, We lose the information of data. We can use under-sampling when we have millions of records [23]"
      ],
      "metadata": {
        "id": "lJHFPFso-Gcr"
      }
    },
    {
      "cell_type": "markdown",
      "metadata": {
        "id": "ODqF6fKbbSDe"
      },
      "source": [
        "![](\n",
        "https://drive.google.com/uc?export=view&id=10OLxqUKqVGd_Uknw-Griz4Ultd9sjMYM)"
      ]
    },
    {
      "cell_type": "markdown",
      "source": [
        "### **6.1.3- Combine both techniques**"
      ],
      "metadata": {
        "id": "mTKuU0Pjny6J"
      }
    },
    {
      "cell_type": "markdown",
      "source": [
        "#### **Edited Nearest Neighbour (ENN)**"
      ],
      "metadata": {
        "id": "dkhXFiWGoSBv"
      }
    },
    {
      "cell_type": "code",
      "source": [
        "smt = SMOTEENN(random_state=42)\n",
        "X_res, y_res = smt.fit_resample(X_train, y_train"
      ],
      "metadata": {
        "id": "OYgqGn77oFod"
      },
      "execution_count": null,
      "outputs": []
    },
    {
      "cell_type": "markdown",
      "source": [
        "####**SMOTETomek**"
      ],
      "metadata": {
        "id": "_NoQMXb_oc75"
      }
    },
    {
      "cell_type": "code",
      "source": [
        "smt = SMOTETomek(random_state=42)\n",
        "X_res, y_res = smt.fit_resample(X_train, y_train)"
      ],
      "metadata": {
        "id": "k0h5WhwlooO0"
      },
      "execution_count": null,
      "outputs": []
    },
    {
      "cell_type": "markdown",
      "metadata": {
        "id": "cTBMrno6lFox"
      },
      "source": [
        "**Synthetic Sampling**\n"
      ]
    },
    {
      "cell_type": "markdown",
      "metadata": {
        "id": "hf7crddvlIaY"
      },
      "source": [
        "The synthetic data sampling method uses artificial data instead of repeating the original observations to solve the imbalance. Among those algorithms, ASMOTE (Synthetic Minority Oversampling Technique) is the most common a data sampling technique.\n",
        "SMOTE works by selecting examples that are close in the feature space, drawing a line between the examples in the feature space and drawing a new sample at a point along that line.\n",
        "Specifically, a random example from the minority class is first chosen. Then k of the nearest neighbors for that example are found (typically k=5). A randomly selected neighbor is chosen and a synthetic example is created at a randomly selected point between the two examples in feature space.\n",
        "This procedure can be used to create as many synthetic examples for the minority class as are required. As described in the paper, it suggests first using random undersampling to trim the number of examples in the majority class, then use SMOTE to oversample the minority class to balance the class distribution.\n",
        "The approach is effective because new synthetic examples from the minority class are created that are plausible, that is, are relatively close in feature space to existing examples from the minority class.\n",
        "A general downside of the approach is that synthetic examples are created without considering the majority class, possibly resulting in ambiguous examples if there is a strong overlap for the classes."
      ]
    },
    {
      "cell_type": "markdown",
      "metadata": {
        "id": "UWLw27HglTGH"
      },
      "source": [
        "![](https://drive.google.com/uc?export=view&id=1TwyAC1SK2t7fXcdsin6aNGNq0pT48kke)"
      ]
    },
    {
      "cell_type": "code",
      "metadata": {
        "id": "3p7TRBevkGlk"
      },
      "source": [
        "import matplotlib.pyplot as plt\n",
        "fig = plt.figure(figsize = (8,5))\n",
        "Train_data.RESULT_TEXT.value_counts(normalize = True).plot(kind='bar', color= ['skyblue','navy'], alpha = 0.9, rot=0)\n",
        "plt.title('Results Status Negative(0) and Positive(1) in the Imbalanced Dataset')\n",
        "plt.show()"
      ],
      "execution_count": null,
      "outputs": []
    },
    {
      "cell_type": "markdown",
      "metadata": {
        "id": "S0qwuF7Dkaw2"
      },
      "source": [
        "## **Data resample**"
      ]
    },
    {
      "cell_type": "code",
      "metadata": {
        "id": "xAnm9UBIkiC1"
      },
      "source": [
        "from sklearn.utils import resample\n",
        "no = Train_data[Train_data.RESULT_TEXT == 0]\n",
        "yes = Train_data[Train_data.RESULT_TEXT == 1]\n",
        "yes_oversampled = resample(yes, replace=True, n_samples=len(no), random_state=123)\n",
        "oversampled = pd.concat([no, yes_oversampled])\n",
        "fig = plt.figure(figsize = (8,5))\n",
        "oversampled.RESULT_TEXT.value_counts(normalize = True).plot(kind='bar', color= ['skyblue','navy'], alpha = 0.9, rot=0)\n",
        "plt.title('Waterbrone Disease status Nagative(0) and Postive(1) after Oversampling (Balanced Dataset)')\n",
        "plt.show()"
      ],
      "execution_count": null,
      "outputs": []
    },
    {
      "cell_type": "markdown",
      "metadata": {
        "id": "Vj6qu54toUvU"
      },
      "source": [
        "## **SMOTE** [3,4]"
      ]
    },
    {
      "cell_type": "markdown",
      "source": [
        "**SMOTEENN:[19]**"
      ],
      "metadata": {
        "id": "T841P3IEZiqM"
      }
    },
    {
      "cell_type": "markdown",
      "source": [
        "We can perform oversampling of the minority class using SMOTE technique and further perform undersample using Edited Nearest Neighbour (ENN). The advantage of performing the undersampling technique — ENN after oversampling is that it cleans or removes the noise majority class data points.\n",
        "Imblearn library comes with the implementation of SMOTEENN.[19]"
      ],
      "metadata": {
        "id": "hOTp1yn1ZqxD"
      }
    },
    {
      "cell_type": "code",
      "source": [
        "smt = SMOTEENN(random_state=42)\n",
        "X_res, y_res = smt.fit_resample(X_train, y_train)"
      ],
      "metadata": {
        "id": "4Tid24r6ZuXL"
      },
      "execution_count": null,
      "outputs": []
    },
    {
      "cell_type": "markdown",
      "source": [
        "**SMOTETomek:** [19]\n",
        "\n",
        "Similarly, we can perform oversampling of the minority class using SMOTE technique and further undersample or perform cleaning using the Tomek Links technique.\n",
        "Imblearn library comes with the implementation of SMOTETomek."
      ],
      "metadata": {
        "id": "bXNosJq9Z5M6"
      }
    },
    {
      "cell_type": "markdown",
      "source": [
        "SMOTETomek is the combination of both over sampling and under sampling using SMOTE and Tomek links [23]"
      ],
      "metadata": {
        "id": "vTkCqZgGBqPs"
      }
    },
    {
      "cell_type": "code",
      "source": [
        "smt = SMOTETomek(random_state=42)\n",
        "X_res, y_res = smt.fit_resample(X_train, y_train)"
      ],
      "metadata": {
        "id": "telst6L2Z-cQ"
      },
      "execution_count": null,
      "outputs": []
    },
    {
      "cell_type": "code",
      "source": [
        "from imblearn.combine import SMOTETomek\n",
        "smotetomek = SMOTETomek()\n",
        "X_smotetomek, y_smotetomek = smotetomek.fit_resample(X,y)"
      ],
      "metadata": {
        "id": "l7n8qO2YBtic"
      },
      "execution_count": null,
      "outputs": []
    },
    {
      "cell_type": "markdown",
      "metadata": {
        "id": "hmcHEc1llpEt"
      },
      "source": [
        "#**Section 2-  Handling missing data**\n",
        "\n",
        "Missing values is one of the most common problems you saw when you are doing feature engineering/data preparation. The main reason for the missing values because of humans errors and data privacy and so on…"
      ]
    },
    {
      "cell_type": "markdown",
      "source": [
        "Data cleaning is the technique of eliminating garbage, incorrect, duplicate, corrupted, or incomplete data in a dataset as the part of the data preparation process with a motive to build reliable, uniform and standardized data sets. Python pandas is an excellent library for manipulating data and analyzing it.[20]"
      ],
      "metadata": {
        "id": "i45sOOD3baa0"
      }
    },
    {
      "cell_type": "markdown",
      "source": [
        "There are four ways you can perform data cleaning :\n",
        "- Drop the missing values\n",
        "- Replace the missing values\n",
        "- Replace each NaN with a scalar value,\n",
        "- Fill the missing values forward or backward."
      ],
      "metadata": {
        "id": "e5il5oeQbqQa"
      }
    },
    {
      "cell_type": "markdown",
      "source": [
        "## **2.1- How to Check Missing Values**"
      ],
      "metadata": {
        "id": "B3OkgEishyv4"
      }
    },
    {
      "cell_type": "code",
      "metadata": {
        "id": "jgAsYprj-ywI",
        "colab": {
          "base_uri": "https://localhost:8080/"
        },
        "outputId": "27b8b518-b1a0-4e24-e46e-8903ccb591b6"
      },
      "source": [
        "np.sum(Train_data.isnull().any(axis=1))"
      ],
      "execution_count": null,
      "outputs": [
        {
          "output_type": "execute_result",
          "data": {
            "text/plain": [
              "238"
            ]
          },
          "metadata": {},
          "execution_count": 9
        }
      ]
    },
    {
      "cell_type": "markdown",
      "source": [
        "### **How to find the exact location of null values**"
      ],
      "metadata": {
        "id": "B_f0em1nepku"
      }
    },
    {
      "cell_type": "code",
      "source": [
        "Train_data[Train_data.isna().any(axis=1)]"
      ],
      "metadata": {
        "id": "ZG7gm1rue3Dk",
        "colab": {
          "base_uri": "https://localhost:8080/",
          "height": 617
        },
        "outputId": "1af51e31-7d6d-41ce-f8a2-604a358fb90d"
      },
      "execution_count": null,
      "outputs": [
        {
          "output_type": "execute_result",
          "data": {
            "text/plain": [
              "                 MRNO         AGE  GENDER    DISTRICT         TEHSIL  \\\n",
              "59     K0400000124388  10 Year(s)  Female     Batgram           Alai   \n",
              "110    K0400000228342  29 Year(s)    Male  Abbottabad     Abbottabad   \n",
              "211    K0400000375499  32 Year(s)    Male    Mansehra           Oghi   \n",
              "240    K0400000412427   7 Year(s)  Female  Abbottabad     Abbottabad   \n",
              "319    K0400000485472  53 Year(s)    Male    Mansehra       Mansehra   \n",
              "...               ...         ...     ...         ...            ...   \n",
              "22802  K0400002361945  15 Year(s)    Male     Batgram       Batagram   \n",
              "22807  K04ACE20160252  20 Year(s)    Male  Abbottabad     Abbottabad   \n",
              "22841  K04ACE20177210  23 Year(s)  Female  Abbottabad     Abbottabad   \n",
              "22888  K04ACE20223641  50 Year(s)    Male  Abbottabad     Abbottabad   \n",
              "22892  K0400002419131  32 Year(s)    Male     ORAKZAI  UPPER ORAKZAI   \n",
              "\n",
              "      REPORT_VERIFIED            CPT_ID RESULT_VALUE          CPT_ID.1  \\\n",
              "59                NaN  1000000000085045            N  1000000000087207   \n",
              "110               NaN  1000000000087207            Y  1000000000087207   \n",
              "211               NaN  1000000000085060            N  1000000000087207   \n",
              "240               NaN  1000000000085651            N  1000000000087207   \n",
              "319               NaN  1000000000087207            Y  1000000000087207   \n",
              "...               ...               ...          ...               ...   \n",
              "22802             NaN  1000000000087207            N  1000000000087207   \n",
              "22807             NaN  1000000000085007            N  1000000000087207   \n",
              "22841             NaN  1000000000085007            N  1000000000087207   \n",
              "22888             NaN  1000000000085007            N  1000000000087207   \n",
              "22892             NaN  1000000000085651            N  1000000000087207   \n",
              "\n",
              "      RESULT_TEXT  \n",
              "59       Negative  \n",
              "110      Negative  \n",
              "211      Positive  \n",
              "240      Negative  \n",
              "319      Negative  \n",
              "...           ...  \n",
              "22802    Negative  \n",
              "22807    Negative  \n",
              "22841    Negative  \n",
              "22888    Negative  \n",
              "22892    Negative  \n",
              "\n",
              "[238 rows x 10 columns]"
            ],
            "text/html": [
              "\n",
              "  <div id=\"df-0d7edc02-6b60-4d2d-be3e-68358e64d187\" class=\"colab-df-container\">\n",
              "    <div>\n",
              "<style scoped>\n",
              "    .dataframe tbody tr th:only-of-type {\n",
              "        vertical-align: middle;\n",
              "    }\n",
              "\n",
              "    .dataframe tbody tr th {\n",
              "        vertical-align: top;\n",
              "    }\n",
              "\n",
              "    .dataframe thead th {\n",
              "        text-align: right;\n",
              "    }\n",
              "</style>\n",
              "<table border=\"1\" class=\"dataframe\">\n",
              "  <thead>\n",
              "    <tr style=\"text-align: right;\">\n",
              "      <th></th>\n",
              "      <th>MRNO</th>\n",
              "      <th>AGE</th>\n",
              "      <th>GENDER</th>\n",
              "      <th>DISTRICT</th>\n",
              "      <th>TEHSIL</th>\n",
              "      <th>REPORT_VERIFIED</th>\n",
              "      <th>CPT_ID</th>\n",
              "      <th>RESULT_VALUE</th>\n",
              "      <th>CPT_ID.1</th>\n",
              "      <th>RESULT_TEXT</th>\n",
              "    </tr>\n",
              "  </thead>\n",
              "  <tbody>\n",
              "    <tr>\n",
              "      <th>59</th>\n",
              "      <td>K0400000124388</td>\n",
              "      <td>10 Year(s)</td>\n",
              "      <td>Female</td>\n",
              "      <td>Batgram</td>\n",
              "      <td>Alai</td>\n",
              "      <td>NaN</td>\n",
              "      <td>1000000000085045</td>\n",
              "      <td>N</td>\n",
              "      <td>1000000000087207</td>\n",
              "      <td>Negative</td>\n",
              "    </tr>\n",
              "    <tr>\n",
              "      <th>110</th>\n",
              "      <td>K0400000228342</td>\n",
              "      <td>29 Year(s)</td>\n",
              "      <td>Male</td>\n",
              "      <td>Abbottabad</td>\n",
              "      <td>Abbottabad</td>\n",
              "      <td>NaN</td>\n",
              "      <td>1000000000087207</td>\n",
              "      <td>Y</td>\n",
              "      <td>1000000000087207</td>\n",
              "      <td>Negative</td>\n",
              "    </tr>\n",
              "    <tr>\n",
              "      <th>211</th>\n",
              "      <td>K0400000375499</td>\n",
              "      <td>32 Year(s)</td>\n",
              "      <td>Male</td>\n",
              "      <td>Mansehra</td>\n",
              "      <td>Oghi</td>\n",
              "      <td>NaN</td>\n",
              "      <td>1000000000085060</td>\n",
              "      <td>N</td>\n",
              "      <td>1000000000087207</td>\n",
              "      <td>Positive</td>\n",
              "    </tr>\n",
              "    <tr>\n",
              "      <th>240</th>\n",
              "      <td>K0400000412427</td>\n",
              "      <td>7 Year(s)</td>\n",
              "      <td>Female</td>\n",
              "      <td>Abbottabad</td>\n",
              "      <td>Abbottabad</td>\n",
              "      <td>NaN</td>\n",
              "      <td>1000000000085651</td>\n",
              "      <td>N</td>\n",
              "      <td>1000000000087207</td>\n",
              "      <td>Negative</td>\n",
              "    </tr>\n",
              "    <tr>\n",
              "      <th>319</th>\n",
              "      <td>K0400000485472</td>\n",
              "      <td>53 Year(s)</td>\n",
              "      <td>Male</td>\n",
              "      <td>Mansehra</td>\n",
              "      <td>Mansehra</td>\n",
              "      <td>NaN</td>\n",
              "      <td>1000000000087207</td>\n",
              "      <td>Y</td>\n",
              "      <td>1000000000087207</td>\n",
              "      <td>Negative</td>\n",
              "    </tr>\n",
              "    <tr>\n",
              "      <th>...</th>\n",
              "      <td>...</td>\n",
              "      <td>...</td>\n",
              "      <td>...</td>\n",
              "      <td>...</td>\n",
              "      <td>...</td>\n",
              "      <td>...</td>\n",
              "      <td>...</td>\n",
              "      <td>...</td>\n",
              "      <td>...</td>\n",
              "      <td>...</td>\n",
              "    </tr>\n",
              "    <tr>\n",
              "      <th>22802</th>\n",
              "      <td>K0400002361945</td>\n",
              "      <td>15 Year(s)</td>\n",
              "      <td>Male</td>\n",
              "      <td>Batgram</td>\n",
              "      <td>Batagram</td>\n",
              "      <td>NaN</td>\n",
              "      <td>1000000000087207</td>\n",
              "      <td>N</td>\n",
              "      <td>1000000000087207</td>\n",
              "      <td>Negative</td>\n",
              "    </tr>\n",
              "    <tr>\n",
              "      <th>22807</th>\n",
              "      <td>K04ACE20160252</td>\n",
              "      <td>20 Year(s)</td>\n",
              "      <td>Male</td>\n",
              "      <td>Abbottabad</td>\n",
              "      <td>Abbottabad</td>\n",
              "      <td>NaN</td>\n",
              "      <td>1000000000085007</td>\n",
              "      <td>N</td>\n",
              "      <td>1000000000087207</td>\n",
              "      <td>Negative</td>\n",
              "    </tr>\n",
              "    <tr>\n",
              "      <th>22841</th>\n",
              "      <td>K04ACE20177210</td>\n",
              "      <td>23 Year(s)</td>\n",
              "      <td>Female</td>\n",
              "      <td>Abbottabad</td>\n",
              "      <td>Abbottabad</td>\n",
              "      <td>NaN</td>\n",
              "      <td>1000000000085007</td>\n",
              "      <td>N</td>\n",
              "      <td>1000000000087207</td>\n",
              "      <td>Negative</td>\n",
              "    </tr>\n",
              "    <tr>\n",
              "      <th>22888</th>\n",
              "      <td>K04ACE20223641</td>\n",
              "      <td>50 Year(s)</td>\n",
              "      <td>Male</td>\n",
              "      <td>Abbottabad</td>\n",
              "      <td>Abbottabad</td>\n",
              "      <td>NaN</td>\n",
              "      <td>1000000000085007</td>\n",
              "      <td>N</td>\n",
              "      <td>1000000000087207</td>\n",
              "      <td>Negative</td>\n",
              "    </tr>\n",
              "    <tr>\n",
              "      <th>22892</th>\n",
              "      <td>K0400002419131</td>\n",
              "      <td>32 Year(s)</td>\n",
              "      <td>Male</td>\n",
              "      <td>ORAKZAI</td>\n",
              "      <td>UPPER ORAKZAI</td>\n",
              "      <td>NaN</td>\n",
              "      <td>1000000000085651</td>\n",
              "      <td>N</td>\n",
              "      <td>1000000000087207</td>\n",
              "      <td>Negative</td>\n",
              "    </tr>\n",
              "  </tbody>\n",
              "</table>\n",
              "<p>238 rows × 10 columns</p>\n",
              "</div>\n",
              "    <div class=\"colab-df-buttons\">\n",
              "\n",
              "  <div class=\"colab-df-container\">\n",
              "    <button class=\"colab-df-convert\" onclick=\"convertToInteractive('df-0d7edc02-6b60-4d2d-be3e-68358e64d187')\"\n",
              "            title=\"Convert this dataframe to an interactive table.\"\n",
              "            style=\"display:none;\">\n",
              "\n",
              "  <svg xmlns=\"http://www.w3.org/2000/svg\" height=\"24px\" viewBox=\"0 -960 960 960\">\n",
              "    <path d=\"M120-120v-720h720v720H120Zm60-500h600v-160H180v160Zm220 220h160v-160H400v160Zm0 220h160v-160H400v160ZM180-400h160v-160H180v160Zm440 0h160v-160H620v160ZM180-180h160v-160H180v160Zm440 0h160v-160H620v160Z\"/>\n",
              "  </svg>\n",
              "    </button>\n",
              "\n",
              "  <style>\n",
              "    .colab-df-container {\n",
              "      display:flex;\n",
              "      gap: 12px;\n",
              "    }\n",
              "\n",
              "    .colab-df-convert {\n",
              "      background-color: #E8F0FE;\n",
              "      border: none;\n",
              "      border-radius: 50%;\n",
              "      cursor: pointer;\n",
              "      display: none;\n",
              "      fill: #1967D2;\n",
              "      height: 32px;\n",
              "      padding: 0 0 0 0;\n",
              "      width: 32px;\n",
              "    }\n",
              "\n",
              "    .colab-df-convert:hover {\n",
              "      background-color: #E2EBFA;\n",
              "      box-shadow: 0px 1px 2px rgba(60, 64, 67, 0.3), 0px 1px 3px 1px rgba(60, 64, 67, 0.15);\n",
              "      fill: #174EA6;\n",
              "    }\n",
              "\n",
              "    .colab-df-buttons div {\n",
              "      margin-bottom: 4px;\n",
              "    }\n",
              "\n",
              "    [theme=dark] .colab-df-convert {\n",
              "      background-color: #3B4455;\n",
              "      fill: #D2E3FC;\n",
              "    }\n",
              "\n",
              "    [theme=dark] .colab-df-convert:hover {\n",
              "      background-color: #434B5C;\n",
              "      box-shadow: 0px 1px 3px 1px rgba(0, 0, 0, 0.15);\n",
              "      filter: drop-shadow(0px 1px 2px rgba(0, 0, 0, 0.3));\n",
              "      fill: #FFFFFF;\n",
              "    }\n",
              "  </style>\n",
              "\n",
              "    <script>\n",
              "      const buttonEl =\n",
              "        document.querySelector('#df-0d7edc02-6b60-4d2d-be3e-68358e64d187 button.colab-df-convert');\n",
              "      buttonEl.style.display =\n",
              "        google.colab.kernel.accessAllowed ? 'block' : 'none';\n",
              "\n",
              "      async function convertToInteractive(key) {\n",
              "        const element = document.querySelector('#df-0d7edc02-6b60-4d2d-be3e-68358e64d187');\n",
              "        const dataTable =\n",
              "          await google.colab.kernel.invokeFunction('convertToInteractive',\n",
              "                                                    [key], {});\n",
              "        if (!dataTable) return;\n",
              "\n",
              "        const docLinkHtml = 'Like what you see? Visit the ' +\n",
              "          '<a target=\"_blank\" href=https://colab.research.google.com/notebooks/data_table.ipynb>data table notebook</a>'\n",
              "          + ' to learn more about interactive tables.';\n",
              "        element.innerHTML = '';\n",
              "        dataTable['output_type'] = 'display_data';\n",
              "        await google.colab.output.renderOutput(dataTable, element);\n",
              "        const docLink = document.createElement('div');\n",
              "        docLink.innerHTML = docLinkHtml;\n",
              "        element.appendChild(docLink);\n",
              "      }\n",
              "    </script>\n",
              "  </div>\n",
              "\n",
              "\n",
              "<div id=\"df-339c96ea-052d-4eb6-b648-2e793ae8ab7d\">\n",
              "  <button class=\"colab-df-quickchart\" onclick=\"quickchart('df-339c96ea-052d-4eb6-b648-2e793ae8ab7d')\"\n",
              "            title=\"Suggest charts\"\n",
              "            style=\"display:none;\">\n",
              "\n",
              "<svg xmlns=\"http://www.w3.org/2000/svg\" height=\"24px\"viewBox=\"0 0 24 24\"\n",
              "     width=\"24px\">\n",
              "    <g>\n",
              "        <path d=\"M19 3H5c-1.1 0-2 .9-2 2v14c0 1.1.9 2 2 2h14c1.1 0 2-.9 2-2V5c0-1.1-.9-2-2-2zM9 17H7v-7h2v7zm4 0h-2V7h2v10zm4 0h-2v-4h2v4z\"/>\n",
              "    </g>\n",
              "</svg>\n",
              "  </button>\n",
              "\n",
              "<style>\n",
              "  .colab-df-quickchart {\n",
              "      --bg-color: #E8F0FE;\n",
              "      --fill-color: #1967D2;\n",
              "      --hover-bg-color: #E2EBFA;\n",
              "      --hover-fill-color: #174EA6;\n",
              "      --disabled-fill-color: #AAA;\n",
              "      --disabled-bg-color: #DDD;\n",
              "  }\n",
              "\n",
              "  [theme=dark] .colab-df-quickchart {\n",
              "      --bg-color: #3B4455;\n",
              "      --fill-color: #D2E3FC;\n",
              "      --hover-bg-color: #434B5C;\n",
              "      --hover-fill-color: #FFFFFF;\n",
              "      --disabled-bg-color: #3B4455;\n",
              "      --disabled-fill-color: #666;\n",
              "  }\n",
              "\n",
              "  .colab-df-quickchart {\n",
              "    background-color: var(--bg-color);\n",
              "    border: none;\n",
              "    border-radius: 50%;\n",
              "    cursor: pointer;\n",
              "    display: none;\n",
              "    fill: var(--fill-color);\n",
              "    height: 32px;\n",
              "    padding: 0;\n",
              "    width: 32px;\n",
              "  }\n",
              "\n",
              "  .colab-df-quickchart:hover {\n",
              "    background-color: var(--hover-bg-color);\n",
              "    box-shadow: 0 1px 2px rgba(60, 64, 67, 0.3), 0 1px 3px 1px rgba(60, 64, 67, 0.15);\n",
              "    fill: var(--button-hover-fill-color);\n",
              "  }\n",
              "\n",
              "  .colab-df-quickchart-complete:disabled,\n",
              "  .colab-df-quickchart-complete:disabled:hover {\n",
              "    background-color: var(--disabled-bg-color);\n",
              "    fill: var(--disabled-fill-color);\n",
              "    box-shadow: none;\n",
              "  }\n",
              "\n",
              "  .colab-df-spinner {\n",
              "    border: 2px solid var(--fill-color);\n",
              "    border-color: transparent;\n",
              "    border-bottom-color: var(--fill-color);\n",
              "    animation:\n",
              "      spin 1s steps(1) infinite;\n",
              "  }\n",
              "\n",
              "  @keyframes spin {\n",
              "    0% {\n",
              "      border-color: transparent;\n",
              "      border-bottom-color: var(--fill-color);\n",
              "      border-left-color: var(--fill-color);\n",
              "    }\n",
              "    20% {\n",
              "      border-color: transparent;\n",
              "      border-left-color: var(--fill-color);\n",
              "      border-top-color: var(--fill-color);\n",
              "    }\n",
              "    30% {\n",
              "      border-color: transparent;\n",
              "      border-left-color: var(--fill-color);\n",
              "      border-top-color: var(--fill-color);\n",
              "      border-right-color: var(--fill-color);\n",
              "    }\n",
              "    40% {\n",
              "      border-color: transparent;\n",
              "      border-right-color: var(--fill-color);\n",
              "      border-top-color: var(--fill-color);\n",
              "    }\n",
              "    60% {\n",
              "      border-color: transparent;\n",
              "      border-right-color: var(--fill-color);\n",
              "    }\n",
              "    80% {\n",
              "      border-color: transparent;\n",
              "      border-right-color: var(--fill-color);\n",
              "      border-bottom-color: var(--fill-color);\n",
              "    }\n",
              "    90% {\n",
              "      border-color: transparent;\n",
              "      border-bottom-color: var(--fill-color);\n",
              "    }\n",
              "  }\n",
              "</style>\n",
              "\n",
              "  <script>\n",
              "    async function quickchart(key) {\n",
              "      const quickchartButtonEl =\n",
              "        document.querySelector('#' + key + ' button');\n",
              "      quickchartButtonEl.disabled = true;  // To prevent multiple clicks.\n",
              "      quickchartButtonEl.classList.add('colab-df-spinner');\n",
              "      try {\n",
              "        const charts = await google.colab.kernel.invokeFunction(\n",
              "            'suggestCharts', [key], {});\n",
              "      } catch (error) {\n",
              "        console.error('Error during call to suggestCharts:', error);\n",
              "      }\n",
              "      quickchartButtonEl.classList.remove('colab-df-spinner');\n",
              "      quickchartButtonEl.classList.add('colab-df-quickchart-complete');\n",
              "    }\n",
              "    (() => {\n",
              "      let quickchartButtonEl =\n",
              "        document.querySelector('#df-339c96ea-052d-4eb6-b648-2e793ae8ab7d button');\n",
              "      quickchartButtonEl.style.display =\n",
              "        google.colab.kernel.accessAllowed ? 'block' : 'none';\n",
              "    })();\n",
              "  </script>\n",
              "</div>\n",
              "    </div>\n",
              "  </div>\n"
            ]
          },
          "metadata": {},
          "execution_count": 10
        }
      ]
    },
    {
      "cell_type": "markdown",
      "source": [
        "[20]"
      ],
      "metadata": {
        "id": "QBu8QnutfRzZ"
      }
    },
    {
      "cell_type": "markdown",
      "source": [
        "### **How to check for percentages of null values in each column**"
      ],
      "metadata": {
        "id": "d6rO-FGcfU81"
      }
    },
    {
      "cell_type": "markdown",
      "source": [],
      "metadata": {
        "id": "aUvr3WatjLkY"
      }
    },
    {
      "cell_type": "code",
      "source": [
        "# [20]\n",
        "Train_data.notnull().mean()"
      ],
      "metadata": {
        "id": "rKjglowhfZi2",
        "colab": {
          "base_uri": "https://localhost:8080/"
        },
        "outputId": "aa9d293f-eceb-44e8-c09c-d0fbbcb4e788"
      },
      "execution_count": null,
      "outputs": [
        {
          "output_type": "execute_result",
          "data": {
            "text/plain": [
              "MRNO               1.000000\n",
              "AGE                1.000000\n",
              "GENDER             1.000000\n",
              "DISTRICT           1.000000\n",
              "TEHSIL             1.000000\n",
              "REPORT_VERIFIED    0.989614\n",
              "CPT_ID             1.000000\n",
              "RESULT_VALUE       1.000000\n",
              "CPT_ID.1           1.000000\n",
              "RESULT_TEXT        1.000000\n",
              "dtype: float64"
            ]
          },
          "metadata": {},
          "execution_count": 11
        }
      ]
    },
    {
      "cell_type": "code",
      "source": [
        "total = Train_data.isnull().sum().sort_values(ascending=False)\n",
        "percent = (Train_data.isnull().sum()/Train_data.isnull().count()).sort_values(ascending=False)\n",
        "missing = pd.concat([total, percent], axis=1, keys=['Total', 'Percent'])\n",
        "missing.head(4)"
      ],
      "metadata": {
        "colab": {
          "base_uri": "https://localhost:8080/",
          "height": 647
        },
        "id": "9gmBMkrFiTiv",
        "outputId": "55f9f916-e757-47c6-fe3b-0502a31c584a"
      },
      "execution_count": null,
      "outputs": [
        {
          "output_type": "execute_result",
          "data": {
            "text/plain": [
              "                 Total   Percent\n",
              "REPORT_VERIFIED    238  0.010386\n",
              "MRNO                 0  0.000000\n",
              "AGE                  0  0.000000\n",
              "GENDER               0  0.000000"
            ],
            "text/html": [
              "\n",
              "  <div id=\"df-b1da4217-3f46-4c51-af8c-2992f791a712\" class=\"colab-df-container\">\n",
              "    <div>\n",
              "<style scoped>\n",
              "    .dataframe tbody tr th:only-of-type {\n",
              "        vertical-align: middle;\n",
              "    }\n",
              "\n",
              "    .dataframe tbody tr th {\n",
              "        vertical-align: top;\n",
              "    }\n",
              "\n",
              "    .dataframe thead th {\n",
              "        text-align: right;\n",
              "    }\n",
              "</style>\n",
              "<table border=\"1\" class=\"dataframe\">\n",
              "  <thead>\n",
              "    <tr style=\"text-align: right;\">\n",
              "      <th></th>\n",
              "      <th>Total</th>\n",
              "      <th>Percent</th>\n",
              "    </tr>\n",
              "  </thead>\n",
              "  <tbody>\n",
              "    <tr>\n",
              "      <th>REPORT_VERIFIED</th>\n",
              "      <td>238</td>\n",
              "      <td>0.010386</td>\n",
              "    </tr>\n",
              "    <tr>\n",
              "      <th>MRNO</th>\n",
              "      <td>0</td>\n",
              "      <td>0.000000</td>\n",
              "    </tr>\n",
              "    <tr>\n",
              "      <th>AGE</th>\n",
              "      <td>0</td>\n",
              "      <td>0.000000</td>\n",
              "    </tr>\n",
              "    <tr>\n",
              "      <th>GENDER</th>\n",
              "      <td>0</td>\n",
              "      <td>0.000000</td>\n",
              "    </tr>\n",
              "  </tbody>\n",
              "</table>\n",
              "</div>\n",
              "    <div class=\"colab-df-buttons\">\n",
              "\n",
              "  <div class=\"colab-df-container\">\n",
              "    <button class=\"colab-df-convert\" onclick=\"convertToInteractive('df-b1da4217-3f46-4c51-af8c-2992f791a712')\"\n",
              "            title=\"Convert this dataframe to an interactive table.\"\n",
              "            style=\"display:none;\">\n",
              "\n",
              "  <svg xmlns=\"http://www.w3.org/2000/svg\" height=\"24px\" viewBox=\"0 -960 960 960\">\n",
              "    <path d=\"M120-120v-720h720v720H120Zm60-500h600v-160H180v160Zm220 220h160v-160H400v160Zm0 220h160v-160H400v160ZM180-400h160v-160H180v160Zm440 0h160v-160H620v160ZM180-180h160v-160H180v160Zm440 0h160v-160H620v160Z\"/>\n",
              "  </svg>\n",
              "    </button>\n",
              "\n",
              "  <style>\n",
              "    .colab-df-container {\n",
              "      display:flex;\n",
              "      gap: 12px;\n",
              "    }\n",
              "\n",
              "    .colab-df-convert {\n",
              "      background-color: #E8F0FE;\n",
              "      border: none;\n",
              "      border-radius: 50%;\n",
              "      cursor: pointer;\n",
              "      display: none;\n",
              "      fill: #1967D2;\n",
              "      height: 32px;\n",
              "      padding: 0 0 0 0;\n",
              "      width: 32px;\n",
              "    }\n",
              "\n",
              "    .colab-df-convert:hover {\n",
              "      background-color: #E2EBFA;\n",
              "      box-shadow: 0px 1px 2px rgba(60, 64, 67, 0.3), 0px 1px 3px 1px rgba(60, 64, 67, 0.15);\n",
              "      fill: #174EA6;\n",
              "    }\n",
              "\n",
              "    .colab-df-buttons div {\n",
              "      margin-bottom: 4px;\n",
              "    }\n",
              "\n",
              "    [theme=dark] .colab-df-convert {\n",
              "      background-color: #3B4455;\n",
              "      fill: #D2E3FC;\n",
              "    }\n",
              "\n",
              "    [theme=dark] .colab-df-convert:hover {\n",
              "      background-color: #434B5C;\n",
              "      box-shadow: 0px 1px 3px 1px rgba(0, 0, 0, 0.15);\n",
              "      filter: drop-shadow(0px 1px 2px rgba(0, 0, 0, 0.3));\n",
              "      fill: #FFFFFF;\n",
              "    }\n",
              "  </style>\n",
              "\n",
              "    <script>\n",
              "      const buttonEl =\n",
              "        document.querySelector('#df-b1da4217-3f46-4c51-af8c-2992f791a712 button.colab-df-convert');\n",
              "      buttonEl.style.display =\n",
              "        google.colab.kernel.accessAllowed ? 'block' : 'none';\n",
              "\n",
              "      async function convertToInteractive(key) {\n",
              "        const element = document.querySelector('#df-b1da4217-3f46-4c51-af8c-2992f791a712');\n",
              "        const dataTable =\n",
              "          await google.colab.kernel.invokeFunction('convertToInteractive',\n",
              "                                                    [key], {});\n",
              "        if (!dataTable) return;\n",
              "\n",
              "        const docLinkHtml = 'Like what you see? Visit the ' +\n",
              "          '<a target=\"_blank\" href=https://colab.research.google.com/notebooks/data_table.ipynb>data table notebook</a>'\n",
              "          + ' to learn more about interactive tables.';\n",
              "        element.innerHTML = '';\n",
              "        dataTable['output_type'] = 'display_data';\n",
              "        await google.colab.output.renderOutput(dataTable, element);\n",
              "        const docLink = document.createElement('div');\n",
              "        docLink.innerHTML = docLinkHtml;\n",
              "        element.appendChild(docLink);\n",
              "      }\n",
              "    </script>\n",
              "  </div>\n",
              "\n",
              "\n",
              "<div id=\"df-e8571918-5540-4160-a1b7-c5f784758a5f\">\n",
              "  <button class=\"colab-df-quickchart\" onclick=\"quickchart('df-e8571918-5540-4160-a1b7-c5f784758a5f')\"\n",
              "            title=\"Suggest charts\"\n",
              "            style=\"display:none;\">\n",
              "\n",
              "<svg xmlns=\"http://www.w3.org/2000/svg\" height=\"24px\"viewBox=\"0 0 24 24\"\n",
              "     width=\"24px\">\n",
              "    <g>\n",
              "        <path d=\"M19 3H5c-1.1 0-2 .9-2 2v14c0 1.1.9 2 2 2h14c1.1 0 2-.9 2-2V5c0-1.1-.9-2-2-2zM9 17H7v-7h2v7zm4 0h-2V7h2v10zm4 0h-2v-4h2v4z\"/>\n",
              "    </g>\n",
              "</svg>\n",
              "  </button>\n",
              "\n",
              "<style>\n",
              "  .colab-df-quickchart {\n",
              "      --bg-color: #E8F0FE;\n",
              "      --fill-color: #1967D2;\n",
              "      --hover-bg-color: #E2EBFA;\n",
              "      --hover-fill-color: #174EA6;\n",
              "      --disabled-fill-color: #AAA;\n",
              "      --disabled-bg-color: #DDD;\n",
              "  }\n",
              "\n",
              "  [theme=dark] .colab-df-quickchart {\n",
              "      --bg-color: #3B4455;\n",
              "      --fill-color: #D2E3FC;\n",
              "      --hover-bg-color: #434B5C;\n",
              "      --hover-fill-color: #FFFFFF;\n",
              "      --disabled-bg-color: #3B4455;\n",
              "      --disabled-fill-color: #666;\n",
              "  }\n",
              "\n",
              "  .colab-df-quickchart {\n",
              "    background-color: var(--bg-color);\n",
              "    border: none;\n",
              "    border-radius: 50%;\n",
              "    cursor: pointer;\n",
              "    display: none;\n",
              "    fill: var(--fill-color);\n",
              "    height: 32px;\n",
              "    padding: 0;\n",
              "    width: 32px;\n",
              "  }\n",
              "\n",
              "  .colab-df-quickchart:hover {\n",
              "    background-color: var(--hover-bg-color);\n",
              "    box-shadow: 0 1px 2px rgba(60, 64, 67, 0.3), 0 1px 3px 1px rgba(60, 64, 67, 0.15);\n",
              "    fill: var(--button-hover-fill-color);\n",
              "  }\n",
              "\n",
              "  .colab-df-quickchart-complete:disabled,\n",
              "  .colab-df-quickchart-complete:disabled:hover {\n",
              "    background-color: var(--disabled-bg-color);\n",
              "    fill: var(--disabled-fill-color);\n",
              "    box-shadow: none;\n",
              "  }\n",
              "\n",
              "  .colab-df-spinner {\n",
              "    border: 2px solid var(--fill-color);\n",
              "    border-color: transparent;\n",
              "    border-bottom-color: var(--fill-color);\n",
              "    animation:\n",
              "      spin 1s steps(1) infinite;\n",
              "  }\n",
              "\n",
              "  @keyframes spin {\n",
              "    0% {\n",
              "      border-color: transparent;\n",
              "      border-bottom-color: var(--fill-color);\n",
              "      border-left-color: var(--fill-color);\n",
              "    }\n",
              "    20% {\n",
              "      border-color: transparent;\n",
              "      border-left-color: var(--fill-color);\n",
              "      border-top-color: var(--fill-color);\n",
              "    }\n",
              "    30% {\n",
              "      border-color: transparent;\n",
              "      border-left-color: var(--fill-color);\n",
              "      border-top-color: var(--fill-color);\n",
              "      border-right-color: var(--fill-color);\n",
              "    }\n",
              "    40% {\n",
              "      border-color: transparent;\n",
              "      border-right-color: var(--fill-color);\n",
              "      border-top-color: var(--fill-color);\n",
              "    }\n",
              "    60% {\n",
              "      border-color: transparent;\n",
              "      border-right-color: var(--fill-color);\n",
              "    }\n",
              "    80% {\n",
              "      border-color: transparent;\n",
              "      border-right-color: var(--fill-color);\n",
              "      border-bottom-color: var(--fill-color);\n",
              "    }\n",
              "    90% {\n",
              "      border-color: transparent;\n",
              "      border-bottom-color: var(--fill-color);\n",
              "    }\n",
              "  }\n",
              "</style>\n",
              "\n",
              "  <script>\n",
              "    async function quickchart(key) {\n",
              "      const quickchartButtonEl =\n",
              "        document.querySelector('#' + key + ' button');\n",
              "      quickchartButtonEl.disabled = true;  // To prevent multiple clicks.\n",
              "      quickchartButtonEl.classList.add('colab-df-spinner');\n",
              "      try {\n",
              "        const charts = await google.colab.kernel.invokeFunction(\n",
              "            'suggestCharts', [key], {});\n",
              "      } catch (error) {\n",
              "        console.error('Error during call to suggestCharts:', error);\n",
              "      }\n",
              "      quickchartButtonEl.classList.remove('colab-df-spinner');\n",
              "      quickchartButtonEl.classList.add('colab-df-quickchart-complete');\n",
              "    }\n",
              "    (() => {\n",
              "      let quickchartButtonEl =\n",
              "        document.querySelector('#df-e8571918-5540-4160-a1b7-c5f784758a5f button');\n",
              "      quickchartButtonEl.style.display =\n",
              "        google.colab.kernel.accessAllowed ? 'block' : 'none';\n",
              "    })();\n",
              "  </script>\n",
              "</div>\n",
              "    </div>\n",
              "  </div>\n"
            ]
          },
          "metadata": {},
          "execution_count": 12
        },
        {
          "output_type": "display_data",
          "data": {
            "text/plain": [
              "<google.colab._quickchart_helpers.SectionTitle at 0x7f1bbf8cb5b0>"
            ],
            "text/html": [
              "<h4 class=\"colab-quickchart-section-title\">Distributions</h4>\n",
              "<style>\n",
              "  .colab-quickchart-section-title {\n",
              "      clear: both;\n",
              "  }\n",
              "</style>"
            ]
          },
          "metadata": {}
        },
        {
          "output_type": "display_data",
          "data": {
            "text/plain": [
              "from matplotlib import pyplot as plt\n",
              "_df_0['Total'].plot(kind='hist', bins=20, title='Total')\n",
              "plt.gca().spines[['top', 'right',]].set_visible(False)"
            ],
            "text/html": [
              "      <div class=\"colab-quickchart-chart-with-code\" id=\"chart-6b0f4d54-f2bd-4aa7-a073-52d73738e2f0\">\n",
              "        <img style=\"width: 180px;\" src=\"data:image/png;base64,iVBORw0KGgoAAAANSUhEUgAAAioAAAGrCAYAAADuNLxTAAAAOXRFWHRTb2Z0d2FyZQBNYXRwbG90\n",
              "bGliIHZlcnNpb24zLjcuMSwgaHR0cHM6Ly9tYXRwbG90bGliLm9yZy/bCgiHAAAACXBIWXMAAA9h\n",
              "AAAPYQGoP6dpAAAds0lEQVR4nO3de5BW9X3H8c+y6EYMl4pa0HXZkcvaVuVioVTNxZnSKM4ARU21\n",
              "TaMmXGzq2AxmYmlqIiZ17dQy2osDBse2sUNjlKQEq1ZTbbC1UWvQ1IzGJeKC5ZIxATQFAsvpH052\n",
              "suUSV/ewP/D1mjkz+5zn7Nnvc54deM95zj5PQ1VVVQAACjSgvwcAADgQoQIAFEuoAADFEioAQLGE\n",
              "CgBQLKECABRLqAAAxRIqAECxhAoAUCyhAhxxWltbs2zZsv4eA+gDQgWo1Xvf+97u5eijj05jY2OP\n",
              "datXrz7g995www0599xzD+G0QGkG9vcAwJHtjTfe6P76T/7kT/L444/nscce67+BgMOKMypAv9m6\n",
              "dWvmzZuX5ubmHH/88bngggvy4osvJkn+4R/+ITfddFOeeOKJHmdfdu7cmUsuuSQnn3xyBg8enLa2\n",
              "tvzN3/xNPz8SoC5CBeg3v/d7v5eXXnopTz/9dDo7O9PW1pbf+I3fyBtvvJHf/d3fzR//8R/n13/9\n",
              "1/PGG2/kjTfeyPve975UVZXp06fn+eefz7Zt27J48eIsWLAgDz30UH8/HKAGQgXoFxs3bsyqVaty\n",
              "6623ZsSIERk0aFD+/M//PDt27MiqVasO+H3HHHNMrrzyygwbNiwDBgzIhRdemPPPPz//8i//cgin\n",
              "Bw4VoQL0i/Xr1ydJRo8e3b3uqKOOyqhRo9LZ2XnA79u1a1c+9alPZdy4cRk6dGiGDRuWBx54IFu2\n",
              "bKl9ZuDQEypAvzjllFOSJGvXru1et2fPnnR2dqalpSVJMmDAvv9ELV68OF//+tfz9a9/PT/60Y+y\n",
              "devWXHDBBamq6tAMDhxSQgXoFyNHjsz06dNz7bXXZvPmzdmxY0euu+66HH300bnwwguTJCNGjEhn\n",
              "Z2d27tzZ/X3btm1LU1NTTjjhhOzduzdf+cpXvOwDRzChAvSbL33pS2ltbc2kSZPS3Nyc559/Po88\n",
              "8kgGDx6cJPnt3/7ttLW15aSTTsqwYcPy+OOP51Of+lROOeWUjBo1KieddFK+8Y1vZNasWf37QIDa\n",
              "NFTOlwIAhXJGBQAollABAIolVACAYgkVAKBYQgUAKJZQAQCKJVQAgGIdEaFy22239fcIAEANjohQ\n",
              "eeWVV/p7BACgBkdEqAAARyahAgAUS6gAAMUSKgBAsYQKAFAsoQIAFEuoAADFEioAQLGECgBQLKEC\n",
              "ABRLqAAAxRIqAECxag2V3/zN38yZZ56ZCRMm5H3ve1++/e1v73e7O++8M2PHjs3o0aMzd+7c7N69\n",
              "u86xAIDDRK2hcs899+S5557LmjVrsmDBglxxxRX7bPPyyy/n+uuvz+rVq9PR0ZHNmzfnjjvuqHMs\n",
              "AOAwUWuoDBs2rPvrbdu2paGhYZ9t7r333syYMSMjRoxIQ0NDrrrqqixfvvyA+9y1a1e2b9/eY+nq\n",
              "6qpjfACgnw2s+wd89KMfzaOPPpok+ed//ud97u/s7MyoUaO6b7e2tqazs/OA+2tvb8+iRYt6rJs6\n",
              "dWofTdtT6x/dX8t+k2TdzRfWtm8AOFLUfjHt3//932f9+vX5whe+kOuuu+4d72/hwoXZtm1bj2XK\n",
              "lCl9MCkAUJpD9lc/l19+eR599NG89tprPda3tLTklVde6b69bt26tLS0HHA/TU1NGTJkSI+lsbGx\n",
              "trkBgP5TW6hs3bo1//M//9N9+2tf+1qGDx+e4447rsd2F110UVauXJlNmzalqqosWbIkl156aV1j\n",
              "AQCHkdquUdm2bVsuueSS7NixIwMGDMgJJ5yQVatWpaGhIXPmzMmMGTMyY8aMnHrqqVm0aFHOOeec\n",
              "JMkHP/jBzJ8/v66xAIDDSENVVVV/D/FOLViwIIsXL+7z/bqYFgD6l3emBQCKJVQAgGIJFQCgWEIF\n",
              "ACiWUAEAiiVUAIBiCRUAoFhCBQAollABAIolVACAYgkVAKBYQgUAKJZQAQCKJVQAgGIJFQCgWEIF\n",
              "ACiWUAEAiiVUAIBiCRUAoFhCBQAollABAIolVACAYgkVAKBYQgUAKJZQAQCKJVQAgGIJFQCgWEIF\n",
              "ACiWUAEAiiVUAIBiCRUAoFhCBQAollABAIolVACAYgkVAKBYQgUAKJZQAQCKJVQAgGIJFQCgWEIF\n",
              "ACiWUAEAiiVUAIBiCRUAoFhCBQAollABAIolVACAYgkVAKBYQgUAKJZQAQCKJVQAgGLVFio7d+7M\n",
              "rFmzMm7cuIwfPz7Tpk1LR0fHPtutW7cujY2NmTBhQveydu3ausYCAA4jA+vc+bx583LBBRekoaEh\n",
              "f/3Xf505c+bkscce22e7wYMHZ82aNXWOAgAchmo7o/Ke97wn06dPT0NDQ5Jk6tSpWbdu3Tve765d\n",
              "u7J9+/YeS1dX1zveLwBQnkN2jcptt92WmTNn7ve+H//4x5k8eXImTZqUG2+88aDh0d7enqFDh/ZY\n",
              "nnzyybrGBgD60SEJlZtuuikdHR1pb2/f576RI0fm1VdfzVNPPZVHHnkkq1evzl/8xV8ccF8LFy7M\n",
              "tm3beixTpkypc3wAoJ/UHiq33HJLVqxYkQceeCCDBg3a5/6mpqaceOKJSZLjjjsuH/vYx7J69eoD\n",
              "7q+pqSlDhgzpsTQ2NtY2PwDQf2oNlcWLF2f58uV5+OGHM2zYsP1us2XLluzevTvJm9efrFixIhMn\n",
              "TqxzLADgMFFbqGzYsCHXXntttm7dmvPOOy8TJkzIr/3aryVJPvvZz2bJkiVJkscffzwTJ07M+PHj\n",
              "M2nSpIwYMSKf+cxn6hoLADiM1Pbnyc3Nzamqar/33Xjjjd1fz549O7Nnz65rDADgMOadaQGAYgkV\n",
              "AKBYQgUAKJZQAQCKJVQAgGIJFQCgWEIFACiWUAEAiiVUAIBiCRUAoFhCBQAollABAIolVACAYgkV\n",
              "AKBYQgUAKJZQAQCKJVQAgGIJFQCgWEIFACiWUAEAiiVUAIBiCRUAoFhCBQAollABAIolVACAYgkV\n",
              "AKBYQgUAKJZQAQCKJVQAgGIJFQCgWEIFACiWUAEAiiVUAIBiCRUAoFhCBQAollABAIolVACAYgkV\n",
              "AKBYQgUAKJZQAQCKJVQAgGIJFQCgWEIFACiWUAEAiiVUAIBiCRUAoFhCBQAollABAIolVACAYtUW\n",
              "Kjt37sysWbMybty4jB8/PtOmTUtHR8d+t121alVOO+20jB07NrNnz8727dvrGgsAOIzUekZl3rx5\n",
              "efHFF/Pss89m5syZmTNnzj7bvPHGG/n4xz+er33ta3nppZdy0kkn5fOf/3ydYwEAh4naQuU973lP\n",
              "pk+fnoaGhiTJ1KlTs27dun22e+CBBzJx4sScdtppSZJPfOITWb58eV1jAQCHkYGH6gfddtttmTlz\n",
              "5j7rOzs7M2rUqO7bra2t2bhxY/bs2ZOBA/cdb9euXdm1a1ePdV1dXX0/MADQ7w7JxbQ33XRTOjo6\n",
              "0t7e/o731d7enqFDh/ZYnnzyyT6YEgAoTe2hcsstt2TFihV54IEHMmjQoH3ub2lpySuvvNJ9e926\n",
              "dRk5cuR+z6YkycKFC7Nt27Yey5QpU2qbHwDoP7WGyuLFi7N8+fI8/PDDGTZs2H63Of/88/PMM8/k\n",
              "hRdeSJLcfvvtufTSSw+4z6ampgwZMqTH0tjYWMf4AEA/q+0alQ0bNuTaa6/NqaeemvPOOy/Jm5Hx\n",
              "rW99K5/97Gdz0kkn5aqrrsrgwYOzbNmyzJo1K3v27Mnpp5+ev/u7v6trLADgMFJbqDQ3N6eqqv3e\n",
              "d+ONN/a4PWPGjMyYMaOuUQCAw5R3pgUAiiVUAIBiCRUAoFhCBQAollABAIolVACAYgkVAKBYQgUA\n",
              "KJZQAQCKJVQAgGIJFQCgWEIFACiWUAEAiiVUAIBiCRUAoFhCBQAollABAIolVACAYgkVAKBYvQ6V\n",
              "hx56qI45AAD20etQufHGG9PW1pbbbrst27dvr2MmAIAkbyNU/v3f/z3/+I//mP/+7//OuHHj8olP\n",
              "fCLf/e5365gNAHiXe1vXqEycODFf/OIX8+CDD2bVqlU588wzM23atHznO9/p6/kAgHextxUqjzzy\n",
              "SGbOnJnZs2fnD/7gD7Jp06bMnz8/v/Vbv9XX8wEA72IDe/sNv/RLv5Tjjz8+11xzTWbPnp3GxsYk\n",
              "ycUXX5w777yzzwcEAN69eh0qd999d84666z93vfAAw+844EAAH6q1y/9/Nd//Vd++MMfdt9+7bXX\n",
              "8sUvfrFPhwIASN5GqNx+++057rjjum8PHz48t99+e58OBQCQvI1Qqapqn3VdXV19MgwAwM/qdaiM\n",
              "HDky99xzT/ftL3/5yxk5cmSfDgUAkLyNi2lvvfXWzJw5M5/+9KeTJIMGDco//dM/9flgAAC9DpXT\n",
              "Tjst3/3ud/Piiy8mSdra2rr/RBkAoC/1OlSSpKGhIcOGDcuePXvy6quvJklaWlr6dDAAgF6Hyt/+\n",
              "7d/mmmuuyVFHHZUBA968xKWhoSFbtmzp8+EAgHe3XofK5z//+Tz11FNpa2urYx4AgG69/quf448/\n",
              "XqQAAIdEr0Nl1qxZufXWW7Nly5Zs3769ewEA6Gu9funnM5/5TJJkwYIFaWhoSFVVaWho8KZvAECf\n",
              "63Wo7N27t445AAD20euXfpI3P5jwS1/6UpJk69at2bhxY58OBQCQvM0PJfzYxz6WG264Icmbn578\n",
              "O7/zO309FwBA70PljjvuyH/+539myJAhSZLRo0fnBz/4QZ8PBgDQ61BpamrKMccc02PdwIFv6w1u\n",
              "AQAOqtehcsIJJ+R73/teGhoakrz5TrXePh8AqMPb+vTkyy67LC+88EJOOeWUDBkyJKtWrapjNgDg\n",
              "Xa7XoTJmzJh861vfyosvvpiqqnx6MgBQm16HSmdnZ5Lk2GOPTRKfngwA1KbXoXLWWWd1vyPtzp07\n",
              "87//+78ZPny4T08GAPpcr0Pl//8p8ooVK/Lss8/22UAAAD/1tt6Z9mfNnj07999/f1/MAgDQQ69D\n",
              "5Wc/MflHP/pRHnzwwQN+evI111yT1tbWNDQ0ZM2aNfvd5rHHHssxxxyTCRMmdC87duzo7VgAwBGo\n",
              "1y/9DBs2rPsalcbGxowdOzZ/+Zd/ud9tL7744nz605/Oueeee9B9trW1HTBkAIB3r1o/Pfn9739/\n",
              "b3f/c+3atSu7du3qsa6rq6vPfw4A0P/e8TUqfWHt2rWZNGlSJk+enNtvv/2g27a3t2fo0KE9lief\n",
              "fPIQTQoAHEq9DpUBAwaksbFxn+Wn63tr0qRJ2bBhQ5555pl89atfzZIlS3LPPfcccPuFCxdm27Zt\n",
              "PZYpU6b0+ucCAOXr9Us/N954Y3bs2JHf//3fT5IsWbIkxxxzTD75yU++rQF++inMSdLc3JzLLrss\n",
              "q1evzoc//OH9bt/U1JSmpqYe67wzLgAcmXp9RuWrX/1q/vRP/zTNzc1pbm7OF77whaxYsSLHHnts\n",
              "97vV9sbGjRu7r3t5/fXXs2rVqkycOLHX+wEAjjy9DpXXX3+9x7vQbtmyJa+//vp+t50/f36am5uz\n",
              "YcOGfOhDH8qYMWOSJHPmzMnKlSuTJPfdd1/OOOOMjB8/PlOnTs20adNy5ZVXvp3HAgAcYXr90s+1\n",
              "116b8ePHZ/r06UmSBx98MDfccMN+t126dOl+1y9btqz766uvvjpXX311b8cAAN4Feh0q8+fPzznn\n",
              "nJNHH300SbJgwYL8yq/8Sp8PBgDQ61BJkuHDh+eMM87IBz/4wezZsyc/+clPcvTRR/f1bADAu1yv\n",
              "r1G59957M3Xq1O7rSJ5//vnMmjWrr+cCAOh9qLS3t+eZZ57JsGHDkiTjx4/PK6+80tdzAQD0PlQa\n",
              "GxszfPjwHuu87AMA1KHXoTJ48OBs3rw5DQ0NSZJvfOMbOe644/p8MACAXl9M+2d/9me54IIL8v3v\n",
              "fz/nnntuXn755dx///11zAYAvMv1KlT27t2brq6uPProo/mP//iPVFWVs88+u/t6FQCAvtSrUBkw\n",
              "YEDmzZuXZ599NhdccEFdMwEAJHkb16iMHTs2HR0ddcwCANBDr69R+eEPf5gJEybk7LPPznvf+97u\n",
              "9StWrOjTwQAA3nKozJs3L3fccUcuv/zyzJgxI7/wC79Q51wAAG89VJ5++ukkyeWXX55JkyblmWee\n",
              "qW0oAIDkbVyjkiRVVfX1HAAA+3jLZ1R27NiR73znO6mqKjt37uz++qfOPPPMWgYEAN69ehUqM2bM\n",
              "6L79s183NDTk+9//ft9OBgC8673lUFm3bl2NYwAA7OttXaMCAHAoCBUAoFhCBQAollABAIolVACA\n",
              "YgkVAKBYQgUAKJZQAQCKJVQAgGIJFQCgWEIFACiWUAEAiiVUAIBiCRUAoFhCBQAollABAIolVACA\n",
              "YgkVAKBYQgUAKJZQAQCKJVQAgGIJFQCgWEIFACiWUAEAiiVUAIBiCRUAoFhCBQAollABAIolVACA\n",
              "YgkVAKBYQgUAKJZQAQCKJVQAgGLVGirXXHNNWltb09DQkDVr1hxwuzvvvDNjx47N6NGjM3fu3Oze\n",
              "vbvOsQCAw0StoXLxxRfn8ccfz6hRow64zcsvv5zrr78+q1evTkdHRzZv3pw77rijzrEAgMNEraHy\n",
              "/ve/P83NzQfd5t57782MGTMyYsSINDQ05Kqrrsry5csPuP2uXbuyffv2HktXV1dfjw4AFGBgfw/Q\n",
              "2dnZ44xLa2trOjs7D7h9e3t7Fi1a1GPd1KlTa5sPAA4HrX90fy37XXfzhbXs96067C6mXbhwYbZt\n",
              "29ZjmTJlSn+PBQDUoN/PqLS0tGTt2rXdt9etW5eWlpYDbt/U1JSmpqYe6xobG2ubDwDoP/1+RuWi\n",
              "iy7KypUrs2nTplRVlSVLluTSSy/t77EAgALUGirz589Pc3NzNmzYkA996EMZM2ZMkmTOnDlZuXJl\n",
              "kuTUU0/NokWLcs4552TMmDE54YQTMn/+/DrHAgAOE7W+9LN06dL9rl+2bFmP23Pnzs3cuXPrHAUA\n",
              "OAz1+0s/AAAHIlQAgGIJFQCgWEIFACiWUAEAiiVUAIBiCRUAoFhCBQAollABAIolVACAYgkVAKBY\n",
              "QgUAKJZQAQCKJVQAgGIJFQCgWEIFACiWUAEAiiVUAIBiCRUAoFhCBQAollABAIolVACAYgkVAKBY\n",
              "QgUAKJZQAQCKJVQAgGIJFQCgWEIFACiWUAEAiiVUAIBiCRUAoFhCBQAollABAIolVACAYgkVAKBY\n",
              "QgUAKJZQAQCKJVQAgGIJFQCgWEIFACiWUAEAiiVUAIBiCRUAoFhCBQAollABAIolVACAYgkVAKBY\n",
              "QgUAKJZQAQCKVWuovPTSSzn77LMzbty4TJ48Oc8///w+2zz22GM55phjMmHChO5lx44ddY4FABwm\n",
              "Bta58/nz52fevHm54oorcu+99+aKK67IU089tc92bW1tWbNmTZ2jAACHodrOqGzZsiVPP/10PvKR\n",
              "jyRJLrrooqxfvz4dHR11/UgA4AhTW6isX78+I0eOzMCBb560aWhoSEtLSzo7O/fZdu3atZk0aVIm\n",
              "T56c22+//aD73bVrV7Zv395j6erqquUxAAD9q9aXft6KSZMmZcOGDRk6dGg2bNiQ6dOn5/jjj8+H\n",
              "P/zh/W7f3t6eRYsW9Vg3derUQzEqAHCI1XZG5ZRTTsnGjRuzZ8+eJElVVens7ExLS0uP7YYMGZKh\n",
              "Q4cmSZqbm3PZZZdl9erVB9zvwoULs23bth7LlClT6noYAEA/qi1UTjzxxEyaNCl33313kuS+++5L\n",
              "c3NzxowZ02O7jRs3Zu/evUmS119/PatWrcrEiRMPuN+mpqYMGTKkx9LY2FjXwwAA+lGtf568dOnS\n",
              "LF26NOPGjcvNN9+cu+66K0kyZ86crFy5MsmbAXPGGWdk/PjxmTp1aqZNm5Yrr7yyzrEAgMNErdeo\n",
              "tLW15Yknnthn/bJly7q/vvrqq3P11VfXOQYAcJjyzrQAQLGECgBQLKECABRLqAAAxRIqAECxhAoA\n",
              "UCyhAgAUS6gAAMUSKgBAsYQKAFAsoQIAFEuoAADFEioAQLGECgBQLKECABRLqAAAxRIqAECxhAoA\n",
              "UCyhAgAUS6gAAMUSKgBAsYQKAFAsoQIAFEuoAADFEioAQLGECgBQLKECABRLqAAAxRIqAECxhAoA\n",
              "UCyhAgAUS6gAAMUSKgBAsYQKAFAsoQIAFEuoAADFEioAQLGECgBQLKECABRLqAAAxRIqAECxhAoA\n",
              "UCyhAgAUS6gAAMUSKgBAsYQKAFAsoQIAFEuoAADFEioAQLGECgBQrFpD5aWXXsrZZ5+dcePGZfLk\n",
              "yXn++ef3u92dd96ZsWPHZvTo0Zk7d252795d51gAwGGi1lCZP39+5s2bl+9973u57rrrcsUVV+yz\n",
              "zcsvv5zrr78+q1evTkdHRzZv3pw77rijzrEAgMNEbaGyZcuWPP300/nIRz6SJLnooouyfv36dHR0\n",
              "9Nju3nvvzYwZMzJixIg0NDTkqquuyvLlyw+43127dmX79u09lq6urroeBgDQjwbWteP169dn5MiR\n",
              "GTjwzR/R0NCQlpaWdHZ2ZsyYMd3bdXZ2ZtSoUd23W1tb09nZecD9tre3Z9GiRT3WnXbaaVmwYEGf\n",
              "zt/V1ZWRTz6ZKVOmpLGxsU/3nSQLFnyjz/d5pOjq6sqTNR57Dsyx7z+Off84ko777Jr2W+f/V6NG\n",
              "jcof/uEfHnSb2kKlLgsXLtwnSpqamtLU1NSnP2f79u0ZOnRoHnrooQwZMqRP983BOfb9x7HvP459\n",
              "/3Dcy1dbqJxyyinZuHFj9uzZk4EDB6aqqnR2dqalpaXHdi0tLVm7dm337XXr1u2zzc+qI0oAgDLV\n",
              "do3KiSeemEmTJuXuu+9Oktx3331pbm7u8bJP8ua1KytXrsymTZtSVVWWLFmSSy+9tK6xAIDDSK1/\n",
              "9bN06dIsXbo048aNy80335y77rorSTJnzpysXLkySXLqqadm0aJFOeecczJmzJiccMIJmT9/fp1j\n",
              "AQCHiVqvUWlra8sTTzyxz/ply5b1uD137tzMnTu3zlF6rampKZ/73Oe8zNQPHPv+49j3H8e+fzju\n",
              "5Wuoqqrq7yEAAPbHW+gDAMUSKgBAsYQKAFAsoQIAFEuoHMBb/eRn3rnW1ta0tbVlwoQJmTBhQr78\n",
              "5S8n8RzU4Zprrklra2saGhqyZs2a7vUHO9aeh3fuQMf9QL/7iePeV3bu3JlZs2Zl3LhxGT9+fKZN\n",
              "m9b9mXNbtmzJ+eefn7Fjx+b000/PN7/5ze7vO9h9HGIV+3XeeedVd911V1VVVfWVr3yl+tVf/dX+\n",
              "HegINmrUqOrb3/72Pus9B33v3/7t36r169fvc8wPdqw9D+/cgY77gX73q8px7ys7duyo7r///mrv\n",
              "3r1VVVXVX/3VX1Uf+MAHqqqqqiuvvLL63Oc+V1VVVT355JPVySefXP3kJz/5ufdxaAmV/di8eXM1\n",
              "ePDgavfu3VVVVdXevXurX/zFX6xeeumlfp7syLS/f6w9B/X62WN+sGPteehbbzVUHPf6PPXUU9Wo\n",
              "UaOqqqqqY489ttq4cWP3fZMnT64efvjhn3sfh5aXfvbjYJ/8TD0++tGP5owzzsjHP/7x/OAHP/Ac\n",
              "HEIHO9aeh/r9/9/9xL9Bdbrtttsyc+bMvPbaa9m9e3dGjBjRfV9ra2s6OzsPeh+HnlCh333zm9/M\n",
              "c889l2eeeSbHH398Lr/88v4eCQ4Jv/uH1k033ZSOjo60t7f39yj0Qq1voX+4equf/Ezf+OlxPeqo\n",
              "o/LJT34y48aN8xwcQgc71kOGDPE81Gh/v/uJf4PqcMstt2TFihV55JFHMmjQoAwaNCgDBw7Mpk2b\n",
              "us+crFu3Li0tLRk+fPgB7+PQc0ZlP97qJz/zzv34xz/O1q1bu28vX748EydO9BwcQgc71p6H+hzo\n",
              "dz/xb1BfW7x4cZYvX56HH344w4YN615/ySWXZMmSJUmSp556Kq+++mo+8IEP/Nz7OMT69QqZgr3w\n",
              "wgvV1KlTq7Fjx1ZnnXVW9dxzz/X3SEektWvXVhMmTKjOOOOM6vTTT69mzJhRvfzyy1VVeQ7qMG/e\n",
              "vOrkk0+uGhsbqxNPPLEaPXp0VVUHP9aeh3duf8f9YL/7VeW495X169dXSapTTz21Gj9+fDV+/Phq\n",
              "ypQpVVVV1aZNm6pp06ZVY8aMqX75l3+5+td//dfu7zvYfRxaPpQQACiWl34AgGIJFQCgWEIFACiW\n",
              "UAEAiiVUAIBiCRUAoFhCBQAollABAIolVACAYgkVAKBY/weHM2qYbz97+QAAAABJRU5ErkJggg==\n",
              "\">\n",
              "      </div>\n",
              "      <script type=\"text/javascript\">\n",
              "        (() => {\n",
              "          const chartElement = document.getElementById(\"chart-6b0f4d54-f2bd-4aa7-a073-52d73738e2f0\");\n",
              "          async function getCodeForChartHandler(event) {\n",
              "            const chartCodeResponse =  await google.colab.kernel.invokeFunction(\n",
              "                'getCodeForChart', [\"chart-6b0f4d54-f2bd-4aa7-a073-52d73738e2f0\"], {});\n",
              "            const responseJson = chartCodeResponse.data['application/json'];\n",
              "            await google.colab.notebook.addCell(responseJson.code, 'code');\n",
              "          }\n",
              "          chartElement.onclick = getCodeForChartHandler;\n",
              "        })();\n",
              "      </script>\n",
              "      <style>\n",
              "        .colab-quickchart-chart-with-code  {\n",
              "            display: block;\n",
              "            float: left;\n",
              "            border: 1px solid transparent;\n",
              "        }\n",
              "\n",
              "        .colab-quickchart-chart-with-code:hover {\n",
              "            cursor: pointer;\n",
              "            border: 1px solid #aaa;\n",
              "        }\n",
              "      </style>"
            ]
          },
          "metadata": {}
        },
        {
          "output_type": "display_data",
          "data": {
            "text/plain": [
              "from matplotlib import pyplot as plt\n",
              "_df_1['Percent'].plot(kind='hist', bins=20, title='Percent')\n",
              "plt.gca().spines[['top', 'right',]].set_visible(False)"
            ],
            "text/html": [
              "      <div class=\"colab-quickchart-chart-with-code\" id=\"chart-72669bf8-ebcf-472b-b153-da4168630e2e\">\n",
              "        <img style=\"width: 180px;\" src=\"data:image/png;base64,iVBORw0KGgoAAAANSUhEUgAAAioAAAGrCAYAAADuNLxTAAAAOXRFWHRTb2Z0d2FyZQBNYXRwbG90\n",
              "bGliIHZlcnNpb24zLjcuMSwgaHR0cHM6Ly9tYXRwbG90bGliLm9yZy/bCgiHAAAACXBIWXMAAA9h\n",
              "AAAPYQGoP6dpAAAgF0lEQVR4nO3df1BVdf7H8dcVikwFVrRACUhRtBIQk2XECrexH34LXbRWWyet\n",
              "QKxc26Vdi3FMITdsp9zcGkf8MW5uDW0hFUOrTba4Q5tpZvbDxhITkUJpLQFLiR+f7x9O9+tdwK9X\n",
              "7oEP8HzMnBnuvYfD+3ym4tm9h3tdxhgjAAAAC/Xp6gEAAADaQ6gAAABrESoAAMBahAoAALAWoQIA\n",
              "AKxFqAAAAGsRKgAAwFqECgAAsBahAgAArEWoAAAAaxEqADokJSVFF198sfr376/AwEBdc8012rBh\n",
              "Q1eP1a5ly5Zp4sSJXT0GgPNEqADosEWLFunkyZP67rvv9Oijjyo9PV3bt2/3+jiNjY2+Hw5At0ao\n",
              "APAZPz8/zZ49WyEhIfrggw+0c+dOpaSkKCQkRJGRkVqyZImamprc+7tcLv35z3/WhAkT1K9fP23e\n",
              "vFlNTU1auXKlrrrqKg0YMEDh4eF68skn3d9zPsd89tlnlZycrP79+2vMmDF65513JEkvvviinnji\n",
              "Ce3YsUP9+/dX//79VVZW1nkLBMB7BgA64IYbbjCLFy82xhjT2NhoNm3aZFwul9m+fbvp16+fKSgo\n",
              "MI2NjaaiosLExsaa5cuXu79XkomJiTH79u0zLS0t5ocffjCLFy82w4cPNzt37jTNzc3m+PHj5t13\n",
              "3zXGGLN///7zOmZsbKw5cOCAaWxsNA899JCJiIhwP7506VKTnJzcSasDoKNcxhjT1bEEoPtKSUnR\n",
              "e++9p0suuUT+/v6KjIzUwoUL9cEHH+ibb75RQUGBe98XX3xRS5cuVXl5uaQzz36sWbNGmZmZkiRj\n",
              "jAIDA7Vx40bNmDGj1c9auHDheR3z+eef19133y1J2rdvn6655hodPXpUl19+uZYtW6Zt27a5n2UB\n",
              "YDf/rh4AQPf3+9//XsuXL/e476WXXlJpaamCg4Pd97W0tKilpcVjvyuvvNL99X/+8x+dPHlSMTEx\n",
              "bf6cAwcOnNcxhwwZ4v66X79+kqT6+npdfvnlXp0XgK7HNSoAHBEaGqq77rpLJ06ccG91dXU6efKk\n",
              "x359+vzff4YGDRqk/v3764svvujQMc/l7J8HwH78GwvAEQ888IAKCwv1yiuv6Mcff1Rzc7PKy8u1\n",
              "devWdr/H5XLpN7/5jbKzs7V7924ZY/Ttt99qx44dF3zM/xYaGqrKykqdPn26w+cIwHmECgBHjB8/\n",
              "Xm+99ZbWrVunoUOHKiQkRDNmzNDhw4fP+X25ublKT0/Xr3/9aw0YMECxsbHuv8y50GOe7Ve/+pVi\n",
              "YmI0ZMgQBQcHc60KYDkupgUAANbiGRUAAGAtQgUAAFiLUAEAANYiVAAAgLUIFQAAYC1CBQAAWItQ\n",
              "AQAA1uoRobJq1aquHgEAADigR4SKN+9KCQAAuo8eESoAAKBnIlQAAIC1CBUAAGAtQgUAAFiLUAEA\n",
              "ANYiVAAAgLUIFQAAYC1CBQAAWItQAQAA1iJUAACAtQgVAABgLUIFAABYy9FQuemmmxQbG6v4+Hhd\n",
              "d911+vDDD9vcb8OGDRoxYoSGDx+ujIwMNTY2OjkWAADoJhwNlZdfflkff/yx9u7dq6ysLM2dO7fV\n",
              "PocOHdKSJUtUVlam8vJyHTt2TGvXrnVyLAAA0E04GirBwcHur2tra+VyuVrtU1hYqNTUVIWGhsrl\n",
              "cmn+/PkqKCho95gNDQ2qq6vz2Jqbm50YHwAAdDF/p3/A3XffrdLSUknSP/7xj1aPV1ZWKjIy0n07\n",
              "KipKlZWV7R4vLy9POTk5HvclJSX5aFpPUY++4chxJalixf84dmwAAHoKxy+m3bRpk44cOaLly5fr\n",
              "kUce6fDxsrOzVVtb67ElJib6YFIAAGCbTvurnzlz5qi0tFTHjx/3uD8iIkKHDx92366oqFBERES7\n",
              "xwkICFBgYKDH5ufn59jcAACg6zgWKidOnNDXX3/tvv3aa68pJCREAwcO9Nhv+vTpKi4u1tGjR2WM\n",
              "0Zo1azRz5kynxgIAAN2IY9eo1NbW6o477tCpU6fUp08fDR48WCUlJXK5XEpPT1dqaqpSU1M1bNgw\n",
              "5eTkKDk5WZKUkpKizMxMp8YCAADdiMsYY7p6iI7KysrSypUrfX5cLqYFAKBr8c60AADAWoQKAACw\n",
              "FqECAACsRagAAABrESoAAMBahAoAALAWoQIAAKxFqAAAAGsRKgAAwFqECgAAsBahAgAArEWoAAAA\n",
              "axEqAADAWoQKAACwFqECAACsRagAAABrESoAAMBahAoAALAWoQIAAKxFqAAAAGsRKgAAwFqECgAA\n",
              "sBahAgAArEWoAAAAaxEqAADAWoQKAACwFqECAACsRagAAABrESoAAMBahAoAALAWoQIAAKxFqAAA\n",
              "AGsRKgAAwFqECgAAsBahAgAArEWoAAAAaxEqAADAWoQKAACwFqECAACsRagAAABrESoAAMBahAoA\n",
              "ALAWoQIAAKxFqAAAAGsRKgAAwFqECgAAsBahAgAArEWoAAAAaxEqAADAWoQKAACwlmOhcvr0aU2b\n",
              "Nk0jR45UXFycJk+erPLy8lb7VVRUyM/PT/Hx8e7t4MGDTo0FAAC6EX8nDz5v3jzdeuutcrlceu65\n",
              "55Senq7t27e32m/AgAHau3evk6MAAIBuyLFnVC655BJNmTJFLpdLkpSUlKSKiooOH7ehoUF1dXUe\n",
              "W3Nzc4ePCwAA7NNp16isWrVKU6dObfOx77//XuPHj1dCQoJyc3PPGR55eXkKCgry2Hbt2uXU2AAA\n",
              "oAt1Sqg88cQTKi8vV15eXqvHwsLC9NVXX+n999/Xtm3bVFZWpqeffrrdY2VnZ6u2ttZjS0xMdHJ8\n",
              "AADQRRwPlaeeekpFRUXasmWLLr300laPBwQE6LLLLpMkDRw4UPfee6/KysraPV5AQIACAwM9Nj8/\n",
              "P8fmBwAAXcfRUFm5cqUKCgr01ltvKTg4uM19ampq1NjYKOnM9SdFRUUaO3ask2MBAIBuwrFQqaqq\n",
              "0sMPP6wTJ05o0qRJio+P189//nNJ0mOPPaY1a9ZIkt555x2NHTtWcXFxSkhIUGhoqBYvXuzUWAAA\n",
              "oBtx7M+Tw8PDZYxp87Hc3Fz312lpaUpLS3NqDAAA0I3xzrQAAMBahAoAALAWoQIAAKxFqAAAAGsR\n",
              "KgAAwFqECgAAsBahAgAArEWoAAAAaxEqAADAWoQKAACwFqECAACsRagAAABrESoAAMBahAoAALAW\n",
              "oQIAAKxFqAAAAGsRKgAAwFqECgAAsBahAgAArEWoAAAAaxEqAADAWoQKAACwFqECAACsRagAAABr\n",
              "ESoAAMBahAoAALAWoQIAAKxFqAAAAGsRKgAAwFqECgAAsBahAgAArEWoAAAAaxEqAADAWoQKAACw\n",
              "FqECAACsRagAAABrESoAAMBahAoAALAWoQIAAKxFqAAAAGsRKgAAwFqECgAAsBahAgAArEWoAAAA\n",
              "axEqAADAWoQKAACwFqECAACsRagAAABrESoAAMBajoXK6dOnNW3aNI0cOVJxcXGaPHmyysvL29y3\n",
              "pKREo0aN0ogRI5SWlqa6ujqnxgIAAN2Io8+ozJs3T59//rk++ugjTZ06Venp6a32OXnypO677z69\n",
              "9tprOnDggIYMGaLHH3/cybEAAEA34VioXHLJJZoyZYpcLpckKSkpSRUVFa3227Jli8aOHatRo0ZJ\n",
              "kh544AEVFBQ4NRYAAOhG/DvrB61atUpTp05tdX9lZaUiIyPdt6OiolRdXa2mpib5+7cer6GhQQ0N\n",
              "DR73NTc3+35gAADQ5TrlYtonnnhC5eXlysvL6/Cx8vLyFBQU5LHt2rXLB1MCAADbOB4qTz31lIqK\n",
              "irRlyxZdeumlrR6PiIjQ4cOH3bcrKioUFhbW5rMpkpSdna3a2lqPLTEx0bH5AQBA13E0VFauXKmC\n",
              "ggK99dZbCg4ObnOfW265RXv27NH+/fslSatXr9bMmTPbPWZAQIACAwM9Nj8/PyfGBwAAXcyxa1Sq\n",
              "qqr08MMPa9iwYZo0aZKkM5Gxc+dOPfbYYxoyZIjmz5+vAQMGaP369Zo2bZqampp0zTXX6Pnnn3dq\n",
              "LAAA0I04Firh4eEyxrT5WG5ursft1NRUpaamOjUKAADopnhnWgAAYC1CBQAAWItQAQAA1iJUAACA\n",
              "tQgVAABgLUIFAABYi1ABAADWIlQAAIC1CBUAAGAtQgUAAFiLUAEAANYiVAAAgLUIFQAAYC1CBQAA\n",
              "WItQAQAA1iJUAACAtQgVAABgLUIFAABYi1ABAADW8jpU3nzzTSfmAAAAaMXrUMnNzVVMTIxWrVql\n",
              "uro6J2YCAACQdAGh8u9//1svvfSSPv30U40cOVIPPPCAPvvsMydmAwAAvdwFXaMyduxYrVu3Tlu3\n",
              "blVJSYliY2M1efJkffLJJ76eDwAA9GIXFCrbtm3T1KlTlZaWpgcffFBHjx5VZmamfvnLX/p6PgAA\n",
              "0Iv5e/sNo0eP1qBBg7Rw4UKlpaXJz89PkjRjxgxt2LDB5wMCAIDey+tQeeGFFzRu3Lg2H9uyZUuH\n",
              "BwIAAPiJ1y/9fPDBB/r222/dt48fP65169b5dCgAAADpAkJl9erVGjhwoPt2SEiIVq9e7dOhAAAA\n",
              "pAsIFWNMq/uam5t9MgwAAMDZvA6VsLAwvfzyy+7bf//73xUWFubToQAAAKQLuJj2mWee0dSpU7Vo\n",
              "0SJJ0qWXXqrXX3/d54MBAAB4HSqjRo3SZ599ps8//1ySFBMT4/4TZQAAAF/yOlQkyeVyKTg4WE1N\n",
              "Tfrqq68kSRERET4dDAAAwOtQ+etf/6qFCxfqoosuUp8+Zy5xcblcqqmp8flwAACgd/M6VB5//HG9\n",
              "//77iomJcWIeAAAAN6//6mfQoEFECgAA6BReh8q0adP0zDPPqKamRnV1de4NAADA17x+6Wfx4sWS\n",
              "pKysLLlcLhlj5HK5eNM3AADgc16HSktLixNzAAAAtOL1Sz/SmQ8m/Nvf/iZJOnHihKqrq306FAAA\n",
              "gHSBH0p47733atmyZZLOfHryXXfd5eu5AAAAvA+VtWvX6r333lNgYKAkafjw4frmm298PhgAAIDX\n",
              "oRIQEKC+fft63Ofvf0FvcAsAAHBOXofK4MGD9cUXX8jlckk68061vH0+AABwwgV9evKsWbO0f/9+\n",
              "XXHFFQoMDFRJSYkTswEAgF7O61CJjo7Wzp079fnnn8sYw6cnAwAAx3gdKpWVlZKkfv36SRKfngwA\n",
              "ABzjdaiMGzfO/Y60p0+f1g8//KCQkBA+PRkAAPic16Hy33+KXFRUpI8++shnAwEAAPzkgt6Z9mxp\n",
              "aWl64403fDELAACAB69D5exPTP7uu++0devWdj89eeHChYqKipLL5dLevXvb3Gf79u3q27ev4uPj\n",
              "3dupU6e8HQsAAPRAXr/0Exwc7L5Gxc/PTyNGjNBf/vKXNvedMWOGFi1apIkTJ57zmDExMe2GDAAA\n",
              "6L0c/fTk66+/3tvD/78aGhrU0NDgcV9zc7PPfw4AAOh6Hb5GxRcOHjyohIQEjR8/XqtXrz7nvnl5\n",
              "eQoKCvLYdu3a1UmTAgCAzuR1qPTp00d+fn6ttp/u91ZCQoKqqqq0Z88evfrqq1qzZo1efvnldvfP\n",
              "zs5WbW2tx5aYmOj1zwUAAPbz+qWf3NxcnTp1Svfff78kac2aNerbt69++9vfXtAAP30KsySFh4dr\n",
              "1qxZKisr05133tnm/gEBAQoICPC4j3fGBQCgZ/L6GZVXX31Vf/zjHxUeHq7w8HAtX75cRUVF6tev\n",
              "n/vdar1RXV3tvu6lvr5eJSUlGjt2rNfHAQAAPY/XoVJfX+/xLrQ1NTWqr69vc9/MzEyFh4erqqpK\n",
              "N998s6KjoyVJ6enpKi4uliRt3rxZY8aMUVxcnJKSkjR58mTdc889F3IuAACgh/H6pZ+HH35YcXFx\n",
              "mjJliiRp69atWrZsWZv75ufnt3n/+vXr3V8vWLBACxYs8HYMAADQC3gdKpmZmUpOTlZpaakkKSsr\n",
              "S1dffbXPBwMAAPA6VCQpJCREY8aMUUpKipqamvTjjz/q4osv9vVsAACgl/P6GpXCwkIlJSW5ryPZ\n",
              "t2+fpk2b5uu5AAAAvA+VvLw87dmzR8HBwZKkuLg4HT582NdzAQAAeB8qfn5+CgkJ8biPl30AAIAT\n",
              "vA6VAQMG6NixY3K5XJKkt99+WwMHDvT5YAAAAF5fTPvkk0/q1ltv1ZdffqmJEyfq0KFDeuONN5yY\n",
              "DQAA9HJehUpLS4uam5tVWlqqd999V8YYTZgwwX29CgAAgC95FSp9+vTRvHnz9NFHH+nWW291aiYA\n",
              "AABJF3CNyogRI1ReXu7ELAAAAB68vkbl22+/VXx8vCZMmKD+/fu77y8qKvLpYAAAAOcdKvPmzdPa\n",
              "tWs1Z84cpaam6mc/+5mTcwEAAJx/qOzevVuSNGfOHCUkJGjPnj2ODQUAACBdwDUqkmSM8fUcAAAA\n",
              "rZz3MyqnTp3SJ598ImOMTp8+7f76J7GxsY4MCAAAei+vQiU1NdV9++yvXS6XvvzyS99OBgAAer3z\n",
              "DpWKigoHxwAAAGjtgq5RAQAA6AyECgAAsBahAgAArEWoAAAAaxEqAADAWoQKAACwFqECAACsRagA\n",
              "AABrESoAAMBahAoAALAWoQIAAKxFqAAAAGsRKgAAwFqECgAAsBahAgAArEWoAAAAaxEqAADAWoQK\n",
              "AACwFqECAACsRagAAABrESoAAMBahAoAALAWoQIAAKxFqAAAAGsRKgAAwFqECgAAsBahAgAArEWo\n",
              "AAAAaxEqAADAWoQKAACwFqECAACsRagAAABrESoAAMBajobKwoULFRUVJZfLpb1797a734YNGzRi\n",
              "xAgNHz5cGRkZamxsdHIsAADQTTgaKjNmzNA777yjyMjIdvc5dOiQlixZorKyMpWXl+vYsWNau3at\n",
              "k2MBAIBuwtFQuf766xUeHn7OfQoLC5WamqrQ0FC5XC7Nnz9fBQUF7e7f0NCguro6j625udnXowMA\n",
              "AAv4d/UAlZWVHs+4REVFqbKyst398/LylJOT43FfUlKSY/MBANAdRD36hiPHrVjxP44c93x1u4tp\n",
              "s7OzVVtb67ElJiZ29VgAAMABXf6MSkREhA4ePOi+XVFRoYiIiHb3DwgIUEBAgMd9fn5+js0HAAC6\n",
              "Tpc/ozJ9+nQVFxfr6NGjMsZozZo1mjlzZlePBQAALOBoqGRmZio8PFxVVVW6+eabFR0dLUlKT09X\n",
              "cXGxJGnYsGHKyclRcnKyoqOjNXjwYGVmZjo5FgAA6CYcfeknPz+/zfvXr1/vcTsjI0MZGRlOjgIA\n",
              "ALqhLn/pBwAAoD2ECgAAsBahAgAArEWoAAAAaxEqAADAWoQKAACwFqECAACsRagAAABrESoAAMBa\n",
              "hAoAALAWoQIAAKxFqAAAAGsRKgAAwFqECgAAsBahAgAArEWoAAAAaxEqAADAWoQKAACwFqECAACs\n",
              "RagAAABrESoAAMBahAoAALAWoQIAAKxFqAAAAGsRKgAAwFqECgAAsBahAgAArEWoAAAAaxEqAADA\n",
              "WoQKAACwFqECAACsRagAAABrESoAAMBahAoAALAWoQIAAKxFqAAAAGsRKgAAwFqECgAAsBahAgAA\n",
              "rEWoAAAAaxEqAADAWoQKAACwFqECAACsRagAAABrESoAAMBahAoAALAWoQIAAKxFqAAAAGsRKgAA\n",
              "wFqOhsqBAwc0YcIEjRw5UuPHj9e+ffta7bN9+3b17dtX8fHx7u3UqVNOjgUAALoJfycPnpmZqXnz\n",
              "5mnu3LkqLCzU3Llz9f7777faLyYmRnv37nVyFAAA0A059oxKTU2Ndu/erdmzZ0uSpk+friNHjqi8\n",
              "vNypHwkAAHoYx0LlyJEjCgsLk7//mSdtXC6XIiIiVFlZ2WrfgwcPKiEhQePHj9fq1avPedyGhgbV\n",
              "1dV5bM3NzY6cAwAA6FqOvvRzPhISElRVVaWgoCBVVVVpypQpGjRokO68884298/Ly1NOTo7HfUlJ\n",
              "SZ0xKgAA6GSOPaNyxRVXqLq6Wk1NTZIkY4wqKysVERHhsV9gYKCCgoIkSeHh4Zo1a5bKysraPW52\n",
              "drZqa2s9tsTERKdOAwAAdCHHQuWyyy5TQkKCXnjhBUnS5s2bFR4erujoaI/9qqur1dLSIkmqr69X\n",
              "SUmJxo4d2+5xAwICFBgY6LH5+fk5dRoAAKALOfrnyfn5+crPz9fIkSO1YsUKbdy4UZKUnp6u4uJi\n",
              "SWcCZsyYMYqLi1NSUpImT56se+65x8mxAABAN+HoNSoxMTHasWNHq/vXr1/v/nrBggVasGCBk2MA\n",
              "AIBuinemBQAA1iJUAACAtQgVAABgLUIFAABYi1ABAADWIlQAAIC1CBUAAGAtQgUAAFiLUAEAANYi\n",
              "VAAAgLUIFQAAYC1CBQAAWItQAQAA1iJUAACAtQgVAABgLUIFAABYi1ABAADWIlQAAIC1CBUAAGAt\n",
              "QgUAAFiLUAEAANYiVAAAgLUIFQAAYC1CBQAAWItQAQAA1iJUAACAtQgVAABgLUIFAABYi1ABAADW\n",
              "IlQAAIC1CBUAAGAtQgUAAFiLUAEAANYiVAAAgLUIFQAAYC1CBQAAWItQAQAA1iJUAACAtQgVAABg\n",
              "LUIFAABYi1ABAADWIlQAAIC1CBUAAGAtQgUAAFiLUAEAANYiVAAAgLUIFQAAYC1CBQAAWItQAQAA\n",
              "1iJUAACAtRwNlQMHDmjChAkaOXKkxo8fr3379rW534YNGzRixAgNHz5cGRkZamxsdHIsAADQTTga\n",
              "KpmZmZo3b56++OILPfLII5o7d26rfQ4dOqQlS5aorKxM5eXlOnbsmNauXevkWAAAoJtwLFRqamq0\n",
              "e/duzZ49W5I0ffp0HTlyROXl5R77FRYWKjU1VaGhoXK5XJo/f74KCgraPW5DQ4Pq6uo8tubmZqdO\n",
              "AwAAdCF/pw585MgRhYWFyd//zI9wuVyKiIhQZWWloqOj3ftVVlYqMjLSfTsqKkqVlZXtHjcvL085\n",
              "OTke940aNUpZWVk+nb+5uVlhu3YpMTFRfn5+Pj22JGVlve3zY3YXzc3N2uXg2vZmrK1zWFvnsLa+\n",
              "kdbGfb5YWyd/X0VGRuqhhx465z6OhYpTsrOzW0VJQECAAgICfPpz6urqFBQUpDfffFOBgYE+PXZv\n",
              "x9o6h7V1DmvrHNbWOT1hbR0LlSuuuELV1dVqamqSv7+/jDGqrKxURESEx34RERE6ePCg+3ZFRUWr\n",
              "fc7mRJQAAAA7OXaNymWXXaaEhAS98MILkqTNmzcrPDzc42Uf6cy1K8XFxTp69KiMMVqzZo1mzpzp\n",
              "1FgAAKAbcfSvfvLz85Wfn6+RI0dqxYoV2rhxoyQpPT1dxcXFkqRhw4YpJydHycnJio6O1uDBg5WZ\n",
              "menkWAAAoJtw9BqVmJgY7dixo9X969ev97idkZGhjIwMJ0fxWkBAgJYuXcrLTA5gbZ3D2jqHtXUO\n",
              "a+ucnrC2LmOM6eohAAAA2sJb6AMAAGsRKgAAwFqECgAAsBahAgAArNUrQsUXn+J8oY/1dE6u7T//\n",
              "+U8lJibqqquu0tVXX61FixappaWlU87LBk7/cytJxhj94he/UHBwsJOnYh2n1/aTTz5RSkqKRo8e\n",
              "rdGjR6uoqMjxc7KFk2vb0tKirKwsXXXVVYqNjdWkSZNafX5cT9bRta2oqFBKSoqCgoIUHx9/3t/X\n",
              "5UwvMGnSJLNx40ZjjDGvvPKKufbaa1vt8+WXX5qwsDBTXV1tWlpazO23326ee+65Dj3WGzi5tnv2\n",
              "7DEHDx40xhhz6tQpk5yc7P5ZvYGTa/uTp59+2qSnp5ugoCCnT8cqTq7t999/b6688kpTVlZmjDGm\n",
              "qanJ1NTUdM6JWcDJtX311VdNYmKi+fHHH40xxjz++OPmjjvu6JwTs0BH1/b48eOmrKzMlJSUmLi4\n",
              "uPP+vq7W40Pl2LFjZsCAAaaxsdEYY0xLS4u5/PLLzYEDBzz2+9Of/mQyMzPdt9944w2TnJzcocd6\n",
              "OqfX9r89+OCDZunSpT4+Czt1xtp++umn5rrrrjPl5eW9KlScXtt169aZWbNmOX0aVnJ6bV977TUT\n",
              "Fxdn6urqTEtLi/nDH/5gfve73zl9Wlbwxdr+pLS0tFWo2Py7rMe/9HOuT3E+27k+xflCH+vpnF7b\n",
              "sx09elSFhYW67bbbnDgV6zi9to2NjcrIyFB+fn6v+7Rap9f2s88+U0BAgG677TbFx8fr7rvv1jff\n",
              "fOP0aVnB6bW9/fbblZKSotDQUIWFhentt99Wbm6u06dlBV+s7bnY/Lusx4cKur+6ujrdfvvtWrRo\n",
              "ka699tquHqdHyMnJUVpamkaPHt3Vo/Q4TU1N2rZtm/Lz8/Xhhx9q6NChuv/++7t6rB5h9+7d+vTT\n",
              "T/XVV1/p66+/1o033qj58+d39VhwWI8PlbM/xVnSOT/F+fDhw+7bZ3+K84U+1tM5vbaSVF9fr1tu\n",
              "uUVTp05VVlaWk6djFafX9l//+peeffZZRUVFaeLEiaqrq1NUVFSv+D//zvhvwqRJkzR06FC5XC7N\n",
              "nj1b7733ntOnZQWn13bTpk3ui7/79OmjOXPmqLS01OnTsoIv1vZcrP5d1pWvO3WWG264weMCpHHj\n",
              "xrXa5+DBg60uJHr22Wc79Fhv4OTa1tfXmwkTJpicnJxOOx+bOLm2Zzt06FCvukbFGGfX9vDhw2bU\n",
              "qFGmtrbWGHPmtf8pU6Z0zolZwMm1ffrpp82NN95oGhoajDHGrFixwtx0002dc2IW6Oja/qSta1Rs\n",
              "/l3WK0Jl//79JikpyYwYMcKMGzfOfPzxx8YYY+677z7z+uuvu/dbu3atGTZsmBk2bJi599573VeW\n",
              "d+Sxns7JtV2+fLnx9/c3cXFx7m358uWde4JdyOl/bn/SG0PF6bXdtGmTufrqq82YMWPMLbfcYior\n",
              "Kzvv5LqYk2t7+vRpk56ebkaNGmXGjBljJk+e7P7LwN6go2v7/fffm6FDh5pBgwaZiy66yAwdOtQ8\n",
              "+uij/+/3dTU+lBAAAFirx1+jAgAAui9CBQAAWItQAQAA1iJUAACAtQgVAABgLUIFAABYi1ABAADW\n",
              "IlQAAIC1CBUAAGAtQgUAAFjrfwHkIgKjWgCHFwAAAABJRU5ErkJggg==\n",
              "\">\n",
              "      </div>\n",
              "      <script type=\"text/javascript\">\n",
              "        (() => {\n",
              "          const chartElement = document.getElementById(\"chart-72669bf8-ebcf-472b-b153-da4168630e2e\");\n",
              "          async function getCodeForChartHandler(event) {\n",
              "            const chartCodeResponse =  await google.colab.kernel.invokeFunction(\n",
              "                'getCodeForChart', [\"chart-72669bf8-ebcf-472b-b153-da4168630e2e\"], {});\n",
              "            const responseJson = chartCodeResponse.data['application/json'];\n",
              "            await google.colab.notebook.addCell(responseJson.code, 'code');\n",
              "          }\n",
              "          chartElement.onclick = getCodeForChartHandler;\n",
              "        })();\n",
              "      </script>\n",
              "      <style>\n",
              "        .colab-quickchart-chart-with-code  {\n",
              "            display: block;\n",
              "            float: left;\n",
              "            border: 1px solid transparent;\n",
              "        }\n",
              "\n",
              "        .colab-quickchart-chart-with-code:hover {\n",
              "            cursor: pointer;\n",
              "            border: 1px solid #aaa;\n",
              "        }\n",
              "      </style>"
            ]
          },
          "metadata": {}
        },
        {
          "output_type": "display_data",
          "data": {
            "text/plain": [
              "<google.colab._quickchart_helpers.SectionTitle at 0x7f1bbf8ca1d0>"
            ],
            "text/html": [
              "<h4 class=\"colab-quickchart-section-title\">2-d distributions</h4>\n",
              "<style>\n",
              "  .colab-quickchart-section-title {\n",
              "      clear: both;\n",
              "  }\n",
              "</style>"
            ]
          },
          "metadata": {}
        },
        {
          "output_type": "display_data",
          "data": {
            "text/plain": [
              "from matplotlib import pyplot as plt\n",
              "_df_2.plot(kind='scatter', x='Total', y='Percent', s=32, alpha=.8)\n",
              "plt.gca().spines[['top', 'right',]].set_visible(False)"
            ],
            "text/html": [
              "      <div class=\"colab-quickchart-chart-with-code\" id=\"chart-2d262ec9-5e9d-4e5b-ac6d-6a8f335f70ca\">\n",
              "        <img style=\"width: 180px;\" src=\"data:image/png;base64,iVBORw0KGgoAAAANSUhEUgAAAjgAAAGkCAYAAAA8OV9TAAAAOXRFWHRTb2Z0d2FyZQBNYXRwbG90\n",
              "bGliIHZlcnNpb24zLjcuMSwgaHR0cHM6Ly9tYXRwbG90bGliLm9yZy/bCgiHAAAACXBIWXMAAA9h\n",
              "AAAPYQGoP6dpAAAgX0lEQVR4nO3df0xd9eH/8dftvfVWrdCtwugXemH8aqyVUias0jpbq5NPpmgk\n",
              "ajP5KstKQdf9CJ/ErsbOsKjUbMM4vzFQ0y+L8i0ua5uOTLdE00bpNkWcXS1qyq3c3pvKj85MaG25\n",
              "5V7O949+ere7FijlHi68eT6SG733/ebyPueS5plzzr3XYVmWJQAAAIPMifcCAAAAYo3AAQAAxiFw\n",
              "AACAcQgcAABgHAIHAAAYh8ABAADGIXAAAIBxCBwAAGCcWR04zz//fLyXAAAAbDCrA+fYsWPxXgIA\n",
              "ALDBrA4cAABgJgIHAAAYh8ABAADGIXAAAIBxCBwAAGAcAgcAABiHwAEAAMYhcAAAgHEIHAAAYBwC\n",
              "BwAAGIfAAQAAMTU0HNY/TgU1NByO2xpccfvNAADAKCdOBtX8jk9/OtynM8NhXTnXqf9alqLym9J1\n",
              "7Xz3lK6FIzgAAGDSTpwM6octH+j/vevXl8GQXHMc+jIYUvO7x7Rp5wf6x6nglK6HwAEAAJPW/I5P\n",
              "3v6TSprv1leuvkJXu136ytVXKGm+W97+k2r+67EpXQ+BAwAAJmVoOKw/He7TPJdTLmd0Wricc+R2\n",
              "OfXHzt4pvSaHwAEAAJNyKhjSmeGwrnBdPCvcrjk6czasU8HQlK2JwAEAAJMy3+3SlXOdOhsaueh4\n",
              "MDSiK69war576t7bROAAAIBJmTfXqZJlX9NQKKxQODpyQuERBUNh/df1KZo31zlla+Jt4gAAYNL+\n",
              "900Zerf7n/L2n5Tb5ZTbNUfB0Lm4yUm+RuU3pU/pejiCAwAAJu3a+W79n++uUPk30zV/nkuhEUvz\n",
              "57lU/s10vfDdFVP+OTgcwQEAADFx7Xy3fnJ7rqrXZOlUMKT5bteUnpb6dwQOAACIqXlznXELm/M4\n",
              "RQUAAIxD4AAAAOPYGjhdXV0qLi5Wbm6uCgsL1dnZedF5O3bsUE5OjrKyslRZWanh4WFJks/n05o1\n",
              "a5SYmKj8/PxL/jkAADC72Ro4VVVV2rhxo44cOaLNmzeroqLigjnd3d3aunWr2tra5PV61dfXp+3b\n",
              "t0uSEhIS9NRTT2nnzp0T+jkAADC72RY4/f396ujoUHl5uSSprKxMgUBAXq83at6uXbtUWlqqlJQU\n",
              "ORwOVVdXq6WlRZL01a9+VatXr9bVV199wfOP9XMAAGB2s+1dVIFAQIsWLZLLde5XOBwOeTwe+f1+\n",
              "ZWdnR+b5/X6lp//rw38yMjLk9/vHff6J/lwwGFQwGP1V7eHw1H3pFwAAmDqz5iLjuro6JSYmRt3a\n",
              "29vjvSwAAGAD2wJn8eLF6unpUSh07ptDLcuS3++Xx+OJmufxeHTs2LHIfZ/Pd8Gci5noz23ZskUD\n",
              "AwNRt6KiooluFgAAmAFsC5zk5GQVFBSoublZkrR7926lpaVFnZ6Szl2b09raqt7eXlmWpYaGBq1f\n",
              "v37c55/oz7ndbiUkJETdnM74fggRAACwh62nqBobG9XY2Kjc3Fxt27ZNTU1NkqQNGzaotbVVkpSZ\n",
              "mana2lqtWrVK2dnZSkpKUlVVlSTp9OnTSktL03333aePPvpIaWlp2rJly7g/BwAAZjeHZVlWvBcR\n",
              "LzU1Naqvr4/3MgAAQIzNmouMAQDA7EHgAAAA4xA4AADAOAQOAAAwDoEDAACMQ+AAAADjEDgAAMA4\n",
              "BA4AADAOgQMAAIxD4AAAAOMQOAAAwDgEDgAAMA6BAwAAjEPgAAAA4xA4AADAOAQOAAAwDoEDAACM\n",
              "Q+AAAADjEDgAAMA4BA4AADAOgQMAAIxD4AAAAOMQOAAAwDgEDgAAMA6BAwAAjEPgAAAA4xA4AADA\n",
              "OAQOAAAwDoEDAACMQ+AAAADjEDgAAMA4BA4AADAOgQMAAIxD4AAAAOMQOAAAwDgEDgAAMA6BAwAA\n",
              "jEPgAAAA4xA4AADAOAQOAAAwDoEDAACMQ+AAAADjEDgAAMA4BA4AADAOgQMAAIxD4AAAAOMQOAAA\n",
              "wDgEDgAAMA6BAwAAjEPgAAAA4xA4AADAOAQOAAAwDoEDAACMQ+AAAADjEDgAAMA4BA4AADCOrYHT\n",
              "1dWl4uJi5ebmqrCwUJ2dnRedt2PHDuXk5CgrK0uVlZUaHh4ed2xkZEQ1NTVaunSp8vLytHbtWnm9\n",
              "Xjs3BwAAzBC2Bk5VVZU2btyoI0eOaPPmzaqoqLhgTnd3t7Zu3aq2tjZ5vV719fVp+/bt4461trbq\n",
              "z3/+s/7+97/r0KFDWrdunR5//HE7NwcAAMwQtgVOf3+/Ojo6VF5eLkkqKytTIBC44CjLrl27VFpa\n",
              "qpSUFDkcDlVXV6ulpWXcMYfDoWAwqKGhIVmWpcHBQaWlpY26nmAwqMHBwahbOBy2aesBAEA8uex6\n",
              "4kAgoEWLFsnlOvcrHA6HPB6P/H6/srOzI/P8fr/S09Mj9zMyMuT3+8cdu+uuu7R//36lpKTommuu\n",
              "UWpqqt56661R11NXV6fa2tqox1auXDn5DQUAANPOjL3IuKOjQ4cPH9bx48f12Wefad26daqurh51\n",
              "/pYtWzQwMBB1KyoqmsIVAwCAqWLbEZzFixerp6dHoVBILpdLlmXJ7/fL4/FEzfN4PDp69Gjkvs/n\n",
              "i8wZa+zll1/WrbfeqgULFkiSHn74YX37298edT1ut1tutzvqMafTOaltBAAA05NtR3CSk5NVUFCg\n",
              "5uZmSdLu3buVlpYWdXpKOndtTmtrq3p7e2VZlhoaGrR+/fpxxzIzM7Vv3z6dPXtWkvSHP/xBy5Yt\n",
              "s2tzAADADGLbERxJamxsVEVFhZ555hklJCSoqalJkrRhwwaVlpaqtLRUmZmZqq2t1apVqyRJa9as\n",
              "UVVVlSSNOfaDH/xAH3/8sZYvX665c+cqJSVFDQ0Ndm4OAACYIRyWZVnxXkS81NTUqL6+Pt7LAAAA\n",
              "MTZjLzIGAAAYDYEDAACMQ+AAAADjEDgAAMA4BA4AADAOgQMAAIxD4AAAAOMQOAAAwDgEDgAAMA6B\n",
              "AwAAjEPgAAAA4xA4AADAOAQOAAAwDoEDAACMQ+AAAADjEDgAAMA4BA4AADAOgQMAAIxD4AAAAOMQ\n",
              "OAAAwDgEDgAAMA6BAwAAjEPgAAAA4xA4AADAOAQOAAAwDoEDAACMQ+AAAADjEDgAAMA4BA4AADAO\n",
              "gQMAAIxD4AAAAOMQOAAAwDgEDgAAMA6BAwAAjEPgAAAA4xA4AADAOAQOAAAwDoEDAACMQ+AAAADj\n",
              "EDgAAMA4BA4AADAOgQMAAIxD4AAAAOMQOAAAwDgEDgAAMA6BAwAAjEPgAAAA4xA4AADAOAQOAAAw\n",
              "DoEDAACMQ+AAAADjEDgAAMA4BA4AADAOgQMAAIxD4AAAAOMQOAAAwDi2Bk5XV5eKi4uVm5urwsJC\n",
              "dXZ2XnTejh07lJOTo6ysLFVWVmp4ePiSxj788EOtWbNG1113na677jrt2bPHzs0BAAAzhK2BU1VV\n",
              "pY0bN+rIkSPavHmzKioqLpjT3d2trVu3qq2tTV6vV319fdq+ffu4Y6dPn9bdd9+tp556Sh9//LEO\n",
              "Hz6sm2++2c7NAQAAM4RtgdPf36+Ojg6Vl5dLksrKyhQIBOT1eqPm7dq1S6WlpUpJSZHD4VB1dbVa\n",
              "WlrGHdu5c6dWrlyp1atXS5KcTqeSkpJGXU8wGNTg4GDULRwO27HpAAAgzmwLnEAgoEWLFsnlckmS\n",
              "HA6HPB6P/H5/1Dy/36/09PTI/YyMjMicscY++ugjud1u3XnnncrPz9dDDz2kEydOjLqeuro6JSYm\n",
              "Rt3a29tjtr0AAGD6mLEXGYdCIb355ptqbGzUBx98oNTUVD3yyCOjzt+yZYsGBgaibkVFRVO4YgAA\n",
              "MFVcdj3x4sWL1dPTo1AoJJfLJcuy5Pf75fF4ouZ5PB4dPXo0ct/n80XmjDe2du1apaamSpLKy8t1\n",
              "xx13jLoet9stt9sd9ZjT6ZzcRgIAgGnJtiM4ycnJKigoUHNzsyRp9+7dSktLU3Z2dtS8srIytba2\n",
              "qre3V5ZlqaGhQevXrx937P7779d7772nwcFBSdLrr7+u5cuX27U5AABgBrHtCI4kNTY2qqKiQs88\n",
              "84wSEhLU1NQkSdqwYYNKS0tVWlqqzMxM1dbWatWqVZKkNWvWqKqqSpLGHPN4PHr88cdVXFysOXPm\n",
              "KDU1NfIOKwAAMLs5LMuy4r2IeKmpqVF9fX28lwEAAGJsxl5kDAAAMBoCBwAAGIfAAQAAxplw4Nxz\n",
              "zz2X9BgAAEC8TDhw/vOTiCXp008/jcliAAAAYuGS3ybe2NiohoYGHTlyRAUFBZHHBwYGdP3119uy\n",
              "OAAAgMtxyYFTUlKiJUuW6JFHHtFzzz0XeTwhIUF5eXm2LA4AAOByXHLgpKenKz09XR9//LGd6wEA\n",
              "AJi0CX+Ssc/n07PPPqujR48qFApFHt+3b19MFwYAAHC5Jhw4999/v9atW6dNmzbxZZUAAGBamnDg\n",
              "DA0Nqa6uzo61AAAAxMSE3ya+bNmyi75VHAAAYLqY8BGcEydOaPny5brppps0b968yON79uyJ6cIA\n",
              "AAAu14QDp7y8XOXl5XasBQAAICYmHDgPP/ywJCkYDMrtdsd8QQAAAJM14WtwPvzwQy1btkxZWVmS\n",
              "pPfff1+PPfZYzBcGAABwuSYcOD/84Q/V0NCgpKQkSVJBQYFee+21mC8MAADgck04cE6dOqXVq1dH\n",
              "7jscDl1xxRUxXRQAAMBkTDhwXC6XhoeH5XA4JEmBQIAP/AMAANPKhANn06ZNuueee3TixAk98cQT\n",
              "uvnmm7kGBwAATCuX9TbxzMxM/f73v9fZs2fV3NwcdcoKAAAg3i7rqxpuuukmFRcXS5JGRkY0NDQU\n",
              "9aF/AAAA8TThU1S33nqrBgcHI/dPnjyp2267LaaLAgAAmIwJB87p06eVmJgYuZ+YmKhTp07FdFEA\n",
              "AACTMeHAGRkZiQqawcFBhUKhmC4KAABgMiZ8Dc6DDz6o2267TdXV1ZKkhoaGyNc3AAAATAcTDpzN\n",
              "mzcrJSUl8unFmzZt4ss3AQDAtDKhwAmHw7rjjjv05ptvctQGAABMWxO6BsfpdOr06dMaGRmxaz0A\n",
              "AACTNuFTVIWFhbrzzjtVXl6u+fPnRx4vLS2N6cIAAAAu14QD59ChQ5Kkl156KfKYw+EgcAAAwLQx\n",
              "4cDZv3+/HesAAACImQl/Dk4oFNKvfvUrPfroo5Kko0ePat++fTFfGAAAwOWa8BGcTZs2KRwO68CB\n",
              "A5KkhQsX6oEHHlBHR0fMFwcAAHA5Jhw477zzjg4ePKgVK1ZIkhYsWKDh4eGYLwwAAOByTfgU1X9+\n",
              "a3g4HOZt4wAAYFqZcODk5eWpublZIyMj8nq9qq6u1po1a2xYGgAAwOWZUOAcPnxY3/rWt9TU1KTe\n",
              "3l6tWrVKc+bM0bPPPmvX+gAAACbskq/BefHFF/X4449ryZIl+uSTT9TU1KR7773XzrUBAABclks+\n",
              "gvPiiy/q0KFDevfdd3XgwAHV19fbuS4AAIDLdsmBM3fuXHk8HknSDTfcoC+//NK2RQEAAEzGJZ+i\n",
              "Ghoa0ocffijLsi56Py8vz54VAgAATNAlB86ZM2cu+L6p8/cdDoc+/fTT2K4MAADgMl1y4Ph8PhuX\n",
              "AQAAEDsT/hwcAACA6Y7AAQAAxiFwAACAcQgcAABgHAIHAAAYh8ABAADGIXAAAIBxCBwAAGAcAgcA\n",
              "ABiHwAEAAMYhcAAAgHFsDZyuri4VFxcrNzdXhYWF6uzsvOi8HTt2KCcnR1lZWaqsrNTw8PAljUmS\n",
              "ZVm69dZbtWDBAjs3BQAAzCC2Bk5VVZU2btyoI0eOaPPmzaqoqLhgTnd3t7Zu3aq2tjZ5vV719fVp\n",
              "+/bt446d99xzzykrK8vOzQAAADOMbYHT39+vjo4OlZeXS5LKysoUCATk9Xqj5u3atUulpaVKSUmR\n",
              "w+FQdXW1Wlpaxh2TpM7OTu3du1c//elP7doMAAAwA7nseuJAIKBFixbJ5Tr3KxwOhzwej/x+v7Kz\n",
              "syPz/H6/0tPTI/czMjLk9/vHHRseHlZlZaV27Nghp9M57nqCwaCCwWDUY+Fw+PI3EAAATFsz9iLj\n",
              "2tpa3XvvvbruuusuaX5dXZ0SExOjbu3t7TavEgAAxINtgbN48WL19PQoFApJOncxsN/vl8fjiZrn\n",
              "8Xh07NixyH2fzxeZM9bYW2+9pRdeeEEZGRlavXq1BgcHlZGRoRMnTlx0PVu2bNHAwEDUraioKKbb\n",
              "DAAApgfbAic5OVkFBQVqbm6WJO3evVtpaWlRp6ekc9fmtLa2qre3V5ZlqaGhQevXrx93rK2tTceO\n",
              "HZPP59OBAweUkJAgn8+npKSki67H7XYrISEh6nYpp7YAAMDMY+spqsbGRjU2Nio3N1fbtm1TU1OT\n",
              "JGnDhg1qbW2VJGVmZqq2tlarVq1Sdna2kpKSVFVVNe4YAADAaByWZVnxXkS81NTUqL6+Pt7LAAAA\n",
              "MTZjLzIGAAAYDYEDAACMQ+AAAADjEDgAAMA4BA4AADAOgQMAAIxD4AAAAOMQOAAAwDgEDgAAMA6B\n",
              "AwAAjEPgAAAA4xA4AADAOAQOAAAwDoEDAACMQ+AAAADjEDgAAMA4BA4AADAOgQMAAIxD4AAAAOMQ\n",
              "OAAAwDgEDgAAMA6BAwAAjEPgAAAA4xA4AADAOAQOAAAwDoEDAACMQ+AAAADjEDgAAMA4BA4AADAO\n",
              "gQMAAIxD4AAAAOMQOAAAwDgEDgAAMA6BAwAAjEPgAAAA4xA4AADAOAQOAAAwDoEDAACMQ+AAAADj\n",
              "EDgAAMA4BA4AADAOgQMAAIxD4AAAAOMQOAAAwDgEDgAAMA6BAwAAjEPgAAAA4xA4AADAOAQOAAAw\n",
              "DoEDAACMQ+AAAADjEDgAAMA4BA4AADAOgQMAAIxD4AAAAOMQOAAAwDi2Bk5XV5eKi4uVm5urwsJC\n",
              "dXZ2XnTejh07lJOTo6ysLFVWVmp4eHjcsX379qmoqEhLly7V9ddfr8cee0wjIyN2bg4AAJghbA2c\n",
              "qqoqbdy4UUeOHNHmzZtVUVFxwZzu7m5t3bpVbW1t8nq96uvr0/bt28cd+8pXvqJXX31VH330kd5/\n",
              "/3395S9/0csvv2zn5gAAgBnCtsDp7+9XR0eHysvLJUllZWUKBALyer1R83bt2qXS0lKlpKTI4XCo\n",
              "urpaLS0t446tWLFCmZmZkqR58+YpPz9fPp9v1PUEg0ENDg5G3cLhsA1bDgAA4s22wAkEAlq0aJFc\n",
              "LpckyeFwyOPxyO/3R83z+/1KT0+P3M/IyIjMGWvs3/X29mrXrl268847R11PXV2dEhMTo27t7e2T\n",
              "2kYAADA9zfiLjAcHB3XXXXfpscce04033jjqvC1btmhgYCDqVlRUNIUrBQAAU8Vl1xMvXrxYPT09\n",
              "CoVCcrlcsixLfr9fHo8nap7H49HRo0cj930+X2TOWGOSdPLkSZWUlOjuu+9WTU3NmOtxu91yu91R\n",
              "jzmdzsvePgAAMH3ZdgQnOTlZBQUFam5uliTt3r1baWlpys7OjppXVlam1tZW9fb2yrIsNTQ0aP36\n",
              "9eOOnTp1SiUlJSopKdETTzxh12YAAIAZyNZTVI2NjWpsbFRubq62bdumpqYmSdKGDRvU2toqScrM\n",
              "zFRtba1WrVql7OxsJSUlqaqqatyx559/Xu3t7dqzZ4/y8/OVn5+vp59+2s7NAQAAM4TDsiwr3ouI\n",
              "l5qaGtXX18d7GQAAIMZm/EXGAAAA/4nAAQAAxiFwAACAcQgcAABgHAIHAAAYh8ABAADGIXAAAIBx\n",
              "CBwAAGAcAgcAABiHwAEAAMYhcAAAgHEIHAAAYBwCBwAAGIfAAQAAxiFwAACAcQgcAABgHAIHAAAY\n",
              "h8ABAADGIXAAAIBxCBwAAGAcAgcAABiHwAEAAMYhcAAAgHEIHAAAYBwCBwAAGIfAAQAAxiFwAACA\n",
              "cQgcAABgHAIHAAAYh8ABAADGIXAAAIBxCBwAAGAcAgcAABiHwAEAAMYhcAAAgHEIHAAAYBwCBwAA\n",
              "GIfAAQAAxiFwAACAcQgcAABgHAIHAAAYh8ABAADGIXAAAIBxCBwAAGAcAgcAABiHwAEAAMYhcAAA\n",
              "gHEIHAAAYBwCBwAAGIfAAQAAxiFwAACAcQgcAABgHAIHAAAYh8ABAADGIXBirH/wjN7t/lz9g2fi\n",
              "vRQAAGYtV7wXYIq/ev+h//7dQX02EIw8lrpgnuofyNc3v74wjisDAGD2sfUITldXl4qLi5Wbm6vC\n",
              "wkJ1dnZedN6OHTuUk5OjrKwsVVZWanh4eNJjU+mv3n+o/P++GxU3knT8iyF996V39G7353FZFwAA\n",
              "s5WtgVNVVaWNGzfqyJEj2rx5syoqKi6Y093dra1bt6qtrU1er1d9fX3avn37pMam2n//7qDCI+f+\n",
              "3+H4102SwiNSzW8PxmVdAADMVrYFTn9/vzo6OlReXi5JKisrUyAQkNfrjZq3a9culZaWKiUlRQ6H\n",
              "Q9XV1WppaZnU2MUEg0ENDg5G3cLh8OS3c/BM5MjN+ag57/z9418McU0OAABTyLbACQQCWrRokVyu\n",
              "c5f5OBwOeTwe+f3+qHl+v1/p6emR+xkZGZE5lzt2MXV1dUpMTIy6tbe3T3o7uz8/HdN5AABg8mbN\n",
              "u6i2bNmigYGBqFtRUdGkn/frC6+K6TwAADB5tr2LavHixerp6VEoFJLL5ZJlWfL7/fJ4PFHzPB6P\n",
              "jh49Grnv8/kicy537GLcbrfcbnfUY06n8/I38H8kJ1yp/5Xo1mcDQVlW9Gkqyzr339QF85SccOWk\n",
              "fxcAALg0th3BSU5OVkFBgZqbmyVJu3fvVlpamrKzs6PmlZWVqbW1Vb29vbIsSw0NDVq/fv2kxqba\n",
              "c+tXyPk/e9Ky/nWTJOccqf6B/LisCwCA2crWU1SNjY1qbGxUbm6utm3bpqamJknShg0b1NraKknK\n",
              "zMxUbW2tVq1apezsbCUlJamqqmpSY1Ptm19fqJ2VK5W6YF7U46kL5mln5Uo+BwcAgCnmsKzzxxpm\n",
              "n5qaGtXX18f0OfsHz6j789P6+sKrOC0FAECc8EnGMZaccCVhAwBAnM2ad1EBAIDZg8ABAADGIXAA\n",
              "AIBxCBwAAGAcAgcAABiHwAEAAMYhcAAAgHEIHAAAYBwCBwAAGIfAAQAAxpnV30V17733KiMjI6bP\n",
              "GQ6H1d7erqKiIjmdzpg+N8bGvo8f9n38sO/jg/0eX+np6frxj3885pxZHTh2GBwcVGJiogYGBpSQ\n",
              "kBDv5cwq7Pv4Yd/HD/s+Ptjv0x+nqAAAgHEIHAAAYBwCBwAAGIfAiTG3260nn3xSbrc73kuZddj3\n",
              "8cO+jx/2fXyw36c/LjIGAADG4QgOAAAwDoEDAACMQ+AAAADjEDgx1tXVpeLiYuXm5qqwsFCdnZ3x\n",
              "XpKxMjIytGTJEuXn5ys/P1+//e1vJfEa2OFHP/qRMjIy5HA4dPDgwcjjY+1rXofJG22/j/a3L7Hf\n",
              "Y2VoaEj33HOPcnNztXz5ct1+++3yer2SpP7+fpWUlCgnJ0fLli3T22+/Hfm5scYwxSzE1Nq1a62m\n",
              "pibLsizrd7/7nXXjjTfGd0EGS09Ptz744IMLHuc1iL233nrLCgQCF+zzsfY1r8PkjbbfR/vbtyz2\n",
              "e6ycOXPGeu2116yRkRHLsizrhRdesG655RbLsizre9/7nvXkk09almVZ7e3tVmpqqnX27NlxxzC1\n",
              "CJwY6uvrs6655hpreHjYsizLGhkZsb72ta9ZXV1dcV6ZmS72jzyvgb3+fZ+Pta95HWLrUgOH/W6f\n",
              "9957z0pPT7csy7Kuvvpqq6enJzJWWFhovfHGG+OOYWpxiiqGAoGAFi1aJJfLJUlyOBzyeDzy+/1x\n",
              "Xpm5HnroId1www36/ve/rxMnTvAaTKGx9jWvg/3+829f4t8gOz3//PO6++679fnnn2t4eFgpKSmR\n",
              "sYyMDPn9/jHHMPUIHMxYb7/9tg4dOqS//e1vuvbaa/Xwww/He0nAlOBvf2o988wz8nq9qquri/dS\n",
              "MAGueC/AJIsXL1ZPT49CoZBcLpcsy5Lf75fH44n30ox0fr/OnTtXP/nJT5Sbm8trMIXG2tcJCQm8\n",
              "Dja62N++xL9BdvjlL3+pPXv26M0339RVV12lq666Si6XS729vZEjNT6fTx6PRwsXLhx1DFOPIzgx\n",
              "lJycrIKCAjU3N0uSdu/erbS0NGVnZ8d5Zeb58ssv9cUXX0Tut7S0aMWKFbwGU2isfc3rYJ/R/vYl\n",
              "/g2Ktfr6erW0tOiNN97QggULIo/fd999amhokCS99957On78uG655ZZxxzDF4noFkIE++eQTa+XK\n",
              "lVZOTo71jW98wzp06FC8l2Sko0ePWvn5+dYNN9xgLVu2zCotLbW6u7sty+I1sMPGjRut1NRUy+l0\n",
              "WsnJyVZWVpZlWWPva16HybvYfh/rb9+y2O+xEggELElWZmamtXz5cmv58uVWUVGRZVmW1dvba91+\n",
              "++1Wdna2tXTpUmvfvn2RnxtrDFOL76ICAADG4RQVAAAwDoEDAACMQ+AAAADjEDgApr3z37m0dOlS\n",
              "OZ3OyP0HHnjgovMPHjyoV1999ZKe2+fzRb1DBoAZ+BwcANPe+S+a9Pl8ys/Pj/riydHm7927V+vX\n",
              "r7d/cQCmJY7gAJixXnnlFeXl5SkvL0/f+c53dPz4cfX39+tnP/uZ9u/fr/z8fFVXV0uSHnzwQd14\n",
              "442Rub29vXFePQA78TZxADPG+SM4X3zxhQ4fPqzbbrtN77//vlJTU/X000/rwIED+uMf/6jf/OY3\n",
              "2rt3r/bu3Rv52RMnTigpKUmStG3bNvl8PjU0NEQ9JwBzcIoKwIy0f/9+lZSUKDU1VZL06KOP6uc/\n",
              "/7nC4fBF5+/cuVOvvPKKhoaGNDQ0pGuvvXYqlwtginGKCoARHA7HqGMHDhzQr3/9a73++us6fPiw\n",
              "6uvrNTQ0NIWrAzDVCBwAM9LatWv1pz/9SZ999pkkqaGhQevWrZPT6VRCQoIGBgYic//5z3/qmmuu\n",
              "0cKFC3X27Fk1NjbGa9kApgiBA2BGWrZsmX7xi1+opKREeXl5amtr00svvSRJWrdunYLBoPLy8lRd\n",
              "Xa2SkhItWbJES5Ys0c0336z8/Pz4Lh6A7bjIGAAAGIcjOAAAwDgEDgAAMA6BAwAAjEPgAAAA4xA4\n",
              "AADAOAQOAAAwDoEDAACMQ+AAAADjEDgAAMA4BA4AADDO/wciPL87wHi32AAAAABJRU5ErkJggg==\n",
              "\">\n",
              "      </div>\n",
              "      <script type=\"text/javascript\">\n",
              "        (() => {\n",
              "          const chartElement = document.getElementById(\"chart-2d262ec9-5e9d-4e5b-ac6d-6a8f335f70ca\");\n",
              "          async function getCodeForChartHandler(event) {\n",
              "            const chartCodeResponse =  await google.colab.kernel.invokeFunction(\n",
              "                'getCodeForChart', [\"chart-2d262ec9-5e9d-4e5b-ac6d-6a8f335f70ca\"], {});\n",
              "            const responseJson = chartCodeResponse.data['application/json'];\n",
              "            await google.colab.notebook.addCell(responseJson.code, 'code');\n",
              "          }\n",
              "          chartElement.onclick = getCodeForChartHandler;\n",
              "        })();\n",
              "      </script>\n",
              "      <style>\n",
              "        .colab-quickchart-chart-with-code  {\n",
              "            display: block;\n",
              "            float: left;\n",
              "            border: 1px solid transparent;\n",
              "        }\n",
              "\n",
              "        .colab-quickchart-chart-with-code:hover {\n",
              "            cursor: pointer;\n",
              "            border: 1px solid #aaa;\n",
              "        }\n",
              "      </style>"
            ]
          },
          "metadata": {}
        },
        {
          "output_type": "display_data",
          "data": {
            "text/plain": [
              "<google.colab._quickchart_helpers.SectionTitle at 0x7f1bbf8cb7f0>"
            ],
            "text/html": [
              "<h4 class=\"colab-quickchart-section-title\">Values</h4>\n",
              "<style>\n",
              "  .colab-quickchart-section-title {\n",
              "      clear: both;\n",
              "  }\n",
              "</style>"
            ]
          },
          "metadata": {}
        },
        {
          "output_type": "display_data",
          "data": {
            "text/plain": [
              "from matplotlib import pyplot as plt\n",
              "_df_3['Total'].plot(kind='line', figsize=(8, 4), title='Total')\n",
              "plt.gca().spines[['top', 'right']].set_visible(False)"
            ],
            "text/html": [
              "      <div class=\"colab-quickchart-chart-with-code\" id=\"chart-2099dcb5-f237-4256-ba47-4979d725014a\">\n",
              "        <img style=\"width: 180px;\" src=\"data:image/png;base64,iVBORw0KGgoAAAANSUhEUgAAAp4AAAFuCAYAAAAoDBgXAAAAOXRFWHRTb2Z0d2FyZQBNYXRwbG90\n",
              "bGliIHZlcnNpb24zLjcuMSwgaHR0cHM6Ly9tYXRwbG90bGliLm9yZy/bCgiHAAAACXBIWXMAAA9h\n",
              "AAAPYQGoP6dpAAAyy0lEQVR4nO3deVxVBf7/8feByyIKuOCGgIQspgIuqWVmmZamlRaa9S1Ts682\n",
              "W+PPJbXFtFJMHcuppmkmte+0OObWvk+aWpaZAooL4AauKCooKuv9/UEy3lyByz13eT0fj/N4xDnn\n",
              "nvM+N4S393OP17BarVYBAAAAtczL7AAAAADwDBRPAAAAOATFEwAAAA5B8QQAAIBDUDwBAADgEBRP\n",
              "AAAAOATFEwAAAA5B8QQAAIBDUDwBAADgEBRPAHARkZGRevPNN82OAQDVRvEEgGqoV69e5eLr6ytv\n",
              "b2+bdWvWrLnkY6dOnaru3bs7MC0AOAeL2QEAwBWdOnWq8r+ffvpprV27VqtWrTIvEAC4AF7xBAA7\n",
              "O3HihEaNGqWwsDCFhITojjvu0I4dOyRJ7777rmbMmKF169bZvDp69uxZDR48WC1atFBgYKDi4uL0\n",
              "2muvmXwlAGBfFE8AsLOhQ4cqMzNTGzZsUHZ2tuLi4tS7d2+dOnVKDz74oJ588kndcMMNOnXqlE6d\n",
              "OqWbbrpJVqtV/fr1U3p6uvLz8zV37lyNHTtWX375pdmXAwB2Q/EEADs6ePCgPvnkE7388stq1qyZ\n",
              "AgICNHv2bJ05c0affPLJJR9Xp04djRgxQvXr15eXl5f69++vvn376quvvnJgegCoXRRPALCjnJwc\n",
              "SVKrVq0q1/n4+Khly5bKzs6+5OOKioo0fvx4xcbGKjg4WPXr19fnn3+u3NzcWs8MAI5C8QQAOwoP\n",
              "D5ck7dy5s3JdaWmpsrOzFRERIUny8rrwR+/cuXP18ccf6+OPP9bx48d14sQJ3XHHHbJarY4JDgAO\n",
              "QPEEADtq3ry5+vXrp3Hjxunw4cM6c+aMJk6cKF9fX/Xv31+S1KxZM2VnZ+vs2bOVj8vPz5efn58a\n",
              "N26s8vJyLVmyhDE7ALdD8QQAO3v77bcVGRmpjh07KiwsTOnp6frmm28UGBgoSRoyZIji4uIUGhqq\n",
              "+vXra+3atRo/frzCw8PVsmVLhYaG6j//+Y8GDhxo7oUAgJ0ZVuY4AAAAcABe8QQAAIBDUDwBAADg\n",
              "EBRPAAAAOATFEwAAAA5B8QQAAIBDUDwBAADgEC5RPOfNm2d2BAAAANSQSxTPvXv3mh0BAAAANeQS\n",
              "xRMAAACuj+IJAAAAh6B4AgAAwCEongAAAHAIiicAAAAcguIJAAAAh6B4AgAAwCEongAAAHAIiicA\n",
              "AAAcguIJAAAAh6B4XkR5udXsCAAAAG6H4nmesyVlSv58mx575xdZrZRPAAAAe6J4nifn2GktXLtH\n",
              "X209rOUb95sdBwAAwK1QPM8T0zRQf+4dI0ma+nG6DuWfNTkRAACA+6B4/sboHlFKDAvWybOlmrQ8\n",
              "jZE7AACAnVA8f8Pi7aU5gxPla/HSqh1HtOSXfWZHAgAAcAsUz4uIaRqocbfFSpKe/3irDpw4Y3Ii\n",
              "AAAA10fxvIRHb4pSh4j6OllUqonLGLkDAADUFMXzEry9DM0ZnCg/i5fWZB7Vv3/OMTsSAACAS6N4\n",
              "XkarxvU0oU+cJGn6p9u07/hpkxMBAAC4LornFYy48Rpd17KBTjFyBwAAqBGK5xV4exmaPThR/j5e\n",
              "+j4rT+/+lG12JAAAAJdE8bwK14TU1RN9WkuSZny2TTnHGLkDAABUFcXzKg3vFqkukQ11urhME5am\n",
              "qryckTsAAEBVUDyvkpeXodmDE1THx1s/7jqmd37aa3YkAAAAl0LxrIKWjepqcr+KkXvyZ9u1N6/Q\n",
              "5EQAAACug+JZRQ91banroxrqTEmZJixJY+QOAABwlSieVeTlZWj2oEQF+Hpr/Z5jeuuHPWZHAgAA\n",
              "cAkUz2oIbxigJ/tdK0ma9eV27T7KyB0AAOBKKJ7V9GDXCHWPDtHZknJNWJKqMkbuAAAAl0XxrCbD\n",
              "MDQzKV71/CzasPe4Fn6/2+xIAAAATo3iWQNhDQL0VP+KkfvsL3coK/eUyYkAAACcF8Wzhu7vHK6b\n",
              "YkJUVFquCUsZuQMAAFwKxbOGDMPQi0kJCvSzaFP2Cb25ZpfZkQAAAJwSxdMOQuvX0TN3tZEk/eXr\n",
              "DGUePmlyIgAAAOdD8bSTwZ3C1DOusYpLyzV+SapKy8rNjgQAAOBUKJ52YhiGku9NUKC/Ran78vXG\n",
              "akbuAAAA56N42lGzYH9NvautJGneN5nacYiROwAAwDkUTzu7t2ML9b62iYrLKkbuJYzcAQAAJFE8\n",
              "7c4wDM24J17BdXy0eX++/r5qp9mRAAAAnALFsxY0CfLXtLsrRu5//TZTWw8UmJwIAADAfBTPWjKg\n",
              "fahub9NUJWVWRu4AAACieNYawzA0/Z54NQjw0daDBXptZZbZkQAAAExF8axFjQP99NyAdpKkV7/N\n",
              "0pb9+SYnAgAAMA/Fs5bdmdBcd7RrptLyipF7cSkjdwAA4JkonrXMMAw9P7CdGtb11fZDJ/XKt5lm\n",
              "RwIAADAFxdMBQur56flfR+5/W7VTm/cxcgcAAJ6H4ukg/ROa686E5iort2rckhQVlZaZHQkAAMCh\n",
              "KJ4O9NyAdgqp56uMw6c07xtG7gAAwLNQPB2oYV1fvTAwXpL09+92KiXnhLmBAAAAHIji6WB92zXT\n",
              "gPahKrdK495P0dkSRu4AAMAzUDxNMPWutmoc6KedRwr10jcZZscBAABwCIqnCRrU9dWMeypG7v9c\n",
              "vUu/7D1uciIAAIDaR/E0yW1tmureDi1UbpUmLEll5A4AANxelYrn2bNnNXDgQMXGxioxMVG33Xab\n",
              "srIqPoM8NzdXffv2VUxMjNq1a6fVq1dXPu5y2zzZs3e1VZNAP+06Wqg5X+4wOw4AAECtqvIrnqNG\n",
              "jdKOHTuUmpqqAQMG6NFHH5UkTZo0Sddff70yMzO1cOFC/c///I9KSkquuM2TBQf4aGZSxch9/ve7\n",
              "tWHPMZMTAQAA1J4qFU9/f3/169dPhmFIkq6//nrt2bNHkvT+++/rsccekyR17txZoaGh+u677664\n",
              "7beKiopUUFBgs5SVue8Y+tbWTTW4U5isVmn8klSdKXbfawUAAJ6tRu/xnDdvngYMGKC8vDyVlJSo\n",
              "WbNmldsiIyOVnZ192W0Xk5ycrODgYJtl/fr1NYnp9J6+s42aBflrT95pzfpyu9lxAAAAakW1i+eM\n",
              "GTOUlZWl5ORke+bR5MmTlZ+fb7N06dLFrudwNsF1/jtyX/j9Hv24K8/kRAAAAPZXreI5Z84cLV++\n",
              "XJ9//rkCAgLUqFEjWSwWHTp0qHKfPXv2KCIi4rLbLsbPz09BQUE2i7e3d3ViupRb4pro/s7hkqQn\n",
              "lqbpdHGpyYkAAADsq8rFc+7cuVq0aJG+/vpr1a9fv3L94MGD9fe//12S9PPPP2v//v26+eabr7gN\n",
              "//VU/2sVGuyv7GOn9eLnjNwBAIB7MaxWq/Vqd963b5/Cw8MVFRWlwMBASRWvUP700086fPiwhg4d\n",
              "qt27d8vX11evvvqqevbsKUmX3XY1xo4dq7lz51bx0lzTmswjGjq/4j2t7/1vV3VrFWJyIgAAAPuo\n",
              "UvE0iycVT0l6csVmvfdTtsIa1NEXY3qonp/F7EgAAAA1xicXOaEn+12rFvXraN/xM0r+bJvZcQAA\n",
              "AOyC4umE6vlZNHtQgiTp3Z+ytTbzqMmJAAAAao7i6aS6RYfo4RtaSpImLkvTybN80hMAAHBtFE8n\n",
              "NrFva4U3rKP9J85oBiN3AADg4iieTqyun0WzByVKkhatz9F3GUdMTgQAAFB9FE8nd31UIw3vFilJ\n",
              "mrQsTQWM3AEAgIuieLqAJ/rGKbJRgA7mn9ULn2w1Ow4AAEC1UDxdQICvRbMHJ8owpPc37NPK7blm\n",
              "RwIAAKgyiqeL6BzZUI/ceI0kadLyNOWfZuQOAABcC8XThYy/PU5RIXV1uKBI0z5JNzsOAABAlVA8\n",
              "XUgdX2/NHpwoL0NavnG/vtl62OxIAAAAV43i6WI6tWyg/70pSpI0ecVmnThdbHIiAACAq0PxdEH/\n",
              "77ZYtWpcV0dOFmnqR4zcAQCAa6B4uiB/H2/N+XXk/kHKAX2x5ZDZkQAAAK6I4umiOkQ00OibW0mS\n",
              "nv5gs44VMnIHAADOjeLpwsb0jlFs03o6eqpYzzJyBwAATo7i6cL8LBUjd28vQx+nHtBnmw+aHQkA\n",
              "AOCSKJ4uLiGsvn5XOXLfoqOnikxOBAAAcHEUTzfwp17Rat0sUMcKizXlwy1mxwEAALgoiqcbODdy\n",
              "t3gZ+mzzIX2SdsDsSAAAABegeLqJdi2C9Yee0ZKkZz7YoiMnGbkDAADnQvF0I3/oGa1rmwfp+OkS\n",
              "Pf3BZlmtVrMjAQAAVKJ4uhFfi5f+8uvI/cv0w/oolZE7AABwHhRPN9MmNEiP94qRJE35MF25BWdN\n",
              "TgQAAFCB4umGfndLK7VrEaT8MyV6cgUjdwAA4Bwonm7Ix9tLcwYnysfb0DfbcrVi036zIwEAAFA8\n",
              "3VXrZkEa0ztWkjT1o3QdymfkDgAAzEXxdGOje0QpISxYBWdLNXl5GiN3AABgKoqnG7N4V9zl7uvt\n",
              "pZU7jmjJL/vMjgQAADwYxdPNxTQN1NjbK0buz3+8VQfzz5icCAAAeCqKpwf435ui1D68vk4WlWri\n",
              "Mu5yBwAA5qB4egBvL0NzBifK1+Kl1RlHtPjnHLMjAQAAD0Tx9BDRTeppwu1xkqQXPt2m/ScYuQMA\n",
              "AMeieHqQR7pfo04tG+hUUakmLuUudwAA4FgUTw/i7WVo9qAE+Vm8tDbrqN5bn212JAAA4EEonh4m\n",
              "qnE9PdG3tSRp+qfblHPstMmJAACAp6B4eqAR3SLVJbKhTheX6YmlaSovZ+QOAABqH8XTA3l5GZo1\n",
              "KEF1fLy1blee3vlpr9mRAACAB6B4eqjIkLqadEfFyD35s+3KzmPkDgAAahfF04MNvb6lro9qqDMl\n",
              "ZRq/NJWROwAAqFUUTw/m5WVoVlKiAny9tX73Mf3fuj1mRwIAAG6M4unhIhoFaHK/ayVJL36xXbuP\n",
              "FpqcCAAAuCuKJ/RglwjdGN1IZ0vKNWFJqsoYuQMAgFpA8YS8vAy9mJSgur7e2rD3uBZ+v9vsSAAA\n",
              "wA1RPCFJCmsQoKf6t5Ekzf5yh3YeOWVyIgAA4G4onqj0QJdw3RQToqLSco1n5A4AAOyM4olKhlEx\n",
              "cg/0s2hT9gm9uWaX2ZEAAIAboXjCRmj9Onr6zoq73P/ydYayck+anAgAALgLiicucN914bo5trGK\n",
              "S8s1bkmaSsvKzY4EAADcAMUTFzAMQzOT4hXob1Fqzgn9g5E7AACwgyoVz8cff1yRkZEyDEMpKSmV\n",
              "6yMjIxUXF6f27durffv2Wrx4ceW2zMxMdevWTbGxsercubPS09PtFh61p3lwHT17V1tJ0stfZ2rH\n",
              "IUbuAACgZqpUPAcNGqS1a9eqZcuWF2xbvHixUlJSlJKSoiFDhlSuHz16tEaNGqWMjAxNnDhRw4cP\n",
              "r3FoOEZSxxbq1bqJissq7nIvYeQOAABqoErFs0ePHgoLC7vq/XNzc7VhwwY99NBDkqSkpCTl5OQo\n",
              "Kyvrko8pKipSQUGBzVJWVlaVmLATwzA04954BflbtHl/vt74bqfZkQAAgAuz23s8H374YcXHx2vk\n",
              "yJE6cuSIJCknJ0fNmzeXxWKRVFFkIiIilJ2dfcnjJCcnKzg42GZZv369vWKiipoG+WvagIqR+7z/\n",
              "ZGrbwQKTEwEAAFdll+K5evVqpaWlaePGjQoJCdGwYcOqfazJkycrPz/fZunSpYs9YqKaBrZvodva\n",
              "NFVJmVXj3mfkDgAAqscuxTMiIkKS5OPjozFjxmjNmjWSpPDwcB08eFClpaWSJKvVquzs7Mr9L8bP\n",
              "z09BQUE2i7e3tz1iopoMw9D0e9qpfoCPth4s0GsrL/1WCQAAgEupcfEsLCzUiRMnKr9etGiROnTo\n",
              "IElq0qSJOnbsqHfeeUeStGzZMoWFhSk6Orqmp4WDNQn017S7K0bur36bpfQD+SYnAgAArqZKxXP0\n",
              "6NEKCwvTvn371KdPH0VHR+vw4cPq2bOnEhISFB8fr++++07/+te/Kh/zxhtv6I033lBsbKxmzpyp\n",
              "hQsX2v0i4Bh3J4aqb9tmKi2vGLkXlzJyBwAAV8+wWq1Ws0NcydixYzV37lyzY0DS0VNFuv2l1TpW\n",
              "WKzHb43W2NvjzI4EAABcBJ9chCoJqeen5we0kyS9tmqnNu9j5A4AAK4OxRNV1j+hufonNFdZuVXj\n",
              "l6SqqJR/ZxUAAFwZxRPV8tzdbdWorq92HD6pv/4n0+w4AADABVA8US2N6vnphYEVI/fXV+1Uas4J\n",
              "cwMBAACnR/FEtd0R31x3J4aq3CqNW5KqsyWM3AEAwKVRPFEj0+5uq5B6fsrKPaWXvskwOw4AAHBi\n",
              "FE/USIO6vppxT8XI/Z+rd2lj9nGTEwEAAGdF8USN3d62me7p0ELlVmk8I3cAAHAJFE/YxbN3tVGT\n",
              "QD/tOlKov3y1w+w4AADACVE8YRf1A3yVfG+8JOnNtbu1Yc8xkxMBAABnQ/GE3fS6tqkGdQqT1SpN\n",
              "WJqmM8WM3AEAwH9RPGFXz9zZRs2C/LX7aKFmf8nIHQAA/BfFE3YVXMdHyUkVI/eFP+zWT7vyTE4E\n",
              "AACcBcUTdtczromGXBdeOXI/XVxqdiQAAOAEKJ6oFU/dea1Cg/2Vfey0Xvx8u9lxAACAE6B4olYE\n",
              "+ftoZlKCJOn/1u3Vup2M3AEA8HQUT9SaHrGN9UCXCEnShKWpKixi5A4AgCejeKJWPdX/WrWoX0f7\n",
              "jp9R8ufbzI4DAABMRPFErarnZ9GsQRUj93d+zNb3WUdNTgQAAMxC8UStuzE6REOvbylJemJpmk6e\n",
              "LTE5EQAAMAPFEw4x6Y7WCm9YR/tPnNGMz7jLHQAAT0TxhEPU9bNoVlKiJGnR+mytzjhiciIAAOBo\n",
              "FE84zA2tGml4t0hJ0sRlaSpg5A4AgEeheMKhnugbp5aNAnQw/6xe+GSr2XEAAIADUTzhUAG+Fs0e\n",
              "lCjDkN7fsE8rd+SaHQkAADgIxRMO1+WahhrR7RpJ0qRlaco/zcgdAABPQPGEKSb0idM1IXV1uKBI\n",
              "zzFyBwDAI1A8YYo6vt6aMzhBhiEt27hP32w9bHYkAABQyyieME2nlg31aPeKkfuTKzbrxOlikxMB\n",
              "AIDaRPGEqcbdHqeoxnWVe7JI0z5m5A4AgDujeMJU/j7emjM4UV6GtGLTfn2ZfsjsSAAAoJZQPGG6\n",
              "jhENNKpHK0nSUys261ghI3cAANwRxRNOYUzvGMU0qaejp4r17EfpZscBAAC1gOIJp3Bu5O7tZejj\n",
              "1AP6fPNBsyMBAAA7o3jCaSSG19djN0dJkp7+YIvyThWZnAgAANgTxRNO5fFeMYprGqi8wmJN+ZCR\n",
              "OwAA7oTiCafiZ/HWX+6rGLl/uvmgPkk7YHYkAABgJxRPOJ12LYL1h1sq7nJ/5oMtOnKSkTsAAO6A\n",
              "4gmn9MdbY9S6WaCOny7R0x9sltVqNTsSAACoIYonnJKvxUt/uS9RFi9DX6Yf1kepjNwBAHB1FE84\n",
              "rbahwfrTrTGSpCkfpiu34KzJiQAAQE1QPOHUft+zldqGBin/TImeXLGFkTsAAC6M4gmn5uNdMXL3\n",
              "8Tb0zbbD+iBlv9mRAABANVE84fRaNwvSn3tVjNyf/TBdhxm5AwDgkiiecAmP3dxK8S2CVXC2VJOX\n",
              "c5c7AACuiOIJl2D5deTu6+2lb7fnaukv+8yOBAAAqojiCZcR2zRQY26rGLk/98lWHcw/Y3IiAABQ\n",
              "FRRPuJRRN0UpMby+Tp4t1aRljNwBAHAlFE+4FIu3l/4yOEG+Fi99l3FE72/IMTsSAAC4ShRPuJzo\n",
              "JoEaf3usJOn5T7Zp/wlG7gAAuIIqFc/HH39ckZGRMgxDKSkpleszMzPVrVs3xcbGqnPnzkpPT7+q\n",
              "bUB1jewepY4R9XWqqFSTlqUxcgcAwAVUqXgOGjRIa9euVcuWLW3Wjx49WqNGjVJGRoYmTpyo4cOH\n",
              "X9U2oLq8vQzNGZwoP4uX1mQe1aL1jNwBAHB2VSqePXr0UFhYmM263NxcbdiwQQ899JAkKSkpSTk5\n",
              "OcrKyrrstkspKipSQUGBzVJWVlbV64IHiGpcTxP6xEmSpn+6VTnHTpucCAAAXE6N3+OZk5Oj5s2b\n",
              "y2KxSJIMw1BERISys7Mvu+1SkpOTFRwcbLOsX7++pjHhpkbceI06RzZQYXGZJi5LU3k5I3cAAJyV\n",
              "091cNHnyZOXn59ssXbp0MTsWnJS3l6HZgxLl7+OlH3bm6d2f9podCQAAXEKNi2d4eLgOHjyo0tJS\n",
              "SZLValV2drYiIiIuu+1S/Pz8FBQUZLN4e3vXNCbcWGRIXU3s21qSlPz5dmXnMXIHAMAZ1bh4NmnS\n",
              "RB07dtQ777wjSVq2bJnCwsIUHR192W2APQ27IVJdrmmo08VlmrA0lZE7AABOyLBW4d+hGT16tD79\n",
              "9FMdOnRIjRo1UmBgoLKysrRjxw4NHz5ceXl5CgoK0sKFCxUfHy9Jl912tcaOHau5c+dW7crgcbLz\n",
              "TqvvvNU6XVymqXe10fAbrzE7EgAAOE+ViqdZKJ64Wm+v26NnPkyXv4+XvvhzD0WG1DU7EgAA+JXT\n",
              "3VwE1MSDXVuqW6tGOltSzsgdAAAnQ/GEW/HyMvRiUoLq+nrr5z3HtfCHPWZHAgAAv6J4wu2ENwzQ\n",
              "k/2vlSTN+mK7dh05ZXIiAAAgUTzhpv6nS4S6R4eoqLRc45ekqoyROwAApqN4wi0ZhqEXByWonp9F\n",
              "G7NPaP7aXWZHAgDA41E84bZa1K+jp38duc/5KkNZuYzcAQAwE8UTbm1I53D1iG2s4tJyjVuSqtKy\n",
              "crMjAQDgsSiecGuGYejFpHgF+luUmnNC/1yz2+xIAAB4LIon3F7z4DqacmcbSdJLX2co4/BJkxMB\n",
              "AOCZKJ7wCIM6henW1k1UXFZxlzsjdwAAHI/iCY9gGIZm3BOvIH+L0vbl643V3OUOAICjUTzhMZoF\n",
              "+2vq3W0lSS9/k6HthwpMTgQAgGeheMKj3NOhhXpf21QlZVaNez9VJYzcAQBwGIonPIphGJpxbzvV\n",
              "D/BR+oEC/W3lTrMjAQDgMSie8DhNAv017deR+yvfZir9QL7JiQAA8AwUT3ikuxND1adtU5WWWzV+\n",
              "SZqKSxm5AwBQ2yie8EiGYeiFgfFqEOCjbQcL9OrKLLMjAQDg9iie8FiNA/30/MB2kqTXVmZpy35G\n",
              "7gAA1CaKJzzanQmh6hffTGXlFXe5F5WWmR0JAAC3RfGEx3t+QDs1quurHYdP6pX/MHIHAKC2UDzh\n",
              "8RrV89MLv47cX/9up1JzTpgbCAAAN0XxBCTdEd9cdyWGqqzcqvFLUnW2hJE7AAD2RvEEfvXc3W0V\n",
              "Us9Pmbmn9PI3mWbHAQDA7VA8gV81qOur6fdUjNz/sXqnNmUfNzkRAADuheIJnKdP22Ya2D5U5VYx\n",
              "cgcAwM4onsBvTL27rRoH+mnnkULN/TrD7DgAALgNiifwG/UDfJV8T7wk6Z9rdumXvcdMTgQAgHug\n",
              "eAIX0btNU93bsYWsVmn8kjSdKWbkDgBATVE8gUt49s62ahrkp91HCzXnqx1mxwEAwOVRPIFLCA7w\n",
              "0cx7EyRJC77frfW7GbkDAFATFE/gMnq2bqL7rguT1SpNWJqq08WlZkcCAMBlUTyBK3j6zjZqHuyv\n",
              "vXmnNesLRu4AAFQXxRO4giB/H81Mqhi5v/XDHv24K8/kRAAAuCaKJ3AVbo5trAe6hEuqGLkXFjFy\n",
              "BwCgqiiewFV6st+1alG/jnKOndHMz7ebHQcAAJdD8QSuUqC/j178deT+9o979X3WUZMTAQDgWiie\n",
              "QBV0jwnRg10jJElPLE3TKUbuAABcNYonUEWT+12rsAZ1tP/EGc34bJvZcQAAcBkUT6CK6vlZNGtQ\n",
              "xcj9vZ+ytTrjiMmJAABwDRRPoBq6tQrRsBtaSpImLUtTwdkSkxMBAOD8KJ5ANU28o7UiGgboQP5Z\n",
              "Tf+EkTsAAFdC8QSqKcDXotm/jtwXb8jRqh25JicCAMC5UTyBGuga1UgjboyUJE1atln5Zxi5AwBw\n",
              "KRRPoIae6NNakY0CdKjgrJ7/ZKvZcQAAcFoUT6CG6vh6a87gRBmGtPSXffrPtsNmRwIAwClRPAE7\n",
              "uC6yoUbeeI0kafLyzco/zcgdAIDfongCdjK+T5yiQuoq92SRpn2cbnYcAACcDsUTsBN/H2/NuS9R\n",
              "Xoa0fNN+fZV+yOxIAAA4FYonYEcdIxrof3tESZKeXLFFxwuLTU4EAIDzoHgCdvb/escqukk9HT1V\n",
              "pGc/YuQOAMA5di2ekZGRiouLU/v27dW+fXstXrxYkpSZmalu3bopNjZWnTt3Vno6v4zhvvx9Ku5y\n",
              "9zKkj1IP6IstB82OBACAU7D7K56LFy9WSkqKUlJSNGTIEEnS6NGjNWrUKGVkZGjixIkaPny4vU8L\n",
              "OJX24fX12M2tJElPrdiivFNFJicCAMB8tT5qz83N1YYNG/TQQw9JkpKSkpSTk6OsrKyL7l9UVKSC\n",
              "ggKbpaysrLZjAnb3594xim1aT3mFxZrCyB0AAPsXz4cffljx8fEaOXKkjhw5opycHDVv3lwWi0WS\n",
              "ZBiGIiIilJ2dfdHHJycnKzg42GZZv369vWMCtc7P4q2/DG4vby9Dn6Yd1CdpB8yOBACAqexaPFev\n",
              "Xq20tDRt3LhRISEhGjZsWJWPMXnyZOXn59ssXbp0sWdMwGHiw4L1+1sqRu5TPkzXUUbuAAAPZtfi\n",
              "GRERIUny8fHRmDFjtGbNGoWHh+vgwYMqLS2VJFmtVmVnZ1fu+1t+fn4KCgqyWby9ve0ZE3CoP90a\n",
              "o9bNAnWssFjPfLBFVqvV7EgAAJjCbsWzsLBQJ06cqPx60aJF6tChg5o0aaKOHTvqnXfekSQtW7ZM\n",
              "YWFhio6OttepAafma/HSnMGJsngZ+nzLIX2cxl3uAADPZLHXgQ4fPqykpCSVlZXJarUqKipK//rX\n",
              "vyRJb7zxhoYPH64ZM2YoKChICxcutNdpAZfQrkWw/nhrtF7+JlNTPtyi66Maqkmgv9mxAABwKMPq\n",
              "AnO/sWPHau7cuWbHAGqkpKxcA179XlsPFui2Nk31j6GdZBiG2bEAAHAYPrkIcBAf74qRu4+3oa+3\n",
              "HtaHKdzlDgDwLBRPwIHahAbp8VtjJEnPfpSuwwVnTU4EAIDjUDwBB3vsllaKbxGs/DMlenL5Zu5y\n",
              "BwB4DIon4GDnRu6+3l76z/ZcLdu43+xIAAA4BMUTMEFcs0D9uXfFyH3ax+k6lM/IHQDg/iiegElG\n",
              "94hSYliwTp4t1aTlaYzcAQBuj+IJmMRybuRu8dKqHUe0ZMM+syMBAFCrKJ6AiWKaBmrcbbGSpOc/\n",
              "2ar9J86YnAgAgNpD8QRM9uhNUeoQUV8ni0o1aRkjdwCA+6J4Aibz9jI0Z3Ci/CxeWpN5VP/+Ocfs\n",
              "SAAA1AqKJ+AEWjWupwl94iRJL3yyVfuOnzY5EQAA9kfxBJzEiBuv0XUtG6iwuExPLE1TeTkjdwCA\n",
              "e6F4Ak7C28vQ7MGJ8vfx0g878/Tu+myzIwEAYFcUT8CJXBNSV0/0aS1JSv5sm3KOMXIHALgPiifg\n",
              "ZIZ3i1SXyIY6XVymCUtTGbkDANwGxRNwMl5ehmYPTlAdH2/9uOuY3v5xr9mRAACwC4on4IRaNqqr\n",
              "yf0qRu4zP9+uPUcLTU4EAEDNUTwBJ/VQ15a6PqqhzpRwlzsAwD1QPAEn5eVlaPagRAX4emv9nmN6\n",
              "64c9ZkcCAKBGKJ6AEwtvGKAn+10rSZr15XbtOnLK5EQAAFQfxRNwcg92jVD36BCdLSnXhKVpKmPk\n",
              "DgBwURRPwMkZhqGZSfGq52fRL3uPa8Ha3WZHAgCgWiiegAsIaxCgp/pXjNxnf7VDWbmM3AEArofi\n",
              "CbiI+zuH66aYEBWXlmv8klRG7gAAl0PxBFyEYRh6MSlBgX4WpeSc0D/X7DI7EgAAVULxBFxIaP06\n",
              "euauNpKkuV9lKPPwSZMTAQBw9SiegIsZ3ClMPeMaq7isXOOWpKq0rNzsSAAAXBWKJ+BiDMNQ8r0J\n",
              "CvS3KG1fvt5YzcgdAOAaKJ6AC2oW7K+pd7WVJL38TYa2HyowOREAAFdG8QRc1L0dW6j3tU1UUmbV\n",
              "+CWpKmHkDgBwchRPwEUZhqEZ98QruI6Ptuwv0OurdpodCQCAy6J4Ai6sSZC/pt1dMXL/638ytfUA\n",
              "I3cAgPOieAIubkD7UN3epqlKyytG7sWljNwBAM6J4gm4OMMwNP2eeDUI8NHWgwV6bWWW2ZEAALgo\n",
              "iifgBhoH+um5Ae0kSa+tzNKW/fkmJwIA4EIUT8BN3JnQXHe0a8bIHQDgtCiegJswDEPPD2ynhnV9\n",
              "tf3QSb3ybabZkQAAsEHxBNxISD0/Pf/ryP1vq3Yqbd8JcwMBAHAeiifgZvonNNedCc1VVm7VuPdT\n",
              "VVRaZnYkAAAkUTwBt/TcgHYKqeerzNxTevkbRu4AAOdA8QTcUMO6vnphYLwk6Y3vdmpT9nGTEwEA\n",
              "QPEE3Fbfds00oH2oyq3S+CWpOlvCyB0AYC6KJ+DGpt7VVo0D/bTzSKFe+jrD7DgAAA9H8QTcWIO6\n",
              "vppxT8XI/R9rdumXvcdMTgQA8GQUT8DN3damqe7t0EJWqzRhSRojdwCAaSiegAd49q62ahLop11H\n",
              "CzXnyx1mxwEAeCiKJ+ABggN8NDOpYuQ+//vd+nkPI3cAgONRPAEPcWvrphrcKezXkXuqTheXmh0J\n",
              "AOBhKJ6AB3n6zjZqFuSvPXmnNesLRu4AAMdyWPHMzMxUt27dFBsbq86dOys9Pd1Rpwbwq+A6/x25\n",
              "v/XDHv24K8/kRAAAT+Kw4jl69GiNGjVKGRkZmjhxooYPH+6oUwM4zy1xTXR/53BJ0hNL01RYxMgd\n",
              "AOAYhtVqtdb2SXJzcxUdHa1jx47JYrHIarWqefPmWrt2raKjo232LSoqUlFRkc26Z555RvPmzavt\n",
              "mIDHOHm2RH1eWq0D+WeVGBas0Pp1zI4EALCzdi2C9Yee0Vfe0YEsjjhJTk6OmjdvLoul4nSGYSgi\n",
              "IkLZ2dkXFM/k5GRNmzbNZt3111/viJiAxwj099GsQYl6aP5PSt2Xr9R9+WZHAgDYmTP+u80OKZ5V\n",
              "MXnyZI0dO9Zm3TPPPGNSGsB9dY8J0XuPdtXOI6fMjgIAqAUtGjjfNMshxTM8PFwHDx5UaWlp5ag9\n",
              "OztbERERF+zr5+cnPz8/m3Xe3t6OiAl4nG7RIeoWHWJ2DACAh3DIzUVNmjRRx44d9c4770iSli1b\n",
              "prCwsAvG7AAAAHBfDhu1v/HGGxo+fLhmzJihoKAgLVy40FGnBgAAgBNwWPGMi4vTunXrHHU6AAAA\n",
              "OBk+uQgAAAAOQfEEAACAQ1A8AQAA4BAUTwAAADgExRMAAAAOQfEEAACAQ1A8AQAA4BAUTwAAADiE\n",
              "YbVarWaHuJJ7771XkZGRDjlXWVmZ1q9fry5duvAZ8Q7E824Onndz8Lybg+fdHDzv5jDjeW/ZsqX+\n",
              "/Oc/X3YflyiejlRQUKDg4GDl5+crKCjI7Dgeg+fdHDzv5uB5NwfPuzl43s3hrM87o3YAAAA4BMUT\n",
              "AAAADkHxBAAAgENQPH/Dz89Pzz77rPz8/MyO4lF43s3B824Onndz8Lybg+fdHM76vHNzEQAAAByC\n",
              "VzwBAADgEBRPAAAAOATFEwAAAA5B8QQAAIBDUDwBFxcZGakmTZqopKSkct3KlStlGIbGjBmjVatW\n",
              "qU6dOmrfvr0SEhLUtWtX/fjjj5X7Tp06VYZhaM2aNZXrXn31VQ0fPrzy6/379+v+++9XVFSUYmJi\n",
              "dPPNN9scAzDbyZMnVa9ePY0cOdJm/ddff60ePXooKipK1113nbp06aJ//OMfldsjIyMVFxen9u3b\n",
              "Vy6bN292dHx4uJKSEk2bNk2tW7dW27Zt1aFDBw0cOFApKSk2P8PPLffcc48kadWqVTIMQ88//3zl\n",
              "sbZs2WLzMePnvscTExMVHR2tAQMG6Icffqjc/tZbbyk4ONjm+H/4wx8u2NauXTv17NlTGRkZNbpW\n",
              "uxfP8/8Qx8XFaebMmZKkPXv2yNvb2+bCunbtesG2xMREderUSStXrqw85g8//KCbb75ZMTExioqK\n",
              "0gMPPKCDBw9Wbh8+fLhatGih9u3bq3Xr1ho6dKhOnz6tRx99tPJcvr6+Nj9cTp48eUH2AwcOqG7d\n",
              "usrLy7NZv2nTJoWEhKi4uNjmXOeWhQsXXjbH+c9NSkrKBfueW6SKb6Jz/y1JhmEoPj7eZr9z+c5t\n",
              "S0hIUGxsrB544AFt3bq1mv/n4MoiIiL00UcfVX49f/58XXfddZVfx8XFKSUlRWlpaRo6dKgeeeQR\n",
              "m8dHRkZq4sSJFz12YWGhbrnlFnXo0EG7du1SZmampkyZorvuuktbtmypnQsCqmjx4sXq1KmTli9f\n",
              "rlOnTkmSvvrqKw0bNkwzZ87Url27tGHDBi1fvlz79++/4LEpKSmVS3x8vBmXAA82YsQIbdq0SevW\n",
              "rVN6ero2bdqkP/7xj9qxY4ek//4MP7esWLGi8rHNmjXTK6+8oqNHj17y+IsXL1ZqaqqysrI0bNgw\n",
              "9evXTz/99FPl9p49e9oc/7XXXrtg25YtW9SpUyeNGTOmRtdaK694nvtD/O233yo5OVnr16+XJAUG\n",
              "Btpc2PkXfW5bamqqnnrqKd13332yWq1KS0vT3XffrSlTpigzM1O7du1S+/btdcstt9iUugkTJlQ+\n",
              "fteuXXr11Vf15ptvVp4rNDTU5odLYGDgBblDQ0N166236r333rNZP3/+fA0dOlS+vr425zq3jBgx\n",
              "4rI5LuW3x7mUNWvW2OzXqFEjm21paWnavn27br75Zt14443avXv3JY8F9zRixAgtWLBAkpSfn68f\n",
              "f/xRffv2vei+vXr10t69e23W3X333SopKbH5YXbOokWL1KBBA5ti2qtXL40YMUKzZs2y41UA1Td/\n",
              "/nxNnDhRPXr00OLFiyVJzz33nKZMmaJu3bpV7hcWFqZp06aZFRO4QGZmplasWKEFCxaoQYMGlet7\n",
              "9+6tIUOGXPHxTZs21dChQ21e9byce++9V4899pjmzJlT5awX+/1RVbU6am/RooVat25d5ZB9+/bV\n",
              "0aNHlZeXp1mzZumRRx5Rr169KrdPnDhRwcHB+ve//33BY/38/NS9e/dqPzEjR46s/AUuSUVFRXrv\n",
              "vfcuGN9cSU1zVJWXl5cee+wx9enTR3/7298cck44jxtvvFF79uzRgQMHtGjRIg0ePFje3t4X3Xfp\n",
              "0qW6//77bdYZhqGZM2fqySefVFlZmc22jRs36oYbbrjgODfccIN++eUX+10EUE1bt25VTk6O+vTp\n",
              "o5EjR2r+/PmSKr53z03WLmfIkCE2U6UzZ87UdmSg0qZNmxQdHa2GDRtecp8dO3bYfI9OmDDBZvtT\n",
              "Tz2lRYsWXfULT127dlV6enrl1ytXrrQ5/ksvvXTBY8rLy7VixYoLfn9UlaVGj76C7du3Ky8vT7fc\n",
              "cosKCwt18uRJmzFy27Zt9e67717wuEWLFikiIkIhISHauHGjkpKSLtjn3C+9344M8/PztWrVKiUn\n",
              "J1cr85133qnHHntMKSkpat++vVasWKGYmBi1a9eucp/Zs2frrbfeqvz6lVde0U033VTlHOcfp3//\n",
              "/po+ffpF97vpppsqS0SDBg1s3obwW127dtXXX399pcuEGxo6dKjeeustffDBB3r33Xdt/myd+6F1\n",
              "6NAhlZaW2kwbzunVq5fCw8Nt/uIFuIL58+fr4Ycflre3t/r166fRo0dr27ZtF+z34IMPKj09XYcO\n",
              "HVJGRoaCgoIkVUzpzv/dBJhp586dSkpK0pkzZ9StWzcNGzasctR+KQ0bNtSYMWP09NNPa/LkyVc8\n",
              "x28/O6hnz5764IMPLrrvuVKanZ2thg0bXvT3R1XUSvEcMmSIvLy8tGPHDr300ktq3LixCgsLK8fp\n",
              "F3N+KW3RooXN+9WuxuzZs7VgwQJlZGSof//+6tmzZ7WyWywWPfzww1qwYIH++te/asGCBRe82jlh\n",
              "woRLvsehKjkud5zzrVmzRvXr17+q/HwQled6+OGH1bFjR8XGxiomJsZm27kfWiUlJfr973+vBx98\n",
              "UOvWrZNhGDb7zZw5UwMGDNCf/vSnynUdO3a0uRnjnHXr1qljx461czHAVSopKdHbb78tHx+fyrdJ\n",
              "nT59WvPnz1eHDh20fv16dejQQZIq/zJmGIbKy8tNywycr0OHDsrKytLx48fVoEEDtWrVSikpKZUv\n",
              "JFytMWPGKDY29pJvszrfzz//bPOC2uWcK6WnT5/WoEGD9Pvf/77y7SzVUWvv8dy2bZu++uorTZo0\n",
              "6aruEDz//Z+ffvqpEhMTJVX80lu3bt0F+//2l96ECROUlpamjIwMbdiwQX//+9+rnf+RRx7Re++9\n",
              "p6ysLK1bt65KLyvbM0d1VOWbCe4lNDRUycnJevHFFy+5j4+Pj+bNm6d9+/Zd9Adax44d1b17d73+\n",
              "+uuV6x544AHl5eXZHPfbb7/VggULLhj3AI720UcfKSoqSvv379eePXu0Z88e/fjjj3r77bc1adIk\n",
              "Pffcczb/AkNhYaGJaYELxcTEaMCAARo5cqROnDhRub6q36sBAQF65plnNGXKlMvu9+GHH+r111/X\n",
              "uHHjqnz8N998U5999pk2bdpUpceer1ZH7b1799bvfvc7Pf3005o3b161jjF+/Hj16tVLffr0qXyf\n",
              "56xZs3T8+HE98MADF+wfERGhV155RaNHj9bw4cNVp06dKp+zdevWat26tR544AElJSVVjmOqwh45\n",
              "qqK8vFzz58/XF198oY0bN9bqueC8zr/R7VICAgI0ffp0TZ06VQMHDrxg+/Tp09W6devKr+vWratV\n",
              "q1Zp3Lhxuuaaa2SxWNS8eXN99NFHSkhIsGd8oMrmz5+vBx980GbdtddeqxYtWqikpETz58/XhAkT\n",
              "dODAATVu3Fi+vr565ZVXbG4wHTJkiM3P6JdeeqnaUzOgOt566y1Nnz5dXbt2lcViUYMGDdS4cWNN\n",
              "nDhRRUVFlW+XOicwMNDmn8A7Z+TIkZo7d66Kiops1g8ZMkT+/v4qLCxUmzZt9Nlnn9m8//ncOP2c\n",
              "uLi4i76qGRoaqvHjx2vKlCn6+OOPq3exVjtr2bKlddOmTZVfHzt2zNqwYUPrhg0brF5eXtbExESb\n",
              "paCgwLp7925rcHDwJY+5Zs0aa/fu3a3R0dHWyMhI63333Wfdt29f5fZhw4ZZX3rpJZvH3HLLLdY5\n",
              "c+ZcMteVLFiwwCrJunr1apv1w4YNs4aGhtpcw6xZs64qx/kZLrav1Wq1rly50pqYmFj5tSRru3bt\n",
              "bM63fft2m23x8fHWmJgY65AhQ6zp6elXfY0AAACOZFitvCkQAAAAtY9PLgIAAIBD1Op7PJ1Vbm6u\n",
              "br/99gvW33bbbZo9e7YJiQAAANwfo3YAAAA4BKN2AAAAOATFEwAAAA5B8QQAAIBDUDwBAADgEBRP\n",
              "AAAAOATFEwAAAA5B8QQAAIBD/H86O/d3xbSJmAAAAABJRU5ErkJggg==\n",
              "\">\n",
              "      </div>\n",
              "      <script type=\"text/javascript\">\n",
              "        (() => {\n",
              "          const chartElement = document.getElementById(\"chart-2099dcb5-f237-4256-ba47-4979d725014a\");\n",
              "          async function getCodeForChartHandler(event) {\n",
              "            const chartCodeResponse =  await google.colab.kernel.invokeFunction(\n",
              "                'getCodeForChart', [\"chart-2099dcb5-f237-4256-ba47-4979d725014a\"], {});\n",
              "            const responseJson = chartCodeResponse.data['application/json'];\n",
              "            await google.colab.notebook.addCell(responseJson.code, 'code');\n",
              "          }\n",
              "          chartElement.onclick = getCodeForChartHandler;\n",
              "        })();\n",
              "      </script>\n",
              "      <style>\n",
              "        .colab-quickchart-chart-with-code  {\n",
              "            display: block;\n",
              "            float: left;\n",
              "            border: 1px solid transparent;\n",
              "        }\n",
              "\n",
              "        .colab-quickchart-chart-with-code:hover {\n",
              "            cursor: pointer;\n",
              "            border: 1px solid #aaa;\n",
              "        }\n",
              "      </style>"
            ]
          },
          "metadata": {}
        },
        {
          "output_type": "display_data",
          "data": {
            "text/plain": [
              "from matplotlib import pyplot as plt\n",
              "_df_4['Percent'].plot(kind='line', figsize=(8, 4), title='Percent')\n",
              "plt.gca().spines[['top', 'right']].set_visible(False)"
            ],
            "text/html": [
              "      <div class=\"colab-quickchart-chart-with-code\" id=\"chart-91490d48-be7e-4eba-be7b-7c02dd85c724\">\n",
              "        <img style=\"width: 180px;\" src=\"data:image/png;base64,iVBORw0KGgoAAAANSUhEUgAAAqkAAAFuCAYAAACiI4FWAAAAOXRFWHRTb2Z0d2FyZQBNYXRwbG90\n",
              "bGliIHZlcnNpb24zLjcuMSwgaHR0cHM6Ly9tYXRwbG90bGliLm9yZy/bCgiHAAAACXBIWXMAAA9h\n",
              "AAAPYQGoP6dpAAA5FklEQVR4nO3de1xUdf7H8fdhuKkI3lBABETAO6h52dRKs4tbpiWatlpZqbi1\n",
              "7a81Ta00tUxS023d3cQN7bdbWeutqNyu6i6tmmkqihdARfCCd8ErcpnfHyS/JvEy3M7M8Ho+Hufx\n",
              "cOZ858z7TArv5jMHDKvVahUAAADgQNzMDgAAAAD8EiUVAAAADoeSCgAAAIdDSQUAAIDDoaQCAADA\n",
              "4VBSAQAA4HAoqQAAAHA4lFQAAAA4HEoqAAAAHA4lFQAAAA6HkgoAFdCrVy95enrKx8dHvr6+ateu\n",
              "nRITE82OdU1Tp05Vz549zY4BADdESQWACnrhhRd07tw5nT59WhMnTtTIkSO1du1au49TUFBQ+eEA\n",
              "wElRUgGgklgsFg0fPlwNGzbU5s2b9f3336tXr15q2LChQkNDNXnyZBUWFpauNwxD8+bNU/fu3VWn\n",
              "Th0tX75chYWFmjt3rtq0aaO6desqODhYb7zxRuljbuaY8+fPV48ePeTj46P27dvru+++kyS9//77\n",
              "ev3117V+/Xr5+PjIx8dHycnJ1fcCAYAd3M0OAACuorCwUEuWLNGpU6fUuXNn9enTR++8844GDRqk\n",
              "Q4cOqX///vL29tZLL71U+piEhAStWLFCrVu31qVLlzR16lR9+OGH+uCDD9S5c2edOXNGe/bskSTt\n",
              "2bPnpo75zjvvaPny5QoLC9O4ceM0bNgwHThwQMOGDVN6erq++eab0uIKAI7KsFqtVrNDAICz6tWr\n",
              "lzZs2CBvb2+5u7srNDRUv//977V582YdP35cS5YsKV37/vvv65VXXlFGRoakknc9FyxYoLi4OEmS\n",
              "1WqVr6+vFi9erEGDBl31XL///e9v6pj/+7//q8cee0ySlJqaqnbt2iknJ0dNmjTR1KlTKakAnALv\n",
              "pAJABY0bN06vvfaazX0ffvih1qxZo3r16pXeV1xcrOLiYpt1zZs3L/3ziRMndO7cObVs2bLM50lP\n",
              "T7+pYwYFBZX+uU6dOpKks2fPqkmTJnadFwCYic+kAkAVCAgI0G9+8xudOXOmdMvLy9O5c+ds1rm5\n",
              "/f+X4UaNGsnHx0dpaWkVOub1/Pz5AMCR8dUKAKrA008/rWXLlmnp0qW6fPmyioqKlJGRoS+++OKa\n",
              "jzEMQ88++6wmTZqkTZs2yWq16tSpU1q/fn25j/lLAQEBysrK0qVLlyp8jgBQlSipAFAFunTpoq+/\n",
              "/lp/+9vf1LRpUzVs2FCDBg3SgQMHrvu46dOna+TIkRo2bJjq1q2r6Ojo0ivwy3vMnxsyZIhatmyp\n",
              "oKAg1atXj8+mAnBYXDgFAAAAh8M7qQAAAHA4lFQAAAA4HEoqAAAAHA4lFQAAAA6HkgoAAACHQ0kF\n",
              "AACAw3GpkvrWW2+ZHQEAAACVwKVKqj0/0BoAAACOy6VKKgAAAFwDJRUAAAAOh5IKAAAAh0NJBQAA\n",
              "gMOhpAIAAMDhUFIBAADgcCipAAAAcDiUVAAAADgcSioAAAAcDiUVAAAADoeSWgHFxVazIwAAALgk\n",
              "Smo57T1+ToMWrNO/th8xOwoAAIDLoaSW0ydbDunHrDN6+eMdOnku3+w4AAAALoWSWk7P3Bmhlk3q\n",
              "6uT5y5rySarZcQAAAFwKJbWcvNwtevPhGFncDH2+/Yg+SzlsdiQAAACXQUmtgHZN/fRM7whJ0uSP\n",
              "d+j4Wcb+AAAAlYGSWkG/6x2h1oG+On2hQC9/vF1WK1f8AwAAVBQltYI83d00Z3C03N0MfZl6VEnb\n",
              "GPsDAABUFCW1ErQN8tOzd0ZKkl5JStWxs5dMTgQAAODcKKmV5OneLdQ2yFdnLhTopZU7GPsDAABU\n",
              "gN0lNT09Xd27d1dUVJS6dOmi1NSyf/xSYmKiIiMj1aJFC40aNUoFBQWSpMzMTPXq1Ut+fn7q0KHD\n",
              "TT/O0XlY3PTmwzHysBj6eudRfbz1kNmRAAAAnJbdJTUuLk6jR49WWlqaJkyYoBEjRly1Zv/+/Zo8\n",
              "ebKSk5OVkZGho0ePauHChZIkX19fvfbaa/rggw/sepwzaBXgq//p89PY/5NUHc1j7A8AAFAedpXU\n",
              "Y8eOadOmTRo+fLgkKTY2VtnZ2crIyLBZt2zZMvXv318BAQEyDENjxozRkiVLJEkNGjRQz549VadO\n",
              "nauOf73H/VJ+fr7y8vJstqKiIntOp0qMuaOF2jf1U96lQk1awdX+AAAA5WFXSc3OzlZgYKDc3d0l\n",
              "SYZhKCQkRFlZWTbrsrKyFBoaWno7LCzsqjVlsedxM2fOlJ+fn822ceNGe06nSrj/NPb3tLhp9e5j\n",
              "Wrb5oNmRAAAAnI7TXjg1adIk5ebm2mxdu3Y1O5YkKapJXf3h7ihJ0vTPdupI7kWTEwEAADgXu0pq\n",
              "s2bNdOTIERUWFkqSrFarsrKyFBISYrMuJCREBw4cKL2dmZl51Zqy2PM4Ly8v+fr62mwWi8We06lS\n",
              "o25rrg7N6unspUJNXM7YHwAAwB52ldTGjRurU6dOeu+99yRJy5cvV3BwsCIiImzWxcbGKikpSTk5\n",
              "ObJarVqwYIGGDh16w+OX93GOyN3ipjmDY+Tp7qZ/px3XPzdlmx0JAADAadg97k9ISFBCQoKioqIU\n",
              "Hx+vxYsXS5JGjhyppKQkSVJ4eLimTZumHj16KCIiQv7+/oqLi5MkXbhwQcHBwRo8eLB27typ4OBg\n",
              "TZo06YaPc0YRjX007p6Ssf+rn+3SoTOM/QEAAG6GYXWhOfTYsWM1d+5cs2PYKCq2avCCdfox64xu\n",
              "i2ykvz/ZVYZhmB0LAADAoTnthVPOwuJmaM7gGHm5uyk5/YSWbGTsDwAAcCOU1GoQ7u+j8fe2lCTN\n",
              "+Hynsk9dMDkRAACAY6OkVpMnejRXl7D6On+5SBOWp6i42GU+ZQEAAFDpKKnVxOJmaPagGHl7uGnd\n",
              "3pN6//sDN34QAABADUVJrUZhjepoYt9WkqSZ/9qtrJOM/QEAAMpCSa1mj90apm7NG+jC5SKNX7aN\n",
              "sT8AAEAZKKnVzO2nsX9tT4u+339Kf1+faXYkAAAAh0NJNUFIw9qa9OuSsX/8F7uVeeK8yYkAAAAc\n",
              "CyXVJMO6hap7i4a6VFDM2B8AAOAXKKkmcXMz9EZstOp4WvRD5mktXpdpdiQAAACHQUk1UbMGtfXi\n",
              "/a0lSbO+2K19x8+ZnAgAAMAxUFJN9puuIeoZ0Uj5hcUat3Sbihj7AwAAUFLNZhiG3hgULR8vd/2Y\n",
              "dUaJ3+0zOxIAAIDpKKkOoGm9Wprcr2TsP+erNGUcY+wPAABqNkqqg3i4czPdEeWvy4XFen7pNhUW\n",
              "FZsdCQAAwDSUVAdhGIbiY9urrre7tmWf0d+S95sdCQAAwDSUVAcS6FdLU/q1kSTN+zpNaUfPmpwI\n",
              "AADAHJRUBzPolmDd2aqxLheVXO3P2B8AANRElFQHYxiGZg5sL19vd6UczFXCf7jaHwAA1DyUVAfU\n",
              "xNdbU/u3lST98Zs07c7JMzkRAABA9aKkOqiHOjbVXa2bqKDIquf/uU0FjP0BAEANQkl1UIZh6PWB\n",
              "7VSvtodSD+fpr2v2mh0JAACg2lBSHVjjut6a9tPYf/7qdKUezjU5EQAAQPWgpDq4/jFB6ts2QIXF\n",
              "Vo1bmqLLhYz9AQCA66OkOjjDMPTqg+1Uv7aHdh3J05/XZJgdCQAAoMpRUp2Af10vvfpgO0nSX9Zk\n",
              "aMchxv4AAMC1UVKdRL/oIN3fPlBFxVaNW7pN+YVFZkcCAACoMpRUJzJ9QFs1rOOp3TlnNf9bxv4A\n",
              "AMB1UVKdSEMfL73209j/7X/v1bbsM+YGAgAAqCKUVCfz6/aBeiAmqHTsf6mAsT8AAHA9lFQnNL1/\n",
              "WzXy8VL6sXP64zfpZscBAACodJRUJ1S/jqdef6hk7L/wP3u1Jeu0yYkAAAAqFyXVSd3TNkAPdghS\n",
              "sVWM/QEAgMuhpDqxqf3byr+ul/YeP6+5X6eZHQcAAKDSUFKdWL3anpr5UHtJ0t+S92nzgVMmJwIA\n",
              "AKgclFQnd1ebJortFCyrVRq3NEUXLzP2BwAAzo+S6gKmPNBGTXy9tP/Eec35ao/ZcQAAACqMkuoC\n",
              "/Gp5KD42WpK06L/7tXE/Y38AAODcKKkuonfLxnq4c8nYf/yybbpwudDsSAAAAOVGSXUhL/dro0A/\n",
              "bx04eUGzvmDsDwAAnBcl1YX4envojZ/G/u+uy9SGfSdNTgQAAFA+lFQXc3uUvx7p2kxSydj/fD5j\n",
              "fwAA4HwoqS7oxftaq2m9Wso+dVHx/9ptdhwAAAC7UVJdUN2fjf3/seGA1mWcMDkRAACAfSipLqpn\n",
              "ZCMN/1WIJGn8shSdY+wPAACciN0lNT09Xd27d1dUVJS6dOmi1NTUMtclJiYqMjJSLVq00KhRo1RQ\n",
              "UHDDfcXFxRo7dqzatGmj6Oho9e7dWxkZGeU8NUz6dWsF16+lQ2cu6vVVu8yOAwAAcNPsLqlxcXEa\n",
              "PXq00tLSNGHCBI0YMeKqNfv379fkyZOVnJysjIwMHT16VAsXLrzhvqSkJP33v//Vtm3blJKSoj59\n",
              "+ujFF1+s2BnWYHW83DV7UIwk6YPvs/SftOMmJwIAALg5dpXUY8eOadOmTRo+fLgkKTY2VtnZ2Ve9\n",
              "27ls2TL1799fAQEBMgxDY8aM0ZIlS264zzAM5efn69KlS7JarcrLy1NwcHCZWfLz85WXl2ezFRXx\n",
              "e+t/6dYWDfX4raGSpInLU5R3qeAGjwAAADCfXSU1OztbgYGBcnd3l1RSKkNCQpSVlWWzLisrS6Gh\n",
              "oaW3w8LCStdcb98DDzygXr16KSAgQIGBgfr22281ffr0MrPMnDlTfn5+NtvGjRvtOZ0aY8KvWymk\n",
              "QW0dzr2kGZ8x9gcAAI7PoS6c2rRpk3bs2KFDhw7p8OHD6tOnj8aMGVPm2kmTJik3N9dm69q1azUn\n",
              "dg61Pd01Z3CMDEP6aFO21u45ZnYkAACA67KrpDZr1kxHjhxRYWHJleJWq1VZWVkKCQmxWRcSEqID\n",
              "Bw6U3s7MzCxdc719f//733XnnXeqXr16cnNz0+OPP641a9aUmcXLy0u+vr42m8Vised0apSuzRto\n",
              "RPcwSdLE5duVe5GxPwAAcFx2ldTGjRurU6dOeu+99yRJy5cvV3BwsCIiImzWxcbGKikpSTk5ObJa\n",
              "rVqwYIGGDh16w33h4eFavXq1Ll++LEn67LPP1K5duwqfJEq8cG8rhTWsrZy8S3r1s51mxwEAALgm\n",
              "u8f9CQkJSkhIUFRUlOLj47V48WJJ0siRI5WUlCSppGxOmzZNPXr0UEREhPz9/RUXF3fDfc8884ya\n",
              "N2+umJgYRUdH69tvv9Xbb79dWeda49XytJSO/ZdtPqjVu4+aHQkAAKBMhtVqtZodorKMHTtWc+fO\n",
              "NTuGw5vx+U79LXm/Gtf10td/uEN+tT3MjgQAAGDDoS6cQvV4/p6WCvevo2Nn8zXt07J/GQMAAICZ\n",
              "KKk1kLdHydjfzZBWbDmkr1JzzI4EAABgg5JaQ3UKqa9Rt4dLkl5cuUOnz182OREAAMD/o6TWYH+4\n",
              "K0oRjX104ly+Xkli7A8AABwHJbUG8/aw6M3BMbK4GUradlhf7DhidiQAAABJlNQaL6ZZPcX9NPZ/\n",
              "aeUOnTyXb3IiAAAASiok/c9dkYpq4qOT5y9rCmN/AADgACipkJe7RW8O7iCLm6HPU47os5TDZkcC\n",
              "AAA1HCUVkqT2wX56plcLSdKUT1J1grE/AAAwESUVpX53Z6RaBdTVqfOXNfnjHXKhX0YGAACcDCUV\n",
              "pTzd3fTmwzFydzP0rx05+jSFq/0BAIA5KKmw0TbIT7+7M0KSNOWTHTp29pLJiQAAQE1EScVVnukd\n",
              "oTaBvjpzoUAvrWTsDwAAqh8lFVfxsJSM/T0shr7eeVSfbOVqfwAAUL0oqShT60Bf/f7OSEnSK0mp\n",
              "OprH2B8AAFQfSiquaUyvFmrf1E+5Fwv04ortjP0BAEC1oaTimjwsbpozOEaeFjd9u/uYlv94yOxI\n",
              "AACghqCk4rpaBtTVc3eXjP2nfZqqnFzG/gAAoOpRUnFDo28LV0yzejp7qVATV6Qw9gcAAFWOkoob\n",
              "cre46c3B0fJ0d9PaPce1dNNBsyMBAAAXR0nFTYloXFfP3x0lSXr1s506dOaiyYkAAIAro6Tipo28\n",
              "LVwdQ+rpbH6hJi5n7A8AAKoOJRU3zeJmaM7gGHm5uyk5/YQ+/CHb7EgAAMBFUVJhlxb+Php/b0tJ\n",
              "0muf7dTB0xdMTgQAAFwRJRV2e6JHc3UOra/zl4v0wrIUFRcz9gcAAJWLkgq7WdwMzR4cI28PN63b\n",
              "e1Lvb8wyOxIAAHAxlFSUS/NGdTShbytJ0sxVu5R9irE/AACoPJRUlNvjt4apa/MGunC5SOOXbWPs\n",
              "DwAAKg0lFeXm5mZo9qBo1fKwaMO+U/rHhgNmRwIAAC6CkooKCW1YR5PuKxn7x/9rtzJPnDc5EQAA\n",
              "cAWUVFTY8G6hujW8oS4WcLU/AACoHJRUVJibm6FZg6JVx9OijZmn9O66TLMjAQAAJ0dJRaVo1qC2\n",
              "Jt3XWpI068vd2nf8nMmJAACAM6OkotIM6xainhGNdKmgWOOXpaiIsT8AACgnSioqjWEYio9tLx8v\n",
              "d20+cFqLvttvdiQAAOCkKKmoVMH1a+vl+0vG/rO/2qOMY4z9AQCA/SipqHRDujTT7VH+ulxYrHFL\n",
              "tzH2BwAAdqOkotIZhqH4ge1V18tdW7PP6G/J+8yOBAAAnAwlFVUiqF4tTX6gjSRp7ldpSj961uRE\n",
              "AADAmVBSUWUG3xKs3i39dbmoWM8v3abComKzIwEAACdBSUWVMQxDMwdGy9fbXSkHc5XwH8b+AADg\n",
              "5lBSUaUC/Lz1ygNtJUl//CZNu3PyTE4EAACcASUVVW5gp6a6q3VjFRRZNW7pNhUw9gcAADdASUWV\n",
              "MwxDrz/UXn61PLTjUJ7eXrvX7EgAAMDBUVJRLRr7emv6gJKx/5++TdfOw4z9AQDAtdldUtPT09W9\n",
              "e3dFRUWpS5cuSk1NLXNdYmKiIiMj1aJFC40aNUoFBQU3tW/79u3q1auXWrdurdatW2vFihXlOC04\n",
              "ov4xQbqnTRMVFpeM/S8XMvYHAABls7ukxsXFafTo0UpLS9OECRM0YsSIq9bs379fkydPVnJysjIy\n",
              "MnT06FEtXLjwhvsuXLigAQMG6LXXXtOuXbu0Y8cO3XbbbRU7QzgMwzA046H2ql/bQzuP5OkvazLM\n",
              "jgQAAByUXSX12LFj2rRpk4YPHy5Jio2NVXZ2tjIybMvGsmXL1L9/fwUEBMgwDI0ZM0ZLliy54b4P\n",
              "PvhAv/rVr9SzZ09JksVikb+/f5lZ8vPzlZeXZ7MVFRXZd/aodv51vTR9QDtJ0l/WZGjHoVyTEwEA\n",
              "AEdkV0nNzs5WYGCg3N3dJZW8MxYSEqKsrCybdVlZWQoNDS29HRYWVrrmevt27twpLy8v9evXTx06\n",
              "dNBjjz2m48ePl5ll5syZ8vPzs9k2btxoz+nAJP2iA3Vf+wDG/gAA4Joc6sKpwsJCffPNN0pISNCW\n",
              "LVvUtGlT/fa3vy1z7aRJk5Sbm2uzde3atZoTozwMw9CrA9qpYR1P7c45q/mr082OBAAAHIxdJbVZ\n",
              "s2Y6cuSICgsLJUlWq1VZWVkKCQmxWRcSEqIDBw6U3s7MzCxdc6N9vXv3VtOmTWUYhoYPH64NGzaU\n",
              "mcXLy0u+vr42m8Vised0YKKGPl569cGSsf9f1+5VysEz5gYCAAAOxa6S2rhxY3Xq1EnvvfeeJGn5\n",
              "8uUKDg5WRESEzbrY2FglJSUpJydHVqtVCxYs0NChQ2+47+GHH9YPP/ygvLySH0+0atUqxcTEVPgk\n",
              "4Zjuax+oftGBKiq26vl/blN+IZ8pBgAAJewe9yckJCghIUFRUVGKj4/X4sWLJUkjR45UUlKSJCk8\n",
              "PFzTpk1Tjx49FBERIX9/f8XFxd1wX0hIiF588UV1795d0dHRWr16tRYsWFBZ5woHNH1AOzXy8VT6\n",
              "sXP64zeM/QEAQAnDarVazQ5RWcaOHau5c+eaHQN2+mJHjsa8t1luhrT8t93VMaS+2ZEAAIDJHOrC\n",
              "KdRMfdsFaECHIBVbpXFLt+lSAWN/AABqOkoqHMLUB9rKv66X9h4/r3lfp5kdBwAAmIySCodQv46n\n",
              "Xn+ovSRpYfI+bT5wyuREAADATJRUOIy72zTRwE5NZbVK45emMPYHAKAGo6TCobzSr62a+Hpp34nz\n",
              "mvPlHrPjAAAAk1BS4VD8ansofmC0JCnxv/v1QyZjfwAAaiJKKhxO71aNNfiW4J/G/tt04XKh2ZEA\n",
              "AEA1o6TCIb3cr40C/byVefKCZn3B2B8AgJqGkgqH5FfLQ/GxJWP/d9dlasO+kyYnAgAA1YmSCod1\n",
              "R5S/hnZpJkl6YVmKzucz9gcAoKagpMKhvXR/awX5eSvr1AW98cVus+MAAIBqQkmFQ6vr7aFZg2Ik\n",
              "SX9ff0DrMk6YnAgAAFQHSiocXs/IRhrWLUSSNH5Zis4x9gcAwOVRUuEUJt3XWk3r1dKhMxc1c9Uu\n",
              "s+MAAIAqRkmFU/DxctfsQSVX+7//fZaS04+bnAgAAFQlSiqcRveIRnrs1lBJ0oRlKTp7qcDkRAAA\n",
              "oKpQUuFUJvRtpZAGtXU495JmfM7YHwAAV0VJhVOp87Ox/4c/ZGvtnmMmJwIAAFWBkgqn0y28oUZ0\n",
              "D5MkTVy+XbkXGfsDAOBqKKlwSi/0bamwhrWVk3dJr3220+w4AACgklFS4ZRqe7pr9uAYGYa0dPNB\n",
              "rd591OxIAACgElFS4bS6hDXQUz2aS/pp7H+BsT8AAK6CkgqnNu7elgpvVEfHzuZr2mepZscBAACV\n",
              "hJIKp+btYdHswTFyM6QVPx7S1zsZ+wMA4AooqXB6t4TW16jbwiVJL67crtPnL5ucCAAAVBQlFS7h\n",
              "D3dHqYV/HR0/m6+pnzL2BwDA2VFS4RK8PSx68+EOcjOkT7Ye1hc7csyOBAAAKoCSCpfRoVk9xd3R\n",
              "QpL08sfbdYqxPwAATouSCpfy3F2RimrioxPnLmvKJzvMjgMAAMqJkgqX4uVu0ZzBMbK4Gfos5Yg+\n",
              "TzlidiQAAFAOlFS4nOjgenq6V8nYf/InO3TiXL7JiQAAgL0oqXBJz94ZqVYBdXXq/GVN/niHrFar\n",
              "2ZEAAIAdKKlwSZ7ubpozOEbubob+tSNHnzH2BwDAqVBS4bLaNfXTM70jJJWM/Y+dvWRyIgAAcLMo\n",
              "qXBpz/SOUJtAX525UKCXVjL2BwDAWVBS4dKujP09LIa+3nlUn2w9bHYkAABwEyipcHltgnz17J2R\n",
              "kqRXklJ1LI+xPwAAjo6Sihrht71aqF1TX+VeLNCLK7cz9gcAwMFRUlEjeFjc9ObgDvKwGPpm1zGt\n",
              "+PGQ2ZEAAMB1UFJRY7QMqKvn7oqSJE39NFU5uYz9AQBwVJRU1Chxt4crJthPZy8VatKKFMb+AAA4\n",
              "KEoqahR3S8nV/p4WN63Zc1xLNx80OxIAACgDJRU1TmSTuhp7T8nY/9VPd+rwmYsmJwIAAL9ESUWN\n",
              "NOq2cHUMqaez+YWasJyxPwAAjsbukpqenq7u3bsrKipKXbp0UWpqapnrEhMTFRkZqRYtWmjUqFEq\n",
              "KCi4qX2SZLVadeedd6pevXr2xgNuisXN0JzBMfJyd1Ny+gl9+EO22ZEAAMDP2F1S4+LiNHr0aKWl\n",
              "pWnChAkaMWLEVWv279+vyZMnKzk5WRkZGTp69KgWLlx4w31XzJs3Ty1atCjfGQE3qYW/j8bd01KS\n",
              "NOPzXTp4+oLJiQAAwBV2ldRjx45p06ZNGj58uCQpNjZW2dnZysjIsFm3bNky9e/fXwEBATIMQ2PG\n",
              "jNGSJUtuuE+SUlNT9fHHH2vixIkVPTfghp7s2Vy3hNbXOcb+AAA4FLtKanZ2tgIDA+Xu7i5JMgxD\n",
              "ISEhysrKslmXlZWl0NDQ0tthYWGla663r6CgQKNGjVJCQoIsFst1s+Tn5ysvL89mKyoqsud0AFnc\n",
              "DM0eFC1vDzf9N+Ok3v8+68YPAgAAVc6hLpyaNm2aBg4cqNatW99w7cyZM+Xn52ezbdy4sRpSwtWE\n",
              "+/vohXtbSZJeX7VL2acY+wMAYDa7SmqzZs105MgRFRYWSiq5wCkrK0shISE260JCQnTgwIHS25mZ\n",
              "maVrrrfv3//+t+bPn6+wsDD17NlTeXl5CgsL0/Hjx6/KMmnSJOXm5tpsXbt2ted0gFIjuoepa1gD\n",
              "XbhcpBeWpai4mLE/AABmsqukNm7cWJ06ddJ7770nSVq+fLmCg4MVERFhsy42NlZJSUnKycmR1WrV\n",
              "ggULNHTo0BvuS05O1oEDB5SZmanvvvtOvr6+yszMlL+//1VZvLy85Ovra7Pd6CMCwLW4uRmaNSha\n",
              "tTwsWr/vpN77/sCNHwQAAKqM3eP+hIQEJSQkKCoqSvHx8Vq8eLEkaeTIkUpKSpIkhYeHa9q0aerR\n",
              "o4ciIiLk7++vuLi4G+4DzBTWqI4m/rpk7D9z1W4dOHne5EQAANRchtWFLmceO3as5s6da3YMOLHi\n",
              "Yqt+884Gbdh3Sl3DGujD0b+Sm5thdiwAAGoch7pwCjCbm5uh2YNiVNvToo2Zp/TuukyzIwEAUCNR\n",
              "UoFfaNagtibdV/ITJmZ9uVv7TzD2BwCgulFSgTIM6xqiHhENdamgWOOXblMRV/sDAFCtKKlAGdzc\n",
              "DL0RG606nhZtOnBai/+73+xIAADUKJRU4BqC69fWy/3aSJJmf7lHe4+fMzkRAAA1ByUVuI6hXZrp\n",
              "tshGyi8s1jjG/gAAVBtKKnAdhlEy9q/r5a4tWWf0TvI+syMBAFAjUFKBGwiqV0uTfxr7v/l1mtKP\n",
              "njU5EQAAro+SCtyEwZ2D1aulvy7/NPYvLCo2OxIAAC6NkgrcBMMwFD8wWnW93bXtYK4S/sPYHwCA\n",
              "qkRJBW5SgJ+3XnmgrSTprW/StSeHsT8AAFWFkgrYIbZTU/Vp1ViXi0rG/gWM/QEAqBKUVMAOhmHo\n",
              "9YHt5VfLQ9sP5WrB2r1mRwIAwCVRUgE7NfH11rT+JWP/P61O164jeSYnAgDA9VBSgXIY0CFId7dp\n",
              "ooIiq57/J2N/AAAqGyUVKAfDMDTjoXaqV9tDO4/k6S9rMsyOBACAS6GkAuXUuK63pg9oJ0n68+oM\n",
              "7TiUa3IiAABcByUVqIAHogP163YBKiy2atzSbbpcyNgfAIDKQEkFKsAwDL36YDs1qOOp3TlnNX91\n",
              "utmRAABwCZRUoIIa+Xjp1Z/G/n9du1fbDzL2BwCgoiipQCW4PzpQ90cHqqjYqueXblV+YZHZkQAA\n",
              "cGqUVKCSvDqgnRr5eCrt6Dm99Q1jfwAAKoKSClSSBnU89dqD7SVJC/69V1uzz5gbCAAAJ0ZJBSpR\n",
              "33YB6h8TpGKrNG7pNl0qYOwPAEB5UFKBSjatf1s18vFSxrFzmvdNmtlxAABwSpRUoJLVr+Op1x8q\n",
              "udr/b//Zp80HTpucCAAA50NJBarAPW0DNLBjUxVbpfGM/QEAsBslFagirzzQVo3remnfifOa8+Ue\n",
              "s+MAAOBUKKlAFfGr7aGZA0uu9k/8735tyjxlciIAAJwHJRWoQn1aN9GgW4Jl/elq/4uXGfsDAHAz\n",
              "KKlAFZvcr40CfL2VefKCZn252+w4AAA4BUoqUMX8ankoPrZk7L/4v5n6ft9JkxMBAOD4KKlANejV\n",
              "srGGdG4mSRq/LEUXLheanAgAAMdGSQWqyUv9WivIz1tZpy7ojX8x9gcA4HooqUA18fX20BuDoiVJ\n",
              "/7v+gNbtPWFyIgAAHBclFahGt0X66zfdQiRJLyxL0bl8xv4AAJSFkgpUsxfva62m9Wrp4OmLmrlq\n",
              "l9lxAABwSJRUoJr5eLlr1k9j//e/z9J36Yz9AQD4JUoqYIIeEY306K9CJUkTlqfo7KUCkxMBAOBY\n",
              "KKmASSb+upWaNailQ2cu6nXG/gAA2KCkAiap4+WuWbExkqQlG7P177TjJicCAMBxUFIBE93aoqFG\n",
              "dA+TJE1cnqI8xv4AAEiipAKme6FvS4U2rK0juZf02mc7zY4DAIBDoKQCJqvt6a7Zg2JkGNI/Nx3U\n",
              "mt3HzI4EAIDpKKmAA+javIGe7NFckjRxRYpyLzD2BwDUbHaX1PT0dHXv3l1RUVHq0qWLUlNTy1yX\n",
              "mJioyMhItWjRQqNGjVJBQcEN961evVpdu3ZVmzZt1LZtW73wwgsqLi4u56kBzmXcPS3VvFEdHc3L\n",
              "17TPyv53BQBATWF3SY2Li9Po0aOVlpamCRMmaMSIEVet2b9/vyZPnqzk5GRlZGTo6NGjWrhw4Q33\n",
              "1a9fXx9++KF27typzZs3a926dfr73/9esTMEnEQtT4vmDI6WYUgrfjykb3YeNTsSAACmsaukHjt2\n",
              "TJs2bdLw4cMlSbGxscrOzlZGRobNumXLlql///4KCAiQYRgaM2aMlixZcsN9HTt2VHh4uCTJ29tb\n",
              "HTp0UGZmZplZ8vPzlZeXZ7MVFRXZdfKAo7kltIFG3Vbyb2DSyu06c+GyyYkAADCHXSU1OztbgYGB\n",
              "cnd3lyQZhqGQkBBlZWXZrMvKylJoaGjp7bCwsNI119v3czk5OVq2bJn69etXZpaZM2fKz8/PZtu4\n",
              "caM9pwM4pLF3R6mFfx0dP5uvqUmM/QEANZNDXjiVl5enBx54QC+88II6d+5c5ppJkyYpNzfXZuva\n",
              "tWs1JwUqn7eHRXMGx8jNkD7eelhfpuaYHQkAgGpnV0lt1qyZjhw5osLCQkmS1WpVVlaWQkJCbNaF\n",
              "hITowIEDpbczMzNL11xvnySdPXtWffv21YABAzR27NhrZvHy8pKvr6/NZrFY7DkdwGF1DKmv0be3\n",
              "kCS9tHK7Tp1n7A8AqFnsKqmNGzdWp06d9N5770mSli9fruDgYEVERNisi42NVVJSknJycmS1WrVg\n",
              "wQINHTr0hvvOnTunvn37qm/fvnr55Zcr4/wAp/XcXZGKbOyjE+cu6xXG/gCAGsbucX9CQoISEhIU\n",
              "FRWl+Ph4LV68WJI0cuRIJSUlSZLCw8M1bdo09ejRQxEREfL391dcXNwN97311lvauHGjVqxYoQ4d\n",
              "OqhDhw6aMWNGZZ0r4FSujP0tboY+3XZYq7YfMTsSAADVxrBarVazQ1SWsWPHau7cuWbHACrVnC/3\n",
              "6M9rMtSgjqe++sPtauTjZXYkAACqnENeOAXg/z3bJ0Itm9TVqfOXNeWTHWbHAQCgWlBSAQfn5W7R\n",
              "mw+XjP1Xbc/RZymHzY4EAECVo6QCTqBdUz8907vkAsXJH+/Q8bP5JicCAKBqUVIBJ/G73hFqHeir\n",
              "0xcK9PLH2+VCHycHAOAqlFTASXi6u2nO4Gi5uxn6MvWokrYx9gcAuC5KKuBE2gb56dk7IyVJUz5J\n",
              "1bG8SyYnAgCgalBSASfzdO8Wahvkq9yLBXpxJWN/AIBroqQCTsbD4qY3H46Rh8XQN7uOaeWWQ2ZH\n",
              "AgCg0lFSASfUKsBXz90VJUmampSqnFzG/gAA10JJBZxU3O3hig72U96lQk1akcLYHwDgUiipgJNy\n",
              "t7hpzuAYeVrctGbPcS3bfNDsSAAAVBpKKuDEoprU1R/uLhn7T/90p47kXjQ5EQAAlYOSCji5Ubc1\n",
              "V4dm9XQ2v1ATlnO1PwDANVBSASdXOvZ3d9N/0o7rox+yzY4EAECFUVIBFxDR2Efj7ikZ+7/2+S4d\n",
              "OsPYHwDg3CipgIt4qme4OoXU07n8Qk1YxtX+AADnRkkFXITFzdCcwTHycnfTdxkn9MHGLLMjAQBQ\n",
              "bpRUwIWE+/vohb6tJEkzPt+l7FMXTE4EAED5UFIBF/NE9zB1CauvC5eL9MKyFBUXM/YHADgfSirg\n",
              "YtzcDM0eFCNvDzet33dS739/wOxIAADYjZIKuKCwRnU08aex/+urdivrJGN/AIBzoaQCLuqxW8PU\n",
              "rXkDXSwo0rhl2xj7AwCcCiUVcFFXxv61PS3auP+U/nd9ptmRAAC4aZRUwIWFNKytSb8uGfu/8cVu\n",
              "ZZ44b3IiAABuDiUVcHHDuoWqe4uGulRQrHFLt6mIsT8AwAlQUgEX5+Zm6I3YaNXxtGjTgdNa/N/9\n",
              "ZkcCAOCGKKlADdCsQW29eH9rSdLsL/do7/FzJicCAOD6KKlADfGbriHqGdFI+YXFGs/YHwDg4Cip\n",
              "QA1hGIbeGBQtHy93/Zh1Ronf7TM7EgAA10RJBWqQpvVqaXK/krH/nK/SlHHsrMmJAAAoGyUVqGEe\n",
              "7txMd0T563JhsZ5fmqLComKzIwEAcBVKKlDDGIah+Nj2quvtrm3ZZ7QwmbE/AMDxUFKBGijQr5am\n",
              "9GsjSfrj1+lKO8rYHwDgWCipQA016JZg3dmqsS4XFev5f25TAWN/AIADoaQCNZRhGJo5sL18vd21\n",
              "/VCuEv691+xIAACUoqQCNVgTX29N7d9WkvTWt+nadSTP5EQAAJSgpAI13EMdm+qu1k1UUGTVuKWM\n",
              "/QEAjoGSCtRwhmHo9YHtVK+2h1IP5+mvaxj7AwDMR0kFoMZ1vTXtp7H//NXpSj2ca3IiAEBNR0kF\n",
              "IEnqHxOkvm0DVFhs1fP/3KbLhYz9AQDmoaQCkFQy9n/1wXaqX9tDu3PO6s+r082OBACowSipAEr5\n",
              "1/XSqw+2kyT9Ze1e7TjE2B8AYA5KKgAb/aKDdH/7QBX9NPbPLywyOxIAoAaipAK4yvQBbdWwjqf2\n",
              "HD2rP33L2B8AUP0oqQCu0tDHS6/9NPZ/e+1ebcs+Y24gAECNY3dJTU9PV/fu3RUVFaUuXbooNTW1\n",
              "zHWJiYmKjIxUixYtNGrUKBUUFFR4H4Dq8+v2gXogJkjFVun5pdt0qYCxPwCg+thdUuPi4jR69Gil\n",
              "paVpwoQJGjFixFVr9u/fr8mTJys5OVkZGRk6evSoFi5cWKF9AKrf9P5t1cjHSxnHzumP3zD2BwBU\n",
              "H8NqtVpvdvGxY8cUERGhU6dOyd3dXVarVYGBgfruu+8UERFRum727Nnau3evFixYIElatWqVXn/9\n",
              "dX333Xfl3vdL+fn5ys/Pt7lv8uTJeuutt+x/FQBc01epORr9j81yM6S72zSRm2GYHQkAUMlG3tZc\n",
              "t4Q2MDuGDXd7FmdnZyswMFDu7iUPMwxDISEhysrKsimpWVlZCg0NLb0dFhamrKysCu37pZkzZ2ra\n",
              "tGk29/3qV7+y53QA3IR72gbooY5NtXLLIX2ZetTsOACAKtAvOsjsCFexq6Q6kkmTJmns2LE2902e\n",
              "PNmkNIBrmzmwvW5t0VD5fC4VAFxS2yBfsyNcxa6S2qxZMx05ckSFhYWl4/6srCyFhITYrAsJCdHe\n",
              "vXtLb2dmZpauKe++X/Ly8pKXl5fNfRaLxZ7TAXCTvD0serhzM7NjAABqELsunGrcuLE6deqk9957\n",
              "T5K0fPlyBQcH24z6JSk2NlZJSUnKycmR1WrVggULNHTo0ArtAwAAQM1h99X9CQkJSkhIUFRUlOLj\n",
              "47V48WJJ0siRI5WUlCRJCg8P17Rp09SjRw9FRETI399fcXFxFdoHAACAmsOuq/sd3dixYzV37lyz\n",
              "YwAAAKCC+I1TAAAAcDiUVAAAADgcSioAAAAcDiUVAAAADoeSCgAAAIdDSQUAAIDDoaQCAADA4VBS\n",
              "AQAA4HBc6of5Dxw4UGFhYdX2fEVFRdq4caO6du0qi8VSbc9b0/G6m4PXvfrxmpuD190cvO7mMON1\n",
              "Dw0N1f/8z//ccJ1LldTqlpeXJz8/P+Xm5srX19fsODUGr7s5eN2rH6+5OXjdzcHrbg5Hft0Z9wMA\n",
              "AMDhUFIBAADgcCipAAAAcDiU1Arw8vLSK6+8Ii8vL7Oj1Ci87ubgda9+vObm4HU3B6+7ORz5defC\n",
              "KQAAADgc3kkFAACAw6GkAgAAwOFQUgEAAOBwKKkAAABwOJRUoIYICwtT48aNVVBQUHrfmjVrZBiG\n",
              "nnvuOa1du1a1atVShw4dFB0drW7dumnDhg2la6dOnSrDMJScnFx635///GeNGDGi9PahQ4c0dOhQ\n",
              "hYeHKzIyUnfccYfNMQBHcPbsWfn4+Oipp56yuf/rr7/W7bffrvDwcHXu3Fldu3bVwoULS/eHhYWp\n",
              "ZcuW6tChQ+m2ffv26o6PGqygoEDTpk1Tq1at1LZtW3Xs2FEPPvigtm7davM1/Mr20EMPSZLWrl0r\n",
              "wzD06quvlh5rx44dNr9K/srf75iYGEVERGjAgAFat25d6f53331Xfn5+Nsd/5plnrtrXrl079e7d\n",
              "W2lpaRU+X1NL6s//wbds2VLx8fGSpMzMTFksFpsXolu3blfti4mJ0S233KI1a9aUHnPdunW64447\n",
              "FBkZqfDwcD3yyCM6cuRI6f4RI0aoadOm6tChg1q1aqVHH31UFy5c0MiRI0ufy9PT0+YL0dmzZ6/K\n",
              "fvjwYdWpU0cnT560uX/Lli1q1KiRLl++bPNcV7bFixdfN8fPX5utW7detfbKJpX8pbvyZ0kyDEPt\n",
              "27e3WXcl35V90dHRioqK0iOPPKKdO3eW878cnFVISIiSkpJKbycmJqpz586lt1u2bKmtW7cqJSVF\n",
              "jz76qJ588kmbx4eFhWnChAllHvv8+fPq1auXOnbsqH379ik9PV1TpkzRAw88oB07dlTNCQHl8NFH\n",
              "H+mWW27RihUrdO7cOUnSV199pccff1zx8fHat2+fNm3apBUrVujQoUNXPXbr1q2lW/v27c04BdRQ\n",
              "TzzxhLZs2aL169crNTVVW7Zs0e9+9zvt2bNH0v9/Db+yrVy5svSxAQEBmj9/vk6cOHHN43/00Ufa\n",
              "tm2bMjIy9Pjjj+u+++7T999/X7q/d+/eNsf/y1/+ctW+HTt26JZbbtFzzz1X4fM1/Z3UK//gV69e\n",
              "rZkzZ2rjxo2SpLp169q8ED9/ka7s27Ztm1566SU9/PDDslqtSklJUf/+/TVlyhSlp6dr37596tCh\n",
              "g3r16mVTAMePH1/6+H379unPf/6z3nnnndLnCgoKsvlCVLdu3atyBwUF6c4779QHH3xgc39iYqIe\n",
              "ffRReXp62jzXle2JJ564bo5r+eVxriU5OdlmXcOGDW32paSkaPfu3brjjjvUo0cP7d+//5rHgut5\n",
              "4okntGjRIklSbm6uNmzYoL59+5a5tk+fPjpw4IDNff3791dBQYHNF74rlixZovr169uU2D59+uiJ\n",
              "J57QrFmzKvEsgIpJTEzUhAkTdPvtt+ujjz6SJE2fPl1TpkxR9+7dS9cFBwdr2rRpZsUEbKSnp2vl\n",
              "ypVatGiR6tevX3r/XXfdpSFDhtzw8U2aNNGjjz5q827q9QwcOFBjxozRnDlz7M5a1veP8jC9pF7R\n",
              "tGlTtWrVyu6T6tu3r06cOKGTJ09q1qxZevLJJ9WnT5/S/RMmTJCfn58+/PDDqx7r5eWlnj17lvuF\n",
              "fOqpp0q/4UtSfn6+Pvjgg6tGSDdS0Rz2cnNz05gxY3Tvvffqr3/9a7U8JxxDjx49lJmZqcOHD2vJ\n",
              "kiUaPHiwLBZLmWuXLVumoUOH2txnGIbi4+P14osvqqioyGbfjz/+qFtvvfWq49x6663avHlz5Z0E\n",
              "UAE7d+5Udna27r33Xj311FNKTEyUVPL398rE7nqGDBliM626ePFiVUcGJJVMaiMiItSgQYNrrtmz\n",
              "Z4/N38/x48fb7H/ppZe0ZMmSm36Dqlu3bkpNTS29vWbNGpvjz5s376rHFBcXa+XKlVd9/ygP9wof\n",
              "oZLs3r1bJ0+eVK9evXT+/HmdPXvWZpTdtm1bvf/++1c9bsmSJQoJCVGjRo30448/KjY29qo1V75J\n",
              "/nJ0mZubq7Vr12rmzJnlytyvXz+NGTNGW7duVYcOHbRy5UpFRkaqXbt2pWtmz56td999t/T2/Pnz\n",
              "ddttt9md4+fHuf/++zVjxowy1912222lpaN+/fo2H4X4pW7duunrr7++0WnCxTz66KN699139fHH\n",
              "H+v999+3+Xd15QtcTk6OCgsLbSYYV/Tp00fNmjWz+R80wFkkJibqsccek8Vi0X333ae4uDjt2rXr\n",
              "qnXDhg1TamqqcnJylJaWJl9fX0kl07+ff28CzLJ3717Fxsbq4sWL6t69ux5//PHScf+1NGjQQM89\n",
              "95xefvllTZo06YbP8cvf99S7d299/PHHZa69UmCzsrLUoEGDMr9/2Mv0kjpkyBC5ublpz549mjdv\n",
              "nvz9/XX+/PnSkX5Zfl5gmzZtavMZu5sxe/ZsLVq0SGlpabr//vvVu3fvcmV3d3fXY489pkWLFulP\n",
              "f/qTFi1adNW7qOPHj7/m5zLsyXG94/xccnKy6tWrd1P5+WVjNdNjjz2mTp06KSoqSpGRkTb7rnyB\n",
              "Kygo0NNPP61hw4Zp/fr1MgzDZl18fLwGDBigZ599tvS+Tp062VxkcsX69evVqVOnqjkZwA4FBQX6\n",
              "xz/+IQ8Pj9KPal24cEGJiYnq2LGjNm7cqI4dO0pS6f+8GYah4uJi0zIDV3Ts2FEZGRk6ffq06tev\n",
              "rxYtWmjr1q2lbzrcrOeee05RUVHX/KjXz/3www82b7xdz5UCe+HCBQ0aNEhPP/106cdpysv0cf9H\n",
              "H32kXbt26auvvtLEiRNv6krJn39e9fPPP1dMTIykkm+S69evv2r9L79Jjh8/XikpKUpLS9OmTZu0\n",
              "YMGCcud/8skn9cEHHygjI0Pr16+36+3tysxRHvb85YPrCAoK0syZM/XGG29cc42Hh4feeustHTx4\n",
              "sMwvfp06dVLPnj319ttvl973yCOP6OTJkzbHXb16tRYtWnTVyAkwQ1JSksLDw3Xo0CFlZmYqMzNT\n",
              "GzZs0D/+8Q9NnDhR06dPt/lpFOfPnzcxLWArMjJSAwYM0FNPPaUzZ86U3m/v39PatWtr8uTJmjJl\n",
              "ynXXffLJJ3r77bf1/PPP2338d955R6tWrdKWLVvseuwvmf5O6hV33XWXfvvb3+rll1/WW2+9Va5j\n",
              "jBs3Tn369NG9995b+rnUWbNm6fTp03rkkUeuWh8SEqL58+crLi5OI0aMUK1atex+zlatWqlVq1Z6\n",
              "5JFHFBsbWzoSskdl5LBHcXGxEhMT9cUXX+jHH3+s0ueCY/r5BXzXUrt2bc2YMUNTp07Vgw8+eNX+\n",
              "GTNmqFWrVqW369Spo7Vr1+r5559X8+bN5e7ursDAQCUlJSk6Oroy4wPlkpiYqGHDhtnc17p1azVt\n",
              "2lQFBQVKTEzU+PHjdfjwYfn7+8vT01Pz58+3uXh2yJAhNl+j582bV+5pHGCvd999VzNmzFC3bt3k\n",
              "7u6u+vXry9/fXxMmTFB+fn7pR7auqFu3rs2PDbziqaee0ty5c5Wfn29z/5AhQ+Tt7a3z58+rTZs2\n",
              "WrVqlc1nta+M9K9o2bJlme+WBgUFady4cZoyZYo+/fTT8p+w1UShoaHWLVu2lN4+deqUtUGDBtZN\n",
              "mzZZ3dzcrDExMTZbXl6edf/+/VY/P79rHjM5Odnas2dPa0REhDUsLMz68MMPWw8ePFi6//HHH7fO\n",
              "mzfP5jG9evWyzpkz55q5bmTRokVWSdb//Oc/Nvc//vjj1qCgIJtzmDVr1k3l+HmGstZarVbrmjVr\n",
              "rDExMaW3JVnbtWtn83y7d++22de+fXtrZGSkdciQIdbU1NSbPkcAAIDqZFitfDARAAAAjsX0z6QC\n",
              "AAAAv+Qwn0l1VMeOHdM999xz1f133323Zs+ebUIiAAAA18e4HwAAAA6HcT8AAAAcDiUVAAAADoeS\n",
              "CgAAAIdDSQUAAIDDoaQCAADA4VBSAQAA4HAoqQAAAHA4/wcpQ9Eai+VuKQAAAABJRU5ErkJggg==\n",
              "\">\n",
              "      </div>\n",
              "      <script type=\"text/javascript\">\n",
              "        (() => {\n",
              "          const chartElement = document.getElementById(\"chart-91490d48-be7e-4eba-be7b-7c02dd85c724\");\n",
              "          async function getCodeForChartHandler(event) {\n",
              "            const chartCodeResponse =  await google.colab.kernel.invokeFunction(\n",
              "                'getCodeForChart', [\"chart-91490d48-be7e-4eba-be7b-7c02dd85c724\"], {});\n",
              "            const responseJson = chartCodeResponse.data['application/json'];\n",
              "            await google.colab.notebook.addCell(responseJson.code, 'code');\n",
              "          }\n",
              "          chartElement.onclick = getCodeForChartHandler;\n",
              "        })();\n",
              "      </script>\n",
              "      <style>\n",
              "        .colab-quickchart-chart-with-code  {\n",
              "            display: block;\n",
              "            float: left;\n",
              "            border: 1px solid transparent;\n",
              "        }\n",
              "\n",
              "        .colab-quickchart-chart-with-code:hover {\n",
              "            cursor: pointer;\n",
              "            border: 1px solid #aaa;\n",
              "        }\n",
              "      </style>"
            ]
          },
          "metadata": {}
        }
      ]
    },
    {
      "cell_type": "markdown",
      "source": [
        "**If you want to see missing values for all columns, use this command:**"
      ],
      "metadata": {
        "id": "WS3jnHEtioGf"
      }
    },
    {
      "cell_type": "code",
      "source": [
        "Train_data.isnull().sum()"
      ],
      "metadata": {
        "colab": {
          "base_uri": "https://localhost:8080/"
        },
        "id": "RjWa2BueiuZ1",
        "outputId": "67b5e867-8d02-4f9a-fb7b-5a0c27aa0f20"
      },
      "execution_count": null,
      "outputs": [
        {
          "output_type": "execute_result",
          "data": {
            "text/plain": [
              "MRNO                 0\n",
              "AGE                  0\n",
              "GENDER               0\n",
              "DISTRICT             0\n",
              "TEHSIL               0\n",
              "REPORT_VERIFIED    238\n",
              "CPT_ID               0\n",
              "RESULT_VALUE         0\n",
              "CPT_ID.1             0\n",
              "RESULT_TEXT          0\n",
              "dtype: int64"
            ]
          },
          "metadata": {},
          "execution_count": 14
        }
      ]
    },
    {
      "cell_type": "markdown",
      "source": [
        "## **2.2-Visualization of Missing Values**"
      ],
      "metadata": {
        "id": "3_HLn8hrjfC_"
      }
    },
    {
      "cell_type": "markdown",
      "metadata": {
        "id": "sKSUNs2rxOy1"
      },
      "source": [
        "### **Missingo**[10]\n",
        "It is widespread to find missing values in a real-world dataset. We need to understand the missing values before imputing. Missingo offers a quick and helpful way to visualize the missing values."
      ]
    },
    {
      "cell_type": "markdown",
      "metadata": {
        "id": "5GBu0R6TxaR5"
      },
      "source": [
        "**Installation**\n"
      ]
    },
    {
      "cell_type": "code",
      "metadata": {
        "id": "_LqBtqghxd_7",
        "colab": {
          "base_uri": "https://localhost:8080/"
        },
        "outputId": "411aa4b8-d09f-461f-f367-de46013123ac"
      },
      "source": [
        "!pip install missingno\n"
      ],
      "execution_count": null,
      "outputs": [
        {
          "output_type": "stream",
          "name": "stdout",
          "text": [
            "Requirement already satisfied: missingno in /usr/local/lib/python3.10/dist-packages (0.5.2)\n",
            "Requirement already satisfied: numpy in /usr/local/lib/python3.10/dist-packages (from missingno) (1.23.5)\n",
            "Requirement already satisfied: matplotlib in /usr/local/lib/python3.10/dist-packages (from missingno) (3.7.1)\n",
            "Requirement already satisfied: scipy in /usr/local/lib/python3.10/dist-packages (from missingno) (1.11.3)\n",
            "Requirement already satisfied: seaborn in /usr/local/lib/python3.10/dist-packages (from missingno) (0.12.2)\n",
            "Requirement already satisfied: contourpy>=1.0.1 in /usr/local/lib/python3.10/dist-packages (from matplotlib->missingno) (1.2.0)\n",
            "Requirement already satisfied: cycler>=0.10 in /usr/local/lib/python3.10/dist-packages (from matplotlib->missingno) (0.12.1)\n",
            "Requirement already satisfied: fonttools>=4.22.0 in /usr/local/lib/python3.10/dist-packages (from matplotlib->missingno) (4.44.3)\n",
            "Requirement already satisfied: kiwisolver>=1.0.1 in /usr/local/lib/python3.10/dist-packages (from matplotlib->missingno) (1.4.5)\n",
            "Requirement already satisfied: packaging>=20.0 in /usr/local/lib/python3.10/dist-packages (from matplotlib->missingno) (23.2)\n",
            "Requirement already satisfied: pillow>=6.2.0 in /usr/local/lib/python3.10/dist-packages (from matplotlib->missingno) (9.4.0)\n",
            "Requirement already satisfied: pyparsing>=2.3.1 in /usr/local/lib/python3.10/dist-packages (from matplotlib->missingno) (3.1.1)\n",
            "Requirement already satisfied: python-dateutil>=2.7 in /usr/local/lib/python3.10/dist-packages (from matplotlib->missingno) (2.8.2)\n",
            "Requirement already satisfied: pandas>=0.25 in /usr/local/lib/python3.10/dist-packages (from seaborn->missingno) (1.5.3)\n",
            "Requirement already satisfied: pytz>=2020.1 in /usr/local/lib/python3.10/dist-packages (from pandas>=0.25->seaborn->missingno) (2023.3.post1)\n",
            "Requirement already satisfied: six>=1.5 in /usr/local/lib/python3.10/dist-packages (from python-dateutil>=2.7->matplotlib->missingno) (1.16.0)\n"
          ]
        }
      ]
    },
    {
      "cell_type": "markdown",
      "metadata": {
        "id": "FADNe9Lix3Ys"
      },
      "source": [
        "**Usage**\n"
      ]
    },
    {
      "cell_type": "code",
      "metadata": {
        "id": "fqepihD_xoTi",
        "colab": {
          "base_uri": "https://localhost:8080/"
        },
        "outputId": "195c247c-d505-4500-e50f-10859fbce9a2"
      },
      "source": [
        "# importing necessary libraries\n",
        "import pandas as pd\n",
        "import missingno as mi\n",
        "# reading the dummy dataset\n",
        "#data = pd.read_excel(“dummy.xlsx”)\n",
        "# checking missing values\n",
        "Train_data.isnull().sum()"
      ],
      "execution_count": null,
      "outputs": [
        {
          "output_type": "execute_result",
          "data": {
            "text/plain": [
              "MRNO                 0\n",
              "AGE                  0\n",
              "GENDER               0\n",
              "DISTRICT             0\n",
              "TEHSIL               0\n",
              "REPORT_VERIFIED    238\n",
              "CPT_ID               0\n",
              "RESULT_VALUE         0\n",
              "CPT_ID.1             0\n",
              "RESULT_TEXT          0\n",
              "dtype: int64"
            ]
          },
          "metadata": {},
          "execution_count": 19
        }
      ]
    },
    {
      "cell_type": "markdown",
      "metadata": {
        "id": "kMyjK33fyAIr"
      },
      "source": [
        "Dummy dataset has 11 rows and four columns. Missing values presented in Min, Temp, and city variables. We can visualize using a bar graph and matrix. It also supports heatmap, dendrogram. For more details, please check this Github repository."
      ]
    },
    {
      "cell_type": "code",
      "metadata": {
        "id": "0jVLeXv2yCDd",
        "colab": {
          "base_uri": "https://localhost:8080/",
          "height": 1000
        },
        "outputId": "82f22514-e75e-4bd1-be1d-502d469756f4"
      },
      "source": [
        "#Visualizing using missingo\n",
        "print('Visualizing missing value using bar graph')\n",
        "mi.bar(Train_data, figsize = (10,5))\n",
        "print('Visualizing missing value using matrix')\n",
        "mi.matrix(Train_data, figsize = (10,5) )"
      ],
      "execution_count": null,
      "outputs": [
        {
          "output_type": "stream",
          "name": "stdout",
          "text": [
            "Visualizing missing value using bar graph\n",
            "Visualizing missing value using matrix\n"
          ]
        },
        {
          "output_type": "execute_result",
          "data": {
            "text/plain": [
              "<Axes: >"
            ]
          },
          "metadata": {},
          "execution_count": 21
        },
        {
          "output_type": "display_data",
          "data": {
            "text/plain": [
              "<Figure size 1000x500 with 3 Axes>"
            ],
            "image/png": "[encoded data removed]"
          },
          "metadata": {}
        },
        {
          "output_type": "display_data",
          "data": {
            "text/plain": [
              "<Figure size 1000x500 with 2 Axes>"
            ],
            "image/png": "[encoded data removed]"
          },
          "metadata": {}
        }
      ]
    },
    {
      "cell_type": "markdown",
      "metadata": {
        "id": "XYV__mY_ot7z"
      },
      "source": [
        "**Heatmap of missing values**"
      ]
    },
    {
      "cell_type": "markdown",
      "metadata": {
        "id": "sbSrUwtmowVM"
      },
      "source": [
        "Heatmaps are also useful to visualize your missing values, in particular at which point of the data do missing values exists."
      ]
    },
    {
      "cell_type": "code",
      "metadata": {
        "id": "lJ1zvi_BpGLq"
      },
      "source": [
        "import pandas as pd\n",
        "import seaborn as sns\n",
        "import numpy as np\n",
        "import matplotlib.pyplot as plt\n",
        "\n",
        "plt.style.use('fivethirtyeight')\n",
        "\n",
        "%matplotlib inline"
      ],
      "execution_count": null,
      "outputs": []
    },
    {
      "cell_type": "code",
      "metadata": {
        "id": "BibF54QEo0xB",
        "colab": {
          "base_uri": "https://localhost:8080/",
          "height": 720
        },
        "outputId": "615a33ab-aed6-4c51-83bc-ac3d39cb8e0a"
      },
      "source": [
        "plt.figure(figsize=(10, 6))\n",
        "sns.heatmap(Train_data.isnull(), yticklabels=False, cmap='viridis', cbar=False)"
      ],
      "execution_count": null,
      "outputs": [
        {
          "output_type": "execute_result",
          "data": {
            "text/plain": [
              "<Axes: >"
            ]
          },
          "metadata": {},
          "execution_count": 25
        },
        {
          "output_type": "display_data",
          "data": {
            "text/plain": [
              "<Figure size 1000x600 with 1 Axes>"
            ],
            "image/png": "[encoded data removed]"
          },
          "metadata": {}
        }
      ]
    },
    {
      "cell_type": "markdown",
      "metadata": {
        "id": "Bjlno6_vJrWT"
      },
      "source": [
        "## **2.3-Fill Missing Values in a Dataset**\n",
        "\n",
        "The scikit-learn library in Python offers the **SimpleImputer()** class which can be used for filling the missing values based on:\n",
        "\n",
        "- Mean of the known values\n",
        "- Median of the known values\n",
        "- Most frequent value among the known values\n",
        "\n",
        "So let’s go through all these methods one by one for filling the missing values of a dataset. I will first create a very simple dataset with some missing values:\n"
      ]
    },
    {
      "cell_type": "code",
      "metadata": {
        "id": "EwAapSDzIlmZ"
      },
      "source": [
        "import numpy as np\n",
        "data = np.array([[10, np.nan, 8],\n",
        "                 [9, 8, np.nan],\n",
        "                 [7, 10, 9]])"
      ],
      "execution_count": null,
      "outputs": []
    },
    {
      "cell_type": "code",
      "metadata": {
        "colab": {
          "base_uri": "https://localhost:8080/"
        },
        "id": "7T0jy1jtKHir",
        "outputId": "cc1359d2-01e9-4725-958d-ff9e04d3acbf"
      },
      "source": [
        "print(data)\n"
      ],
      "execution_count": null,
      "outputs": [
        {
          "output_type": "stream",
          "name": "stdout",
          "text": [
            "[[10. nan  8.]\n",
            " [ 9.  8. nan]\n",
            " [ 7. 10.  9.]]\n"
          ]
        }
      ]
    },
    {
      "cell_type": "markdown",
      "source": [
        "### **Data imputation**"
      ],
      "metadata": {
        "id": "bJvmZcJvmqeM"
      }
    },
    {
      "cell_type": "markdown",
      "source": [
        "**Filling Values with mean and Median**"
      ],
      "metadata": {
        "id": "7niTr_ixGxVB"
      }
    },
    {
      "cell_type": "markdown",
      "metadata": {
        "id": "pfYMTMvOKNAi"
      },
      "source": [
        "Here is how you can use the Mean of the other known values for filling the missing values:\n",
        "\n"
      ]
    },
    {
      "cell_type": "code",
      "metadata": {
        "id": "SAPCWk9XKOli"
      },
      "source": [
        "# Filling Values with mean\n",
        "from sklearn.impute import SimpleImputer\n",
        "mean_values = SimpleImputer(strategy='mean')\n",
        "data1 = mean_values.fit_transform(data)"
      ],
      "execution_count": null,
      "outputs": []
    },
    {
      "cell_type": "code",
      "metadata": {
        "colab": {
          "base_uri": "https://localhost:8080/"
        },
        "id": "nAxbT6vXKWUL",
        "outputId": "81f8a178-25cd-4c78-99cd-0a5fc8ba9b68"
      },
      "source": [
        "print(data1)\n"
      ],
      "execution_count": null,
      "outputs": [
        {
          "output_type": "stream",
          "name": "stdout",
          "text": [
            "[[10.   9.   8. ]\n",
            " [ 9.   8.   8.5]\n",
            " [ 7.  10.   9. ]]\n"
          ]
        }
      ]
    },
    {
      "cell_type": "markdown",
      "metadata": {
        "id": "XzSA3l3YKaCa"
      },
      "source": [
        "Here is how you can use the Median of the other known values for filling the missing values:\n",
        "\n"
      ]
    },
    {
      "cell_type": "code",
      "metadata": {
        "colab": {
          "base_uri": "https://localhost:8080/"
        },
        "id": "GJY6oLTkKfKZ",
        "outputId": "68aae929-c794-43a0-9cee-fcf777bfe977"
      },
      "source": [
        "# Filling Values with median\n",
        "from sklearn.impute import SimpleImputer\n",
        "median_values = SimpleImputer(strategy='median')\n",
        "data2 = median_values.fit_transform(data)\n",
        "print(data2)"
      ],
      "execution_count": null,
      "outputs": [
        {
          "output_type": "stream",
          "name": "stdout",
          "text": [
            "[[10.   9.   8. ]\n",
            " [ 9.   8.   8.5]\n",
            " [ 7.  10.   9. ]]\n"
          ]
        }
      ]
    },
    {
      "cell_type": "markdown",
      "source": [
        "**Filling Values with most Frequent Value**"
      ],
      "metadata": {
        "id": "By9D4oYjHA8w"
      }
    },
    {
      "cell_type": "markdown",
      "metadata": {
        "id": "aHelgUGeKnfi"
      },
      "source": [
        "Here is how you can use the most frequent value among the other known values for filling the missing values:"
      ]
    },
    {
      "cell_type": "code",
      "metadata": {
        "colab": {
          "base_uri": "https://localhost:8080/"
        },
        "id": "NE900achKj6a",
        "outputId": "03c82c2b-a9d6-4ef0-df06-5fb50000386c"
      },
      "source": [
        "# Filling values with most frequent values\n",
        "from sklearn.impute import SimpleImputer\n",
        "most_frequent = SimpleImputer(strategy='most_frequent')\n",
        "data3 = most_frequent.fit_transform(data)\n",
        "print(data3)"
      ],
      "execution_count": null,
      "outputs": [
        {
          "output_type": "stream",
          "name": "stdout",
          "text": [
            "[[10.  8.  8.]\n",
            " [ 9.  8.  8.]\n",
            " [ 7. 10.  9.]]\n"
          ]
        }
      ]
    },
    {
      "cell_type": "markdown",
      "metadata": {
        "id": "dCTUDxFjzd3g"
      },
      "source": [
        "**Mean/mode/median imputation**\n",
        "\n",
        "We can also do mean/median/mode imputation. For numerical data, we can compute it’s mean or median and use the result to replace missing values and for categorical (non-numerical) data, we can compute its mode to replace the missing value [24]"
      ]
    },
    {
      "cell_type": "markdown",
      "metadata": {
        "id": "RHy-lrI8zipr"
      },
      "source": [
        "For imputing, there are 3 main techniques shown below.\n",
        "\n",
        "- fillna — filling in null values based on given value (mean, median, mode, or specified value)\n",
        "- bfill / ffill — stands for backward fill and forward fill (filling in missing values based on the value after or before the column.)\n",
        "- Simple Imputer — Sk-learn’s built-in function that imputes missing values (commonly used alongside a pipeline when building ML models)"
      ]
    },
    {
      "cell_type": "markdown",
      "metadata": {
        "id": "XzkrPxWtzwlr"
      },
      "source": [
        "Below you can find examples of applying these methods to the price column if it had missing values."
      ]
    },
    {
      "cell_type": "code",
      "source": [
        "import pandas as pd\n",
        "Train_data = pd.read_csv('/content/drive/MyDrive/Datasets/Malyria_2-21-2021.csv',encoding = 'latin')"
      ],
      "metadata": {
        "id": "xGrR_8ULm_NM"
      },
      "execution_count": null,
      "outputs": []
    },
    {
      "cell_type": "code",
      "source": [
        "Train_data['RESULT_TEXT'].replace({'Negative': 0, 'Positive': 1},inplace = True)"
      ],
      "metadata": {
        "id": "YKse58-Fq1E_"
      },
      "execution_count": null,
      "outputs": []
    },
    {
      "cell_type": "code",
      "metadata": {
        "id": "bQln8P7xzyN1"
      },
      "source": [
        "# imputing price with mean\n",
        "# imputing price with mean\n",
        "RESULT_TEXT_mean_value = round(Train_data['RESULT_TEXT'].mean(), 2)\n",
        "Train_data['RESULT_TEXT'].fillna(RESULT_TEXT_mean_value, inplace=True)\n",
        "\n",
        "# imputing price with median\n",
        "price_median_value = round(Train_data['RESULT_TEXT'].median(), 2)\n",
        "Train_data['RESULT_TEXT'].fillna(price_median_value, inplace=True)\n",
        "\n",
        "# imputing with bfill or ffill\n",
        "Train_data['RESULT_TEXT'].bfill(inplace=True)\n",
        "Train_data['RESULT_TEXT'].ffill(inplace=True)\n",
        "\n",
        "# imputing with SimpleImputor from the sklearn library\n",
        "from sklearn.impute import SimpleImputer\n",
        "# define the imputer\n",
        "imr = SimpleImputer(missing_values=np.nan, strategy='mean') # or median\n",
        "\n",
        "Train_data[['RESULT_TEXT']] = imr.fit_transform(Train_data[['RESULT_TEXT']])"
      ],
      "execution_count": null,
      "outputs": []
    },
    {
      "cell_type": "markdown",
      "source": [
        "### **Replace each NaN with scalar value**"
      ],
      "metadata": {
        "id": "9jHt7T2ettzO"
      }
    },
    {
      "cell_type": "markdown",
      "metadata": {
        "id": "dDx8A9_Uz5jG"
      },
      "source": [
        "**Replace each NaN with a scalar value,**"
      ]
    },
    {
      "cell_type": "markdown",
      "metadata": {
        "id": "Wyjcdju7z8CP"
      },
      "source": [
        "To replace values, the fillna function is also used.Replace each NaN we have in the dataset, we can use the replace() method [24]"
      ]
    },
    {
      "cell_type": "markdown",
      "metadata": {
        "id": "dkqWOIfmz__l"
      },
      "source": [
        "You define the value you want to replace in the key, and the substitute in the value — {column_name: replacement_for_NA}\n",
        "\n",
        "Here are examples for replacing values in the columns reviews_per_month and name\n"
      ]
    },
    {
      "cell_type": "code",
      "metadata": {
        "id": "pJIzbrvo0IgT",
        "colab": {
          "base_uri": "https://localhost:8080/",
          "height": 211
        },
        "outputId": "885ce67d-e373-4ebc-f99e-6aef8f3ed551"
      },
      "source": [
        "# replace null values in reviews_per_month with 0\n",
        "Train_data.fillna({'RESULT_TEXT':0}, inplace=True)\n",
        "\n",
        "missing_cols(Train_data)"
      ],
      "execution_count": null,
      "outputs": [
        {
          "output_type": "error",
          "ename": "NameError",
          "evalue": "ignored",
          "traceback": [
            "\u001b[0;31m---------------------------------------------------------------------------\u001b[0m",
            "\u001b[0;31mNameError\u001b[0m                                 Traceback (most recent call last)",
            "\u001b[0;32m<ipython-input-51-5456ee047529>\u001b[0m in \u001b[0;36m<cell line: 4>\u001b[0;34m()\u001b[0m\n\u001b[1;32m      2\u001b[0m \u001b[0mTrain_data\u001b[0m\u001b[0;34m.\u001b[0m\u001b[0mfillna\u001b[0m\u001b[0;34m(\u001b[0m\u001b[0;34m{\u001b[0m\u001b[0;34m'RESULT_TEXT'\u001b[0m\u001b[0;34m:\u001b[0m\u001b[0;36m0\u001b[0m\u001b[0;34m}\u001b[0m\u001b[0;34m,\u001b[0m \u001b[0minplace\u001b[0m\u001b[0;34m=\u001b[0m\u001b[0;32mTrue\u001b[0m\u001b[0;34m)\u001b[0m\u001b[0;34m\u001b[0m\u001b[0;34m\u001b[0m\u001b[0m\n\u001b[1;32m      3\u001b[0m \u001b[0;34m\u001b[0m\u001b[0m\n\u001b[0;32m----> 4\u001b[0;31m \u001b[0mmissing_cols\u001b[0m\u001b[0;34m(\u001b[0m\u001b[0mTrain_data\u001b[0m\u001b[0;34m)\u001b[0m\u001b[0;34m\u001b[0m\u001b[0;34m\u001b[0m\u001b[0m\n\u001b[0m",
            "\u001b[0;31mNameError\u001b[0m: name 'missing_cols' is not defined"
          ]
        }
      ]
    },
    {
      "cell_type": "code",
      "metadata": {
        "id": "Q2256NAA0P0b"
      },
      "source": [
        "# replace null values in name with 'None'\n",
        "airbnb.fillna({'name':'None'}, inplace=True)\n",
        "\n",
        "missing_cols(airbnb)"
      ],
      "execution_count": null,
      "outputs": []
    },
    {
      "cell_type": "code",
      "source": [
        "from numpy import NaN\n",
        "Train_data.replace({NaN:1.00})"
      ],
      "metadata": {
        "id": "X7pDcCfiH3zR",
        "colab": {
          "base_uri": "https://localhost:8080/",
          "height": 652
        },
        "outputId": "09eb089f-2e76-4caf-9fac-66a3a2d939e8"
      },
      "execution_count": null,
      "outputs": [
        {
          "output_type": "execute_result",
          "data": {
            "text/plain": [
              "       Unnamed: 0      SECTION_NO            MRNO        PATIENT_NAME  \\\n",
              "0               1  K04HEM20123774  K0460000001363  Saqib Mehmood Khan   \n",
              "1               2  K04HEM18160758  K0460000001680      Muhammad Iqbal   \n",
              "2               3  K04HEM18160758  K0460000001680      Muhammad Iqbal   \n",
              "3               4  K04HEM17056995  K0460000000106       Shahbaz Ahmad   \n",
              "4               5  K04HEM17073233  K0460000000150       Mehfooz Ahmad   \n",
              "...           ...             ...             ...                 ...   \n",
              "22911       22912  K04HEM21017730  K0400002457330       Rooh Ul Ameen   \n",
              "22912       22913  K04HEM21018207  K0400002459565       Zeshan Rustam   \n",
              "22913       22914  K04HEM21019179  K0400002461645              M Umer   \n",
              "22914       22915  K04HEM21021055  K04ACE21027742      Shaheen Akhtar   \n",
              "22915       22916  K04HEM21020544  K0400002464110        Fakhraj Bibi   \n",
              "\n",
              "               FATHER_NAME HUSBAND_NAME       NIC_NEW REFERRED_FROM  \\\n",
              "0      MUHAMMAD AFSAR KHAN          1.0  1.310163e+12           1.0   \n",
              "1             ABDUR REHMAN          1.0  1.310134e+12           1.0   \n",
              "2             ABDUR REHMAN          1.0  1.310134e+12           1.0   \n",
              "3             MUMTAZ AHMAD          1.0  4.220136e+12           1.0   \n",
              "4             HAIDER ZAMAN          1.0  1.310109e+12           1.0   \n",
              "...                    ...          ...           ...           ...   \n",
              "22911          ABDUL SALAM          1.0  8.139494e+10           1.0   \n",
              "22912             M RUSTAM          1.0  1.000000e+00           1.0   \n",
              "22913             M JUNAID          1.0  1.000000e+00           1.0   \n",
              "22914                  1.0     M SALEEM  1.000000e+00           1.0   \n",
              "22915              M FAYAZ          1.0  1.000000e+00           1.0   \n",
              "\n",
              "              AGE  GENDER  NO_OF_ADMISSION    DISTRICT      TEHSIL  \\\n",
              "0      34 Year(s)    Male                0  Abbottabad     havelia   \n",
              "1      43 Year(s)    Male                0  Abbottabad  Abbottabad   \n",
              "2      43 Year(s)    Male                0  Abbottabad  Abbottabad   \n",
              "3      28 Year(s)    Male                0  Abbottabad  Abbottabad   \n",
              "4      42 Year(s)    Male                0  Abbottabad  Abbottabad   \n",
              "...           ...     ...              ...         ...         ...   \n",
              "22911  13 Year(s)    Male                1     Haripur     Haripur   \n",
              "22912  20 Year(s)    Male                0  Abbottabad  Abbottabad   \n",
              "22913  21 Year(s)    Male                0  Abbottabad  Abbottabad   \n",
              "22914  45 Year(s)  Female                0  Abbottabad  Abbottabad   \n",
              "22915  22 Year(s)  Female                0  Abbottabad  Abbottabad   \n",
              "\n",
              "                  REPORT_VERIFIED            CPT_ID RESULT_VALUE  \\\n",
              "0      11/12/2020 10:46:53 A11P11  1000000000085007            Y   \n",
              "1          9/29/2018 9:26:21 A9P9  1000000000087207            Y   \n",
              "2          9/29/2018 9:26:07 A9P9  1000000000085007            Y   \n",
              "3           5/4/2017 9:48:37 A5P5  1000000000085007            Y   \n",
              "4          6/3/2017 11:59:38 A6P6  1000000000085007            Y   \n",
              "...                           ...               ...          ...   \n",
              "22911     2/10/2021 16:53:12 A2P2  1000000000085060            Y   \n",
              "22912     2/11/2021 11:49:58 A2P2  1000000000085007            Y   \n",
              "22913     2/13/2021 11:55:21 A2P2  1000000000087207            Y   \n",
              "22914     2/17/2021 11:09:47 A2P2  1000000000087207            Y   \n",
              "22915     2/16/2021 12:37:12 A2P2  1000000000085651            Y   \n",
              "\n",
              "               CPT_ID.1    SECTION_NO.1  RESULT_TEXT  \n",
              "0      1000000000087207  K04HEM20123774          0.0  \n",
              "1      1000000000087207  K04HEM18160758          0.0  \n",
              "2      1000000000087207  K04HEM18160758          0.0  \n",
              "3      1000000000087207  K04HEM17056995          0.0  \n",
              "4      1000000000087207  K04HEM17073233          0.0  \n",
              "...                 ...             ...          ...  \n",
              "22911  1000000000087207  K04HEM21017730          0.0  \n",
              "22912  1000000000087207  K04HEM21018207          0.0  \n",
              "22913  1000000000087207  K04HEM21019179          0.0  \n",
              "22914  1000000000087207  K04HEM21021055          0.0  \n",
              "22915  1000000000087207  K04HEM21020544          0.0  \n",
              "\n",
              "[22916 rows x 19 columns]"
            ],
            "text/html": [
              "\n",
              "  <div id=\"df-584c4ac2-7a04-48a7-8143-fc935afca4b4\" class=\"colab-df-container\">\n",
              "    <div>\n",
              "<style scoped>\n",
              "    .dataframe tbody tr th:only-of-type {\n",
              "        vertical-align: middle;\n",
              "    }\n",
              "\n",
              "    .dataframe tbody tr th {\n",
              "        vertical-align: top;\n",
              "    }\n",
              "\n",
              "    .dataframe thead th {\n",
              "        text-align: right;\n",
              "    }\n",
              "</style>\n",
              "<table border=\"1\" class=\"dataframe\">\n",
              "  <thead>\n",
              "    <tr style=\"text-align: right;\">\n",
              "      <th></th>\n",
              "      <th>Unnamed: 0</th>\n",
              "      <th>SECTION_NO</th>\n",
              "      <th>MRNO</th>\n",
              "      <th>PATIENT_NAME</th>\n",
              "      <th>FATHER_NAME</th>\n",
              "      <th>HUSBAND_NAME</th>\n",
              "      <th>NIC_NEW</th>\n",
              "      <th>REFERRED_FROM</th>\n",
              "      <th>AGE</th>\n",
              "      <th>GENDER</th>\n",
              "      <th>NO_OF_ADMISSION</th>\n",
              "      <th>DISTRICT</th>\n",
              "      <th>TEHSIL</th>\n",
              "      <th>REPORT_VERIFIED</th>\n",
              "      <th>CPT_ID</th>\n",
              "      <th>RESULT_VALUE</th>\n",
              "      <th>CPT_ID.1</th>\n",
              "      <th>SECTION_NO.1</th>\n",
              "      <th>RESULT_TEXT</th>\n",
              "    </tr>\n",
              "  </thead>\n",
              "  <tbody>\n",
              "    <tr>\n",
              "      <th>0</th>\n",
              "      <td>1</td>\n",
              "      <td>K04HEM20123774</td>\n",
              "      <td>K0460000001363</td>\n",
              "      <td>Saqib Mehmood Khan</td>\n",
              "      <td>MUHAMMAD AFSAR KHAN</td>\n",
              "      <td>1.0</td>\n",
              "      <td>1.310163e+12</td>\n",
              "      <td>1.0</td>\n",
              "      <td>34 Year(s)</td>\n",
              "      <td>Male</td>\n",
              "      <td>0</td>\n",
              "      <td>Abbottabad</td>\n",
              "      <td>havelia</td>\n",
              "      <td>11/12/2020 10:46:53 A11P11</td>\n",
              "      <td>1000000000085007</td>\n",
              "      <td>Y</td>\n",
              "      <td>1000000000087207</td>\n",
              "      <td>K04HEM20123774</td>\n",
              "      <td>0.0</td>\n",
              "    </tr>\n",
              "    <tr>\n",
              "      <th>1</th>\n",
              "      <td>2</td>\n",
              "      <td>K04HEM18160758</td>\n",
              "      <td>K0460000001680</td>\n",
              "      <td>Muhammad Iqbal</td>\n",
              "      <td>ABDUR REHMAN</td>\n",
              "      <td>1.0</td>\n",
              "      <td>1.310134e+12</td>\n",
              "      <td>1.0</td>\n",
              "      <td>43 Year(s)</td>\n",
              "      <td>Male</td>\n",
              "      <td>0</td>\n",
              "      <td>Abbottabad</td>\n",
              "      <td>Abbottabad</td>\n",
              "      <td>9/29/2018 9:26:21 A9P9</td>\n",
              "      <td>1000000000087207</td>\n",
              "      <td>Y</td>\n",
              "      <td>1000000000087207</td>\n",
              "      <td>K04HEM18160758</td>\n",
              "      <td>0.0</td>\n",
              "    </tr>\n",
              "    <tr>\n",
              "      <th>2</th>\n",
              "      <td>3</td>\n",
              "      <td>K04HEM18160758</td>\n",
              "      <td>K0460000001680</td>\n",
              "      <td>Muhammad Iqbal</td>\n",
              "      <td>ABDUR REHMAN</td>\n",
              "      <td>1.0</td>\n",
              "      <td>1.310134e+12</td>\n",
              "      <td>1.0</td>\n",
              "      <td>43 Year(s)</td>\n",
              "      <td>Male</td>\n",
              "      <td>0</td>\n",
              "      <td>Abbottabad</td>\n",
              "      <td>Abbottabad</td>\n",
              "      <td>9/29/2018 9:26:07 A9P9</td>\n",
              "      <td>1000000000085007</td>\n",
              "      <td>Y</td>\n",
              "      <td>1000000000087207</td>\n",
              "      <td>K04HEM18160758</td>\n",
              "      <td>0.0</td>\n",
              "    </tr>\n",
              "    <tr>\n",
              "      <th>3</th>\n",
              "      <td>4</td>\n",
              "      <td>K04HEM17056995</td>\n",
              "      <td>K0460000000106</td>\n",
              "      <td>Shahbaz Ahmad</td>\n",
              "      <td>MUMTAZ AHMAD</td>\n",
              "      <td>1.0</td>\n",
              "      <td>4.220136e+12</td>\n",
              "      <td>1.0</td>\n",
              "      <td>28 Year(s)</td>\n",
              "      <td>Male</td>\n",
              "      <td>0</td>\n",
              "      <td>Abbottabad</td>\n",
              "      <td>Abbottabad</td>\n",
              "      <td>5/4/2017 9:48:37 A5P5</td>\n",
              "      <td>1000000000085007</td>\n",
              "      <td>Y</td>\n",
              "      <td>1000000000087207</td>\n",
              "      <td>K04HEM17056995</td>\n",
              "      <td>0.0</td>\n",
              "    </tr>\n",
              "    <tr>\n",
              "      <th>4</th>\n",
              "      <td>5</td>\n",
              "      <td>K04HEM17073233</td>\n",
              "      <td>K0460000000150</td>\n",
              "      <td>Mehfooz Ahmad</td>\n",
              "      <td>HAIDER ZAMAN</td>\n",
              "      <td>1.0</td>\n",
              "      <td>1.310109e+12</td>\n",
              "      <td>1.0</td>\n",
              "      <td>42 Year(s)</td>\n",
              "      <td>Male</td>\n",
              "      <td>0</td>\n",
              "      <td>Abbottabad</td>\n",
              "      <td>Abbottabad</td>\n",
              "      <td>6/3/2017 11:59:38 A6P6</td>\n",
              "      <td>1000000000085007</td>\n",
              "      <td>Y</td>\n",
              "      <td>1000000000087207</td>\n",
              "      <td>K04HEM17073233</td>\n",
              "      <td>0.0</td>\n",
              "    </tr>\n",
              "    <tr>\n",
              "      <th>...</th>\n",
              "      <td>...</td>\n",
              "      <td>...</td>\n",
              "      <td>...</td>\n",
              "      <td>...</td>\n",
              "      <td>...</td>\n",
              "      <td>...</td>\n",
              "      <td>...</td>\n",
              "      <td>...</td>\n",
              "      <td>...</td>\n",
              "      <td>...</td>\n",
              "      <td>...</td>\n",
              "      <td>...</td>\n",
              "      <td>...</td>\n",
              "      <td>...</td>\n",
              "      <td>...</td>\n",
              "      <td>...</td>\n",
              "      <td>...</td>\n",
              "      <td>...</td>\n",
              "      <td>...</td>\n",
              "    </tr>\n",
              "    <tr>\n",
              "      <th>22911</th>\n",
              "      <td>22912</td>\n",
              "      <td>K04HEM21017730</td>\n",
              "      <td>K0400002457330</td>\n",
              "      <td>Rooh Ul Ameen</td>\n",
              "      <td>ABDUL SALAM</td>\n",
              "      <td>1.0</td>\n",
              "      <td>8.139494e+10</td>\n",
              "      <td>1.0</td>\n",
              "      <td>13 Year(s)</td>\n",
              "      <td>Male</td>\n",
              "      <td>1</td>\n",
              "      <td>Haripur</td>\n",
              "      <td>Haripur</td>\n",
              "      <td>2/10/2021 16:53:12 A2P2</td>\n",
              "      <td>1000000000085060</td>\n",
              "      <td>Y</td>\n",
              "      <td>1000000000087207</td>\n",
              "      <td>K04HEM21017730</td>\n",
              "      <td>0.0</td>\n",
              "    </tr>\n",
              "    <tr>\n",
              "      <th>22912</th>\n",
              "      <td>22913</td>\n",
              "      <td>K04HEM21018207</td>\n",
              "      <td>K0400002459565</td>\n",
              "      <td>Zeshan Rustam</td>\n",
              "      <td>M RUSTAM</td>\n",
              "      <td>1.0</td>\n",
              "      <td>1.000000e+00</td>\n",
              "      <td>1.0</td>\n",
              "      <td>20 Year(s)</td>\n",
              "      <td>Male</td>\n",
              "      <td>0</td>\n",
              "      <td>Abbottabad</td>\n",
              "      <td>Abbottabad</td>\n",
              "      <td>2/11/2021 11:49:58 A2P2</td>\n",
              "      <td>1000000000085007</td>\n",
              "      <td>Y</td>\n",
              "      <td>1000000000087207</td>\n",
              "      <td>K04HEM21018207</td>\n",
              "      <td>0.0</td>\n",
              "    </tr>\n",
              "    <tr>\n",
              "      <th>22913</th>\n",
              "      <td>22914</td>\n",
              "      <td>K04HEM21019179</td>\n",
              "      <td>K0400002461645</td>\n",
              "      <td>M Umer</td>\n",
              "      <td>M JUNAID</td>\n",
              "      <td>1.0</td>\n",
              "      <td>1.000000e+00</td>\n",
              "      <td>1.0</td>\n",
              "      <td>21 Year(s)</td>\n",
              "      <td>Male</td>\n",
              "      <td>0</td>\n",
              "      <td>Abbottabad</td>\n",
              "      <td>Abbottabad</td>\n",
              "      <td>2/13/2021 11:55:21 A2P2</td>\n",
              "      <td>1000000000087207</td>\n",
              "      <td>Y</td>\n",
              "      <td>1000000000087207</td>\n",
              "      <td>K04HEM21019179</td>\n",
              "      <td>0.0</td>\n",
              "    </tr>\n",
              "    <tr>\n",
              "      <th>22914</th>\n",
              "      <td>22915</td>\n",
              "      <td>K04HEM21021055</td>\n",
              "      <td>K04ACE21027742</td>\n",
              "      <td>Shaheen Akhtar</td>\n",
              "      <td>1.0</td>\n",
              "      <td>M SALEEM</td>\n",
              "      <td>1.000000e+00</td>\n",
              "      <td>1.0</td>\n",
              "      <td>45 Year(s)</td>\n",
              "      <td>Female</td>\n",
              "      <td>0</td>\n",
              "      <td>Abbottabad</td>\n",
              "      <td>Abbottabad</td>\n",
              "      <td>2/17/2021 11:09:47 A2P2</td>\n",
              "      <td>1000000000087207</td>\n",
              "      <td>Y</td>\n",
              "      <td>1000000000087207</td>\n",
              "      <td>K04HEM21021055</td>\n",
              "      <td>0.0</td>\n",
              "    </tr>\n",
              "    <tr>\n",
              "      <th>22915</th>\n",
              "      <td>22916</td>\n",
              "      <td>K04HEM21020544</td>\n",
              "      <td>K0400002464110</td>\n",
              "      <td>Fakhraj Bibi</td>\n",
              "      <td>M FAYAZ</td>\n",
              "      <td>1.0</td>\n",
              "      <td>1.000000e+00</td>\n",
              "      <td>1.0</td>\n",
              "      <td>22 Year(s)</td>\n",
              "      <td>Female</td>\n",
              "      <td>0</td>\n",
              "      <td>Abbottabad</td>\n",
              "      <td>Abbottabad</td>\n",
              "      <td>2/16/2021 12:37:12 A2P2</td>\n",
              "      <td>1000000000085651</td>\n",
              "      <td>Y</td>\n",
              "      <td>1000000000087207</td>\n",
              "      <td>K04HEM21020544</td>\n",
              "      <td>0.0</td>\n",
              "    </tr>\n",
              "  </tbody>\n",
              "</table>\n",
              "<p>22916 rows × 19 columns</p>\n",
              "</div>\n",
              "    <div class=\"colab-df-buttons\">\n",
              "\n",
              "  <div class=\"colab-df-container\">\n",
              "    <button class=\"colab-df-convert\" onclick=\"convertToInteractive('df-584c4ac2-7a04-48a7-8143-fc935afca4b4')\"\n",
              "            title=\"Convert this dataframe to an interactive table.\"\n",
              "            style=\"display:none;\">\n",
              "\n",
              "  <svg xmlns=\"http://www.w3.org/2000/svg\" height=\"24px\" viewBox=\"0 -960 960 960\">\n",
              "    <path d=\"M120-120v-720h720v720H120Zm60-500h600v-160H180v160Zm220 220h160v-160H400v160Zm0 220h160v-160H400v160ZM180-400h160v-160H180v160Zm440 0h160v-160H620v160ZM180-180h160v-160H180v160Zm440 0h160v-160H620v160Z\"/>\n",
              "  </svg>\n",
              "    </button>\n",
              "\n",
              "  <style>\n",
              "    .colab-df-container {\n",
              "      display:flex;\n",
              "      gap: 12px;\n",
              "    }\n",
              "\n",
              "    .colab-df-convert {\n",
              "      background-color: #E8F0FE;\n",
              "      border: none;\n",
              "      border-radius: 50%;\n",
              "      cursor: pointer;\n",
              "      display: none;\n",
              "      fill: #1967D2;\n",
              "      height: 32px;\n",
              "      padding: 0 0 0 0;\n",
              "      width: 32px;\n",
              "    }\n",
              "\n",
              "    .colab-df-convert:hover {\n",
              "      background-color: #E2EBFA;\n",
              "      box-shadow: 0px 1px 2px rgba(60, 64, 67, 0.3), 0px 1px 3px 1px rgba(60, 64, 67, 0.15);\n",
              "      fill: #174EA6;\n",
              "    }\n",
              "\n",
              "    .colab-df-buttons div {\n",
              "      margin-bottom: 4px;\n",
              "    }\n",
              "\n",
              "    [theme=dark] .colab-df-convert {\n",
              "      background-color: #3B4455;\n",
              "      fill: #D2E3FC;\n",
              "    }\n",
              "\n",
              "    [theme=dark] .colab-df-convert:hover {\n",
              "      background-color: #434B5C;\n",
              "      box-shadow: 0px 1px 3px 1px rgba(0, 0, 0, 0.15);\n",
              "      filter: drop-shadow(0px 1px 2px rgba(0, 0, 0, 0.3));\n",
              "      fill: #FFFFFF;\n",
              "    }\n",
              "  </style>\n",
              "\n",
              "    <script>\n",
              "      const buttonEl =\n",
              "        document.querySelector('#df-584c4ac2-7a04-48a7-8143-fc935afca4b4 button.colab-df-convert');\n",
              "      buttonEl.style.display =\n",
              "        google.colab.kernel.accessAllowed ? 'block' : 'none';\n",
              "\n",
              "      async function convertToInteractive(key) {\n",
              "        const element = document.querySelector('#df-584c4ac2-7a04-48a7-8143-fc935afca4b4');\n",
              "        const dataTable =\n",
              "          await google.colab.kernel.invokeFunction('convertToInteractive',\n",
              "                                                    [key], {});\n",
              "        if (!dataTable) return;\n",
              "\n",
              "        const docLinkHtml = 'Like what you see? Visit the ' +\n",
              "          '<a target=\"_blank\" href=https://colab.research.google.com/notebooks/data_table.ipynb>data table notebook</a>'\n",
              "          + ' to learn more about interactive tables.';\n",
              "        element.innerHTML = '';\n",
              "        dataTable['output_type'] = 'display_data';\n",
              "        await google.colab.output.renderOutput(dataTable, element);\n",
              "        const docLink = document.createElement('div');\n",
              "        docLink.innerHTML = docLinkHtml;\n",
              "        element.appendChild(docLink);\n",
              "      }\n",
              "    </script>\n",
              "  </div>\n",
              "\n",
              "\n",
              "<div id=\"df-8119f0e1-dea2-4cb1-ac0a-07b54ed6d960\">\n",
              "  <button class=\"colab-df-quickchart\" onclick=\"quickchart('df-8119f0e1-dea2-4cb1-ac0a-07b54ed6d960')\"\n",
              "            title=\"Suggest charts\"\n",
              "            style=\"display:none;\">\n",
              "\n",
              "<svg xmlns=\"http://www.w3.org/2000/svg\" height=\"24px\"viewBox=\"0 0 24 24\"\n",
              "     width=\"24px\">\n",
              "    <g>\n",
              "        <path d=\"M19 3H5c-1.1 0-2 .9-2 2v14c0 1.1.9 2 2 2h14c1.1 0 2-.9 2-2V5c0-1.1-.9-2-2-2zM9 17H7v-7h2v7zm4 0h-2V7h2v10zm4 0h-2v-4h2v4z\"/>\n",
              "    </g>\n",
              "</svg>\n",
              "  </button>\n",
              "\n",
              "<style>\n",
              "  .colab-df-quickchart {\n",
              "      --bg-color: #E8F0FE;\n",
              "      --fill-color: #1967D2;\n",
              "      --hover-bg-color: #E2EBFA;\n",
              "      --hover-fill-color: #174EA6;\n",
              "      --disabled-fill-color: #AAA;\n",
              "      --disabled-bg-color: #DDD;\n",
              "  }\n",
              "\n",
              "  [theme=dark] .colab-df-quickchart {\n",
              "      --bg-color: #3B4455;\n",
              "      --fill-color: #D2E3FC;\n",
              "      --hover-bg-color: #434B5C;\n",
              "      --hover-fill-color: #FFFFFF;\n",
              "      --disabled-bg-color: #3B4455;\n",
              "      --disabled-fill-color: #666;\n",
              "  }\n",
              "\n",
              "  .colab-df-quickchart {\n",
              "    background-color: var(--bg-color);\n",
              "    border: none;\n",
              "    border-radius: 50%;\n",
              "    cursor: pointer;\n",
              "    display: none;\n",
              "    fill: var(--fill-color);\n",
              "    height: 32px;\n",
              "    padding: 0;\n",
              "    width: 32px;\n",
              "  }\n",
              "\n",
              "  .colab-df-quickchart:hover {\n",
              "    background-color: var(--hover-bg-color);\n",
              "    box-shadow: 0 1px 2px rgba(60, 64, 67, 0.3), 0 1px 3px 1px rgba(60, 64, 67, 0.15);\n",
              "    fill: var(--button-hover-fill-color);\n",
              "  }\n",
              "\n",
              "  .colab-df-quickchart-complete:disabled,\n",
              "  .colab-df-quickchart-complete:disabled:hover {\n",
              "    background-color: var(--disabled-bg-color);\n",
              "    fill: var(--disabled-fill-color);\n",
              "    box-shadow: none;\n",
              "  }\n",
              "\n",
              "  .colab-df-spinner {\n",
              "    border: 2px solid var(--fill-color);\n",
              "    border-color: transparent;\n",
              "    border-bottom-color: var(--fill-color);\n",
              "    animation:\n",
              "      spin 1s steps(1) infinite;\n",
              "  }\n",
              "\n",
              "  @keyframes spin {\n",
              "    0% {\n",
              "      border-color: transparent;\n",
              "      border-bottom-color: var(--fill-color);\n",
              "      border-left-color: var(--fill-color);\n",
              "    }\n",
              "    20% {\n",
              "      border-color: transparent;\n",
              "      border-left-color: var(--fill-color);\n",
              "      border-top-color: var(--fill-color);\n",
              "    }\n",
              "    30% {\n",
              "      border-color: transparent;\n",
              "      border-left-color: var(--fill-color);\n",
              "      border-top-color: var(--fill-color);\n",
              "      border-right-color: var(--fill-color);\n",
              "    }\n",
              "    40% {\n",
              "      border-color: transparent;\n",
              "      border-right-color: var(--fill-color);\n",
              "      border-top-color: var(--fill-color);\n",
              "    }\n",
              "    60% {\n",
              "      border-color: transparent;\n",
              "      border-right-color: var(--fill-color);\n",
              "    }\n",
              "    80% {\n",
              "      border-color: transparent;\n",
              "      border-right-color: var(--fill-color);\n",
              "      border-bottom-color: var(--fill-color);\n",
              "    }\n",
              "    90% {\n",
              "      border-color: transparent;\n",
              "      border-bottom-color: var(--fill-color);\n",
              "    }\n",
              "  }\n",
              "</style>\n",
              "\n",
              "  <script>\n",
              "    async function quickchart(key) {\n",
              "      const quickchartButtonEl =\n",
              "        document.querySelector('#' + key + ' button');\n",
              "      quickchartButtonEl.disabled = true;  // To prevent multiple clicks.\n",
              "      quickchartButtonEl.classList.add('colab-df-spinner');\n",
              "      try {\n",
              "        const charts = await google.colab.kernel.invokeFunction(\n",
              "            'suggestCharts', [key], {});\n",
              "      } catch (error) {\n",
              "        console.error('Error during call to suggestCharts:', error);\n",
              "      }\n",
              "      quickchartButtonEl.classList.remove('colab-df-spinner');\n",
              "      quickchartButtonEl.classList.add('colab-df-quickchart-complete');\n",
              "    }\n",
              "    (() => {\n",
              "      let quickchartButtonEl =\n",
              "        document.querySelector('#df-8119f0e1-dea2-4cb1-ac0a-07b54ed6d960 button');\n",
              "      quickchartButtonEl.style.display =\n",
              "        google.colab.kernel.accessAllowed ? 'block' : 'none';\n",
              "    })();\n",
              "  </script>\n",
              "</div>\n",
              "    </div>\n",
              "  </div>\n"
            ]
          },
          "metadata": {},
          "execution_count": 53
        }
      ]
    },
    {
      "cell_type": "markdown",
      "source": [
        "In order to replace with a Scalar Value, use fillna() method"
      ],
      "metadata": {
        "id": "40FYUDwiH9L4"
      }
    },
    {
      "cell_type": "code",
      "source": [
        "Train_data.fillna(12)"
      ],
      "metadata": {
        "id": "Pna6q-YtID9k",
        "colab": {
          "base_uri": "https://localhost:8080/",
          "height": 652
        },
        "outputId": "a194724e-4547-4b4a-f3dd-ea1613b7a7ef"
      },
      "execution_count": null,
      "outputs": [
        {
          "output_type": "execute_result",
          "data": {
            "text/plain": [
              "       Unnamed: 0      SECTION_NO            MRNO        PATIENT_NAME  \\\n",
              "0               1  K04HEM20123774  K0460000001363  Saqib Mehmood Khan   \n",
              "1               2  K04HEM18160758  K0460000001680      Muhammad Iqbal   \n",
              "2               3  K04HEM18160758  K0460000001680      Muhammad Iqbal   \n",
              "3               4  K04HEM17056995  K0460000000106       Shahbaz Ahmad   \n",
              "4               5  K04HEM17073233  K0460000000150       Mehfooz Ahmad   \n",
              "...           ...             ...             ...                 ...   \n",
              "22911       22912  K04HEM21017730  K0400002457330       Rooh Ul Ameen   \n",
              "22912       22913  K04HEM21018207  K0400002459565       Zeshan Rustam   \n",
              "22913       22914  K04HEM21019179  K0400002461645              M Umer   \n",
              "22914       22915  K04HEM21021055  K04ACE21027742      Shaheen Akhtar   \n",
              "22915       22916  K04HEM21020544  K0400002464110        Fakhraj Bibi   \n",
              "\n",
              "               FATHER_NAME HUSBAND_NAME       NIC_NEW REFERRED_FROM  \\\n",
              "0      MUHAMMAD AFSAR KHAN           12  1.310163e+12            12   \n",
              "1             ABDUR REHMAN           12  1.310134e+12            12   \n",
              "2             ABDUR REHMAN           12  1.310134e+12            12   \n",
              "3             MUMTAZ AHMAD           12  4.220136e+12            12   \n",
              "4             HAIDER ZAMAN           12  1.310109e+12            12   \n",
              "...                    ...          ...           ...           ...   \n",
              "22911          ABDUL SALAM           12  8.139494e+10            12   \n",
              "22912             M RUSTAM           12  1.200000e+01            12   \n",
              "22913             M JUNAID           12  1.200000e+01            12   \n",
              "22914                   12     M SALEEM  1.200000e+01            12   \n",
              "22915              M FAYAZ           12  1.200000e+01            12   \n",
              "\n",
              "              AGE  GENDER  NO_OF_ADMISSION    DISTRICT      TEHSIL  \\\n",
              "0      34 Year(s)    Male                0  Abbottabad     havelia   \n",
              "1      43 Year(s)    Male                0  Abbottabad  Abbottabad   \n",
              "2      43 Year(s)    Male                0  Abbottabad  Abbottabad   \n",
              "3      28 Year(s)    Male                0  Abbottabad  Abbottabad   \n",
              "4      42 Year(s)    Male                0  Abbottabad  Abbottabad   \n",
              "...           ...     ...              ...         ...         ...   \n",
              "22911  13 Year(s)    Male                1     Haripur     Haripur   \n",
              "22912  20 Year(s)    Male                0  Abbottabad  Abbottabad   \n",
              "22913  21 Year(s)    Male                0  Abbottabad  Abbottabad   \n",
              "22914  45 Year(s)  Female                0  Abbottabad  Abbottabad   \n",
              "22915  22 Year(s)  Female                0  Abbottabad  Abbottabad   \n",
              "\n",
              "                  REPORT_VERIFIED            CPT_ID RESULT_VALUE  \\\n",
              "0      11/12/2020 10:46:53 A11P11  1000000000085007            Y   \n",
              "1          9/29/2018 9:26:21 A9P9  1000000000087207            Y   \n",
              "2          9/29/2018 9:26:07 A9P9  1000000000085007            Y   \n",
              "3           5/4/2017 9:48:37 A5P5  1000000000085007            Y   \n",
              "4          6/3/2017 11:59:38 A6P6  1000000000085007            Y   \n",
              "...                           ...               ...          ...   \n",
              "22911     2/10/2021 16:53:12 A2P2  1000000000085060            Y   \n",
              "22912     2/11/2021 11:49:58 A2P2  1000000000085007            Y   \n",
              "22913     2/13/2021 11:55:21 A2P2  1000000000087207            Y   \n",
              "22914     2/17/2021 11:09:47 A2P2  1000000000087207            Y   \n",
              "22915     2/16/2021 12:37:12 A2P2  1000000000085651            Y   \n",
              "\n",
              "               CPT_ID.1    SECTION_NO.1  RESULT_TEXT  \n",
              "0      1000000000087207  K04HEM20123774          0.0  \n",
              "1      1000000000087207  K04HEM18160758          0.0  \n",
              "2      1000000000087207  K04HEM18160758          0.0  \n",
              "3      1000000000087207  K04HEM17056995          0.0  \n",
              "4      1000000000087207  K04HEM17073233          0.0  \n",
              "...                 ...             ...          ...  \n",
              "22911  1000000000087207  K04HEM21017730          0.0  \n",
              "22912  1000000000087207  K04HEM21018207          0.0  \n",
              "22913  1000000000087207  K04HEM21019179          0.0  \n",
              "22914  1000000000087207  K04HEM21021055          0.0  \n",
              "22915  1000000000087207  K04HEM21020544          0.0  \n",
              "\n",
              "[22916 rows x 19 columns]"
            ],
            "text/html": [
              "\n",
              "  <div id=\"df-b40ca1e6-833b-44d9-bc96-268865d04e12\" class=\"colab-df-container\">\n",
              "    <div>\n",
              "<style scoped>\n",
              "    .dataframe tbody tr th:only-of-type {\n",
              "        vertical-align: middle;\n",
              "    }\n",
              "\n",
              "    .dataframe tbody tr th {\n",
              "        vertical-align: top;\n",
              "    }\n",
              "\n",
              "    .dataframe thead th {\n",
              "        text-align: right;\n",
              "    }\n",
              "</style>\n",
              "<table border=\"1\" class=\"dataframe\">\n",
              "  <thead>\n",
              "    <tr style=\"text-align: right;\">\n",
              "      <th></th>\n",
              "      <th>Unnamed: 0</th>\n",
              "      <th>SECTION_NO</th>\n",
              "      <th>MRNO</th>\n",
              "      <th>PATIENT_NAME</th>\n",
              "      <th>FATHER_NAME</th>\n",
              "      <th>HUSBAND_NAME</th>\n",
              "      <th>NIC_NEW</th>\n",
              "      <th>REFERRED_FROM</th>\n",
              "      <th>AGE</th>\n",
              "      <th>GENDER</th>\n",
              "      <th>NO_OF_ADMISSION</th>\n",
              "      <th>DISTRICT</th>\n",
              "      <th>TEHSIL</th>\n",
              "      <th>REPORT_VERIFIED</th>\n",
              "      <th>CPT_ID</th>\n",
              "      <th>RESULT_VALUE</th>\n",
              "      <th>CPT_ID.1</th>\n",
              "      <th>SECTION_NO.1</th>\n",
              "      <th>RESULT_TEXT</th>\n",
              "    </tr>\n",
              "  </thead>\n",
              "  <tbody>\n",
              "    <tr>\n",
              "      <th>0</th>\n",
              "      <td>1</td>\n",
              "      <td>K04HEM20123774</td>\n",
              "      <td>K0460000001363</td>\n",
              "      <td>Saqib Mehmood Khan</td>\n",
              "      <td>MUHAMMAD AFSAR KHAN</td>\n",
              "      <td>12</td>\n",
              "      <td>1.310163e+12</td>\n",
              "      <td>12</td>\n",
              "      <td>34 Year(s)</td>\n",
              "      <td>Male</td>\n",
              "      <td>0</td>\n",
              "      <td>Abbottabad</td>\n",
              "      <td>havelia</td>\n",
              "      <td>11/12/2020 10:46:53 A11P11</td>\n",
              "      <td>1000000000085007</td>\n",
              "      <td>Y</td>\n",
              "      <td>1000000000087207</td>\n",
              "      <td>K04HEM20123774</td>\n",
              "      <td>0.0</td>\n",
              "    </tr>\n",
              "    <tr>\n",
              "      <th>1</th>\n",
              "      <td>2</td>\n",
              "      <td>K04HEM18160758</td>\n",
              "      <td>K0460000001680</td>\n",
              "      <td>Muhammad Iqbal</td>\n",
              "      <td>ABDUR REHMAN</td>\n",
              "      <td>12</td>\n",
              "      <td>1.310134e+12</td>\n",
              "      <td>12</td>\n",
              "      <td>43 Year(s)</td>\n",
              "      <td>Male</td>\n",
              "      <td>0</td>\n",
              "      <td>Abbottabad</td>\n",
              "      <td>Abbottabad</td>\n",
              "      <td>9/29/2018 9:26:21 A9P9</td>\n",
              "      <td>1000000000087207</td>\n",
              "      <td>Y</td>\n",
              "      <td>1000000000087207</td>\n",
              "      <td>K04HEM18160758</td>\n",
              "      <td>0.0</td>\n",
              "    </tr>\n",
              "    <tr>\n",
              "      <th>2</th>\n",
              "      <td>3</td>\n",
              "      <td>K04HEM18160758</td>\n",
              "      <td>K0460000001680</td>\n",
              "      <td>Muhammad Iqbal</td>\n",
              "      <td>ABDUR REHMAN</td>\n",
              "      <td>12</td>\n",
              "      <td>1.310134e+12</td>\n",
              "      <td>12</td>\n",
              "      <td>43 Year(s)</td>\n",
              "      <td>Male</td>\n",
              "      <td>0</td>\n",
              "      <td>Abbottabad</td>\n",
              "      <td>Abbottabad</td>\n",
              "      <td>9/29/2018 9:26:07 A9P9</td>\n",
              "      <td>1000000000085007</td>\n",
              "      <td>Y</td>\n",
              "      <td>1000000000087207</td>\n",
              "      <td>K04HEM18160758</td>\n",
              "      <td>0.0</td>\n",
              "    </tr>\n",
              "    <tr>\n",
              "      <th>3</th>\n",
              "      <td>4</td>\n",
              "      <td>K04HEM17056995</td>\n",
              "      <td>K0460000000106</td>\n",
              "      <td>Shahbaz Ahmad</td>\n",
              "      <td>MUMTAZ AHMAD</td>\n",
              "      <td>12</td>\n",
              "      <td>4.220136e+12</td>\n",
              "      <td>12</td>\n",
              "      <td>28 Year(s)</td>\n",
              "      <td>Male</td>\n",
              "      <td>0</td>\n",
              "      <td>Abbottabad</td>\n",
              "      <td>Abbottabad</td>\n",
              "      <td>5/4/2017 9:48:37 A5P5</td>\n",
              "      <td>1000000000085007</td>\n",
              "      <td>Y</td>\n",
              "      <td>1000000000087207</td>\n",
              "      <td>K04HEM17056995</td>\n",
              "      <td>0.0</td>\n",
              "    </tr>\n",
              "    <tr>\n",
              "      <th>4</th>\n",
              "      <td>5</td>\n",
              "      <td>K04HEM17073233</td>\n",
              "      <td>K0460000000150</td>\n",
              "      <td>Mehfooz Ahmad</td>\n",
              "      <td>HAIDER ZAMAN</td>\n",
              "      <td>12</td>\n",
              "      <td>1.310109e+12</td>\n",
              "      <td>12</td>\n",
              "      <td>42 Year(s)</td>\n",
              "      <td>Male</td>\n",
              "      <td>0</td>\n",
              "      <td>Abbottabad</td>\n",
              "      <td>Abbottabad</td>\n",
              "      <td>6/3/2017 11:59:38 A6P6</td>\n",
              "      <td>1000000000085007</td>\n",
              "      <td>Y</td>\n",
              "      <td>1000000000087207</td>\n",
              "      <td>K04HEM17073233</td>\n",
              "      <td>0.0</td>\n",
              "    </tr>\n",
              "    <tr>\n",
              "      <th>...</th>\n",
              "      <td>...</td>\n",
              "      <td>...</td>\n",
              "      <td>...</td>\n",
              "      <td>...</td>\n",
              "      <td>...</td>\n",
              "      <td>...</td>\n",
              "      <td>...</td>\n",
              "      <td>...</td>\n",
              "      <td>...</td>\n",
              "      <td>...</td>\n",
              "      <td>...</td>\n",
              "      <td>...</td>\n",
              "      <td>...</td>\n",
              "      <td>...</td>\n",
              "      <td>...</td>\n",
              "      <td>...</td>\n",
              "      <td>...</td>\n",
              "      <td>...</td>\n",
              "      <td>...</td>\n",
              "    </tr>\n",
              "    <tr>\n",
              "      <th>22911</th>\n",
              "      <td>22912</td>\n",
              "      <td>K04HEM21017730</td>\n",
              "      <td>K0400002457330</td>\n",
              "      <td>Rooh Ul Ameen</td>\n",
              "      <td>ABDUL SALAM</td>\n",
              "      <td>12</td>\n",
              "      <td>8.139494e+10</td>\n",
              "      <td>12</td>\n",
              "      <td>13 Year(s)</td>\n",
              "      <td>Male</td>\n",
              "      <td>1</td>\n",
              "      <td>Haripur</td>\n",
              "      <td>Haripur</td>\n",
              "      <td>2/10/2021 16:53:12 A2P2</td>\n",
              "      <td>1000000000085060</td>\n",
              "      <td>Y</td>\n",
              "      <td>1000000000087207</td>\n",
              "      <td>K04HEM21017730</td>\n",
              "      <td>0.0</td>\n",
              "    </tr>\n",
              "    <tr>\n",
              "      <th>22912</th>\n",
              "      <td>22913</td>\n",
              "      <td>K04HEM21018207</td>\n",
              "      <td>K0400002459565</td>\n",
              "      <td>Zeshan Rustam</td>\n",
              "      <td>M RUSTAM</td>\n",
              "      <td>12</td>\n",
              "      <td>1.200000e+01</td>\n",
              "      <td>12</td>\n",
              "      <td>20 Year(s)</td>\n",
              "      <td>Male</td>\n",
              "      <td>0</td>\n",
              "      <td>Abbottabad</td>\n",
              "      <td>Abbottabad</td>\n",
              "      <td>2/11/2021 11:49:58 A2P2</td>\n",
              "      <td>1000000000085007</td>\n",
              "      <td>Y</td>\n",
              "      <td>1000000000087207</td>\n",
              "      <td>K04HEM21018207</td>\n",
              "      <td>0.0</td>\n",
              "    </tr>\n",
              "    <tr>\n",
              "      <th>22913</th>\n",
              "      <td>22914</td>\n",
              "      <td>K04HEM21019179</td>\n",
              "      <td>K0400002461645</td>\n",
              "      <td>M Umer</td>\n",
              "      <td>M JUNAID</td>\n",
              "      <td>12</td>\n",
              "      <td>1.200000e+01</td>\n",
              "      <td>12</td>\n",
              "      <td>21 Year(s)</td>\n",
              "      <td>Male</td>\n",
              "      <td>0</td>\n",
              "      <td>Abbottabad</td>\n",
              "      <td>Abbottabad</td>\n",
              "      <td>2/13/2021 11:55:21 A2P2</td>\n",
              "      <td>1000000000087207</td>\n",
              "      <td>Y</td>\n",
              "      <td>1000000000087207</td>\n",
              "      <td>K04HEM21019179</td>\n",
              "      <td>0.0</td>\n",
              "    </tr>\n",
              "    <tr>\n",
              "      <th>22914</th>\n",
              "      <td>22915</td>\n",
              "      <td>K04HEM21021055</td>\n",
              "      <td>K04ACE21027742</td>\n",
              "      <td>Shaheen Akhtar</td>\n",
              "      <td>12</td>\n",
              "      <td>M SALEEM</td>\n",
              "      <td>1.200000e+01</td>\n",
              "      <td>12</td>\n",
              "      <td>45 Year(s)</td>\n",
              "      <td>Female</td>\n",
              "      <td>0</td>\n",
              "      <td>Abbottabad</td>\n",
              "      <td>Abbottabad</td>\n",
              "      <td>2/17/2021 11:09:47 A2P2</td>\n",
              "      <td>1000000000087207</td>\n",
              "      <td>Y</td>\n",
              "      <td>1000000000087207</td>\n",
              "      <td>K04HEM21021055</td>\n",
              "      <td>0.0</td>\n",
              "    </tr>\n",
              "    <tr>\n",
              "      <th>22915</th>\n",
              "      <td>22916</td>\n",
              "      <td>K04HEM21020544</td>\n",
              "      <td>K0400002464110</td>\n",
              "      <td>Fakhraj Bibi</td>\n",
              "      <td>M FAYAZ</td>\n",
              "      <td>12</td>\n",
              "      <td>1.200000e+01</td>\n",
              "      <td>12</td>\n",
              "      <td>22 Year(s)</td>\n",
              "      <td>Female</td>\n",
              "      <td>0</td>\n",
              "      <td>Abbottabad</td>\n",
              "      <td>Abbottabad</td>\n",
              "      <td>2/16/2021 12:37:12 A2P2</td>\n",
              "      <td>1000000000085651</td>\n",
              "      <td>Y</td>\n",
              "      <td>1000000000087207</td>\n",
              "      <td>K04HEM21020544</td>\n",
              "      <td>0.0</td>\n",
              "    </tr>\n",
              "  </tbody>\n",
              "</table>\n",
              "<p>22916 rows × 19 columns</p>\n",
              "</div>\n",
              "    <div class=\"colab-df-buttons\">\n",
              "\n",
              "  <div class=\"colab-df-container\">\n",
              "    <button class=\"colab-df-convert\" onclick=\"convertToInteractive('df-b40ca1e6-833b-44d9-bc96-268865d04e12')\"\n",
              "            title=\"Convert this dataframe to an interactive table.\"\n",
              "            style=\"display:none;\">\n",
              "\n",
              "  <svg xmlns=\"http://www.w3.org/2000/svg\" height=\"24px\" viewBox=\"0 -960 960 960\">\n",
              "    <path d=\"M120-120v-720h720v720H120Zm60-500h600v-160H180v160Zm220 220h160v-160H400v160Zm0 220h160v-160H400v160ZM180-400h160v-160H180v160Zm440 0h160v-160H620v160ZM180-180h160v-160H180v160Zm440 0h160v-160H620v160Z\"/>\n",
              "  </svg>\n",
              "    </button>\n",
              "\n",
              "  <style>\n",
              "    .colab-df-container {\n",
              "      display:flex;\n",
              "      gap: 12px;\n",
              "    }\n",
              "\n",
              "    .colab-df-convert {\n",
              "      background-color: #E8F0FE;\n",
              "      border: none;\n",
              "      border-radius: 50%;\n",
              "      cursor: pointer;\n",
              "      display: none;\n",
              "      fill: #1967D2;\n",
              "      height: 32px;\n",
              "      padding: 0 0 0 0;\n",
              "      width: 32px;\n",
              "    }\n",
              "\n",
              "    .colab-df-convert:hover {\n",
              "      background-color: #E2EBFA;\n",
              "      box-shadow: 0px 1px 2px rgba(60, 64, 67, 0.3), 0px 1px 3px 1px rgba(60, 64, 67, 0.15);\n",
              "      fill: #174EA6;\n",
              "    }\n",
              "\n",
              "    .colab-df-buttons div {\n",
              "      margin-bottom: 4px;\n",
              "    }\n",
              "\n",
              "    [theme=dark] .colab-df-convert {\n",
              "      background-color: #3B4455;\n",
              "      fill: #D2E3FC;\n",
              "    }\n",
              "\n",
              "    [theme=dark] .colab-df-convert:hover {\n",
              "      background-color: #434B5C;\n",
              "      box-shadow: 0px 1px 3px 1px rgba(0, 0, 0, 0.15);\n",
              "      filter: drop-shadow(0px 1px 2px rgba(0, 0, 0, 0.3));\n",
              "      fill: #FFFFFF;\n",
              "    }\n",
              "  </style>\n",
              "\n",
              "    <script>\n",
              "      const buttonEl =\n",
              "        document.querySelector('#df-b40ca1e6-833b-44d9-bc96-268865d04e12 button.colab-df-convert');\n",
              "      buttonEl.style.display =\n",
              "        google.colab.kernel.accessAllowed ? 'block' : 'none';\n",
              "\n",
              "      async function convertToInteractive(key) {\n",
              "        const element = document.querySelector('#df-b40ca1e6-833b-44d9-bc96-268865d04e12');\n",
              "        const dataTable =\n",
              "          await google.colab.kernel.invokeFunction('convertToInteractive',\n",
              "                                                    [key], {});\n",
              "        if (!dataTable) return;\n",
              "\n",
              "        const docLinkHtml = 'Like what you see? Visit the ' +\n",
              "          '<a target=\"_blank\" href=https://colab.research.google.com/notebooks/data_table.ipynb>data table notebook</a>'\n",
              "          + ' to learn more about interactive tables.';\n",
              "        element.innerHTML = '';\n",
              "        dataTable['output_type'] = 'display_data';\n",
              "        await google.colab.output.renderOutput(dataTable, element);\n",
              "        const docLink = document.createElement('div');\n",
              "        docLink.innerHTML = docLinkHtml;\n",
              "        element.appendChild(docLink);\n",
              "      }\n",
              "    </script>\n",
              "  </div>\n",
              "\n",
              "\n",
              "<div id=\"df-f8aa33a7-cca7-4042-8430-b2a6d731bbe1\">\n",
              "  <button class=\"colab-df-quickchart\" onclick=\"quickchart('df-f8aa33a7-cca7-4042-8430-b2a6d731bbe1')\"\n",
              "            title=\"Suggest charts\"\n",
              "            style=\"display:none;\">\n",
              "\n",
              "<svg xmlns=\"http://www.w3.org/2000/svg\" height=\"24px\"viewBox=\"0 0 24 24\"\n",
              "     width=\"24px\">\n",
              "    <g>\n",
              "        <path d=\"M19 3H5c-1.1 0-2 .9-2 2v14c0 1.1.9 2 2 2h14c1.1 0 2-.9 2-2V5c0-1.1-.9-2-2-2zM9 17H7v-7h2v7zm4 0h-2V7h2v10zm4 0h-2v-4h2v4z\"/>\n",
              "    </g>\n",
              "</svg>\n",
              "  </button>\n",
              "\n",
              "<style>\n",
              "  .colab-df-quickchart {\n",
              "      --bg-color: #E8F0FE;\n",
              "      --fill-color: #1967D2;\n",
              "      --hover-bg-color: #E2EBFA;\n",
              "      --hover-fill-color: #174EA6;\n",
              "      --disabled-fill-color: #AAA;\n",
              "      --disabled-bg-color: #DDD;\n",
              "  }\n",
              "\n",
              "  [theme=dark] .colab-df-quickchart {\n",
              "      --bg-color: #3B4455;\n",
              "      --fill-color: #D2E3FC;\n",
              "      --hover-bg-color: #434B5C;\n",
              "      --hover-fill-color: #FFFFFF;\n",
              "      --disabled-bg-color: #3B4455;\n",
              "      --disabled-fill-color: #666;\n",
              "  }\n",
              "\n",
              "  .colab-df-quickchart {\n",
              "    background-color: var(--bg-color);\n",
              "    border: none;\n",
              "    border-radius: 50%;\n",
              "    cursor: pointer;\n",
              "    display: none;\n",
              "    fill: var(--fill-color);\n",
              "    height: 32px;\n",
              "    padding: 0;\n",
              "    width: 32px;\n",
              "  }\n",
              "\n",
              "  .colab-df-quickchart:hover {\n",
              "    background-color: var(--hover-bg-color);\n",
              "    box-shadow: 0 1px 2px rgba(60, 64, 67, 0.3), 0 1px 3px 1px rgba(60, 64, 67, 0.15);\n",
              "    fill: var(--button-hover-fill-color);\n",
              "  }\n",
              "\n",
              "  .colab-df-quickchart-complete:disabled,\n",
              "  .colab-df-quickchart-complete:disabled:hover {\n",
              "    background-color: var(--disabled-bg-color);\n",
              "    fill: var(--disabled-fill-color);\n",
              "    box-shadow: none;\n",
              "  }\n",
              "\n",
              "  .colab-df-spinner {\n",
              "    border: 2px solid var(--fill-color);\n",
              "    border-color: transparent;\n",
              "    border-bottom-color: var(--fill-color);\n",
              "    animation:\n",
              "      spin 1s steps(1) infinite;\n",
              "  }\n",
              "\n",
              "  @keyframes spin {\n",
              "    0% {\n",
              "      border-color: transparent;\n",
              "      border-bottom-color: var(--fill-color);\n",
              "      border-left-color: var(--fill-color);\n",
              "    }\n",
              "    20% {\n",
              "      border-color: transparent;\n",
              "      border-left-color: var(--fill-color);\n",
              "      border-top-color: var(--fill-color);\n",
              "    }\n",
              "    30% {\n",
              "      border-color: transparent;\n",
              "      border-left-color: var(--fill-color);\n",
              "      border-top-color: var(--fill-color);\n",
              "      border-right-color: var(--fill-color);\n",
              "    }\n",
              "    40% {\n",
              "      border-color: transparent;\n",
              "      border-right-color: var(--fill-color);\n",
              "      border-top-color: var(--fill-color);\n",
              "    }\n",
              "    60% {\n",
              "      border-color: transparent;\n",
              "      border-right-color: var(--fill-color);\n",
              "    }\n",
              "    80% {\n",
              "      border-color: transparent;\n",
              "      border-right-color: var(--fill-color);\n",
              "      border-bottom-color: var(--fill-color);\n",
              "    }\n",
              "    90% {\n",
              "      border-color: transparent;\n",
              "      border-bottom-color: var(--fill-color);\n",
              "    }\n",
              "  }\n",
              "</style>\n",
              "\n",
              "  <script>\n",
              "    async function quickchart(key) {\n",
              "      const quickchartButtonEl =\n",
              "        document.querySelector('#' + key + ' button');\n",
              "      quickchartButtonEl.disabled = true;  // To prevent multiple clicks.\n",
              "      quickchartButtonEl.classList.add('colab-df-spinner');\n",
              "      try {\n",
              "        const charts = await google.colab.kernel.invokeFunction(\n",
              "            'suggestCharts', [key], {});\n",
              "      } catch (error) {\n",
              "        console.error('Error during call to suggestCharts:', error);\n",
              "      }\n",
              "      quickchartButtonEl.classList.remove('colab-df-spinner');\n",
              "      quickchartButtonEl.classList.add('colab-df-quickchart-complete');\n",
              "    }\n",
              "    (() => {\n",
              "      let quickchartButtonEl =\n",
              "        document.querySelector('#df-f8aa33a7-cca7-4042-8430-b2a6d731bbe1 button');\n",
              "      quickchartButtonEl.style.display =\n",
              "        google.colab.kernel.accessAllowed ? 'block' : 'none';\n",
              "    })();\n",
              "  </script>\n",
              "</div>\n",
              "    </div>\n",
              "  </div>\n"
            ]
          },
          "metadata": {},
          "execution_count": 52
        }
      ]
    },
    {
      "cell_type": "markdown",
      "source": [
        "### **Drop the missine value colum**"
      ],
      "metadata": {
        "id": "6k2qTQAruC9V"
      }
    },
    {
      "cell_type": "markdown",
      "source": [
        "**Drop the missing values**[24]"
      ],
      "metadata": {
        "id": "gYpEI28nHXAD"
      }
    },
    {
      "cell_type": "code",
      "source": [
        "Train_data.dropna()"
      ],
      "metadata": {
        "id": "7lpTbnhrHkOQ",
        "colab": {
          "base_uri": "https://localhost:8080/",
          "height": 87
        },
        "outputId": "1e3711a2-20dc-450f-cf42-03cb152a91fe"
      },
      "execution_count": null,
      "outputs": [
        {
          "output_type": "execute_result",
          "data": {
            "text/plain": [
              "Empty DataFrame\n",
              "Columns: [Unnamed: 0, SECTION_NO, MRNO, PATIENT_NAME, FATHER_NAME, HUSBAND_NAME, NIC_NEW, REFERRED_FROM, AGE, GENDER, NO_OF_ADMISSION, DISTRICT, TEHSIL, REPORT_VERIFIED, CPT_ID, RESULT_VALUE, CPT_ID.1, SECTION_NO.1, RESULT_TEXT]\n",
              "Index: []"
            ],
            "text/html": [
              "\n",
              "  <div id=\"df-c1bc5b96-d419-404e-aa44-bf79ad5ca1fb\" class=\"colab-df-container\">\n",
              "    <div>\n",
              "<style scoped>\n",
              "    .dataframe tbody tr th:only-of-type {\n",
              "        vertical-align: middle;\n",
              "    }\n",
              "\n",
              "    .dataframe tbody tr th {\n",
              "        vertical-align: top;\n",
              "    }\n",
              "\n",
              "    .dataframe thead th {\n",
              "        text-align: right;\n",
              "    }\n",
              "</style>\n",
              "<table border=\"1\" class=\"dataframe\">\n",
              "  <thead>\n",
              "    <tr style=\"text-align: right;\">\n",
              "      <th></th>\n",
              "      <th>Unnamed: 0</th>\n",
              "      <th>SECTION_NO</th>\n",
              "      <th>MRNO</th>\n",
              "      <th>PATIENT_NAME</th>\n",
              "      <th>FATHER_NAME</th>\n",
              "      <th>HUSBAND_NAME</th>\n",
              "      <th>NIC_NEW</th>\n",
              "      <th>REFERRED_FROM</th>\n",
              "      <th>AGE</th>\n",
              "      <th>GENDER</th>\n",
              "      <th>NO_OF_ADMISSION</th>\n",
              "      <th>DISTRICT</th>\n",
              "      <th>TEHSIL</th>\n",
              "      <th>REPORT_VERIFIED</th>\n",
              "      <th>CPT_ID</th>\n",
              "      <th>RESULT_VALUE</th>\n",
              "      <th>CPT_ID.1</th>\n",
              "      <th>SECTION_NO.1</th>\n",
              "      <th>RESULT_TEXT</th>\n",
              "    </tr>\n",
              "  </thead>\n",
              "  <tbody>\n",
              "  </tbody>\n",
              "</table>\n",
              "</div>\n",
              "    <div class=\"colab-df-buttons\">\n",
              "\n",
              "  <div class=\"colab-df-container\">\n",
              "    <button class=\"colab-df-convert\" onclick=\"convertToInteractive('df-c1bc5b96-d419-404e-aa44-bf79ad5ca1fb')\"\n",
              "            title=\"Convert this dataframe to an interactive table.\"\n",
              "            style=\"display:none;\">\n",
              "\n",
              "  <svg xmlns=\"http://www.w3.org/2000/svg\" height=\"24px\" viewBox=\"0 -960 960 960\">\n",
              "    <path d=\"M120-120v-720h720v720H120Zm60-500h600v-160H180v160Zm220 220h160v-160H400v160Zm0 220h160v-160H400v160ZM180-400h160v-160H180v160Zm440 0h160v-160H620v160ZM180-180h160v-160H180v160Zm440 0h160v-160H620v160Z\"/>\n",
              "  </svg>\n",
              "    </button>\n",
              "\n",
              "  <style>\n",
              "    .colab-df-container {\n",
              "      display:flex;\n",
              "      gap: 12px;\n",
              "    }\n",
              "\n",
              "    .colab-df-convert {\n",
              "      background-color: #E8F0FE;\n",
              "      border: none;\n",
              "      border-radius: 50%;\n",
              "      cursor: pointer;\n",
              "      display: none;\n",
              "      fill: #1967D2;\n",
              "      height: 32px;\n",
              "      padding: 0 0 0 0;\n",
              "      width: 32px;\n",
              "    }\n",
              "\n",
              "    .colab-df-convert:hover {\n",
              "      background-color: #E2EBFA;\n",
              "      box-shadow: 0px 1px 2px rgba(60, 64, 67, 0.3), 0px 1px 3px 1px rgba(60, 64, 67, 0.15);\n",
              "      fill: #174EA6;\n",
              "    }\n",
              "\n",
              "    .colab-df-buttons div {\n",
              "      margin-bottom: 4px;\n",
              "    }\n",
              "\n",
              "    [theme=dark] .colab-df-convert {\n",
              "      background-color: #3B4455;\n",
              "      fill: #D2E3FC;\n",
              "    }\n",
              "\n",
              "    [theme=dark] .colab-df-convert:hover {\n",
              "      background-color: #434B5C;\n",
              "      box-shadow: 0px 1px 3px 1px rgba(0, 0, 0, 0.15);\n",
              "      filter: drop-shadow(0px 1px 2px rgba(0, 0, 0, 0.3));\n",
              "      fill: #FFFFFF;\n",
              "    }\n",
              "  </style>\n",
              "\n",
              "    <script>\n",
              "      const buttonEl =\n",
              "        document.querySelector('#df-c1bc5b96-d419-404e-aa44-bf79ad5ca1fb button.colab-df-convert');\n",
              "      buttonEl.style.display =\n",
              "        google.colab.kernel.accessAllowed ? 'block' : 'none';\n",
              "\n",
              "      async function convertToInteractive(key) {\n",
              "        const element = document.querySelector('#df-c1bc5b96-d419-404e-aa44-bf79ad5ca1fb');\n",
              "        const dataTable =\n",
              "          await google.colab.kernel.invokeFunction('convertToInteractive',\n",
              "                                                    [key], {});\n",
              "        if (!dataTable) return;\n",
              "\n",
              "        const docLinkHtml = 'Like what you see? Visit the ' +\n",
              "          '<a target=\"_blank\" href=https://colab.research.google.com/notebooks/data_table.ipynb>data table notebook</a>'\n",
              "          + ' to learn more about interactive tables.';\n",
              "        element.innerHTML = '';\n",
              "        dataTable['output_type'] = 'display_data';\n",
              "        await google.colab.output.renderOutput(dataTable, element);\n",
              "        const docLink = document.createElement('div');\n",
              "        docLink.innerHTML = docLinkHtml;\n",
              "        element.appendChild(docLink);\n",
              "      }\n",
              "    </script>\n",
              "  </div>\n",
              "\n",
              "    </div>\n",
              "  </div>\n"
            ]
          },
          "metadata": {},
          "execution_count": 54
        }
      ]
    },
    {
      "cell_type": "markdown",
      "source": [
        "Default axis=0 will excludes an entire row for an NaN value."
      ],
      "metadata": {
        "id": "_jFIf216Hn2o"
      }
    },
    {
      "cell_type": "markdown",
      "source": [
        "### **Fill missing value forward or Backward**"
      ],
      "metadata": {
        "id": "LOcWYucIuT8N"
      }
    },
    {
      "cell_type": "markdown",
      "source": [
        "**Fill the missing values forward or backward.**\n"
      ],
      "metadata": {
        "id": "mGdLBP-tJ9w8"
      }
    },
    {
      "cell_type": "markdown",
      "source": [
        "To fill forward or backward, use the methods pad or fill, and to fill backward, use bfill and backfill [24]"
      ],
      "metadata": {
        "id": "KMeEv153KJSk"
      }
    },
    {
      "cell_type": "code",
      "source": [
        "Train_data.fillna(method='backfill')"
      ],
      "metadata": {
        "id": "XHjKVue3KQmE",
        "colab": {
          "base_uri": "https://localhost:8080/",
          "height": 652
        },
        "outputId": "08cbe2ab-b111-41d6-ec41-f50c513f8681"
      },
      "execution_count": null,
      "outputs": [
        {
          "output_type": "execute_result",
          "data": {
            "text/plain": [
              "       Unnamed: 0      SECTION_NO            MRNO        PATIENT_NAME  \\\n",
              "0               1  K04HEM20123774  K0460000001363  Saqib Mehmood Khan   \n",
              "1               2  K04HEM18160758  K0460000001680      Muhammad Iqbal   \n",
              "2               3  K04HEM18160758  K0460000001680      Muhammad Iqbal   \n",
              "3               4  K04HEM17056995  K0460000000106       Shahbaz Ahmad   \n",
              "4               5  K04HEM17073233  K0460000000150       Mehfooz Ahmad   \n",
              "...           ...             ...             ...                 ...   \n",
              "22911       22912  K04HEM21017730  K0400002457330       Rooh Ul Ameen   \n",
              "22912       22913  K04HEM21018207  K0400002459565       Zeshan Rustam   \n",
              "22913       22914  K04HEM21019179  K0400002461645              M Umer   \n",
              "22914       22915  K04HEM21021055  K04ACE21027742      Shaheen Akhtar   \n",
              "22915       22916  K04HEM21020544  K0400002464110        Fakhraj Bibi   \n",
              "\n",
              "               FATHER_NAME HUSBAND_NAME       NIC_NEW REFERRED_FROM  \\\n",
              "0      MUHAMMAD AFSAR KHAN        YASIR  1.310163e+12        Others   \n",
              "1             ABDUR REHMAN        YASIR  1.310134e+12        Others   \n",
              "2             ABDUR REHMAN        YASIR  1.310134e+12        Others   \n",
              "3             MUMTAZ AHMAD        YASIR  4.220136e+12        Others   \n",
              "4             HAIDER ZAMAN        YASIR  1.310109e+12        Others   \n",
              "...                    ...          ...           ...           ...   \n",
              "22911          ABDUL SALAM     M SALEEM  8.139494e+10           NaN   \n",
              "22912             M RUSTAM     M SALEEM           NaN           NaN   \n",
              "22913             M JUNAID     M SALEEM           NaN           NaN   \n",
              "22914              M FAYAZ     M SALEEM           NaN           NaN   \n",
              "22915              M FAYAZ          NaN           NaN           NaN   \n",
              "\n",
              "              AGE  GENDER  NO_OF_ADMISSION    DISTRICT      TEHSIL  \\\n",
              "0      34 Year(s)    Male                0  Abbottabad     havelia   \n",
              "1      43 Year(s)    Male                0  Abbottabad  Abbottabad   \n",
              "2      43 Year(s)    Male                0  Abbottabad  Abbottabad   \n",
              "3      28 Year(s)    Male                0  Abbottabad  Abbottabad   \n",
              "4      42 Year(s)    Male                0  Abbottabad  Abbottabad   \n",
              "...           ...     ...              ...         ...         ...   \n",
              "22911  13 Year(s)    Male                1     Haripur     Haripur   \n",
              "22912  20 Year(s)    Male                0  Abbottabad  Abbottabad   \n",
              "22913  21 Year(s)    Male                0  Abbottabad  Abbottabad   \n",
              "22914  45 Year(s)  Female                0  Abbottabad  Abbottabad   \n",
              "22915  22 Year(s)  Female                0  Abbottabad  Abbottabad   \n",
              "\n",
              "                  REPORT_VERIFIED            CPT_ID RESULT_VALUE  \\\n",
              "0      11/12/2020 10:46:53 A11P11  1000000000085007            Y   \n",
              "1          9/29/2018 9:26:21 A9P9  1000000000087207            Y   \n",
              "2          9/29/2018 9:26:07 A9P9  1000000000085007            Y   \n",
              "3           5/4/2017 9:48:37 A5P5  1000000000085007            Y   \n",
              "4          6/3/2017 11:59:38 A6P6  1000000000085007            Y   \n",
              "...                           ...               ...          ...   \n",
              "22911     2/10/2021 16:53:12 A2P2  1000000000085060            Y   \n",
              "22912     2/11/2021 11:49:58 A2P2  1000000000085007            Y   \n",
              "22913     2/13/2021 11:55:21 A2P2  1000000000087207            Y   \n",
              "22914     2/17/2021 11:09:47 A2P2  1000000000087207            Y   \n",
              "22915     2/16/2021 12:37:12 A2P2  1000000000085651            Y   \n",
              "\n",
              "               CPT_ID.1    SECTION_NO.1 RESULT_TEXT  \n",
              "0      1000000000087207  K04HEM20123774    Negative  \n",
              "1      1000000000087207  K04HEM18160758    Negative  \n",
              "2      1000000000087207  K04HEM18160758    Negative  \n",
              "3      1000000000087207  K04HEM17056995    Negative  \n",
              "4      1000000000087207  K04HEM17073233    Negative  \n",
              "...                 ...             ...         ...  \n",
              "22911  1000000000087207  K04HEM21017730    Negative  \n",
              "22912  1000000000087207  K04HEM21018207    Negative  \n",
              "22913  1000000000087207  K04HEM21019179    Negative  \n",
              "22914  1000000000087207  K04HEM21021055    Negative  \n",
              "22915  1000000000087207  K04HEM21020544    Negative  \n",
              "\n",
              "[22916 rows x 19 columns]"
            ],
            "text/html": [
              "\n",
              "  <div id=\"df-706999f5-2af8-4e84-873f-62da20ce00dc\" class=\"colab-df-container\">\n",
              "    <div>\n",
              "<style scoped>\n",
              "    .dataframe tbody tr th:only-of-type {\n",
              "        vertical-align: middle;\n",
              "    }\n",
              "\n",
              "    .dataframe tbody tr th {\n",
              "        vertical-align: top;\n",
              "    }\n",
              "\n",
              "    .dataframe thead th {\n",
              "        text-align: right;\n",
              "    }\n",
              "</style>\n",
              "<table border=\"1\" class=\"dataframe\">\n",
              "  <thead>\n",
              "    <tr style=\"text-align: right;\">\n",
              "      <th></th>\n",
              "      <th>Unnamed: 0</th>\n",
              "      <th>SECTION_NO</th>\n",
              "      <th>MRNO</th>\n",
              "      <th>PATIENT_NAME</th>\n",
              "      <th>FATHER_NAME</th>\n",
              "      <th>HUSBAND_NAME</th>\n",
              "      <th>NIC_NEW</th>\n",
              "      <th>REFERRED_FROM</th>\n",
              "      <th>AGE</th>\n",
              "      <th>GENDER</th>\n",
              "      <th>NO_OF_ADMISSION</th>\n",
              "      <th>DISTRICT</th>\n",
              "      <th>TEHSIL</th>\n",
              "      <th>REPORT_VERIFIED</th>\n",
              "      <th>CPT_ID</th>\n",
              "      <th>RESULT_VALUE</th>\n",
              "      <th>CPT_ID.1</th>\n",
              "      <th>SECTION_NO.1</th>\n",
              "      <th>RESULT_TEXT</th>\n",
              "    </tr>\n",
              "  </thead>\n",
              "  <tbody>\n",
              "    <tr>\n",
              "      <th>0</th>\n",
              "      <td>1</td>\n",
              "      <td>K04HEM20123774</td>\n",
              "      <td>K0460000001363</td>\n",
              "      <td>Saqib Mehmood Khan</td>\n",
              "      <td>MUHAMMAD AFSAR KHAN</td>\n",
              "      <td>YASIR</td>\n",
              "      <td>1.310163e+12</td>\n",
              "      <td>Others</td>\n",
              "      <td>34 Year(s)</td>\n",
              "      <td>Male</td>\n",
              "      <td>0</td>\n",
              "      <td>Abbottabad</td>\n",
              "      <td>havelia</td>\n",
              "      <td>11/12/2020 10:46:53 A11P11</td>\n",
              "      <td>1000000000085007</td>\n",
              "      <td>Y</td>\n",
              "      <td>1000000000087207</td>\n",
              "      <td>K04HEM20123774</td>\n",
              "      <td>Negative</td>\n",
              "    </tr>\n",
              "    <tr>\n",
              "      <th>1</th>\n",
              "      <td>2</td>\n",
              "      <td>K04HEM18160758</td>\n",
              "      <td>K0460000001680</td>\n",
              "      <td>Muhammad Iqbal</td>\n",
              "      <td>ABDUR REHMAN</td>\n",
              "      <td>YASIR</td>\n",
              "      <td>1.310134e+12</td>\n",
              "      <td>Others</td>\n",
              "      <td>43 Year(s)</td>\n",
              "      <td>Male</td>\n",
              "      <td>0</td>\n",
              "      <td>Abbottabad</td>\n",
              "      <td>Abbottabad</td>\n",
              "      <td>9/29/2018 9:26:21 A9P9</td>\n",
              "      <td>1000000000087207</td>\n",
              "      <td>Y</td>\n",
              "      <td>1000000000087207</td>\n",
              "      <td>K04HEM18160758</td>\n",
              "      <td>Negative</td>\n",
              "    </tr>\n",
              "    <tr>\n",
              "      <th>2</th>\n",
              "      <td>3</td>\n",
              "      <td>K04HEM18160758</td>\n",
              "      <td>K0460000001680</td>\n",
              "      <td>Muhammad Iqbal</td>\n",
              "      <td>ABDUR REHMAN</td>\n",
              "      <td>YASIR</td>\n",
              "      <td>1.310134e+12</td>\n",
              "      <td>Others</td>\n",
              "      <td>43 Year(s)</td>\n",
              "      <td>Male</td>\n",
              "      <td>0</td>\n",
              "      <td>Abbottabad</td>\n",
              "      <td>Abbottabad</td>\n",
              "      <td>9/29/2018 9:26:07 A9P9</td>\n",
              "      <td>1000000000085007</td>\n",
              "      <td>Y</td>\n",
              "      <td>1000000000087207</td>\n",
              "      <td>K04HEM18160758</td>\n",
              "      <td>Negative</td>\n",
              "    </tr>\n",
              "    <tr>\n",
              "      <th>3</th>\n",
              "      <td>4</td>\n",
              "      <td>K04HEM17056995</td>\n",
              "      <td>K0460000000106</td>\n",
              "      <td>Shahbaz Ahmad</td>\n",
              "      <td>MUMTAZ AHMAD</td>\n",
              "      <td>YASIR</td>\n",
              "      <td>4.220136e+12</td>\n",
              "      <td>Others</td>\n",
              "      <td>28 Year(s)</td>\n",
              "      <td>Male</td>\n",
              "      <td>0</td>\n",
              "      <td>Abbottabad</td>\n",
              "      <td>Abbottabad</td>\n",
              "      <td>5/4/2017 9:48:37 A5P5</td>\n",
              "      <td>1000000000085007</td>\n",
              "      <td>Y</td>\n",
              "      <td>1000000000087207</td>\n",
              "      <td>K04HEM17056995</td>\n",
              "      <td>Negative</td>\n",
              "    </tr>\n",
              "    <tr>\n",
              "      <th>4</th>\n",
              "      <td>5</td>\n",
              "      <td>K04HEM17073233</td>\n",
              "      <td>K0460000000150</td>\n",
              "      <td>Mehfooz Ahmad</td>\n",
              "      <td>HAIDER ZAMAN</td>\n",
              "      <td>YASIR</td>\n",
              "      <td>1.310109e+12</td>\n",
              "      <td>Others</td>\n",
              "      <td>42 Year(s)</td>\n",
              "      <td>Male</td>\n",
              "      <td>0</td>\n",
              "      <td>Abbottabad</td>\n",
              "      <td>Abbottabad</td>\n",
              "      <td>6/3/2017 11:59:38 A6P6</td>\n",
              "      <td>1000000000085007</td>\n",
              "      <td>Y</td>\n",
              "      <td>1000000000087207</td>\n",
              "      <td>K04HEM17073233</td>\n",
              "      <td>Negative</td>\n",
              "    </tr>\n",
              "    <tr>\n",
              "      <th>...</th>\n",
              "      <td>...</td>\n",
              "      <td>...</td>\n",
              "      <td>...</td>\n",
              "      <td>...</td>\n",
              "      <td>...</td>\n",
              "      <td>...</td>\n",
              "      <td>...</td>\n",
              "      <td>...</td>\n",
              "      <td>...</td>\n",
              "      <td>...</td>\n",
              "      <td>...</td>\n",
              "      <td>...</td>\n",
              "      <td>...</td>\n",
              "      <td>...</td>\n",
              "      <td>...</td>\n",
              "      <td>...</td>\n",
              "      <td>...</td>\n",
              "      <td>...</td>\n",
              "      <td>...</td>\n",
              "    </tr>\n",
              "    <tr>\n",
              "      <th>22911</th>\n",
              "      <td>22912</td>\n",
              "      <td>K04HEM21017730</td>\n",
              "      <td>K0400002457330</td>\n",
              "      <td>Rooh Ul Ameen</td>\n",
              "      <td>ABDUL SALAM</td>\n",
              "      <td>M SALEEM</td>\n",
              "      <td>8.139494e+10</td>\n",
              "      <td>NaN</td>\n",
              "      <td>13 Year(s)</td>\n",
              "      <td>Male</td>\n",
              "      <td>1</td>\n",
              "      <td>Haripur</td>\n",
              "      <td>Haripur</td>\n",
              "      <td>2/10/2021 16:53:12 A2P2</td>\n",
              "      <td>1000000000085060</td>\n",
              "      <td>Y</td>\n",
              "      <td>1000000000087207</td>\n",
              "      <td>K04HEM21017730</td>\n",
              "      <td>Negative</td>\n",
              "    </tr>\n",
              "    <tr>\n",
              "      <th>22912</th>\n",
              "      <td>22913</td>\n",
              "      <td>K04HEM21018207</td>\n",
              "      <td>K0400002459565</td>\n",
              "      <td>Zeshan Rustam</td>\n",
              "      <td>M RUSTAM</td>\n",
              "      <td>M SALEEM</td>\n",
              "      <td>NaN</td>\n",
              "      <td>NaN</td>\n",
              "      <td>20 Year(s)</td>\n",
              "      <td>Male</td>\n",
              "      <td>0</td>\n",
              "      <td>Abbottabad</td>\n",
              "      <td>Abbottabad</td>\n",
              "      <td>2/11/2021 11:49:58 A2P2</td>\n",
              "      <td>1000000000085007</td>\n",
              "      <td>Y</td>\n",
              "      <td>1000000000087207</td>\n",
              "      <td>K04HEM21018207</td>\n",
              "      <td>Negative</td>\n",
              "    </tr>\n",
              "    <tr>\n",
              "      <th>22913</th>\n",
              "      <td>22914</td>\n",
              "      <td>K04HEM21019179</td>\n",
              "      <td>K0400002461645</td>\n",
              "      <td>M Umer</td>\n",
              "      <td>M JUNAID</td>\n",
              "      <td>M SALEEM</td>\n",
              "      <td>NaN</td>\n",
              "      <td>NaN</td>\n",
              "      <td>21 Year(s)</td>\n",
              "      <td>Male</td>\n",
              "      <td>0</td>\n",
              "      <td>Abbottabad</td>\n",
              "      <td>Abbottabad</td>\n",
              "      <td>2/13/2021 11:55:21 A2P2</td>\n",
              "      <td>1000000000087207</td>\n",
              "      <td>Y</td>\n",
              "      <td>1000000000087207</td>\n",
              "      <td>K04HEM21019179</td>\n",
              "      <td>Negative</td>\n",
              "    </tr>\n",
              "    <tr>\n",
              "      <th>22914</th>\n",
              "      <td>22915</td>\n",
              "      <td>K04HEM21021055</td>\n",
              "      <td>K04ACE21027742</td>\n",
              "      <td>Shaheen Akhtar</td>\n",
              "      <td>M FAYAZ</td>\n",
              "      <td>M SALEEM</td>\n",
              "      <td>NaN</td>\n",
              "      <td>NaN</td>\n",
              "      <td>45 Year(s)</td>\n",
              "      <td>Female</td>\n",
              "      <td>0</td>\n",
              "      <td>Abbottabad</td>\n",
              "      <td>Abbottabad</td>\n",
              "      <td>2/17/2021 11:09:47 A2P2</td>\n",
              "      <td>1000000000087207</td>\n",
              "      <td>Y</td>\n",
              "      <td>1000000000087207</td>\n",
              "      <td>K04HEM21021055</td>\n",
              "      <td>Negative</td>\n",
              "    </tr>\n",
              "    <tr>\n",
              "      <th>22915</th>\n",
              "      <td>22916</td>\n",
              "      <td>K04HEM21020544</td>\n",
              "      <td>K0400002464110</td>\n",
              "      <td>Fakhraj Bibi</td>\n",
              "      <td>M FAYAZ</td>\n",
              "      <td>NaN</td>\n",
              "      <td>NaN</td>\n",
              "      <td>NaN</td>\n",
              "      <td>22 Year(s)</td>\n",
              "      <td>Female</td>\n",
              "      <td>0</td>\n",
              "      <td>Abbottabad</td>\n",
              "      <td>Abbottabad</td>\n",
              "      <td>2/16/2021 12:37:12 A2P2</td>\n",
              "      <td>1000000000085651</td>\n",
              "      <td>Y</td>\n",
              "      <td>1000000000087207</td>\n",
              "      <td>K04HEM21020544</td>\n",
              "      <td>Negative</td>\n",
              "    </tr>\n",
              "  </tbody>\n",
              "</table>\n",
              "<p>22916 rows × 19 columns</p>\n",
              "</div>\n",
              "    <div class=\"colab-df-buttons\">\n",
              "\n",
              "  <div class=\"colab-df-container\">\n",
              "    <button class=\"colab-df-convert\" onclick=\"convertToInteractive('df-706999f5-2af8-4e84-873f-62da20ce00dc')\"\n",
              "            title=\"Convert this dataframe to an interactive table.\"\n",
              "            style=\"display:none;\">\n",
              "\n",
              "  <svg xmlns=\"http://www.w3.org/2000/svg\" height=\"24px\" viewBox=\"0 -960 960 960\">\n",
              "    <path d=\"M120-120v-720h720v720H120Zm60-500h600v-160H180v160Zm220 220h160v-160H400v160Zm0 220h160v-160H400v160ZM180-400h160v-160H180v160Zm440 0h160v-160H620v160ZM180-180h160v-160H180v160Zm440 0h160v-160H620v160Z\"/>\n",
              "  </svg>\n",
              "    </button>\n",
              "\n",
              "  <style>\n",
              "    .colab-df-container {\n",
              "      display:flex;\n",
              "      gap: 12px;\n",
              "    }\n",
              "\n",
              "    .colab-df-convert {\n",
              "      background-color: #E8F0FE;\n",
              "      border: none;\n",
              "      border-radius: 50%;\n",
              "      cursor: pointer;\n",
              "      display: none;\n",
              "      fill: #1967D2;\n",
              "      height: 32px;\n",
              "      padding: 0 0 0 0;\n",
              "      width: 32px;\n",
              "    }\n",
              "\n",
              "    .colab-df-convert:hover {\n",
              "      background-color: #E2EBFA;\n",
              "      box-shadow: 0px 1px 2px rgba(60, 64, 67, 0.3), 0px 1px 3px 1px rgba(60, 64, 67, 0.15);\n",
              "      fill: #174EA6;\n",
              "    }\n",
              "\n",
              "    .colab-df-buttons div {\n",
              "      margin-bottom: 4px;\n",
              "    }\n",
              "\n",
              "    [theme=dark] .colab-df-convert {\n",
              "      background-color: #3B4455;\n",
              "      fill: #D2E3FC;\n",
              "    }\n",
              "\n",
              "    [theme=dark] .colab-df-convert:hover {\n",
              "      background-color: #434B5C;\n",
              "      box-shadow: 0px 1px 3px 1px rgba(0, 0, 0, 0.15);\n",
              "      filter: drop-shadow(0px 1px 2px rgba(0, 0, 0, 0.3));\n",
              "      fill: #FFFFFF;\n",
              "    }\n",
              "  </style>\n",
              "\n",
              "    <script>\n",
              "      const buttonEl =\n",
              "        document.querySelector('#df-706999f5-2af8-4e84-873f-62da20ce00dc button.colab-df-convert');\n",
              "      buttonEl.style.display =\n",
              "        google.colab.kernel.accessAllowed ? 'block' : 'none';\n",
              "\n",
              "      async function convertToInteractive(key) {\n",
              "        const element = document.querySelector('#df-706999f5-2af8-4e84-873f-62da20ce00dc');\n",
              "        const dataTable =\n",
              "          await google.colab.kernel.invokeFunction('convertToInteractive',\n",
              "                                                    [key], {});\n",
              "        if (!dataTable) return;\n",
              "\n",
              "        const docLinkHtml = 'Like what you see? Visit the ' +\n",
              "          '<a target=\"_blank\" href=https://colab.research.google.com/notebooks/data_table.ipynb>data table notebook</a>'\n",
              "          + ' to learn more about interactive tables.';\n",
              "        element.innerHTML = '';\n",
              "        dataTable['output_type'] = 'display_data';\n",
              "        await google.colab.output.renderOutput(dataTable, element);\n",
              "        const docLink = document.createElement('div');\n",
              "        docLink.innerHTML = docLinkHtml;\n",
              "        element.appendChild(docLink);\n",
              "      }\n",
              "    </script>\n",
              "  </div>\n",
              "\n",
              "\n",
              "<div id=\"df-6903b21b-9efd-4405-98e7-f9334ab04d5b\">\n",
              "  <button class=\"colab-df-quickchart\" onclick=\"quickchart('df-6903b21b-9efd-4405-98e7-f9334ab04d5b')\"\n",
              "            title=\"Suggest charts\"\n",
              "            style=\"display:none;\">\n",
              "\n",
              "<svg xmlns=\"http://www.w3.org/2000/svg\" height=\"24px\"viewBox=\"0 0 24 24\"\n",
              "     width=\"24px\">\n",
              "    <g>\n",
              "        <path d=\"M19 3H5c-1.1 0-2 .9-2 2v14c0 1.1.9 2 2 2h14c1.1 0 2-.9 2-2V5c0-1.1-.9-2-2-2zM9 17H7v-7h2v7zm4 0h-2V7h2v10zm4 0h-2v-4h2v4z\"/>\n",
              "    </g>\n",
              "</svg>\n",
              "  </button>\n",
              "\n",
              "<style>\n",
              "  .colab-df-quickchart {\n",
              "      --bg-color: #E8F0FE;\n",
              "      --fill-color: #1967D2;\n",
              "      --hover-bg-color: #E2EBFA;\n",
              "      --hover-fill-color: #174EA6;\n",
              "      --disabled-fill-color: #AAA;\n",
              "      --disabled-bg-color: #DDD;\n",
              "  }\n",
              "\n",
              "  [theme=dark] .colab-df-quickchart {\n",
              "      --bg-color: #3B4455;\n",
              "      --fill-color: #D2E3FC;\n",
              "      --hover-bg-color: #434B5C;\n",
              "      --hover-fill-color: #FFFFFF;\n",
              "      --disabled-bg-color: #3B4455;\n",
              "      --disabled-fill-color: #666;\n",
              "  }\n",
              "\n",
              "  .colab-df-quickchart {\n",
              "    background-color: var(--bg-color);\n",
              "    border: none;\n",
              "    border-radius: 50%;\n",
              "    cursor: pointer;\n",
              "    display: none;\n",
              "    fill: var(--fill-color);\n",
              "    height: 32px;\n",
              "    padding: 0;\n",
              "    width: 32px;\n",
              "  }\n",
              "\n",
              "  .colab-df-quickchart:hover {\n",
              "    background-color: var(--hover-bg-color);\n",
              "    box-shadow: 0 1px 2px rgba(60, 64, 67, 0.3), 0 1px 3px 1px rgba(60, 64, 67, 0.15);\n",
              "    fill: var(--button-hover-fill-color);\n",
              "  }\n",
              "\n",
              "  .colab-df-quickchart-complete:disabled,\n",
              "  .colab-df-quickchart-complete:disabled:hover {\n",
              "    background-color: var(--disabled-bg-color);\n",
              "    fill: var(--disabled-fill-color);\n",
              "    box-shadow: none;\n",
              "  }\n",
              "\n",
              "  .colab-df-spinner {\n",
              "    border: 2px solid var(--fill-color);\n",
              "    border-color: transparent;\n",
              "    border-bottom-color: var(--fill-color);\n",
              "    animation:\n",
              "      spin 1s steps(1) infinite;\n",
              "  }\n",
              "\n",
              "  @keyframes spin {\n",
              "    0% {\n",
              "      border-color: transparent;\n",
              "      border-bottom-color: var(--fill-color);\n",
              "      border-left-color: var(--fill-color);\n",
              "    }\n",
              "    20% {\n",
              "      border-color: transparent;\n",
              "      border-left-color: var(--fill-color);\n",
              "      border-top-color: var(--fill-color);\n",
              "    }\n",
              "    30% {\n",
              "      border-color: transparent;\n",
              "      border-left-color: var(--fill-color);\n",
              "      border-top-color: var(--fill-color);\n",
              "      border-right-color: var(--fill-color);\n",
              "    }\n",
              "    40% {\n",
              "      border-color: transparent;\n",
              "      border-right-color: var(--fill-color);\n",
              "      border-top-color: var(--fill-color);\n",
              "    }\n",
              "    60% {\n",
              "      border-color: transparent;\n",
              "      border-right-color: var(--fill-color);\n",
              "    }\n",
              "    80% {\n",
              "      border-color: transparent;\n",
              "      border-right-color: var(--fill-color);\n",
              "      border-bottom-color: var(--fill-color);\n",
              "    }\n",
              "    90% {\n",
              "      border-color: transparent;\n",
              "      border-bottom-color: var(--fill-color);\n",
              "    }\n",
              "  }\n",
              "</style>\n",
              "\n",
              "  <script>\n",
              "    async function quickchart(key) {\n",
              "      const quickchartButtonEl =\n",
              "        document.querySelector('#' + key + ' button');\n",
              "      quickchartButtonEl.disabled = true;  // To prevent multiple clicks.\n",
              "      quickchartButtonEl.classList.add('colab-df-spinner');\n",
              "      try {\n",
              "        const charts = await google.colab.kernel.invokeFunction(\n",
              "            'suggestCharts', [key], {});\n",
              "      } catch (error) {\n",
              "        console.error('Error during call to suggestCharts:', error);\n",
              "      }\n",
              "      quickchartButtonEl.classList.remove('colab-df-spinner');\n",
              "      quickchartButtonEl.classList.add('colab-df-quickchart-complete');\n",
              "    }\n",
              "    (() => {\n",
              "      let quickchartButtonEl =\n",
              "        document.querySelector('#df-6903b21b-9efd-4405-98e7-f9334ab04d5b button');\n",
              "      quickchartButtonEl.style.display =\n",
              "        google.colab.kernel.accessAllowed ? 'block' : 'none';\n",
              "    })();\n",
              "  </script>\n",
              "</div>\n",
              "    </div>\n",
              "  </div>\n"
            ]
          },
          "metadata": {},
          "execution_count": 56
        }
      ]
    },
    {
      "cell_type": "markdown",
      "metadata": {
        "id": "sryKvX_eg5-m"
      },
      "source": [
        "### **Filling missing value with KNNImputer[11]**\n",
        "\n",
        "Scikit-learn offers multiple ways to impute missing values. Here, we consider two approaches. The SimpleImputer class provides basic strategies for imputing missing values (through the mean or median for example). A more sophisticated approach the KNNImputer class, which provides imputation for filling in missing values using the K-Nearest Neighbors approach. Each missing value is imputed using values from the n_neighbors nearest neighbors that have a value for the particular feature. The values of the neighbors are averaged uniformly or weighted by distance to each neighbor.\n",
        "Below, we show an example application using both imputation methods:"
      ]
    },
    {
      "cell_type": "code",
      "metadata": {
        "id": "AIInDHsphTp8",
        "colab": {
          "base_uri": "https://localhost:8080/"
        },
        "outputId": "09e2dd58-fa24-432d-b9be-35a9562b182e"
      },
      "source": [
        "from sklearn.experimental import enable_iterative_imputer\n",
        "from sklearn.impute import SimpleImputer, KNNImputer\n",
        "from sklearn.datasets import make_classification\n",
        "import pandas as pd\n",
        "X, y = make_classification(n_samples=5, n_features=4, n_classes=2, random_state=123)\n",
        "X = pd.DataFrame(X, columns=['Feature_1', 'Feature_2', 'Feature_3', 'Feature_4'])\n",
        "print(X.iloc[1,2])"
      ],
      "execution_count": null,
      "outputs": [
        {
          "output_type": "stream",
          "name": "stdout",
          "text": [
            "2.2129830531512615\n"
          ]
        }
      ]
    },
    {
      "cell_type": "markdown",
      "metadata": {
        "id": "40vt2q_4hY17"
      },
      "source": [
        "Transform X[1, 2] to a missing value:\n"
      ]
    },
    {
      "cell_type": "code",
      "metadata": {
        "id": "rT_3ELsphdJT"
      },
      "source": [
        "X.iloc[1, 2] = float('NaN')\n"
      ],
      "execution_count": null,
      "outputs": []
    },
    {
      "cell_type": "code",
      "metadata": {
        "id": "s7RCOaTLhfT6",
        "colab": {
          "base_uri": "https://localhost:8080/",
          "height": 206
        },
        "outputId": "e16b0d63-8694-4013-b591-bb1db38234b0"
      },
      "source": [
        "X"
      ],
      "execution_count": null,
      "outputs": [
        {
          "output_type": "execute_result",
          "data": {
            "text/plain": [
              "   Feature_1  Feature_2  Feature_3  Feature_4\n",
              "0   0.070111  -0.727615   1.904188  -1.966186\n",
              "1   0.410745   0.155161        NaN  -2.791157\n",
              "2  -0.337408  -1.069994   0.090022   0.430782\n",
              "3  -0.334743  -0.528369  -0.989942   1.480690\n",
              "4   0.336622   1.802785  -1.578173   1.022805"
            ],
            "text/html": [
              "\n",
              "  <div id=\"df-50804e04-cbbf-49f8-8f00-ef49057345bb\" class=\"colab-df-container\">\n",
              "    <div>\n",
              "<style scoped>\n",
              "    .dataframe tbody tr th:only-of-type {\n",
              "        vertical-align: middle;\n",
              "    }\n",
              "\n",
              "    .dataframe tbody tr th {\n",
              "        vertical-align: top;\n",
              "    }\n",
              "\n",
              "    .dataframe thead th {\n",
              "        text-align: right;\n",
              "    }\n",
              "</style>\n",
              "<table border=\"1\" class=\"dataframe\">\n",
              "  <thead>\n",
              "    <tr style=\"text-align: right;\">\n",
              "      <th></th>\n",
              "      <th>Feature_1</th>\n",
              "      <th>Feature_2</th>\n",
              "      <th>Feature_3</th>\n",
              "      <th>Feature_4</th>\n",
              "    </tr>\n",
              "  </thead>\n",
              "  <tbody>\n",
              "    <tr>\n",
              "      <th>0</th>\n",
              "      <td>0.070111</td>\n",
              "      <td>-0.727615</td>\n",
              "      <td>1.904188</td>\n",
              "      <td>-1.966186</td>\n",
              "    </tr>\n",
              "    <tr>\n",
              "      <th>1</th>\n",
              "      <td>0.410745</td>\n",
              "      <td>0.155161</td>\n",
              "      <td>NaN</td>\n",
              "      <td>-2.791157</td>\n",
              "    </tr>\n",
              "    <tr>\n",
              "      <th>2</th>\n",
              "      <td>-0.337408</td>\n",
              "      <td>-1.069994</td>\n",
              "      <td>0.090022</td>\n",
              "      <td>0.430782</td>\n",
              "    </tr>\n",
              "    <tr>\n",
              "      <th>3</th>\n",
              "      <td>-0.334743</td>\n",
              "      <td>-0.528369</td>\n",
              "      <td>-0.989942</td>\n",
              "      <td>1.480690</td>\n",
              "    </tr>\n",
              "    <tr>\n",
              "      <th>4</th>\n",
              "      <td>0.336622</td>\n",
              "      <td>1.802785</td>\n",
              "      <td>-1.578173</td>\n",
              "      <td>1.022805</td>\n",
              "    </tr>\n",
              "  </tbody>\n",
              "</table>\n",
              "</div>\n",
              "    <div class=\"colab-df-buttons\">\n",
              "\n",
              "  <div class=\"colab-df-container\">\n",
              "    <button class=\"colab-df-convert\" onclick=\"convertToInteractive('df-50804e04-cbbf-49f8-8f00-ef49057345bb')\"\n",
              "            title=\"Convert this dataframe to an interactive table.\"\n",
              "            style=\"display:none;\">\n",
              "\n",
              "  <svg xmlns=\"http://www.w3.org/2000/svg\" height=\"24px\" viewBox=\"0 -960 960 960\">\n",
              "    <path d=\"M120-120v-720h720v720H120Zm60-500h600v-160H180v160Zm220 220h160v-160H400v160Zm0 220h160v-160H400v160ZM180-400h160v-160H180v160Zm440 0h160v-160H620v160ZM180-180h160v-160H180v160Zm440 0h160v-160H620v160Z\"/>\n",
              "  </svg>\n",
              "    </button>\n",
              "\n",
              "  <style>\n",
              "    .colab-df-container {\n",
              "      display:flex;\n",
              "      gap: 12px;\n",
              "    }\n",
              "\n",
              "    .colab-df-convert {\n",
              "      background-color: #E8F0FE;\n",
              "      border: none;\n",
              "      border-radius: 50%;\n",
              "      cursor: pointer;\n",
              "      display: none;\n",
              "      fill: #1967D2;\n",
              "      height: 32px;\n",
              "      padding: 0 0 0 0;\n",
              "      width: 32px;\n",
              "    }\n",
              "\n",
              "    .colab-df-convert:hover {\n",
              "      background-color: #E2EBFA;\n",
              "      box-shadow: 0px 1px 2px rgba(60, 64, 67, 0.3), 0px 1px 3px 1px rgba(60, 64, 67, 0.15);\n",
              "      fill: #174EA6;\n",
              "    }\n",
              "\n",
              "    .colab-df-buttons div {\n",
              "      margin-bottom: 4px;\n",
              "    }\n",
              "\n",
              "    [theme=dark] .colab-df-convert {\n",
              "      background-color: #3B4455;\n",
              "      fill: #D2E3FC;\n",
              "    }\n",
              "\n",
              "    [theme=dark] .colab-df-convert:hover {\n",
              "      background-color: #434B5C;\n",
              "      box-shadow: 0px 1px 3px 1px rgba(0, 0, 0, 0.15);\n",
              "      filter: drop-shadow(0px 1px 2px rgba(0, 0, 0, 0.3));\n",
              "      fill: #FFFFFF;\n",
              "    }\n",
              "  </style>\n",
              "\n",
              "    <script>\n",
              "      const buttonEl =\n",
              "        document.querySelector('#df-50804e04-cbbf-49f8-8f00-ef49057345bb button.colab-df-convert');\n",
              "      buttonEl.style.display =\n",
              "        google.colab.kernel.accessAllowed ? 'block' : 'none';\n",
              "\n",
              "      async function convertToInteractive(key) {\n",
              "        const element = document.querySelector('#df-50804e04-cbbf-49f8-8f00-ef49057345bb');\n",
              "        const dataTable =\n",
              "          await google.colab.kernel.invokeFunction('convertToInteractive',\n",
              "                                                    [key], {});\n",
              "        if (!dataTable) return;\n",
              "\n",
              "        const docLinkHtml = 'Like what you see? Visit the ' +\n",
              "          '<a target=\"_blank\" href=https://colab.research.google.com/notebooks/data_table.ipynb>data table notebook</a>'\n",
              "          + ' to learn more about interactive tables.';\n",
              "        element.innerHTML = '';\n",
              "        dataTable['output_type'] = 'display_data';\n",
              "        await google.colab.output.renderOutput(dataTable, element);\n",
              "        const docLink = document.createElement('div');\n",
              "        docLink.innerHTML = docLinkHtml;\n",
              "        element.appendChild(docLink);\n",
              "      }\n",
              "    </script>\n",
              "  </div>\n",
              "\n",
              "\n",
              "<div id=\"df-37e7aa8a-6284-492e-81dc-b8ed15c97dbc\">\n",
              "  <button class=\"colab-df-quickchart\" onclick=\"quickchart('df-37e7aa8a-6284-492e-81dc-b8ed15c97dbc')\"\n",
              "            title=\"Suggest charts\"\n",
              "            style=\"display:none;\">\n",
              "\n",
              "<svg xmlns=\"http://www.w3.org/2000/svg\" height=\"24px\"viewBox=\"0 0 24 24\"\n",
              "     width=\"24px\">\n",
              "    <g>\n",
              "        <path d=\"M19 3H5c-1.1 0-2 .9-2 2v14c0 1.1.9 2 2 2h14c1.1 0 2-.9 2-2V5c0-1.1-.9-2-2-2zM9 17H7v-7h2v7zm4 0h-2V7h2v10zm4 0h-2v-4h2v4z\"/>\n",
              "    </g>\n",
              "</svg>\n",
              "  </button>\n",
              "\n",
              "<style>\n",
              "  .colab-df-quickchart {\n",
              "      --bg-color: #E8F0FE;\n",
              "      --fill-color: #1967D2;\n",
              "      --hover-bg-color: #E2EBFA;\n",
              "      --hover-fill-color: #174EA6;\n",
              "      --disabled-fill-color: #AAA;\n",
              "      --disabled-bg-color: #DDD;\n",
              "  }\n",
              "\n",
              "  [theme=dark] .colab-df-quickchart {\n",
              "      --bg-color: #3B4455;\n",
              "      --fill-color: #D2E3FC;\n",
              "      --hover-bg-color: #434B5C;\n",
              "      --hover-fill-color: #FFFFFF;\n",
              "      --disabled-bg-color: #3B4455;\n",
              "      --disabled-fill-color: #666;\n",
              "  }\n",
              "\n",
              "  .colab-df-quickchart {\n",
              "    background-color: var(--bg-color);\n",
              "    border: none;\n",
              "    border-radius: 50%;\n",
              "    cursor: pointer;\n",
              "    display: none;\n",
              "    fill: var(--fill-color);\n",
              "    height: 32px;\n",
              "    padding: 0;\n",
              "    width: 32px;\n",
              "  }\n",
              "\n",
              "  .colab-df-quickchart:hover {\n",
              "    background-color: var(--hover-bg-color);\n",
              "    box-shadow: 0 1px 2px rgba(60, 64, 67, 0.3), 0 1px 3px 1px rgba(60, 64, 67, 0.15);\n",
              "    fill: var(--button-hover-fill-color);\n",
              "  }\n",
              "\n",
              "  .colab-df-quickchart-complete:disabled,\n",
              "  .colab-df-quickchart-complete:disabled:hover {\n",
              "    background-color: var(--disabled-bg-color);\n",
              "    fill: var(--disabled-fill-color);\n",
              "    box-shadow: none;\n",
              "  }\n",
              "\n",
              "  .colab-df-spinner {\n",
              "    border: 2px solid var(--fill-color);\n",
              "    border-color: transparent;\n",
              "    border-bottom-color: var(--fill-color);\n",
              "    animation:\n",
              "      spin 1s steps(1) infinite;\n",
              "  }\n",
              "\n",
              "  @keyframes spin {\n",
              "    0% {\n",
              "      border-color: transparent;\n",
              "      border-bottom-color: var(--fill-color);\n",
              "      border-left-color: var(--fill-color);\n",
              "    }\n",
              "    20% {\n",
              "      border-color: transparent;\n",
              "      border-left-color: var(--fill-color);\n",
              "      border-top-color: var(--fill-color);\n",
              "    }\n",
              "    30% {\n",
              "      border-color: transparent;\n",
              "      border-left-color: var(--fill-color);\n",
              "      border-top-color: var(--fill-color);\n",
              "      border-right-color: var(--fill-color);\n",
              "    }\n",
              "    40% {\n",
              "      border-color: transparent;\n",
              "      border-right-color: var(--fill-color);\n",
              "      border-top-color: var(--fill-color);\n",
              "    }\n",
              "    60% {\n",
              "      border-color: transparent;\n",
              "      border-right-color: var(--fill-color);\n",
              "    }\n",
              "    80% {\n",
              "      border-color: transparent;\n",
              "      border-right-color: var(--fill-color);\n",
              "      border-bottom-color: var(--fill-color);\n",
              "    }\n",
              "    90% {\n",
              "      border-color: transparent;\n",
              "      border-bottom-color: var(--fill-color);\n",
              "    }\n",
              "  }\n",
              "</style>\n",
              "\n",
              "  <script>\n",
              "    async function quickchart(key) {\n",
              "      const quickchartButtonEl =\n",
              "        document.querySelector('#' + key + ' button');\n",
              "      quickchartButtonEl.disabled = true;  // To prevent multiple clicks.\n",
              "      quickchartButtonEl.classList.add('colab-df-spinner');\n",
              "      try {\n",
              "        const charts = await google.colab.kernel.invokeFunction(\n",
              "            'suggestCharts', [key], {});\n",
              "      } catch (error) {\n",
              "        console.error('Error during call to suggestCharts:', error);\n",
              "      }\n",
              "      quickchartButtonEl.classList.remove('colab-df-spinner');\n",
              "      quickchartButtonEl.classList.add('colab-df-quickchart-complete');\n",
              "    }\n",
              "    (() => {\n",
              "      let quickchartButtonEl =\n",
              "        document.querySelector('#df-37e7aa8a-6284-492e-81dc-b8ed15c97dbc button');\n",
              "      quickchartButtonEl.style.display =\n",
              "        google.colab.kernel.accessAllowed ? 'block' : 'none';\n",
              "    })();\n",
              "  </script>\n",
              "</div>\n",
              "    </div>\n",
              "  </div>\n"
            ]
          },
          "metadata": {},
          "execution_count": 59
        }
      ]
    },
    {
      "cell_type": "markdown",
      "metadata": {
        "id": "oDIAq3Fohj9q"
      },
      "source": [
        "First we make use of the simple imputer:\n"
      ]
    },
    {
      "cell_type": "code",
      "metadata": {
        "id": "5NwBvlK3hl5i",
        "colab": {
          "base_uri": "https://localhost:8080/",
          "height": 206
        },
        "outputId": "509ea019-b377-4c03-b73f-d12c12087f7d"
      },
      "source": [
        "imputer_simple = SimpleImputer()\n",
        "\n",
        "pd.DataFrame(imputer_simple.fit_transform(X))"
      ],
      "execution_count": null,
      "outputs": [
        {
          "output_type": "execute_result",
          "data": {
            "text/plain": [
              "          0         1         2         3\n",
              "0  0.070111 -0.727615  1.904188 -1.966186\n",
              "1  0.410745  0.155161 -0.143476 -2.791157\n",
              "2 -0.337408 -1.069994  0.090022  0.430782\n",
              "3 -0.334743 -0.528369 -0.989942  1.480690\n",
              "4  0.336622  1.802785 -1.578173  1.022805"
            ],
            "text/html": [
              "\n",
              "  <div id=\"df-06cf0e5b-d7f6-4985-b408-8ba0c7be2740\" class=\"colab-df-container\">\n",
              "    <div>\n",
              "<style scoped>\n",
              "    .dataframe tbody tr th:only-of-type {\n",
              "        vertical-align: middle;\n",
              "    }\n",
              "\n",
              "    .dataframe tbody tr th {\n",
              "        vertical-align: top;\n",
              "    }\n",
              "\n",
              "    .dataframe thead th {\n",
              "        text-align: right;\n",
              "    }\n",
              "</style>\n",
              "<table border=\"1\" class=\"dataframe\">\n",
              "  <thead>\n",
              "    <tr style=\"text-align: right;\">\n",
              "      <th></th>\n",
              "      <th>0</th>\n",
              "      <th>1</th>\n",
              "      <th>2</th>\n",
              "      <th>3</th>\n",
              "    </tr>\n",
              "  </thead>\n",
              "  <tbody>\n",
              "    <tr>\n",
              "      <th>0</th>\n",
              "      <td>0.070111</td>\n",
              "      <td>-0.727615</td>\n",
              "      <td>1.904188</td>\n",
              "      <td>-1.966186</td>\n",
              "    </tr>\n",
              "    <tr>\n",
              "      <th>1</th>\n",
              "      <td>0.410745</td>\n",
              "      <td>0.155161</td>\n",
              "      <td>-0.143476</td>\n",
              "      <td>-2.791157</td>\n",
              "    </tr>\n",
              "    <tr>\n",
              "      <th>2</th>\n",
              "      <td>-0.337408</td>\n",
              "      <td>-1.069994</td>\n",
              "      <td>0.090022</td>\n",
              "      <td>0.430782</td>\n",
              "    </tr>\n",
              "    <tr>\n",
              "      <th>3</th>\n",
              "      <td>-0.334743</td>\n",
              "      <td>-0.528369</td>\n",
              "      <td>-0.989942</td>\n",
              "      <td>1.480690</td>\n",
              "    </tr>\n",
              "    <tr>\n",
              "      <th>4</th>\n",
              "      <td>0.336622</td>\n",
              "      <td>1.802785</td>\n",
              "      <td>-1.578173</td>\n",
              "      <td>1.022805</td>\n",
              "    </tr>\n",
              "  </tbody>\n",
              "</table>\n",
              "</div>\n",
              "    <div class=\"colab-df-buttons\">\n",
              "\n",
              "  <div class=\"colab-df-container\">\n",
              "    <button class=\"colab-df-convert\" onclick=\"convertToInteractive('df-06cf0e5b-d7f6-4985-b408-8ba0c7be2740')\"\n",
              "            title=\"Convert this dataframe to an interactive table.\"\n",
              "            style=\"display:none;\">\n",
              "\n",
              "  <svg xmlns=\"http://www.w3.org/2000/svg\" height=\"24px\" viewBox=\"0 -960 960 960\">\n",
              "    <path d=\"M120-120v-720h720v720H120Zm60-500h600v-160H180v160Zm220 220h160v-160H400v160Zm0 220h160v-160H400v160ZM180-400h160v-160H180v160Zm440 0h160v-160H620v160ZM180-180h160v-160H180v160Zm440 0h160v-160H620v160Z\"/>\n",
              "  </svg>\n",
              "    </button>\n",
              "\n",
              "  <style>\n",
              "    .colab-df-container {\n",
              "      display:flex;\n",
              "      gap: 12px;\n",
              "    }\n",
              "\n",
              "    .colab-df-convert {\n",
              "      background-color: #E8F0FE;\n",
              "      border: none;\n",
              "      border-radius: 50%;\n",
              "      cursor: pointer;\n",
              "      display: none;\n",
              "      fill: #1967D2;\n",
              "      height: 32px;\n",
              "      padding: 0 0 0 0;\n",
              "      width: 32px;\n",
              "    }\n",
              "\n",
              "    .colab-df-convert:hover {\n",
              "      background-color: #E2EBFA;\n",
              "      box-shadow: 0px 1px 2px rgba(60, 64, 67, 0.3), 0px 1px 3px 1px rgba(60, 64, 67, 0.15);\n",
              "      fill: #174EA6;\n",
              "    }\n",
              "\n",
              "    .colab-df-buttons div {\n",
              "      margin-bottom: 4px;\n",
              "    }\n",
              "\n",
              "    [theme=dark] .colab-df-convert {\n",
              "      background-color: #3B4455;\n",
              "      fill: #D2E3FC;\n",
              "    }\n",
              "\n",
              "    [theme=dark] .colab-df-convert:hover {\n",
              "      background-color: #434B5C;\n",
              "      box-shadow: 0px 1px 3px 1px rgba(0, 0, 0, 0.15);\n",
              "      filter: drop-shadow(0px 1px 2px rgba(0, 0, 0, 0.3));\n",
              "      fill: #FFFFFF;\n",
              "    }\n",
              "  </style>\n",
              "\n",
              "    <script>\n",
              "      const buttonEl =\n",
              "        document.querySelector('#df-06cf0e5b-d7f6-4985-b408-8ba0c7be2740 button.colab-df-convert');\n",
              "      buttonEl.style.display =\n",
              "        google.colab.kernel.accessAllowed ? 'block' : 'none';\n",
              "\n",
              "      async function convertToInteractive(key) {\n",
              "        const element = document.querySelector('#df-06cf0e5b-d7f6-4985-b408-8ba0c7be2740');\n",
              "        const dataTable =\n",
              "          await google.colab.kernel.invokeFunction('convertToInteractive',\n",
              "                                                    [key], {});\n",
              "        if (!dataTable) return;\n",
              "\n",
              "        const docLinkHtml = 'Like what you see? Visit the ' +\n",
              "          '<a target=\"_blank\" href=https://colab.research.google.com/notebooks/data_table.ipynb>data table notebook</a>'\n",
              "          + ' to learn more about interactive tables.';\n",
              "        element.innerHTML = '';\n",
              "        dataTable['output_type'] = 'display_data';\n",
              "        await google.colab.output.renderOutput(dataTable, element);\n",
              "        const docLink = document.createElement('div');\n",
              "        docLink.innerHTML = docLinkHtml;\n",
              "        element.appendChild(docLink);\n",
              "      }\n",
              "    </script>\n",
              "  </div>\n",
              "\n",
              "\n",
              "<div id=\"df-3595a00c-f02f-476f-b6e8-10b166f129a5\">\n",
              "  <button class=\"colab-df-quickchart\" onclick=\"quickchart('df-3595a00c-f02f-476f-b6e8-10b166f129a5')\"\n",
              "            title=\"Suggest charts\"\n",
              "            style=\"display:none;\">\n",
              "\n",
              "<svg xmlns=\"http://www.w3.org/2000/svg\" height=\"24px\"viewBox=\"0 0 24 24\"\n",
              "     width=\"24px\">\n",
              "    <g>\n",
              "        <path d=\"M19 3H5c-1.1 0-2 .9-2 2v14c0 1.1.9 2 2 2h14c1.1 0 2-.9 2-2V5c0-1.1-.9-2-2-2zM9 17H7v-7h2v7zm4 0h-2V7h2v10zm4 0h-2v-4h2v4z\"/>\n",
              "    </g>\n",
              "</svg>\n",
              "  </button>\n",
              "\n",
              "<style>\n",
              "  .colab-df-quickchart {\n",
              "      --bg-color: #E8F0FE;\n",
              "      --fill-color: #1967D2;\n",
              "      --hover-bg-color: #E2EBFA;\n",
              "      --hover-fill-color: #174EA6;\n",
              "      --disabled-fill-color: #AAA;\n",
              "      --disabled-bg-color: #DDD;\n",
              "  }\n",
              "\n",
              "  [theme=dark] .colab-df-quickchart {\n",
              "      --bg-color: #3B4455;\n",
              "      --fill-color: #D2E3FC;\n",
              "      --hover-bg-color: #434B5C;\n",
              "      --hover-fill-color: #FFFFFF;\n",
              "      --disabled-bg-color: #3B4455;\n",
              "      --disabled-fill-color: #666;\n",
              "  }\n",
              "\n",
              "  .colab-df-quickchart {\n",
              "    background-color: var(--bg-color);\n",
              "    border: none;\n",
              "    border-radius: 50%;\n",
              "    cursor: pointer;\n",
              "    display: none;\n",
              "    fill: var(--fill-color);\n",
              "    height: 32px;\n",
              "    padding: 0;\n",
              "    width: 32px;\n",
              "  }\n",
              "\n",
              "  .colab-df-quickchart:hover {\n",
              "    background-color: var(--hover-bg-color);\n",
              "    box-shadow: 0 1px 2px rgba(60, 64, 67, 0.3), 0 1px 3px 1px rgba(60, 64, 67, 0.15);\n",
              "    fill: var(--button-hover-fill-color);\n",
              "  }\n",
              "\n",
              "  .colab-df-quickchart-complete:disabled,\n",
              "  .colab-df-quickchart-complete:disabled:hover {\n",
              "    background-color: var(--disabled-bg-color);\n",
              "    fill: var(--disabled-fill-color);\n",
              "    box-shadow: none;\n",
              "  }\n",
              "\n",
              "  .colab-df-spinner {\n",
              "    border: 2px solid var(--fill-color);\n",
              "    border-color: transparent;\n",
              "    border-bottom-color: var(--fill-color);\n",
              "    animation:\n",
              "      spin 1s steps(1) infinite;\n",
              "  }\n",
              "\n",
              "  @keyframes spin {\n",
              "    0% {\n",
              "      border-color: transparent;\n",
              "      border-bottom-color: var(--fill-color);\n",
              "      border-left-color: var(--fill-color);\n",
              "    }\n",
              "    20% {\n",
              "      border-color: transparent;\n",
              "      border-left-color: var(--fill-color);\n",
              "      border-top-color: var(--fill-color);\n",
              "    }\n",
              "    30% {\n",
              "      border-color: transparent;\n",
              "      border-left-color: var(--fill-color);\n",
              "      border-top-color: var(--fill-color);\n",
              "      border-right-color: var(--fill-color);\n",
              "    }\n",
              "    40% {\n",
              "      border-color: transparent;\n",
              "      border-right-color: var(--fill-color);\n",
              "      border-top-color: var(--fill-color);\n",
              "    }\n",
              "    60% {\n",
              "      border-color: transparent;\n",
              "      border-right-color: var(--fill-color);\n",
              "    }\n",
              "    80% {\n",
              "      border-color: transparent;\n",
              "      border-right-color: var(--fill-color);\n",
              "      border-bottom-color: var(--fill-color);\n",
              "    }\n",
              "    90% {\n",
              "      border-color: transparent;\n",
              "      border-bottom-color: var(--fill-color);\n",
              "    }\n",
              "  }\n",
              "</style>\n",
              "\n",
              "  <script>\n",
              "    async function quickchart(key) {\n",
              "      const quickchartButtonEl =\n",
              "        document.querySelector('#' + key + ' button');\n",
              "      quickchartButtonEl.disabled = true;  // To prevent multiple clicks.\n",
              "      quickchartButtonEl.classList.add('colab-df-spinner');\n",
              "      try {\n",
              "        const charts = await google.colab.kernel.invokeFunction(\n",
              "            'suggestCharts', [key], {});\n",
              "      } catch (error) {\n",
              "        console.error('Error during call to suggestCharts:', error);\n",
              "      }\n",
              "      quickchartButtonEl.classList.remove('colab-df-spinner');\n",
              "      quickchartButtonEl.classList.add('colab-df-quickchart-complete');\n",
              "    }\n",
              "    (() => {\n",
              "      let quickchartButtonEl =\n",
              "        document.querySelector('#df-3595a00c-f02f-476f-b6e8-10b166f129a5 button');\n",
              "      quickchartButtonEl.style.display =\n",
              "        google.colab.kernel.accessAllowed ? 'block' : 'none';\n",
              "    })();\n",
              "  </script>\n",
              "</div>\n",
              "    </div>\n",
              "  </div>\n"
            ]
          },
          "metadata": {},
          "execution_count": 60
        }
      ]
    },
    {
      "cell_type": "markdown",
      "metadata": {
        "id": "oERO6fnBhs4K"
      },
      "source": [
        "Resulting in a value of -0.143476.\n"
      ]
    },
    {
      "cell_type": "markdown",
      "metadata": {
        "id": "I8jxe0iMhykq"
      },
      "source": [
        "Next, we try the KNN imputer, where the 2 nearest neighbors are considered and the neighbors are weighted uniformly:"
      ]
    },
    {
      "cell_type": "code",
      "metadata": {
        "id": "dlyeMScIh0Ja",
        "colab": {
          "base_uri": "https://localhost:8080/",
          "height": 206
        },
        "outputId": "9a0a51ad-3703-43f1-dcec-2521ce021c4b"
      },
      "source": [
        "imputer_KNN = KNNImputer(n_neighbors=2, weights=\"uniform\")\n",
        "pd.DataFrame(imputer_KNN.fit_transform(X))"
      ],
      "execution_count": null,
      "outputs": [
        {
          "output_type": "execute_result",
          "data": {
            "text/plain": [
              "          0         1         2         3\n",
              "0  0.070111 -0.727615  1.904188 -1.966186\n",
              "1  0.410745  0.155161  0.997105 -2.791157\n",
              "2 -0.337408 -1.069994  0.090022  0.430782\n",
              "3 -0.334743 -0.528369 -0.989942  1.480690\n",
              "4  0.336622  1.802785 -1.578173  1.022805"
            ],
            "text/html": [
              "\n",
              "  <div id=\"df-22826b0a-a044-42db-ad7e-fad0daeebdf8\" class=\"colab-df-container\">\n",
              "    <div>\n",
              "<style scoped>\n",
              "    .dataframe tbody tr th:only-of-type {\n",
              "        vertical-align: middle;\n",
              "    }\n",
              "\n",
              "    .dataframe tbody tr th {\n",
              "        vertical-align: top;\n",
              "    }\n",
              "\n",
              "    .dataframe thead th {\n",
              "        text-align: right;\n",
              "    }\n",
              "</style>\n",
              "<table border=\"1\" class=\"dataframe\">\n",
              "  <thead>\n",
              "    <tr style=\"text-align: right;\">\n",
              "      <th></th>\n",
              "      <th>0</th>\n",
              "      <th>1</th>\n",
              "      <th>2</th>\n",
              "      <th>3</th>\n",
              "    </tr>\n",
              "  </thead>\n",
              "  <tbody>\n",
              "    <tr>\n",
              "      <th>0</th>\n",
              "      <td>0.070111</td>\n",
              "      <td>-0.727615</td>\n",
              "      <td>1.904188</td>\n",
              "      <td>-1.966186</td>\n",
              "    </tr>\n",
              "    <tr>\n",
              "      <th>1</th>\n",
              "      <td>0.410745</td>\n",
              "      <td>0.155161</td>\n",
              "      <td>0.997105</td>\n",
              "      <td>-2.791157</td>\n",
              "    </tr>\n",
              "    <tr>\n",
              "      <th>2</th>\n",
              "      <td>-0.337408</td>\n",
              "      <td>-1.069994</td>\n",
              "      <td>0.090022</td>\n",
              "      <td>0.430782</td>\n",
              "    </tr>\n",
              "    <tr>\n",
              "      <th>3</th>\n",
              "      <td>-0.334743</td>\n",
              "      <td>-0.528369</td>\n",
              "      <td>-0.989942</td>\n",
              "      <td>1.480690</td>\n",
              "    </tr>\n",
              "    <tr>\n",
              "      <th>4</th>\n",
              "      <td>0.336622</td>\n",
              "      <td>1.802785</td>\n",
              "      <td>-1.578173</td>\n",
              "      <td>1.022805</td>\n",
              "    </tr>\n",
              "  </tbody>\n",
              "</table>\n",
              "</div>\n",
              "    <div class=\"colab-df-buttons\">\n",
              "\n",
              "  <div class=\"colab-df-container\">\n",
              "    <button class=\"colab-df-convert\" onclick=\"convertToInteractive('df-22826b0a-a044-42db-ad7e-fad0daeebdf8')\"\n",
              "            title=\"Convert this dataframe to an interactive table.\"\n",
              "            style=\"display:none;\">\n",
              "\n",
              "  <svg xmlns=\"http://www.w3.org/2000/svg\" height=\"24px\" viewBox=\"0 -960 960 960\">\n",
              "    <path d=\"M120-120v-720h720v720H120Zm60-500h600v-160H180v160Zm220 220h160v-160H400v160Zm0 220h160v-160H400v160ZM180-400h160v-160H180v160Zm440 0h160v-160H620v160ZM180-180h160v-160H180v160Zm440 0h160v-160H620v160Z\"/>\n",
              "  </svg>\n",
              "    </button>\n",
              "\n",
              "  <style>\n",
              "    .colab-df-container {\n",
              "      display:flex;\n",
              "      gap: 12px;\n",
              "    }\n",
              "\n",
              "    .colab-df-convert {\n",
              "      background-color: #E8F0FE;\n",
              "      border: none;\n",
              "      border-radius: 50%;\n",
              "      cursor: pointer;\n",
              "      display: none;\n",
              "      fill: #1967D2;\n",
              "      height: 32px;\n",
              "      padding: 0 0 0 0;\n",
              "      width: 32px;\n",
              "    }\n",
              "\n",
              "    .colab-df-convert:hover {\n",
              "      background-color: #E2EBFA;\n",
              "      box-shadow: 0px 1px 2px rgba(60, 64, 67, 0.3), 0px 1px 3px 1px rgba(60, 64, 67, 0.15);\n",
              "      fill: #174EA6;\n",
              "    }\n",
              "\n",
              "    .colab-df-buttons div {\n",
              "      margin-bottom: 4px;\n",
              "    }\n",
              "\n",
              "    [theme=dark] .colab-df-convert {\n",
              "      background-color: #3B4455;\n",
              "      fill: #D2E3FC;\n",
              "    }\n",
              "\n",
              "    [theme=dark] .colab-df-convert:hover {\n",
              "      background-color: #434B5C;\n",
              "      box-shadow: 0px 1px 3px 1px rgba(0, 0, 0, 0.15);\n",
              "      filter: drop-shadow(0px 1px 2px rgba(0, 0, 0, 0.3));\n",
              "      fill: #FFFFFF;\n",
              "    }\n",
              "  </style>\n",
              "\n",
              "    <script>\n",
              "      const buttonEl =\n",
              "        document.querySelector('#df-22826b0a-a044-42db-ad7e-fad0daeebdf8 button.colab-df-convert');\n",
              "      buttonEl.style.display =\n",
              "        google.colab.kernel.accessAllowed ? 'block' : 'none';\n",
              "\n",
              "      async function convertToInteractive(key) {\n",
              "        const element = document.querySelector('#df-22826b0a-a044-42db-ad7e-fad0daeebdf8');\n",
              "        const dataTable =\n",
              "          await google.colab.kernel.invokeFunction('convertToInteractive',\n",
              "                                                    [key], {});\n",
              "        if (!dataTable) return;\n",
              "\n",
              "        const docLinkHtml = 'Like what you see? Visit the ' +\n",
              "          '<a target=\"_blank\" href=https://colab.research.google.com/notebooks/data_table.ipynb>data table notebook</a>'\n",
              "          + ' to learn more about interactive tables.';\n",
              "        element.innerHTML = '';\n",
              "        dataTable['output_type'] = 'display_data';\n",
              "        await google.colab.output.renderOutput(dataTable, element);\n",
              "        const docLink = document.createElement('div');\n",
              "        docLink.innerHTML = docLinkHtml;\n",
              "        element.appendChild(docLink);\n",
              "      }\n",
              "    </script>\n",
              "  </div>\n",
              "\n",
              "\n",
              "<div id=\"df-d83c6bb8-a34d-4042-b588-cf64545a251b\">\n",
              "  <button class=\"colab-df-quickchart\" onclick=\"quickchart('df-d83c6bb8-a34d-4042-b588-cf64545a251b')\"\n",
              "            title=\"Suggest charts\"\n",
              "            style=\"display:none;\">\n",
              "\n",
              "<svg xmlns=\"http://www.w3.org/2000/svg\" height=\"24px\"viewBox=\"0 0 24 24\"\n",
              "     width=\"24px\">\n",
              "    <g>\n",
              "        <path d=\"M19 3H5c-1.1 0-2 .9-2 2v14c0 1.1.9 2 2 2h14c1.1 0 2-.9 2-2V5c0-1.1-.9-2-2-2zM9 17H7v-7h2v7zm4 0h-2V7h2v10zm4 0h-2v-4h2v4z\"/>\n",
              "    </g>\n",
              "</svg>\n",
              "  </button>\n",
              "\n",
              "<style>\n",
              "  .colab-df-quickchart {\n",
              "      --bg-color: #E8F0FE;\n",
              "      --fill-color: #1967D2;\n",
              "      --hover-bg-color: #E2EBFA;\n",
              "      --hover-fill-color: #174EA6;\n",
              "      --disabled-fill-color: #AAA;\n",
              "      --disabled-bg-color: #DDD;\n",
              "  }\n",
              "\n",
              "  [theme=dark] .colab-df-quickchart {\n",
              "      --bg-color: #3B4455;\n",
              "      --fill-color: #D2E3FC;\n",
              "      --hover-bg-color: #434B5C;\n",
              "      --hover-fill-color: #FFFFFF;\n",
              "      --disabled-bg-color: #3B4455;\n",
              "      --disabled-fill-color: #666;\n",
              "  }\n",
              "\n",
              "  .colab-df-quickchart {\n",
              "    background-color: var(--bg-color);\n",
              "    border: none;\n",
              "    border-radius: 50%;\n",
              "    cursor: pointer;\n",
              "    display: none;\n",
              "    fill: var(--fill-color);\n",
              "    height: 32px;\n",
              "    padding: 0;\n",
              "    width: 32px;\n",
              "  }\n",
              "\n",
              "  .colab-df-quickchart:hover {\n",
              "    background-color: var(--hover-bg-color);\n",
              "    box-shadow: 0 1px 2px rgba(60, 64, 67, 0.3), 0 1px 3px 1px rgba(60, 64, 67, 0.15);\n",
              "    fill: var(--button-hover-fill-color);\n",
              "  }\n",
              "\n",
              "  .colab-df-quickchart-complete:disabled,\n",
              "  .colab-df-quickchart-complete:disabled:hover {\n",
              "    background-color: var(--disabled-bg-color);\n",
              "    fill: var(--disabled-fill-color);\n",
              "    box-shadow: none;\n",
              "  }\n",
              "\n",
              "  .colab-df-spinner {\n",
              "    border: 2px solid var(--fill-color);\n",
              "    border-color: transparent;\n",
              "    border-bottom-color: var(--fill-color);\n",
              "    animation:\n",
              "      spin 1s steps(1) infinite;\n",
              "  }\n",
              "\n",
              "  @keyframes spin {\n",
              "    0% {\n",
              "      border-color: transparent;\n",
              "      border-bottom-color: var(--fill-color);\n",
              "      border-left-color: var(--fill-color);\n",
              "    }\n",
              "    20% {\n",
              "      border-color: transparent;\n",
              "      border-left-color: var(--fill-color);\n",
              "      border-top-color: var(--fill-color);\n",
              "    }\n",
              "    30% {\n",
              "      border-color: transparent;\n",
              "      border-left-color: var(--fill-color);\n",
              "      border-top-color: var(--fill-color);\n",
              "      border-right-color: var(--fill-color);\n",
              "    }\n",
              "    40% {\n",
              "      border-color: transparent;\n",
              "      border-right-color: var(--fill-color);\n",
              "      border-top-color: var(--fill-color);\n",
              "    }\n",
              "    60% {\n",
              "      border-color: transparent;\n",
              "      border-right-color: var(--fill-color);\n",
              "    }\n",
              "    80% {\n",
              "      border-color: transparent;\n",
              "      border-right-color: var(--fill-color);\n",
              "      border-bottom-color: var(--fill-color);\n",
              "    }\n",
              "    90% {\n",
              "      border-color: transparent;\n",
              "      border-bottom-color: var(--fill-color);\n",
              "    }\n",
              "  }\n",
              "</style>\n",
              "\n",
              "  <script>\n",
              "    async function quickchart(key) {\n",
              "      const quickchartButtonEl =\n",
              "        document.querySelector('#' + key + ' button');\n",
              "      quickchartButtonEl.disabled = true;  // To prevent multiple clicks.\n",
              "      quickchartButtonEl.classList.add('colab-df-spinner');\n",
              "      try {\n",
              "        const charts = await google.colab.kernel.invokeFunction(\n",
              "            'suggestCharts', [key], {});\n",
              "      } catch (error) {\n",
              "        console.error('Error during call to suggestCharts:', error);\n",
              "      }\n",
              "      quickchartButtonEl.classList.remove('colab-df-spinner');\n",
              "      quickchartButtonEl.classList.add('colab-df-quickchart-complete');\n",
              "    }\n",
              "    (() => {\n",
              "      let quickchartButtonEl =\n",
              "        document.querySelector('#df-d83c6bb8-a34d-4042-b588-cf64545a251b button');\n",
              "      quickchartButtonEl.style.display =\n",
              "        google.colab.kernel.accessAllowed ? 'block' : 'none';\n",
              "    })();\n",
              "  </script>\n",
              "</div>\n",
              "    </div>\n",
              "  </div>\n"
            ]
          },
          "metadata": {},
          "execution_count": 61
        }
      ]
    },
    {
      "cell_type": "markdown",
      "metadata": {
        "id": "cbYlee8Ch8S5"
      },
      "source": [
        "Resulting in a value of 0.997105 (= 0.5*(1.904188+0.090022)).\n"
      ]
    },
    {
      "cell_type": "markdown",
      "source": [
        "### **importing missing value with pipline**"
      ],
      "metadata": {
        "id": "FZqbMy0NxI5r"
      }
    },
    {
      "cell_type": "code",
      "source": [
        "from sklearn.pipeline import Pipeline\n",
        "#from sklearn.preprocessing import Imputer\n",
        "from sklearn.impute import SimpleImputer\n",
        "mp = SimpleImputer(missing_values='NaN', strategy='mean')\n",
        "logreg = LogisticRegression()\n",
        "steps = [('imputation', mp),('logistic_regression', logreg)]\n",
        "pipeline = Pipeline(steps)\n",
        "X_train, X_test, y_train, y_test = train_test_split(X, y, test_size=0.3, random_state=42)"
      ],
      "metadata": {
        "id": "Sl2-SSJSvZ12"
      },
      "execution_count": null,
      "outputs": []
    },
    {
      "cell_type": "code",
      "source": [
        "pipeline.fit(X_train, y_train)\n",
        "y_pred = pipeline.predict(X_test)\n",
        "pipeline.score(X_test, y_test)\n"
      ],
      "metadata": {
        "colab": {
          "base_uri": "https://localhost:8080/",
          "height": 374
        },
        "id": "by36F0ibw1Yx",
        "outputId": "6cb04fa0-3579-445d-a587-e66a5d551e03"
      },
      "execution_count": null,
      "outputs": [
        {
          "output_type": "error",
          "ename": "ValueError",
          "evalue": "ignored",
          "traceback": [
            "\u001b[0;31m---------------------------------------------------------------------------\u001b[0m",
            "\u001b[0;31mValueError\u001b[0m                                Traceback (most recent call last)",
            "\u001b[0;32m<ipython-input-73-5c3ec2a22e16>\u001b[0m in \u001b[0;36m<cell line: 1>\u001b[0;34m()\u001b[0m\n\u001b[0;32m----> 1\u001b[0;31m \u001b[0mpipeline\u001b[0m\u001b[0;34m.\u001b[0m\u001b[0mfit\u001b[0m\u001b[0;34m(\u001b[0m\u001b[0mX_train\u001b[0m\u001b[0;34m,\u001b[0m \u001b[0my_train\u001b[0m\u001b[0;34m)\u001b[0m\u001b[0;34m\u001b[0m\u001b[0;34m\u001b[0m\u001b[0m\n\u001b[0m\u001b[1;32m      2\u001b[0m \u001b[0my_pred\u001b[0m \u001b[0;34m=\u001b[0m \u001b[0mpipeline\u001b[0m\u001b[0;34m.\u001b[0m\u001b[0mpredict\u001b[0m\u001b[0;34m(\u001b[0m\u001b[0mX_test\u001b[0m\u001b[0;34m)\u001b[0m\u001b[0;34m\u001b[0m\u001b[0;34m\u001b[0m\u001b[0m\n\u001b[1;32m      3\u001b[0m \u001b[0mpipeline\u001b[0m\u001b[0;34m.\u001b[0m\u001b[0mscore\u001b[0m\u001b[0;34m(\u001b[0m\u001b[0mX_test\u001b[0m\u001b[0;34m,\u001b[0m \u001b[0my_test\u001b[0m\u001b[0;34m)\u001b[0m\u001b[0;34m\u001b[0m\u001b[0;34m\u001b[0m\u001b[0m\n",
            "\u001b[0;32m/usr/local/lib/python3.10/dist-packages/sklearn/pipeline.py\u001b[0m in \u001b[0;36mfit\u001b[0;34m(self, X, y, **fit_params)\u001b[0m\n\u001b[1;32m    399\u001b[0m         \"\"\"\n\u001b[1;32m    400\u001b[0m         \u001b[0mfit_params_steps\u001b[0m \u001b[0;34m=\u001b[0m \u001b[0mself\u001b[0m\u001b[0;34m.\u001b[0m\u001b[0m_check_fit_params\u001b[0m\u001b[0;34m(\u001b[0m\u001b[0;34m**\u001b[0m\u001b[0mfit_params\u001b[0m\u001b[0;34m)\u001b[0m\u001b[0;34m\u001b[0m\u001b[0;34m\u001b[0m\u001b[0m\n\u001b[0;32m--> 401\u001b[0;31m         \u001b[0mXt\u001b[0m \u001b[0;34m=\u001b[0m \u001b[0mself\u001b[0m\u001b[0;34m.\u001b[0m\u001b[0m_fit\u001b[0m\u001b[0;34m(\u001b[0m\u001b[0mX\u001b[0m\u001b[0;34m,\u001b[0m \u001b[0my\u001b[0m\u001b[0;34m,\u001b[0m \u001b[0;34m**\u001b[0m\u001b[0mfit_params_steps\u001b[0m\u001b[0;34m)\u001b[0m\u001b[0;34m\u001b[0m\u001b[0;34m\u001b[0m\u001b[0m\n\u001b[0m\u001b[1;32m    402\u001b[0m         \u001b[0;32mwith\u001b[0m \u001b[0m_print_elapsed_time\u001b[0m\u001b[0;34m(\u001b[0m\u001b[0;34m\"Pipeline\"\u001b[0m\u001b[0;34m,\u001b[0m \u001b[0mself\u001b[0m\u001b[0;34m.\u001b[0m\u001b[0m_log_message\u001b[0m\u001b[0;34m(\u001b[0m\u001b[0mlen\u001b[0m\u001b[0;34m(\u001b[0m\u001b[0mself\u001b[0m\u001b[0;34m.\u001b[0m\u001b[0msteps\u001b[0m\u001b[0;34m)\u001b[0m \u001b[0;34m-\u001b[0m \u001b[0;36m1\u001b[0m\u001b[0;34m)\u001b[0m\u001b[0;34m)\u001b[0m\u001b[0;34m:\u001b[0m\u001b[0;34m\u001b[0m\u001b[0;34m\u001b[0m\u001b[0m\n\u001b[1;32m    403\u001b[0m             \u001b[0;32mif\u001b[0m \u001b[0mself\u001b[0m\u001b[0;34m.\u001b[0m\u001b[0m_final_estimator\u001b[0m \u001b[0;34m!=\u001b[0m \u001b[0;34m\"passthrough\"\u001b[0m\u001b[0;34m:\u001b[0m\u001b[0;34m\u001b[0m\u001b[0;34m\u001b[0m\u001b[0m\n",
            "\u001b[0;32m/usr/local/lib/python3.10/dist-packages/sklearn/pipeline.py\u001b[0m in \u001b[0;36m_fit\u001b[0;34m(self, X, y, **fit_params_steps)\u001b[0m\n\u001b[1;32m    357\u001b[0m                 \u001b[0mcloned_transformer\u001b[0m \u001b[0;34m=\u001b[0m \u001b[0mclone\u001b[0m\u001b[0;34m(\u001b[0m\u001b[0mtransformer\u001b[0m\u001b[0;34m)\u001b[0m\u001b[0;34m\u001b[0m\u001b[0;34m\u001b[0m\u001b[0m\n\u001b[1;32m    358\u001b[0m             \u001b[0;31m# Fit or load from cache the current transformer\u001b[0m\u001b[0;34m\u001b[0m\u001b[0;34m\u001b[0m\u001b[0m\n\u001b[0;32m--> 359\u001b[0;31m             X, fitted_transformer = fit_transform_one_cached(\n\u001b[0m\u001b[1;32m    360\u001b[0m                 \u001b[0mcloned_transformer\u001b[0m\u001b[0;34m,\u001b[0m\u001b[0;34m\u001b[0m\u001b[0;34m\u001b[0m\u001b[0m\n\u001b[1;32m    361\u001b[0m                 \u001b[0mX\u001b[0m\u001b[0;34m,\u001b[0m\u001b[0;34m\u001b[0m\u001b[0;34m\u001b[0m\u001b[0m\n",
            "\u001b[0;32m/usr/local/lib/python3.10/dist-packages/joblib/memory.py\u001b[0m in \u001b[0;36m__call__\u001b[0;34m(self, *args, **kwargs)\u001b[0m\n\u001b[1;32m    351\u001b[0m \u001b[0;34m\u001b[0m\u001b[0m\n\u001b[1;32m    352\u001b[0m     \u001b[0;32mdef\u001b[0m \u001b[0m__call__\u001b[0m\u001b[0;34m(\u001b[0m\u001b[0mself\u001b[0m\u001b[0;34m,\u001b[0m \u001b[0;34m*\u001b[0m\u001b[0margs\u001b[0m\u001b[0;34m,\u001b[0m \u001b[0;34m**\u001b[0m\u001b[0mkwargs\u001b[0m\u001b[0;34m)\u001b[0m\u001b[0;34m:\u001b[0m\u001b[0;34m\u001b[0m\u001b[0;34m\u001b[0m\u001b[0m\n\u001b[0;32m--> 353\u001b[0;31m         \u001b[0;32mreturn\u001b[0m \u001b[0mself\u001b[0m\u001b[0;34m.\u001b[0m\u001b[0mfunc\u001b[0m\u001b[0;34m(\u001b[0m\u001b[0;34m*\u001b[0m\u001b[0margs\u001b[0m\u001b[0;34m,\u001b[0m \u001b[0;34m**\u001b[0m\u001b[0mkwargs\u001b[0m\u001b[0;34m)\u001b[0m\u001b[0;34m\u001b[0m\u001b[0;34m\u001b[0m\u001b[0m\n\u001b[0m\u001b[1;32m    354\u001b[0m \u001b[0;34m\u001b[0m\u001b[0m\n\u001b[1;32m    355\u001b[0m     \u001b[0;32mdef\u001b[0m \u001b[0mcall_and_shelve\u001b[0m\u001b[0;34m(\u001b[0m\u001b[0mself\u001b[0m\u001b[0;34m,\u001b[0m \u001b[0;34m*\u001b[0m\u001b[0margs\u001b[0m\u001b[0;34m,\u001b[0m \u001b[0;34m**\u001b[0m\u001b[0mkwargs\u001b[0m\u001b[0;34m)\u001b[0m\u001b[0;34m:\u001b[0m\u001b[0;34m\u001b[0m\u001b[0;34m\u001b[0m\u001b[0m\n",
            "\u001b[0;32m/usr/local/lib/python3.10/dist-packages/sklearn/pipeline.py\u001b[0m in \u001b[0;36m_fit_transform_one\u001b[0;34m(transformer, X, y, weight, message_clsname, message, **fit_params)\u001b[0m\n\u001b[1;32m    891\u001b[0m     \u001b[0;32mwith\u001b[0m \u001b[0m_print_elapsed_time\u001b[0m\u001b[0;34m(\u001b[0m\u001b[0mmessage_clsname\u001b[0m\u001b[0;34m,\u001b[0m \u001b[0mmessage\u001b[0m\u001b[0;34m)\u001b[0m\u001b[0;34m:\u001b[0m\u001b[0;34m\u001b[0m\u001b[0;34m\u001b[0m\u001b[0m\n\u001b[1;32m    892\u001b[0m         \u001b[0;32mif\u001b[0m \u001b[0mhasattr\u001b[0m\u001b[0;34m(\u001b[0m\u001b[0mtransformer\u001b[0m\u001b[0;34m,\u001b[0m \u001b[0;34m\"fit_transform\"\u001b[0m\u001b[0;34m)\u001b[0m\u001b[0;34m:\u001b[0m\u001b[0;34m\u001b[0m\u001b[0;34m\u001b[0m\u001b[0m\n\u001b[0;32m--> 893\u001b[0;31m             \u001b[0mres\u001b[0m \u001b[0;34m=\u001b[0m \u001b[0mtransformer\u001b[0m\u001b[0;34m.\u001b[0m\u001b[0mfit_transform\u001b[0m\u001b[0;34m(\u001b[0m\u001b[0mX\u001b[0m\u001b[0;34m,\u001b[0m \u001b[0my\u001b[0m\u001b[0;34m,\u001b[0m \u001b[0;34m**\u001b[0m\u001b[0mfit_params\u001b[0m\u001b[0;34m)\u001b[0m\u001b[0;34m\u001b[0m\u001b[0;34m\u001b[0m\u001b[0m\n\u001b[0m\u001b[1;32m    894\u001b[0m         \u001b[0;32melse\u001b[0m\u001b[0;34m:\u001b[0m\u001b[0;34m\u001b[0m\u001b[0;34m\u001b[0m\u001b[0m\n\u001b[1;32m    895\u001b[0m             \u001b[0mres\u001b[0m \u001b[0;34m=\u001b[0m \u001b[0mtransformer\u001b[0m\u001b[0;34m.\u001b[0m\u001b[0mfit\u001b[0m\u001b[0;34m(\u001b[0m\u001b[0mX\u001b[0m\u001b[0;34m,\u001b[0m \u001b[0my\u001b[0m\u001b[0;34m,\u001b[0m \u001b[0;34m**\u001b[0m\u001b[0mfit_params\u001b[0m\u001b[0;34m)\u001b[0m\u001b[0;34m.\u001b[0m\u001b[0mtransform\u001b[0m\u001b[0;34m(\u001b[0m\u001b[0mX\u001b[0m\u001b[0;34m)\u001b[0m\u001b[0;34m\u001b[0m\u001b[0;34m\u001b[0m\u001b[0m\n",
            "\u001b[0;32m/usr/local/lib/python3.10/dist-packages/sklearn/utils/_set_output.py\u001b[0m in \u001b[0;36mwrapped\u001b[0;34m(self, X, *args, **kwargs)\u001b[0m\n\u001b[1;32m    138\u001b[0m     \u001b[0;34m@\u001b[0m\u001b[0mwraps\u001b[0m\u001b[0;34m(\u001b[0m\u001b[0mf\u001b[0m\u001b[0;34m)\u001b[0m\u001b[0;34m\u001b[0m\u001b[0;34m\u001b[0m\u001b[0m\n\u001b[1;32m    139\u001b[0m     \u001b[0;32mdef\u001b[0m \u001b[0mwrapped\u001b[0m\u001b[0;34m(\u001b[0m\u001b[0mself\u001b[0m\u001b[0;34m,\u001b[0m \u001b[0mX\u001b[0m\u001b[0;34m,\u001b[0m \u001b[0;34m*\u001b[0m\u001b[0margs\u001b[0m\u001b[0;34m,\u001b[0m \u001b[0;34m**\u001b[0m\u001b[0mkwargs\u001b[0m\u001b[0;34m)\u001b[0m\u001b[0;34m:\u001b[0m\u001b[0;34m\u001b[0m\u001b[0;34m\u001b[0m\u001b[0m\n\u001b[0;32m--> 140\u001b[0;31m         \u001b[0mdata_to_wrap\u001b[0m \u001b[0;34m=\u001b[0m \u001b[0mf\u001b[0m\u001b[0;34m(\u001b[0m\u001b[0mself\u001b[0m\u001b[0;34m,\u001b[0m \u001b[0mX\u001b[0m\u001b[0;34m,\u001b[0m \u001b[0;34m*\u001b[0m\u001b[0margs\u001b[0m\u001b[0;34m,\u001b[0m \u001b[0;34m**\u001b[0m\u001b[0mkwargs\u001b[0m\u001b[0;34m)\u001b[0m\u001b[0;34m\u001b[0m\u001b[0;34m\u001b[0m\u001b[0m\n\u001b[0m\u001b[1;32m    141\u001b[0m         \u001b[0;32mif\u001b[0m \u001b[0misinstance\u001b[0m\u001b[0;34m(\u001b[0m\u001b[0mdata_to_wrap\u001b[0m\u001b[0;34m,\u001b[0m \u001b[0mtuple\u001b[0m\u001b[0;34m)\u001b[0m\u001b[0;34m:\u001b[0m\u001b[0;34m\u001b[0m\u001b[0;34m\u001b[0m\u001b[0m\n\u001b[1;32m    142\u001b[0m             \u001b[0;31m# only wrap the first output for cross decomposition\u001b[0m\u001b[0;34m\u001b[0m\u001b[0;34m\u001b[0m\u001b[0m\n",
            "\u001b[0;32m/usr/local/lib/python3.10/dist-packages/sklearn/base.py\u001b[0m in \u001b[0;36mfit_transform\u001b[0;34m(self, X, y, **fit_params)\u001b[0m\n\u001b[1;32m    879\u001b[0m         \u001b[0;32melse\u001b[0m\u001b[0;34m:\u001b[0m\u001b[0;34m\u001b[0m\u001b[0;34m\u001b[0m\u001b[0m\n\u001b[1;32m    880\u001b[0m             \u001b[0;31m# fit method of arity 2 (supervised transformation)\u001b[0m\u001b[0;34m\u001b[0m\u001b[0;34m\u001b[0m\u001b[0m\n\u001b[0;32m--> 881\u001b[0;31m             \u001b[0;32mreturn\u001b[0m \u001b[0mself\u001b[0m\u001b[0;34m.\u001b[0m\u001b[0mfit\u001b[0m\u001b[0;34m(\u001b[0m\u001b[0mX\u001b[0m\u001b[0;34m,\u001b[0m \u001b[0my\u001b[0m\u001b[0;34m,\u001b[0m \u001b[0;34m**\u001b[0m\u001b[0mfit_params\u001b[0m\u001b[0;34m)\u001b[0m\u001b[0;34m.\u001b[0m\u001b[0mtransform\u001b[0m\u001b[0;34m(\u001b[0m\u001b[0mX\u001b[0m\u001b[0;34m)\u001b[0m\u001b[0;34m\u001b[0m\u001b[0;34m\u001b[0m\u001b[0m\n\u001b[0m\u001b[1;32m    882\u001b[0m \u001b[0;34m\u001b[0m\u001b[0m\n\u001b[1;32m    883\u001b[0m \u001b[0;34m\u001b[0m\u001b[0m\n",
            "\u001b[0;32m/usr/local/lib/python3.10/dist-packages/sklearn/impute/_base.py\u001b[0m in \u001b[0;36mfit\u001b[0;34m(self, X, y)\u001b[0m\n\u001b[1;32m    388\u001b[0m             )\n\u001b[1;32m    389\u001b[0m \u001b[0;34m\u001b[0m\u001b[0m\n\u001b[0;32m--> 390\u001b[0;31m         \u001b[0mX\u001b[0m \u001b[0;34m=\u001b[0m \u001b[0mself\u001b[0m\u001b[0;34m.\u001b[0m\u001b[0m_validate_input\u001b[0m\u001b[0;34m(\u001b[0m\u001b[0mX\u001b[0m\u001b[0;34m,\u001b[0m \u001b[0min_fit\u001b[0m\u001b[0;34m=\u001b[0m\u001b[0;32mTrue\u001b[0m\u001b[0;34m)\u001b[0m\u001b[0;34m\u001b[0m\u001b[0;34m\u001b[0m\u001b[0m\n\u001b[0m\u001b[1;32m    391\u001b[0m \u001b[0;34m\u001b[0m\u001b[0m\n\u001b[1;32m    392\u001b[0m         \u001b[0;31m# default fill_value is 0 for numerical input and \"missing_value\"\u001b[0m\u001b[0;34m\u001b[0m\u001b[0;34m\u001b[0m\u001b[0m\n",
            "\u001b[0;32m/usr/local/lib/python3.10/dist-packages/sklearn/impute/_base.py\u001b[0m in \u001b[0;36m_validate_input\u001b[0;34m(self, X, in_fit)\u001b[0m\n\u001b[1;32m    348\u001b[0m             \u001b[0mself\u001b[0m\u001b[0;34m.\u001b[0m\u001b[0m_fit_dtype\u001b[0m \u001b[0;34m=\u001b[0m \u001b[0mX\u001b[0m\u001b[0;34m.\u001b[0m\u001b[0mdtype\u001b[0m\u001b[0;34m\u001b[0m\u001b[0;34m\u001b[0m\u001b[0m\n\u001b[1;32m    349\u001b[0m \u001b[0;34m\u001b[0m\u001b[0m\n\u001b[0;32m--> 350\u001b[0;31m         \u001b[0m_check_inputs_dtype\u001b[0m\u001b[0;34m(\u001b[0m\u001b[0mX\u001b[0m\u001b[0;34m,\u001b[0m \u001b[0mself\u001b[0m\u001b[0;34m.\u001b[0m\u001b[0mmissing_values\u001b[0m\u001b[0;34m)\u001b[0m\u001b[0;34m\u001b[0m\u001b[0;34m\u001b[0m\u001b[0m\n\u001b[0m\u001b[1;32m    351\u001b[0m         \u001b[0;32mif\u001b[0m \u001b[0mX\u001b[0m\u001b[0;34m.\u001b[0m\u001b[0mdtype\u001b[0m\u001b[0;34m.\u001b[0m\u001b[0mkind\u001b[0m \u001b[0;32mnot\u001b[0m \u001b[0;32min\u001b[0m \u001b[0;34m(\u001b[0m\u001b[0;34m\"i\"\u001b[0m\u001b[0;34m,\u001b[0m \u001b[0;34m\"u\"\u001b[0m\u001b[0;34m,\u001b[0m \u001b[0;34m\"f\"\u001b[0m\u001b[0;34m,\u001b[0m \u001b[0;34m\"O\"\u001b[0m\u001b[0;34m)\u001b[0m\u001b[0;34m:\u001b[0m\u001b[0;34m\u001b[0m\u001b[0;34m\u001b[0m\u001b[0m\n\u001b[1;32m    352\u001b[0m             raise ValueError(\n",
            "\u001b[0;32m/usr/local/lib/python3.10/dist-packages/sklearn/impute/_base.py\u001b[0m in \u001b[0;36m_check_inputs_dtype\u001b[0;34m(X, missing_values)\u001b[0m\n\u001b[1;32m     28\u001b[0m         \u001b[0;32mreturn\u001b[0m\u001b[0;34m\u001b[0m\u001b[0;34m\u001b[0m\u001b[0m\n\u001b[1;32m     29\u001b[0m     \u001b[0;32mif\u001b[0m \u001b[0mX\u001b[0m\u001b[0;34m.\u001b[0m\u001b[0mdtype\u001b[0m\u001b[0;34m.\u001b[0m\u001b[0mkind\u001b[0m \u001b[0;32min\u001b[0m \u001b[0;34m(\u001b[0m\u001b[0;34m\"f\"\u001b[0m\u001b[0;34m,\u001b[0m \u001b[0;34m\"i\"\u001b[0m\u001b[0;34m,\u001b[0m \u001b[0;34m\"u\"\u001b[0m\u001b[0;34m)\u001b[0m \u001b[0;32mand\u001b[0m \u001b[0;32mnot\u001b[0m \u001b[0misinstance\u001b[0m\u001b[0;34m(\u001b[0m\u001b[0mmissing_values\u001b[0m\u001b[0;34m,\u001b[0m \u001b[0mnumbers\u001b[0m\u001b[0;34m.\u001b[0m\u001b[0mReal\u001b[0m\u001b[0;34m)\u001b[0m\u001b[0;34m:\u001b[0m\u001b[0;34m\u001b[0m\u001b[0;34m\u001b[0m\u001b[0m\n\u001b[0;32m---> 30\u001b[0;31m         raise ValueError(\n\u001b[0m\u001b[1;32m     31\u001b[0m             \u001b[0;34m\"'X' and 'missing_values' types are expected to be\"\u001b[0m\u001b[0;34m\u001b[0m\u001b[0;34m\u001b[0m\u001b[0m\n\u001b[1;32m     32\u001b[0m             \u001b[0;34m\" both numerical. Got X.dtype={} and \"\u001b[0m\u001b[0;34m\u001b[0m\u001b[0;34m\u001b[0m\u001b[0m\n",
            "\u001b[0;31mValueError\u001b[0m: 'X' and 'missing_values' types are expected to be both numerical. Got X.dtype=float64 and  type(missing_values)=<class 'str'>."
          ]
        }
      ]
    },
    {
      "cell_type": "markdown",
      "metadata": {
        "id": "TFbHCw8y0gp0"
      },
      "source": [
        "# **Inconsistent data/Irrelevant features**\n",
        "\n",
        "Inconsistent data refers to things like spelling errors in your data, column names that are not relevant to the data, the wrong data type, etc.\n",
        "Here are a couple examples for dealing with these issues."
      ]
    },
    {
      "cell_type": "markdown",
      "metadata": {
        "id": "slY5-kmu008V"
      },
      "source": [
        "**Remove rows based on regex**\n"
      ]
    },
    {
      "cell_type": "markdown",
      "metadata": {
        "id": "JTjb9zNg03PD"
      },
      "source": [
        "Let’s say you want to remove rows that contain a certain word. For my example, I chose the word noisy/Noisy as my target, and I used the function str.contains() to find the indexes that contain those rows."
      ]
    },
    {
      "cell_type": "markdown",
      "metadata": {
        "id": "fh01cN2Q1hHe"
      },
      "source": [
        "Then, using the drop function, and setting axis to index, I can supply the indexes I have and drop those rows.\n",
        "Printing out the number of rows, you can see it reduced by three."
      ]
    },
    {
      "cell_type": "code",
      "metadata": {
        "id": "yPUdWVLA1n9l"
      },
      "source": [
        "# example: remove rows that contain the target word\n",
        "target = '[Nn]oisy'\n",
        "\n",
        "noisy_airbnb = airbnb[airbnb['name'].str.contains(target, regex=True)]\n",
        "\n",
        "# show rows that contains the word noisy\n",
        "print(noisy_airbnb['name'])\n",
        "\n",
        "# get the index that contains the word noisy\n",
        "index_to_drop = noisy_airbnb['name'].index\n",
        "\n",
        "# print(index_to_drop)"
      ],
      "execution_count": null,
      "outputs": []
    },
    {
      "cell_type": "code",
      "metadata": {
        "id": "xaSmQkCq1tDk"
      },
      "source": [
        "# drop rows based on index\n",
        "airbnb.drop(index_to_drop, axis='index', inplace=True)\n",
        "\n",
        "print(len(airbnb_ori))\n",
        "print(len(airbnb))"
      ],
      "execution_count": null,
      "outputs": []
    },
    {
      "cell_type": "markdown",
      "metadata": {
        "id": "pgJXAq3H15Y6"
      },
      "source": [
        "**Spelling errors in categorical data**\n"
      ]
    },
    {
      "cell_type": "markdown",
      "metadata": {
        "id": "v4HwFy_K18iq"
      },
      "source": [
        "Sometimes your categorical data might have spelling errors or different capitalization that can mess up your categorization.\n",
        "\n",
        "I will be using the neighbourhood_group column as an example."
      ]
    },
    {
      "cell_type": "code",
      "metadata": {
        "id": "tuOFkxYd2BrV"
      },
      "source": [
        "airbnb['neighbourhood_group'].value_counts()"
      ],
      "execution_count": null,
      "outputs": []
    },
    {
      "cell_type": "markdown",
      "metadata": {
        "id": "5SksmVjW2cCK"
      },
      "source": [
        "You can see the different types of neighborhoods are already well categorized. But what if it wasn’t?\n",
        "\n",
        "To simulate a scenario where some of the data had capitalization or spelling issues, I sampled 2 rows from the data, and replaced them with the wrong spelling.\n",
        "\n",
        "You can see now how the categorization is messed up. “Manhattan” and “manhatann” refer to the same thing, but they aren’t in the same category because of capitalization. Same goes for “brookln” due to spelling issues.\n",
        "\n",
        "We can fix this by using the replace function in pandas. We first give the values that are wrong, then supply the right ones. Notice the values have to match each other in the list, i.e. “manhatann” → “Manhattan”."
      ]
    },
    {
      "cell_type": "code",
      "metadata": {
        "id": "jGHMa3Kf2nwr"
      },
      "source": [
        "random_index = airbnb.sample(2, random_state = 10).index\n",
        "\n",
        "# airbnb['neighbourhood_group'].loc[random_index]\n",
        "## we randomly selected Manhattan and Brooklyn\n",
        "\n",
        "wrong_spelling = ['manhatann', 'brookln']\n",
        "\n",
        "# replace them with the wrong spelling\n",
        "airbnb.loc[random_index,'neighbourhood_group'] = wrong_spelling\n",
        "airbnb['neighbourhood_group'].value_counts()"
      ],
      "execution_count": null,
      "outputs": []
    },
    {
      "cell_type": "code",
      "metadata": {
        "id": "615qZufj2t4y"
      },
      "source": [
        "airbnb['neighbourhood_group'].replace(['manhatann', 'brookln'],\n",
        "                             ['Manhattan', 'Brooklyn'], inplace=True)\n",
        "airbnb['neighbourhood_group'].value_counts()"
      ],
      "execution_count": null,
      "outputs": []
    },
    {
      "cell_type": "markdown",
      "metadata": {
        "id": "Z1vCjhl4211-"
      },
      "source": [
        "**Renaming columns**\n"
      ]
    },
    {
      "cell_type": "markdown",
      "metadata": {
        "id": "92NhJPml236k"
      },
      "source": [
        "There are cases where you want to rename your columns as well.\n",
        "\n",
        "You can do this by using a dictionary, setting the key as the original column name, and the value as the new column name.\n",
        "\n",
        "Then using the rename function we give our dictionary and voila, the columns names have changed."
      ]
    },
    {
      "cell_type": "code",
      "metadata": {
        "id": "sCbivQOE3DEM"
      },
      "source": [
        "new_names = {'name':'listing_name', 'latitude':'lat', 'longitude':'long'}\n",
        "\n",
        "airbnb.rename(columns=new_names, inplace=True)\n",
        "airbnb.head()"
      ],
      "execution_count": null,
      "outputs": []
    },
    {
      "cell_type": "markdown",
      "metadata": {
        "id": "Rg8UEqbN8aSv"
      },
      "source": [
        "The dataset that I am using here does not have columns names, so let’s give the most appropriate names to these columns:"
      ]
    },
    {
      "cell_type": "code",
      "metadata": {
        "id": "D9g4R2ZE8f-h"
      },
      "source": [
        "data.columns = ['user_id', 'product_id','ratings','timestamp']"
      ],
      "execution_count": null,
      "outputs": []
    },
    {
      "cell_type": "markdown",
      "metadata": {
        "id": "XY4SMhhE3JzD"
      },
      "source": [
        "**Converting to DateTime**"
      ]
    },
    {
      "cell_type": "markdown",
      "metadata": {
        "id": "38V5TvtC3Rh7"
      },
      "source": [
        "If you have data that should be a datetime object, but are strings, you can use the pd.to_datetime, and pass it the format that represents your data.\n",
        "\n",
        "Just like that, the column has converted into a datatime data type."
      ]
    },
    {
      "cell_type": "code",
      "metadata": {
        "id": "Vo5kySe53VzP"
      },
      "source": [
        "airbnb_ori['last_review'] = pd.to_datetime(airbnb_ori['last_review'], format='%Y-%m-%d')\n",
        "airbnb_ori['last_review'].dtype.type"
      ],
      "execution_count": null,
      "outputs": []
    },
    {
      "cell_type": "markdown",
      "metadata": {
        "id": "b2WhiJKU3dvq"
      },
      "source": [
        "**Duplicates**\n"
      ]
    },
    {
      "cell_type": "markdown",
      "metadata": {
        "id": "zaJJWjI_3g3w"
      },
      "source": [
        "There are cases where your rows have duplicate values, this could’ve happened due to some mishaps in your data collection.\n",
        "\n",
        "To find out if you have duplicated values, call duplicated().any() on your data frame, and if it’s true, use the drop_duplicates function\n",
        "\n",
        "You can also specify columns where you want to remove duplicate values like below."
      ]
    },
    {
      "cell_type": "code",
      "metadata": {
        "id": "2A61D9z53pKj"
      },
      "source": [
        "airbnb.duplicated().any()\n",
        "\n",
        "## if true\n",
        "# airbnb.drop_duplicates()\n",
        "\n",
        "## if you want to drop duplicates at specific column\n",
        "# airbnb.drop('col_name', axis=1, inplace=True).drop_duplicates()\n",
        "False"
      ],
      "execution_count": null,
      "outputs": []
    },
    {
      "cell_type": "markdown",
      "metadata": {
        "id": "qxGRgpQN3tTC"
      },
      "source": [
        "**Change data type to reduce memory**\n"
      ]
    },
    {
      "cell_type": "markdown",
      "metadata": {
        "id": "S2EFB99C3wKj"
      },
      "source": [
        "Changing data type is common if you want to reduce memory usage.\n",
        "\n",
        "To do so, you can use the astype(‘dtype’) function where you specify the dtype you want.\n",
        "\n",
        "In my example, I changed the data type for the host_id column from int64 to int32\n",
        "\n",
        "Observe the memory before changing the data type"
      ]
    },
    {
      "cell_type": "code",
      "metadata": {
        "id": "Fafd0hgO38vE"
      },
      "source": [
        "airbnb.info()"
      ],
      "execution_count": null,
      "outputs": []
    },
    {
      "cell_type": "code",
      "metadata": {
        "id": "VFv7767y4Hru"
      },
      "source": [
        "airbnb['host_id'] = airbnb['host_id'].astype('int32')\n",
        "airbnb.info()"
      ],
      "execution_count": null,
      "outputs": []
    },
    {
      "cell_type": "markdown",
      "metadata": {
        "id": "p46jyLsb4MZZ"
      },
      "source": [
        "You can see the memory reduced from 6.5+ to 6.3+ MB."
      ]
    },
    {
      "cell_type": "markdown",
      "metadata": {
        "id": "orpFOyirp-Cd"
      },
      "source": [
        "# **Section-3- Data Transformation**\n",
        "\n",
        "Data preparation or processing is one of the most important steps when working with real-world data on a machine learning project.Since ML model works on maths and numbers, so it’s necessary we encode these categorical variables into numbers.\n",
        "\n",
        "One of the major pains in such situations is working with categorical data. This is because most of the machine learning algorithms cannot work with categorical data directly. They are needed to be converted to numerical data. One-Hot Encoding of the data is a very good solution to handle categorical data [14]"
      ]
    },
    {
      "cell_type": "markdown",
      "metadata": {
        "id": "n3yUme6NY6VQ"
      },
      "source": [
        "## **Data Types**"
      ]
    },
    {
      "cell_type": "markdown",
      "metadata": {
        "id": "n4QgkyTXmeIS"
      },
      "source": [
        "**Machine Learning type of Data**[9]"
      ]
    },
    {
      "cell_type": "markdown",
      "metadata": {
        "id": "O_JZmyZDm2Xp"
      },
      "source": [
        "Data Science is the art and science of solving real-world problems and making data-driven decisions. It primarily deals with all kinds of structured or unstructured data. Data, broadly, can be divided into two types i.e., Numerical and Categorical. Most of the data science models are equipped to work with **numerical data**; however, things get interesting when we have to deal with **Categorical data**."
      ]
    },
    {
      "cell_type": "markdown",
      "metadata": {
        "id": "KC4ePMtEZF-r"
      },
      "source": [
        "### **Categorical data**"
      ]
    },
    {
      "cell_type": "markdown",
      "metadata": {
        "id": "dypN39IInD3w"
      },
      "source": [
        "**What is Categorical data?**[9]"
      ]
    },
    {
      "cell_type": "markdown",
      "metadata": {
        "id": "YfrBwUDJnN9n"
      },
      "source": [
        "Categorical data is a form of data that takes on values within a finite set of discrete classes. It is difficult to count or measure categorical data using numbers and therefore they are divided into categories. An example of categorical data would be Gender of a person. It can only take values between Male, Female, and Others.\n",
        "There are two types of categorical variables:"
      ]
    },
    {
      "cell_type": "markdown",
      "metadata": {
        "id": "ByZ8f5q7_IN2"
      },
      "source": [
        "Simply speaking, in categorical data the values are labels instead of numbers.[14]"
      ]
    },
    {
      "cell_type": "markdown",
      "metadata": {
        "id": "gXor3Iq__Ozl"
      },
      "source": [
        "When you want to categorize ‘salary’ in a data set, then you may label it as ‘low’, medium’, ‘high’ [14]"
      ]
    },
    {
      "cell_type": "markdown",
      "metadata": {
        "id": "QJ8pOpcuCzrj"
      },
      "source": [
        "![](\n",
        "https://drive.google.com/uc?export=view&id=1VuTzW-kjbhthiFpIERG6A-YmltAI7bn1)"
      ]
    },
    {
      "cell_type": "markdown",
      "metadata": {
        "id": "Jq0RgYj3DBzh"
      },
      "source": [
        "Similarly, if you want to label ‘shape‘ of objects, you could do something like, ’round’, ‘square’, ‘triangular‘."
      ]
    },
    {
      "cell_type": "markdown",
      "metadata": {
        "id": "MQSboEknDEIp"
      },
      "source": [
        "**The Problem with Categorical Data**[14]"
      ]
    },
    {
      "cell_type": "markdown",
      "metadata": {
        "id": "fuoLkpVCDKU5"
      },
      "source": [
        "You may be thinking that the above situation of categorizing values as labels seems fair enough and reasonable. Actually, you are right. But, when you bring the case of machine learning algorithms, then the situation changes.\n",
        "\n",
        "Most of the machine learning algorithms out there cannot handle categorical labels in a data set directly. Whether it may be for classification or regression, the algorithms specifically need numerical data to carry out the predictions.\n",
        "\n",
        "So, we need to convert the categorical labels into numerical labels. In the Machine Learning world, this is often termed as data **transformation**.\n",
        "\n",
        "Now, let us see the different ways in which categorical labels can be handled."
      ]
    },
    {
      "cell_type": "markdown",
      "metadata": {
        "id": "ri0l29NYZP6b"
      },
      "source": [
        "### **Ordinal Variables**"
      ]
    },
    {
      "cell_type": "markdown",
      "metadata": {
        "id": "fi5xyxuYoMDe"
      },
      "source": [
        "**I. Ordinal Variables:**\n"
      ]
    },
    {
      "cell_type": "markdown",
      "metadata": {
        "id": "Z8vi5AOgoOsm"
      },
      "source": [
        "These variables maintain a natural order in their class of values. If we consider the level of education then we can easily sort them according to their education tag in the order of High School < Under-Graduate<post-Graduate < PhD. The review rating system can also be considered as an ordinal data type where 5 stars is definitely better than 1 star."
      ]
    },
    {
      "cell_type": "markdown",
      "metadata": {
        "id": "WoKYJjoZZXm3"
      },
      "source": [
        "### **Nominal Variables:**"
      ]
    },
    {
      "cell_type": "markdown",
      "metadata": {
        "id": "LjoCmUsyoZcE"
      },
      "source": [
        "I**I. Nominal Variables:**"
      ]
    },
    {
      "cell_type": "markdown",
      "metadata": {
        "id": "QBjqZNclooA5"
      },
      "source": [
        "These variables do not maintain any natural/logical order. The color of a car can be considered as Nominal Variable as we cannot compare the color with each other. It is impossible to state that “Red” is better than “Blue” (subjective!). Similarly, Gender is a type of Nominal Variable as again we cannot differentiate between Male, Female, and Others."
      ]
    },
    {
      "cell_type": "markdown",
      "metadata": {
        "id": "yqHC9KLDEBQp"
      },
      "source": [
        "## **3.1- Handling Categorical Labels**\n"
      ]
    },
    {
      "cell_type": "markdown",
      "metadata": {
        "id": "UWgF3v2iENOy"
      },
      "source": [
        "We will focus mainly on two methods here.\n",
        "\n",
        "- Label Encoding\n",
        "- One-Hot Encoding"
      ]
    },
    {
      "cell_type": "markdown",
      "metadata": {
        "id": "iGATCWIXou4Z"
      },
      "source": [
        "**Encoding Categorical Data:**[9]\n"
      ]
    },
    {
      "cell_type": "markdown",
      "metadata": {
        "id": "w5KT7XjYo4KI"
      },
      "source": [
        "Most of the Machine learning algorithms are designed to work with numeric data. Hence, we need to convert Categorical(text) data into numerical data for model building. There are multiple encoding techniques to convert categorical data into numerical data. Let’s look at some of them."
      ]
    },
    {
      "cell_type": "markdown",
      "metadata": {
        "id": "q1gF3x2VX8wL"
      },
      "source": [
        "When working on some datasets, we found that some of the features are categorical, if we pass that feature directly to our model, our model can't understand those feature variables. We all know that machines can't understand categorical data. Machines require all independent and dependent variables i.e input and output features to be numeric. This means that if our data contain a categorical variable, we must have to encode it to the numbers before we fit our data to the model.\n",
        "\n",
        "Models only work with numerical values. For this reason, it is necessary to convert the categorical values of the features into numerical ones, So the machine can learn from those data and gives the right model. This process of converting categorical data into numerical data is called **Encoding** [6]"
      ]
    },
    {
      "cell_type": "markdown",
      "metadata": {
        "id": "gFb6GAEApROW"
      },
      "source": [
        "There are multiple ways of encoding techniques to deal with these variables."
      ]
    },
    {
      "cell_type": "markdown",
      "metadata": {
        "id": "VDOjfOBEYf5N"
      },
      "source": [
        "The two most popular techniques of encoding are,\n"
      ]
    },
    {
      "cell_type": "markdown",
      "metadata": {
        "id": "T1rZA8G2YiYF"
      },
      "source": [
        "### **Nominal Encoding [7]**\n"
      ]
    },
    {
      "cell_type": "markdown",
      "metadata": {
        "id": "dQuw6Na-ZCU_"
      },
      "source": [
        "When we have a feature where variables are just names and there is no order or rank to this variable's feature.For example: City of person lives in, Gender of person, Marital Status, etc…\n",
        "\n",
        "\n"
      ]
    },
    {
      "cell_type": "markdown",
      "metadata": {
        "id": "Ab2VkiHFZbCd"
      },
      "source": [
        "In the above example, We do not have any order or rank, or sequence. All the variables in the respective feature are equal. We can't give them any orders or ranks. Those features are called Nominal features.\n"
      ]
    },
    {
      "cell_type": "markdown",
      "metadata": {
        "id": "b0yExvnid2uo"
      },
      "source": [
        "![](https://drive.google.com/uc?export=view&id=1EzEpCh6IEsZ0RKlDb_8c0fX376-M61ny)"
      ]
    },
    {
      "cell_type": "markdown",
      "metadata": {
        "id": "AeCGPIcVeAHS"
      },
      "source": [
        "### **Ordinal Encoding [7]**"
      ]
    },
    {
      "cell_type": "markdown",
      "metadata": {
        "id": "UY5SNrg8pb1l"
      },
      "source": [
        "Ordinal Encoding primarily encodes ordinal categories into ordered numerical values. Ordinal encoding maps each unique category value to a specific numerical value based on its order or rank. Consider the education column in the given data frame. Here, we define the ordering of the categories when creating an ordinal encoder using sklearn. so, in the example, we arrange the order inside the categories as a list in ascending order. First, we have the High School followed by Associate,Master, and then Ph.D. at the end.[9]"
      ]
    },
    {
      "cell_type": "markdown",
      "metadata": {
        "id": "WPtUBoxTv-Pf"
      },
      "source": []
    },
    {
      "cell_type": "markdown",
      "metadata": {
        "id": "uPJHjLF3eOQo"
      },
      "source": [
        "When we have a feature where variables have some order/rank.\n"
      ]
    },
    {
      "cell_type": "markdown",
      "metadata": {
        "id": "-XtvDIhvedAe"
      },
      "source": [
        "![](https://drive.google.com/uc?export=view&id=1G1oAtnnuIuAApxdPPU80679T8rtDpntH)"
      ]
    },
    {
      "cell_type": "markdown",
      "metadata": {
        "id": "qYq-hnQAeSgK"
      },
      "source": [
        "For example: Student’s performance, Customer’s review, Education of person, etc…"
      ]
    },
    {
      "cell_type": "markdown",
      "metadata": {
        "id": "iLROx2pJebAG"
      },
      "source": [
        "In the above example, we have orders/ranks/sequences. We can assign ranks based on student's performance, based on feedback given by customers, based on the highest education of the person. Those features are called Ordinal features."
      ]
    },
    {
      "cell_type": "markdown",
      "metadata": {
        "id": "BPoe8uD4p2Qr"
      },
      "source": [
        "[OrdinalEncoder(categories=[[‘HS’, ‘AS’, ‘M.S’, ‘Ph.D.’]])]\n"
      ]
    },
    {
      "cell_type": "code",
      "source": [
        "import pandas as pd\n"
      ],
      "metadata": {
        "id": "SvN-n_a03u_R"
      },
      "execution_count": 2,
      "outputs": []
    },
    {
      "cell_type": "code",
      "source": [
        "# initialize list for the dataframe\n",
        "data = [['Adam','male','Ph.D','NY','M', 'PT'],['Dina','female','M.S','NY','D','PT'],\n",
        "        ['John','male','AS','MI','S','FT'],['Elton','male','HS','AL','M', 'Unemployed'],\n",
        "        ['Gina','female','HS','AK','D', 'Intern'],['Sara', 'female','M.S','AZ','S','FT'],\n",
        "        ['Lana','female','AS', 'CA','M','Intern'],['Tim','male','Ph.D','AR','D', 'PT'],\n",
        "        ['Suzan','female','M.S','AZ','S','FT'], ['Aj','male','AS','CA','M','FT'],\n",
        "        ['Luke','male','HS','CA','D', 'Unemployed'],['Salma','female','HS','CA','S', 'Intern'],\n",
        "        ['Abby', 'female','M.S','CA','M','PT'], ['Sandra','female','HS','CO','D', 'PT'],\n",
        "        ['Zen','male','Ph.D','CO','S', 'PT'],['Emma','female','M.S','DC','M','FT'],\n",
        "        ['Owen','male','AS','DE','D','Unemployed'],['Levi','male','HS','CT','S','Unemployed'],\n",
        "        ['Eva','female','HS','DC','M', 'PT'],['Sophia', 'female','M.S','DC','D','PT'],\n",
        "        ['Ella','female','HS','FL','S', 'Unemployed'],['Jacob','male','Ph.D','IL','M', 'FT'],\n",
        "        ['Mia','female','M.S','FL','D','PT'], ['Ethan','male','AS','FL','S','PT'],\n",
        "        ['Luke','male','HS','IL','M', 'Intern'],['Nadia','female','HS','IN','D', 'Intern'],\n",
        "        ['Tulip', 'female','M.S','IA','S','PT'],['Linda','female','HS','KS','M', 'PT'],\n",
        "        ['Jack','male','Ph.D','KI','D', 'PT'],['Kindra','female','M.S','LA','S','FT'],\n",
        "        ['Manson','male','AS','ME','M','Unemployed'],['Logan','male','HS','MD','D', 'Unemployed'],\n",
        "        ['Luna','female','HS','MA','S', 'Unemployed'],['Layla', 'female','M.S','MN','M','Unemployed'],\n",
        "        ['Lynn','female','HS','MS','D', 'PT'],['Nora','male','Ph.D','MS','S', 'FT'],\n",
        "        ['Suzy','female','M.S','MO','M','PT'], ['Lucas','male','AS','MT','D','PT'],\n",
        "        ['Chad','male','HS','TX','S', 'Unemployed'], ['Soleen','female','HS','TX','M','Unemployed'],\n",
        "        ['Zoey', 'female','M.S','NY','D','FT'], ['Ellie','female','HS','TX','S', 'Unemployed'],\n",
        "        ['Oliver','male','Ph.D','TX','M','PT'],['Tamara','female','M.S','NJ','D','PT'],\n",
        "        ['Noah','male','AS','NJ','S','FT'], ['Liam','male','HS','MI','M', 'Unemployed'],\n",
        "        ['Stella','female','HS','NM','D', 'Unemployed'],['Audrey', 'female','M.S','NC','S','PT'],\n",
        "        ['Lucy','female','HS','ND','M', 'PT'],['Timmy','male','Ph.D','OH','D', 'PT'],\n",
        "        ['Bella','female','M.S','OH','S','PT'], ['William','male','AS','OK','M','FT'],\n",
        "        ['Brian','male','HS','OK','D', 'Unemployed'],['Nova','female','HS','OR','S', 'Unemployed'],\n",
        "        ['AnnaAbby', 'female','M.S','MI','M','FT'], ['Elena','female','HS','NY','D', 'Intern']]"
      ],
      "metadata": {
        "id": "zuKwjsX130xA"
      },
      "execution_count": 3,
      "outputs": []
    },
    {
      "cell_type": "code",
      "source": [
        "# Create dataframe\n",
        "df = pd.DataFrame(data, columns = ['Name', 'Gender','Education','State','Marital Status','Employment Status'])"
      ],
      "metadata": {
        "id": "PT-Rx7Aj36sg"
      },
      "execution_count": 4,
      "outputs": []
    },
    {
      "cell_type": "code",
      "metadata": {
        "id": "qxdov92MqB4Z",
        "outputId": "54f48f1d-7945-4ae0-a291-d4ab2e5d425a",
        "colab": {
          "base_uri": "https://localhost:8080/"
        }
      },
      "source": [
        "df['Education'].unique()"
      ],
      "execution_count": 5,
      "outputs": [
        {
          "output_type": "execute_result",
          "data": {
            "text/plain": [
              "array(['Ph.D', 'M.S', 'AS', 'HS'], dtype=object)"
            ]
          },
          "metadata": {},
          "execution_count": 5
        }
      ]
    },
    {
      "cell_type": "code",
      "source": [
        "df.shape\n"
      ],
      "metadata": {
        "id": "j1KsFmt84Avg",
        "outputId": "a98f2d88-5c1b-4e9d-e0b2-ebd80cf38c83",
        "colab": {
          "base_uri": "https://localhost:8080/"
        }
      },
      "execution_count": 6,
      "outputs": [
        {
          "output_type": "execute_result",
          "data": {
            "text/plain": [
              "(56, 6)"
            ]
          },
          "metadata": {},
          "execution_count": 6
        }
      ]
    },
    {
      "cell_type": "code",
      "source": [
        "df.head()\n"
      ],
      "metadata": {
        "id": "fE9NCOoV4Edg",
        "outputId": "b40ed255-2bd1-4555-9a67-91d76f5df468",
        "colab": {
          "base_uri": "https://localhost:8080/",
          "height": 206
        }
      },
      "execution_count": 7,
      "outputs": [
        {
          "output_type": "execute_result",
          "data": {
            "text/plain": [
              "    Name  Gender Education State Marital Status Employment Status\n",
              "0   Adam    male      Ph.D    NY              M                PT\n",
              "1   Dina  female       M.S    NY              D                PT\n",
              "2   John    male        AS    MI              S                FT\n",
              "3  Elton    male        HS    AL              M        Unemployed\n",
              "4   Gina  female        HS    AK              D            Intern"
            ],
            "text/html": [
              "\n",
              "  <div id=\"df-d12b1f6d-9084-460f-a52a-b2807d4b7cb6\" class=\"colab-df-container\">\n",
              "    <div>\n",
              "<style scoped>\n",
              "    .dataframe tbody tr th:only-of-type {\n",
              "        vertical-align: middle;\n",
              "    }\n",
              "\n",
              "    .dataframe tbody tr th {\n",
              "        vertical-align: top;\n",
              "    }\n",
              "\n",
              "    .dataframe thead th {\n",
              "        text-align: right;\n",
              "    }\n",
              "</style>\n",
              "<table border=\"1\" class=\"dataframe\">\n",
              "  <thead>\n",
              "    <tr style=\"text-align: right;\">\n",
              "      <th></th>\n",
              "      <th>Name</th>\n",
              "      <th>Gender</th>\n",
              "      <th>Education</th>\n",
              "      <th>State</th>\n",
              "      <th>Marital Status</th>\n",
              "      <th>Employment Status</th>\n",
              "    </tr>\n",
              "  </thead>\n",
              "  <tbody>\n",
              "    <tr>\n",
              "      <th>0</th>\n",
              "      <td>Adam</td>\n",
              "      <td>male</td>\n",
              "      <td>Ph.D</td>\n",
              "      <td>NY</td>\n",
              "      <td>M</td>\n",
              "      <td>PT</td>\n",
              "    </tr>\n",
              "    <tr>\n",
              "      <th>1</th>\n",
              "      <td>Dina</td>\n",
              "      <td>female</td>\n",
              "      <td>M.S</td>\n",
              "      <td>NY</td>\n",
              "      <td>D</td>\n",
              "      <td>PT</td>\n",
              "    </tr>\n",
              "    <tr>\n",
              "      <th>2</th>\n",
              "      <td>John</td>\n",
              "      <td>male</td>\n",
              "      <td>AS</td>\n",
              "      <td>MI</td>\n",
              "      <td>S</td>\n",
              "      <td>FT</td>\n",
              "    </tr>\n",
              "    <tr>\n",
              "      <th>3</th>\n",
              "      <td>Elton</td>\n",
              "      <td>male</td>\n",
              "      <td>HS</td>\n",
              "      <td>AL</td>\n",
              "      <td>M</td>\n",
              "      <td>Unemployed</td>\n",
              "    </tr>\n",
              "    <tr>\n",
              "      <th>4</th>\n",
              "      <td>Gina</td>\n",
              "      <td>female</td>\n",
              "      <td>HS</td>\n",
              "      <td>AK</td>\n",
              "      <td>D</td>\n",
              "      <td>Intern</td>\n",
              "    </tr>\n",
              "  </tbody>\n",
              "</table>\n",
              "</div>\n",
              "    <div class=\"colab-df-buttons\">\n",
              "\n",
              "  <div class=\"colab-df-container\">\n",
              "    <button class=\"colab-df-convert\" onclick=\"convertToInteractive('df-d12b1f6d-9084-460f-a52a-b2807d4b7cb6')\"\n",
              "            title=\"Convert this dataframe to an interactive table.\"\n",
              "            style=\"display:none;\">\n",
              "\n",
              "  <svg xmlns=\"http://www.w3.org/2000/svg\" height=\"24px\" viewBox=\"0 -960 960 960\">\n",
              "    <path d=\"M120-120v-720h720v720H120Zm60-500h600v-160H180v160Zm220 220h160v-160H400v160Zm0 220h160v-160H400v160ZM180-400h160v-160H180v160Zm440 0h160v-160H620v160ZM180-180h160v-160H180v160Zm440 0h160v-160H620v160Z\"/>\n",
              "  </svg>\n",
              "    </button>\n",
              "\n",
              "  <style>\n",
              "    .colab-df-container {\n",
              "      display:flex;\n",
              "      gap: 12px;\n",
              "    }\n",
              "\n",
              "    .colab-df-convert {\n",
              "      background-color: #E8F0FE;\n",
              "      border: none;\n",
              "      border-radius: 50%;\n",
              "      cursor: pointer;\n",
              "      display: none;\n",
              "      fill: #1967D2;\n",
              "      height: 32px;\n",
              "      padding: 0 0 0 0;\n",
              "      width: 32px;\n",
              "    }\n",
              "\n",
              "    .colab-df-convert:hover {\n",
              "      background-color: #E2EBFA;\n",
              "      box-shadow: 0px 1px 2px rgba(60, 64, 67, 0.3), 0px 1px 3px 1px rgba(60, 64, 67, 0.15);\n",
              "      fill: #174EA6;\n",
              "    }\n",
              "\n",
              "    .colab-df-buttons div {\n",
              "      margin-bottom: 4px;\n",
              "    }\n",
              "\n",
              "    [theme=dark] .colab-df-convert {\n",
              "      background-color: #3B4455;\n",
              "      fill: #D2E3FC;\n",
              "    }\n",
              "\n",
              "    [theme=dark] .colab-df-convert:hover {\n",
              "      background-color: #434B5C;\n",
              "      box-shadow: 0px 1px 3px 1px rgba(0, 0, 0, 0.15);\n",
              "      filter: drop-shadow(0px 1px 2px rgba(0, 0, 0, 0.3));\n",
              "      fill: #FFFFFF;\n",
              "    }\n",
              "  </style>\n",
              "\n",
              "    <script>\n",
              "      const buttonEl =\n",
              "        document.querySelector('#df-d12b1f6d-9084-460f-a52a-b2807d4b7cb6 button.colab-df-convert');\n",
              "      buttonEl.style.display =\n",
              "        google.colab.kernel.accessAllowed ? 'block' : 'none';\n",
              "\n",
              "      async function convertToInteractive(key) {\n",
              "        const element = document.querySelector('#df-d12b1f6d-9084-460f-a52a-b2807d4b7cb6');\n",
              "        const dataTable =\n",
              "          await google.colab.kernel.invokeFunction('convertToInteractive',\n",
              "                                                    [key], {});\n",
              "        if (!dataTable) return;\n",
              "\n",
              "        const docLinkHtml = 'Like what you see? Visit the ' +\n",
              "          '<a target=\"_blank\" href=https://colab.research.google.com/notebooks/data_table.ipynb>data table notebook</a>'\n",
              "          + ' to learn more about interactive tables.';\n",
              "        element.innerHTML = '';\n",
              "        dataTable['output_type'] = 'display_data';\n",
              "        await google.colab.output.renderOutput(dataTable, element);\n",
              "        const docLink = document.createElement('div');\n",
              "        docLink.innerHTML = docLinkHtml;\n",
              "        element.appendChild(docLink);\n",
              "      }\n",
              "    </script>\n",
              "  </div>\n",
              "\n",
              "\n",
              "<div id=\"df-47eac377-786e-4551-9e19-2eacbf9b05d2\">\n",
              "  <button class=\"colab-df-quickchart\" onclick=\"quickchart('df-47eac377-786e-4551-9e19-2eacbf9b05d2')\"\n",
              "            title=\"Suggest charts\"\n",
              "            style=\"display:none;\">\n",
              "\n",
              "<svg xmlns=\"http://www.w3.org/2000/svg\" height=\"24px\"viewBox=\"0 0 24 24\"\n",
              "     width=\"24px\">\n",
              "    <g>\n",
              "        <path d=\"M19 3H5c-1.1 0-2 .9-2 2v14c0 1.1.9 2 2 2h14c1.1 0 2-.9 2-2V5c0-1.1-.9-2-2-2zM9 17H7v-7h2v7zm4 0h-2V7h2v10zm4 0h-2v-4h2v4z\"/>\n",
              "    </g>\n",
              "</svg>\n",
              "  </button>\n",
              "\n",
              "<style>\n",
              "  .colab-df-quickchart {\n",
              "      --bg-color: #E8F0FE;\n",
              "      --fill-color: #1967D2;\n",
              "      --hover-bg-color: #E2EBFA;\n",
              "      --hover-fill-color: #174EA6;\n",
              "      --disabled-fill-color: #AAA;\n",
              "      --disabled-bg-color: #DDD;\n",
              "  }\n",
              "\n",
              "  [theme=dark] .colab-df-quickchart {\n",
              "      --bg-color: #3B4455;\n",
              "      --fill-color: #D2E3FC;\n",
              "      --hover-bg-color: #434B5C;\n",
              "      --hover-fill-color: #FFFFFF;\n",
              "      --disabled-bg-color: #3B4455;\n",
              "      --disabled-fill-color: #666;\n",
              "  }\n",
              "\n",
              "  .colab-df-quickchart {\n",
              "    background-color: var(--bg-color);\n",
              "    border: none;\n",
              "    border-radius: 50%;\n",
              "    cursor: pointer;\n",
              "    display: none;\n",
              "    fill: var(--fill-color);\n",
              "    height: 32px;\n",
              "    padding: 0;\n",
              "    width: 32px;\n",
              "  }\n",
              "\n",
              "  .colab-df-quickchart:hover {\n",
              "    background-color: var(--hover-bg-color);\n",
              "    box-shadow: 0 1px 2px rgba(60, 64, 67, 0.3), 0 1px 3px 1px rgba(60, 64, 67, 0.15);\n",
              "    fill: var(--button-hover-fill-color);\n",
              "  }\n",
              "\n",
              "  .colab-df-quickchart-complete:disabled,\n",
              "  .colab-df-quickchart-complete:disabled:hover {\n",
              "    background-color: var(--disabled-bg-color);\n",
              "    fill: var(--disabled-fill-color);\n",
              "    box-shadow: none;\n",
              "  }\n",
              "\n",
              "  .colab-df-spinner {\n",
              "    border: 2px solid var(--fill-color);\n",
              "    border-color: transparent;\n",
              "    border-bottom-color: var(--fill-color);\n",
              "    animation:\n",
              "      spin 1s steps(1) infinite;\n",
              "  }\n",
              "\n",
              "  @keyframes spin {\n",
              "    0% {\n",
              "      border-color: transparent;\n",
              "      border-bottom-color: var(--fill-color);\n",
              "      border-left-color: var(--fill-color);\n",
              "    }\n",
              "    20% {\n",
              "      border-color: transparent;\n",
              "      border-left-color: var(--fill-color);\n",
              "      border-top-color: var(--fill-color);\n",
              "    }\n",
              "    30% {\n",
              "      border-color: transparent;\n",
              "      border-left-color: var(--fill-color);\n",
              "      border-top-color: var(--fill-color);\n",
              "      border-right-color: var(--fill-color);\n",
              "    }\n",
              "    40% {\n",
              "      border-color: transparent;\n",
              "      border-right-color: var(--fill-color);\n",
              "      border-top-color: var(--fill-color);\n",
              "    }\n",
              "    60% {\n",
              "      border-color: transparent;\n",
              "      border-right-color: var(--fill-color);\n",
              "    }\n",
              "    80% {\n",
              "      border-color: transparent;\n",
              "      border-right-color: var(--fill-color);\n",
              "      border-bottom-color: var(--fill-color);\n",
              "    }\n",
              "    90% {\n",
              "      border-color: transparent;\n",
              "      border-bottom-color: var(--fill-color);\n",
              "    }\n",
              "  }\n",
              "</style>\n",
              "\n",
              "  <script>\n",
              "    async function quickchart(key) {\n",
              "      const quickchartButtonEl =\n",
              "        document.querySelector('#' + key + ' button');\n",
              "      quickchartButtonEl.disabled = true;  // To prevent multiple clicks.\n",
              "      quickchartButtonEl.classList.add('colab-df-spinner');\n",
              "      try {\n",
              "        const charts = await google.colab.kernel.invokeFunction(\n",
              "            'suggestCharts', [key], {});\n",
              "      } catch (error) {\n",
              "        console.error('Error during call to suggestCharts:', error);\n",
              "      }\n",
              "      quickchartButtonEl.classList.remove('colab-df-spinner');\n",
              "      quickchartButtonEl.classList.add('colab-df-quickchart-complete');\n",
              "    }\n",
              "    (() => {\n",
              "      let quickchartButtonEl =\n",
              "        document.querySelector('#df-47eac377-786e-4551-9e19-2eacbf9b05d2 button');\n",
              "      quickchartButtonEl.style.display =\n",
              "        google.colab.kernel.accessAllowed ? 'block' : 'none';\n",
              "    })();\n",
              "  </script>\n",
              "</div>\n",
              "\n",
              "    </div>\n",
              "  </div>\n"
            ]
          },
          "metadata": {},
          "execution_count": 7
        }
      ]
    },
    {
      "cell_type": "code",
      "metadata": {
        "id": "aEdStYMbqL-5",
        "outputId": "2ae04826-dfc4-4a17-a006-16fee8d24ded",
        "colab": {
          "base_uri": "https://localhost:8080/",
          "height": 206
        }
      },
      "source": [
        "from sklearn.preprocessing import OrdinalEncoder\n",
        "ordinal = OrdinalEncoder(categories=[['HS', 'AS', 'M.S','Ph.D']])\n",
        "df['Education'] = ordinal.fit_transform(df[['Education']])\n",
        "df.head()"
      ],
      "execution_count": 8,
      "outputs": [
        {
          "output_type": "execute_result",
          "data": {
            "text/plain": [
              "    Name  Gender  Education State Marital Status Employment Status\n",
              "0   Adam    male        3.0    NY              M                PT\n",
              "1   Dina  female        2.0    NY              D                PT\n",
              "2   John    male        1.0    MI              S                FT\n",
              "3  Elton    male        0.0    AL              M        Unemployed\n",
              "4   Gina  female        0.0    AK              D            Intern"
            ],
            "text/html": [
              "\n",
              "  <div id=\"df-a7484bd3-3ff9-40d1-b42a-a29d9b88c787\" class=\"colab-df-container\">\n",
              "    <div>\n",
              "<style scoped>\n",
              "    .dataframe tbody tr th:only-of-type {\n",
              "        vertical-align: middle;\n",
              "    }\n",
              "\n",
              "    .dataframe tbody tr th {\n",
              "        vertical-align: top;\n",
              "    }\n",
              "\n",
              "    .dataframe thead th {\n",
              "        text-align: right;\n",
              "    }\n",
              "</style>\n",
              "<table border=\"1\" class=\"dataframe\">\n",
              "  <thead>\n",
              "    <tr style=\"text-align: right;\">\n",
              "      <th></th>\n",
              "      <th>Name</th>\n",
              "      <th>Gender</th>\n",
              "      <th>Education</th>\n",
              "      <th>State</th>\n",
              "      <th>Marital Status</th>\n",
              "      <th>Employment Status</th>\n",
              "    </tr>\n",
              "  </thead>\n",
              "  <tbody>\n",
              "    <tr>\n",
              "      <th>0</th>\n",
              "      <td>Adam</td>\n",
              "      <td>male</td>\n",
              "      <td>3.0</td>\n",
              "      <td>NY</td>\n",
              "      <td>M</td>\n",
              "      <td>PT</td>\n",
              "    </tr>\n",
              "    <tr>\n",
              "      <th>1</th>\n",
              "      <td>Dina</td>\n",
              "      <td>female</td>\n",
              "      <td>2.0</td>\n",
              "      <td>NY</td>\n",
              "      <td>D</td>\n",
              "      <td>PT</td>\n",
              "    </tr>\n",
              "    <tr>\n",
              "      <th>2</th>\n",
              "      <td>John</td>\n",
              "      <td>male</td>\n",
              "      <td>1.0</td>\n",
              "      <td>MI</td>\n",
              "      <td>S</td>\n",
              "      <td>FT</td>\n",
              "    </tr>\n",
              "    <tr>\n",
              "      <th>3</th>\n",
              "      <td>Elton</td>\n",
              "      <td>male</td>\n",
              "      <td>0.0</td>\n",
              "      <td>AL</td>\n",
              "      <td>M</td>\n",
              "      <td>Unemployed</td>\n",
              "    </tr>\n",
              "    <tr>\n",
              "      <th>4</th>\n",
              "      <td>Gina</td>\n",
              "      <td>female</td>\n",
              "      <td>0.0</td>\n",
              "      <td>AK</td>\n",
              "      <td>D</td>\n",
              "      <td>Intern</td>\n",
              "    </tr>\n",
              "  </tbody>\n",
              "</table>\n",
              "</div>\n",
              "    <div class=\"colab-df-buttons\">\n",
              "\n",
              "  <div class=\"colab-df-container\">\n",
              "    <button class=\"colab-df-convert\" onclick=\"convertToInteractive('df-a7484bd3-3ff9-40d1-b42a-a29d9b88c787')\"\n",
              "            title=\"Convert this dataframe to an interactive table.\"\n",
              "            style=\"display:none;\">\n",
              "\n",
              "  <svg xmlns=\"http://www.w3.org/2000/svg\" height=\"24px\" viewBox=\"0 -960 960 960\">\n",
              "    <path d=\"M120-120v-720h720v720H120Zm60-500h600v-160H180v160Zm220 220h160v-160H400v160Zm0 220h160v-160H400v160ZM180-400h160v-160H180v160Zm440 0h160v-160H620v160ZM180-180h160v-160H180v160Zm440 0h160v-160H620v160Z\"/>\n",
              "  </svg>\n",
              "    </button>\n",
              "\n",
              "  <style>\n",
              "    .colab-df-container {\n",
              "      display:flex;\n",
              "      gap: 12px;\n",
              "    }\n",
              "\n",
              "    .colab-df-convert {\n",
              "      background-color: #E8F0FE;\n",
              "      border: none;\n",
              "      border-radius: 50%;\n",
              "      cursor: pointer;\n",
              "      display: none;\n",
              "      fill: #1967D2;\n",
              "      height: 32px;\n",
              "      padding: 0 0 0 0;\n",
              "      width: 32px;\n",
              "    }\n",
              "\n",
              "    .colab-df-convert:hover {\n",
              "      background-color: #E2EBFA;\n",
              "      box-shadow: 0px 1px 2px rgba(60, 64, 67, 0.3), 0px 1px 3px 1px rgba(60, 64, 67, 0.15);\n",
              "      fill: #174EA6;\n",
              "    }\n",
              "\n",
              "    .colab-df-buttons div {\n",
              "      margin-bottom: 4px;\n",
              "    }\n",
              "\n",
              "    [theme=dark] .colab-df-convert {\n",
              "      background-color: #3B4455;\n",
              "      fill: #D2E3FC;\n",
              "    }\n",
              "\n",
              "    [theme=dark] .colab-df-convert:hover {\n",
              "      background-color: #434B5C;\n",
              "      box-shadow: 0px 1px 3px 1px rgba(0, 0, 0, 0.15);\n",
              "      filter: drop-shadow(0px 1px 2px rgba(0, 0, 0, 0.3));\n",
              "      fill: #FFFFFF;\n",
              "    }\n",
              "  </style>\n",
              "\n",
              "    <script>\n",
              "      const buttonEl =\n",
              "        document.querySelector('#df-a7484bd3-3ff9-40d1-b42a-a29d9b88c787 button.colab-df-convert');\n",
              "      buttonEl.style.display =\n",
              "        google.colab.kernel.accessAllowed ? 'block' : 'none';\n",
              "\n",
              "      async function convertToInteractive(key) {\n",
              "        const element = document.querySelector('#df-a7484bd3-3ff9-40d1-b42a-a29d9b88c787');\n",
              "        const dataTable =\n",
              "          await google.colab.kernel.invokeFunction('convertToInteractive',\n",
              "                                                    [key], {});\n",
              "        if (!dataTable) return;\n",
              "\n",
              "        const docLinkHtml = 'Like what you see? Visit the ' +\n",
              "          '<a target=\"_blank\" href=https://colab.research.google.com/notebooks/data_table.ipynb>data table notebook</a>'\n",
              "          + ' to learn more about interactive tables.';\n",
              "        element.innerHTML = '';\n",
              "        dataTable['output_type'] = 'display_data';\n",
              "        await google.colab.output.renderOutput(dataTable, element);\n",
              "        const docLink = document.createElement('div');\n",
              "        docLink.innerHTML = docLinkHtml;\n",
              "        element.appendChild(docLink);\n",
              "      }\n",
              "    </script>\n",
              "  </div>\n",
              "\n",
              "\n",
              "<div id=\"df-f3a537b2-cd82-4b38-a9c3-6d729f074b09\">\n",
              "  <button class=\"colab-df-quickchart\" onclick=\"quickchart('df-f3a537b2-cd82-4b38-a9c3-6d729f074b09')\"\n",
              "            title=\"Suggest charts\"\n",
              "            style=\"display:none;\">\n",
              "\n",
              "<svg xmlns=\"http://www.w3.org/2000/svg\" height=\"24px\"viewBox=\"0 0 24 24\"\n",
              "     width=\"24px\">\n",
              "    <g>\n",
              "        <path d=\"M19 3H5c-1.1 0-2 .9-2 2v14c0 1.1.9 2 2 2h14c1.1 0 2-.9 2-2V5c0-1.1-.9-2-2-2zM9 17H7v-7h2v7zm4 0h-2V7h2v10zm4 0h-2v-4h2v4z\"/>\n",
              "    </g>\n",
              "</svg>\n",
              "  </button>\n",
              "\n",
              "<style>\n",
              "  .colab-df-quickchart {\n",
              "      --bg-color: #E8F0FE;\n",
              "      --fill-color: #1967D2;\n",
              "      --hover-bg-color: #E2EBFA;\n",
              "      --hover-fill-color: #174EA6;\n",
              "      --disabled-fill-color: #AAA;\n",
              "      --disabled-bg-color: #DDD;\n",
              "  }\n",
              "\n",
              "  [theme=dark] .colab-df-quickchart {\n",
              "      --bg-color: #3B4455;\n",
              "      --fill-color: #D2E3FC;\n",
              "      --hover-bg-color: #434B5C;\n",
              "      --hover-fill-color: #FFFFFF;\n",
              "      --disabled-bg-color: #3B4455;\n",
              "      --disabled-fill-color: #666;\n",
              "  }\n",
              "\n",
              "  .colab-df-quickchart {\n",
              "    background-color: var(--bg-color);\n",
              "    border: none;\n",
              "    border-radius: 50%;\n",
              "    cursor: pointer;\n",
              "    display: none;\n",
              "    fill: var(--fill-color);\n",
              "    height: 32px;\n",
              "    padding: 0;\n",
              "    width: 32px;\n",
              "  }\n",
              "\n",
              "  .colab-df-quickchart:hover {\n",
              "    background-color: var(--hover-bg-color);\n",
              "    box-shadow: 0 1px 2px rgba(60, 64, 67, 0.3), 0 1px 3px 1px rgba(60, 64, 67, 0.15);\n",
              "    fill: var(--button-hover-fill-color);\n",
              "  }\n",
              "\n",
              "  .colab-df-quickchart-complete:disabled,\n",
              "  .colab-df-quickchart-complete:disabled:hover {\n",
              "    background-color: var(--disabled-bg-color);\n",
              "    fill: var(--disabled-fill-color);\n",
              "    box-shadow: none;\n",
              "  }\n",
              "\n",
              "  .colab-df-spinner {\n",
              "    border: 2px solid var(--fill-color);\n",
              "    border-color: transparent;\n",
              "    border-bottom-color: var(--fill-color);\n",
              "    animation:\n",
              "      spin 1s steps(1) infinite;\n",
              "  }\n",
              "\n",
              "  @keyframes spin {\n",
              "    0% {\n",
              "      border-color: transparent;\n",
              "      border-bottom-color: var(--fill-color);\n",
              "      border-left-color: var(--fill-color);\n",
              "    }\n",
              "    20% {\n",
              "      border-color: transparent;\n",
              "      border-left-color: var(--fill-color);\n",
              "      border-top-color: var(--fill-color);\n",
              "    }\n",
              "    30% {\n",
              "      border-color: transparent;\n",
              "      border-left-color: var(--fill-color);\n",
              "      border-top-color: var(--fill-color);\n",
              "      border-right-color: var(--fill-color);\n",
              "    }\n",
              "    40% {\n",
              "      border-color: transparent;\n",
              "      border-right-color: var(--fill-color);\n",
              "      border-top-color: var(--fill-color);\n",
              "    }\n",
              "    60% {\n",
              "      border-color: transparent;\n",
              "      border-right-color: var(--fill-color);\n",
              "    }\n",
              "    80% {\n",
              "      border-color: transparent;\n",
              "      border-right-color: var(--fill-color);\n",
              "      border-bottom-color: var(--fill-color);\n",
              "    }\n",
              "    90% {\n",
              "      border-color: transparent;\n",
              "      border-bottom-color: var(--fill-color);\n",
              "    }\n",
              "  }\n",
              "</style>\n",
              "\n",
              "  <script>\n",
              "    async function quickchart(key) {\n",
              "      const quickchartButtonEl =\n",
              "        document.querySelector('#' + key + ' button');\n",
              "      quickchartButtonEl.disabled = true;  // To prevent multiple clicks.\n",
              "      quickchartButtonEl.classList.add('colab-df-spinner');\n",
              "      try {\n",
              "        const charts = await google.colab.kernel.invokeFunction(\n",
              "            'suggestCharts', [key], {});\n",
              "      } catch (error) {\n",
              "        console.error('Error during call to suggestCharts:', error);\n",
              "      }\n",
              "      quickchartButtonEl.classList.remove('colab-df-spinner');\n",
              "      quickchartButtonEl.classList.add('colab-df-quickchart-complete');\n",
              "    }\n",
              "    (() => {\n",
              "      let quickchartButtonEl =\n",
              "        document.querySelector('#df-f3a537b2-cd82-4b38-a9c3-6d729f074b09 button');\n",
              "      quickchartButtonEl.style.display =\n",
              "        google.colab.kernel.accessAllowed ? 'block' : 'none';\n",
              "    })();\n",
              "  </script>\n",
              "</div>\n",
              "\n",
              "    </div>\n",
              "  </div>\n"
            ]
          },
          "metadata": {},
          "execution_count": 8
        }
      ]
    },
    {
      "cell_type": "markdown",
      "metadata": {
        "id": "GYrfQTE5qQsq"
      },
      "source": [
        "![](\n",
        "https://drive.google.com/uc?export=view&id=1jnxgK8GKTX1HyWXyOLDgqmYQqns98njI)"
      ]
    },
    {
      "cell_type": "markdown",
      "metadata": {
        "id": "M8boEcj6q8v5"
      },
      "source": [
        "The ordinal encoder is the most suitable option for encoding ordinal variables. It helps the machine learning model to establish a relationship between a categorical column and the target column. For example, if we want to predict the salary of an employee, it would depend on different features, and education level would be one of those features. Now, logically the one with Ph.D. will have a better salary than the one with a high school degree. so, the model will learn that a Ph.D. with a value of 3 in the data frame weighs more than the one with a high school degree with a value of 0. This way the model will learn that when the level of education goes up, the salary increases and vice versa.[9]"
      ]
    },
    {
      "cell_type": "markdown",
      "metadata": {
        "id": "dIoU6rrjrLaY"
      },
      "source": [
        "### **One Hot Encoding**:[9]"
      ]
    },
    {
      "cell_type": "markdown",
      "metadata": {
        "id": "mOtCZyEwwA52"
      },
      "source": [
        "If there is no ordinal relationship between the categorical variables then ordinal encoding might mislead the model. This is because the ordinal encoder will try to force an ordinal relationship on the variables to assume a natural ordering, thus resulting in poor performance.\n",
        "In this case, One Hot encoder should be used to treat our categorical variables. It will create dummy variables by converting N categories into N features/columns. Considering the gender column again. If we have a male in the first row, then its value is 1. Also if we have a female in the second row then its value is 0. Whenever the category exists its value is 1 and 0 where it does not. We can one-hot encode categorical variables in two ways. One, by using get_dummies in pandas and two, by using OneHotEncoder from sklearn."
      ]
    },
    {
      "cell_type": "markdown",
      "metadata": {
        "id": "JEgDnRBkgjfG"
      },
      "source": [
        "In one-hot encoding, the numerical variables are replaced by binary variables.\n",
        "\n",
        "So, each of the category is either 0 or 1. Again, take the shape category example into account. If the shape is, say, ‘triangle‘, then it is labeled as 1 and all other shapes are labeled as zero.\n",
        "\n",
        "One-hot encoding is particularly used in those cases where there is no ordinal relationship between the labels.\n",
        "\n",
        "The following image may clear some things up[14]"
      ]
    },
    {
      "cell_type": "code",
      "metadata": {
        "id": "YaZV_eZjwHUG"
      },
      "source": [
        "pd.get_dummies(df['Gender']).head()\n"
      ],
      "execution_count": null,
      "outputs": []
    },
    {
      "cell_type": "markdown",
      "metadata": {
        "id": "452Af_mKwIf1"
      },
      "source": [
        "![](\n",
        "https://drive.google.com/uc?export=view&id=1HuX3C28bC8pwODt9xiPXWzTxsN5ICxhJ)"
      ]
    },
    {
      "cell_type": "markdown",
      "metadata": {
        "id": "5r7cKZrvwxwS"
      },
      "source": [
        "Another example is Marital Status. Here, we have three different categories Married: M, Divorced: D, and Single: S. we can reduce the dimensionality by one column by using: “drop_first=True” meaning the number of columns will be one less than the number of categories."
      ]
    },
    {
      "cell_type": "code",
      "metadata": {
        "id": "2pNsHRALw16i"
      },
      "source": [
        "pd.get_dummies(df['Marital Status'],drop_first=True).head()\n"
      ],
      "execution_count": null,
      "outputs": []
    },
    {
      "cell_type": "markdown",
      "metadata": {
        "id": "mD9NJVmWxXk6"
      },
      "source": [
        "![](https://drive.google.com/uc?export=view&id=1kbocIUE7gHMIcbnZtC7CluQMUqdty5G4)"
      ]
    },
    {
      "cell_type": "markdown",
      "metadata": {
        "id": "1MUXlTIzxgjo"
      },
      "source": [
        "In the second row of the table above, we have zero for married and single, which effectively means that it is Divorced."
      ]
    },
    {
      "cell_type": "markdown",
      "metadata": {
        "id": "5_b_Qho_xiT5"
      },
      "source": [
        "If we assign drop_first =False, then we still have three columns: Married, Single, and Divorced."
      ]
    },
    {
      "cell_type": "code",
      "metadata": {
        "id": "FMhpy3o5xmWB"
      },
      "source": [
        "pd.get_dummies(df['Marital Status'],drop_first=False).head()\n"
      ],
      "execution_count": null,
      "outputs": []
    },
    {
      "cell_type": "markdown",
      "metadata": {
        "id": "utFZYVsfyFYS"
      },
      "source": [
        "![](https://drive.google.com/uc?export=view&id=1j654yAZy1pZiMX7uyjmzXXPWlnkag-Vz)"
      ]
    },
    {
      "cell_type": "markdown",
      "metadata": {
        "id": "o8LqoGmZyPuP"
      },
      "source": [
        "As mentioned, we can also implement one-hot encoding through OneHotEncoder from sklearn."
      ]
    },
    {
      "cell_type": "code",
      "metadata": {
        "id": "6LlVVEu7ySC3"
      },
      "source": [
        "from sklearn.preprocessing import OneHotEncoder\n",
        "ohe = OneHotEncoder(sparse=False)\n",
        "ohe.fit_transform(df0[['Marital Status']])"
      ],
      "execution_count": null,
      "outputs": []
    },
    {
      "cell_type": "markdown",
      "metadata": {
        "id": "amsik25XyVyH"
      },
      "source": [
        "If we have a high number of categorical variables in a column, then we should avoid using one-hot encoding. It will result in an increase in the number of corresponding columns which will give rise to a problem called “Curse of Dimensionality”."
      ]
    },
    {
      "cell_type": "code",
      "metadata": {
        "id": "xarFJmqzqNdt",
        "colab": {
          "base_uri": "https://localhost:8080/"
        },
        "outputId": "6f5721ac-d0ab-4844-c00d-be5c6d38c26a"
      },
      "source": [
        "oversampled.select_dtypes(include=['object']).columns\n"
      ],
      "execution_count": null,
      "outputs": [
        {
          "output_type": "execute_result",
          "data": {
            "text/plain": [
              "Index(['MRNO', 'AGE', 'GENDER', 'DISTRICT', 'TEHSIL', 'REPORT_VERIFIED',\n",
              "       'RESULT_VALUE'],\n",
              "      dtype='object')"
            ]
          },
          "metadata": {},
          "execution_count": 10
        }
      ]
    },
    {
      "cell_type": "code",
      "metadata": {
        "id": "zkfkPLXEqSSi"
      },
      "source": [
        "# Impute categorical var with Mode\n",
        "oversampled['MRNO'] = oversampled['MRNO'].fillna(oversampled['MRNO'].mode()[0])\n",
        "oversampled['AGE'] = oversampled['AGE'].fillna(oversampled['AGE'].mode()[0])\n",
        "oversampled['GENDER'] = oversampled['GENDER'].fillna(oversampled['GENDER'].mode()[0])\n",
        "oversampled['DISTRICT'] = oversampled['DISTRICT'].fillna(oversampled['DISTRICT'].mode()[0])\n",
        "oversampled['TEHSIL'] = oversampled['TEHSIL'].fillna(oversampled['TEHSIL'].mode()[0])\n",
        "oversampled['REPORT_VERIFIED'] = oversampled['REPORT_VERIFIED'].fillna(oversampled['REPORT_VERIFIED'].mode()[0])\n",
        "oversampled['RESULT_VALUE'] = oversampled['RESULT_VALUE'].fillna(oversampled['RESULT_VALUE'].mode()[0])"
      ],
      "execution_count": null,
      "outputs": []
    },
    {
      "cell_type": "code",
      "metadata": {
        "id": "yrGan4YLqbCI"
      },
      "source": [
        "# Convert categorical features to continuous features with Label Encoding\n",
        "from sklearn.preprocessing import LabelEncoder\n",
        "lencoders = {}\n",
        "for col in oversampled.select_dtypes(include=['object']).columns:\n",
        "    lencoders[col] = LabelEncoder()\n",
        "    oversampled[col] = lencoders[col].fit_transform(oversampled[col])"
      ],
      "execution_count": null,
      "outputs": []
    },
    {
      "cell_type": "code",
      "metadata": {
        "id": "XPPO6refqh0o"
      },
      "source": [
        "import warnings\n",
        "warnings.filterwarnings(\"ignore\")\n",
        "# Multiple Imputation by Chained Equations\n",
        "from sklearn.experimental import enable_iterative_imputer\n",
        "from sklearn.impute import IterativeImputer\n",
        "MiceImputed = oversampled.copy(deep=True)\n",
        "mice_imputer = IterativeImputer()\n",
        "MiceImputed.iloc[:, :] = mice_imputer.fit_transform(oversampled)"
      ],
      "execution_count": null,
      "outputs": []
    },
    {
      "cell_type": "markdown",
      "metadata": {
        "id": "0nCdkFRKsGV6"
      },
      "source": [
        "### **Label_Encoding**"
      ]
    },
    {
      "cell_type": "markdown",
      "metadata": {
        "id": "uRl1fZL-_EUB"
      },
      "source": [
        "The label encoder will convert each category into a unique numerical value. If implemented with Sklearn, then this encoder should be used to encode output values, i.e. y, and not the input X. It is similar to the ordinal encoder except, here the numeric values are assigned automatically without following any sort of natural order. Generally, the alphabetical order of the categorical values is used to determine which numerical value comes first. Considering our target variable “Job Status” column has four different categories. After applying label encoding to this column the four different categories are mapped into integers 0: Full Time, 1: Intern, 2: Part-Time, and 3:Unemployed. With this, it can be interpreted that Unemployed have a higher priority than Part-Time, Full Time, and Intern while training the model, whereas, there is no such priority or relation between these statuses. We can’t define the order of labels with the label encoding technique."
      ]
    },
    {
      "cell_type": "markdown",
      "metadata": {
        "id": "0Y1miQzned9F"
      },
      "source": [
        "Label encoding is really simple thing. For each of the categorical label you assign an integer to it.\n",
        "\n",
        "If we again consider the salary example, the you will be able to encode low as 1, medium as 2 and high as 3 [14]"
      ]
    },
    {
      "cell_type": "markdown",
      "metadata": {
        "id": "jAj1Gf8UeqHz"
      },
      "source": [
        "This process is okay until the number of labels is considerably small. When the number of labels increases, this solution may not work very well.\n",
        "\n",
        "This brings us to the second technique, One-Hot Encoding.[14]"
      ]
    },
    {
      "cell_type": "markdown",
      "metadata": {
        "id": "cy_rCAjPes5j"
      },
      "source": [
        "![](\n",
        "https://drive.google.com/uc?export=view&id=1qVI_RpzUKwEnivhe418XZykb5t06pise\n",
        ")"
      ]
    },
    {
      "cell_type": "code",
      "metadata": {
        "id": "IRS-UR11_JJw"
      },
      "source": [
        "from sklearn.preprocessing import LabelEncoder\n",
        "lbe = LabelEncoder()\n",
        "df['Employment Status']= lbe.fit_transform(df['Employment Status'])\n",
        "df.head()"
      ],
      "execution_count": null,
      "outputs": []
    },
    {
      "cell_type": "markdown",
      "metadata": {
        "id": "n6Y9_6n8A0MU"
      },
      "source": [
        "\n",
        "[](https://drive.google.com/uc?export=view&id=1j654yAZy1pZiMX7uyjmzXXPWlnkag-Vz)"
      ]
    },
    {
      "cell_type": "markdown",
      "metadata": {
        "id": "FKP9_lp3_RRf"
      },
      "source": [
        "The disadvantage to label encoding is that it gives an order to the categorical value, which might not be suitable to some machine learning algorithms such as Linear Regression, as they are too sensitive to the values; in such case, one hot encoding provides better results.\n",
        "On the other hand, label encoding is suitable with Decision Tree and Random Forest algorithms because they don’t depend on the values of the categorical variables."
      ]
    },
    {
      "cell_type": "markdown",
      "metadata": {
        "id": "qhYgelLK9G8Z"
      },
      "source": [
        "Import Dataset-\n",
        "\n"
      ]
    },
    {
      "cell_type": "code",
      "metadata": {
        "id": "OuqmKLVv9NAx"
      },
      "source": [
        "import seaborn as sns\n",
        "df=sns.load_dataset('titanic')\n",
        "import numpy as np"
      ],
      "execution_count": null,
      "outputs": []
    },
    {
      "cell_type": "markdown",
      "metadata": {
        "id": "NSXNdKhz9Uwn"
      },
      "source": [
        "So, I am considering categorical features and will try to find out the top important features. Creating a data frame for categorical features. We need to compare all the categories with the output category (Survived)."
      ]
    },
    {
      "cell_type": "code",
      "metadata": {
        "colab": {
          "base_uri": "https://localhost:8080/",
          "height": 204
        },
        "id": "Hdsfcixq9aSf",
        "outputId": "db8c4af6-1078-4cab-fcbe-6e2af6aa0f64"
      },
      "source": [
        "##['sex','embarked','alone','pclass','Survived']\n",
        "df=df[['sex','embarked','alone','pclass','survived']]\n",
        "df.head()"
      ],
      "execution_count": null,
      "outputs": [
        {
          "output_type": "execute_result",
          "data": {
            "text/html": [
              "<div>\n",
              "<style scoped>\n",
              "    .dataframe tbody tr th:only-of-type {\n",
              "        vertical-align: middle;\n",
              "    }\n",
              "\n",
              "    .dataframe tbody tr th {\n",
              "        vertical-align: top;\n",
              "    }\n",
              "\n",
              "    .dataframe thead th {\n",
              "        text-align: right;\n",
              "    }\n",
              "</style>\n",
              "<table border=\"1\" class=\"dataframe\">\n",
              "  <thead>\n",
              "    <tr style=\"text-align: right;\">\n",
              "      <th></th>\n",
              "      <th>sex</th>\n",
              "      <th>embarked</th>\n",
              "      <th>alone</th>\n",
              "      <th>pclass</th>\n",
              "      <th>survived</th>\n",
              "    </tr>\n",
              "  </thead>\n",
              "  <tbody>\n",
              "    <tr>\n",
              "      <th>0</th>\n",
              "      <td>male</td>\n",
              "      <td>S</td>\n",
              "      <td>False</td>\n",
              "      <td>3</td>\n",
              "      <td>0</td>\n",
              "    </tr>\n",
              "    <tr>\n",
              "      <th>1</th>\n",
              "      <td>female</td>\n",
              "      <td>C</td>\n",
              "      <td>False</td>\n",
              "      <td>1</td>\n",
              "      <td>1</td>\n",
              "    </tr>\n",
              "    <tr>\n",
              "      <th>2</th>\n",
              "      <td>female</td>\n",
              "      <td>S</td>\n",
              "      <td>True</td>\n",
              "      <td>3</td>\n",
              "      <td>1</td>\n",
              "    </tr>\n",
              "    <tr>\n",
              "      <th>3</th>\n",
              "      <td>female</td>\n",
              "      <td>S</td>\n",
              "      <td>False</td>\n",
              "      <td>1</td>\n",
              "      <td>1</td>\n",
              "    </tr>\n",
              "    <tr>\n",
              "      <th>4</th>\n",
              "      <td>male</td>\n",
              "      <td>S</td>\n",
              "      <td>True</td>\n",
              "      <td>3</td>\n",
              "      <td>0</td>\n",
              "    </tr>\n",
              "  </tbody>\n",
              "</table>\n",
              "</div>"
            ],
            "text/plain": [
              "      sex embarked  alone  pclass  survived\n",
              "0    male        S  False       3         0\n",
              "1  female        C  False       1         1\n",
              "2  female        S   True       3         1\n",
              "3  female        S  False       1         1\n",
              "4    male        S   True       3         0"
            ]
          },
          "metadata": {},
          "execution_count": 35
        }
      ]
    },
    {
      "cell_type": "markdown",
      "metadata": {
        "id": "mVtVy1br9gxJ"
      },
      "source": [
        "Let’s perform label encoding on the embarked\n",
        "\n"
      ]
    },
    {
      "cell_type": "code",
      "metadata": {
        "id": "6iF7vDNz9mtY"
      },
      "source": [
        "df['sex']=np.where(df['sex']==\"male\",1,0)\n",
        "df.head()"
      ],
      "execution_count": null,
      "outputs": []
    },
    {
      "cell_type": "markdown",
      "metadata": {
        "id": "mJjiGyo29zBz"
      },
      "source": [
        "###**Let’s perform label encoding on the embarked**\n"
      ]
    },
    {
      "cell_type": "code",
      "metadata": {
        "id": "BMFVQ6-B9wUY"
      },
      "source": [
        "import numpy as np\n",
        "### let's perform label encoding on embarked\n",
        "ordinal_label = {k: i for i, k in enumerate(df['embarked'].unique(), 0)}\n",
        "df['embarked'] = df['embarked'].map(ordinal_label)"
      ],
      "execution_count": null,
      "outputs": []
    },
    {
      "cell_type": "code",
      "metadata": {
        "id": "Z93qFiJF9-LW"
      },
      "source": [
        "df.head()\n"
      ],
      "execution_count": null,
      "outputs": []
    },
    {
      "cell_type": "code",
      "metadata": {
        "id": "zOXQ48L5-GWW"
      },
      "source": [
        "#Performing label encoding on alone\n",
        "## let's perform label encoding on alone\n",
        "df['alone']=np.where(df['alone']==True,1,0)"
      ],
      "execution_count": null,
      "outputs": []
    },
    {
      "cell_type": "code",
      "metadata": {
        "id": "Dj0pu0gh-URc"
      },
      "source": [
        "df.head()\n"
      ],
      "execution_count": null,
      "outputs": []
    },
    {
      "cell_type": "markdown",
      "metadata": {
        "id": "I9lbjuhM_a4N"
      },
      "source": [
        "# **Feature Scaling**\n",
        "\n",
        "After performing the feature engineering part, we need to do a feature scaling. The goal of feature scaling is to bring down all the data on the same scale, as each feature may vary in a different range."
      ]
    },
    {
      "cell_type": "markdown",
      "metadata": {
        "id": "CoY7XAQuAMXH"
      },
      "source": [
        "One of the primary objectives of normalization is to bring the data close to zero. That makes the optimization problem more “numerically stable”.[12]"
      ]
    },
    {
      "cell_type": "markdown",
      "metadata": {
        "id": "HLgMXIiIAXh1"
      },
      "source": [
        "Now, the scaling using mean and standard deviation assumes that the data is normally distributed, that is, most of the data is sufficiently close to the mean. So shifting the mean to zero ensures that most components of most data points are close to 0. Specifically, 68% of data would be between -1 and 1, as can be seen from the following figure:[12]"
      ]
    },
    {
      "cell_type": "markdown",
      "metadata": {
        "id": "GE5vzrgbDqlu"
      },
      "source": [
        "![](https://drive.google.com/uc?export=view&id=1z3xcwNThquBBCjH_0vCoZwwIG3I0DOcN)"
      ]
    },
    {
      "cell_type": "markdown",
      "metadata": {
        "id": "VXgzbHvjJqak"
      },
      "source": [
        "In this post we explore 3 methods of feature scaling that are implemented in scikit-learn:"
      ]
    },
    {
      "cell_type": "markdown",
      "metadata": {
        "id": "c_395pF3JyEj"
      },
      "source": [
        "- StandardScaler\n",
        "- MinMaxScaler\n",
        "- RobustScaler\n",
        "- Normalizer"
      ]
    },
    {
      "cell_type": "markdown",
      "metadata": {
        "id": "_OqSFSfpJ3Xw"
      },
      "source": [
        "## **StandardScaler** [12]"
      ]
    },
    {
      "cell_type": "markdown",
      "metadata": {
        "id": "AOe0Rz7IKOKg"
      },
      "source": [
        "The StandardScaler assumes your data is normally distributed within each feature and will scale them such that the distribution is now centered around 0, with a standard deviation of 1."
      ]
    },
    {
      "cell_type": "markdown",
      "metadata": {
        "id": "1UIoACeQKTIH"
      },
      "source": [
        "The mean and standard deviation are calculated for the feature and then the feature is scaled based on:"
      ]
    },
    {
      "cell_type": "markdown",
      "metadata": {
        "id": "iUVURlPQKcxP"
      },
      "source": [
        "If data is not normally distributed, this is not the best scaler to use.\n",
        "Let’s take a look at it in action:"
      ]
    },
    {
      "cell_type": "markdown",
      "metadata": {
        "id": "xcYgprnvKejY"
      },
      "source": [
        "![](https://drive.google.com/uc?export=view&id=1p6CMCRRpK9YY96DR4z1zlJGr8SQdGOv2\n",
        ")"
      ]
    },
    {
      "cell_type": "code",
      "metadata": {
        "id": "OhYvBC3p_orq"
      },
      "source": [
        "# Standardizing data\n",
        "from sklearn import preprocessing\n",
        "r_scaler = preprocessing.MinMaxScaler()\n",
        "r_scaler.fit(MiceImputed)\n",
        "MiceImputed = pd.DataFrame(r_scaler.transform(MiceImputed), index=MiceImputed.index, columns=MiceImputed.columns)"
      ],
      "execution_count": null,
      "outputs": []
    },
    {
      "cell_type": "code",
      "metadata": {
        "id": "_eG8wv8wAW4d"
      },
      "source": [
        "import pandas as pd\n",
        "import numpy as np\n",
        "from sklearn import preprocessing\n",
        "import matplotlib\n",
        "import matplotlib.pyplot as plt\n",
        "import seaborn as sns\n",
        "%matplotlib inline\n",
        "matplotlib.style.use('ggplot')"
      ],
      "execution_count": null,
      "outputs": []
    },
    {
      "cell_type": "code",
      "metadata": {
        "id": "XKA4K1NQK_Zd"
      },
      "source": [
        "np.random.seed(1)\n",
        "df = pd.DataFrame({\n",
        "    'x1': np.random.normal(0, 2, 10000),\n",
        "    'x2': np.random.normal(5, 3, 10000),\n",
        "    'x3': np.random.normal(-5, 5, 10000)\n",
        "})\n",
        "scaler = preprocessing.StandardScaler()\n",
        "scaled_df = scaler.fit_transform(df)\n",
        "scaled_df = pd.DataFrame(scaled_df, columns=['x1', 'x2', 'x3'])\n",
        "fig, (ax1, ax2) = plt.subplots(ncols=2, figsize=(6, 5))\n",
        "ax1.set_title('Before Scaling')\n",
        "sns.kdeplot(df['x1'], ax=ax1)\n",
        "sns.kdeplot(df['x2'], ax=ax1)\n",
        "sns.kdeplot(df['x3'], ax=ax1)\n",
        "ax2.set_title('After Standard Scaler')\n",
        "sns.kdeplot(scaled_df['x1'], ax=ax2)\n",
        "sns.kdeplot(scaled_df['x2'], ax=ax2)\n",
        "sns.kdeplot(scaled_df['x3'], ax=ax2)\n",
        "plt.show()"
      ],
      "execution_count": null,
      "outputs": []
    },
    {
      "cell_type": "markdown",
      "metadata": {
        "id": "G6ESPQaRLSLd"
      },
      "source": [
        "## **Min-Max Scaler** [12]"
      ]
    },
    {
      "cell_type": "markdown",
      "metadata": {
        "id": "rx4xTnbgLZmD"
      },
      "source": [
        "The MinMaxScaler is probably the most famous scaling algorithm, and follows the following formula for each feature:\n",
        "\n",
        "It essentially shrinks the range such that the range is now between 0 and 1 (or -1 to 1 if there are negative values).\n",
        "This scaler works better for cases in which the standard scaler might not work so well. If the distribution is not Gaussian or the standard deviation is very small, the min-max scaler works better.\n",
        "However, it is sensitive to outliers, so if there are outliers in the data, you might want to consider the Robust Scaler below.\n",
        "For now, let’s see the min-max scaler in action"
      ]
    },
    {
      "cell_type": "markdown",
      "metadata": {
        "id": "nZR0uDgQg4Tb"
      },
      "source": [
        "![](https://drive.google.com/uc?export=view&id=1WCBHBiai34AgFic_Rs6iA2ILixqU1gQq)"
      ]
    },
    {
      "cell_type": "code",
      "metadata": {
        "id": "CqHc5mcThG_Q"
      },
      "source": [
        "df = pd.DataFrame({\n",
        "    # positive skew\n",
        "    'x1': np.random.chisquare(8, 1000),\n",
        "    # negative skew\n",
        "    'x2': np.random.beta(8, 2, 1000) * 40,\n",
        "    # no skew\n",
        "    'x3': np.random.normal(50, 3, 1000)\n",
        "})\n",
        "scaler = preprocessing.MinMaxScaler()\n",
        "scaled_df = scaler.fit_transform(df)\n",
        "scaled_df = pd.DataFrame(scaled_df, columns=['x1', 'x2', 'x3'])\n",
        "fig, (ax1, ax2) = plt.subplots(ncols=2, figsize=(6, 5))\n",
        "ax1.set_title('Before Scaling')\n",
        "sns.kdeplot(df['x1'], ax=ax1)\n",
        "sns.kdeplot(df['x2'], ax=ax1)\n",
        "sns.kdeplot(df['x3'], ax=ax1)\n",
        "ax2.set_title('After Min-Max Scaling')\n",
        "sns.kdeplot(scaled_df['x1'], ax=ax2)\n",
        "sns.kdeplot(scaled_df['x2'], ax=ax2)\n",
        "sns.kdeplot(scaled_df['x3'], ax=ax2)\n",
        "plt.show()"
      ],
      "execution_count": null,
      "outputs": []
    },
    {
      "cell_type": "markdown",
      "metadata": {
        "id": "qgK__UuThdDt"
      },
      "source": [
        "Notice that the skewness of the distribution is maintained but the 3 distributions are brought into the same scale so that they overlap."
      ]
    },
    {
      "cell_type": "markdown",
      "metadata": {
        "id": "07FEKVPyhmhE"
      },
      "source": [
        "## **Robust Scaler**[12]"
      ]
    },
    {
      "cell_type": "markdown",
      "metadata": {
        "id": "DOhq2BOphubS"
      },
      "source": [
        "The RobustScaler uses a similar method to the Min-Max scaler but it instead uses the interquartile range, rather than the min-max, so that it is robust to outliers. Therefore it follows the formula:"
      ]
    },
    {
      "cell_type": "markdown",
      "metadata": {
        "id": "jvBvkb_TtWjm"
      },
      "source": [
        "![](https://drive.google.com/uc?export=view&id=1lr_IkeqAV-MsYO--MmfAMTj9OfTr6VcG)"
      ]
    },
    {
      "cell_type": "markdown",
      "metadata": {
        "id": "Z_y5F-S2hzMc"
      },
      "source": [
        "For each feature.\n",
        "Of course, this means it is using less of the data for scaling so it’s more suitable for when there are outliers in the data.\n",
        "Let’s take a look at this one in action on some data with outliers"
      ]
    },
    {
      "cell_type": "code",
      "metadata": {
        "id": "YZLP4JT2h00b"
      },
      "source": [
        "x = pd.DataFrame({\n",
        "    # Distribution with lower outliers\n",
        "    'x1': np.concatenate([np.random.normal(20, 1, 1000), np.random.normal(1, 1, 25)]),\n",
        "    # Distribution with higher outliers\n",
        "    'x2': np.concatenate([np.random.normal(30, 1, 1000), np.random.normal(50, 1, 25)]),\n",
        "})\n",
        "scaler = preprocessing.RobustScaler()\n",
        "robust_scaled_df = scaler.fit_transform(x)\n",
        "robust_scaled_df = pd.DataFrame(robust_scaled_df, columns=['x1', 'x2'])\n",
        "scaler = preprocessing.MinMaxScaler()\n",
        "minmax_scaled_df = scaler.fit_transform(x)\n",
        "minmax_scaled_df = pd.DataFrame(minmax_scaled_df, columns=['x1', 'x2'])\n",
        "fig, (ax1, ax2, ax3) = plt.subplots(ncols=3, figsize=(9, 5))\n",
        "ax1.set_title('Before Scaling')\n",
        "sns.kdeplot(x['x1'], ax=ax1)\n",
        "sns.kdeplot(x['x2'], ax=ax1)\n",
        "ax2.set_title('After Robust Scaling')\n",
        "sns.kdeplot(robust_scaled_df['x1'], ax=ax2)\n",
        "sns.kdeplot(robust_scaled_df['x2'], ax=ax2)\n",
        "ax3.set_title('After Min-Max Scaling')\n",
        "sns.kdeplot(minmax_scaled_df['x1'], ax=ax3)\n",
        "sns.kdeplot(minmax_scaled_df['x2'], ax=ax3)\n",
        "plt.show()"
      ],
      "execution_count": null,
      "outputs": []
    },
    {
      "cell_type": "markdown",
      "metadata": {
        "id": "Am45-QUFh777"
      },
      "source": [
        "Notice that after Robust scaling, the distributions are brought into the same scale and overlap, but the outliers remain outside of the bulk of the new distributions.\n",
        "However, in Min-Max scaling, the two normal distributions are kept separate by the outliers that are inside the 0–1 range."
      ]
    },
    {
      "cell_type": "markdown",
      "metadata": {
        "id": "Npy5Jrf5mJoa"
      },
      "source": [
        "## **Normalizer** [12]"
      ]
    },
    {
      "cell_type": "markdown",
      "metadata": {
        "id": "Xj0K1HPwmS-R"
      },
      "source": [
        "The normalizer scales each value by dividing each value by its magnitude in nn-dimensional space for nn number of features.\n",
        "Say your features were x, y, and z Cartesian co-ordinates your scaled value for x would be:"
      ]
    },
    {
      "cell_type": "markdown",
      "metadata": {
        "id": "Vn1lbD5CuHOJ"
      },
      "source": [
        "![](https://drive.google.com/uc?export=view&id=13kXDjD9ZJ1FsMcvOX_of9D-4pIam-z9h)"
      ]
    },
    {
      "cell_type": "markdown",
      "metadata": {
        "id": "kImIKbW2mYuw"
      },
      "source": [
        "Each point is now within 1 unit of the origin on this Cartesian coordinate system."
      ]
    },
    {
      "cell_type": "code",
      "metadata": {
        "id": "qJOuXkTemaLx"
      },
      "source": [
        "from mpl_toolkits.mplot3d import Axes3D\n",
        "df = pd.DataFrame({\n",
        "    'x1': np.random.randint(-100, 100, 1000).astype(float),\n",
        "    'y1': np.random.randint(-80, 80, 1000).astype(float),\n",
        "    'z1': np.random.randint(-150, 150, 1000).astype(float),\n",
        "})\n",
        "scaler = preprocessing.Normalizer()\n",
        "scaled_df = scaler.fit_transform(df)\n",
        "scaled_df = pd.DataFrame(scaled_df, columns=df.columns)\n",
        "fig = plt.figure(figsize=(9, 5))\n",
        "ax1 = fig.add_subplot(121, projection='3d')\n",
        "ax2 = fig.add_subplot(122, projection='3d')\n",
        "ax1.scatter(df['x1'], df['y1'], df['z1'])\n",
        "ax2.scatter(scaled_df['x1'], scaled_df['y1'], scaled_df['z1'])\n",
        "plt.show()"
      ],
      "execution_count": null,
      "outputs": []
    },
    {
      "cell_type": "markdown",
      "metadata": {
        "id": "-qJoRdEemhYh"
      },
      "source": [
        "Note that the points are all brought within a sphere that is at most 1 away from the origin at any point. Also, the axes that were previously different scales are now all one scale."
      ]
    },
    {
      "cell_type": "markdown",
      "metadata": {
        "id": "n3uyiPD3Ivp_"
      },
      "source": [
        "# **Skewness [13]**"
      ]
    },
    {
      "cell_type": "markdown",
      "metadata": {
        "id": "636S73wKI_m-"
      },
      "source": [
        "We can also see the skewness of the target variable to check if it is right or left-skewed. SO, we can make the skewed distribution to normal distribution with mean and standard deviation.[13]"
      ]
    },
    {
      "cell_type": "markdown",
      "source": [
        "We all have come across the terms outliers or skewness while cleaning or preprocessing data for a project. So, in this article, we will be discussing the following points[15]"
      ],
      "metadata": {
        "id": "dybuJov1GGdf"
      }
    },
    {
      "cell_type": "markdown",
      "source": [
        "**What is skewness?**"
      ],
      "metadata": {
        "id": "Muo1jb3dGZsZ"
      }
    },
    {
      "cell_type": "markdown",
      "source": [
        "Skewness is an asymmetry in the distribution of data as it does not show any kind of symmetry in continuous data. Skewed data can be of 2 types. Right-Skewed data is also called as Positively-Skewed data and, Left-Skewed data is called as Negatively-Skewed data [15]\n",
        "\n",
        "Skewness is the measure of asymmetry of data distribution.\n",
        "If the data is positively skewed, then we can interpret that there are more values which are greater than the mean than the values that are lesser than the mean\n",
        "If the data is negatively skewed, then we can interpret that there are more values which are lesser than the mean than the values that are more than the mean\n",
        "This table elaborates the difference between positively and negatively skewed data [22]"
      ],
      "metadata": {
        "id": "f0A5wCSdGdqW"
      }
    },
    {
      "cell_type": "markdown",
      "source": [
        "**How to identify if your data is skewed or not?[15]**"
      ],
      "metadata": {
        "id": "aGwF3CtOGrxo"
      }
    },
    {
      "cell_type": "markdown",
      "source": [
        "There are 2 main methods to identify skewness in the data. The first is the Observational method and, the second is the Statistical method."
      ],
      "metadata": {
        "id": "iqAKmaclG0cl"
      }
    },
    {
      "cell_type": "markdown",
      "source": [
        "**1. Observational Method**"
      ],
      "metadata": {
        "id": "fY3E8cr_JEiV"
      }
    },
    {
      "cell_type": "markdown",
      "source": [
        "Identification of skewness can be done easily by plotting a histogram and observing a few characteristics.\n",
        "For a normal distribution i.e a distribution with no skewness the histogram should look like Fig(1) here, both the ends (tail regions) taper equally with a peek at the centre of the distribution like a “Bell-Curve”. For data with no skewness the Mean = Median = Mode.[15]"
      ],
      "metadata": {
        "id": "hJybwDSeJOVx"
      }
    },
    {
      "cell_type": "markdown",
      "source": [
        "\n",
        "\n",
        "![](https://drive.google.com/uc?export=view&id=1WjR2nnJUmKoiuZVUiDQADohDOqRGxkKk)"
      ],
      "metadata": {
        "id": "I2nDVuZ2JSoq"
      }
    },
    {
      "cell_type": "markdown",
      "source": [
        "For distribution with left-skewness or negative skewness, the histogram should look like Fig(2) here the only the left part of the distribution tapers with the peak shifted towards the right-hand side. For Left-Skewed data the Mode > Median > Mean.[15]"
      ],
      "metadata": {
        "id": "O6J8yPqcJ78Y"
      }
    },
    {
      "cell_type": "markdown",
      "source": [
        "![](https://drive.google.com/uc?export=view&id=1_tcTjpoywmpL5Ixiyd_NcKZ-1IedALr0)"
      ],
      "metadata": {
        "id": "GAKQ2YVqKEg4"
      }
    },
    {
      "cell_type": "markdown",
      "source": [
        "For distribution with right-skewness or positive-skewness the histogram should look like Fig(3) here the only the right part of the distribution tapers with the peak shifted towards the left-hand side. For Right-Skewed data the Mean > Median > Mode.[15]"
      ],
      "metadata": {
        "id": "BxdtfPkyKflA"
      }
    },
    {
      "cell_type": "markdown",
      "source": [
        "![](https://drive.google.com/uc?export=view&id=17aCr28uZ0v3Ue6mvtXKlPTAqe-EkGKpC)"
      ],
      "metadata": {
        "id": "iOv9bT3xM8Wl"
      }
    },
    {
      "cell_type": "markdown",
      "source": [
        "**2. Statistical Method**[15]"
      ],
      "metadata": {
        "id": "PEX7yNvSNG3s"
      }
    },
    {
      "cell_type": "markdown",
      "source": [
        "Now, the method we studied above is the observational method. We can also calculate the skewness of our data using statistics as well. So the formula to calculate skewness is given below:"
      ],
      "metadata": {
        "id": "cfyUW9e7NMa-"
      }
    },
    {
      "cell_type": "markdown",
      "source": [
        "![](https://drive.google.com/uc?export=view&id=1F_PaMDNfQyI8fEiZcMT0g7brEUzFeXVi)"
      ],
      "metadata": {
        "id": "TzzOZnT4Nerr"
      }
    },
    {
      "cell_type": "markdown",
      "source": [
        "The acceptable value of skewness is considered to be between -3 and +3. If the value of skewness falls on either side of this range then it indicates that the skewness must be fixed."
      ],
      "metadata": {
        "id": "T5jn4cJYNpff"
      }
    },
    {
      "cell_type": "markdown",
      "source": [
        "**Why is skewness a problem?**\n"
      ],
      "metadata": {
        "id": "AeBLb1jdNt7L"
      }
    },
    {
      "cell_type": "markdown",
      "source": [
        "Most of the statistical models do not work when the data is skewed. The reason behind this is that the tapering ends or the tail region of the skewed data distributions are the outliers in the data and it is known to us that outliers can severely damage the performance of a statistical model. The best example of this being regression models that show bad results when trained over skewed data.[15]"
      ],
      "metadata": {
        "id": "Rda5NpGMP2yl"
      }
    },
    {
      "cell_type": "markdown",
      "source": [
        "**How do we fix this skewness?**[15]\n"
      ],
      "metadata": {
        "id": "Cn2dEWYsP6Co"
      }
    },
    {
      "cell_type": "markdown",
      "source": [
        "Now, as we know that skewness is bad for our data and many machine learning algorithms prefer or perform better when numerical data has a normal distribution we need a way to remove this skewness, to do so in python most frequently used methods are PowerTransformer and QuantileTransformer. Both these methods are used to get a normal or Gaussian-like distribution. Now let us see how to use these methods with an example:\n",
        "For the example below the dataset considered is the European Credit Card dataset which you can find on Kaggle and I have considered a few random columns with skewness to perform the transformation. The code for implementing the transformers is as following:"
      ],
      "metadata": {
        "id": "JDSDQJN0QHbg"
      }
    },
    {
      "cell_type": "code",
      "source": [
        "import matplotlib.pyplot as plt\n",
        "import seaborn as sns\n",
        "import numpy as np\n",
        "import pandas as pd\n",
        "from sklearn.preprocessing import PowerTransformer, QuantileTransformer\n",
        "cols1 = [\"V1\", \"V3\", \"V4\"]\n",
        "def test_transformers(columns):\n",
        "    pt = PowerTransformer()\n",
        "    qt = QuantileTransformer(n_quantiles=500, output_distribution='normal')\n",
        "    fig = plt.figure(figsize=(20,30))\n",
        "    j = 1\n",
        "    for i in columns:\n",
        "        array = np.array(df[i]).reshape(-1, 1)\n",
        "        y = pt.fit_transform(array)\n",
        "        x = qt.fit_transform(array)\n",
        "        plt.subplot(3,3,j)\n",
        "        sns.histplot(array, bins = 50, kde = True)\n",
        "        plt.title(f\"Original Distribution for {i}\")\n",
        "        plt.subplot(3,3,j+1)\n",
        "        sns.histplot(x, bins = 50, kde = True)\n",
        "        plt.title(f\"Quantile Transform for {i}\")\n",
        "        plt.subplot(3,3,j+2)\n",
        "        sns.histplot(y, bins = 50, kde = True)\n",
        "        plt.title(f\"Power Transform for {i}\")\n",
        "        j += 3\n",
        "test_transformers(cols1)"
      ],
      "metadata": {
        "id": "Vj_eyT3JNtFz"
      },
      "execution_count": null,
      "outputs": []
    },
    {
      "cell_type": "markdown",
      "source": [
        "![](https://drive.google.com/uc?export=view&id=1D0uYyv5yQ1XgcNklue-Ah6GXhiSqUuHM)"
      ],
      "metadata": {
        "id": "lE2p1QEnQkXA"
      }
    },
    {
      "cell_type": "markdown",
      "source": [
        "It can be seen that QuantileTransformer has performed better than PowerTransformer in terms of converting the skewed distribution into a normal distribution, but you should always select the method which works best with your data. It’s observed that QuantileTransformer works better on larger datasets than PowerTransformer.\n",
        "Other methods can be used to reduce the skewness as well. Like for left-skewed data squares, cubes or, higher power transforms can be performed and, for right-skewed data, we can use the Square-root, Cube-root or Log transforms. To know more about these, you can refer to this article."
      ],
      "metadata": {
        "id": "G_OFAAokQTNz"
      }
    },
    {
      "cell_type": "code",
      "metadata": {
        "colab": {
          "base_uri": "https://localhost:8080/",
          "height": 419
        },
        "id": "JQPfmlqUJOxo",
        "outputId": "75f6a9fa-6728-4ce4-ba0a-7c4b9ca95cb3"
      },
      "source": [
        "MiceImputed"
      ],
      "execution_count": null,
      "outputs": [
        {
          "output_type": "execute_result",
          "data": {
            "text/html": [
              "<div>\n",
              "<style scoped>\n",
              "    .dataframe tbody tr th:only-of-type {\n",
              "        vertical-align: middle;\n",
              "    }\n",
              "\n",
              "    .dataframe tbody tr th {\n",
              "        vertical-align: top;\n",
              "    }\n",
              "\n",
              "    .dataframe thead th {\n",
              "        text-align: right;\n",
              "    }\n",
              "</style>\n",
              "<table border=\"1\" class=\"dataframe\">\n",
              "  <thead>\n",
              "    <tr style=\"text-align: right;\">\n",
              "      <th></th>\n",
              "      <th>MRNO</th>\n",
              "      <th>AGE</th>\n",
              "      <th>GENDER</th>\n",
              "      <th>DISTRICT</th>\n",
              "      <th>TEHSIL</th>\n",
              "      <th>REPORT_VERIFIED</th>\n",
              "      <th>CPT_ID</th>\n",
              "      <th>RESULT_VALUE</th>\n",
              "      <th>CPT_ID.1</th>\n",
              "      <th>RESULT_TEXT</th>\n",
              "    </tr>\n",
              "  </thead>\n",
              "  <tbody>\n",
              "    <tr>\n",
              "      <th>0</th>\n",
              "      <td>0.893023</td>\n",
              "      <td>0.30</td>\n",
              "      <td>0.5</td>\n",
              "      <td>0.000000</td>\n",
              "      <td>1.000000</td>\n",
              "      <td>0.174176</td>\n",
              "      <td>0.481995</td>\n",
              "      <td>1.0</td>\n",
              "      <td>0.0</td>\n",
              "      <td>0.0</td>\n",
              "    </tr>\n",
              "    <tr>\n",
              "      <th>1</th>\n",
              "      <td>0.893454</td>\n",
              "      <td>0.41</td>\n",
              "      <td>0.5</td>\n",
              "      <td>0.000000</td>\n",
              "      <td>0.018519</td>\n",
              "      <td>0.947134</td>\n",
              "      <td>1.000000</td>\n",
              "      <td>1.0</td>\n",
              "      <td>0.0</td>\n",
              "      <td>0.0</td>\n",
              "    </tr>\n",
              "    <tr>\n",
              "      <th>2</th>\n",
              "      <td>0.893454</td>\n",
              "      <td>0.41</td>\n",
              "      <td>0.5</td>\n",
              "      <td>0.000000</td>\n",
              "      <td>0.018519</td>\n",
              "      <td>0.947090</td>\n",
              "      <td>0.481995</td>\n",
              "      <td>1.0</td>\n",
              "      <td>0.0</td>\n",
              "      <td>0.0</td>\n",
              "    </tr>\n",
              "    <tr>\n",
              "      <th>3</th>\n",
              "      <td>0.888200</td>\n",
              "      <td>0.23</td>\n",
              "      <td>0.5</td>\n",
              "      <td>0.000000</td>\n",
              "      <td>0.018519</td>\n",
              "      <td>0.476987</td>\n",
              "      <td>0.481995</td>\n",
              "      <td>1.0</td>\n",
              "      <td>0.0</td>\n",
              "      <td>0.0</td>\n",
              "    </tr>\n",
              "    <tr>\n",
              "      <th>4</th>\n",
              "      <td>0.888286</td>\n",
              "      <td>0.40</td>\n",
              "      <td>0.5</td>\n",
              "      <td>0.000000</td>\n",
              "      <td>0.018519</td>\n",
              "      <td>0.552535</td>\n",
              "      <td>0.481995</td>\n",
              "      <td>1.0</td>\n",
              "      <td>0.0</td>\n",
              "      <td>0.0</td>\n",
              "    </tr>\n",
              "    <tr>\n",
              "      <th>...</th>\n",
              "      <td>...</td>\n",
              "      <td>...</td>\n",
              "      <td>...</td>\n",
              "      <td>...</td>\n",
              "      <td>...</td>\n",
              "      <td>...</td>\n",
              "      <td>...</td>\n",
              "      <td>...</td>\n",
              "      <td>...</td>\n",
              "      <td>...</td>\n",
              "    </tr>\n",
              "    <tr>\n",
              "      <th>13513</th>\n",
              "      <td>0.627562</td>\n",
              "      <td>0.84</td>\n",
              "      <td>0.5</td>\n",
              "      <td>0.000000</td>\n",
              "      <td>0.018519</td>\n",
              "      <td>0.372402</td>\n",
              "      <td>0.633636</td>\n",
              "      <td>1.0</td>\n",
              "      <td>0.0</td>\n",
              "      <td>1.0</td>\n",
              "    </tr>\n",
              "    <tr>\n",
              "      <th>8974</th>\n",
              "      <td>0.064083</td>\n",
              "      <td>0.09</td>\n",
              "      <td>0.5</td>\n",
              "      <td>0.000000</td>\n",
              "      <td>0.018519</td>\n",
              "      <td>0.468029</td>\n",
              "      <td>1.000000</td>\n",
              "      <td>1.0</td>\n",
              "      <td>0.0</td>\n",
              "      <td>1.0</td>\n",
              "    </tr>\n",
              "    <tr>\n",
              "      <th>18480</th>\n",
              "      <td>0.408010</td>\n",
              "      <td>0.20</td>\n",
              "      <td>0.5</td>\n",
              "      <td>0.000000</td>\n",
              "      <td>0.018519</td>\n",
              "      <td>0.545254</td>\n",
              "      <td>0.481995</td>\n",
              "      <td>1.0</td>\n",
              "      <td>0.0</td>\n",
              "      <td>1.0</td>\n",
              "    </tr>\n",
              "    <tr>\n",
              "      <th>20294</th>\n",
              "      <td>0.060034</td>\n",
              "      <td>0.72</td>\n",
              "      <td>0.0</td>\n",
              "      <td>0.567568</td>\n",
              "      <td>0.666667</td>\n",
              "      <td>0.456820</td>\n",
              "      <td>1.000000</td>\n",
              "      <td>1.0</td>\n",
              "      <td>0.0</td>\n",
              "      <td>1.0</td>\n",
              "    </tr>\n",
              "    <tr>\n",
              "      <th>1407</th>\n",
              "      <td>0.456072</td>\n",
              "      <td>0.87</td>\n",
              "      <td>0.5</td>\n",
              "      <td>0.081081</td>\n",
              "      <td>0.148148</td>\n",
              "      <td>0.754865</td>\n",
              "      <td>1.000000</td>\n",
              "      <td>1.0</td>\n",
              "      <td>0.0</td>\n",
              "      <td>1.0</td>\n",
              "    </tr>\n",
              "  </tbody>\n",
              "</table>\n",
              "<p>45512 rows × 10 columns</p>\n",
              "</div>"
            ],
            "text/plain": [
              "           MRNO   AGE  GENDER  ...  RESULT_VALUE  CPT_ID.1  RESULT_TEXT\n",
              "0      0.893023  0.30     0.5  ...           1.0       0.0          0.0\n",
              "1      0.893454  0.41     0.5  ...           1.0       0.0          0.0\n",
              "2      0.893454  0.41     0.5  ...           1.0       0.0          0.0\n",
              "3      0.888200  0.23     0.5  ...           1.0       0.0          0.0\n",
              "4      0.888286  0.40     0.5  ...           1.0       0.0          0.0\n",
              "...         ...   ...     ...  ...           ...       ...          ...\n",
              "13513  0.627562  0.84     0.5  ...           1.0       0.0          1.0\n",
              "8974   0.064083  0.09     0.5  ...           1.0       0.0          1.0\n",
              "18480  0.408010  0.20     0.5  ...           1.0       0.0          1.0\n",
              "20294  0.060034  0.72     0.0  ...           1.0       0.0          1.0\n",
              "1407   0.456072  0.87     0.5  ...           1.0       0.0          1.0\n",
              "\n",
              "[45512 rows x 10 columns]"
            ]
          },
          "metadata": {},
          "execution_count": 19
        }
      ]
    },
    {
      "cell_type": "code",
      "metadata": {
        "colab": {
          "base_uri": "https://localhost:8080/",
          "height": 830
        },
        "id": "t_MJLOLzJEI_",
        "outputId": "6de12c32-4a9c-4a52-8357-a91af639c637"
      },
      "source": [
        "#[13]\n",
        "import seaborn as sns\n",
        "from scipy import stats\n",
        "plt.subplots(figsize=(12,9))\n",
        "sns.distplot(MiceImputed['RESULT_TEXT'], fit=stats.norm)\n",
        "# fit the mean and standard deviation\n",
        "(mu, sigma) = stats.norm.fit(MiceImputed['RESULT_TEXT'])\n",
        "# plot with the distribution\n",
        "plt.legend(['Normal dist. ($\\mu=$ {:.2f} and $\\sigma=$ {:.2f} )'.format(mu, sigma)], loc='best')\n",
        "plt.ylabel('Frequency')\n",
        "#Probablity plot\n",
        "fig = plt.figure()\n",
        "stats.probplot(MiceImputed['RESULT_TEXT'], plot=plt)\n",
        "plt.show()"
      ],
      "execution_count": null,
      "outputs": [
        {
          "output_type": "display_data",
          "data": {
            "image/png": "[encoded data removed]",
            "text/plain": [
              "<Figure size 864x648 with 1 Axes>"
            ]
          },
          "metadata": {
            "needs_background": "light"
          }
        },
        {
          "output_type": "display_data",
          "data": {
            "image/png": "[encoded data removed]",
            "text/plain": [
              "<Figure size 432x288 with 1 Axes>"
            ]
          },
          "metadata": {
            "needs_background": "light"
          }
        }
      ]
    },
    {
      "cell_type": "markdown",
      "metadata": {
        "id": "wfZ907RtJuN-"
      },
      "source": [
        "From the above distribution, it is observed that the target column is right-skewed and one more observation we can conclude from this is that the outliers are on the right side. To make the target variable in a normal distribution we used log function so that the mean and standard deviation becomes to make as a standard normal distribution after standardizing the values in the target column.[13]"
      ]
    },
    {
      "cell_type": "code",
      "metadata": {
        "colab": {
          "base_uri": "https://localhost:8080/",
          "height": 830
        },
        "id": "dg5GN17XJ0no",
        "outputId": "6abf3381-6be2-4b43-e416-836ecfe59334"
      },
      "source": [
        "#This target variabale is right skewed. Now, we need to transform this variable and make it normal distribution.\n",
        "#using log function to normalize#\n",
        "#[13]\n",
        "MiceImputed['price'] = np.log1p(MiceImputed['RESULT_TEXT'])\n",
        "#Check again for more normal distribution\n",
        "plt.subplots(figsize=(12,9))\n",
        "sns.distplot(MiceImputed['RESULT_TEXT'], fit=stats.norm)\n",
        "# fit the mean and standard deviation\n",
        "(mu, sigma) = stats.norm.fit(MiceImputed['RESULT_TEXT'])\n",
        "# plot with the distribution\n",
        "plt.legend(['Normal dist.($\\mu=$ {:.2f} and $\\sigma=$ {:.2f})'\n",
        "                           .format(mu, sigma)], loc='best')\n",
        "plt.ylabel('Frequency')\n",
        "#Probablity plot\n",
        "fig = plt.figure()\n",
        "stats.probplot(MiceImputed['RESULT_TEXT'], plot=plt)\n",
        "plt.show()"
      ],
      "execution_count": null,
      "outputs": [
        {
          "output_type": "display_data",
          "data": {
            "image/png": "[encoded data removed]",
            "text/plain": [
              "<Figure size 864x648 with 1 Axes>"
            ]
          },
          "metadata": {
            "needs_background": "light"
          }
        },
        {
          "output_type": "display_data",
          "data": {
            "image/png": "[encoded data removed]",
            "text/plain": [
              "<Figure size 432x288 with 1 Axes>"
            ]
          },
          "metadata": {
            "needs_background": "light"
          }
        }
      ]
    },
    {
      "cell_type": "markdown",
      "metadata": {
        "id": "-OoCHQ6TwE_f"
      },
      "source": [
        "# **Outlier detection**\n",
        "\n",
        "As most of the machine learning and deep learning algorithms are sensitive, it may take a longer time for training also gives us a less accurate model and poor results."
      ]
    },
    {
      "cell_type": "markdown",
      "source": [
        "**What are Outliers ?**"
      ],
      "metadata": {
        "id": "1xP1DC2HTR7v"
      }
    },
    {
      "cell_type": "markdown",
      "source": [
        "Outliers are the datapoints which are significantly different from the rest of the datapoints in the dataset. Outliers increase the variance in the dataset which inturn results in the decrease in the statistical power. So it is very important to identify these outliers and treat them accordingly.[18]"
      ],
      "metadata": {
        "id": "PM6Fd-4zTWjf"
      }
    },
    {
      "cell_type": "markdown",
      "metadata": {
        "id": "8k2wkbevQ0KQ"
      },
      "source": [
        "**Defination:**\n",
        "\n",
        "Outlier is an observation point that is distant from other observations.Extreme values can be present in both dependent & independent variables, in the case of supervised learning methods.\n",
        "\n",
        "These extreme values need not necessarily impact the model performance or accuracy, but when they do they are called “Influential” points. Many machine learning models, like linear & logistic regression, are easily impacted by the outliers in the training data.Models like AdaBoost increase the weights of misclassified points on every iteration and therefore might put high weights on these outliers as they tend to be often misclassified. This can become an issue if that outlier is an error of some type, or if we want our model to generalize well and not care for extreme values.To overcome this issue, we can either change the model or metric, or we can make some changes in the data and use the same models [5]"
      ]
    },
    {
      "cell_type": "markdown",
      "source": [
        "![](https://drive.google.com/uc?export=view&id=1tZVHeBnhIVH2LkvLXFBFRev7jJl7nelQ)"
      ],
      "metadata": {
        "id": "eVDaNYq8TqiA"
      }
    },
    {
      "cell_type": "markdown",
      "source": [
        "![](https://drive.google.com/uc?export=view&id=1gQ0YliVHDL9QJLcEhSTDlGKwINGB7lYn)"
      ],
      "metadata": {
        "id": "d2zxKv1mSrYZ"
      }
    },
    {
      "cell_type": "markdown",
      "source": [
        "**Reasons for the occurrence of Outliers**\n",
        "\n",
        "Outliers can occur because of various reasons. Some of the most common reasons include:[18]\n",
        "- Error in data entry.\n",
        "- Inappropriate scaling of datapoints.\n",
        "- Errors caused during measurement.\n",
        "- Existence of genuine extreme data points."
      ],
      "metadata": {
        "id": "wR7k9X-eLgwQ"
      }
    },
    {
      "cell_type": "markdown",
      "source": [
        "**Importance of Outlier Detection**[18]\n",
        "\n",
        "\n",
        "Now that we know the reasons for the occurrence of the outliers, it is also important to know why is it important to identify these outliers. Simple reason is that some of the measures of central tendency and measures of variability are affected by outliers.\n",
        "- Mean: Since mean is the average of all the values present in the dataset, it is affected by the presence of outliers. The mean shifts towards the outlier.\n",
        "- Median: Median is the middle value of the dataset and is not affected the presence of outliers. So we should use median instead of mean when we are dealing with the datasets consisting of outliers.\n",
        "- Mode: Mode is the value that occurs maximum number of times in the dataset and is not affected by the outliers.\n",
        "- Variance & Standard Deviation: Since mean is used to calculate both variance and standard deviation, both get affected by the outliers.\n",
        "- Range: Since range is the difference between the minimum and maximum datapoints, range gets most affected by the presence of outliers.\n",
        "\n",
        "Therefore except the median and mode, most of the other important measures get affected by the presence of outliers. Apart from these reasons, outliers also cause problems while fitting models and increase the errors. So it is very important to identify these outliers."
      ],
      "metadata": {
        "id": "weJWkErdMB90"
      }
    },
    {
      "cell_type": "markdown",
      "metadata": {
        "id": "XdlYsfevSLSv"
      },
      "source": [
        "**Extreme Values in Independent Variables [5]**\n",
        "\n",
        "These are called points of “high leverage”. With a single predictor, an extreme value is simply one that is particularly high or low. With multiple predictors, extreme values may be particularly high or low for one or more predictors (univariate analysis — analysis of one variable at a time) or may be “unusual” combinations of predictor values (multivariate analysis)\n"
      ]
    },
    {
      "cell_type": "markdown",
      "metadata": {
        "id": "F6u5JcpQSqPR"
      },
      "source": [
        "**Extreme Values in Target Variables [5]**\n",
        "\n",
        "Regression — these extreme values are termed as “outliers”. They may or may not be influential points\n"
      ]
    },
    {
      "cell_type": "markdown",
      "metadata": {
        "id": "-6Fa2YQ2S62A"
      },
      "source": [
        "Classification: Here, we have two types of extreme values:\n"
      ]
    },
    {
      "cell_type": "markdown",
      "metadata": {
        "id": "hj0_azsUTQRx"
      },
      "source": [
        "1. **Outliers:** For example, in an image classification problem in which we’re trying to identify dogs/cats, one of the images in the training set has a gorilla (or any other category not part of the goal of the problem) by mistake. Here, the gorilla image is clearly noise. Detecting outliers here does not make sense because we already know which categories we want to focus on and which to discard"
      ]
    },
    {
      "cell_type": "markdown",
      "metadata": {
        "id": "q-8ezNNKTZJ3"
      },
      "source": [
        "2. **Novelties:** Many times we’re dealing with novelties, and the problem is often called supervised anomaly detection. In this case, the goal is not to remove outliers or reduce their impact, but we are interested in detecting anomalies in new observations. Therefore we won’t be discussing it in this post. It is especially used for fraud detection in credit-card transactions, fake calls, etc."
      ]
    },
    {
      "cell_type": "markdown",
      "metadata": {
        "id": "ModLlb4mTucn"
      },
      "source": [
        "Our major focus will be outliers (extreme values in target variable for further investigation and treatment). We’ll see the impact of these extreme values on the model’s performance."
      ]
    },
    {
      "cell_type": "markdown",
      "metadata": {
        "id": "htiwFPisfBNg"
      },
      "source": [
        "## **9.1 Methods to identify the Outlier [5]**"
      ]
    },
    {
      "cell_type": "markdown",
      "metadata": {
        "id": "2o137YJKT7TI"
      },
      "source": [
        "**Common Methods for Detecting Outliers [5]**\n",
        "\n",
        "When detecting outliers, we are either doing univariate analysis or multivariate analysis. When your linear model has a single predictor, then you can use univariate analysis. However, it can give misleading results if you use it for multiple predictors. One common way of performing outlier detection is to assume that the regular data come from a known distribution (e.g. data are Gaussian distributed). This assumption is discussed in the Z-Score method section below."
      ]
    },
    {
      "cell_type": "markdown",
      "source": [
        "**Visualization**[18]\n",
        "\n",
        "Presence of outliers can also be detected by using various visualization methods. Some of the famous plots include:\n",
        "- Scatter plot\n",
        "- Box and Whisker plot\n",
        "- Histogram\n",
        "- Distribution Plot\n",
        "- QQ plot"
      ],
      "metadata": {
        "id": "qPa-Kfk9OrW_"
      }
    },
    {
      "cell_type": "markdown",
      "metadata": {
        "id": "xr8JhIW3UQ2Y"
      },
      "source": [
        "1. **Box-Plot**\n",
        "\n",
        "The quickest and easiest way to identify outliers is by visualizing them using plots. If your dataset is not huge (approx. up to 10k observations & 100 features), I would highly recommend you build scatter plots & box-plots of variables. If there aren’t outliers, you’ll definitely gain some other insights like correlations, variability, or external factors like the impact of world war/recession on economic factors. However, this method is not recommended for high dimensional data where the power of visualization fails.\n"
      ]
    },
    {
      "cell_type": "markdown",
      "metadata": {
        "id": "JuqTpjBEHYhn"
      },
      "source": [
        "To know the outliers in column features with the help of box plot visualization. For this, I create a for loop in which I used columns that have the type of int64 and float64. We can also observe outliers from the describe() function. If there are differences between the 75% to the maximum value and the difference between the minimum and 25% then there are outliers.[13]"
      ]
    },
    {
      "cell_type": "markdown",
      "metadata": {
        "id": "CSU43eKUUhD2"
      },
      "source": [
        "The box plot uses inter-quartile range to detect outliers.\n",
        "\n",
        " Here, we first determine the quartiles Q1 and Q3.\n",
        "\n",
        "Interquartile range is given by, IQR = Q3 — Q1\n",
        "\n",
        "Upper limit = Q3+1.5*IQR\n",
        "\n",
        "Lower limit = Q1–1.5*IQR"
      ]
    },
    {
      "cell_type": "markdown",
      "metadata": {
        "id": "40KHu8jfVU-2"
      },
      "source": [
        "![](\n",
        "https://drive.google.com/uc?export=view&id=1Co72C3c03NmxMSXaLVOKb6HDlr10X6Mf)"
      ]
    },
    {
      "cell_type": "code",
      "metadata": {
        "id": "4eCL6XlWHdBe"
      },
      "source": [
        "#[13]\n",
        "\n",
        "#outliers with boxplot\n",
        "for column in MiceImputed :\n",
        "    if MiceImputed [column].dtype in ['int64', 'float64']:\n",
        "        plt.figure()\n",
        "        MiceImputed .boxplot(column = [column])"
      ],
      "execution_count": null,
      "outputs": []
    },
    {
      "cell_type": "markdown",
      "metadata": {
        "id": "tfLDiEbWIIv8"
      },
      "source": [
        "These are some box plots but in actual it will show all column features box plots. We also need to know if there are any outliers in the target column or not.[13]"
      ]
    },
    {
      "cell_type": "code",
      "metadata": {
        "colab": {
          "base_uri": "https://localhost:8080/",
          "height": 419
        },
        "id": "HopJ9joZITFB",
        "outputId": "a71ff874-fb61-4e47-81ef-9e7d0266294f"
      },
      "source": [
        "MiceImputed"
      ],
      "execution_count": null,
      "outputs": [
        {
          "output_type": "execute_result",
          "data": {
            "text/html": [
              "<div>\n",
              "<style scoped>\n",
              "    .dataframe tbody tr th:only-of-type {\n",
              "        vertical-align: middle;\n",
              "    }\n",
              "\n",
              "    .dataframe tbody tr th {\n",
              "        vertical-align: top;\n",
              "    }\n",
              "\n",
              "    .dataframe thead th {\n",
              "        text-align: right;\n",
              "    }\n",
              "</style>\n",
              "<table border=\"1\" class=\"dataframe\">\n",
              "  <thead>\n",
              "    <tr style=\"text-align: right;\">\n",
              "      <th></th>\n",
              "      <th>MRNO</th>\n",
              "      <th>AGE</th>\n",
              "      <th>GENDER</th>\n",
              "      <th>DISTRICT</th>\n",
              "      <th>TEHSIL</th>\n",
              "      <th>REPORT_VERIFIED</th>\n",
              "      <th>CPT_ID</th>\n",
              "      <th>RESULT_VALUE</th>\n",
              "      <th>CPT_ID.1</th>\n",
              "      <th>RESULT_TEXT</th>\n",
              "    </tr>\n",
              "  </thead>\n",
              "  <tbody>\n",
              "    <tr>\n",
              "      <th>0</th>\n",
              "      <td>0.893023</td>\n",
              "      <td>0.30</td>\n",
              "      <td>0.5</td>\n",
              "      <td>0.000000</td>\n",
              "      <td>1.000000</td>\n",
              "      <td>0.174176</td>\n",
              "      <td>0.481995</td>\n",
              "      <td>1.0</td>\n",
              "      <td>0.0</td>\n",
              "      <td>0.0</td>\n",
              "    </tr>\n",
              "    <tr>\n",
              "      <th>1</th>\n",
              "      <td>0.893454</td>\n",
              "      <td>0.41</td>\n",
              "      <td>0.5</td>\n",
              "      <td>0.000000</td>\n",
              "      <td>0.018519</td>\n",
              "      <td>0.947134</td>\n",
              "      <td>1.000000</td>\n",
              "      <td>1.0</td>\n",
              "      <td>0.0</td>\n",
              "      <td>0.0</td>\n",
              "    </tr>\n",
              "    <tr>\n",
              "      <th>2</th>\n",
              "      <td>0.893454</td>\n",
              "      <td>0.41</td>\n",
              "      <td>0.5</td>\n",
              "      <td>0.000000</td>\n",
              "      <td>0.018519</td>\n",
              "      <td>0.947090</td>\n",
              "      <td>0.481995</td>\n",
              "      <td>1.0</td>\n",
              "      <td>0.0</td>\n",
              "      <td>0.0</td>\n",
              "    </tr>\n",
              "    <tr>\n",
              "      <th>3</th>\n",
              "      <td>0.888200</td>\n",
              "      <td>0.23</td>\n",
              "      <td>0.5</td>\n",
              "      <td>0.000000</td>\n",
              "      <td>0.018519</td>\n",
              "      <td>0.476987</td>\n",
              "      <td>0.481995</td>\n",
              "      <td>1.0</td>\n",
              "      <td>0.0</td>\n",
              "      <td>0.0</td>\n",
              "    </tr>\n",
              "    <tr>\n",
              "      <th>4</th>\n",
              "      <td>0.888286</td>\n",
              "      <td>0.40</td>\n",
              "      <td>0.5</td>\n",
              "      <td>0.000000</td>\n",
              "      <td>0.018519</td>\n",
              "      <td>0.552535</td>\n",
              "      <td>0.481995</td>\n",
              "      <td>1.0</td>\n",
              "      <td>0.0</td>\n",
              "      <td>0.0</td>\n",
              "    </tr>\n",
              "    <tr>\n",
              "      <th>...</th>\n",
              "      <td>...</td>\n",
              "      <td>...</td>\n",
              "      <td>...</td>\n",
              "      <td>...</td>\n",
              "      <td>...</td>\n",
              "      <td>...</td>\n",
              "      <td>...</td>\n",
              "      <td>...</td>\n",
              "      <td>...</td>\n",
              "      <td>...</td>\n",
              "    </tr>\n",
              "    <tr>\n",
              "      <th>13513</th>\n",
              "      <td>0.627562</td>\n",
              "      <td>0.84</td>\n",
              "      <td>0.5</td>\n",
              "      <td>0.000000</td>\n",
              "      <td>0.018519</td>\n",
              "      <td>0.372402</td>\n",
              "      <td>0.633636</td>\n",
              "      <td>1.0</td>\n",
              "      <td>0.0</td>\n",
              "      <td>1.0</td>\n",
              "    </tr>\n",
              "    <tr>\n",
              "      <th>8974</th>\n",
              "      <td>0.064083</td>\n",
              "      <td>0.09</td>\n",
              "      <td>0.5</td>\n",
              "      <td>0.000000</td>\n",
              "      <td>0.018519</td>\n",
              "      <td>0.468029</td>\n",
              "      <td>1.000000</td>\n",
              "      <td>1.0</td>\n",
              "      <td>0.0</td>\n",
              "      <td>1.0</td>\n",
              "    </tr>\n",
              "    <tr>\n",
              "      <th>18480</th>\n",
              "      <td>0.408010</td>\n",
              "      <td>0.20</td>\n",
              "      <td>0.5</td>\n",
              "      <td>0.000000</td>\n",
              "      <td>0.018519</td>\n",
              "      <td>0.545254</td>\n",
              "      <td>0.481995</td>\n",
              "      <td>1.0</td>\n",
              "      <td>0.0</td>\n",
              "      <td>1.0</td>\n",
              "    </tr>\n",
              "    <tr>\n",
              "      <th>20294</th>\n",
              "      <td>0.060034</td>\n",
              "      <td>0.72</td>\n",
              "      <td>0.0</td>\n",
              "      <td>0.567568</td>\n",
              "      <td>0.666667</td>\n",
              "      <td>0.456820</td>\n",
              "      <td>1.000000</td>\n",
              "      <td>1.0</td>\n",
              "      <td>0.0</td>\n",
              "      <td>1.0</td>\n",
              "    </tr>\n",
              "    <tr>\n",
              "      <th>1407</th>\n",
              "      <td>0.456072</td>\n",
              "      <td>0.87</td>\n",
              "      <td>0.5</td>\n",
              "      <td>0.081081</td>\n",
              "      <td>0.148148</td>\n",
              "      <td>0.754865</td>\n",
              "      <td>1.000000</td>\n",
              "      <td>1.0</td>\n",
              "      <td>0.0</td>\n",
              "      <td>1.0</td>\n",
              "    </tr>\n",
              "  </tbody>\n",
              "</table>\n",
              "<p>45512 rows × 10 columns</p>\n",
              "</div>"
            ],
            "text/plain": [
              "           MRNO   AGE  GENDER  ...  RESULT_VALUE  CPT_ID.1  RESULT_TEXT\n",
              "0      0.893023  0.30     0.5  ...           1.0       0.0          0.0\n",
              "1      0.893454  0.41     0.5  ...           1.0       0.0          0.0\n",
              "2      0.893454  0.41     0.5  ...           1.0       0.0          0.0\n",
              "3      0.888200  0.23     0.5  ...           1.0       0.0          0.0\n",
              "4      0.888286  0.40     0.5  ...           1.0       0.0          0.0\n",
              "...         ...   ...     ...  ...           ...       ...          ...\n",
              "13513  0.627562  0.84     0.5  ...           1.0       0.0          1.0\n",
              "8974   0.064083  0.09     0.5  ...           1.0       0.0          1.0\n",
              "18480  0.408010  0.20     0.5  ...           1.0       0.0          1.0\n",
              "20294  0.060034  0.72     0.0  ...           1.0       0.0          1.0\n",
              "1407   0.456072  0.87     0.5  ...           1.0       0.0          1.0\n",
              "\n",
              "[45512 rows x 10 columns]"
            ]
          },
          "metadata": {},
          "execution_count": 16
        }
      ]
    },
    {
      "cell_type": "code",
      "metadata": {
        "colab": {
          "base_uri": "https://localhost:8080/",
          "height": 283
        },
        "id": "dDwU0YAJILPT",
        "outputId": "1ae57bae-9da3-46b7-baec-8899c4cebf33"
      },
      "source": [
        "MiceImputed.boxplot(column = ['RESULT_TEXT'])"
      ],
      "execution_count": null,
      "outputs": [
        {
          "output_type": "execute_result",
          "data": {
            "text/plain": [
              "<matplotlib.axes._subplots.AxesSubplot at 0x7f96cb9f1ad0>"
            ]
          },
          "metadata": {},
          "execution_count": 17
        },
        {
          "output_type": "display_data",
          "data": {
            "image/png": "[encoded data removed]",
            "text/plain": [
              "<Figure size 432x288 with 1 Axes>"
            ]
          },
          "metadata": {
            "needs_background": "light"
          }
        }
      ]
    },
    {
      "cell_type": "markdown",
      "metadata": {
        "id": "GpsOlGI0IiIZ"
      },
      "source": [
        "After checking all these, we don’t need to take all the features as the independent variable and the price will be the target variable. So, we will choose some features that are most important for house prediction and making new data for our model.[13]"
      ]
    },
    {
      "cell_type": "markdown",
      "metadata": {
        "id": "xiSoTDtMVj-s"
      },
      "source": [
        "2. **Cook’s Distance**\n",
        "\n",
        "This is a multivariate approach for finding influential points. These points may or may not be outliers as explained above, but they have the power to influence the regression model. We will see their impact in the later part of the blog.\n",
        "This method is used only for linear regression and therefore has a limited application. Cook’s distance measures the effect of deleting a given observation. It’s represents the sum of all the changes in the regression model when observation “i” is removed from it.\n"
      ]
    },
    {
      "cell_type": "markdown",
      "metadata": {
        "id": "LFq1ZvGiVr88"
      },
      "source": [
        "3. **Z-Score**\n",
        "\n",
        "This method assumes that the variable has a Gaussian distribution. It represents the number of standard deviations an observation is away from the mean:\n",
        "\n",
        "Here, we normally define outliers as points whose modulus of z-score is greater than a threshold value. This threshold value is usually greater than 2 (3 is a common value).\n",
        "\n",
        "All the above methods are good for initial analysis of data, but they don’t have much value in multivariate settings or with high dimensional data. For such datasets, we have to use advanced methods like PCA, LOF (Local Outlier Factor) & HiCS: High Contrast Subspaces for Density-Based Outlier Ranking.\n"
      ]
    },
    {
      "cell_type": "markdown",
      "source": [
        "Z-score tells us how many standard deviations above or below the mean a datapoint lies. It assumes that the datapoints follow a gaussian distribution[18]"
      ],
      "metadata": {
        "id": "6VP-j-nZOMy4"
      }
    },
    {
      "cell_type": "markdown",
      "source": [
        "-Z-Score = (X-mean) / Standard deviation"
      ],
      "metadata": {
        "id": "Qdr8K8AUOVaP"
      }
    },
    {
      "cell_type": "markdown",
      "source": [
        "From the above normal distribtion figure we can we that:\n",
        "- 68% of the data lies within 1 standard deviation.\n",
        "- 95% of the data lies within 2 standard deviations.\n",
        "- 99.7% of the data lies within 3 standard deviations.\n",
        "\n",
        "Since majority of the datapoints (99.7%) lie within 3 standard deviations above or below the mean, any Z-score more than +3 or any Z-score less than -3 is considered as an outlier.[18]"
      ],
      "metadata": {
        "id": "3VSukzEnOaAX"
      }
    },
    {
      "cell_type": "markdown",
      "metadata": {
        "id": "NL0Q2JbrWw5s"
      },
      "source": [
        "![](\n",
        "https://drive.google.com/uc?export=view&id=1E2H2NHulGaphunf9oVV_mVRCbgoS1I3e)"
      ]
    },
    {
      "cell_type": "markdown",
      "metadata": {
        "id": "M7gu5ktGW74j"
      },
      "source": [
        "![](\n",
        "https://drive.google.com/uc?export=view&id=1SQkD3XMh-VTNY2fe-mcDaVepK1IJNaP7)"
      ]
    },
    {
      "cell_type": "markdown",
      "source": [
        "![](\n",
        "https://drive.google.com/uc?export=view&id=1GxzFoNg1XpORg9O8c46TvFvFsQ4WT3_e)"
      ],
      "metadata": {
        "id": "1JV1BQRdR_Mg"
      }
    },
    {
      "cell_type": "markdown",
      "metadata": {
        "id": "8tq6yjKx4jg8"
      },
      "source": [
        "Outliers can be dangerous as they can skew your model and give you predictions that are biased and erroneous.\n",
        "The best way to find outliers is to use the describe function and look at information such as maximum and mean."
      ]
    },
    {
      "cell_type": "code",
      "metadata": {
        "id": "FseYShGQwc1n"
      },
      "source": [
        "# Detecting outliers with IQR\n",
        "Q1 = MiceImputed.quantile(0.25)\n",
        "Q3 = MiceImputed.quantile(0.75)\n",
        "IQR = Q3 - Q1\n",
        "print(IQR)"
      ],
      "execution_count": null,
      "outputs": []
    },
    {
      "cell_type": "code",
      "metadata": {
        "id": "aLYT9hGawiaP"
      },
      "source": [
        "# Removing outliers from the dataset\n",
        "MiceImputed = MiceImputed[~((MiceImputed < (Q1 - 1.5 * IQR)) |(MiceImputed > (Q3 + 1.5 * IQR))).any(axis=1)]\n",
        "MiceImputed.shape"
      ],
      "execution_count": null,
      "outputs": []
    },
    {
      "cell_type": "markdown",
      "metadata": {
        "id": "iQL0D8K24wse"
      },
      "source": [
        "You can also plot a histogram and look at the distribution of your data.\n",
        "\n",
        "In this histogram, you can see that most of the data is around 0 to 5000."
      ]
    },
    {
      "cell_type": "code",
      "metadata": {
        "colab": {
          "base_uri": "https://localhost:8080/",
          "height": 388
        },
        "id": "c34xlum141Cl",
        "outputId": "176b3f71-eda4-484d-9cc7-d3ed06100b84"
      },
      "source": [
        "plt.figure(figsize=(10, 6))\n",
        "MiceImputed['RESULT_TEXT'].hist(bins=100)"
      ],
      "execution_count": null,
      "outputs": [
        {
          "output_type": "execute_result",
          "data": {
            "text/plain": [
              "<matplotlib.axes._subplots.AxesSubplot at 0x7f573a604290>"
            ]
          },
          "metadata": {},
          "execution_count": 30
        },
        {
          "output_type": "display_data",
          "data": {
            "image/png": "[encoded data removed]",
            "text/plain": [
              "<Figure size 720x432 with 1 Axes>"
            ]
          },
          "metadata": {
            "needs_background": "light"
          }
        }
      ]
    },
    {
      "cell_type": "markdown",
      "metadata": {
        "id": "HqyFTeET5TZu"
      },
      "source": [
        "A boxplot is also useful in detecting outliers.\n",
        "\n",
        "As you can see, the price column has multiple data points that are outliers (above of the maximum in the boxplot)"
      ]
    },
    {
      "cell_type": "code",
      "metadata": {
        "id": "0MhlqVJ75ZEF"
      },
      "source": [
        "plt.figure(figsize=(10, 6))\n",
        "MiceImputed.boxplot(column=['RESULT_TEXT'])"
      ],
      "execution_count": null,
      "outputs": []
    },
    {
      "cell_type": "markdown",
      "metadata": {
        "id": "Qx-t0PnF527E"
      },
      "source": [
        "For categorical data, you can plot a bar chart to see whether a particular category to view the count of the categories.\n",
        "\n",
        "Outliers in categorical data is tricky, because you have to determine whether it’s appropriate to call it an outlier based on context.\n",
        "\n",
        "Some outliers are more obvious. Let’s say there’s an experiment done where 1000 people choose between a glass of water and a glass of milk. If the final result is 1 person who chose a glass of water, and 999 people choosing a glass of milk, that 1 person can be considered an outlier.\n",
        "\n",
        "However, in some cases, outliers depend on context. In my example, you see that Manhattan and Brooklyn has significantly more data than Staten Island. This doesn’t count as an outlier, since Manhattan and Brooklyn has a higher housing density as compared to Staten Island."
      ]
    },
    {
      "cell_type": "code",
      "metadata": {
        "colab": {
          "base_uri": "https://localhost:8080/",
          "height": 419
        },
        "id": "7SU6nEUR6H83",
        "outputId": "47574fc4-9dd8-4396-d4f7-e5951071196b"
      },
      "source": [
        "MiceImputed"
      ],
      "execution_count": null,
      "outputs": [
        {
          "output_type": "execute_result",
          "data": {
            "text/html": [
              "<div>\n",
              "<style scoped>\n",
              "    .dataframe tbody tr th:only-of-type {\n",
              "        vertical-align: middle;\n",
              "    }\n",
              "\n",
              "    .dataframe tbody tr th {\n",
              "        vertical-align: top;\n",
              "    }\n",
              "\n",
              "    .dataframe thead th {\n",
              "        text-align: right;\n",
              "    }\n",
              "</style>\n",
              "<table border=\"1\" class=\"dataframe\">\n",
              "  <thead>\n",
              "    <tr style=\"text-align: right;\">\n",
              "      <th></th>\n",
              "      <th>MRNO</th>\n",
              "      <th>AGE</th>\n",
              "      <th>GENDER</th>\n",
              "      <th>DISTRICT</th>\n",
              "      <th>TEHSIL</th>\n",
              "      <th>REPORT_VERIFIED</th>\n",
              "      <th>CPT_ID</th>\n",
              "      <th>RESULT_VALUE</th>\n",
              "      <th>CPT_ID.1</th>\n",
              "      <th>RESULT_TEXT</th>\n",
              "    </tr>\n",
              "  </thead>\n",
              "  <tbody>\n",
              "    <tr>\n",
              "      <th>1</th>\n",
              "      <td>10373.0</td>\n",
              "      <td>41.0</td>\n",
              "      <td>1.0</td>\n",
              "      <td>0.0</td>\n",
              "      <td>1.0</td>\n",
              "      <td>21463.0</td>\n",
              "      <td>1.000000e+15</td>\n",
              "      <td>1.0</td>\n",
              "      <td>1.000000e+15</td>\n",
              "      <td>0.0</td>\n",
              "    </tr>\n",
              "    <tr>\n",
              "      <th>2</th>\n",
              "      <td>10373.0</td>\n",
              "      <td>41.0</td>\n",
              "      <td>1.0</td>\n",
              "      <td>0.0</td>\n",
              "      <td>1.0</td>\n",
              "      <td>21462.0</td>\n",
              "      <td>1.000000e+15</td>\n",
              "      <td>1.0</td>\n",
              "      <td>1.000000e+15</td>\n",
              "      <td>0.0</td>\n",
              "    </tr>\n",
              "    <tr>\n",
              "      <th>3</th>\n",
              "      <td>10312.0</td>\n",
              "      <td>23.0</td>\n",
              "      <td>1.0</td>\n",
              "      <td>0.0</td>\n",
              "      <td>1.0</td>\n",
              "      <td>10809.0</td>\n",
              "      <td>1.000000e+15</td>\n",
              "      <td>1.0</td>\n",
              "      <td>1.000000e+15</td>\n",
              "      <td>0.0</td>\n",
              "    </tr>\n",
              "    <tr>\n",
              "      <th>4</th>\n",
              "      <td>10313.0</td>\n",
              "      <td>40.0</td>\n",
              "      <td>1.0</td>\n",
              "      <td>0.0</td>\n",
              "      <td>1.0</td>\n",
              "      <td>12521.0</td>\n",
              "      <td>1.000000e+15</td>\n",
              "      <td>1.0</td>\n",
              "      <td>1.000000e+15</td>\n",
              "      <td>0.0</td>\n",
              "    </tr>\n",
              "    <tr>\n",
              "      <th>5</th>\n",
              "      <td>10315.0</td>\n",
              "      <td>26.0</td>\n",
              "      <td>0.0</td>\n",
              "      <td>0.0</td>\n",
              "      <td>1.0</td>\n",
              "      <td>2063.0</td>\n",
              "      <td>1.000000e+15</td>\n",
              "      <td>1.0</td>\n",
              "      <td>1.000000e+15</td>\n",
              "      <td>0.0</td>\n",
              "    </tr>\n",
              "    <tr>\n",
              "      <th>...</th>\n",
              "      <td>...</td>\n",
              "      <td>...</td>\n",
              "      <td>...</td>\n",
              "      <td>...</td>\n",
              "      <td>...</td>\n",
              "      <td>...</td>\n",
              "      <td>...</td>\n",
              "      <td>...</td>\n",
              "      <td>...</td>\n",
              "      <td>...</td>\n",
              "    </tr>\n",
              "    <tr>\n",
              "      <th>12343</th>\n",
              "      <td>3001.0</td>\n",
              "      <td>65.0</td>\n",
              "      <td>0.0</td>\n",
              "      <td>0.0</td>\n",
              "      <td>1.0</td>\n",
              "      <td>3669.0</td>\n",
              "      <td>1.000000e+15</td>\n",
              "      <td>1.0</td>\n",
              "      <td>1.000000e+15</td>\n",
              "      <td>1.0</td>\n",
              "    </tr>\n",
              "    <tr>\n",
              "      <th>15056</th>\n",
              "      <td>2531.0</td>\n",
              "      <td>29.0</td>\n",
              "      <td>0.0</td>\n",
              "      <td>0.0</td>\n",
              "      <td>1.0</td>\n",
              "      <td>19534.0</td>\n",
              "      <td>1.000000e+15</td>\n",
              "      <td>1.0</td>\n",
              "      <td>1.000000e+15</td>\n",
              "      <td>1.0</td>\n",
              "    </tr>\n",
              "    <tr>\n",
              "      <th>13513</th>\n",
              "      <td>7286.0</td>\n",
              "      <td>84.0</td>\n",
              "      <td>1.0</td>\n",
              "      <td>0.0</td>\n",
              "      <td>1.0</td>\n",
              "      <td>8439.0</td>\n",
              "      <td>1.000000e+15</td>\n",
              "      <td>1.0</td>\n",
              "      <td>1.000000e+15</td>\n",
              "      <td>1.0</td>\n",
              "    </tr>\n",
              "    <tr>\n",
              "      <th>8974</th>\n",
              "      <td>744.0</td>\n",
              "      <td>9.0</td>\n",
              "      <td>1.0</td>\n",
              "      <td>0.0</td>\n",
              "      <td>1.0</td>\n",
              "      <td>10606.0</td>\n",
              "      <td>1.000000e+15</td>\n",
              "      <td>1.0</td>\n",
              "      <td>1.000000e+15</td>\n",
              "      <td>1.0</td>\n",
              "    </tr>\n",
              "    <tr>\n",
              "      <th>18480</th>\n",
              "      <td>4737.0</td>\n",
              "      <td>20.0</td>\n",
              "      <td>1.0</td>\n",
              "      <td>0.0</td>\n",
              "      <td>1.0</td>\n",
              "      <td>12356.0</td>\n",
              "      <td>1.000000e+15</td>\n",
              "      <td>1.0</td>\n",
              "      <td>1.000000e+15</td>\n",
              "      <td>1.0</td>\n",
              "    </tr>\n",
              "  </tbody>\n",
              "</table>\n",
              "<p>34554 rows × 10 columns</p>\n",
              "</div>"
            ],
            "text/plain": [
              "          MRNO   AGE  GENDER  ...  RESULT_VALUE      CPT_ID.1  RESULT_TEXT\n",
              "1      10373.0  41.0     1.0  ...           1.0  1.000000e+15          0.0\n",
              "2      10373.0  41.0     1.0  ...           1.0  1.000000e+15          0.0\n",
              "3      10312.0  23.0     1.0  ...           1.0  1.000000e+15          0.0\n",
              "4      10313.0  40.0     1.0  ...           1.0  1.000000e+15          0.0\n",
              "5      10315.0  26.0     0.0  ...           1.0  1.000000e+15          0.0\n",
              "...        ...   ...     ...  ...           ...           ...          ...\n",
              "12343   3001.0  65.0     0.0  ...           1.0  1.000000e+15          1.0\n",
              "15056   2531.0  29.0     0.0  ...           1.0  1.000000e+15          1.0\n",
              "13513   7286.0  84.0     1.0  ...           1.0  1.000000e+15          1.0\n",
              "8974     744.0   9.0     1.0  ...           1.0  1.000000e+15          1.0\n",
              "18480   4737.0  20.0     1.0  ...           1.0  1.000000e+15          1.0\n",
              "\n",
              "[34554 rows x 10 columns]"
            ]
          },
          "metadata": {},
          "execution_count": 32
        }
      ]
    },
    {
      "cell_type": "code",
      "metadata": {
        "id": "-hObhvoi6AUb"
      },
      "source": [
        "plt.figure(figsize=(10, 6))\n",
        "MiceImputed['DISTRICT'].value_counts().plot.bar()"
      ],
      "execution_count": null,
      "outputs": []
    },
    {
      "cell_type": "markdown",
      "source": [
        "**1. IQR Method**"
      ],
      "metadata": {
        "id": "F8aIWuRlM8_y"
      }
    },
    {
      "cell_type": "markdown",
      "source": [
        "Inter Quartile Range (IQR) is the middle 50% of the dataset. In other words, it is the difference between the third quartile(75th percentile) and first quartile(25th percentile) value of the dataset.\n",
        "\n",
        "- IQR = Q3 -Q1\n",
        "- Lower Bound = Q1–1.5*IQR\n",
        "- Upper Bound = Q3+1.5*IQR\n",
        "The IQR finds the lower and upper bound to identify the outliers. Any value which is 1.5 times above or below these thresholds is identified as an outlier [18]"
      ],
      "metadata": {
        "id": "8yrjC6zVNCk6"
      }
    },
    {
      "cell_type": "markdown",
      "source": [
        "![](https://drive.google.com/uc?export=view&id=1NfCaTr8uAB_e7EtnO0H5N8EAkSl9m-Ke)"
      ],
      "metadata": {
        "id": "IjmzKuTpNPZ6"
      }
    },
    {
      "cell_type": "markdown",
      "source": [
        "**4. DBSCAN (Density-Based Spatial Clustering of Applications with Noise)**\n",
        "\n",
        "DBSCAN is a clustering method that is used to separate clusters of high denstiy from the clusters of low density. It basically divides the datapoints into Core Points, Border Points or Noise Points. Here Noise points are are the outliers.[18]"
      ],
      "metadata": {
        "id": "9XAI544_O-jN"
      }
    },
    {
      "cell_type": "markdown",
      "source": [
        "![](https://drive.google.com/uc?export=view&id=1qf6z8JdPyAK7-EqLqnNHiGkvyMlnRj0R)"
      ],
      "metadata": {
        "id": "GA5P0wnCRtT6"
      }
    },
    {
      "cell_type": "markdown",
      "source": [
        "**Hypothesis Testing** [18]\n",
        "\n",
        "We can also use hypothesis testing to identify the outliers in the dataset. Some of the famous hypothesis tests for outlier detection include:\n",
        "- Grubbs’ test\n",
        "- Chi –square test\n",
        "- Dixon’s Q test"
      ],
      "metadata": {
        "id": "WS2tIUWzSi9g"
      }
    },
    {
      "cell_type": "markdown",
      "source": [
        "Each of these above mentioned tests use different methods to identify outliers. In Grubb’s test, we assume that:\n",
        "- Null hypothesis: All datapoints in the sample were drawn from a single population that follows the same normal distribution.\n",
        "- Alternate hypothesis: One datapoint in the sample was not drawn from the same normally distributed population as the other datapoints.\n",
        "- If the p-value is less than the significance level, we can reject the null hypothesis and conclude that one of the values is an outlier."
      ],
      "metadata": {
        "id": "RUtPUk7wSuhf"
      }
    },
    {
      "cell_type": "markdown",
      "metadata": {
        "id": "0fOVRcZP6aTT"
      },
      "source": [
        "**Dealing with outliers**"
      ]
    },
    {
      "cell_type": "markdown",
      "source": [
        "So now that we know how and why to detect outliers, the next question that arises is that what to do with these outliers.\n",
        "One simple way is to just drop the outlier, but this is not correct for all scenarios. based on the use case we need to decide whether to drop an outlier or not.[18]\n"
      ],
      "metadata": {
        "id": "ghhnkz2gUuBX"
      }
    },
    {
      "cell_type": "markdown",
      "metadata": {
        "id": "gZfdOd6I6ccB"
      },
      "source": [
        "Dealing with outliers is similar to removing missing values, the only difference is the way you find outliers.\n",
        "\n",
        "To categorize numerical values as outliers, there are statistical techniques like using the standard deviation and the Interquartile range. You can refer to this article for code examples to do that.\n",
        "\n",
        "For categorical values, if they have very low frequency (like Staten island in the example above), it still may become a problem for your model. Depending on context and nature of the data, you can choose to group them into one category, for example “Others”. This way your model will be less biased and you’re not losing any information."
      ]
    },
    {
      "cell_type": "markdown",
      "source": [
        "**When to drop an outlier?**[18]\n",
        "\n",
        "- When we know for sure that the outlier is completely wrong.\n",
        "- When we have large amount of data.\n",
        "- When we can revert back to the original data, if in later stage we find that the dropping of the outlier wasn’t a good idea."
      ],
      "metadata": {
        "id": "b8S-YwBRU29K"
      }
    },
    {
      "cell_type": "markdown",
      "source": [
        "**When not to drop an outlier?**[18]\n",
        "\n",
        "- When there a lot of outliers.\n",
        "- When dealing with a sensitive critical use case."
      ],
      "metadata": {
        "id": "Y7bAfCPEVHZX"
      }
    },
    {
      "cell_type": "markdown",
      "source": [
        "**What to do with the undroppable outliers?**[18]\n",
        "\n",
        "- Impuation: We can replace the outlier values with the mean, median or mode value based on the use case.\n",
        "- Quantile-based Flooring and Capping: In this technique,we can do the flooring (e.g., replacing with the 10th percentile) for the lower values and capping (e.g.,replacing with the 90th percentile) for the higher values."
      ],
      "metadata": {
        "id": "lK7qPLVUVQKc"
      }
    },
    {
      "cell_type": "markdown",
      "metadata": {
        "id": "YAFiOSxhxeYd"
      },
      "source": [
        "# **Data spliting**"
      ]
    },
    {
      "cell_type": "markdown",
      "metadata": {
        "id": "BHMtSzwOGSWe"
      },
      "source": [
        "![](https://drive.google.com/uc?export=view&id=168Enbhun0wZ6d9cCr6ef_zUz-P5m3L9v)"
      ]
    },
    {
      "cell_type": "code",
      "metadata": {
        "id": "Vf0zg0EIxjvt"
      },
      "source": [
        "X=MiceImputed.drop('RESULT_TEXT',axis=1)"
      ],
      "execution_count": null,
      "outputs": []
    },
    {
      "cell_type": "code",
      "metadata": {
        "id": "vlZjN0iUxwvk"
      },
      "source": [
        "y=MiceImputed[['RESULT_TEXT']]\n"
      ],
      "execution_count": null,
      "outputs": []
    },
    {
      "cell_type": "code",
      "metadata": {
        "id": "h-eJxgVEx57E"
      },
      "source": [
        "from sklearn.model_selection import train_test_split\n",
        "X_train, X_test, y_train, y_test = train_test_split(X, y, test_size=0.30, random_state=100)"
      ],
      "execution_count": null,
      "outputs": []
    },
    {
      "cell_type": "code",
      "metadata": {
        "id": "x_ZFJl91-Y-J"
      },
      "source": [
        "from sklearn.model_selection import train_test_split\n",
        "X_train,X_test,y_train,y_test=train_test_split(df[['sex','embarked','alone','pclass']],\n",
        "                                              df['survived'],test_size=0.3,random_state=100)"
      ],
      "execution_count": null,
      "outputs": []
    },
    {
      "cell_type": "code",
      "source": [
        "X = df[['age', 'sex', 'cp', 'trestbps', 'chol', 'fbs', 'restecg', 'thalach', 'exang', 'oldpeak', 'slope', 'ca', 'thal']]\n",
        "y = df['target']\n",
        "X_train, X_test, y_train, y_test = train_test_split(X, y, test_size=0.3, random_state=4"
      ],
      "metadata": {
        "id": "yFtrk3jqUref"
      },
      "execution_count": null,
      "outputs": []
    },
    {
      "cell_type": "markdown",
      "metadata": {
        "id": "rMZ3vXkAHyst"
      },
      "source": [
        "# **References**"
      ]
    },
    {
      "cell_type": "markdown",
      "metadata": {
        "id": "uOu2ttBhIqPr"
      },
      "source": [
        "\n",
        "\n",
        "[1-Fill Missing Values in a Dataset using Python](https://thecleverprogrammer.com/2021/05/29/fill-missing-values-in-a-dataset-using-python/)\n",
        "\n",
        "[2- Data Cleaning with Python](https://medium.com/bitgrit-data-science-publication/data-cleaning-with-python-f6bc3da64e45)\n",
        "\n",
        "[3- SMOTE using Python](https://towardsdatascience.com/applying-smote-for-class-imbalance-with-just-a-few-lines-of-code-python-cdf603e58688)\n",
        "\n",
        "[4-Protecting your Money: Detecting Credit Card Fraud with ML/DL](https://towardsdatascience.com/protecting-your-money-detecting-credit-card-fraud-with-ml-dl-2c4a9b9a0779)\n",
        "\n",
        "[5-How to Make Your Machine Learning Models Robust to Outliers](https://heartbeat.comet.ml/how-to-make-your-machine-learning-models-robust-to-outliers-44d404067d07)\n",
        "\n",
        "[6-What Is Encoding? And Its Importance in Data Science!](https://medium.datadriveninvestor.com/what-is-encoding-and-its-importance-in-data-science-6a2b0cce8e8e)\n",
        "\n",
        "[7-Nominal And Ordinal Encoding In Data Science!](https://medium.com/nerd-for-tech/nominal-and-ordinal-encoding-in-data-science-c93872601f16)\n",
        "\n",
        "[8-imbalanced-learn documentation](https://imbalanced-learn.org/stable/user_guide.html)\n",
        "\n",
        "[Feature Engineering for Categorical Data](https://medium.com/geekculture/feature-engineering-for-categorical-data-a77a04b3308)\n",
        "\n",
        "[Handling Imbalanced Datasets With Oversampling Techniques. It’s Pros & Cons.](https://medium.com/analytics-vidhya/handling-imbalanced-datasets-with-oversampling-techniques-its-pros-cons-ba9f36ac5b71)\n",
        "\n",
        "[8-Overcoming Imbalanced Dataset](https://xzz201920.medium.com/imbalanced-dataset-26732a333cf7)\n",
        "\n",
        "[9-How to handle Categorical variables?](https://medium.com/geekculture/how-to-handle-categorical-variables-7c1ee198c55c)\n",
        "\n",
        "[10-Five Cool Python Libraries for Data Science](https://pub.towardsai.net/five-cool-python-libraries-for-data-science-7f1fce402b90)\n",
        "\n",
        "[11-Scikit-Learn (Python): 6 Useful Tricks for Data Scientists](https://levelup.gitconnected.com/scikit-learn-python-6-useful-tricks-for-data-scientists-1a0a502a6aa3)\n",
        "\n",
        "[12-Feature Scaling with Python’s Scikit-learn](https://pub.towardsai.net/feature-scaling-with-pythons-scikit-learn-10ab42119ae0)\n",
        "\n",
        "[13-Regression Algorithm to Predict House Prices in Python](https://pub.towardsai.net/regression-algorithm-to-predict-house-prices-in-python-7722f2d76548)\n",
        "\n",
        "[14-One Hot Encode in Machine Learning](https://debuggercafe.com/one-hot-encode-in-machine-learning/)\n",
        "\n",
        "[15-What is skewness in data? How to fix skewed data in python?](https://yashowardhanshinde.medium.com/what-is-skewness-in-data-how-to-fix-skewed-data-in-python-a792e98c0fa6)\n",
        "\n",
        "[16- 9 Seaborn Datasets for Data Science + ML Beginners](https://python.plainenglish.io/9-datasets-for-data-science-ml-beginners-cfb57df53fda)\n",
        "\n",
        "[17-How to Deal with an Imbalanced Dataset in Machine Learning](https://towardsdatascience.com/how-to-deal-with-an-imbalanced-dataset-in-machine-learning-4f89a1967868)\n",
        "\n",
        "[18- Outlier Detection in Machine Learning](https://medium.com/@listontellis/outlier-detection-in-machine-learning-382557c775aa)\n",
        "\n",
        "\n",
        "[19- Essential guide to Improve Imbalanced Data Classification Model Performance](https://medium.com/geekculture/essential-guide-to-improve-imbalanced-data-classification-model-performance-c8cf0125b731)\n",
        "\n",
        "[20-Python Tricks for Data Science\n",
        "](https://medium.com/analytics-vidhya/python-tricks-for-data-science-fd038ab838a)\n",
        "\n",
        "[21-10 Fantastic Python Packages](https://levelup.gitconnected.com/10-fantastic-python-packages-af2a16a1183a)\n",
        "\n",
        "[22-Skewness — Everything you need to know about Skewness](https://aayushmaan1306.medium.com/skewness-everything-you-need-to-know-about-skewness-d94e88508e92)\n",
        "\n",
        "[23-Different Ways To Handle Imbalanced Dataset In Machine Learning](https://medium.com/geekculture/different-ways-to-handl-imbalanced-dataset-in-machine-learning-32c7bc350257)\n",
        "\n",
        "[5 Obscure Python Libraries Every Data Scientist Should Know](https://medium.com/analytics-vidhya/5-obscure-python-libraries-every-data-scientist-should-know-3651bf5d3be3)\n",
        "\n",
        "\n",
        "\n",
        "[Descriptive Statistics in data science -with illustrations in ‘python’](https://medium.com/analytics-vidhya/descriptive-statistics-in-data-science-with-illustrations-in-python-efd5ccc152f1)\n",
        "\n",
        "[The Ultimate Python Package to Pre-Process Data for Machine Learning](https://medium.com/swlh/the-ultimate-python-package-to-pre-process-data-for-machin-learning-c87bcc39fa66)\n",
        "\n",
        "[23 great Pandas codes for Data Scientists](https://towardsdatascience.com/23-great-pandas-codes-for-data-scientists-cca5ed9d8a38)\n",
        "\n",
        "[24-Day 13–60 days of Data Science and Machine Learning](https://medium.datadriveninvestor.com/day-13-60-days-of-data-science-and-machine-learning-52df0d8d88f)\n",
        "\n",
        "[What Is Data Preprocessing in Machine Learning, and Its Importance?](https://www.analytixlabs.co.in/blog/data-preprocessing-in-machine-learning/?fbclid=IwAR0Xg83-Uu9Ha9s1mwkJsr-QiyfjOkIiGqn7mAxFSiNs1w5B0ohD-_x5cnI#sub3.2)\n",
        "\n",
        "[3 Pandas Functions That Will Make Your Life Easier](https://towardsdatascience.com/3-pandas-functions-that-will-make-your-life-easier-4d0ce57775a1)\n",
        "\n",
        "[My top 4 functions to style the Pandas Dataframe](https://towardsdatascience.com/my-top-4-functions-to-style-the-pandas-dataframe-932cdc79be39)\n",
        "\n",
        "[How to Clean and Trim String Values in a Pandas DataFrame with Python, Pandas, and the Strip() method](https://deallen7.medium.com/how-to-clean-and-trim-string-values-in-a-pandas-dataframe-with-python-pandas-and-the-strip-c75169f0ebf2)\n",
        "\n",
        "[7 Uncommon But Useful Pandas Functions](https://towardsdatascience.com/7-uncommon-but-useful-pandas-functions-f9f772858859)\n",
        "\n",
        "[5 Obscure Python Libraries Every Data Scientist Should Know](https://medium.com/analytics-vidhya/5-obscure-python-libraries-every-data-scientist-should-know-3651bf5d3be3)\n",
        "\n",
        "[Life Cycle Of Data Science Projects!](https://medium.com/mlearning-ai/life-cycle-of-data-science-projects-a4739f6e2419)\n",
        "\n",
        "\n",
        "[3 Pandas Functions That Will Make Your Life Easier](https://towardsdatascience.com/3-pandas-functions-that-will-make-your-life-easier-4d0ce57775a1)\n",
        "\n",
        "[Different Ways To Handle Imbalanced Dataset In Machine Learning](https://medium.com/geekculture/different-ways-to-handl-imbalanced-dataset-in-machine-learning-32c7bc350257)\n",
        "\n",
        "[Cleaning a messy dataset using Python](https://medium.com/well-red/cleaning-a-messy-dataset-using-python-7d7ab0bf199b)\n",
        "\n",
        "[6.3. Preprocessing data](https://scikit-learn.org/stable/modules/preprocessing.html#preprocessing)\n",
        "\n",
        "[scikit-learn](https://scikit-learn.org/stable/)\n",
        "\n",
        "[How to Combine Multiple Datasets](https://pub.towardsai.net/how-to-combine-multiple-datasets-e78c7e1433b3)\n",
        "\n",
        "[The Ultimate Python Package to Pre-Process Data for Machine Learning](https://medium.com/swlh/the-ultimate-python-package-to-pre-process-data-for-machin-learning-c87bcc39fa66)\n",
        "\n",
        "[Data-Preprocessing with Python](https://medium.com/dataseries/data-preprocessing-with-python-3914d3e9dd30)\n",
        "\n",
        "[How to Deal with Missing Values?](https://medium.com/analytics-vidhya/how-to-deal-with-missing-values-600b70b79918)\n",
        "\n",
        "[Google Colab for Data Science Projects](https://benjaminobi.medium.com/google-colab-for-data-science-projects-7c59e45e9d32)\n",
        "\n",
        "\n",
        "[How to Deal with Categorical Features for Machine Learning](https://medium.com/analytics-vidhya/how-to-deal-with-categorical-features-for-machine-learning-17c6c160ea1)\n",
        "\n",
        "[5 pandas functions I found to be useful for specific operations](https://soulsinporto.medium.com/5-pandas-functions-i-found-to-be-useful-for-specific-transformations-a5a2af3b69c7)\n",
        "\n",
        "[7 Python Libraries to Make Automation Easy](https://python.plainenglish.io/7-python-libraries-to-make-automation-easy-aea8fb6562a7)\n",
        "\n",
        "[Z-Distribution or Z-Score Application in Machine Learning](https://medium.com/pythoneers/z-distribution-or-z-score-application-in-machine-learning-fbba081cd9fe)\n",
        "\n",
        "[How to Generate Synthetic Tabular Dataset](https://www.kdnuggets.com/2022/03/generate-tabular-synthetic-dataset.html)\n"
      ]
    }
  ]
}