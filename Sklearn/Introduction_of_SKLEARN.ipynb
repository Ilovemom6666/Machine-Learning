{
  "nbformat": 4,
  "nbformat_minor": 0,
  "metadata": {
    "colab": {
      "name": "Introduction of SKLEARN.ipynb",
      "provenance": [],
      "toc_visible": true
    },
    "kernelspec": {
      "name": "python3",
      "display_name": "Python 3"
    }
  },
  "cells": [
    {
      "cell_type": "markdown",
      "metadata": {
        "id": "2lXFVQaIPBks",
        "colab_type": "text"
      },
      "source": [
        "# **1- What is Scikit Learn**\n",
        "\n",
        "is most popular libary of machine leanring \n",
        "Scikit learn is a library used to perform machine learning in Python. Scikit learn is an open source library which is licensed under BSD and is reusable in various contexts, encouraging academic and commercial use. It provides a range of supervised and unsupervised learning algorithms in Python. Scikit learn consists of popular algorithms and libraries. Apart from that, it also contains the following packages[2]:\n",
        "\n",
        "NumPy\n",
        "Matplotlib\n",
        "SciPy (Scientific Python)\n",
        "Scikit learn is one of the attraction where we can implement machine learning using Python. It is a free machine learning library which contains simple and efficient tools for data analysis and mining purposes[1].\n",
        "\n",
        "Scikit learn comes with sample datasets, such as iris and digits. You can import the datasets and play around with them.\n"
      ]
    },
    {
      "cell_type": "markdown",
      "metadata": {
        "id": "leMVkc3Eg9rz",
        "colab_type": "text"
      },
      "source": [
        "# **2- Prepare Data for Sklearn**\n",
        "\n",
        "**Preparing data for scikit-learn**\n",
        "- scikit-learn expects a particular structure of data:\n",
        "(samples, features)\n",
        "- Make sure that your data is atleasttwo-dimensiona\n",
        "- Make sure the rst dimension is samples\n",
        "\n",
        "**If your data is not shaped properly**\n",
        "\n",
        "Ifthe axes are swapped:\n",
        "- array.T.shape\n",
        "\n",
        "**If your data is not shaped properly**\n",
        "\n",
        "If we're missing an axis, use .reshape() :\n",
        "- array.shape\n",
        "- (10,)\n",
        "- rray.reshape([-1, 1]).shape\n",
        "- (10, 1)\n",
        "- -1 will automatically llthat axis with remaining values"
      ]
    }
  ]
}