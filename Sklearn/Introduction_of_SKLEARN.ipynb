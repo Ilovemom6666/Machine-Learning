{
  "nbformat": 4,
  "nbformat_minor": 0,
  "metadata": {
    "colab": {
      "name": "Introduction of SKLEARN.ipynb",
      "provenance": [],
      "toc_visible": true,
      "include_colab_link": true
    },
    "kernelspec": {
      "name": "python3",
      "display_name": "Python 3"
    }
  },
  "cells": [
    {
      "cell_type": "markdown",
      "metadata": {
        "id": "view-in-github",
        "colab_type": "text"
      },
      "source": [
        "<a href=\"https://colab.research.google.com/github/hussain0048/Machine-Learning/blob/master/Sklearn/Introduction_of_SKLEARN.ipynb\" target=\"_parent\"><img src=\"https://colab.research.google.com/assets/colab-badge.svg\" alt=\"Open In Colab\"/></a>"
      ]
    },
    {
      "cell_type": "markdown",
      "metadata": {
        "id": "2lXFVQaIPBks",
        "colab_type": "text"
      },
      "source": [
        "# **1- What is Scikit Learn**\n",
        "\n",
        "is most popular libary of machine leanring \n",
        "Scikit learn is a library used to perform machine learning in Python. Scikit learn is an open source library which is licensed under BSD and is reusable in various contexts, encouraging academic and commercial use. It provides a range of supervised and unsupervised learning algorithms in Python. Scikit learn consists of popular algorithms and libraries. Apart from that, it also contains the following packages[2]:\n",
        "\n",
        "NumPy\n",
        "Matplotlib\n",
        "SciPy (Scientific Python)\n",
        "Scikit learn is one of the attraction where we can implement machine learning using Python. It is a free machine learning library which contains simple and efficient tools for data analysis and mining purposes[1].\n",
        "\n",
        "Scikit learn comes with sample datasets, such as iris and digits. You can import the datasets and play around with them.\n"
      ]
    },
    {
      "cell_type": "markdown",
      "metadata": {
        "id": "leMVkc3Eg9rz",
        "colab_type": "text"
      },
      "source": [
        "# **2- Prepare Data for Sklearn**\n",
        "\n",
        "**Preparing data for scikit-learn**\n",
        "- scikit-learn expects a particular structure of data:\n",
        "(samples, features)\n",
        "- Make sure that your data is atleasttwo-dimensiona\n",
        "- Make sure the rst dimension is samples\n",
        "\n",
        "**If your data is not shaped properly**\n",
        "\n",
        "Ifthe axes are swapped:\n",
        "- array.T.shape\n",
        "\n",
        "**If your data is not shaped properly**\n",
        "\n",
        "If we're missing an axis, use .reshape() :\n",
        "- array.shape\n",
        "- (10,)\n",
        "- rray.reshape([-1, 1]).shape\n",
        "- (10, 1)\n",
        "- -1 will automatically llthat axis with remaining values"
      ]
    },
    {
      "cell_type": "markdown",
      "metadata": {
        "id": "7EEdY_ieugBw",
        "colab_type": "text"
      },
      "source": [
        "# **3- Supervised Learning**[1]"
      ]
    },
    {
      "cell_type": "markdown",
      "metadata": {
        "id": "m5Nuw1B7utjE",
        "colab_type": "text"
      },
      "source": [
        "## **3.1-Logistic Regression**"
      ]
    },
    {
      "cell_type": "code",
      "metadata": {
        "id": "UbM5xxSau2lE",
        "colab_type": "code",
        "colab": {}
      },
      "source": [
        "from sklearn.linear_model import LogisticRegression"
      ],
      "execution_count": null,
      "outputs": []
    },
    {
      "cell_type": "code",
      "metadata": {
        "id": "0UCNyTtIu6zt",
        "colab_type": "code",
        "colab": {}
      },
      "source": [
        "# step-1: creating model class object \n",
        "model = LogisticRegression()\n",
        "# step-2: fitting training data\n",
        "model.fit(X_train, y_train)\n",
        "# step-3: using model to predict target class\n",
        "model.predict(X_test)\n",
        "# optional: using model to predict probability for each target class\n",
        "model.predict_proba(X_test)"
      ],
      "execution_count": null,
      "outputs": []
    },
    {
      "cell_type": "markdown",
      "metadata": {
        "id": "1FvifEogvQE2",
        "colab_type": "text"
      },
      "source": [
        "## **3.2K-Nearest Neighbors (KNN)**"
      ]
    },
    {
      "cell_type": "code",
      "metadata": {
        "id": "Tet0DYR4vYf9",
        "colab_type": "code",
        "colab": {}
      },
      "source": [
        "from sklearn.neighbors import KNeighborsClassifier\n",
        "# step-1: creating model class object \n",
        "model = KNeighborsClassifier(n = 5) \n",
        "# step-2: fitting training data\n",
        "model.fit(X_train, y_train)\n",
        "# step-3: using model to predict target class\n",
        "model.predict(X_test)\n",
        "# optional: using model to predict probability for each target class\n",
        "model.predict_proba(X_test)"
      ],
      "execution_count": null,
      "outputs": []
    },
    {
      "cell_type": "markdown",
      "metadata": {
        "id": "ttr-4JYf59dx",
        "colab_type": "text"
      },
      "source": [
        "## **3.3 Decision Trees Classifier**"
      ]
    },
    {
      "cell_type": "code",
      "metadata": {
        "id": "v3PAu21Q6FlL",
        "colab_type": "code",
        "colab": {}
      },
      "source": [
        "from sklearn.tree import DecisionTreeClassifier\n",
        "# step-1: creating model class object \n",
        "model = DecisionTreeClassifier(max_depth = 10) \n",
        "# step-2: fitting training data\n",
        "model.fit(X_train, y_train)\n",
        "# step-3: using model to predict target class\n",
        "model.predict(X_test)\n",
        "# optional: using model to predict probability for each target class\n",
        "model.predict_proba(X_test)"
      ],
      "execution_count": null,
      "outputs": []
    },
    {
      "cell_type": "markdown",
      "metadata": {
        "id": "tSPBahwA77QJ",
        "colab_type": "text"
      },
      "source": [
        "## **3.4 Random Forest Classifier**\n"
      ]
    },
    {
      "cell_type": "code",
      "metadata": {
        "id": "cbvsvi3H8IGw",
        "colab_type": "code",
        "colab": {}
      },
      "source": [
        "from sklearn.ensemble import RandomForestClassifier\n",
        "# step-1: creating model class object \n",
        "model = RandomForestClassifier(n_estimators = 50) \n",
        "# step-2: fitting training data\n",
        "model.fit(X_train, y_train)\n",
        "# step-3: using model to predict target class\n",
        "model.predict(X_test)\n",
        "# optional: using model to predict probability for each target class\n",
        "model.predict_proba(X_test)"
      ],
      "execution_count": null,
      "outputs": []
    },
    {
      "cell_type": "markdown",
      "metadata": {
        "id": "2akIh6Pi8LXp",
        "colab_type": "text"
      },
      "source": [
        "## **3.5 Support Vector Machines (SVM)**"
      ]
    },
    {
      "cell_type": "code",
      "metadata": {
        "id": "4HWCiLyG8YSw",
        "colab_type": "code",
        "colab": {}
      },
      "source": [
        "from sklearn.svm import SVC\n",
        "# step-1: creating model class object \n",
        "model = SVC() \n",
        "# step-2: fitting training data\n",
        "model.fit(X_train, y_train)\n",
        "# step-3: using model to predict target class\n",
        "model.predict(X_test)\n",
        "# optional: using model to predict probability for each target class\n",
        "model.predict_proba(X_test)"
      ],
      "execution_count": null,
      "outputs": []
    },
    {
      "cell_type": "markdown",
      "metadata": {
        "id": "8es9nRYg8hU6",
        "colab_type": "text"
      },
      "source": [
        "## **3.6 Naïve Bayes Classifier**"
      ]
    },
    {
      "cell_type": "code",
      "metadata": {
        "id": "APxMf30J8oPQ",
        "colab_type": "code",
        "colab": {}
      },
      "source": [
        "from sklearn.naive_bayes import GaussianNB\n",
        "# step-1: creating model class object \n",
        "model = GaussianNB() \n",
        "# step-2: fitting training data\n",
        "model.fit(X_train, y_train)\n",
        "# step-3: using model to predict target class\n",
        "model.predict(X_test)\n",
        "# optional: using model to predict probability for each target class\n",
        "model.predict_proba(X_test)"
      ],
      "execution_count": null,
      "outputs": []
    },
    {
      "cell_type": "markdown",
      "metadata": {
        "id": "JptFoh-pjAaQ",
        "colab_type": "text"
      },
      "source": [
        "#**Referenes**\n",
        "[[1] Classification Algorithms Explained in 30 Minutes](https://datamahadev.com/classification-algorithms-explained-in-30-minutes/)\n",
        "\n",
        "[[2]A Beginner’s Guide To Scikit Learn](https://medium.com/edureka/scikit-learn-machine-learning-7a2d92e4dd07)"
      ]
    }
  ]
}