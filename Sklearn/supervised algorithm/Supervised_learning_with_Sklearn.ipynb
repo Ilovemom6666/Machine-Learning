{
  "nbformat": 4,
  "nbformat_minor": 0,
  "metadata": {
    "colab": {
      "name": "Supervised-learning with Sklearn.ipynb",
      "provenance": [],
      "collapsed_sections": []
    },
    "kernelspec": {
      "name": "python3",
      "display_name": "Python 3"
    }
  },
  "cells": [
    {
      "cell_type": "markdown",
      "metadata": {
        "id": "9B9THni-hHqx"
      },
      "source": [
        "# **1-Classification**\r\n",
        "\r\n"
      ]
    },
    {
      "cell_type": "markdown",
      "metadata": {
        "id": "n309L9RARmN6"
      },
      "source": [
        "##**1.1- Supervised Learning**\r\n",
        "\r\n",
        "\r\n",
        "**2. What is machine learning?**\r\n",
        "\r\n",
        "But what is machine learning? Machine learning is the science and art of giving computers the ability to learn to make decisions from data without being explicitly programmed. For example, your computer can learn to predict whether an email is spam or not spam given its content and sender. Another example: your computer can learn to cluster, say, Wikipedia entries, into different categories based on the words they contain. It could then assign any new Wikipedia article to one of the existing clusters. Notice that, in the first example, we are trying to predict a particular class label, that is, spam or not spam. In the second example, there is no such label. When there are labels present, we call it supervised learning. When there are no labels present, we call it unsupervised learning.\r\n",
        "\r\n",
        "**3. Unsupervised learning?**\r\n",
        "\r\n",
        "Unsupervised learning, in essence, is the machine learning task of uncovering hidden patterns and structures from unlabeled data. For example, a business may wish to group its customers into distinct categories based on their purchasing behavior without knowing in advance what these categories maybe. This is known as clustering, one branch of unsupervised learning.\r\n",
        "\r\n",
        "**4. Reinforcement learning**\r\n",
        "\r\n",
        "There is also reinforcement learning, in which machines or software agents interact with an environment. Reinforcement agents are able to automatically figure out how to optimize their behavior given a system of rewards and punishments. Reinforcement learning draws inspiration from behavioral psychology and has applications in many fields, such as, economics, genetics, as well as game playing. In 2016, reinforcement learning was used to train Google DeepMind's AlphaGo, which was the first computer program to beat the world champion in Go.\r\n",
        "\r\n",
        "**5. Supervised learning**\r\n",
        "\r\n",
        "But let's come back to supervised learning, which will be the focus of this course. In supervised learning, we have several data points or samples, described using predictor variables or features and a target variable. Our data is commonly represented in a table structure such as the one you see here, in which there is a row for each data point and a column for each feature. Here, we see the iris dataset: each row represents measurements of a different flower and each column is a particular kind of measurement, like the width and length of a certain part of the flower. The aim of supervised learning is to build a model that is able to predict the target variable, here the particular species of a flower, given the predictor variables, here the physical measurements. If the target variable consists of categories, like 'click' or 'no click', 'spam' or 'not spam', or different species of flowers, we call the learning task classification. Alternatively, if the target is a continuously varying variable, for example, the price of a house, it is a regression task. In this chapter, we will focus on classification. In the following, on regression.\r\n",
        "\r\n",
        "![](\r\n",
        "https://drive.google.com/uc?export=view&id=16Hdc-xwQKPyLSbBdgfkYgassyu2368Vw)\r\n",
        "\r\n",
        "\r\n",
        "\r\n"
      ]
    },
    {
      "cell_type": "markdown",
      "metadata": {
        "id": "SaYbgGcieCG3"
      },
      "source": [
        "**6. Naming conventions**\r\n",
        "\r\n",
        "A note on naming conventions: out in the wild, you will find that what we call a feature, others may call a predictor variable or independent variable, and what we call the target variable, others may call dependent variable or response variable."
      ]
    },
    {
      "cell_type": "markdown",
      "metadata": {
        "id": "w8tmZ9v4eT5e"
      },
      "source": [
        "**7. Supervised learning**\r\n",
        "\r\n",
        "The goal of supervised learning is frequently to either automate a time-consuming or expensive manual task, such as a doctor's diagnosis, or to make predictions about the future, say whether a customer will click on an add or not. For supervised learning, you need labeled data and there are many ways to get it: you can get historical data, which already has labels that you are interested in; you can perform experiments to get labeled data, such as A/B-testing to see how many clicks you get; or you can also crowdsourced labeling data which, like reCAPTCHA does for text recognition. In any case, the goal is to learn from data for which the right output is known, so that we can make predictions on new data for which we don't know the output."
      ]
    },
    {
      "cell_type": "markdown",
      "metadata": {
        "id": "-GOYgcZce0BE"
      },
      "source": [
        "**8. Supervised learning in Python**\r\n",
        "\r\n",
        "There are many ways to perform supervised learning in Python. In this course, we will use scikit-learn, or sklearn, one of the most popular and user-friendly machine learning libraries for Python. It also integrates very well with the SciPy stack, including libraries such as NumPy. There are a number of other ML libraries out there, such as TensorFlow and keras, which are well worth checking out once you got the basics down."
      ]
    },
    {
      "cell_type": "markdown",
      "metadata": {
        "id": "AA4oiwXKgsjc"
      },
      "source": [
        "## **1.2 Exploratory data analysis**\r\n"
      ]
    },
    {
      "cell_type": "markdown",
      "metadata": {
        "id": "Y3Ku3f2LmkWX"
      },
      "source": [
        "**1-The Iris dataset**\r\n",
        "\r\n",
        "![](\r\n",
        "https://drive.google.com/uc?export=view&id=1WTn1t7HRbkZbQRPcAQ4EzO1w630qkfXK\r\n",
        ")"
      ]
    },
    {
      "cell_type": "markdown",
      "metadata": {
        "id": "5b7P9TOonweD"
      },
      "source": [
        "**The Iris dataset in scikit-learn**"
      ]
    },
    {
      "cell_type": "code",
      "metadata": {
        "id": "D_axHWIwoPxU"
      },
      "source": [
        "from sklearn import datasets\r\n",
        "import pandas as pd\r\n",
        "import numpy as np\r\n",
        "import matplotlib.pyplot as plt\r\n",
        "plt.style.use('ggplot')\r\n",
        "iris = datasets.load_iris()\r\n"
      ],
      "execution_count": 13,
      "outputs": []
    },
    {
      "cell_type": "code",
      "metadata": {
        "colab": {
          "base_uri": "https://localhost:8080/"
        },
        "id": "IEZ5LGUIpWX5",
        "outputId": "8d47aa8e-06af-4598-b5ee-a0766446ce23"
      },
      "source": [
        "iris = datasets.load_iris() \r\n",
        "In [7]: type(iris) "
      ],
      "execution_count": 3,
      "outputs": [
        {
          "output_type": "execute_result",
          "data": {
            "text/plain": [
              "sklearn.utils.Bunch"
            ]
          },
          "metadata": {
            "tags": []
          },
          "execution_count": 3
        }
      ]
    },
    {
      "cell_type": "code",
      "metadata": {
        "colab": {
          "base_uri": "https://localhost:8080/"
        },
        "id": "EbfpuVMJphJL",
        "outputId": "feb17aba-7024-496d-d43c-bfe8948a6e0a"
      },
      "source": [
        "print(iris.keys()) "
      ],
      "execution_count": 4,
      "outputs": [
        {
          "output_type": "stream",
          "text": [
            "dict_keys(['data', 'target', 'target_names', 'DESCR', 'feature_names', 'filename'])\n"
          ],
          "name": "stdout"
        }
      ]
    },
    {
      "cell_type": "code",
      "metadata": {
        "id": "0d-Q5AH6olQz"
      },
      "source": [
        "type(iris.data), type(iris.target)\r\n",
        "#Out(numpy.ndarray, numpy.ndarray)\r\n"
      ],
      "execution_count": null,
      "outputs": []
    },
    {
      "cell_type": "code",
      "metadata": {
        "colab": {
          "base_uri": "https://localhost:8080/"
        },
        "id": "MhOhuLw0pxkV",
        "outputId": "b809c8ea-c3d4-4b58-de04-86f626c438e0"
      },
      "source": [
        "iris.data.shape "
      ],
      "execution_count": 6,
      "outputs": [
        {
          "output_type": "execute_result",
          "data": {
            "text/plain": [
              "(150, 4)"
            ]
          },
          "metadata": {
            "tags": []
          },
          "execution_count": 6
        }
      ]
    },
    {
      "cell_type": "code",
      "metadata": {
        "colab": {
          "base_uri": "https://localhost:8080/"
        },
        "id": "9Kwx8Oy1p2WC",
        "outputId": "f3325fd6-c5dd-4ab0-f54a-0f14acf8a053"
      },
      "source": [
        "iris.target_names "
      ],
      "execution_count": 7,
      "outputs": [
        {
          "output_type": "execute_result",
          "data": {
            "text/plain": [
              "array(['setosa', 'versicolor', 'virginica'], dtype='<U10')"
            ]
          },
          "metadata": {
            "tags": []
          },
          "execution_count": 7
        }
      ]
    },
    {
      "cell_type": "markdown",
      "metadata": {
        "id": "sM6YCCFRp_IK"
      },
      "source": [
        "**Exploratory data analysis (EDA)**"
      ]
    },
    {
      "cell_type": "code",
      "metadata": {
        "id": "hgbWSURiqLva"
      },
      "source": [
        "X = iris.data\r\n",
        "y = iris.target"
      ],
      "execution_count": 8,
      "outputs": []
    },
    {
      "cell_type": "code",
      "metadata": {
        "id": "kIxeM1SNqRJh"
      },
      "source": [
        "df = pd.DataFrame(X, columns=iris.feature_names) "
      ],
      "execution_count": 9,
      "outputs": []
    },
    {
      "cell_type": "code",
      "metadata": {
        "colab": {
          "base_uri": "https://localhost:8080/"
        },
        "id": "pt5b8j-RqfOi",
        "outputId": "57503f51-70d0-43f9-ba45-bed31d46d7fc"
      },
      "source": [
        "print(df.head()) "
      ],
      "execution_count": 10,
      "outputs": [
        {
          "output_type": "stream",
          "text": [
            "   sepal length (cm)  sepal width (cm)  petal length (cm)  petal width (cm)\n",
            "0                5.1               3.5                1.4               0.2\n",
            "1                4.9               3.0                1.4               0.2\n",
            "2                4.7               3.2                1.3               0.2\n",
            "3                4.6               3.1                1.5               0.2\n",
            "4                5.0               3.6                1.4               0.2\n"
          ],
          "name": "stdout"
        }
      ]
    },
    {
      "cell_type": "markdown",
      "metadata": {
        "id": "m_g0O6PbqqoZ"
      },
      "source": [
        "**Visual EDA**\r\n"
      ]
    },
    {
      "cell_type": "code",
      "metadata": {
        "id": "XAH2NelJqvlY"
      },
      "source": [
        "_ = pd.scatter_matrix(df, c = y, figsize = [8, 8], s=150, marker = 'D')"
      ],
      "execution_count": null,
      "outputs": []
    },
    {
      "cell_type": "markdown",
      "metadata": {
        "id": "ghF69fYuszdd"
      },
      "source": [
        "![](https://drive.google.com/uc?export=view&id=1UqiYyKsAmnrMPIG6Ahr6esFgPdy0RTlT)"
      ]
    },
    {
      "cell_type": "markdown",
      "metadata": {
        "id": "TRVuJVHLtIr2"
      },
      "source": [
        "### **1.2.1 Numerical EDA**\r\n",
        "In this chapter, you'll be working with a dataset obtained from the [UCI Machine Learning Repository](https://archive.ics.uci.edu/ml/datasets/Congressional+Voting+Records) UCI Machine Learning Repository consisting of votes made by US House of Representatives Congressmen. Your goal will be to predict their party affiliation ('Democrat' or 'Republican') based on how they voted on certain key issues. Here, it's worth noting that we have preprocessed this dataset to deal with missing values. This is so that your focus can be directed towards understanding how to train and evaluate supervised learning models. Once you have mastered these fundamentals, you will be introduced to preprocessing techniques in Chapter 4 and have the chance to apply them there yourself - including on this very same dataset!\r\n",
        "\r\n",
        "Before thinking about what supervised learning models you can apply to this, however, you need to perform Exploratory data analysis (EDA) in order to understand the structure of the data. For a refresher on the importance of EDA, check out the first two chapters of Statistical Thinking in Python (Part 1).\r\n",
        "\r\n",
        "Get started with your EDA now by exploring this voting records dataset numerically. It has been pre-loaded for you into a DataFrame called df. Use pandas' .head(), .info(), and .describe() methods in the IPython Shell to explore the DataFrame, and select the statement below that is not true.\r\n"
      ]
    },
    {
      "cell_type": "markdown",
      "metadata": {
        "id": "sxoxWxkeQDRi"
      },
      "source": [
        "# **References**\r\n",
        "\r\n",
        "[[1]Supervised Learning with scikit-learn](https://learn.datacamp.com/courses/supervised-learning-with-scikit-learn)"
      ]
    }
  ]
}