{
  "nbformat": 4,
  "nbformat_minor": 0,
  "metadata": {
    "colab": {
      "name": "Supervised_learning_with_Sklearn.ipynb",
      "provenance": [],
      "collapsed_sections": [],
      "toc_visible": true
    },
    "kernelspec": {
      "name": "python3",
      "display_name": "Python 3"
    }
  },
  "cells": [
    {
      "cell_type": "markdown",
      "metadata": {
        "id": "9B9THni-hHqx"
      },
      "source": [
        "# **1-Classification**\r\n",
        "\r\n"
      ]
    },
    {
      "cell_type": "markdown",
      "metadata": {
        "id": "n309L9RARmN6"
      },
      "source": [
        "##**1.1- Supervised Learning**\r\n",
        "\r\n",
        "\r\n",
        "**2. What is machine learning?**\r\n",
        "\r\n",
        "But what is machine learning? Machine learning is the science and art of giving computers the ability to learn to make decisions from data without being explicitly programmed. For example, your computer can learn to predict whether an email is spam or not spam given its content and sender. Another example: your computer can learn to cluster, say, Wikipedia entries, into different categories based on the words they contain. It could then assign any new Wikipedia article to one of the existing clusters. Notice that, in the first example, we are trying to predict a particular class label, that is, spam or not spam. In the second example, there is no such label. When there are labels present, we call it supervised learning. When there are no labels present, we call it unsupervised learning.\r\n",
        "\r\n",
        "**3. Unsupervised learning?**\r\n",
        "\r\n",
        "Unsupervised learning, in essence, is the machine learning task of uncovering hidden patterns and structures from unlabeled data. For example, a business may wish to group its customers into distinct categories based on their purchasing behavior without knowing in advance what these categories maybe. This is known as clustering, one branch of unsupervised learning.\r\n",
        "\r\n",
        "**4. Reinforcement learning**\r\n",
        "\r\n",
        "There is also reinforcement learning, in which machines or software agents interact with an environment. Reinforcement agents are able to automatically figure out how to optimize their behavior given a system of rewards and punishments. Reinforcement learning draws inspiration from behavioral psychology and has applications in many fields, such as, economics, genetics, as well as game playing. In 2016, reinforcement learning was used to train Google DeepMind's AlphaGo, which was the first computer program to beat the world champion in Go.\r\n",
        "\r\n",
        "**5. Supervised learning**\r\n",
        "\r\n",
        "But let's come back to supervised learning, which will be the focus of this course. In supervised learning, we have several data points or samples, described using predictor variables or features and a target variable. Our data is commonly represented in a table structure such as the one you see here, in which there is a row for each data point and a column for each feature. Here, we see the iris dataset: each row represents measurements of a different flower and each column is a particular kind of measurement, like the width and length of a certain part of the flower. The aim of supervised learning is to build a model that is able to predict the target variable, here the particular species of a flower, given the predictor variables, here the physical measurements. If the target variable consists of categories, like 'click' or 'no click', 'spam' or 'not spam', or different species of flowers, we call the learning task classification. Alternatively, if the target is a continuously varying variable, for example, the price of a house, it is a regression task. In this chapter, we will focus on classification. In the following, on regression.\r\n",
        "\r\n",
        "![](\r\n",
        "https://drive.google.com/uc?export=view&id=16Hdc-xwQKPyLSbBdgfkYgassyu2368Vw)\r\n",
        "\r\n",
        "\r\n",
        "\r\n"
      ]
    },
    {
      "cell_type": "markdown",
      "metadata": {
        "id": "SaYbgGcieCG3"
      },
      "source": [
        "**6. Naming conventions**\r\n",
        "\r\n",
        "A note on naming conventions: out in the wild, you will find that what we call a feature, others may call a predictor variable or independent variable, and what we call the target variable, others may call dependent variable or response variable."
      ]
    },
    {
      "cell_type": "markdown",
      "metadata": {
        "id": "w8tmZ9v4eT5e"
      },
      "source": [
        "**7. Supervised learning**\r\n",
        "\r\n",
        "The goal of supervised learning is frequently to either automate a time-consuming or expensive manual task, such as a doctor's diagnosis, or to make predictions about the future, say whether a customer will click on an add or not. For supervised learning, you need labeled data and there are many ways to get it: you can get historical data, which already has labels that you are interested in; you can perform experiments to get labeled data, such as A/B-testing to see how many clicks you get; or you can also crowdsourced labeling data which, like reCAPTCHA does for text recognition. In any case, the goal is to learn from data for which the right output is known, so that we can make predictions on new data for which we don't know the output."
      ]
    },
    {
      "cell_type": "markdown",
      "metadata": {
        "id": "-GOYgcZce0BE"
      },
      "source": [
        "**8. Supervised learning in Python**\r\n",
        "\r\n",
        "There are many ways to perform supervised learning in Python. In this course, we will use scikit-learn, or sklearn, one of the most popular and user-friendly machine learning libraries for Python. It also integrates very well with the SciPy stack, including libraries such as NumPy. There are a number of other ML libraries out there, such as TensorFlow and keras, which are well worth checking out once you got the basics down."
      ]
    },
    {
      "cell_type": "markdown",
      "metadata": {
        "id": "AA4oiwXKgsjc"
      },
      "source": [
        "## **1.2 Exploratory data analysis**\r\n"
      ]
    },
    {
      "cell_type": "markdown",
      "metadata": {
        "id": "Y3Ku3f2LmkWX"
      },
      "source": [
        "**1-The Iris dataset**\r\n",
        "\r\n",
        "![](\r\n",
        "https://drive.google.com/uc?export=view&id=1WTn1t7HRbkZbQRPcAQ4EzO1w630qkfXK\r\n",
        ")"
      ]
    },
    {
      "cell_type": "markdown",
      "metadata": {
        "id": "5b7P9TOonweD"
      },
      "source": [
        "**The Iris dataset in scikit-learn**"
      ]
    },
    {
      "cell_type": "code",
      "metadata": {
        "id": "D_axHWIwoPxU"
      },
      "source": [
        "from sklearn import datasets\r\n",
        "import pandas as pd\r\n",
        "import numpy as np\r\n",
        "import matplotlib.pyplot as plt\r\n",
        "plt.style.use('ggplot')\r\n",
        "iris = datasets.load_iris()\r\n"
      ],
      "execution_count": null,
      "outputs": []
    },
    {
      "cell_type": "code",
      "metadata": {
        "colab": {
          "base_uri": "https://localhost:8080/"
        },
        "id": "IEZ5LGUIpWX5",
        "outputId": "8d47aa8e-06af-4598-b5ee-a0766446ce23"
      },
      "source": [
        "iris = datasets.load_iris() \r\n",
        "In [7]: type(iris) "
      ],
      "execution_count": null,
      "outputs": [
        {
          "output_type": "execute_result",
          "data": {
            "text/plain": [
              "sklearn.utils.Bunch"
            ]
          },
          "metadata": {
            "tags": []
          },
          "execution_count": 3
        }
      ]
    },
    {
      "cell_type": "code",
      "metadata": {
        "colab": {
          "base_uri": "https://localhost:8080/"
        },
        "id": "EbfpuVMJphJL",
        "outputId": "feb17aba-7024-496d-d43c-bfe8948a6e0a"
      },
      "source": [
        "print(iris.keys()) "
      ],
      "execution_count": null,
      "outputs": [
        {
          "output_type": "stream",
          "text": [
            "dict_keys(['data', 'target', 'target_names', 'DESCR', 'feature_names', 'filename'])\n"
          ],
          "name": "stdout"
        }
      ]
    },
    {
      "cell_type": "code",
      "metadata": {
        "id": "0d-Q5AH6olQz"
      },
      "source": [
        "type(iris.data), type(iris.target)\r\n",
        "#Out(numpy.ndarray, numpy.ndarray)\r\n"
      ],
      "execution_count": null,
      "outputs": []
    },
    {
      "cell_type": "code",
      "metadata": {
        "colab": {
          "base_uri": "https://localhost:8080/"
        },
        "id": "MhOhuLw0pxkV",
        "outputId": "b809c8ea-c3d4-4b58-de04-86f626c438e0"
      },
      "source": [
        "iris.data.shape "
      ],
      "execution_count": null,
      "outputs": [
        {
          "output_type": "execute_result",
          "data": {
            "text/plain": [
              "(150, 4)"
            ]
          },
          "metadata": {
            "tags": []
          },
          "execution_count": 6
        }
      ]
    },
    {
      "cell_type": "code",
      "metadata": {
        "colab": {
          "base_uri": "https://localhost:8080/"
        },
        "id": "9Kwx8Oy1p2WC",
        "outputId": "f3325fd6-c5dd-4ab0-f54a-0f14acf8a053"
      },
      "source": [
        "iris.target_names "
      ],
      "execution_count": null,
      "outputs": [
        {
          "output_type": "execute_result",
          "data": {
            "text/plain": [
              "array(['setosa', 'versicolor', 'virginica'], dtype='<U10')"
            ]
          },
          "metadata": {
            "tags": []
          },
          "execution_count": 7
        }
      ]
    },
    {
      "cell_type": "markdown",
      "metadata": {
        "id": "sM6YCCFRp_IK"
      },
      "source": [
        "**Exploratory data analysis (EDA)**"
      ]
    },
    {
      "cell_type": "code",
      "metadata": {
        "id": "hgbWSURiqLva"
      },
      "source": [
        "X = iris.data\r\n",
        "y = iris.target"
      ],
      "execution_count": null,
      "outputs": []
    },
    {
      "cell_type": "code",
      "metadata": {
        "id": "kIxeM1SNqRJh"
      },
      "source": [
        "df = pd.DataFrame(X, columns=iris.feature_names) "
      ],
      "execution_count": null,
      "outputs": []
    },
    {
      "cell_type": "code",
      "metadata": {
        "colab": {
          "base_uri": "https://localhost:8080/"
        },
        "id": "pt5b8j-RqfOi",
        "outputId": "57503f51-70d0-43f9-ba45-bed31d46d7fc"
      },
      "source": [
        "print(df.head()) "
      ],
      "execution_count": null,
      "outputs": [
        {
          "output_type": "stream",
          "text": [
            "   sepal length (cm)  sepal width (cm)  petal length (cm)  petal width (cm)\n",
            "0                5.1               3.5                1.4               0.2\n",
            "1                4.9               3.0                1.4               0.2\n",
            "2                4.7               3.2                1.3               0.2\n",
            "3                4.6               3.1                1.5               0.2\n",
            "4                5.0               3.6                1.4               0.2\n"
          ],
          "name": "stdout"
        }
      ]
    },
    {
      "cell_type": "markdown",
      "metadata": {
        "id": "m_g0O6PbqqoZ"
      },
      "source": [
        "**Visual EDA**\r\n"
      ]
    },
    {
      "cell_type": "code",
      "metadata": {
        "id": "XAH2NelJqvlY"
      },
      "source": [
        "_ = pd.scatter_matrix(df, c = y, figsize = [8, 8], s=150, marker = 'D')"
      ],
      "execution_count": null,
      "outputs": []
    },
    {
      "cell_type": "markdown",
      "metadata": {
        "id": "ghF69fYuszdd"
      },
      "source": [
        "![](https://drive.google.com/uc?export=view&id=1UqiYyKsAmnrMPIG6Ahr6esFgPdy0RTlT)"
      ]
    },
    {
      "cell_type": "markdown",
      "metadata": {
        "id": "TRVuJVHLtIr2"
      },
      "source": [
        "### **1.2.1 Numerical EDA**\r\n",
        "In this chapter, you'll be working with a dataset obtained from the [UCI Machine Learning Repository](https://archive.ics.uci.edu/ml/datasets/Congressional+Voting+Records) UCI Machine Learning Repository consisting of votes made by US House of Representatives Congressmen. Your goal will be to predict their party affiliation ('Democrat' or 'Republican') based on how they voted on certain key issues. Here, it's worth noting that we have preprocessed this dataset to deal with missing values. This is so that your focus can be directed towards understanding how to train and evaluate supervised learning models. Once you have mastered these fundamentals, you will be introduced to preprocessing techniques in Chapter 4 and have the chance to apply them there yourself - including on this very same dataset!\r\n",
        "\r\n",
        "Before thinking about what supervised learning models you can apply to this, however, you need to perform Exploratory data analysis (EDA) in order to understand the structure of the data. For a refresher on the importance of EDA, check out the first two chapters of Statistical Thinking in Python (Part 1).\r\n",
        "\r\n",
        "Get started with your EDA now by exploring this voting records dataset numerically. It has been pre-loaded for you into a DataFrame called df. Use pandas' .head(), .info(), and .describe() methods in the IPython Shell to explore the DataFrame, and select the statement below that is not true.\r\n"
      ]
    },
    {
      "cell_type": "code",
      "metadata": {
        "id": "_OFC7ycmf5Xq"
      },
      "source": [
        "df.head()\r\n",
        "df.info()\r\n",
        "df.described()"
      ],
      "execution_count": null,
      "outputs": []
    },
    {
      "cell_type": "markdown",
      "metadata": {
        "id": "GVHGTmNqgRvy"
      },
      "source": [
        "### **1.2.2 Visual EDA**\r\n",
        "\r\n",
        "The Numerical EDA you did in the previous exercise gave you some very important information, such as the names and data types of the columns, and the dimensions of the DataFrame. Following this with some visual EDA will give you an even better understanding of the data. In the video, Hugo used the scatter_matrix() function on the Iris data for this purpose. However, you may have noticed in the previous exercise that all the features in this dataset are binary; that is, they are either 0 or 1. So a different type of plot would be more useful here, such as Seaborn's countplot.\r\n",
        "\r\n",
        "Given on the right is a countplot of the 'education' bill, generated from the following code:"
      ]
    },
    {
      "cell_type": "code",
      "metadata": {
        "id": "-EWSIcZngnxP"
      },
      "source": [
        "plt.figure()\r\n",
        "sns.countplot(x='education', hue='party', data=df, palette='RdBu')\r\n",
        "plt.xticks([0,1], ['No', 'Yes'])\r\n",
        "plt.show()"
      ],
      "execution_count": null,
      "outputs": []
    },
    {
      "cell_type": "markdown",
      "metadata": {
        "id": "WUnp7fm6iIsd"
      },
      "source": [
        "![](\r\n",
        "https://drive.google.com/uc?export=view&id=1ev2xHhcqCVsrZ4nipIrjG47DstY3OFLj)"
      ]
    },
    {
      "cell_type": "markdown",
      "metadata": {
        "id": "uzOxK_UhhGs5"
      },
      "source": [
        "In sns.countplot(), we specify the x-axis data to be 'education', and hue to be 'party'. Recall that 'party' is also our target variable. So the resulting plot shows the difference in voting behavior between the two parties for the 'education' bill, with each party colored differently. We manually specified the color to be 'RdBu', as the Republican party has been traditionally associated with red, and the Democratic party with blue.\r\n",
        "\r\n"
      ]
    },
    {
      "cell_type": "markdown",
      "metadata": {
        "id": "hcOo2vVLiPTa"
      },
      "source": [
        "It seems like Democrats voted resoundingly against this bill, compared to Republicans. This is the kind of information that our machine learning model will seek to learn when we try to predict party affiliation solely based on voting behavior. An expert in U.S politics may be able to predict this without machine learning, but probably not instantaneously - and certainly not if we are dealing with hundreds of samples!\r\n",
        "\r\n",
        "In the IPython Shell, explore the voting behavior further by generating countplots for the 'satellite' and 'missile' bills, and answer the following question: Of these two bills, for which ones do Democrats vote resoundingly in favor of, compared to Republicans? Be sure to begin your plotting statements for each figure with plt.figure() so that a new figure will be set up. Otherwise, your plots will be overlayed onto the same figure."
      ]
    },
    {
      "cell_type": "code",
      "metadata": {
        "id": "ACNfrD0IjkwO"
      },
      "source": [
        "plt.figure()\r\n",
        "sns.countplot(x='satellite', hue='party', data=df, palette='RdBu')\r\n",
        "plt.xticks([0,1], ['No', 'Yes'])\r\n",
        "plt.show()"
      ],
      "execution_count": null,
      "outputs": []
    },
    {
      "cell_type": "markdown",
      "metadata": {
        "id": "xytbzq6nj7g1"
      },
      "source": [
        "## **1.3 The classification challenge**\r\n"
      ]
    },
    {
      "cell_type": "markdown",
      "metadata": {
        "id": "kqa3HUwPkQ5m"
      },
      "source": [
        "**1. The classification challenge**\r\n",
        "\r\n",
        "We have a set of labeled data and we want to build a classifier that takes unlabeled data as input and outputs a label. So how do we construct this classifier? We first need choose a type of classifier and it needs to learn from the already labeled data. For this reason, we call the already labeled data the training data. So let's build our first classifier!"
      ]
    },
    {
      "cell_type": "markdown",
      "metadata": {
        "id": "mrr65SKpkVDn"
      },
      "source": [
        "**2. k-Nearest Neighbors**\r\n",
        "\r\n",
        "We'll choose a simple algorithm called K-nearest neighbors. The basic idea of K-nearest neighbors, or KNN, is to predict the label of any data point by looking at the K, for example, 3, closest labeled data points and getting them to vote on what label the unlabeled point should have.\r\n",
        "\r\n",
        "**3. k-Nearest Neighbors**\r\n",
        "\r\n",
        "In this image, there's an example of KNN in two dimensions: how do you classify the data point in the middle?\r\n",
        "\r\n",
        "![](https://drive.google.com/uc?export=view&id=1en3RyJ-TTung7hGabN1jgjUvfM5YOBK3)\r\n",
        "\r\n",
        "**5. k-Nearest Neighbors**\r\n",
        "\r\n",
        "you would classify it as red and, if k equals 5, as green.\r\n",
        "\r\n",
        "**6. k-Nearest Neighbors**\r\n",
        "\r\n",
        "and, if k equals 5,\r\n",
        "\r\n",
        "7. **k-Nearest Neighbors**\r\n",
        "\r\n",
        "as green."
      ]
    },
    {
      "cell_type": "markdown",
      "metadata": {
        "id": "zBW83jiAmaE-"
      },
      "source": [
        "**8. k-NN: Intuition**\r\n",
        "\r\n",
        "To get a bit of intuition for KNN, let's check out a scatter plot of two dimensions of the iris dataset, petal length and petal width. The following holds for higher dimensions, however, we'll show the 2D case for illustrative purposes.\r\n",
        "\r\n",
        "![](\r\n",
        "https://drive.google.com/uc?export=view&id=1iMg24DZBcSGlONoyYTu_Vm0vfYFd7K-d)"
      ]
    },
    {
      "cell_type": "markdown",
      "metadata": {
        "id": "4GZtZMa6sXB5"
      },
      "source": [
        "**10. k-NN: Intuition**\r\n",
        "\r\n",
        "Any new data point here will be predicted 'setosa',\r\n",
        "\r\n",
        "**11. k-NN: Intuition**\r\n",
        "\r\n",
        "any new data point here will be predicted 'virginica',\r\n",
        "\r\n",
        "**12**. **k-NN: Intuition**\r\n",
        "\r\n",
        "and any new data point here will be predicted 'versicolor'."
      ]
    },
    {
      "cell_type": "markdown",
      "metadata": {
        "id": "fobO_NR3si2r"
      },
      "source": [
        "**13. Scikit-learn fit and predict**\r\n",
        "\r\n",
        "All machine learning models in scikit-learn are implemented as python classes. These classes serve two purposes: they implement the algorithms for learning a model, and predicting, while also storing all the information that is learned from the data. Training a model on the data is also called fitting the model to the data. In scikit-learn, we use the fit method to do this. Similarly, the predict method is what we use to predict the label of an, unlabeled data point."
      ]
    },
    {
      "cell_type": "markdown",
      "metadata": {
        "id": "9AAavWQgtBFz"
      },
      "source": [
        "**14. Using scikit-learn to fit a classifier**\r\n",
        "\r\n",
        "Now we're going to fit our very first classifier using scikit-learn! To do so, we first need to import it. To this end, we import KNeighborsClassifier from sklearn dot neighbors. We then instantiate our KNeighborsClassifier, set the number of neighbors equal to 6, and assign it to the variable knn. Then we can fit this classifier to our training set, the labeled data. To do so, we apply the method fit to the classifier and pass it two arguments: the features as a NumPy array and the labels, or target, as a NumPy array. The scikit-learn API requires firstly that you have the data as a NumPy array or pandas DataFrame. It also requires that the features take on continuous values, such as the price of a house, as opposed to categories, such as 'male' or 'female'. It also requires that there are no missing values in the data. All datasets that we'll work with now satisfy these final two properties. Later in the course, you'll see how to deal with categorical features and missing data. In particular, the scikit-learn API requires that the features are in an array where each column is a feature and each row a different observation or data point. Looking at the shape of iris data, we see that there are 150 observations of four features. Similarly, the target needs to be a single column with the same number of observations as the feature data. We see in this case there are indeed also 150 labels. Also check out what is returned when we fit the classifier: it returns the classifier itself and modifies it to fit it to the data. Now that we have fit our classifier, lets use it to predict on some unlabeled data!"
      ]
    },
    {
      "cell_type": "code",
      "metadata": {
        "id": "7CCkJDultmDR"
      },
      "source": [
        "from sklearn.neighbors import KNeighborsClassifier\r\n",
        "knn = KNeighborsClassifier(n_neighbors=6)\r\n",
        "knn.fit(iris['data'], iris['target'])\r\n",
        "KNeighborsClassifier(algorithm='auto', leaf_size=30,\r\n",
        "metric='minkowski',metric_params=None, n_jobs=1,\r\n",
        "n_neighbors=6, p=2,weights='uniform')\r\n",
        "iris['data'].shape\r\n",
        "#(150, 4)\r\n",
        "iris['target'].shape\r\n",
        "#(150,)"
      ],
      "execution_count": null,
      "outputs": []
    },
    {
      "cell_type": "markdown",
      "metadata": {
        "id": "TZgx8B2It8dB"
      },
      "source": [
        "**15. Predicting on unlabeled data**\r\n",
        "\r\n",
        "Here we have set of observations, X new. We use the predict method on the classifier and pass it the data. Once again, the API requires that we pass the data as a NumPy array with features in columns and observations in rows; checking the shape of X new, we see that it has three rows and four columns, that is, three observations and four features. Then we would expect calling knn dot predict of X new to return a three-by-one array with a prediction for each observation or row in X new. And indeed it does! It predicts one, which corresponds to 'versicolor' for the first two observations and 0, which corresponds to 'setosa' for the third."
      ]
    },
    {
      "cell_type": "code",
      "metadata": {
        "id": "jDAuwkG3uT9p"
      },
      "source": [
        "prediction = knn.predict(X_new)\r\n",
        "X_new.shape\r\n",
        "#(3, 4)\r\n",
        "print('Prediction {}’.format(prediction))\r\n",
        "#Prediction: [1 1 0]"
      ],
      "execution_count": null,
      "outputs": []
    },
    {
      "cell_type": "markdown",
      "metadata": {
        "id": "ENrKTSWPeQnZ"
      },
      "source": [
        "### **1.3.1 k-Nearest Neighbors: Fit**\r\n",
        "Having explored the Congressional voting records dataset, it is time now to build your first classifier. In this exercise, you will fit a k-Nearest Neighbors classifier to the voting dataset, which has once again been pre-loaded for you into a DataFrame df.\r\n",
        "\r\n",
        "In the video, Hugo discussed the importance of ensuring your data adheres to the format required by the scikit-learn API. The features need to be in an array where each column is a feature and each row a different observation or data point - in this case, a Congressman's voting record. The target needs to be a single column with the same number of observations as the feature data. We have done this for you in this exercise. Notice we named the feature array X and response variable y: This is in accordance with the common scikit-learn practice.\r\n",
        "\r\n",
        "Your job is to create an instance of a k-NN classifier with 6 neighbors (by specifying the n_neighbors parameter) and then fit it to the data. The data has been pre-loaded into a DataFrame called df.\r\n",
        "\r\n",
        "**Instructions**\r\n",
        "\r\n",
        "- Import KNeighborsClassifier from sklearn.neighbors.\r\n",
        "- Create arrays X and y for the features and the target variable. Here this has been done for you. Note the use of .drop() to drop the target variable 'party' from the feature array X as well as the use of the .values attribute to ensure X and y are NumPy arrays. Without using .values, X and y are a DataFrame and Series respectively; the scikit-learn API will accept them in this form also as long as they are of the right shape.\r\n",
        "- Instantiate a KNeighborsClassifier called knn with 6 neighbors by specifying the n_neighbors parameter.\r\n",
        "- Fit the classifier to the data using the .fit() method.\r\n"
      ]
    },
    {
      "cell_type": "markdown",
      "metadata": {
        "id": "2GZZ5vLqe3ph"
      },
      "source": [
        "**Hint**\r\n",
        "\r\n",
        "- To import thing from pkg, use the command from pkg import thing.\r\n",
        "- To instantiate a KNeighborsClassifier with 6 neighbors, use the function KNeighborsClassifier() and specify the keyword argument n_neighbors=6.\r\n",
        "- Use the .fit() method on knn with X and y passed in as the arguments."
      ]
    },
    {
      "cell_type": "code",
      "metadata": {
        "id": "3iQwHhwzkNpV"
      },
      "source": [
        "# Import KNeighborsClassifier from sklearn.neighbors\r\n",
        "from sklearn.neighbors import KNeighborsClassifier\r\n",
        "# Create arrays for the features and the response variable\r\n",
        "y = df['party'].values\r\n",
        "X = df.drop('party', axis=1).values\r\n",
        "# Create a k-NN classifier with 6 neighbors\r\n",
        "knn = KNeighborsClassifier(n_neighbors=6)\r\n",
        "# Fit the classifier to the data\r\n",
        "knn.fit(X,y)"
      ],
      "execution_count": null,
      "outputs": []
    },
    {
      "cell_type": "markdown",
      "metadata": {
        "id": "VGhTbl_BkUyk"
      },
      "source": [
        "Excellent! Now that your k-NN classifier with 6 neighbors has been fit to the data, it can be used to predict the labels of new data points."
      ]
    },
    {
      "cell_type": "markdown",
      "metadata": {
        "id": "74fwCO3akETV"
      },
      "source": [
        "### **1.3.2 k-Nearest Neighbors: Predict**\r\n",
        "\r\n",
        "Having fit a k-NN classifier, you can now use it to predict the label of a new data point. However, there is no unlabeled data available since all of it was used to fit the model! You can still use the .predict() method on the X that was used to fit the model, but it is not a good indicator of the model's ability to generalize to new, unseen data.\r\n",
        "\r\n",
        "In the next video, Hugo will discuss a solution to this problem. For now, a random unlabeled data point has been generated and is available to you as X_new. You will use your classifier to predict the label for this new data point, as well as on the training data X that the model has already seen. Using .predict() on X_new will generate 1 prediction, while using it on X will generate 435 predictions: 1 for each sample.\r\n",
        "\r\n",
        "The DataFrame has been pre-loaded as df. This time, you will create the feature array X and target variable array y yourself.\r\n"
      ]
    },
    {
      "cell_type": "markdown",
      "metadata": {
        "id": "foGCoaK3kkZn"
      },
      "source": [
        "**Instruction**\r\n",
        "\r\n",
        "- Create arrays for the features and the target variable from df. As a reminder, the target variable is 'party'.\r\n",
        "- Instantiate a KNeighborsClassifier with 6 neighbors.\r\n",
        "- Fit the classifier to the data.\r\n",
        "- Predict the labels of the training data, X.\r\n",
        "- Predict the label of the new data point X_new."
      ]
    },
    {
      "cell_type": "code",
      "metadata": {
        "id": "f9vZqaWzm9ON"
      },
      "source": [
        "# Import KNeighborsClassifier from sklearn.neighbors\r\n",
        "from sklearn.neighbors import KNeighborsClassifier \r\n",
        "# Create arrays for the features and the response variable\r\n",
        "Y = df['party'].values\r\n",
        "X = df.drop('party',axis=1).values\r\n",
        "# Create a k-NN classifier with 6 neighbors: knn\r\n",
        "knn = KNeighborsClassifier(n_neighbors=6)\r\n",
        "# Fit the classifier to the data\r\n",
        "knn.fit(X,Y)\r\n",
        "# Predict the labels for the training data X\r\n",
        "y_pred = knn.predict(X)\r\n",
        "# Predict and print the label for the new data point X_new\r\n",
        "new_prediction = knn.predict(X_new)\r\n",
        "print(\"Prediction: {}\".format(new_prediction))\r\n"
      ],
      "execution_count": null,
      "outputs": []
    },
    {
      "cell_type": "markdown",
      "metadata": {
        "id": "pEk3MM1bneba"
      },
      "source": [
        "Great work! Did your model predict 'democrat' or 'republican'? How sure can you be of its predictions? In other words, how can you measure its performance? This is what you will learn in the next video."
      ]
    },
    {
      "cell_type": "markdown",
      "metadata": {
        "id": "QNpcM-Kmnleo"
      },
      "source": [
        "## **1.4-Measuring model performance**\r\n",
        "\r\n",
        "**1. Measuring model performance**\r\n",
        "\r\n",
        "Now that we know how to fit a classifier and use it to predict the labels of previously unseen data, we need to figure out how to measure its performance. That is, we need a metric.\r\n",
        "\r\n",
        "**2. Measuring model performance**\r\n",
        "\r\n",
        "In classification problems, accuracy is a commonly-used metric. The accuracy of a classifier is defined as the number of correct predictions divided by the total number of data points. This begs the question though: which data do we use to compute accuracy? What we are really interested in is how well our model will perform on new data, that is, samples that the algorithm has never seen before.\r\n",
        "\r\n",
        "**3. Measuring model performance**\r\n",
        "\r\n",
        "Well, you could compute the accuracy on the data you used to fit the classifier. However, as this data was used to train it, the classifier's performance will not be indicative of how well it can generalize to unseen data. For this reason, it is common practice to split your data into two sets, a training set and a test set. You train or fit the classifier on the training set. Then you make predictions on the labeled test set and compare these predictions with the known labels. You then compute the accuracy of your predictions.\r\n",
        "\r\n",
        "**4. Train/test split**\r\n",
        "\r\n",
        "To do this, we first import train test split from sklearn dot model selection. We then use the train test split function to randomly split our data. The first argument will be the feature data, the second the targets or labels. The test size keyword argument specifies what proportion of the original data is used for the test set. Lastly, the random state kwarg sets a seed for the random number generator that splits the data into train and test. Setting the seed with the same argument later will allow you to reproduce the exact split and your downstream results. train test split returns four arrays: the training data, the test data, the training labels, and the test labels. We unpack these into four variables: X train, X test, y train, and y test, respectively. By default, train test split splits the data into 75% training data and 25% test data, which is a good rule of thumb. We specify the size of the test size using the keyword argument test size, which we do here to set it to 30%. It is also best practice to perform your split so that the split reflects the the labels on your data. That is, you want the labels to be distributed in train and test sets as they are in the original dataset. To achieve this, we use the keyword argument stratify equals y, where y the list or array containing the labels. We then instantiate our K-nearest neighbors classifier, fit it to the training data using the fit method, make our predictions on the test data and store the results as y pred. Printing them shows that the predictions take on three values, as expected. To check out the accuracy of our model, we use the score method of the model and pass it X test and y test. See here that the accuracy of our K-nearest neighbors model is approximately 95%, which is pretty good for an out-of-the-box model!\r\n",
        "\r\n",
        "\r\n"
      ]
    },
    {
      "cell_type": "code",
      "metadata": {
        "id": "Xf2MI0WgrRAn"
      },
      "source": [
        "In [1]: from sklearn.model_selection import train_test_split\r\n",
        "In [2]: X_train, X_test, y_train, y_test =\r\n",
        " ...: train_test_split(X, y, test_size=0.3,\r\n",
        " ...: random_state=21, stratify=y)\r\n",
        "In [3]: knn = KNeighborsClassifier(n_neighbors=8)\r\n",
        "In [4]: knn.fit(X_train, y_train)\r\n",
        "In [5]: y_pred = knn.predict(X_test)\r\n",
        "In [6]: print(\"Test set predictions:\\n {}\".format(y_pred))\r\n",
        "Test set predictions:\r\n",
        " [2 1 2 2 1 0 1 0 0 1 0 2 0 2 2 0 0 0 1 0 2 2 2 0 1 1 1 0 0\r\n",
        " 1 2 2 0 0 2 2 1 1 2 1 1 0 2 1]\r\n",
        "In [7]: knn.score(X_test, y_test)\r\n",
        "Out[7]: 0.9555555555555556"
      ],
      "execution_count": null,
      "outputs": []
    },
    {
      "cell_type": "markdown",
      "metadata": {
        "id": "qXXVboCVrqZ_"
      },
      "source": [
        "**5. Model complexity**\r\n",
        "\r\n",
        "Recall that we recently discussed the concept of a decision boundary. Here, we visualize a decision boundary for several, increasing values of K in a KNN model. Note that, as K increases, the decision boundary gets smoother and less curvy. Therefore, we consider it to be a less complex model than those with a lower K. Generally, complex models run the risk of being sensitive to noise in the specific data that you have, rather than reflecting general trends in the data. This is know as overfitting.\r\n",
        "\r\n",
        "1 Source: Andreas Müller & Sarah Guido, Introduction to Machine Learning with Python"
      ]
    },
    {
      "cell_type": "markdown",
      "metadata": {
        "id": "f5prd8pCthFF"
      },
      "source": [
        "![](\r\n",
        "https://drive.google.com/uc?export=view&id=1dYN4OVLuOuVlm_Nk6aB5UJF5oOrCAHgu)"
      ]
    },
    {
      "cell_type": "markdown",
      "metadata": {
        "id": "3GZGec3mHGyv"
      },
      "source": [
        "**6. Model complexity and over/underfitting**\r\n",
        "\r\n",
        "If you increase K even more and make the model even simpler, then the model will perform less well on both test and training sets, as indicated in this schematic figure, known as a model complexity curve.\r\n",
        "\r\n",
        "**7. Model complexity and over/underfitting**\r\n",
        "\r\n",
        "This is called underfitting.\r\n",
        "\r\n",
        "8-**Model complexity and over/underfitting**\r\n",
        "\r\n",
        "We can see that there is a sweet spot in the middle that gives us the best performance on the test set."
      ]
    },
    {
      "cell_type": "markdown",
      "metadata": {
        "id": "-FIduBl4IkQE"
      },
      "source": [
        "![](\r\n",
        "https://drive.google.com/uc?export=view&id=1PpCtAvU7BRZ9jVv4u68bNYqM56wwu7DU)"
      ]
    },
    {
      "cell_type": "markdown",
      "metadata": {
        "id": "ycz4-NxmKIGS"
      },
      "source": [
        "### **1.4.1-The digits recognition dataset**\r\n",
        "\r\n",
        "Up until now, you have been performing binary classification, since the target variable had two possible outcomes. Hugo, however, got to perform multi-class classification in the videos, where the target variable could take on three possible outcomes. Why does he get to have all the fun?! In the following exercises, you'll be working with the [MNIST digits](http://yann.lecun.com/exdb/mnist/) recognition dataset, which has 10 classes, the digits 0 through 9! A reduced version of the MNIST dataset is one of scikit-learn's included datasets, and that is the one we will use in this exercise.\r\n",
        "\r\n",
        "Each sample in this scikit-learn dataset is an 8x8 image representing a handwritten digit. Each pixel is represented by an integer in the range 0 to 16, indicating varying levels of black. Recall that scikit-learn's built-in datasets are of type Bunch, which are dictionary-like objects. Helpfully for the MNIST dataset, scikit-learn provides an 'images' key in addition to the 'data' and 'target' keys that you have seen with the Iris data. Because it is a 2D array of the images corresponding to each sample, this 'images' key is useful for visualizing the images, as you'll see in this exercise (for more on plotting 2D arrays, see Chapter 2 of DataCamp's course on Data Visualization with Python). On the other hand, the 'data' key contains the feature array - that is, the images as a flattened array of 64 pixels.\r\n",
        "\r\n",
        "Notice that you can access the keys of these Bunch objects in two different ways: By using the . notation, as in digits.images, or the [] notation, as in digits['images'].\r\n",
        "\r\n",
        "For more on the MNIST data, check out this exercise in Part 1 of DataCamp's Importing Data in Python course. There, the full version of the MNIST dataset is used, in which the images are 28x28. It is a famous dataset in machine learning and computer vision, and frequently used as a benchmark to evaluate the performance of a new model.\r\n",
        "\r\n",
        "\r\n"
      ]
    },
    {
      "cell_type": "markdown",
      "metadata": {
        "id": "OzHI9pqGLp2z"
      },
      "source": [
        "**Instruction**\r\n",
        "- Import datasets from sklearn and matplotlib.pyplot as plt.\r\n",
        "- Load the digits dataset using the .load_digits() method on datasets.\r\n",
        "- Print the keys and DESCR of digits.\r\n",
        "- Print the shape of images and data keys using the . notation.\r\n",
        "- Display the 1011th image using plt.imshow(). This has been done for you, so - "
      ]
    },
    {
      "cell_type": "code",
      "metadata": {
        "id": "ni-INgDJPruZ"
      },
      "source": [
        "# Import necessary modules\r\n",
        "from sklearn import datasets\r\n",
        "import matplotlib.pyplot as plt\r\n",
        "# Load the digits dataset: digits\r\n",
        "digits = datasets.load_digits()\r\n",
        "# Print the keys and DESCR of the dataset\r\n",
        "print(digits.keys())\r\n",
        "print(digits.DESCR)\r\n",
        "# Print the shape of the images and data keys\r\n",
        "print(digits.images.shape)\r\n",
        "print(digits.data.shape)\r\n",
        "# Display digit 1010\r\n",
        "plt.imshow(digits.images[1010], cmap=plt.cm.gray_r, interpolation='nearest')\r\n",
        "plt.show()"
      ],
      "execution_count": null,
      "outputs": []
    },
    {
      "cell_type": "markdown",
      "metadata": {
        "id": "HzNkgyrCPuf6"
      },
      "source": [
        "![](https://drive.google.com/uc?export=view&id=1fxZvtyQK9aDEz5p5r6v507HSg9AOCH07)"
      ]
    },
    {
      "cell_type": "markdown",
      "metadata": {
        "id": "r9B6SKRPQAoL"
      },
      "source": [
        "Good job! It looks like the image in question corresponds to the digit '5'. Now, can you build a classifier that can make this prediction not only for this image, but for all the other ones in the dataset? You'll do so in the next exercise!"
      ]
    },
    {
      "cell_type": "markdown",
      "metadata": {
        "id": "3X9x-ul1QU7R"
      },
      "source": [
        "### **1.4.2 Train/Test Split + Fit/Predict/Accuracy**\r\n",
        "\r\n",
        "Now that you have learned about the importance of splitting your data into training and test sets, it's time to practice doing this on the digits dataset! After creating arrays for the features and target variable, you will split them into training and test sets, fit a k-NN classifier to the training data, and then compute its accuracy using the .score() method.\r\n",
        "\r\n",
        "\r\n"
      ]
    },
    {
      "cell_type": "markdown",
      "metadata": {
        "id": "Neb9FScKQlLe"
      },
      "source": [
        "**Instruction** \r\n",
        "\r\n",
        "- Import KNeighborsClassifier from sklearn.neighbors and train_test_split from sklearn.model_selection.\r\n",
        "- Create an array for the features using digits.data and an array for the target using digits.target.\r\n",
        "- Create stratified training and test sets using 0.2 for the size of the test set. Use a random state of 42. Stratify the split according to the labels so that they are distributed in the training and test sets as they are in the original dataset.\r\n",
        "- Create a k-NN classifier with 7 neighbors and fit it to the training data.\r\n",
        "Compute and print the accuracy of the classifier's predictions using the .score() method."
      ]
    },
    {
      "cell_type": "code",
      "metadata": {
        "id": "xJ2lDOruSYsW"
      },
      "source": [
        "# Import necessary modules\r\n",
        "from sklearn.neighbors import KNeighborsClassifier\r\n",
        "from sklearn.model_selection import train_test_split\r\n",
        "from sklearn import datasets\r\n",
        "# Create feature and target arrays\r\n",
        "X = digits.data\r\n",
        "y = digits.target\r\n",
        "# Split into training and test set\r\n",
        "X_train, X_test, y_train, y_test = train_test_split(X, y, test_size = 0.2, random_state=42, stratify=y)\r\n",
        "# Create a k-NN classifier with 7 neighbors: knn\r\n",
        "knn = KNeighborsClassifier(n_neighbors=7)\r\n",
        "# Fit the classifier to the training data\r\n",
        "knn.fit(X_train,y_train)\r\n",
        "# Print the accuracy\r\n",
        "print(knn.score(X_test, y_test))\r\n"
      ],
      "execution_count": null,
      "outputs": []
    },
    {
      "cell_type": "markdown",
      "metadata": {
        "id": "XmNElNccSbbo"
      },
      "source": [
        "- Print the accuracy\r\n",
        "- print(knn.score(X_test, y_test))\r\n",
        "- 0.9833333333333333"
      ]
    },
    {
      "cell_type": "markdown",
      "metadata": {
        "id": "neaNhYnRStbf"
      },
      "source": [
        "Excellent work! Incredibly, this out of the box k-NN classifier with 7 neighbors has learned from the training data and predicted the labels of the images in the test set with 98% accuracy, and it did so in less than a second! This is one illustration of how incredibly useful machine learning techniques can be."
      ]
    },
    {
      "cell_type": "markdown",
      "metadata": {
        "id": "H9N65LgZSv-U"
      },
      "source": [
        "### **1.4.3 Overfitting and underfitting**\r\n",
        "\r\n",
        "Remember the model complexity curve that Hugo showed in the video? You will now construct such a curve for the digits dataset! In this exercise, you will compute and plot the training and testing accuracy scores for a variety of different neighbor values. By observing how the accuracy scores differ for the training and testing sets with different values of k, you will develop your intuition for overfitting and underfitting.\r\n",
        "\r\n",
        "The training and testing sets are available to you in the workspace as X_train, X_test, y_train, y_test. In addition, KNeighborsClassifier has been imported from sklearn.neighbors.\r\n"
      ]
    },
    {
      "cell_type": "markdown",
      "metadata": {
        "id": "puY6eFcyS_Qc"
      },
      "source": [
        "**Insruction**\r\n",
        "\r\n",
        "- Inside the for loop:\r\n",
        "  - Setup a k-NN classifier with the number of neighbors equal to k.\r\n",
        "- Fit the classifier with k neighbors to the training data.\r\n",
        "- Compute accuracy scores the training set and test set separately using the .- score() method and assign the results to the train_accuracy and test_accuracy arrays respectively."
      ]
    },
    {
      "cell_type": "code",
      "metadata": {
        "id": "0lA9Q7x_sesw"
      },
      "source": [
        "# Setup arrays to store train and test accuracies\r\n",
        "neighbors = np.arange(1, 9)\r\n",
        "train_accuracy = np.empty(len(neighbors))\r\n",
        "test_accuracy = np.empty(len(neighbors))\r\n",
        "# Loop over different values of k\r\n",
        "for i, k in enumerate(neighbors):\r\n",
        "    # Setup a k-NN Classifier with k neighbors: knn\r\n",
        "    knn = KNeighborsClassifier(n_neighbors=k)\r\n",
        "    # Fit the classifier to the training data\r\n",
        "    knn.fit(X_train,y_train)\r\n",
        "    #Compute accuracy on the training set\r\n",
        "    train_accuracy[i] = knn.score(X_train, y_train)\r\n",
        "    #Compute accuracy on the testing set\r\n",
        "    test_accuracy[i] = knn.score(X_test, y_test)\r\n",
        "# Generate plot\r\n",
        "plt.title('k-NN: Varying Number of Neighbors')\r\n",
        "plt.plot(neighbors, test_accuracy, label = 'Testing Accuracy')\r\n",
        "plt.plot(neighbors, train_accuracy, label = 'Training Accuracy')\r\n",
        "plt.legend()\r\n",
        "plt.xlabel('Number of Neighbors')\r\n",
        "plt.ylabel('Accuracy')\r\n",
        "plt.show()\r\n"
      ],
      "execution_count": null,
      "outputs": []
    },
    {
      "cell_type": "markdown",
      "metadata": {
        "id": "jAGVZvf4sjLU"
      },
      "source": [
        "![](\r\n",
        "https://drive.google.com/uc?export=view&id=1YWwLXp6yvdcpm4cn4TKPAPTVkGsxUTnL\r\n",
        ")"
      ]
    },
    {
      "cell_type": "markdown",
      "metadata": {
        "id": "rU6Pe1PftCrK"
      },
      "source": [
        "Great work! It looks like the test accuracy is highest when using 3 and 5 neighbors. Using 8 neighbors or more seems to result in a simple model that underfits the data. Now that you've grasped the fundamentals of classification, you will learn about regression in the next chapter!"
      ]
    },
    {
      "cell_type": "markdown",
      "metadata": {
        "id": "sxoxWxkeQDRi"
      },
      "source": [
        "# **References**\r\n",
        "\r\n",
        "[[1]Supervised Learning with scikit-learn](https://learn.datacamp.com/courses/supervised-learning-with-scikit-learn)\r\n",
        "\r\n",
        "[Exercise](https://github.com/wblakecannon/DataCamp/blob/master/17-supervised-learning-with-scikit-learn/01-classification/01-k-nearest-neighbors-fit.py)"
      ]
    }
  ]
}