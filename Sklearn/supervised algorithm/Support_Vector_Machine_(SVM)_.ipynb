{
  "nbformat": 4,
  "nbformat_minor": 0,
  "metadata": {
    "coursera": {
      "course_slug": "neural-networks-deep-learning",
      "graded_item_id": "XaIWT",
      "launcher_item_id": "zAgPl"
    },
    "kernelspec": {
      "display_name": "Python 3",
      "language": "python",
      "name": "python3"
    },
    "language_info": {
      "codemirror_mode": {
        "name": "ipython",
        "version": 3
      },
      "file_extension": ".py",
      "mimetype": "text/x-python",
      "name": "python",
      "nbconvert_exporter": "python",
      "pygments_lexer": "ipython3",
      "version": "3.6.2"
    },
    "colab": {
      "name": "Support Vector Machine (SVM) .ipynb",
      "provenance": [],
      "collapsed_sections": [],
      "toc_visible": true
    }
  },
  "cells": [
    {
      "cell_type": "markdown",
      "metadata": {
        "id": "2WZFQQORCAcS",
        "colab_type": "text"
      },
      "source": [
        "# Support Vector Machine (SVM) \n",
        "\n",
        "**Introduction:**\n",
        "\n",
        "SVMs are the most popular algorithm for classification in machine learning algorithms. Their mathematical background is quintessential in building the foundational block for the geometrical distinction between the two classes.[1] \n"
      ]
    },
    {
      "cell_type": "markdown",
      "metadata": {
        "id": "H-4wqMJiHrUI",
        "colab_type": "text"
      },
      "source": [
        "![](https://drive.google.com/uc?export=view&id=17EEgUZ0z3lMOLOZoU4BS2EY-iIOgEBpI)"
      ]
    },
    {
      "cell_type": "code",
      "metadata": {
        "id": "l-HyuLjXeIsm",
        "colab_type": "code",
        "colab": {}
      },
      "source": [
        "!git clone https://github.com/hussain0048/Machine-Learning.git"
      ],
      "execution_count": null,
      "outputs": []
    },
    {
      "cell_type": "markdown",
      "metadata": {
        "id": "kNfknPsvHnCj",
        "colab_type": "text"
      },
      "source": [
        "**What is SVM?**\n",
        "\n",
        "Support Vector Machines are a type of supervised machine learning algorithm that provides analysis of data for classification and regression analysis. While they can be used for regression, SVM is mostly used for classification. We carry out plotting in the n-dimensional space. Value of each feature is also the value of the specific coordinate. Then, we find the ideal hyperplane that differentiates between the two classes.\n",
        "\n",
        "These support vectors are the coordinate representations of individual observation. It is a frontier method for segregating the two classes [1]"
      ]
    },
    {
      "cell_type": "markdown",
      "metadata": {
        "id": "KVqWuonLIj6r",
        "colab_type": "text"
      },
      "source": [
        "![](https://drive.google.com/uc?export=view&id=1cWAgdofFTVDzY5GQl9X8zp14ZnS13Ol8)"
      ]
    },
    {
      "cell_type": "markdown",
      "metadata": {
        "id": "8b1l20QuMuqa",
        "colab_type": "text"
      },
      "source": [
        "**How does SVM work?**\n",
        "\n",
        "The basic principle behind the working of Support vector machines is simple – Create a hyperplane that separates the dataset into classes. Let us start with a sample problem. Suppose that for a given dataset, you have to classify red triangles from blue circles. Your goal is to create a line that classifies the data into two classes, creating a distinction between red triangles and blue circles."
      ]
    },
    {
      "cell_type": "markdown",
      "metadata": {
        "id": "QegSNjgYNha7",
        "colab_type": "text"
      },
      "source": [
        "![](https://drive.google.com/uc?export=view&id=1i-PtkBz_aGEsSNJhcfvIzrJnrriRFgqK)"
      ]
    },
    {
      "cell_type": "markdown",
      "metadata": {
        "id": "vMgYtkfENm9r",
        "colab_type": "text"
      },
      "source": [
        "While one can hypothesize a clear line that separates the two classes, there can be many lines that can do this job. Therefore, there is not a single line that you can agree on which can perform this task. Let us visualize some of the lines that can differentiate between the two classes as follows –"
      ]
    },
    {
      "cell_type": "markdown",
      "metadata": {
        "id": "hFzcRm2BN1vb",
        "colab_type": "text"
      },
      "source": [
        "![](https://drive.google.com/uc?export=view&id=1FJcF0cs2fDfINXZ3uAJ-tYxaKJ5EOqBz)"
      ]
    },
    {
      "cell_type": "markdown",
      "metadata": {
        "id": "FrPcV9JlOVya",
        "colab_type": "text"
      },
      "source": [
        "In the above visualizations, we have a green line and a red line. Which one do you think would better differentiate the data into two classes? If you choose the red line, then it is the ideal line that partitions the two classes properly. However, we still have not concretized the fact that it is the universal line that would classify our data most efficiently.\n",
        "\n",
        "The green line cannot be the ideal line as it lies too close to the red class. Therefore, it does not provide a proper generalization which is our end goal.\n",
        "\n",
        "According to SVM, we have to find the points that lie closest to both the classes. These points are known as **support vectors**. In the next step, we find the proximity between our dividing plane and the support vectors. The distance between the points and the dividing line is known as **margin**. The aim of an SVM algorithm is to maximize this very margin. When the margin reaches its maximum, the hyperplane becomes the optimal one."
      ]
    },
    {
      "cell_type": "markdown",
      "metadata": {
        "id": "ReDXdcwZPYua",
        "colab_type": "text"
      },
      "source": [
        "![](https://drive.google.com/uc?export=view&id=1M8XNNcRVa0eVsmzEWZyYsYg9qYRZXU3F)"
      ]
    },
    {
      "cell_type": "markdown",
      "metadata": {
        "id": "EvVgcrNlRPdM",
        "colab_type": "text"
      },
      "source": [
        "The SVM model tries to enlarge the distance between the two classes by creating a well-defined decision boundary. In the above case, our hyperplane divided the data. While our data was in 2 dimensions, the hyperplane was of 1 dimension. For higher dimensions, say, an n-dimensional Euclidean Space, we have an n-1 dimensional subset that divides the space into two disconnected components."
      ]
    },
    {
      "cell_type": "markdown",
      "metadata": {
        "id": "x_l24wD5RU2t",
        "colab_type": "text"
      },
      "source": [
        "#**2-How to implement SVM in Python?**"
      ]
    },
    {
      "cell_type": "markdown",
      "metadata": {
        "id": "beVu-1UqCAcU",
        "colab_type": "text"
      },
      "source": [
        "## **2.1 - Importing necessary libraries**"
      ]
    },
    {
      "cell_type": "code",
      "metadata": {
        "id": "ZF03EKpuCAcV",
        "colab_type": "code",
        "colab": {}
      },
      "source": [
        "import pandas as pd\n",
        "import numpy as np                            #DataFlair\n",
        "import matplotlib.pyplot as plt\n",
        "from matplotlib.colors import ListedColormap\n",
        "import matplotlib.pyplot as plt\n",
        "from sklearn import datasets\n",
        "from sklearn.svm import SVC\n",
        "from sklearn.model_selection import train_test_split\n",
        "from sklearn.preprocessing import StandardScaler\n",
        "%pylab inline"
      ],
      "execution_count": null,
      "outputs": []
    },
    {
      "cell_type": "markdown",
      "metadata": {
        "collapsed": true,
        "id": "nhYP15aoCAcf",
        "colab_type": "text"
      },
      "source": [
        "## **2.2 - Load Datasets**\n",
        "In the second step of implementation of SVM in Python, we will use the iris dataset that is available with the load_iris() method. We will only make use of the petal length and width in this analysis.\n"
      ]
    },
    {
      "cell_type": "code",
      "metadata": {
        "id": "TQphjbMJSL34",
        "colab_type": "code",
        "colab": {}
      },
      "source": [
        "pylab.rcParams['figure.figsize'] = (10, 6)\n",
        "iris_data = datasets.load_iris()\n",
        "# We'll use the petal length and width only for this analysis\n",
        "X = iris_data.data[:, [2, 3]]\n",
        "y = iris_data.target\n",
        "# Input the iris data into the pandas dataframe\n",
        "iris_dataframe = pd.DataFrame(iris_data.data[:, [2, 3]],\n",
        "                  columns=iris_data.feature_names[2:])\n",
        "# View the first 5 rows of the data\n",
        "print(iris_dataframe.head())\n",
        "# Print the unique labels of the dataset\n",
        "print('\\n' + 'Unique Labels contained in this data are '\n",
        "     + str(np.unique(y)))"
      ],
      "execution_count": null,
      "outputs": []
    },
    {
      "cell_type": "markdown",
      "metadata": {
        "id": "P4QYI2IoHWpL",
        "colab_type": "text"
      },
      "source": [
        "## **2.3 - Splitting Data Into Train/Test Sets**\n",
        "In the next step, we will split our data into training and test set using the train_test_split() function as follows –"
      ]
    },
    {
      "cell_type": "code",
      "metadata": {
        "id": "-z8pZcxWTWes",
        "colab_type": "code",
        "colab": {
          "base_uri": "https://localhost:8080/",
          "height": 34
        },
        "outputId": "129c096b-8a06-4fc7-8d2c-f42e7ff5924c"
      },
      "source": [
        "X_train, X_test, y_train, y_test = train_test_split(X, y, test_size=0.3, random_state=0)\n",
        "print('The training set contains {} samples and the test set contains {} samples'.format(X_train.shape[0], X_test.shape[0]))"
      ],
      "execution_count": null,
      "outputs": [
        {
          "output_type": "stream",
          "text": [
            "The training set contains 105 samples and the test set contains 45 samples\n"
          ],
          "name": "stdout"
        }
      ]
    },
    {
      "cell_type": "markdown",
      "metadata": {
        "id": "f_LkZDbxvRNM",
        "colab_type": "text"
      },
      "source": [
        "## **2.4 - Visualizing Data**\n",
        "Let us now visualize our data. We observe that one of the classes is linearly separable.\n"
      ]
    },
    {
      "cell_type": "code",
      "metadata": {
        "id": "5RmDFIQlv7B4",
        "colab_type": "code",
        "colab": {}
      },
      "source": [
        "markers = ('x', 's', 'o')\n",
        "colors = ('red', 'blue', 'green')\n",
        "cmap = ListedColormap(colors[:len(np.unique(y_test))])\n",
        "for idx, cl in enumerate(np.unique(y)):\n",
        "    plt.scatter(x=X[y == cl, 0], y=X[y == cl, 1],\n",
        "           c=cmap(idx), marker=markers[idx], label=cl)"
      ],
      "execution_count": null,
      "outputs": []
    },
    {
      "cell_type": "markdown",
      "metadata": {
        "id": "Zio5iZsm5-f6",
        "colab_type": "text"
      },
      "source": [
        "## **2.5-Data Scalling**\n",
        "Then, we will perform scaling on our data. Scaling will ensure that all of our data-values lie on a common range such that there are no extreme values."
      ]
    },
    {
      "cell_type": "code",
      "metadata": {
        "id": "1BaUQqe16TDb",
        "colab_type": "code",
        "colab": {}
      },
      "source": [
        "standard_scaler = StandardScaler()\n",
        "#DataFlair\n",
        "standard_scaler.fit(X_train)\n",
        "X_train_standard = standard_scaler.transform(X_train)\n",
        "X_test_standard = standard_scaler.transform(X_test)\n",
        "print('The first five rows after standardisation look like this:\\n')\n",
        "print(pd.DataFrame(X_train_standard, columns=iris_dataframe.columns).head())"
      ],
      "execution_count": null,
      "outputs": []
    },
    {
      "cell_type": "markdown",
      "metadata": {
        "id": "ehTTQE9YJF1Q",
        "colab_type": "text"
      },
      "source": [
        "##**2.6- Fitting SVM Model**\n",
        "After we have pre-processed our data, the next step is the implementation of the SVM model as follows. We will make use of the SVC function provided to us by the sklearn library. In this instance, we will select our kernel as ‘rbf’."
      ]
    },
    {
      "cell_type": "code",
      "metadata": {
        "scrolled": true,
        "id": "TvqFi8-XCAcy",
        "colab_type": "code",
        "colab": {}
      },
      "source": [
        "#DataFlair\n",
        "SVM = SVC(kernel='rbf', random_state=0, gamma=.10, C=1.0)\n",
        "SVM.fit(X_train_standard, y_train)\n",
        "print('Accuracy of our SVM model on the training data is {:.2f} out of 1'.format(SVM.score(X_train_standard, y_train)))\n",
        "print('Accuracy of our SVM model on the test data is {:.2f} out of 1'.format(SVM.score(X_test_standard, y_test)))\n"
      ],
      "execution_count": null,
      "outputs": []
    },
    {
      "cell_type": "markdown",
      "metadata": {
        "id": "izbM6eEUKAV-",
        "colab_type": "text"
      },
      "source": [
        "## **2.7-Result Visulization**\n",
        "After we have achieved our accuracy, the best course of action would be to visualize our SVM model. We can do this by creating a function called decision_plot() and passing values to it as follows –\n"
      ]
    },
    {
      "cell_type": "code",
      "metadata": {
        "id": "zt-vctO1Kb3o",
        "colab_type": "code",
        "colab": {}
      },
      "source": [
        " import warnings\n",
        "def versiontuple(version):\n",
        "   return tuple(map(int, (version.split(\".\"))))\n",
        "def decision_plot(X, y, classifier, test_idx=None, resolution=0.02):\n",
        "   # setup marker generator and color map\n",
        "   markers = ('s', 'x', 'o', '^', 'v')\n",
        "   colors = ('red', 'blue', 'green', 'gray', 'cyan')\n",
        "   cmap = ListedColormap(colors[:len(np.unique(y))])\n",
        "   # plot the decision surface\n",
        "   x1min, x1max = X[:, 0].min() - 1, X[:, 0].max() + 1\n",
        "   x2min, x2max = X[:, 1].min() - 1, X[:, 1].max() + 1\n",
        "   xx1, xx2 = np.meshgrid(np.arange(x1min, x1max, resolution),\n",
        "                 np.arange(x2min, x2max, resolution))\n",
        "   Z = classifier.predict(np.array([xx1.ravel(), xx2.ravel()]).T)\n",
        "   Z = Z.reshape(xx1.shape)\n",
        "   plt.contourf(xx1, xx2, Z, alpha=0.4, cmap=cmap)\n",
        "   plt.xlim(xx1.min(), xx1.max())\n",
        "   plt.ylim(xx2.min(), xx2.max())\n",
        "   for idx, cl in enumerate(np.unique(y)):\n",
        "      plt.scatter(x=X[y == cl, 0], y=X[y == cl, 1],\n",
        "              alpha=0.8, c=cmap(idx),\n",
        "              marker=markers[idx], label=cl)"
      ],
      "execution_count": null,
      "outputs": []
    },
    {
      "cell_type": "code",
      "metadata": {
        "id": "xqzO3cJd7ptl",
        "colab_type": "code",
        "colab": {}
      },
      "source": [
        "decision_plot(X_test_standard, y_test, SVM)\n"
      ],
      "execution_count": null,
      "outputs": []
    },
    {
      "cell_type": "markdown",
      "metadata": {
        "id": "38xv6OCnGaTV",
        "colab_type": "text"
      },
      "source": [
        "# **Refences**\n",
        "[1] Support Vector Machines Tutorial\n",
        "\n",
        "https://data-flair.training/blogs/svm-support-vector-machine-tutorial/?fbclid=IwAR0WAHSGp4wFaVpT38IfpQXsHTgSzM8ziTkrjaXGQtzAPmbQy9oMcDjrRvE\n",
        "\n",
        "How to insert an inline image in Google Colaboratory from Google Drive\n",
        "\n",
        "https://stackoverflow.com/questions/50670920/how-to-insert-an-inline-image-in-google-colaboratory-from-google-drive"
      ]
    }
  ]
}