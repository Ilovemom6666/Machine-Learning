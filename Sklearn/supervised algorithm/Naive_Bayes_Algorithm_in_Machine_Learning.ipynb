{
  "nbformat": 4,
  "nbformat_minor": 0,
  "metadata": {
    "colab": {
      "name": "Naive Bayes Algorithm in Machine Learning.ipynb",
      "provenance": []
    },
    "kernelspec": {
      "name": "python3",
      "display_name": "Python 3"
    },
    "language_info": {
      "name": "python"
    }
  },
  "cells": [
    {
      "cell_type": "markdown",
      "metadata": {
        "id": "2ReRIaHRDJwq"
      },
      "source": [
        "# **Introduction**"
      ]
    },
    {
      "cell_type": "markdown",
      "metadata": {
        "id": "2vldBcOaDU9B"
      },
      "source": [
        "In machine learning, the Naive Bayes algorithm is based on Bayes’ theorem with naïve assumptions. This makes it easier to train a model by assuming that the features are independent of each other. In this article, I will give you an introduction to the Naive Bayes algorithm in Machine Learning and its implementation using Python."
      ]
    },
    {
      "cell_type": "markdown",
      "metadata": {
        "id": "3yJkU0w5DWsy"
      },
      "source": [
        "In machine learning, the Naive Bayes is a classification algorithm based on Bayes’ theorem. It is said to be naive because the foundation of this algorithm is based on naive assumptions. Some of the advantages of this algorithm are:\n",
        "\n",
        "- It is a very simple algorithm for classification problems compared to other classification algorithms.\n",
        "- It is also a very powerful algorithm which implies that it is faster to predict labels using it compared to other classification algorithms.\n",
        "- Another advantage of using it is that it can also give better results on small datasets compared to other algorithms."
      ]
    },
    {
      "cell_type": "markdown",
      "metadata": {
        "id": "Tzi1tw53DrUS"
      },
      "source": [
        "Like all other machine learning algorithms, it also has some drawbacks. One of the biggest drawbacks that sometimes matters in classification issues is that Naive Bayes have a very strong assumption that features are independent of each other. It is therefore difficult to find such datasets in real problems where the features are independent of each other."
      ]
    },
    {
      "cell_type": "markdown",
      "metadata": {
        "id": "BifXbMvDDze7"
      },
      "source": [
        "# **Assumptions:**"
      ]
    },
    {
      "cell_type": "markdown",
      "metadata": {
        "id": "7e6AK4UHD8uz"
      },
      "source": [
        "The naive hypothesis of the Naive Bayes classifier states that each entity in the dataset makes an independent and equal contribution to the prediction of the labels.\n",
        "\n",
        "Simply put, we can say that we may not find any correlation between features and that each feature has equal importance for the formation of a classification model.\n",
        "\n",
        "These assumptions are usually not true when working in real-life problems, but the algorithm still works well, which is why it is known as the “naive” Bayes."
      ]
    },
    {
      "cell_type": "markdown",
      "metadata": {
        "id": "i2y-KQh1EHSJ"
      },
      "source": [
        "**Types:**\n",
        "\n",
        "There are three types of Naive Bayes classifiers which depend on the distribution of the dataset, namely; Gaussian, Mautinomial and Bernoulli. Let’s review the types of Naive Bayes Classifier before we implement this algorithm using Python:\n",
        "\n",
        "- Gaussian: It is used when the dataset is normally distributed.\n",
        "- Multinomial: It is used when the dataset contains discrete values.\n",
        "- Bernoulli: It is used while working on binary classification problems."
      ]
    },
    {
      "cell_type": "markdown",
      "metadata": {
        "id": "N6VCaPDyEVAy"
      },
      "source": [
        "**Naive Bayes Algorithm Using Python**\n",
        "\n",
        "Hope so far you may have discovered a lot of facts about Naive Bayes classification algorithm in machine learning. Now in this section, I will walk you through how to implement it using the Python programming language. Here I will be using the classic iris dataset for this task:"
      ]
    },
    {
      "cell_type": "code",
      "metadata": {
        "colab": {
          "base_uri": "https://localhost:8080/"
        },
        "id": "Rl8S77LBEUTb",
        "outputId": "d20590c5-759c-4f34-966d-74bfb6fcd2c0"
      },
      "source": [
        "from sklearn.naive_bayes import GaussianNB\n",
        "from sklearn.naive_bayes import MultinomialNB\n",
        "from sklearn import datasets\n",
        "from sklearn.metrics import confusion_matrix\n",
        "iris = datasets.load_iris()\n",
        "gnb = GaussianNB()\n",
        "mnb = MultinomialNB()\n",
        "y_pred_gnb = gnb.fit(iris.data, iris.target).predict(iris.data)\n",
        "cnf_matrix_gnb = confusion_matrix(iris.target, y_pred_gnb)\n",
        "print(cnf_matrix_gnb)"
      ],
      "execution_count": 1,
      "outputs": [
        {
          "output_type": "stream",
          "text": [
            "[[50  0  0]\n",
            " [ 0 47  3]\n",
            " [ 0  3 47]]\n"
          ],
          "name": "stdout"
        }
      ]
    },
    {
      "cell_type": "code",
      "metadata": {
        "colab": {
          "base_uri": "https://localhost:8080/"
        },
        "id": "DiTu6btfEg8B",
        "outputId": "dbb74cb4-57c7-4db6-e54b-1fe70f9294a3"
      },
      "source": [
        "y_pred_mnb = mnb.fit(iris.data, iris.target).predict(iris.data)\n",
        "cnf_matrix_mnb = confusion_matrix(iris.target, y_pred_mnb)\n",
        "print(cnf_matrix_mnb)"
      ],
      "execution_count": 2,
      "outputs": [
        {
          "output_type": "stream",
          "text": [
            "[[50  0  0]\n",
            " [ 0 46  4]\n",
            " [ 0  3 47]]\n"
          ],
          "name": "stdout"
        }
      ]
    },
    {
      "cell_type": "markdown",
      "metadata": {
        "id": "FDJ9vY_0EloR"
      },
      "source": [
        "**Conclusion**\n",
        "\n",
        "This is how easy it is to implement the Naive Bayes algorithm using Python for classification problems in machine learning. Some of the real-time issues where the Naive Bayes classifier can be used are:\n",
        "\n",
        "- Text Classification\n",
        "- Spam Detection\n",
        "- Sentiment Analysis\n",
        "- Recommendation Systems\n",
        "\n",
        "I hope you liked this article on Naive Bayes classifier in machine learning and its implementation using Python. Feel free to ask your valuable questions in the comments section below."
      ]
    },
    {
      "cell_type": "markdown",
      "metadata": {
        "id": "AbDjpQd3C8mi"
      },
      "source": [
        "# **References**"
      ]
    },
    {
      "cell_type": "markdown",
      "metadata": {
        "id": "L4CtOLMnDBuL"
      },
      "source": [
        "[Naive Bayes Algorithm in Machine Learning](https://thecleverprogrammer.com/2021/02/07/naive-bayes-algorithm-in-machine-learning/)"
      ]
    }
  ]
}