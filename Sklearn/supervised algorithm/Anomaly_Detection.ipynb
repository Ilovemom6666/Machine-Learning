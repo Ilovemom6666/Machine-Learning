{
  "nbformat": 4,
  "nbformat_minor": 0,
  "metadata": {
    "coursera": {
      "course_slug": "neural-networks-deep-learning",
      "graded_item_id": "XaIWT",
      "launcher_item_id": "zAgPl"
    },
    "kernelspec": {
      "display_name": "Python 3",
      "language": "python",
      "name": "python3"
    },
    "language_info": {
      "codemirror_mode": {
        "name": "ipython",
        "version": 3
      },
      "file_extension": ".py",
      "mimetype": "text/x-python",
      "name": "python",
      "nbconvert_exporter": "python",
      "pygments_lexer": "ipython3",
      "version": "3.6.2"
    },
    "colab": {
      "name": "Anomaly Detection.ipynb",
      "provenance": [],
      "collapsed_sections": [],
      "toc_visible": true
    }
  },
  "cells": [
    {
      "cell_type": "markdown",
      "metadata": {
        "id": "2WZFQQORCAcS",
        "colab_type": "text"
      },
      "source": [
        "# **Anomaly Detection [Outliers Detection]**\n",
        "\n",
        "**Introduction:**\n",
        "\n",
        "Anomaly detection is a process where you find out the list of outliers from your data. An outlier is a sample that has inconsistent data compared to other regular samples hence raises suspicion on their validity. The presence of outliers can also impact the performance of machine learning algorithms when performing supervised tasks. It can also interfere with data scaling which is a common data preprocessing step. As a part of this tutorial, we'll be discussing estimators available in scikit-learn which can help with identifying outliers from data.\n",
        "\n",
        "Below is a list of scikit-learn estimators which let us identify outliers present in data that we'll be discussing as a part of this tutorial:\n",
        "\n",
        " - KernelDensity\n",
        " - OneClassSVM\n",
        " = IsolationForest\n",
        " - LocalOutlierFactor\n",
        " \n",
        "We'll be explaining the usage of each one with various examples.\n",
        "\n",
        "Let’s start by importing the necessary libraries."
      ]
    },
    {
      "cell_type": "code",
      "metadata": {
        "id": "CD1Ko0KzD67p",
        "colab_type": "code",
        "colab": {}
      },
      "source": [
        "!git clone https://github.com/hussain0048/Machine-Learning.git"
      ],
      "execution_count": null,
      "outputs": []
    },
    {
      "cell_type": "markdown",
      "metadata": {
        "id": "beVu-1UqCAcU",
        "colab_type": "text"
      },
      "source": [
        "# **Importing necessary libraries** #"
      ]
    },
    {
      "cell_type": "code",
      "metadata": {
        "id": "ZF03EKpuCAcV",
        "colab_type": "code",
        "colab": {}
      },
      "source": [
        "import numpy as np\n",
        "import pandas as pd\n",
        "import matplotlib.pyplot as plt\n",
        "import sklearn\n",
        "import warnings\n",
        "warnings.filterwarnings(\"ignore\")\n",
        "%matplotlib inline"
      ],
      "execution_count": 2,
      "outputs": []
    },
    {
      "cell_type": "markdown",
      "metadata": {
        "collapsed": true,
        "id": "nhYP15aoCAcf",
        "colab_type": "text"
      },
      "source": [
        "# **Load Datasets**\n",
        "We'll start by loading two datasets that we'll be using for our explanation purpose.\n",
        "\n",
        "- Blobs Dataset - We have created a blobs dataset which has data of 3 clusters with 500 samples and 2 features per sample. We'll be using this dataset primarily for an explanation of sklearn estimators.\n",
        "- Digits Dataset - The second dataset that we'll load is digits dataset which has 1797 images of 0-9 digits. Each image is of size 8x8 which is flattened and kept as an array of size 64.\n"
      ]
    },
    {
      "cell_type": "code",
      "metadata": {
        "id": "y1wsGi52CAch",
        "colab_type": "code",
        "colab": {
          "base_uri": "https://localhost:8080/",
          "height": 34
        },
        "outputId": "4012a260-58bf-4262-ef73-0b6769f2a53a"
      },
      "source": [
        " from sklearn.datasets import make_blobs\n",
        "\n",
        "X, Y = make_blobs(n_features=2, centers=3, n_samples=500,\n",
        "                  random_state=42)\n",
        "\n",
        "print(\"Dataset Size : \", X.shape, Y.shape)"
      ],
      "execution_count": 3,
      "outputs": [
        {
          "output_type": "stream",
          "text": [
            "Dataset Size :  (500, 2) (500,)\n"
          ],
          "name": "stdout"
        }
      ]
    },
    {
      "cell_type": "code",
      "metadata": {
        "id": "9CVNbUV9G1dy",
        "colab_type": "code",
        "colab": {
          "base_uri": "https://localhost:8080/",
          "height": 265
        },
        "outputId": "758bf179-c8d7-4bc3-d87f-da98c15f4f9b"
      },
      "source": [
        "with plt.style.context(\"ggplot\"):\n",
        "    plt.scatter(X[:, 0], X[:, 1], c=\"tab:green\")"
      ],
      "execution_count": 4,
      "outputs": [
        {
          "output_type": "display_data",
          "data": {
            "image/png": "[encoded data removed]",
            "text/plain": [
              "<Figure size 432x288 with 1 Axes>"
            ]
          },
          "metadata": {
            "tags": []
          }
        }
      ]
    },
    {
      "cell_type": "code",
      "metadata": {
        "id": "hbk3ih0aJwq4",
        "colab_type": "code",
        "colab": {
          "base_uri": "https://localhost:8080/",
          "height": 34
        },
        "outputId": "087bde97-0cce-4d65-9469-8e910f178caa"
      },
      "source": [
        "from sklearn.datasets import load_digits\n",
        "\n",
        "digits = load_digits()\n",
        "\n",
        "X_digits, Y_digits = digits.data, digits.target\n",
        "\n",
        "print(\"Dataset Size : \", X_digits.shape, Y_digits.shape)"
      ],
      "execution_count": 5,
      "outputs": [
        {
          "output_type": "stream",
          "text": [
            "Dataset Size :  (1797, 64) (1797,)\n"
          ],
          "name": "stdout"
        }
      ]
    },
    {
      "cell_type": "markdown",
      "metadata": {
        "id": "P4QYI2IoHWpL",
        "colab_type": "text"
      },
      "source": [
        "# 1- **KernelDensity** \n",
        "The KernelDensity estimator is available as a part of the kde module of the neighbors module of sklearn. It helps us measure kernel density of samples which can be then used to take out outliers. It uses KDTree or BallTree algorithm for kernel density estimation.\n",
        "\n",
        "Below is a list of important parameters of KernelDensity estimator:\n",
        "\n",
        "- algorithm - It accepts string value specifying which algorithm to use for kernel density estimation. We can specify one of the below values for this parameter.\n",
        "  - auto - Default.\n",
        "  - kd_tree\n",
        "  - ball_tree\n",
        "- kernel - It accepts string which let us specify which kernel to use for estimation. We can specify one of the below values.\n",
        "  - gaussian\n",
        "  - tophat\n",
        "  - epanechnikov\n",
        "  - exponential\n",
        "  - linear\n",
        "  - cosine"
      ]
    },
    {
      "cell_type": "markdown",
      "metadata": {
        "id": "s5gnX_D54aZ1",
        "colab_type": "text"
      },
      "source": [
        "## 1.1  Fitting Model to Data\n",
        "\n",
        "We'll first fit the KernelDensity estimator to our dataset using fit() method of it and then use it for finding out outliers"
      ]
    },
    {
      "cell_type": "code",
      "metadata": {
        "id": "uOA7lWQ7RRTP",
        "colab_type": "code",
        "colab": {}
      },
      "source": [
        "from sklearn.neighbors.kde import KernelDensity\n",
        "# Estimate density with a Gaussian kernel density estimator\n",
        "kde = KernelDensity(kernel='gaussian')\n",
        "kde.fit(X)"
      ],
      "execution_count": null,
      "outputs": []
    },
    {
      "cell_type": "markdown",
      "metadata": {
        "id": "ehTTQE9YJF1Q",
        "colab_type": "text"
      },
      "source": [
        "## 1.2 - Calculate Log Density Evaluations for Each Sample\n",
        "The KernelDensity estimator has a method named score_samples() which accepts dataset and returns log density evaluations for each sample of data. We'll divide these values into 95% as valid data and 5% as outliers based on the output of score_samples() function."
      ]
    },
    {
      "cell_type": "code",
      "metadata": {
        "scrolled": true,
        "id": "TvqFi8-XCAcy",
        "colab_type": "code",
        "colab": {
          "base_uri": "https://localhost:8080/",
          "height": 34
        },
        "outputId": "7a00741e-83cb-4f8b-83da-8f83226cd145"
      },
      "source": [
        "kde_X = kde.score_samples(X)\n",
        "kde_X[:5]  # contains the log-likelihood of the data. The smaller it is the rarer is the sample"
      ],
      "execution_count": 7,
      "outputs": [
        {
          "output_type": "execute_result",
          "data": {
            "text/plain": [
              "array([-4.08546941, -5.33064441, -4.97908884, -4.18442233, -4.03465512])"
            ]
          },
          "metadata": {
            "tags": []
          },
          "execution_count": 7
        }
      ]
    },
    {
      "cell_type": "markdown",
      "metadata": {
        "id": "izbM6eEUKAV-",
        "colab_type": "text"
      },
      "source": [
        "## 1.3-Dividing Dataset into Valid Samples and Outliers\n",
        "Below we are trying to find out quantiles value for 5% of total data. We'll use that value to divide data into outliers and valid samples"
      ]
    },
    {
      "cell_type": "code",
      "metadata": {
        "id": "zt-vctO1Kb3o",
        "colab_type": "code",
        "colab": {}
      },
      "source": [
        "from scipy.stats.mstats import mquantiles\n",
        "\n",
        "alpha_set = 0.95\n",
        "tau_kde = mquantiles(kde_X, 1. - alpha_set)\n",
        "\n",
        "tau_kde"
      ],
      "execution_count": null,
      "outputs": []
    },
    {
      "cell_type": "markdown",
      "metadata": {
        "id": "DgyAtanLYfoT",
        "colab_type": "text"
      },
      "source": [
        "All the values in kde_X array which are less than tau_kde will be outliers and values greater than it will be qualified as valid samples. We'll try to find out indexes of samples that are outliers and valid. We'll then use these indexes to filter data to divide it into outliers and valid samples."
      ]
    },
    {
      "cell_type": "code",
      "metadata": {
        "id": "VblL63efYhza",
        "colab_type": "code",
        "colab": {}
      },
      "source": [
        "outliers = np.argwhere(kde_X < tau_kde)\n",
        "outliers = outliers.flatten()\n",
        "X_outliers = X[outliers]\n",
        "\n",
        "normal_samples = np.argwhere(kde_X >= tau_kde)\n",
        "normal_samples = normal_samples.flatten()\n",
        "X_valid = X[normal_samples]\n",
        "\n",
        "print(\"Original Samples : \",X.shape[0])\n",
        "print(\"Number of Outliers : \", len(outliers))\n",
        "print(\"Number of Normal Samples : \", len(normal_samples))"
      ],
      "execution_count": null,
      "outputs": []
    },
    {
      "cell_type": "markdown",
      "metadata": {
        "id": "1x8QNZN3CAdF",
        "colab_type": "text"
      },
      "source": [
        "## 1.4 -Plot Outliers with Valid Samples for Comparison\n",
        "We have designed the method below named plot_outliers_with_valid_samples which takes as input valid samples and outliers and then plots them using different colors to differentiate between them. The figure will give a better idea about the performance of KernelDensity.\n"
      ]
    },
    {
      "cell_type": "code",
      "metadata": {
        "id": "zNBdXxiHLfLW",
        "colab_type": "code",
        "colab": {}
      },
      "source": [
        "def plot_outliers_with_valid_samples(X_valid, X_outliers):\n",
        "    with plt.style.context((\"seaborn\", \"ggplot\")):\n",
        "        plt.scatter(X_valid[:, 0], X_valid[:, 1], c=\"tab:green\", label=\"Valid Samples\")\n",
        "        plt.scatter(X_outliers[:, 0], X_outliers[:, 1], c=\"tab:red\", label=\"Outliers\")\n",
        "        plt.legend(loc=\"best\")"
      ],
      "execution_count": 10,
      "outputs": []
    },
    {
      "cell_type": "code",
      "metadata": {
        "id": "RkXFMVZP76K4",
        "colab_type": "code",
        "colab": {}
      },
      "source": [
        "plot_outliers_with_valid_samples(X_valid, X_outliers)"
      ],
      "execution_count": null,
      "outputs": []
    },
    {
      "cell_type": "markdown",
      "metadata": {
        "id": "-WNB53OY8IfG",
        "colab_type": "text"
      },
      "source": [
        "#2 OneClassSVM \n",
        "\n",
        "The OneClassSVM estimator is available as a part of svm module of sklearn. It's based on the SVM algorithm which is used behind the scene to make a decision about the sample is outlier or not.\n",
        "\n",
        "Below is a list of important parameters of OneClasSVM which can be tweaked further to get better results:\n",
        "\n",
        " - kernel - It specifies the kernel type to be used for SVM. It accepts one of the below values as input.\n",
        "   - linear\n",
        "   - poly\n",
        "   - rbf\n",
        "   - sigmoid\n",
        "   - precomputed\n",
        " - degree - It accepts integer specifying degree of polynomial kernel (kernel='poly'). It's ignored when other kernels are used.\n",
        " - gamma - It specifies kernel coefficient to use for rbf, poly and sigmoid kernels. It accepts one of the below string or float as input.\n",
        "  - scale - It uses 1 / (n_features * X.var()) as value of gamma.\n",
        "  - auto - Default. It uses 1 / n_features as the value of gamma.\n",
        " - nu - It accepts float value in the range (0, 1] specifying upper bound on the fraction of training errors and lower bound on the fraction of support vectors.\n",
        " - cache_size - It specifies kernel cache size in MB. It accepts integer values as input. The default value is 200 MB. It’s recommended using more value for bigger datasets for better performance."
      ]
    },
    {
      "cell_type": "markdown",
      "metadata": {
        "id": "QR5OSQxWrk6B",
        "colab_type": "text"
      },
      "source": [
        "## 2.1 Fitting Model to Data¶\n",
        "We'll now fit OneClassSVM to our Gaussian blobs dataset. We'll then use the trained model to make predictions about samples to let us know whether the sample is an outlier or not."
      ]
    },
    {
      "cell_type": "code",
      "metadata": {
        "id": "-_ykAt_v8egH",
        "colab_type": "code",
        "colab": {}
      },
      "source": [
        "from sklearn.svm import OneClassSVM\n",
        "\n",
        "nu = 0.05  # theory says it should be an upper bound of the fraction of outliers\n",
        "ocsvm = OneClassSVM(kernel='rbf', gamma=0.05, nu=nu)\n",
        "ocsvm.fit(X)"
      ],
      "execution_count": null,
      "outputs": []
    },
    {
      "cell_type": "markdown",
      "metadata": {
        "id": "BdpTOYOlCAdP",
        "colab_type": "text"
      },
      "source": [
        "## 2.2-Predict Sample Class (Outlier vs Normal)¶\n",
        "\n",
        "OneClassSVM provides predict() method which accepts samples and returns array consisting of values 1 or -1. Here 1 represents a valid sample and -1 represents an outlier.\n"
      ]
    },
    {
      "cell_type": "code",
      "metadata": {
        "id": "R5uHKjQWZ0WV",
        "colab_type": "code",
        "colab": {}
      },
      "source": [
        "preds = ocsvm.predict(X)\n",
        "preds[:10]"
      ],
      "execution_count": null,
      "outputs": []
    },
    {
      "cell_type": "markdown",
      "metadata": {
        "id": "lTe0Qqi3CAeA",
        "colab_type": "text"
      },
      "source": [
        "## 2.3 - Dividing Dataset into Valid Samples and Outliers\n",
        "\n",
        "We'll now filter original data and divide it into two categories.\n",
        "\n",
        "- Valid Samples\n",
        "= Outliers\n",
        "We'll also print the size of samples that were considered outliers by model."
      ]
    },
    {
      "cell_type": "code",
      "metadata": {
        "id": "Kq4Ho1l8Ksjt",
        "colab_type": "code",
        "colab": {}
      },
      "source": [
        "X_outliers = X[preds == -1]\n",
        "X_valid = X[preds != -1]\n",
        "\n",
        "print(\"Original Samples : \",X.shape[0])\n",
        "print(\"Number of Outliers : \", X_outliers.shape[0])\n",
        "print(\"Number of Normal Samples : \", X_valid.shape[0])"
      ],
      "execution_count": null,
      "outputs": []
    },
    {
      "cell_type": "markdown",
      "metadata": {
        "id": "-VwPfoQSS4Av",
        "colab_type": "text"
      },
      "source": [
        "## 2.4 Plot Outliers with Valid Samples for Comparison"
      ]
    },
    {
      "cell_type": "code",
      "metadata": {
        "id": "7bB5XBn5tOFX",
        "colab_type": "code",
        "colab": {}
      },
      "source": [
        "plot_outliers_with_valid_samples(X_valid, X_outliers)"
      ],
      "execution_count": null,
      "outputs": []
    },
    {
      "cell_type": "markdown",
      "metadata": {
        "id": "qrZx-6XeziR0",
        "colab_type": "text"
      },
      "source": [
        "## 2.5 Important Attributes and methods of OneClassSVM\n",
        "Below is a list of important attributes and methods of OneClassSVM which can be used once the model is trained to get meaningful insights.\n",
        "\n",
        "- support_ - It returns indices of support vectors.\n",
        "- support_vectors_ - It returns actual support vectors of SVM.\n",
        "dual_coef_ - It represents coefficients of support vectors in decision function.\n",
        "- coef_ - It returns an array of the same size as that of features in dataset representing weights assigned to each feature. It works only when kernel linear is used.\n",
        "- intercept_ - It returns single float value representing intercept when using linear kernel.\n",
        "- decision_function(X) - It accepts dataset as input and returns signed distance for each sample of data. If the distance is positive then the sample is valid and outlier if negative.\n"
      ]
    },
    {
      "cell_type": "code",
      "metadata": {
        "id": "_q87nKz4zxr1",
        "colab_type": "code",
        "colab": {}
      },
      "source": [
        "print(\"Support Indices : \",ocsvm.support_)"
      ],
      "execution_count": null,
      "outputs": []
    },
    {
      "cell_type": "code",
      "metadata": {
        "id": "OPUBga2Atw83",
        "colab_type": "code",
        "colab": {}
      },
      "source": [
        "print(\"Support Vector Sizes : \", ocsvm.support_vectors_.shape)\n",
        "ocsvm.support_vectors_[:5]"
      ],
      "execution_count": null,
      "outputs": []
    },
    {
      "cell_type": "code",
      "metadata": {
        "id": "5sgDFaxjt9lE",
        "colab_type": "code",
        "colab": {}
      },
      "source": [
        "print(\"Dual Coef Size \", ocsvm.dual_coef_.shape)\n",
        "ocsvm.dual_coef_[0][:5]"
      ],
      "execution_count": null,
      "outputs": []
    },
    {
      "cell_type": "code",
      "metadata": {
        "id": "yyTJvAmAuL11",
        "colab_type": "code",
        "colab": {}
      },
      "source": [
        "ocsvm_X = ocsvm.decision_function(X)\n",
        "\n",
        "X_outliers = X[ocsvm_X < 0]\n",
        "X_valid = X[ocsvm_X > 0]\n",
        "\n",
        "print(\"Number of Outliers : \", X_outliers.shape[0])\n",
        "print(\"Number of Normal Samples : \", X_valid.shape[0])\n",
        "\n",
        "ocsvm_X[:10]"
      ],
      "execution_count": null,
      "outputs": []
    },
    {
      "cell_type": "markdown",
      "metadata": {
        "id": "uYtLLnosvWLU",
        "colab_type": "text"
      },
      "source": [
        "We can notice from the above output that decision_function() can be used to find out outliers as well and it'll return the same indexes as predict() for samples which are outliers."
      ]
    },
    {
      "cell_type": "markdown",
      "metadata": {
        "id": "_Sq0XpVN0UZ7",
        "colab_type": "text"
      },
      "source": [
        "## 2.6-Trying OneClassSVM on DIGITS Dataset.\n",
        "We are now trying OneClassSVM on the digits dataset. We'll fit it to digits data and then use it to predict whether a sample is an outlier or not"
      ]
    },
    {
      "cell_type": "markdown",
      "metadata": {
        "id": "oFeG8p_Sv2JX",
        "colab_type": "text"
      },
      "source": [
        "## 2.7 Fitting Model to Data\n"
      ]
    },
    {
      "cell_type": "code",
      "metadata": {
        "id": "YQ2nyHRV0dnH",
        "colab_type": "code",
        "colab": {}
      },
      "source": [
        " nu = 0.05  # theory says it should be an upper bound of the fraction of outliers\n",
        "ocsvm = OneClassSVM(kernel='rbf', gamma=0.05, nu=nu)\n",
        "ocsvm.fit(X_digits)"
      ],
      "execution_count": null,
      "outputs": []
    },
    {
      "cell_type": "markdown",
      "metadata": {
        "id": "lUnd-y071Epv",
        "colab_type": "text"
      },
      "source": [
        "## 2.8- Predict Sample Class (Outlier vs Normal)\n"
      ]
    },
    {
      "cell_type": "code",
      "metadata": {
        "id": "LsBaFnzd1U_l",
        "colab_type": "code",
        "colab": {}
      },
      "source": [
        "preds = ocsvm.predict(X_digits)\n",
        "preds[:10]\n"
      ],
      "execution_count": null,
      "outputs": []
    },
    {
      "cell_type": "markdown",
      "metadata": {
        "id": "05Gq2A7BCAeX",
        "colab_type": "text"
      },
      "source": [
        "## 2.9 -Dividing Dataset into Valid Samples and Outliers"
      ]
    },
    {
      "cell_type": "code",
      "metadata": {
        "id": "JS5rUYkYesAE",
        "colab_type": "code",
        "colab": {}
      },
      "source": [
        "X_outliers = X_digits[preds == -1]\n",
        "X_valid = X_digits[preds != -1]\n",
        "print(\"Original Samples : \",X_digits.shape[0])\n",
        "print(\"Number of Outliers : \", X_outliers.shape[0])\n",
        "print(\"Number of Normal Samples : \", X_valid.shape[0])"
      ],
      "execution_count": null,
      "outputs": []
    },
    {
      "cell_type": "markdown",
      "metadata": {
        "id": "rWCpBVwViJPO",
        "colab_type": "text"
      },
      "source": [
        "## 2.10. Plot Few Valid and Outlier Samples \n",
        "We'll now plot a few valid samples and few outliers for digits dataset.\n"
      ]
    },
    {
      "cell_type": "code",
      "metadata": {
        "id": "xgxfwrTXJ8xY",
        "colab_type": "code",
        "colab": {}
      },
      "source": [
        "def plot_few_outliers(X_outliers):\n",
        "    outliers = []\n",
        "    for x in X_outliers[:10]:\n",
        "        outliers.append(x.reshape(8,8))\n",
        "\n",
        "    fig = plt.figure(figsize=(10,4))\n",
        "    plt.imshow(np.hstack(outliers), cmap=\"Blues\");\n",
        "\n",
        "plot_few_outliers(X_outliers)"
      ],
      "execution_count": null,
      "outputs": []
    },
    {
      "cell_type": "code",
      "metadata": {
        "id": "Yipu36tIKI3a",
        "colab_type": "code",
        "colab": {
          "base_uri": "https://localhost:8080/",
          "height": 104
        },
        "outputId": "35c256ad-5ee0-40c4-8a64-0e6ce5d39d6d"
      },
      "source": [
        "def plot_few_valid_samples(X_valid):\n",
        "    valid_samples = []\n",
        "    for x in X_valid[:10]:\n",
        "        valid_samples.append(x.reshape(8,8))\n",
        "\n",
        "    fig = plt.figure(figsize=(10,4))\n",
        "    plt.imshow(np.hstack(valid_samples), cmap=\"Blues\");\n",
        "\n",
        "plot_few_valid_samples(X_valid)"
      ],
      "execution_count": 24,
      "outputs": [
        {
          "output_type": "display_data",
          "data": {
            "image/png": "[encoded data removed]",
            "text/plain": [
              "<Figure size 720x288 with 1 Axes>"
            ]
          },
          "metadata": {
            "tags": [],
            "needs_background": "light"
          }
        }
      ]
    },
    {
      "cell_type": "markdown",
      "metadata": {
        "id": "6as5LRNgjTng",
        "colab_type": "text"
      },
      "source": [
        "#3- IsolationForest\n",
        "\n",
        "IsolationForest is another estimator available as a part of the ensemble module of sklearn which can be used for anomaly detection. It measures the anomaly scores for each sample based on the isolation forest algorithm. IsolationForest isolates samples by randomly selecting a feature of the sample and then randomly selecting a split value between maximum and minimum of the selected sample. It recursively partitions samples based on features that can be represented as tree structures. This results in a number of splittings required to isolate the sample are equal to path length in a tree. This path length can be used to make a decision about the sample being normal or an outlier. Outliers generally have short path lengths.\n",
        "\n",
        "Below is a list of important attributes of IsolationForest which can be tweaked for better performance:\n",
        "\n",
        "n_estimators - It accepts integer representing number of base estimators to use for IsolationForest. default=100\n",
        "max_samples - It represents a number of samples to draw from the dataset to train each base estimator. It accepts the below-mentioned values.\n",
        "auto - Default. It takes min(256, n_samples) as value of max_samples.\n",
        "int - We can specify integer value specifying the number of samples.\n",
        "float - We can specify float value between 0-1 and it'll take that fraction of samples from original data for training.\n",
        "contamination - It specifies the number of outliers in the dataset. It accepts one of the below values as input.\n",
        "auto - Default. The value for the number of outliers from the original dataset is determined automatically.\n",
        "float - It let us specify float value between 0-0.5 and set that many proportions of samples as outliers."
      ]
    },
    {
      "cell_type": "markdown",
      "metadata": {
        "collapsed": true,
        "id": "yN3QOkmDCAed",
        "colab_type": "text"
      },
      "source": [
        "## 3.1 - Fitting Model to Data\n",
        "We'll now fit IsolationForest to our Gaussian blobs dataset. We'll then use the trained model to make predictions about samples to let us know whether sample is an outlier or not.  "
      ]
    },
    {
      "cell_type": "code",
      "metadata": {
        "id": "nKMoGy7D4KXW",
        "colab_type": "code",
        "colab": {}
      },
      "source": [
        "from sklearn.ensemble import IsolationForest\n",
        "iforest = IsolationForest(n_estimators=300, contamination=0.05)\n",
        "iforest.fit(X)"
      ],
      "execution_count": null,
      "outputs": []
    },
    {
      "cell_type": "markdown",
      "metadata": {
        "id": "ZO6HAiq04ZKr",
        "colab_type": "text"
      },
      "source": [
        "## 3.2 Predict Sample Class (Outlier vs Normal)¶\n",
        "IsolationForest provides predict() method which accepts samples and returns array consisting of values 1 or -1. Here 1 represents a valid sample and -1 represents an outlier.\n",
        "\n"
      ]
    },
    {
      "cell_type": "code",
      "metadata": {
        "id": "woRGjqgH4lTo",
        "colab_type": "code",
        "colab": {}
      },
      "source": [
        "preds = iforest.predict(X)\n",
        "preds[:10]"
      ],
      "execution_count": null,
      "outputs": []
    },
    {
      "cell_type": "markdown",
      "metadata": {
        "id": "_xH8Qq6J72il",
        "colab_type": "text"
      },
      "source": [
        "## 3.3 -Dividing Dataset into Valid Samples and Outliers"
      ]
    },
    {
      "cell_type": "code",
      "metadata": {
        "id": "Jcudcn3rgf7k",
        "colab_type": "code",
        "colab": {}
      },
      "source": [
        "X_outliers = X[preds == -1]\n",
        "X_valid = X[preds != -1]\n",
        "print(\"Original Samples : \",X.shape[0])\n",
        "print(\"Number of Outliers : \", X_outliers.shape[0])\n",
        "print(\"Number of Normal Samples : \", X_valid.shape[0])"
      ],
      "execution_count": null,
      "outputs": []
    },
    {
      "cell_type": "markdown",
      "metadata": {
        "id": "J75Rv0fr8qWA",
        "colab_type": "text"
      },
      "source": [
        "## 3.4 Plot Outliers with Valid Samples for Comparison¶"
      ]
    },
    {
      "cell_type": "code",
      "metadata": {
        "id": "bDoYPVl48x_C",
        "colab_type": "code",
        "colab": {}
      },
      "source": [
        "plot_outliers_with_valid_samples(X_valid, X_outliers)\n"
      ],
      "execution_count": null,
      "outputs": []
    },
    {
      "cell_type": "markdown",
      "metadata": {
        "id": "4-Ubl4dFR1IG",
        "colab_type": "text"
      },
      "source": [
        "## 3.5 Important Attributes and Methods of IsolationForest\n",
        "\n",
        "Below is a list of important attributes and methods of IsolationForest which can be used once the model is trained to get meaningful insights.\n",
        "\n",
        "- estimators_ - It returns a list of base estimators that were trained during training.\n",
        "- threshold_ - It returns threshold value which will be used to make a decision about the sample is an outlier or not.\n",
        "- decision_function(X) - It takes dataset as input and returns average anomaly score for each feature. We can then divide the dataset into normal and outliers based on the threshold_ attribute and these parameter values."
      ]
    },
    {
      "cell_type": "code",
      "metadata": {
        "id": "1UlaNus5S00W",
        "colab_type": "code",
        "colab": {}
      },
      "source": [
        "iforest.estimators_[:2]\n"
      ],
      "execution_count": null,
      "outputs": []
    },
    {
      "cell_type": "code",
      "metadata": {
        "id": "7szrlQiBNOnW",
        "colab_type": "code",
        "colab": {}
      },
      "source": [
        "iforest.threshold_\n"
      ],
      "execution_count": null,
      "outputs": []
    },
    {
      "cell_type": "markdown",
      "metadata": {
        "id": "oCmBoS8CNX5l",
        "colab_type": "text"
      },
      "source": [
        "Below we are splitting the dataset into valid samples and outliers using output of decision_function() and threshold_ value found out after training model."
      ]
    },
    {
      "cell_type": "code",
      "metadata": {
        "id": "dE8tUADZNax8",
        "colab_type": "code",
        "colab": {}
      },
      "source": [
        "results = iforest.decision_function(X)\n",
        "\n",
        "outliers  = X[results < iforest.threshold_]\n",
        "valid_samples = X[results >= iforest.threshold_]\n",
        "\n",
        "print(\"Number of Outliers : \", outliers.shape[0])\n",
        "print(\"Number of Valid Samples : \", valid_samples.shape[0])"
      ],
      "execution_count": null,
      "outputs": []
    },
    {
      "cell_type": "markdown",
      "metadata": {
        "id": "Y2MOQ4EQSOR3",
        "colab_type": "text"
      },
      "source": [
        "##3.6.Trying IsolationForest on DIGITS Dataset."
      ]
    },
    {
      "cell_type": "code",
      "metadata": {
        "id": "gH3RPskMSFz8",
        "colab_type": "code",
        "colab": {}
      },
      "source": [
        "plot_confusion_matrix(Y_test, complement_nb_grid.best_estimator_.predict(X_test))"
      ],
      "execution_count": null,
      "outputs": []
    },
    {
      "cell_type": "markdown",
      "metadata": {
        "id": "63Bpx7DCS_Hg",
        "colab_type": "text"
      },
      "source": [
        "##3.7 Fitting Default Model To Train Data"
      ]
    },
    {
      "cell_type": "code",
      "metadata": {
        "id": "fRZyu778bBmb",
        "colab_type": "code",
        "colab": {}
      },
      "source": [
        "iforest = IsolationForest(n_estimators=300, contamination=0.05)\n",
        "iforest.fit(X_digits)"
      ],
      "execution_count": null,
      "outputs": []
    },
    {
      "cell_type": "markdown",
      "metadata": {
        "id": "Na4QkhBbbKUT",
        "colab_type": "text"
      },
      "source": [
        "##3.8 Predict Sample Class (Outlier vs Normal)"
      ]
    },
    {
      "cell_type": "code",
      "metadata": {
        "id": "n4jiDFJnbJAw",
        "colab_type": "code",
        "colab": {}
      },
      "source": [
        "preds = iforest.predict(X_digits)\n",
        "preds[:10]"
      ],
      "execution_count": null,
      "outputs": []
    },
    {
      "cell_type": "markdown",
      "metadata": {
        "id": "CZfpXMFLbiDQ",
        "colab_type": "text"
      },
      "source": [
        "##3.9 Dividing Dataset into Valid Samples and Outliers"
      ]
    },
    {
      "cell_type": "code",
      "metadata": {
        "id": "TXpM8bIebn7-",
        "colab_type": "code",
        "colab": {
          "base_uri": "https://localhost:8080/",
          "height": 68
        },
        "outputId": "130ea0e3-7140-40a1-aa62-6e79a2b710f9"
      },
      "source": [
        " X_outliers = X_digits[preds == -1]\n",
        "X_valid = X_digits[preds != -1]\n",
        "\n",
        "print(\"Original Samples : \",X_digits.shape[0])\n",
        "print(\"Number of Outliers : \", X_outliers.shape[0])\n",
        "print(\"Number of Normal Samples : \", X_valid.shape[0])"
      ],
      "execution_count": 37,
      "outputs": [
        {
          "output_type": "stream",
          "text": [
            "Original Samples :  1797\n",
            "Number of Outliers :  90\n",
            "Number of Normal Samples :  1707\n"
          ],
          "name": "stdout"
        }
      ]
    },
    {
      "cell_type": "markdown",
      "metadata": {
        "id": "rkHO3kcibyVR",
        "colab_type": "text"
      },
      "source": [
        "## 3.10 Plot Few Valid and Outlier Samples"
      ]
    },
    {
      "cell_type": "code",
      "metadata": {
        "id": "MJthSM_lcDZ_",
        "colab_type": "code",
        "colab": {}
      },
      "source": [
        "plot_few_outliers(X_outliers)\n"
      ],
      "execution_count": null,
      "outputs": []
    },
    {
      "cell_type": "code",
      "metadata": {
        "id": "z3NMSeXacQf4",
        "colab_type": "code",
        "colab": {}
      },
      "source": [
        "plot_few_valid_samples(X_valid)\n"
      ],
      "execution_count": null,
      "outputs": []
    },
    {
      "cell_type": "markdown",
      "metadata": {
        "id": "cOU8Vi0BccAJ",
        "colab_type": "text"
      },
      "source": [
        "# 4-LocalOutlierFactor ¶\n",
        "\n",
        "The LocalOutlierFactor estimator is available as the neighbors module of sklearn which is another estimator that lets us find out whether a sample from the dataset is an outlier or not. It measures the local density of a sample with respect to its neighbors. Based on a comparison between the local density of the sample and its neighbors, the decision is made whether the sample is an outlier or not.\n",
        "\n",
        "Below is a list of important attributes of IsolationForest which can be tweaked for better performance:\n",
        "\n",
        "- n_neighbors - It accepts integer value specifying the number of neighbors to use for deciding whether to consider sample outlier or not.\n",
        "- algorithm - It accepts string value specifying the algorithm to use for nearest neighbors. Below is a list of possible values.\n",
        " - auto - Default\n",
        " - kd_tree\n",
        " - ball_tree\n",
        "`- brute\n",
        "- metric - It accepts string or callable function specifying metric to use for distance computation. The default value is minkowski for this parameter. Please refer sklearn docs for list of possible metrics for this parameter.\n",
        "- contamination - It specifies amount of outliers in the dataset. It accepts one of the below values as input.\n",
        "auto - Default. The value for the number of outliers from the original dataset is determined automatically.\n",
        "float - It let us specify float value between 0-0.5 and set that many proportions of samples as outliers."
      ]
    },
    {
      "cell_type": "markdown",
      "metadata": {
        "id": "YLbupXO4mHSk",
        "colab_type": "text"
      },
      "source": [
        "## 4.1 Fitting a model \n",
        "We'll now fit LocalOutlierFactor to our Gaussian blobs dataset. We'll then use the trained model to make predictions about samples to let us know whether the sample is an outlier or not."
      ]
    },
    {
      "cell_type": "code",
      "metadata": {
        "id": "oH7k634FcuyQ",
        "colab_type": "code",
        "colab": {}
      },
      "source": [
        "from sklearn.neighbors import LocalOutlierFactor\n",
        "\n",
        "lof = LocalOutlierFactor()"
      ],
      "execution_count": 40,
      "outputs": []
    },
    {
      "cell_type": "markdown",
      "metadata": {
        "id": "mdpo2iWxdBaY",
        "colab_type": "text"
      },
      "source": [
        "## 4.2 Predict Sample Class (Outlier vs Normal)¶\n",
        "\n",
        "LocalOutlierFactor provides predict() method which accepts samples and returns array consisting of values 1 or -1. Here 1 represents a valid sample and -1 represents an outlier."
      ]
    },
    {
      "cell_type": "code",
      "metadata": {
        "id": "BPRXvkRfdHcy",
        "colab_type": "code",
        "colab": {}
      },
      "source": [
        "preds = lof.fit_predict(X)\n",
        "preds[:10]"
      ],
      "execution_count": null,
      "outputs": []
    },
    {
      "cell_type": "markdown",
      "metadata": {
        "id": "ndMJgpqWmqdv",
        "colab_type": "text"
      },
      "source": [
        "## 4.3 Dividing Dataset into Valid Samples and Outliers# "
      ]
    },
    {
      "cell_type": "code",
      "metadata": {
        "id": "cXsmpuJLmyVu",
        "colab_type": "code",
        "colab": {}
      },
      "source": [
        "X_outliers = X[preds == -1]\n",
        "X_valid = X[preds != -1]\n",
        "print(\"Original Samples : \",X.shape[0])\n",
        "print(\"Number of Outliers : \", X_outliers.shape[0])\n",
        "print(\"Number of Normal Samples : \", X_valid.shape[0])"
      ],
      "execution_count": null,
      "outputs": []
    },
    {
      "cell_type": "markdown",
      "metadata": {
        "id": "OvuOCngrm6BE",
        "colab_type": "text"
      },
      "source": [
        "## 4.4 Plot Outliers with Valid Samples for Comparison"
      ]
    },
    {
      "cell_type": "code",
      "metadata": {
        "id": "z12dBlIim_z_",
        "colab_type": "code",
        "colab": {}
      },
      "source": [
        "plot_outliers_with_valid_samples(X_valid, X_outliers)\n"
      ],
      "execution_count": null,
      "outputs": []
    },
    {
      "cell_type": "markdown",
      "metadata": {
        "id": "x9fj3uyCnJPM",
        "colab_type": "text"
      },
      "source": [
        "## 4.5 Important Attributes and Methods of LocalOutlierFactor\n",
        "Below is a list of important attributes and methods of LocalOutlierFactor which can be used once the model is trained to get meaningful insights.\n",
        "\n",
        "- negative_outlier_factor_ - It represents the opposite of LOF of data samples. The higher the value for the sample, the more normal it is.\n",
        "- offset_ - It specifies a value which can be used as a threshold to divide samples into normal or outlier based on negative_outlier_factor_ values of samples"
      ]
    },
    {
      "cell_type": "code",
      "metadata": {
        "id": "S91-mf_2nYOV",
        "colab_type": "code",
        "colab": {}
      },
      "source": [
        "lof.offset_\n"
      ],
      "execution_count": null,
      "outputs": []
    },
    {
      "cell_type": "code",
      "metadata": {
        "id": "PfBiycL6nd6w",
        "colab_type": "code",
        "colab": {}
      },
      "source": [
        "print(\"Negative Outlier Factor Shape : \", lof.negative_outlier_factor_.shape)\n"
      ],
      "execution_count": null,
      "outputs": []
    },
    {
      "cell_type": "markdown",
      "metadata": {
        "id": "qH72gEvtnkdO",
        "colab_type": "text"
      },
      "source": [
        "Below we are dividing the dataset into normal and outliers based on offset_ and negative_outlier_factor_ parameters of LocalOutlierFactor. It gives the same result as that of predict()"
      ]
    },
    {
      "cell_type": "code",
      "metadata": {
        "id": "wZxyq-ZMnf6-",
        "colab_type": "code",
        "colab": {
          "base_uri": "https://localhost:8080/",
          "height": 51
        },
        "outputId": "7ca63034-6fc7-44a0-f8df-926a51503740"
      },
      "source": [
        "outliers  = X[lof.negative_outlier_factor_ < lof.offset_]\n",
        "valid_samples = X[lof.negative_outlier_factor_ >= lof.offset_]\n",
        "\n",
        "print(\"Number of Outliers : \", outliers.shape[0])\n",
        "print(\"Number of Valid Samples : \", valid_samples.shape[0])"
      ],
      "execution_count": 46,
      "outputs": [
        {
          "output_type": "stream",
          "text": [
            "Number of Outliers :  30\n",
            "Number of Valid Samples :  470\n"
          ],
          "name": "stdout"
        }
      ]
    },
    {
      "cell_type": "markdown",
      "metadata": {
        "id": "mkTxtY6LntT3",
        "colab_type": "text"
      },
      "source": [
        "## 4.6 Trying LocalOutlierFactor on DIGITS Dataset"
      ]
    },
    {
      "cell_type": "markdown",
      "metadata": {
        "id": "DbfMI870n2BP",
        "colab_type": "text"
      },
      "source": [
        "## 4.7  Fitting Model to Data¶\n"
      ]
    },
    {
      "cell_type": "code",
      "metadata": {
        "id": "NQzX-6Ozn8N1",
        "colab_type": "code",
        "colab": {}
      },
      "source": [
        "lof = LocalOutlierFactor(n_neighbors=100)\n",
        "\n",
        "preds = lof.fit_predict(X_digits)\n",
        "preds[:10]\n"
      ],
      "execution_count": null,
      "outputs": []
    },
    {
      "cell_type": "markdown",
      "metadata": {
        "id": "-DQxvm18oB7s",
        "colab_type": "text"
      },
      "source": [
        "## 4.8 Dividing Dataset into Valid Samples and Outliers "
      ]
    },
    {
      "cell_type": "code",
      "metadata": {
        "id": "mRee_6ZBoJf9",
        "colab_type": "code",
        "colab": {}
      },
      "source": [
        "X_outliers = X_digits[preds == -1]\n",
        "X_valid = X_digits[preds != -1]\n",
        "\n",
        "print(\"Original Samples : \",X_digits.shape[0])\n",
        "print(\"Number of Outliers : \", X_outliers.shape[0])\n",
        "print(\"Number of Normal Samples : \", X_valid.shape[0])"
      ],
      "execution_count": null,
      "outputs": []
    },
    {
      "cell_type": "markdown",
      "metadata": {
        "id": "GAjpEo4voWuA",
        "colab_type": "text"
      },
      "source": [
        "##4.9 Plot Few Valid and Outlier Samples"
      ]
    },
    {
      "cell_type": "code",
      "metadata": {
        "id": "EpNIPBc9oTCp",
        "colab_type": "code",
        "colab": {}
      },
      "source": [
        "plot_few_outliers(X_outliers)"
      ],
      "execution_count": null,
      "outputs": []
    },
    {
      "cell_type": "code",
      "metadata": {
        "id": "jO1_w4A-oniv",
        "colab_type": "code",
        "colab": {}
      },
      "source": [
        "plot_few_valid_samples(X_valid)\n"
      ],
      "execution_count": null,
      "outputs": []
    },
    {
      "cell_type": "markdown",
      "metadata": {
        "id": "vm7uTbEWCAei",
        "colab_type": "text"
      },
      "source": [
        "References:\n",
        "Scikit-Learn - Anomaly Detection [Outliers Detection]\n",
        "https://coderzcolumn.com/tutorials/machine-learning/scikit-learn-sklearn-anomaly-detection-outliers-detection"
      ]
    },
    {
      "cell_type": "code",
      "metadata": {
        "id": "7LvqfD4BCAei",
        "colab_type": "code",
        "colab": {}
      },
      "source": [
        ""
      ],
      "execution_count": null,
      "outputs": []
    }
  ]
}