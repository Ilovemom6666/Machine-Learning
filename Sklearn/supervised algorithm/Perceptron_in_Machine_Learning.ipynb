{
  "nbformat": 4,
  "nbformat_minor": 0,
  "metadata": {
    "colab": {
      "name": "Perceptron in Machine Learning.ipynb",
      "provenance": [],
      "toc_visible": true
    },
    "kernelspec": {
      "name": "python3",
      "display_name": "Python 3"
    },
    "language_info": {
      "name": "python"
    }
  },
  "cells": [
    {
      "cell_type": "markdown",
      "metadata": {
        "id": "XgG-pUdEI3CK"
      },
      "source": [
        "# **Introduction**\n",
        "Perceptron is one of the simplest architecture of **Artificial Neural Networks** in Machine Learning. It was invented by **Frank Rosenblatt in 1957**. In this article, I will take you through an introduction to Perceptron in Machine Learning and its implementation using Python.\n",
        "\n",
        "Perceptron is a type of neural network architecture that falls under the category of the simplest form of artificial neural networks. The Perceptrons are generally based on different types of artificial neurons known as **Threshold Logic Unit (TLU) or sometimes Linear Threshold Unit (LTU).** The inputs and outputs of a perceptron are numbers, unlike the values we see using a classification algorithm like logistic regression (True or False values).\n",
        "\n",
        "Perceptrons are made up of a single layer of Threshold Logic Unit where each TLU is connected to all inputs. A single TLU can be used to solve the binary classification problem and if all neurons in one layer are connected to each neuron in the previous layer, it is called a fully connected layer or dense layer. Such types of architectures can be used in the problems of multiclass classification.\n"
      ]
    },
    {
      "cell_type": "markdown",
      "metadata": {
        "id": "hBtctHfzJGya"
      },
      "source": [
        "# **Implementation of Perceptron using Python**\n",
        "\n",
        "Thus, a Perceptron is the simplest architecture of an artificial neural network that can be used to train binary or multiclass classification models. Now let’s see the implementation of perceptrons using Python. Here I will use a perceptron on the classic iris dataset to classify iris species. Here is how we can implement Perceptron using Python:\n"
      ]
    },
    {
      "cell_type": "code",
      "metadata": {
        "colab": {
          "base_uri": "https://localhost:8080/"
        },
        "id": "EwAapSDzIlmZ",
        "outputId": "2570f288-e0f1-4f8e-8f0d-e777e0ba3222"
      },
      "source": [
        "import numpy as np\n",
        "from sklearn.datasets import load_iris\n",
        "from sklearn.linear_model import Perceptron\n",
        "iris = load_iris()\n",
        "x = iris.data[:,(2,3)] #petal length, petal width\n",
        "y = (iris.target == 0).astype(np.int) #iris setosa\n",
        "perceptron = Perceptron()\n",
        "perceptron.fit(x, y)\n",
        "ypred = perceptron.predict([[2, 0.5]])\n",
        "print(ypred)"
      ],
      "execution_count": 8,
      "outputs": [
        {
          "output_type": "stream",
          "text": [
            "[0]\n"
          ],
          "name": "stdout"
        }
      ]
    },
    {
      "cell_type": "markdown",
      "metadata": {
        "id": "v4H1RuMkS4-L"
      },
      "source": [
        "The performance of Perceptrons strongly resembles the stochastic gradient descent algorithm in machine learning. But unlike a classification algorithm, perceptrons do not produce a binary class output because they make predictions on hard thresholds. This is why machine learning classification algorithms are more preferred than using a Perceptron architecture to solve a classification problem."
      ]
    },
    {
      "cell_type": "markdown",
      "metadata": {
        "id": "K-wD6XrbKwKJ"
      },
      "source": [
        "# **Summary**\n",
        "Perceptrons are a type of neural network architecture that falls under the category of the simplest form of artificial neural networks. I hope you liked this article on an introduction to Perceptrons in machine learning and its implementation using the Python programming language. Feel free to ask your valuable questions in the comments section below.\n"
      ]
    },
    {
      "cell_type": "markdown",
      "metadata": {
        "id": "uOu2ttBhIqPr"
      },
      "source": [
        "# **References**\n",
        "\n",
        "[Perceptron in Machine Learning](https://thecleverprogrammer.com/2021/05/23/perceptron-in-machine-learning/)"
      ]
    }
  ]
}