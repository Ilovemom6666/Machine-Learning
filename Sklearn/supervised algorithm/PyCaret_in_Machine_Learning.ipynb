{
  "nbformat": 4,
  "nbformat_minor": 0,
  "metadata": {
    "colab": {
      "name": "PyCaret in Machine Learning.ipynb",
      "provenance": [],
      "collapsed_sections": [],
      "toc_visible": true
    },
    "kernelspec": {
      "name": "python3",
      "display_name": "Python 3"
    },
    "language_info": {
      "name": "python"
    },
    "widgets": {
      "application/vnd.jupyter.widget-state+json": {
        "0220f0a96fe04a0a95fcda3809bf41b8": {
          "model_module": "@jupyter-widgets/controls",
          "model_name": "IntProgressModel",
          "state": {
            "_view_name": "ProgressView",
            "style": "IPY_MODEL_f9969d5c22af4df0a5b3360b097e8524",
            "_dom_classes": [],
            "description": "Processing: ",
            "_model_name": "IntProgressModel",
            "bar_style": "",
            "max": 69,
            "_view_module": "@jupyter-widgets/controls",
            "_model_module_version": "1.5.0",
            "value": 69,
            "_view_count": null,
            "_view_module_version": "1.5.0",
            "orientation": "horizontal",
            "min": 0,
            "description_tooltip": null,
            "_model_module": "@jupyter-widgets/controls",
            "layout": "IPY_MODEL_ebd245073db741908dcd1c5a472066e4"
          }
        },
        "f9969d5c22af4df0a5b3360b097e8524": {
          "model_module": "@jupyter-widgets/controls",
          "model_name": "ProgressStyleModel",
          "state": {
            "_view_name": "StyleView",
            "_model_name": "ProgressStyleModel",
            "description_width": "",
            "_view_module": "@jupyter-widgets/base",
            "_model_module_version": "1.5.0",
            "_view_count": null,
            "_view_module_version": "1.2.0",
            "bar_color": null,
            "_model_module": "@jupyter-widgets/controls"
          }
        },
        "ebd245073db741908dcd1c5a472066e4": {
          "model_module": "@jupyter-widgets/base",
          "model_name": "LayoutModel",
          "state": {
            "_view_name": "LayoutView",
            "grid_template_rows": null,
            "right": null,
            "justify_content": null,
            "_view_module": "@jupyter-widgets/base",
            "overflow": null,
            "_model_module_version": "1.2.0",
            "_view_count": null,
            "flex_flow": null,
            "width": null,
            "min_width": null,
            "border": null,
            "align_items": null,
            "bottom": null,
            "_model_module": "@jupyter-widgets/base",
            "top": null,
            "grid_column": null,
            "overflow_y": null,
            "overflow_x": null,
            "grid_auto_flow": null,
            "grid_area": null,
            "grid_template_columns": null,
            "flex": null,
            "_model_name": "LayoutModel",
            "justify_items": null,
            "grid_row": null,
            "max_height": null,
            "align_content": null,
            "visibility": null,
            "align_self": null,
            "height": null,
            "min_height": null,
            "padding": null,
            "grid_auto_rows": null,
            "grid_gap": null,
            "max_width": null,
            "order": null,
            "_view_module_version": "1.2.0",
            "grid_template_areas": null,
            "object_position": null,
            "object_fit": null,
            "grid_auto_columns": null,
            "margin": null,
            "display": null,
            "left": null
          }
        },
        "864d0ba8d18c4ad4bfcca94f49f0a091": {
          "model_module": "@jupyter-widgets/controls",
          "model_name": "IntProgressModel",
          "state": {
            "_view_name": "ProgressView",
            "style": "IPY_MODEL_be72c4021fe345f0acff913e6f9b03b9",
            "_dom_classes": [],
            "description": "Processing: ",
            "_model_name": "IntProgressModel",
            "bar_style": "",
            "max": 4,
            "_view_module": "@jupyter-widgets/controls",
            "_model_module_version": "1.5.0",
            "value": 4,
            "_view_count": null,
            "_view_module_version": "1.5.0",
            "orientation": "horizontal",
            "min": 0,
            "description_tooltip": null,
            "_model_module": "@jupyter-widgets/controls",
            "layout": "IPY_MODEL_622969e1582243ae9ab931800ce03661"
          }
        },
        "be72c4021fe345f0acff913e6f9b03b9": {
          "model_module": "@jupyter-widgets/controls",
          "model_name": "ProgressStyleModel",
          "state": {
            "_view_name": "StyleView",
            "_model_name": "ProgressStyleModel",
            "description_width": "",
            "_view_module": "@jupyter-widgets/base",
            "_model_module_version": "1.5.0",
            "_view_count": null,
            "_view_module_version": "1.2.0",
            "bar_color": null,
            "_model_module": "@jupyter-widgets/controls"
          }
        },
        "622969e1582243ae9ab931800ce03661": {
          "model_module": "@jupyter-widgets/base",
          "model_name": "LayoutModel",
          "state": {
            "_view_name": "LayoutView",
            "grid_template_rows": null,
            "right": null,
            "justify_content": null,
            "_view_module": "@jupyter-widgets/base",
            "overflow": null,
            "_model_module_version": "1.2.0",
            "_view_count": null,
            "flex_flow": null,
            "width": null,
            "min_width": null,
            "border": null,
            "align_items": null,
            "bottom": null,
            "_model_module": "@jupyter-widgets/base",
            "top": null,
            "grid_column": null,
            "overflow_y": null,
            "overflow_x": null,
            "grid_auto_flow": null,
            "grid_area": null,
            "grid_template_columns": null,
            "flex": null,
            "_model_name": "LayoutModel",
            "justify_items": null,
            "grid_row": null,
            "max_height": null,
            "align_content": null,
            "visibility": null,
            "align_self": null,
            "height": null,
            "min_height": null,
            "padding": null,
            "grid_auto_rows": null,
            "grid_gap": null,
            "max_width": null,
            "order": null,
            "_view_module_version": "1.2.0",
            "grid_template_areas": null,
            "object_position": null,
            "object_fit": null,
            "grid_auto_columns": null,
            "margin": null,
            "display": null,
            "left": null
          }
        }
      }
    }
  },
  "cells": [
    {
      "cell_type": "markdown",
      "metadata": {
        "id": "m8jHcY87GZUH"
      },
      "source": [
        "# **Introduction** "
      ]
    },
    {
      "cell_type": "markdown",
      "metadata": {
        "id": "-y-_5lvEGh6A"
      },
      "source": [
        "PyCaret is an open-source machine learning library that helps automate the entire process of training a machine learning model. From model selection to training and testing, PyCaret is a great tool that can be used in machine learning. In this article, I will introduce you to a machine learning tutorial on PyCaret using Python."
      ]
    },
    {
      "cell_type": "markdown",
      "metadata": {
        "id": "nYkteQuhGnXp"
      },
      "source": [
        "**PyCaret**\n",
        "\n",
        "PyCaret is an open-source machine learning library that automates the entire process of training a machine learning model. When using it, you just need to have an idea of the best features you need to train your machine learning model, then you can use PyCaret from model selection to training and testing. Simply put, it automates the entire machine learning process, from choosing which model to select to training and testing your model.\n",
        "\n",
        "The best feature of PyCaret is that it helps you know which is the best machine learning model that you should use on a particular dataset. It simply shows you the best performing models by ranking the models based on the performance measurement metrics of machine learning models. The best part about this feature is that it does everything with a few lines of code.\n",
        "\n",
        "So even if you don’t like using shortcuts while training a machine learning model, you can still use it to select which model is best for your dataset. If you have never used it before you can easily install it by using the **pip command; pip install pycaret.** In the section below, I will take you through a machine learning tutorial on PyCaret using Python.\n"
      ]
    },
    {
      "cell_type": "markdown",
      "metadata": {
        "id": "sfE-GsWaG6EY"
      },
      "source": [
        "**PyCaret using Python?**\n",
        "\n",
        "I hope you now have understood what is PyCaret and why it is used in machine learning. Now let’s see how to implement it using Python to automate model selection and model training. For this task, I will be using the famous Titanic dataset to predict the titanic survival using PyCaret and the Python programming language. So let’s start by importing the dataset:\n",
        "\n",
        "\n"
      ]
    },
    {
      "cell_type": "code",
      "metadata": {
        "id": "gWeY2jbTF65x"
      },
      "source": [
        "import numpy as np\n",
        "import pandas as pd"
      ],
      "execution_count": 10,
      "outputs": []
    },
    {
      "cell_type": "code",
      "metadata": {
        "id": "XPpIEz1NaqjQ"
      },
      "source": [
        "!pip install pycaret\n",
        "\n"
      ],
      "execution_count": null,
      "outputs": []
    },
    {
      "cell_type": "code",
      "metadata": {
        "id": "II2EOph6KHEM"
      },
      "source": [
        "import zipfile\n",
        "import os"
      ],
      "execution_count": 8,
      "outputs": []
    },
    {
      "cell_type": "code",
      "metadata": {
        "id": "LkXrfx_IKI_Z"
      },
      "source": [
        "!wget --no-check-certificate \\\n",
        "    \"https://github.com/hussain0048/Machine-Learning/archive/refs/heads/master.zip\" \\\n",
        "    -O \"/tmp/Machine-Learning.zip\"\n",
        "\n",
        "\n",
        "zip_ref = zipfile.ZipFile('/tmp/Machine-Learning.zip', 'r') #Opens the zip file in read mode\n",
        "zip_ref.extractall('/tmp') #Extracts the files into the /tmp folder\n",
        "zip_ref.close()"
      ],
      "execution_count": null,
      "outputs": []
    },
    {
      "cell_type": "code",
      "metadata": {
        "id": "-5BjbvgKMqsS"
      },
      "source": [
        "data = pd.read_csv(\"/tmp/Machine-Learning-master/Datasets/train.csv\")"
      ],
      "execution_count": 12,
      "outputs": []
    },
    {
      "cell_type": "code",
      "metadata": {
        "id": "sjLfSiKQMxPy"
      },
      "source": [
        "data.head()"
      ],
      "execution_count": null,
      "outputs": []
    },
    {
      "cell_type": "markdown",
      "metadata": {
        "id": "PYmBOJjZyABM"
      },
      "source": [
        "Now let’s set up the model. As this is the problem of classification so I will set up the model for classification. While setting up this model we need to declare the data and the target labels. We also need to declare the features that need to be ignored while training the model. Below is how to set up the PyCaret model for classification: "
      ]
    },
    {
      "cell_type": "code",
      "metadata": {
        "id": "f44p2bHCyBqK"
      },
      "source": [
        "from pycaret.classification import *\n",
        "clf = setup(data, target = \"Survived\",\n",
        "            ignore_features=[\"Ticket\", \"Name\", \"PassengerId\"], \n",
        "            silent = True, session_id = 786)"
      ],
      "execution_count": null,
      "outputs": []
    },
    {
      "cell_type": "markdown",
      "metadata": {
        "id": "sIXWnCKCyQJx"
      },
      "source": [
        "Now I am going to use the most important feature provided by this library which compares models. In machine learning, this is called model selection. If you don’t understand much about model selection, you can use this feature for model selection. Here’s how to compare machine learning models using PyCaret:"
      ]
    },
    {
      "cell_type": "code",
      "metadata": {
        "colab": {
          "base_uri": "https://localhost:8080/",
          "height": 554,
          "referenced_widgets": [
            "0220f0a96fe04a0a95fcda3809bf41b8",
            "f9969d5c22af4df0a5b3360b097e8524",
            "ebd245073db741908dcd1c5a472066e4"
          ]
        },
        "id": "Gjub1ie7ySHJ",
        "outputId": "19de2d8c-dcd7-4566-d2c5-16003635846c"
      },
      "source": [
        "compare_models()"
      ],
      "execution_count": 15,
      "outputs": [
        {
          "output_type": "display_data",
          "data": {
            "text/html": [
              "<div>\n",
              "<style scoped>\n",
              "    .dataframe tbody tr th:only-of-type {\n",
              "        vertical-align: middle;\n",
              "    }\n",
              "\n",
              "    .dataframe tbody tr th {\n",
              "        vertical-align: top;\n",
              "    }\n",
              "\n",
              "    .dataframe thead th {\n",
              "        text-align: right;\n",
              "    }\n",
              "</style>\n",
              "<table border=\"1\" class=\"dataframe\">\n",
              "  <thead>\n",
              "    <tr style=\"text-align: right;\">\n",
              "      <th></th>\n",
              "      <th>Model</th>\n",
              "      <th>Accuracy</th>\n",
              "      <th>AUC</th>\n",
              "      <th>Recall</th>\n",
              "      <th>Prec.</th>\n",
              "      <th>F1</th>\n",
              "      <th>Kappa</th>\n",
              "      <th>MCC</th>\n",
              "      <th>TT (Sec)</th>\n",
              "    </tr>\n",
              "  </thead>\n",
              "  <tbody>\n",
              "    <tr>\n",
              "      <th>lightgbm</th>\n",
              "      <td>Light Gradient Boosting Machine</td>\n",
              "      <td>0.8363</td>\n",
              "      <td>0.8739</td>\n",
              "      <td>0.7542</td>\n",
              "      <td>0.8123</td>\n",
              "      <td>0.7778</td>\n",
              "      <td>0.6489</td>\n",
              "      <td>0.6546</td>\n",
              "      <td>0.075</td>\n",
              "    </tr>\n",
              "    <tr>\n",
              "      <th>lr</th>\n",
              "      <td>Logistic Regression</td>\n",
              "      <td>0.8266</td>\n",
              "      <td>0.8650</td>\n",
              "      <td>0.7493</td>\n",
              "      <td>0.7871</td>\n",
              "      <td>0.7649</td>\n",
              "      <td>0.6279</td>\n",
              "      <td>0.6312</td>\n",
              "      <td>0.318</td>\n",
              "    </tr>\n",
              "    <tr>\n",
              "      <th>gbc</th>\n",
              "      <td>Gradient Boosting Classifier</td>\n",
              "      <td>0.8217</td>\n",
              "      <td>0.8719</td>\n",
              "      <td>0.7245</td>\n",
              "      <td>0.7963</td>\n",
              "      <td>0.7551</td>\n",
              "      <td>0.6158</td>\n",
              "      <td>0.6209</td>\n",
              "      <td>0.117</td>\n",
              "    </tr>\n",
              "    <tr>\n",
              "      <th>ridge</th>\n",
              "      <td>Ridge Classifier</td>\n",
              "      <td>0.8202</td>\n",
              "      <td>0.0000</td>\n",
              "      <td>0.7199</td>\n",
              "      <td>0.7892</td>\n",
              "      <td>0.7506</td>\n",
              "      <td>0.6108</td>\n",
              "      <td>0.6144</td>\n",
              "      <td>0.018</td>\n",
              "    </tr>\n",
              "    <tr>\n",
              "      <th>rf</th>\n",
              "      <td>Random Forest Classifier</td>\n",
              "      <td>0.8154</td>\n",
              "      <td>0.8680</td>\n",
              "      <td>0.7292</td>\n",
              "      <td>0.7767</td>\n",
              "      <td>0.7489</td>\n",
              "      <td>0.6036</td>\n",
              "      <td>0.6079</td>\n",
              "      <td>0.452</td>\n",
              "    </tr>\n",
              "    <tr>\n",
              "      <th>lda</th>\n",
              "      <td>Linear Discriminant Analysis</td>\n",
              "      <td>0.8138</td>\n",
              "      <td>0.8587</td>\n",
              "      <td>0.7158</td>\n",
              "      <td>0.7786</td>\n",
              "      <td>0.7432</td>\n",
              "      <td>0.5979</td>\n",
              "      <td>0.6016</td>\n",
              "      <td>0.026</td>\n",
              "    </tr>\n",
              "    <tr>\n",
              "      <th>et</th>\n",
              "      <td>Extra Trees Classifier</td>\n",
              "      <td>0.8091</td>\n",
              "      <td>0.8621</td>\n",
              "      <td>0.7292</td>\n",
              "      <td>0.7636</td>\n",
              "      <td>0.7435</td>\n",
              "      <td>0.5919</td>\n",
              "      <td>0.5949</td>\n",
              "      <td>0.452</td>\n",
              "    </tr>\n",
              "    <tr>\n",
              "      <th>ada</th>\n",
              "      <td>Ada Boost Classifier</td>\n",
              "      <td>0.8074</td>\n",
              "      <td>0.8405</td>\n",
              "      <td>0.7746</td>\n",
              "      <td>0.7357</td>\n",
              "      <td>0.7519</td>\n",
              "      <td>0.5950</td>\n",
              "      <td>0.5984</td>\n",
              "      <td>0.090</td>\n",
              "    </tr>\n",
              "    <tr>\n",
              "      <th>dt</th>\n",
              "      <td>Decision Tree Classifier</td>\n",
              "      <td>0.8041</td>\n",
              "      <td>0.7905</td>\n",
              "      <td>0.7413</td>\n",
              "      <td>0.7513</td>\n",
              "      <td>0.7415</td>\n",
              "      <td>0.5843</td>\n",
              "      <td>0.5896</td>\n",
              "      <td>0.015</td>\n",
              "    </tr>\n",
              "    <tr>\n",
              "      <th>svm</th>\n",
              "      <td>SVM - Linear Kernel</td>\n",
              "      <td>0.7382</td>\n",
              "      <td>0.0000</td>\n",
              "      <td>0.7111</td>\n",
              "      <td>0.6920</td>\n",
              "      <td>0.6722</td>\n",
              "      <td>0.4617</td>\n",
              "      <td>0.4897</td>\n",
              "      <td>0.016</td>\n",
              "    </tr>\n",
              "    <tr>\n",
              "      <th>knn</th>\n",
              "      <td>K Neighbors Classifier</td>\n",
              "      <td>0.7063</td>\n",
              "      <td>0.7361</td>\n",
              "      <td>0.5083</td>\n",
              "      <td>0.6516</td>\n",
              "      <td>0.5675</td>\n",
              "      <td>0.3502</td>\n",
              "      <td>0.3591</td>\n",
              "      <td>0.118</td>\n",
              "    </tr>\n",
              "    <tr>\n",
              "      <th>nb</th>\n",
              "      <td>Naive Bayes</td>\n",
              "      <td>0.6516</td>\n",
              "      <td>0.7940</td>\n",
              "      <td>0.1134</td>\n",
              "      <td>0.6814</td>\n",
              "      <td>0.1916</td>\n",
              "      <td>0.1099</td>\n",
              "      <td>0.1816</td>\n",
              "      <td>0.014</td>\n",
              "    </tr>\n",
              "    <tr>\n",
              "      <th>qda</th>\n",
              "      <td>Quadratic Discriminant Analysis</td>\n",
              "      <td>0.6355</td>\n",
              "      <td>0.5680</td>\n",
              "      <td>0.2888</td>\n",
              "      <td>0.5431</td>\n",
              "      <td>0.3407</td>\n",
              "      <td>0.1476</td>\n",
              "      <td>0.1789</td>\n",
              "      <td>0.022</td>\n",
              "    </tr>\n",
              "  </tbody>\n",
              "</table>\n",
              "</div>"
            ],
            "text/plain": [
              "                                    Model  Accuracy     AUC  Recall   Prec.  \\\n",
              "lightgbm  Light Gradient Boosting Machine    0.8363  0.8739  0.7542  0.8123   \n",
              "lr                    Logistic Regression    0.8266  0.8650  0.7493  0.7871   \n",
              "gbc          Gradient Boosting Classifier    0.8217  0.8719  0.7245  0.7963   \n",
              "ridge                    Ridge Classifier    0.8202  0.0000  0.7199  0.7892   \n",
              "rf               Random Forest Classifier    0.8154  0.8680  0.7292  0.7767   \n",
              "lda          Linear Discriminant Analysis    0.8138  0.8587  0.7158  0.7786   \n",
              "et                 Extra Trees Classifier    0.8091  0.8621  0.7292  0.7636   \n",
              "ada                  Ada Boost Classifier    0.8074  0.8405  0.7746  0.7357   \n",
              "dt               Decision Tree Classifier    0.8041  0.7905  0.7413  0.7513   \n",
              "svm                   SVM - Linear Kernel    0.7382  0.0000  0.7111  0.6920   \n",
              "knn                K Neighbors Classifier    0.7063  0.7361  0.5083  0.6516   \n",
              "nb                            Naive Bayes    0.6516  0.7940  0.1134  0.6814   \n",
              "qda       Quadratic Discriminant Analysis    0.6355  0.5680  0.2888  0.5431   \n",
              "\n",
              "              F1   Kappa     MCC  TT (Sec)  \n",
              "lightgbm  0.7778  0.6489  0.6546     0.075  \n",
              "lr        0.7649  0.6279  0.6312     0.318  \n",
              "gbc       0.7551  0.6158  0.6209     0.117  \n",
              "ridge     0.7506  0.6108  0.6144     0.018  \n",
              "rf        0.7489  0.6036  0.6079     0.452  \n",
              "lda       0.7432  0.5979  0.6016     0.026  \n",
              "et        0.7435  0.5919  0.5949     0.452  \n",
              "ada       0.7519  0.5950  0.5984     0.090  \n",
              "dt        0.7415  0.5843  0.5896     0.015  \n",
              "svm       0.6722  0.4617  0.4897     0.016  \n",
              "knn       0.5675  0.3502  0.3591     0.118  \n",
              "nb        0.1916  0.1099  0.1816     0.014  \n",
              "qda       0.3407  0.1476  0.1789     0.022  "
            ]
          },
          "metadata": {
            "tags": []
          }
        },
        {
          "output_type": "execute_result",
          "data": {
            "text/plain": [
              "LGBMClassifier(boosting_type='gbdt', class_weight=None, colsample_bytree=1.0,\n",
              "               importance_type='split', learning_rate=0.1, max_depth=-1,\n",
              "               min_child_samples=20, min_child_weight=0.001, min_split_gain=0.0,\n",
              "               n_estimators=100, n_jobs=-1, num_leaves=31, objective=None,\n",
              "               random_state=786, reg_alpha=0.0, reg_lambda=0.0, silent=True,\n",
              "               subsample=1.0, subsample_for_bin=200000, subsample_freq=0)"
            ]
          },
          "metadata": {
            "tags": []
          },
          "execution_count": 15
        }
      ]
    },
    {
      "cell_type": "markdown",
      "metadata": {
        "id": "t2b2ibm3ygAZ"
      },
      "source": [
        "So according to the above output the Light Gradient Boosting model is the best model that can be used in the Titanic dataset. So let’s initialize the LightGBM model and make predictions on the test set:"
      ]
    },
    {
      "cell_type": "code",
      "metadata": {
        "colab": {
          "base_uri": "https://localhost:8080/",
          "height": 659,
          "referenced_widgets": [
            "864d0ba8d18c4ad4bfcca94f49f0a091",
            "be72c4021fe345f0acff913e6f9b03b9",
            "622969e1582243ae9ab931800ce03661"
          ]
        },
        "id": "ROqV8fM7ynYL",
        "outputId": "d48d3b29-c7a5-46c1-bb50-23b76ff264f8"
      },
      "source": [
        "lightgbm = create_model('lightgbm')\n",
        "test_data = pd.read_csv('/tmp/Machine-Learning-master/Datasets/test.csv')\n",
        "predict = predict_model(lightgbm, data=test_data)\n",
        "predict.head()"
      ],
      "execution_count": 17,
      "outputs": [
        {
          "output_type": "display_data",
          "data": {
            "text/html": [
              "<div>\n",
              "<style scoped>\n",
              "    .dataframe tbody tr th:only-of-type {\n",
              "        vertical-align: middle;\n",
              "    }\n",
              "\n",
              "    .dataframe tbody tr th {\n",
              "        vertical-align: top;\n",
              "    }\n",
              "\n",
              "    .dataframe thead th {\n",
              "        text-align: right;\n",
              "    }\n",
              "</style>\n",
              "<table border=\"1\" class=\"dataframe\">\n",
              "  <thead>\n",
              "    <tr style=\"text-align: right;\">\n",
              "      <th></th>\n",
              "      <th>Accuracy</th>\n",
              "      <th>AUC</th>\n",
              "      <th>Recall</th>\n",
              "      <th>Prec.</th>\n",
              "      <th>F1</th>\n",
              "      <th>Kappa</th>\n",
              "      <th>MCC</th>\n",
              "    </tr>\n",
              "  </thead>\n",
              "  <tbody>\n",
              "    <tr>\n",
              "      <th>0</th>\n",
              "      <td>0.8413</td>\n",
              "      <td>0.9017</td>\n",
              "      <td>0.7917</td>\n",
              "      <td>0.7917</td>\n",
              "      <td>0.7917</td>\n",
              "      <td>0.6635</td>\n",
              "      <td>0.6635</td>\n",
              "    </tr>\n",
              "    <tr>\n",
              "      <th>1</th>\n",
              "      <td>0.9048</td>\n",
              "      <td>0.8846</td>\n",
              "      <td>0.8333</td>\n",
              "      <td>0.9091</td>\n",
              "      <td>0.8696</td>\n",
              "      <td>0.7948</td>\n",
              "      <td>0.7967</td>\n",
              "    </tr>\n",
              "    <tr>\n",
              "      <th>2</th>\n",
              "      <td>0.7778</td>\n",
              "      <td>0.8494</td>\n",
              "      <td>0.7083</td>\n",
              "      <td>0.7083</td>\n",
              "      <td>0.7083</td>\n",
              "      <td>0.5288</td>\n",
              "      <td>0.5288</td>\n",
              "    </tr>\n",
              "    <tr>\n",
              "      <th>3</th>\n",
              "      <td>0.8226</td>\n",
              "      <td>0.8662</td>\n",
              "      <td>0.7500</td>\n",
              "      <td>0.7826</td>\n",
              "      <td>0.7660</td>\n",
              "      <td>0.6232</td>\n",
              "      <td>0.6236</td>\n",
              "    </tr>\n",
              "    <tr>\n",
              "      <th>4</th>\n",
              "      <td>0.8871</td>\n",
              "      <td>0.9397</td>\n",
              "      <td>0.7917</td>\n",
              "      <td>0.9048</td>\n",
              "      <td>0.8444</td>\n",
              "      <td>0.7565</td>\n",
              "      <td>0.7606</td>\n",
              "    </tr>\n",
              "    <tr>\n",
              "      <th>5</th>\n",
              "      <td>0.8387</td>\n",
              "      <td>0.8651</td>\n",
              "      <td>0.6667</td>\n",
              "      <td>0.8889</td>\n",
              "      <td>0.7619</td>\n",
              "      <td>0.6437</td>\n",
              "      <td>0.6589</td>\n",
              "    </tr>\n",
              "    <tr>\n",
              "      <th>6</th>\n",
              "      <td>0.8226</td>\n",
              "      <td>0.8066</td>\n",
              "      <td>0.6522</td>\n",
              "      <td>0.8333</td>\n",
              "      <td>0.7317</td>\n",
              "      <td>0.6021</td>\n",
              "      <td>0.6122</td>\n",
              "    </tr>\n",
              "    <tr>\n",
              "      <th>7</th>\n",
              "      <td>0.7742</td>\n",
              "      <td>0.8902</td>\n",
              "      <td>0.8696</td>\n",
              "      <td>0.6452</td>\n",
              "      <td>0.7407</td>\n",
              "      <td>0.5484</td>\n",
              "      <td>0.5676</td>\n",
              "    </tr>\n",
              "    <tr>\n",
              "      <th>8</th>\n",
              "      <td>0.8548</td>\n",
              "      <td>0.8685</td>\n",
              "      <td>0.7391</td>\n",
              "      <td>0.8500</td>\n",
              "      <td>0.7907</td>\n",
              "      <td>0.6804</td>\n",
              "      <td>0.6843</td>\n",
              "    </tr>\n",
              "    <tr>\n",
              "      <th>9</th>\n",
              "      <td>0.8387</td>\n",
              "      <td>0.8673</td>\n",
              "      <td>0.7391</td>\n",
              "      <td>0.8095</td>\n",
              "      <td>0.7727</td>\n",
              "      <td>0.6481</td>\n",
              "      <td>0.6497</td>\n",
              "    </tr>\n",
              "    <tr>\n",
              "      <th>Mean</th>\n",
              "      <td>0.8363</td>\n",
              "      <td>0.8739</td>\n",
              "      <td>0.7542</td>\n",
              "      <td>0.8123</td>\n",
              "      <td>0.7778</td>\n",
              "      <td>0.6489</td>\n",
              "      <td>0.6546</td>\n",
              "    </tr>\n",
              "    <tr>\n",
              "      <th>SD</th>\n",
              "      <td>0.0391</td>\n",
              "      <td>0.0329</td>\n",
              "      <td>0.0656</td>\n",
              "      <td>0.0811</td>\n",
              "      <td>0.0469</td>\n",
              "      <td>0.0784</td>\n",
              "      <td>0.0765</td>\n",
              "    </tr>\n",
              "  </tbody>\n",
              "</table>\n",
              "</div>"
            ],
            "text/plain": [
              "      Accuracy     AUC  Recall   Prec.      F1   Kappa     MCC\n",
              "0       0.8413  0.9017  0.7917  0.7917  0.7917  0.6635  0.6635\n",
              "1       0.9048  0.8846  0.8333  0.9091  0.8696  0.7948  0.7967\n",
              "2       0.7778  0.8494  0.7083  0.7083  0.7083  0.5288  0.5288\n",
              "3       0.8226  0.8662  0.7500  0.7826  0.7660  0.6232  0.6236\n",
              "4       0.8871  0.9397  0.7917  0.9048  0.8444  0.7565  0.7606\n",
              "5       0.8387  0.8651  0.6667  0.8889  0.7619  0.6437  0.6589\n",
              "6       0.8226  0.8066  0.6522  0.8333  0.7317  0.6021  0.6122\n",
              "7       0.7742  0.8902  0.8696  0.6452  0.7407  0.5484  0.5676\n",
              "8       0.8548  0.8685  0.7391  0.8500  0.7907  0.6804  0.6843\n",
              "9       0.8387  0.8673  0.7391  0.8095  0.7727  0.6481  0.6497\n",
              "Mean    0.8363  0.8739  0.7542  0.8123  0.7778  0.6489  0.6546\n",
              "SD      0.0391  0.0329  0.0656  0.0811  0.0469  0.0784  0.0765"
            ]
          },
          "metadata": {
            "tags": []
          }
        },
        {
          "output_type": "execute_result",
          "data": {
            "text/html": [
              "<div>\n",
              "<style scoped>\n",
              "    .dataframe tbody tr th:only-of-type {\n",
              "        vertical-align: middle;\n",
              "    }\n",
              "\n",
              "    .dataframe tbody tr th {\n",
              "        vertical-align: top;\n",
              "    }\n",
              "\n",
              "    .dataframe thead th {\n",
              "        text-align: right;\n",
              "    }\n",
              "</style>\n",
              "<table border=\"1\" class=\"dataframe\">\n",
              "  <thead>\n",
              "    <tr style=\"text-align: right;\">\n",
              "      <th></th>\n",
              "      <th>PassengerId</th>\n",
              "      <th>Pclass</th>\n",
              "      <th>Name</th>\n",
              "      <th>Sex</th>\n",
              "      <th>Age</th>\n",
              "      <th>SibSp</th>\n",
              "      <th>Parch</th>\n",
              "      <th>Ticket</th>\n",
              "      <th>Fare</th>\n",
              "      <th>Cabin</th>\n",
              "      <th>Embarked</th>\n",
              "      <th>Label</th>\n",
              "      <th>Score</th>\n",
              "    </tr>\n",
              "  </thead>\n",
              "  <tbody>\n",
              "    <tr>\n",
              "      <th>0</th>\n",
              "      <td>892</td>\n",
              "      <td>3</td>\n",
              "      <td>Kelly, Mr. James</td>\n",
              "      <td>male</td>\n",
              "      <td>34.5</td>\n",
              "      <td>0</td>\n",
              "      <td>0</td>\n",
              "      <td>330911</td>\n",
              "      <td>7.8292</td>\n",
              "      <td>NaN</td>\n",
              "      <td>Q</td>\n",
              "      <td>0</td>\n",
              "      <td>0.8253</td>\n",
              "    </tr>\n",
              "    <tr>\n",
              "      <th>1</th>\n",
              "      <td>893</td>\n",
              "      <td>3</td>\n",
              "      <td>Wilkes, Mrs. James (Ellen Needs)</td>\n",
              "      <td>female</td>\n",
              "      <td>47.0</td>\n",
              "      <td>1</td>\n",
              "      <td>0</td>\n",
              "      <td>363272</td>\n",
              "      <td>7.0000</td>\n",
              "      <td>NaN</td>\n",
              "      <td>S</td>\n",
              "      <td>0</td>\n",
              "      <td>0.8537</td>\n",
              "    </tr>\n",
              "    <tr>\n",
              "      <th>2</th>\n",
              "      <td>894</td>\n",
              "      <td>2</td>\n",
              "      <td>Myles, Mr. Thomas Francis</td>\n",
              "      <td>male</td>\n",
              "      <td>62.0</td>\n",
              "      <td>0</td>\n",
              "      <td>0</td>\n",
              "      <td>240276</td>\n",
              "      <td>9.6875</td>\n",
              "      <td>NaN</td>\n",
              "      <td>Q</td>\n",
              "      <td>0</td>\n",
              "      <td>0.8944</td>\n",
              "    </tr>\n",
              "    <tr>\n",
              "      <th>3</th>\n",
              "      <td>895</td>\n",
              "      <td>3</td>\n",
              "      <td>Wirz, Mr. Albert</td>\n",
              "      <td>male</td>\n",
              "      <td>27.0</td>\n",
              "      <td>0</td>\n",
              "      <td>0</td>\n",
              "      <td>315154</td>\n",
              "      <td>8.6625</td>\n",
              "      <td>NaN</td>\n",
              "      <td>S</td>\n",
              "      <td>1</td>\n",
              "      <td>0.7349</td>\n",
              "    </tr>\n",
              "    <tr>\n",
              "      <th>4</th>\n",
              "      <td>896</td>\n",
              "      <td>3</td>\n",
              "      <td>Hirvonen, Mrs. Alexander (Helga E Lindqvist)</td>\n",
              "      <td>female</td>\n",
              "      <td>22.0</td>\n",
              "      <td>1</td>\n",
              "      <td>1</td>\n",
              "      <td>3101298</td>\n",
              "      <td>12.2875</td>\n",
              "      <td>NaN</td>\n",
              "      <td>S</td>\n",
              "      <td>0</td>\n",
              "      <td>0.7536</td>\n",
              "    </tr>\n",
              "  </tbody>\n",
              "</table>\n",
              "</div>"
            ],
            "text/plain": [
              "   PassengerId  Pclass  ... Label   Score\n",
              "0          892       3  ...     0  0.8253\n",
              "1          893       3  ...     0  0.8537\n",
              "2          894       2  ...     0  0.8944\n",
              "3          895       3  ...     1  0.7349\n",
              "4          896       3  ...     0  0.7536\n",
              "\n",
              "[5 rows x 13 columns]"
            ]
          },
          "metadata": {
            "tags": []
          },
          "execution_count": 17
        }
      ]
    },
    {
      "cell_type": "markdown",
      "metadata": {
        "id": "OmrOSbOry888"
      },
      "source": [
        "**Summary**\n",
        "\n",
        "PyCaret is a great machine learning library to automate the complete process of training a machine learning model as it helps in from model selection to training and testing. You can use it for at least model selection if you don’t like shortcuts while training machine learning models. \n",
        "\n",
        "I hope you liked this article on a machine learning tutorial on PyCaret using the Python programming language. Feel free to ask your valuable questions in the comments section below.\n"
      ]
    },
    {
      "cell_type": "markdown",
      "metadata": {
        "id": "_Hw-d0dWF-z4"
      },
      "source": [
        "# **References**"
      ]
    },
    {
      "cell_type": "markdown",
      "metadata": {
        "id": "QbMAy7A1GQPJ"
      },
      "source": [
        "[PyCaret in Machine Learning](https://thecleverprogrammer.com/2021/03/07/pycaret-in-machine-learning/)"
      ]
    }
  ]
}