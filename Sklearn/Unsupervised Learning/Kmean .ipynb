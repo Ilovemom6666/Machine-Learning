{
  "nbformat": 4,
  "nbformat_minor": 0,
  "metadata": {
    "coursera": {
      "course_slug": "neural-networks-deep-learning",
      "graded_item_id": "XaIWT",
      "launcher_item_id": "zAgPl"
    },
    "kernelspec": {
      "display_name": "Python 3",
      "language": "python",
      "name": "python3"
    },
    "language_info": {
      "codemirror_mode": {
        "name": "ipython",
        "version": 3
      },
      "file_extension": ".py",
      "mimetype": "text/x-python",
      "name": "python",
      "nbconvert_exporter": "python",
      "pygments_lexer": "ipython3",
      "version": "3.6.2"
    },
    "colab": {
      "name": "Kmean.ipynb",
      "provenance": [],
      "collapsed_sections": [],
      "toc_visible": true
    }
  },
  "cells": [
    {
      "cell_type": "markdown",
      "metadata": {
        "id": "2WZFQQORCAcS",
        "colab_type": "text"
      },
      "source": [
        "# Unsupervised Learning - Clustering \n",
        "\n",
        "**Introduction:**\n",
        "\n",
        "Clustering is a type of Unsupervised Machine Learning. In clustering, developers are not provided any prior knowledge about data like supervised learning where developer knows target variable.\n",
        "\n",
        "Clustering is the task of creating clusters of samples that have the same characteristics based on some predefined similarity or dissimilarity distance measures like euclidean distance.\n",
        "\n",
        "sklearn.cluster module provides a list of clustering algorithms which we'll try below. We'll start with KMeans and then explore other algorithms."
      ]
    },
    {
      "cell_type": "markdown",
      "metadata": {
        "id": "beVu-1UqCAcU",
        "colab_type": "text"
      },
      "source": [
        "## 1 - Importing necessary libraries ##"
      ]
    },
    {
      "cell_type": "code",
      "metadata": {
        "id": "ZF03EKpuCAcV",
        "colab_type": "code",
        "colab": {}
      },
      "source": [
        "import numpy as np\n",
        "import pandas as pd\n",
        "import matplotlib.pyplot as plt\n",
        "import sklearn\n",
        "from sklearn import cluster, datasets\n",
        "import warnings\n",
        "import sys\n",
        "print(\"Python Version : \",sys.version)\n",
        "print(\"Scikit-Learn Version : \",sklearn.__version__)\n",
        "warnings.filterwarnings('ignore') ## We'll silent future warnings using this command.\n",
        "np.set_printoptions(precision=3)\n",
        "## Beow magic function fits plot inside of current notebook. \n",
        "## There is another option to it (%matplotlib notebook) which opens plot in new notebook.\n",
        "%matplotlib inline"
      ],
      "execution_count": null,
      "outputs": []
    },
    {
      "cell_type": "markdown",
      "metadata": {
        "collapsed": true,
        "id": "nhYP15aoCAcf",
        "colab_type": "text"
      },
      "source": [
        "## 2 - Dataset Creation ##\n",
        "We'll create a dataset with 250 samples, 2 features and 5 cluster centers using scikit-learn's make_blobs method.\n"
      ]
    },
    {
      "cell_type": "code",
      "metadata": {
        "id": "y1wsGi52CAch",
        "colab_type": "code",
        "colab": {}
      },
      "source": [
        "samples, clusters = datasets.make_blobs(n_samples=250, n_features=2, centers=5, cluster_std=0.7, random_state=12345)\n",
        "print('Dataset size : ', samples.shape, clusters.shape)\n",
        "print('Cluster names : ',set(clusters))"
      ],
      "execution_count": null,
      "outputs": []
    },
    {
      "cell_type": "markdown",
      "metadata": {
        "id": "LNlfErRUCAcp",
        "colab_type": "text"
      },
      "source": [
        "**KMeans** \n",
        "\n",
        "KMeans is an iterative algorithm that begins with random cluster centers and then tries to minimize the distance between sample points and these cluster centers. We need to provide number of clusters in advance. KMeans uses Euclidean distance to measure the distance between cluster centers and sample points. Sample points are moved between clusters if later on, it found that sample points are nearer to some other cluster.\n"
      ]
    },
    {
      "cell_type": "markdown",
      "metadata": {
        "id": "P4QYI2IoHWpL",
        "colab_type": "text"
      },
      "source": [
        "## 3 - Visualizing Dataset ##\n",
        "We'll be visualizing the dataset by plotting scatter chart of Feature-1 and Feature-2. We'll also color-encode and marker-encode each of cluster to show them different"
      ]
    },
    {
      "cell_type": "code",
      "metadata": {
        "id": "p9JGZRKCCAcq",
        "colab_type": "code",
        "colab": {}
      },
      "source": [
        " with plt.style.context(('ggplot', 'seaborn')):\n",
        "    plt.figure(figsize=(8,6))\n",
        "    for i, c, m in zip(range(5),['red','green','blue','orange','purple'], ['s','+','^','o', 'x']):\n",
        "        plt.scatter(samples[clusters == i,0],samples[clusters == i,1], color=c, marker=m, s=80, alpha = 0.8, label= 'Cluster %d'%i)\n",
        "\n",
        "    plt.xlabel('Feature 1')\n",
        "    plt.ylabel('Feature 2')\n",
        "    plt.title('Visualizing Dataset')\n",
        "    plt.legend(loc='best');"
      ],
      "execution_count": null,
      "outputs": []
    },
    {
      "cell_type": "markdown",
      "metadata": {
        "id": "ehTTQE9YJF1Q",
        "colab_type": "text"
      },
      "source": [
        "##4- Initializing & Fitting Model ##\n",
        "We are initializing KMeans clustering algorithms below with n_clusters=5 because we already know a number of clusters beforehand. For cases where we don't know a number of clusters upfront, we have explained the elbow method below to find out the proper number of clusters.\n",
        "\n"
      ]
    },
    {
      "cell_type": "code",
      "metadata": {
        "scrolled": true,
        "id": "TvqFi8-XCAcy",
        "colab_type": "code",
        "colab": {}
      },
      "source": [
        "kmeans = cluster.KMeans(n_clusters=5)\n",
        "kmeans.fit(samples)"
      ],
      "execution_count": null,
      "outputs": []
    },
    {
      "cell_type": "markdown",
      "metadata": {
        "id": "izbM6eEUKAV-",
        "colab_type": "text"
      },
      "source": [
        "## 5-Making Predictions"
      ]
    },
    {
      "cell_type": "code",
      "metadata": {
        "id": "zt-vctO1Kb3o",
        "colab_type": "code",
        "colab": {}
      },
      "source": [
        "preds = kmeans.predict(samples)\n"
      ],
      "execution_count": 5,
      "outputs": []
    },
    {
      "cell_type": "markdown",
      "metadata": {
        "id": "1x8QNZN3CAdF",
        "colab_type": "text"
      },
      "source": [
        "## 6 - Calculate Accuracy ##\n",
        "\n",
        "We are printing below the accuracy and confusion matrix. We can notice from the confusion matrix that classes returned by kmeans is different from actual classes hence we are getting low accuracy. We need to use the adjusted_rand_score method to handle such scenarios.\n"
      ]
    },
    {
      "cell_type": "code",
      "metadata": {
        "id": "zNBdXxiHLfLW",
        "colab_type": "code",
        "colab": {}
      },
      "source": [
        "from sklearn.metrics import accuracy_score, confusion_matrix, adjusted_rand_score\n",
        "print('Accuracy : %.3f'%accuracy_score(y_true = clusters, y_pred=preds))\n",
        "print('Confusion Matrix : \\n', confusion_matrix(y_true=clusters, y_pred=preds))\n",
        "print('Adjusted Accuracy : %.3f'%adjusted_rand_score(labels_true=clusters, labels_pred=preds))"
      ],
      "execution_count": null,
      "outputs": []
    },
    {
      "cell_type": "markdown",
      "metadata": {
        "id": "Qe0xQWcUZrNm",
        "colab_type": "text"
      },
      "source": [
        "We can also access cluster center for each cluster using cluster_centers_ attribute of KMeans object.\n"
      ]
    },
    {
      "cell_type": "code",
      "metadata": {
        "id": "DXc1mInBZw99",
        "colab_type": "code",
        "colab": {}
      },
      "source": [
        "print('Cluster Centers : \\n', str(kmeans.cluster_centers_))"
      ],
      "execution_count": null,
      "outputs": []
    },
    {
      "cell_type": "markdown",
      "metadata": {
        "id": "fKNMQWyNZ9x6",
        "colab_type": "text"
      },
      "source": [
        "We can also access sum of squared distance of each sample from their closest cluster center using intertia_ attribute of KMeans object. It should be as minimum as possible"
      ]
    },
    {
      "cell_type": "code",
      "metadata": {
        "id": "yLt1vz0uaBz2",
        "colab_type": "code",
        "colab": {}
      },
      "source": [
        "print('Sum of squared distances of samples to their closest cluster center : %.2f'%kmeans.inertia_,)\n"
      ],
      "execution_count": null,
      "outputs": []
    },
    {
      "cell_type": "markdown",
      "metadata": {
        "id": "g78HCuLVCAdG",
        "colab_type": "text"
      },
      "source": [
        "## 7 - Plotting Cluster Centers & Predictions ## \n",
        "Below we are plotting all points of sample data and also linking them to their cluster center using line plot.\n",
        "\n",
        "\n"
      ]
    },
    {
      "cell_type": "code",
      "metadata": {
        "id": "KTAYjq6JOpj0",
        "colab_type": "code",
        "colab": {}
      },
      "source": [
        "with plt.style.context(('ggplot', 'seaborn')):\n",
        "    plt.figure(figsize=(10,6))\n",
        "\n",
        "    plt.scatter(samples[preds == 0,0],samples[preds == 0,1], color='red', marker='s', s=80, alpha = 0.8, label= 'Cluster 0')\n",
        "    plt.scatter(samples[preds == 1,0],samples[preds == 1,1], color='green', marker='^', s=80, alpha = 0.8, label= 'Cluster 1')\n",
        "    plt.scatter(samples[preds == 2,0],samples[preds == 2,1], color='blue', marker='*', s=80, alpha = 0.8, label= 'Cluster 2')\n",
        "    plt.scatter(samples[preds == 3,0],samples[preds == 3,1], color='orange', marker='o', s=80, alpha = 0.8, label= 'Cluster 3')\n",
        "    plt.scatter(samples[preds == 4,0],samples[preds == 4,1], color='purple', marker='+', s=80, alpha = 0.8, label= 'Cluster 4')\n",
        "\n",
        "    for x,y in zip(samples[preds == 0,0],samples[preds == 0,1]):\n",
        "        plt.plot([kmeans.cluster_centers_[0][0],x],[kmeans.cluster_centers_[0][1],y], color='red')\n",
        "    for x,y in zip(samples[preds == 1,0],samples[preds == 1,1]):\n",
        "        plt.plot([kmeans.cluster_centers_[1][0],x],[kmeans.cluster_centers_[1][1],y], color='green')\n",
        "    for x,y in zip(samples[preds == 2,0],samples[preds == 2,1]):\n",
        "        plt.plot([kmeans.cluster_centers_[2][0],x],[kmeans.cluster_centers_[2][1],y], color='blue')\n",
        "    for x,y in zip(samples[preds == 3,0],samples[preds == 3,1]):\n",
        "        plt.plot([kmeans.cluster_centers_[3][0],x],[kmeans.cluster_centers_[3][1],y], color='orange')\n",
        "    for x,y in zip(samples[preds == 4,0],samples[preds == 4,1]):\n",
        "        plt.plot([kmeans.cluster_centers_[4][0],x],[kmeans.cluster_centers_[4][1],y], color='purple')\n",
        "\n",
        "    plt.xlabel('Feature 1')\n",
        "    plt.ylabel('Feature 2')\n",
        "    plt.title('Visualizing Predictions & Cluster Centers')\n",
        "    plt.legend(loc='best');"
      ],
      "execution_count": null,
      "outputs": []
    },
    {
      "cell_type": "markdown",
      "metadata": {
        "id": "BdpTOYOlCAdP",
        "colab_type": "text"
      },
      "source": [
        "## 8- How to decide a number of clusters?\n",
        "In the above scenario, we already knew a number of clusters in advance. But what if we encounter data for which we aren't aware of a number of possible clusters. There is a method called Elbow method which can be used to solve this problem.\n"
      ]
    },
    {
      "cell_type": "markdown",
      "metadata": {
        "id": "i_GstlsrCAdc",
        "colab_type": "text"
      },
      "source": [
        "##9-The Elbow Method¶\n",
        "Here we look at cluster dispersion for different values of k and plot it. Once plotted we take k value which is at \"pit of the elbow\" to be a number of clusters. It's based on the intuition that after that many clusters adding more clusters is not improving the sum of squared distances of samples from their clusters further hence that's the best number of clusters one should try."
      ]
    },
    {
      "cell_type": "code",
      "metadata": {
        "id": "e1DF698ECAdd",
        "colab_type": "code",
        "colab": {
          "base_uri": "https://localhost:8080/",
          "height": 387
        },
        "outputId": "a9de8216-285a-4b0b-f04d-308c964ef06b"
      },
      "source": [
        " plt.figure(figsize=(8,5))\n",
        "distortions = []\n",
        "for i in range(1,11):\n",
        "    kmeans = cluster.KMeans(n_clusters=i)\n",
        "    kmeans.fit(samples)\n",
        "    distortions.append(kmeans.inertia_)\n",
        "\n",
        "print('Distortions (Sum Of Squared Distance of Samples from Closest Cluster Center) : ',distortions)\n",
        "\n",
        "with plt.style.context(('ggplot', 'seaborn')):\n",
        "    plt.plot(range(1,11), distortions, )\n",
        "    plt.scatter(range(1,11), distortions, color='red', marker='o', s=80)\n",
        "    plt.xlabel('Number Of Clusters')\n",
        "    plt.ylabel('Distortions')\n",
        "    plt.title('The Elbow Method (Num of Clusters vs Distortions)')\n",
        "    plt.xticks(range(1,11));"
      ],
      "execution_count": 10,
      "outputs": [
        {
          "output_type": "stream",
          "text": [
            "Distortions (Sum Of Squared Distance of Samples from Closest Cluster Center) :  [12055.719056614595, 3906.8061851402153, 1793.803168498912, 590.1132702466165, 248.3453567297849, 227.15626161492278, 210.7577512862374, 192.24818295479326, 173.50332644968904, 161.3146377118047]\n"
          ],
          "name": "stdout"
        },
        {
          "output_type": "display_data",
          "data": {
            "image/png": "[encoded data removed]",
            "text/plain": [
              "<Figure size 576x360 with 1 Axes>"
            ]
          },
          "metadata": {
            "tags": [],
            "needs_background": "light"
          }
        }
      ]
    },
    {
      "cell_type": "markdown",
      "metadata": {
        "id": "vm7uTbEWCAei",
        "colab_type": "text"
      },
      "source": [
        "References:\n",
        "- Unsupervised Learning - Clustering\n",
        "https://coderzcolumn.com/tutorials/machine-learning/unsupervised-learning-clustering-kmeans-using-scikit-learn-sklearn"
      ]
    },
    {
      "cell_type": "code",
      "metadata": {
        "id": "7LvqfD4BCAei",
        "colab_type": "code",
        "colab": {}
      },
      "source": [
        ""
      ],
      "execution_count": null,
      "outputs": []
    }
  ]
}