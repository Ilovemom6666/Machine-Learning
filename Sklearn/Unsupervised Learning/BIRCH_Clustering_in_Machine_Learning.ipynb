{
  "nbformat": 4,
  "nbformat_minor": 0,
  "metadata": {
    "colab": {
      "name": "BIRCH Clustering in Machine Learning.ipynb",
      "provenance": [],
      "collapsed_sections": []
    },
    "kernelspec": {
      "name": "python3",
      "display_name": "Python 3"
    },
    "language_info": {
      "name": "python"
    }
  },
  "cells": [
    {
      "cell_type": "markdown",
      "metadata": {
        "id": "qIlLHw-C-vA8"
      },
      "source": [
        "# **Introduction**"
      ]
    },
    {
      "cell_type": "markdown",
      "metadata": {
        "id": "nAgC69Io5PCm"
      },
      "source": [
        "The BIRCH is a Clustering algorithm in machine learning. It stands for Balanced Reducing and Clustering using Hierarchies. In this article, I will take you through the concept of BIRCH Clustering in Machine Learning and its implementation using Python."
      ]
    },
    {
      "cell_type": "markdown",
      "metadata": {
        "id": "7IyZxpFq5Zd1"
      },
      "source": [
        "BIRCH is a clustering algorithm in machine learning that has been specially designed for clustering on a very large data set. It is often faster than other clustering algorithms like batch K-Means. It provides a very similar result to the batch K-Means algorithm if the number of features in the dataset is not more than 20."
      ]
    },
    {
      "cell_type": "markdown",
      "metadata": {
        "id": "BzlX_zN35iNC"
      },
      "source": [
        "When training the model using the BIRCH algorithm, it creates a tree structure with enough data to quickly assign each data point to a cluster. By storing all the data points in the tree, this algorithm allows the use of limited memory while working on a very large data set. In the section below, I will take you through its implementation by using the Python programming language."
      ]
    },
    {
      "cell_type": "markdown",
      "metadata": {
        "id": "n19_fR7xADFO"
      },
      "source": [
        "#**BIRCH Clustering using Python**"
      ]
    },
    {
      "cell_type": "markdown",
      "metadata": {
        "id": "BZaXy3GY5yR4"
      },
      "source": [
        "The BIRCH algorithm starts with a threshold value, then learns from the data, then inserts data points into the tree. In the process, if it goes out of memory while learning from the data, it increases the threshold value and repeats the process. Now let’s see how to implement BIRCH clustering using Python. I’ll start this task by importing the necessary Python libraries and the dataset:"
      ]
    },
    {
      "cell_type": "markdown",
      "metadata": {
        "id": "6rTGVD0nChvK"
      },
      "source": [
        "# **2. Preparing the Data**"
      ]
    },
    {
      "cell_type": "code",
      "metadata": {
        "colab": {
          "base_uri": "https://localhost:8080/"
        },
        "id": "tupzfDqeCprt",
        "outputId": "28d2a545-5163-4ade-8c15-2ca912cae60d"
      },
      "source": [
        "from google.colab import drive\n",
        "drive.mount('/content/drive')"
      ],
      "execution_count": 1,
      "outputs": [
        {
          "output_type": "stream",
          "text": [
            "Mounted at /content/drive\n"
          ],
          "name": "stdout"
        }
      ]
    },
    {
      "cell_type": "markdown",
      "metadata": {
        "id": "BeDM7bY6C2a9"
      },
      "source": [
        "We’re ready to start building our neural network!\n",
        "\n"
      ]
    },
    {
      "cell_type": "markdown",
      "metadata": {
        "id": "r1HpibBgDJGI"
      },
      "source": [
        "# **3. Building the Model**"
      ]
    },
    {
      "cell_type": "code",
      "metadata": {
        "id": "2H50zmCjDQzS"
      },
      "source": [
        "import numpy as np\n",
        "import pandas as pd\n",
        "import matplotlib.pyplot as plt\n",
        "import seaborn as sns\n",
        "sns.set()\n",
        "\n",
        "data = pd.read_csv(\"/content/drive/MyDrive/Datasets/Customer Segmentation /customers.csv\")\n",
        "print(data.head())"
      ],
      "execution_count": null,
      "outputs": []
    },
    {
      "cell_type": "markdown",
      "metadata": {
        "id": "hYAVqkXz59S0"
      },
      "source": [
        "The dataset that I am using here is based on customer segmentation. Now let’s prepare the data for implementing the clustering algorithm. Here I will rename the columns for simplicity and then I will only select two columns for implementing the BIRCH clustering algorithm using Python:"
      ]
    },
    {
      "cell_type": "code",
      "metadata": {
        "id": "vAeN5ZBFEHHc"
      },
      "source": [
        "data[\"Income\"] = data[[\"Annual Income (k$)\"]]\n",
        "data[\"Spending\"] = data[[\"Spending Score (1-100)\"]]\n",
        "data = data[[\"Income\", \"Spending\"]]\n",
        "print(data.head())"
      ],
      "execution_count": null,
      "outputs": []
    },
    {
      "cell_type": "markdown",
      "metadata": {
        "id": "swpeW1fh6LA5"
      },
      "source": [
        "So we have prepared the data and now let’s import the BIRCH class from the sklearn library in Python and use it on the data and have a look at the results by visualizing the clusters:"
      ]
    },
    {
      "cell_type": "code",
      "metadata": {
        "id": "4U-xaO6I6RQZ"
      },
      "source": [
        "from sklearn.cluster import Birch\n",
        "model = Birch(branching_factor=30, n_clusters=5, threshold=2.5)\n",
        "model.fit(data)\n",
        "pred = model.predict(data)\n",
        "plt.scatter(data[\"Income\"], data[\"Spending\"], c=pred, cmap='rainbow', alpha=0.5, edgecolors='b')\n",
        "plt.show()"
      ],
      "execution_count": null,
      "outputs": []
    },
    {
      "cell_type": "markdown",
      "metadata": {
        "id": "6-B4D3yZ-f9t"
      },
      "source": [
        "# **References**\n",
        "\n",
        "[BIRCH Clustering in Machine Learning](https://thecleverprogrammer.com/2021/03/15/birch-clustering-in-machine-learning/)"
      ]
    }
  ]
}