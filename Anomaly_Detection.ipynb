{
  "nbformat": 4,
  "nbformat_minor": 0,
  "metadata": {
    "colab": {
      "name": "Anomaly Detection.ipynb",
      "provenance": [],
      "toc_visible": true,
      "authorship_tag": "ABX9TyN1fdGMyC4+BxhQM5ZMgOaY",
      "include_colab_link": true
    },
    "kernelspec": {
      "name": "python3",
      "display_name": "Python 3"
    },
    "language_info": {
      "name": "python"
    }
  },
  "cells": [
    {
      "cell_type": "markdown",
      "metadata": {
        "id": "view-in-github",
        "colab_type": "text"
      },
      "source": [
        "<a href=\"https://colab.research.google.com/github/hussain0048/Machine-Learning/blob/master/Anomaly_Detection.ipynb\" target=\"_parent\"><img src=\"https://colab.research.google.com/assets/colab-badge.svg\" alt=\"Open In Colab\"/></a>"
      ]
    },
    {
      "cell_type": "markdown",
      "source": [
        "# **Data Loading**"
      ],
      "metadata": {
        "id": "ozLwZwg3QgOG"
      }
    },
    {
      "cell_type": "code",
      "execution_count": 1,
      "metadata": {
        "colab": {
          "base_uri": "https://localhost:8080/"
        },
        "id": "UgIn8MqKOwhu",
        "outputId": "5b37bf6d-1cd5-405e-f71d-ea9c8ffb491b"
      },
      "outputs": [
        {
          "output_type": "stream",
          "name": "stdout",
          "text": [
            "Mounted at /content/drive\n"
          ]
        }
      ],
      "source": [
        "from google.colab import drive\n",
        "drive.mount('/content/drive')"
      ]
    },
    {
      "cell_type": "markdown",
      "source": [
        "#**Import libaray**"
      ],
      "metadata": {
        "id": "5Lusrw9PQ3g9"
      }
    },
    {
      "cell_type": "code",
      "source": [
        "import numpy as np\n",
        "import pandas as pd\n",
        "import matplotlib.pyplot as plt\n",
        "import seaborn as sb\n",
        "from scipy.io import loadmat\n",
        "%matplotlib inline"
      ],
      "metadata": {
        "id": "Rf85GGg1RAdU"
      },
      "execution_count": 2,
      "outputs": []
    },
    {
      "cell_type": "markdown",
      "source": [
        "# **Data Reading**"
      ],
      "metadata": {
        "id": "g1F04UK1REQG"
      }
    },
    {
      "cell_type": "code",
      "source": [
        "data = loadmat('/content/drive/MyDrive/Datasets/Andrew ML/ex8data1.mat')\n",
        "X = data['X']\n",
        "X.shape"
      ],
      "metadata": {
        "colab": {
          "base_uri": "https://localhost:8080/"
        },
        "id": "9FTMOy8vROPo",
        "outputId": "eb635621-ef5f-4a37-ff0f-5af5a4da9758"
      },
      "execution_count": 3,
      "outputs": [
        {
          "output_type": "execute_result",
          "data": {
            "text/plain": [
              "(307, 2)"
            ]
          },
          "metadata": {},
          "execution_count": 3
        }
      ]
    },
    {
      "cell_type": "code",
      "source": [
        "data "
      ],
      "metadata": {
        "id": "T8KiJTbYSfKI"
      },
      "execution_count": null,
      "outputs": []
    },
    {
      "cell_type": "markdown",
      "source": [
        "# **Data Ploting**"
      ],
      "metadata": {
        "id": "k882mXlfRekE"
      }
    },
    {
      "cell_type": "code",
      "source": [
        "fig, ax = plt.subplots(figsize=(12,8))\n",
        "ax.scatter(X[:,0], X[:,1])"
      ],
      "metadata": {
        "id": "iMvqCFDiRj0O"
      },
      "execution_count": null,
      "outputs": []
    },
    {
      "cell_type": "markdown",
      "source": [
        "# **Gaussian distribution for each feature in the data**"
      ],
      "metadata": {
        "id": "JBcKxRPoRz1U"
      }
    },
    {
      "cell_type": "code",
      "source": [
        "def estimate_gaussian(X):\n",
        "    mu = X.mean(axis=0)\n",
        "    sigma = X.var(axis=0)\n",
        "    \n",
        "    return mu, sigma"
      ],
      "metadata": {
        "id": "Rmmy_9WTSDvG"
      },
      "execution_count": 5,
      "outputs": []
    },
    {
      "cell_type": "code",
      "source": [
        "mu, sigma = estimate_gaussian(X)\n",
        "mu, sigma"
      ],
      "metadata": {
        "id": "7L8Duj5GSH42"
      },
      "execution_count": null,
      "outputs": []
    },
    {
      "cell_type": "markdown",
      "source": [
        "## **Probability threshold**"
      ],
      "metadata": {
        "id": "hsSgBPUWStFr"
      }
    },
    {
      "cell_type": "code",
      "source": [
        "Xval = data['Xval']\n",
        "yval = data['yval']\n",
        "\n",
        "Xval.shape, yval.shape"
      ],
      "metadata": {
        "colab": {
          "base_uri": "https://localhost:8080/"
        },
        "id": "pSqUXlxHS_IG",
        "outputId": "17f31378-afe4-46dd-e142-3999a119b040"
      },
      "execution_count": 9,
      "outputs": [
        {
          "output_type": "execute_result",
          "data": {
            "text/plain": [
              "((307, 2), (307, 1))"
            ]
          },
          "metadata": {},
          "execution_count": 9
        }
      ]
    },
    {
      "cell_type": "code",
      "source": [
        "from scipy import stats\n",
        "dist = stats.norm(mu[0], sigma[0])\n",
        "dist.pdf(X[:,0])[0:50]"
      ],
      "metadata": {
        "colab": {
          "base_uri": "https://localhost:8080/"
        },
        "id": "fBc3Dcj6TN-j",
        "outputId": "b8c60572-9b5c-4b7d-d5b8-1986b0977012"
      },
      "execution_count": 10,
      "outputs": [
        {
          "output_type": "execute_result",
          "data": {
            "text/plain": [
              "array([0.183842  , 0.20221694, 0.21746136, 0.19778763, 0.20858956,\n",
              "       0.21652359, 0.16991291, 0.15123542, 0.1163989 , 0.1594734 ,\n",
              "       0.21716057, 0.21760472, 0.20141857, 0.20157497, 0.21711385,\n",
              "       0.21758775, 0.21695576, 0.2138258 , 0.21057069, 0.1173018 ,\n",
              "       0.20765108, 0.21717452, 0.19510663, 0.21702152, 0.17429399,\n",
              "       0.15413455, 0.21000109, 0.20223586, 0.21031898, 0.21313426,\n",
              "       0.16158946, 0.2170794 , 0.17825767, 0.17414633, 0.1264951 ,\n",
              "       0.19723662, 0.14538809, 0.21766361, 0.21191386, 0.21729442,\n",
              "       0.21238912, 0.18799417, 0.21259798, 0.21752767, 0.20616968,\n",
              "       0.21520366, 0.1280081 , 0.21768113, 0.21539967, 0.16913173])"
            ]
          },
          "metadata": {},
          "execution_count": 10
        }
      ]
    }
  ]
}