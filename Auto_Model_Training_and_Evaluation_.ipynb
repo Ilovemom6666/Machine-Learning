{
  "nbformat": 4,
  "nbformat_minor": 0,
  "metadata": {
    "colab": {
      "name": "Auto Model Training and Evaluation .ipynb",
      "provenance": [],
      "collapsed_sections": [],
      "toc_visible": true,
      "include_colab_link": true
    },
    "kernelspec": {
      "display_name": "Python 3",
      "name": "python3"
    },
    "language_info": {
      "name": "python"
    },
    "widgets": {
      "application/vnd.jupyter.widget-state+json": {
        "b1ec19a98b944ca0810c76d242414146": {
          "model_module": "@jupyter-widgets/controls",
          "model_name": "IntProgressModel",
          "model_module_version": "1.5.0",
          "state": {
            "_view_name": "ProgressView",
            "style": "IPY_MODEL_4ece79033a874c70b9fb8f22cf0fd19b",
            "_dom_classes": [],
            "description": "Processing: ",
            "_model_name": "IntProgressModel",
            "bar_style": "",
            "max": 3,
            "_view_module": "@jupyter-widgets/controls",
            "_model_module_version": "1.5.0",
            "value": 3,
            "_view_count": null,
            "_view_module_version": "1.5.0",
            "orientation": "horizontal",
            "min": 0,
            "description_tooltip": null,
            "_model_module": "@jupyter-widgets/controls",
            "layout": "IPY_MODEL_7178ab1a83ad42208b99fc2b1bef7fd2"
          }
        },
        "4ece79033a874c70b9fb8f22cf0fd19b": {
          "model_module": "@jupyter-widgets/controls",
          "model_name": "ProgressStyleModel",
          "model_module_version": "1.5.0",
          "state": {
            "_view_name": "StyleView",
            "_model_name": "ProgressStyleModel",
            "description_width": "",
            "_view_module": "@jupyter-widgets/base",
            "_model_module_version": "1.5.0",
            "_view_count": null,
            "_view_module_version": "1.2.0",
            "bar_color": null,
            "_model_module": "@jupyter-widgets/controls"
          }
        },
        "7178ab1a83ad42208b99fc2b1bef7fd2": {
          "model_module": "@jupyter-widgets/base",
          "model_name": "LayoutModel",
          "model_module_version": "1.2.0",
          "state": {
            "_view_name": "LayoutView",
            "grid_template_rows": null,
            "right": null,
            "justify_content": null,
            "_view_module": "@jupyter-widgets/base",
            "overflow": null,
            "_model_module_version": "1.2.0",
            "_view_count": null,
            "flex_flow": null,
            "width": null,
            "min_width": null,
            "border": null,
            "align_items": null,
            "bottom": null,
            "_model_module": "@jupyter-widgets/base",
            "top": null,
            "grid_column": null,
            "overflow_y": null,
            "overflow_x": null,
            "grid_auto_flow": null,
            "grid_area": null,
            "grid_template_columns": null,
            "flex": null,
            "_model_name": "LayoutModel",
            "justify_items": null,
            "grid_row": null,
            "max_height": null,
            "align_content": null,
            "visibility": null,
            "align_self": null,
            "height": null,
            "min_height": null,
            "padding": null,
            "grid_auto_rows": null,
            "grid_gap": null,
            "max_width": null,
            "order": null,
            "_view_module_version": "1.2.0",
            "grid_template_areas": null,
            "object_position": null,
            "object_fit": null,
            "grid_auto_columns": null,
            "margin": null,
            "display": null,
            "left": null
          }
        },
        "e842116bf3cb4f1c9891aa1b318c26c0": {
          "model_module": "@jupyter-widgets/controls",
          "model_name": "TextModel",
          "model_module_version": "1.5.0",
          "state": {
            "_view_name": "TextView",
            "style": "IPY_MODEL_cf0e6c48f5cb4aa49620c2d923e8dbb0",
            "_dom_classes": [],
            "description": "",
            "_model_name": "TextModel",
            "placeholder": "​",
            "_view_module": "@jupyter-widgets/controls",
            "_model_module_version": "1.5.0",
            "value": "Following data types have been inferred automatically, if they are correct press enter to continue or type 'quit' otherwise.",
            "_view_count": null,
            "disabled": false,
            "_view_module_version": "1.5.0",
            "continuous_update": true,
            "description_tooltip": null,
            "_model_module": "@jupyter-widgets/controls",
            "layout": "IPY_MODEL_d77838e29bd145d59022487deb89d7e1"
          }
        },
        "cf0e6c48f5cb4aa49620c2d923e8dbb0": {
          "model_module": "@jupyter-widgets/controls",
          "model_name": "DescriptionStyleModel",
          "model_module_version": "1.5.0",
          "state": {
            "_view_name": "StyleView",
            "_model_name": "DescriptionStyleModel",
            "description_width": "",
            "_view_module": "@jupyter-widgets/base",
            "_model_module_version": "1.5.0",
            "_view_count": null,
            "_view_module_version": "1.2.0",
            "_model_module": "@jupyter-widgets/controls"
          }
        },
        "d77838e29bd145d59022487deb89d7e1": {
          "model_module": "@jupyter-widgets/base",
          "model_name": "LayoutModel",
          "model_module_version": "1.2.0",
          "state": {
            "_view_name": "LayoutView",
            "grid_template_rows": null,
            "right": null,
            "justify_content": null,
            "_view_module": "@jupyter-widgets/base",
            "overflow": null,
            "_model_module_version": "1.2.0",
            "_view_count": null,
            "flex_flow": null,
            "width": "100%",
            "min_width": null,
            "border": null,
            "align_items": null,
            "bottom": null,
            "_model_module": "@jupyter-widgets/base",
            "top": null,
            "grid_column": null,
            "overflow_y": null,
            "overflow_x": null,
            "grid_auto_flow": null,
            "grid_area": null,
            "grid_template_columns": null,
            "flex": null,
            "_model_name": "LayoutModel",
            "justify_items": null,
            "grid_row": null,
            "max_height": null,
            "align_content": null,
            "visibility": null,
            "align_self": null,
            "height": null,
            "min_height": null,
            "padding": null,
            "grid_auto_rows": null,
            "grid_gap": null,
            "max_width": null,
            "order": null,
            "_view_module_version": "1.2.0",
            "grid_template_areas": null,
            "object_position": null,
            "object_fit": null,
            "grid_auto_columns": null,
            "margin": null,
            "display": null,
            "left": null
          }
        },
        "78b267cb5e994601b339b131988d3cae": {
          "model_module": "@jupyter-widgets/controls",
          "model_name": "IntProgressModel",
          "model_module_version": "1.5.0",
          "state": {
            "_view_name": "ProgressView",
            "style": "IPY_MODEL_0c15b9a95bf04653861c94ec3a7446de",
            "_dom_classes": [],
            "description": "Processing: ",
            "_model_name": "IntProgressModel",
            "bar_style": "",
            "max": 79,
            "_view_module": "@jupyter-widgets/controls",
            "_model_module_version": "1.5.0",
            "value": 79,
            "_view_count": null,
            "_view_module_version": "1.5.0",
            "orientation": "horizontal",
            "min": 0,
            "description_tooltip": null,
            "_model_module": "@jupyter-widgets/controls",
            "layout": "IPY_MODEL_360037e545ca48028a500ca9d4b306ee"
          }
        },
        "0c15b9a95bf04653861c94ec3a7446de": {
          "model_module": "@jupyter-widgets/controls",
          "model_name": "ProgressStyleModel",
          "model_module_version": "1.5.0",
          "state": {
            "_view_name": "StyleView",
            "_model_name": "ProgressStyleModel",
            "description_width": "",
            "_view_module": "@jupyter-widgets/base",
            "_model_module_version": "1.5.0",
            "_view_count": null,
            "_view_module_version": "1.2.0",
            "bar_color": null,
            "_model_module": "@jupyter-widgets/controls"
          }
        },
        "360037e545ca48028a500ca9d4b306ee": {
          "model_module": "@jupyter-widgets/base",
          "model_name": "LayoutModel",
          "model_module_version": "1.2.0",
          "state": {
            "_view_name": "LayoutView",
            "grid_template_rows": null,
            "right": null,
            "justify_content": null,
            "_view_module": "@jupyter-widgets/base",
            "overflow": null,
            "_model_module_version": "1.2.0",
            "_view_count": null,
            "flex_flow": null,
            "width": null,
            "min_width": null,
            "border": null,
            "align_items": null,
            "bottom": null,
            "_model_module": "@jupyter-widgets/base",
            "top": null,
            "grid_column": null,
            "overflow_y": null,
            "overflow_x": null,
            "grid_auto_flow": null,
            "grid_area": null,
            "grid_template_columns": null,
            "flex": null,
            "_model_name": "LayoutModel",
            "justify_items": null,
            "grid_row": null,
            "max_height": null,
            "align_content": null,
            "visibility": null,
            "align_self": null,
            "height": null,
            "min_height": null,
            "padding": null,
            "grid_auto_rows": null,
            "grid_gap": null,
            "max_width": null,
            "order": null,
            "_view_module_version": "1.2.0",
            "grid_template_areas": null,
            "object_position": null,
            "object_fit": null,
            "grid_auto_columns": null,
            "margin": null,
            "display": null,
            "left": null
          }
        },
        "e78e86dabb984858817fc0dda67aedce": {
          "model_module": "@jupyter-widgets/controls",
          "model_name": "IntProgressModel",
          "model_module_version": "1.5.0",
          "state": {
            "_view_name": "ProgressView",
            "style": "IPY_MODEL_eaa0af73c12f4df6a57390943d40235f",
            "_dom_classes": [],
            "description": "Processing: ",
            "_model_name": "IntProgressModel",
            "bar_style": "",
            "max": 79,
            "_view_module": "@jupyter-widgets/controls",
            "_model_module_version": "1.5.0",
            "value": 79,
            "_view_count": null,
            "_view_module_version": "1.5.0",
            "orientation": "horizontal",
            "min": 0,
            "description_tooltip": null,
            "_model_module": "@jupyter-widgets/controls",
            "layout": "IPY_MODEL_7ee4eea66d8842dab828a65b9f0c601b"
          }
        },
        "eaa0af73c12f4df6a57390943d40235f": {
          "model_module": "@jupyter-widgets/controls",
          "model_name": "ProgressStyleModel",
          "model_module_version": "1.5.0",
          "state": {
            "_view_name": "StyleView",
            "_model_name": "ProgressStyleModel",
            "description_width": "",
            "_view_module": "@jupyter-widgets/base",
            "_model_module_version": "1.5.0",
            "_view_count": null,
            "_view_module_version": "1.2.0",
            "bar_color": null,
            "_model_module": "@jupyter-widgets/controls"
          }
        },
        "7ee4eea66d8842dab828a65b9f0c601b": {
          "model_module": "@jupyter-widgets/base",
          "model_name": "LayoutModel",
          "model_module_version": "1.2.0",
          "state": {
            "_view_name": "LayoutView",
            "grid_template_rows": null,
            "right": null,
            "justify_content": null,
            "_view_module": "@jupyter-widgets/base",
            "overflow": null,
            "_model_module_version": "1.2.0",
            "_view_count": null,
            "flex_flow": null,
            "width": null,
            "min_width": null,
            "border": null,
            "align_items": null,
            "bottom": null,
            "_model_module": "@jupyter-widgets/base",
            "top": null,
            "grid_column": null,
            "overflow_y": null,
            "overflow_x": null,
            "grid_auto_flow": null,
            "grid_area": null,
            "grid_template_columns": null,
            "flex": null,
            "_model_name": "LayoutModel",
            "justify_items": null,
            "grid_row": null,
            "max_height": null,
            "align_content": null,
            "visibility": null,
            "align_self": null,
            "height": null,
            "min_height": null,
            "padding": null,
            "grid_auto_rows": null,
            "grid_gap": null,
            "max_width": null,
            "order": null,
            "_view_module_version": "1.2.0",
            "grid_template_areas": null,
            "object_position": null,
            "object_fit": null,
            "grid_auto_columns": null,
            "margin": null,
            "display": null,
            "left": null
          }
        },
        "a88159217fa24831aa038eb19715a0f9": {
          "model_module": "@jupyter-widgets/controls",
          "model_name": "IntProgressModel",
          "model_module_version": "1.5.0",
          "state": {
            "_view_name": "ProgressView",
            "style": "IPY_MODEL_6621d00426584fae941bb051b0a593e9",
            "_dom_classes": [],
            "description": "Processing: ",
            "_model_name": "IntProgressModel",
            "bar_style": "",
            "max": 7,
            "_view_module": "@jupyter-widgets/controls",
            "_model_module_version": "1.5.0",
            "value": 7,
            "_view_count": null,
            "_view_module_version": "1.5.0",
            "orientation": "horizontal",
            "min": 0,
            "description_tooltip": null,
            "_model_module": "@jupyter-widgets/controls",
            "layout": "IPY_MODEL_ac8e8d86ec784b2a86dff7b6d70f0a05"
          }
        },
        "6621d00426584fae941bb051b0a593e9": {
          "model_module": "@jupyter-widgets/controls",
          "model_name": "ProgressStyleModel",
          "model_module_version": "1.5.0",
          "state": {
            "_view_name": "StyleView",
            "_model_name": "ProgressStyleModel",
            "description_width": "",
            "_view_module": "@jupyter-widgets/base",
            "_model_module_version": "1.5.0",
            "_view_count": null,
            "_view_module_version": "1.2.0",
            "bar_color": null,
            "_model_module": "@jupyter-widgets/controls"
          }
        },
        "ac8e8d86ec784b2a86dff7b6d70f0a05": {
          "model_module": "@jupyter-widgets/base",
          "model_name": "LayoutModel",
          "model_module_version": "1.2.0",
          "state": {
            "_view_name": "LayoutView",
            "grid_template_rows": null,
            "right": null,
            "justify_content": null,
            "_view_module": "@jupyter-widgets/base",
            "overflow": null,
            "_model_module_version": "1.2.0",
            "_view_count": null,
            "flex_flow": null,
            "width": null,
            "min_width": null,
            "border": null,
            "align_items": null,
            "bottom": null,
            "_model_module": "@jupyter-widgets/base",
            "top": null,
            "grid_column": null,
            "overflow_y": null,
            "overflow_x": null,
            "grid_auto_flow": null,
            "grid_area": null,
            "grid_template_columns": null,
            "flex": null,
            "_model_name": "LayoutModel",
            "justify_items": null,
            "grid_row": null,
            "max_height": null,
            "align_content": null,
            "visibility": null,
            "align_self": null,
            "height": null,
            "min_height": null,
            "padding": null,
            "grid_auto_rows": null,
            "grid_gap": null,
            "max_width": null,
            "order": null,
            "_view_module_version": "1.2.0",
            "grid_template_areas": null,
            "object_position": null,
            "object_fit": null,
            "grid_auto_columns": null,
            "margin": null,
            "display": null,
            "left": null
          }
        },
        "1631e84f377c4864be4dcfd1437fe896": {
          "model_module": "@jupyter-widgets/controls",
          "model_name": "IntProgressModel",
          "model_module_version": "1.5.0",
          "state": {
            "_view_name": "ProgressView",
            "style": "IPY_MODEL_87567e20f55a4e7c838d017660329e3b",
            "_dom_classes": [],
            "description": "Processing: ",
            "_model_name": "IntProgressModel",
            "bar_style": "",
            "max": 99,
            "_view_module": "@jupyter-widgets/controls",
            "_model_module_version": "1.5.0",
            "value": 99,
            "_view_count": null,
            "_view_module_version": "1.5.0",
            "orientation": "horizontal",
            "min": 0,
            "description_tooltip": null,
            "_model_module": "@jupyter-widgets/controls",
            "layout": "IPY_MODEL_9761e61a6478419fa00d6d8d98abb9e7"
          }
        },
        "87567e20f55a4e7c838d017660329e3b": {
          "model_module": "@jupyter-widgets/controls",
          "model_name": "ProgressStyleModel",
          "model_module_version": "1.5.0",
          "state": {
            "_view_name": "StyleView",
            "_model_name": "ProgressStyleModel",
            "description_width": "",
            "_view_module": "@jupyter-widgets/base",
            "_model_module_version": "1.5.0",
            "_view_count": null,
            "_view_module_version": "1.2.0",
            "bar_color": null,
            "_model_module": "@jupyter-widgets/controls"
          }
        },
        "9761e61a6478419fa00d6d8d98abb9e7": {
          "model_module": "@jupyter-widgets/base",
          "model_name": "LayoutModel",
          "model_module_version": "1.2.0",
          "state": {
            "_view_name": "LayoutView",
            "grid_template_rows": null,
            "right": null,
            "justify_content": null,
            "_view_module": "@jupyter-widgets/base",
            "overflow": null,
            "_model_module_version": "1.2.0",
            "_view_count": null,
            "flex_flow": null,
            "width": null,
            "min_width": null,
            "border": null,
            "align_items": null,
            "bottom": null,
            "_model_module": "@jupyter-widgets/base",
            "top": null,
            "grid_column": null,
            "overflow_y": null,
            "overflow_x": null,
            "grid_auto_flow": null,
            "grid_area": null,
            "grid_template_columns": null,
            "flex": null,
            "_model_name": "LayoutModel",
            "justify_items": null,
            "grid_row": null,
            "max_height": null,
            "align_content": null,
            "visibility": null,
            "align_self": null,
            "height": null,
            "min_height": null,
            "padding": null,
            "grid_auto_rows": null,
            "grid_gap": null,
            "max_width": null,
            "order": null,
            "_view_module_version": "1.2.0",
            "grid_template_areas": null,
            "object_position": null,
            "object_fit": null,
            "grid_auto_columns": null,
            "margin": null,
            "display": null,
            "left": null
          }
        },
        "419587fabe6542ef912ed221cc1baad3": {
          "model_module": "@jupyter-widgets/controls",
          "model_name": "IntProgressModel",
          "model_module_version": "1.5.0",
          "state": {
            "_view_name": "ProgressView",
            "style": "IPY_MODEL_5713f50dd7c34839bb5371438c81d61a",
            "_dom_classes": [],
            "description": "Processing: ",
            "_model_name": "IntProgressModel",
            "bar_style": "",
            "max": 99,
            "_view_module": "@jupyter-widgets/controls",
            "_model_module_version": "1.5.0",
            "value": 99,
            "_view_count": null,
            "_view_module_version": "1.5.0",
            "orientation": "horizontal",
            "min": 0,
            "description_tooltip": null,
            "_model_module": "@jupyter-widgets/controls",
            "layout": "IPY_MODEL_b5182a97fe3744a7a0a0bd54e8578131"
          }
        },
        "5713f50dd7c34839bb5371438c81d61a": {
          "model_module": "@jupyter-widgets/controls",
          "model_name": "ProgressStyleModel",
          "model_module_version": "1.5.0",
          "state": {
            "_view_name": "StyleView",
            "_model_name": "ProgressStyleModel",
            "description_width": "",
            "_view_module": "@jupyter-widgets/base",
            "_model_module_version": "1.5.0",
            "_view_count": null,
            "_view_module_version": "1.2.0",
            "bar_color": null,
            "_model_module": "@jupyter-widgets/controls"
          }
        },
        "b5182a97fe3744a7a0a0bd54e8578131": {
          "model_module": "@jupyter-widgets/base",
          "model_name": "LayoutModel",
          "model_module_version": "1.2.0",
          "state": {
            "_view_name": "LayoutView",
            "grid_template_rows": null,
            "right": null,
            "justify_content": null,
            "_view_module": "@jupyter-widgets/base",
            "overflow": null,
            "_model_module_version": "1.2.0",
            "_view_count": null,
            "flex_flow": null,
            "width": null,
            "min_width": null,
            "border": null,
            "align_items": null,
            "bottom": null,
            "_model_module": "@jupyter-widgets/base",
            "top": null,
            "grid_column": null,
            "overflow_y": null,
            "overflow_x": null,
            "grid_auto_flow": null,
            "grid_area": null,
            "grid_template_columns": null,
            "flex": null,
            "_model_name": "LayoutModel",
            "justify_items": null,
            "grid_row": null,
            "max_height": null,
            "align_content": null,
            "visibility": null,
            "align_self": null,
            "height": null,
            "min_height": null,
            "padding": null,
            "grid_auto_rows": null,
            "grid_gap": null,
            "max_width": null,
            "order": null,
            "_view_module_version": "1.2.0",
            "grid_template_areas": null,
            "object_position": null,
            "object_fit": null,
            "grid_auto_columns": null,
            "margin": null,
            "display": null,
            "left": null
          }
        },
        "65784eb380d342d09cd50fba4ce2205d": {
          "model_module": "@jupyter-widgets/controls",
          "model_name": "IntProgressModel",
          "model_module_version": "1.5.0",
          "state": {
            "_view_name": "ProgressView",
            "style": "IPY_MODEL_441337fb62a74892926fa7a8d6f4d9d5",
            "_dom_classes": [],
            "description": "Processing: ",
            "_model_name": "IntProgressModel",
            "bar_style": "",
            "max": 79,
            "_view_module": "@jupyter-widgets/controls",
            "_model_module_version": "1.5.0",
            "value": 60,
            "_view_count": null,
            "_view_module_version": "1.5.0",
            "orientation": "horizontal",
            "min": 0,
            "description_tooltip": null,
            "_model_module": "@jupyter-widgets/controls",
            "layout": "IPY_MODEL_e33a841b6c6e4c7fba4e96fcb08d2870"
          }
        },
        "441337fb62a74892926fa7a8d6f4d9d5": {
          "model_module": "@jupyter-widgets/controls",
          "model_name": "ProgressStyleModel",
          "model_module_version": "1.5.0",
          "state": {
            "_view_name": "StyleView",
            "_model_name": "ProgressStyleModel",
            "description_width": "",
            "_view_module": "@jupyter-widgets/base",
            "_model_module_version": "1.5.0",
            "_view_count": null,
            "_view_module_version": "1.2.0",
            "bar_color": null,
            "_model_module": "@jupyter-widgets/controls"
          }
        },
        "e33a841b6c6e4c7fba4e96fcb08d2870": {
          "model_module": "@jupyter-widgets/base",
          "model_name": "LayoutModel",
          "model_module_version": "1.2.0",
          "state": {
            "_view_name": "LayoutView",
            "grid_template_rows": null,
            "right": null,
            "justify_content": null,
            "_view_module": "@jupyter-widgets/base",
            "overflow": null,
            "_model_module_version": "1.2.0",
            "_view_count": null,
            "flex_flow": null,
            "width": null,
            "min_width": null,
            "border": null,
            "align_items": null,
            "bottom": null,
            "_model_module": "@jupyter-widgets/base",
            "top": null,
            "grid_column": null,
            "overflow_y": null,
            "overflow_x": null,
            "grid_auto_flow": null,
            "grid_area": null,
            "grid_template_columns": null,
            "flex": null,
            "_model_name": "LayoutModel",
            "justify_items": null,
            "grid_row": null,
            "max_height": null,
            "align_content": null,
            "visibility": null,
            "align_self": null,
            "height": null,
            "min_height": null,
            "padding": null,
            "grid_auto_rows": null,
            "grid_gap": null,
            "max_width": null,
            "order": null,
            "_view_module_version": "1.2.0",
            "grid_template_areas": null,
            "object_position": null,
            "object_fit": null,
            "grid_auto_columns": null,
            "margin": null,
            "display": null,
            "left": null
          }
        },
        "c8603813f79b42bda43a9053c5463be6": {
          "model_module": "@jupyter-widgets/controls",
          "model_name": "IntProgressModel",
          "model_module_version": "1.5.0",
          "state": {
            "_view_name": "ProgressView",
            "style": "IPY_MODEL_8672654c321b42f99e45588e0558e375",
            "_dom_classes": [],
            "description": "Processing: ",
            "_model_name": "IntProgressModel",
            "bar_style": "",
            "max": 6,
            "_view_module": "@jupyter-widgets/controls",
            "_model_module_version": "1.5.0",
            "value": 6,
            "_view_count": null,
            "_view_module_version": "1.5.0",
            "orientation": "horizontal",
            "min": 0,
            "description_tooltip": null,
            "_model_module": "@jupyter-widgets/controls",
            "layout": "IPY_MODEL_23f91a0637fb4032859f9bef8a337be7"
          }
        },
        "8672654c321b42f99e45588e0558e375": {
          "model_module": "@jupyter-widgets/controls",
          "model_name": "ProgressStyleModel",
          "model_module_version": "1.5.0",
          "state": {
            "_view_name": "StyleView",
            "_model_name": "ProgressStyleModel",
            "description_width": "",
            "_view_module": "@jupyter-widgets/base",
            "_model_module_version": "1.5.0",
            "_view_count": null,
            "_view_module_version": "1.2.0",
            "bar_color": null,
            "_model_module": "@jupyter-widgets/controls"
          }
        },
        "23f91a0637fb4032859f9bef8a337be7": {
          "model_module": "@jupyter-widgets/base",
          "model_name": "LayoutModel",
          "model_module_version": "1.2.0",
          "state": {
            "_view_name": "LayoutView",
            "grid_template_rows": null,
            "right": null,
            "justify_content": null,
            "_view_module": "@jupyter-widgets/base",
            "overflow": null,
            "_model_module_version": "1.2.0",
            "_view_count": null,
            "flex_flow": null,
            "width": null,
            "min_width": null,
            "border": null,
            "align_items": null,
            "bottom": null,
            "_model_module": "@jupyter-widgets/base",
            "top": null,
            "grid_column": null,
            "overflow_y": null,
            "overflow_x": null,
            "grid_auto_flow": null,
            "grid_area": null,
            "grid_template_columns": null,
            "flex": null,
            "_model_name": "LayoutModel",
            "justify_items": null,
            "grid_row": null,
            "max_height": null,
            "align_content": null,
            "visibility": null,
            "align_self": null,
            "height": null,
            "min_height": null,
            "padding": null,
            "grid_auto_rows": null,
            "grid_gap": null,
            "max_width": null,
            "order": null,
            "_view_module_version": "1.2.0",
            "grid_template_areas": null,
            "object_position": null,
            "object_fit": null,
            "grid_auto_columns": null,
            "margin": null,
            "display": null,
            "left": null
          }
        }
      }
    }
  },
  "cells": [
    {
      "cell_type": "markdown",
      "metadata": {
        "id": "view-in-github",
        "colab_type": "text"
      },
      "source": [
        "<a href=\"https://colab.research.google.com/github/hussain0048/Machine-Learning/blob/master/Auto_Model_Training_and_Evaluation_.ipynb\" target=\"_parent\"><img src=\"https://colab.research.google.com/assets/colab-badge.svg\" alt=\"Open In Colab\"/></a>"
      ]
    },
    {
      "cell_type": "markdown",
      "metadata": {
        "id": "YX1XA2lOe_hC"
      },
      "source": [
        "# **Table Content**"
      ]
    },
    {
      "cell_type": "markdown",
      "metadata": {
        "id": "iRvGGuOwfGui"
      },
      "source": [
        "\n",
        "<div class=\"alert alert-block alert-info\" style=\"margin-top: 20px\">\n",
        "    <ul>\n",
        "        <li><a href=\"https:\">Introduction</a></li>\n",
        "        <li><a href=\"#downloading_data\">Data Loading</a></li>\n",
        "        <li><a href=\"#pre-processing\">Dropping feature</a></li>\n",
        "         <li><a href=\"#pre-processing\">Convert target variable into binary Form</a></li>\n",
        "        <li><a href=\"#setting_up_tree\">Data Imbalanced problem </a></li>\n",
        "        <li><a href=\"#modeling\">Missing Values</a></li>\n",
        "         <li><a href=\"#modeling\">Inconsistent data/Irrelevant features</a></li>\n",
        "        <li><a href=\"#prediction\">Hot Encoding</a></li>\n",
        "        <li><a href=\"#evaluation\">Outlier Detection</a></li>\n",
        "        <li><a href=\"#evaluation\">Auto Model Training and Evaluation\n",
        "        <ul>\n",
        "        <li><a href=\"#evaluation\">Pycaret</a></li>\n",
        "        <li><a href=\"#evaluation\">Random Forest</a></li>\n",
        "        <li><a href=\"#evaluation\">Support Vector Machine</a></li>\n",
        "         <li><a href=\"#evaluation\">Logistic Regression</a></li>\n",
        "         <li><a href=\"#evaluation\">KNN</a></li>\n",
        "         <li><a href=\"#evaluation\">Naive Bayes</a></li>\n",
        "         <li><a href=\"#evaluation\">Deep Neural Multilayer Perceptron (MLP)</a></li>\n",
        "         <li><a href=\"#evaluation\">Gradient Boosting</a></li>\n",
        "         <li><a href=\"#evaluation\">ExtraTreesClassifier</a></li>\n",
        "         <li><a href=\"#evaluation\">LGBM Classifer</a></li>\n",
        "         <li><a href=\"#evaluation\">CatBoost</a></li>\n",
        "    </ul>\n",
        "</div>\n",
        "<br>\n",
        "<hr>\n"
      ]
    },
    {
      "cell_type": "markdown",
      "metadata": {
        "id": "s1xpAC0Sf0EQ"
      },
      "source": [
        "# **1- Introduction** "
      ]
    },
    {
      "cell_type": "markdown",
      "metadata": {
        "id": "o2tTizNTf7o3"
      },
      "source": [
        "Data preprocessing is an integral step in Machine Learning as the quality of data and the useful information that can be derived from it directly affects the ability of our model to learn; therefore, it is extremely important that we preprocess our data before feeding it into our model."
      ]
    },
    {
      "cell_type": "markdown",
      "metadata": {
        "id": "WZ0HWWxbvs86"
      },
      "source": [
        "# **Import libaray**"
      ]
    },
    {
      "cell_type": "code",
      "metadata": {
        "id": "LOHSx5sKvwti",
        "colab": {
          "base_uri": "https://localhost:8080/"
        },
        "outputId": "100ff0b8-47ba-488d-8a84-dc7e920ac192"
      },
      "source": [
        "import numpy as np \n",
        "import pandas as pd \n",
        "import seaborn as sns \n",
        "import matplotlib.pyplot as plt\n",
        "from prettytable import PrettyTable\n",
        "from sklearn.metrics import roc_curve, auc\n",
        "from mlxtend.plotting import plot_confusion_matrix \n",
        "from sklearn.model_selection import train_test_split\n",
        "from sklearn.metrics import classification_report, confusion_matrix\n",
        "from sklearn.tree import DecisionTreeClassifier\n",
        "from sklearn.ensemble import RandomForestClassifier\n",
        "from sklearn.svm import LinearSVC\n",
        "from sklearn.linear_model import LogisticRegression\n",
        "from sklearn.neighbors import KNeighborsClassifier\n",
        "import warnings\n",
        "warnings.filterwarnings(\"ignore\")\n",
        "from pycaret.utils import enable_colab\n",
        "enable_colab()"
      ],
      "execution_count": null,
      "outputs": [
        {
          "output_type": "stream",
          "name": "stdout",
          "text": [
            "Colab mode enabled.\n"
          ]
        }
      ]
    },
    {
      "cell_type": "markdown",
      "metadata": {
        "id": "G2WuuWtcgNG4"
      },
      "source": [
        "# **2- Data Loading**"
      ]
    },
    {
      "cell_type": "markdown",
      "metadata": {
        "id": "Biql2sZngvIB"
      },
      "source": [
        "## **2.1 Data Loading from Google Drive**"
      ]
    },
    {
      "cell_type": "code",
      "metadata": {
        "colab": {
          "base_uri": "https://localhost:8080/"
        },
        "id": "Gwp1rpowgTKQ",
        "outputId": "8a3ec180-4182-43d9-94be-c7c30b8c3dfa"
      },
      "source": [
        "from google.colab import drive\n",
        "drive.mount('/content/drive')"
      ],
      "execution_count": null,
      "outputs": [
        {
          "output_type": "stream",
          "name": "stdout",
          "text": [
            "Mounted at /content/drive\n"
          ]
        }
      ]
    },
    {
      "cell_type": "code",
      "metadata": {
        "id": "3RoIsrRghTBm"
      },
      "source": [
        "import pandas as pd \n",
        "Train_data = pd.read_csv('/content/drive/MyDrive/Datasets/Water Brone diesease/Malyria_2-21-2021.csv',encoding = 'latin')"
      ],
      "execution_count": null,
      "outputs": []
    },
    {
      "cell_type": "code",
      "metadata": {
        "id": "9hwlf9uUhdzP"
      },
      "source": [
        "Train_data"
      ],
      "execution_count": null,
      "outputs": []
    },
    {
      "cell_type": "markdown",
      "metadata": {
        "id": "SbnAH9rKhntf"
      },
      "source": [
        "# **3- Dropping feature**\n",
        "\n",
        "Dropping feature usually isn’t recommended because you’re losing information. But if you’re sure that the column isn’t important, or simply has too many missing values, you can choose to drop them. For example, for this dataset, the host_name column was removed for ethical reasons, and id was removed because it was was unnecessary.\n",
        "To drop features, use drop and set axis to 1 and inplace to true. Axis is 1 because we want to drop columns (0 means row), and inplace is True because you're transforming it directly on your dataset."
      ]
    },
    {
      "cell_type": "markdown",
      "metadata": {
        "id": "sfufIU6Ph4DJ"
      },
      "source": [
        "## **3.1 Drop Index Columns**"
      ]
    },
    {
      "cell_type": "code",
      "metadata": {
        "id": "qRMwPJugh_cV"
      },
      "source": [
        "Train_data=Train_data.reset_index()\n",
        "Train_data=Train_data.drop(columns=['index'])"
      ],
      "execution_count": null,
      "outputs": []
    },
    {
      "cell_type": "markdown",
      "metadata": {
        "id": "_ywNezHyiN1J"
      },
      "source": [
        "## **3.2 Drop Multiple featurs**"
      ]
    },
    {
      "cell_type": "code",
      "metadata": {
        "id": "0iDC_p4nigy-"
      },
      "source": [
        "New5=Train_data.drop(Train_data.columns[[0,1,3,4,5,6,7,10,17]], axis=1, inplace=True)"
      ],
      "execution_count": null,
      "outputs": []
    },
    {
      "cell_type": "markdown",
      "metadata": {
        "id": "cjrtdkJdkvGz"
      },
      "source": [
        "# **4-Convert target variable into binary Form**"
      ]
    },
    {
      "cell_type": "code",
      "metadata": {
        "id": "jPeuZ7VPk50C"
      },
      "source": [
        "Train_data['RESULT_TEXT'].replace({'Negative': 0, 'Positive': 1},inplace = True)"
      ],
      "execution_count": null,
      "outputs": []
    },
    {
      "cell_type": "markdown",
      "metadata": {
        "id": "XgG-pUdEI3CK"
      },
      "source": [
        "# **5- Data Imbalanced problem**\n"
      ]
    },
    {
      "cell_type": "markdown",
      "metadata": {
        "id": "JnxhM4IHjs2s"
      },
      "source": [
        "## **5.1 Check Imbalanced Problem in Data**"
      ]
    },
    {
      "cell_type": "code",
      "metadata": {
        "colab": {
          "base_uri": "https://localhost:8080/",
          "height": 336
        },
        "id": "3p7TRBevkGlk",
        "outputId": "e66dbd32-a160-49e0-9177-bf0990d9fab3"
      },
      "source": [
        "import matplotlib.pyplot as plt\n",
        "fig = plt.figure(figsize = (8,5))\n",
        "Train_data.RESULT_TEXT.value_counts(normalize = True).plot(kind='bar', color= ['skyblue','navy'], alpha = 0.9, rot=0)\n",
        "plt.title('Results Status Negative(0) and Positive(1) in the Imbalanced Dataset')\n",
        "plt.show()"
      ],
      "execution_count": null,
      "outputs": [
        {
          "output_type": "display_data",
          "data": {
            "image/png": "[encoded data removed]",
            "text/plain": [
              "<Figure size 576x360 with 1 Axes>"
            ]
          },
          "metadata": {
            "needs_background": "light"
          }
        }
      ]
    },
    {
      "cell_type": "markdown",
      "metadata": {
        "id": "S0qwuF7Dkaw2"
      },
      "source": [
        "## **5.2 Data resample**"
      ]
    },
    {
      "cell_type": "code",
      "metadata": {
        "colab": {
          "base_uri": "https://localhost:8080/",
          "height": 336
        },
        "id": "xAnm9UBIkiC1",
        "outputId": "0153c6cb-e824-4fa7-e3e3-a0f88fd7a112"
      },
      "source": [
        "from sklearn.utils import resample\n",
        "no = Train_data[Train_data.RESULT_TEXT == 0]\n",
        "yes = Train_data[Train_data.RESULT_TEXT == 1]\n",
        "yes_oversampled = resample(yes, replace=True, n_samples=len(no), random_state=123)\n",
        "oversampled = pd.concat([no, yes_oversampled])\n",
        "fig = plt.figure(figsize = (8,5))\n",
        "oversampled.RESULT_TEXT.value_counts(normalize = True).plot(kind='bar', color= ['skyblue','navy'], alpha = 0.9, rot=0)\n",
        "plt.title('Waterbrone Disease status Nagative(0) and Postive(1) after Oversampling (Balanced Dataset)')\n",
        "plt.show()"
      ],
      "execution_count": null,
      "outputs": [
        {
          "output_type": "display_data",
          "data": {
            "image/png": "[encoded data removed]",
            "text/plain": [
              "<Figure size 576x360 with 1 Axes>"
            ]
          },
          "metadata": {
            "needs_background": "light"
          }
        }
      ]
    },
    {
      "cell_type": "markdown",
      "metadata": {
        "id": "hmcHEc1llpEt"
      },
      "source": [
        "#**6- Missing Values** "
      ]
    },
    {
      "cell_type": "markdown",
      "metadata": {
        "id": "z000rrTwmym1"
      },
      "source": [
        "## **6.2- Check missing Value**"
      ]
    },
    {
      "cell_type": "code",
      "metadata": {
        "colab": {
          "base_uri": "https://localhost:8080/",
          "height": 173
        },
        "id": "Jkrr2G-rm8Hj",
        "outputId": "b55fcf00-f0d7-45f7-bf46-8807ed9162fa"
      },
      "source": [
        "total = oversampled.isnull().sum().sort_values(ascending=False)\n",
        "percent = (oversampled.isnull().sum()/oversampled.isnull().count()).sort_values(ascending=False)\n",
        "missing = pd.concat([total, percent], axis=1, keys=['Total', 'Percent'])\n",
        "missing.head(4)"
      ],
      "execution_count": null,
      "outputs": [
        {
          "output_type": "execute_result",
          "data": {
            "text/html": [
              "<div>\n",
              "<style scoped>\n",
              "    .dataframe tbody tr th:only-of-type {\n",
              "        vertical-align: middle;\n",
              "    }\n",
              "\n",
              "    .dataframe tbody tr th {\n",
              "        vertical-align: top;\n",
              "    }\n",
              "\n",
              "    .dataframe thead th {\n",
              "        text-align: right;\n",
              "    }\n",
              "</style>\n",
              "<table border=\"1\" class=\"dataframe\">\n",
              "  <thead>\n",
              "    <tr style=\"text-align: right;\">\n",
              "      <th></th>\n",
              "      <th>Total</th>\n",
              "      <th>Percent</th>\n",
              "    </tr>\n",
              "  </thead>\n",
              "  <tbody>\n",
              "    <tr>\n",
              "      <th>REPORT_VERIFIED</th>\n",
              "      <td>796</td>\n",
              "      <td>0.01749</td>\n",
              "    </tr>\n",
              "    <tr>\n",
              "      <th>RESULT_TEXT</th>\n",
              "      <td>0</td>\n",
              "      <td>0.00000</td>\n",
              "    </tr>\n",
              "    <tr>\n",
              "      <th>CPT_ID.1</th>\n",
              "      <td>0</td>\n",
              "      <td>0.00000</td>\n",
              "    </tr>\n",
              "    <tr>\n",
              "      <th>RESULT_VALUE</th>\n",
              "      <td>0</td>\n",
              "      <td>0.00000</td>\n",
              "    </tr>\n",
              "  </tbody>\n",
              "</table>\n",
              "</div>"
            ],
            "text/plain": [
              "                 Total  Percent\n",
              "REPORT_VERIFIED    796  0.01749\n",
              "RESULT_TEXT          0  0.00000\n",
              "CPT_ID.1             0  0.00000\n",
              "RESULT_VALUE         0  0.00000"
            ]
          },
          "metadata": {},
          "execution_count": 9
        }
      ]
    },
    {
      "cell_type": "markdown",
      "metadata": {
        "id": "orpFOyirp-Cd"
      },
      "source": [
        "# **8-Hot Encoding**"
      ]
    },
    {
      "cell_type": "code",
      "metadata": {
        "colab": {
          "base_uri": "https://localhost:8080/"
        },
        "id": "xarFJmqzqNdt",
        "outputId": "e7c31689-3987-4fc8-b43a-fc65200c40a1"
      },
      "source": [
        "oversampled.select_dtypes(include=['object']).columns\n"
      ],
      "execution_count": null,
      "outputs": [
        {
          "output_type": "execute_result",
          "data": {
            "text/plain": [
              "Index([], dtype='object')"
            ]
          },
          "metadata": {},
          "execution_count": 16
        }
      ]
    },
    {
      "cell_type": "code",
      "metadata": {
        "id": "zkfkPLXEqSSi"
      },
      "source": [
        "# Impute categorical var with Mode\n",
        "oversampled['MRNO'] = oversampled['MRNO'].fillna(oversampled['MRNO'].mode()[0])\n",
        "oversampled['AGE'] = oversampled['AGE'].fillna(oversampled['AGE'].mode()[0])\n",
        "oversampled['GENDER'] = oversampled['GENDER'].fillna(oversampled['GENDER'].mode()[0])\n",
        "oversampled['DISTRICT'] = oversampled['DISTRICT'].fillna(oversampled['DISTRICT'].mode()[0])\n",
        "oversampled['TEHSIL'] = oversampled['TEHSIL'].fillna(oversampled['TEHSIL'].mode()[0])\n",
        "oversampled['REPORT_VERIFIED'] = oversampled['REPORT_VERIFIED'].fillna(oversampled['REPORT_VERIFIED'].mode()[0])\n",
        "oversampled['RESULT_VALUE'] = oversampled['RESULT_VALUE'].fillna(oversampled['RESULT_VALUE'].mode()[0])"
      ],
      "execution_count": null,
      "outputs": []
    },
    {
      "cell_type": "code",
      "metadata": {
        "id": "yrGan4YLqbCI"
      },
      "source": [
        "# Convert categorical features to continuous features with Label Encoding\n",
        "from sklearn.preprocessing import LabelEncoder\n",
        "lencoders = {}\n",
        "for col in oversampled.select_dtypes(include=['object']).columns:\n",
        "    lencoders[col] = LabelEncoder()\n",
        "    oversampled[col] = lencoders[col].fit_transform(oversampled[col])"
      ],
      "execution_count": null,
      "outputs": []
    },
    {
      "cell_type": "code",
      "metadata": {
        "id": "XPPO6refqh0o"
      },
      "source": [
        "import warnings\n",
        "warnings.filterwarnings(\"ignore\")\n",
        "# Multiple Imputation by Chained Equations\n",
        "from sklearn.experimental import enable_iterative_imputer\n",
        "from sklearn.impute import IterativeImputer\n",
        "MiceImputed = oversampled.copy(deep=True) \n",
        "mice_imputer = IterativeImputer()\n",
        "MiceImputed.iloc[:, :] = mice_imputer.fit_transform(oversampled)"
      ],
      "execution_count": null,
      "outputs": []
    },
    {
      "cell_type": "markdown",
      "metadata": {
        "id": "-OoCHQ6TwE_f"
      },
      "source": [
        "# **9-Outlier detection**"
      ]
    },
    {
      "cell_type": "markdown",
      "metadata": {
        "id": "8tq6yjKx4jg8"
      },
      "source": [
        "Outliers can be dangerous as they can skew your model and give you predictions that are biased and erroneous.\n",
        "The best way to find outliers is to use the describe function and look at information such as maximum and mean."
      ]
    },
    {
      "cell_type": "code",
      "metadata": {
        "colab": {
          "base_uri": "https://localhost:8080/"
        },
        "id": "FseYShGQwc1n",
        "outputId": "88a57e29-dc9a-4c04-f5a6-62dc5e80ed90"
      },
      "source": [
        "# Detecting outliers with IQR\n",
        "Q1 = MiceImputed.quantile(0.25)\n",
        "Q3 = MiceImputed.quantile(0.75)\n",
        "IQR = Q3 - Q1\n",
        "print(IQR)"
      ],
      "execution_count": null,
      "outputs": [
        {
          "output_type": "stream",
          "name": "stdout",
          "text": [
            "MRNO               6094.25\n",
            "AGE                  28.00\n",
            "GENDER                1.00\n",
            "DISTRICT              3.00\n",
            "TEHSIL                7.00\n",
            "REPORT_VERIFIED    9501.50\n",
            "CPT_ID             2200.00\n",
            "RESULT_VALUE          0.00\n",
            "CPT_ID.1              0.00\n",
            "RESULT_TEXT           1.00\n",
            "dtype: float64\n"
          ]
        }
      ]
    },
    {
      "cell_type": "code",
      "metadata": {
        "colab": {
          "base_uri": "https://localhost:8080/"
        },
        "id": "aLYT9hGawiaP",
        "outputId": "ff709bf2-7fe7-46dc-bcbc-1d7189588e80"
      },
      "source": [
        "# Removing outliers from the dataset\n",
        "MiceImputed = MiceImputed[~((MiceImputed < (Q1 - 1.5 * IQR)) |(MiceImputed > (Q3 + 1.5 * IQR))).any(axis=1)]\n",
        "MiceImputed.shape"
      ],
      "execution_count": null,
      "outputs": [
        {
          "output_type": "execute_result",
          "data": {
            "text/plain": [
              "(34554, 10)"
            ]
          },
          "metadata": {},
          "execution_count": 21
        }
      ]
    },
    {
      "cell_type": "code",
      "metadata": {
        "colab": {
          "base_uri": "https://localhost:8080/",
          "height": 419
        },
        "id": "7SU6nEUR6H83",
        "outputId": "2aa7bd55-cca1-4563-e497-0cc52b654b4d"
      },
      "source": [
        "MiceImputed"
      ],
      "execution_count": null,
      "outputs": [
        {
          "output_type": "execute_result",
          "data": {
            "text/html": [
              "<div>\n",
              "<style scoped>\n",
              "    .dataframe tbody tr th:only-of-type {\n",
              "        vertical-align: middle;\n",
              "    }\n",
              "\n",
              "    .dataframe tbody tr th {\n",
              "        vertical-align: top;\n",
              "    }\n",
              "\n",
              "    .dataframe thead th {\n",
              "        text-align: right;\n",
              "    }\n",
              "</style>\n",
              "<table border=\"1\" class=\"dataframe\">\n",
              "  <thead>\n",
              "    <tr style=\"text-align: right;\">\n",
              "      <th></th>\n",
              "      <th>MRNO</th>\n",
              "      <th>AGE</th>\n",
              "      <th>GENDER</th>\n",
              "      <th>DISTRICT</th>\n",
              "      <th>TEHSIL</th>\n",
              "      <th>REPORT_VERIFIED</th>\n",
              "      <th>CPT_ID</th>\n",
              "      <th>RESULT_VALUE</th>\n",
              "      <th>CPT_ID.1</th>\n",
              "      <th>RESULT_TEXT</th>\n",
              "    </tr>\n",
              "  </thead>\n",
              "  <tbody>\n",
              "    <tr>\n",
              "      <th>1</th>\n",
              "      <td>10373.0</td>\n",
              "      <td>41.0</td>\n",
              "      <td>1.0</td>\n",
              "      <td>0.0</td>\n",
              "      <td>1.0</td>\n",
              "      <td>21463.0</td>\n",
              "      <td>1.000000e+15</td>\n",
              "      <td>1.0</td>\n",
              "      <td>1.000000e+15</td>\n",
              "      <td>0.0</td>\n",
              "    </tr>\n",
              "    <tr>\n",
              "      <th>2</th>\n",
              "      <td>10373.0</td>\n",
              "      <td>41.0</td>\n",
              "      <td>1.0</td>\n",
              "      <td>0.0</td>\n",
              "      <td>1.0</td>\n",
              "      <td>21462.0</td>\n",
              "      <td>1.000000e+15</td>\n",
              "      <td>1.0</td>\n",
              "      <td>1.000000e+15</td>\n",
              "      <td>0.0</td>\n",
              "    </tr>\n",
              "    <tr>\n",
              "      <th>3</th>\n",
              "      <td>10312.0</td>\n",
              "      <td>23.0</td>\n",
              "      <td>1.0</td>\n",
              "      <td>0.0</td>\n",
              "      <td>1.0</td>\n",
              "      <td>10809.0</td>\n",
              "      <td>1.000000e+15</td>\n",
              "      <td>1.0</td>\n",
              "      <td>1.000000e+15</td>\n",
              "      <td>0.0</td>\n",
              "    </tr>\n",
              "    <tr>\n",
              "      <th>4</th>\n",
              "      <td>10313.0</td>\n",
              "      <td>40.0</td>\n",
              "      <td>1.0</td>\n",
              "      <td>0.0</td>\n",
              "      <td>1.0</td>\n",
              "      <td>12521.0</td>\n",
              "      <td>1.000000e+15</td>\n",
              "      <td>1.0</td>\n",
              "      <td>1.000000e+15</td>\n",
              "      <td>0.0</td>\n",
              "    </tr>\n",
              "    <tr>\n",
              "      <th>5</th>\n",
              "      <td>10315.0</td>\n",
              "      <td>26.0</td>\n",
              "      <td>0.0</td>\n",
              "      <td>0.0</td>\n",
              "      <td>1.0</td>\n",
              "      <td>2063.0</td>\n",
              "      <td>1.000000e+15</td>\n",
              "      <td>1.0</td>\n",
              "      <td>1.000000e+15</td>\n",
              "      <td>0.0</td>\n",
              "    </tr>\n",
              "    <tr>\n",
              "      <th>...</th>\n",
              "      <td>...</td>\n",
              "      <td>...</td>\n",
              "      <td>...</td>\n",
              "      <td>...</td>\n",
              "      <td>...</td>\n",
              "      <td>...</td>\n",
              "      <td>...</td>\n",
              "      <td>...</td>\n",
              "      <td>...</td>\n",
              "      <td>...</td>\n",
              "    </tr>\n",
              "    <tr>\n",
              "      <th>12343</th>\n",
              "      <td>3001.0</td>\n",
              "      <td>65.0</td>\n",
              "      <td>0.0</td>\n",
              "      <td>0.0</td>\n",
              "      <td>1.0</td>\n",
              "      <td>3669.0</td>\n",
              "      <td>1.000000e+15</td>\n",
              "      <td>1.0</td>\n",
              "      <td>1.000000e+15</td>\n",
              "      <td>1.0</td>\n",
              "    </tr>\n",
              "    <tr>\n",
              "      <th>15056</th>\n",
              "      <td>2531.0</td>\n",
              "      <td>29.0</td>\n",
              "      <td>0.0</td>\n",
              "      <td>0.0</td>\n",
              "      <td>1.0</td>\n",
              "      <td>19534.0</td>\n",
              "      <td>1.000000e+15</td>\n",
              "      <td>1.0</td>\n",
              "      <td>1.000000e+15</td>\n",
              "      <td>1.0</td>\n",
              "    </tr>\n",
              "    <tr>\n",
              "      <th>13513</th>\n",
              "      <td>7286.0</td>\n",
              "      <td>84.0</td>\n",
              "      <td>1.0</td>\n",
              "      <td>0.0</td>\n",
              "      <td>1.0</td>\n",
              "      <td>8439.0</td>\n",
              "      <td>1.000000e+15</td>\n",
              "      <td>1.0</td>\n",
              "      <td>1.000000e+15</td>\n",
              "      <td>1.0</td>\n",
              "    </tr>\n",
              "    <tr>\n",
              "      <th>8974</th>\n",
              "      <td>744.0</td>\n",
              "      <td>9.0</td>\n",
              "      <td>1.0</td>\n",
              "      <td>0.0</td>\n",
              "      <td>1.0</td>\n",
              "      <td>10606.0</td>\n",
              "      <td>1.000000e+15</td>\n",
              "      <td>1.0</td>\n",
              "      <td>1.000000e+15</td>\n",
              "      <td>1.0</td>\n",
              "    </tr>\n",
              "    <tr>\n",
              "      <th>18480</th>\n",
              "      <td>4737.0</td>\n",
              "      <td>20.0</td>\n",
              "      <td>1.0</td>\n",
              "      <td>0.0</td>\n",
              "      <td>1.0</td>\n",
              "      <td>12356.0</td>\n",
              "      <td>1.000000e+15</td>\n",
              "      <td>1.0</td>\n",
              "      <td>1.000000e+15</td>\n",
              "      <td>1.0</td>\n",
              "    </tr>\n",
              "  </tbody>\n",
              "</table>\n",
              "<p>34554 rows × 10 columns</p>\n",
              "</div>"
            ],
            "text/plain": [
              "          MRNO   AGE  GENDER  ...  RESULT_VALUE      CPT_ID.1  RESULT_TEXT\n",
              "1      10373.0  41.0     1.0  ...           1.0  1.000000e+15          0.0\n",
              "2      10373.0  41.0     1.0  ...           1.0  1.000000e+15          0.0\n",
              "3      10312.0  23.0     1.0  ...           1.0  1.000000e+15          0.0\n",
              "4      10313.0  40.0     1.0  ...           1.0  1.000000e+15          0.0\n",
              "5      10315.0  26.0     0.0  ...           1.0  1.000000e+15          0.0\n",
              "...        ...   ...     ...  ...           ...           ...          ...\n",
              "12343   3001.0  65.0     0.0  ...           1.0  1.000000e+15          1.0\n",
              "15056   2531.0  29.0     0.0  ...           1.0  1.000000e+15          1.0\n",
              "13513   7286.0  84.0     1.0  ...           1.0  1.000000e+15          1.0\n",
              "8974     744.0   9.0     1.0  ...           1.0  1.000000e+15          1.0\n",
              "18480   4737.0  20.0     1.0  ...           1.0  1.000000e+15          1.0\n",
              "\n",
              "[34554 rows x 10 columns]"
            ]
          },
          "metadata": {},
          "execution_count": 17
        }
      ]
    },
    {
      "cell_type": "markdown",
      "metadata": {
        "id": "YAFiOSxhxeYd"
      },
      "source": [
        "# **10- Data spliting**"
      ]
    },
    {
      "cell_type": "code",
      "metadata": {
        "id": "Vf0zg0EIxjvt"
      },
      "source": [
        "X=MiceImputed.drop('RESULT_TEXT',axis=1)"
      ],
      "execution_count": null,
      "outputs": []
    },
    {
      "cell_type": "code",
      "metadata": {
        "id": "vlZjN0iUxwvk"
      },
      "source": [
        "y=MiceImputed[['RESULT_TEXT']]\n"
      ],
      "execution_count": null,
      "outputs": []
    },
    {
      "cell_type": "code",
      "metadata": {
        "id": "h-eJxgVEx57E"
      },
      "source": [
        "from sklearn.model_selection import train_test_split\n",
        "X_train, X_test, y_train, y_test = train_test_split(X, y, test_size=0.30, random_state=100)"
      ],
      "execution_count": null,
      "outputs": []
    },
    {
      "cell_type": "code",
      "metadata": {
        "colab": {
          "base_uri": "https://localhost:8080/",
          "height": 419
        },
        "id": "C0aknl0roV8B",
        "outputId": "d4d41be9-a51b-4b7d-b83a-ef1683a9c5ed"
      },
      "source": [
        "X_train"
      ],
      "execution_count": null,
      "outputs": [
        {
          "output_type": "execute_result",
          "data": {
            "text/html": [
              "<div>\n",
              "<style scoped>\n",
              "    .dataframe tbody tr th:only-of-type {\n",
              "        vertical-align: middle;\n",
              "    }\n",
              "\n",
              "    .dataframe tbody tr th {\n",
              "        vertical-align: top;\n",
              "    }\n",
              "\n",
              "    .dataframe thead th {\n",
              "        text-align: right;\n",
              "    }\n",
              "</style>\n",
              "<table border=\"1\" class=\"dataframe\">\n",
              "  <thead>\n",
              "    <tr style=\"text-align: right;\">\n",
              "      <th></th>\n",
              "      <th>MRNO</th>\n",
              "      <th>AGE</th>\n",
              "      <th>GENDER</th>\n",
              "      <th>DISTRICT</th>\n",
              "      <th>TEHSIL</th>\n",
              "      <th>REPORT_VERIFIED</th>\n",
              "      <th>CPT_ID</th>\n",
              "      <th>RESULT_VALUE</th>\n",
              "      <th>CPT_ID.1</th>\n",
              "    </tr>\n",
              "  </thead>\n",
              "  <tbody>\n",
              "    <tr>\n",
              "      <th>12545</th>\n",
              "      <td>3828.0</td>\n",
              "      <td>40.0</td>\n",
              "      <td>1.0</td>\n",
              "      <td>0.0</td>\n",
              "      <td>1.0</td>\n",
              "      <td>480.0</td>\n",
              "      <td>1.000000e+15</td>\n",
              "      <td>1.0</td>\n",
              "      <td>1.000000e+15</td>\n",
              "    </tr>\n",
              "    <tr>\n",
              "      <th>15205</th>\n",
              "      <td>3083.0</td>\n",
              "      <td>3.0</td>\n",
              "      <td>1.0</td>\n",
              "      <td>0.0</td>\n",
              "      <td>1.0</td>\n",
              "      <td>1566.0</td>\n",
              "      <td>1.000000e+15</td>\n",
              "      <td>1.0</td>\n",
              "      <td>1.000000e+15</td>\n",
              "    </tr>\n",
              "    <tr>\n",
              "      <th>13513</th>\n",
              "      <td>7286.0</td>\n",
              "      <td>84.0</td>\n",
              "      <td>1.0</td>\n",
              "      <td>0.0</td>\n",
              "      <td>1.0</td>\n",
              "      <td>8439.0</td>\n",
              "      <td>1.000000e+15</td>\n",
              "      <td>1.0</td>\n",
              "      <td>1.000000e+15</td>\n",
              "    </tr>\n",
              "    <tr>\n",
              "      <th>6203</th>\n",
              "      <td>1344.0</td>\n",
              "      <td>41.0</td>\n",
              "      <td>0.0</td>\n",
              "      <td>0.0</td>\n",
              "      <td>1.0</td>\n",
              "      <td>15572.0</td>\n",
              "      <td>1.000000e+15</td>\n",
              "      <td>1.0</td>\n",
              "      <td>1.000000e+15</td>\n",
              "    </tr>\n",
              "    <tr>\n",
              "      <th>3609</th>\n",
              "      <td>2730.0</td>\n",
              "      <td>20.0</td>\n",
              "      <td>1.0</td>\n",
              "      <td>0.0</td>\n",
              "      <td>1.0</td>\n",
              "      <td>21042.0</td>\n",
              "      <td>1.000000e+15</td>\n",
              "      <td>1.0</td>\n",
              "      <td>1.000000e+15</td>\n",
              "    </tr>\n",
              "    <tr>\n",
              "      <th>...</th>\n",
              "      <td>...</td>\n",
              "      <td>...</td>\n",
              "      <td>...</td>\n",
              "      <td>...</td>\n",
              "      <td>...</td>\n",
              "      <td>...</td>\n",
              "      <td>...</td>\n",
              "      <td>...</td>\n",
              "      <td>...</td>\n",
              "    </tr>\n",
              "    <tr>\n",
              "      <th>19544</th>\n",
              "      <td>8598.0</td>\n",
              "      <td>39.0</td>\n",
              "      <td>0.0</td>\n",
              "      <td>0.0</td>\n",
              "      <td>1.0</td>\n",
              "      <td>16720.0</td>\n",
              "      <td>1.000000e+15</td>\n",
              "      <td>1.0</td>\n",
              "      <td>1.000000e+15</td>\n",
              "    </tr>\n",
              "    <tr>\n",
              "      <th>19033</th>\n",
              "      <td>6678.0</td>\n",
              "      <td>21.0</td>\n",
              "      <td>0.0</td>\n",
              "      <td>0.0</td>\n",
              "      <td>1.0</td>\n",
              "      <td>5675.0</td>\n",
              "      <td>1.000000e+15</td>\n",
              "      <td>1.0</td>\n",
              "      <td>1.000000e+15</td>\n",
              "    </tr>\n",
              "    <tr>\n",
              "      <th>96</th>\n",
              "      <td>245.0</td>\n",
              "      <td>19.0</td>\n",
              "      <td>1.0</td>\n",
              "      <td>0.0</td>\n",
              "      <td>1.0</td>\n",
              "      <td>7501.0</td>\n",
              "      <td>1.000000e+15</td>\n",
              "      <td>1.0</td>\n",
              "      <td>1.000000e+15</td>\n",
              "    </tr>\n",
              "    <tr>\n",
              "      <th>14140</th>\n",
              "      <td>9424.0</td>\n",
              "      <td>33.0</td>\n",
              "      <td>1.0</td>\n",
              "      <td>0.0</td>\n",
              "      <td>1.0</td>\n",
              "      <td>6097.0</td>\n",
              "      <td>1.000000e+15</td>\n",
              "      <td>1.0</td>\n",
              "      <td>1.000000e+15</td>\n",
              "    </tr>\n",
              "    <tr>\n",
              "      <th>16510</th>\n",
              "      <td>7766.0</td>\n",
              "      <td>3.0</td>\n",
              "      <td>1.0</td>\n",
              "      <td>0.0</td>\n",
              "      <td>1.0</td>\n",
              "      <td>11776.0</td>\n",
              "      <td>1.000000e+15</td>\n",
              "      <td>1.0</td>\n",
              "      <td>1.000000e+15</td>\n",
              "    </tr>\n",
              "  </tbody>\n",
              "</table>\n",
              "<p>24187 rows × 9 columns</p>\n",
              "</div>"
            ],
            "text/plain": [
              "         MRNO   AGE  GENDER  ...        CPT_ID  RESULT_VALUE      CPT_ID.1\n",
              "12545  3828.0  40.0     1.0  ...  1.000000e+15           1.0  1.000000e+15\n",
              "15205  3083.0   3.0     1.0  ...  1.000000e+15           1.0  1.000000e+15\n",
              "13513  7286.0  84.0     1.0  ...  1.000000e+15           1.0  1.000000e+15\n",
              "6203   1344.0  41.0     0.0  ...  1.000000e+15           1.0  1.000000e+15\n",
              "3609   2730.0  20.0     1.0  ...  1.000000e+15           1.0  1.000000e+15\n",
              "...       ...   ...     ...  ...           ...           ...           ...\n",
              "19544  8598.0  39.0     0.0  ...  1.000000e+15           1.0  1.000000e+15\n",
              "19033  6678.0  21.0     0.0  ...  1.000000e+15           1.0  1.000000e+15\n",
              "96      245.0  19.0     1.0  ...  1.000000e+15           1.0  1.000000e+15\n",
              "14140  9424.0  33.0     1.0  ...  1.000000e+15           1.0  1.000000e+15\n",
              "16510  7766.0   3.0     1.0  ...  1.000000e+15           1.0  1.000000e+15\n",
              "\n",
              "[24187 rows x 9 columns]"
            ]
          },
          "metadata": {},
          "execution_count": 21
        }
      ]
    },
    {
      "cell_type": "markdown",
      "metadata": {
        "id": "mrILa6tqxQs2"
      },
      "source": [
        "# **11- Auto Model Training and Evaluation**"
      ]
    },
    {
      "cell_type": "markdown",
      "metadata": {
        "id": "cvDMiUrcxdQz"
      },
      "source": [
        "## **11.1-PyCaret**"
      ]
    },
    {
      "cell_type": "markdown",
      "metadata": {
        "id": "MQizT2BkkvfW"
      },
      "source": [
        "PyCaret is an open-source, low-code machine learning library and end-to-end model management tool built-in Python for automating machine learning workflows. It is incredibly popular for its ease of use, simplicity, and ability to build and deploy end-to-end ML prototypes quickly and efficiently.PyCaret is an alternate low-code library that can be used to replace hundreds of lines of code with few lines only. This makes the experiment cycle exponentially fast and efficient [1]"
      ]
    },
    {
      "cell_type": "markdown",
      "metadata": {
        "id": "NbPQUl3Tk-y3"
      },
      "source": [
        "PyCaret is simple and easy to use. All the operations performed in PyCaret are sequentially stored in a Pipeline that is fully automated for deployment. Whether it’s imputing missing values, one-hot-encoding, transforming categorical data, feature engineering, or even hyperparameter tuning, PyCaret automates all of it."
      ]
    },
    {
      "cell_type": "markdown",
      "metadata": {
        "id": "q_JOM0_SsocA"
      },
      "source": [
        "PyCaret is an open-source, low-code machine learning library and end-to-end model management tool built-in Python for automating machine learning workflows. It is known for its ease of use, simplicity, and ability to quickly and efficiently build and deploy end-to-end ML prototypes.\n",
        "PyCaret is an alternate low-code library that can replace hundreds of code lines with few lines only. This makes the experiment cycle exponentially fast and efficient[4]"
      ]
    },
    {
      "cell_type": "markdown",
      "metadata": {
        "id": "Chq5x0vRtHVH"
      },
      "source": [
        "![](https://drive.google.com/uc?export=view&id=1qj-WAAtNj7hDl6-o0Jg3gGS4jR1IaCGz)"
      ]
    },
    {
      "cell_type": "markdown",
      "metadata": {
        "id": "AQ-H819ny8GQ"
      },
      "source": [
        "### **Installing Pycaret**"
      ]
    },
    {
      "cell_type": "code",
      "metadata": {
        "id": "n4d68BKRx1Tu"
      },
      "source": [
        "#capture #suppresses the displays\n",
        "# install the full version\n",
        "!pip install pycaret[full]"
      ],
      "execution_count": null,
      "outputs": []
    },
    {
      "cell_type": "code",
      "metadata": {
        "id": "zwClIIrqnX-L"
      },
      "source": [
        "!pip install pyyaml==5.4.1\n"
      ],
      "execution_count": null,
      "outputs": []
    },
    {
      "cell_type": "markdown",
      "metadata": {
        "id": "2VKGDPlBlpaI"
      },
      "source": [
        "By installing the full version of pycaret, all the optional dependencies as listed here are also installed."
      ]
    },
    {
      "cell_type": "markdown",
      "metadata": {
        "id": "hh4GSJw-1Y5a"
      },
      "source": [
        "###**Import the necessary packages**"
      ]
    },
    {
      "cell_type": "code",
      "metadata": {
        "id": "dQ2lwtepnpJw"
      },
      "source": [
        "import pandas as pd\n",
        "import numpy as np\n",
        "import matplotlib.pyplot as plt\n",
        "import seaborn as sns\n",
        "# \n",
        "import pycaret\n",
        "from pycaret.regression import*\n",
        "from pycaret.classification import*\n"
      ],
      "execution_count": null,
      "outputs": []
    },
    {
      "cell_type": "markdown",
      "metadata": {
        "id": "LmV8y9BlfDpF"
      },
      "source": [
        "### **Data Preparation** [3]\n",
        "\n",
        "Common to all modules in PyCaret, the setup is the first and the only mandatory step in any machine learning experiment using PyCaret. This function takes care of all the data preparation required prior to training models. Besides performing some basic default processing tasks, PyCaret also offers a wide array of pre-processing features. To learn more about all the preprocessing functionalities in PyCaret, you can see this link."
      ]
    },
    {
      "cell_type": "code",
      "metadata": {
        "id": "kiHZL2E-fpkr",
        "colab": {
          "base_uri": "https://localhost:8080/",
          "height": 1000,
          "referenced_widgets": [
            "b1ec19a98b944ca0810c76d242414146",
            "4ece79033a874c70b9fb8f22cf0fd19b",
            "7178ab1a83ad42208b99fc2b1bef7fd2",
            "e842116bf3cb4f1c9891aa1b318c26c0",
            "cf0e6c48f5cb4aa49620c2d923e8dbb0",
            "d77838e29bd145d59022487deb89d7e1"
          ]
        },
        "outputId": "4ac18af1-c4c5-42b9-dbca-d6a9379a88f4"
      },
      "source": [
        "from pycaret.regression import *\n",
        "s = setup(MiceImputed, target = 'RESULT_TEXT', transform_target = True, log_experiment = True, experiment_name = 'diamond')"
      ],
      "execution_count": null,
      "outputs": [
        {
          "output_type": "display_data",
          "data": {
            "text/html": [
              "<div>\n",
              "<style scoped>\n",
              "    .dataframe tbody tr th:only-of-type {\n",
              "        vertical-align: middle;\n",
              "    }\n",
              "\n",
              "    .dataframe tbody tr th {\n",
              "        vertical-align: top;\n",
              "    }\n",
              "\n",
              "    .dataframe thead th {\n",
              "        text-align: right;\n",
              "    }\n",
              "</style>\n",
              "<table border=\"1\" class=\"dataframe\">\n",
              "  <thead>\n",
              "    <tr style=\"text-align: right;\">\n",
              "      <th></th>\n",
              "      <th>Description</th>\n",
              "      <th>Value</th>\n",
              "    </tr>\n",
              "  </thead>\n",
              "  <tbody>\n",
              "    <tr>\n",
              "      <th>0</th>\n",
              "      <td>session_id</td>\n",
              "      <td>5025</td>\n",
              "    </tr>\n",
              "    <tr>\n",
              "      <th>1</th>\n",
              "      <td>Target</td>\n",
              "      <td>RESULT_TEXT</td>\n",
              "    </tr>\n",
              "    <tr>\n",
              "      <th>2</th>\n",
              "      <td>Original Data</td>\n",
              "      <td>(34554, 10)</td>\n",
              "    </tr>\n",
              "    <tr>\n",
              "      <th>3</th>\n",
              "      <td>Missing Values</td>\n",
              "      <td>False</td>\n",
              "    </tr>\n",
              "    <tr>\n",
              "      <th>4</th>\n",
              "      <td>Numeric Features</td>\n",
              "      <td>8</td>\n",
              "    </tr>\n",
              "    <tr>\n",
              "      <th>5</th>\n",
              "      <td>Categorical Features</td>\n",
              "      <td>1</td>\n",
              "    </tr>\n",
              "    <tr>\n",
              "      <th>6</th>\n",
              "      <td>Ordinal Features</td>\n",
              "      <td>False</td>\n",
              "    </tr>\n",
              "    <tr>\n",
              "      <th>7</th>\n",
              "      <td>High Cardinality Features</td>\n",
              "      <td>False</td>\n",
              "    </tr>\n",
              "    <tr>\n",
              "      <th>8</th>\n",
              "      <td>High Cardinality Method</td>\n",
              "      <td>None</td>\n",
              "    </tr>\n",
              "    <tr>\n",
              "      <th>9</th>\n",
              "      <td>Transformed Train Set</td>\n",
              "      <td>(24187, 9)</td>\n",
              "    </tr>\n",
              "    <tr>\n",
              "      <th>10</th>\n",
              "      <td>Transformed Test Set</td>\n",
              "      <td>(10367, 9)</td>\n",
              "    </tr>\n",
              "    <tr>\n",
              "      <th>11</th>\n",
              "      <td>Shuffle Train-Test</td>\n",
              "      <td>True</td>\n",
              "    </tr>\n",
              "    <tr>\n",
              "      <th>12</th>\n",
              "      <td>Stratify Train-Test</td>\n",
              "      <td>False</td>\n",
              "    </tr>\n",
              "    <tr>\n",
              "      <th>13</th>\n",
              "      <td>Fold Generator</td>\n",
              "      <td>KFold</td>\n",
              "    </tr>\n",
              "    <tr>\n",
              "      <th>14</th>\n",
              "      <td>Fold Number</td>\n",
              "      <td>10</td>\n",
              "    </tr>\n",
              "    <tr>\n",
              "      <th>15</th>\n",
              "      <td>CPU Jobs</td>\n",
              "      <td>-1</td>\n",
              "    </tr>\n",
              "    <tr>\n",
              "      <th>16</th>\n",
              "      <td>Use GPU</td>\n",
              "      <td>False</td>\n",
              "    </tr>\n",
              "    <tr>\n",
              "      <th>17</th>\n",
              "      <td>Log Experiment</td>\n",
              "      <td>True</td>\n",
              "    </tr>\n",
              "    <tr>\n",
              "      <th>18</th>\n",
              "      <td>Experiment Name</td>\n",
              "      <td>diamond</td>\n",
              "    </tr>\n",
              "    <tr>\n",
              "      <th>19</th>\n",
              "      <td>USI</td>\n",
              "      <td>30b6</td>\n",
              "    </tr>\n",
              "    <tr>\n",
              "      <th>20</th>\n",
              "      <td>Imputation Type</td>\n",
              "      <td>simple</td>\n",
              "    </tr>\n",
              "    <tr>\n",
              "      <th>21</th>\n",
              "      <td>Iterative Imputation Iteration</td>\n",
              "      <td>None</td>\n",
              "    </tr>\n",
              "    <tr>\n",
              "      <th>22</th>\n",
              "      <td>Numeric Imputer</td>\n",
              "      <td>mean</td>\n",
              "    </tr>\n",
              "    <tr>\n",
              "      <th>23</th>\n",
              "      <td>Iterative Imputation Numeric Model</td>\n",
              "      <td>None</td>\n",
              "    </tr>\n",
              "    <tr>\n",
              "      <th>24</th>\n",
              "      <td>Categorical Imputer</td>\n",
              "      <td>constant</td>\n",
              "    </tr>\n",
              "    <tr>\n",
              "      <th>25</th>\n",
              "      <td>Iterative Imputation Categorical Model</td>\n",
              "      <td>None</td>\n",
              "    </tr>\n",
              "    <tr>\n",
              "      <th>26</th>\n",
              "      <td>Unknown Categoricals Handling</td>\n",
              "      <td>least_frequent</td>\n",
              "    </tr>\n",
              "    <tr>\n",
              "      <th>27</th>\n",
              "      <td>Normalize</td>\n",
              "      <td>False</td>\n",
              "    </tr>\n",
              "    <tr>\n",
              "      <th>28</th>\n",
              "      <td>Normalize Method</td>\n",
              "      <td>None</td>\n",
              "    </tr>\n",
              "    <tr>\n",
              "      <th>29</th>\n",
              "      <td>Transformation</td>\n",
              "      <td>False</td>\n",
              "    </tr>\n",
              "    <tr>\n",
              "      <th>30</th>\n",
              "      <td>Transformation Method</td>\n",
              "      <td>None</td>\n",
              "    </tr>\n",
              "    <tr>\n",
              "      <th>31</th>\n",
              "      <td>PCA</td>\n",
              "      <td>False</td>\n",
              "    </tr>\n",
              "    <tr>\n",
              "      <th>32</th>\n",
              "      <td>PCA Method</td>\n",
              "      <td>None</td>\n",
              "    </tr>\n",
              "    <tr>\n",
              "      <th>33</th>\n",
              "      <td>PCA Components</td>\n",
              "      <td>None</td>\n",
              "    </tr>\n",
              "    <tr>\n",
              "      <th>34</th>\n",
              "      <td>Ignore Low Variance</td>\n",
              "      <td>False</td>\n",
              "    </tr>\n",
              "    <tr>\n",
              "      <th>35</th>\n",
              "      <td>Combine Rare Levels</td>\n",
              "      <td>False</td>\n",
              "    </tr>\n",
              "    <tr>\n",
              "      <th>36</th>\n",
              "      <td>Rare Level Threshold</td>\n",
              "      <td>None</td>\n",
              "    </tr>\n",
              "    <tr>\n",
              "      <th>37</th>\n",
              "      <td>Numeric Binning</td>\n",
              "      <td>False</td>\n",
              "    </tr>\n",
              "    <tr>\n",
              "      <th>38</th>\n",
              "      <td>Remove Outliers</td>\n",
              "      <td>False</td>\n",
              "    </tr>\n",
              "    <tr>\n",
              "      <th>39</th>\n",
              "      <td>Outliers Threshold</td>\n",
              "      <td>None</td>\n",
              "    </tr>\n",
              "    <tr>\n",
              "      <th>40</th>\n",
              "      <td>Remove Multicollinearity</td>\n",
              "      <td>False</td>\n",
              "    </tr>\n",
              "    <tr>\n",
              "      <th>41</th>\n",
              "      <td>Multicollinearity Threshold</td>\n",
              "      <td>None</td>\n",
              "    </tr>\n",
              "    <tr>\n",
              "      <th>42</th>\n",
              "      <td>Remove Perfect Collinearity</td>\n",
              "      <td>True</td>\n",
              "    </tr>\n",
              "    <tr>\n",
              "      <th>43</th>\n",
              "      <td>Clustering</td>\n",
              "      <td>False</td>\n",
              "    </tr>\n",
              "    <tr>\n",
              "      <th>44</th>\n",
              "      <td>Clustering Iteration</td>\n",
              "      <td>None</td>\n",
              "    </tr>\n",
              "    <tr>\n",
              "      <th>45</th>\n",
              "      <td>Polynomial Features</td>\n",
              "      <td>False</td>\n",
              "    </tr>\n",
              "    <tr>\n",
              "      <th>46</th>\n",
              "      <td>Polynomial Degree</td>\n",
              "      <td>None</td>\n",
              "    </tr>\n",
              "    <tr>\n",
              "      <th>47</th>\n",
              "      <td>Trignometry Features</td>\n",
              "      <td>False</td>\n",
              "    </tr>\n",
              "    <tr>\n",
              "      <th>48</th>\n",
              "      <td>Polynomial Threshold</td>\n",
              "      <td>None</td>\n",
              "    </tr>\n",
              "    <tr>\n",
              "      <th>49</th>\n",
              "      <td>Group Features</td>\n",
              "      <td>False</td>\n",
              "    </tr>\n",
              "    <tr>\n",
              "      <th>50</th>\n",
              "      <td>Feature Selection</td>\n",
              "      <td>False</td>\n",
              "    </tr>\n",
              "    <tr>\n",
              "      <th>51</th>\n",
              "      <td>Feature Selection Method</td>\n",
              "      <td>classic</td>\n",
              "    </tr>\n",
              "    <tr>\n",
              "      <th>52</th>\n",
              "      <td>Features Selection Threshold</td>\n",
              "      <td>None</td>\n",
              "    </tr>\n",
              "    <tr>\n",
              "      <th>53</th>\n",
              "      <td>Feature Interaction</td>\n",
              "      <td>False</td>\n",
              "    </tr>\n",
              "    <tr>\n",
              "      <th>54</th>\n",
              "      <td>Feature Ratio</td>\n",
              "      <td>False</td>\n",
              "    </tr>\n",
              "    <tr>\n",
              "      <th>55</th>\n",
              "      <td>Interaction Threshold</td>\n",
              "      <td>None</td>\n",
              "    </tr>\n",
              "    <tr>\n",
              "      <th>56</th>\n",
              "      <td>Transform Target</td>\n",
              "      <td>True</td>\n",
              "    </tr>\n",
              "    <tr>\n",
              "      <th>57</th>\n",
              "      <td>Transform Target Method</td>\n",
              "      <td>box-cox</td>\n",
              "    </tr>\n",
              "  </tbody>\n",
              "</table>\n",
              "</div>"
            ],
            "text/plain": [
              "                               Description           Value\n",
              "0                               session_id            5025\n",
              "1                                   Target     RESULT_TEXT\n",
              "2                            Original Data     (34554, 10)\n",
              "3                           Missing Values           False\n",
              "4                         Numeric Features               8\n",
              "5                     Categorical Features               1\n",
              "6                         Ordinal Features           False\n",
              "7                High Cardinality Features           False\n",
              "8                  High Cardinality Method            None\n",
              "9                    Transformed Train Set      (24187, 9)\n",
              "10                    Transformed Test Set      (10367, 9)\n",
              "11                      Shuffle Train-Test            True\n",
              "12                     Stratify Train-Test           False\n",
              "13                          Fold Generator           KFold\n",
              "14                             Fold Number              10\n",
              "15                                CPU Jobs              -1\n",
              "16                                 Use GPU           False\n",
              "17                          Log Experiment            True\n",
              "18                         Experiment Name         diamond\n",
              "19                                     USI            30b6\n",
              "20                         Imputation Type          simple\n",
              "21          Iterative Imputation Iteration            None\n",
              "22                         Numeric Imputer            mean\n",
              "23      Iterative Imputation Numeric Model            None\n",
              "24                     Categorical Imputer        constant\n",
              "25  Iterative Imputation Categorical Model            None\n",
              "26           Unknown Categoricals Handling  least_frequent\n",
              "27                               Normalize           False\n",
              "28                        Normalize Method            None\n",
              "29                          Transformation           False\n",
              "30                   Transformation Method            None\n",
              "31                                     PCA           False\n",
              "32                              PCA Method            None\n",
              "33                          PCA Components            None\n",
              "34                     Ignore Low Variance           False\n",
              "35                     Combine Rare Levels           False\n",
              "36                    Rare Level Threshold            None\n",
              "37                         Numeric Binning           False\n",
              "38                         Remove Outliers           False\n",
              "39                      Outliers Threshold            None\n",
              "40                Remove Multicollinearity           False\n",
              "41             Multicollinearity Threshold            None\n",
              "42             Remove Perfect Collinearity            True\n",
              "43                              Clustering           False\n",
              "44                    Clustering Iteration            None\n",
              "45                     Polynomial Features           False\n",
              "46                       Polynomial Degree            None\n",
              "47                    Trignometry Features           False\n",
              "48                    Polynomial Threshold            None\n",
              "49                          Group Features           False\n",
              "50                       Feature Selection           False\n",
              "51                Feature Selection Method         classic\n",
              "52            Features Selection Threshold            None\n",
              "53                     Feature Interaction           False\n",
              "54                           Feature Ratio           False\n",
              "55                   Interaction Threshold            None\n",
              "56                        Transform Target            True\n",
              "57                 Transform Target Method         box-cox"
            ]
          },
          "metadata": {}
        }
      ]
    },
    {
      "cell_type": "markdown",
      "metadata": {
        "id": "mpPVpLlEwC6w"
      },
      "source": [
        "When you initialize the setup function in PyCaret, it profiles the dataset and infers the data types for all input features. If all data types are correctly inferred, you can press enter to continue.[4]"
      ]
    },
    {
      "cell_type": "markdown",
      "metadata": {
        "id": "ovUHsgDmwJBO"
      },
      "source": [
        "Notice that:[4]\n",
        "\n",
        "- I have passed log_experiment = True and experiment_name = 'diamond' , this will tell PyCaret to automatically log all the metrics, hyperparameters, and model artifacts behind the scene as you progress through the modeling phase. This is possible due to integration with MLflow.\n",
        "\n",
        "- Also, I have used transform_target = True inside the setup. PyCaret will transform the Price variable behind the scene using box-cox transformation. It affects the distribution of data in a similar way as log transformation (technically different). If you would like to learn more about box-cox transformations, you can refer to this link."
      ]
    },
    {
      "cell_type": "markdown",
      "metadata": {
        "id": "jUq5Mc5PwE_U"
      },
      "source": [
        "### **Classificaiton**"
      ]
    },
    {
      "cell_type": "markdown",
      "metadata": {
        "id": "cQHDCRW_oJvQ"
      },
      "source": [
        "**Model Training & Selection**\n",
        "\n",
        "Now that data is ready for modeling, let’s start the training process by using compare_models function. It will train all the algorithms available in the model library and evaluates multiple performance metrics using k-fold cross-validation.*italicized text*"
      ]
    },
    {
      "cell_type": "code",
      "metadata": {
        "id": "3DwPVJ49xz8E"
      },
      "source": [
        "from pycaret.classification import *"
      ],
      "execution_count": null,
      "outputs": []
    },
    {
      "cell_type": "code",
      "metadata": {
        "id": "dbdQser3x2Kk"
      },
      "source": [
        "clf = setup(MiceImputed, target = 'RESULT_TEXT', session_id=123, log_experiment = True, experiment_name = 'diamond') "
      ],
      "execution_count": null,
      "outputs": []
    },
    {
      "cell_type": "markdown",
      "metadata": {
        "id": "Whf99iqds1xm"
      },
      "source": [
        "setup function in PyCaret, profiles the dataset and infers the data types for all input features. It is the first and the only mandatory step to start any machine learning experiment in PyCaret."
      ]
    },
    {
      "cell_type": "markdown",
      "metadata": {
        "id": "TGHF71g4xlGQ"
      },
      "source": [
        "**Model Evulaiton**"
      ]
    },
    {
      "cell_type": "markdown",
      "metadata": {
        "id": "-vHop60ms9n7"
      },
      "source": [
        "This function trains all the available models in the model library using default hyperparameters and evaluates performance metrics using cross-validation. The number of folds can be defined using the foldparameter (default = 10 folds). The table is sorted (highest to lowest) by the metric of choice which can be defined using the sortparameter(in this case we have sorted it on RMSE)\n",
        "n_select parameter in the setup function controls the return of trained models. In this case, I am setting it to 15, meaning return the top 15 models as a list. pull function in the second line stores the output of compare_models as pd.DataFrame ."
      ]
    },
    {
      "cell_type": "code",
      "metadata": {
        "colab": {
          "base_uri": "https://localhost:8080/",
          "height": 531,
          "referenced_widgets": [
            "78b267cb5e994601b339b131988d3cae",
            "0c15b9a95bf04653861c94ec3a7446de",
            "360037e545ca48028a500ca9d4b306ee"
          ]
        },
        "id": "qZGSbzfZyG0s",
        "outputId": "4edce0cf-b6aa-4e86-fd61-6b911d862c8f"
      },
      "source": [
        "compare_models()"
      ],
      "execution_count": null,
      "outputs": [
        {
          "output_type": "display_data",
          "data": {
            "text/html": [
              "<div>\n",
              "<style scoped>\n",
              "    .dataframe tbody tr th:only-of-type {\n",
              "        vertical-align: middle;\n",
              "    }\n",
              "\n",
              "    .dataframe tbody tr th {\n",
              "        vertical-align: top;\n",
              "    }\n",
              "\n",
              "    .dataframe thead th {\n",
              "        text-align: right;\n",
              "    }\n",
              "</style>\n",
              "<table border=\"1\" class=\"dataframe\">\n",
              "  <thead>\n",
              "    <tr style=\"text-align: right;\">\n",
              "      <th></th>\n",
              "      <th>Model</th>\n",
              "      <th>Accuracy</th>\n",
              "      <th>AUC</th>\n",
              "      <th>Recall</th>\n",
              "      <th>Prec.</th>\n",
              "      <th>F1</th>\n",
              "      <th>Kappa</th>\n",
              "      <th>MCC</th>\n",
              "      <th>TT (Sec)</th>\n",
              "    </tr>\n",
              "  </thead>\n",
              "  <tbody>\n",
              "    <tr>\n",
              "      <th>rf</th>\n",
              "      <td>Random Forest Classifier</td>\n",
              "      <td>0.9996</td>\n",
              "      <td>0.9999</td>\n",
              "      <td>1.0000</td>\n",
              "      <td>0.9990</td>\n",
              "      <td>0.9995</td>\n",
              "      <td>0.9992</td>\n",
              "      <td>0.9992</td>\n",
              "      <td>1.480</td>\n",
              "    </tr>\n",
              "    <tr>\n",
              "      <th>et</th>\n",
              "      <td>Extra Trees Classifier</td>\n",
              "      <td>0.9994</td>\n",
              "      <td>1.0000</td>\n",
              "      <td>1.0000</td>\n",
              "      <td>0.9987</td>\n",
              "      <td>0.9993</td>\n",
              "      <td>0.9988</td>\n",
              "      <td>0.9988</td>\n",
              "      <td>1.022</td>\n",
              "    </tr>\n",
              "    <tr>\n",
              "      <th>xgboost</th>\n",
              "      <td>Extreme Gradient Boosting</td>\n",
              "      <td>0.9987</td>\n",
              "      <td>1.0000</td>\n",
              "      <td>1.0000</td>\n",
              "      <td>0.9970</td>\n",
              "      <td>0.9985</td>\n",
              "      <td>0.9974</td>\n",
              "      <td>0.9974</td>\n",
              "      <td>3.984</td>\n",
              "    </tr>\n",
              "    <tr>\n",
              "      <th>catboost</th>\n",
              "      <td>CatBoost Classifier</td>\n",
              "      <td>0.9986</td>\n",
              "      <td>0.9999</td>\n",
              "      <td>1.0000</td>\n",
              "      <td>0.9968</td>\n",
              "      <td>0.9984</td>\n",
              "      <td>0.9972</td>\n",
              "      <td>0.9972</td>\n",
              "      <td>9.749</td>\n",
              "    </tr>\n",
              "    <tr>\n",
              "      <th>dt</th>\n",
              "      <td>Decision Tree Classifier</td>\n",
              "      <td>0.9983</td>\n",
              "      <td>0.9986</td>\n",
              "      <td>1.0000</td>\n",
              "      <td>0.9962</td>\n",
              "      <td>0.9981</td>\n",
              "      <td>0.9966</td>\n",
              "      <td>0.9966</td>\n",
              "      <td>0.058</td>\n",
              "    </tr>\n",
              "    <tr>\n",
              "      <th>lightgbm</th>\n",
              "      <td>Light Gradient Boosting Machine</td>\n",
              "      <td>0.9959</td>\n",
              "      <td>0.9998</td>\n",
              "      <td>1.0000</td>\n",
              "      <td>0.9906</td>\n",
              "      <td>0.9953</td>\n",
              "      <td>0.9917</td>\n",
              "      <td>0.9917</td>\n",
              "      <td>0.273</td>\n",
              "    </tr>\n",
              "    <tr>\n",
              "      <th>knn</th>\n",
              "      <td>K Neighbors Classifier</td>\n",
              "      <td>0.9919</td>\n",
              "      <td>0.9980</td>\n",
              "      <td>1.0000</td>\n",
              "      <td>0.9815</td>\n",
              "      <td>0.9907</td>\n",
              "      <td>0.9835</td>\n",
              "      <td>0.9836</td>\n",
              "      <td>0.190</td>\n",
              "    </tr>\n",
              "    <tr>\n",
              "      <th>gbc</th>\n",
              "      <td>Gradient Boosting Classifier</td>\n",
              "      <td>0.9408</td>\n",
              "      <td>0.9850</td>\n",
              "      <td>0.9363</td>\n",
              "      <td>0.9267</td>\n",
              "      <td>0.9314</td>\n",
              "      <td>0.8794</td>\n",
              "      <td>0.8795</td>\n",
              "      <td>1.552</td>\n",
              "    </tr>\n",
              "    <tr>\n",
              "      <th>ada</th>\n",
              "      <td>Ada Boost Classifier</td>\n",
              "      <td>0.8112</td>\n",
              "      <td>0.9100</td>\n",
              "      <td>0.7219</td>\n",
              "      <td>0.8170</td>\n",
              "      <td>0.7664</td>\n",
              "      <td>0.6090</td>\n",
              "      <td>0.6124</td>\n",
              "      <td>0.597</td>\n",
              "    </tr>\n",
              "    <tr>\n",
              "      <th>lda</th>\n",
              "      <td>Linear Discriminant Analysis</td>\n",
              "      <td>0.6002</td>\n",
              "      <td>0.6324</td>\n",
              "      <td>0.2029</td>\n",
              "      <td>0.6021</td>\n",
              "      <td>0.3032</td>\n",
              "      <td>0.1111</td>\n",
              "      <td>0.1434</td>\n",
              "      <td>0.057</td>\n",
              "    </tr>\n",
              "    <tr>\n",
              "      <th>lr</th>\n",
              "      <td>Logistic Regression</td>\n",
              "      <td>0.5706</td>\n",
              "      <td>0.5000</td>\n",
              "      <td>0.0000</td>\n",
              "      <td>0.0000</td>\n",
              "      <td>0.0000</td>\n",
              "      <td>0.0000</td>\n",
              "      <td>0.0000</td>\n",
              "      <td>0.063</td>\n",
              "    </tr>\n",
              "    <tr>\n",
              "      <th>qda</th>\n",
              "      <td>Quadratic Discriminant Analysis</td>\n",
              "      <td>0.5706</td>\n",
              "      <td>0.0000</td>\n",
              "      <td>0.0000</td>\n",
              "      <td>0.0000</td>\n",
              "      <td>0.0000</td>\n",
              "      <td>0.0000</td>\n",
              "      <td>0.0000</td>\n",
              "      <td>0.036</td>\n",
              "    </tr>\n",
              "    <tr>\n",
              "      <th>ridge</th>\n",
              "      <td>Ridge Classifier</td>\n",
              "      <td>0.5705</td>\n",
              "      <td>0.0000</td>\n",
              "      <td>0.0005</td>\n",
              "      <td>0.2000</td>\n",
              "      <td>0.0010</td>\n",
              "      <td>-0.0001</td>\n",
              "      <td>-0.0012</td>\n",
              "      <td>0.033</td>\n",
              "    </tr>\n",
              "    <tr>\n",
              "      <th>svm</th>\n",
              "      <td>SVM - Linear Kernel</td>\n",
              "      <td>0.5283</td>\n",
              "      <td>0.0000</td>\n",
              "      <td>0.3000</td>\n",
              "      <td>0.1288</td>\n",
              "      <td>0.1802</td>\n",
              "      <td>0.0000</td>\n",
              "      <td>0.0000</td>\n",
              "      <td>0.524</td>\n",
              "    </tr>\n",
              "    <tr>\n",
              "      <th>nb</th>\n",
              "      <td>Naive Bayes</td>\n",
              "      <td>0.4294</td>\n",
              "      <td>0.5532</td>\n",
              "      <td>1.0000</td>\n",
              "      <td>0.4294</td>\n",
              "      <td>0.6008</td>\n",
              "      <td>0.0000</td>\n",
              "      <td>0.0000</td>\n",
              "      <td>0.030</td>\n",
              "    </tr>\n",
              "  </tbody>\n",
              "</table>\n",
              "</div>"
            ],
            "text/plain": [
              "                                    Model  Accuracy     AUC  Recall   Prec.  \\\n",
              "rf               Random Forest Classifier    0.9996  0.9999  1.0000  0.9990   \n",
              "et                 Extra Trees Classifier    0.9994  1.0000  1.0000  0.9987   \n",
              "xgboost         Extreme Gradient Boosting    0.9987  1.0000  1.0000  0.9970   \n",
              "catboost              CatBoost Classifier    0.9986  0.9999  1.0000  0.9968   \n",
              "dt               Decision Tree Classifier    0.9983  0.9986  1.0000  0.9962   \n",
              "lightgbm  Light Gradient Boosting Machine    0.9959  0.9998  1.0000  0.9906   \n",
              "knn                K Neighbors Classifier    0.9919  0.9980  1.0000  0.9815   \n",
              "gbc          Gradient Boosting Classifier    0.9408  0.9850  0.9363  0.9267   \n",
              "ada                  Ada Boost Classifier    0.8112  0.9100  0.7219  0.8170   \n",
              "lda          Linear Discriminant Analysis    0.6002  0.6324  0.2029  0.6021   \n",
              "lr                    Logistic Regression    0.5706  0.5000  0.0000  0.0000   \n",
              "qda       Quadratic Discriminant Analysis    0.5706  0.0000  0.0000  0.0000   \n",
              "ridge                    Ridge Classifier    0.5705  0.0000  0.0005  0.2000   \n",
              "svm                   SVM - Linear Kernel    0.5283  0.0000  0.3000  0.1288   \n",
              "nb                            Naive Bayes    0.4294  0.5532  1.0000  0.4294   \n",
              "\n",
              "              F1   Kappa     MCC  TT (Sec)  \n",
              "rf        0.9995  0.9992  0.9992     1.480  \n",
              "et        0.9993  0.9988  0.9988     1.022  \n",
              "xgboost   0.9985  0.9974  0.9974     3.984  \n",
              "catboost  0.9984  0.9972  0.9972     9.749  \n",
              "dt        0.9981  0.9966  0.9966     0.058  \n",
              "lightgbm  0.9953  0.9917  0.9917     0.273  \n",
              "knn       0.9907  0.9835  0.9836     0.190  \n",
              "gbc       0.9314  0.8794  0.8795     1.552  \n",
              "ada       0.7664  0.6090  0.6124     0.597  \n",
              "lda       0.3032  0.1111  0.1434     0.057  \n",
              "lr        0.0000  0.0000  0.0000     0.063  \n",
              "qda       0.0000  0.0000  0.0000     0.036  \n",
              "ridge     0.0010 -0.0001 -0.0012     0.033  \n",
              "svm       0.1802  0.0000  0.0000     0.524  \n",
              "nb        0.6008  0.0000  0.0000     0.030  "
            ]
          },
          "metadata": {}
        },
        {
          "output_type": "execute_result",
          "data": {
            "text/plain": [
              "[]"
            ]
          },
          "metadata": {},
          "execution_count": 41
        }
      ]
    },
    {
      "cell_type": "markdown",
      "metadata": {
        "id": "w-HV8wMnzmyo"
      },
      "source": [
        "**Select Best Model**\n"
      ]
    },
    {
      "cell_type": "code",
      "metadata": {
        "colab": {
          "base_uri": "https://localhost:8080/",
          "height": 514,
          "referenced_widgets": [
            "e78e86dabb984858817fc0dda67aedce",
            "eaa0af73c12f4df6a57390943d40235f",
            "7ee4eea66d8842dab828a65b9f0c601b"
          ]
        },
        "id": "gZfLqgVsuBXP",
        "outputId": "72ddd0e2-8eb8-4dcf-8cdb-aa39b4d37097"
      },
      "source": [
        "best= compare_models(n_select = 2, sort= 'Accuracy')"
      ],
      "execution_count": null,
      "outputs": [
        {
          "output_type": "display_data",
          "data": {
            "text/html": [
              "<div>\n",
              "<style scoped>\n",
              "    .dataframe tbody tr th:only-of-type {\n",
              "        vertical-align: middle;\n",
              "    }\n",
              "\n",
              "    .dataframe tbody tr th {\n",
              "        vertical-align: top;\n",
              "    }\n",
              "\n",
              "    .dataframe thead th {\n",
              "        text-align: right;\n",
              "    }\n",
              "</style>\n",
              "<table border=\"1\" class=\"dataframe\">\n",
              "  <thead>\n",
              "    <tr style=\"text-align: right;\">\n",
              "      <th></th>\n",
              "      <th>Model</th>\n",
              "      <th>Accuracy</th>\n",
              "      <th>AUC</th>\n",
              "      <th>Recall</th>\n",
              "      <th>Prec.</th>\n",
              "      <th>F1</th>\n",
              "      <th>Kappa</th>\n",
              "      <th>MCC</th>\n",
              "      <th>TT (Sec)</th>\n",
              "    </tr>\n",
              "  </thead>\n",
              "  <tbody>\n",
              "    <tr>\n",
              "      <th>rf</th>\n",
              "      <td>Random Forest Classifier</td>\n",
              "      <td>0.9996</td>\n",
              "      <td>0.9999</td>\n",
              "      <td>1.0000</td>\n",
              "      <td>0.9990</td>\n",
              "      <td>0.9995</td>\n",
              "      <td>0.9992</td>\n",
              "      <td>0.9992</td>\n",
              "      <td>1.496</td>\n",
              "    </tr>\n",
              "    <tr>\n",
              "      <th>et</th>\n",
              "      <td>Extra Trees Classifier</td>\n",
              "      <td>0.9994</td>\n",
              "      <td>1.0000</td>\n",
              "      <td>1.0000</td>\n",
              "      <td>0.9987</td>\n",
              "      <td>0.9993</td>\n",
              "      <td>0.9988</td>\n",
              "      <td>0.9988</td>\n",
              "      <td>1.031</td>\n",
              "    </tr>\n",
              "    <tr>\n",
              "      <th>xgboost</th>\n",
              "      <td>Extreme Gradient Boosting</td>\n",
              "      <td>0.9987</td>\n",
              "      <td>1.0000</td>\n",
              "      <td>1.0000</td>\n",
              "      <td>0.9970</td>\n",
              "      <td>0.9985</td>\n",
              "      <td>0.9974</td>\n",
              "      <td>0.9974</td>\n",
              "      <td>6.928</td>\n",
              "    </tr>\n",
              "    <tr>\n",
              "      <th>catboost</th>\n",
              "      <td>CatBoost Classifier</td>\n",
              "      <td>0.9986</td>\n",
              "      <td>0.9999</td>\n",
              "      <td>1.0000</td>\n",
              "      <td>0.9968</td>\n",
              "      <td>0.9984</td>\n",
              "      <td>0.9972</td>\n",
              "      <td>0.9972</td>\n",
              "      <td>9.796</td>\n",
              "    </tr>\n",
              "    <tr>\n",
              "      <th>dt</th>\n",
              "      <td>Decision Tree Classifier</td>\n",
              "      <td>0.9983</td>\n",
              "      <td>0.9986</td>\n",
              "      <td>1.0000</td>\n",
              "      <td>0.9962</td>\n",
              "      <td>0.9981</td>\n",
              "      <td>0.9966</td>\n",
              "      <td>0.9966</td>\n",
              "      <td>0.057</td>\n",
              "    </tr>\n",
              "    <tr>\n",
              "      <th>lightgbm</th>\n",
              "      <td>Light Gradient Boosting Machine</td>\n",
              "      <td>0.9959</td>\n",
              "      <td>0.9998</td>\n",
              "      <td>1.0000</td>\n",
              "      <td>0.9906</td>\n",
              "      <td>0.9953</td>\n",
              "      <td>0.9917</td>\n",
              "      <td>0.9917</td>\n",
              "      <td>0.278</td>\n",
              "    </tr>\n",
              "    <tr>\n",
              "      <th>knn</th>\n",
              "      <td>K Neighbors Classifier</td>\n",
              "      <td>0.9919</td>\n",
              "      <td>0.9980</td>\n",
              "      <td>1.0000</td>\n",
              "      <td>0.9815</td>\n",
              "      <td>0.9907</td>\n",
              "      <td>0.9835</td>\n",
              "      <td>0.9836</td>\n",
              "      <td>0.208</td>\n",
              "    </tr>\n",
              "    <tr>\n",
              "      <th>gbc</th>\n",
              "      <td>Gradient Boosting Classifier</td>\n",
              "      <td>0.9408</td>\n",
              "      <td>0.9850</td>\n",
              "      <td>0.9363</td>\n",
              "      <td>0.9267</td>\n",
              "      <td>0.9314</td>\n",
              "      <td>0.8794</td>\n",
              "      <td>0.8795</td>\n",
              "      <td>1.577</td>\n",
              "    </tr>\n",
              "    <tr>\n",
              "      <th>ada</th>\n",
              "      <td>Ada Boost Classifier</td>\n",
              "      <td>0.8112</td>\n",
              "      <td>0.9100</td>\n",
              "      <td>0.7219</td>\n",
              "      <td>0.8170</td>\n",
              "      <td>0.7664</td>\n",
              "      <td>0.6090</td>\n",
              "      <td>0.6124</td>\n",
              "      <td>0.605</td>\n",
              "    </tr>\n",
              "    <tr>\n",
              "      <th>lda</th>\n",
              "      <td>Linear Discriminant Analysis</td>\n",
              "      <td>0.6002</td>\n",
              "      <td>0.6324</td>\n",
              "      <td>0.2029</td>\n",
              "      <td>0.6021</td>\n",
              "      <td>0.3032</td>\n",
              "      <td>0.1111</td>\n",
              "      <td>0.1434</td>\n",
              "      <td>0.056</td>\n",
              "    </tr>\n",
              "    <tr>\n",
              "      <th>lr</th>\n",
              "      <td>Logistic Regression</td>\n",
              "      <td>0.5706</td>\n",
              "      <td>0.5000</td>\n",
              "      <td>0.0000</td>\n",
              "      <td>0.0000</td>\n",
              "      <td>0.0000</td>\n",
              "      <td>0.0000</td>\n",
              "      <td>0.0000</td>\n",
              "      <td>0.058</td>\n",
              "    </tr>\n",
              "    <tr>\n",
              "      <th>qda</th>\n",
              "      <td>Quadratic Discriminant Analysis</td>\n",
              "      <td>0.5706</td>\n",
              "      <td>0.0000</td>\n",
              "      <td>0.0000</td>\n",
              "      <td>0.0000</td>\n",
              "      <td>0.0000</td>\n",
              "      <td>0.0000</td>\n",
              "      <td>0.0000</td>\n",
              "      <td>0.036</td>\n",
              "    </tr>\n",
              "    <tr>\n",
              "      <th>ridge</th>\n",
              "      <td>Ridge Classifier</td>\n",
              "      <td>0.5705</td>\n",
              "      <td>0.0000</td>\n",
              "      <td>0.0005</td>\n",
              "      <td>0.2000</td>\n",
              "      <td>0.0010</td>\n",
              "      <td>-0.0001</td>\n",
              "      <td>-0.0012</td>\n",
              "      <td>0.031</td>\n",
              "    </tr>\n",
              "    <tr>\n",
              "      <th>svm</th>\n",
              "      <td>SVM - Linear Kernel</td>\n",
              "      <td>0.5283</td>\n",
              "      <td>0.0000</td>\n",
              "      <td>0.3000</td>\n",
              "      <td>0.1288</td>\n",
              "      <td>0.1802</td>\n",
              "      <td>0.0000</td>\n",
              "      <td>0.0000</td>\n",
              "      <td>0.527</td>\n",
              "    </tr>\n",
              "    <tr>\n",
              "      <th>nb</th>\n",
              "      <td>Naive Bayes</td>\n",
              "      <td>0.4294</td>\n",
              "      <td>0.5532</td>\n",
              "      <td>1.0000</td>\n",
              "      <td>0.4294</td>\n",
              "      <td>0.6008</td>\n",
              "      <td>0.0000</td>\n",
              "      <td>0.0000</td>\n",
              "      <td>0.032</td>\n",
              "    </tr>\n",
              "  </tbody>\n",
              "</table>\n",
              "</div>"
            ],
            "text/plain": [
              "                                    Model  Accuracy     AUC  Recall   Prec.  \\\n",
              "rf               Random Forest Classifier    0.9996  0.9999  1.0000  0.9990   \n",
              "et                 Extra Trees Classifier    0.9994  1.0000  1.0000  0.9987   \n",
              "xgboost         Extreme Gradient Boosting    0.9987  1.0000  1.0000  0.9970   \n",
              "catboost              CatBoost Classifier    0.9986  0.9999  1.0000  0.9968   \n",
              "dt               Decision Tree Classifier    0.9983  0.9986  1.0000  0.9962   \n",
              "lightgbm  Light Gradient Boosting Machine    0.9959  0.9998  1.0000  0.9906   \n",
              "knn                K Neighbors Classifier    0.9919  0.9980  1.0000  0.9815   \n",
              "gbc          Gradient Boosting Classifier    0.9408  0.9850  0.9363  0.9267   \n",
              "ada                  Ada Boost Classifier    0.8112  0.9100  0.7219  0.8170   \n",
              "lda          Linear Discriminant Analysis    0.6002  0.6324  0.2029  0.6021   \n",
              "lr                    Logistic Regression    0.5706  0.5000  0.0000  0.0000   \n",
              "qda       Quadratic Discriminant Analysis    0.5706  0.0000  0.0000  0.0000   \n",
              "ridge                    Ridge Classifier    0.5705  0.0000  0.0005  0.2000   \n",
              "svm                   SVM - Linear Kernel    0.5283  0.0000  0.3000  0.1288   \n",
              "nb                            Naive Bayes    0.4294  0.5532  1.0000  0.4294   \n",
              "\n",
              "              F1   Kappa     MCC  TT (Sec)  \n",
              "rf        0.9995  0.9992  0.9992     1.496  \n",
              "et        0.9993  0.9988  0.9988     1.031  \n",
              "xgboost   0.9985  0.9974  0.9974     6.928  \n",
              "catboost  0.9984  0.9972  0.9972     9.796  \n",
              "dt        0.9981  0.9966  0.9966     0.057  \n",
              "lightgbm  0.9953  0.9917  0.9917     0.278  \n",
              "knn       0.9907  0.9835  0.9836     0.208  \n",
              "gbc       0.9314  0.8794  0.8795     1.577  \n",
              "ada       0.7664  0.6090  0.6124     0.605  \n",
              "lda       0.3032  0.1111  0.1434     0.056  \n",
              "lr        0.0000  0.0000  0.0000     0.058  \n",
              "qda       0.0000  0.0000  0.0000     0.036  \n",
              "ridge     0.0010 -0.0001 -0.0012     0.031  \n",
              "svm       0.1802  0.0000  0.0000     0.527  \n",
              "nb        0.6008  0.0000  0.0000     0.032  "
            ]
          },
          "metadata": {}
        }
      ]
    },
    {
      "cell_type": "code",
      "metadata": {
        "id": "QWV1Yz6Vx-oH"
      },
      "source": [
        "compare_model_result = pull()\n",
        "\n"
      ],
      "execution_count": null,
      "outputs": []
    },
    {
      "cell_type": "markdown",
      "metadata": {
        "id": "2CyvW0n6yt2U"
      },
      "source": [
        "since the RandomForestregressor was evaluated to have a comparatively better Accuracy, let us build the model using RandomForestregressor"
      ]
    },
    {
      "cell_type": "markdown",
      "metadata": {
        "id": "C9I57Q__Ap4M"
      },
      "source": [
        "**Build the model using Best MODEL**"
      ]
    },
    {
      "cell_type": "code",
      "metadata": {
        "id": "tTTkN03zAsnv"
      },
      "source": [
        "rf = create_model('svm')"
      ],
      "execution_count": null,
      "outputs": []
    },
    {
      "cell_type": "markdown",
      "metadata": {
        "id": "sHgyaMTZBHnk"
      },
      "source": [
        "**Hyperparameter tuning**\n",
        "\n"
      ]
    },
    {
      "cell_type": "code",
      "metadata": {
        "colab": {
          "base_uri": "https://localhost:8080/",
          "height": 421,
          "referenced_widgets": [
            "a88159217fa24831aa038eb19715a0f9",
            "6621d00426584fae941bb051b0a593e9",
            "ac8e8d86ec784b2a86dff7b6d70f0a05"
          ]
        },
        "id": "QFLlVMKU0SJN",
        "outputId": "950ba214-b13c-4eba-9f0b-86fa12bbfcf7"
      },
      "source": [
        "tuned_rf= tune_model(rf, optimize='Accuracy', search_library='optuna')"
      ],
      "execution_count": null,
      "outputs": [
        {
          "output_type": "display_data",
          "data": {
            "text/html": [
              "<div>\n",
              "<style scoped>\n",
              "    .dataframe tbody tr th:only-of-type {\n",
              "        vertical-align: middle;\n",
              "    }\n",
              "\n",
              "    .dataframe tbody tr th {\n",
              "        vertical-align: top;\n",
              "    }\n",
              "\n",
              "    .dataframe thead th {\n",
              "        text-align: right;\n",
              "    }\n",
              "</style>\n",
              "<table border=\"1\" class=\"dataframe\">\n",
              "  <thead>\n",
              "    <tr style=\"text-align: right;\">\n",
              "      <th></th>\n",
              "      <th>Accuracy</th>\n",
              "      <th>AUC</th>\n",
              "      <th>Recall</th>\n",
              "      <th>Prec.</th>\n",
              "      <th>F1</th>\n",
              "      <th>Kappa</th>\n",
              "      <th>MCC</th>\n",
              "    </tr>\n",
              "  </thead>\n",
              "  <tbody>\n",
              "    <tr>\n",
              "      <th>0</th>\n",
              "      <td>0.9810</td>\n",
              "      <td>0.9999</td>\n",
              "      <td>1.0</td>\n",
              "      <td>0.9576</td>\n",
              "      <td>0.9783</td>\n",
              "      <td>0.9614</td>\n",
              "      <td>0.9621</td>\n",
              "    </tr>\n",
              "    <tr>\n",
              "      <th>1</th>\n",
              "      <td>0.9810</td>\n",
              "      <td>0.9998</td>\n",
              "      <td>1.0</td>\n",
              "      <td>0.9576</td>\n",
              "      <td>0.9783</td>\n",
              "      <td>0.9614</td>\n",
              "      <td>0.9621</td>\n",
              "    </tr>\n",
              "    <tr>\n",
              "      <th>2</th>\n",
              "      <td>0.9864</td>\n",
              "      <td>0.9997</td>\n",
              "      <td>1.0</td>\n",
              "      <td>0.9692</td>\n",
              "      <td>0.9844</td>\n",
              "      <td>0.9723</td>\n",
              "      <td>0.9726</td>\n",
              "    </tr>\n",
              "    <tr>\n",
              "      <th>3</th>\n",
              "      <td>0.9868</td>\n",
              "      <td>0.9998</td>\n",
              "      <td>1.0</td>\n",
              "      <td>0.9701</td>\n",
              "      <td>0.9848</td>\n",
              "      <td>0.9731</td>\n",
              "      <td>0.9735</td>\n",
              "    </tr>\n",
              "    <tr>\n",
              "      <th>4</th>\n",
              "      <td>0.9810</td>\n",
              "      <td>0.9995</td>\n",
              "      <td>1.0</td>\n",
              "      <td>0.9576</td>\n",
              "      <td>0.9783</td>\n",
              "      <td>0.9614</td>\n",
              "      <td>0.9621</td>\n",
              "    </tr>\n",
              "    <tr>\n",
              "      <th>5</th>\n",
              "      <td>0.9847</td>\n",
              "      <td>0.9999</td>\n",
              "      <td>1.0</td>\n",
              "      <td>0.9656</td>\n",
              "      <td>0.9825</td>\n",
              "      <td>0.9689</td>\n",
              "      <td>0.9694</td>\n",
              "    </tr>\n",
              "    <tr>\n",
              "      <th>6</th>\n",
              "      <td>0.9822</td>\n",
              "      <td>0.9995</td>\n",
              "      <td>1.0</td>\n",
              "      <td>0.9603</td>\n",
              "      <td>0.9797</td>\n",
              "      <td>0.9639</td>\n",
              "      <td>0.9645</td>\n",
              "    </tr>\n",
              "    <tr>\n",
              "      <th>7</th>\n",
              "      <td>0.9822</td>\n",
              "      <td>0.9997</td>\n",
              "      <td>1.0</td>\n",
              "      <td>0.9602</td>\n",
              "      <td>0.9797</td>\n",
              "      <td>0.9639</td>\n",
              "      <td>0.9645</td>\n",
              "    </tr>\n",
              "    <tr>\n",
              "      <th>8</th>\n",
              "      <td>0.9814</td>\n",
              "      <td>0.9995</td>\n",
              "      <td>1.0</td>\n",
              "      <td>0.9584</td>\n",
              "      <td>0.9788</td>\n",
              "      <td>0.9622</td>\n",
              "      <td>0.9629</td>\n",
              "    </tr>\n",
              "    <tr>\n",
              "      <th>9</th>\n",
              "      <td>0.9839</td>\n",
              "      <td>0.9997</td>\n",
              "      <td>1.0</td>\n",
              "      <td>0.9638</td>\n",
              "      <td>0.9816</td>\n",
              "      <td>0.9672</td>\n",
              "      <td>0.9678</td>\n",
              "    </tr>\n",
              "    <tr>\n",
              "      <th>Mean</th>\n",
              "      <td>0.9830</td>\n",
              "      <td>0.9997</td>\n",
              "      <td>1.0</td>\n",
              "      <td>0.9620</td>\n",
              "      <td>0.9806</td>\n",
              "      <td>0.9656</td>\n",
              "      <td>0.9662</td>\n",
              "    </tr>\n",
              "    <tr>\n",
              "      <th>SD</th>\n",
              "      <td>0.0021</td>\n",
              "      <td>0.0002</td>\n",
              "      <td>0.0</td>\n",
              "      <td>0.0046</td>\n",
              "      <td>0.0024</td>\n",
              "      <td>0.0043</td>\n",
              "      <td>0.0042</td>\n",
              "    </tr>\n",
              "  </tbody>\n",
              "</table>\n",
              "</div>"
            ],
            "text/plain": [
              "      Accuracy     AUC  Recall   Prec.      F1   Kappa     MCC\n",
              "0       0.9810  0.9999     1.0  0.9576  0.9783  0.9614  0.9621\n",
              "1       0.9810  0.9998     1.0  0.9576  0.9783  0.9614  0.9621\n",
              "2       0.9864  0.9997     1.0  0.9692  0.9844  0.9723  0.9726\n",
              "3       0.9868  0.9998     1.0  0.9701  0.9848  0.9731  0.9735\n",
              "4       0.9810  0.9995     1.0  0.9576  0.9783  0.9614  0.9621\n",
              "5       0.9847  0.9999     1.0  0.9656  0.9825  0.9689  0.9694\n",
              "6       0.9822  0.9995     1.0  0.9603  0.9797  0.9639  0.9645\n",
              "7       0.9822  0.9997     1.0  0.9602  0.9797  0.9639  0.9645\n",
              "8       0.9814  0.9995     1.0  0.9584  0.9788  0.9622  0.9629\n",
              "9       0.9839  0.9997     1.0  0.9638  0.9816  0.9672  0.9678\n",
              "Mean    0.9830  0.9997     1.0  0.9620  0.9806  0.9656  0.9662\n",
              "SD      0.0021  0.0002     0.0  0.0046  0.0024  0.0043  0.0042"
            ]
          },
          "metadata": {}
        }
      ]
    },
    {
      "cell_type": "markdown",
      "metadata": {
        "id": "xABPvf6z2ORZ"
      },
      "source": [
        "Optimum Hyperparameters selected by using Optuna\n"
      ]
    },
    {
      "cell_type": "code",
      "metadata": {
        "id": "DqgEw6tO2ZWt"
      },
      "source": [
        "tuned_rf"
      ],
      "execution_count": null,
      "outputs": []
    },
    {
      "cell_type": "markdown",
      "metadata": {
        "id": "V7sDavdH8wvl"
      },
      "source": [
        "**Plot a Model**"
      ]
    },
    {
      "cell_type": "markdown",
      "metadata": {
        "id": "N7fklXTr2g_5"
      },
      "source": [
        "**Analyze the Model Performance**\n"
      ]
    },
    {
      "cell_type": "code",
      "metadata": {
        "id": "sydjGLFn2l9q"
      },
      "source": [
        "plot_model(rf)"
      ],
      "execution_count": null,
      "outputs": []
    },
    {
      "cell_type": "markdown",
      "metadata": {
        "id": "nqovv2Qo2uAD"
      },
      "source": [
        "**Interpret the results**\n"
      ]
    },
    {
      "cell_type": "markdown",
      "metadata": {
        "id": "Lqx_HXzP2zfW"
      },
      "source": [
        "In PyCaret, we can interpret the model by SHAP values and correlation plot with just one line of code"
      ]
    },
    {
      "cell_type": "code",
      "metadata": {
        "id": "jGJ1m7LB21Kl"
      },
      "source": [
        "interpret_model(tuned_rf)"
      ],
      "execution_count": null,
      "outputs": []
    },
    {
      "cell_type": "markdown",
      "metadata": {
        "id": "YZpcL8Jp3o3U"
      },
      "source": [
        "**Evaluate the Model**\n"
      ]
    },
    {
      "cell_type": "markdown",
      "metadata": {
        "id": "o28HKqnB3rfg"
      },
      "source": [
        "If we do not want to plot all these visualizations individually, then the PyCaret library has another amazing function — evaluate_model. In this function, you just need to pass the model object and PyCaret will create an interactive window for you to see and analyze the model in all the possible ways:"
      ]
    },
    {
      "cell_type": "code",
      "metadata": {
        "id": "tlNUDTDZ5MTN"
      },
      "source": [
        "evaluate_model(tuned_rf)"
      ],
      "execution_count": null,
      "outputs": []
    },
    {
      "cell_type": "markdown",
      "metadata": {
        "id": "P2kSh6hg86uA"
      },
      "source": [
        "**AUC Plot**"
      ]
    },
    {
      "cell_type": "code",
      "metadata": {
        "id": "59PQJ7gD887c"
      },
      "source": [
        "plot_model(rf, plot = 'auc')"
      ],
      "execution_count": null,
      "outputs": []
    },
    {
      "cell_type": "markdown",
      "metadata": {
        "id": "gh9vzu7rBFt9"
      },
      "source": [
        "**Precision-Recall Curve**"
      ]
    },
    {
      "cell_type": "code",
      "metadata": {
        "id": "LCQGhPFRBIIN"
      },
      "source": [
        "plot_model(rf, plot = 'pr')"
      ],
      "execution_count": null,
      "outputs": []
    },
    {
      "cell_type": "markdown",
      "metadata": {
        "id": "3aLzJj2sB034"
      },
      "source": [
        "**check the residuals of trained model**\n"
      ]
    },
    {
      "cell_type": "code",
      "metadata": {
        "id": "SAsQcP9NB5ST"
      },
      "source": [
        "plot_model(best, plot = 'residuals_interactive')"
      ],
      "execution_count": null,
      "outputs": []
    },
    {
      "cell_type": "markdown",
      "metadata": {
        "id": "WIFL9s6BCShq"
      },
      "source": [
        "**Confusion Matrix**"
      ]
    },
    {
      "cell_type": "code",
      "metadata": {
        "id": "Jrox--iDCUsq"
      },
      "source": [
        "plot_model(rf, plot = 'confusion_matrix')"
      ],
      "execution_count": null,
      "outputs": []
    },
    {
      "cell_type": "markdown",
      "metadata": {
        "id": "drYUnzssBZqO"
      },
      "source": [
        "**Feature Importance Plot**"
      ]
    },
    {
      "cell_type": "code",
      "metadata": {
        "id": "OWzFWhU4BeF5"
      },
      "source": [
        "plot_model(rf, plot='feature')"
      ],
      "execution_count": null,
      "outputs": []
    },
    {
      "cell_type": "markdown",
      "metadata": {
        "id": "rqKyteAU6p7s"
      },
      "source": [
        "**Cross-validation**"
      ]
    },
    {
      "cell_type": "markdown",
      "metadata": {
        "id": "8X4dVnJJ7Fnv"
      },
      "source": [
        "Evaluate the model on the holdout set used for validation\n"
      ]
    },
    {
      "cell_type": "code",
      "metadata": {
        "id": "vGeJgsxK7Hd_",
        "colab": {
          "base_uri": "https://localhost:8080/",
          "height": 80
        },
        "outputId": "4dcd32e8-005b-4d53-94a3-3d000e02c3ce"
      },
      "source": [
        "val_rf_pred = predict_model(tuned_rf)"
      ],
      "execution_count": null,
      "outputs": [
        {
          "output_type": "display_data",
          "data": {
            "text/html": [
              "<div>\n",
              "<style scoped>\n",
              "    .dataframe tbody tr th:only-of-type {\n",
              "        vertical-align: middle;\n",
              "    }\n",
              "\n",
              "    .dataframe tbody tr th {\n",
              "        vertical-align: top;\n",
              "    }\n",
              "\n",
              "    .dataframe thead th {\n",
              "        text-align: right;\n",
              "    }\n",
              "</style>\n",
              "<table border=\"1\" class=\"dataframe\">\n",
              "  <thead>\n",
              "    <tr style=\"text-align: right;\">\n",
              "      <th></th>\n",
              "      <th>Model</th>\n",
              "      <th>Accuracy</th>\n",
              "      <th>AUC</th>\n",
              "      <th>Recall</th>\n",
              "      <th>Prec.</th>\n",
              "      <th>F1</th>\n",
              "      <th>Kappa</th>\n",
              "      <th>MCC</th>\n",
              "    </tr>\n",
              "  </thead>\n",
              "  <tbody>\n",
              "    <tr>\n",
              "      <th>0</th>\n",
              "      <td>Random Forest Classifier</td>\n",
              "      <td>0.9789</td>\n",
              "      <td>0.9978</td>\n",
              "      <td>1.0</td>\n",
              "      <td>0.9599</td>\n",
              "      <td>0.9795</td>\n",
              "      <td>0.9578</td>\n",
              "      <td>0.9586</td>\n",
              "    </tr>\n",
              "  </tbody>\n",
              "</table>\n",
              "</div>"
            ],
            "text/plain": [
              "                      Model  Accuracy     AUC  ...      F1   Kappa     MCC\n",
              "0  Random Forest Classifier    0.9789  0.9978  ...  0.9795  0.9578  0.9586\n",
              "\n",
              "[1 rows x 8 columns]"
            ]
          },
          "metadata": {}
        }
      ]
    },
    {
      "cell_type": "markdown",
      "metadata": {
        "id": "z2jHuRce4ZyJ"
      },
      "source": [
        "The predictions (Label) made is as follows:-\n"
      ]
    },
    {
      "cell_type": "code",
      "metadata": {
        "id": "jPpVAqui4dXa"
      },
      "source": [
        "val_rf_pred"
      ],
      "execution_count": null,
      "outputs": []
    },
    {
      "cell_type": "code",
      "metadata": {
        "colab": {
          "base_uri": "https://localhost:8080/",
          "height": 419
        },
        "id": "DHqgTlqP4u5_",
        "outputId": "e5be9103-3138-4e16-bce8-277840750eff"
      },
      "source": [
        "y_test"
      ],
      "execution_count": null,
      "outputs": [
        {
          "output_type": "execute_result",
          "data": {
            "text/html": [
              "<div>\n",
              "<style scoped>\n",
              "    .dataframe tbody tr th:only-of-type {\n",
              "        vertical-align: middle;\n",
              "    }\n",
              "\n",
              "    .dataframe tbody tr th {\n",
              "        vertical-align: top;\n",
              "    }\n",
              "\n",
              "    .dataframe thead th {\n",
              "        text-align: right;\n",
              "    }\n",
              "</style>\n",
              "<table border=\"1\" class=\"dataframe\">\n",
              "  <thead>\n",
              "    <tr style=\"text-align: right;\">\n",
              "      <th></th>\n",
              "      <th>RESULT_TEXT</th>\n",
              "    </tr>\n",
              "  </thead>\n",
              "  <tbody>\n",
              "    <tr>\n",
              "      <th>9662</th>\n",
              "      <td>1.0</td>\n",
              "    </tr>\n",
              "    <tr>\n",
              "      <th>14694</th>\n",
              "      <td>1.0</td>\n",
              "    </tr>\n",
              "    <tr>\n",
              "      <th>2120</th>\n",
              "      <td>0.0</td>\n",
              "    </tr>\n",
              "    <tr>\n",
              "      <th>11684</th>\n",
              "      <td>1.0</td>\n",
              "    </tr>\n",
              "    <tr>\n",
              "      <th>724</th>\n",
              "      <td>1.0</td>\n",
              "    </tr>\n",
              "    <tr>\n",
              "      <th>...</th>\n",
              "      <td>...</td>\n",
              "    </tr>\n",
              "    <tr>\n",
              "      <th>20342</th>\n",
              "      <td>1.0</td>\n",
              "    </tr>\n",
              "    <tr>\n",
              "      <th>21213</th>\n",
              "      <td>1.0</td>\n",
              "    </tr>\n",
              "    <tr>\n",
              "      <th>5755</th>\n",
              "      <td>1.0</td>\n",
              "    </tr>\n",
              "    <tr>\n",
              "      <th>9849</th>\n",
              "      <td>1.0</td>\n",
              "    </tr>\n",
              "    <tr>\n",
              "      <th>22445</th>\n",
              "      <td>0.0</td>\n",
              "    </tr>\n",
              "  </tbody>\n",
              "</table>\n",
              "<p>13654 rows × 1 columns</p>\n",
              "</div>"
            ],
            "text/plain": [
              "       RESULT_TEXT\n",
              "9662           1.0\n",
              "14694          1.0\n",
              "2120           0.0\n",
              "11684          1.0\n",
              "724            1.0\n",
              "...            ...\n",
              "20342          1.0\n",
              "21213          1.0\n",
              "5755           1.0\n",
              "9849           1.0\n",
              "22445          0.0\n",
              "\n",
              "[13654 rows x 1 columns]"
            ]
          },
          "metadata": {},
          "execution_count": 28
        }
      ]
    },
    {
      "cell_type": "markdown",
      "metadata": {
        "id": "wQA1_phJ4j2T"
      },
      "source": [
        "**Make predictions on test data**\n"
      ]
    },
    {
      "cell_type": "code",
      "metadata": {
        "id": "9NLEEGb04mXt"
      },
      "source": [
        "# predictions on new datasetRESULT_TEXT\n",
        "pred_new_rf = predict_model(tuned_rf, data = X_test) #new_data is pd dataframe\n",
        "#pred_new_rf = pred_new_rf.rename(columns={‘RESULT_TEXT’:’prediction’})\n",
        "pred_new_rf = pred_new_rf.rename(columns={'RESULT_TEXT':'Prediction'})\n",
        "pred_new_rf"
      ],
      "execution_count": null,
      "outputs": []
    },
    {
      "cell_type": "markdown",
      "metadata": {
        "id": "f6gWngOp5nVV"
      },
      "source": [
        "RandomForestRegressor submission Scores(RMSE) : 4234.403588306586.\n"
      ]
    },
    {
      "cell_type": "markdown",
      "metadata": {
        "id": "pdn3dsRUEpgV"
      },
      "source": [
        "**Finalize and Save Pipeline**\n",
        "\n",
        "Let’s now finalize the best model i.e. train the best model on the entire dataset including the test set and then save the pipeline as a pickle file.\n",
        "\n",
        "Caution: One final word of caution. Once the model is finalized using finalize_model(), the entire dataset including the test/hold-out set is used for training. As such, if the model is used for predictions on the hold-out set after finalize_model() is used, the information grid printed will be misleading as you are trying to predict on the same data that was used for modeling. In order to demonstrate this point only, we will use final_rf under predict_model() to compare the information grid with the one above in section 11\n"
      ]
    },
    {
      "cell_type": "code",
      "metadata": {
        "id": "OlF9n42bEsLY"
      },
      "source": [
        "# finalize the model\n",
        "final_best = finalize_model(rf)"
      ],
      "execution_count": null,
      "outputs": []
    },
    {
      "cell_type": "code",
      "metadata": {
        "id": "GTg62lV4FLBO"
      },
      "source": [
        "final_rf = finalize_model(tuned_rf)"
      ],
      "execution_count": null,
      "outputs": []
    },
    {
      "cell_type": "code",
      "metadata": {
        "id": "t6NFnz7vFUXP"
      },
      "source": [
        "# save model to disk\n",
        "save_model(final_best, 'diamond-pipeline')"
      ],
      "execution_count": null,
      "outputs": []
    },
    {
      "cell_type": "markdown",
      "metadata": {
        "id": "RAvAJItdFe13"
      },
      "source": [
        "save_model function will save the entire pipeline (including the model) as a pickle file on your local disk. By default, it will save the file in the same folder as your Notebook or script is in but you can pass the complete path as well if you would like:"
      ]
    },
    {
      "cell_type": "code",
      "metadata": {
        "id": "vzC0_ZK7FoxU"
      },
      "source": [
        "save_model(final_best, 'E:/Major Revision/finarf'"
      ],
      "execution_count": null,
      "outputs": []
    },
    {
      "cell_type": "markdown",
      "metadata": {
        "id": "UQgWLzcm4s3i"
      },
      "source": [
        "### **Regression**"
      ]
    },
    {
      "cell_type": "markdown",
      "metadata": {
        "id": "yOAzkBRN50XG"
      },
      "source": [
        "**Model Training & Selection**"
      ]
    },
    {
      "cell_type": "code",
      "metadata": {
        "id": "2mvTuTmv5n16"
      },
      "source": [
        "from pycaret.regression import *\n",
        "s = setup(MiceImputed, target = 'RESULT_TEXT', transform_target = True, log_experiment = True, experiment_name = 'diamond')"
      ],
      "execution_count": null,
      "outputs": []
    },
    {
      "cell_type": "code",
      "metadata": {
        "id": "kZhVEC_V5-6D",
        "colab": {
          "base_uri": "https://localhost:8080/",
          "height": 49,
          "referenced_widgets": [
            "1631e84f377c4864be4dcfd1437fe896",
            "87567e20f55a4e7c838d017660329e3b",
            "9761e61a6478419fa00d6d8d98abb9e7"
          ]
        },
        "outputId": "6d6fc3ea-2d45-45c0-d8d2-4ddca79981b3"
      },
      "source": [
        "compare_models()\n"
      ],
      "execution_count": null,
      "outputs": [
        {
          "output_type": "display_data",
          "data": {
            "text/html": [
              "<div>\n",
              "<style scoped>\n",
              "    .dataframe tbody tr th:only-of-type {\n",
              "        vertical-align: middle;\n",
              "    }\n",
              "\n",
              "    .dataframe tbody tr th {\n",
              "        vertical-align: top;\n",
              "    }\n",
              "\n",
              "    .dataframe thead th {\n",
              "        text-align: right;\n",
              "    }\n",
              "</style>\n",
              "<table border=\"1\" class=\"dataframe\">\n",
              "  <thead>\n",
              "    <tr style=\"text-align: right;\">\n",
              "      <th></th>\n",
              "    </tr>\n",
              "  </thead>\n",
              "  <tbody>\n",
              "  </tbody>\n",
              "</table>\n",
              "</div>"
            ],
            "text/plain": [
              "Empty DataFrame\n",
              "Columns: []\n",
              "Index: []"
            ]
          },
          "metadata": {}
        },
        {
          "output_type": "execute_result",
          "data": {
            "text/plain": [
              "[]"
            ]
          },
          "metadata": {},
          "execution_count": 45
        }
      ]
    },
    {
      "cell_type": "markdown",
      "metadata": {
        "id": "wVcEsi-46IHU"
      },
      "source": [
        "**Select Best Model**\n",
        "\n"
      ]
    },
    {
      "cell_type": "code",
      "metadata": {
        "id": "eaC_BlJo6Kq-",
        "colab": {
          "base_uri": "https://localhost:8080/",
          "height": 32,
          "referenced_widgets": [
            "419587fabe6542ef912ed221cc1baad3",
            "5713f50dd7c34839bb5371438c81d61a",
            "b5182a97fe3744a7a0a0bd54e8578131"
          ]
        },
        "outputId": "5115bf8c-9eff-4bbb-ded6-ad45f514b0cf"
      },
      "source": [
        "best= compare_models(n_select = 2, sort= 'RMSE')\n"
      ],
      "execution_count": null,
      "outputs": [
        {
          "output_type": "display_data",
          "data": {
            "text/html": [
              "<div>\n",
              "<style scoped>\n",
              "    .dataframe tbody tr th:only-of-type {\n",
              "        vertical-align: middle;\n",
              "    }\n",
              "\n",
              "    .dataframe tbody tr th {\n",
              "        vertical-align: top;\n",
              "    }\n",
              "\n",
              "    .dataframe thead th {\n",
              "        text-align: right;\n",
              "    }\n",
              "</style>\n",
              "<table border=\"1\" class=\"dataframe\">\n",
              "  <thead>\n",
              "    <tr style=\"text-align: right;\">\n",
              "      <th></th>\n",
              "    </tr>\n",
              "  </thead>\n",
              "  <tbody>\n",
              "  </tbody>\n",
              "</table>\n",
              "</div>"
            ],
            "text/plain": [
              "Empty DataFrame\n",
              "Columns: []\n",
              "Index: []"
            ]
          },
          "metadata": {}
        }
      ]
    },
    {
      "cell_type": "markdown",
      "metadata": {
        "id": "FG82tHJ464jf"
      },
      "source": [
        "### **Building Ensemble Models using PyCaret**"
      ]
    },
    {
      "cell_type": "markdown",
      "metadata": {
        "id": "ZOmJHj0E5wNf"
      },
      "source": [
        "Ensemble models in machine learning combine the decisions from multiple models to improve the overall performance. In PyCaret, we can create bagging, boosting, blending, and stacking ensemble models with just one line of code. Here we will try with blending.\n",
        "Blending models is a method of ensembling which uses consensus among estimators to generate final predictions. The idea behind blending is to combine different machine learning algorithms and use a majority vote or the average predicted probabilities in case of classification to predict the final outcome."
      ]
    },
    {
      "cell_type": "code",
      "metadata": {
        "id": "NXVYs8LA9tnG",
        "colab": {
          "base_uri": "https://localhost:8080/",
          "height": 421,
          "referenced_widgets": [
            "65784eb380d342d09cd50fba4ce2205d",
            "441337fb62a74892926fa7a8d6f4d9d5",
            "e33a841b6c6e4c7fba4e96fcb08d2870",
            "c8603813f79b42bda43a9053c5463be6",
            "8672654c321b42f99e45588e0558e375",
            "23f91a0637fb4032859f9bef8a337be7"
          ]
        },
        "outputId": "6f6f1981-5eba-4d17-fe9c-ef4ea8748f68"
      },
      "source": [
        "# train a voting regressor dynamically\n",
        "blender_specific = blend_models(estimator_list = compare_models(n_select = 5))"
      ],
      "execution_count": null,
      "outputs": [
        {
          "output_type": "display_data",
          "data": {
            "text/html": [
              "<div>\n",
              "<style scoped>\n",
              "    .dataframe tbody tr th:only-of-type {\n",
              "        vertical-align: middle;\n",
              "    }\n",
              "\n",
              "    .dataframe tbody tr th {\n",
              "        vertical-align: top;\n",
              "    }\n",
              "\n",
              "    .dataframe thead th {\n",
              "        text-align: right;\n",
              "    }\n",
              "</style>\n",
              "<table border=\"1\" class=\"dataframe\">\n",
              "  <thead>\n",
              "    <tr style=\"text-align: right;\">\n",
              "      <th></th>\n",
              "      <th>Accuracy</th>\n",
              "      <th>AUC</th>\n",
              "      <th>Recall</th>\n",
              "      <th>Prec.</th>\n",
              "      <th>F1</th>\n",
              "      <th>Kappa</th>\n",
              "      <th>MCC</th>\n",
              "    </tr>\n",
              "  </thead>\n",
              "  <tbody>\n",
              "    <tr>\n",
              "      <th>0</th>\n",
              "      <td>0.9984</td>\n",
              "      <td>1.0</td>\n",
              "      <td>1.0</td>\n",
              "      <td>0.9969</td>\n",
              "      <td>0.9984</td>\n",
              "      <td>0.9969</td>\n",
              "      <td>0.9969</td>\n",
              "    </tr>\n",
              "    <tr>\n",
              "      <th>1</th>\n",
              "      <td>0.9987</td>\n",
              "      <td>1.0</td>\n",
              "      <td>1.0</td>\n",
              "      <td>0.9975</td>\n",
              "      <td>0.9987</td>\n",
              "      <td>0.9975</td>\n",
              "      <td>0.9975</td>\n",
              "    </tr>\n",
              "    <tr>\n",
              "      <th>2</th>\n",
              "      <td>0.9994</td>\n",
              "      <td>1.0</td>\n",
              "      <td>1.0</td>\n",
              "      <td>0.9987</td>\n",
              "      <td>0.9994</td>\n",
              "      <td>0.9987</td>\n",
              "      <td>0.9987</td>\n",
              "    </tr>\n",
              "    <tr>\n",
              "      <th>3</th>\n",
              "      <td>0.9991</td>\n",
              "      <td>1.0</td>\n",
              "      <td>1.0</td>\n",
              "      <td>0.9981</td>\n",
              "      <td>0.9991</td>\n",
              "      <td>0.9981</td>\n",
              "      <td>0.9981</td>\n",
              "    </tr>\n",
              "    <tr>\n",
              "      <th>4</th>\n",
              "      <td>0.9994</td>\n",
              "      <td>1.0</td>\n",
              "      <td>1.0</td>\n",
              "      <td>0.9987</td>\n",
              "      <td>0.9994</td>\n",
              "      <td>0.9987</td>\n",
              "      <td>0.9987</td>\n",
              "    </tr>\n",
              "    <tr>\n",
              "      <th>5</th>\n",
              "      <td>0.9997</td>\n",
              "      <td>1.0</td>\n",
              "      <td>1.0</td>\n",
              "      <td>0.9994</td>\n",
              "      <td>0.9997</td>\n",
              "      <td>0.9994</td>\n",
              "      <td>0.9994</td>\n",
              "    </tr>\n",
              "    <tr>\n",
              "      <th>6</th>\n",
              "      <td>0.9994</td>\n",
              "      <td>1.0</td>\n",
              "      <td>1.0</td>\n",
              "      <td>0.9987</td>\n",
              "      <td>0.9994</td>\n",
              "      <td>0.9987</td>\n",
              "      <td>0.9987</td>\n",
              "    </tr>\n",
              "    <tr>\n",
              "      <th>7</th>\n",
              "      <td>0.9991</td>\n",
              "      <td>1.0</td>\n",
              "      <td>1.0</td>\n",
              "      <td>0.9981</td>\n",
              "      <td>0.9991</td>\n",
              "      <td>0.9981</td>\n",
              "      <td>0.9981</td>\n",
              "    </tr>\n",
              "    <tr>\n",
              "      <th>8</th>\n",
              "      <td>0.9991</td>\n",
              "      <td>1.0</td>\n",
              "      <td>1.0</td>\n",
              "      <td>0.9981</td>\n",
              "      <td>0.9991</td>\n",
              "      <td>0.9981</td>\n",
              "      <td>0.9981</td>\n",
              "    </tr>\n",
              "    <tr>\n",
              "      <th>9</th>\n",
              "      <td>0.9997</td>\n",
              "      <td>1.0</td>\n",
              "      <td>1.0</td>\n",
              "      <td>0.9994</td>\n",
              "      <td>0.9997</td>\n",
              "      <td>0.9994</td>\n",
              "      <td>0.9994</td>\n",
              "    </tr>\n",
              "    <tr>\n",
              "      <th>Mean</th>\n",
              "      <td>0.9992</td>\n",
              "      <td>1.0</td>\n",
              "      <td>1.0</td>\n",
              "      <td>0.9984</td>\n",
              "      <td>0.9992</td>\n",
              "      <td>0.9984</td>\n",
              "      <td>0.9984</td>\n",
              "    </tr>\n",
              "    <tr>\n",
              "      <th>SD</th>\n",
              "      <td>0.0004</td>\n",
              "      <td>0.0</td>\n",
              "      <td>0.0</td>\n",
              "      <td>0.0008</td>\n",
              "      <td>0.0004</td>\n",
              "      <td>0.0008</td>\n",
              "      <td>0.0008</td>\n",
              "    </tr>\n",
              "  </tbody>\n",
              "</table>\n",
              "</div>"
            ],
            "text/plain": [
              "      Accuracy  AUC  Recall   Prec.      F1   Kappa     MCC\n",
              "0       0.9984  1.0     1.0  0.9969  0.9984  0.9969  0.9969\n",
              "1       0.9987  1.0     1.0  0.9975  0.9987  0.9975  0.9975\n",
              "2       0.9994  1.0     1.0  0.9987  0.9994  0.9987  0.9987\n",
              "3       0.9991  1.0     1.0  0.9981  0.9991  0.9981  0.9981\n",
              "4       0.9994  1.0     1.0  0.9987  0.9994  0.9987  0.9987\n",
              "5       0.9997  1.0     1.0  0.9994  0.9997  0.9994  0.9994\n",
              "6       0.9994  1.0     1.0  0.9987  0.9994  0.9987  0.9987\n",
              "7       0.9991  1.0     1.0  0.9981  0.9991  0.9981  0.9981\n",
              "8       0.9991  1.0     1.0  0.9981  0.9991  0.9981  0.9981\n",
              "9       0.9997  1.0     1.0  0.9994  0.9997  0.9994  0.9994\n",
              "Mean    0.9992  1.0     1.0  0.9984  0.9992  0.9984  0.9984\n",
              "SD      0.0004  0.0     0.0  0.0008  0.0004  0.0008  0.0008"
            ]
          },
          "metadata": {}
        }
      ]
    },
    {
      "cell_type": "markdown",
      "metadata": {
        "id": "Q67_AV2v6G_k"
      },
      "source": [
        "The calibrated blending model is as follows:-\n"
      ]
    },
    {
      "cell_type": "code",
      "metadata": {
        "colab": {
          "base_uri": "https://localhost:8080/"
        },
        "id": "Cj8GY31cd_ie",
        "outputId": "911f4dcb-4d44-41d5-c5d4-6e20ac5bd461"
      },
      "source": [
        "blender_specific"
      ],
      "execution_count": null,
      "outputs": [
        {
          "output_type": "execute_result",
          "data": {
            "text/plain": [
              "VotingClassifier(estimators=[('rf',\n",
              "                              RandomForestClassifier(bootstrap=True,\n",
              "                                                     ccp_alpha=0.0,\n",
              "                                                     class_weight=None,\n",
              "                                                     criterion='gini',\n",
              "                                                     max_depth=None,\n",
              "                                                     max_features='auto',\n",
              "                                                     max_leaf_nodes=None,\n",
              "                                                     max_samples=None,\n",
              "                                                     min_impurity_decrease=0.0,\n",
              "                                                     min_impurity_split=None,\n",
              "                                                     min_samples_leaf=1,\n",
              "                                                     min_samples_split=2,\n",
              "                                                     min_weight_fraction_leaf=0.0,\n",
              "                                                     n_estimators=100,\n",
              "                                                     n_jobs=-1, oob_score=F...\n",
              "                                             importance_type='split',\n",
              "                                             learning_rate=0.1, max_depth=-1,\n",
              "                                             min_child_samples=20,\n",
              "                                             min_child_weight=0.001,\n",
              "                                             min_split_gain=0.0,\n",
              "                                             n_estimators=100, n_jobs=-1,\n",
              "                                             num_leaves=31, objective=None,\n",
              "                                             random_state=786, reg_alpha=0.0,\n",
              "                                             reg_lambda=0.0, silent='warn',\n",
              "                                             subsample=1.0,\n",
              "                                             subsample_for_bin=200000,\n",
              "                                             subsample_freq=0))],\n",
              "                 flatten_transform=True, n_jobs=1, verbose=False, voting='soft',\n",
              "                 weights=None)"
            ]
          },
          "metadata": {},
          "execution_count": 25
        }
      ]
    },
    {
      "cell_type": "markdown",
      "metadata": {
        "id": "qtPrJpWDeJJD"
      },
      "source": [
        "**Analyzing model performance in PyCaret**"
      ]
    },
    {
      "cell_type": "code",
      "metadata": {
        "id": "0HNLexbneNx2"
      },
      "source": [
        "plot_model(blender_specific)"
      ],
      "execution_count": null,
      "outputs": []
    },
    {
      "cell_type": "markdown",
      "metadata": {
        "id": "jI2a_yYOgk2s"
      },
      "source": [
        "**Evaluate the model performance**\n"
      ]
    },
    {
      "cell_type": "code",
      "metadata": {
        "id": "4kcPnISignRz"
      },
      "source": [
        "evaluate_model(blender_specific)"
      ],
      "execution_count": null,
      "outputs": []
    },
    {
      "cell_type": "markdown",
      "metadata": {
        "id": "93Vb0BLfg1Wc"
      },
      "source": [
        "**Make predictions on the validation set**\n"
      ]
    },
    {
      "cell_type": "code",
      "metadata": {
        "id": "TnlApCWHg30U"
      },
      "source": [
        "val_pred = predict_model(blender_specific)"
      ],
      "execution_count": null,
      "outputs": []
    },
    {
      "cell_type": "markdown",
      "metadata": {
        "id": "I644BH0ghBGE"
      },
      "source": [
        "**Make Predictions on unseen data**\n"
      ]
    },
    {
      "cell_type": "code",
      "metadata": {
        "id": "sl5vGADphDja"
      },
      "source": [
        "# predictions on new dataset\n",
        "pred_new = predict_model(blender_specific, data = X_train) #new_data is pd dataframe\n",
        "pred_new = pred_new.rename(columns={‘RESULT_VALUE’:'prediction'})\n",
        "pred_new"
      ],
      "execution_count": null,
      "outputs": []
    },
    {
      "cell_type": "markdown",
      "metadata": {
        "id": "bx_ALQazhrLc"
      },
      "source": [
        "**Save and Load the Model**\n"
      ]
    },
    {
      "cell_type": "code",
      "metadata": {
        "id": "4R7TJ9PPhuPD"
      },
      "source": [
        "save_model(blender_specific , ‘/content/drive/MyDrive/blender_specific_saved_06142021’)\n",
        "# Loading the saved model\n",
        "blend_saved = load_model(‘/content/drive/MyDrive/blender_specific_saved_06142021’)\n",
        "pred = blend_saved.predict(test)\n",
        "pred[:5]"
      ],
      "execution_count": null,
      "outputs": []
    },
    {
      "cell_type": "markdown",
      "metadata": {
        "id": "LMe-AMlnitQ8"
      },
      "source": [
        "## **12-AutoML-Gs**"
      ]
    },
    {
      "cell_type": "markdown",
      "metadata": {
        "id": "Wlijuc-di5QR"
      },
      "source": [
        "**Installing required libraries**\n"
      ]
    },
    {
      "cell_type": "code",
      "metadata": {
        "id": "VwpdRorQi8WK"
      },
      "source": [
        "!pip install automl-gs\n"
      ],
      "execution_count": null,
      "outputs": []
    },
    {
      "cell_type": "markdown",
      "metadata": {
        "id": "lJJzKmNFjGTX"
      },
      "source": [
        "**Importing required libraries**\n"
      ]
    },
    {
      "cell_type": "code",
      "metadata": {
        "id": "3ZCsXFHljIkj"
      },
      "source": [
        "import automl_gs\n",
        "from automl_gs import automl_grid_search\n"
      ],
      "execution_count": null,
      "outputs": []
    },
    {
      "cell_type": "markdown",
      "metadata": {
        "id": "MvMRJnLQjSTg"
      },
      "source": [
        "**Creating the Model**\n"
      ]
    },
    {
      "cell_type": "code",
      "metadata": {
        "id": "FfzVTAMRjeOn"
      },
      "source": [
        "automl_grid_search(MiceImputed, 'RESULT_TEXT')\n"
      ],
      "execution_count": null,
      "outputs": []
    },
    {
      "cell_type": "markdown",
      "metadata": {
        "id": "Oz8BPvW3P8Hx"
      },
      "source": [
        "## **MLflow**[8]\n",
        "\n",
        "MLflow provides a convenient way to build end-to-end Machine Learning pipelines in production and in this guide\n",
        "\n",
        "MLflow is an open-source platform for managing the end-to-end machine learning lifecycle or pipeline. It supports multiple Machine Learning libraries, algorithms, deployment tools, and programming languages."
      ]
    },
    {
      "cell_type": "markdown",
      "metadata": {
        "id": "n8cWDBKtQ-ep"
      },
      "source": [
        "The platform was created by Databricks has over 10,000 stars on GitHub with over 300+ contributors updating the platform on a daily basis."
      ]
    },
    {
      "cell_type": "markdown",
      "metadata": {
        "id": "0QC66c-SRDqi"
      },
      "source": [
        "The MLflow platform provides four major components:\n"
      ]
    },
    {
      "cell_type": "markdown",
      "metadata": {
        "id": "q15NbkkNRFYi"
      },
      "source": [
        "- **MLflow Tracking** — This component is perfect for users looking to select the right hyper-parameters for their model as well as for recording model performance over time. You can record and query model experiments which include your code, data, config, and results.\n",
        "- **MLflow Projects** — This component is mostly used when trying to reproduce your Machine Learning project on a different machine (similar to Docker images and containers). You can package your data science code in a given format to reproduce model runs on any platform.\n",
        "- **MLflow Models** — This component is for you if you are looking to deploy Machine Learning models in the real world. With this component, you can deploy machine learning models in diverse serving environments.\n",
        "- **MLflow Model Registry**— This component is great for you if you are looking to manage multiple Machine Learning models. Using this component, you can store, annotate, discover, and manage Machine Learning models in a central repository."
      ]
    },
    {
      "cell_type": "markdown",
      "metadata": {
        "id": "zXa4xmVSSGsv"
      },
      "source": [
        "![](https://drive.google.com/uc?export=view&id=1BoZqaCplUEEJ8fDpk3k167WGi_GmJI_f)"
      ]
    },
    {
      "cell_type": "markdown",
      "metadata": {
        "id": "nJYWowyzSSXf"
      },
      "source": [
        "- Individual Data Scientists can use MLflow to track experiments locally, organize code in projects for future reuse, and deploy models using MLflow’s deployment tools.\n",
        "- Large Organizations can share projects, models, and results with any teams using MLflow.\n",
        "- Data Science Teams can log metrics and compare results across multiple users working on the same problem\n",
        "- Production Engineers can deploy models from diverse ML libraries, store the models as files in a management system, and track which run a model came from."
      ]
    },
    {
      "cell_type": "markdown",
      "metadata": {
        "id": "pEVSTGhmSg8r"
      },
      "source": [
        "Based on these components, MLflow is designed to be useful for an individual to a large range of people working as a team. Some of its applications are as follows:"
      ]
    },
    {
      "cell_type": "markdown",
      "metadata": {
        "id": "fzmmT8ZKStGt"
      },
      "source": [
        "If you’re still undecided about learning how to use the platform, you can go over the MLflow components again and figure out if the platform is for you or not."
      ]
    },
    {
      "cell_type": "markdown",
      "metadata": {
        "id": "NllAK6hmUAUH"
      },
      "source": [
        "**Installing MLflow to use with Python**\n"
      ]
    },
    {
      "cell_type": "markdown",
      "metadata": {
        "id": "PKriiariUFCc"
      },
      "source": [
        "**Using with Python [4]**\n",
        "\n",
        "Remember we passed log_experiment = True in the setup function along with experiment_name = 'diamond' . Let’s see the magic PyCaret has done with the help of MLflow behind the scene. To see the magic let’s initiate the MLflow server:"
      ]
    },
    {
      "cell_type": "code",
      "metadata": {
        "id": "Jiwt9i9LUXCH"
      },
      "source": [
        "# within notebook (notice ! sign infront)\n",
        "!mlflow ui\n",
        "# on command line in the same folder\n",
        "#mlflow ui"
      ],
      "execution_count": null,
      "outputs": []
    },
    {
      "cell_type": "code",
      "metadata": {
        "id": "XvzazsunYIof",
        "colab": {
          "base_uri": "https://localhost:8080/"
        },
        "outputId": "af787ac1-8a36-4fee-c849-c7cd733355b0"
      },
      "source": [
        "!mlflow ui --host 0.0.0.0"
      ],
      "execution_count": null,
      "outputs": [
        {
          "output_type": "stream",
          "name": "stdout",
          "text": [
            "[2021-11-01 12:02:00 +0000] [5949] [INFO] Starting gunicorn 20.1.0\n",
            "[2021-11-01 12:02:00 +0000] [5949] [INFO] Listening at: http://0.0.0.0:5000 (5949)\n",
            "[2021-11-01 12:02:00 +0000] [5949] [INFO] Using worker: sync\n",
            "[2021-11-01 12:02:00 +0000] [5952] [INFO] Booting worker with pid: 5952\n",
            "[2021-11-01 12:06:48 +0000] [5949] [INFO] Handling signal: int\n",
            "[2021-11-01 12:06:48 +0000] [5952] [INFO] Worker exiting (pid: 5952)\n",
            "\n",
            "Aborted!\n",
            "[2021-11-01 12:06:49 +0000] [5949] [INFO] Shutting down: Master\n"
          ]
        }
      ]
    },
    {
      "cell_type": "markdown",
      "metadata": {
        "id": "JSyTRCPjUahe"
      },
      "source": [
        "Now open your browser and type “localhost:5000”. It will open a UI like this:"
      ]
    },
    {
      "cell_type": "markdown",
      "metadata": {
        "id": "0rofMGBlUuWl"
      },
      "source": [
        "Remember that MLflow supports multiple programming languages and tools such as R-programming language or Python. It also comes with a graphical user interface that you can access from your browser once you successfully install MLflow.[8]"
      ]
    },
    {
      "cell_type": "markdown",
      "metadata": {
        "id": "WaMK4Ca5U06l"
      },
      "source": [
        "To keep this guide concise and easy to digest, we’ll show you how you can install MLflow to use with Python. To install MLflow, open up your command line/terminal and write the following command:"
      ]
    },
    {
      "cell_type": "code",
      "metadata": {
        "id": "dMQfIK-RU2hl"
      },
      "source": [
        "!pip install mlflow"
      ],
      "execution_count": null,
      "outputs": []
    },
    {
      "cell_type": "markdown",
      "metadata": {
        "id": "X5ScuZwPVIAO"
      },
      "source": [
        "Note: You must have Python installed in your system to use pip which is Python’s package manager."
      ]
    },
    {
      "cell_type": "markdown",
      "metadata": {
        "id": "AWq_TXcoVMrF"
      },
      "source": [
        "Once you execute the command, MLflow will get installed in your system. You can check if the installation is successful or not by importing MLflow in Python using the following line of code:"
      ]
    },
    {
      "cell_type": "code",
      "metadata": {
        "id": "kcgo8jZiVQ_l"
      },
      "source": [
        "import mlflow"
      ],
      "execution_count": null,
      "outputs": []
    },
    {
      "cell_type": "markdown",
      "metadata": {
        "id": "Ml198OF5Vbju"
      },
      "source": [
        "If this line of Python code doesn’t give you an error, then, you’ve successfully installed MLflow to use with Python."
      ]
    },
    {
      "cell_type": "markdown",
      "metadata": {
        "id": "utD3ulx-VfVc"
      },
      "source": [
        "**Component 1: MLflow Tracking**\n"
      ]
    },
    {
      "cell_type": "code",
      "metadata": {
        "id": "NdrXTWuAZbtV"
      },
      "source": [
        "# Importing the os library to work with operating system functionalities\n",
        "import os\n",
        "\n",
        "# Importing tracking functions from MLflow\n",
        "from mlflow import log_metric, log_param, log_artifacts\n",
        "\n",
        "# Logging a parameter (key-value pair)\n",
        "log_param(\"param1\", 0)\n",
        "\n",
        "# Logging a metric; metrics can be updated throughout the run\n",
        "log_metric(\"foo\", 100)\n",
        "log_metric(\"foo\", 200)\n",
        "log_metric(\"foo\", 300)\n",
        "\n",
        "# Create a file called test.text in outputs directory\n",
        "if not os.path.exists(\"outputs\"):\n",
        "    os.makedirs(\"outputs\")\n",
        "with open(\"outputs/test.txt\", \"w\") as f:\n",
        "    f.write(\"hello world!\")\n",
        "\n",
        "# Logging an artifact (output file)\n",
        "log_artifacts(\"outputs\")"
      ],
      "execution_count": null,
      "outputs": []
    },
    {
      "cell_type": "code",
      "metadata": {
        "id": "RZBaq1dGZgFZ",
        "colab": {
          "base_uri": "https://localhost:8080/"
        },
        "outputId": "0a9ff034-6cfd-4f10-f406-7e6fc566b1dd"
      },
      "source": [
        "!mlflow ui"
      ],
      "execution_count": null,
      "outputs": [
        {
          "output_type": "stream",
          "name": "stdout",
          "text": [
            "[2021-11-01 12:07:59 +0000] [6004] [INFO] Starting gunicorn 20.1.0\n",
            "[2021-11-01 12:07:59 +0000] [6004] [INFO] Listening at: http://127.0.0.1:5000 (6004)\n",
            "[2021-11-01 12:07:59 +0000] [6004] [INFO] Using worker: sync\n",
            "[2021-11-01 12:07:59 +0000] [6007] [INFO] Booting worker with pid: 6007\n",
            "\n",
            "[2021-11-01 12:10:37 +0000] [6004] [INFO] Handling signal: int\n",
            "Aborted!\n",
            "[2021-11-01 12:10:37 +0000] [6007] [INFO] Worker exiting (pid: 6007)\n",
            "[2021-11-01 12:10:38 +0000] [6004] [INFO] Shutting down: Master\n"
          ]
        }
      ]
    },
    {
      "cell_type": "markdown",
      "metadata": {
        "id": "CF7dADqbc8c4"
      },
      "source": [
        "# **References**\n",
        "\n",
        "[1-Build a machine learning model with PyCaret and corresponding user interface with Gradio](https://medium.com/nerd-for-tech/build-a-machine-learning-model-with-pycaret-and-corresponding-user-interface-with-gradio-57ff09b7d262)\n",
        "\n",
        "[2-PyCaret in Machine Learning](https://thecleverprogrammer.com/2021/03/07/pycaret-in-machine-learning/)\n",
        "\n",
        "[3-PyCaret 101: An introduction for beginners](https://www.kdnuggets.com/2021/06/pycaret-101-introduction-beginners.html?fbclid=IwAR29t4C5QplspexoIyAd4eYfUjlZSOFL5wVmxc9sU5qXr_mMqIPfaJVmP6Y)\n",
        "\n",
        "[4-Easy MLOps with PyCaret + MLflow](https://towardsdatascience.com/easy-mlops-with-pycaret-mlflow-7fbcbf1e38c6)\n",
        "\n",
        "[5-Binary Classification Tutorial Level Beginner](https://colab.research.google.com/drive/1GqQ3XAIzg4krBbnOpKyeRqT0qBQhdwYL#scrollTo=GM-nQ7LqEQma)\n",
        "\n",
        "[6-Create Clusters](https://pycaret.org/create-clusters/)\n",
        "\n",
        "[7-Plot Model](https://pycaret.org/plot-model/)\n",
        "\n",
        "[8-MLflow For Machine Learning Pipelines [Ultimate Guide]](https://medium.com/@theclickreader/mlflow-for-machine-learning-pipelines-ultimate-guide-821e55370034)\n",
        "\n",
        "[7 Top AutoML Tools](https://victorzhou.com/posts/tools-for-auto-ml/)\n",
        "\n",
        "[Predicting Machine Maintenance using Machine Learning](https://medium.com/analytics-vidhya/predicting-machine-maintenance-using-machine-learning-ee694c7fa0f0)\n",
        "\n",
        "[AutoML: The future of Data Science and Machine Learning](https://protonautoml.medium.com/automl-the-future-of-data-science-and-machine-learning-45abb8f5ebcf)\n",
        "\n",
        "[Gentle Introduction to New AutoML Package by MJLAR!](https://medium.com/mlearning-ai/gentle-introduction-to-new-automl-package-by-mjlar-bc51a99ba53c)\n"
      ]
    }
  ]
}