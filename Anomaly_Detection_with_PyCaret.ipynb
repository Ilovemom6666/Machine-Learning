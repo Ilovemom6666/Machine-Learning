{
  "nbformat": 4,
  "nbformat_minor": 0,
  "metadata": {
    "colab": {
      "name": "Anomaly Detection with PyCaret.ipynb",
      "provenance": [],
      "collapsed_sections": [],
      "toc_visible": true,
      "include_colab_link": true
    },
    "kernelspec": {
      "display_name": "Python 3",
      "name": "python3"
    },
    "language_info": {
      "name": "python"
    },
    "widgets": {
      "application/vnd.jupyter.widget-state+json": {
        "972ddfcac2c5408b8b003a548440b70e": {
          "model_module": "@jupyter-widgets/controls",
          "model_name": "IntProgressModel",
          "model_module_version": "1.5.0",
          "state": {
            "_dom_classes": [],
            "_model_module": "@jupyter-widgets/controls",
            "_model_module_version": "1.5.0",
            "_model_name": "IntProgressModel",
            "_view_count": null,
            "_view_module": "@jupyter-widgets/controls",
            "_view_module_version": "1.5.0",
            "_view_name": "ProgressView",
            "bar_style": "",
            "description": "Processing: ",
            "description_tooltip": null,
            "layout": "IPY_MODEL_5e08137abcdb4a1e8819abc59d3a1753",
            "max": 3,
            "min": 0,
            "orientation": "horizontal",
            "style": "IPY_MODEL_00e60421a0b14ec7897c4a4537ca17bd",
            "value": 3
          }
        },
        "5e08137abcdb4a1e8819abc59d3a1753": {
          "model_module": "@jupyter-widgets/base",
          "model_name": "LayoutModel",
          "model_module_version": "1.2.0",
          "state": {
            "_model_module": "@jupyter-widgets/base",
            "_model_module_version": "1.2.0",
            "_model_name": "LayoutModel",
            "_view_count": null,
            "_view_module": "@jupyter-widgets/base",
            "_view_module_version": "1.2.0",
            "_view_name": "LayoutView",
            "align_content": null,
            "align_items": null,
            "align_self": null,
            "border": null,
            "bottom": null,
            "display": null,
            "flex": null,
            "flex_flow": null,
            "grid_area": null,
            "grid_auto_columns": null,
            "grid_auto_flow": null,
            "grid_auto_rows": null,
            "grid_column": null,
            "grid_gap": null,
            "grid_row": null,
            "grid_template_areas": null,
            "grid_template_columns": null,
            "grid_template_rows": null,
            "height": null,
            "justify_content": null,
            "justify_items": null,
            "left": null,
            "margin": null,
            "max_height": null,
            "max_width": null,
            "min_height": null,
            "min_width": null,
            "object_fit": null,
            "object_position": null,
            "order": null,
            "overflow": null,
            "overflow_x": null,
            "overflow_y": null,
            "padding": null,
            "right": null,
            "top": null,
            "visibility": null,
            "width": null
          }
        },
        "00e60421a0b14ec7897c4a4537ca17bd": {
          "model_module": "@jupyter-widgets/controls",
          "model_name": "ProgressStyleModel",
          "model_module_version": "1.5.0",
          "state": {
            "_model_module": "@jupyter-widgets/controls",
            "_model_module_version": "1.5.0",
            "_model_name": "ProgressStyleModel",
            "_view_count": null,
            "_view_module": "@jupyter-widgets/base",
            "_view_module_version": "1.2.0",
            "_view_name": "StyleView",
            "bar_color": null,
            "description_width": ""
          }
        },
        "065be63e901e42d9820d9c266600ecc1": {
          "model_module": "@jupyter-widgets/controls",
          "model_name": "TextModel",
          "model_module_version": "1.5.0",
          "state": {
            "_dom_classes": [],
            "_model_module": "@jupyter-widgets/controls",
            "_model_module_version": "1.5.0",
            "_model_name": "TextModel",
            "_view_count": null,
            "_view_module": "@jupyter-widgets/controls",
            "_view_module_version": "1.5.0",
            "_view_name": "TextView",
            "continuous_update": true,
            "description": "",
            "description_tooltip": null,
            "disabled": false,
            "layout": "IPY_MODEL_f7f873eb8f9e45a2b690fdf65876f7a6",
            "placeholder": "​",
            "style": "IPY_MODEL_3d5ddcf87ddb405e812dea6361572ace",
            "value": "Following data types have been inferred automatically, if they are correct press enter to continue or type 'quit' otherwise."
          }
        },
        "f7f873eb8f9e45a2b690fdf65876f7a6": {
          "model_module": "@jupyter-widgets/base",
          "model_name": "LayoutModel",
          "model_module_version": "1.2.0",
          "state": {
            "_model_module": "@jupyter-widgets/base",
            "_model_module_version": "1.2.0",
            "_model_name": "LayoutModel",
            "_view_count": null,
            "_view_module": "@jupyter-widgets/base",
            "_view_module_version": "1.2.0",
            "_view_name": "LayoutView",
            "align_content": null,
            "align_items": null,
            "align_self": null,
            "border": null,
            "bottom": null,
            "display": null,
            "flex": null,
            "flex_flow": null,
            "grid_area": null,
            "grid_auto_columns": null,
            "grid_auto_flow": null,
            "grid_auto_rows": null,
            "grid_column": null,
            "grid_gap": null,
            "grid_row": null,
            "grid_template_areas": null,
            "grid_template_columns": null,
            "grid_template_rows": null,
            "height": null,
            "justify_content": null,
            "justify_items": null,
            "left": null,
            "margin": null,
            "max_height": null,
            "max_width": null,
            "min_height": null,
            "min_width": null,
            "object_fit": null,
            "object_position": null,
            "order": null,
            "overflow": null,
            "overflow_x": null,
            "overflow_y": null,
            "padding": null,
            "right": null,
            "top": null,
            "visibility": null,
            "width": "100%"
          }
        },
        "3d5ddcf87ddb405e812dea6361572ace": {
          "model_module": "@jupyter-widgets/controls",
          "model_name": "DescriptionStyleModel",
          "model_module_version": "1.5.0",
          "state": {
            "_model_module": "@jupyter-widgets/controls",
            "_model_module_version": "1.5.0",
            "_model_name": "DescriptionStyleModel",
            "_view_count": null,
            "_view_module": "@jupyter-widgets/base",
            "_view_module_version": "1.2.0",
            "_view_name": "StyleView",
            "description_width": ""
          }
        },
        "b4228d301cf24efc9a51d996defd36ac": {
          "model_module": "@jupyter-widgets/controls",
          "model_name": "IntProgressModel",
          "model_module_version": "1.5.0",
          "state": {
            "_dom_classes": [],
            "_model_module": "@jupyter-widgets/controls",
            "_model_module_version": "1.5.0",
            "_model_name": "IntProgressModel",
            "_view_count": null,
            "_view_module": "@jupyter-widgets/controls",
            "_view_module_version": "1.5.0",
            "_view_name": "ProgressView",
            "bar_style": "",
            "description": "Processing: ",
            "description_tooltip": null,
            "layout": "IPY_MODEL_c0808e57addf41ccaf8325385965f7cb",
            "max": 3,
            "min": 0,
            "orientation": "horizontal",
            "style": "IPY_MODEL_37eec6f3e5194e08b5ffcf91a6478d1c",
            "value": 3
          }
        },
        "c0808e57addf41ccaf8325385965f7cb": {
          "model_module": "@jupyter-widgets/base",
          "model_name": "LayoutModel",
          "model_module_version": "1.2.0",
          "state": {
            "_model_module": "@jupyter-widgets/base",
            "_model_module_version": "1.2.0",
            "_model_name": "LayoutModel",
            "_view_count": null,
            "_view_module": "@jupyter-widgets/base",
            "_view_module_version": "1.2.0",
            "_view_name": "LayoutView",
            "align_content": null,
            "align_items": null,
            "align_self": null,
            "border": null,
            "bottom": null,
            "display": null,
            "flex": null,
            "flex_flow": null,
            "grid_area": null,
            "grid_auto_columns": null,
            "grid_auto_flow": null,
            "grid_auto_rows": null,
            "grid_column": null,
            "grid_gap": null,
            "grid_row": null,
            "grid_template_areas": null,
            "grid_template_columns": null,
            "grid_template_rows": null,
            "height": null,
            "justify_content": null,
            "justify_items": null,
            "left": null,
            "margin": null,
            "max_height": null,
            "max_width": null,
            "min_height": null,
            "min_width": null,
            "object_fit": null,
            "object_position": null,
            "order": null,
            "overflow": null,
            "overflow_x": null,
            "overflow_y": null,
            "padding": null,
            "right": null,
            "top": null,
            "visibility": null,
            "width": null
          }
        },
        "37eec6f3e5194e08b5ffcf91a6478d1c": {
          "model_module": "@jupyter-widgets/controls",
          "model_name": "ProgressStyleModel",
          "model_module_version": "1.5.0",
          "state": {
            "_model_module": "@jupyter-widgets/controls",
            "_model_module_version": "1.5.0",
            "_model_name": "ProgressStyleModel",
            "_view_count": null,
            "_view_module": "@jupyter-widgets/base",
            "_view_module_version": "1.2.0",
            "_view_name": "StyleView",
            "bar_color": null,
            "description_width": ""
          }
        },
        "99ea0ab518b94e429634d564314ae0eb": {
          "model_module": "@jupyter-widgets/controls",
          "model_name": "IntProgressModel",
          "model_module_version": "1.5.0",
          "state": {
            "_dom_classes": [],
            "_model_module": "@jupyter-widgets/controls",
            "_model_module_version": "1.5.0",
            "_model_name": "IntProgressModel",
            "_view_count": null,
            "_view_module": "@jupyter-widgets/controls",
            "_view_module_version": "1.5.0",
            "_view_name": "ProgressView",
            "bar_style": "",
            "description": "Processing: ",
            "description_tooltip": null,
            "layout": "IPY_MODEL_8221f3bdee5e47449cd4dce43418ba74",
            "max": 5,
            "min": 0,
            "orientation": "horizontal",
            "style": "IPY_MODEL_4f8dde8fdc4e43e6958bcea4c670c3b4",
            "value": 3
          }
        },
        "8221f3bdee5e47449cd4dce43418ba74": {
          "model_module": "@jupyter-widgets/base",
          "model_name": "LayoutModel",
          "model_module_version": "1.2.0",
          "state": {
            "_model_module": "@jupyter-widgets/base",
            "_model_module_version": "1.2.0",
            "_model_name": "LayoutModel",
            "_view_count": null,
            "_view_module": "@jupyter-widgets/base",
            "_view_module_version": "1.2.0",
            "_view_name": "LayoutView",
            "align_content": null,
            "align_items": null,
            "align_self": null,
            "border": null,
            "bottom": null,
            "display": null,
            "flex": null,
            "flex_flow": null,
            "grid_area": null,
            "grid_auto_columns": null,
            "grid_auto_flow": null,
            "grid_auto_rows": null,
            "grid_column": null,
            "grid_gap": null,
            "grid_row": null,
            "grid_template_areas": null,
            "grid_template_columns": null,
            "grid_template_rows": null,
            "height": null,
            "justify_content": null,
            "justify_items": null,
            "left": null,
            "margin": null,
            "max_height": null,
            "max_width": null,
            "min_height": null,
            "min_width": null,
            "object_fit": null,
            "object_position": null,
            "order": null,
            "overflow": null,
            "overflow_x": null,
            "overflow_y": null,
            "padding": null,
            "right": null,
            "top": null,
            "visibility": null,
            "width": null
          }
        },
        "4f8dde8fdc4e43e6958bcea4c670c3b4": {
          "model_module": "@jupyter-widgets/controls",
          "model_name": "ProgressStyleModel",
          "model_module_version": "1.5.0",
          "state": {
            "_model_module": "@jupyter-widgets/controls",
            "_model_module_version": "1.5.0",
            "_model_name": "ProgressStyleModel",
            "_view_count": null,
            "_view_module": "@jupyter-widgets/base",
            "_view_module_version": "1.2.0",
            "_view_name": "StyleView",
            "bar_color": null,
            "description_width": ""
          }
        },
        "26eb26b8cf7747159470011e97ae95a1": {
          "model_module": "@jupyter-widgets/controls",
          "model_name": "IntProgressModel",
          "model_module_version": "1.5.0",
          "state": {
            "_dom_classes": [],
            "_model_module": "@jupyter-widgets/controls",
            "_model_module_version": "1.5.0",
            "_model_name": "IntProgressModel",
            "_view_count": null,
            "_view_module": "@jupyter-widgets/controls",
            "_view_module_version": "1.5.0",
            "_view_name": "ProgressView",
            "bar_style": "",
            "description": "Processing: ",
            "description_tooltip": null,
            "layout": "IPY_MODEL_40fea1f366464c49b7c4b501563c055d",
            "max": 5,
            "min": 0,
            "orientation": "horizontal",
            "style": "IPY_MODEL_0c965a46b8a44fe98eaece3b2111b9e8",
            "value": 3
          }
        },
        "40fea1f366464c49b7c4b501563c055d": {
          "model_module": "@jupyter-widgets/base",
          "model_name": "LayoutModel",
          "model_module_version": "1.2.0",
          "state": {
            "_model_module": "@jupyter-widgets/base",
            "_model_module_version": "1.2.0",
            "_model_name": "LayoutModel",
            "_view_count": null,
            "_view_module": "@jupyter-widgets/base",
            "_view_module_version": "1.2.0",
            "_view_name": "LayoutView",
            "align_content": null,
            "align_items": null,
            "align_self": null,
            "border": null,
            "bottom": null,
            "display": null,
            "flex": null,
            "flex_flow": null,
            "grid_area": null,
            "grid_auto_columns": null,
            "grid_auto_flow": null,
            "grid_auto_rows": null,
            "grid_column": null,
            "grid_gap": null,
            "grid_row": null,
            "grid_template_areas": null,
            "grid_template_columns": null,
            "grid_template_rows": null,
            "height": null,
            "justify_content": null,
            "justify_items": null,
            "left": null,
            "margin": null,
            "max_height": null,
            "max_width": null,
            "min_height": null,
            "min_width": null,
            "object_fit": null,
            "object_position": null,
            "order": null,
            "overflow": null,
            "overflow_x": null,
            "overflow_y": null,
            "padding": null,
            "right": null,
            "top": null,
            "visibility": null,
            "width": null
          }
        },
        "0c965a46b8a44fe98eaece3b2111b9e8": {
          "model_module": "@jupyter-widgets/controls",
          "model_name": "ProgressStyleModel",
          "model_module_version": "1.5.0",
          "state": {
            "_model_module": "@jupyter-widgets/controls",
            "_model_module_version": "1.5.0",
            "_model_name": "ProgressStyleModel",
            "_view_count": null,
            "_view_module": "@jupyter-widgets/base",
            "_view_module_version": "1.2.0",
            "_view_name": "StyleView",
            "bar_color": null,
            "description_width": ""
          }
        }
      }
    }
  },
  "cells": [
    {
      "cell_type": "markdown",
      "metadata": {
        "id": "view-in-github",
        "colab_type": "text"
      },
      "source": [
        "<a href=\"https://colab.research.google.com/github/hussain0048/Machine-Learning/blob/master/Anomaly_Detection_with_PyCaret.ipynb\" target=\"_parent\"><img src=\"https://colab.research.google.com/assets/colab-badge.svg\" alt=\"Open In Colab\"/></a>"
      ]
    },
    {
      "cell_type": "markdown",
      "source": [
        "# **Introduction**"
      ],
      "metadata": {
        "id": "9d3sIjNFNkA8"
      }
    },
    {
      "cell_type": "markdown",
      "metadata": {
        "id": "YX1XA2lOe_hC"
      },
      "source": [
        "# **Table Content**"
      ]
    },
    {
      "cell_type": "markdown",
      "metadata": {
        "id": "iRvGGuOwfGui"
      },
      "source": [
        "\n",
        "<div class=\"alert alert-block alert-info\" style=\"margin-top: 20px\">\n",
        "    <ul>\n",
        "        <li><a href=\"https:\">Introduction</a></li>\n",
        "        <li><a href=\"#downloading_data\">Data Processing</a></li>\n",
        "        <li><a href=\"#evaluation\">Auto Model Training and Evaluation\n",
        "        <ul>\n",
        "        <li><a href=\"#evaluation\">Pycaret</a></li>\n",
        "        <li><a href=\"#evaluation\">Auto ML GS</a></li>\n",
        "        <li><a href=\"#evaluation\">MLflow</a></li>\n",
        "         <li><a href=\"#evaluation\">AutoML</a></li>\n",
        "         <li><a href=\"#evaluation\">KNN</a></li>\n",
        "         <li><a href=\"#evaluation\">Naive Bayes</a></li>\n",
        "         <li><a href=\"#evaluation\">Deep Neural Multilayer Perceptron (MLP)</a></li>\n",
        "         <li><a href=\"#evaluation\">Gradient Boosting</a></li>\n",
        "         <li><a href=\"#evaluation\">ExtraTreesClassifier</a></li>\n",
        "         <li><a href=\"#evaluation\">LGBM Classifer</a></li>\n",
        "         <li><a href=\"#evaluation\">CatBoost</a></li>\n",
        "    </ul>\n",
        "</div>\n",
        "<br>\n",
        "<hr>\n"
      ]
    },
    {
      "cell_type": "markdown",
      "metadata": {
        "id": "WZ0HWWxbvs86"
      },
      "source": [
        "# **1-Import libaray**"
      ]
    },
    {
      "cell_type": "code",
      "metadata": {
        "id": "LOHSx5sKvwti"
      },
      "source": [
        "import numpy as np \n",
        "import pandas as pd \n",
        "import seaborn as sns \n",
        "import matplotlib.pyplot as plt\n",
        "from prettytable import PrettyTable\n",
        "from sklearn.model_selection import train_test_split\n",
        "import warnings\n",
        "warnings.filterwarnings(\"ignore\")\n",
        "#from pycaret.utils import enable_colab\n",
        "#enable_colab()"
      ],
      "execution_count": 1,
      "outputs": []
    },
    {
      "cell_type": "markdown",
      "metadata": {
        "id": "AQ-H819ny8GQ"
      },
      "source": [
        "# **2- Installing Pycaret**"
      ]
    },
    {
      "cell_type": "markdown",
      "source": [
        "**Installing PyCaret in Colab**"
      ],
      "metadata": {
        "id": "-P7aeSvjRzZN"
      }
    },
    {
      "cell_type": "code",
      "metadata": {
        "id": "n4d68BKRx1Tu"
      },
      "source": [
        "#capture #suppresses the displays\n",
        "# install the full version\n",
        "!pip install pycaret[full]"
      ],
      "execution_count": null,
      "outputs": []
    },
    {
      "cell_type": "code",
      "metadata": {
        "id": "zwClIIrqnX-L",
        "colab": {
          "base_uri": "https://localhost:8080/"
        },
        "outputId": "a459b930-2233-46c9-ba83-ee7af75f56ce"
      },
      "source": [
        "!pip install pyyaml==5.4.1\n"
      ],
      "execution_count": 3,
      "outputs": [
        {
          "output_type": "stream",
          "name": "stdout",
          "text": [
            "Looking in indexes: https://pypi.org/simple, https://us-python.pkg.dev/colab-wheels/public/simple/\n",
            "Requirement already satisfied: pyyaml==5.4.1 in /usr/local/lib/python3.7/dist-packages (5.4.1)\n"
          ]
        }
      ]
    },
    {
      "cell_type": "markdown",
      "source": [
        "**For Google colab users**"
      ],
      "metadata": {
        "id": "XOf2qK9eaccn"
      }
    },
    {
      "cell_type": "code",
      "source": [
        "from pycaret.utils import enable_colab\n",
        "enable_colab()"
      ],
      "metadata": {
        "colab": {
          "base_uri": "https://localhost:8080/"
        },
        "id": "cZ99HXWmag59",
        "outputId": "f4ecca90-a69b-48ee-9f78-dfe3321974d2"
      },
      "execution_count": 4,
      "outputs": [
        {
          "output_type": "stream",
          "name": "stdout",
          "text": [
            "Colab mode enabled.\n"
          ]
        }
      ]
    },
    {
      "cell_type": "markdown",
      "metadata": {
        "id": "hh4GSJw-1Y5a"
      },
      "source": [
        "#**3- Import the necessary packages**"
      ]
    },
    {
      "cell_type": "code",
      "source": [
        "!pip install markupsafe==2.0.1\n"
      ],
      "metadata": {
        "id": "RK3KHprB0smS",
        "colab": {
          "resources": {
            "http://localhost:8080/static/components/requirejs/require.js": {
              "data": "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",
              "ok": true,
              "headers": [
                [
                  "content-type",
                  "application/javascript"
                ]
              ],
              "status": 200,
              "status_text": ""
            }
          },
          "base_uri": "https://localhost:8080/",
          "height": 238
        },
        "outputId": "dc314812-6b6a-43d1-bfa0-1add6b8a6db7"
      },
      "execution_count": 5,
      "outputs": [
        {
          "output_type": "display_data",
          "data": {
            "text/plain": [
              "<IPython.core.display.HTML object>"
            ],
            "text/html": [
              "\n",
              "            <script src=\"/static/components/requirejs/require.js\"></script>\n",
              "            <script>\n",
              "              requirejs.config({\n",
              "                paths: {\n",
              "                  base: '/static/base',\n",
              "                  plotly: 'https://cdn.plot.ly/plotly-latest.min.js?noext',\n",
              "                },\n",
              "              });\n",
              "            </script>\n",
              "            "
            ]
          },
          "metadata": {}
        },
        {
          "output_type": "stream",
          "name": "stdout",
          "text": [
            "Looking in indexes: https://pypi.org/simple, https://us-python.pkg.dev/colab-wheels/public/simple/\n",
            "Collecting markupsafe==2.0.1\n",
            "  Downloading MarkupSafe-2.0.1-cp37-cp37m-manylinux_2_5_x86_64.manylinux1_x86_64.manylinux_2_12_x86_64.manylinux2010_x86_64.whl (31 kB)\n",
            "Installing collected packages: markupsafe\n",
            "  Attempting uninstall: markupsafe\n",
            "    Found existing installation: MarkupSafe 2.1.1\n",
            "    Uninstalling MarkupSafe-2.1.1:\n",
            "      Successfully uninstalled MarkupSafe-2.1.1\n",
            "\u001b[31mERROR: pip's dependency resolver does not currently take into account all the packages that are installed. This behaviour is the source of the following dependency conflicts.\n",
            "pandas-profiling 3.2.0 requires markupsafe~=2.1.1, but you have markupsafe 2.0.1 which is incompatible.\u001b[0m\n",
            "Successfully installed markupsafe-2.0.1\n"
          ]
        }
      ]
    },
    {
      "cell_type": "markdown",
      "source": [
        "Runtime> Restart Runtime"
      ],
      "metadata": {
        "id": "6LPVVcETrlFq"
      }
    },
    {
      "cell_type": "code",
      "metadata": {
        "id": "dQ2lwtepnpJw"
      },
      "source": [
        "import pandas as pd\n",
        "import numpy as np\n",
        "import matplotlib.pyplot as plt\n",
        "import seaborn as sns\n",
        "import pycaret\n",
        "import jinja2"
      ],
      "execution_count": 1,
      "outputs": []
    },
    {
      "cell_type": "markdown",
      "source": [
        "# **4-Dataset**"
      ],
      "metadata": {
        "id": "7qKvhCCSXctf"
      }
    },
    {
      "cell_type": "code",
      "source": [
        "from pycaret.datasets import get_data\n",
        "dataset = get_data('mice')"
      ],
      "metadata": {
        "id": "W1q1K83h81T8"
      },
      "execution_count": null,
      "outputs": []
    },
    {
      "cell_type": "code",
      "source": [
        "#check the shape of data\n",
        "dataset.shape"
      ],
      "metadata": {
        "colab": {
          "base_uri": "https://localhost:8080/"
        },
        "id": "lHMKq-RA9AxD",
        "outputId": "0c351ac7-d364-461b-f179-0987843fee51"
      },
      "execution_count": 3,
      "outputs": [
        {
          "output_type": "execute_result",
          "data": {
            "text/plain": [
              "(1080, 82)"
            ]
          },
          "metadata": {},
          "execution_count": 3
        }
      ]
    },
    {
      "cell_type": "code",
      "source": [
        "\n",
        "data = dataset.sample(frac=0.95, random_state=786)\n",
        "data_unseen = dataset.drop(data.index)\n",
        "\n",
        "data.reset_index(drop=True, inplace=True)\n",
        "data_unseen.reset_index(drop=True, inplace=True)\n",
        "\n",
        "print('Data for Modeling: ' + str(data.shape))\n",
        "print('Unseen Data For Predictions: ' + str(data_unseen.shape))"
      ],
      "metadata": {
        "colab": {
          "base_uri": "https://localhost:8080/"
        },
        "id": "2q1Lb7Q29TZz",
        "outputId": "52bf7e5d-6581-49c6-a7b3-cb7db84a0449"
      },
      "execution_count": 4,
      "outputs": [
        {
          "output_type": "stream",
          "name": "stdout",
          "text": [
            "Data for Modeling: (1026, 82)\n",
            "Unseen Data For Predictions: (54, 82)\n"
          ]
        }
      ]
    },
    {
      "cell_type": "markdown",
      "metadata": {
        "id": "LmV8y9BlfDpF"
      },
      "source": [
        "# **5- Setting up Environment in PyCaret**\n",
        "\n"
      ]
    },
    {
      "cell_type": "code",
      "metadata": {
        "id": "kiHZL2E-fpkr",
        "colab": {
          "base_uri": "https://localhost:8080/",
          "height": 1000,
          "referenced_widgets": [
            "972ddfcac2c5408b8b003a548440b70e",
            "5e08137abcdb4a1e8819abc59d3a1753",
            "00e60421a0b14ec7897c4a4537ca17bd",
            "065be63e901e42d9820d9c266600ecc1",
            "f7f873eb8f9e45a2b690fdf65876f7a6",
            "3d5ddcf87ddb405e812dea6361572ace"
          ]
        },
        "outputId": "da424eed-11d9-4b3c-e0ca-ec1d47b35dba"
      },
      "source": [
        "\n",
        "from pycaret.anomaly import *\n",
        "exp_ano101 = setup(data, normalize = True,  ignore_features = ['MouseID'], session_id = 123)"
      ],
      "execution_count": 6,
      "outputs": [
        {
          "output_type": "display_data",
          "data": {
            "text/plain": [
              "                               Description                 Value\n",
              "0                               session_id                   123\n",
              "1                            Original Data            (1026, 82)\n",
              "2                           Missing Values                  True\n",
              "3                         Numeric Features                    77\n",
              "4                     Categorical Features                     4\n",
              "5                         Ordinal Features                 False\n",
              "6                High Cardinality Features                 False\n",
              "7                  High Cardinality Method                  None\n",
              "8                         Transformed Data            (1026, 91)\n",
              "9                                 CPU Jobs                    -1\n",
              "10                                 Use GPU                 False\n",
              "11                          Log Experiment                 False\n",
              "12                         Experiment Name  anomaly-default-name\n",
              "13                                     USI                  730d\n",
              "14                         Imputation Type                simple\n",
              "15          Iterative Imputation Iteration                  None\n",
              "16                         Numeric Imputer                  mean\n",
              "17      Iterative Imputation Numeric Model                  None\n",
              "18                     Categorical Imputer                  mode\n",
              "19  Iterative Imputation Categorical Model                  None\n",
              "20           Unknown Categoricals Handling        least_frequent\n",
              "21                               Normalize                  True\n",
              "22                        Normalize Method                zscore\n",
              "23                          Transformation                 False\n",
              "24                   Transformation Method                  None\n",
              "25                                     PCA                 False\n",
              "26                              PCA Method                  None\n",
              "27                          PCA Components                  None\n",
              "28                     Ignore Low Variance                 False\n",
              "29                     Combine Rare Levels                 False\n",
              "30                    Rare Level Threshold                  None\n",
              "31                         Numeric Binning                 False\n",
              "32                         Remove Outliers                 False\n",
              "33                      Outliers Threshold                  None\n",
              "34                Remove Multicollinearity                 False\n",
              "35             Multicollinearity Threshold                  None\n",
              "36             Remove Perfect Collinearity                 False\n",
              "37                              Clustering                 False\n",
              "38                    Clustering Iteration                  None\n",
              "39                     Polynomial Features                 False\n",
              "40                       Polynomial Degree                  None\n",
              "41                    Trignometry Features                 False\n",
              "42                    Polynomial Threshold                  None\n",
              "43                          Group Features                 False\n",
              "44                       Feature Selection                 False\n",
              "45                Feature Selection Method               classic\n",
              "46            Features Selection Threshold                  None\n",
              "47                     Feature Interaction                 False\n",
              "48                           Feature Ratio                 False\n",
              "49                   Interaction Threshold                  None"
            ],
            "text/html": [
              "\n",
              "  <div id=\"df-26c99194-e4fc-4f7b-b832-d4714e20a920\">\n",
              "    <div class=\"colab-df-container\">\n",
              "      <div>\n",
              "<style scoped>\n",
              "    .dataframe tbody tr th:only-of-type {\n",
              "        vertical-align: middle;\n",
              "    }\n",
              "\n",
              "    .dataframe tbody tr th {\n",
              "        vertical-align: top;\n",
              "    }\n",
              "\n",
              "    .dataframe thead th {\n",
              "        text-align: right;\n",
              "    }\n",
              "</style>\n",
              "<table border=\"1\" class=\"dataframe\">\n",
              "  <thead>\n",
              "    <tr style=\"text-align: right;\">\n",
              "      <th></th>\n",
              "      <th>Description</th>\n",
              "      <th>Value</th>\n",
              "    </tr>\n",
              "  </thead>\n",
              "  <tbody>\n",
              "    <tr>\n",
              "      <th>0</th>\n",
              "      <td>session_id</td>\n",
              "      <td>123</td>\n",
              "    </tr>\n",
              "    <tr>\n",
              "      <th>1</th>\n",
              "      <td>Original Data</td>\n",
              "      <td>(1026, 82)</td>\n",
              "    </tr>\n",
              "    <tr>\n",
              "      <th>2</th>\n",
              "      <td>Missing Values</td>\n",
              "      <td>True</td>\n",
              "    </tr>\n",
              "    <tr>\n",
              "      <th>3</th>\n",
              "      <td>Numeric Features</td>\n",
              "      <td>77</td>\n",
              "    </tr>\n",
              "    <tr>\n",
              "      <th>4</th>\n",
              "      <td>Categorical Features</td>\n",
              "      <td>4</td>\n",
              "    </tr>\n",
              "    <tr>\n",
              "      <th>5</th>\n",
              "      <td>Ordinal Features</td>\n",
              "      <td>False</td>\n",
              "    </tr>\n",
              "    <tr>\n",
              "      <th>6</th>\n",
              "      <td>High Cardinality Features</td>\n",
              "      <td>False</td>\n",
              "    </tr>\n",
              "    <tr>\n",
              "      <th>7</th>\n",
              "      <td>High Cardinality Method</td>\n",
              "      <td>None</td>\n",
              "    </tr>\n",
              "    <tr>\n",
              "      <th>8</th>\n",
              "      <td>Transformed Data</td>\n",
              "      <td>(1026, 91)</td>\n",
              "    </tr>\n",
              "    <tr>\n",
              "      <th>9</th>\n",
              "      <td>CPU Jobs</td>\n",
              "      <td>-1</td>\n",
              "    </tr>\n",
              "    <tr>\n",
              "      <th>10</th>\n",
              "      <td>Use GPU</td>\n",
              "      <td>False</td>\n",
              "    </tr>\n",
              "    <tr>\n",
              "      <th>11</th>\n",
              "      <td>Log Experiment</td>\n",
              "      <td>False</td>\n",
              "    </tr>\n",
              "    <tr>\n",
              "      <th>12</th>\n",
              "      <td>Experiment Name</td>\n",
              "      <td>anomaly-default-name</td>\n",
              "    </tr>\n",
              "    <tr>\n",
              "      <th>13</th>\n",
              "      <td>USI</td>\n",
              "      <td>730d</td>\n",
              "    </tr>\n",
              "    <tr>\n",
              "      <th>14</th>\n",
              "      <td>Imputation Type</td>\n",
              "      <td>simple</td>\n",
              "    </tr>\n",
              "    <tr>\n",
              "      <th>15</th>\n",
              "      <td>Iterative Imputation Iteration</td>\n",
              "      <td>None</td>\n",
              "    </tr>\n",
              "    <tr>\n",
              "      <th>16</th>\n",
              "      <td>Numeric Imputer</td>\n",
              "      <td>mean</td>\n",
              "    </tr>\n",
              "    <tr>\n",
              "      <th>17</th>\n",
              "      <td>Iterative Imputation Numeric Model</td>\n",
              "      <td>None</td>\n",
              "    </tr>\n",
              "    <tr>\n",
              "      <th>18</th>\n",
              "      <td>Categorical Imputer</td>\n",
              "      <td>mode</td>\n",
              "    </tr>\n",
              "    <tr>\n",
              "      <th>19</th>\n",
              "      <td>Iterative Imputation Categorical Model</td>\n",
              "      <td>None</td>\n",
              "    </tr>\n",
              "    <tr>\n",
              "      <th>20</th>\n",
              "      <td>Unknown Categoricals Handling</td>\n",
              "      <td>least_frequent</td>\n",
              "    </tr>\n",
              "    <tr>\n",
              "      <th>21</th>\n",
              "      <td>Normalize</td>\n",
              "      <td>True</td>\n",
              "    </tr>\n",
              "    <tr>\n",
              "      <th>22</th>\n",
              "      <td>Normalize Method</td>\n",
              "      <td>zscore</td>\n",
              "    </tr>\n",
              "    <tr>\n",
              "      <th>23</th>\n",
              "      <td>Transformation</td>\n",
              "      <td>False</td>\n",
              "    </tr>\n",
              "    <tr>\n",
              "      <th>24</th>\n",
              "      <td>Transformation Method</td>\n",
              "      <td>None</td>\n",
              "    </tr>\n",
              "    <tr>\n",
              "      <th>25</th>\n",
              "      <td>PCA</td>\n",
              "      <td>False</td>\n",
              "    </tr>\n",
              "    <tr>\n",
              "      <th>26</th>\n",
              "      <td>PCA Method</td>\n",
              "      <td>None</td>\n",
              "    </tr>\n",
              "    <tr>\n",
              "      <th>27</th>\n",
              "      <td>PCA Components</td>\n",
              "      <td>None</td>\n",
              "    </tr>\n",
              "    <tr>\n",
              "      <th>28</th>\n",
              "      <td>Ignore Low Variance</td>\n",
              "      <td>False</td>\n",
              "    </tr>\n",
              "    <tr>\n",
              "      <th>29</th>\n",
              "      <td>Combine Rare Levels</td>\n",
              "      <td>False</td>\n",
              "    </tr>\n",
              "    <tr>\n",
              "      <th>30</th>\n",
              "      <td>Rare Level Threshold</td>\n",
              "      <td>None</td>\n",
              "    </tr>\n",
              "    <tr>\n",
              "      <th>31</th>\n",
              "      <td>Numeric Binning</td>\n",
              "      <td>False</td>\n",
              "    </tr>\n",
              "    <tr>\n",
              "      <th>32</th>\n",
              "      <td>Remove Outliers</td>\n",
              "      <td>False</td>\n",
              "    </tr>\n",
              "    <tr>\n",
              "      <th>33</th>\n",
              "      <td>Outliers Threshold</td>\n",
              "      <td>None</td>\n",
              "    </tr>\n",
              "    <tr>\n",
              "      <th>34</th>\n",
              "      <td>Remove Multicollinearity</td>\n",
              "      <td>False</td>\n",
              "    </tr>\n",
              "    <tr>\n",
              "      <th>35</th>\n",
              "      <td>Multicollinearity Threshold</td>\n",
              "      <td>None</td>\n",
              "    </tr>\n",
              "    <tr>\n",
              "      <th>36</th>\n",
              "      <td>Remove Perfect Collinearity</td>\n",
              "      <td>False</td>\n",
              "    </tr>\n",
              "    <tr>\n",
              "      <th>37</th>\n",
              "      <td>Clustering</td>\n",
              "      <td>False</td>\n",
              "    </tr>\n",
              "    <tr>\n",
              "      <th>38</th>\n",
              "      <td>Clustering Iteration</td>\n",
              "      <td>None</td>\n",
              "    </tr>\n",
              "    <tr>\n",
              "      <th>39</th>\n",
              "      <td>Polynomial Features</td>\n",
              "      <td>False</td>\n",
              "    </tr>\n",
              "    <tr>\n",
              "      <th>40</th>\n",
              "      <td>Polynomial Degree</td>\n",
              "      <td>None</td>\n",
              "    </tr>\n",
              "    <tr>\n",
              "      <th>41</th>\n",
              "      <td>Trignometry Features</td>\n",
              "      <td>False</td>\n",
              "    </tr>\n",
              "    <tr>\n",
              "      <th>42</th>\n",
              "      <td>Polynomial Threshold</td>\n",
              "      <td>None</td>\n",
              "    </tr>\n",
              "    <tr>\n",
              "      <th>43</th>\n",
              "      <td>Group Features</td>\n",
              "      <td>False</td>\n",
              "    </tr>\n",
              "    <tr>\n",
              "      <th>44</th>\n",
              "      <td>Feature Selection</td>\n",
              "      <td>False</td>\n",
              "    </tr>\n",
              "    <tr>\n",
              "      <th>45</th>\n",
              "      <td>Feature Selection Method</td>\n",
              "      <td>classic</td>\n",
              "    </tr>\n",
              "    <tr>\n",
              "      <th>46</th>\n",
              "      <td>Features Selection Threshold</td>\n",
              "      <td>None</td>\n",
              "    </tr>\n",
              "    <tr>\n",
              "      <th>47</th>\n",
              "      <td>Feature Interaction</td>\n",
              "      <td>False</td>\n",
              "    </tr>\n",
              "    <tr>\n",
              "      <th>48</th>\n",
              "      <td>Feature Ratio</td>\n",
              "      <td>False</td>\n",
              "    </tr>\n",
              "    <tr>\n",
              "      <th>49</th>\n",
              "      <td>Interaction Threshold</td>\n",
              "      <td>None</td>\n",
              "    </tr>\n",
              "  </tbody>\n",
              "</table>\n",
              "</div>\n",
              "      <button class=\"colab-df-convert\" onclick=\"convertToInteractive('df-26c99194-e4fc-4f7b-b832-d4714e20a920')\"\n",
              "              title=\"Convert this dataframe to an interactive table.\"\n",
              "              style=\"display:none;\">\n",
              "        \n",
              "  <svg xmlns=\"http://www.w3.org/2000/svg\" height=\"24px\"viewBox=\"0 0 24 24\"\n",
              "       width=\"24px\">\n",
              "    <path d=\"M0 0h24v24H0V0z\" fill=\"none\"/>\n",
              "    <path d=\"M18.56 5.44l.94 2.06.94-2.06 2.06-.94-2.06-.94-.94-2.06-.94 2.06-2.06.94zm-11 1L8.5 8.5l.94-2.06 2.06-.94-2.06-.94L8.5 2.5l-.94 2.06-2.06.94zm10 10l.94 2.06.94-2.06 2.06-.94-2.06-.94-.94-2.06-.94 2.06-2.06.94z\"/><path d=\"M17.41 7.96l-1.37-1.37c-.4-.4-.92-.59-1.43-.59-.52 0-1.04.2-1.43.59L10.3 9.45l-7.72 7.72c-.78.78-.78 2.05 0 2.83L4 21.41c.39.39.9.59 1.41.59.51 0 1.02-.2 1.41-.59l7.78-7.78 2.81-2.81c.8-.78.8-2.07 0-2.86zM5.41 20L4 18.59l7.72-7.72 1.47 1.35L5.41 20z\"/>\n",
              "  </svg>\n",
              "      </button>\n",
              "      \n",
              "  <style>\n",
              "    .colab-df-container {\n",
              "      display:flex;\n",
              "      flex-wrap:wrap;\n",
              "      gap: 12px;\n",
              "    }\n",
              "\n",
              "    .colab-df-convert {\n",
              "      background-color: #E8F0FE;\n",
              "      border: none;\n",
              "      border-radius: 50%;\n",
              "      cursor: pointer;\n",
              "      display: none;\n",
              "      fill: #1967D2;\n",
              "      height: 32px;\n",
              "      padding: 0 0 0 0;\n",
              "      width: 32px;\n",
              "    }\n",
              "\n",
              "    .colab-df-convert:hover {\n",
              "      background-color: #E2EBFA;\n",
              "      box-shadow: 0px 1px 2px rgba(60, 64, 67, 0.3), 0px 1px 3px 1px rgba(60, 64, 67, 0.15);\n",
              "      fill: #174EA6;\n",
              "    }\n",
              "\n",
              "    [theme=dark] .colab-df-convert {\n",
              "      background-color: #3B4455;\n",
              "      fill: #D2E3FC;\n",
              "    }\n",
              "\n",
              "    [theme=dark] .colab-df-convert:hover {\n",
              "      background-color: #434B5C;\n",
              "      box-shadow: 0px 1px 3px 1px rgba(0, 0, 0, 0.15);\n",
              "      filter: drop-shadow(0px 1px 2px rgba(0, 0, 0, 0.3));\n",
              "      fill: #FFFFFF;\n",
              "    }\n",
              "  </style>\n",
              "\n",
              "      <script>\n",
              "        const buttonEl =\n",
              "          document.querySelector('#df-26c99194-e4fc-4f7b-b832-d4714e20a920 button.colab-df-convert');\n",
              "        buttonEl.style.display =\n",
              "          google.colab.kernel.accessAllowed ? 'block' : 'none';\n",
              "\n",
              "        async function convertToInteractive(key) {\n",
              "          const element = document.querySelector('#df-26c99194-e4fc-4f7b-b832-d4714e20a920');\n",
              "          const dataTable =\n",
              "            await google.colab.kernel.invokeFunction('convertToInteractive',\n",
              "                                                     [key], {});\n",
              "          if (!dataTable) return;\n",
              "\n",
              "          const docLinkHtml = 'Like what you see? Visit the ' +\n",
              "            '<a target=\"_blank\" href=https://colab.research.google.com/notebooks/data_table.ipynb>data table notebook</a>'\n",
              "            + ' to learn more about interactive tables.';\n",
              "          element.innerHTML = '';\n",
              "          dataTable['output_type'] = 'display_data';\n",
              "          await google.colab.output.renderOutput(dataTable, element);\n",
              "          const docLink = document.createElement('div');\n",
              "          docLink.innerHTML = docLinkHtml;\n",
              "          element.appendChild(docLink);\n",
              "        }\n",
              "      </script>\n",
              "    </div>\n",
              "  </div>\n",
              "  "
            ]
          },
          "metadata": {}
        },
        {
          "output_type": "stream",
          "name": "stderr",
          "text": [
            "INFO:logs:create_model_container: 0\n",
            "INFO:logs:master_model_container: 0\n",
            "INFO:logs:display_container: 1\n",
            "INFO:logs:Pipeline(memory=None,\n",
            "         steps=[('dtypes',\n",
            "                 DataTypes_Auto_infer(categorical_features=[],\n",
            "                                      display_types=True,\n",
            "                                      features_todrop=['MouseID'],\n",
            "                                      id_columns=[], ml_usecase='regression',\n",
            "                                      numerical_features=[],\n",
            "                                      target='UNSUPERVISED_DUMMY_TARGET',\n",
            "                                      time_features=[])),\n",
            "                ('imputer',\n",
            "                 Simple_Imputer(categorical_strategy='most frequent',\n",
            "                                fill_value_categorical=None,\n",
            "                                fill_value_numer...\n",
            "                ('P_transform', 'passthrough'), ('binn', 'passthrough'),\n",
            "                ('rem_outliers', 'passthrough'), ('cluster_all', 'passthrough'),\n",
            "                ('dummy', Dummify(target='UNSUPERVISED_DUMMY_TARGET')),\n",
            "                ('fix_perfect', 'passthrough'),\n",
            "                ('clean_names', Clean_Colum_Names()),\n",
            "                ('feature_select', 'passthrough'), ('fix_multi', 'passthrough'),\n",
            "                ('dfs', 'passthrough'), ('pca', 'passthrough')],\n",
            "         verbose=False)\n",
            "INFO:logs:setup() succesfully completed......................................\n"
          ]
        }
      ]
    },
    {
      "cell_type": "markdown",
      "source": [
        "# **6- Create Models**"
      ],
      "metadata": {
        "id": "hZhwazLhr2Px"
      }
    },
    {
      "cell_type": "code",
      "source": [
        "iforest = create_model('iforest')\n"
      ],
      "metadata": {
        "id": "0qrvEA7Db-eN",
        "colab": {
          "base_uri": "https://localhost:8080/",
          "height": 393,
          "referenced_widgets": [
            "b4228d301cf24efc9a51d996defd36ac",
            "c0808e57addf41ccaf8325385965f7cb",
            "37eec6f3e5194e08b5ffcf91a6478d1c"
          ]
        },
        "outputId": "175b1620-a4ab-47db-f984-af370c7481f3"
      },
      "execution_count": 7,
      "outputs": [
        {
          "output_type": "stream",
          "name": "stderr",
          "text": [
            "INFO:logs:create_model_container: 1\n",
            "INFO:logs:master_model_container: 1\n",
            "INFO:logs:display_container: 2\n",
            "INFO:logs:IForest(behaviour='new', bootstrap=False, contamination=0.05,\n",
            "    max_features=1.0, max_samples='auto', n_estimators=100, n_jobs=-1,\n",
            "    random_state=123, verbose=0)\n",
            "INFO:logs:create_model() succesfully completed......................................\n"
          ]
        }
      ]
    },
    {
      "cell_type": "code",
      "metadata": {
        "id": "qZGSbzfZyG0s",
        "outputId": "0d2b4905-64ac-4fc3-a72a-a035c9ffc689",
        "colab": {
          "base_uri": "https://localhost:8080/"
        }
      },
      "source": [
        "print(iforest)"
      ],
      "execution_count": 8,
      "outputs": [
        {
          "output_type": "stream",
          "name": "stdout",
          "text": [
            "IForest(behaviour='new', bootstrap=False, contamination=0.05,\n",
            "    max_features=1.0, max_samples='auto', n_estimators=100, n_jobs=-1,\n",
            "    random_state=123, verbose=0)\n"
          ]
        }
      ]
    },
    {
      "cell_type": "code",
      "source": [
        "models()"
      ],
      "metadata": {
        "id": "SeOhPyiAjOPM"
      },
      "execution_count": null,
      "outputs": []
    },
    {
      "cell_type": "code",
      "source": [
        "svm = create_model('svm', fraction = 0.025)"
      ],
      "metadata": {
        "id": "JqVdzUvwC7H5"
      },
      "execution_count": null,
      "outputs": []
    },
    {
      "cell_type": "code",
      "source": [
        "print(svm)"
      ],
      "metadata": {
        "id": "hPqqE6aUDALY"
      },
      "execution_count": null,
      "outputs": []
    },
    {
      "cell_type": "markdown",
      "source": [
        "# **9- Assign a Model**"
      ],
      "metadata": {
        "id": "1ETq9k5vsKKp"
      }
    },
    {
      "cell_type": "code",
      "source": [
        "iforest_results = assign_model(iforest)\n",
        "iforest_results.head()"
      ],
      "metadata": {
        "id": "BWqkQTC69Ps6"
      },
      "execution_count": null,
      "outputs": []
    },
    {
      "cell_type": "code",
      "source": [
        "y_pred_DT=iforest_results[['Anomaly']]\n"
      ],
      "metadata": {
        "id": "2MJ02Z7nWuim"
      },
      "execution_count": null,
      "outputs": []
    },
    {
      "cell_type": "markdown",
      "source": [
        "# **10-Plot a Model**"
      ],
      "metadata": {
        "id": "vUp7JD9d9x7_"
      }
    },
    {
      "cell_type": "markdown",
      "source": [
        "## **10.1-T-distributed Stochastic Neighbor Embedding (t-SNE)**"
      ],
      "metadata": {
        "id": "PPZm028O5FN6"
      }
    },
    {
      "cell_type": "code",
      "source": [
        "plot_model(iforest)"
      ],
      "metadata": {
        "id": "Ht_cNwfy4vLD",
        "colab": {
          "base_uri": "https://localhost:8080/",
          "height": 872,
          "referenced_widgets": [
            "99ea0ab518b94e429634d564314ae0eb",
            "8221f3bdee5e47449cd4dce43418ba74",
            "4f8dde8fdc4e43e6958bcea4c670c3b4"
          ]
        },
        "outputId": "9b9b4655-b73f-4903-b159-6db52ff5c66a"
      },
      "execution_count": 13,
      "outputs": [
        {
          "output_type": "stream",
          "name": "stderr",
          "text": [
            "INFO:logs:Rendering Visual\n"
          ]
        },
        {
          "output_type": "display_data",
          "data": {
            "text/html": [
              "<html>\n",
              "<head><meta charset=\"utf-8\" /></head>\n",
              "<body>\n",
              "    <div>            <script src=\"https://cdnjs.cloudflare.com/ajax/libs/mathjax/2.7.5/MathJax.js?config=TeX-AMS-MML_SVG\"></script><script type=\"text/javascript\">if (window.MathJax) {MathJax.Hub.Config({SVG: {font: \"STIX-Web\"}});}</script>                <script type=\"text/javascript\">window.PlotlyConfig = {MathJaxConfig: 'local'};</script>\n",
              "        <script src=\"https://cdn.plot.ly/plotly-2.8.3.min.js\"></script>                <div id=\"fbb15214-97ae-416c-b311-f848a116db54\" class=\"plotly-graph-div\" style=\"height:800px; width:900px;\"></div>            <script type=\"text/javascript\">                                    window.PLOTLYENV=window.PLOTLYENV || {};                                    if (document.getElementById(\"fbb15214-97ae-416c-b311-f848a116db54\")) {                    Plotly.newPlot(                        \"fbb15214-97ae-416c-b311-f848a116db54\",                        [{\"customdata\":[[\"3501_12\"],[\"3520_5\"],[\"3414_13\"],[\"3488_8\"],[\"3501_7\"],[\"3419_14\"],[\"3522_14\"],[\"3499_11\"],[\"361_7\"],[\"365_8\"],[\"3491_11\"],[\"3429_12\"],[\"3421_5\"],[\"3490_14\"],[\"3484_11\"],[\"3522_4\"],[\"3503_3\"],[\"3415_6\"],[\"3503_10\"],[\"3522_12\"],[\"3477_15\"],[\"311_11\"],[\"293_10\"],[\"3423_3\"],[\"365_13\"],[\"50810B_9\"],[\"3507_8\"],[\"3426_15\"],[\"18899_9\"],[\"3418_12\"],[\"3417_10\"],[\"3480_10\"],[\"3505_7\"],[\"3417_5\"],[\"3478_14\"],[\"3501_14\"],[\"3479_5\"],[\"3425_11\"],[\"3423_4\"],[\"J1291_8\"],[\"50810F_4\"],[\"3490_12\"],[\"3414_3\"],[\"3522_7\"],[\"50810F_1\"],[\"3425_15\"],[\"364_11\"],[\"364_5\"],[\"50810A_2\"],[\"3505_14\"],[\"311_10\"],[\"50810A_11\"],[\"321_10\"],[\"3517_1\"],[\"3490_3\"],[\"3422_4\"],[\"3502_12\"],[\"3606_7\"],[\"362_4\"],[\"3483_13\"],[\"3498_4\"],[\"361_5\"],[\"3477_13\"],[\"3420_1\"],[\"3530_2\"],[\"3425_1\"],[\"3499_15\"],[\"3418_2\"],[\"3479_9\"],[\"3476_8\"],[\"3426_14\"],[\"3488_4\"],[\"3516_8\"],[\"3424_6\"],[\"3521_2\"],[\"3498_3\"],[\"3503_4\"],[\"3488_6\"],[\"3422_14\"],[\"3502_1\"],[\"3417_4\"],[\"3606_10\"],[\"3425_3\"],[\"3516_7\"],[\"3417_13\"],[\"3420_10\"],[\"3498_7\"],[\"J3295_5\"],[\"3481_5\"],[\"3525_5\"],[\"321_3\"],[\"3530_14\"],[\"3491_7\"],[\"3503_15\"],[\"50810F_11\"],[\"365_9\"],[\"3516_2\"],[\"3423_5\"],[\"50810E_8\"],[\"361_14\"],[\"3504_5\"],[\"3415_3\"],[\"50810C_1\"],[\"3421_10\"],[\"3414_15\"],[\"3491_3\"],[\"3480_6\"],[\"3425_14\"],[\"3479_7\"],[\"3484_6\"],[\"3488_11\"],[\"3424_1\"],[\"3422_9\"],[\"50810F_13\"],[\"50810A_5\"],[\"3513_2\"],[\"50810D_3\"],[\"3477_8\"],[\"J2292_1\"],[\"311_5\"],[\"50810C_7\"],[\"363_8\"],[\"363_6\"],[\"3530_8\"],[\"3534_9\"],[\"3503_6\"],[\"3498_11\"],[\"3503_9\"],[\"3503_2\"],[\"3534_3\"],[\"3478_5\"],[\"294_9\"],[\"50810A_8\"],[\"3525_15\"],[\"50810C_5\"],[\"361_6\"],[\"3429_2\"],[\"3418_8\"],[\"3481_1\"],[\"3419_6\"],[\"3488_1\"],[\"J2292_8\"],[\"3424_5\"],[\"3491_15\"],[\"3516_15\"],[\"3503_8\"],[\"J3295_14\"],[\"309_2\"],[\"3429_13\"],[\"3413_1\"],[\"320_5\"],[\"3517_2\"],[\"3488_2\"],[\"50810D_8\"],[\"3417_9\"],[\"3606_15\"],[\"50810D_11\"],[\"3525_14\"],[\"3424_11\"],[\"3530_10\"],[\"3418_14\"],[\"50810D_2\"],[\"3501_9\"],[\"50810E_2\"],[\"3412_3\"],[\"3426_4\"],[\"3484_3\"],[\"3498_6\"],[\"3416_9\"],[\"3413_13\"],[\"50810B_1\"],[\"3505_10\"],[\"309_1\"],[\"3525_1\"],[\"311_1\"],[\"3488_9\"],[\"3501_11\"],[\"3517_3\"],[\"3424_3\"],[\"3517_11\"],[\"362_1\"],[\"50810B_2\"],[\"309_10\"],[\"3483_1\"],[\"3479_11\"],[\"3420_11\"],[\"3499_9\"],[\"3525_11\"],[\"3499_10\"],[\"364_12\"],[\"3484_1\"],[\"3504_9\"],[\"3521_11\"],[\"50810B_10\"],[\"3606_14\"],[\"3419_2\"],[\"3476_5\"],[\"3429_5\"],[\"3417_15\"],[\"311_7\"],[\"3414_4\"],[\"3413_12\"],[\"361_9\"],[\"3520_7\"],[\"3476_11\"],[\"3505_6\"],[\"50810C_9\"],[\"J1291_5\"],[\"3422_8\"],[\"3481_7\"],[\"3522_11\"],[\"3530_11\"],[\"294_6\"],[\"3522_8\"],[\"50810F_14\"],[\"3504_11\"],[\"3520_12\"],[\"3521_13\"],[\"3423_13\"],[\"3516_9\"],[\"18899_7\"],[\"3522_1\"],[\"3489_6\"],[\"3476_7\"],[\"3414_12\"],[\"3476_6\"],[\"50810A_3\"],[\"321_12\"],[\"3419_11\"],[\"3507_5\"],[\"3516_1\"],[\"3521_9\"],[\"3499_13\"],[\"3516_11\"],[\"50810B_5\"],[\"50810B_15\"],[\"50810F_8\"],[\"294_10\"],[\"294_2\"],[\"18899_2\"],[\"3418_10\"],[\"18899_14\"],[\"18899_1\"],[\"3477_4\"],[\"3517_6\"],[\"309_7\"],[\"3520_4\"],[\"3605_5\"],[\"50810F_15\"],[\"3507_3\"],[\"3520_6\"],[\"3502_11\"],[\"3516_4\"],[\"362_2\"],[\"3426_8\"],[\"320_11\"],[\"3534_5\"],[\"3504_4\"],[\"3530_7\"],[\"365_4\"],[\"3497_9\"],[\"3477_11\"],[\"3505_5\"],[\"3517_12\"],[\"18899_13\"],[\"3426_9\"],[\"3480_11\"],[\"3500_15\"],[\"3521_10\"],[\"3503_12\"],[\"3413_6\"],[\"50810C_3\"],[\"50810C_12\"],[\"3476_3\"],[\"3497_7\"],[\"3507_4\"],[\"3606_9\"],[\"3500_6\"],[\"3521_5\"],[\"3489_10\"],[\"3418_6\"],[\"3422_5\"],[\"3419_10\"],[\"3522_13\"],[\"320_6\"],[\"365_5\"],[\"3479_14\"],[\"J2292_3\"],[\"3480_15\"],[\"3479_3\"],[\"3477_9\"],[\"293_8\"],[\"3419_4\"],[\"3503_5\"],[\"50810D_6\"],[\"3513_8\"],[\"3483_3\"],[\"361_13\"],[\"320_13\"],[\"3522_15\"],[\"3522_6\"],[\"3483_11\"],[\"J2292_5\"],[\"322_4\"],[\"3513_7\"],[\"3507_14\"],[\"3521_7\"],[\"3505_3\"],[\"294_11\"],[\"3424_12\"],[\"322_6\"],[\"3483_6\"],[\"3490_1\"],[\"3420_7\"],[\"320_7\"],[\"3412_11\"],[\"3534_14\"],[\"50810E_14\"],[\"3416_7\"],[\"294_7\"],[\"3476_9\"],[\"3478_9\"],[\"294_14\"],[\"J1291_10\"],[\"293_3\"],[\"3423_8\"],[\"3501_2\"],[\"363_5\"],[\"3502_15\"],[\"3507_7\"],[\"3489_7\"],[\"3517_9\"],[\"3522_10\"],[\"3500_9\"],[\"3411_5\"],[\"3490_10\"],[\"3520_14\"],[\"3478_10\"],[\"3499_12\"],[\"J3295_11\"],[\"3520_11\"],[\"3499_4\"],[\"3505_11\"],[\"50810F_9\"],[\"3501_13\"],[\"50810C_11\"],[\"362_3\"],[\"3521_4\"],[\"3413_8\"],[\"3415_13\"],[\"3481_11\"],[\"3507_2\"],[\"50810F_7\"],[\"322_8\"],[\"3426_12\"],[\"3488_3\"],[\"3606_6\"],[\"3490_5\"],[\"3502_6\"],[\"3423_7\"],[\"3516_13\"],[\"3507_6\"],[\"18899_5\"],[\"3413_4\"],[\"3507_10\"],[\"3425_7\"],[\"3525_12\"],[\"J1291_7\"],[\"3421_11\"],[\"3419_15\"],[\"50810C_8\"],[\"321_11\"],[\"294_8\"],[\"293_5\"],[\"3505_8\"],[\"3411_3\"],[\"3477_12\"],[\"3426_10\"],[\"3502_14\"],[\"3424_4\"],[\"3413_3\"],[\"3478_13\"],[\"311_8\"],[\"3411_2\"],[\"3505_13\"],[\"J3295_13\"],[\"3481_8\"],[\"3516_12\"],[\"3483_15\"],[\"3421_4\"],[\"J2292_11\"],[\"50810B_3\"],[\"3504_10\"],[\"363_12\"],[\"365_1\"],[\"3498_15\"],[\"309_9\"],[\"3503_7\"],[\"50810A_10\"],[\"3499_3\"],[\"3491_10\"],[\"364_1\"],[\"3605_9\"],[\"365_11\"],[\"3605_15\"],[\"50810A_7\"],[\"3478_3\"],[\"3499_7\"],[\"321_6\"],[\"294_15\"],[\"3416_13\"],[\"3413_10\"],[\"50810E_13\"],[\"3490_4\"],[\"3488_10\"],[\"364_8\"],[\"3479_8\"],[\"3481_9\"],[\"3420_2\"],[\"311_14\"],[\"3413_15\"],[\"3411_15\"],[\"3490_8\"],[\"3520_15\"],[\"363_9\"],[\"3499_1\"],[\"3479_10\"],[\"3497_15\"],[\"3497_11\"],[\"3521_3\"],[\"3513_5\"],[\"3425_13\"],[\"3530_6\"],[\"18899_10\"],[\"3423_14\"],[\"3423_12\"],[\"3476_10\"],[\"3498_10\"],[\"3502_7\"],[\"3489_14\"],[\"50810C_13\"],[\"3513_1\"],[\"3416_10\"],[\"309_5\"],[\"3420_15\"],[\"3478_1\"],[\"293_12\"],[\"3501_1\"],[\"3497_14\"],[\"3415_4\"],[\"3484_12\"],[\"50810F_2\"],[\"3606_2\"],[\"3483_8\"],[\"3419_3\"],[\"3414_14\"],[\"3513_12\"],[\"311_2\"],[\"3480_5\"],[\"364_15\"],[\"322_9\"],[\"3490_15\"],[\"365_14\"],[\"50810A_12\"],[\"J2292_14\"],[\"364_13\"],[\"3418_15\"],[\"294_1\"],[\"3418_4\"],[\"J2292_13\"],[\"50810D_12\"],[\"50810D_4\"],[\"3477_1\"],[\"3425_9\"],[\"3481_2\"],[\"3414_10\"],[\"3516_5\"],[\"J2292_7\"],[\"309_11\"],[\"3489_12\"],[\"293_4\"],[\"3423_15\"],[\"3507_13\"],[\"3500_3\"],[\"3521_14\"],[\"3412_1\"],[\"3426_7\"],[\"50810B_11\"],[\"3416_1\"],[\"3505_2\"],[\"3483_10\"],[\"3489_1\"],[\"3502_4\"],[\"3415_7\"],[\"J2292_6\"],[\"3416_3\"],[\"322_2\"],[\"364_4\"],[\"3422_10\"],[\"3497_13\"],[\"3412_5\"],[\"50810A_4\"],[\"3479_6\"],[\"3499_6\"],[\"311_15\"],[\"361_12\"],[\"3501_6\"],[\"3423_11\"],[\"3534_2\"],[\"311_6\"],[\"3489_4\"],[\"3530_9\"],[\"3489_3\"],[\"3412_13\"],[\"3516_10\"],[\"362_13\"],[\"3606_5\"],[\"363_3\"],[\"J2292_15\"],[\"J2292_12\"],[\"361_15\"],[\"3605_7\"],[\"3605_1\"],[\"3412_14\"],[\"3412_8\"],[\"3426_2\"],[\"3498_13\"],[\"J3295_3\"],[\"3481_14\"],[\"3479_13\"],[\"3488_14\"],[\"3483_9\"],[\"3426_13\"],[\"3498_1\"],[\"362_8\"],[\"3415_10\"],[\"320_14\"],[\"361_10\"],[\"3525_8\"],[\"293_13\"],[\"3412_9\"],[\"3517_5\"],[\"3522_3\"],[\"3477_7\"],[\"3476_2\"],[\"3476_1\"],[\"320_10\"],[\"3605_13\"],[\"365_15\"],[\"3414_6\"],[\"3504_2\"],[\"3484_10\"],[\"3415_2\"],[\"3517_4\"],[\"3530_3\"],[\"3480_7\"],[\"3476_14\"],[\"J1291_15\"],[\"3421_8\"],[\"3489_15\"],[\"3422_6\"],[\"3500_12\"],[\"3606_4\"],[\"294_4\"],[\"3477_2\"],[\"3505_12\"],[\"J3295_12\"],[\"3504_3\"],[\"3418_3\"],[\"3420_14\"],[\"320_1\"],[\"50810F_10\"],[\"50810E_1\"],[\"3516_6\"],[\"50810B_4\"],[\"3483_7\"],[\"3484_13\"],[\"3605_14\"],[\"50810C_10\"],[\"3413_9\"],[\"50810B_6\"],[\"3420_5\"],[\"293_11\"],[\"18899_11\"],[\"3513_14\"],[\"3417_3\"],[\"3507_15\"],[\"J1291_11\"],[\"3416_14\"],[\"3415_11\"],[\"361_2\"],[\"3424_13\"],[\"3416_6\"],[\"3490_9\"],[\"3419_5\"],[\"3418_7\"],[\"3521_8\"],[\"3421_9\"],[\"3491_1\"],[\"3525_2\"],[\"3522_9\"],[\"J1291_9\"],[\"50810B_8\"],[\"J2292_2\"],[\"3415_14\"],[\"50810D_5\"],[\"321_1\"],[\"J1291_2\"],[\"293_14\"],[\"50810B_14\"],[\"294_12\"],[\"3490_6\"],[\"3419_13\"],[\"309_3\"],[\"362_6\"],[\"J3295_7\"],[\"3513_4\"],[\"3497_10\"],[\"3420_6\"],[\"3414_2\"],[\"3477_14\"],[\"365_7\"],[\"3420_13\"],[\"293_15\"],[\"50810E_9\"],[\"3605_4\"],[\"J1291_1\"],[\"50810A_9\"],[\"3534_15\"],[\"3477_3\"],[\"18899_3\"],[\"J1291_3\"],[\"3417_7\"],[\"3426_6\"],[\"3415_8\"],[\"3517_13\"],[\"3413_11\"],[\"3530_4\"],[\"3421_6\"],[\"3490_11\"],[\"3498_5\"],[\"J3295_4\"],[\"3521_6\"],[\"3502_13\"],[\"J3295_2\"],[\"3480_1\"],[\"J1291_14\"],[\"3478_8\"],[\"3417_1\"],[\"3424_7\"],[\"3424_14\"],[\"3606_13\"],[\"3491_14\"],[\"3420_8\"],[\"3411_4\"],[\"50810E_3\"],[\"3491_9\"],[\"3479_4\"],[\"50810E_15\"],[\"3412_4\"],[\"322_15\"],[\"3504_7\"],[\"3478_15\"],[\"J2292_9\"],[\"3421_1\"],[\"50810D_15\"],[\"3521_1\"],[\"50810F_5\"],[\"3507_11\"],[\"50810B_7\"],[\"3481_12\"],[\"3513_13\"],[\"3606_12\"],[\"3504_13\"],[\"321_15\"],[\"362_9\"],[\"3484_9\"],[\"3491_8\"],[\"322_10\"],[\"3525_3\"],[\"3426_11\"],[\"361_4\"],[\"363_4\"],[\"J1291_4\"],[\"J1291_12\"],[\"3513_15\"],[\"363_14\"],[\"J2292_4\"],[\"311_12\"],[\"3605_11\"],[\"320_12\"],[\"3521_12\"],[\"3414_11\"],[\"320_15\"],[\"361_11\"],[\"3414_9\"],[\"363_10\"],[\"J3295_1\"],[\"321_14\"],[\"3418_11\"],[\"363_7\"],[\"3491_13\"],[\"3490_13\"],[\"3483_4\"],[\"311_13\"],[\"365_10\"],[\"3534_6\"],[\"50810F_12\"],[\"18899_4\"],[\"50810C_14\"],[\"321_5\"],[\"3534_8\"],[\"3413_5\"],[\"3411_7\"],[\"3412_2\"],[\"3429_6\"],[\"3504_12\"],[\"3424_15\"],[\"3484_15\"],[\"50810E_11\"],[\"3500_4\"],[\"3499_5\"],[\"3411_9\"],[\"3422_12\"],[\"365_12\"],[\"322_5\"],[\"3419_12\"],[\"3489_9\"],[\"361_3\"],[\"3498_14\"],[\"362_7\"],[\"3489_11\"],[\"322_11\"],[\"322_1\"],[\"3415_1\"],[\"3489_2\"],[\"3534_10\"],[\"3426_3\"],[\"3411_8\"],[\"3421_15\"],[\"3483_5\"],[\"3411_13\"],[\"3413_2\"],[\"3497_4\"],[\"3501_4\"],[\"322_13\"],[\"3412_10\"],[\"364_9\"],[\"18899_6\"],[\"3412_7\"],[\"3412_15\"],[\"50810F_3\"],[\"363_11\"],[\"3525_10\"],[\"3488_5\"],[\"3423_2\"],[\"3507_9\"],[\"3414_8\"],[\"3429_14\"],[\"3424_8\"],[\"3420_4\"],[\"320_9\"],[\"3517_7\"],[\"3429_7\"],[\"3417_6\"],[\"3530_1\"],[\"3476_12\"],[\"J3295_9\"],[\"363_1\"],[\"3498_12\"],[\"3429_9\"],[\"3412_6\"],[\"3476_4\"],[\"3423_9\"],[\"3503_11\"],[\"293_6\"],[\"3480_4\"],[\"3480_14\"],[\"3498_2\"],[\"3483_2\"],[\"3490_7\"],[\"3513_3\"],[\"361_1\"],[\"3525_6\"],[\"363_2\"],[\"3424_2\"],[\"293_1\"],[\"3507_1\"],[\"3517_10\"],[\"3411_10\"],[\"3480_9\"],[\"311_9\"],[\"3476_13\"],[\"3534_13\"],[\"50810C_4\"],[\"3530_12\"],[\"3522_5\"],[\"3422_2\"],[\"3522_2\"],[\"3497_1\"],[\"3413_7\"],[\"3517_14\"],[\"3479_12\"],[\"3498_9\"],[\"3491_2\"],[\"3502_2\"],[\"50810B_13\"],[\"362_14\"],[\"3497_3\"],[\"3520_1\"],[\"3489_13\"],[\"365_6\"],[\"50810D_13\"],[\"3498_8\"],[\"3414_7\"],[\"362_15\"],[\"3477_10\"],[\"3500_14\"],[\"3490_2\"],[\"322_7\"],[\"3477_5\"],[\"309_4\"],[\"321_7\"],[\"3530_5\"],[\"50810E_5\"],[\"3491_4\"],[\"3414_1\"],[\"3429_4\"],[\"3425_2\"],[\"3429_15\"],[\"3478_7\"],[\"309_13\"],[\"3605_8\"],[\"320_2\"],[\"3497_5\"],[\"3423_1\"],[\"3481_4\"],[\"3491_6\"],[\"3420_12\"],[\"3422_3\"],[\"322_14\"],[\"50810D_14\"],[\"3497_2\"],[\"3478_12\"],[\"3426_5\"],[\"3424_9\"],[\"3418_9\"],[\"3513_11\"],[\"3503_1\"],[\"3422_13\"],[\"3606_11\"],[\"3501_5\"],[\"3525_9\"],[\"50810E_4\"],[\"3500_5\"],[\"3421_7\"],[\"50810D_10\"],[\"3418_13\"],[\"309_12\"],[\"362_12\"],[\"3478_11\"],[\"3479_1\"],[\"3484_2\"],[\"3606_3\"],[\"3417_2\"],[\"3534_1\"],[\"3605_12\"],[\"3488_13\"],[\"3491_5\"],[\"3429_11\"],[\"3497_8\"],[\"3423_10\"],[\"3429_10\"],[\"3504_8\"],[\"3420_9\"],[\"3426_1\"],[\"3481_3\"],[\"3491_12\"],[\"322_12\"],[\"50810A_6\"],[\"362_11\"],[\"3425_10\"],[\"3500_2\"],[\"3489_8\"],[\"3513_6\"],[\"364_3\"],[\"3499_2\"],[\"J3295_8\"],[\"J1291_13\"],[\"3479_15\"],[\"3605_3\"],[\"3419_1\"],[\"362_10\"],[\"311_4\"],[\"3480_12\"],[\"3481_10\"],[\"293_7\"],[\"3500_10\"],[\"320_8\"],[\"50810A_14\"],[\"J3295_6\"],[\"293_9\"],[\"364_2\"],[\"3476_15\"],[\"3478_6\"],[\"3530_15\"],[\"3503_13\"],[\"3416_12\"],[\"3425_12\"],[\"362_5\"],[\"50810A_1\"],[\"3419_9\"],[\"3525_4\"],[\"3484_14\"],[\"3525_7\"],[\"3500_8\"],[\"3425_5\"],[\"3478_2\"],[\"3502_10\"],[\"3416_5\"],[\"363_15\"],[\"50810C_6\"],[\"3422_1\"],[\"361_8\"],[\"50810D_9\"],[\"3480_2\"],[\"3413_14\"],[\"3425_6\"],[\"3516_3\"],[\"3520_9\"],[\"3429_3\"],[\"3415_9\"],[\"322_3\"],[\"3505_9\"],[\"3500_13\"],[\"3421_2\"],[\"3502_3\"],[\"320_3\"],[\"3480_8\"],[\"3530_13\"],[\"3605_2\"],[\"J3295_10\"],[\"50810B_12\"],[\"363_13\"],[\"3480_3\"],[\"293_2\"],[\"3417_11\"],[\"3534_11\"],[\"3421_12\"],[\"3488_15\"],[\"3480_13\"],[\"3507_12\"],[\"J3295_15\"],[\"3417_8\"],[\"3502_5\"],[\"309_15\"],[\"3504_14\"],[\"3504_15\"],[\"50810E_10\"],[\"3477_6\"],[\"321_9\"],[\"364_14\"],[\"3484_5\"],[\"3520_2\"],[\"3416_11\"],[\"3416_8\"],[\"3484_8\"],[\"50810D_7\"],[\"3417_14\"],[\"3505_4\"],[\"3520_8\"],[\"3504_6\"],[\"3416_4\"],[\"320_4\"],[\"294_5\"],[\"3415_5\"],[\"309_8\"],[\"294_13\"],[\"321_2\"],[\"3505_15\"],[\"50810E_12\"],[\"3516_14\"],[\"3481_15\"],[\"50810C_2\"],[\"50810A_15\"],[\"309_14\"],[\"3503_14\"],[\"3411_12\"],[\"3501_15\"],[\"3499_14\"],[\"3411_6\"],[\"3411_1\"],[\"321_13\"],[\"3505_1\"],[\"3500_11\"],[\"18899_12\"],[\"J1291_6\"],[\"3500_7\"],[\"3521_15\"],[\"3605_6\"],[\"3534_7\"],[\"3489_5\"],[\"3422_7\"],[\"3520_10\"],[\"365_3\"],[\"18899_15\"],[\"3424_10\"],[\"321_8\"],[\"3425_4\"],[\"3500_1\"],[\"3481_13\"],[\"3517_15\"],[\"3483_12\"],[\"3421_14\"],[\"3418_5\"],[\"3513_9\"],[\"294_3\"],[\"3421_3\"],[\"3497_12\"],[\"3534_12\"],[\"3488_12\"],[\"3416_2\"],[\"50810F_6\"],[\"3488_7\"],[\"3429_1\"],[\"3478_4\"]],\"hovertemplate\":\"0=%{x}<br>1=%{y}<br>2=%{z}<br>Feature=%{customdata[0]}<br>Anomaly=%{marker.color}<extra></extra>\",\"legendgroup\":\"\",\"marker\":{\"color\":[0,0,0,0,0,0,0,0,0,0,0,0,0,0,0,0,0,0,0,0,0,1,0,0,0,0,0,0,0,0,0,0,0,0,0,0,0,0,0,0,0,0,0,0,0,1,0,0,1,0,0,0,0,1,0,0,0,0,0,0,0,0,0,0,0,0,0,0,0,0,0,0,0,0,0,0,0,0,0,0,0,0,0,0,0,0,0,0,0,0,0,0,0,0,0,0,0,0,0,0,0,0,0,0,0,0,0,0,0,0,0,0,0,0,0,0,0,0,0,0,0,0,0,0,0,0,0,0,0,0,0,0,0,0,0,0,0,0,0,0,0,0,0,0,1,0,1,0,0,0,0,0,0,0,0,0,0,0,0,0,0,0,0,0,0,0,1,0,0,1,0,0,0,0,0,0,0,0,0,0,0,0,0,0,0,1,0,0,0,0,1,0,0,1,0,0,0,0,0,0,0,0,0,0,0,0,0,0,0,0,0,0,0,0,0,0,0,0,0,0,0,0,0,0,0,0,1,0,0,0,0,0,0,1,0,0,0,0,0,0,0,0,0,0,0,0,0,0,0,0,0,0,0,0,0,0,0,0,0,0,0,0,0,0,0,0,0,0,0,0,0,0,0,0,0,0,0,0,0,0,0,0,0,0,0,0,0,0,0,0,0,0,0,0,0,0,0,0,0,0,0,0,0,0,0,0,0,0,0,0,0,0,0,0,0,0,0,0,0,0,0,0,0,0,0,0,0,0,1,0,0,0,0,0,0,0,0,0,0,0,0,0,0,0,0,0,0,0,0,1,0,0,0,0,0,0,0,0,0,0,1,0,0,0,0,0,0,0,0,0,0,0,0,0,0,0,0,0,1,1,0,0,0,0,0,1,0,1,0,0,0,0,0,0,0,0,0,0,0,0,0,0,0,0,1,0,0,0,0,0,0,0,0,0,0,0,0,0,0,0,0,0,0,0,0,0,0,0,1,0,0,0,0,0,0,0,0,0,0,0,0,0,0,0,1,0,0,0,0,0,0,0,0,0,0,0,0,0,0,0,0,0,0,0,0,0,0,0,0,0,0,0,0,0,0,0,0,0,0,0,0,0,0,0,0,0,0,0,0,0,0,0,0,0,0,0,0,0,0,0,0,0,0,0,0,0,0,0,0,0,0,0,0,1,1,0,0,0,0,0,0,0,0,0,0,0,0,0,0,0,0,0,0,0,0,0,0,0,0,0,0,0,0,0,0,0,0,0,0,0,0,0,0,0,0,0,0,0,0,0,0,0,0,0,0,0,0,0,0,1,1,1,0,0,0,0,1,0,0,0,0,0,0,0,0,0,0,0,0,0,0,0,0,0,0,0,0,0,0,1,0,0,0,0,1,0,0,0,0,0,0,0,0,0,0,0,0,0,0,0,0,0,1,0,0,0,0,0,0,0,0,0,0,0,0,1,0,0,0,0,0,0,0,0,0,0,0,0,0,0,0,0,0,0,0,0,0,0,0,0,0,0,0,0,0,0,0,0,0,0,0,0,0,0,0,0,0,0,0,1,0,0,0,0,0,0,0,0,0,0,0,0,0,0,0,0,0,0,0,0,0,0,0,0,1,0,0,0,0,0,0,0,0,0,0,0,0,0,1,0,0,0,0,0,0,0,0,0,0,0,0,0,0,0,0,0,0,0,0,0,0,0,0,1,0,0,0,0,0,0,0,0,0,0,0,0,0,0,0,0,0,0,1,0,0,0,0,0,0,0,0,0,0,0,0,0,0,1,0,0,0,0,0,1,0,0,0,0,1,0,0,0,0,0,0,0,0,0,0,1,0,0,0,0,0,0,0,0,0,0,0,0,0,0,0,0,0,0,0,0,0,0,0,0,0,0,0,0,0,0,0,0,0,1,0,0,0,0,0,0,0,0,0,0,0,0,0,0,0,0,0,0,0,0,0,0,0,0,0,0,0,0,1,0,0,0,0,0,0,0,0,0,0,0,0,0,0,0,0,0,0,0,0,0,0,0,0,0,0,0,0,0,0,0,0,0,0,0,0,0,0,0,0,0,0,0,0,0,0,0,1,0,0,0,0,0,0,0,0,0,0,0,0,0,0,0,0,0,0,0,0,0,0,0,0,0,0,1,0,0,0,1,0,0,0,0,0,0,0,0,0,0,1,0,0,0,0,0,0,0,0,0,0,0,0,0,0,0,0,0,0,0,0,0,0,0,0,0,0,0,0,1,0,0,0,0,0,0,1,0,0,0,0,1,0,0,0,0,0,0,0,0,0,0,0,1,0,0,0,0,0,0,0,0,0,0,0,0,0,0,0,0,0,0,0,0],\"coloraxis\":\"coloraxis\",\"opacity\":0.7,\"symbol\":\"circle\"},\"mode\":\"markers\",\"name\":\"\",\"scene\":\"scene\",\"showlegend\":false,\"x\":[-6.494343,-8.174091,-0.45598742,4.692933,-7.3670373,8.251486,-0.8048954,5.4900894,-4.7445493,4.9967136,0.09203895,8.691278,8.421659,11.128089,-5.956163,-3.3281348,6.429913,-7.6704264,5.182755,-1.5394201,-8.738817,-11.899912,12.924862,-2.0193176,4.151318,6.165219,-9.736003,2.5748696,-16.405903,-6.8078027,12.24171,5.597493,-5.080388,10.526807,0.123800576,-4.5119004,1.1926941,8.874562,-0.66077095,10.445275,-15.887322,2.712824,-2.913636,-2.5571113,-16.16223,9.679147,2.569202,5.565239,-9.443115,-3.3026996,-11.455399,6.0933623,-14.607211,-5.751811,-0.14239013,3.2383919,-8.809098,7.7181587,7.7451067,8.500906,3.217539,-6.1413555,-7.8655233,8.325995,-3.7723198,5.1127644,7.728543,-5.2673306,3.292882,-1.6118906,2.4770923,5.019796,15.117949,1.0934339,-8.960603,2.700935,5.808651,4.337147,3.1029193,-7.793646,10.423768,7.732154,5.6758614,15.411459,13.062299,0.6248461,3.012907,7.762346,0.7710722,-9.694723,-13.223695,-2.6510987,0.3083925,5.202408,-15.806162,5.0629554,14.207711,-1.0220159,-0.98311114,-2.2018611,3.9550622,-9.196852,-6.6556993,10.672494,-0.65402067,-2.5913332,3.6922688,8.998973,3.2624457,-6.1851482,4.356436,1.1309148,2.5359297,-16.957706,-7.6606855,-3.2175272,-7.5253396,-9.164534,1.6586002,-13.003716,-3.0748072,-3.7346702,-3.707081,-2.4694762,-2.5383773,6.2904525,2.338374,6.068389,6.1721783,-4.6626444,-9.753402,2.6977847,4.2928357,-8.745316,-4.6311502,-6.1920905,5.145637,-5.2375107,0.41818455,9.321037,3.1791914,0.72245723,1.1313134,1.1242582,15.407801,6.0244064,11.525608,-7.354946,9.453688,11.737497,-14.267816,-5.0603595,3.131693,4.059548,11.7024555,6.6047425,5.192761,-8.514926,0.5980265,-1.234029,-6.370325,-7.535616,-8.302127,-4.6154723,5.708933,-0.91189635,-7.1328125,2.5499527,-0.38547236,11.523593,6.377903,-3.813154,-7.581248,-10.015697,-13.552382,4.644486,-6.4749265,-4.5988045,0.45214856,-4.3304744,7.890559,6.401063,-5.715677,5.671968,-0.53986907,0.4966131,4.01548,-8.9814825,5.575921,2.728626,-7.49351,5.065061,-6.4514728,9.535371,6.2522144,8.185908,-1.7097329,5.890581,13.251767,-12.383687,-0.82096064,10.985763,-4.3479114,-7.0764275,0.6372485,-4.8842244,-3.0880442,10.4212475,2.9997873,0.9578444,-1.5573344,-1.1679217,2.9713356,-2.3088808,-17.10914,6.011757,-4.5994964,-5.7780514,1.3146743,14.599879,-16.01904,-9.095668,3.6993551,-1.255018,-2.0827765,-2.1730433,-9.13527,-14.2227745,8.773312,-8.847866,14.319522,-6.2732086,7.26847,15.288014,6.4234004,7.3724413,-16.732151,0.33159748,4.320852,-15.627205,-6.497685,-17.210665,-15.489323,-10.2793,-3.6561806,-5.8985066,-8.468369,-3.7255898,-16.999529,-8.960521,-8.328129,-8.649729,14.831724,8.044092,2.252672,-14.813949,-3.7770188,3.52765,-2.7581556,4.988204,-12.62578,-8.82638,-5.2774496,-3.0928714,-17.110594,1.5480132,5.7654934,2.8715336,-6.176702,6.0114446,11.849727,-6.5741954,-1.8682631,-4.143185,-13.177323,-8.776376,7.760127,5.346494,-7.699455,2.811606,-4.287758,2.69792,8.342306,-1.4338442,-14.70289,4.349046,1.3958677,1.6016978,6.712553,1.5394901,-10.092247,13.025898,8.608047,6.6027064,3.0436232,-1.6156931,5.720352,-2.3595233,-15.2385435,-1.0847297,-2.770391,8.459167,1.329875,-10.674975,-2.1228006,-10.554918,-7.2513437,-7.6758614,0.41794455,0.6940181,-11.2351675,6.468381,0.5942005,8.159259,-14.089529,2.5712523,-2.0307631,0.8300374,0.35913113,1.8307585,-1.5575794,-9.188772,-0.56548655,11.3609085,11.622553,0.5041305,-8.510078,-4.223748,-7.5343704,-9.2763815,2.8569136,-3.3666277,-1.8020751,4.992391,-3.6193402,11.121681,-4.032851,-0.41804326,5.009967,10.661168,-5.0627,2.5900774,-4.097599,-16.149466,-4.369072,-2.1488118,8.330097,-7.8266516,11.465704,11.189693,0.5636262,-8.671898,-16.457815,-11.84874,2.2167177,3.0840547,8.15929,1.8087845,-8.713822,0.27865002,15.9171505,-9.242157,-16.046383,11.753858,-9.5337305,7.1389666,-9.488027,10.6977215,10.289449,8.081718,-3.1449618,-14.510386,2.2433279,12.62938,-4.4470215,-3.1945477,-9.372191,2.0883512,-7.3433185,11.186659,11.761901,0.33595505,-12.532905,-3.9704075,-3.154181,11.256585,1.1416419,14.869142,8.162567,8.313683,-0.12263865,6.405949,5.789921,-3.1246612,5.283855,2.5892549,-4.7718,5.625267,5.2059536,-5.871029,-0.34851432,5.7193627,-3.3034,4.139243,-2.53073,3.8941786,-11.761075,4.746899,-13.047746,-0.39607155,-0.92949295,11.710782,1.0294539,1.8119243,5.0085325,5.061334,3.306947,0.46492776,8.32345,-10.651378,10.621242,-1.1769646,3.074033,-4.280482,-3.4428344,-5.7117553,-0.31837615,-11.080109,7.7923455,-8.812605,-2.224247,8.584453,-3.0041656,-16.267279,0.5423436,1.056965,0.55283165,2.6652582,-7.4004936,2.4554112,-0.8781971,-3.1877615,5.7955346,-5.9376683,0.1165672,-10.993866,13.416663,-8.046467,8.689825,-7.2131457,-6.092939,-16.491861,8.280922,7.356113,8.901893,-0.5364774,0.073032536,-13.434225,3.5297709,1.9966475,-11.534202,2.73282,3.6557074,6.4548316,-0.4917702,3.699604,-6.397203,4.332848,-5.908421,0.13979419,5.6882453,2.8688903,-11.391417,8.234469,0.2882471,-0.88693166,14.362082,0.73695964,-5.238594,3.4861615,11.950741,0.6790453,-11.058155,5.6184397,-5.930941,5.5442433,0.9804512,9.215789,0.28543073,-7.85264,8.662746,1.422221,-7.5579457,1.7577822,1.4112653,-0.27091366,-10.412011,5.3631716,3.2343843,-10.801181,4.9383316,-7.7786994,0.9450102,2.3760955,-10.743557,-2.951145,-8.935188,0.6733208,-4.6534824,-13.041242,2.5528116,-2.1851854,1.8094141,1.1517643,15.679882,4.923723,8.275479,-5.008591,-0.017634707,-0.43998995,-1.9635817,-2.5219827,-3.647556,0.96323395,3.7162964,-1.4859666,2.6008282,6.4451365,0.55843705,1.5657696,3.9903572,6.8114457,2.4856646,3.1761632,7.3989167,3.560848,-15.914099,-2.8265355,-9.354963,13.747613,3.5541153,-3.6660244,-9.114068,-8.720227,-4.054247,-4.0275507,-14.823332,-2.389505,4.066112,-1.6024818,2.9072177,-6.4865613,-8.931666,-5.3317943,-4.4304175,4.5102177,0.64626,12.17502,9.453921,3.6492932,2.1014671,4.2102833,8.045356,3.3683596,-11.78602,-2.9582927,10.749995,2.9827926,-4.675428,0.2548322,-14.146465,-15.978664,-4.4317408,14.247202,6.1911583,7.0020914,-7.760398,-2.5931654,-1.7846693,11.864783,6.2350354,8.206571,13.945226,-16.463013,-0.45921507,10.326979,-10.743679,11.693282,6.1855693,3.1653125,-7.2150683,0.8152846,-0.47054702,2.9537013,8.461899,-5.855754,-6.8608727,9.37245,-2.2776775,-10.589667,-1.9610932,10.919812,6.4473844,1.7952044,11.166241,3.3317347,-12.822767,9.173273,14.270349,7.4813447,0.3643174,1.1160221,7.8015337,-7.3312297,8.059509,8.865378,-2.5638397,-11.32434,9.59448,-2.6337373,-8.177149,4.9501276,0.16030112,14.293744,-0.8296891,-2.8492367,9.336578,4.411441,-1.6767031,-11.983002,-15.67937,9.4368515,11.022191,-0.48603246,1.9344654,-4.584119,11.379708,-3.5048788,8.469043,11.112325,2.0738814,7.3638215,-7.477147,-7.145687,6.6701403,2.7039025,12.004889,-9.041438,9.9849415,2.2840383,0.21826208,7.212018,0.35730812,9.145131,-3.2113266,-4.826856,1.0234921,1.4742103,0.6582213,4.967453,-13.131555,4.449184,0.19093692,0.4089454,7.6980944,6.212495,-8.936166,-15.963177,-9.817506,6.5708127,0.259548,-0.7214755,7.3684387,7.0485873,-15.020315,6.918297,-5.116752,0.62406516,-11.6609125,-11.096372,2.655502,-5.72184,-3.9659858,10.0014715,11.801949,0.15640922,-3.058986,0.4182707,-11.5539,-2.7825062,-15.335468,-6.7954493,-1.7059838,-15.998584,-2.8708754,-1.7172819,-3.4063802,6.5101748,-15.143757,-5.6306977,-4.1023564,-0.084325396,11.131676,6.7624617,-10.346895,4.511546,-4.0337543,-15.582996,-15.77781,-1.0511022,-12.9322405,-2.835214,11.757424,-3.2706425,5.6452336,5.931489,5.9760385,0.44549146,-7.8043957,0.8269077,5.068597,2.488187,-1.9945451,2.634466,4.1321354,-10.922912,8.635683,3.780296,-7.3129377,2.0118768,7.410004,3.236015,-11.905028,-9.979959,-8.853767,1.5032234,-1.6515435,-1.556733,-2.557793,11.060338,6.6915293,-1.4723506,11.998463,-13.475118,-7.5946975,-12.24649,2.555771,4.8741035,-16.056023,3.6691113,1.0425776,-16.841976,-3.6506717,-8.472732,4.313557,-1.457009,-9.784168,-1.796018,9.208471,1.7532777,8.100304,-15.059374,-5.7844014,7.4921412,10.949646,-3.6995482,1.2222939,9.06417,-5.025198,1.9609989,7.166509,5.2034955,-1.5416827,0.122433476,5.789465,12.433797,3.296908,6.5220785,2.7142177,5.7280335,-3.3744655,-3.1527948,-7.114679,-10.621805,-4.9705715,0.7127845,11.760318,-8.952223,-5.703064,-1.7727029,4.979017,-12.570982,0.8750217,-1.6861691,-4.498767,-1.4284562,-3.2305624,2.067693,-9.099014,-13.623587,11.9113455,-3.78952,-0.50908226,2.427613,-2.3698957,-8.355099,7.6766996,5.174949,-13.371243,-9.253657,2.629486,5.2023997,5.470853,2.2440786,-0.92626756,5.605746,-8.495855,3.0885978,0.099826835,-11.186,-10.419476,-6.2809086,-13.074219,-3.07131,-2.0240512,-1.2654108,-2.1296465,6.5192537,5.43416,9.044549,-1.8077207,-5.208857,-2.9424305,-14.336013,-13.2879095,-1.2392145,0.7391456,-0.55167806,0.67334276,1.7852975,-12.956509,5.9392443,-13.337101,-0.5642211,0.44392547,1.8892846,-3.7716007,0.2035622,6.0781183,3.808868,6.909998,-8.101841,-10.005322,-2.083616,5.445791,9.619867,4.787127,-6.4813013,-4.8139963,6.1289263,-0.18975128,1.8144646,-6.965922,8.291229,10.136694,-4.6825256,-3.0011504,4.8206844,-1.0451616,8.965253,7.7035413,0.45635456,9.24505,4.837377,9.455339,-1.9281973,-0.075228795,0.33644247,-12.32921,3.8921096,6.3924937,8.098413,5.5954123,3.503283,-0.4108163,6.2089252,-5.871534,8.792885,11.862687,1.3482647,-4.3195066,8.236606,5.8954105,-13.025529,5.8883786,0.5025512,12.649713,3.6446357,-14.6370125,6.83076,7.6494584,12.16851,5.8211074,1.4318136,-10.023677,-2.5079722,5.060267,5.459373,8.98503,7.4252586,-9.638964,9.132362,-9.248741,-7.7630415,-8.659135,4.902701,6.692623,-11.450661,-8.542184,-0.13659027,-2.9778302,-4.043236,2.5289538,-4.524911,4.5071754,2.7091355,11.055814,6.682881,14.005175,-6.9355083,5.20375,1.6099476,-10.601964,-3.6907115,2.6798265,7.649505,-8.853068,-14.642412,4.672092,-2.119839,-4.2393794,10.726353,8.972105,-2.8445597,2.9631412,11.958979,12.569927,-1.6167641,10.041751,4.089832,6.5377207,-10.592529,11.528244,11.374611,-7.9312153,-4.6017427,7.2224092,7.144049,0.8213364,-11.105263,-13.327127,4.3251505,-6.191436,-9.371064,5.9860854,0.13604875,-5.4473486,3.612861,13.332594,-5.6036897,-6.9055324,3.7240489,0.31345153,-14.00544,3.3096664,-7.6373034,-5.2911763,-0.031234488,-12.597992,-2.8346558,1.1425769,15.806638,0.17694901,-6.736705,6.686112,-4.8422017,5.322423,-1.23037,-4.671309,7.6753883,-1.9018131,-4.1904736,-14.671372,-7.988833,3.7157178,-17.221199,9.983013,4.493266,-5.9795732,-3.9187703,-2.3298826,3.2133627,3.211018,-4.875112,5.3844147,-17.811773,1.0483975,-13.323627,6.218876,5.572535,0.35748592,-2.8196704,8.225763,10.786184,-5.0568867,-0.67831814,4.1710052,7.6083927,-11.581104,-2.0000606,4.439343,-0.12512764,-16.782394,4.9989443,5.6877737,-9.524323],\"y\":[17.70645,-6.905116,-16.42968,6.06227,14.94379,19.088928,-7.090825,-11.636858,-9.038286,16.004978,4.416698,-16.180176,-2.1640413,-2.0429156,-19.994541,-10.333857,8.344536,-7.3533435,5.79091,-7.544801,2.6135917,-7.981832,3.5549524,13.415706,19.540888,-19.212051,0.12352436,0.5555773,-3.9360404,5.376051,-6.4561214,-12.372639,-14.533199,-5.8766174,-8.999314,18.42403,-11.349053,-5.558417,13.89032,-0.8214103,-9.255605,17.425884,-16.601242,-10.108593,-9.31252,-6.365068,20.140621,15.782418,-5.831399,-13.866855,-9.114322,-6.2115407,-0.6024444,4.877275,11.58801,6.978666,14.455559,6.3507457,5.132299,-11.861981,-20.217371,-9.576377,1.4751863,14.799992,14.73063,-1.9847828,-11.406378,4.450357,-10.745351,-4.634373,0.23020327,6.85733,-0.5820403,14.352222,-10.724604,-19.7776,6.8562603,7.193102,3.4493155,12.967951,-5.330046,5.1157827,-2.587651,-0.41849893,-6.9726763,18.969538,-19.762749,-0.47199887,11.276426,10.187767,-4.798611,19.17689,1.6726433,6.0223236,-7.6230235,16.023487,0.81757814,13.828224,-10.095456,-6.937646,-15.0035515,-8.563962,-11.449299,-4.852235,-16.42715,0.34718698,-12.8287325,-6.3390164,-10.750186,-19.373678,4.9579873,13.109128,5.6779766,-6.272568,-5.657688,1.8625995,-7.15526,0.61022717,0.5485355,-11.296966,-11.95518,-3.4305956,-3.720926,16.596338,18.479692,8.247441,-18.995749,7.5752707,7.7630696,16.831806,-4.3677936,14.479986,-5.111663,11.448658,-11.862599,-9.658266,-18.486374,5.890587,11.047802,16.429638,8.996009,2.5698764,14.056684,4.916737,-2.7925253,7.211598,-3.9963436,-14.137605,-16.017763,5.913252,-3.8741727,4.5453463,9.024943,-7.484133,-5.881343,3.994797,-8.66674,11.332386,19.68656,18.176659,5.390141,-7.160935,14.872005,-10.466722,13.443933,-0.4996035,-19.084854,-19.383995,-14.17209,0.5918115,-21.849789,-14.619929,-14.127674,9.721494,-9.26169,6.1725135,17.719643,4.342675,13.187831,6.627113,6.5787477,-21.955452,-12.962954,-9.903613,-10.618485,19.232883,-11.672722,10.483552,-11.797804,19.961973,-18.93627,-13.561381,-8.944003,-17.04699,4.523292,16.070524,-4.721924,-17.843391,-6.940775,-8.803366,-16.738295,2.3541243,-9.082182,-6.583145,-5.6120844,-14.987201,-12.557655,0.6258654,5.8516264,11.412211,-7.7315187,18.131233,13.782481,-10.203727,-6.4364038,-13.64045,-6.5568295,-8.586023,17.407564,-1.2661784,-4.042665,-12.715879,16.78214,-4.6505566,-16.198654,-4.5775137,-5.801668,-1.0565139,19.608564,-0.5882592,0.9284027,-9.590937,-11.5619955,-1.5166988,-20.384796,-16.511625,-8.027386,15.044137,13.53585,-5.3576546,4.223229,-2.1506724,-5.386609,-0.2357834,4.7709517,-13.591811,-7.128733,13.993813,-6.2435617,-1.892536,-6.7680087,14.494297,0.25633678,6.670634,-1.2494707,-3.1007462,17.3457,-15.231605,16.742826,14.013233,-10.912998,1.6131989,-14.852335,6.5790105,-1.7787672,-1.0050498,-11.904542,9.767325,-9.14375,7.0131893,4.0841866,-11.739488,-12.487905,-3.6014838,-9.511067,-0.3167551,6.30662,10.775241,-9.739923,17.468117,5.2377253,6.92788,19.402658,-6.651172,-4.516998,11.670235,-10.4861,0.65653163,-12.65359,-12.291494,1.5164229,4.2443323,16.23995,7.691064,-6.3727846,3.551988,-9.931087,-6.9449406,-1.9359839,-6.6832824,-10.481453,-12.087974,1.7590126,-0.044879526,3.5238106,2.0094817,-9.904965,-13.964256,14.5738125,19.59611,-0.3579232,-10.559885,11.519291,16.525501,-2.1880822,12.746844,19.865463,-9.15681,-14.011017,14.411636,-4.9828053,-2.8025763,15.389984,-1.2204635,5.3504505,15.189559,14.150092,-3.789019,14.874825,0.68406814,16.271742,5.4197702,-7.334255,10.417958,9.467144,-1.6488914,-5.361888,-10.229801,-11.401208,-3.3650584,-6.51658,-12.270655,-14.027369,-8.064202,18.463928,-11.58159,6.249732,-9.975909,2.550925,-16.90741,11.324488,-1.6599975,-8.502383,0.69515026,-1.2569387,9.044101,7.683632,12.430526,13.519233,14.919702,-2.0919516,-1.0645714,-4.644444,3.9316175,1.7485946,-4.0680027,11.099655,-0.5981916,-4.37442,18.903109,-11.918314,-0.78481394,14.336008,5.538029,-14.591353,9.400071,2.0999846,-0.66713154,15.12085,-0.9687816,5.7288938,-9.289961,-9.506196,9.631892,-14.581877,-4.257555,11.359706,-2.2483876,-11.286423,-2.6354954,4.015981,-22.031256,-13.931168,-2.9476843,13.595501,-18.28383,-14.123957,6.460994,-6.100457,-6.8487816,4.525788,15.2020235,14.223395,18.684559,15.36776,-4.9151874,-5.0812926,-11.964133,-4.375748,15.286286,-6.631331,1.6194199,-9.240347,12.175901,5.339494,16.63203,-10.748632,11.312033,14.88443,-10.120989,1.8474671,8.96347,14.151945,-5.98098,-3.591469,-6.8055353,-10.648076,-10.993055,-15.350454,-10.524635,2.6423419,-6.5088816,15.480669,-3.268081,17.654608,16.007538,-5.459251,-19.443289,14.229313,18.525124,-12.015025,2.15669,-9.824854,-14.024264,20.24572,-5.0424323,3.4711382,14.253683,-14.885284,-7.467589,-19.93228,-8.863118,9.096561,-9.426448,15.848658,-16.454926,5.216854,-10.414045,-13.046466,20.8972,1.0484916,17.545004,20.484173,-6.2577634,4.798934,19.518017,5.6559343,13.030528,3.9348855,4.558194,-8.455621,-6.3097224,-0.5127797,-5.1091976,10.994497,-15.951108,-0.35395548,2.4841719,-12.981734,17.615396,5.146215,17.441639,2.248957,10.955458,-8.583577,13.563507,-0.7964464,-16.937815,-14.662565,-14.01377,-12.377069,14.463419,13.774144,-10.781977,1.6299331,-14.566279,-0.93391556,15.700818,4.548954,-9.802431,13.704934,-5.666301,-11.611641,-12.125639,-10.403602,-7.968854,14.293856,16.43827,16.51672,-10.990847,15.638813,16.231884,14.695243,12.892169,-1.2077479,2.665796,7.119377,-4.174937,4.460167,3.9390323,-7.19908,14.195963,13.147562,12.576581,13.62269,-0.67370313,-18.939594,0.48747125,10.838688,-10.508434,3.8070445,-10.639708,0.36910167,-20.193377,3.9708858,-10.508411,-2.6455052,-8.041295,10.480469,2.8778658,13.872953,4.9290075,-12.58994,0.16961245,-3.8023052,-3.8345118,-2.4012907,14.507568,19.76265,-16.656723,-16.014366,-20.003984,-8.408974,5.3942876,14.564563,-12.658714,-5.768279,-1.2868297,-3.408477,18.37049,7.0380745,9.761266,7.6552835,13.400216,-0.16753945,-14.395188,-3.007116,-15.965885,4.5198436,20.166092,-4.4269557,-7.5644984,-10.285275,-0.49201405,-20.383886,-10.919093,-19.97111,14.527236,-11.95429,2.6430256,-20.239922,15.598384,3.8789842,-3.1863837,6.159535,-5.572402,1.9453422,-0.60852176,-9.545791,-10.2070875,-10.089196,20.192905,-14.201987,14.088539,16.535593,5.303107,-9.471783,-2.6119123,0.61785054,10.102063,-10.515012,-0.038784515,-18.924877,0.69167733,-16.903584,-6.466941,-3.9841878,0.7899587,2.9391956,-16.632992,14.691499,12.456102,19.614147,-14.157799,5.0424533,-1.5401952,2.7345083,-10.180026,15.5572605,-16.6798,2.087449,16.141453,19.501814,3.2832463,-10.417581,13.755198,0.76668453,-4.8492427,20.002699,0.18834083,-5.334002,1.141366,-5.682357,-0.87617433,-10.243907,7.4173503,1.4362845,15.872629,-1.5362473,-1.6966732,-20.097723,-0.80465686,-9.761709,15.2701235,0.2501622,-14.316186,-2.214099,-2.8805056,-5.2813907,15.994754,20.315275,4.1818295,5.211593,16.325922,9.319889,-10.639475,1.4397829,-11.363974,-9.082136,13.559286,2.6018748,-14.547578,-8.638665,3.097035,-1.5566522,-9.399246,-10.73041,-8.479567,1.4310061,-18.873755,11.695753,6.0951953,5.01168,-13.327986,-0.6074257,4.471314,-19.704924,1.5050603,2.0333447,10.283586,-1.0409257,-9.350432,-3.7089117,-0.01871766,-0.4641741,6.059522,-2.3876443,1.1649357,-10.284948,14.849667,-3.7281535,-8.60975,-15.870407,-3.1979074,-8.000999,-16.44152,-3.517112,0.049974777,-0.47101313,4.981748,-3.1585,5.4113884,-2.078044,-10.647632,-9.577423,18.046873,17.300117,-7.734188,-4.623303,-11.937524,-3.7267075,18.04203,4.0636835,9.219313,13.461969,-17.95651,-13.003102,20.282225,-19.617342,-10.717579,9.953413,-12.113497,8.943164,4.340501,18.494244,0.15363395,18.157936,17.0299,-9.883711,-18.552477,4.1723013,17.136293,1.6140152,-0.47636807,-8.5988245,14.529569,18.570873,-0.69052607,9.112817,-3.5922477,-10.132891,8.895081,6.0174828,-9.231934,14.548857,2.9139361,12.865344,16.887608,-4.68876,13.462488,12.910882,-9.239476,-2.9747818,10.735114,7.340349,13.307132,-0.13228478,-16.873957,-15.514677,15.6176195,15.55711,-3.9592314,6.1137433,-17.110418,-5.628877,14.889118,-6.329638,-0.8892855,-4.250565,-18.53903,-17.132032,14.448186,-4.6429276,15.223388,6.7619653,4.999788,-13.210972,-10.866482,-20.34792,-9.931703,8.424542,1.7763858,-10.254015,10.501214,-4.2173905,13.009533,6.2305965,-1.4946421,6.6113796,8.843131,-12.479495,-11.05262,-5.8094816,20.037508,-11.660464,18.378819,-10.275773,7.9860854,-12.623402,-8.870972,2.644804,7.441193,-10.665077,-19.11685,0.5023146,12.799557,-16.81032,2.742079,-10.019792,-7.5892596,18.34896,14.70473,-9.73846,-19.68717,-16.629032,2.5669,1.085687,9.728817,11.637293,0.9639919,-0.091989376,-13.901675,-1.7782075,15.446884,-9.897837,1.3336506,-16.723986,-18.14435,-2.250448,-14.928148,-10.03007,-12.631252,14.532562,-4.975071,-12.385485,13.176601,11.236076,1.2391064,19.41922,8.13066,2.6754029,-9.597457,-12.437061,-9.616503,-0.47677794,15.754256,5.8424788,5.406282,7.1575933,3.6553829,5.3190722,14.475076,10.369597,-9.863497,10.48558,-4.469485,-8.786657,4.693573,-13.381297,2.938702,-10.237544,-12.250785,-18.733658,9.247063,-5.8346324,16.862642,15.170481,3.951242,1.2450583,-16.165628,-15.285858,16.118414,-16.490587,-14.190862,16.270252,-0.4366493,10.949452,4.2320046,1.7160157,-3.9915366,3.3209064,-5.1287065,10.896618,16.227898,3.071505,14.776189,-6.8666763,-0.8967263,-1.7553436,-10.48129,13.104333,16.047016,3.5315921,-9.285024,-12.810755,10.953043,4.4586287,9.366767,-2.8632226,-6.715107,-0.12078501,3.927973,15.141737,-6.6576247,-3.9794497,19.071444,5.473733,-9.883893,-5.620689,5.393632,-5.8516393,16.952671,9.519398,-19.158815,9.718598,10.008276,-3.4433029,-5.0902653,14.47832,-14.184509,-2.22351,-12.642392,7.850339,-9.058689,-7.435619,-14.281633,0.9328349,-3.5738006,0.4397431,-6.5299473,-18.807135,-10.099238,-0.9836281,-14.764063,9.117478,-1.252124,12.748364,-5.2456055,-12.132137,19.224373,13.277201,-3.9635606,-16.88239,-2.7966077,-13.983673,5.8118076,-6.488331,18.660168,-2.9715111,4.04769,-12.463753,1.1704515,-3.3544154,-6.091489,13.739821,-13.203379,-12.883187,-12.534595,-10.732717,0.6058345,-3.8175726,11.179251,-19.16318,-7.6072965,-9.679807,-14.247543,-19.662785,-7.5177455,-6.90102,-14.802275,-6.568468,-15.084179,-14.388326,-3.0275202,13.626375,-7.4097033,-13.8936,14.889492,-4.297183,-13.74963,-10.814357,-2.4352226,11.811111,-11.6267,-6.9034495,-12.760163,5.7761984,8.967449,18.380882,-11.430873,9.003701,9.675331,-0.124305144,-14.080325,9.645457,-3.233112,0.2630171,9.494883,-8.987665,13.57908,18.478155,15.689422,5.9267473,-6.6542315,13.618377,-1.9944745,19.585884,-3.1228356,-2.9845605,10.338383,11.284083,7.10634,-11.810095,-4.7693663,5.2348604,3.4539459,13.004081,-0.668098,-11.037669,18.885328,5.0277443,-14.628274,-8.8419895,6.6751733,-18.889177,-4.449388],\"z\":[0.49090284,-3.6108189,1.7671368,8.839228,2.3597372,0.9055378,-0.050812878,1.0450056,-4.4473195,4.91875,-8.361751,-1.9045712,-5.3891687,0.43409765,-3.9148033,-1.0218793,0.23174758,-6.3599424,-1.9065746,0.44653955,-7.1447387,4.3229923,-8.369893,10.110172,1.7765541,0.60811824,5.3723593,-6.8814707,4.9892335,0.953047,1.310221,4.1018095,-2.47615,2.6303463,-3.6562314,-0.60082984,4.699727,-3.5113094,9.231004,-9.700561,7.2333856,3.250808,-3.6558962,-0.24497722,6.2953014,-3.3797934,5.612755,7.014601,-11.341974,-0.6207033,5.0640464,3.8046544,0.81532407,-5.335141,9.561724,5.310651,-2.8849015,5.5304284,8.241787,-4.56484,-1.9263263,-5.773213,-7.337261,1.6445948,5.5089564,-5.889626,0.07037578,-1.4828359,8.256618,-6.9596004,-6.755495,10.798388,-2.3505538,6.4501,-4.5191684,-3.6663725,0.049964577,8.276489,4.8689265,0.437108,2.2616897,5.3139386,-5.717413,-2.8388886,0.9535556,-2.9747055,-1.2249601,-8.453292,4.816083,-2.3335347,-2.3346379,-0.1481725,-8.382558,-3.3929212,9.874428,5.071058,-2.0490866,9.376585,-7.5509934,-2.5344305,-2.6275275,-6.998626,-9.311296,-4.3998914,1.7434896,-9.57895,5.754667,-2.948245,8.24333,-5.321927,8.682971,6.58717,4.5127378,9.154737,-11.149159,-6.503552,-9.964502,-6.915483,-1.6139153,4.5748057,-8.234888,-2.5026019,-4.493427,4.1446447,6.137326,-0.75004286,-0.5531752,-1.8696598,0.5648808,7.3780403,-6.240661,1.735179,3.8987365,-4.6416464,-8.412569,-5.7926803,-2.636892,-0.9857431,6.139205,3.0792344,7.8973985,-1.207698,6.271646,-8.434075,-3.2302635,-1.5339869,-7.0046096,-0.753157,-0.7015998,2.4445257,-2.0093153,-5.1448965,7.8337674,3.4005034,2.4597888,4.8076687,3.1856122,-4.589169,1.0930686,1.2597753,1.2250978,-9.96382,1.9719414,-9.292037,-0.36938223,-6.709559,-5.9803147,-2.8722427,-0.956627,4.1963186,0.4438785,-0.84956443,-0.9679,-1.7743005,2.8606803,8.388754,0.4968454,-5.0475645,6.8167176,-3.7704709,7.720682,0.51325923,3.1487994,-9.352832,5.4962425,-3.1326149,1.4291637,-3.9283736,1.0920256,5.6369824,-5.7648687,-2.6934807,-1.3148556,2.1605499,4.9430375,4.450544,-8.03592,-2.0626295,1.5724846,4.1941137,-1.8525009,3.9211667,-4.3859954,-2.734326,-6.751782,-3.2753327,-7.6559696,-9.257736,4.8929873,3.5529091,0.5817166,1.2240679,2.4304569,-0.32576847,9.167148,-2.016762,-1.084855,-0.015529577,6.7420225,-2.4237013,6.036724,-6.1361365,10.232011,-7.43957,0.1040156,-7.848791,-11.322258,1.4629738,1.8123891,4.5726657,-2.0212996,-1.8226875,0.41180572,-3.6779888,0.5176718,0.8353244,7.465074,-0.39033258,2.220105,4.318415,0.6956838,6.4303846,4.971176,-6.7183867,-4.169308,1.5526645,-3.7971776,2.5635505,9.127752,3.9816191,-3.6450245,-2.7444425,-3.0404122,7.487306,-6.8230805,0.19448335,6.5423517,-2.4013343,4.62033,5.0173054,2.4358232,-6.7871494,-3.211887,-3.3910017,6.4960103,-6.9710064,4.764864,-3.2938974,-0.93473613,-2.7159145,2.9086912,-8.939512,-7.0455008,-9.582637,1.4765384,4.5197034,5.1393824,-0.85404927,-3.1715405,7.7856555,-1.318365,4.830729,1.6341165,0.7269042,-1.8962063,3.8973663,8.312463,-1.6131403,3.4791706,5.408267,-6.8261986,-7.394346,3.4168596,-0.66776973,3.3125353,-5.3281956,-9.264774,-2.328801,0.5680698,0.20366994,-0.954717,-5.0307226,-1.0220442,2.958352,-5.4776134,6.931885,-1.539181,-4.504013,-0.17626189,1.0348372,2.252783,-7.665444,9.152766,0.40789926,-1.1428107,-3.0159204,3.422667,-6.394797,-1.0249879,0.88238305,-7.073747,-6.2609887,-1.7740501,-10.252284,-7.841657,7.8143945,3.2989469,-4.0737658,-3.554434,5.308123,8.605684,-3.7053201,1.0758789,-1.6374389,3.870419,1.0705637,0.25624463,-3.7440653,0.96776634,-7.3318133,-1.2142975,1.7043966,-1.4428132,7.5572796,-0.52556235,-7.4921584,7.5176797,-3.166566,3.335987,2.499862,1.8613273,4.201062,7.8029385,3.1404402,-7.7441506,7.786641,5.167511,8.348152,-0.76068777,8.331581,-3.0021477,4.6923127,4.919783,3.3710237,5.639842,-4.2719426,-3.9884658,-8.977688,-4.0561852,0.98622125,-7.815173,1.1481175,1.2152096,-8.142099,-2.3056211,4.537287,-6.844563,-7.734176,-3.0050716,2.0790439,2.4716105,-3.684369,4.4000936,4.775334,-0.2920592,-6.607282,3.4999084,-3.533847,-4.690574,-5.8464217,-1.1421286,0.5682114,-1.6974033,-1.6779553,5.514419,0.1418163,1.8519313,-1.1777171,3.7584577,-7.3288846,-8.274675,7.27505,1.638906,2.4360635,-1.1101052,4.147771,-5.8584824,1.4774935,-1.2226077,-1.762187,-2.2954884,4.264111,-6.225754,8.196646,9.050351,6.302089,8.253017,3.6701205,1.5144953,5.4170012,4.532855,0.9264934,8.2666235,-0.5921139,-2.6766334,-7.360141,5.2068367,3.8642068,3.2751534,-4.4421587,-6.0750084,-2.8212645,4.618667,7.2333817,6.4819984,7.2020698,-6.8217134,0.06539898,-0.36457863,6.834388,-6.8165193,-6.379984,-2.9566097,0.80838805,-3.4055433,-6.0926147,-7.3063416,3.4357543,1.8605033,-6.1999087,-3.9762325,6.0749373,5.038668,-6.7821646,4.212428,1.8202927,-4.517159,3.4069107,5.4098735,5.55895,2.8293197,3.1708019,1.1235131,3.6075823,-1.3873056,5.1424394,1.1287291,2.1491191,-0.91528445,-1.3162827,2.987652,3.3097806,-6.650497,-4.2521234,6.2676125,-0.09118342,-2.6368563,-1.3166121,2.7741752,8.816725,-8.589806,6.574568,7.012953,0.66769725,0.008228207,-1.0675261,-7.1863184,2.0793383,-3.55015,-4.5639324,-4.9526396,10.329097,0.10015787,1.6560806,-1.3938853,-3.3524997,2.1164458,6.5719967,4.9122252,3.4805863,-1.7172602,-11.163074,4.987367,1.7543598,5.561418,-3.511931,2.5128028,6.36125,7.0037823,4.132412,9.260392,4.0453596,10.765599,-3.4726624,-3.9805958,5.635575,5.2726564,-5.2383084,-1.7096186,-1.2341418,-3.1968997,2.1076787,3.4742222,-3.8000598,-2.0527809,-6.927326,0.43115905,-8.352024,0.73957837,8.3139105,8.056304,-7.034553,-6.7755184,-2.8519442,7.6145134,0.8282819,0.81152236,-3.136365,-3.115132,-8.040581,-1.9825252,-4.060044,-6.222367,-6.976679,-9.526799,-9.517997,-0.18374602,-0.7819754,1.6324233,-1.8880445,-3.1219468,-3.7355497,-7.015277,-4.7301073,5.573928,4.751452,-5.6492076,-9.903236,-4.5770144,7.9031153,4.695365,-3.1242347,5.519921,1.7725344,-6.599341,-0.9790039,-7.7079005,-3.134871,-1.60065,-3.3328722,-3.2592993,9.906702,-9.498272,-3.0766072,0.13253054,-7.1123137,-4.5019317,-0.76853555,-7.6644125,3.2541437,0.5897207,1.2085828,-7.7214594,7.059494,-4.126261,3.894062,6.7731705,-9.347878,-2.8931868,0.79678077,-6.660706,0.31047192,-1.9935246,8.289646,3.5953207,-0.86419976,-1.8902406,-4.6912665,-8.925704,-1.6503675,-0.3129512,-10.107475,0.49170375,-1.6122708,2.4930167,3.380832,-2.6001565,-10.025561,-7.420026,0.6866132,-0.24991095,8.86316,1.0177685,-0.77865547,7.598275,-8.057108,-6.242188,2.8555348,1.2347659,-3.5986025,-7.3694267,4.4275136,-3.770143,-8.116472,-7.342905,2.8175185,-9.300598,3.6395798,3.7527483,-6.5885878,3.9521534,-9.807456,1.5654844,-6.9872794,1.5835767,-3.5668,3.7218165,5.2057567,-5.500622,1.0101297,-2.6102767,-8.229175,-2.9963198,-2.8079515,-8.125283,6.4034543,-10.900195,-6.2349133,3.1792254,5.2851353,0.10830658,5.2379746,-8.555407,0.5168482,3.6279888,-9.124491,-9.023868,4.6610274,-6.4389524,-1.9804605,4.0291843,-2.1805775,-3.7686992,-0.20510581,-5.9607043,2.7088141,-4.479985,6.821743,5.947066,0.41044927,1.93171,-4.0873837,4.694617,-1.6224641,2.20758,7.452952,-4.8056865,-8.691893,3.7617514,-1.9021373,-7.496986,-5.3497114,-4.307075,-8.958474,-10.191985,-4.279115,-0.34248286,-1.018876,5.2913694,-0.01157653,-0.03269716,-0.582422,0.13441181,0.6637063,-3.1889348,-0.98742974,-1.359461,-8.423085,1.9735816,0.721363,-2.3912992,-8.558323,0.4142455,-7.7808614,5.6930165,2.4964988,7.0172315,9.89067,5.863563,-6.872135,-1.4273739,5.9437475,2.9287572,2.9263268,-0.5753762,-1.85527,-2.4418902,0.11751615,-4.5066957,-6.8176136,0.06903712,1.741134,2.9996805,4.494844,2.4839697,2.243858,1.5243238,10.053001,-6.9087753,0.019762734,8.188392,8.117944,3.963585,1.9379616,-6.9630075,10.669018,4.7302933,-7.190954,2.9036021,-4.409898,-7.663645,0.73478156,2.5318248,0.48480597,3.0645823,4.1307178,-2.9651184,5.842223,4.382035,-2.3663452,-3.5012994,6.3867855,-1.4249043,-3.4987564,8.362387,9.842351,5.6592784,-0.84669363,-1.2810626,5.4715147,1.0169219,-0.8539998,-4.619688,-1.7682725,3.3303177,5.604128,-6.791875,-7.936035,-4.9360304,-1.0478268,-1.6781132,-2.1826375,-8.247522,8.291816,-2.4704645,-7.434834,5.417431,5.226188,-3.2297454,-9.243795,9.330096,-6.5376806,-6.481191,-2.5375004,-4.9257746,6.7647142,-8.670349,3.8132057,-4.386826,1.3698106,5.211323,4.6955924,-5.840467,3.716435,-8.62807,0.9360582,-0.92440623,5.120074,-6.1863947,0.03500761,4.120122,-3.3865376,5.5839148,-1.9142693,-9.216724,0.07987066,0.8407106,6.1662035,0.61692816,-4.2981567,7.192086,4.810136,2.7578282,-1.4707252,-0.9380929,6.8315763,-6.79535,-3.3984385,9.402101,3.5826905,-6.661378,0.704874,0.44644642,5.0679016,-8.516946,-8.684395,-3.358373,-2.2112613,-5.7263403,-1.3198466,-4.181681,4.031972,1.8502569,-3.163177,2.0312572,9.826135,4.970673,-9.135442,-2.6191683,5.0888963,4.0150037,2.6637352,1.927657,-3.6901426,-6.0224214,5.4926715,-1.0107243,-4.515092,0.44102907,5.2598376,5.07931,2.8472002,-3.4490771,-8.567089,-0.69939744,-4.5626507,3.0087538,1.2619909,2.9407523,7.3757114,-3.7639759,5.301542,-5.672024,5.0177355,3.4207385,6.669127,-0.24039641,8.451107,-8.844282,-1.7827808,3.2158825,7.763721,-1.1009197,-2.3759575,0.55816096,-6.78598,6.688178,-8.366182,3.4462433,3.7250388,6.858398,-3.4523313,0.4109184,8.445983,-5.219861,8.394665,-7.3194666,-8.454919,-9.763076,8.30548,3.101662,4.462614,6.5982394,3.5920212,4.4940715,2.123886,-8.476697,-2.1269014,-0.92994416,3.7901382,-8.023894,-7.7885146,7.445656,-6.3259854,-6.2055073,-0.043921083,-2.7426665,-2.9994745,-3.9871616,7.7179465,-11.35191,2.3073866,-2.2711437,-3.9158905,-3.1376398,-1.7622279,-4.9173255,-5.943226,-2.4394138,-2.1465385,-0.595718,-8.171979,5.2545123,-4.4152155,3.2804701,6.4874244,4.3405156,-5.097384,-2.0128648,-2.449761,-2.3490963,1.65458,1.7224196,-2.0178156,-2.8435042,-5.608489,-0.30567676,-3.0043383,4.81648,0.11020796,3.2931638,-6.711432,1.9570756,-0.5380888,6.6272902,-7.9863772,1.9570868,4.4381776,-4.5007143,7.8235793,3.6271913,6.159299,-7.860992,2.1187456,-0.23374881,3.7893114,-1.9278444,-2.124861,-6.7060494,-6.6615977,-0.15061815,3.9603822,-5.2595897,-4.3886847,-2.9213095,-0.5893951,-4.7509313,3.1760225,1.2362709,-3.4252546,-2.4957373,-2.9699948,-2.1386485,-2.1388557,2.0026577,-6.37407,1.6224521,-1.2061853,-2.3855956,-0.44235504,-7.4945745,-3.5578823,0.70907974,-9.144774,3.7255225,3.6017883,-3.4506495,1.4752016,-0.74108005,0.11576276,3.6306024,4.858253,2.0143201,-4.5829816,-2.9600904,6.5743237,-9.981973,-0.8011658,0.5323273,2.4137642,6.2592955,9.088543,4.9296293,-1.168284,5.692957,6.131907,1.1223878,-0.12603402,-5.0956793,1.372844,0.6424286,-3.251631,-5.229152,-3.758841,-1.4299961,-5.140307,2.1526368,-5.8239136,3.4033937,4.6606827,8.202108,-3.2782016,7.019353,10.500004,-2.6325686,-6.260756],\"type\":\"scatter3d\"}],                        {\"template\":{\"data\":{\"bar\":[{\"error_x\":{\"color\":\"#2a3f5f\"},\"error_y\":{\"color\":\"#2a3f5f\"},\"marker\":{\"line\":{\"color\":\"#E5ECF6\",\"width\":0.5},\"pattern\":{\"fillmode\":\"overlay\",\"size\":10,\"solidity\":0.2}},\"type\":\"bar\"}],\"barpolar\":[{\"marker\":{\"line\":{\"color\":\"#E5ECF6\",\"width\":0.5},\"pattern\":{\"fillmode\":\"overlay\",\"size\":10,\"solidity\":0.2}},\"type\":\"barpolar\"}],\"carpet\":[{\"aaxis\":{\"endlinecolor\":\"#2a3f5f\",\"gridcolor\":\"white\",\"linecolor\":\"white\",\"minorgridcolor\":\"white\",\"startlinecolor\":\"#2a3f5f\"},\"baxis\":{\"endlinecolor\":\"#2a3f5f\",\"gridcolor\":\"white\",\"linecolor\":\"white\",\"minorgridcolor\":\"white\",\"startlinecolor\":\"#2a3f5f\"},\"type\":\"carpet\"}],\"choropleth\":[{\"colorbar\":{\"outlinewidth\":0,\"ticks\":\"\"},\"type\":\"choropleth\"}],\"contour\":[{\"colorbar\":{\"outlinewidth\":0,\"ticks\":\"\"},\"colorscale\":[[0.0,\"#0d0887\"],[0.1111111111111111,\"#46039f\"],[0.2222222222222222,\"#7201a8\"],[0.3333333333333333,\"#9c179e\"],[0.4444444444444444,\"#bd3786\"],[0.5555555555555556,\"#d8576b\"],[0.6666666666666666,\"#ed7953\"],[0.7777777777777778,\"#fb9f3a\"],[0.8888888888888888,\"#fdca26\"],[1.0,\"#f0f921\"]],\"type\":\"contour\"}],\"contourcarpet\":[{\"colorbar\":{\"outlinewidth\":0,\"ticks\":\"\"},\"type\":\"contourcarpet\"}],\"heatmap\":[{\"colorbar\":{\"outlinewidth\":0,\"ticks\":\"\"},\"colorscale\":[[0.0,\"#0d0887\"],[0.1111111111111111,\"#46039f\"],[0.2222222222222222,\"#7201a8\"],[0.3333333333333333,\"#9c179e\"],[0.4444444444444444,\"#bd3786\"],[0.5555555555555556,\"#d8576b\"],[0.6666666666666666,\"#ed7953\"],[0.7777777777777778,\"#fb9f3a\"],[0.8888888888888888,\"#fdca26\"],[1.0,\"#f0f921\"]],\"type\":\"heatmap\"}],\"heatmapgl\":[{\"colorbar\":{\"outlinewidth\":0,\"ticks\":\"\"},\"colorscale\":[[0.0,\"#0d0887\"],[0.1111111111111111,\"#46039f\"],[0.2222222222222222,\"#7201a8\"],[0.3333333333333333,\"#9c179e\"],[0.4444444444444444,\"#bd3786\"],[0.5555555555555556,\"#d8576b\"],[0.6666666666666666,\"#ed7953\"],[0.7777777777777778,\"#fb9f3a\"],[0.8888888888888888,\"#fdca26\"],[1.0,\"#f0f921\"]],\"type\":\"heatmapgl\"}],\"histogram\":[{\"marker\":{\"pattern\":{\"fillmode\":\"overlay\",\"size\":10,\"solidity\":0.2}},\"type\":\"histogram\"}],\"histogram2d\":[{\"colorbar\":{\"outlinewidth\":0,\"ticks\":\"\"},\"colorscale\":[[0.0,\"#0d0887\"],[0.1111111111111111,\"#46039f\"],[0.2222222222222222,\"#7201a8\"],[0.3333333333333333,\"#9c179e\"],[0.4444444444444444,\"#bd3786\"],[0.5555555555555556,\"#d8576b\"],[0.6666666666666666,\"#ed7953\"],[0.7777777777777778,\"#fb9f3a\"],[0.8888888888888888,\"#fdca26\"],[1.0,\"#f0f921\"]],\"type\":\"histogram2d\"}],\"histogram2dcontour\":[{\"colorbar\":{\"outlinewidth\":0,\"ticks\":\"\"},\"colorscale\":[[0.0,\"#0d0887\"],[0.1111111111111111,\"#46039f\"],[0.2222222222222222,\"#7201a8\"],[0.3333333333333333,\"#9c179e\"],[0.4444444444444444,\"#bd3786\"],[0.5555555555555556,\"#d8576b\"],[0.6666666666666666,\"#ed7953\"],[0.7777777777777778,\"#fb9f3a\"],[0.8888888888888888,\"#fdca26\"],[1.0,\"#f0f921\"]],\"type\":\"histogram2dcontour\"}],\"mesh3d\":[{\"colorbar\":{\"outlinewidth\":0,\"ticks\":\"\"},\"type\":\"mesh3d\"}],\"parcoords\":[{\"line\":{\"colorbar\":{\"outlinewidth\":0,\"ticks\":\"\"}},\"type\":\"parcoords\"}],\"pie\":[{\"automargin\":true,\"type\":\"pie\"}],\"scatter\":[{\"marker\":{\"colorbar\":{\"outlinewidth\":0,\"ticks\":\"\"}},\"type\":\"scatter\"}],\"scatter3d\":[{\"line\":{\"colorbar\":{\"outlinewidth\":0,\"ticks\":\"\"}},\"marker\":{\"colorbar\":{\"outlinewidth\":0,\"ticks\":\"\"}},\"type\":\"scatter3d\"}],\"scattercarpet\":[{\"marker\":{\"colorbar\":{\"outlinewidth\":0,\"ticks\":\"\"}},\"type\":\"scattercarpet\"}],\"scattergeo\":[{\"marker\":{\"colorbar\":{\"outlinewidth\":0,\"ticks\":\"\"}},\"type\":\"scattergeo\"}],\"scattergl\":[{\"marker\":{\"colorbar\":{\"outlinewidth\":0,\"ticks\":\"\"}},\"type\":\"scattergl\"}],\"scattermapbox\":[{\"marker\":{\"colorbar\":{\"outlinewidth\":0,\"ticks\":\"\"}},\"type\":\"scattermapbox\"}],\"scatterpolar\":[{\"marker\":{\"colorbar\":{\"outlinewidth\":0,\"ticks\":\"\"}},\"type\":\"scatterpolar\"}],\"scatterpolargl\":[{\"marker\":{\"colorbar\":{\"outlinewidth\":0,\"ticks\":\"\"}},\"type\":\"scatterpolargl\"}],\"scatterternary\":[{\"marker\":{\"colorbar\":{\"outlinewidth\":0,\"ticks\":\"\"}},\"type\":\"scatterternary\"}],\"surface\":[{\"colorbar\":{\"outlinewidth\":0,\"ticks\":\"\"},\"colorscale\":[[0.0,\"#0d0887\"],[0.1111111111111111,\"#46039f\"],[0.2222222222222222,\"#7201a8\"],[0.3333333333333333,\"#9c179e\"],[0.4444444444444444,\"#bd3786\"],[0.5555555555555556,\"#d8576b\"],[0.6666666666666666,\"#ed7953\"],[0.7777777777777778,\"#fb9f3a\"],[0.8888888888888888,\"#fdca26\"],[1.0,\"#f0f921\"]],\"type\":\"surface\"}],\"table\":[{\"cells\":{\"fill\":{\"color\":\"#EBF0F8\"},\"line\":{\"color\":\"white\"}},\"header\":{\"fill\":{\"color\":\"#C8D4E3\"},\"line\":{\"color\":\"white\"}},\"type\":\"table\"}]},\"layout\":{\"annotationdefaults\":{\"arrowcolor\":\"#2a3f5f\",\"arrowhead\":0,\"arrowwidth\":1},\"autotypenumbers\":\"strict\",\"coloraxis\":{\"colorbar\":{\"outlinewidth\":0,\"ticks\":\"\"}},\"colorscale\":{\"diverging\":[[0,\"#8e0152\"],[0.1,\"#c51b7d\"],[0.2,\"#de77ae\"],[0.3,\"#f1b6da\"],[0.4,\"#fde0ef\"],[0.5,\"#f7f7f7\"],[0.6,\"#e6f5d0\"],[0.7,\"#b8e186\"],[0.8,\"#7fbc41\"],[0.9,\"#4d9221\"],[1,\"#276419\"]],\"sequential\":[[0.0,\"#0d0887\"],[0.1111111111111111,\"#46039f\"],[0.2222222222222222,\"#7201a8\"],[0.3333333333333333,\"#9c179e\"],[0.4444444444444444,\"#bd3786\"],[0.5555555555555556,\"#d8576b\"],[0.6666666666666666,\"#ed7953\"],[0.7777777777777778,\"#fb9f3a\"],[0.8888888888888888,\"#fdca26\"],[1.0,\"#f0f921\"]],\"sequentialminus\":[[0.0,\"#0d0887\"],[0.1111111111111111,\"#46039f\"],[0.2222222222222222,\"#7201a8\"],[0.3333333333333333,\"#9c179e\"],[0.4444444444444444,\"#bd3786\"],[0.5555555555555556,\"#d8576b\"],[0.6666666666666666,\"#ed7953\"],[0.7777777777777778,\"#fb9f3a\"],[0.8888888888888888,\"#fdca26\"],[1.0,\"#f0f921\"]]},\"colorway\":[\"#636efa\",\"#EF553B\",\"#00cc96\",\"#ab63fa\",\"#FFA15A\",\"#19d3f3\",\"#FF6692\",\"#B6E880\",\"#FF97FF\",\"#FECB52\"],\"font\":{\"color\":\"#2a3f5f\"},\"geo\":{\"bgcolor\":\"white\",\"lakecolor\":\"white\",\"landcolor\":\"#E5ECF6\",\"showlakes\":true,\"showland\":true,\"subunitcolor\":\"white\"},\"hoverlabel\":{\"align\":\"left\"},\"hovermode\":\"closest\",\"mapbox\":{\"style\":\"light\"},\"paper_bgcolor\":\"white\",\"plot_bgcolor\":\"#E5ECF6\",\"polar\":{\"angularaxis\":{\"gridcolor\":\"white\",\"linecolor\":\"white\",\"ticks\":\"\"},\"bgcolor\":\"#E5ECF6\",\"radialaxis\":{\"gridcolor\":\"white\",\"linecolor\":\"white\",\"ticks\":\"\"}},\"scene\":{\"xaxis\":{\"backgroundcolor\":\"#E5ECF6\",\"gridcolor\":\"white\",\"gridwidth\":2,\"linecolor\":\"white\",\"showbackground\":true,\"ticks\":\"\",\"zerolinecolor\":\"white\"},\"yaxis\":{\"backgroundcolor\":\"#E5ECF6\",\"gridcolor\":\"white\",\"gridwidth\":2,\"linecolor\":\"white\",\"showbackground\":true,\"ticks\":\"\",\"zerolinecolor\":\"white\"},\"zaxis\":{\"backgroundcolor\":\"#E5ECF6\",\"gridcolor\":\"white\",\"gridwidth\":2,\"linecolor\":\"white\",\"showbackground\":true,\"ticks\":\"\",\"zerolinecolor\":\"white\"}},\"shapedefaults\":{\"line\":{\"color\":\"#2a3f5f\"}},\"ternary\":{\"aaxis\":{\"gridcolor\":\"white\",\"linecolor\":\"white\",\"ticks\":\"\"},\"baxis\":{\"gridcolor\":\"white\",\"linecolor\":\"white\",\"ticks\":\"\"},\"bgcolor\":\"#E5ECF6\",\"caxis\":{\"gridcolor\":\"white\",\"linecolor\":\"white\",\"ticks\":\"\"}},\"title\":{\"x\":0.05},\"xaxis\":{\"automargin\":true,\"gridcolor\":\"white\",\"linecolor\":\"white\",\"ticks\":\"\",\"title\":{\"standoff\":15},\"zerolinecolor\":\"white\",\"zerolinewidth\":2},\"yaxis\":{\"automargin\":true,\"gridcolor\":\"white\",\"linecolor\":\"white\",\"ticks\":\"\",\"title\":{\"standoff\":15},\"zerolinecolor\":\"white\",\"zerolinewidth\":2}}},\"scene\":{\"domain\":{\"x\":[0.0,1.0],\"y\":[0.0,1.0]},\"xaxis\":{\"title\":{\"text\":\"0\"}},\"yaxis\":{\"title\":{\"text\":\"1\"}},\"zaxis\":{\"title\":{\"text\":\"2\"}}},\"coloraxis\":{\"colorbar\":{\"title\":{\"text\":\"Anomaly\"}},\"colorscale\":[[0.0,\"#0d0887\"],[0.1111111111111111,\"#46039f\"],[0.2222222222222222,\"#7201a8\"],[0.3333333333333333,\"#9c179e\"],[0.4444444444444444,\"#bd3786\"],[0.5555555555555556,\"#d8576b\"],[0.6666666666666666,\"#ed7953\"],[0.7777777777777778,\"#fb9f3a\"],[0.8888888888888888,\"#fdca26\"],[1.0,\"#f0f921\"]]},\"legend\":{\"tracegroupgap\":0},\"title\":{\"text\":\"3d TSNE Plot for Outliers\"},\"height\":800,\"width\":900},                        {\"responsive\": true}                    ).then(function(){\n",
              "                            \n",
              "var gd = document.getElementById('fbb15214-97ae-416c-b311-f848a116db54');\n",
              "var x = new MutationObserver(function (mutations, observer) {{\n",
              "        var display = window.getComputedStyle(gd).display;\n",
              "        if (!display || display === 'none') {{\n",
              "            console.log([gd, 'removed!']);\n",
              "            Plotly.purge(gd);\n",
              "            observer.disconnect();\n",
              "        }}\n",
              "}});\n",
              "\n",
              "// Listen for the removal of the full notebook cells\n",
              "var notebookContainer = gd.closest('#notebook-container');\n",
              "if (notebookContainer) {{\n",
              "    x.observe(notebookContainer, {childList: true});\n",
              "}}\n",
              "\n",
              "// Listen for the clearing of the current output cell\n",
              "var outputEl = gd.closest('.output');\n",
              "if (outputEl) {{\n",
              "    x.observe(outputEl, {childList: true});\n",
              "}}\n",
              "\n",
              "                        })                };                            </script>        </div>\n",
              "</body>\n",
              "</html>"
            ]
          },
          "metadata": {}
        },
        {
          "output_type": "stream",
          "name": "stderr",
          "text": [
            "INFO:logs:Visual Rendered Successfully\n",
            "INFO:logs:plot_model() succesfully completed......................................\n"
          ]
        }
      ]
    },
    {
      "cell_type": "code",
      "source": [
        "plot_model(iforest, plot = 'tsne')\n"
      ],
      "metadata": {
        "id": "sKXcth_fmz_t"
      },
      "execution_count": null,
      "outputs": []
    },
    {
      "cell_type": "markdown",
      "source": [
        "**Uniform Manifold Approximation and Projection**"
      ],
      "metadata": {
        "id": "JAfIlBs1RxmL"
      }
    },
    {
      "cell_type": "code",
      "source": [
        "plot_model(iforest, plot = 'umap')"
      ],
      "metadata": {
        "id": "88LRk0EJnRft",
        "outputId": "904e3746-2c67-4e9b-b6d5-754dc6f22801",
        "colab": {
          "base_uri": "https://localhost:8080/",
          "height": 872,
          "referenced_widgets": [
            "26eb26b8cf7747159470011e97ae95a1",
            "40fea1f366464c49b7c4b501563c055d",
            "0c965a46b8a44fe98eaece3b2111b9e8"
          ]
        }
      },
      "execution_count": 15,
      "outputs": [
        {
          "output_type": "stream",
          "name": "stderr",
          "text": [
            "INFO:logs:Rendering Visual\n"
          ]
        },
        {
          "output_type": "display_data",
          "data": {
            "text/html": [
              "<html>\n",
              "<head><meta charset=\"utf-8\" /></head>\n",
              "<body>\n",
              "    <div>            <script src=\"https://cdnjs.cloudflare.com/ajax/libs/mathjax/2.7.5/MathJax.js?config=TeX-AMS-MML_SVG\"></script><script type=\"text/javascript\">if (window.MathJax) {MathJax.Hub.Config({SVG: {font: \"STIX-Web\"}});}</script>                <script type=\"text/javascript\">window.PlotlyConfig = {MathJaxConfig: 'local'};</script>\n",
              "        <script src=\"https://cdn.plot.ly/plotly-2.8.3.min.js\"></script>                <div id=\"7ae578bc-2d95-462b-996c-9174cf9e340d\" class=\"plotly-graph-div\" style=\"height:800px; width:900px;\"></div>            <script type=\"text/javascript\">                                    window.PLOTLYENV=window.PLOTLYENV || {};                                    if (document.getElementById(\"7ae578bc-2d95-462b-996c-9174cf9e340d\")) {                    Plotly.newPlot(                        \"7ae578bc-2d95-462b-996c-9174cf9e340d\",                        [{\"customdata\":[[\"3501_12\"],[\"3520_5\"],[\"3414_13\"],[\"3488_8\"],[\"3501_7\"],[\"3419_14\"],[\"3522_14\"],[\"3499_11\"],[\"361_7\"],[\"365_8\"],[\"3491_11\"],[\"3429_12\"],[\"3421_5\"],[\"3490_14\"],[\"3484_11\"],[\"3522_4\"],[\"3503_3\"],[\"3415_6\"],[\"3503_10\"],[\"3522_12\"],[\"3477_15\"],[\"311_11\"],[\"293_10\"],[\"3423_3\"],[\"365_13\"],[\"50810B_9\"],[\"3507_8\"],[\"3426_15\"],[\"18899_9\"],[\"3418_12\"],[\"3417_10\"],[\"3480_10\"],[\"3505_7\"],[\"3417_5\"],[\"3478_14\"],[\"3501_14\"],[\"3479_5\"],[\"3425_11\"],[\"3423_4\"],[\"J1291_8\"],[\"50810F_4\"],[\"3490_12\"],[\"3414_3\"],[\"3522_7\"],[\"50810F_1\"],[\"3425_15\"],[\"364_11\"],[\"364_5\"],[\"50810A_2\"],[\"3505_14\"],[\"311_10\"],[\"50810A_11\"],[\"321_10\"],[\"3517_1\"],[\"3490_3\"],[\"3422_4\"],[\"3502_12\"],[\"3606_7\"],[\"362_4\"],[\"3483_13\"],[\"3498_4\"],[\"361_5\"],[\"3477_13\"],[\"3420_1\"],[\"3530_2\"],[\"3425_1\"],[\"3499_15\"],[\"3418_2\"],[\"3479_9\"],[\"3476_8\"],[\"3426_14\"],[\"3488_4\"],[\"3516_8\"],[\"3424_6\"],[\"3521_2\"],[\"3498_3\"],[\"3503_4\"],[\"3488_6\"],[\"3422_14\"],[\"3502_1\"],[\"3417_4\"],[\"3606_10\"],[\"3425_3\"],[\"3516_7\"],[\"3417_13\"],[\"3420_10\"],[\"3498_7\"],[\"J3295_5\"],[\"3481_5\"],[\"3525_5\"],[\"321_3\"],[\"3530_14\"],[\"3491_7\"],[\"3503_15\"],[\"50810F_11\"],[\"365_9\"],[\"3516_2\"],[\"3423_5\"],[\"50810E_8\"],[\"361_14\"],[\"3504_5\"],[\"3415_3\"],[\"50810C_1\"],[\"3421_10\"],[\"3414_15\"],[\"3491_3\"],[\"3480_6\"],[\"3425_14\"],[\"3479_7\"],[\"3484_6\"],[\"3488_11\"],[\"3424_1\"],[\"3422_9\"],[\"50810F_13\"],[\"50810A_5\"],[\"3513_2\"],[\"50810D_3\"],[\"3477_8\"],[\"J2292_1\"],[\"311_5\"],[\"50810C_7\"],[\"363_8\"],[\"363_6\"],[\"3530_8\"],[\"3534_9\"],[\"3503_6\"],[\"3498_11\"],[\"3503_9\"],[\"3503_2\"],[\"3534_3\"],[\"3478_5\"],[\"294_9\"],[\"50810A_8\"],[\"3525_15\"],[\"50810C_5\"],[\"361_6\"],[\"3429_2\"],[\"3418_8\"],[\"3481_1\"],[\"3419_6\"],[\"3488_1\"],[\"J2292_8\"],[\"3424_5\"],[\"3491_15\"],[\"3516_15\"],[\"3503_8\"],[\"J3295_14\"],[\"309_2\"],[\"3429_13\"],[\"3413_1\"],[\"320_5\"],[\"3517_2\"],[\"3488_2\"],[\"50810D_8\"],[\"3417_9\"],[\"3606_15\"],[\"50810D_11\"],[\"3525_14\"],[\"3424_11\"],[\"3530_10\"],[\"3418_14\"],[\"50810D_2\"],[\"3501_9\"],[\"50810E_2\"],[\"3412_3\"],[\"3426_4\"],[\"3484_3\"],[\"3498_6\"],[\"3416_9\"],[\"3413_13\"],[\"50810B_1\"],[\"3505_10\"],[\"309_1\"],[\"3525_1\"],[\"311_1\"],[\"3488_9\"],[\"3501_11\"],[\"3517_3\"],[\"3424_3\"],[\"3517_11\"],[\"362_1\"],[\"50810B_2\"],[\"309_10\"],[\"3483_1\"],[\"3479_11\"],[\"3420_11\"],[\"3499_9\"],[\"3525_11\"],[\"3499_10\"],[\"364_12\"],[\"3484_1\"],[\"3504_9\"],[\"3521_11\"],[\"50810B_10\"],[\"3606_14\"],[\"3419_2\"],[\"3476_5\"],[\"3429_5\"],[\"3417_15\"],[\"311_7\"],[\"3414_4\"],[\"3413_12\"],[\"361_9\"],[\"3520_7\"],[\"3476_11\"],[\"3505_6\"],[\"50810C_9\"],[\"J1291_5\"],[\"3422_8\"],[\"3481_7\"],[\"3522_11\"],[\"3530_11\"],[\"294_6\"],[\"3522_8\"],[\"50810F_14\"],[\"3504_11\"],[\"3520_12\"],[\"3521_13\"],[\"3423_13\"],[\"3516_9\"],[\"18899_7\"],[\"3522_1\"],[\"3489_6\"],[\"3476_7\"],[\"3414_12\"],[\"3476_6\"],[\"50810A_3\"],[\"321_12\"],[\"3419_11\"],[\"3507_5\"],[\"3516_1\"],[\"3521_9\"],[\"3499_13\"],[\"3516_11\"],[\"50810B_5\"],[\"50810B_15\"],[\"50810F_8\"],[\"294_10\"],[\"294_2\"],[\"18899_2\"],[\"3418_10\"],[\"18899_14\"],[\"18899_1\"],[\"3477_4\"],[\"3517_6\"],[\"309_7\"],[\"3520_4\"],[\"3605_5\"],[\"50810F_15\"],[\"3507_3\"],[\"3520_6\"],[\"3502_11\"],[\"3516_4\"],[\"362_2\"],[\"3426_8\"],[\"320_11\"],[\"3534_5\"],[\"3504_4\"],[\"3530_7\"],[\"365_4\"],[\"3497_9\"],[\"3477_11\"],[\"3505_5\"],[\"3517_12\"],[\"18899_13\"],[\"3426_9\"],[\"3480_11\"],[\"3500_15\"],[\"3521_10\"],[\"3503_12\"],[\"3413_6\"],[\"50810C_3\"],[\"50810C_12\"],[\"3476_3\"],[\"3497_7\"],[\"3507_4\"],[\"3606_9\"],[\"3500_6\"],[\"3521_5\"],[\"3489_10\"],[\"3418_6\"],[\"3422_5\"],[\"3419_10\"],[\"3522_13\"],[\"320_6\"],[\"365_5\"],[\"3479_14\"],[\"J2292_3\"],[\"3480_15\"],[\"3479_3\"],[\"3477_9\"],[\"293_8\"],[\"3419_4\"],[\"3503_5\"],[\"50810D_6\"],[\"3513_8\"],[\"3483_3\"],[\"361_13\"],[\"320_13\"],[\"3522_15\"],[\"3522_6\"],[\"3483_11\"],[\"J2292_5\"],[\"322_4\"],[\"3513_7\"],[\"3507_14\"],[\"3521_7\"],[\"3505_3\"],[\"294_11\"],[\"3424_12\"],[\"322_6\"],[\"3483_6\"],[\"3490_1\"],[\"3420_7\"],[\"320_7\"],[\"3412_11\"],[\"3534_14\"],[\"50810E_14\"],[\"3416_7\"],[\"294_7\"],[\"3476_9\"],[\"3478_9\"],[\"294_14\"],[\"J1291_10\"],[\"293_3\"],[\"3423_8\"],[\"3501_2\"],[\"363_5\"],[\"3502_15\"],[\"3507_7\"],[\"3489_7\"],[\"3517_9\"],[\"3522_10\"],[\"3500_9\"],[\"3411_5\"],[\"3490_10\"],[\"3520_14\"],[\"3478_10\"],[\"3499_12\"],[\"J3295_11\"],[\"3520_11\"],[\"3499_4\"],[\"3505_11\"],[\"50810F_9\"],[\"3501_13\"],[\"50810C_11\"],[\"362_3\"],[\"3521_4\"],[\"3413_8\"],[\"3415_13\"],[\"3481_11\"],[\"3507_2\"],[\"50810F_7\"],[\"322_8\"],[\"3426_12\"],[\"3488_3\"],[\"3606_6\"],[\"3490_5\"],[\"3502_6\"],[\"3423_7\"],[\"3516_13\"],[\"3507_6\"],[\"18899_5\"],[\"3413_4\"],[\"3507_10\"],[\"3425_7\"],[\"3525_12\"],[\"J1291_7\"],[\"3421_11\"],[\"3419_15\"],[\"50810C_8\"],[\"321_11\"],[\"294_8\"],[\"293_5\"],[\"3505_8\"],[\"3411_3\"],[\"3477_12\"],[\"3426_10\"],[\"3502_14\"],[\"3424_4\"],[\"3413_3\"],[\"3478_13\"],[\"311_8\"],[\"3411_2\"],[\"3505_13\"],[\"J3295_13\"],[\"3481_8\"],[\"3516_12\"],[\"3483_15\"],[\"3421_4\"],[\"J2292_11\"],[\"50810B_3\"],[\"3504_10\"],[\"363_12\"],[\"365_1\"],[\"3498_15\"],[\"309_9\"],[\"3503_7\"],[\"50810A_10\"],[\"3499_3\"],[\"3491_10\"],[\"364_1\"],[\"3605_9\"],[\"365_11\"],[\"3605_15\"],[\"50810A_7\"],[\"3478_3\"],[\"3499_7\"],[\"321_6\"],[\"294_15\"],[\"3416_13\"],[\"3413_10\"],[\"50810E_13\"],[\"3490_4\"],[\"3488_10\"],[\"364_8\"],[\"3479_8\"],[\"3481_9\"],[\"3420_2\"],[\"311_14\"],[\"3413_15\"],[\"3411_15\"],[\"3490_8\"],[\"3520_15\"],[\"363_9\"],[\"3499_1\"],[\"3479_10\"],[\"3497_15\"],[\"3497_11\"],[\"3521_3\"],[\"3513_5\"],[\"3425_13\"],[\"3530_6\"],[\"18899_10\"],[\"3423_14\"],[\"3423_12\"],[\"3476_10\"],[\"3498_10\"],[\"3502_7\"],[\"3489_14\"],[\"50810C_13\"],[\"3513_1\"],[\"3416_10\"],[\"309_5\"],[\"3420_15\"],[\"3478_1\"],[\"293_12\"],[\"3501_1\"],[\"3497_14\"],[\"3415_4\"],[\"3484_12\"],[\"50810F_2\"],[\"3606_2\"],[\"3483_8\"],[\"3419_3\"],[\"3414_14\"],[\"3513_12\"],[\"311_2\"],[\"3480_5\"],[\"364_15\"],[\"322_9\"],[\"3490_15\"],[\"365_14\"],[\"50810A_12\"],[\"J2292_14\"],[\"364_13\"],[\"3418_15\"],[\"294_1\"],[\"3418_4\"],[\"J2292_13\"],[\"50810D_12\"],[\"50810D_4\"],[\"3477_1\"],[\"3425_9\"],[\"3481_2\"],[\"3414_10\"],[\"3516_5\"],[\"J2292_7\"],[\"309_11\"],[\"3489_12\"],[\"293_4\"],[\"3423_15\"],[\"3507_13\"],[\"3500_3\"],[\"3521_14\"],[\"3412_1\"],[\"3426_7\"],[\"50810B_11\"],[\"3416_1\"],[\"3505_2\"],[\"3483_10\"],[\"3489_1\"],[\"3502_4\"],[\"3415_7\"],[\"J2292_6\"],[\"3416_3\"],[\"322_2\"],[\"364_4\"],[\"3422_10\"],[\"3497_13\"],[\"3412_5\"],[\"50810A_4\"],[\"3479_6\"],[\"3499_6\"],[\"311_15\"],[\"361_12\"],[\"3501_6\"],[\"3423_11\"],[\"3534_2\"],[\"311_6\"],[\"3489_4\"],[\"3530_9\"],[\"3489_3\"],[\"3412_13\"],[\"3516_10\"],[\"362_13\"],[\"3606_5\"],[\"363_3\"],[\"J2292_15\"],[\"J2292_12\"],[\"361_15\"],[\"3605_7\"],[\"3605_1\"],[\"3412_14\"],[\"3412_8\"],[\"3426_2\"],[\"3498_13\"],[\"J3295_3\"],[\"3481_14\"],[\"3479_13\"],[\"3488_14\"],[\"3483_9\"],[\"3426_13\"],[\"3498_1\"],[\"362_8\"],[\"3415_10\"],[\"320_14\"],[\"361_10\"],[\"3525_8\"],[\"293_13\"],[\"3412_9\"],[\"3517_5\"],[\"3522_3\"],[\"3477_7\"],[\"3476_2\"],[\"3476_1\"],[\"320_10\"],[\"3605_13\"],[\"365_15\"],[\"3414_6\"],[\"3504_2\"],[\"3484_10\"],[\"3415_2\"],[\"3517_4\"],[\"3530_3\"],[\"3480_7\"],[\"3476_14\"],[\"J1291_15\"],[\"3421_8\"],[\"3489_15\"],[\"3422_6\"],[\"3500_12\"],[\"3606_4\"],[\"294_4\"],[\"3477_2\"],[\"3505_12\"],[\"J3295_12\"],[\"3504_3\"],[\"3418_3\"],[\"3420_14\"],[\"320_1\"],[\"50810F_10\"],[\"50810E_1\"],[\"3516_6\"],[\"50810B_4\"],[\"3483_7\"],[\"3484_13\"],[\"3605_14\"],[\"50810C_10\"],[\"3413_9\"],[\"50810B_6\"],[\"3420_5\"],[\"293_11\"],[\"18899_11\"],[\"3513_14\"],[\"3417_3\"],[\"3507_15\"],[\"J1291_11\"],[\"3416_14\"],[\"3415_11\"],[\"361_2\"],[\"3424_13\"],[\"3416_6\"],[\"3490_9\"],[\"3419_5\"],[\"3418_7\"],[\"3521_8\"],[\"3421_9\"],[\"3491_1\"],[\"3525_2\"],[\"3522_9\"],[\"J1291_9\"],[\"50810B_8\"],[\"J2292_2\"],[\"3415_14\"],[\"50810D_5\"],[\"321_1\"],[\"J1291_2\"],[\"293_14\"],[\"50810B_14\"],[\"294_12\"],[\"3490_6\"],[\"3419_13\"],[\"309_3\"],[\"362_6\"],[\"J3295_7\"],[\"3513_4\"],[\"3497_10\"],[\"3420_6\"],[\"3414_2\"],[\"3477_14\"],[\"365_7\"],[\"3420_13\"],[\"293_15\"],[\"50810E_9\"],[\"3605_4\"],[\"J1291_1\"],[\"50810A_9\"],[\"3534_15\"],[\"3477_3\"],[\"18899_3\"],[\"J1291_3\"],[\"3417_7\"],[\"3426_6\"],[\"3415_8\"],[\"3517_13\"],[\"3413_11\"],[\"3530_4\"],[\"3421_6\"],[\"3490_11\"],[\"3498_5\"],[\"J3295_4\"],[\"3521_6\"],[\"3502_13\"],[\"J3295_2\"],[\"3480_1\"],[\"J1291_14\"],[\"3478_8\"],[\"3417_1\"],[\"3424_7\"],[\"3424_14\"],[\"3606_13\"],[\"3491_14\"],[\"3420_8\"],[\"3411_4\"],[\"50810E_3\"],[\"3491_9\"],[\"3479_4\"],[\"50810E_15\"],[\"3412_4\"],[\"322_15\"],[\"3504_7\"],[\"3478_15\"],[\"J2292_9\"],[\"3421_1\"],[\"50810D_15\"],[\"3521_1\"],[\"50810F_5\"],[\"3507_11\"],[\"50810B_7\"],[\"3481_12\"],[\"3513_13\"],[\"3606_12\"],[\"3504_13\"],[\"321_15\"],[\"362_9\"],[\"3484_9\"],[\"3491_8\"],[\"322_10\"],[\"3525_3\"],[\"3426_11\"],[\"361_4\"],[\"363_4\"],[\"J1291_4\"],[\"J1291_12\"],[\"3513_15\"],[\"363_14\"],[\"J2292_4\"],[\"311_12\"],[\"3605_11\"],[\"320_12\"],[\"3521_12\"],[\"3414_11\"],[\"320_15\"],[\"361_11\"],[\"3414_9\"],[\"363_10\"],[\"J3295_1\"],[\"321_14\"],[\"3418_11\"],[\"363_7\"],[\"3491_13\"],[\"3490_13\"],[\"3483_4\"],[\"311_13\"],[\"365_10\"],[\"3534_6\"],[\"50810F_12\"],[\"18899_4\"],[\"50810C_14\"],[\"321_5\"],[\"3534_8\"],[\"3413_5\"],[\"3411_7\"],[\"3412_2\"],[\"3429_6\"],[\"3504_12\"],[\"3424_15\"],[\"3484_15\"],[\"50810E_11\"],[\"3500_4\"],[\"3499_5\"],[\"3411_9\"],[\"3422_12\"],[\"365_12\"],[\"322_5\"],[\"3419_12\"],[\"3489_9\"],[\"361_3\"],[\"3498_14\"],[\"362_7\"],[\"3489_11\"],[\"322_11\"],[\"322_1\"],[\"3415_1\"],[\"3489_2\"],[\"3534_10\"],[\"3426_3\"],[\"3411_8\"],[\"3421_15\"],[\"3483_5\"],[\"3411_13\"],[\"3413_2\"],[\"3497_4\"],[\"3501_4\"],[\"322_13\"],[\"3412_10\"],[\"364_9\"],[\"18899_6\"],[\"3412_7\"],[\"3412_15\"],[\"50810F_3\"],[\"363_11\"],[\"3525_10\"],[\"3488_5\"],[\"3423_2\"],[\"3507_9\"],[\"3414_8\"],[\"3429_14\"],[\"3424_8\"],[\"3420_4\"],[\"320_9\"],[\"3517_7\"],[\"3429_7\"],[\"3417_6\"],[\"3530_1\"],[\"3476_12\"],[\"J3295_9\"],[\"363_1\"],[\"3498_12\"],[\"3429_9\"],[\"3412_6\"],[\"3476_4\"],[\"3423_9\"],[\"3503_11\"],[\"293_6\"],[\"3480_4\"],[\"3480_14\"],[\"3498_2\"],[\"3483_2\"],[\"3490_7\"],[\"3513_3\"],[\"361_1\"],[\"3525_6\"],[\"363_2\"],[\"3424_2\"],[\"293_1\"],[\"3507_1\"],[\"3517_10\"],[\"3411_10\"],[\"3480_9\"],[\"311_9\"],[\"3476_13\"],[\"3534_13\"],[\"50810C_4\"],[\"3530_12\"],[\"3522_5\"],[\"3422_2\"],[\"3522_2\"],[\"3497_1\"],[\"3413_7\"],[\"3517_14\"],[\"3479_12\"],[\"3498_9\"],[\"3491_2\"],[\"3502_2\"],[\"50810B_13\"],[\"362_14\"],[\"3497_3\"],[\"3520_1\"],[\"3489_13\"],[\"365_6\"],[\"50810D_13\"],[\"3498_8\"],[\"3414_7\"],[\"362_15\"],[\"3477_10\"],[\"3500_14\"],[\"3490_2\"],[\"322_7\"],[\"3477_5\"],[\"309_4\"],[\"321_7\"],[\"3530_5\"],[\"50810E_5\"],[\"3491_4\"],[\"3414_1\"],[\"3429_4\"],[\"3425_2\"],[\"3429_15\"],[\"3478_7\"],[\"309_13\"],[\"3605_8\"],[\"320_2\"],[\"3497_5\"],[\"3423_1\"],[\"3481_4\"],[\"3491_6\"],[\"3420_12\"],[\"3422_3\"],[\"322_14\"],[\"50810D_14\"],[\"3497_2\"],[\"3478_12\"],[\"3426_5\"],[\"3424_9\"],[\"3418_9\"],[\"3513_11\"],[\"3503_1\"],[\"3422_13\"],[\"3606_11\"],[\"3501_5\"],[\"3525_9\"],[\"50810E_4\"],[\"3500_5\"],[\"3421_7\"],[\"50810D_10\"],[\"3418_13\"],[\"309_12\"],[\"362_12\"],[\"3478_11\"],[\"3479_1\"],[\"3484_2\"],[\"3606_3\"],[\"3417_2\"],[\"3534_1\"],[\"3605_12\"],[\"3488_13\"],[\"3491_5\"],[\"3429_11\"],[\"3497_8\"],[\"3423_10\"],[\"3429_10\"],[\"3504_8\"],[\"3420_9\"],[\"3426_1\"],[\"3481_3\"],[\"3491_12\"],[\"322_12\"],[\"50810A_6\"],[\"362_11\"],[\"3425_10\"],[\"3500_2\"],[\"3489_8\"],[\"3513_6\"],[\"364_3\"],[\"3499_2\"],[\"J3295_8\"],[\"J1291_13\"],[\"3479_15\"],[\"3605_3\"],[\"3419_1\"],[\"362_10\"],[\"311_4\"],[\"3480_12\"],[\"3481_10\"],[\"293_7\"],[\"3500_10\"],[\"320_8\"],[\"50810A_14\"],[\"J3295_6\"],[\"293_9\"],[\"364_2\"],[\"3476_15\"],[\"3478_6\"],[\"3530_15\"],[\"3503_13\"],[\"3416_12\"],[\"3425_12\"],[\"362_5\"],[\"50810A_1\"],[\"3419_9\"],[\"3525_4\"],[\"3484_14\"],[\"3525_7\"],[\"3500_8\"],[\"3425_5\"],[\"3478_2\"],[\"3502_10\"],[\"3416_5\"],[\"363_15\"],[\"50810C_6\"],[\"3422_1\"],[\"361_8\"],[\"50810D_9\"],[\"3480_2\"],[\"3413_14\"],[\"3425_6\"],[\"3516_3\"],[\"3520_9\"],[\"3429_3\"],[\"3415_9\"],[\"322_3\"],[\"3505_9\"],[\"3500_13\"],[\"3421_2\"],[\"3502_3\"],[\"320_3\"],[\"3480_8\"],[\"3530_13\"],[\"3605_2\"],[\"J3295_10\"],[\"50810B_12\"],[\"363_13\"],[\"3480_3\"],[\"293_2\"],[\"3417_11\"],[\"3534_11\"],[\"3421_12\"],[\"3488_15\"],[\"3480_13\"],[\"3507_12\"],[\"J3295_15\"],[\"3417_8\"],[\"3502_5\"],[\"309_15\"],[\"3504_14\"],[\"3504_15\"],[\"50810E_10\"],[\"3477_6\"],[\"321_9\"],[\"364_14\"],[\"3484_5\"],[\"3520_2\"],[\"3416_11\"],[\"3416_8\"],[\"3484_8\"],[\"50810D_7\"],[\"3417_14\"],[\"3505_4\"],[\"3520_8\"],[\"3504_6\"],[\"3416_4\"],[\"320_4\"],[\"294_5\"],[\"3415_5\"],[\"309_8\"],[\"294_13\"],[\"321_2\"],[\"3505_15\"],[\"50810E_12\"],[\"3516_14\"],[\"3481_15\"],[\"50810C_2\"],[\"50810A_15\"],[\"309_14\"],[\"3503_14\"],[\"3411_12\"],[\"3501_15\"],[\"3499_14\"],[\"3411_6\"],[\"3411_1\"],[\"321_13\"],[\"3505_1\"],[\"3500_11\"],[\"18899_12\"],[\"J1291_6\"],[\"3500_7\"],[\"3521_15\"],[\"3605_6\"],[\"3534_7\"],[\"3489_5\"],[\"3422_7\"],[\"3520_10\"],[\"365_3\"],[\"18899_15\"],[\"3424_10\"],[\"321_8\"],[\"3425_4\"],[\"3500_1\"],[\"3481_13\"],[\"3517_15\"],[\"3483_12\"],[\"3421_14\"],[\"3418_5\"],[\"3513_9\"],[\"294_3\"],[\"3421_3\"],[\"3497_12\"],[\"3534_12\"],[\"3488_12\"],[\"3416_2\"],[\"50810F_6\"],[\"3488_7\"],[\"3429_1\"],[\"3478_4\"]],\"hovertemplate\":\"0=%{x}<br>1=%{y}<br>Feature=%{customdata[0]}<br>Anomaly=%{marker.color}<extra></extra>\",\"legendgroup\":\"\",\"marker\":{\"color\":[0,0,0,0,0,0,0,0,0,0,0,0,0,0,0,0,0,0,0,0,0,1,0,0,0,0,0,0,0,0,0,0,0,0,0,0,0,0,0,0,0,0,0,0,0,1,0,0,1,0,0,0,0,1,0,0,0,0,0,0,0,0,0,0,0,0,0,0,0,0,0,0,0,0,0,0,0,0,0,0,0,0,0,0,0,0,0,0,0,0,0,0,0,0,0,0,0,0,0,0,0,0,0,0,0,0,0,0,0,0,0,0,0,0,0,0,0,0,0,0,0,0,0,0,0,0,0,0,0,0,0,0,0,0,0,0,0,0,0,0,0,0,0,0,1,0,1,0,0,0,0,0,0,0,0,0,0,0,0,0,0,0,0,0,0,0,1,0,0,1,0,0,0,0,0,0,0,0,0,0,0,0,0,0,0,1,0,0,0,0,1,0,0,1,0,0,0,0,0,0,0,0,0,0,0,0,0,0,0,0,0,0,0,0,0,0,0,0,0,0,0,0,0,0,0,0,1,0,0,0,0,0,0,1,0,0,0,0,0,0,0,0,0,0,0,0,0,0,0,0,0,0,0,0,0,0,0,0,0,0,0,0,0,0,0,0,0,0,0,0,0,0,0,0,0,0,0,0,0,0,0,0,0,0,0,0,0,0,0,0,0,0,0,0,0,0,0,0,0,0,0,0,0,0,0,0,0,0,0,0,0,0,0,0,0,0,0,0,0,0,0,0,0,0,0,0,0,0,1,0,0,0,0,0,0,0,0,0,0,0,0,0,0,0,0,0,0,0,0,1,0,0,0,0,0,0,0,0,0,0,1,0,0,0,0,0,0,0,0,0,0,0,0,0,0,0,0,0,1,1,0,0,0,0,0,1,0,1,0,0,0,0,0,0,0,0,0,0,0,0,0,0,0,0,1,0,0,0,0,0,0,0,0,0,0,0,0,0,0,0,0,0,0,0,0,0,0,0,1,0,0,0,0,0,0,0,0,0,0,0,0,0,0,0,1,0,0,0,0,0,0,0,0,0,0,0,0,0,0,0,0,0,0,0,0,0,0,0,0,0,0,0,0,0,0,0,0,0,0,0,0,0,0,0,0,0,0,0,0,0,0,0,0,0,0,0,0,0,0,0,0,0,0,0,0,0,0,0,0,0,0,0,0,1,1,0,0,0,0,0,0,0,0,0,0,0,0,0,0,0,0,0,0,0,0,0,0,0,0,0,0,0,0,0,0,0,0,0,0,0,0,0,0,0,0,0,0,0,0,0,0,0,0,0,0,0,0,0,0,1,1,1,0,0,0,0,1,0,0,0,0,0,0,0,0,0,0,0,0,0,0,0,0,0,0,0,0,0,0,1,0,0,0,0,1,0,0,0,0,0,0,0,0,0,0,0,0,0,0,0,0,0,1,0,0,0,0,0,0,0,0,0,0,0,0,1,0,0,0,0,0,0,0,0,0,0,0,0,0,0,0,0,0,0,0,0,0,0,0,0,0,0,0,0,0,0,0,0,0,0,0,0,0,0,0,0,0,0,0,1,0,0,0,0,0,0,0,0,0,0,0,0,0,0,0,0,0,0,0,0,0,0,0,0,1,0,0,0,0,0,0,0,0,0,0,0,0,0,1,0,0,0,0,0,0,0,0,0,0,0,0,0,0,0,0,0,0,0,0,0,0,0,0,1,0,0,0,0,0,0,0,0,0,0,0,0,0,0,0,0,0,0,1,0,0,0,0,0,0,0,0,0,0,0,0,0,0,1,0,0,0,0,0,1,0,0,0,0,1,0,0,0,0,0,0,0,0,0,0,1,0,0,0,0,0,0,0,0,0,0,0,0,0,0,0,0,0,0,0,0,0,0,0,0,0,0,0,0,0,0,0,0,0,1,0,0,0,0,0,0,0,0,0,0,0,0,0,0,0,0,0,0,0,0,0,0,0,0,0,0,0,0,1,0,0,0,0,0,0,0,0,0,0,0,0,0,0,0,0,0,0,0,0,0,0,0,0,0,0,0,0,0,0,0,0,0,0,0,0,0,0,0,0,0,0,0,0,0,0,0,1,0,0,0,0,0,0,0,0,0,0,0,0,0,0,0,0,0,0,0,0,0,0,0,0,0,0,1,0,0,0,1,0,0,0,0,0,0,0,0,0,0,1,0,0,0,0,0,0,0,0,0,0,0,0,0,0,0,0,0,0,0,0,0,0,0,0,0,0,0,0,1,0,0,0,0,0,0,1,0,0,0,0,1,0,0,0,0,0,0,0,0,0,0,0,1,0,0,0,0,0,0,0,0,0,0,0,0,0,0,0,0,0,0,0,0],\"coloraxis\":\"coloraxis\",\"opacity\":0.7,\"symbol\":\"circle\"},\"mode\":\"markers\",\"name\":\"\",\"showlegend\":false,\"x\":[7.4171534,-7.4415107,-3.1934314,4.9834046,7.4700565,8.466167,-5.84889,-8.817316,-7.0074883,7.5062823,1.4556578,-2.4306104,3.1047416,6.6399636,-2.5750644,-5.6858006,3.654701,-7.9387646,3.531408,-5.7901382,-7.9587026,-4.0638995,12.400833,6.478727,7.1230216,-2.7846231,-5.2281218,1.8053905,-6.8733096,3.3860586,0.3254596,-9.47863,-4.041429,0.2277502,-6.522673,7.4852805,-9.418973,3.5631332,6.52007,3.411487,-8.063251,6.820396,-3.631149,-5.5721903,-8.041832,3.612143,7.2323155,7.564568,-7.9419584,-3.8378458,-3.9751177,-8.785754,-5.5813785,2.8019698,6.295817,5.1991253,7.127452,3.9336145,4.2389307,-2.724409,-1.7638719,-7.404366,-7.9645557,8.592829,6.4935155,2.9331667,-8.858748,3.2304487,-9.588643,-6.869883,1.8465304,5.19815,12.035226,6.3703184,-7.154715,-1.808298,3.593981,5.053769,4.8633814,7.2216125,0.26126826,3.9953954,3.0011497,12.030614,0.34137392,8.242018,-1.6572082,3.0756962,5.6949697,7.084538,-5.29509,7.5968323,1.8239082,3.4373121,-7.9105053,7.4433327,11.997064,6.5037937,-6.3300014,-6.53942,-2.709564,-7.680789,-6.917491,3.6503873,-3.204141,2.218163,-9.571397,3.6420825,-9.620529,-2.575173,4.8978457,6.11891,5.0657554,-7.889331,-8.189325,2.30486,-7.9662676,-7.9069796,1.7629215,-3.8345451,-6.5957685,-5.7943554,-5.7927847,6.715104,7.045237,3.6818643,-1.5555236,3.5910306,3.6140556,6.839332,-7.3780575,5.122,-8.354912,7.102788,-6.791201,-7.36994,-2.1330614,3.2645526,5.874426,8.483343,5.398417,1.827822,6.3288045,1.4292216,12.181314,3.575143,3.6212997,-4.309108,-2.5462391,3.7266264,-5.306973,2.7722514,5.350926,-8.646912,0.2760645,4.1624255,-8.830915,7.1142683,7.6865845,7.516829,3.3816912,-7.972669,7.4950337,-6.753059,4.284814,2.2262049,-2.5898883,-1.7823844,-3.3814924,3.3376515,-3.0271657,-3.86865,-4.433335,7.060552,-4.2124853,4.9477735,7.3797927,2.6968212,6.1558504,2.834763,4.120712,-2.978486,-4.4294868,-2.4281695,-9.337797,8.221863,-8.715838,7.124841,-8.846382,7.3422365,-2.6124454,-2.6149476,-6.9925833,-2.7950206,4.1837134,8.382953,-6.899829,-2.287512,0.36832777,-4.094673,-3.3063824,3.3489182,-6.955812,-7.184953,-6.7794785,-4.133099,-6.488284,3.250292,5.0896597,5.4529,-5.751103,7.546621,5.0147696,-5.5952997,-7.928661,-2.5802364,-6.7567863,-6.867794,6.838596,12.067571,-6.935105,-6.075943,7.0502024,-6.906679,-3.3689904,-6.9756403,-7.947429,-5.5683885,8.511871,-5.063168,11.973667,-7.0833764,-8.923671,12.131179,-2.9046166,-2.7865906,-8.028062,5.5029864,4.9329963,-6.8079586,3.4268866,-6.9508424,-6.862114,-7.862187,2.6771634,-4.3522573,-7.437682,6.0568314,-7.8846903,-5.0531826,-7.46288,7.163247,12.020695,4.0721135,1.9512461,-5.5213776,6.8519425,-2.791495,6.7175446,7.474346,-4.0640774,-7.965044,-4.1537895,2.7227566,-6.961019,1.9647253,-9.454689,4.215074,-7.0257382,3.5558698,3.520496,-6.9252796,-6.3955746,-7.3374047,-4.190697,-5.0904636,3.9908202,4.0146146,-7.252516,7.165099,3.222443,5.114596,8.504641,-5.7857747,-5.2878065,5.287688,-9.635907,1.7601075,-9.246287,-9.495075,-7.9979215,12.455191,8.47592,3.6203158,-8.410329,2.2007852,-2.4456992,-6.569435,-5.585882,-5.792865,-5.6004796,-2.714383,1.7734368,-5.24846,2.2526343,-5.285411,-7.1026993,-5.6955366,5.4376464,7.689195,-5.24273,-2.4694388,6.241291,8.753063,-5.461701,4.489563,7.1923633,-6.2777505,-3.340302,5.1380315,-6.8199415,-7.509016,5.500946,3.4179132,12.550333,6.60478,7.497629,-5.7551537,7.1916513,-5.2470446,7.008825,2.7551324,-5.773475,3.9367137,4.52949,6.5959773,-6.5560327,-6.6435738,-8.807604,3.5677536,-6.6877866,-8.473527,-3.9328797,-8.036884,7.5042624,-6.466669,4.095884,-7.20058,3.3178265,-2.7603483,5.311997,-5.014504,-8.048957,-5.3738413,1.8774606,5.3763576,3.9316607,6.202905,7.247291,6.5617456,12.169192,-5.072451,-6.8746424,3.493708,-5.2593155,3.2824314,7.113346,3.3288958,3.5409887,8.533029,-6.583971,-5.5834866,5.08021,12.523182,-4.053811,4.5171556,-7.9791627,1.8401518,7.1447754,6.483119,3.661904,-6.5400057,-4.0671353,4.51716,-3.7665384,3.609373,5.421883,12.123284,-2.7343433,3.1902835,1.9423755,-2.9944332,-2.635794,-5.885997,7.5180907,-1.5903311,-4.39106,3.5480943,-8.67071,-8.038464,1.4621589,7.5194144,6.0161953,7.068965,5.6617484,-8.306001,-7.3743286,-8.781716,-5.3889365,5.441717,-6.46998,3.3117056,-6.233282,6.2259097,4.90544,7.494566,-9.599704,5.466598,8.656882,-3.994377,3.348717,4.7463865,6.862792,-6.633858,-5.80302,-8.125463,-9.307258,-3.871794,-2.9679425,-7.2593923,2.2414684,3.6197188,6.566667,-7.015872,6.795467,6.6712036,-6.799926,-1.5806592,7.201362,7.1076975,-6.3783383,2.2892582,-2.510085,-4.3299575,8.162371,-7.3339915,12.415305,7.5137167,-3.6168098,-7.9814496,-2.562523,-8.023571,3.9738965,-2.5100098,8.435514,-3.1719482,2.1398613,-4.0174837,-9.564604,7.1917014,-5.3288493,6.8424253,7.115817,-8.793674,1.9711545,7.3332176,3.3660169,4.9363685,3.314117,1.9347283,-8.784484,-8.345339,-7.833014,3.4846587,5.831018,-3.295309,12.033282,1.8170884,-4.428082,7.2273626,12.55637,6.80823,-5.3054957,4.0626874,-6.904969,4.266829,1.9600589,-2.7800424,-3.3225725,-5.761207,-2.7574017,6.7767563,7.253484,-8.447169,1.7698636,-3.3751645,-5.1987934,7.572042,4.9580517,-3.9820592,4.305302,-8.060124,-9.401648,-8.439545,-3.9249866,-6.690269,7.499753,6.7543445,6.8353205,-3.9367604,6.9986205,6.6420536,6.898454,4.640731,12.094011,4.5414352,3.9306011,-5.697179,1.9359381,1.917247,-6.5800667,6.0158525,6.155924,4.6496167,4.3884735,2.2503774,-1.5389259,2.9922237,5.221868,-9.661756,4.7989264,-2.4979434,1.847735,-1.8302081,4.336952,-8.600803,-5.587191,-6.6496873,7.0695157,12.403775,4.456929,2.7334142,-6.177196,-7.8592553,-7.390818,-7.383734,-5.5311346,5.64549,7.1044197,-3.3465981,-2.8495374,-2.5875008,-7.6681585,2.8159485,6.506386,-9.520021,-6.699183,3.386423,3.5202782,7.2039843,5.1289935,4.1576724,3.9343076,4.99902,-7.83487,-3.7907119,3.576134,-2.9023206,3.2123768,8.187532,-5.2737093,-7.943093,-6.791328,12.04893,-2.9058568,-2.5483005,-2.6280582,5.710166,-6.4397187,3.3524227,-2.9206543,8.72268,12.382474,-6.990005,2.1187558,0.1898066,-5.262164,3.388113,-2.458226,-8.580445,-7.3742747,7.7760506,-3.3433957,6.80202,8.498422,3.304956,-7.05214,3.3291996,2.226185,7.0535197,-5.533198,3.3569682,-2.7526586,1.7285968,-2.7459505,-8.419488,-5.350809,3.2148795,12.426814,-2.681836,5.366292,6.296612,8.426585,-4.2776084,4.2425194,3.16234,2.2507768,-3.998155,8.692068,-3.6200163,-7.936583,7.414034,8.218245,12.408177,-6.3525805,6.084258,3.1902308,-8.407807,7.1702795,-7.876365,-6.8007793,3.2255633,0.29136726,2.180229,-8.4751215,2.7838607,3.3552015,6.6084027,3.0794108,6.557618,-1.789198,3.0918157,-7.2559323,7.144441,2.9557366,-9.594684,3.4015558,-7.3348885,0.18386908,6.8654203,7.758392,4.157776,1.4406971,8.731112,4.5265083,-6.7655835,1.8415775,-9.468466,-6.3005996,4.358485,-5.502958,-2.7295291,-6.523755,1.867254,3.082033,-8.899953,-7.122462,-8.080165,-5.261024,-2.7739139,5.34502,2.1839173,4.092312,-2.6366255,-5.7152376,4.3355036,-2.5531247,1.8429022,-5.4300523,7.050468,1.8897262,-7.313416,-5.743274,3.2300673,3.417966,2.1372442,-5.849933,1.7874471,-3.9552875,5.7599463,-5.519997,-6.9433465,-3.3831654,-5.5288663,-6.726861,-3.3612258,-5.8817425,3.0248556,-5.6343207,3.4066353,-5.7834263,1.4398543,6.5892625,-2.4274058,-3.9388838,6.9762287,6.8571324,-7.9231367,-6.9112854,-6.372748,-5.3391376,6.964638,3.4932704,4.4701786,4.2939987,-2.2422035,-2.601063,7.7912717,-2.563912,-6.2888007,3.9946187,-8.450712,4.60112,4.987628,7.0422015,-5.274017,8.574264,7.1199446,-7.4430423,-1.5134362,4.31732,7.1490526,-5.39455,-5.122008,-7.664242,6.8673377,7.105017,2.226829,4.5419083,3.6014907,-2.4844713,4.766422,3.6734679,-4.308362,7.4720845,-5.4384127,4.514935,7.457251,-6.828327,4.4107523,4.6545353,-8.029652,-5.918025,7.08434,5.086395,6.4765153,-5.227547,-3.3368003,-2.513685,6.742383,8.677587,-5.3649383,2.8485985,-2.3733232,0.20865566,6.521169,-6.748462,3.2268577,-5.7525797,-1.613973,-2.367861,4.3181562,-6.897294,6.641988,3.4897919,12.511617,-9.559541,-9.32727,-1.7987916,-2.4313323,6.630473,2.2989805,-7.3406286,7.0206904,-5.7260847,6.1078863,12.57531,-5.0206566,2.8210342,4.635016,-9.518637,-3.890423,-6.734052,7.1891003,-6.702052,7.499544,-5.7093906,5.199312,-6.172408,-4.45163,3.350889,2.7647064,-9.371632,-1.7131578,2.1931474,7.231646,-2.7436244,4.542368,-4.2163672,-7.452729,7.163498,7.463876,-8.90244,-1.6900995,-3.3010042,4.4172115,-7.971474,4.225681,6.2404327,-5.3556967,-7.890818,-4.333005,-5.468835,6.564692,-6.466331,2.115102,-3.4663777,-2.2596765,2.9616485,-2.49791,-7.0670557,-4.4951544,5.972795,-5.2784514,-3.5572574,6.4650564,5.744853,2.0532644,8.189228,5.169889,-5.4652114,-8.899715,-3.476767,-6.6328263,2.0962508,6.855732,3.1874235,2.1183994,3.6170385,4.7924623,4.0530844,7.4953446,7.0591383,-6.565316,3.9884932,3.5728073,-8.784583,3.4093835,-4.4575887,4.465287,-6.5433016,-9.484077,-2.5612092,4.020829,0.16541508,6.8580995,5.704746,4.834768,2.1092286,-2.4513962,-2.96199,6.752646,-2.4886103,-2.67969,8.700048,2.2666032,5.943976,1.4681057,-5.4186077,-8.277299,4.4447227,3.494691,4.036744,7.0493846,2.1107838,7.5015626,-8.0011835,3.1713161,3.3981082,-9.596077,6.1218476,8.323139,4.4608903,-4.09943,-9.457776,5.2980437,12.4905205,4.101147,-5.467636,-8.790347,3.0533748,12.477719,7.5520105,-6.710987,-7.427706,7.5846577,3.4864812,-2.524767,3.5542383,4.217554,-7.9230814,8.5767765,7.1415143,-2.5778294,7.073817,4.030654,3.104678,-7.3469567,7.166371,-3.3555937,-5.8173327,-6.6311855,5.1902223,-6.966275,-8.666751,-9.6235485,3.3265479,3.1154737,12.019406,-7.151255,-2.1821134,-8.308351,-5.1830435,-3.9571276,4.151592,3.0937605,7.2410693,-5.2259083,-9.503149,7.5806065,6.1738844,3.6431215,-2.7683961,-5.8415947,-9.590623,12.5501585,0.2951385,7.1542273,3.4928765,4.8402114,-9.303286,-5.276377,3.5636437,0.28557858,7.2089105,-4.4912887,-2.5369031,-2.5438511,-6.21908,-7.9674377,-5.4380274,5.344225,-2.5739229,-7.499388,-2.4895604,-3.3177485,-2.5703995,-8.594091,0.3370037,-4.1619253,-7.0971565,-2.740853,-3.354495,-5.3176064,5.0042686,-7.999747,-4.330816,5.4373646,-5.312596,-3.818803,-6.252226,12.15899,5.2734,-6.935793,-8.795591,-4.4953556,3.4704163,4.691036,7.4670076,-8.9359045,4.591888,4.4848166,-5.6326723,-5.7690253,4.1511445,-6.9671507,3.2233896,3.9660883,-6.921543,6.0702662,7.051497,7.0313897,5.0978484,-6.757353,7.5132837,-7.026998,7.658405,-5.481602,3.0199287,4.0723367,5.1632595,2.7086678,-2.6956964,3.6361232,3.1946669,2.132109,4.9699244,3.0511816,-3.9059908,7.121734,4.873931,-3.348771,-8.029094,5.086634,-2.169694,-7.3662453],\"xaxis\":\"x\",\"y\":[-2.564976,6.3536887,5.872501,-7.6177177,-2.3324122,-3.9930007,6.615951,6.7271366,5.7931113,-4.757654,5.170291,2.7196555,7.7846828,-4.509836,8.904264,6.9122276,-2.7976825,6.128717,-2.5933595,6.6550946,4.5238404,2.2954378,7.6224346,-6.0074577,-4.385515,2.33513,-1.6177909,5.522413,0.62525105,3.597517,-1.0389537,6.61607,6.3422375,-0.93505937,5.3248024,-2.8684728,6.049537,7.4611216,-5.91958,8.937828,-0.05469378,-4.6567845,6.1431694,6.8894243,-0.034113333,7.421645,-4.9445963,-4.8069634,7.720926,6.162029,2.3259122,7.67747,0.0289694,4.190589,-5.966293,-7.081797,-1.727226,-7.614962,-7.986915,4.2663875,1.9239872,5.6540003,4.5597196,-4.4561434,-3.2267919,7.4608097,6.7906437,3.7643216,6.1885448,7.7692924,5.496502,-7.433189,3.389446,-5.668495,6.0328074,1.9666746,-2.7232828,-7.488305,-7.1352115,-2.098731,-0.9689633,-7.5540223,7.4906225,3.3849013,-1.0587801,-3.671968,1.8315445,8.345735,-5.478033,-0.8729587,0.60903096,-3.1976237,5.201483,-2.4659567,0.09459539,-4.7316637,3.3499715,-6.013019,4.721861,5.936351,5.2481346,5.9893074,4.6047673,7.7129908,5.901542,5.0131946,6.4569726,7.436474,6.2446933,8.905246,-7.699439,-5.7143927,-7.0014277,0.10381362,7.7549486,4.7258606,7.56214,4.542943,3.2258084,2.2643695,4.4452,7.537388,7.4819984,-3.4119413,-3.6156561,-2.743297,1.7310277,-2.648774,-2.7564955,-3.2366674,5.0969095,-3.8961272,7.769345,-0.9505476,4.500832,5.6771393,2.1802664,3.7259347,-5.7440233,-4.529874,-6.790991,3.3382597,-5.627978,5.174782,3.5373032,-2.6466773,8.137213,6.167672,2.9209456,-4.213017,0.57223386,4.1932387,-6.8422275,7.6379576,-0.98569477,-7.599987,7.4741173,-0.93533254,-3.6564322,-3.449509,3.6241024,7.506484,-2.314819,4.5257015,-3.6274135,5.1620007,8.918035,1.9471058,5.702594,-4.708164,2.1304557,6.167405,6.082586,-0.8480745,2.0708914,-7.63877,-2.633815,4.200721,-5.7693367,3.9133265,-7.868612,2.1378267,5.6407027,4.126466,5.949965,-3.6268818,6.6872087,-0.9415141,6.6904087,-4.92093,8.944409,5.0622635,6.5282154,2.963287,-7.6089387,-4.5926757,7.7660995,2.3309817,-1.0891918,2.2336495,5.9775133,-4.676906,5.722264,6.474528,7.613907,6.3417068,4.4267344,8.789663,-6.9985466,-5.135764,6.662594,-3.3895612,-3.9620929,6.893995,0.07403369,4.9605374,6.462865,6.571281,-5.294013,3.4217548,0.69555765,6.2183137,-5.7450852,7.7874727,6.020663,7.811488,7.6918178,0.026608152,-4.06876,-1.4779526,3.326614,6.4740105,6.7644796,3.4868157,2.2289634,2.6212857,-0.021150703,-3.4466028,-3.9275198,0.65535724,3.6569345,0.69272417,0.67590475,4.646743,4.0423527,5.7811933,6.377879,-3.059562,0.11037278,-1.4420087,6.4082646,-1.7987665,3.374323,-7.8992043,5.6123853,0.2925564,-3.3019319,5.3189797,-3.3951116,-4.6997943,2.1209834,4.5305085,6.316846,3.925141,0.69388896,5.448025,6.627973,-2.8640413,6.5397754,-2.596728,-4.4320693,4.579415,4.573534,7.673809,2.0802305,-1.5221388,-7.5741367,-3.1296976,6.183526,-5.504706,3.7504814,-6.990478,-4.019248,6.716034,0.62189186,-4.3145576,6.089999,3.2537649,6.745301,6.1685157,4.5537443,7.678514,-4.506133,-2.6910694,7.620453,4.4716196,4.152684,5.9074364,0.15363625,6.671883,6.9576693,4.252256,3.2639446,-1.2004182,4.4829893,-1.6786654,6.4478955,6.0382967,-3.5145926,-3.657071,-1.1411695,4.1249366,-5.915754,-4.2628603,0.31702474,-3.2368288,-3.424839,4.9807734,5.628445,-3.7704084,7.720187,5.010448,-3.435848,8.993298,7.7992053,-5.6434994,-2.2928214,7.443062,-1.7358857,-1.648105,-5.8017654,3.9852057,6.6812463,-2.9407532,-5.0282836,-4.4834104,6.6184464,5.300425,6.6923466,8.273748,6.4808736,6.4329515,6.2118716,-0.023768887,-2.9300604,4.512596,-7.9275994,6.1775036,-4.6280985,3.1593387,-4.9571233,-1.4258417,-0.040631868,-1.069081,5.5209403,-6.775608,-7.4654856,-5.807959,-1.9665507,-5.712607,3.5256379,-1.4937446,0.6572,-4.4737554,-1.6223493,7.395857,-0.9243093,8.84578,7.6205263,-4.074821,4.437904,0.04823311,-3.8362541,7.758543,6.2966876,-5.0425315,4.515078,5.5077,-1.8251638,-4.474151,-4.2886333,5.3317466,2.251472,-5.09684,6.1227765,8.125783,-5.07001,3.4802895,4.3066335,7.734827,3.4940581,2.1448894,5.0229588,7.635594,-4.719953,1.7678351,5.716488,-2.6315215,7.684187,6.2203712,5.1709585,-4.7801213,-3.0949306,-4.4858646,-3.28568,7.762203,5.054413,6.696693,0.5273077,-3.4727921,5.964403,-4.69028,5.019437,-5.8089256,-7.708096,-4.7625265,6.266057,-5.119861,-4.397227,2.3569007,-4.7122936,-4.840944,-5.750071,6.4589505,7.5543537,6.2715297,5.939025,2.3375604,2.7706294,5.9961605,4.5767074,7.375014,-3.2998261,0.8117968,-5.322544,-5.462261,7.6473956,1.7555995,-2.07151,-5.2674737,4.660659,4.661224,5.017428,5.861888,-3.5728965,5.047652,7.6423454,-2.2944136,2.468449,6.14693,8.8912945,-0.01833825,-7.3916345,4.1824265,-4.5820017,5.8035855,4.154714,2.1993406,6.4369907,-4.9045115,-1.101676,-4.6309056,-4.2292933,7.645183,3.547574,-4.9539266,3.6292489,-3.9153976,3.6999524,3.5037405,7.496103,7.61612,4.7242985,7.512125,-5.699256,5.9921403,3.3874419,3.329192,5.649668,-5.5402293,7.7913847,-5.269771,-1.6444764,-3.2325497,6.574158,-3.6222138,5.4556313,2.8750079,5.631362,6.0542655,4.260097,-5.8849993,-2.0771074,6.365024,3.2564993,5.6664624,-1.170613,-4.7737303,-7.11736,2.3199873,-3.534944,7.729308,6.046546,6.4232836,2.348119,5.800348,-2.225261,-5.302547,-3.243675,2.270758,-5.7982783,-3.4228563,-5.828,-3.2279258,3.4494789,-7.648691,-7.530352,7.343146,3.492492,3.4612598,5.8334103,-3.0805473,-3.03539,-3.1986704,-3.4864333,5.1330776,1.715679,8.305955,-4.837389,6.0012693,-7.746865,4.1267285,5.4942775,1.9828253,-7.983814,6.526206,0.17380369,5.8232884,-0.8714905,7.632852,-3.432184,4.020276,6.2439804,4.656173,7.6662254,7.651174,0.2764078,-3.3028653,-4.382287,6.0301743,5.3882127,8.918563,5.975182,4.1008115,-3.2144127,6.526793,7.4443345,8.954337,7.7229457,-5.5051947,-6.960857,-2.784927,-7.4871945,-3.8948696,4.6442175,6.1167426,8.296936,5.445829,3.780372,-3.5992782,0.63709205,0.06241732,4.586138,3.4032915,2.2246578,4.200287,8.957083,-3.2495515,4.5269227,-4.6913958,2.2098236,-4.34532,7.6107183,0.7367418,4.0830374,-0.8960277,-1.5964103,8.933062,4.922032,6.517902,5.632324,-3.7254603,5.6552844,-5.804631,-4.478439,3.6957557,6.4559407,7.705833,4.932448,-0.8511109,6.8741364,8.895909,2.3756127,3.2094378,3.1462984,7.6518383,0.69993716,8.7591,7.658277,2.6787283,-3.5534143,-5.8763995,-3.9623928,6.184285,-8.02839,8.335152,4.566374,2.2455263,-4.4699383,6.1370826,4.5595055,-4.7050257,-3.5929058,7.638578,4.7229567,-3.0553792,8.688446,7.73495,-3.5200224,4.604711,0.6644961,8.730145,-1.0002338,5.2193875,6.370768,3.925984,-4.7100635,-3.276362,7.697068,-4.463709,1.9546778,8.262924,6.214254,-1.8230151,8.243604,6.4041123,9.003486,5.148548,-0.88769823,-5.1913223,-3.5847306,-7.6638217,5.175853,-4.336534,-5.028061,4.5209503,5.313543,6.1707387,5.0242195,-3.5112557,-1.0159929,5.241106,5.3003197,3.3831003,7.705045,7.384072,5.973108,-0.0708461,-1.6650894,2.387581,-4.9891715,4.096973,-7.6231313,4.8642383,0.086158805,-7.8729143,8.869351,5.2195344,-1.1542468,-0.8538374,5.5621295,5.722164,7.4743223,8.767815,9.00685,4.09956,7.59123,3.2756505,2.3630323,-3.2260602,0.32178786,6.55244,6.024833,0.28349936,5.7255864,5.9966855,7.615419,8.300889,-0.021863988,3.6185408,7.564266,5.1550593,-4.493226,4.1167526,2.3466966,-4.4816337,-3.2657835,0.082269944,0.6713185,4.625793,0.5403,-3.4932878,-4.4641933,-5.0503597,-3.5754895,2.2711203,4.9051204,-3.637228,8.896124,4.8133726,-3.1029527,6.421112,-4.9382,-7.078924,-4.5088615,-1.1435478,-4.1504693,-5.7552857,5.6652145,1.6862727,-7.954775,-5.621555,-1.1607525,-1.2564846,5.9997845,-5.895448,-3.576022,5.1161304,-5.0103054,7.771921,4.165769,-4.809169,-4.277417,1.9898939,-2.295903,-1.1355569,-3.273979,-4.845642,0.65441847,-3.4400198,-3.22083,-0.022771755,7.662525,-0.8945151,-7.452823,-6.0552444,-1.6440334,6.001298,2.885538,-5.2749023,-4.3408337,0.5075818,4.044568,2.5661254,-0.9147178,-3.2553422,7.5676036,8.435112,7.3489575,1.7882675,2.4929266,-3.557131,7.7673125,-5.7044454,-2.5508792,7.7425756,6.394996,6.8669305,1.9541109,4.1170545,-4.9936275,4.7122297,5.7029805,-0.8181134,7.3394103,-5.697895,7.8112054,-1.4187123,4.0318313,-4.901393,6.52886,2.3722982,7.54879,-3.5268173,4.4324255,-3.412009,6.983974,-6.8968883,6.2320123,1.8482906,-4.6500998,3.9335637,5.997416,1.8817827,4.990494,-2.0239067,2.6896605,-7.682906,2.0249145,6.3224096,-5.3439174,-4.646455,7.3332014,1.8569412,6.0492167,-7.7408,4.5150523,-2.8466952,-5.8916564,-1.0998634,4.6164527,5.9107637,0.0932487,-3.3162084,4.5842524,4.9278975,6.047555,2.293084,7.428132,2.8520088,5.295673,5.55615,-3.1114194,0.62777066,2.2488801,-5.9986773,-5.5373006,5.0279927,-3.6411767,-6.910214,-1.0704447,7.316178,2.1988328,5.2685623,5.3266788,-5.3022757,3.748575,4.1330757,-2.7430956,-7.3121,-7.5544014,-2.2993314,-0.85710484,4.542042,-3.0924292,7.6520743,7.450505,3.6031418,5.61062,-7.7544446,5.2738485,6.1716995,8.892745,-7.3524327,-0.87071645,-3.2645671,-3.2550213,-7.707895,4.9886312,2.79926,2.6869457,-5.5388846,2.8595822,5.164253,-4.3485813,5.0852375,-5.772066,5.204257,-1.1254367,7.7545185,-7.791784,7.3969083,-3.2394133,-5.654451,4.40817,-4.7496915,6.239518,8.39854,8.973924,6.093354,-3.059401,-4.596749,-7.77445,2.180773,6.5891795,-5.0017543,7.715068,-2.8561172,0.3659394,7.6406665,8.298569,7.696054,-4.762298,7.495031,5.131915,-3.2430408,-2.5367248,5.0072074,7.4613824,-7.952525,7.694413,-4.3795214,-0.7769694,8.909946,-0.88283545,-2.9048922,7.5292387,5.057842,-1.8737578,5.668545,7.6387,4.404064,-6.921129,5.727473,7.592559,6.3990345,-4.7027316,7.497116,3.3735058,6.481419,2.202022,6.28889,-1.1830497,6.207533,-2.8424966,7.6618047,-1.9916282,0.6886989,6.5416737,-3.2881253,-3.0714507,8.082865,2.816608,7.6130667,6.3737764,7.786535,-1.0099186,-3.5743253,7.7209625,-7.691765,6.6956234,-1.6358396,8.276137,-0.99557793,-2.0134535,5.5499716,4.823978,4.835156,4.8498793,4.630613,0.4369868,-4.509248,8.896179,6.2643013,4.9711843,5.6344037,8.891324,7.585579,-1.0561702,6.317414,6.4866667,5.286116,5.588685,0.5262867,-3.955233,6.1452904,5.8049145,-3.4798133,0.5852709,6.121697,4.8741055,3.5147252,-4.862508,4.6444106,7.631115,5.556255,-2.519607,-4.8756385,-2.8192794,6.7770596,-4.976561,-5.0766883,-0.055101328,6.051861,-2.8425307,0.7108523,8.784324,-2.9697716,6.605832,-3.0312257,-3.6083858,-5.803568,-7.0592303,6.4671116,-4.740158,0.6910696,-3.6994307,0.2896851,7.4313025,-3.1594517,-4.836062,3.9032104,4.2582364,7.6980505,3.7796507,4.438338,-3.9360454,7.7810326,2.314282,-3.5797155,-7.690245,5.6316323,-0.021237466,-7.5585165,2.2052255,5.11285],\"yaxis\":\"y\",\"type\":\"scattergl\"}],                        {\"template\":{\"data\":{\"bar\":[{\"error_x\":{\"color\":\"#2a3f5f\"},\"error_y\":{\"color\":\"#2a3f5f\"},\"marker\":{\"line\":{\"color\":\"#E5ECF6\",\"width\":0.5},\"pattern\":{\"fillmode\":\"overlay\",\"size\":10,\"solidity\":0.2}},\"type\":\"bar\"}],\"barpolar\":[{\"marker\":{\"line\":{\"color\":\"#E5ECF6\",\"width\":0.5},\"pattern\":{\"fillmode\":\"overlay\",\"size\":10,\"solidity\":0.2}},\"type\":\"barpolar\"}],\"carpet\":[{\"aaxis\":{\"endlinecolor\":\"#2a3f5f\",\"gridcolor\":\"white\",\"linecolor\":\"white\",\"minorgridcolor\":\"white\",\"startlinecolor\":\"#2a3f5f\"},\"baxis\":{\"endlinecolor\":\"#2a3f5f\",\"gridcolor\":\"white\",\"linecolor\":\"white\",\"minorgridcolor\":\"white\",\"startlinecolor\":\"#2a3f5f\"},\"type\":\"carpet\"}],\"choropleth\":[{\"colorbar\":{\"outlinewidth\":0,\"ticks\":\"\"},\"type\":\"choropleth\"}],\"contour\":[{\"colorbar\":{\"outlinewidth\":0,\"ticks\":\"\"},\"colorscale\":[[0.0,\"#0d0887\"],[0.1111111111111111,\"#46039f\"],[0.2222222222222222,\"#7201a8\"],[0.3333333333333333,\"#9c179e\"],[0.4444444444444444,\"#bd3786\"],[0.5555555555555556,\"#d8576b\"],[0.6666666666666666,\"#ed7953\"],[0.7777777777777778,\"#fb9f3a\"],[0.8888888888888888,\"#fdca26\"],[1.0,\"#f0f921\"]],\"type\":\"contour\"}],\"contourcarpet\":[{\"colorbar\":{\"outlinewidth\":0,\"ticks\":\"\"},\"type\":\"contourcarpet\"}],\"heatmap\":[{\"colorbar\":{\"outlinewidth\":0,\"ticks\":\"\"},\"colorscale\":[[0.0,\"#0d0887\"],[0.1111111111111111,\"#46039f\"],[0.2222222222222222,\"#7201a8\"],[0.3333333333333333,\"#9c179e\"],[0.4444444444444444,\"#bd3786\"],[0.5555555555555556,\"#d8576b\"],[0.6666666666666666,\"#ed7953\"],[0.7777777777777778,\"#fb9f3a\"],[0.8888888888888888,\"#fdca26\"],[1.0,\"#f0f921\"]],\"type\":\"heatmap\"}],\"heatmapgl\":[{\"colorbar\":{\"outlinewidth\":0,\"ticks\":\"\"},\"colorscale\":[[0.0,\"#0d0887\"],[0.1111111111111111,\"#46039f\"],[0.2222222222222222,\"#7201a8\"],[0.3333333333333333,\"#9c179e\"],[0.4444444444444444,\"#bd3786\"],[0.5555555555555556,\"#d8576b\"],[0.6666666666666666,\"#ed7953\"],[0.7777777777777778,\"#fb9f3a\"],[0.8888888888888888,\"#fdca26\"],[1.0,\"#f0f921\"]],\"type\":\"heatmapgl\"}],\"histogram\":[{\"marker\":{\"pattern\":{\"fillmode\":\"overlay\",\"size\":10,\"solidity\":0.2}},\"type\":\"histogram\"}],\"histogram2d\":[{\"colorbar\":{\"outlinewidth\":0,\"ticks\":\"\"},\"colorscale\":[[0.0,\"#0d0887\"],[0.1111111111111111,\"#46039f\"],[0.2222222222222222,\"#7201a8\"],[0.3333333333333333,\"#9c179e\"],[0.4444444444444444,\"#bd3786\"],[0.5555555555555556,\"#d8576b\"],[0.6666666666666666,\"#ed7953\"],[0.7777777777777778,\"#fb9f3a\"],[0.8888888888888888,\"#fdca26\"],[1.0,\"#f0f921\"]],\"type\":\"histogram2d\"}],\"histogram2dcontour\":[{\"colorbar\":{\"outlinewidth\":0,\"ticks\":\"\"},\"colorscale\":[[0.0,\"#0d0887\"],[0.1111111111111111,\"#46039f\"],[0.2222222222222222,\"#7201a8\"],[0.3333333333333333,\"#9c179e\"],[0.4444444444444444,\"#bd3786\"],[0.5555555555555556,\"#d8576b\"],[0.6666666666666666,\"#ed7953\"],[0.7777777777777778,\"#fb9f3a\"],[0.8888888888888888,\"#fdca26\"],[1.0,\"#f0f921\"]],\"type\":\"histogram2dcontour\"}],\"mesh3d\":[{\"colorbar\":{\"outlinewidth\":0,\"ticks\":\"\"},\"type\":\"mesh3d\"}],\"parcoords\":[{\"line\":{\"colorbar\":{\"outlinewidth\":0,\"ticks\":\"\"}},\"type\":\"parcoords\"}],\"pie\":[{\"automargin\":true,\"type\":\"pie\"}],\"scatter\":[{\"marker\":{\"colorbar\":{\"outlinewidth\":0,\"ticks\":\"\"}},\"type\":\"scatter\"}],\"scatter3d\":[{\"line\":{\"colorbar\":{\"outlinewidth\":0,\"ticks\":\"\"}},\"marker\":{\"colorbar\":{\"outlinewidth\":0,\"ticks\":\"\"}},\"type\":\"scatter3d\"}],\"scattercarpet\":[{\"marker\":{\"colorbar\":{\"outlinewidth\":0,\"ticks\":\"\"}},\"type\":\"scattercarpet\"}],\"scattergeo\":[{\"marker\":{\"colorbar\":{\"outlinewidth\":0,\"ticks\":\"\"}},\"type\":\"scattergeo\"}],\"scattergl\":[{\"marker\":{\"colorbar\":{\"outlinewidth\":0,\"ticks\":\"\"}},\"type\":\"scattergl\"}],\"scattermapbox\":[{\"marker\":{\"colorbar\":{\"outlinewidth\":0,\"ticks\":\"\"}},\"type\":\"scattermapbox\"}],\"scatterpolar\":[{\"marker\":{\"colorbar\":{\"outlinewidth\":0,\"ticks\":\"\"}},\"type\":\"scatterpolar\"}],\"scatterpolargl\":[{\"marker\":{\"colorbar\":{\"outlinewidth\":0,\"ticks\":\"\"}},\"type\":\"scatterpolargl\"}],\"scatterternary\":[{\"marker\":{\"colorbar\":{\"outlinewidth\":0,\"ticks\":\"\"}},\"type\":\"scatterternary\"}],\"surface\":[{\"colorbar\":{\"outlinewidth\":0,\"ticks\":\"\"},\"colorscale\":[[0.0,\"#0d0887\"],[0.1111111111111111,\"#46039f\"],[0.2222222222222222,\"#7201a8\"],[0.3333333333333333,\"#9c179e\"],[0.4444444444444444,\"#bd3786\"],[0.5555555555555556,\"#d8576b\"],[0.6666666666666666,\"#ed7953\"],[0.7777777777777778,\"#fb9f3a\"],[0.8888888888888888,\"#fdca26\"],[1.0,\"#f0f921\"]],\"type\":\"surface\"}],\"table\":[{\"cells\":{\"fill\":{\"color\":\"#EBF0F8\"},\"line\":{\"color\":\"white\"}},\"header\":{\"fill\":{\"color\":\"#C8D4E3\"},\"line\":{\"color\":\"white\"}},\"type\":\"table\"}]},\"layout\":{\"annotationdefaults\":{\"arrowcolor\":\"#2a3f5f\",\"arrowhead\":0,\"arrowwidth\":1},\"autotypenumbers\":\"strict\",\"coloraxis\":{\"colorbar\":{\"outlinewidth\":0,\"ticks\":\"\"}},\"colorscale\":{\"diverging\":[[0,\"#8e0152\"],[0.1,\"#c51b7d\"],[0.2,\"#de77ae\"],[0.3,\"#f1b6da\"],[0.4,\"#fde0ef\"],[0.5,\"#f7f7f7\"],[0.6,\"#e6f5d0\"],[0.7,\"#b8e186\"],[0.8,\"#7fbc41\"],[0.9,\"#4d9221\"],[1,\"#276419\"]],\"sequential\":[[0.0,\"#0d0887\"],[0.1111111111111111,\"#46039f\"],[0.2222222222222222,\"#7201a8\"],[0.3333333333333333,\"#9c179e\"],[0.4444444444444444,\"#bd3786\"],[0.5555555555555556,\"#d8576b\"],[0.6666666666666666,\"#ed7953\"],[0.7777777777777778,\"#fb9f3a\"],[0.8888888888888888,\"#fdca26\"],[1.0,\"#f0f921\"]],\"sequentialminus\":[[0.0,\"#0d0887\"],[0.1111111111111111,\"#46039f\"],[0.2222222222222222,\"#7201a8\"],[0.3333333333333333,\"#9c179e\"],[0.4444444444444444,\"#bd3786\"],[0.5555555555555556,\"#d8576b\"],[0.6666666666666666,\"#ed7953\"],[0.7777777777777778,\"#fb9f3a\"],[0.8888888888888888,\"#fdca26\"],[1.0,\"#f0f921\"]]},\"colorway\":[\"#636efa\",\"#EF553B\",\"#00cc96\",\"#ab63fa\",\"#FFA15A\",\"#19d3f3\",\"#FF6692\",\"#B6E880\",\"#FF97FF\",\"#FECB52\"],\"font\":{\"color\":\"#2a3f5f\"},\"geo\":{\"bgcolor\":\"white\",\"lakecolor\":\"white\",\"landcolor\":\"#E5ECF6\",\"showlakes\":true,\"showland\":true,\"subunitcolor\":\"white\"},\"hoverlabel\":{\"align\":\"left\"},\"hovermode\":\"closest\",\"mapbox\":{\"style\":\"light\"},\"paper_bgcolor\":\"white\",\"plot_bgcolor\":\"#E5ECF6\",\"polar\":{\"angularaxis\":{\"gridcolor\":\"white\",\"linecolor\":\"white\",\"ticks\":\"\"},\"bgcolor\":\"#E5ECF6\",\"radialaxis\":{\"gridcolor\":\"white\",\"linecolor\":\"white\",\"ticks\":\"\"}},\"scene\":{\"xaxis\":{\"backgroundcolor\":\"#E5ECF6\",\"gridcolor\":\"white\",\"gridwidth\":2,\"linecolor\":\"white\",\"showbackground\":true,\"ticks\":\"\",\"zerolinecolor\":\"white\"},\"yaxis\":{\"backgroundcolor\":\"#E5ECF6\",\"gridcolor\":\"white\",\"gridwidth\":2,\"linecolor\":\"white\",\"showbackground\":true,\"ticks\":\"\",\"zerolinecolor\":\"white\"},\"zaxis\":{\"backgroundcolor\":\"#E5ECF6\",\"gridcolor\":\"white\",\"gridwidth\":2,\"linecolor\":\"white\",\"showbackground\":true,\"ticks\":\"\",\"zerolinecolor\":\"white\"}},\"shapedefaults\":{\"line\":{\"color\":\"#2a3f5f\"}},\"ternary\":{\"aaxis\":{\"gridcolor\":\"white\",\"linecolor\":\"white\",\"ticks\":\"\"},\"baxis\":{\"gridcolor\":\"white\",\"linecolor\":\"white\",\"ticks\":\"\"},\"bgcolor\":\"#E5ECF6\",\"caxis\":{\"gridcolor\":\"white\",\"linecolor\":\"white\",\"ticks\":\"\"}},\"title\":{\"x\":0.05},\"xaxis\":{\"automargin\":true,\"gridcolor\":\"white\",\"linecolor\":\"white\",\"ticks\":\"\",\"title\":{\"standoff\":15},\"zerolinecolor\":\"white\",\"zerolinewidth\":2},\"yaxis\":{\"automargin\":true,\"gridcolor\":\"white\",\"linecolor\":\"white\",\"ticks\":\"\",\"title\":{\"standoff\":15},\"zerolinecolor\":\"white\",\"zerolinewidth\":2}}},\"xaxis\":{\"anchor\":\"y\",\"domain\":[0.0,1.0],\"title\":{\"text\":\"0\"}},\"yaxis\":{\"anchor\":\"x\",\"domain\":[0.0,1.0],\"title\":{\"text\":\"1\"}},\"coloraxis\":{\"colorbar\":{\"title\":{\"text\":\"Anomaly\"}},\"colorscale\":[[0.0,\"#0d0887\"],[0.1111111111111111,\"#46039f\"],[0.2222222222222222,\"#7201a8\"],[0.3333333333333333,\"#9c179e\"],[0.4444444444444444,\"#bd3786\"],[0.5555555555555556,\"#d8576b\"],[0.6666666666666666,\"#ed7953\"],[0.7777777777777778,\"#fb9f3a\"],[0.8888888888888888,\"#fdca26\"],[1.0,\"#f0f921\"]]},\"legend\":{\"tracegroupgap\":0},\"title\":{\"text\":\"uMAP Plot for Outliers\"},\"height\":800,\"width\":900},                        {\"responsive\": true}                    ).then(function(){\n",
              "                            \n",
              "var gd = document.getElementById('7ae578bc-2d95-462b-996c-9174cf9e340d');\n",
              "var x = new MutationObserver(function (mutations, observer) {{\n",
              "        var display = window.getComputedStyle(gd).display;\n",
              "        if (!display || display === 'none') {{\n",
              "            console.log([gd, 'removed!']);\n",
              "            Plotly.purge(gd);\n",
              "            observer.disconnect();\n",
              "        }}\n",
              "}});\n",
              "\n",
              "// Listen for the removal of the full notebook cells\n",
              "var notebookContainer = gd.closest('#notebook-container');\n",
              "if (notebookContainer) {{\n",
              "    x.observe(notebookContainer, {childList: true});\n",
              "}}\n",
              "\n",
              "// Listen for the clearing of the current output cell\n",
              "var outputEl = gd.closest('.output');\n",
              "if (outputEl) {{\n",
              "    x.observe(outputEl, {childList: true});\n",
              "}}\n",
              "\n",
              "                        })                };                            </script>        </div>\n",
              "</body>\n",
              "</html>"
            ]
          },
          "metadata": {}
        },
        {
          "output_type": "stream",
          "name": "stderr",
          "text": [
            "INFO:logs:Visual Rendered Successfully\n",
            "INFO:logs:plot_model() succesfully completed......................................\n"
          ]
        }
      ]
    },
    {
      "cell_type": "markdown",
      "source": [
        "# **12- Predict on unseen data**"
      ],
      "metadata": {
        "id": "yX0mFC1Kt41j"
      }
    },
    {
      "cell_type": "code",
      "metadata": {
        "id": "9NLEEGb04mXt"
      },
      "source": [
        "unseen_predictions = predict_model(iforest, data=data_unseen)\n",
        "unseen_predictions.head()"
      ],
      "execution_count": null,
      "outputs": []
    },
    {
      "cell_type": "code",
      "source": [
        "data_predictions = predict_model(iforest, data = data)\n",
        "data_predictions.head()"
      ],
      "metadata": {
        "id": "1VqUIJxTXxEW"
      },
      "execution_count": null,
      "outputs": []
    },
    {
      "cell_type": "markdown",
      "source": [
        "# **14-Saving the model**"
      ],
      "metadata": {
        "id": "fj9WrzTARTDJ"
      }
    },
    {
      "cell_type": "code",
      "source": [
        "save_model(iforest,'Final IForest Model 25Nov2020')\n"
      ],
      "metadata": {
        "id": "hbG_wrPmRau3"
      },
      "execution_count": null,
      "outputs": []
    },
    {
      "cell_type": "markdown",
      "source": [
        "# **15-Loading the saved model**"
      ],
      "metadata": {
        "id": "50HWSabbVtcw"
      }
    },
    {
      "cell_type": "code",
      "source": [
        "saved_iforest = load_model('Final IForest Model 25Nov2020')"
      ],
      "metadata": {
        "id": "MWiPzqT2N71M"
      },
      "execution_count": null,
      "outputs": []
    },
    {
      "cell_type": "code",
      "source": [
        "new_prediction = predict_model(saved_iforest, data=data_unseen)"
      ],
      "metadata": {
        "id": "u20l346ROB8L"
      },
      "execution_count": null,
      "outputs": []
    },
    {
      "cell_type": "code",
      "source": [
        "new_prediction.head()"
      ],
      "metadata": {
        "id": "deGn7v7UOHAT",
        "colab": {
          "base_uri": "https://localhost:8080/",
          "height": 386
        },
        "outputId": "24256062-0845-4278-b6e7-d175c3e86495"
      },
      "execution_count": 23,
      "outputs": [
        {
          "output_type": "execute_result",
          "data": {
            "text/plain": [
              "   MouseID  DYRK1A_N   ITSN1_N    BDNF_N     NR1_N    NR2A_N    pAKT_N  \\\n",
              "0    309_6  0.447506  0.628176  0.367388  2.385939  4.807635  0.218578   \n",
              "1    311_3  0.704633  0.802537  0.350110  2.467733  5.548400  0.205323   \n",
              "2    321_4  0.505093  0.695549  0.376029  2.915585  5.917957  0.226734   \n",
              "3  3415_12  0.429133  0.563175  0.258429  2.028151  3.542553  0.214075   \n",
              "4  3415_15  0.373648  0.471165  0.257909  1.860032  2.938526  0.218262   \n",
              "\n",
              "    pBRAF_N  pCAMKII_N   pCREB_N  ...  H3AcK18_N    EGR1_N  H3MeK4_N  \\\n",
              "0  0.176233   2.141282  0.195188  ...   0.116657  0.140766  0.142180   \n",
              "1  0.165058   2.107281  0.171401  ...   0.111089  0.157731  0.158543   \n",
              "2  0.174271   2.663039  0.190038  ...   0.131515  0.188391       NaN   \n",
              "3  0.176759   3.165139  0.167430  ...   0.118223  0.171071  0.173702   \n",
              "4  0.150380   2.610132  0.142571  ...   0.086785  0.126537  0.112690   \n",
              "\n",
              "     CaNA_N  Genotype  Treatment  Behavior   class  Anomaly  Anomaly_Score  \n",
              "0  1.816389   Control  Memantine       C/S  c-CS-m        0      -0.077131  \n",
              "1  1.404481   Control  Memantine       C/S  c-CS-m        0      -0.060165  \n",
              "2  1.699260   Control  Memantine       C/S  c-CS-m        0      -0.052132  \n",
              "3  1.405727   Control  Memantine       C/S  c-CS-m        0      -0.091610  \n",
              "4  0.790975   Control  Memantine       C/S  c-CS-m        1       0.037436  \n",
              "\n",
              "[5 rows x 84 columns]"
            ],
            "text/html": [
              "\n",
              "  <div id=\"df-933894f0-8315-47d2-bef2-4ad777701a54\">\n",
              "    <div class=\"colab-df-container\">\n",
              "      <div>\n",
              "<style scoped>\n",
              "    .dataframe tbody tr th:only-of-type {\n",
              "        vertical-align: middle;\n",
              "    }\n",
              "\n",
              "    .dataframe tbody tr th {\n",
              "        vertical-align: top;\n",
              "    }\n",
              "\n",
              "    .dataframe thead th {\n",
              "        text-align: right;\n",
              "    }\n",
              "</style>\n",
              "<table border=\"1\" class=\"dataframe\">\n",
              "  <thead>\n",
              "    <tr style=\"text-align: right;\">\n",
              "      <th></th>\n",
              "      <th>MouseID</th>\n",
              "      <th>DYRK1A_N</th>\n",
              "      <th>ITSN1_N</th>\n",
              "      <th>BDNF_N</th>\n",
              "      <th>NR1_N</th>\n",
              "      <th>NR2A_N</th>\n",
              "      <th>pAKT_N</th>\n",
              "      <th>pBRAF_N</th>\n",
              "      <th>pCAMKII_N</th>\n",
              "      <th>pCREB_N</th>\n",
              "      <th>...</th>\n",
              "      <th>H3AcK18_N</th>\n",
              "      <th>EGR1_N</th>\n",
              "      <th>H3MeK4_N</th>\n",
              "      <th>CaNA_N</th>\n",
              "      <th>Genotype</th>\n",
              "      <th>Treatment</th>\n",
              "      <th>Behavior</th>\n",
              "      <th>class</th>\n",
              "      <th>Anomaly</th>\n",
              "      <th>Anomaly_Score</th>\n",
              "    </tr>\n",
              "  </thead>\n",
              "  <tbody>\n",
              "    <tr>\n",
              "      <th>0</th>\n",
              "      <td>309_6</td>\n",
              "      <td>0.447506</td>\n",
              "      <td>0.628176</td>\n",
              "      <td>0.367388</td>\n",
              "      <td>2.385939</td>\n",
              "      <td>4.807635</td>\n",
              "      <td>0.218578</td>\n",
              "      <td>0.176233</td>\n",
              "      <td>2.141282</td>\n",
              "      <td>0.195188</td>\n",
              "      <td>...</td>\n",
              "      <td>0.116657</td>\n",
              "      <td>0.140766</td>\n",
              "      <td>0.142180</td>\n",
              "      <td>1.816389</td>\n",
              "      <td>Control</td>\n",
              "      <td>Memantine</td>\n",
              "      <td>C/S</td>\n",
              "      <td>c-CS-m</td>\n",
              "      <td>0</td>\n",
              "      <td>-0.077131</td>\n",
              "    </tr>\n",
              "    <tr>\n",
              "      <th>1</th>\n",
              "      <td>311_3</td>\n",
              "      <td>0.704633</td>\n",
              "      <td>0.802537</td>\n",
              "      <td>0.350110</td>\n",
              "      <td>2.467733</td>\n",
              "      <td>5.548400</td>\n",
              "      <td>0.205323</td>\n",
              "      <td>0.165058</td>\n",
              "      <td>2.107281</td>\n",
              "      <td>0.171401</td>\n",
              "      <td>...</td>\n",
              "      <td>0.111089</td>\n",
              "      <td>0.157731</td>\n",
              "      <td>0.158543</td>\n",
              "      <td>1.404481</td>\n",
              "      <td>Control</td>\n",
              "      <td>Memantine</td>\n",
              "      <td>C/S</td>\n",
              "      <td>c-CS-m</td>\n",
              "      <td>0</td>\n",
              "      <td>-0.060165</td>\n",
              "    </tr>\n",
              "    <tr>\n",
              "      <th>2</th>\n",
              "      <td>321_4</td>\n",
              "      <td>0.505093</td>\n",
              "      <td>0.695549</td>\n",
              "      <td>0.376029</td>\n",
              "      <td>2.915585</td>\n",
              "      <td>5.917957</td>\n",
              "      <td>0.226734</td>\n",
              "      <td>0.174271</td>\n",
              "      <td>2.663039</td>\n",
              "      <td>0.190038</td>\n",
              "      <td>...</td>\n",
              "      <td>0.131515</td>\n",
              "      <td>0.188391</td>\n",
              "      <td>NaN</td>\n",
              "      <td>1.699260</td>\n",
              "      <td>Control</td>\n",
              "      <td>Memantine</td>\n",
              "      <td>C/S</td>\n",
              "      <td>c-CS-m</td>\n",
              "      <td>0</td>\n",
              "      <td>-0.052132</td>\n",
              "    </tr>\n",
              "    <tr>\n",
              "      <th>3</th>\n",
              "      <td>3415_12</td>\n",
              "      <td>0.429133</td>\n",
              "      <td>0.563175</td>\n",
              "      <td>0.258429</td>\n",
              "      <td>2.028151</td>\n",
              "      <td>3.542553</td>\n",
              "      <td>0.214075</td>\n",
              "      <td>0.176759</td>\n",
              "      <td>3.165139</td>\n",
              "      <td>0.167430</td>\n",
              "      <td>...</td>\n",
              "      <td>0.118223</td>\n",
              "      <td>0.171071</td>\n",
              "      <td>0.173702</td>\n",
              "      <td>1.405727</td>\n",
              "      <td>Control</td>\n",
              "      <td>Memantine</td>\n",
              "      <td>C/S</td>\n",
              "      <td>c-CS-m</td>\n",
              "      <td>0</td>\n",
              "      <td>-0.091610</td>\n",
              "    </tr>\n",
              "    <tr>\n",
              "      <th>4</th>\n",
              "      <td>3415_15</td>\n",
              "      <td>0.373648</td>\n",
              "      <td>0.471165</td>\n",
              "      <td>0.257909</td>\n",
              "      <td>1.860032</td>\n",
              "      <td>2.938526</td>\n",
              "      <td>0.218262</td>\n",
              "      <td>0.150380</td>\n",
              "      <td>2.610132</td>\n",
              "      <td>0.142571</td>\n",
              "      <td>...</td>\n",
              "      <td>0.086785</td>\n",
              "      <td>0.126537</td>\n",
              "      <td>0.112690</td>\n",
              "      <td>0.790975</td>\n",
              "      <td>Control</td>\n",
              "      <td>Memantine</td>\n",
              "      <td>C/S</td>\n",
              "      <td>c-CS-m</td>\n",
              "      <td>1</td>\n",
              "      <td>0.037436</td>\n",
              "    </tr>\n",
              "  </tbody>\n",
              "</table>\n",
              "<p>5 rows × 84 columns</p>\n",
              "</div>\n",
              "      <button class=\"colab-df-convert\" onclick=\"convertToInteractive('df-933894f0-8315-47d2-bef2-4ad777701a54')\"\n",
              "              title=\"Convert this dataframe to an interactive table.\"\n",
              "              style=\"display:none;\">\n",
              "        \n",
              "  <svg xmlns=\"http://www.w3.org/2000/svg\" height=\"24px\"viewBox=\"0 0 24 24\"\n",
              "       width=\"24px\">\n",
              "    <path d=\"M0 0h24v24H0V0z\" fill=\"none\"/>\n",
              "    <path d=\"M18.56 5.44l.94 2.06.94-2.06 2.06-.94-2.06-.94-.94-2.06-.94 2.06-2.06.94zm-11 1L8.5 8.5l.94-2.06 2.06-.94-2.06-.94L8.5 2.5l-.94 2.06-2.06.94zm10 10l.94 2.06.94-2.06 2.06-.94-2.06-.94-.94-2.06-.94 2.06-2.06.94z\"/><path d=\"M17.41 7.96l-1.37-1.37c-.4-.4-.92-.59-1.43-.59-.52 0-1.04.2-1.43.59L10.3 9.45l-7.72 7.72c-.78.78-.78 2.05 0 2.83L4 21.41c.39.39.9.59 1.41.59.51 0 1.02-.2 1.41-.59l7.78-7.78 2.81-2.81c.8-.78.8-2.07 0-2.86zM5.41 20L4 18.59l7.72-7.72 1.47 1.35L5.41 20z\"/>\n",
              "  </svg>\n",
              "      </button>\n",
              "      \n",
              "  <style>\n",
              "    .colab-df-container {\n",
              "      display:flex;\n",
              "      flex-wrap:wrap;\n",
              "      gap: 12px;\n",
              "    }\n",
              "\n",
              "    .colab-df-convert {\n",
              "      background-color: #E8F0FE;\n",
              "      border: none;\n",
              "      border-radius: 50%;\n",
              "      cursor: pointer;\n",
              "      display: none;\n",
              "      fill: #1967D2;\n",
              "      height: 32px;\n",
              "      padding: 0 0 0 0;\n",
              "      width: 32px;\n",
              "    }\n",
              "\n",
              "    .colab-df-convert:hover {\n",
              "      background-color: #E2EBFA;\n",
              "      box-shadow: 0px 1px 2px rgba(60, 64, 67, 0.3), 0px 1px 3px 1px rgba(60, 64, 67, 0.15);\n",
              "      fill: #174EA6;\n",
              "    }\n",
              "\n",
              "    [theme=dark] .colab-df-convert {\n",
              "      background-color: #3B4455;\n",
              "      fill: #D2E3FC;\n",
              "    }\n",
              "\n",
              "    [theme=dark] .colab-df-convert:hover {\n",
              "      background-color: #434B5C;\n",
              "      box-shadow: 0px 1px 3px 1px rgba(0, 0, 0, 0.15);\n",
              "      filter: drop-shadow(0px 1px 2px rgba(0, 0, 0, 0.3));\n",
              "      fill: #FFFFFF;\n",
              "    }\n",
              "  </style>\n",
              "\n",
              "      <script>\n",
              "        const buttonEl =\n",
              "          document.querySelector('#df-933894f0-8315-47d2-bef2-4ad777701a54 button.colab-df-convert');\n",
              "        buttonEl.style.display =\n",
              "          google.colab.kernel.accessAllowed ? 'block' : 'none';\n",
              "\n",
              "        async function convertToInteractive(key) {\n",
              "          const element = document.querySelector('#df-933894f0-8315-47d2-bef2-4ad777701a54');\n",
              "          const dataTable =\n",
              "            await google.colab.kernel.invokeFunction('convertToInteractive',\n",
              "                                                     [key], {});\n",
              "          if (!dataTable) return;\n",
              "\n",
              "          const docLinkHtml = 'Like what you see? Visit the ' +\n",
              "            '<a target=\"_blank\" href=https://colab.research.google.com/notebooks/data_table.ipynb>data table notebook</a>'\n",
              "            + ' to learn more about interactive tables.';\n",
              "          element.innerHTML = '';\n",
              "          dataTable['output_type'] = 'display_data';\n",
              "          await google.colab.output.renderOutput(dataTable, element);\n",
              "          const docLink = document.createElement('div');\n",
              "          docLink.innerHTML = docLinkHtml;\n",
              "          element.appendChild(docLink);\n",
              "        }\n",
              "      </script>\n",
              "    </div>\n",
              "  </div>\n",
              "  "
            ]
          },
          "metadata": {},
          "execution_count": 23
        }
      ]
    },
    {
      "cell_type": "markdown",
      "metadata": {
        "id": "CF7dADqbc8c4"
      },
      "source": [
        "# **References**\n",
        "[1- Anomaly Detection Tutorial (ANO101) - Level Beginner](https://github.com/pycaret/pycaret/blob/master/tutorials/Anomaly%20Detection%20Tutorial%20Level%20Beginner%20-%20ANO101.ipynb)\n",
        "\n",
        "[2-Getting familiar with PyCaret for anomaly detection\n",
        "](https://www.analyticsvidhya.com/blog/2021/05/getting-familiar-with-pycaret-for-anomaly-detection/)\n",
        "\n",
        "[3-IsolationForest example](https://scikit-learn.org/stable/auto_examples/ensemble/plot_isolation_forest.html?highlight=anomaly)\n",
        "\n",
        "[4-Anomaly Detection — How to Tell Good Performance from Bad](https://towardsdatascience.com/anomaly-detection-how-to-tell-good-performance-from-bad-b57116d71a10)\n",
        "\n",
        "[5-How to do Anomaly Detection using Machine Learning in Python?\n",
        "](https://www.projectpro.io/article/anomaly-detection-using-machine-learning-in-python-with-example/555)\n",
        "\n",
        "[6-Benchmark of various outlier detection models](https://github.com/yzhao062/pyod/blob/master/notebooks/Benchmark.ipynb)\n",
        "\n"
      ]
    }
  ]
}