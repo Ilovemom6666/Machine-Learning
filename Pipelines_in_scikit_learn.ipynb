{
  "nbformat": 4,
  "nbformat_minor": 0,
  "metadata": {
    "colab": {
      "provenance": [],
      "authorship_tag": "ABX9TyNcYMtyrB8knLUk7hnhQHJW",
      "include_colab_link": true
    },
    "kernelspec": {
      "name": "python3",
      "display_name": "Python 3"
    },
    "language_info": {
      "name": "python"
    }
  },
  "cells": [
    {
      "cell_type": "markdown",
      "metadata": {
        "id": "view-in-github",
        "colab_type": "text"
      },
      "source": [
        "<a href=\"https://colab.research.google.com/github/hussain0048/Machine-Learning/blob/master/Pipelines_in_scikit_learn.ipynb\" target=\"_parent\"><img src=\"https://colab.research.google.com/assets/colab-badge.svg\" alt=\"Open In Colab\"/></a>"
      ]
    },
    {
      "cell_type": "code",
      "execution_count": null,
      "metadata": {
        "id": "FO9f1a7YoPhD"
      },
      "outputs": [],
      "source": []
    },
    {
      "cell_type": "markdown",
      "source": [
        "# **Creating a Pipeline in scikit-learn**"
      ],
      "metadata": {
        "id": "XxJJZw6NoYby"
      }
    },
    {
      "cell_type": "markdown",
      "source": [
        "## **Example 1**"
      ],
      "metadata": {
        "id": "bnUyvzKhoftJ"
      }
    },
    {
      "cell_type": "markdown",
      "source": [
        "**Step 1: Import the Necessary Libraries**"
      ],
      "metadata": {
        "id": "rGOtoCMxoo1a"
      }
    },
    {
      "cell_type": "code",
      "source": [
        "import numpy as np\n",
        "import pandas as pd\n",
        "from sklearn.datasets import load_iris\n",
        "from sklearn.model_selection import train_test_split\n",
        "from sklearn.preprocessing import StandardScaler\n",
        "from sklearn.decomposition import PCA\n",
        "from sklearn.linear_model import LogisticRegression\n",
        "from sklearn.pipeline import Pipeline\n",
        "from sklearn.metrics import accuracy_score"
      ],
      "metadata": {
        "id": "TEEmT64_otWa"
      },
      "execution_count": 1,
      "outputs": []
    }
  ]
}