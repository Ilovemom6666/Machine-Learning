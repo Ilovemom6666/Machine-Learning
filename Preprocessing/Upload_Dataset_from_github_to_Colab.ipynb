{
  "nbformat": 4,
  "nbformat_minor": 0,
  "metadata": {
    "colab": {
      "name": "Upload Dataset from github to Colab.ipynb",
      "provenance": []
    },
    "kernelspec": {
      "name": "python3",
      "display_name": "Python 3"
    },
    "language_info": {
      "name": "python"
    }
  },
  "cells": [
    {
      "cell_type": "markdown",
      "metadata": {
        "id": "S2tqYTAohEb8"
      },
      "source": [
        "# New Section"
      ]
    },
    {
      "cell_type": "code",
      "metadata": {
        "id": "9Lc_LrjBht7s"
      },
      "source": [
        "import pandas as pd # data processing"
      ],
      "execution_count": 16,
      "outputs": []
    },
    {
      "cell_type": "code",
      "metadata": {
        "id": "Yd6mvSMgg9ir"
      },
      "source": [
        "import zipfile\n",
        "import os"
      ],
      "execution_count": 10,
      "outputs": []
    },
    {
      "cell_type": "code",
      "metadata": {
        "colab": {
          "base_uri": "https://localhost:8080/"
        },
        "id": "7j52livQkVAb",
        "outputId": "3d27d14f-b9e3-4e78-daf5-b819bb787aba"
      },
      "source": [
        "!wget --no-check-certificate \\\n",
        "    \"https://github.com/hussain0048/Machine-Learning/archive/refs/heads/master.zip\" \\\n",
        "    -O \"/tmp/Machine-Learning.zip\"\n",
        "\n",
        "zip_ref = zipfile.ZipFile('/tmp/Machine-Learning.zip', 'r') #Opens the zip file in read mode\n",
        "zip_ref.extractall('/tmp') #Extracts the files into the /tmp folder\n",
        "zip_ref.close()"
      ],
      "execution_count": 13,
      "outputs": [
        {
          "output_type": "stream",
          "text": [
            "--2021-07-15 05:16:04--  https://github.com/hussain0048/Machine-Learning/archive/refs/heads/master.zip\n",
            "Resolving github.com (github.com)... 140.82.114.4\n",
            "Connecting to github.com (github.com)|140.82.114.4|:443... connected.\n",
            "HTTP request sent, awaiting response... 302 Found\n",
            "Location: https://codeload.github.com/hussain0048/Machine-Learning/zip/refs/heads/master [following]\n",
            "--2021-07-15 05:16:04--  https://codeload.github.com/hussain0048/Machine-Learning/zip/refs/heads/master\n",
            "Resolving codeload.github.com (codeload.github.com)... 140.82.112.10\n",
            "Connecting to codeload.github.com (codeload.github.com)|140.82.112.10|:443... connected.\n",
            "HTTP request sent, awaiting response... 200 OK\n",
            "Length: unspecified [application/zip]\n",
            "Saving to: ‘/tmp/Machine-Learning.zip’\n",
            "\n",
            "/tmp/Machine-Learni     [   <=>              ]  16.18M  24.6MB/s    in 0.7s    \n",
            "\n",
            "2021-07-15 05:16:05 (24.6 MB/s) - ‘/tmp/Machine-Learning.zip’ saved [16964377]\n",
            "\n"
          ],
          "name": "stdout"
        }
      ]
    },
    {
      "cell_type": "code",
      "metadata": {
        "id": "t_ePp3U1l_D5"
      },
      "source": [
        "data = pd.read_csv(\"/tmp/Machine-Learning-master/Datasets/train.csv\")"
      ],
      "execution_count": 17,
      "outputs": []
    },
    {
      "cell_type": "markdown",
      "metadata": {
        "id": "KIOinRuDjNVc"
      },
      "source": [
        "go to github rep\n",
        "right click on Download ZIP> copy link addres"
      ]
    },
    {
      "cell_type": "markdown",
      "metadata": {
        "id": "LDY0ocfYiL4z"
      },
      "source": [
        "![](https://drive.google.com/uc?export=view&id=19K_dvCKXahqLVa41-3klLp5Y4dlkkNwV)"
      ]
    },
    {
      "cell_type": "code",
      "metadata": {
        "id": "ggg1KCFXhbsW"
      },
      "source": [
        "zip_ref = zipfile.ZipFile('/tmp/Website-data.zip', 'r') #Opens the zip file in read mode\n",
        "zip_ref.extractall('/tmp') #Extracts the files into the /tmp folder\n",
        "zip_ref.close()"
      ],
      "execution_count": null,
      "outputs": []
    },
    {
      "cell_type": "code",
      "metadata": {
        "id": "khdJwRrphnkd"
      },
      "source": [
        "data = pd.read_csv(\"/tmp/Website-data-master/Groceries_dataset.csv\")\n"
      ],
      "execution_count": null,
      "outputs": []
    }
  ]
}