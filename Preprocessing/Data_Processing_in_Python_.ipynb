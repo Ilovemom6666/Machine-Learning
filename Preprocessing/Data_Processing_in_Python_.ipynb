{
  "nbformat": 4,
  "nbformat_minor": 0,
  "metadata": {
    "colab": {
      "name": "Data Processing in Python .ipynb",
      "provenance": [],
      "toc_visible": true
    },
    "kernelspec": {
      "name": "python3",
      "display_name": "Python 3"
    },
    "language_info": {
      "name": "python"
    }
  },
  "cells": [
    {
      "cell_type": "markdown",
      "metadata": {
        "id": "YX1XA2lOe_hC"
      },
      "source": [
        "# **Table Content**"
      ]
    },
    {
      "cell_type": "markdown",
      "metadata": {
        "id": "iRvGGuOwfGui"
      },
      "source": [
        "\n",
        "<div class=\"alert alert-block alert-info\" style=\"margin-top: 20px\">\n",
        "    <ol>\n",
        "        <li><a href=\"https:\">Introduction</a></li>\n",
        "        <li><a href=\"#downloading_data\">Data Loading</a></li>\n",
        "        <li><a href=\"#pre-processing\">Dropping feature</a></li>\n",
        "         <li><a href=\"#pre-processing\">Convert target variable into binary Form</a></li>\n",
        "        <li><a href=\"#setting_up_tree\">Data Imbalanced problem </a></li>\n",
        "        <li><a href=\"#modeling\">Missing Values</a></li>\n",
        "         <li><a href=\"#modeling\">Inconsistent data/Irrelevant features</a></li>\n",
        "        <li><a href=\"#prediction\">Hot Encoding</a></li>\n",
        "        <li><a href=\"#evaluation\">Outlier Detection</a></li>\n",
        "    </ol>\n",
        "</div>\n",
        "<br>\n",
        "<hr>\n"
      ]
    },
    {
      "cell_type": "markdown",
      "metadata": {
        "id": "s1xpAC0Sf0EQ"
      },
      "source": [
        "# **1- Introduction** "
      ]
    },
    {
      "cell_type": "markdown",
      "metadata": {
        "id": "o2tTizNTf7o3"
      },
      "source": [
        "Data preprocessing is an integral step in Machine Learning as the quality of data and the useful information that can be derived from it directly affects the ability of our model to learn; therefore, it is extremely important that we preprocess our data before feeding it into our model."
      ]
    },
    {
      "cell_type": "markdown",
      "metadata": {
        "id": "G2WuuWtcgNG4"
      },
      "source": [
        "# **2- Data Loading**"
      ]
    },
    {
      "cell_type": "markdown",
      "metadata": {
        "id": "Biql2sZngvIB"
      },
      "source": [
        "## **2.1 Data Loading from Google Drive**"
      ]
    },
    {
      "cell_type": "code",
      "metadata": {
        "colab": {
          "base_uri": "https://localhost:8080/"
        },
        "id": "Gwp1rpowgTKQ",
        "outputId": "4698f0e5-6bab-4e6e-ad2f-8f412964f4b4"
      },
      "source": [
        "from google.colab import drive\n",
        "drive.mount('/content/drive')"
      ],
      "execution_count": 1,
      "outputs": [
        {
          "output_type": "stream",
          "name": "stdout",
          "text": [
            "Mounted at /content/drive\n"
          ]
        }
      ]
    },
    {
      "cell_type": "code",
      "metadata": {
        "id": "3RoIsrRghTBm"
      },
      "source": [
        "import pandas as pd \n",
        "Train_data = pd.read_csv('/content/drive/MyDrive/Datasets/Water Brone diesease/Malyria_2-21-2021.csv',encoding = 'latin')"
      ],
      "execution_count": 2,
      "outputs": []
    },
    {
      "cell_type": "code",
      "metadata": {
        "colab": {
          "base_uri": "https://localhost:8080/",
          "height": 609
        },
        "id": "9hwlf9uUhdzP",
        "outputId": "143304d0-f454-4fac-ef92-66b1c6ba3ceb"
      },
      "source": [
        "Train_data"
      ],
      "execution_count": 29,
      "outputs": [
        {
          "output_type": "execute_result",
          "data": {
            "text/html": [
              "<div>\n",
              "<style scoped>\n",
              "    .dataframe tbody tr th:only-of-type {\n",
              "        vertical-align: middle;\n",
              "    }\n",
              "\n",
              "    .dataframe tbody tr th {\n",
              "        vertical-align: top;\n",
              "    }\n",
              "\n",
              "    .dataframe thead th {\n",
              "        text-align: right;\n",
              "    }\n",
              "</style>\n",
              "<table border=\"1\" class=\"dataframe\">\n",
              "  <thead>\n",
              "    <tr style=\"text-align: right;\">\n",
              "      <th></th>\n",
              "      <th>MRNO</th>\n",
              "      <th>AGE</th>\n",
              "      <th>GENDER</th>\n",
              "      <th>DISTRICT</th>\n",
              "      <th>TEHSIL</th>\n",
              "      <th>REPORT_VERIFIED</th>\n",
              "      <th>CPT_ID</th>\n",
              "      <th>RESULT_VALUE</th>\n",
              "      <th>CPT_ID.1</th>\n",
              "      <th>RESULT_TEXT</th>\n",
              "    </tr>\n",
              "  </thead>\n",
              "  <tbody>\n",
              "    <tr>\n",
              "      <th>0</th>\n",
              "      <td>K0460000001363</td>\n",
              "      <td>34 Year(s)</td>\n",
              "      <td>Male</td>\n",
              "      <td>Abbottabad</td>\n",
              "      <td>havelia</td>\n",
              "      <td>11/12/2020 10:46:53 A11P11</td>\n",
              "      <td>1000000000085007</td>\n",
              "      <td>Y</td>\n",
              "      <td>1000000000087207</td>\n",
              "      <td>0</td>\n",
              "    </tr>\n",
              "    <tr>\n",
              "      <th>1</th>\n",
              "      <td>K0460000001680</td>\n",
              "      <td>43 Year(s)</td>\n",
              "      <td>Male</td>\n",
              "      <td>Abbottabad</td>\n",
              "      <td>Abbottabad</td>\n",
              "      <td>9/29/2018 9:26:21 A9P9</td>\n",
              "      <td>1000000000087207</td>\n",
              "      <td>Y</td>\n",
              "      <td>1000000000087207</td>\n",
              "      <td>0</td>\n",
              "    </tr>\n",
              "    <tr>\n",
              "      <th>2</th>\n",
              "      <td>K0460000001680</td>\n",
              "      <td>43 Year(s)</td>\n",
              "      <td>Male</td>\n",
              "      <td>Abbottabad</td>\n",
              "      <td>Abbottabad</td>\n",
              "      <td>9/29/2018 9:26:07 A9P9</td>\n",
              "      <td>1000000000085007</td>\n",
              "      <td>Y</td>\n",
              "      <td>1000000000087207</td>\n",
              "      <td>0</td>\n",
              "    </tr>\n",
              "    <tr>\n",
              "      <th>3</th>\n",
              "      <td>K0460000000106</td>\n",
              "      <td>28 Year(s)</td>\n",
              "      <td>Male</td>\n",
              "      <td>Abbottabad</td>\n",
              "      <td>Abbottabad</td>\n",
              "      <td>5/4/2017 9:48:37 A5P5</td>\n",
              "      <td>1000000000085007</td>\n",
              "      <td>Y</td>\n",
              "      <td>1000000000087207</td>\n",
              "      <td>0</td>\n",
              "    </tr>\n",
              "    <tr>\n",
              "      <th>4</th>\n",
              "      <td>K0460000000150</td>\n",
              "      <td>42 Year(s)</td>\n",
              "      <td>Male</td>\n",
              "      <td>Abbottabad</td>\n",
              "      <td>Abbottabad</td>\n",
              "      <td>6/3/2017 11:59:38 A6P6</td>\n",
              "      <td>1000000000085007</td>\n",
              "      <td>Y</td>\n",
              "      <td>1000000000087207</td>\n",
              "      <td>0</td>\n",
              "    </tr>\n",
              "    <tr>\n",
              "      <th>...</th>\n",
              "      <td>...</td>\n",
              "      <td>...</td>\n",
              "      <td>...</td>\n",
              "      <td>...</td>\n",
              "      <td>...</td>\n",
              "      <td>...</td>\n",
              "      <td>...</td>\n",
              "      <td>...</td>\n",
              "      <td>...</td>\n",
              "      <td>...</td>\n",
              "    </tr>\n",
              "    <tr>\n",
              "      <th>22911</th>\n",
              "      <td>K0400002457330</td>\n",
              "      <td>13 Year(s)</td>\n",
              "      <td>Male</td>\n",
              "      <td>Haripur</td>\n",
              "      <td>Haripur</td>\n",
              "      <td>2/10/2021 16:53:12 A2P2</td>\n",
              "      <td>1000000000085060</td>\n",
              "      <td>Y</td>\n",
              "      <td>1000000000087207</td>\n",
              "      <td>0</td>\n",
              "    </tr>\n",
              "    <tr>\n",
              "      <th>22912</th>\n",
              "      <td>K0400002459565</td>\n",
              "      <td>20 Year(s)</td>\n",
              "      <td>Male</td>\n",
              "      <td>Abbottabad</td>\n",
              "      <td>Abbottabad</td>\n",
              "      <td>2/11/2021 11:49:58 A2P2</td>\n",
              "      <td>1000000000085007</td>\n",
              "      <td>Y</td>\n",
              "      <td>1000000000087207</td>\n",
              "      <td>0</td>\n",
              "    </tr>\n",
              "    <tr>\n",
              "      <th>22913</th>\n",
              "      <td>K0400002461645</td>\n",
              "      <td>21 Year(s)</td>\n",
              "      <td>Male</td>\n",
              "      <td>Abbottabad</td>\n",
              "      <td>Abbottabad</td>\n",
              "      <td>2/13/2021 11:55:21 A2P2</td>\n",
              "      <td>1000000000087207</td>\n",
              "      <td>Y</td>\n",
              "      <td>1000000000087207</td>\n",
              "      <td>0</td>\n",
              "    </tr>\n",
              "    <tr>\n",
              "      <th>22914</th>\n",
              "      <td>K04ACE21027742</td>\n",
              "      <td>45 Year(s)</td>\n",
              "      <td>Female</td>\n",
              "      <td>Abbottabad</td>\n",
              "      <td>Abbottabad</td>\n",
              "      <td>2/17/2021 11:09:47 A2P2</td>\n",
              "      <td>1000000000087207</td>\n",
              "      <td>Y</td>\n",
              "      <td>1000000000087207</td>\n",
              "      <td>0</td>\n",
              "    </tr>\n",
              "    <tr>\n",
              "      <th>22915</th>\n",
              "      <td>K0400002464110</td>\n",
              "      <td>22 Year(s)</td>\n",
              "      <td>Female</td>\n",
              "      <td>Abbottabad</td>\n",
              "      <td>Abbottabad</td>\n",
              "      <td>2/16/2021 12:37:12 A2P2</td>\n",
              "      <td>1000000000085651</td>\n",
              "      <td>Y</td>\n",
              "      <td>1000000000087207</td>\n",
              "      <td>0</td>\n",
              "    </tr>\n",
              "  </tbody>\n",
              "</table>\n",
              "<p>22916 rows × 10 columns</p>\n",
              "</div>"
            ],
            "text/plain": [
              "                 MRNO         AGE  ...          CPT_ID.1 RESULT_TEXT\n",
              "0      K0460000001363  34 Year(s)  ...  1000000000087207           0\n",
              "1      K0460000001680  43 Year(s)  ...  1000000000087207           0\n",
              "2      K0460000001680  43 Year(s)  ...  1000000000087207           0\n",
              "3      K0460000000106  28 Year(s)  ...  1000000000087207           0\n",
              "4      K0460000000150  42 Year(s)  ...  1000000000087207           0\n",
              "...               ...         ...  ...               ...         ...\n",
              "22911  K0400002457330  13 Year(s)  ...  1000000000087207           0\n",
              "22912  K0400002459565  20 Year(s)  ...  1000000000087207           0\n",
              "22913  K0400002461645  21 Year(s)  ...  1000000000087207           0\n",
              "22914  K04ACE21027742  45 Year(s)  ...  1000000000087207           0\n",
              "22915  K0400002464110  22 Year(s)  ...  1000000000087207           0\n",
              "\n",
              "[22916 rows x 10 columns]"
            ]
          },
          "metadata": {},
          "execution_count": 29
        }
      ]
    },
    {
      "cell_type": "markdown",
      "metadata": {
        "id": "SbnAH9rKhntf"
      },
      "source": [
        "# **3- Dropping feature**\n",
        "\n",
        "Dropping feature usually isn’t recommended because you’re losing information. But if you’re sure that the column isn’t important, or simply has too many missing values, you can choose to drop them. For example, for this dataset, the host_name column was removed for ethical reasons, and id was removed because it was was unnecessary.\n",
        "To drop features, use drop and set axis to 1 and inplace to true. Axis is 1 because we want to drop columns (0 means row), and inplace is True because you're transforming it directly on your dataset."
      ]
    },
    {
      "cell_type": "markdown",
      "metadata": {
        "id": "sfufIU6Ph4DJ"
      },
      "source": [
        "## **3.1 Drop Index Columns**"
      ]
    },
    {
      "cell_type": "code",
      "metadata": {
        "id": "qRMwPJugh_cV"
      },
      "source": [
        "Train_data=Train_data.reset_index()\n",
        "Train_data=Train_data.drop(columns=['index'])"
      ],
      "execution_count": 4,
      "outputs": []
    },
    {
      "cell_type": "markdown",
      "metadata": {
        "id": "_ywNezHyiN1J"
      },
      "source": [
        "## **3.2 Drop Multiple featurs**"
      ]
    },
    {
      "cell_type": "code",
      "metadata": {
        "id": "0iDC_p4nigy-"
      },
      "source": [
        "New5=Train_data.drop(Train_data.columns[[0,1,3,4,5,6,7,10,17]], axis=1, inplace=True)"
      ],
      "execution_count": 5,
      "outputs": []
    },
    {
      "cell_type": "code",
      "metadata": {
        "id": "pJUyNsNCygat"
      },
      "source": [
        "# Drop unnecessary columns that are not important\n",
        "colsToDrop = ['id','host_name','last_review']\n",
        "\n",
        "airbnb.drop(colsToDrop, axis=1, inplace=True)\n",
        "\n",
        "missing_cols(airbnb)"
      ],
      "execution_count": null,
      "outputs": []
    },
    {
      "cell_type": "markdown",
      "metadata": {
        "id": "Qsjo7VQeynsV"
      },
      "source": [
        "## **3.3-Dropping the row**"
      ]
    },
    {
      "cell_type": "markdown",
      "metadata": {
        "id": "IYvBStP2yx5f"
      },
      "source": [
        "If you want to remove rows, you do so using dropna . I’m not going to do that because there are no missing values in price."
      ]
    },
    {
      "cell_type": "code",
      "metadata": {
        "id": "1Fb5a_4iyw4b"
      },
      "source": [
        "# remove rows with missing values in price\n",
        "airbnb['price'].dropna(inplace=True)"
      ],
      "execution_count": null,
      "outputs": []
    },
    {
      "cell_type": "markdown",
      "metadata": {
        "id": "cjrtdkJdkvGz"
      },
      "source": [
        "# **4-Convert target variable into binary Form**"
      ]
    },
    {
      "cell_type": "code",
      "metadata": {
        "id": "jPeuZ7VPk50C"
      },
      "source": [
        "Train_data['RESULT_TEXT'].replace({'Negative': 0, 'Positive': 1},inplace = True)"
      ],
      "execution_count": 8,
      "outputs": []
    },
    {
      "cell_type": "markdown",
      "metadata": {
        "id": "XgG-pUdEI3CK"
      },
      "source": [
        "# **5- Data Imbalanced problem**\n"
      ]
    },
    {
      "cell_type": "markdown",
      "metadata": {
        "id": "JnxhM4IHjs2s"
      },
      "source": [
        "## **5.1 Check Imbalanced Problem in Data**"
      ]
    },
    {
      "cell_type": "code",
      "metadata": {
        "id": "3p7TRBevkGlk"
      },
      "source": [
        "import matplotlib.pyplot as plt\n",
        "fig = plt.figure(figsize = (8,5))\n",
        "Train_data.RESULT_TEXT.value_counts(normalize = True).plot(kind='bar', color= ['skyblue','navy'], alpha = 0.9, rot=0)\n",
        "plt.title('Results Status Negative(0) and Positive(1) in the Imbalanced Dataset')\n",
        "plt.show()"
      ],
      "execution_count": null,
      "outputs": []
    },
    {
      "cell_type": "markdown",
      "metadata": {
        "id": "S0qwuF7Dkaw2"
      },
      "source": [
        "## **5.2 Data resample**"
      ]
    },
    {
      "cell_type": "code",
      "metadata": {
        "id": "xAnm9UBIkiC1"
      },
      "source": [
        "from sklearn.utils import resample\n",
        "no = Train_data[Train_data.RESULT_TEXT == 0]\n",
        "yes = Train_data[Train_data.RESULT_TEXT == 1]\n",
        "yes_oversampled = resample(yes, replace=True, n_samples=len(no), random_state=123)\n",
        "oversampled = pd.concat([no, yes_oversampled])\n",
        "fig = plt.figure(figsize = (8,5))\n",
        "oversampled.RESULT_TEXT.value_counts(normalize = True).plot(kind='bar', color= ['skyblue','navy'], alpha = 0.9, rot=0)\n",
        "plt.title('Waterbrone Disease status Nagative(0) and Postive(1) after Oversampling (Balanced Dataset)')\n",
        "plt.show()"
      ],
      "execution_count": null,
      "outputs": []
    },
    {
      "cell_type": "markdown",
      "metadata": {
        "id": "hmcHEc1llpEt"
      },
      "source": [
        "#**6- Missing Values** "
      ]
    },
    {
      "cell_type": "markdown",
      "metadata": {
        "id": "hBtctHfzJGya"
      },
      "source": [
        "## **6.1 Why do We Need to Fill Missing Values in a Dataset?**\n",
        "\n",
        "Sometimes the dataset we use to solve a problem contains a lot of missing values that can adversely affect the performance of a machine learning model. A dataset with a lot of missing values can give us wrong information. So if we have missing values in a dataset, here are some strategies we can choose to deal with them:\n",
        "\n",
        "- Removing the whole row which contains missing values\n",
        "- Filling the missing values according to the other known values\n",
        "\n",
        "The first strategy is to remove the entire row containing a missing value. This is not a bad idea, but it can only be considered when the data is very large. If removing missing values results in a data shortage, then this will not be an ideal dataset for any data science task. This is where the second strategy comes in, which is to fill in the missing values according to the other known values. This strategy can be considered in any type of dataset.\n",
        "\n",
        "So this is why we need to fill the missing values in a dataset. In the section below, I will take you through a tutorial on how to fill in missing values in a dataset using Python.\n"
      ]
    },
    {
      "cell_type": "markdown",
      "metadata": {
        "id": "z000rrTwmym1"
      },
      "source": [
        "## **6.2- Check missing Value**"
      ]
    },
    {
      "cell_type": "code",
      "metadata": {
        "colab": {
          "base_uri": "https://localhost:8080/",
          "height": 173
        },
        "id": "Jkrr2G-rm8Hj",
        "outputId": "3032a75c-9eec-42a5-d4dd-910160798785"
      },
      "source": [
        "total = oversampled.isnull().sum().sort_values(ascending=False)\n",
        "percent = (oversampled.isnull().sum()/oversampled.isnull().count()).sort_values(ascending=False)\n",
        "missing = pd.concat([total, percent], axis=1, keys=['Total', 'Percent'])\n",
        "missing.head(4)"
      ],
      "execution_count": 11,
      "outputs": [
        {
          "output_type": "execute_result",
          "data": {
            "text/html": [
              "<div>\n",
              "<style scoped>\n",
              "    .dataframe tbody tr th:only-of-type {\n",
              "        vertical-align: middle;\n",
              "    }\n",
              "\n",
              "    .dataframe tbody tr th {\n",
              "        vertical-align: top;\n",
              "    }\n",
              "\n",
              "    .dataframe thead th {\n",
              "        text-align: right;\n",
              "    }\n",
              "</style>\n",
              "<table border=\"1\" class=\"dataframe\">\n",
              "  <thead>\n",
              "    <tr style=\"text-align: right;\">\n",
              "      <th></th>\n",
              "      <th>Total</th>\n",
              "      <th>Percent</th>\n",
              "    </tr>\n",
              "  </thead>\n",
              "  <tbody>\n",
              "    <tr>\n",
              "      <th>REPORT_VERIFIED</th>\n",
              "      <td>796</td>\n",
              "      <td>0.01749</td>\n",
              "    </tr>\n",
              "    <tr>\n",
              "      <th>RESULT_TEXT</th>\n",
              "      <td>0</td>\n",
              "      <td>0.00000</td>\n",
              "    </tr>\n",
              "    <tr>\n",
              "      <th>CPT_ID.1</th>\n",
              "      <td>0</td>\n",
              "      <td>0.00000</td>\n",
              "    </tr>\n",
              "    <tr>\n",
              "      <th>RESULT_VALUE</th>\n",
              "      <td>0</td>\n",
              "      <td>0.00000</td>\n",
              "    </tr>\n",
              "  </tbody>\n",
              "</table>\n",
              "</div>"
            ],
            "text/plain": [
              "                 Total  Percent\n",
              "REPORT_VERIFIED    796  0.01749\n",
              "RESULT_TEXT          0  0.00000\n",
              "CPT_ID.1             0  0.00000\n",
              "RESULT_VALUE         0  0.00000"
            ]
          },
          "metadata": {},
          "execution_count": 11
        }
      ]
    },
    {
      "cell_type": "markdown",
      "metadata": {
        "id": "AZP1cNqkoE6r"
      },
      "source": [
        "If you want to see missing values for all columns, use this command:"
      ]
    },
    {
      "cell_type": "code",
      "metadata": {
        "id": "7nrfoBBHoD8x"
      },
      "source": [
        "oversampled.isnull().sum()\n"
      ],
      "execution_count": null,
      "outputs": []
    },
    {
      "cell_type": "markdown",
      "metadata": {
        "id": "pk74p_4CoUpy"
      },
      "source": [
        "This gives you the percentage of missing values in each of the columns. Knowing the percentage can be useful in determining whether you should drop the column."
      ]
    },
    {
      "cell_type": "code",
      "metadata": {
        "id": "4JPUXvgboWmO"
      },
      "source": [
        "def perc_missing(df):\n",
        "    '''prints out columns with missing values with its %'''\n",
        "    for col in df.columns:\n",
        "        pct = df[col].isna().mean() * 100\n",
        "        if (pct != 0):\n",
        "            print('{} => {}%'.format(col, round(pct, 2)))"
      ],
      "execution_count": 13,
      "outputs": []
    },
    {
      "cell_type": "code",
      "metadata": {
        "colab": {
          "base_uri": "https://localhost:8080/"
        },
        "id": "fjQAQBkJocsC",
        "outputId": "82ed9288-2e86-4b1a-80d3-77cd3bc57bc2"
      },
      "source": [
        "perc_missing(oversampled)\n"
      ],
      "execution_count": 14,
      "outputs": [
        {
          "output_type": "stream",
          "name": "stdout",
          "text": [
            "REPORT_VERIFIED => 1.75%\n"
          ]
        }
      ]
    },
    {
      "cell_type": "markdown",
      "metadata": {
        "id": "XYV__mY_ot7z"
      },
      "source": [
        "**Heatmap of missing values**"
      ]
    },
    {
      "cell_type": "markdown",
      "metadata": {
        "id": "sbSrUwtmowVM"
      },
      "source": [
        "Heatmaps are also useful to visualize your missing values, in particular at which point of the data do missing values exists."
      ]
    },
    {
      "cell_type": "code",
      "metadata": {
        "id": "lJ1zvi_BpGLq"
      },
      "source": [
        "import pandas as pd\n",
        "import seaborn as sns\n",
        "import numpy as np\n",
        "import matplotlib.pyplot as plt\n",
        "\n",
        "plt.style.use('fivethirtyeight')\n",
        "\n",
        "%matplotlib inline"
      ],
      "execution_count": 15,
      "outputs": []
    },
    {
      "cell_type": "code",
      "metadata": {
        "id": "BibF54QEo0xB"
      },
      "source": [
        "plt.figure(figsize=(10, 6))\n",
        "sns.heatmap(oversampled.isnull(), yticklabels=False, cmap='viridis', cbar=False)"
      ],
      "execution_count": null,
      "outputs": []
    },
    {
      "cell_type": "markdown",
      "metadata": {
        "id": "Bjlno6_vJrWT"
      },
      "source": [
        "## **6.3 Fill Missing Values in a Dataset using Python**\n",
        "\n",
        "The scikit-learn library in Python offers the **SimpleImputer()** class which can be used for filling the missing values based on:\n",
        "\n",
        "- Mean of the known values\n",
        "- Median of the known values\n",
        "- Most frequent value among the known values\n",
        "\n",
        "So let’s go through all these methods one by one for filling the missing values of a dataset. I will first create a very simple dataset with some missing values:\n"
      ]
    },
    {
      "cell_type": "code",
      "metadata": {
        "id": "EwAapSDzIlmZ"
      },
      "source": [
        "import numpy as np\n",
        "data = np.array([[10, np.nan, 8], \n",
        "                 [9, 8, np.nan], \n",
        "                 [7, 10, 9]])"
      ],
      "execution_count": null,
      "outputs": []
    },
    {
      "cell_type": "code",
      "metadata": {
        "colab": {
          "base_uri": "https://localhost:8080/"
        },
        "id": "7T0jy1jtKHir",
        "outputId": "90f4a826-9345-45ce-97fc-3658bbccff65"
      },
      "source": [
        "print(data)\n"
      ],
      "execution_count": null,
      "outputs": [
        {
          "output_type": "stream",
          "text": [
            "[[10. nan  8.]\n",
            " [ 9.  8. nan]\n",
            " [ 7. 10.  9.]]\n"
          ],
          "name": "stdout"
        }
      ]
    },
    {
      "cell_type": "markdown",
      "metadata": {
        "id": "pfYMTMvOKNAi"
      },
      "source": [
        "Here is how you can use the Mean of the other known values for filling the missing values:\n",
        "\n"
      ]
    },
    {
      "cell_type": "code",
      "metadata": {
        "id": "SAPCWk9XKOli"
      },
      "source": [
        "# Filling Values with mean\n",
        "from sklearn.impute import SimpleImputer\n",
        "mean_values = SimpleImputer(strategy='mean')\n",
        "data1 = mean_values.fit_transform(data)"
      ],
      "execution_count": null,
      "outputs": []
    },
    {
      "cell_type": "code",
      "metadata": {
        "colab": {
          "base_uri": "https://localhost:8080/"
        },
        "id": "nAxbT6vXKWUL",
        "outputId": "a9265655-03ec-4332-b2fe-8a50ec5c934e"
      },
      "source": [
        "print(data1)\n"
      ],
      "execution_count": null,
      "outputs": [
        {
          "output_type": "stream",
          "text": [
            "[[10.   9.   8. ]\n",
            " [ 9.   8.   8.5]\n",
            " [ 7.  10.   9. ]]\n"
          ],
          "name": "stdout"
        }
      ]
    },
    {
      "cell_type": "markdown",
      "metadata": {
        "id": "XzSA3l3YKaCa"
      },
      "source": [
        "Here is how you can use the Median of the other known values for filling the missing values:\n",
        "\n"
      ]
    },
    {
      "cell_type": "code",
      "metadata": {
        "colab": {
          "base_uri": "https://localhost:8080/"
        },
        "id": "GJY6oLTkKfKZ",
        "outputId": "c7320cb8-74f6-4421-e414-98efabd8b0ca"
      },
      "source": [
        "# Filling Values with median\n",
        "from sklearn.impute import SimpleImputer\n",
        "median_values = SimpleImputer(strategy='median')\n",
        "data2 = median_values.fit_transform(data)\n",
        "print(data2)"
      ],
      "execution_count": null,
      "outputs": [
        {
          "output_type": "stream",
          "text": [
            "[[10.   9.   8. ]\n",
            " [ 9.   8.   8.5]\n",
            " [ 7.  10.   9. ]]\n"
          ],
          "name": "stdout"
        }
      ]
    },
    {
      "cell_type": "markdown",
      "metadata": {
        "id": "aHelgUGeKnfi"
      },
      "source": [
        "Here is how you can use the most frequent value among the other known values for filling the missing values:"
      ]
    },
    {
      "cell_type": "code",
      "metadata": {
        "colab": {
          "base_uri": "https://localhost:8080/"
        },
        "id": "NE900achKj6a",
        "outputId": "128d4f81-ad64-4213-f67d-d40468dfa7af"
      },
      "source": [
        "# Filling values with most frequent values\n",
        "from sklearn.impute import SimpleImputer\n",
        "most_frequent = SimpleImputer(strategy='most_frequent')\n",
        "data3 = most_frequent.fit_transform(data)\n",
        "print(data3)"
      ],
      "execution_count": null,
      "outputs": [
        {
          "output_type": "stream",
          "text": [
            "[[10.  8.  8.]\n",
            " [ 9.  8.  8.]\n",
            " [ 7. 10.  9.]]\n"
          ],
          "name": "stdout"
        }
      ]
    },
    {
      "cell_type": "markdown",
      "metadata": {
        "id": "dCTUDxFjzd3g"
      },
      "source": [
        "**Imputing**"
      ]
    },
    {
      "cell_type": "markdown",
      "metadata": {
        "id": "RHy-lrI8zipr"
      },
      "source": [
        "For imputing, there are 3 main techniques shown below.\n",
        "\n",
        "- fillna — filling in null values based on given value (mean, median, mode, or specified value)\n",
        "- bfill / ffill — stands for backward fill and forward fill (filling in missing values based on the value after or before the column.)\n",
        "- Simple Imputer — Sk-learn’s built-in function that imputes missing values (commonly used alongside a pipeline when building ML models)"
      ]
    },
    {
      "cell_type": "markdown",
      "metadata": {
        "id": "XzkrPxWtzwlr"
      },
      "source": [
        "Below you can find examples of applying these methods to the price column if it had missing values."
      ]
    },
    {
      "cell_type": "code",
      "metadata": {
        "id": "bQln8P7xzyN1"
      },
      "source": [
        "# imputing price with mean\n",
        "price_mean_value = round(airbnb['price'].mean(), 2)\n",
        "airbnb['price'].fillna(price_mean_value, inplace=True)\n",
        "\n",
        "# imputing price with median\n",
        "price_median_value = round(airbnb['price'].median(), 2)\n",
        "airbnb['price'].fillna(price_median_value, inplace=True)\n",
        "\n",
        "# imputing with bfill or ffill\n",
        "airbnb['price'].bfill(inplace=True)\n",
        "airbnb['price'].ffill(inplace=True)\n",
        "\n",
        "# imputing with SimpleImputor from the sklearn library\n",
        "from sklearn.impute import SimpleImputer\n",
        "# define the imputer\n",
        "imr = SimpleImputer(missing_values=np.nan, strategy='mean') # or median\n",
        "\n",
        "airbnb[['price']] = imr.fit_transform(airbnb[['price']])"
      ],
      "execution_count": null,
      "outputs": []
    },
    {
      "cell_type": "markdown",
      "metadata": {
        "id": "dDx8A9_Uz5jG"
      },
      "source": [
        "**Replace**"
      ]
    },
    {
      "cell_type": "markdown",
      "metadata": {
        "id": "Wyjcdju7z8CP"
      },
      "source": [
        "To replace values, the fillna function is also used."
      ]
    },
    {
      "cell_type": "markdown",
      "metadata": {
        "id": "dkqWOIfmz__l"
      },
      "source": [
        "You define the value you want to replace in the key, and the substitute in the value — {column_name: replacement_for_NA}\n",
        "\n",
        "Here are examples for replacing values in the columns reviews_per_month and name\n"
      ]
    },
    {
      "cell_type": "code",
      "metadata": {
        "id": "pJIzbrvo0IgT"
      },
      "source": [
        "# replace null values in reviews_per_month with 0 \n",
        "airbnb.fillna({'reviews_per_month':0}, inplace=True)\n",
        "\n",
        "missing_cols(airbnb)"
      ],
      "execution_count": null,
      "outputs": []
    },
    {
      "cell_type": "code",
      "metadata": {
        "id": "Q2256NAA0P0b"
      },
      "source": [
        "# replace null values in name with 'None'\n",
        "airbnb.fillna({'name':'None'}, inplace=True)\n",
        "\n",
        "missing_cols(airbnb)"
      ],
      "execution_count": null,
      "outputs": []
    },
    {
      "cell_type": "markdown",
      "metadata": {
        "id": "TFbHCw8y0gp0"
      },
      "source": [
        "# **7-Inconsistent data/Irrelevant features**\n",
        "\n",
        "Inconsistent data refers to things like spelling errors in your data, column names that are not relevant to the data, the wrong data type, etc.\n",
        "Here are a couple examples for dealing with these issues."
      ]
    },
    {
      "cell_type": "markdown",
      "metadata": {
        "id": "slY5-kmu008V"
      },
      "source": [
        "**Remove rows based on regex**\n"
      ]
    },
    {
      "cell_type": "markdown",
      "metadata": {
        "id": "JTjb9zNg03PD"
      },
      "source": [
        "Let’s say you want to remove rows that contain a certain word. For my example, I chose the word noisy/Noisy as my target, and I used the function str.contains() to find the indexes that contain those rows."
      ]
    },
    {
      "cell_type": "markdown",
      "metadata": {
        "id": "fh01cN2Q1hHe"
      },
      "source": [
        "Then, using the drop function, and setting axis to index, I can supply the indexes I have and drop those rows.\n",
        "Printing out the number of rows, you can see it reduced by three."
      ]
    },
    {
      "cell_type": "code",
      "metadata": {
        "id": "yPUdWVLA1n9l"
      },
      "source": [
        "# example: remove rows that contain the target word\n",
        "target = '[Nn]oisy'\n",
        "\n",
        "noisy_airbnb = airbnb[airbnb['name'].str.contains(target, regex=True)]\n",
        "\n",
        "# show rows that contains the word noisy\n",
        "print(noisy_airbnb['name'])\n",
        "\n",
        "# get the index that contains the word noisy\n",
        "index_to_drop = noisy_airbnb['name'].index\n",
        "\n",
        "# print(index_to_drop)"
      ],
      "execution_count": null,
      "outputs": []
    },
    {
      "cell_type": "code",
      "metadata": {
        "id": "xaSmQkCq1tDk"
      },
      "source": [
        "# drop rows based on index\n",
        "airbnb.drop(index_to_drop, axis='index', inplace=True)\n",
        "\n",
        "print(len(airbnb_ori))\n",
        "print(len(airbnb))"
      ],
      "execution_count": null,
      "outputs": []
    },
    {
      "cell_type": "markdown",
      "metadata": {
        "id": "pgJXAq3H15Y6"
      },
      "source": [
        "**Spelling errors in categorical data**\n"
      ]
    },
    {
      "cell_type": "markdown",
      "metadata": {
        "id": "v4HwFy_K18iq"
      },
      "source": [
        "Sometimes your categorical data might have spelling errors or different capitalization that can mess up your categorization.\n",
        "\n",
        "I will be using the neighbourhood_group column as an example."
      ]
    },
    {
      "cell_type": "code",
      "metadata": {
        "id": "tuOFkxYd2BrV"
      },
      "source": [
        "airbnb['neighbourhood_group'].value_counts()"
      ],
      "execution_count": null,
      "outputs": []
    },
    {
      "cell_type": "markdown",
      "metadata": {
        "id": "5SksmVjW2cCK"
      },
      "source": [
        "You can see the different types of neighborhoods are already well categorized. But what if it wasn’t?\n",
        "\n",
        "To simulate a scenario where some of the data had capitalization or spelling issues, I sampled 2 rows from the data, and replaced them with the wrong spelling.\n",
        "\n",
        "You can see now how the categorization is messed up. “Manhattan” and “manhatann” refer to the same thing, but they aren’t in the same category because of capitalization. Same goes for “brookln” due to spelling issues.\n",
        "\n",
        "We can fix this by using the replace function in pandas. We first give the values that are wrong, then supply the right ones. Notice the values have to match each other in the list, i.e. “manhatann” → “Manhattan”."
      ]
    },
    {
      "cell_type": "code",
      "metadata": {
        "id": "jGHMa3Kf2nwr"
      },
      "source": [
        "random_index = airbnb.sample(2, random_state = 10).index\n",
        "\n",
        "# airbnb['neighbourhood_group'].loc[random_index]\n",
        "## we randomly selected Manhattan and Brooklyn\n",
        "\n",
        "wrong_spelling = ['manhatann', 'brookln']\n",
        "\n",
        "# replace them with the wrong spelling\n",
        "airbnb.loc[random_index,'neighbourhood_group'] = wrong_spelling\n",
        "airbnb['neighbourhood_group'].value_counts()"
      ],
      "execution_count": null,
      "outputs": []
    },
    {
      "cell_type": "code",
      "metadata": {
        "id": "615qZufj2t4y"
      },
      "source": [
        "airbnb['neighbourhood_group'].replace(['manhatann', 'brookln'],\n",
        "                             ['Manhattan', 'Brooklyn'], inplace=True)\n",
        "airbnb['neighbourhood_group'].value_counts()"
      ],
      "execution_count": null,
      "outputs": []
    },
    {
      "cell_type": "markdown",
      "metadata": {
        "id": "Z1vCjhl4211-"
      },
      "source": [
        "**Renaming columns**\n"
      ]
    },
    {
      "cell_type": "markdown",
      "metadata": {
        "id": "92NhJPml236k"
      },
      "source": [
        "There are cases where you want to rename your columns as well.\n",
        "\n",
        "You can do this by using a dictionary, setting the key as the original column name, and the value as the new column name.\n",
        "\n",
        "Then using the rename function we give our dictionary and voila, the columns names have changed."
      ]
    },
    {
      "cell_type": "code",
      "metadata": {
        "id": "sCbivQOE3DEM"
      },
      "source": [
        "new_names = {'name':'listing_name', 'latitude':'lat', 'longitude':'long'}\n",
        "\n",
        "airbnb.rename(columns=new_names, inplace=True)\n",
        "airbnb.head()"
      ],
      "execution_count": null,
      "outputs": []
    },
    {
      "cell_type": "markdown",
      "metadata": {
        "id": "XY4SMhhE3JzD"
      },
      "source": [
        "**Converting to DateTime**"
      ]
    },
    {
      "cell_type": "markdown",
      "metadata": {
        "id": "38V5TvtC3Rh7"
      },
      "source": [
        "If you have data that should be a datetime object, but are strings, you can use the pd.to_datetime, and pass it the format that represents your data.\n",
        "\n",
        "Just like that, the column has converted into a datatime data type."
      ]
    },
    {
      "cell_type": "code",
      "metadata": {
        "id": "Vo5kySe53VzP"
      },
      "source": [
        "airbnb_ori['last_review'] = pd.to_datetime(airbnb_ori['last_review'], format='%Y-%m-%d')\n",
        "airbnb_ori['last_review'].dtype.type"
      ],
      "execution_count": null,
      "outputs": []
    },
    {
      "cell_type": "markdown",
      "metadata": {
        "id": "b2WhiJKU3dvq"
      },
      "source": [
        "**Duplicates**\n"
      ]
    },
    {
      "cell_type": "markdown",
      "metadata": {
        "id": "zaJJWjI_3g3w"
      },
      "source": [
        "There are cases where your rows have duplicate values, this could’ve happened due to some mishaps in your data collection.\n",
        "\n",
        "To find out if you have duplicated values, call duplicated().any() on your data frame, and if it’s true, use the drop_duplicates function\n",
        "\n",
        "You can also specify columns where you want to remove duplicate values like below."
      ]
    },
    {
      "cell_type": "code",
      "metadata": {
        "id": "2A61D9z53pKj"
      },
      "source": [
        "airbnb.duplicated().any()\n",
        "\n",
        "## if true\n",
        "# airbnb.drop_duplicates()\n",
        "\n",
        "## if you want to drop duplicates at specific column\n",
        "# airbnb.drop('col_name', axis=1, inplace=True).drop_duplicates()\n",
        "False"
      ],
      "execution_count": null,
      "outputs": []
    },
    {
      "cell_type": "markdown",
      "metadata": {
        "id": "qxGRgpQN3tTC"
      },
      "source": [
        "**Change data type to reduce memory**\n"
      ]
    },
    {
      "cell_type": "markdown",
      "metadata": {
        "id": "S2EFB99C3wKj"
      },
      "source": [
        "Changing data type is common if you want to reduce memory usage.\n",
        "\n",
        "To do so, you can use the astype(‘dtype’) function where you specify the dtype you want.\n",
        "\n",
        "In my example, I changed the data type for the host_id column from int64 to int32\n",
        "\n",
        "Observe the memory before changing the data type"
      ]
    },
    {
      "cell_type": "code",
      "metadata": {
        "id": "Fafd0hgO38vE"
      },
      "source": [
        "airbnb.info()"
      ],
      "execution_count": null,
      "outputs": []
    },
    {
      "cell_type": "code",
      "metadata": {
        "id": "VFv7767y4Hru"
      },
      "source": [
        "airbnb['host_id'] = airbnb['host_id'].astype('int32')\n",
        "airbnb.info()"
      ],
      "execution_count": null,
      "outputs": []
    },
    {
      "cell_type": "markdown",
      "metadata": {
        "id": "p46jyLsb4MZZ"
      },
      "source": [
        "You can see the memory reduced from 6.5+ to 6.3+ MB."
      ]
    },
    {
      "cell_type": "markdown",
      "metadata": {
        "id": "orpFOyirp-Cd"
      },
      "source": [
        "# **8-Hot Encoding**"
      ]
    },
    {
      "cell_type": "code",
      "metadata": {
        "id": "xarFJmqzqNdt"
      },
      "source": [
        "oversampled.select_dtypes(include=['object']).columns\n"
      ],
      "execution_count": null,
      "outputs": []
    },
    {
      "cell_type": "code",
      "metadata": {
        "id": "zkfkPLXEqSSi"
      },
      "source": [
        "# Impute categorical var with Mode\n",
        "oversampled['MRNO'] = oversampled['MRNO'].fillna(oversampled['MRNO'].mode()[0])\n",
        "oversampled['AGE'] = oversampled['AGE'].fillna(oversampled['AGE'].mode()[0])\n",
        "oversampled['GENDER'] = oversampled['GENDER'].fillna(oversampled['GENDER'].mode()[0])\n",
        "oversampled['DISTRICT'] = oversampled['DISTRICT'].fillna(oversampled['DISTRICT'].mode()[0])\n",
        "oversampled['TEHSIL'] = oversampled['TEHSIL'].fillna(oversampled['TEHSIL'].mode()[0])\n",
        "oversampled['REPORT_VERIFIED'] = oversampled['REPORT_VERIFIED'].fillna(oversampled['REPORT_VERIFIED'].mode()[0])\n",
        "oversampled['RESULT_VALUE'] = oversampled['RESULT_VALUE'].fillna(oversampled['RESULT_VALUE'].mode()[0])"
      ],
      "execution_count": 19,
      "outputs": []
    },
    {
      "cell_type": "code",
      "metadata": {
        "id": "yrGan4YLqbCI"
      },
      "source": [
        "# Convert categorical features to continuous features with Label Encoding\n",
        "from sklearn.preprocessing import LabelEncoder\n",
        "lencoders = {}\n",
        "for col in oversampled.select_dtypes(include=['object']).columns:\n",
        "    lencoders[col] = LabelEncoder()\n",
        "    oversampled[col] = lencoders[col].fit_transform(oversampled[col])"
      ],
      "execution_count": 20,
      "outputs": []
    },
    {
      "cell_type": "code",
      "metadata": {
        "id": "XPPO6refqh0o"
      },
      "source": [
        "import warnings\n",
        "warnings.filterwarnings(\"ignore\")\n",
        "# Multiple Imputation by Chained Equations\n",
        "from sklearn.experimental import enable_iterative_imputer\n",
        "from sklearn.impute import IterativeImputer\n",
        "MiceImputed = oversampled.copy(deep=True) \n",
        "mice_imputer = IterativeImputer()\n",
        "MiceImputed.iloc[:, :] = mice_imputer.fit_transform(oversampled)"
      ],
      "execution_count": 21,
      "outputs": []
    },
    {
      "cell_type": "markdown",
      "metadata": {
        "id": "-OoCHQ6TwE_f"
      },
      "source": [
        "# **9-Outlier detection**"
      ]
    },
    {
      "cell_type": "markdown",
      "metadata": {
        "id": "8tq6yjKx4jg8"
      },
      "source": [
        "Outliers can be dangerous as they can skew your model and give you predictions that are biased and erroneous.\n",
        "The best way to find outliers is to use the describe function and look at information such as maximum and mean."
      ]
    },
    {
      "cell_type": "code",
      "metadata": {
        "id": "FseYShGQwc1n"
      },
      "source": [
        "# Detecting outliers with IQR\n",
        "Q1 = MiceImputed.quantile(0.25)\n",
        "Q3 = MiceImputed.quantile(0.75)\n",
        "IQR = Q3 - Q1\n",
        "print(IQR)"
      ],
      "execution_count": null,
      "outputs": []
    },
    {
      "cell_type": "code",
      "metadata": {
        "id": "aLYT9hGawiaP"
      },
      "source": [
        "# Removing outliers from the dataset\n",
        "MiceImputed = MiceImputed[~((MiceImputed < (Q1 - 1.5 * IQR)) |(MiceImputed > (Q3 + 1.5 * IQR))).any(axis=1)]\n",
        "MiceImputed.shape"
      ],
      "execution_count": null,
      "outputs": []
    },
    {
      "cell_type": "markdown",
      "metadata": {
        "id": "iQL0D8K24wse"
      },
      "source": [
        "You can also plot a histogram and look at the distribution of your data.\n",
        "\n",
        "In this histogram, you can see that most of the data is around 0 to 5000."
      ]
    },
    {
      "cell_type": "code",
      "metadata": {
        "colab": {
          "base_uri": "https://localhost:8080/",
          "height": 388
        },
        "id": "c34xlum141Cl",
        "outputId": "176b3f71-eda4-484d-9cc7-d3ed06100b84"
      },
      "source": [
        "plt.figure(figsize=(10, 6))\n",
        "MiceImputed['RESULT_TEXT'].hist(bins=100)"
      ],
      "execution_count": 30,
      "outputs": [
        {
          "output_type": "execute_result",
          "data": {
            "text/plain": [
              "<matplotlib.axes._subplots.AxesSubplot at 0x7f573a604290>"
            ]
          },
          "metadata": {},
          "execution_count": 30
        },
        {
          "output_type": "display_data",
          "data": {
            "image/png": "[encoded data removed]",
            "text/plain": [
              "<Figure size 720x432 with 1 Axes>"
            ]
          },
          "metadata": {
            "needs_background": "light"
          }
        }
      ]
    },
    {
      "cell_type": "markdown",
      "metadata": {
        "id": "HqyFTeET5TZu"
      },
      "source": [
        "A boxplot is also useful in detecting outliers.\n",
        "\n",
        "As you can see, the price column has multiple data points that are outliers (above of the maximum in the boxplot)"
      ]
    },
    {
      "cell_type": "code",
      "metadata": {
        "id": "0MhlqVJ75ZEF"
      },
      "source": [
        "plt.figure(figsize=(10, 6))\n",
        "MiceImputed.boxplot(column=['RESULT_TEXT'])"
      ],
      "execution_count": null,
      "outputs": []
    },
    {
      "cell_type": "markdown",
      "metadata": {
        "id": "Qx-t0PnF527E"
      },
      "source": [
        "For categorical data, you can plot a bar chart to see whether a particular category to view the count of the categories.\n",
        "\n",
        "Outliers in categorical data is tricky, because you have to determine whether it’s appropriate to call it an outlier based on context.\n",
        "\n",
        "Some outliers are more obvious. Let’s say there’s an experiment done where 1000 people choose between a glass of water and a glass of milk. If the final result is 1 person who chose a glass of water, and 999 people choosing a glass of milk, that 1 person can be considered an outlier.\n",
        "\n",
        "However, in some cases, outliers depend on context. In my example, you see that Manhattan and Brooklyn has significantly more data than Staten Island. This doesn’t count as an outlier, since Manhattan and Brooklyn has a higher housing density as compared to Staten Island."
      ]
    },
    {
      "cell_type": "code",
      "metadata": {
        "colab": {
          "base_uri": "https://localhost:8080/",
          "height": 419
        },
        "id": "7SU6nEUR6H83",
        "outputId": "47574fc4-9dd8-4396-d4f7-e5951071196b"
      },
      "source": [
        "MiceImputed"
      ],
      "execution_count": 32,
      "outputs": [
        {
          "output_type": "execute_result",
          "data": {
            "text/html": [
              "<div>\n",
              "<style scoped>\n",
              "    .dataframe tbody tr th:only-of-type {\n",
              "        vertical-align: middle;\n",
              "    }\n",
              "\n",
              "    .dataframe tbody tr th {\n",
              "        vertical-align: top;\n",
              "    }\n",
              "\n",
              "    .dataframe thead th {\n",
              "        text-align: right;\n",
              "    }\n",
              "</style>\n",
              "<table border=\"1\" class=\"dataframe\">\n",
              "  <thead>\n",
              "    <tr style=\"text-align: right;\">\n",
              "      <th></th>\n",
              "      <th>MRNO</th>\n",
              "      <th>AGE</th>\n",
              "      <th>GENDER</th>\n",
              "      <th>DISTRICT</th>\n",
              "      <th>TEHSIL</th>\n",
              "      <th>REPORT_VERIFIED</th>\n",
              "      <th>CPT_ID</th>\n",
              "      <th>RESULT_VALUE</th>\n",
              "      <th>CPT_ID.1</th>\n",
              "      <th>RESULT_TEXT</th>\n",
              "    </tr>\n",
              "  </thead>\n",
              "  <tbody>\n",
              "    <tr>\n",
              "      <th>1</th>\n",
              "      <td>10373.0</td>\n",
              "      <td>41.0</td>\n",
              "      <td>1.0</td>\n",
              "      <td>0.0</td>\n",
              "      <td>1.0</td>\n",
              "      <td>21463.0</td>\n",
              "      <td>1.000000e+15</td>\n",
              "      <td>1.0</td>\n",
              "      <td>1.000000e+15</td>\n",
              "      <td>0.0</td>\n",
              "    </tr>\n",
              "    <tr>\n",
              "      <th>2</th>\n",
              "      <td>10373.0</td>\n",
              "      <td>41.0</td>\n",
              "      <td>1.0</td>\n",
              "      <td>0.0</td>\n",
              "      <td>1.0</td>\n",
              "      <td>21462.0</td>\n",
              "      <td>1.000000e+15</td>\n",
              "      <td>1.0</td>\n",
              "      <td>1.000000e+15</td>\n",
              "      <td>0.0</td>\n",
              "    </tr>\n",
              "    <tr>\n",
              "      <th>3</th>\n",
              "      <td>10312.0</td>\n",
              "      <td>23.0</td>\n",
              "      <td>1.0</td>\n",
              "      <td>0.0</td>\n",
              "      <td>1.0</td>\n",
              "      <td>10809.0</td>\n",
              "      <td>1.000000e+15</td>\n",
              "      <td>1.0</td>\n",
              "      <td>1.000000e+15</td>\n",
              "      <td>0.0</td>\n",
              "    </tr>\n",
              "    <tr>\n",
              "      <th>4</th>\n",
              "      <td>10313.0</td>\n",
              "      <td>40.0</td>\n",
              "      <td>1.0</td>\n",
              "      <td>0.0</td>\n",
              "      <td>1.0</td>\n",
              "      <td>12521.0</td>\n",
              "      <td>1.000000e+15</td>\n",
              "      <td>1.0</td>\n",
              "      <td>1.000000e+15</td>\n",
              "      <td>0.0</td>\n",
              "    </tr>\n",
              "    <tr>\n",
              "      <th>5</th>\n",
              "      <td>10315.0</td>\n",
              "      <td>26.0</td>\n",
              "      <td>0.0</td>\n",
              "      <td>0.0</td>\n",
              "      <td>1.0</td>\n",
              "      <td>2063.0</td>\n",
              "      <td>1.000000e+15</td>\n",
              "      <td>1.0</td>\n",
              "      <td>1.000000e+15</td>\n",
              "      <td>0.0</td>\n",
              "    </tr>\n",
              "    <tr>\n",
              "      <th>...</th>\n",
              "      <td>...</td>\n",
              "      <td>...</td>\n",
              "      <td>...</td>\n",
              "      <td>...</td>\n",
              "      <td>...</td>\n",
              "      <td>...</td>\n",
              "      <td>...</td>\n",
              "      <td>...</td>\n",
              "      <td>...</td>\n",
              "      <td>...</td>\n",
              "    </tr>\n",
              "    <tr>\n",
              "      <th>12343</th>\n",
              "      <td>3001.0</td>\n",
              "      <td>65.0</td>\n",
              "      <td>0.0</td>\n",
              "      <td>0.0</td>\n",
              "      <td>1.0</td>\n",
              "      <td>3669.0</td>\n",
              "      <td>1.000000e+15</td>\n",
              "      <td>1.0</td>\n",
              "      <td>1.000000e+15</td>\n",
              "      <td>1.0</td>\n",
              "    </tr>\n",
              "    <tr>\n",
              "      <th>15056</th>\n",
              "      <td>2531.0</td>\n",
              "      <td>29.0</td>\n",
              "      <td>0.0</td>\n",
              "      <td>0.0</td>\n",
              "      <td>1.0</td>\n",
              "      <td>19534.0</td>\n",
              "      <td>1.000000e+15</td>\n",
              "      <td>1.0</td>\n",
              "      <td>1.000000e+15</td>\n",
              "      <td>1.0</td>\n",
              "    </tr>\n",
              "    <tr>\n",
              "      <th>13513</th>\n",
              "      <td>7286.0</td>\n",
              "      <td>84.0</td>\n",
              "      <td>1.0</td>\n",
              "      <td>0.0</td>\n",
              "      <td>1.0</td>\n",
              "      <td>8439.0</td>\n",
              "      <td>1.000000e+15</td>\n",
              "      <td>1.0</td>\n",
              "      <td>1.000000e+15</td>\n",
              "      <td>1.0</td>\n",
              "    </tr>\n",
              "    <tr>\n",
              "      <th>8974</th>\n",
              "      <td>744.0</td>\n",
              "      <td>9.0</td>\n",
              "      <td>1.0</td>\n",
              "      <td>0.0</td>\n",
              "      <td>1.0</td>\n",
              "      <td>10606.0</td>\n",
              "      <td>1.000000e+15</td>\n",
              "      <td>1.0</td>\n",
              "      <td>1.000000e+15</td>\n",
              "      <td>1.0</td>\n",
              "    </tr>\n",
              "    <tr>\n",
              "      <th>18480</th>\n",
              "      <td>4737.0</td>\n",
              "      <td>20.0</td>\n",
              "      <td>1.0</td>\n",
              "      <td>0.0</td>\n",
              "      <td>1.0</td>\n",
              "      <td>12356.0</td>\n",
              "      <td>1.000000e+15</td>\n",
              "      <td>1.0</td>\n",
              "      <td>1.000000e+15</td>\n",
              "      <td>1.0</td>\n",
              "    </tr>\n",
              "  </tbody>\n",
              "</table>\n",
              "<p>34554 rows × 10 columns</p>\n",
              "</div>"
            ],
            "text/plain": [
              "          MRNO   AGE  GENDER  ...  RESULT_VALUE      CPT_ID.1  RESULT_TEXT\n",
              "1      10373.0  41.0     1.0  ...           1.0  1.000000e+15          0.0\n",
              "2      10373.0  41.0     1.0  ...           1.0  1.000000e+15          0.0\n",
              "3      10312.0  23.0     1.0  ...           1.0  1.000000e+15          0.0\n",
              "4      10313.0  40.0     1.0  ...           1.0  1.000000e+15          0.0\n",
              "5      10315.0  26.0     0.0  ...           1.0  1.000000e+15          0.0\n",
              "...        ...   ...     ...  ...           ...           ...          ...\n",
              "12343   3001.0  65.0     0.0  ...           1.0  1.000000e+15          1.0\n",
              "15056   2531.0  29.0     0.0  ...           1.0  1.000000e+15          1.0\n",
              "13513   7286.0  84.0     1.0  ...           1.0  1.000000e+15          1.0\n",
              "8974     744.0   9.0     1.0  ...           1.0  1.000000e+15          1.0\n",
              "18480   4737.0  20.0     1.0  ...           1.0  1.000000e+15          1.0\n",
              "\n",
              "[34554 rows x 10 columns]"
            ]
          },
          "metadata": {},
          "execution_count": 32
        }
      ]
    },
    {
      "cell_type": "code",
      "metadata": {
        "colab": {
          "base_uri": "https://localhost:8080/",
          "height": 393
        },
        "id": "-hObhvoi6AUb",
        "outputId": "dd29e3de-e5eb-4627-8259-307a3ad219b4"
      },
      "source": [
        "plt.figure(figsize=(10, 6))\n",
        "MiceImputed['DISTRICT'].value_counts().plot.bar()"
      ],
      "execution_count": 33,
      "outputs": [
        {
          "output_type": "execute_result",
          "data": {
            "text/plain": [
              "<matplotlib.axes._subplots.AxesSubplot at 0x7f573a46b350>"
            ]
          },
          "metadata": {},
          "execution_count": 33
        },
        {
          "output_type": "display_data",
          "data": {
            "image/png": "[encoded data removed]",
            "text/plain": [
              "<Figure size 720x432 with 1 Axes>"
            ]
          },
          "metadata": {
            "needs_background": "light"
          }
        }
      ]
    },
    {
      "cell_type": "markdown",
      "metadata": {
        "id": "0fOVRcZP6aTT"
      },
      "source": [
        "**Dealing with outliers**"
      ]
    },
    {
      "cell_type": "markdown",
      "metadata": {
        "id": "gZfdOd6I6ccB"
      },
      "source": [
        "Dealing with outliers is similar to removing missing values, the only difference is the way you find outliers.\n",
        "\n",
        "To categorize numerical values as outliers, there are statistical techniques like using the standard deviation and the Interquartile range. You can refer to this article for code examples to do that.\n",
        "\n",
        "For categorical values, if they have very low frequency (like Staten island in the example above), it still may become a problem for your model. Depending on context and nature of the data, you can choose to group them into one category, for example “Others”. This way your model will be less biased and you’re not losing any information."
      ]
    },
    {
      "cell_type": "markdown",
      "metadata": {
        "id": "YAFiOSxhxeYd"
      },
      "source": [
        "# **10- Data spliting**"
      ]
    },
    {
      "cell_type": "code",
      "metadata": {
        "id": "Vf0zg0EIxjvt"
      },
      "source": [
        "X=MiceImputed.drop('RESULT_TEXT',axis=1)"
      ],
      "execution_count": 25,
      "outputs": []
    },
    {
      "cell_type": "code",
      "metadata": {
        "id": "vlZjN0iUxwvk"
      },
      "source": [
        "y=MiceImputed[['RESULT_TEXT']]\n"
      ],
      "execution_count": 26,
      "outputs": []
    },
    {
      "cell_type": "code",
      "metadata": {
        "id": "h-eJxgVEx57E"
      },
      "source": [
        "from sklearn.model_selection import train_test_split\n",
        "X_train, X_test, y_train, y_test = train_test_split(X, y, test_size=0.30, random_state=100)"
      ],
      "execution_count": 28,
      "outputs": []
    },
    {
      "cell_type": "markdown",
      "metadata": {
        "id": "uOu2ttBhIqPr"
      },
      "source": [
        "# **References**\n",
        "\n",
        "[Fill Missing Values in a Dataset using Python](https://thecleverprogrammer.com/2021/05/29/fill-missing-values-in-a-dataset-using-python/)\n",
        "\n",
        "[Data Cleaning with Python](https://medium.com/bitgrit-data-science-publication/data-cleaning-with-python-f6bc3da64e45)"
      ]
    }
  ]
}