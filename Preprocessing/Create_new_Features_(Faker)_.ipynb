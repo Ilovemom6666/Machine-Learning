{
  "nbformat": 4,
  "nbformat_minor": 0,
  "metadata": {
    "colab": {
      "name": "Create new Features (Faker) .ipynb",
      "provenance": [],
      "collapsed_sections": []
    },
    "kernelspec": {
      "name": "python3",
      "display_name": "Python 3"
    },
    "language_info": {
      "name": "python"
    }
  },
  "cells": [
    {
      "cell_type": "code",
      "metadata": {
        "id": "VOLioVdPYeAI"
      },
      "source": [
        ""
      ],
      "execution_count": null,
      "outputs": []
    },
    {
      "cell_type": "markdown",
      "metadata": {
        "id": "N7LxyqR9Yh8d"
      },
      "source": [
        "# **Introduction**"
      ]
    },
    {
      "cell_type": "markdown",
      "metadata": {
        "id": "fu6PCH6GYmMi"
      },
      "source": [
        "let say you want to create data with certain data type (Bool, txt ...) with special characteristics ( name , address etc) to test some python library or specific implementation. But it take time to find that specific kind of data. you wander , is ther any quick way that you can create your own data? What if there is a package that enables you to create fake data in one line of code.  Checkout Fake: a python  package that does exactly that "
      ]
    },
    {
      "cell_type": "code",
      "metadata": {
        "colab": {
          "base_uri": "https://localhost:8080/"
        },
        "id": "gsOZ4jgDjUzd",
        "outputId": "708b0c31-3eb9-4d84-c87a-4e1d2f4bcf61"
      },
      "source": [
        "!pip install faker "
      ],
      "execution_count": 1,
      "outputs": [
        {
          "output_type": "stream",
          "text": [
            "Collecting faker\n",
            "\u001b[?25l  Downloading https://files.pythonhosted.org/packages/95/c4/6abf74493bf4eb4cea24cab5932106921ce6d014a626966031da4ee7ad25/Faker-8.2.1-py3-none-any.whl (1.2MB)\n",
            "\u001b[K     |████████████████████████████████| 1.2MB 5.3MB/s \n",
            "\u001b[?25hRequirement already satisfied: text-unidecode==1.3 in /usr/local/lib/python3.7/dist-packages (from faker) (1.3)\n",
            "Requirement already satisfied: python-dateutil>=2.4 in /usr/local/lib/python3.7/dist-packages (from faker) (2.8.1)\n",
            "Requirement already satisfied: six>=1.5 in /usr/local/lib/python3.7/dist-packages (from python-dateutil>=2.4->faker) (1.15.0)\n",
            "Installing collected packages: faker\n",
            "Successfully installed faker-8.2.1\n"
          ],
          "name": "stdout"
        }
      ]
    },
    {
      "cell_type": "code",
      "metadata": {
        "id": "CZR5qZrajbms"
      },
      "source": [
        "# Installing the package \n",
        "from faker import Faker\n",
        "fake=Faker()\n",
        "name=fake.name()\n",
        "color= fake.color_name()\n",
        "city= fake.city()\n",
        "job = fake.job()"
      ],
      "execution_count": 4,
      "outputs": []
    },
    {
      "cell_type": "code",
      "metadata": {
        "colab": {
          "base_uri": "https://localhost:8080/"
        },
        "id": "QHdtMY3ykUQb",
        "outputId": "87d4a505-f9aa-4412-d301-456ea376c9ac"
      },
      "source": [
        "print('Her name is {}. She lives in {}. her favorite color is {}. she work as {}'.format(name,city,color,job))"
      ],
      "execution_count": 7,
      "outputs": [
        {
          "output_type": "stream",
          "text": [
            "Her name is Jonathan Hernandez. She lives in West Marialand. her favorite color is Ivory. she work as TEFL teacher\n"
          ],
          "name": "stdout"
        }
      ]
    },
    {
      "cell_type": "code",
      "metadata": {
        "id": "ZiTE9Z_PkFa3"
      },
      "source": [
        ""
      ],
      "execution_count": null,
      "outputs": []
    }
  ]
}