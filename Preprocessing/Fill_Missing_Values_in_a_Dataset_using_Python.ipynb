{
  "nbformat": 4,
  "nbformat_minor": 0,
  "metadata": {
    "colab": {
      "name": "Fill Missing Values in a Dataset using Python.ipynb",
      "provenance": [],
      "toc_visible": true
    },
    "kernelspec": {
      "name": "python3",
      "display_name": "Python 3"
    },
    "language_info": {
      "name": "python"
    }
  },
  "cells": [
    {
      "cell_type": "markdown",
      "metadata": {
        "id": "XgG-pUdEI3CK"
      },
      "source": [
        "# **Introduction**\n",
        "When working on a data science task, sometimes many missing values act as a hindrance while getting the correct information from a dataset. We can easily remove the missing values, but sometimes we need to fill these values depending on the quantity of the dataset. So if you want to learn how to fill in missing values in a dataset, this article is for you. In this article, I’ll walk you through a tutorial on how to fill in missing values in a dataset using Python."
      ]
    },
    {
      "cell_type": "markdown",
      "metadata": {
        "id": "hBtctHfzJGya"
      },
      "source": [
        "# **Why do We Need to Fill Missing Values in a Dataset?**\n",
        "\n",
        "Sometimes the dataset we use to solve a problem contains a lot of missing values that can adversely affect the performance of a machine learning model. A dataset with a lot of missing values can give us wrong information. So if we have missing values in a dataset, here are some strategies we can choose to deal with them:\n",
        "\n",
        "- Removing the whole row which contains missing values\n",
        "- Filling the missing values according to the other known values\n",
        "\n",
        "The first strategy is to remove the entire row containing a missing value. This is not a bad idea, but it can only be considered when the data is very large. If removing missing values results in a data shortage, then this will not be an ideal dataset for any data science task. This is where the second strategy comes in, which is to fill in the missing values according to the other known values. This strategy can be considered in any type of dataset.\n",
        "\n",
        "So this is why we need to fill the missing values in a dataset. In the section below, I will take you through a tutorial on how to fill in missing values in a dataset using Python.\n"
      ]
    },
    {
      "cell_type": "markdown",
      "metadata": {
        "id": "Bjlno6_vJrWT"
      },
      "source": [
        "# **Fill Missing Values in a Dataset using Python**\n",
        "\n",
        "The scikit-learn library in Python offers the **SimpleImputer()** class which can be used for filling the missing values based on:\n",
        "\n",
        "- Mean of the known values\n",
        "- Median of the known values\n",
        "- Most frequent value among the known values\n",
        "\n",
        "So let’s go through all these methods one by one for filling the missing values of a dataset. I will first create a very simple dataset with some missing values:\n"
      ]
    },
    {
      "cell_type": "code",
      "metadata": {
        "id": "EwAapSDzIlmZ"
      },
      "source": [
        "import numpy as np\n",
        "data = np.array([[10, np.nan, 8], \n",
        "                 [9, 8, np.nan], \n",
        "                 [7, 10, 9]])"
      ],
      "execution_count": 1,
      "outputs": []
    },
    {
      "cell_type": "code",
      "metadata": {
        "colab": {
          "base_uri": "https://localhost:8080/"
        },
        "id": "7T0jy1jtKHir",
        "outputId": "90f4a826-9345-45ce-97fc-3658bbccff65"
      },
      "source": [
        "print(data)\n"
      ],
      "execution_count": 2,
      "outputs": [
        {
          "output_type": "stream",
          "text": [
            "[[10. nan  8.]\n",
            " [ 9.  8. nan]\n",
            " [ 7. 10.  9.]]\n"
          ],
          "name": "stdout"
        }
      ]
    },
    {
      "cell_type": "markdown",
      "metadata": {
        "id": "pfYMTMvOKNAi"
      },
      "source": [
        "Here is how you can use the Mean of the other known values for filling the missing values:\n",
        "\n"
      ]
    },
    {
      "cell_type": "code",
      "metadata": {
        "id": "SAPCWk9XKOli"
      },
      "source": [
        "# Filling Values with mean\n",
        "from sklearn.impute import SimpleImputer\n",
        "mean_values = SimpleImputer(strategy='mean')\n",
        "data1 = mean_values.fit_transform(data)"
      ],
      "execution_count": 3,
      "outputs": []
    },
    {
      "cell_type": "code",
      "metadata": {
        "colab": {
          "base_uri": "https://localhost:8080/"
        },
        "id": "nAxbT6vXKWUL",
        "outputId": "a9265655-03ec-4332-b2fe-8a50ec5c934e"
      },
      "source": [
        "print(data1)\n"
      ],
      "execution_count": 5,
      "outputs": [
        {
          "output_type": "stream",
          "text": [
            "[[10.   9.   8. ]\n",
            " [ 9.   8.   8.5]\n",
            " [ 7.  10.   9. ]]\n"
          ],
          "name": "stdout"
        }
      ]
    },
    {
      "cell_type": "markdown",
      "metadata": {
        "id": "XzSA3l3YKaCa"
      },
      "source": [
        "Here is how you can use the Median of the other known values for filling the missing values:\n",
        "\n"
      ]
    },
    {
      "cell_type": "code",
      "metadata": {
        "colab": {
          "base_uri": "https://localhost:8080/"
        },
        "id": "GJY6oLTkKfKZ",
        "outputId": "c7320cb8-74f6-4421-e414-98efabd8b0ca"
      },
      "source": [
        "# Filling Values with median\n",
        "from sklearn.impute import SimpleImputer\n",
        "median_values = SimpleImputer(strategy='median')\n",
        "data2 = median_values.fit_transform(data)\n",
        "print(data2)"
      ],
      "execution_count": 6,
      "outputs": [
        {
          "output_type": "stream",
          "text": [
            "[[10.   9.   8. ]\n",
            " [ 9.   8.   8.5]\n",
            " [ 7.  10.   9. ]]\n"
          ],
          "name": "stdout"
        }
      ]
    },
    {
      "cell_type": "markdown",
      "metadata": {
        "id": "aHelgUGeKnfi"
      },
      "source": [
        "Here is how you can use the most frequent value among the other known values for filling the missing values:"
      ]
    },
    {
      "cell_type": "code",
      "metadata": {
        "colab": {
          "base_uri": "https://localhost:8080/"
        },
        "id": "NE900achKj6a",
        "outputId": "128d4f81-ad64-4213-f67d-d40468dfa7af"
      },
      "source": [
        "# Filling values with most frequent values\n",
        "from sklearn.impute import SimpleImputer\n",
        "most_frequent = SimpleImputer(strategy='most_frequent')\n",
        "data3 = most_frequent.fit_transform(data)\n",
        "print(data3)"
      ],
      "execution_count": 7,
      "outputs": [
        {
          "output_type": "stream",
          "text": [
            "[[10.  8.  8.]\n",
            " [ 9.  8.  8.]\n",
            " [ 7. 10.  9.]]\n"
          ],
          "name": "stdout"
        }
      ]
    },
    {
      "cell_type": "markdown",
      "metadata": {
        "id": "K-wD6XrbKwKJ"
      },
      "source": [
        "# **Summary**\n",
        "So this is how we can fill missing values in any kind of data while working on a data science task. Filling the missing values is very important as these values act as a hindrance while collecting the correct information from a dataset. I hope you liked this article on a tutorial on filling the missing values in a dataset using Python. Feel free to ask your valuable questions in the comments section below.\n"
      ]
    },
    {
      "cell_type": "markdown",
      "metadata": {
        "id": "uOu2ttBhIqPr"
      },
      "source": [
        "# **References**\n",
        "\n",
        "[Fill Missing Values in a Dataset using Python](https://thecleverprogrammer.com/2021/05/29/fill-missing-values-in-a-dataset-using-python/)"
      ]
    }
  ]
}