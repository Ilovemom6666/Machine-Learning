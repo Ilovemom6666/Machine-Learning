{
  "nbformat": 4,
  "nbformat_minor": 0,
  "metadata": {
    "colab": {
      "name": "Give Columns name to dataset (resize) using Python",
      "provenance": [],
      "collapsed_sections": []
    },
    "kernelspec": {
      "name": "python3",
      "display_name": "Python 3"
    },
    "language_info": {
      "name": "python"
    }
  },
  "cells": [
    {
      "cell_type": "markdown",
      "metadata": {
        "id": "H6yaBaPh_mum"
      },
      "source": [
        "# **Data Loading**\n"
      ]
    },
    {
      "cell_type": "code",
      "metadata": {
        "colab": {
          "base_uri": "https://localhost:8080/"
        },
        "id": "yMk_rzke6Bb6",
        "outputId": "b51fd090-925d-479f-dc14-6859a6235378"
      },
      "source": [
        "from google.colab import drive\n",
        "drive.mount('/content/drive')"
      ],
      "execution_count": 1,
      "outputs": [
        {
          "output_type": "stream",
          "text": [
            "Mounted at /content/drive\n"
          ],
          "name": "stdout"
        }
      ]
    },
    {
      "cell_type": "code",
      "metadata": {
        "id": "TF2NlY-5_3zm"
      },
      "source": [
        "import pandas as pd\n",
        "import numpy as np\n",
        "data = pd.read_csv(\"/content/drive/MyDrive/Datasets/ratings_Electronics.csv\")"
      ],
      "execution_count": 2,
      "outputs": []
    },
    {
      "cell_type": "code",
      "metadata": {
        "id": "0DM0hCqpCyuh"
      },
      "source": [
        "print(data.head())"
      ],
      "execution_count": null,
      "outputs": []
    },
    {
      "cell_type": "markdown",
      "metadata": {
        "id": "3NY1aQF4C4Mi"
      },
      "source": [
        "The dataset that I am using here does not have columns names, so let’s give the most appropriate names to these columns:"
      ]
    },
    {
      "cell_type": "code",
      "metadata": {
        "id": "v15uUPXgC-YR"
      },
      "source": [
        "data.columns = ['user_id', 'product_id','ratings','timestamp']"
      ],
      "execution_count": 4,
      "outputs": []
    },
    {
      "cell_type": "markdown",
      "metadata": {
        "id": "izHW3nhmDKk5"
      },
      "source": [
        "This dataset is very large so I will select a sample:\n",
        "\n"
      ]
    },
    {
      "cell_type": "code",
      "metadata": {
        "id": "yhe1YLMpDQoY"
      },
      "source": [
        "df = data[:int(len(data) * .1)]"
      ],
      "execution_count": 6,
      "outputs": []
    },
    {
      "cell_type": "markdown",
      "metadata": {
        "id": "VpFmvGtYDUqY"
      },
      "source": [
        "Now let’s prepare the dataset for creating a recommendation system:\n",
        "\n"
      ]
    }
  ]
}