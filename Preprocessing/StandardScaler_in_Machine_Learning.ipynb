{
  "nbformat": 4,
  "nbformat_minor": 0,
  "metadata": {
    "colab": {
      "name": "StandardScaler in Machine Learning.ipynb",
      "provenance": [],
      "collapsed_sections": []
    },
    "kernelspec": {
      "name": "python3",
      "display_name": "Python 3"
    },
    "language_info": {
      "name": "python"
    }
  },
  "cells": [
    {
      "cell_type": "markdown",
      "metadata": {
        "id": "qIlLHw-C-vA8"
      },
      "source": [
        "# **Introduction**"
      ]
    },
    {
      "cell_type": "markdown",
      "metadata": {
        "id": "d_TDMTfJ_nuh"
      },
      "source": [
        "In Machine Learning, StandardScaler is used to resize the distribution of values ​​so that the mean of the observed values ​​is 0 and the standard deviation is 1. In this article, I will walk you through how to use StandardScaler in Machine Learning.\n",
        "\n",
        "StandardScaler is an important technique that is mainly performed as a preprocessing step before many machine learning models, in order to standardize the range of functionality of the input dataset."
      ]
    },
    {
      "cell_type": "markdown",
      "metadata": {
        "id": "cP4xM3Va_4k2"
      },
      "source": [
        "Some machine learning practitioners tend to standardize their data blindly before each machine learning model without making the effort to understand why it should be used, or even whether it is needed or not. So you need to understand when you should use the StandardScaler to scale your data."
      ]
    },
    {
      "cell_type": "markdown",
      "metadata": {
        "id": "n19_fR7xADFO"
      },
      "source": [
        "#**When and How To Use StandardScaler?**"
      ]
    },
    {
      "cell_type": "markdown",
      "metadata": {
        "id": "6gsDegOhAOnv"
      },
      "source": [
        "StandardScaler comes into play when the characteristics of the input dataset differ greatly between their ranges, or simply when they are measured in different units of measure.\n",
        "\n",
        "StandardScaler removes the mean and scales the data to the unit variance. However, outliers have an influence when calculating the empirical mean and standard deviation, which narrows the range of characteristic values.\n",
        "\n",
        "These differences in the initial features can cause problems for many machine learning models. For example, for models based on the calculation of distance, if one of the features has a wide range of values, the distance will be governed by that particular characteristic.\n",
        "\n",
        "The idea behind the StandardScaler is that variables that are measured at different scales do not contribute equally to the fit of the model and the learning function of the model and could end up creating a bias. \n",
        "\n",
        "So, to deal with this potential problem, we need to standardize the data (μ = 0, σ = 1) that is typically used before we integrate it into the machine learning model."
      ]
    },
    {
      "cell_type": "code",
      "metadata": {
        "id": "4U-xaO6I6RQZ"
      },
      "source": [
        "from sklearn.preprocessing import StandardScaler\n",
        "import numpy as np\n",
        "\n",
        "# 4 samples/observations and 2 variables/features\n",
        "X = np.array([[0, 0], [1, 0], [0, 1], [1, 1]])\n",
        "# the scaler object (model)\n",
        "scaler = StandardScaler()\n",
        "# fit and transform the data\n",
        "scaled_data = scaler.fit_transform(X)\n",
        "print(X)"
      ],
      "execution_count": null,
      "outputs": []
    },
    {
      "cell_type": "code",
      "metadata": {
        "id": "igUk56jpAaw8",
        "outputId": "ce938b03-2f3e-497b-bee2-d07e8dbd1fc2",
        "colab": {
          "base_uri": "https://localhost:8080/"
        }
      },
      "source": [
        "print(scaled_data)\n"
      ],
      "execution_count": 6,
      "outputs": [
        {
          "output_type": "stream",
          "text": [
            "[[-1. -1.]\n",
            " [ 1. -1.]\n",
            " [-1.  1.]\n",
            " [ 1.  1.]]\n"
          ],
          "name": "stdout"
        }
      ]
    },
    {
      "cell_type": "markdown",
      "metadata": {
        "id": "6-B4D3yZ-f9t"
      },
      "source": [
        "# **References**\n",
        "\n",
        "[StandardScaler in Machine Learning](https://thecleverprogrammer.com/2020/09/22/standardscaler-in-machine-learning/)"
      ]
    }
  ]
}