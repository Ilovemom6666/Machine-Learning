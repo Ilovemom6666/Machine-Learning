{
  "nbformat": 4,
  "nbformat_minor": 0,
  "metadata": {
    "colab": {
      "name": " Basic of Scikit Learn.ipynb",
      "provenance": [],
      "authorship_tag": "ABX9TyOPs6j2OssYpKKKKnKR4696",
      "include_colab_link": true
    },
    "kernelspec": {
      "name": "python3",
      "display_name": "Python 3"
    }
  },
  "cells": [
    {
      "cell_type": "markdown",
      "metadata": {
        "id": "view-in-github",
        "colab_type": "text"
      },
      "source": [
        "<a href=\"https://colab.research.google.com/github/hussain0048/Machine-Learning/blob/master/Basic_of_Scikit_Learn.ipynb\" target=\"_parent\"><img src=\"https://colab.research.google.com/assets/colab-badge.svg\" alt=\"Open In Colab\"/></a>"
      ]
    },
    {
      "cell_type": "markdown",
      "metadata": {
        "id": "Knel5KGqeht8",
        "colab_type": "text"
      },
      "source": [
        "# **1- Introduction Scikit Learn**\n",
        "Scikit learn is a library used to perform machine learning in Python. Scikit learn is an open source library which is licensed under BSD and is reusable in various contexts, encouraging academic and commercial use. It provides a range of supervised and unsupervised learning algorithms in Python. Scikit learn consists of popular algorithms and libraries. Apart from that, it also contains the following packages[1]:\n",
        "- NumPy\n",
        "- Matplotlib\n",
        "- SciPy (Scientific Python)\n",
        "\n",
        "Scikit learn is one of the attraction where we can implement machine learning using Python. It is a free machine learning library which contains simple and efficient tools for data analysis and mining purposes[1].\n",
        "\n",
        "Scikit learn comes with sample datasets, such as iris and digits. You can import the datasets and play around with them. "
      ]
    },
    {
      "cell_type": "code",
      "metadata": {
        "id": "CXnyHjHrcegp",
        "colab_type": "code",
        "colab": {}
      },
      "source": [
        ""
      ],
      "execution_count": null,
      "outputs": []
    },
    {
      "cell_type": "markdown",
      "metadata": {
        "id": "jOIY_cg5eLxN",
        "colab_type": "text"
      },
      "source": [
        "#**References** \n",
        "[[1] Beginner’s Guide To Scikit Learn — Implement Scikit Learn In Logistic Regression](https://medium.com/edureka/scikit-learn-machine-learning-7a2d92e4dd07)"
      ]
    }
  ]
}