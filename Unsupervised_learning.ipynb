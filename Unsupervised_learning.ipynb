{
  "nbformat": 4,
  "nbformat_minor": 0,
  "metadata": {
    "colab": {
      "name": "Unsupervised learning.ipynb",
      "provenance": [],
      "toc_visible": true,
      "authorship_tag": "ABX9TyPSFTyTZWrDJv/6qQjciRKj",
      "include_colab_link": true
    },
    "kernelspec": {
      "name": "python3",
      "display_name": "Python 3"
    },
    "language_info": {
      "name": "python"
    }
  },
  "cells": [
    {
      "cell_type": "markdown",
      "metadata": {
        "id": "view-in-github",
        "colab_type": "text"
      },
      "source": [
        "<a href=\"https://colab.research.google.com/github/hussain0048/Machine-Learning/blob/master/Unsupervised_learning.ipynb\" target=\"_parent\"><img src=\"https://colab.research.google.com/assets/colab-badge.svg\" alt=\"Open In Colab\"/></a>"
      ]
    },
    {
      "cell_type": "markdown",
      "source": [
        "# **Introduction** "
      ],
      "metadata": {
        "id": "Ht2rQVTBoJPR"
      }
    },
    {
      "cell_type": "markdown",
      "source": [
        "nsupervised machine learning algorithms, such as clusters analysis or clustering, group unlabeled datasets.[1]"
      ],
      "metadata": {
        "id": "gApO-NUToUYm"
      }
    },
    {
      "cell_type": "markdown",
      "source": [
        "# **Clustering**"
      ],
      "metadata": {
        "id": "dXSAfTV0oW_J"
      }
    },
    {
      "cell_type": "markdown",
      "source": [
        "Clustering is the process of combining data points in a dataset so that there is a high level of similarity between clusters and a low level of similarity between clusters. Clustering, in its most basic form, is the process of forming subsets or groups from a dataset made up of data points that are really similar to one another and which can be differentiated from each other significantly.[1]\n"
      ],
      "metadata": {
        "id": "n_9XxRGrogUk"
      }
    },
    {
      "cell_type": "markdown",
      "source": [
        "**Why Clustering?**"
      ],
      "metadata": {
        "id": "fmDmm6UtooQv"
      }
    },
    {
      "cell_type": "markdown",
      "source": [
        "Consider a dataset about which we know nothing. The result of a clustering algorithm is that it can find groups of objects whose average distance between members or data points is smaller than the distance between members or data points in other clusters[1]"
      ],
      "metadata": {
        "id": "BKZRu91loxPQ"
      }
    },
    {
      "cell_type": "markdown",
      "source": [
        "**Application of Clusteriing**"
      ],
      "metadata": {
        "id": "oyc_waEbpKR_"
      }
    },
    {
      "cell_type": "markdown",
      "source": [
        "Here are a few real-life examples of how clustering can be applied:[1]\n",
        "- Customer segmentation: The process of identifying a group of customers with similar behaviour given a large dataset.\n",
        "- In a network traffic classification, the characteristics of the traffic sources are grouped together. Using clusters, it is easy to classify traffic types.\n",
        "-Email Filter: This filter divides the data into three sections and then classifies them accordingly."
      ],
      "metadata": {
        "id": "0uWMgB_5pPlw"
      }
    },
    {
      "cell_type": "markdown",
      "source": [
        "## **K means clustering**"
      ],
      "metadata": {
        "id": "8PSOC-AtpgZR"
      }
    },
    {
      "cell_type": "markdown",
      "source": [
        "This algorithm identifies clusters of a given data set based on a certain number of predetermined groupings or “K” groups[1].\n",
        "\n",
        "The k-means clustering algorithm is used to group unlabelled data into different clusters or subgroups using an unsupervised approach. Surely you must be wondering what the works ‘k’ and ‘means’ in the k-means clustering mean?[1]\n",
        "\n",
        "To put a stop to all your guesses here, the term ‘k’ stands for the number of clusters that can be created in the process of clustering. For instance, k = 2, we’ll have two clusters, whereas when k=3, we’ll have three clusters, and so on. Due to the fact that k-means clustering uses centroid-based algorithm, the “means” of each cluster is determined by the centroid of the data points. In the working explanation of k-means you will learn about the concept of centroid based algorithm[1]"
      ],
      "metadata": {
        "id": "2_xkfODDpz3_"
      }
    },
    {
      "cell_type": "code",
      "source": [
        "import pandas as pd\n",
        "import numpy as np\n",
        "import matplotlib.pyplot as plt\n",
        "from sklearn.cluster import KMeans\n",
        "from sklearn.preprocessing import StandardScaler, normalize\n",
        "from sklearn.metrics import silhouette_score"
      ],
      "metadata": {
        "id": "rqFhR48i1_3q"
      },
      "execution_count": 14,
      "outputs": []
    },
    {
      "cell_type": "markdown",
      "source": [
        "### **Data Loading**"
      ],
      "metadata": {
        "id": "UeVUz15xxXAH"
      }
    },
    {
      "cell_type": "code",
      "source": [
        "from google.colab import drive\n",
        "drive.mount('/content/drive')"
      ],
      "metadata": {
        "colab": {
          "base_uri": "https://localhost:8080/"
        },
        "id": "g9slnFD7xTK3",
        "outputId": "85449dbf-8040-42fe-a5b4-0235254e67d6"
      },
      "execution_count": 1,
      "outputs": [
        {
          "output_type": "stream",
          "name": "stdout",
          "text": [
            "Mounted at /content/drive\n"
          ]
        }
      ]
    },
    {
      "cell_type": "code",
      "source": [
        "import pandas as pd \n",
        "Train_data = pd.read_csv('/content/drive/MyDrive/Datasets/Student field Recommendation /Placement_Data_Full_Class.csv',encoding = 'latin')"
      ],
      "metadata": {
        "id": "v9uzhS-nxpRI"
      },
      "execution_count": 6,
      "outputs": []
    },
    {
      "cell_type": "code",
      "source": [
        "data=Train_data"
      ],
      "metadata": {
        "id": "_b_PaRQgx3jO"
      },
      "execution_count": 7,
      "outputs": []
    },
    {
      "cell_type": "code",
      "source": [
        "data['gender'] = data['gender'].fillna(data['gender'].mode()[0])\n",
        "data['ssc_b'] = data['ssc_b'].fillna(data['ssc_b'].mode()[0])\n",
        "data['hsc_b'] = data['hsc_b'].fillna(data['hsc_b'].mode()[0])\n",
        "data['hsc_s'] = data['hsc_s'].fillna(data['hsc_s'].mode()[0])\n",
        "data['degree_t'] = data['degree_t'].fillna(data['degree_t'].mode()[0])\n",
        "data['workex'] = data['workex'].fillna(data['workex'].mode()[0])\n",
        "data['specialisation'] = data['specialisation'].fillna(data['specialisation'].mode()[0])\n",
        "data['status'] = data['status'].fillna(data['status'].mode()[0])"
      ],
      "metadata": {
        "id": "EcFWifdlx97G"
      },
      "execution_count": 8,
      "outputs": []
    },
    {
      "cell_type": "code",
      "source": [
        "# Convert categorical features to continuous features with Label Encoding\n",
        "from sklearn.preprocessing import LabelEncoder\n",
        "lencoders = {}\n",
        "for col in data.select_dtypes(include=['object']).columns:\n",
        "    lencoders[col] = LabelEncoder()\n",
        "    data[col] = lencoders[col].fit_transform(data[col])"
      ],
      "metadata": {
        "id": "9C5jSDWpyVGN"
      },
      "execution_count": 9,
      "outputs": []
    },
    {
      "cell_type": "code",
      "source": [
        "import warnings\n",
        "warnings.filterwarnings(\"ignore\")\n",
        "# Multiple Imputation by Chained Equations\n",
        "from sklearn.experimental import enable_iterative_imputer\n",
        "from sklearn.impute import IterativeImputer\n",
        "MiceImputed = data.copy(deep=True) \n",
        "mice_imputer = IterativeImputer()\n",
        "MiceImputed.iloc[:, :] = mice_imputer.fit_transform(data)"
      ],
      "metadata": {
        "id": "FlfhySBOycXm"
      },
      "execution_count": 10,
      "outputs": []
    },
    {
      "cell_type": "code",
      "source": [
        "MiceImputed.fillna(method = 'ffill', axis = 0)\n"
      ],
      "metadata": {
        "id": "Tgn9TIuhyimN"
      },
      "execution_count": null,
      "outputs": []
    },
    {
      "cell_type": "code",
      "source": [
        "selected_cols=[\"gender\",\"ssc_p\",\"ssc_b\",\"hsc_p\",\"hsc_b\",\"hsc_s\",\"degree_p\",\"degree_t\",\"workex\",\"etest_p\",\"specialisation\",\"mba_p\",\"status\",\"salary\"]\n",
        "cluster_data=MiceImputed.loc[:,selected_cols]"
      ],
      "metadata": {
        "id": "v-n5z5OY0TYz"
      },
      "execution_count": 12,
      "outputs": []
    },
    {
      "cell_type": "markdown",
      "source": [
        "###**Find optimum number of clusters**"
      ],
      "metadata": {
        "id": "zuY4Mo3F0hNG"
      }
    },
    {
      "cell_type": "code",
      "source": [
        "cluster_range = [2,3,4,5,6,7,8,9,10,11,12,13,14]\n"
      ],
      "metadata": {
        "id": "i1q-RBUW0mXa"
      },
      "execution_count": 17,
      "outputs": []
    },
    {
      "cell_type": "code",
      "source": [
        "interties =[]\n",
        "for c in cluster_range:\n",
        "  kmeans= KMeans(init='k-means++', n_clusters= c,n_init=100,random_state=0).fit(cluster_data)\n",
        "  interties.append(kmeans.inertia_)\n",
        "plt.figure()\n",
        "plt.plot(cluster_range,interties, )\n",
        "plt.show()"
      ],
      "metadata": {
        "colab": {
          "base_uri": "https://localhost:8080/",
          "height": 130
        },
        "id": "W0OcOQ-m2hpq",
        "outputId": "0b226f35-41aa-4cc8-a6ba-383236c70f42"
      },
      "execution_count": 35,
      "outputs": [
        {
          "output_type": "error",
          "ename": "SyntaxError",
          "evalue": "ignored",
          "traceback": [
            "\u001b[0;36m  File \u001b[0;32m\"<ipython-input-35-55b6f808f38a>\"\u001b[0;36m, line \u001b[0;32m6\u001b[0m\n\u001b[0;31m    plt.plot(cluster_range,interties, Markers=“o“)\u001b[0m\n\u001b[0m                                                ^\u001b[0m\n\u001b[0;31mSyntaxError\u001b[0m\u001b[0;31m:\u001b[0m invalid character in identifier\n"
          ]
        }
      ]
    },
    {
      "cell_type": "code",
      "source": [
        "interties =[]\n",
        "for c in cluster_range:\n",
        "  kmeans= KMeans(init='k-means++', n_clusters= c,n_init=100,random_state=0).fit(cluster_data)\n",
        "  interties.append(kmeans.inertia_)\n",
        "plt.figure()\n",
        "plt.plot(cluster_range,interties)\n",
        "plt.show()"
      ],
      "metadata": {
        "outputId": "c4c457b5-0be5-4d88-d516-919778992bbd",
        "colab": {
          "base_uri": "https://localhost:8080/",
          "height": 276
        },
        "id": "M9Rt3dAD9pq1"
      },
      "execution_count": 38,
      "outputs": [
        {
          "output_type": "display_data",
          "data": {
            "image/png": "[encoded data removed]",
            "text/plain": [
              "<Figure size 432x288 with 1 Axes>"
            ]
          },
          "metadata": {
            "needs_background": "light"
          }
        }
      ]
    },
    {
      "cell_type": "markdown",
      "source": [
        "### **Model tranining**"
      ],
      "metadata": {
        "id": "bdiwbbet-sxo"
      }
    },
    {
      "cell_type": "code",
      "source": [
        "kmeans_sel= KMeans(init='k-means++', n_clusters= 4,n_init=100,random_state=1).fit(cluster_data)"
      ],
      "metadata": {
        "id": "zV7djTNr_dGI"
      },
      "execution_count": 39,
      "outputs": []
    },
    {
      "cell_type": "code",
      "source": [
        "labels= pd.DataFrame(kmeans_sel.labels_)"
      ],
      "metadata": {
        "id": "Mn491u64ACVt"
      },
      "execution_count": 41,
      "outputs": []
    },
    {
      "cell_type": "code",
      "source": [
        "print(labels)\n"
      ],
      "metadata": {
        "id": "HTzqSssdCO1z"
      },
      "execution_count": null,
      "outputs": []
    },
    {
      "cell_type": "code",
      "source": [
        "preds = kmeans_sel.predict(cluster_data)\n"
      ],
      "metadata": {
        "id": "OutZXXFjCz_S"
      },
      "execution_count": 51,
      "outputs": []
    },
    {
      "cell_type": "code",
      "source": [
        "preds"
      ],
      "metadata": {
        "id": "nIz-OYU4C_eC"
      },
      "execution_count": null,
      "outputs": []
    },
    {
      "cell_type": "code",
      "source": [
        "clustered_data=cluster_data.assign(Cluster=labels)"
      ],
      "metadata": {
        "id": "WcIb4xJOAn9v"
      },
      "execution_count": 42,
      "outputs": []
    },
    {
      "cell_type": "code",
      "source": [
        "scatter(clustered_data, h='Cluster')"
      ],
      "metadata": {
        "colab": {
          "base_uri": "https://localhost:8080/",
          "height": 164
        },
        "id": "jCQo2561AtZ1",
        "outputId": "1acd2da9-086d-4689-e355-6f09b2acc917"
      },
      "execution_count": 49,
      "outputs": [
        {
          "output_type": "error",
          "ename": "NameError",
          "evalue": "ignored",
          "traceback": [
            "\u001b[0;31m---------------------------------------------------------------------------\u001b[0m",
            "\u001b[0;31mNameError\u001b[0m                                 Traceback (most recent call last)",
            "\u001b[0;32m<ipython-input-49-196269e13b78>\u001b[0m in \u001b[0;36m<module>\u001b[0;34m()\u001b[0m\n\u001b[0;32m----> 1\u001b[0;31m \u001b[0mscatter\u001b[0m\u001b[0;34m(\u001b[0m\u001b[0mclustered_data\u001b[0m\u001b[0;34m,\u001b[0m \u001b[0mh\u001b[0m\u001b[0;34m=\u001b[0m\u001b[0;34m'Cluster'\u001b[0m\u001b[0;34m)\u001b[0m\u001b[0;34m\u001b[0m\u001b[0;34m\u001b[0m\u001b[0m\n\u001b[0m",
            "\u001b[0;31mNameError\u001b[0m: name 'scatter' is not defined"
          ]
        }
      ]
    },
    {
      "cell_type": "markdown",
      "source": [
        "### **Calculate Accuracy**"
      ],
      "metadata": {
        "id": "vKsSgSoVDRlh"
      }
    },
    {
      "cell_type": "code",
      "source": [
        "from sklearn.metrics import accuracy_score, confusion_matrix, adjusted_rand_score\n",
        "print('Accuracy : %.3f'%accuracy_score(y_true = clusters, y_pred=preds))\n",
        "print('Confusion Matrix : \\n', confusion_matrix(y_true=clusters, y_pred=preds))\n",
        "print('Adjusted Accuracy : %.3f'%adjusted_rand_score(labels_true=clusters, labels_pred=preds))"
      ],
      "metadata": {
        "id": "-YPbNbzZDX8w",
        "outputId": "5bf85495-1e32-49f1-cab7-6df59ac7eead",
        "colab": {
          "base_uri": "https://localhost:8080/",
          "height": 215
        }
      },
      "execution_count": 53,
      "outputs": [
        {
          "output_type": "error",
          "ename": "NameError",
          "evalue": "ignored",
          "traceback": [
            "\u001b[0;31m---------------------------------------------------------------------------\u001b[0m",
            "\u001b[0;31mNameError\u001b[0m                                 Traceback (most recent call last)",
            "\u001b[0;32m<ipython-input-53-ea9f57e85586>\u001b[0m in \u001b[0;36m<module>\u001b[0;34m()\u001b[0m\n\u001b[1;32m      1\u001b[0m \u001b[0;32mfrom\u001b[0m \u001b[0msklearn\u001b[0m\u001b[0;34m.\u001b[0m\u001b[0mmetrics\u001b[0m \u001b[0;32mimport\u001b[0m \u001b[0maccuracy_score\u001b[0m\u001b[0;34m,\u001b[0m \u001b[0mconfusion_matrix\u001b[0m\u001b[0;34m,\u001b[0m \u001b[0madjusted_rand_score\u001b[0m\u001b[0;34m\u001b[0m\u001b[0;34m\u001b[0m\u001b[0m\n\u001b[0;32m----> 2\u001b[0;31m \u001b[0mprint\u001b[0m\u001b[0;34m(\u001b[0m\u001b[0;34m'Accuracy : %.3f'\u001b[0m\u001b[0;34m%\u001b[0m\u001b[0maccuracy_score\u001b[0m\u001b[0;34m(\u001b[0m\u001b[0my_true\u001b[0m \u001b[0;34m=\u001b[0m \u001b[0mclusters\u001b[0m\u001b[0;34m,\u001b[0m \u001b[0my_pred\u001b[0m\u001b[0;34m=\u001b[0m\u001b[0mpreds\u001b[0m\u001b[0;34m)\u001b[0m\u001b[0;34m)\u001b[0m\u001b[0;34m\u001b[0m\u001b[0;34m\u001b[0m\u001b[0m\n\u001b[0m\u001b[1;32m      3\u001b[0m \u001b[0mprint\u001b[0m\u001b[0;34m(\u001b[0m\u001b[0;34m'Confusion Matrix : \\n'\u001b[0m\u001b[0;34m,\u001b[0m \u001b[0mconfusion_matrix\u001b[0m\u001b[0;34m(\u001b[0m\u001b[0my_true\u001b[0m\u001b[0;34m=\u001b[0m\u001b[0mclusters\u001b[0m\u001b[0;34m,\u001b[0m \u001b[0my_pred\u001b[0m\u001b[0;34m=\u001b[0m\u001b[0mpreds\u001b[0m\u001b[0;34m)\u001b[0m\u001b[0;34m)\u001b[0m\u001b[0;34m\u001b[0m\u001b[0;34m\u001b[0m\u001b[0m\n\u001b[1;32m      4\u001b[0m \u001b[0mprint\u001b[0m\u001b[0;34m(\u001b[0m\u001b[0;34m'Adjusted Accuracy : %.3f'\u001b[0m\u001b[0;34m%\u001b[0m\u001b[0madjusted_rand_score\u001b[0m\u001b[0;34m(\u001b[0m\u001b[0mlabels_true\u001b[0m\u001b[0;34m=\u001b[0m\u001b[0mclusters\u001b[0m\u001b[0;34m,\u001b[0m \u001b[0mlabels_pred\u001b[0m\u001b[0;34m=\u001b[0m\u001b[0mpreds\u001b[0m\u001b[0;34m)\u001b[0m\u001b[0;34m)\u001b[0m\u001b[0;34m\u001b[0m\u001b[0;34m\u001b[0m\u001b[0m\n",
            "\u001b[0;31mNameError\u001b[0m: name 'clusters' is not defined"
          ]
        }
      ]
    },
    {
      "cell_type": "markdown",
      "source": [
        "## **Hierarchical Clustering**"
      ],
      "metadata": {
        "id": "m8p6Xvwyp5_I"
      }
    },
    {
      "cell_type": "markdown",
      "source": [
        "follows two approaches Divisive and Agglomerative. Each observation is considered a cluster and similar data points are grouped until they are fused, while Divisive works in the opposite direction[1]"
      ],
      "metadata": {
        "id": "nMnghb75qSGI"
      }
    },
    {
      "cell_type": "markdown",
      "source": [
        "## **Fuzzy C means Clustering**"
      ],
      "metadata": {
        "id": "Lthhi-v9qdfZ"
      }
    },
    {
      "cell_type": "markdown",
      "source": [
        "Although the workings of the FCM algorithm are almost identical to those of the K-means clustering algorithm, the main difference is that a data point can be placed in more than one cluster.[1]"
      ],
      "metadata": {
        "id": "3kysq3vYqly2"
      }
    },
    {
      "cell_type": "markdown",
      "source": [
        "## **Density-Based Spatial Clustering:**"
      ],
      "metadata": {
        "id": "d4eBNJDNqvkU"
      }
    },
    {
      "cell_type": "markdown",
      "source": [
        "Suitable for application requiring non-linear structures for clustering, solely based on density.[1]"
      ],
      "metadata": {
        "id": "wxo4IqN7q1vl"
      }
    },
    {
      "cell_type": "code",
      "execution_count": null,
      "metadata": {
        "id": "ba_p8nLdQBSL"
      },
      "outputs": [],
      "source": [
        ""
      ]
    },
    {
      "cell_type": "markdown",
      "source": [
        "# **References**"
      ],
      "metadata": {
        "id": "YDskRHx_QIhQ"
      }
    },
    {
      "cell_type": "markdown",
      "source": [
        "[1-Detailed Introduction To K-Means Clustering In Python](https://usernamejack.medium.com/detailed-introduction-to-k-means-clustering-in-python-d8178d7eb123)"
      ],
      "metadata": {
        "id": "-va5nbXYQOLe"
      }
    }
  ]
}