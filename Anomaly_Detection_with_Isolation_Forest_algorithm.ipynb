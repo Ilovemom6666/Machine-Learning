{
  "nbformat": 4,
  "nbformat_minor": 0,
  "metadata": {
    "colab": {
      "name": "Anomaly Detection with Isolation Forest algorithm.ipynb",
      "provenance": [],
      "authorship_tag": "ABX9TyP2UaPM6LoMWnMtDNVHiHDx",
      "include_colab_link": true
    },
    "kernelspec": {
      "name": "python3",
      "display_name": "Python 3"
    }
  },
  "cells": [
    {
      "cell_type": "markdown",
      "metadata": {
        "id": "view-in-github",
        "colab_type": "text"
      },
      "source": [
        "<a href=\"https://colab.research.google.com/github/hussain0048/Machine-Learning/blob/master/Anomaly_Detection_with_Isolation_Forest_algorithm.ipynb\" target=\"_parent\"><img src=\"https://colab.research.google.com/assets/colab-badge.svg\" alt=\"Open In Colab\"/></a>"
      ]
    },
    {
      "cell_type": "code",
      "metadata": {
        "id": "ieMGhv7Q3BOM"
      },
      "source": [
        ""
      ],
      "execution_count": null,
      "outputs": []
    },
    {
      "cell_type": "markdown",
      "metadata": {
        "id": "ukSc7rH03vRG"
      },
      "source": [
        "# **1-Introduction** [1]\n",
        "\n",
        "Anomaly Detection means detecting unexpected events in the dataset which differ from the norm. Anomaly Detection is very often used in unlabeled data. There are two most important assumptions in the task of Anomaly Detection: the first assumption says that Anomalies occurs very rarely in data, and the second assumption is that the features differ from the normal instances significantly."
      ]
    },
    {
      "cell_type": "markdown",
      "metadata": {
        "id": "NjfvF3hj6HRs"
      },
      "source": [
        "# **2-Data Exploration**[1]\n",
        "\n",
        "In this article, I will take you through the problem of Anomaly Detection with Machine Learning. The dataset I will use in this article can be downloaded from here. Now let’s import the necessary libraries and have a quick look at some insights from the data:"
      ]
    },
    {
      "cell_type": "code",
      "metadata": {
        "id": "IhNEvcdk6Zxt"
      },
      "source": [
        "import pandas as pd\n",
        "import numpy as np\n",
        "import matplotlib.pyplot as plt\n",
        "import seaborn as sns\n",
        "import matplotlib\n",
        "from sklearn.ensemble import IsolationForest"
      ],
      "execution_count": null,
      "outputs": []
    },
    {
      "cell_type": "markdown",
      "metadata": {
        "id": "CBghk5aU9kRJ"
      },
      "source": [
        "**Distribution of Sales**\n"
      ]
    },
    {
      "cell_type": "code",
      "metadata": {
        "id": "Hubu0X5K-m_W"
      },
      "source": [
        "df = pd.read_excel(\"Superstore.xls\")\n",
        "df['Sales'].describe()"
      ],
      "execution_count": null,
      "outputs": []
    },
    {
      "cell_type": "code",
      "metadata": {
        "id": "dUKsohY9-yzX"
      },
      "source": [
        "plt.scatter(range(df.shape[0]), np.sort(df['Sales'].values))\n",
        "plt.xlabel('index')\n",
        "plt.ylabel('Sales')\n",
        "plt.title(\"Sales distribution\")\n",
        "sns.despine()"
      ],
      "execution_count": null,
      "outputs": []
    },
    {
      "cell_type": "code",
      "metadata": {
        "id": "LAP59RKk-3Qy"
      },
      "source": [
        "sns.distplot(df['Sales'])\n",
        "plt.title(\"Distribution of Sales\")\n",
        "sns.despine()"
      ],
      "execution_count": null,
      "outputs": []
    },
    {
      "cell_type": "markdown",
      "metadata": {
        "id": "OnDisMqx_C6w"
      },
      "source": [
        "The sales distribution in the dataset is very far from a normal distribution and it is also having a positive thin long tail. Most of the mass of the sales distribution is concentrated on the left side in the output above. It shows that the sales distribution exceeds the normal distribution."
      ]
    },
    {
      "cell_type": "markdown",
      "metadata": {
        "id": "rRvn-s8c3cIe"
      },
      "source": [
        "# **Referneces**\n",
        "[[1] Anomaly Detection with Machine Learning](https://thecleverprogrammer.com/2020/07/29/anomaly-detection-with-machine-learning/)"
      ]
    }
  ]
}