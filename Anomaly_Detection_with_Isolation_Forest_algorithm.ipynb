{
  "nbformat": 4,
  "nbformat_minor": 0,
  "metadata": {
    "colab": {
      "name": "Anomaly Detection with Isolation Forest algorithm.ipynb",
      "provenance": [],
      "toc_visible": true,
      "authorship_tag": "ABX9TyNQFnIvAX/RunM8ZzvD0hGN",
      "include_colab_link": true
    },
    "kernelspec": {
      "name": "python3",
      "display_name": "Python 3"
    }
  },
  "cells": [
    {
      "cell_type": "markdown",
      "metadata": {
        "id": "view-in-github",
        "colab_type": "text"
      },
      "source": [
        "<a href=\"https://colab.research.google.com/github/hussain0048/Machine-Learning/blob/master/Anomaly_Detection_with_Isolation_Forest_algorithm.ipynb\" target=\"_parent\"><img src=\"https://colab.research.google.com/assets/colab-badge.svg\" alt=\"Open In Colab\"/></a>"
      ]
    },
    {
      "cell_type": "code",
      "metadata": {
        "id": "ieMGhv7Q3BOM"
      },
      "source": [
        ""
      ],
      "execution_count": null,
      "outputs": []
    },
    {
      "cell_type": "markdown",
      "metadata": {
        "id": "ukSc7rH03vRG"
      },
      "source": [
        "# **1-Introduction** [1]\n",
        "\n",
        "Anomaly Detection means detecting unexpected events in the dataset which differ from the norm. Anomaly Detection is very often used in unlabeled data. There are two most important assumptions in the task of Anomaly Detection: the first assumption says that Anomalies occurs very rarely in data, and the second assumption is that the features differ from the normal instances significantly."
      ]
    },
    {
      "cell_type": "markdown",
      "metadata": {
        "id": "NjfvF3hj6HRs"
      },
      "source": [
        "# **2-Data Exploration**[1]\n",
        "\n",
        "In this article, I will take you through the problem of Anomaly Detection with Machine Learning. The dataset I will use in this article can be downloaded from here. Now let’s import the necessary libraries and have a quick look at some insights from the data:"
      ]
    },
    {
      "cell_type": "code",
      "metadata": {
        "id": "IhNEvcdk6Zxt"
      },
      "source": [
        "import pandas as pd\n",
        "import numpy as np\n",
        "import matplotlib.pyplot as plt\n",
        "import seaborn as sns\n",
        "import matplotlib\n",
        "from sklearn.ensemble import IsolationForest"
      ],
      "execution_count": 2,
      "outputs": []
    },
    {
      "cell_type": "markdown",
      "metadata": {
        "id": "CBghk5aU9kRJ"
      },
      "source": [
        "**Distribution of Sales**\n"
      ]
    },
    {
      "cell_type": "code",
      "metadata": {
        "id": "HdceCvshUQGV",
        "outputId": "5d9f3ac7-c3de-4103-d427-dca8bc8cf087",
        "colab": {
          "base_uri": "https://localhost:8080/"
        }
      },
      "source": [
        "from google.colab import drive\n",
        "drive.mount('/content/drive')"
      ],
      "execution_count": 3,
      "outputs": [
        {
          "output_type": "stream",
          "text": [
            "Mounted at /content/drive\n"
          ],
          "name": "stdout"
        }
      ]
    },
    {
      "cell_type": "code",
      "metadata": {
        "id": "Hubu0X5K-m_W",
        "outputId": "91e95672-31ff-40c9-b3e0-bf01c1ba78e2",
        "colab": {
          "base_uri": "https://localhost:8080/"
        }
      },
      "source": [
        "df = pd.read_excel(\"/content/drive/MyDrive/Datasets/Anmoly Detection/Sample - Superstore.xls\")\n",
        "df['Sales'].describe()"
      ],
      "execution_count": 4,
      "outputs": [
        {
          "output_type": "execute_result",
          "data": {
            "text/plain": [
              "count     9994.000000\n",
              "mean       229.858001\n",
              "std        623.245101\n",
              "min          0.444000\n",
              "25%         17.280000\n",
              "50%         54.490000\n",
              "75%        209.940000\n",
              "max      22638.480000\n",
              "Name: Sales, dtype: float64"
            ]
          },
          "metadata": {
            "tags": []
          },
          "execution_count": 4
        }
      ]
    },
    {
      "cell_type": "code",
      "metadata": {
        "id": "rDuYOn0rX8r_"
      },
      "source": [
        "df.head()"
      ],
      "execution_count": null,
      "outputs": []
    },
    {
      "cell_type": "code",
      "metadata": {
        "id": "dUKsohY9-yzX"
      },
      "source": [
        "plt.scatter(range(df.shape[0]), np.sort(df['Sales'].values))\n",
        "plt.xlabel('index')\n",
        "plt.ylabel('Sales')\n",
        "plt.title(\"Sales distribution\")\n",
        "sns.despine()"
      ],
      "execution_count": null,
      "outputs": []
    },
    {
      "cell_type": "code",
      "metadata": {
        "id": "LAP59RKk-3Qy"
      },
      "source": [
        "sns.distplot(df['Sales'])\n",
        "plt.title(\"Distribution of Sales\")\n",
        "sns.despine()"
      ],
      "execution_count": null,
      "outputs": []
    },
    {
      "cell_type": "markdown",
      "metadata": {
        "id": "OnDisMqx_C6w"
      },
      "source": [
        "The sales distribution in the dataset is very far from a normal distribution and it is also having a positive thin long tail. Most of the mass of the sales distribution is concentrated on the left side in the output above. It shows that the sales distribution exceeds the normal distribution."
      ]
    },
    {
      "cell_type": "markdown",
      "metadata": {
        "id": "7kqw148-ZNk7"
      },
      "source": [
        "# **Profit Distribution**\n",
        "\n"
      ]
    },
    {
      "cell_type": "code",
      "metadata": {
        "id": "As55KHr0ZYyy",
        "outputId": "f2c2eda5-9515-4eff-eb3e-2f47ae163c5f",
        "colab": {
          "base_uri": "https://localhost:8080/"
        }
      },
      "source": [
        "df['Profit'].describe()\n"
      ],
      "execution_count": 8,
      "outputs": [
        {
          "output_type": "execute_result",
          "data": {
            "text/plain": [
              "count    9994.000000\n",
              "mean       28.656896\n",
              "std       234.260108\n",
              "min     -6599.978000\n",
              "25%         1.728750\n",
              "50%         8.666500\n",
              "75%        29.364000\n",
              "max      8399.976000\n",
              "Name: Profit, dtype: float64"
            ]
          },
          "metadata": {
            "tags": []
          },
          "execution_count": 8
        }
      ]
    },
    {
      "cell_type": "code",
      "metadata": {
        "id": "3hLzKyvKZjEw",
        "outputId": "ada149fb-f0a9-405d-8c43-52de0df89aa8",
        "colab": {
          "base_uri": "https://localhost:8080/",
          "height": 295
        }
      },
      "source": [
        "plt.scatter(range(df.shape[0]), np.sort(df['Profit'].values))\n",
        "plt.xlabel('index')\n",
        "plt.ylabel('Profit')\n",
        "plt.title(\"Profit distribution\")\n",
        "sns.despine()"
      ],
      "execution_count": 9,
      "outputs": [
        {
          "output_type": "display_data",
          "data": {
            "image/png": "[encoded data removed]",
            "text/plain": [
              "<Figure size 432x288 with 1 Axes>"
            ]
          },
          "metadata": {
            "tags": [],
            "needs_background": "light"
          }
        }
      ]
    },
    {
      "cell_type": "code",
      "metadata": {
        "id": "HQHVQZ6SzZfn"
      },
      "source": [
        "sns.distplot(df['Profit'])\n",
        "plt.title(\"Distribution of Profit\")\n",
        "sns.despine()"
      ],
      "execution_count": null,
      "outputs": []
    },
    {
      "cell_type": "markdown",
      "metadata": {
        "id": "2YQwzfBw0FNX"
      },
      "source": [
        "The profit distribution of the data is resulting in both positive and negative tail. Although, the positive tail is longer than the negative tail. This shows that the profit distribution is skewed positively.\n",
        "\n",
        "So we have now got two places where the data has very low probability to occur. One on the left and another on the right"
      ]
    },
    {
      "cell_type": "markdown",
      "metadata": {
        "id": "iX0XORxS0o7n"
      },
      "source": [
        "# **Anomaly Detection of Sales**\n",
        "\n",
        "In Machine Learning, Isolation Forest algorithm is used to detect the outliers that can return the anomaly scores of each instance. This algorithm is based on a tree-based model. In this algorithm, the splits are made by first selecting a random feature and then selecting a random value from the splits between the minimum and maximum values of the selected feature. Now let’s go through this algorithm:\n"
      ]
    },
    {
      "cell_type": "code",
      "metadata": {
        "id": "_U3y7fdP0-Lv"
      },
      "source": [
        "isolation_forest = IsolationForest(n_estimators=100)\n",
        "isolation_forest.fit(df['Sales'].values.reshape(-1, 1))\n",
        "xx = np.linspace(df['Sales'].min(), df['Sales'].max(), len(df)).reshape(-1,1)\n",
        "anomaly_score = isolation_forest.decision_function(xx)\n",
        "outlier = isolation_forest.predict(xx)\n",
        "plt.figure(figsize=(10,4))\n",
        "plt.plot(xx, anomaly_score, label='anomaly score')\n",
        "plt.fill_between(xx.T[0], np.min(anomaly_score), np.max(anomaly_score), \n",
        "                 where=outlier==-1, color='r', \n",
        "                 alpha=.4, label='outlier region')\n",
        "plt.legend()\n",
        "plt.ylabel('anomaly score')\n",
        "plt.xlabel('Sales')\n",
        "plt.show();"
      ],
      "execution_count": null,
      "outputs": []
    },
    {
      "cell_type": "markdown",
      "metadata": {
        "id": "q_7_5QCG1IiA"
      },
      "source": [
        "According to the above output, it looks like the sales that exceed 1000 would be considered as an outlier.\n",
        "\n"
      ]
    },
    {
      "cell_type": "markdown",
      "metadata": {
        "id": "rRvn-s8c3cIe"
      },
      "source": [
        "# **Referneces**\n",
        "[[1] Anomaly Detection with Machine Learning](https://thecleverprogrammer.com/2020/07/29/anomaly-detection-with-machine-learning/)"
      ]
    }
  ]
}