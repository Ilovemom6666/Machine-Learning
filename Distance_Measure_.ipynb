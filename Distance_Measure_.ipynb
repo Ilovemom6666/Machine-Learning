{
  "nbformat": 4,
  "nbformat_minor": 0,
  "metadata": {
    "colab": {
      "name": "Distance Measure .ipynb",
      "provenance": [],
      "toc_visible": true,
      "authorship_tag": "ABX9TyNuKUxrnYYZ7AoByDw9rqRO",
      "include_colab_link": true
    },
    "kernelspec": {
      "name": "python3",
      "display_name": "Python 3"
    },
    "language_info": {
      "name": "python"
    }
  },
  "cells": [
    {
      "cell_type": "markdown",
      "metadata": {
        "id": "view-in-github",
        "colab_type": "text"
      },
      "source": [
        "<a href=\"https://colab.research.google.com/github/hussain0048/Machine-Learning/blob/master/Distance_Measure_.ipynb\" target=\"_parent\"><img src=\"https://colab.research.google.com/assets/colab-badge.svg\" alt=\"Open In Colab\"/></a>"
      ]
    },
    {
      "cell_type": "markdown",
      "source": [
        "#**Euclidean Distance**"
      ],
      "metadata": {
        "id": "yf4g4m_Im8F1"
      }
    },
    {
      "cell_type": "markdown",
      "source": [
        "## **Using the SciPy library**"
      ],
      "metadata": {
        "id": "WCaSZlQymsn5"
      }
    },
    {
      "cell_type": "code",
      "execution_count": null,
      "metadata": {
        "id": "h3_WjqkGmiTy"
      },
      "outputs": [],
      "source": [
        "from scipy.spatial import distance\n",
        "A = (5, 3)\n",
        "B = (2, 4)\n",
        "d = distance.euclidean(A, B)\n",
        "print('Euclidean Distance:',d)\n"
      ]
    },
    {
      "cell_type": "markdown",
      "source": [
        "## **Using NumPy Library**"
      ],
      "metadata": {
        "id": "0-EPqZKNnJK6"
      }
    },
    {
      "cell_type": "code",
      "source": [
        "import numpy as np\n",
        "A = np.array((5, 3))\n",
        "B = np.array((2, 4))\n",
        "d = np.linalg.norm(A-B)\n",
        "print(\"Euclidean Distance: \",d)"
      ],
      "metadata": {
        "id": "sxFTX13JnPwC"
      },
      "execution_count": null,
      "outputs": []
    },
    {
      "cell_type": "markdown",
      "source": [
        "# **Manhattan Distance**"
      ],
      "metadata": {
        "id": "WLxylSminTcE"
      }
    },
    {
      "cell_type": "markdown",
      "source": [
        "**Manhattan Distance using Python**\n"
      ],
      "metadata": {
        "id": "TRsCTYYZncFO"
      }
    },
    {
      "cell_type": "code",
      "source": [
        "from scipy.spatial import distance\n",
        "A = (5, 3)\n",
        "B = (2, 4)\n",
        "d = distance.cityblock(A, B)\n",
        "print('Manhattan Distance:',d)"
      ],
      "metadata": {
        "id": "OjZy5ym6neYk"
      },
      "execution_count": null,
      "outputs": []
    },
    {
      "cell_type": "markdown",
      "source": [
        "#**Cosine Distance**"
      ],
      "metadata": {
        "id": "mn0JXkoOnma0"
      }
    },
    {
      "cell_type": "code",
      "source": [
        "from scipy.spatial import distance\n",
        "A = (5, 3)\n",
        "B = (2, 4)\n",
        "d = 1 - distance.cosine(A, B)\n",
        "print('Cosine Distance:',d)\n"
      ],
      "metadata": {
        "colab": {
          "base_uri": "https://localhost:8080/"
        },
        "id": "EyiWTN0enyYR",
        "outputId": "bc656dc3-72fb-42c1-f449-b2f8addcaf96"
      },
      "execution_count": 5,
      "outputs": [
        {
          "output_type": "stream",
          "name": "stdout",
          "text": [
            "Cosine Distance: 0.8436614877321075\n"
          ]
        }
      ]
    },
    {
      "cell_type": "markdown",
      "source": [
        "# **References**"
      ],
      "metadata": {
        "id": "ts_op__5n1jZ"
      }
    },
    {
      "cell_type": "markdown",
      "source": [
        "[Measure Distance between data points in Machine Learning](https://deepblade.com/measure-distance-between-data-points-in-machine-learning/)"
      ],
      "metadata": {
        "id": "n6KuV9W1o7rw"
      }
    }
  ]
}