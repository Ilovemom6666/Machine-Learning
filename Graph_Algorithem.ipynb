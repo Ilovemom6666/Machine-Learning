{
  "nbformat": 4,
  "nbformat_minor": 0,
  "metadata": {
    "colab": {
      "name": "Graph Algorithem.ipynb",
      "provenance": [],
      "authorship_tag": "ABX9TyPu9dXH2sTq95Qyj9tFhaX7",
      "include_colab_link": true
    },
    "kernelspec": {
      "name": "python3",
      "display_name": "Python 3"
    }
  },
  "cells": [
    {
      "cell_type": "markdown",
      "metadata": {
        "id": "view-in-github",
        "colab_type": "text"
      },
      "source": [
        "<a href=\"https://colab.research.google.com/github/hussain0048/Machine-Learning/blob/master/Graph_Algorithem.ipynb\" target=\"_parent\"><img src=\"https://colab.research.google.com/assets/colab-badge.svg\" alt=\"Open In Colab\"/></a>"
      ]
    },
    {
      "cell_type": "code",
      "metadata": {
        "id": "FCI0SzAvfmef"
      },
      "source": [
        ""
      ],
      "execution_count": null,
      "outputs": []
    },
    {
      "cell_type": "markdown",
      "metadata": {
        "id": "7hJVdJYQgMRu"
      },
      "source": [
        "# **References**\n",
        "\n",
        "[Graph Algorithms with Python](https://thecleverprogrammer.com/2020/10/09/graph-algorithms-with-python/?fbclid=IwAR15GrrQsBy6Hu3kr2gQZCWu38SZcQKu9rZELwIFOKgEIczeErD0cFmi1mA)"
      ]
    },
    {
      "cell_type": "markdown",
      "metadata": {
        "id": "K2FbC68GgmMO"
      },
      "source": [
        "#**1-What are Graph Algorithms?**[1]\n",
        "As a data scientist, you should be well aware to find relationships among people by using the network they create within each other. \n",
        "As machine learning practitioners, we have become quite comfortable with Pandas or SQL or any relational database. We are used to seeing our users in rows with their attributes in columns. But does the real world behave this way?\n",
        "\n",
        "In a connected world, users cannot be seen as independent entities. They have certain relationships with each other and sometimes we would like to include such relationships when building our machine learning models.\n",
        "\n",
        "Now, while in a relational database we cannot use such relationships between different users, in a graph database it is quite trivial to do so. In this article, I’m going to talk about some of the most important graphics algorithms you should know about and how to implement them using Python.\n"
      ]
    },
    {
      "cell_type": "markdown",
      "metadata": {
        "id": "01cHeHN4hn-c"
      },
      "source": [
        "#**2-Graph Algorithms: Connected Components**\n",
        "\n",
        "![](https://drive.google.com/uc?export=view&id=1Lt9dYrnxBUbJrmmHjEmrGT8YFlRvC4cD)"
      ]
    },
    {
      "cell_type": "markdown",
      "metadata": {
        "id": "UxtUYBabiw7P"
      },
      "source": [
        "You can think of connected components in very simple terms as a kind of hard clustering algorithm that finds clusters in connected data\n",
        "\n",
        "As a concrete example: let’s say you have data on the roads connecting two cities in the world. And you have to find out all the continents of the world and what city they contain.\n",
        "\n",
        "As a concrete example: let’s say you have data on the roads connecting two cities in the world. And you have to find out all the continents of the world and what city they contain.\n",
        "\n",
        "The algorithm of connected components that we use to do this is based on a special case of BFS / DFS. I won’t talk much about how it works here, but we’ll see how to get the code to work with Networkx.\n",
        "\n"
      ]
    },
    {
      "cell_type": "markdown",
      "metadata": {
        "id": "LKyF3St6jO5F"
      },
      "source": [
        "I will be using the Networkx module in Python to build and analyze our graphical algorithms. Let’s start with an example chart that we use for our purpose. Contains cities and distance information between them.\n",
        "\n",
        "I’ll start by creating a list of edges with the distances that I’ll add as the edge weight:"
      ]
    },
    {
      "cell_type": "code",
      "metadata": {
        "id": "DoNw7-y9jUoR"
      },
      "source": [
        "edgelist = [['Mannheim', 'Frankfurt', 85], ['Mannheim', 'Karlsruhe', 80], \n",
        "['Erfurt', 'Wurzburg', 186], ['Munchen', 'Numberg', 167], ['Munchen', 'Augsburg', 84], \n",
        "['Munchen', 'Kassel', 502], ['Numberg', 'Stuttgart', 183], ['Numberg', 'Wurzburg', 103], \n",
        "['Numberg', 'Munchen', 167], ['Stuttgart', 'Numberg', 183], ['Augsburg', 'Munchen', 84], \n",
        "['Augsburg', 'Karlsruhe', 250], ['Kassel', 'Munchen', 502], ['Kassel', 'Frankfurt', 173], \n",
        "['Frankfurt', 'Mannheim', 85], ['Frankfurt', 'Wurzburg', 217], ['Frankfurt', 'Kassel', 173], \n",
        "['Wurzburg', 'Numberg', 103], ['Wurzburg', 'Erfurt', 186], ['Wurzburg', 'Frankfurt', 217], \n",
        "['Karlsruhe', 'Mannheim', 80], ['Karlsruhe', 'Augsburg', 250],[\"Mumbai\", \"Delhi\",400],\n",
        "[\"Delhi\", \"Kolkata\",500],[\"Kolkata\", \"Bangalore\",600],[\"TX\", \"NY\",1200],[\"ALB\", \"NY\",800]]"
      ],
      "execution_count": 2,
      "outputs": []
    },
    {
      "cell_type": "code",
      "metadata": {
        "id": "6U5z_-68jfuZ"
      },
      "source": [
        "import networkx as nx\n",
        "g = nx.Graph()\n",
        "for edge in edgelist:\n",
        "    g.add_edge(edge[0],edge[1], weight = edge[2])"
      ],
      "execution_count": 4,
      "outputs": []
    },
    {
      "cell_type": "markdown",
      "metadata": {
        "id": "r8_Z4acKkJ8b"
      },
      "source": [
        "We now want to discover the different continents and their cities from this graphic. We can now do this using the algorithm of connected components like:\n",
        "\n"
      ]
    },
    {
      "cell_type": "code",
      "metadata": {
        "id": "L-1ojIuekPNp",
        "outputId": "fca146a5-e9a3-4a61-e6dc-3fc9898439c0",
        "colab": {
          "base_uri": "https://localhost:8080/",
          "height": 88
        }
      },
      "source": [
        "for i, x in enumerate(nx.connected_components(g)):\n",
        "    print(\"cc\"+str(i)+\":\",x)"
      ],
      "execution_count": 5,
      "outputs": [
        {
          "output_type": "stream",
          "text": [
            "cc0: {'Munchen', 'Wurzburg', 'Frankfurt', 'Mannheim', 'Erfurt', 'Augsburg', 'Numberg', 'Kassel', 'Karlsruhe', 'Stuttgart'}\n",
            "cc1: {'Kolkata', 'Delhi', 'Mumbai', 'Bangalore'}\n",
            "cc2: {'TX', 'NY', 'ALB'}\n"
          ],
          "name": "stdout"
        }
      ]
    },
    {
      "cell_type": "markdown",
      "metadata": {
        "id": "aIIKL6V_kjNJ"
      },
      "source": [
        "So we can find distinct network components in our data by using edges and vertices. This graph algorithm can be used on different datasets to satisfy any use case as above"
      ]
    },
    {
      "cell_type": "markdown",
      "metadata": {
        "id": "xDHtFiimkuev"
      },
      "source": [
        "# **3-Graph Algorithms: Shortest Path**\n"
      ]
    }
  ]
}