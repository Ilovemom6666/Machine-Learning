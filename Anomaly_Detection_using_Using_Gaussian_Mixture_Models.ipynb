{
  "nbformat": 4,
  "nbformat_minor": 0,
  "metadata": {
    "colab": {
      "name": "Anomaly Detection using Using Gaussian Mixture Models.ipynb",
      "provenance": [],
      "toc_visible": true,
      "authorship_tag": "ABX9TyNX728rInjjG7OnOJLHXmfh",
      "include_colab_link": true
    },
    "kernelspec": {
      "name": "python3",
      "display_name": "Python 3"
    },
    "language_info": {
      "name": "python"
    }
  },
  "cells": [
    {
      "cell_type": "markdown",
      "metadata": {
        "id": "view-in-github",
        "colab_type": "text"
      },
      "source": [
        "<a href=\"https://colab.research.google.com/github/hussain0048/Machine-Learning/blob/master/Anomaly_Detection_using_Using_Gaussian_Mixture_Models.ipynb\" target=\"_parent\"><img src=\"https://colab.research.google.com/assets/colab-badge.svg\" alt=\"Open In Colab\"/></a>"
      ]
    },
    {
      "cell_type": "markdown",
      "source": [
        "# **Data Loading**"
      ],
      "metadata": {
        "id": "ozLwZwg3QgOG"
      }
    },
    {
      "cell_type": "code",
      "execution_count": null,
      "metadata": {
        "id": "UgIn8MqKOwhu"
      },
      "outputs": [],
      "source": [
        "from google.colab import drive\n",
        "drive.mount('/content/drive')"
      ]
    },
    {
      "cell_type": "markdown",
      "source": [
        "#**Import libaray**"
      ],
      "metadata": {
        "id": "5Lusrw9PQ3g9"
      }
    },
    {
      "cell_type": "code",
      "source": [
        "import numpy as np\n",
        "import pandas as pd\n",
        "import matplotlib.pyplot as plt\n",
        "import seaborn as sb\n",
        "from scipy.io import loadmat\n",
        "%matplotlib inline"
      ],
      "metadata": {
        "id": "Rf85GGg1RAdU"
      },
      "execution_count": null,
      "outputs": []
    },
    {
      "cell_type": "markdown",
      "source": [
        "# **Dataset**"
      ],
      "metadata": {
        "id": "g1F04UK1REQG"
      }
    },
    {
      "cell_type": "code",
      "source": [
        "# Number of samples per component\n",
        "n_samples = 500"
      ],
      "metadata": {
        "id": "9FTMOy8vROPo"
      },
      "execution_count": null,
      "outputs": []
    },
    {
      "cell_type": "code",
      "source": [
        "# Generate random sample, two components\n",
        "import numpy as np\n",
        "# Generate random sample, two components\n",
        "np.random.seed(0)\n",
        "C = np.array([[0., -0.1], [1.7, .4]])\n",
        "C2 = np.array([[1., -0.1], [2.7, .2]])\n",
        "#X = np.r_[np.dot(np.random.randn(n_samples, 2), C)]\n",
        "          #.7 * np.random.randn(n_samples, 2) + np.array([-6, 3])]\n",
        "X = np.r_[np.dot(np.random.randn(n_samples, 2), C),np.dot(np.random.randn(n_samples, 2), C2)]"
      ],
      "metadata": {
        "id": "NIdZm0CB6nuc"
      },
      "execution_count": 4,
      "outputs": []
    },
    {
      "cell_type": "markdown",
      "source": [
        "# **Data Ploting**"
      ],
      "metadata": {
        "id": "k882mXlfRekE"
      }
    },
    {
      "cell_type": "code",
      "source": [
        "import matplotlib.pyplot as plt\n",
        "%matplotlib inline"
      ],
      "metadata": {
        "id": "iMvqCFDiRj0O"
      },
      "execution_count": 7,
      "outputs": []
    },
    {
      "cell_type": "code",
      "source": [
        "X[-5:] = [[4,-1],[4.1,-1.1],[3.9,-1],[4.0,-1.2],[4.0,-1.3]]"
      ],
      "metadata": {
        "id": "ajQb_SjA7lyM"
      },
      "execution_count": 8,
      "outputs": []
    },
    {
      "cell_type": "code",
      "source": [
        "plt.scatter(X[:,0], X[:,1],s=5)"
      ],
      "metadata": {
        "id": "Bnw4gYel7r8w"
      },
      "execution_count": null,
      "outputs": []
    },
    {
      "cell_type": "markdown",
      "source": [
        "# **Model development**"
      ],
      "metadata": {
        "id": "JBcKxRPoRz1U"
      }
    },
    {
      "cell_type": "code",
      "source": [
        "from sklearn.mixture import GaussianMixture"
      ],
      "metadata": {
        "id": "Rmmy_9WTSDvG"
      },
      "execution_count": 11,
      "outputs": []
    },
    {
      "cell_type": "code",
      "source": [
        "gmm = GaussianMixture(n_components=3)\n"
      ],
      "metadata": {
        "id": "7L8Duj5GSH42"
      },
      "execution_count": 12,
      "outputs": []
    },
    {
      "cell_type": "code",
      "source": [
        "gmm.fit(X)"
      ],
      "metadata": {
        "id": "Zx3ahZXV9L9M",
        "outputId": "8b5237a5-fb9e-4eb0-cb5e-da87ae822929",
        "colab": {
          "base_uri": "https://localhost:8080/"
        }
      },
      "execution_count": 13,
      "outputs": [
        {
          "output_type": "execute_result",
          "data": {
            "text/plain": [
              "GaussianMixture(n_components=3)"
            ]
          },
          "metadata": {},
          "execution_count": 13
        }
      ]
    },
    {
      "cell_type": "code",
      "source": [
        "pred = gmm.predict(X)"
      ],
      "metadata": {
        "id": "VaRONdmx9Qn6"
      },
      "execution_count": 14,
      "outputs": []
    },
    {
      "cell_type": "code",
      "source": [
        "pred[:50]"
      ],
      "metadata": {
        "id": "9xpIlZmA9YIz",
        "outputId": "e430ddae-f5a8-4a57-8c39-230d812ad832",
        "colab": {
          "base_uri": "https://localhost:8080/"
        }
      },
      "execution_count": 15,
      "outputs": [
        {
          "output_type": "execute_result",
          "data": {
            "text/plain": [
              "array([1, 2, 2, 2, 2, 2, 2, 2, 2, 2, 2, 2, 2, 2, 2, 2, 2, 2, 2, 2, 2, 2,\n",
              "       2, 2, 1, 2, 2, 2, 2, 2, 2, 2, 2, 2, 2, 2, 2, 2, 2, 2, 2, 2, 2, 2,\n",
              "       2, 2, 2, 2, 2, 2])"
            ]
          },
          "metadata": {},
          "execution_count": 15
        }
      ]
    },
    {
      "cell_type": "code",
      "source": [
        "plt.scatter(X[:,0], X[:,1],s=10,c=pred)"
      ],
      "metadata": {
        "id": "_aStRaq29oSc"
      },
      "execution_count": null,
      "outputs": []
    },
    {
      "cell_type": "markdown",
      "source": [
        "# **References**"
      ],
      "metadata": {
        "id": "husMyO00-Jxp"
      }
    },
    {
      "cell_type": "markdown",
      "source": [
        "[1-Anomaly Detection.ipynb](https://github.com/edyoda/data-science-complete-tutorial/blob/master/13.%20Anomaly%20Detection.ipynb)"
      ],
      "metadata": {
        "id": "PD3T4GsK-PB1"
      }
    }
  ]
}