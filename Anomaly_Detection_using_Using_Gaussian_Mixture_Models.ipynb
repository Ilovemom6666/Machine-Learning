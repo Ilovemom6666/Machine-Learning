{
  "nbformat": 4,
  "nbformat_minor": 0,
  "metadata": {
    "colab": {
      "name": "Anomaly Detection using Using Gaussian Mixture Models.ipynb",
      "provenance": [],
      "toc_visible": true,
      "authorship_tag": "ABX9TyMIjGMv6kufLErhDbDob5Yx",
      "include_colab_link": true
    },
    "kernelspec": {
      "name": "python3",
      "display_name": "Python 3"
    },
    "language_info": {
      "name": "python"
    }
  },
  "cells": [
    {
      "cell_type": "markdown",
      "metadata": {
        "id": "view-in-github",
        "colab_type": "text"
      },
      "source": [
        "<a href=\"https://colab.research.google.com/github/hussain0048/Machine-Learning/blob/master/Anomaly_Detection_using_Using_Gaussian_Mixture_Models.ipynb\" target=\"_parent\"><img src=\"https://colab.research.google.com/assets/colab-badge.svg\" alt=\"Open In Colab\"/></a>"
      ]
    },
    {
      "cell_type": "markdown",
      "source": [
        "# **Data Loading**"
      ],
      "metadata": {
        "id": "ozLwZwg3QgOG"
      }
    },
    {
      "cell_type": "code",
      "execution_count": null,
      "metadata": {
        "id": "UgIn8MqKOwhu"
      },
      "outputs": [],
      "source": [
        "from google.colab import drive\n",
        "drive.mount('/content/drive')"
      ]
    },
    {
      "cell_type": "markdown",
      "source": [
        "#**Import libaray**"
      ],
      "metadata": {
        "id": "5Lusrw9PQ3g9"
      }
    },
    {
      "cell_type": "code",
      "source": [
        "import numpy as np\n",
        "import pandas as pd\n",
        "import matplotlib.pyplot as plt\n",
        "import seaborn as sb\n",
        "from scipy.io import loadmat\n",
        "%matplotlib inline"
      ],
      "metadata": {
        "id": "Rf85GGg1RAdU"
      },
      "execution_count": null,
      "outputs": []
    },
    {
      "cell_type": "markdown",
      "source": [
        "# **Data Reading**"
      ],
      "metadata": {
        "id": "g1F04UK1REQG"
      }
    },
    {
      "cell_type": "code",
      "source": [
        "data = loadmat('/content/drive/MyDrive/Datasets/Andrew ML/ex8data1.mat')\n",
        "X = data['X']\n",
        "X.shape"
      ],
      "metadata": {
        "colab": {
          "base_uri": "https://localhost:8080/"
        },
        "id": "9FTMOy8vROPo",
        "outputId": "46ff74f2-bc99-43fa-d754-f32394aa5546"
      },
      "execution_count": null,
      "outputs": [
        {
          "output_type": "execute_result",
          "data": {
            "text/plain": [
              "(307, 2)"
            ]
          },
          "metadata": {},
          "execution_count": 3
        }
      ]
    },
    {
      "cell_type": "markdown",
      "source": [
        "# **Data Ploting**"
      ],
      "metadata": {
        "id": "k882mXlfRekE"
      }
    },
    {
      "cell_type": "code",
      "source": [
        "fig, ax = plt.subplots(figsize=(12,8))\n",
        "ax.scatter(X[:,0], X[:,1])"
      ],
      "metadata": {
        "id": "iMvqCFDiRj0O"
      },
      "execution_count": null,
      "outputs": []
    },
    {
      "cell_type": "markdown",
      "source": [
        "# **Gaussian distribution for each feature in the data**"
      ],
      "metadata": {
        "id": "JBcKxRPoRz1U"
      }
    },
    {
      "cell_type": "code",
      "source": [
        "def estimate_gaussian(X):\n",
        "    mu = X.mean(axis=0)\n",
        "    sigma = X.var(axis=0)\n",
        "    \n",
        "    return mu, sigma"
      ],
      "metadata": {
        "id": "Rmmy_9WTSDvG"
      },
      "execution_count": null,
      "outputs": []
    },
    {
      "cell_type": "code",
      "source": [
        "mu, sigma = estimate_gaussian(X)\n",
        "mu, sigma"
      ],
      "metadata": {
        "id": "7L8Duj5GSH42",
        "colab": {
          "base_uri": "https://localhost:8080/"
        },
        "outputId": "9170b3bd-e6cc-4de2-bdbd-2b8d6c122906"
      },
      "execution_count": null,
      "outputs": [
        {
          "output_type": "execute_result",
          "data": {
            "text/plain": [
              "(array([14.11222578, 14.99771051]), array([1.83263141, 1.70974533]))"
            ]
          },
          "metadata": {},
          "execution_count": 8
        }
      ]
    },
    {
      "cell_type": "markdown",
      "source": [
        "## **Probability threshold**"
      ],
      "metadata": {
        "id": "hsSgBPUWStFr"
      }
    },
    {
      "cell_type": "code",
      "source": [
        "Xval = data['Xval']\n",
        "yval = data['yval']\n",
        "\n",
        "Xval.shape, yval.shape"
      ],
      "metadata": {
        "colab": {
          "base_uri": "https://localhost:8080/"
        },
        "id": "pSqUXlxHS_IG",
        "outputId": "d3b644cf-96a9-4218-881c-f7037bde0deb"
      },
      "execution_count": null,
      "outputs": [
        {
          "output_type": "execute_result",
          "data": {
            "text/plain": [
              "((307, 2), (307, 1))"
            ]
          },
          "metadata": {},
          "execution_count": 9
        }
      ]
    },
    {
      "cell_type": "code",
      "source": [
        "from scipy import stats\n",
        "dist = stats.norm(mu[0], sigma[0])\n",
        "dist.pdf(X[:,0])[0:50]"
      ],
      "metadata": {
        "id": "fBc3Dcj6TN-j"
      },
      "execution_count": null,
      "outputs": []
    },
    {
      "cell_type": "code",
      "source": [
        "p = np.zeros((X.shape[0], X.shape[1]))\n",
        "p[:,0] = stats.norm(mu[0], sigma[0]).pdf(X[:,0])\n",
        "p[:,1] = stats.norm(mu[1], sigma[1]).pdf(X[:,1])\n",
        "\n",
        "p.shape"
      ],
      "metadata": {
        "colab": {
          "base_uri": "https://localhost:8080/"
        },
        "id": "6Tb4gaaSiRkD",
        "outputId": "e593735c-f58e-49ad-b5d5-2570b47c0163"
      },
      "execution_count": null,
      "outputs": [
        {
          "output_type": "execute_result",
          "data": {
            "text/plain": [
              "(307, 2)"
            ]
          },
          "metadata": {},
          "execution_count": 11
        }
      ]
    },
    {
      "cell_type": "code",
      "source": [
        "pval = np.zeros((Xval.shape[0], Xval.shape[1]))\n",
        "pval[:,0] = stats.norm(mu[0], sigma[0]).pdf(Xval[:,0])\n",
        "pval[:,1] = stats.norm(mu[1], sigma[1]).pdf(Xval[:,1])"
      ],
      "metadata": {
        "id": "pO0LvyDhij1Q"
      },
      "execution_count": null,
      "outputs": []
    },
    {
      "cell_type": "code",
      "source": [
        "def select_threshold(pval, yval):\n",
        "    best_epsilon = 0\n",
        "    best_f1 = 0\n",
        "    f1 = 0\n",
        "    \n",
        "    step = (pval.max() - pval.min()) / 1000\n",
        "    \n",
        "    for epsilon in np.arange(pval.min(), pval.max(), step):\n",
        "        preds = pval < epsilon\n",
        "        \n",
        "        tp = np.sum(np.logical_and(preds == 1, yval == 1)).astype(float)\n",
        "        fp = np.sum(np.logical_and(preds == 1, yval == 0)).astype(float)\n",
        "        fn = np.sum(np.logical_and(preds == 0, yval == 1)).astype(float)\n",
        "        \n",
        "        precision = tp / (tp + fp)\n",
        "        recall = tp / (tp + fn)\n",
        "        f1 = (2 * precision * recall) / (precision + recall)\n",
        "        \n",
        "        if f1 > best_f1:\n",
        "            best_f1 = f1\n",
        "            best_epsilon = epsilon\n",
        "    \n",
        "    return best_epsilon, best_f1\n",
        "\n",
        "epsilon, f1 = select_threshold(pval, yval)\n",
        "epsilon, f1"
      ],
      "metadata": {
        "colab": {
          "base_uri": "https://localhost:8080/"
        },
        "id": "Ep0nqCX3ixFH",
        "outputId": "3c33285d-2c4e-4910-c22f-4aee0ed1aacf"
      },
      "execution_count": null,
      "outputs": [
        {
          "output_type": "stream",
          "name": "stderr",
          "text": [
            "/usr/local/lib/python3.7/dist-packages/ipykernel_launcher.py:15: RuntimeWarning: invalid value encountered in double_scalars\n",
            "  from ipykernel import kernelapp as app\n"
          ]
        },
        {
          "output_type": "execute_result",
          "data": {
            "text/plain": [
              "(0.009566706005956842, 0.7142857142857143)"
            ]
          },
          "metadata": {},
          "execution_count": 13
        }
      ]
    },
    {
      "cell_type": "code",
      "source": [
        "# indexes of the values considered to be outliers\n",
        "outliers = np.where(p < epsilon)\n",
        "\n",
        "fig, ax = plt.subplots(figsize=(12,8))\n",
        "ax.scatter(X[:,0], X[:,1])\n",
        "ax.scatter(X[outliers[0],0], X[outliers[0],1], s=50, color='r', marker='o')"
      ],
      "metadata": {
        "colab": {
          "base_uri": "https://localhost:8080/",
          "height": 500
        },
        "id": "OI4NRMe7i91N",
        "outputId": "e5e49d38-7985-4487-d50e-b34faf8847c1"
      },
      "execution_count": null,
      "outputs": [
        {
          "output_type": "execute_result",
          "data": {
            "text/plain": [
              "<matplotlib.collections.PathCollection at 0x7f0acc051850>"
            ]
          },
          "metadata": {},
          "execution_count": 14
        },
        {
          "output_type": "display_data",
          "data": {
            "text/plain": [
              "<Figure size 864x576 with 1 Axes>"
            ],
            "image/png": "[encoded data removed]"
          },
          "metadata": {
            "needs_background": "light"
          }
        }
      ]
    }
  ]
}