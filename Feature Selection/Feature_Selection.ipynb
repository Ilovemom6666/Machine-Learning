{
  "nbformat": 4,
  "nbformat_minor": 0,
  "metadata": {
    "colab": {
      "name": "Feature Selection.ipynb",
      "provenance": [],
      "collapsed_sections": [
        "69-GFSEUYpQA",
        "Y7r4GCZ_r578",
        "k19UEMIJ8etI",
        "wpIOZyY5_pVZ",
        "rS30LScvB-qE",
        "ZLt7RDUdCjqu",
        "dEs1mbRCC9Uw",
        "R3H2avUbDO1O",
        "mnSXR8j-FrPb"
      ],
      "toc_visible": true
    },
    "kernelspec": {
      "name": "python3",
      "display_name": "Python 3"
    },
    "language_info": {
      "name": "python"
    },
    "accelerator": "GPU"
  },
  "cells": [
    {
      "cell_type": "markdown",
      "metadata": {
        "id": "-dEH-aOwYdNx"
      },
      "source": [
        "# **Introduction**\n",
        "\n",
        "Feature Selection is the process of reducing the number of input variables when developing a predictive model. It is desirable to reduce the number of input variables to both reduce the computational cost of modeling and, in some cases, to improve the performance of the model.\n",
        "\n",
        "- Dropping Constant Features- Variance Threshold\n",
        "- Feature selection with correlation\n",
        "- Features selection Using Information Gain For Classification\n",
        "- Features selection Using Information Gain For Regression\n",
        "- Feature Selection Using Chi2 Statistical Analysis "
      ]
    },
    {
      "cell_type": "markdown",
      "metadata": {
        "id": "69-GFSEUYpQA"
      },
      "source": [
        "# **Data Loading**"
      ]
    },
    {
      "cell_type": "markdown",
      "metadata": {
        "id": "ucwJyax-cZmZ"
      },
      "source": [
        "**Load data from google drive** "
      ]
    },
    {
      "cell_type": "code",
      "metadata": {
        "colab": {
          "base_uri": "https://localhost:8080/"
        },
        "id": "fYNNsGgxmxyQ",
        "outputId": "930b9564-7dd4-4a64-ede7-cb8e1d2d968c"
      },
      "source": [
        "from google.colab import drive\n",
        "drive.mount('/content/drive')"
      ],
      "execution_count": 1,
      "outputs": [
        {
          "output_type": "stream",
          "text": [
            "Mounted at /content/drive\n"
          ],
          "name": "stdout"
        }
      ]
    },
    {
      "cell_type": "code",
      "metadata": {
        "id": "bkoAdyxInLR4"
      },
      "source": [
        "import pandas as pd\n",
        "import numpy as np\n",
        "data = pd.read_csv(\"/content/drive/MyDrive/Datasets/Recommended System/Placement_Data_Full_Class.csv\")"
      ],
      "execution_count": 2,
      "outputs": []
    },
    {
      "cell_type": "code",
      "metadata": {
        "id": "OE_f4-bToHWA",
        "colab": {
          "base_uri": "https://localhost:8080/",
          "height": 241
        },
        "outputId": "645fb660-1d00-47c2-a601-47a1f67cfa19"
      },
      "source": [
        "data.head()"
      ],
      "execution_count": 3,
      "outputs": [
        {
          "output_type": "execute_result",
          "data": {
            "text/html": [
              "<div>\n",
              "<style scoped>\n",
              "    .dataframe tbody tr th:only-of-type {\n",
              "        vertical-align: middle;\n",
              "    }\n",
              "\n",
              "    .dataframe tbody tr th {\n",
              "        vertical-align: top;\n",
              "    }\n",
              "\n",
              "    .dataframe thead th {\n",
              "        text-align: right;\n",
              "    }\n",
              "</style>\n",
              "<table border=\"1\" class=\"dataframe\">\n",
              "  <thead>\n",
              "    <tr style=\"text-align: right;\">\n",
              "      <th></th>\n",
              "      <th>sl_no</th>\n",
              "      <th>gender</th>\n",
              "      <th>ssc_p</th>\n",
              "      <th>ssc_b</th>\n",
              "      <th>hsc_p</th>\n",
              "      <th>hsc_b</th>\n",
              "      <th>hsc_s</th>\n",
              "      <th>degree_p</th>\n",
              "      <th>degree_t</th>\n",
              "      <th>workex</th>\n",
              "      <th>etest_p</th>\n",
              "      <th>specialisation</th>\n",
              "      <th>mba_p</th>\n",
              "      <th>status</th>\n",
              "      <th>salary</th>\n",
              "    </tr>\n",
              "  </thead>\n",
              "  <tbody>\n",
              "    <tr>\n",
              "      <th>0</th>\n",
              "      <td>1</td>\n",
              "      <td>M</td>\n",
              "      <td>67.00</td>\n",
              "      <td>Others</td>\n",
              "      <td>91.00</td>\n",
              "      <td>Others</td>\n",
              "      <td>Commerce</td>\n",
              "      <td>58.00</td>\n",
              "      <td>Sci&amp;Tech</td>\n",
              "      <td>No</td>\n",
              "      <td>55.0</td>\n",
              "      <td>Mkt&amp;HR</td>\n",
              "      <td>58.80</td>\n",
              "      <td>Placed</td>\n",
              "      <td>270000.0</td>\n",
              "    </tr>\n",
              "    <tr>\n",
              "      <th>1</th>\n",
              "      <td>2</td>\n",
              "      <td>M</td>\n",
              "      <td>79.33</td>\n",
              "      <td>Central</td>\n",
              "      <td>78.33</td>\n",
              "      <td>Others</td>\n",
              "      <td>Science</td>\n",
              "      <td>77.48</td>\n",
              "      <td>Sci&amp;Tech</td>\n",
              "      <td>Yes</td>\n",
              "      <td>86.5</td>\n",
              "      <td>Mkt&amp;Fin</td>\n",
              "      <td>66.28</td>\n",
              "      <td>Placed</td>\n",
              "      <td>200000.0</td>\n",
              "    </tr>\n",
              "    <tr>\n",
              "      <th>2</th>\n",
              "      <td>3</td>\n",
              "      <td>M</td>\n",
              "      <td>65.00</td>\n",
              "      <td>Central</td>\n",
              "      <td>68.00</td>\n",
              "      <td>Central</td>\n",
              "      <td>Arts</td>\n",
              "      <td>64.00</td>\n",
              "      <td>Comm&amp;Mgmt</td>\n",
              "      <td>No</td>\n",
              "      <td>75.0</td>\n",
              "      <td>Mkt&amp;Fin</td>\n",
              "      <td>57.80</td>\n",
              "      <td>Placed</td>\n",
              "      <td>250000.0</td>\n",
              "    </tr>\n",
              "    <tr>\n",
              "      <th>3</th>\n",
              "      <td>4</td>\n",
              "      <td>M</td>\n",
              "      <td>56.00</td>\n",
              "      <td>Central</td>\n",
              "      <td>52.00</td>\n",
              "      <td>Central</td>\n",
              "      <td>Science</td>\n",
              "      <td>52.00</td>\n",
              "      <td>Sci&amp;Tech</td>\n",
              "      <td>No</td>\n",
              "      <td>66.0</td>\n",
              "      <td>Mkt&amp;HR</td>\n",
              "      <td>59.43</td>\n",
              "      <td>Not Placed</td>\n",
              "      <td>NaN</td>\n",
              "    </tr>\n",
              "    <tr>\n",
              "      <th>4</th>\n",
              "      <td>5</td>\n",
              "      <td>M</td>\n",
              "      <td>85.80</td>\n",
              "      <td>Central</td>\n",
              "      <td>73.60</td>\n",
              "      <td>Central</td>\n",
              "      <td>Commerce</td>\n",
              "      <td>73.30</td>\n",
              "      <td>Comm&amp;Mgmt</td>\n",
              "      <td>No</td>\n",
              "      <td>96.8</td>\n",
              "      <td>Mkt&amp;Fin</td>\n",
              "      <td>55.50</td>\n",
              "      <td>Placed</td>\n",
              "      <td>425000.0</td>\n",
              "    </tr>\n",
              "  </tbody>\n",
              "</table>\n",
              "</div>"
            ],
            "text/plain": [
              "   sl_no gender  ssc_p    ssc_b  ...  specialisation  mba_p      status    salary\n",
              "0      1      M  67.00   Others  ...          Mkt&HR  58.80      Placed  270000.0\n",
              "1      2      M  79.33  Central  ...         Mkt&Fin  66.28      Placed  200000.0\n",
              "2      3      M  65.00  Central  ...         Mkt&Fin  57.80      Placed  250000.0\n",
              "3      4      M  56.00  Central  ...          Mkt&HR  59.43  Not Placed       NaN\n",
              "4      5      M  85.80  Central  ...         Mkt&Fin  55.50      Placed  425000.0\n",
              "\n",
              "[5 rows x 15 columns]"
            ]
          },
          "metadata": {
            "tags": []
          },
          "execution_count": 3
        }
      ]
    },
    {
      "cell_type": "code",
      "metadata": {
        "id": "H7bwIxq5rc9x",
        "colab": {
          "base_uri": "https://localhost:8080/"
        },
        "outputId": "70a17b18-303b-41fe-e334-cf28f92d1c5f"
      },
      "source": [
        "data.size"
      ],
      "execution_count": null,
      "outputs": [
        {
          "output_type": "execute_result",
          "data": {
            "text/plain": [
              "3225"
            ]
          },
          "metadata": {
            "tags": []
          },
          "execution_count": 5
        }
      ]
    },
    {
      "cell_type": "markdown",
      "metadata": {
        "id": "Y7r4GCZ_r578"
      },
      "source": [
        "# **Preprocessing**"
      ]
    },
    {
      "cell_type": "code",
      "metadata": {
        "colab": {
          "base_uri": "https://localhost:8080/",
          "height": 473
        },
        "id": "bB7u_WQ0eFNR",
        "outputId": "a0326f9b-e89d-41d2-f6e2-3fa5c9bf67ad"
      },
      "source": [
        "data"
      ],
      "execution_count": 4,
      "outputs": [
        {
          "output_type": "execute_result",
          "data": {
            "text/html": [
              "<div>\n",
              "<style scoped>\n",
              "    .dataframe tbody tr th:only-of-type {\n",
              "        vertical-align: middle;\n",
              "    }\n",
              "\n",
              "    .dataframe tbody tr th {\n",
              "        vertical-align: top;\n",
              "    }\n",
              "\n",
              "    .dataframe thead th {\n",
              "        text-align: right;\n",
              "    }\n",
              "</style>\n",
              "<table border=\"1\" class=\"dataframe\">\n",
              "  <thead>\n",
              "    <tr style=\"text-align: right;\">\n",
              "      <th></th>\n",
              "      <th>sl_no</th>\n",
              "      <th>gender</th>\n",
              "      <th>ssc_p</th>\n",
              "      <th>ssc_b</th>\n",
              "      <th>hsc_p</th>\n",
              "      <th>hsc_b</th>\n",
              "      <th>hsc_s</th>\n",
              "      <th>degree_p</th>\n",
              "      <th>degree_t</th>\n",
              "      <th>workex</th>\n",
              "      <th>etest_p</th>\n",
              "      <th>specialisation</th>\n",
              "      <th>mba_p</th>\n",
              "      <th>status</th>\n",
              "      <th>salary</th>\n",
              "    </tr>\n",
              "  </thead>\n",
              "  <tbody>\n",
              "    <tr>\n",
              "      <th>0</th>\n",
              "      <td>1</td>\n",
              "      <td>M</td>\n",
              "      <td>67.00</td>\n",
              "      <td>Others</td>\n",
              "      <td>91.00</td>\n",
              "      <td>Others</td>\n",
              "      <td>Commerce</td>\n",
              "      <td>58.00</td>\n",
              "      <td>Sci&amp;Tech</td>\n",
              "      <td>No</td>\n",
              "      <td>55.0</td>\n",
              "      <td>Mkt&amp;HR</td>\n",
              "      <td>58.80</td>\n",
              "      <td>Placed</td>\n",
              "      <td>270000.0</td>\n",
              "    </tr>\n",
              "    <tr>\n",
              "      <th>1</th>\n",
              "      <td>2</td>\n",
              "      <td>M</td>\n",
              "      <td>79.33</td>\n",
              "      <td>Central</td>\n",
              "      <td>78.33</td>\n",
              "      <td>Others</td>\n",
              "      <td>Science</td>\n",
              "      <td>77.48</td>\n",
              "      <td>Sci&amp;Tech</td>\n",
              "      <td>Yes</td>\n",
              "      <td>86.5</td>\n",
              "      <td>Mkt&amp;Fin</td>\n",
              "      <td>66.28</td>\n",
              "      <td>Placed</td>\n",
              "      <td>200000.0</td>\n",
              "    </tr>\n",
              "    <tr>\n",
              "      <th>2</th>\n",
              "      <td>3</td>\n",
              "      <td>M</td>\n",
              "      <td>65.00</td>\n",
              "      <td>Central</td>\n",
              "      <td>68.00</td>\n",
              "      <td>Central</td>\n",
              "      <td>Arts</td>\n",
              "      <td>64.00</td>\n",
              "      <td>Comm&amp;Mgmt</td>\n",
              "      <td>No</td>\n",
              "      <td>75.0</td>\n",
              "      <td>Mkt&amp;Fin</td>\n",
              "      <td>57.80</td>\n",
              "      <td>Placed</td>\n",
              "      <td>250000.0</td>\n",
              "    </tr>\n",
              "    <tr>\n",
              "      <th>3</th>\n",
              "      <td>4</td>\n",
              "      <td>M</td>\n",
              "      <td>56.00</td>\n",
              "      <td>Central</td>\n",
              "      <td>52.00</td>\n",
              "      <td>Central</td>\n",
              "      <td>Science</td>\n",
              "      <td>52.00</td>\n",
              "      <td>Sci&amp;Tech</td>\n",
              "      <td>No</td>\n",
              "      <td>66.0</td>\n",
              "      <td>Mkt&amp;HR</td>\n",
              "      <td>59.43</td>\n",
              "      <td>Not Placed</td>\n",
              "      <td>NaN</td>\n",
              "    </tr>\n",
              "    <tr>\n",
              "      <th>4</th>\n",
              "      <td>5</td>\n",
              "      <td>M</td>\n",
              "      <td>85.80</td>\n",
              "      <td>Central</td>\n",
              "      <td>73.60</td>\n",
              "      <td>Central</td>\n",
              "      <td>Commerce</td>\n",
              "      <td>73.30</td>\n",
              "      <td>Comm&amp;Mgmt</td>\n",
              "      <td>No</td>\n",
              "      <td>96.8</td>\n",
              "      <td>Mkt&amp;Fin</td>\n",
              "      <td>55.50</td>\n",
              "      <td>Placed</td>\n",
              "      <td>425000.0</td>\n",
              "    </tr>\n",
              "    <tr>\n",
              "      <th>...</th>\n",
              "      <td>...</td>\n",
              "      <td>...</td>\n",
              "      <td>...</td>\n",
              "      <td>...</td>\n",
              "      <td>...</td>\n",
              "      <td>...</td>\n",
              "      <td>...</td>\n",
              "      <td>...</td>\n",
              "      <td>...</td>\n",
              "      <td>...</td>\n",
              "      <td>...</td>\n",
              "      <td>...</td>\n",
              "      <td>...</td>\n",
              "      <td>...</td>\n",
              "      <td>...</td>\n",
              "    </tr>\n",
              "    <tr>\n",
              "      <th>210</th>\n",
              "      <td>211</td>\n",
              "      <td>M</td>\n",
              "      <td>80.60</td>\n",
              "      <td>Others</td>\n",
              "      <td>82.00</td>\n",
              "      <td>Others</td>\n",
              "      <td>Commerce</td>\n",
              "      <td>77.60</td>\n",
              "      <td>Comm&amp;Mgmt</td>\n",
              "      <td>No</td>\n",
              "      <td>91.0</td>\n",
              "      <td>Mkt&amp;Fin</td>\n",
              "      <td>74.49</td>\n",
              "      <td>Placed</td>\n",
              "      <td>400000.0</td>\n",
              "    </tr>\n",
              "    <tr>\n",
              "      <th>211</th>\n",
              "      <td>212</td>\n",
              "      <td>M</td>\n",
              "      <td>58.00</td>\n",
              "      <td>Others</td>\n",
              "      <td>60.00</td>\n",
              "      <td>Others</td>\n",
              "      <td>Science</td>\n",
              "      <td>72.00</td>\n",
              "      <td>Sci&amp;Tech</td>\n",
              "      <td>No</td>\n",
              "      <td>74.0</td>\n",
              "      <td>Mkt&amp;Fin</td>\n",
              "      <td>53.62</td>\n",
              "      <td>Placed</td>\n",
              "      <td>275000.0</td>\n",
              "    </tr>\n",
              "    <tr>\n",
              "      <th>212</th>\n",
              "      <td>213</td>\n",
              "      <td>M</td>\n",
              "      <td>67.00</td>\n",
              "      <td>Others</td>\n",
              "      <td>67.00</td>\n",
              "      <td>Others</td>\n",
              "      <td>Commerce</td>\n",
              "      <td>73.00</td>\n",
              "      <td>Comm&amp;Mgmt</td>\n",
              "      <td>Yes</td>\n",
              "      <td>59.0</td>\n",
              "      <td>Mkt&amp;Fin</td>\n",
              "      <td>69.72</td>\n",
              "      <td>Placed</td>\n",
              "      <td>295000.0</td>\n",
              "    </tr>\n",
              "    <tr>\n",
              "      <th>213</th>\n",
              "      <td>214</td>\n",
              "      <td>F</td>\n",
              "      <td>74.00</td>\n",
              "      <td>Others</td>\n",
              "      <td>66.00</td>\n",
              "      <td>Others</td>\n",
              "      <td>Commerce</td>\n",
              "      <td>58.00</td>\n",
              "      <td>Comm&amp;Mgmt</td>\n",
              "      <td>No</td>\n",
              "      <td>70.0</td>\n",
              "      <td>Mkt&amp;HR</td>\n",
              "      <td>60.23</td>\n",
              "      <td>Placed</td>\n",
              "      <td>204000.0</td>\n",
              "    </tr>\n",
              "    <tr>\n",
              "      <th>214</th>\n",
              "      <td>215</td>\n",
              "      <td>M</td>\n",
              "      <td>62.00</td>\n",
              "      <td>Central</td>\n",
              "      <td>58.00</td>\n",
              "      <td>Others</td>\n",
              "      <td>Science</td>\n",
              "      <td>53.00</td>\n",
              "      <td>Comm&amp;Mgmt</td>\n",
              "      <td>No</td>\n",
              "      <td>89.0</td>\n",
              "      <td>Mkt&amp;HR</td>\n",
              "      <td>60.22</td>\n",
              "      <td>Not Placed</td>\n",
              "      <td>NaN</td>\n",
              "    </tr>\n",
              "  </tbody>\n",
              "</table>\n",
              "<p>215 rows × 15 columns</p>\n",
              "</div>"
            ],
            "text/plain": [
              "     sl_no gender  ssc_p    ssc_b  ...  specialisation  mba_p      status    salary\n",
              "0        1      M  67.00   Others  ...          Mkt&HR  58.80      Placed  270000.0\n",
              "1        2      M  79.33  Central  ...         Mkt&Fin  66.28      Placed  200000.0\n",
              "2        3      M  65.00  Central  ...         Mkt&Fin  57.80      Placed  250000.0\n",
              "3        4      M  56.00  Central  ...          Mkt&HR  59.43  Not Placed       NaN\n",
              "4        5      M  85.80  Central  ...         Mkt&Fin  55.50      Placed  425000.0\n",
              "..     ...    ...    ...      ...  ...             ...    ...         ...       ...\n",
              "210    211      M  80.60   Others  ...         Mkt&Fin  74.49      Placed  400000.0\n",
              "211    212      M  58.00   Others  ...         Mkt&Fin  53.62      Placed  275000.0\n",
              "212    213      M  67.00   Others  ...         Mkt&Fin  69.72      Placed  295000.0\n",
              "213    214      F  74.00   Others  ...          Mkt&HR  60.23      Placed  204000.0\n",
              "214    215      M  62.00  Central  ...          Mkt&HR  60.22  Not Placed       NaN\n",
              "\n",
              "[215 rows x 15 columns]"
            ]
          },
          "metadata": {
            "tags": []
          },
          "execution_count": 4
        }
      ]
    },
    {
      "cell_type": "markdown",
      "metadata": {
        "id": "JL1FYrIa5kv8"
      },
      "source": [
        "**Check Missing Value**\n"
      ]
    },
    {
      "cell_type": "code",
      "metadata": {
        "id": "_6sqt75_5o9y",
        "colab": {
          "base_uri": "https://localhost:8080/",
          "height": 173
        },
        "outputId": "ca4a8409-aa7c-4cb5-a657-f283c8f867b3"
      },
      "source": [
        "total = data.isnull().sum().sort_values(ascending=False)\n",
        "percent = (data.isnull().sum()/data.isnull().count()).sort_values(ascending=False)\n",
        "missing = pd.concat([total, percent], axis=1, keys=['Total', 'Percent'])\n",
        "missing.head(4)"
      ],
      "execution_count": 5,
      "outputs": [
        {
          "output_type": "execute_result",
          "data": {
            "text/html": [
              "<div>\n",
              "<style scoped>\n",
              "    .dataframe tbody tr th:only-of-type {\n",
              "        vertical-align: middle;\n",
              "    }\n",
              "\n",
              "    .dataframe tbody tr th {\n",
              "        vertical-align: top;\n",
              "    }\n",
              "\n",
              "    .dataframe thead th {\n",
              "        text-align: right;\n",
              "    }\n",
              "</style>\n",
              "<table border=\"1\" class=\"dataframe\">\n",
              "  <thead>\n",
              "    <tr style=\"text-align: right;\">\n",
              "      <th></th>\n",
              "      <th>Total</th>\n",
              "      <th>Percent</th>\n",
              "    </tr>\n",
              "  </thead>\n",
              "  <tbody>\n",
              "    <tr>\n",
              "      <th>salary</th>\n",
              "      <td>67</td>\n",
              "      <td>0.311628</td>\n",
              "    </tr>\n",
              "    <tr>\n",
              "      <th>status</th>\n",
              "      <td>0</td>\n",
              "      <td>0.000000</td>\n",
              "    </tr>\n",
              "    <tr>\n",
              "      <th>mba_p</th>\n",
              "      <td>0</td>\n",
              "      <td>0.000000</td>\n",
              "    </tr>\n",
              "    <tr>\n",
              "      <th>specialisation</th>\n",
              "      <td>0</td>\n",
              "      <td>0.000000</td>\n",
              "    </tr>\n",
              "  </tbody>\n",
              "</table>\n",
              "</div>"
            ],
            "text/plain": [
              "                Total   Percent\n",
              "salary             67  0.311628\n",
              "status              0  0.000000\n",
              "mba_p               0  0.000000\n",
              "specialisation      0  0.000000"
            ]
          },
          "metadata": {
            "tags": []
          },
          "execution_count": 5
        }
      ]
    },
    {
      "cell_type": "code",
      "metadata": {
        "colab": {
          "base_uri": "https://localhost:8080/"
        },
        "id": "Y_DhzYPtFlrL",
        "outputId": "399161f9-dc79-4ab5-8887-18a5ae1098d5"
      },
      "source": [
        "missing_v = [col for col in data.columns if (data[col].isnull().sum()/data.shape[0]) * 100 > 0.001]\n",
        "print(len(missing_v))\n",
        "for cols in missing_v:\n",
        "    del data[cols]"
      ],
      "execution_count": 6,
      "outputs": [
        {
          "output_type": "stream",
          "text": [
            "1\n"
          ],
          "name": "stdout"
        }
      ]
    },
    {
      "cell_type": "code",
      "metadata": {
        "id": "21xYr0iDF-wc",
        "colab": {
          "base_uri": "https://localhost:8080/"
        },
        "outputId": "9f87980b-e293-4002-ca47-56e402edecf6"
      },
      "source": [
        "np.sum(data.isnull().any(axis=1))"
      ],
      "execution_count": 7,
      "outputs": [
        {
          "output_type": "execute_result",
          "data": {
            "text/plain": [
              "0"
            ]
          },
          "metadata": {
            "tags": []
          },
          "execution_count": 7
        }
      ]
    },
    {
      "cell_type": "markdown",
      "metadata": {
        "id": "tnvVuWKg6vj1"
      },
      "source": [
        "**Hot Encoding**"
      ]
    },
    {
      "cell_type": "code",
      "metadata": {
        "colab": {
          "base_uri": "https://localhost:8080/"
        },
        "id": "2Fa0DkFL6yEq",
        "outputId": "f8f40e1d-7abc-48ae-c937-acfb8cc62fba"
      },
      "source": [
        "data.select_dtypes(include=['object']).columns"
      ],
      "execution_count": 8,
      "outputs": [
        {
          "output_type": "execute_result",
          "data": {
            "text/plain": [
              "Index(['gender', 'ssc_b', 'hsc_b', 'hsc_s', 'degree_t', 'workex',\n",
              "       'specialisation', 'status'],\n",
              "      dtype='object')"
            ]
          },
          "metadata": {
            "tags": []
          },
          "execution_count": 8
        }
      ]
    },
    {
      "cell_type": "code",
      "metadata": {
        "id": "7g24nkqr7Qx8"
      },
      "source": [
        "data['gender'] = data['gender'].fillna(data['gender'].mode()[0])\n",
        "data['ssc_b'] = data['ssc_b'].fillna(data['ssc_b'].mode()[0])\n",
        "data['hsc_b'] = data['hsc_b'].fillna(data['hsc_b'].mode()[0])\n",
        "data['hsc_s'] = data['hsc_s'].fillna(data['hsc_s'].mode()[0])\n",
        "data['degree_t'] = data['degree_t'].fillna(data['degree_t'].mode()[0])\n",
        "data['workex'] = data['workex'].fillna(data['workex'].mode()[0])\n",
        "data['specialisation'] = data['specialisation'].fillna(data['specialisation'].mode()[0])\n",
        "data['status'] = data['status'].fillna(data['status'].mode()[0])\n",
        "\n",
        "\n"
      ],
      "execution_count": 9,
      "outputs": []
    },
    {
      "cell_type": "code",
      "metadata": {
        "id": "fLaZar8T-YkY"
      },
      "source": [
        "from sklearn.preprocessing import LabelEncoder\n",
        "lencoders = {}\n",
        "for col in data.select_dtypes(include=['object']).columns:\n",
        "    lencoders[col] = LabelEncoder()\n",
        "    data[col] = lencoders[col].fit_transform(data[col])"
      ],
      "execution_count": 10,
      "outputs": []
    },
    {
      "cell_type": "code",
      "metadata": {
        "id": "w5GR2wIi-k--",
        "colab": {
          "base_uri": "https://localhost:8080/",
          "height": 419
        },
        "outputId": "170573f4-a072-45c8-b226-1cdb6da90fd6"
      },
      "source": [
        "data"
      ],
      "execution_count": 11,
      "outputs": [
        {
          "output_type": "execute_result",
          "data": {
            "text/html": [
              "<div>\n",
              "<style scoped>\n",
              "    .dataframe tbody tr th:only-of-type {\n",
              "        vertical-align: middle;\n",
              "    }\n",
              "\n",
              "    .dataframe tbody tr th {\n",
              "        vertical-align: top;\n",
              "    }\n",
              "\n",
              "    .dataframe thead th {\n",
              "        text-align: right;\n",
              "    }\n",
              "</style>\n",
              "<table border=\"1\" class=\"dataframe\">\n",
              "  <thead>\n",
              "    <tr style=\"text-align: right;\">\n",
              "      <th></th>\n",
              "      <th>sl_no</th>\n",
              "      <th>gender</th>\n",
              "      <th>ssc_p</th>\n",
              "      <th>ssc_b</th>\n",
              "      <th>hsc_p</th>\n",
              "      <th>hsc_b</th>\n",
              "      <th>hsc_s</th>\n",
              "      <th>degree_p</th>\n",
              "      <th>degree_t</th>\n",
              "      <th>workex</th>\n",
              "      <th>etest_p</th>\n",
              "      <th>specialisation</th>\n",
              "      <th>mba_p</th>\n",
              "      <th>status</th>\n",
              "    </tr>\n",
              "  </thead>\n",
              "  <tbody>\n",
              "    <tr>\n",
              "      <th>0</th>\n",
              "      <td>1</td>\n",
              "      <td>1</td>\n",
              "      <td>67.00</td>\n",
              "      <td>1</td>\n",
              "      <td>91.00</td>\n",
              "      <td>1</td>\n",
              "      <td>1</td>\n",
              "      <td>58.00</td>\n",
              "      <td>2</td>\n",
              "      <td>0</td>\n",
              "      <td>55.0</td>\n",
              "      <td>1</td>\n",
              "      <td>58.80</td>\n",
              "      <td>1</td>\n",
              "    </tr>\n",
              "    <tr>\n",
              "      <th>1</th>\n",
              "      <td>2</td>\n",
              "      <td>1</td>\n",
              "      <td>79.33</td>\n",
              "      <td>0</td>\n",
              "      <td>78.33</td>\n",
              "      <td>1</td>\n",
              "      <td>2</td>\n",
              "      <td>77.48</td>\n",
              "      <td>2</td>\n",
              "      <td>1</td>\n",
              "      <td>86.5</td>\n",
              "      <td>0</td>\n",
              "      <td>66.28</td>\n",
              "      <td>1</td>\n",
              "    </tr>\n",
              "    <tr>\n",
              "      <th>2</th>\n",
              "      <td>3</td>\n",
              "      <td>1</td>\n",
              "      <td>65.00</td>\n",
              "      <td>0</td>\n",
              "      <td>68.00</td>\n",
              "      <td>0</td>\n",
              "      <td>0</td>\n",
              "      <td>64.00</td>\n",
              "      <td>0</td>\n",
              "      <td>0</td>\n",
              "      <td>75.0</td>\n",
              "      <td>0</td>\n",
              "      <td>57.80</td>\n",
              "      <td>1</td>\n",
              "    </tr>\n",
              "    <tr>\n",
              "      <th>3</th>\n",
              "      <td>4</td>\n",
              "      <td>1</td>\n",
              "      <td>56.00</td>\n",
              "      <td>0</td>\n",
              "      <td>52.00</td>\n",
              "      <td>0</td>\n",
              "      <td>2</td>\n",
              "      <td>52.00</td>\n",
              "      <td>2</td>\n",
              "      <td>0</td>\n",
              "      <td>66.0</td>\n",
              "      <td>1</td>\n",
              "      <td>59.43</td>\n",
              "      <td>0</td>\n",
              "    </tr>\n",
              "    <tr>\n",
              "      <th>4</th>\n",
              "      <td>5</td>\n",
              "      <td>1</td>\n",
              "      <td>85.80</td>\n",
              "      <td>0</td>\n",
              "      <td>73.60</td>\n",
              "      <td>0</td>\n",
              "      <td>1</td>\n",
              "      <td>73.30</td>\n",
              "      <td>0</td>\n",
              "      <td>0</td>\n",
              "      <td>96.8</td>\n",
              "      <td>0</td>\n",
              "      <td>55.50</td>\n",
              "      <td>1</td>\n",
              "    </tr>\n",
              "    <tr>\n",
              "      <th>...</th>\n",
              "      <td>...</td>\n",
              "      <td>...</td>\n",
              "      <td>...</td>\n",
              "      <td>...</td>\n",
              "      <td>...</td>\n",
              "      <td>...</td>\n",
              "      <td>...</td>\n",
              "      <td>...</td>\n",
              "      <td>...</td>\n",
              "      <td>...</td>\n",
              "      <td>...</td>\n",
              "      <td>...</td>\n",
              "      <td>...</td>\n",
              "      <td>...</td>\n",
              "    </tr>\n",
              "    <tr>\n",
              "      <th>210</th>\n",
              "      <td>211</td>\n",
              "      <td>1</td>\n",
              "      <td>80.60</td>\n",
              "      <td>1</td>\n",
              "      <td>82.00</td>\n",
              "      <td>1</td>\n",
              "      <td>1</td>\n",
              "      <td>77.60</td>\n",
              "      <td>0</td>\n",
              "      <td>0</td>\n",
              "      <td>91.0</td>\n",
              "      <td>0</td>\n",
              "      <td>74.49</td>\n",
              "      <td>1</td>\n",
              "    </tr>\n",
              "    <tr>\n",
              "      <th>211</th>\n",
              "      <td>212</td>\n",
              "      <td>1</td>\n",
              "      <td>58.00</td>\n",
              "      <td>1</td>\n",
              "      <td>60.00</td>\n",
              "      <td>1</td>\n",
              "      <td>2</td>\n",
              "      <td>72.00</td>\n",
              "      <td>2</td>\n",
              "      <td>0</td>\n",
              "      <td>74.0</td>\n",
              "      <td>0</td>\n",
              "      <td>53.62</td>\n",
              "      <td>1</td>\n",
              "    </tr>\n",
              "    <tr>\n",
              "      <th>212</th>\n",
              "      <td>213</td>\n",
              "      <td>1</td>\n",
              "      <td>67.00</td>\n",
              "      <td>1</td>\n",
              "      <td>67.00</td>\n",
              "      <td>1</td>\n",
              "      <td>1</td>\n",
              "      <td>73.00</td>\n",
              "      <td>0</td>\n",
              "      <td>1</td>\n",
              "      <td>59.0</td>\n",
              "      <td>0</td>\n",
              "      <td>69.72</td>\n",
              "      <td>1</td>\n",
              "    </tr>\n",
              "    <tr>\n",
              "      <th>213</th>\n",
              "      <td>214</td>\n",
              "      <td>0</td>\n",
              "      <td>74.00</td>\n",
              "      <td>1</td>\n",
              "      <td>66.00</td>\n",
              "      <td>1</td>\n",
              "      <td>1</td>\n",
              "      <td>58.00</td>\n",
              "      <td>0</td>\n",
              "      <td>0</td>\n",
              "      <td>70.0</td>\n",
              "      <td>1</td>\n",
              "      <td>60.23</td>\n",
              "      <td>1</td>\n",
              "    </tr>\n",
              "    <tr>\n",
              "      <th>214</th>\n",
              "      <td>215</td>\n",
              "      <td>1</td>\n",
              "      <td>62.00</td>\n",
              "      <td>0</td>\n",
              "      <td>58.00</td>\n",
              "      <td>1</td>\n",
              "      <td>2</td>\n",
              "      <td>53.00</td>\n",
              "      <td>0</td>\n",
              "      <td>0</td>\n",
              "      <td>89.0</td>\n",
              "      <td>1</td>\n",
              "      <td>60.22</td>\n",
              "      <td>0</td>\n",
              "    </tr>\n",
              "  </tbody>\n",
              "</table>\n",
              "<p>215 rows × 14 columns</p>\n",
              "</div>"
            ],
            "text/plain": [
              "     sl_no  gender  ssc_p  ssc_b  ...  etest_p  specialisation  mba_p  status\n",
              "0        1       1  67.00      1  ...     55.0               1  58.80       1\n",
              "1        2       1  79.33      0  ...     86.5               0  66.28       1\n",
              "2        3       1  65.00      0  ...     75.0               0  57.80       1\n",
              "3        4       1  56.00      0  ...     66.0               1  59.43       0\n",
              "4        5       1  85.80      0  ...     96.8               0  55.50       1\n",
              "..     ...     ...    ...    ...  ...      ...             ...    ...     ...\n",
              "210    211       1  80.60      1  ...     91.0               0  74.49       1\n",
              "211    212       1  58.00      1  ...     74.0               0  53.62       1\n",
              "212    213       1  67.00      1  ...     59.0               0  69.72       1\n",
              "213    214       0  74.00      1  ...     70.0               1  60.23       1\n",
              "214    215       1  62.00      0  ...     89.0               1  60.22       0\n",
              "\n",
              "[215 rows x 14 columns]"
            ]
          },
          "metadata": {
            "tags": []
          },
          "execution_count": 11
        }
      ]
    },
    {
      "cell_type": "markdown",
      "metadata": {
        "id": "1X3_s7X8_hEc"
      },
      "source": [
        "**Feature Scaling**"
      ]
    },
    {
      "cell_type": "code",
      "metadata": {
        "id": "iQgnWr7Q_jey"
      },
      "source": [
        "# Standardizing data\n",
        "from sklearn import preprocessing\n",
        "r_scaler = preprocessing.MinMaxScaler()\n",
        "r_scaler.fit(data)\n",
        "data = pd.DataFrame(r_scaler.transform(data), index=data.index, columns=data.columns)"
      ],
      "execution_count": 12,
      "outputs": []
    },
    {
      "cell_type": "markdown",
      "metadata": {
        "id": "2m6tWQEIAQfb"
      },
      "source": [
        "**Data spliting**\n"
      ]
    },
    {
      "cell_type": "code",
      "metadata": {
        "id": "NtfhyaMR93-W"
      },
      "source": [
        "from sklearn.model_selection import train_test_split"
      ],
      "execution_count": 19,
      "outputs": []
    },
    {
      "cell_type": "code",
      "metadata": {
        "id": "j9t6Ik9SAUPX"
      },
      "source": [
        "X=data.drop('specialisation',axis=1)\n"
      ],
      "execution_count": 16,
      "outputs": []
    },
    {
      "cell_type": "code",
      "metadata": {
        "id": "f52X64tDAYXY"
      },
      "source": [
        "y=data[['specialisation']]\n"
      ],
      "execution_count": 17,
      "outputs": []
    },
    {
      "cell_type": "code",
      "metadata": {
        "id": "5-S8fYFyApQB"
      },
      "source": [
        "X_train, X_test, y_train, y_test = train_test_split(X, y, test_size=0.30, random_state=100)\n"
      ],
      "execution_count": 20,
      "outputs": []
    },
    {
      "cell_type": "markdown",
      "metadata": {
        "id": "T8s8iuRUBMSs"
      },
      "source": [
        "# **Feature Selection**\n"
      ]
    },
    {
      "cell_type": "markdown",
      "metadata": {
        "id": "k19UEMIJ8etI"
      },
      "source": [
        "## **1 — Dropping Constant Features- Variance Threshold**\n",
        "\n",
        "Variance threshold is a function inside the Feature selector. Feature selector that removes all low-variance features. This feature selection algorithm looks only at the features (X), not the desired outputs (y), and can thus be used for unsupervised learning."
      ]
    },
    {
      "cell_type": "code",
      "metadata": {
        "id": "L7LO02d9-NYl"
      },
      "source": [
        "from sklearn.feature_selection import VarianceThreshold"
      ],
      "execution_count": 21,
      "outputs": []
    },
    {
      "cell_type": "markdown",
      "metadata": {
        "id": "hUgeNV0Y-VbH"
      },
      "source": [
        "Let's apply the variance threshold"
      ]
    },
    {
      "cell_type": "code",
      "metadata": {
        "colab": {
          "base_uri": "https://localhost:8080/"
        },
        "id": "TbB-5vFF-YBz",
        "outputId": "48ffdfbd-1c80-4cec-8311-958e99744d40"
      },
      "source": [
        "var_thres=VarianceThreshold(threshold=0)\n",
        "var_thres.fit(X_train)"
      ],
      "execution_count": 22,
      "outputs": [
        {
          "output_type": "execute_result",
          "data": {
            "text/plain": [
              "VarianceThreshold(threshold=0)"
            ]
          },
          "metadata": {
            "tags": []
          },
          "execution_count": 22
        }
      ]
    },
    {
      "cell_type": "markdown",
      "metadata": {
        "id": "DsG-xvgP-jbY"
      },
      "source": [
        "In the below code output you will be able to see two values(true and false), true indicates that a particular feature is very important, and false indicates that a particular feature is not so important with respect to the target feature."
      ]
    },
    {
      "cell_type": "code",
      "metadata": {
        "colab": {
          "base_uri": "https://localhost:8080/"
        },
        "id": "3jVc3zDk-rUk",
        "outputId": "1aebf831-3216-40e9-b506-d580249bb8d7"
      },
      "source": [
        "var_thres.get_support()"
      ],
      "execution_count": 23,
      "outputs": [
        {
          "output_type": "execute_result",
          "data": {
            "text/plain": [
              "array([ True,  True,  True,  True,  True,  True,  True,  True,  True,\n",
              "        True,  True,  True,  True])"
            ]
          },
          "metadata": {
            "tags": []
          },
          "execution_count": 23
        }
      ]
    },
    {
      "cell_type": "markdown",
      "metadata": {
        "id": "BxZcix-p-3Yd"
      },
      "source": [
        "There are a total of 284 non-constant features out of 370 features.\n"
      ]
    },
    {
      "cell_type": "code",
      "metadata": {
        "colab": {
          "base_uri": "https://localhost:8080/"
        },
        "id": "U7RMzTv_--9-",
        "outputId": "cdc0e409-b6e6-4cde-ce9e-7576f5c5aa83"
      },
      "source": [
        "### lets find non constant feature\n",
        "len(X_train.columns[var_thres.get_support()])"
      ],
      "execution_count": 24,
      "outputs": [
        {
          "output_type": "execute_result",
          "data": {
            "text/plain": [
              "13"
            ]
          },
          "metadata": {
            "tags": []
          },
          "execution_count": 24
        }
      ]
    },
    {
      "cell_type": "markdown",
      "metadata": {
        "id": "XiyaPobn_EwJ"
      },
      "source": [
        "86 features are our constant features\n"
      ]
    },
    {
      "cell_type": "code",
      "metadata": {
        "colab": {
          "base_uri": "https://localhost:8080/"
        },
        "id": "5YgJvcze_ORW",
        "outputId": "e311c427-c9d1-4c57-a9d9-001fde9dd898"
      },
      "source": [
        "constant_columns = [column for column in X_train.columns\n",
        "                    if column not in X_train.columns[var_thres.get_support()]]\n",
        "\n",
        "print(len(constant_columns))"
      ],
      "execution_count": 25,
      "outputs": [
        {
          "output_type": "stream",
          "text": [
            "0\n"
          ],
          "name": "stdout"
        }
      ]
    },
    {
      "cell_type": "markdown",
      "metadata": {
        "id": "CpKx9CJS_WuH"
      },
      "source": [
        "Printing our constant columns\n"
      ]
    },
    {
      "cell_type": "code",
      "metadata": {
        "id": "w33NjVue_auU"
      },
      "source": [
        "for column in constant_columns:\n",
        "    print(column)"
      ],
      "execution_count": 26,
      "outputs": []
    },
    {
      "cell_type": "markdown",
      "metadata": {
        "id": "TRj7AQVs_ezg"
      },
      "source": [
        "Here, we are dropping the constant columns\n"
      ]
    },
    {
      "cell_type": "code",
      "metadata": {
        "colab": {
          "base_uri": "https://localhost:8080/",
          "height": 419
        },
        "id": "8ZXHpQ83_ifE",
        "outputId": "fc19ab05-4760-4c86-8e5b-1b47680b281a"
      },
      "source": [
        "X_train.drop(constant_columns,axis=1)"
      ],
      "execution_count": 27,
      "outputs": [
        {
          "output_type": "execute_result",
          "data": {
            "text/html": [
              "<div>\n",
              "<style scoped>\n",
              "    .dataframe tbody tr th:only-of-type {\n",
              "        vertical-align: middle;\n",
              "    }\n",
              "\n",
              "    .dataframe tbody tr th {\n",
              "        vertical-align: top;\n",
              "    }\n",
              "\n",
              "    .dataframe thead th {\n",
              "        text-align: right;\n",
              "    }\n",
              "</style>\n",
              "<table border=\"1\" class=\"dataframe\">\n",
              "  <thead>\n",
              "    <tr style=\"text-align: right;\">\n",
              "      <th></th>\n",
              "      <th>sl_no</th>\n",
              "      <th>gender</th>\n",
              "      <th>ssc_p</th>\n",
              "      <th>ssc_b</th>\n",
              "      <th>hsc_p</th>\n",
              "      <th>hsc_b</th>\n",
              "      <th>hsc_s</th>\n",
              "      <th>degree_p</th>\n",
              "      <th>degree_t</th>\n",
              "      <th>workex</th>\n",
              "      <th>etest_p</th>\n",
              "      <th>mba_p</th>\n",
              "      <th>status</th>\n",
              "    </tr>\n",
              "  </thead>\n",
              "  <tbody>\n",
              "    <tr>\n",
              "      <th>210</th>\n",
              "      <td>0.981308</td>\n",
              "      <td>1.0</td>\n",
              "      <td>0.818594</td>\n",
              "      <td>1.0</td>\n",
              "      <td>0.741351</td>\n",
              "      <td>1.0</td>\n",
              "      <td>0.5</td>\n",
              "      <td>0.673171</td>\n",
              "      <td>0.0</td>\n",
              "      <td>0.0</td>\n",
              "      <td>0.854167</td>\n",
              "      <td>0.872564</td>\n",
              "      <td>1.0</td>\n",
              "    </tr>\n",
              "    <tr>\n",
              "      <th>190</th>\n",
              "      <td>0.887850</td>\n",
              "      <td>0.0</td>\n",
              "      <td>0.476397</td>\n",
              "      <td>1.0</td>\n",
              "      <td>0.546952</td>\n",
              "      <td>0.0</td>\n",
              "      <td>0.5</td>\n",
              "      <td>0.268293</td>\n",
              "      <td>0.0</td>\n",
              "      <td>0.0</td>\n",
              "      <td>0.000000</td>\n",
              "      <td>0.423163</td>\n",
              "      <td>0.0</td>\n",
              "    </tr>\n",
              "    <tr>\n",
              "      <th>177</th>\n",
              "      <td>0.827103</td>\n",
              "      <td>0.0</td>\n",
              "      <td>0.661925</td>\n",
              "      <td>0.0</td>\n",
              "      <td>0.988468</td>\n",
              "      <td>1.0</td>\n",
              "      <td>0.5</td>\n",
              "      <td>0.707317</td>\n",
              "      <td>0.0</td>\n",
              "      <td>1.0</td>\n",
              "      <td>0.812500</td>\n",
              "      <td>0.734633</td>\n",
              "      <td>1.0</td>\n",
              "    </tr>\n",
              "    <tr>\n",
              "      <th>1</th>\n",
              "      <td>0.004673</td>\n",
              "      <td>1.0</td>\n",
              "      <td>0.792414</td>\n",
              "      <td>0.0</td>\n",
              "      <td>0.680890</td>\n",
              "      <td>1.0</td>\n",
              "      <td>1.0</td>\n",
              "      <td>0.670244</td>\n",
              "      <td>1.0</td>\n",
              "      <td>1.0</td>\n",
              "      <td>0.760417</td>\n",
              "      <td>0.564843</td>\n",
              "      <td>1.0</td>\n",
              "    </tr>\n",
              "    <tr>\n",
              "      <th>198</th>\n",
              "      <td>0.925234</td>\n",
              "      <td>0.0</td>\n",
              "      <td>0.538240</td>\n",
              "      <td>0.0</td>\n",
              "      <td>0.543657</td>\n",
              "      <td>0.0</td>\n",
              "      <td>0.5</td>\n",
              "      <td>0.365854</td>\n",
              "      <td>0.5</td>\n",
              "      <td>0.0</td>\n",
              "      <td>0.791667</td>\n",
              "      <td>0.777736</td>\n",
              "      <td>0.0</td>\n",
              "    </tr>\n",
              "    <tr>\n",
              "      <th>...</th>\n",
              "      <td>...</td>\n",
              "      <td>...</td>\n",
              "      <td>...</td>\n",
              "      <td>...</td>\n",
              "      <td>...</td>\n",
              "      <td>...</td>\n",
              "      <td>...</td>\n",
              "      <td>...</td>\n",
              "      <td>...</td>\n",
              "      <td>...</td>\n",
              "      <td>...</td>\n",
              "      <td>...</td>\n",
              "      <td>...</td>\n",
              "    </tr>\n",
              "    <tr>\n",
              "      <th>87</th>\n",
              "      <td>0.406542</td>\n",
              "      <td>1.0</td>\n",
              "      <td>0.385694</td>\n",
              "      <td>0.0</td>\n",
              "      <td>0.230643</td>\n",
              "      <td>0.0</td>\n",
              "      <td>1.0</td>\n",
              "      <td>0.243902</td>\n",
              "      <td>0.5</td>\n",
              "      <td>0.0</td>\n",
              "      <td>0.520833</td>\n",
              "      <td>0.294978</td>\n",
              "      <td>0.0</td>\n",
              "    </tr>\n",
              "    <tr>\n",
              "      <th>103</th>\n",
              "      <td>0.481308</td>\n",
              "      <td>1.0</td>\n",
              "      <td>0.661925</td>\n",
              "      <td>0.0</td>\n",
              "      <td>0.675453</td>\n",
              "      <td>0.0</td>\n",
              "      <td>1.0</td>\n",
              "      <td>0.560976</td>\n",
              "      <td>1.0</td>\n",
              "      <td>1.0</td>\n",
              "      <td>0.729167</td>\n",
              "      <td>0.547976</td>\n",
              "      <td>1.0</td>\n",
              "    </tr>\n",
              "    <tr>\n",
              "      <th>67</th>\n",
              "      <td>0.313084</td>\n",
              "      <td>1.0</td>\n",
              "      <td>0.825191</td>\n",
              "      <td>1.0</td>\n",
              "      <td>0.683690</td>\n",
              "      <td>1.0</td>\n",
              "      <td>0.5</td>\n",
              "      <td>0.414634</td>\n",
              "      <td>0.0</td>\n",
              "      <td>0.0</td>\n",
              "      <td>0.389792</td>\n",
              "      <td>0.366567</td>\n",
              "      <td>1.0</td>\n",
              "    </tr>\n",
              "    <tr>\n",
              "      <th>24</th>\n",
              "      <td>0.112150</td>\n",
              "      <td>1.0</td>\n",
              "      <td>0.734075</td>\n",
              "      <td>1.0</td>\n",
              "      <td>1.000000</td>\n",
              "      <td>1.0</td>\n",
              "      <td>1.0</td>\n",
              "      <td>0.703902</td>\n",
              "      <td>1.0</td>\n",
              "      <td>0.0</td>\n",
              "      <td>0.987500</td>\n",
              "      <td>0.854573</td>\n",
              "      <td>1.0</td>\n",
              "    </tr>\n",
              "    <tr>\n",
              "      <th>8</th>\n",
              "      <td>0.037383</td>\n",
              "      <td>1.0</td>\n",
              "      <td>0.661925</td>\n",
              "      <td>0.0</td>\n",
              "      <td>0.691928</td>\n",
              "      <td>0.0</td>\n",
              "      <td>0.5</td>\n",
              "      <td>0.536585</td>\n",
              "      <td>0.0</td>\n",
              "      <td>0.0</td>\n",
              "      <td>0.861250</td>\n",
              "      <td>0.377811</td>\n",
              "      <td>1.0</td>\n",
              "    </tr>\n",
              "  </tbody>\n",
              "</table>\n",
              "<p>150 rows × 13 columns</p>\n",
              "</div>"
            ],
            "text/plain": [
              "        sl_no  gender     ssc_p  ssc_b  ...  workex   etest_p     mba_p  status\n",
              "210  0.981308     1.0  0.818594    1.0  ...     0.0  0.854167  0.872564     1.0\n",
              "190  0.887850     0.0  0.476397    1.0  ...     0.0  0.000000  0.423163     0.0\n",
              "177  0.827103     0.0  0.661925    0.0  ...     1.0  0.812500  0.734633     1.0\n",
              "1    0.004673     1.0  0.792414    0.0  ...     1.0  0.760417  0.564843     1.0\n",
              "198  0.925234     0.0  0.538240    0.0  ...     0.0  0.791667  0.777736     0.0\n",
              "..        ...     ...       ...    ...  ...     ...       ...       ...     ...\n",
              "87   0.406542     1.0  0.385694    0.0  ...     0.0  0.520833  0.294978     0.0\n",
              "103  0.481308     1.0  0.661925    0.0  ...     1.0  0.729167  0.547976     1.0\n",
              "67   0.313084     1.0  0.825191    1.0  ...     0.0  0.389792  0.366567     1.0\n",
              "24   0.112150     1.0  0.734075    1.0  ...     0.0  0.987500  0.854573     1.0\n",
              "8    0.037383     1.0  0.661925    0.0  ...     0.0  0.861250  0.377811     1.0\n",
              "\n",
              "[150 rows x 13 columns]"
            ]
          },
          "metadata": {
            "tags": []
          },
          "execution_count": 27
        }
      ]
    },
    {
      "cell_type": "markdown",
      "metadata": {
        "id": "wpIOZyY5_pVZ"
      },
      "source": [
        "## **2 — Feature selection with correlation**\n",
        "\n",
        "In this technique, we compare two features together and if both features are highly co-related with each other then we will drop anyone features from both."
      ]
    },
    {
      "cell_type": "code",
      "metadata": {
        "id": "6W2ktjZH_65U"
      },
      "source": [
        "#importing libraries\n",
        "from sklearn.datasets import load_boston\n",
        "import pandas as pd\n",
        "import matplotlib.pyplot as plt\n",
        "%matplotlib inline"
      ],
      "execution_count": 28,
      "outputs": []
    },
    {
      "cell_type": "code",
      "metadata": {
        "colab": {
          "base_uri": "https://localhost:8080/",
          "height": 224
        },
        "id": "4RReeVQgATDG",
        "outputId": "04d0ec24-f412-4e5a-8f79-0360ee7e27a0"
      },
      "source": [
        "data.head()"
      ],
      "execution_count": 31,
      "outputs": [
        {
          "output_type": "execute_result",
          "data": {
            "text/html": [
              "<div>\n",
              "<style scoped>\n",
              "    .dataframe tbody tr th:only-of-type {\n",
              "        vertical-align: middle;\n",
              "    }\n",
              "\n",
              "    .dataframe tbody tr th {\n",
              "        vertical-align: top;\n",
              "    }\n",
              "\n",
              "    .dataframe thead th {\n",
              "        text-align: right;\n",
              "    }\n",
              "</style>\n",
              "<table border=\"1\" class=\"dataframe\">\n",
              "  <thead>\n",
              "    <tr style=\"text-align: right;\">\n",
              "      <th></th>\n",
              "      <th>sl_no</th>\n",
              "      <th>gender</th>\n",
              "      <th>ssc_p</th>\n",
              "      <th>ssc_b</th>\n",
              "      <th>hsc_p</th>\n",
              "      <th>hsc_b</th>\n",
              "      <th>hsc_s</th>\n",
              "      <th>degree_p</th>\n",
              "      <th>degree_t</th>\n",
              "      <th>workex</th>\n",
              "      <th>etest_p</th>\n",
              "      <th>specialisation</th>\n",
              "      <th>mba_p</th>\n",
              "      <th>status</th>\n",
              "    </tr>\n",
              "  </thead>\n",
              "  <tbody>\n",
              "    <tr>\n",
              "      <th>0</th>\n",
              "      <td>0.000000</td>\n",
              "      <td>1.0</td>\n",
              "      <td>0.538240</td>\n",
              "      <td>1.0</td>\n",
              "      <td>0.889621</td>\n",
              "      <td>1.0</td>\n",
              "      <td>0.5</td>\n",
              "      <td>0.195122</td>\n",
              "      <td>1.0</td>\n",
              "      <td>0.0</td>\n",
              "      <td>0.104167</td>\n",
              "      <td>1.0</td>\n",
              "      <td>0.284483</td>\n",
              "      <td>1.0</td>\n",
              "    </tr>\n",
              "    <tr>\n",
              "      <th>1</th>\n",
              "      <td>0.004673</td>\n",
              "      <td>1.0</td>\n",
              "      <td>0.792414</td>\n",
              "      <td>0.0</td>\n",
              "      <td>0.680890</td>\n",
              "      <td>1.0</td>\n",
              "      <td>1.0</td>\n",
              "      <td>0.670244</td>\n",
              "      <td>1.0</td>\n",
              "      <td>1.0</td>\n",
              "      <td>0.760417</td>\n",
              "      <td>0.0</td>\n",
              "      <td>0.564843</td>\n",
              "      <td>1.0</td>\n",
              "    </tr>\n",
              "    <tr>\n",
              "      <th>2</th>\n",
              "      <td>0.009346</td>\n",
              "      <td>1.0</td>\n",
              "      <td>0.497011</td>\n",
              "      <td>0.0</td>\n",
              "      <td>0.510708</td>\n",
              "      <td>0.0</td>\n",
              "      <td>0.0</td>\n",
              "      <td>0.341463</td>\n",
              "      <td>0.0</td>\n",
              "      <td>0.0</td>\n",
              "      <td>0.520833</td>\n",
              "      <td>0.0</td>\n",
              "      <td>0.247001</td>\n",
              "      <td>1.0</td>\n",
              "    </tr>\n",
              "    <tr>\n",
              "      <th>3</th>\n",
              "      <td>0.014019</td>\n",
              "      <td>1.0</td>\n",
              "      <td>0.311482</td>\n",
              "      <td>0.0</td>\n",
              "      <td>0.247117</td>\n",
              "      <td>0.0</td>\n",
              "      <td>1.0</td>\n",
              "      <td>0.048780</td>\n",
              "      <td>1.0</td>\n",
              "      <td>0.0</td>\n",
              "      <td>0.333333</td>\n",
              "      <td>1.0</td>\n",
              "      <td>0.308096</td>\n",
              "      <td>0.0</td>\n",
              "    </tr>\n",
              "    <tr>\n",
              "      <th>4</th>\n",
              "      <td>0.018692</td>\n",
              "      <td>1.0</td>\n",
              "      <td>0.925788</td>\n",
              "      <td>0.0</td>\n",
              "      <td>0.602965</td>\n",
              "      <td>0.0</td>\n",
              "      <td>0.5</td>\n",
              "      <td>0.568293</td>\n",
              "      <td>0.0</td>\n",
              "      <td>0.0</td>\n",
              "      <td>0.975000</td>\n",
              "      <td>0.0</td>\n",
              "      <td>0.160795</td>\n",
              "      <td>1.0</td>\n",
              "    </tr>\n",
              "  </tbody>\n",
              "</table>\n",
              "</div>"
            ],
            "text/plain": [
              "      sl_no  gender     ssc_p  ...  specialisation     mba_p  status\n",
              "0  0.000000     1.0  0.538240  ...             1.0  0.284483     1.0\n",
              "1  0.004673     1.0  0.792414  ...             0.0  0.564843     1.0\n",
              "2  0.009346     1.0  0.497011  ...             0.0  0.247001     1.0\n",
              "3  0.014019     1.0  0.311482  ...             1.0  0.308096     0.0\n",
              "4  0.018692     1.0  0.925788  ...             0.0  0.160795     1.0\n",
              "\n",
              "[5 rows x 14 columns]"
            ]
          },
          "metadata": {
            "tags": []
          },
          "execution_count": 31
        }
      ]
    },
    {
      "cell_type": "markdown",
      "metadata": {
        "id": "bei1n6PzAe7e"
      },
      "source": [
        "We perform all the operations on the X_train dataset and after that perform the same for X_test."
      ]
    },
    {
      "cell_type": "markdown",
      "metadata": {
        "id": "J1wUWI8pAiua"
      },
      "source": [
        "Correlations-\n"
      ]
    },
    {
      "cell_type": "code",
      "metadata": {
        "colab": {
          "base_uri": "https://localhost:8080/",
          "height": 472
        },
        "id": "cBfv55v7Agik",
        "outputId": "6d4eee1e-184f-4d1a-f358-9d2555993558"
      },
      "source": [
        "X_train.corr()"
      ],
      "execution_count": 32,
      "outputs": [
        {
          "output_type": "execute_result",
          "data": {
            "text/html": [
              "<div>\n",
              "<style scoped>\n",
              "    .dataframe tbody tr th:only-of-type {\n",
              "        vertical-align: middle;\n",
              "    }\n",
              "\n",
              "    .dataframe tbody tr th {\n",
              "        vertical-align: top;\n",
              "    }\n",
              "\n",
              "    .dataframe thead th {\n",
              "        text-align: right;\n",
              "    }\n",
              "</style>\n",
              "<table border=\"1\" class=\"dataframe\">\n",
              "  <thead>\n",
              "    <tr style=\"text-align: right;\">\n",
              "      <th></th>\n",
              "      <th>sl_no</th>\n",
              "      <th>gender</th>\n",
              "      <th>ssc_p</th>\n",
              "      <th>ssc_b</th>\n",
              "      <th>hsc_p</th>\n",
              "      <th>hsc_b</th>\n",
              "      <th>hsc_s</th>\n",
              "      <th>degree_p</th>\n",
              "      <th>degree_t</th>\n",
              "      <th>workex</th>\n",
              "      <th>etest_p</th>\n",
              "      <th>mba_p</th>\n",
              "      <th>status</th>\n",
              "    </tr>\n",
              "  </thead>\n",
              "  <tbody>\n",
              "    <tr>\n",
              "      <th>sl_no</th>\n",
              "      <td>1.000000</td>\n",
              "      <td>0.084376</td>\n",
              "      <td>-0.024430</td>\n",
              "      <td>-0.030648</td>\n",
              "      <td>0.023241</td>\n",
              "      <td>0.090364</td>\n",
              "      <td>0.013984</td>\n",
              "      <td>-0.085807</td>\n",
              "      <td>-0.030024</td>\n",
              "      <td>0.093139</td>\n",
              "      <td>0.097305</td>\n",
              "      <td>0.097228</td>\n",
              "      <td>-0.014857</td>\n",
              "    </tr>\n",
              "    <tr>\n",
              "      <th>gender</th>\n",
              "      <td>0.084376</td>\n",
              "      <td>1.000000</td>\n",
              "      <td>-0.075719</td>\n",
              "      <td>-0.009164</td>\n",
              "      <td>0.023504</td>\n",
              "      <td>0.077426</td>\n",
              "      <td>0.057347</td>\n",
              "      <td>-0.190623</td>\n",
              "      <td>0.020692</td>\n",
              "      <td>0.027391</td>\n",
              "      <td>0.105560</td>\n",
              "      <td>-0.294345</td>\n",
              "      <td>0.044520</td>\n",
              "    </tr>\n",
              "    <tr>\n",
              "      <th>ssc_p</th>\n",
              "      <td>-0.024430</td>\n",
              "      <td>-0.075719</td>\n",
              "      <td>1.000000</td>\n",
              "      <td>0.129164</td>\n",
              "      <td>0.527413</td>\n",
              "      <td>0.068477</td>\n",
              "      <td>0.245003</td>\n",
              "      <td>0.495057</td>\n",
              "      <td>0.247380</td>\n",
              "      <td>0.129498</td>\n",
              "      <td>0.297208</td>\n",
              "      <td>0.373861</td>\n",
              "      <td>0.626159</td>\n",
              "    </tr>\n",
              "    <tr>\n",
              "      <th>ssc_b</th>\n",
              "      <td>-0.030648</td>\n",
              "      <td>-0.009164</td>\n",
              "      <td>0.129164</td>\n",
              "      <td>1.000000</td>\n",
              "      <td>-0.099320</td>\n",
              "      <td>0.574368</td>\n",
              "      <td>-0.005266</td>\n",
              "      <td>0.095484</td>\n",
              "      <td>0.098430</td>\n",
              "      <td>-0.032189</td>\n",
              "      <td>-0.013198</td>\n",
              "      <td>0.088443</td>\n",
              "      <td>0.107603</td>\n",
              "    </tr>\n",
              "    <tr>\n",
              "      <th>hsc_p</th>\n",
              "      <td>0.023241</td>\n",
              "      <td>0.023504</td>\n",
              "      <td>0.527413</td>\n",
              "      <td>-0.099320</td>\n",
              "      <td>1.000000</td>\n",
              "      <td>0.031687</td>\n",
              "      <td>-0.131533</td>\n",
              "      <td>0.423577</td>\n",
              "      <td>-0.061311</td>\n",
              "      <td>0.101938</td>\n",
              "      <td>0.238843</td>\n",
              "      <td>0.399975</td>\n",
              "      <td>0.485533</td>\n",
              "    </tr>\n",
              "    <tr>\n",
              "      <th>hsc_b</th>\n",
              "      <td>0.090364</td>\n",
              "      <td>0.077426</td>\n",
              "      <td>0.068477</td>\n",
              "      <td>0.574368</td>\n",
              "      <td>0.031687</td>\n",
              "      <td>1.000000</td>\n",
              "      <td>0.136666</td>\n",
              "      <td>0.053708</td>\n",
              "      <td>0.072778</td>\n",
              "      <td>0.085479</td>\n",
              "      <td>0.079226</td>\n",
              "      <td>0.109699</td>\n",
              "      <td>0.074762</td>\n",
              "    </tr>\n",
              "    <tr>\n",
              "      <th>hsc_s</th>\n",
              "      <td>0.013984</td>\n",
              "      <td>0.057347</td>\n",
              "      <td>0.245003</td>\n",
              "      <td>-0.005266</td>\n",
              "      <td>-0.131533</td>\n",
              "      <td>0.136666</td>\n",
              "      <td>1.000000</td>\n",
              "      <td>0.112416</td>\n",
              "      <td>0.585340</td>\n",
              "      <td>0.060490</td>\n",
              "      <td>0.136841</td>\n",
              "      <td>-0.006521</td>\n",
              "      <td>0.031795</td>\n",
              "    </tr>\n",
              "    <tr>\n",
              "      <th>degree_p</th>\n",
              "      <td>-0.085807</td>\n",
              "      <td>-0.190623</td>\n",
              "      <td>0.495057</td>\n",
              "      <td>0.095484</td>\n",
              "      <td>0.423577</td>\n",
              "      <td>0.053708</td>\n",
              "      <td>0.112416</td>\n",
              "      <td>1.000000</td>\n",
              "      <td>0.054031</td>\n",
              "      <td>0.128690</td>\n",
              "      <td>0.289640</td>\n",
              "      <td>0.424389</td>\n",
              "      <td>0.437374</td>\n",
              "    </tr>\n",
              "    <tr>\n",
              "      <th>degree_t</th>\n",
              "      <td>-0.030024</td>\n",
              "      <td>0.020692</td>\n",
              "      <td>0.247380</td>\n",
              "      <td>0.098430</td>\n",
              "      <td>-0.061311</td>\n",
              "      <td>0.072778</td>\n",
              "      <td>0.585340</td>\n",
              "      <td>0.054031</td>\n",
              "      <td>1.000000</td>\n",
              "      <td>0.119280</td>\n",
              "      <td>0.108527</td>\n",
              "      <td>0.123653</td>\n",
              "      <td>-0.026298</td>\n",
              "    </tr>\n",
              "    <tr>\n",
              "      <th>workex</th>\n",
              "      <td>0.093139</td>\n",
              "      <td>0.027391</td>\n",
              "      <td>0.129498</td>\n",
              "      <td>-0.032189</td>\n",
              "      <td>0.101938</td>\n",
              "      <td>0.085479</td>\n",
              "      <td>0.060490</td>\n",
              "      <td>0.128690</td>\n",
              "      <td>0.119280</td>\n",
              "      <td>1.000000</td>\n",
              "      <td>0.032180</td>\n",
              "      <td>0.176277</td>\n",
              "      <td>0.262014</td>\n",
              "    </tr>\n",
              "    <tr>\n",
              "      <th>etest_p</th>\n",
              "      <td>0.097305</td>\n",
              "      <td>0.105560</td>\n",
              "      <td>0.297208</td>\n",
              "      <td>-0.013198</td>\n",
              "      <td>0.238843</td>\n",
              "      <td>0.079226</td>\n",
              "      <td>0.136841</td>\n",
              "      <td>0.289640</td>\n",
              "      <td>0.108527</td>\n",
              "      <td>0.032180</td>\n",
              "      <td>1.000000</td>\n",
              "      <td>0.232153</td>\n",
              "      <td>0.120869</td>\n",
              "    </tr>\n",
              "    <tr>\n",
              "      <th>mba_p</th>\n",
              "      <td>0.097228</td>\n",
              "      <td>-0.294345</td>\n",
              "      <td>0.373861</td>\n",
              "      <td>0.088443</td>\n",
              "      <td>0.399975</td>\n",
              "      <td>0.109699</td>\n",
              "      <td>-0.006521</td>\n",
              "      <td>0.424389</td>\n",
              "      <td>0.123653</td>\n",
              "      <td>0.176277</td>\n",
              "      <td>0.232153</td>\n",
              "      <td>1.000000</td>\n",
              "      <td>0.131154</td>\n",
              "    </tr>\n",
              "    <tr>\n",
              "      <th>status</th>\n",
              "      <td>-0.014857</td>\n",
              "      <td>0.044520</td>\n",
              "      <td>0.626159</td>\n",
              "      <td>0.107603</td>\n",
              "      <td>0.485533</td>\n",
              "      <td>0.074762</td>\n",
              "      <td>0.031795</td>\n",
              "      <td>0.437374</td>\n",
              "      <td>-0.026298</td>\n",
              "      <td>0.262014</td>\n",
              "      <td>0.120869</td>\n",
              "      <td>0.131154</td>\n",
              "      <td>1.000000</td>\n",
              "    </tr>\n",
              "  </tbody>\n",
              "</table>\n",
              "</div>"
            ],
            "text/plain": [
              "             sl_no    gender     ssc_p  ...   etest_p     mba_p    status\n",
              "sl_no     1.000000  0.084376 -0.024430  ...  0.097305  0.097228 -0.014857\n",
              "gender    0.084376  1.000000 -0.075719  ...  0.105560 -0.294345  0.044520\n",
              "ssc_p    -0.024430 -0.075719  1.000000  ...  0.297208  0.373861  0.626159\n",
              "ssc_b    -0.030648 -0.009164  0.129164  ... -0.013198  0.088443  0.107603\n",
              "hsc_p     0.023241  0.023504  0.527413  ...  0.238843  0.399975  0.485533\n",
              "hsc_b     0.090364  0.077426  0.068477  ...  0.079226  0.109699  0.074762\n",
              "hsc_s     0.013984  0.057347  0.245003  ...  0.136841 -0.006521  0.031795\n",
              "degree_p -0.085807 -0.190623  0.495057  ...  0.289640  0.424389  0.437374\n",
              "degree_t -0.030024  0.020692  0.247380  ...  0.108527  0.123653 -0.026298\n",
              "workex    0.093139  0.027391  0.129498  ...  0.032180  0.176277  0.262014\n",
              "etest_p   0.097305  0.105560  0.297208  ...  1.000000  0.232153  0.120869\n",
              "mba_p     0.097228 -0.294345  0.373861  ...  0.232153  1.000000  0.131154\n",
              "status   -0.014857  0.044520  0.626159  ...  0.120869  0.131154  1.000000\n",
              "\n",
              "[13 rows x 13 columns]"
            ]
          },
          "metadata": {
            "tags": []
          },
          "execution_count": 32
        }
      ]
    },
    {
      "cell_type": "markdown",
      "metadata": {
        "id": "i5IubkkdA4Rm"
      },
      "source": [
        "You will be able to see tax and rad features both are 91% highly co-related with each other, so we will drop one of them."
      ]
    },
    {
      "cell_type": "code",
      "metadata": {
        "colab": {
          "base_uri": "https://localhost:8080/",
          "height": 632
        },
        "id": "uMQL-h3ZA-Y1",
        "outputId": "a454e566-ca7d-4798-c0fe-9a6258a09606"
      },
      "source": [
        "import seaborn as sns\n",
        "#Using Pearson Correlation\n",
        "plt.figure(figsize=(12,10))\n",
        "cor = X_train.corr()\n",
        "sns.heatmap(cor, annot=True, cmap=plt.cm.CMRmap_r)\n",
        "plt.show()"
      ],
      "execution_count": 33,
      "outputs": [
        {
          "output_type": "display_data",
          "data": {
            "image/png": "[encoded data removed]",
            "text/plain": [
              "<Figure size 864x720 with 2 Axes>"
            ]
          },
          "metadata": {
            "tags": [],
            "needs_background": "light"
          }
        }
      ]
    },
    {
      "cell_type": "markdown",
      "metadata": {
        "id": "qEd3aapVBFjK"
      },
      "source": [
        "With the below function we can select highly correlated features. It will remove the first feature that is correlated with anything other feature."
      ]
    },
    {
      "cell_type": "code",
      "metadata": {
        "id": "11gZkdQrBLar"
      },
      "source": [
        "# with the following function we can select highly correlated features\n",
        "# it will remove the first feature that is correlated with anything other feature\n",
        "\n",
        "def correlation(dataset, threshold):\n",
        "    col_corr = set()  # Set of all the names of correlated columns\n",
        "    corr_matrix = dataset.corr()\n",
        "    for i in range(len(corr_matrix.columns)):\n",
        "        for j in range(i):\n",
        "            if abs(corr_matrix.iloc[i, j]) > threshold: # we are interested in absolute coeff value\n",
        "                colname = corr_matrix.columns[i]  # getting the name of column\n",
        "                col_corr.add(colname)\n",
        "    return col_corr"
      ],
      "execution_count": 34,
      "outputs": []
    },
    {
      "cell_type": "markdown",
      "metadata": {
        "id": "mdwIEWUIBRMb"
      },
      "source": [
        "Here we are calling our fn. and passing the dataset and threshold value."
      ]
    },
    {
      "cell_type": "code",
      "metadata": {
        "colab": {
          "base_uri": "https://localhost:8080/"
        },
        "id": "aMaeVWbABQXs",
        "outputId": "0a6cfe30-a474-4947-b152-6d0547da1a5e"
      },
      "source": [
        "corr_features = correlation(X_train, 0.7)\n",
        "len(set(corr_features))"
      ],
      "execution_count": 35,
      "outputs": [
        {
          "output_type": "execute_result",
          "data": {
            "text/plain": [
              "0"
            ]
          },
          "metadata": {
            "tags": []
          },
          "execution_count": 35
        }
      ]
    },
    {
      "cell_type": "markdown",
      "metadata": {
        "id": "k9mbepzdBcDE"
      },
      "source": [
        "Highly co-related features\n"
      ]
    },
    {
      "cell_type": "code",
      "metadata": {
        "id": "pqU9s8QcBaMh"
      },
      "source": [
        "corr_features\n"
      ],
      "execution_count": null,
      "outputs": []
    },
    {
      "cell_type": "markdown",
      "metadata": {
        "id": "MQXRS5YmBlFC"
      },
      "source": [
        "Drop highly co-related features\n"
      ]
    },
    {
      "cell_type": "markdown",
      "metadata": {
        "id": "cDSmYXCvBpnW"
      },
      "source": [
        "For both train and test dataset\n"
      ]
    },
    {
      "cell_type": "code",
      "metadata": {
        "id": "V-M5ZGVvBuQm"
      },
      "source": [
        "X_train.drop(corr_features,axis=1)\n",
        "X_test.drop(corr_features,axis=1)"
      ],
      "execution_count": null,
      "outputs": []
    },
    {
      "cell_type": "markdown",
      "metadata": {
        "id": "rS30LScvB-qE"
      },
      "source": [
        "## **3- Boruta Feature selection**"
      ]
    },
    {
      "cell_type": "code",
      "metadata": {
        "id": "AuF21mEKBRHP"
      },
      "source": [
        "!pip install boruta\n"
      ],
      "execution_count": null,
      "outputs": []
    },
    {
      "cell_type": "code",
      "metadata": {
        "id": "AArQ4s_9BYw4"
      },
      "source": [
        "from boruta import BorutaPy\n",
        "from sklearn.ensemble import RandomForestRegressor\n",
        "import numpy as np"
      ],
      "execution_count": 39,
      "outputs": []
    },
    {
      "cell_type": "code",
      "metadata": {
        "id": "4NzXHSmnBcJ5"
      },
      "source": [
        "forest = RandomForestRegressor(n_jobs=-1,max_depth=5)\n"
      ],
      "execution_count": 40,
      "outputs": []
    },
    {
      "cell_type": "code",
      "metadata": {
        "id": "hLtZoXdGBdrf",
        "colab": {
          "base_uri": "https://localhost:8080/"
        },
        "outputId": "567c08d6-abc4-4153-948c-f3a3bf9fde6c"
      },
      "source": [
        "boruta= BorutaPy(estimator= forest, n_estimators='auto',max_iter=100)\n",
        "boruta.fit(np.array(X),np.array(y) )"
      ],
      "execution_count": 41,
      "outputs": [
        {
          "output_type": "stream",
          "text": [
            "/usr/local/lib/python3.7/dist-packages/sklearn/utils/validation.py:760: DataConversionWarning: A column-vector y was passed when a 1d array was expected. Please change the shape of y to (n_samples, ), for example using ravel().\n",
            "  y = column_or_1d(y, warn=True)\n",
            "/usr/local/lib/python3.7/dist-packages/boruta/boruta_py.py:384: DataConversionWarning: A column-vector y was passed when a 1d array was expected. Please change the shape of y to (n_samples,), for example using ravel().\n",
            "  self.estimator.fit(X, y)\n",
            "/usr/local/lib/python3.7/dist-packages/boruta/boruta_py.py:384: DataConversionWarning: A column-vector y was passed when a 1d array was expected. Please change the shape of y to (n_samples,), for example using ravel().\n",
            "  self.estimator.fit(X, y)\n",
            "/usr/local/lib/python3.7/dist-packages/boruta/boruta_py.py:384: DataConversionWarning: A column-vector y was passed when a 1d array was expected. Please change the shape of y to (n_samples,), for example using ravel().\n",
            "  self.estimator.fit(X, y)\n",
            "/usr/local/lib/python3.7/dist-packages/boruta/boruta_py.py:384: DataConversionWarning: A column-vector y was passed when a 1d array was expected. Please change the shape of y to (n_samples,), for example using ravel().\n",
            "  self.estimator.fit(X, y)\n",
            "/usr/local/lib/python3.7/dist-packages/boruta/boruta_py.py:384: DataConversionWarning: A column-vector y was passed when a 1d array was expected. Please change the shape of y to (n_samples,), for example using ravel().\n",
            "  self.estimator.fit(X, y)\n",
            "/usr/local/lib/python3.7/dist-packages/boruta/boruta_py.py:384: DataConversionWarning: A column-vector y was passed when a 1d array was expected. Please change the shape of y to (n_samples,), for example using ravel().\n",
            "  self.estimator.fit(X, y)\n",
            "/usr/local/lib/python3.7/dist-packages/boruta/boruta_py.py:384: DataConversionWarning: A column-vector y was passed when a 1d array was expected. Please change the shape of y to (n_samples,), for example using ravel().\n",
            "  self.estimator.fit(X, y)\n",
            "/usr/local/lib/python3.7/dist-packages/boruta/boruta_py.py:384: DataConversionWarning: A column-vector y was passed when a 1d array was expected. Please change the shape of y to (n_samples,), for example using ravel().\n",
            "  self.estimator.fit(X, y)\n",
            "/usr/local/lib/python3.7/dist-packages/boruta/boruta_py.py:384: DataConversionWarning: A column-vector y was passed when a 1d array was expected. Please change the shape of y to (n_samples,), for example using ravel().\n",
            "  self.estimator.fit(X, y)\n",
            "/usr/local/lib/python3.7/dist-packages/boruta/boruta_py.py:384: DataConversionWarning: A column-vector y was passed when a 1d array was expected. Please change the shape of y to (n_samples,), for example using ravel().\n",
            "  self.estimator.fit(X, y)\n",
            "/usr/local/lib/python3.7/dist-packages/boruta/boruta_py.py:384: DataConversionWarning: A column-vector y was passed when a 1d array was expected. Please change the shape of y to (n_samples,), for example using ravel().\n",
            "  self.estimator.fit(X, y)\n",
            "/usr/local/lib/python3.7/dist-packages/boruta/boruta_py.py:384: DataConversionWarning: A column-vector y was passed when a 1d array was expected. Please change the shape of y to (n_samples,), for example using ravel().\n",
            "  self.estimator.fit(X, y)\n",
            "/usr/local/lib/python3.7/dist-packages/boruta/boruta_py.py:384: DataConversionWarning: A column-vector y was passed when a 1d array was expected. Please change the shape of y to (n_samples,), for example using ravel().\n",
            "  self.estimator.fit(X, y)\n",
            "/usr/local/lib/python3.7/dist-packages/boruta/boruta_py.py:384: DataConversionWarning: A column-vector y was passed when a 1d array was expected. Please change the shape of y to (n_samples,), for example using ravel().\n",
            "  self.estimator.fit(X, y)\n",
            "/usr/local/lib/python3.7/dist-packages/boruta/boruta_py.py:384: DataConversionWarning: A column-vector y was passed when a 1d array was expected. Please change the shape of y to (n_samples,), for example using ravel().\n",
            "  self.estimator.fit(X, y)\n",
            "/usr/local/lib/python3.7/dist-packages/boruta/boruta_py.py:384: DataConversionWarning: A column-vector y was passed when a 1d array was expected. Please change the shape of y to (n_samples,), for example using ravel().\n",
            "  self.estimator.fit(X, y)\n",
            "/usr/local/lib/python3.7/dist-packages/boruta/boruta_py.py:384: DataConversionWarning: A column-vector y was passed when a 1d array was expected. Please change the shape of y to (n_samples,), for example using ravel().\n",
            "  self.estimator.fit(X, y)\n",
            "/usr/local/lib/python3.7/dist-packages/boruta/boruta_py.py:384: DataConversionWarning: A column-vector y was passed when a 1d array was expected. Please change the shape of y to (n_samples,), for example using ravel().\n",
            "  self.estimator.fit(X, y)\n",
            "/usr/local/lib/python3.7/dist-packages/boruta/boruta_py.py:384: DataConversionWarning: A column-vector y was passed when a 1d array was expected. Please change the shape of y to (n_samples,), for example using ravel().\n",
            "  self.estimator.fit(X, y)\n",
            "/usr/local/lib/python3.7/dist-packages/boruta/boruta_py.py:384: DataConversionWarning: A column-vector y was passed when a 1d array was expected. Please change the shape of y to (n_samples,), for example using ravel().\n",
            "  self.estimator.fit(X, y)\n",
            "/usr/local/lib/python3.7/dist-packages/boruta/boruta_py.py:384: DataConversionWarning: A column-vector y was passed when a 1d array was expected. Please change the shape of y to (n_samples,), for example using ravel().\n",
            "  self.estimator.fit(X, y)\n",
            "/usr/local/lib/python3.7/dist-packages/boruta/boruta_py.py:384: DataConversionWarning: A column-vector y was passed when a 1d array was expected. Please change the shape of y to (n_samples,), for example using ravel().\n",
            "  self.estimator.fit(X, y)\n",
            "/usr/local/lib/python3.7/dist-packages/boruta/boruta_py.py:384: DataConversionWarning: A column-vector y was passed when a 1d array was expected. Please change the shape of y to (n_samples,), for example using ravel().\n",
            "  self.estimator.fit(X, y)\n",
            "/usr/local/lib/python3.7/dist-packages/boruta/boruta_py.py:384: DataConversionWarning: A column-vector y was passed when a 1d array was expected. Please change the shape of y to (n_samples,), for example using ravel().\n",
            "  self.estimator.fit(X, y)\n",
            "/usr/local/lib/python3.7/dist-packages/boruta/boruta_py.py:384: DataConversionWarning: A column-vector y was passed when a 1d array was expected. Please change the shape of y to (n_samples,), for example using ravel().\n",
            "  self.estimator.fit(X, y)\n",
            "/usr/local/lib/python3.7/dist-packages/boruta/boruta_py.py:384: DataConversionWarning: A column-vector y was passed when a 1d array was expected. Please change the shape of y to (n_samples,), for example using ravel().\n",
            "  self.estimator.fit(X, y)\n",
            "/usr/local/lib/python3.7/dist-packages/boruta/boruta_py.py:384: DataConversionWarning: A column-vector y was passed when a 1d array was expected. Please change the shape of y to (n_samples,), for example using ravel().\n",
            "  self.estimator.fit(X, y)\n",
            "/usr/local/lib/python3.7/dist-packages/boruta/boruta_py.py:384: DataConversionWarning: A column-vector y was passed when a 1d array was expected. Please change the shape of y to (n_samples,), for example using ravel().\n",
            "  self.estimator.fit(X, y)\n",
            "/usr/local/lib/python3.7/dist-packages/boruta/boruta_py.py:384: DataConversionWarning: A column-vector y was passed when a 1d array was expected. Please change the shape of y to (n_samples,), for example using ravel().\n",
            "  self.estimator.fit(X, y)\n",
            "/usr/local/lib/python3.7/dist-packages/boruta/boruta_py.py:384: DataConversionWarning: A column-vector y was passed when a 1d array was expected. Please change the shape of y to (n_samples,), for example using ravel().\n",
            "  self.estimator.fit(X, y)\n",
            "/usr/local/lib/python3.7/dist-packages/boruta/boruta_py.py:384: DataConversionWarning: A column-vector y was passed when a 1d array was expected. Please change the shape of y to (n_samples,), for example using ravel().\n",
            "  self.estimator.fit(X, y)\n",
            "/usr/local/lib/python3.7/dist-packages/boruta/boruta_py.py:384: DataConversionWarning: A column-vector y was passed when a 1d array was expected. Please change the shape of y to (n_samples,), for example using ravel().\n",
            "  self.estimator.fit(X, y)\n",
            "/usr/local/lib/python3.7/dist-packages/boruta/boruta_py.py:384: DataConversionWarning: A column-vector y was passed when a 1d array was expected. Please change the shape of y to (n_samples,), for example using ravel().\n",
            "  self.estimator.fit(X, y)\n",
            "/usr/local/lib/python3.7/dist-packages/boruta/boruta_py.py:384: DataConversionWarning: A column-vector y was passed when a 1d array was expected. Please change the shape of y to (n_samples,), for example using ravel().\n",
            "  self.estimator.fit(X, y)\n",
            "/usr/local/lib/python3.7/dist-packages/boruta/boruta_py.py:384: DataConversionWarning: A column-vector y was passed when a 1d array was expected. Please change the shape of y to (n_samples,), for example using ravel().\n",
            "  self.estimator.fit(X, y)\n",
            "/usr/local/lib/python3.7/dist-packages/boruta/boruta_py.py:384: DataConversionWarning: A column-vector y was passed when a 1d array was expected. Please change the shape of y to (n_samples,), for example using ravel().\n",
            "  self.estimator.fit(X, y)\n",
            "/usr/local/lib/python3.7/dist-packages/boruta/boruta_py.py:384: DataConversionWarning: A column-vector y was passed when a 1d array was expected. Please change the shape of y to (n_samples,), for example using ravel().\n",
            "  self.estimator.fit(X, y)\n",
            "/usr/local/lib/python3.7/dist-packages/boruta/boruta_py.py:384: DataConversionWarning: A column-vector y was passed when a 1d array was expected. Please change the shape of y to (n_samples,), for example using ravel().\n",
            "  self.estimator.fit(X, y)\n",
            "/usr/local/lib/python3.7/dist-packages/boruta/boruta_py.py:384: DataConversionWarning: A column-vector y was passed when a 1d array was expected. Please change the shape of y to (n_samples,), for example using ravel().\n",
            "  self.estimator.fit(X, y)\n",
            "/usr/local/lib/python3.7/dist-packages/boruta/boruta_py.py:384: DataConversionWarning: A column-vector y was passed when a 1d array was expected. Please change the shape of y to (n_samples,), for example using ravel().\n",
            "  self.estimator.fit(X, y)\n",
            "/usr/local/lib/python3.7/dist-packages/boruta/boruta_py.py:384: DataConversionWarning: A column-vector y was passed when a 1d array was expected. Please change the shape of y to (n_samples,), for example using ravel().\n",
            "  self.estimator.fit(X, y)\n",
            "/usr/local/lib/python3.7/dist-packages/boruta/boruta_py.py:384: DataConversionWarning: A column-vector y was passed when a 1d array was expected. Please change the shape of y to (n_samples,), for example using ravel().\n",
            "  self.estimator.fit(X, y)\n",
            "/usr/local/lib/python3.7/dist-packages/boruta/boruta_py.py:384: DataConversionWarning: A column-vector y was passed when a 1d array was expected. Please change the shape of y to (n_samples,), for example using ravel().\n",
            "  self.estimator.fit(X, y)\n",
            "/usr/local/lib/python3.7/dist-packages/boruta/boruta_py.py:384: DataConversionWarning: A column-vector y was passed when a 1d array was expected. Please change the shape of y to (n_samples,), for example using ravel().\n",
            "  self.estimator.fit(X, y)\n",
            "/usr/local/lib/python3.7/dist-packages/boruta/boruta_py.py:384: DataConversionWarning: A column-vector y was passed when a 1d array was expected. Please change the shape of y to (n_samples,), for example using ravel().\n",
            "  self.estimator.fit(X, y)\n",
            "/usr/local/lib/python3.7/dist-packages/boruta/boruta_py.py:384: DataConversionWarning: A column-vector y was passed when a 1d array was expected. Please change the shape of y to (n_samples,), for example using ravel().\n",
            "  self.estimator.fit(X, y)\n",
            "/usr/local/lib/python3.7/dist-packages/boruta/boruta_py.py:384: DataConversionWarning: A column-vector y was passed when a 1d array was expected. Please change the shape of y to (n_samples,), for example using ravel().\n",
            "  self.estimator.fit(X, y)\n",
            "/usr/local/lib/python3.7/dist-packages/boruta/boruta_py.py:384: DataConversionWarning: A column-vector y was passed when a 1d array was expected. Please change the shape of y to (n_samples,), for example using ravel().\n",
            "  self.estimator.fit(X, y)\n",
            "/usr/local/lib/python3.7/dist-packages/boruta/boruta_py.py:384: DataConversionWarning: A column-vector y was passed when a 1d array was expected. Please change the shape of y to (n_samples,), for example using ravel().\n",
            "  self.estimator.fit(X, y)\n",
            "/usr/local/lib/python3.7/dist-packages/boruta/boruta_py.py:384: DataConversionWarning: A column-vector y was passed when a 1d array was expected. Please change the shape of y to (n_samples,), for example using ravel().\n",
            "  self.estimator.fit(X, y)\n",
            "/usr/local/lib/python3.7/dist-packages/boruta/boruta_py.py:384: DataConversionWarning: A column-vector y was passed when a 1d array was expected. Please change the shape of y to (n_samples,), for example using ravel().\n",
            "  self.estimator.fit(X, y)\n",
            "/usr/local/lib/python3.7/dist-packages/boruta/boruta_py.py:384: DataConversionWarning: A column-vector y was passed when a 1d array was expected. Please change the shape of y to (n_samples,), for example using ravel().\n",
            "  self.estimator.fit(X, y)\n",
            "/usr/local/lib/python3.7/dist-packages/boruta/boruta_py.py:384: DataConversionWarning: A column-vector y was passed when a 1d array was expected. Please change the shape of y to (n_samples,), for example using ravel().\n",
            "  self.estimator.fit(X, y)\n",
            "/usr/local/lib/python3.7/dist-packages/boruta/boruta_py.py:384: DataConversionWarning: A column-vector y was passed when a 1d array was expected. Please change the shape of y to (n_samples,), for example using ravel().\n",
            "  self.estimator.fit(X, y)\n",
            "/usr/local/lib/python3.7/dist-packages/boruta/boruta_py.py:384: DataConversionWarning: A column-vector y was passed when a 1d array was expected. Please change the shape of y to (n_samples,), for example using ravel().\n",
            "  self.estimator.fit(X, y)\n",
            "/usr/local/lib/python3.7/dist-packages/boruta/boruta_py.py:384: DataConversionWarning: A column-vector y was passed when a 1d array was expected. Please change the shape of y to (n_samples,), for example using ravel().\n",
            "  self.estimator.fit(X, y)\n",
            "/usr/local/lib/python3.7/dist-packages/boruta/boruta_py.py:384: DataConversionWarning: A column-vector y was passed when a 1d array was expected. Please change the shape of y to (n_samples,), for example using ravel().\n",
            "  self.estimator.fit(X, y)\n",
            "/usr/local/lib/python3.7/dist-packages/boruta/boruta_py.py:384: DataConversionWarning: A column-vector y was passed when a 1d array was expected. Please change the shape of y to (n_samples,), for example using ravel().\n",
            "  self.estimator.fit(X, y)\n",
            "/usr/local/lib/python3.7/dist-packages/boruta/boruta_py.py:384: DataConversionWarning: A column-vector y was passed when a 1d array was expected. Please change the shape of y to (n_samples,), for example using ravel().\n",
            "  self.estimator.fit(X, y)\n",
            "/usr/local/lib/python3.7/dist-packages/boruta/boruta_py.py:384: DataConversionWarning: A column-vector y was passed when a 1d array was expected. Please change the shape of y to (n_samples,), for example using ravel().\n",
            "  self.estimator.fit(X, y)\n",
            "/usr/local/lib/python3.7/dist-packages/boruta/boruta_py.py:384: DataConversionWarning: A column-vector y was passed when a 1d array was expected. Please change the shape of y to (n_samples,), for example using ravel().\n",
            "  self.estimator.fit(X, y)\n",
            "/usr/local/lib/python3.7/dist-packages/boruta/boruta_py.py:384: DataConversionWarning: A column-vector y was passed when a 1d array was expected. Please change the shape of y to (n_samples,), for example using ravel().\n",
            "  self.estimator.fit(X, y)\n",
            "/usr/local/lib/python3.7/dist-packages/boruta/boruta_py.py:384: DataConversionWarning: A column-vector y was passed when a 1d array was expected. Please change the shape of y to (n_samples,), for example using ravel().\n",
            "  self.estimator.fit(X, y)\n",
            "/usr/local/lib/python3.7/dist-packages/boruta/boruta_py.py:384: DataConversionWarning: A column-vector y was passed when a 1d array was expected. Please change the shape of y to (n_samples,), for example using ravel().\n",
            "  self.estimator.fit(X, y)\n",
            "/usr/local/lib/python3.7/dist-packages/boruta/boruta_py.py:384: DataConversionWarning: A column-vector y was passed when a 1d array was expected. Please change the shape of y to (n_samples,), for example using ravel().\n",
            "  self.estimator.fit(X, y)\n",
            "/usr/local/lib/python3.7/dist-packages/boruta/boruta_py.py:384: DataConversionWarning: A column-vector y was passed when a 1d array was expected. Please change the shape of y to (n_samples,), for example using ravel().\n",
            "  self.estimator.fit(X, y)\n",
            "/usr/local/lib/python3.7/dist-packages/boruta/boruta_py.py:384: DataConversionWarning: A column-vector y was passed when a 1d array was expected. Please change the shape of y to (n_samples,), for example using ravel().\n",
            "  self.estimator.fit(X, y)\n",
            "/usr/local/lib/python3.7/dist-packages/boruta/boruta_py.py:384: DataConversionWarning: A column-vector y was passed when a 1d array was expected. Please change the shape of y to (n_samples,), for example using ravel().\n",
            "  self.estimator.fit(X, y)\n",
            "/usr/local/lib/python3.7/dist-packages/boruta/boruta_py.py:384: DataConversionWarning: A column-vector y was passed when a 1d array was expected. Please change the shape of y to (n_samples,), for example using ravel().\n",
            "  self.estimator.fit(X, y)\n",
            "/usr/local/lib/python3.7/dist-packages/boruta/boruta_py.py:384: DataConversionWarning: A column-vector y was passed when a 1d array was expected. Please change the shape of y to (n_samples,), for example using ravel().\n",
            "  self.estimator.fit(X, y)\n",
            "/usr/local/lib/python3.7/dist-packages/boruta/boruta_py.py:384: DataConversionWarning: A column-vector y was passed when a 1d array was expected. Please change the shape of y to (n_samples,), for example using ravel().\n",
            "  self.estimator.fit(X, y)\n",
            "/usr/local/lib/python3.7/dist-packages/boruta/boruta_py.py:384: DataConversionWarning: A column-vector y was passed when a 1d array was expected. Please change the shape of y to (n_samples,), for example using ravel().\n",
            "  self.estimator.fit(X, y)\n",
            "/usr/local/lib/python3.7/dist-packages/boruta/boruta_py.py:384: DataConversionWarning: A column-vector y was passed when a 1d array was expected. Please change the shape of y to (n_samples,), for example using ravel().\n",
            "  self.estimator.fit(X, y)\n",
            "/usr/local/lib/python3.7/dist-packages/boruta/boruta_py.py:384: DataConversionWarning: A column-vector y was passed when a 1d array was expected. Please change the shape of y to (n_samples,), for example using ravel().\n",
            "  self.estimator.fit(X, y)\n",
            "/usr/local/lib/python3.7/dist-packages/boruta/boruta_py.py:384: DataConversionWarning: A column-vector y was passed when a 1d array was expected. Please change the shape of y to (n_samples,), for example using ravel().\n",
            "  self.estimator.fit(X, y)\n",
            "/usr/local/lib/python3.7/dist-packages/boruta/boruta_py.py:384: DataConversionWarning: A column-vector y was passed when a 1d array was expected. Please change the shape of y to (n_samples,), for example using ravel().\n",
            "  self.estimator.fit(X, y)\n",
            "/usr/local/lib/python3.7/dist-packages/boruta/boruta_py.py:384: DataConversionWarning: A column-vector y was passed when a 1d array was expected. Please change the shape of y to (n_samples,), for example using ravel().\n",
            "  self.estimator.fit(X, y)\n",
            "/usr/local/lib/python3.7/dist-packages/boruta/boruta_py.py:384: DataConversionWarning: A column-vector y was passed when a 1d array was expected. Please change the shape of y to (n_samples,), for example using ravel().\n",
            "  self.estimator.fit(X, y)\n",
            "/usr/local/lib/python3.7/dist-packages/boruta/boruta_py.py:384: DataConversionWarning: A column-vector y was passed when a 1d array was expected. Please change the shape of y to (n_samples,), for example using ravel().\n",
            "  self.estimator.fit(X, y)\n",
            "/usr/local/lib/python3.7/dist-packages/boruta/boruta_py.py:384: DataConversionWarning: A column-vector y was passed when a 1d array was expected. Please change the shape of y to (n_samples,), for example using ravel().\n",
            "  self.estimator.fit(X, y)\n",
            "/usr/local/lib/python3.7/dist-packages/boruta/boruta_py.py:384: DataConversionWarning: A column-vector y was passed when a 1d array was expected. Please change the shape of y to (n_samples,), for example using ravel().\n",
            "  self.estimator.fit(X, y)\n",
            "/usr/local/lib/python3.7/dist-packages/boruta/boruta_py.py:384: DataConversionWarning: A column-vector y was passed when a 1d array was expected. Please change the shape of y to (n_samples,), for example using ravel().\n",
            "  self.estimator.fit(X, y)\n",
            "/usr/local/lib/python3.7/dist-packages/boruta/boruta_py.py:384: DataConversionWarning: A column-vector y was passed when a 1d array was expected. Please change the shape of y to (n_samples,), for example using ravel().\n",
            "  self.estimator.fit(X, y)\n",
            "/usr/local/lib/python3.7/dist-packages/boruta/boruta_py.py:384: DataConversionWarning: A column-vector y was passed when a 1d array was expected. Please change the shape of y to (n_samples,), for example using ravel().\n",
            "  self.estimator.fit(X, y)\n",
            "/usr/local/lib/python3.7/dist-packages/boruta/boruta_py.py:384: DataConversionWarning: A column-vector y was passed when a 1d array was expected. Please change the shape of y to (n_samples,), for example using ravel().\n",
            "  self.estimator.fit(X, y)\n",
            "/usr/local/lib/python3.7/dist-packages/boruta/boruta_py.py:384: DataConversionWarning: A column-vector y was passed when a 1d array was expected. Please change the shape of y to (n_samples,), for example using ravel().\n",
            "  self.estimator.fit(X, y)\n",
            "/usr/local/lib/python3.7/dist-packages/boruta/boruta_py.py:384: DataConversionWarning: A column-vector y was passed when a 1d array was expected. Please change the shape of y to (n_samples,), for example using ravel().\n",
            "  self.estimator.fit(X, y)\n",
            "/usr/local/lib/python3.7/dist-packages/boruta/boruta_py.py:384: DataConversionWarning: A column-vector y was passed when a 1d array was expected. Please change the shape of y to (n_samples,), for example using ravel().\n",
            "  self.estimator.fit(X, y)\n",
            "/usr/local/lib/python3.7/dist-packages/boruta/boruta_py.py:384: DataConversionWarning: A column-vector y was passed when a 1d array was expected. Please change the shape of y to (n_samples,), for example using ravel().\n",
            "  self.estimator.fit(X, y)\n",
            "/usr/local/lib/python3.7/dist-packages/boruta/boruta_py.py:384: DataConversionWarning: A column-vector y was passed when a 1d array was expected. Please change the shape of y to (n_samples,), for example using ravel().\n",
            "  self.estimator.fit(X, y)\n",
            "/usr/local/lib/python3.7/dist-packages/boruta/boruta_py.py:384: DataConversionWarning: A column-vector y was passed when a 1d array was expected. Please change the shape of y to (n_samples,), for example using ravel().\n",
            "  self.estimator.fit(X, y)\n",
            "/usr/local/lib/python3.7/dist-packages/boruta/boruta_py.py:384: DataConversionWarning: A column-vector y was passed when a 1d array was expected. Please change the shape of y to (n_samples,), for example using ravel().\n",
            "  self.estimator.fit(X, y)\n",
            "/usr/local/lib/python3.7/dist-packages/boruta/boruta_py.py:384: DataConversionWarning: A column-vector y was passed when a 1d array was expected. Please change the shape of y to (n_samples,), for example using ravel().\n",
            "  self.estimator.fit(X, y)\n",
            "/usr/local/lib/python3.7/dist-packages/boruta/boruta_py.py:384: DataConversionWarning: A column-vector y was passed when a 1d array was expected. Please change the shape of y to (n_samples,), for example using ravel().\n",
            "  self.estimator.fit(X, y)\n",
            "/usr/local/lib/python3.7/dist-packages/boruta/boruta_py.py:384: DataConversionWarning: A column-vector y was passed when a 1d array was expected. Please change the shape of y to (n_samples,), for example using ravel().\n",
            "  self.estimator.fit(X, y)\n",
            "/usr/local/lib/python3.7/dist-packages/boruta/boruta_py.py:384: DataConversionWarning: A column-vector y was passed when a 1d array was expected. Please change the shape of y to (n_samples,), for example using ravel().\n",
            "  self.estimator.fit(X, y)\n",
            "/usr/local/lib/python3.7/dist-packages/boruta/boruta_py.py:384: DataConversionWarning: A column-vector y was passed when a 1d array was expected. Please change the shape of y to (n_samples,), for example using ravel().\n",
            "  self.estimator.fit(X, y)\n",
            "/usr/local/lib/python3.7/dist-packages/boruta/boruta_py.py:384: DataConversionWarning: A column-vector y was passed when a 1d array was expected. Please change the shape of y to (n_samples,), for example using ravel().\n",
            "  self.estimator.fit(X, y)\n",
            "/usr/local/lib/python3.7/dist-packages/boruta/boruta_py.py:384: DataConversionWarning: A column-vector y was passed when a 1d array was expected. Please change the shape of y to (n_samples,), for example using ravel().\n",
            "  self.estimator.fit(X, y)\n"
          ],
          "name": "stderr"
        },
        {
          "output_type": "execute_result",
          "data": {
            "text/plain": [
              "BorutaPy(alpha=0.05,\n",
              "         estimator=RandomForestRegressor(bootstrap=True, ccp_alpha=0.0,\n",
              "                                         criterion='mse', max_depth=5,\n",
              "                                         max_features='auto',\n",
              "                                         max_leaf_nodes=None, max_samples=None,\n",
              "                                         min_impurity_decrease=0.0,\n",
              "                                         min_impurity_split=None,\n",
              "                                         min_samples_leaf=1,\n",
              "                                         min_samples_split=2,\n",
              "                                         min_weight_fraction_leaf=0.0,\n",
              "                                         n_estimators=56, n_jobs=-1,\n",
              "                                         oob_score=False,\n",
              "                                         random_state=RandomState(MT19937) at 0x7EFBEB300050,\n",
              "                                         verbose=0, warm_start=False),\n",
              "         max_iter=100, n_estimators='auto', perc=100,\n",
              "         random_state=RandomState(MT19937) at 0x7EFBEB300050, two_step=True,\n",
              "         verbose=0)"
            ]
          },
          "metadata": {
            "tags": []
          },
          "execution_count": 41
        }
      ]
    },
    {
      "cell_type": "code",
      "metadata": {
        "id": "xhgDN7poGscs"
      },
      "source": [
        "green_area= X.columns[boruta.support_].to_list()\n",
        "blue_area= X.columns[boruta.support_weak_].to_list()"
      ],
      "execution_count": 42,
      "outputs": []
    },
    {
      "cell_type": "code",
      "metadata": {
        "id": "5doNExw6GuNu",
        "colab": {
          "base_uri": "https://localhost:8080/"
        },
        "outputId": "15c38a3a-d785-43eb-e7b4-337def8ef33c"
      },
      "source": [
        "print('Feature in green ara:',green_area)\n",
        "print('Feature in blue ara:',blue_area)"
      ],
      "execution_count": 43,
      "outputs": [
        {
          "output_type": "stream",
          "text": [
            "Feature in green ara: ['degree_p', 'etest_p']\n",
            "Feature in blue ara: ['hsc_p']\n"
          ],
          "name": "stdout"
        }
      ]
    },
    {
      "cell_type": "markdown",
      "metadata": {
        "id": "ZLt7RDUdCjqu"
      },
      "source": [
        "## **4----Entropy**"
      ]
    },
    {
      "cell_type": "code",
      "metadata": {
        "id": "KN6Q8BzIIAI4"
      },
      "source": [
        "#Calculating Features Importance\n",
        "def Calculating_Entropy(Labels):\n",
        "    Calculating_Entropy=0\n",
        "    labelCounts = Counter(Labels)\n",
        "    for label in labelCounts:\n",
        "        probability_of_label = labelCounts[label] / len(Labels)\n",
        "        Calculating_Entropy -= probability_of_label * math.log2(probability_of_label)\n",
        "    return Calculating_Entropy"
      ],
      "execution_count": 45,
      "outputs": []
    },
    {
      "cell_type": "code",
      "metadata": {
        "id": "nURu4Q2BIP-N"
      },
      "source": [
        "def Calculating_Information_Gain(str_labels, split_labels):\n",
        "    Calculating_Information_Gain = Calculating_Entropy(str_labels)\n",
        "    for branch_subset in split_labels:\n",
        "        Calculating_Information_Gain -= len(branch_subset) * Calculating_Entropy(branch_subset) / len(str_labels)\n",
        "    return Calculating_Information_Gain"
      ],
      "execution_count": 46,
      "outputs": []
    },
    {
      "cell_type": "code",
      "metadata": {
        "id": "bEs8KQP-IZSD"
      },
      "source": [
        "def data_split_for_label(dataset, column):\n",
        "    data_split = []\n",
        "    col_vals = data[column].unique() \n",
        "    for col_val in col_vals:\n",
        "        data_split.append(dataset[dataset[column] == col_val])\n",
        "    return(data_split)"
      ],
      "execution_count": 47,
      "outputs": []
    },
    {
      "cell_type": "code",
      "metadata": {
        "id": "ZodBl72PIhkv"
      },
      "source": [
        "from collections import Counter\n",
        "import math\n",
        "IN_gain=[]\n",
        "Feature_Names=[]\n",
        "def Results_of_Information_Gain(dataset):\n",
        "    b_gain = 0\n",
        "    b_feature = 0\n",
        "    features = list(data.columns)\n",
        "    features.remove('specialisation')\n",
        "    for feature in features:\n",
        "        data_split = data_split_for_label(data, feature)\n",
        "        labels_split = [dataframe['specialisation'] for dataframe in data_split]\n",
        "        gain = Calculating_Information_Gain(dataset['specialisation'], labels_split)\n",
        "        print(' \\n')\n",
        "        print('-------------------------------------------------------------------------------------------------')\n",
        "        print('-------------------------------------------------------------------------------------------------')\n",
        "        print(feature)\n",
        "        print(gain)\n",
        "        IN_gain.append(gain)\n",
        "        Feature_Names.append(feature)\n",
        "        print('-------------------------------------------------------------------------------------------------')\n",
        "        print('-------------------------------------------------------------------------------------------------')\n",
        "        if gain > b_gain:\n",
        "            b_gain, b_feature = gain, feature\n",
        "    return b_feature, b_gain\n",
        "\n",
        "new_data = data_split_for_label(data, Results_of_Information_Gain(data)[0])"
      ],
      "execution_count": null,
      "outputs": []
    },
    {
      "cell_type": "code",
      "metadata": {
        "id": "OR8dMnV6JbLa"
      },
      "source": [
        "IG=pd.DataFrame()\n",
        "IG['Features Importance']=IN_gain\n",
        "IG['Features Importance']=round(IG['Features Importance'],2)\n",
        "IG['Feature']=Feature_Names\n",
        "IG=IG.sort_values(by=['Features Importance'], ascending=False)"
      ],
      "execution_count": 49,
      "outputs": []
    },
    {
      "cell_type": "code",
      "metadata": {
        "id": "tnPHxyG6JhsS"
      },
      "source": [
        "Features_Group = IG[IG['Features Importance'] > 0.1] "
      ],
      "execution_count": 50,
      "outputs": []
    },
    {
      "cell_type": "code",
      "metadata": {
        "colab": {
          "base_uri": "https://localhost:8080/"
        },
        "id": "aQ7O446MJlDt",
        "outputId": "41409050-a16a-4c33-a308-08bdcfb2f622"
      },
      "source": [
        "print('Length of group features', len(Features_Group))"
      ],
      "execution_count": 51,
      "outputs": [
        {
          "output_type": "stream",
          "text": [
            "Length of group features 6\n"
          ],
          "name": "stdout"
        }
      ]
    },
    {
      "cell_type": "code",
      "metadata": {
        "colab": {
          "base_uri": "https://localhost:8080/"
        },
        "id": "Pw9U1KRsJpA8",
        "outputId": "ccc85e64-a535-4e3e-ac9e-f8f3632f318c"
      },
      "source": [
        "print('Selected Features in group:\\n\\n', Features_Group['Feature'])"
      ],
      "execution_count": 52,
      "outputs": [
        {
          "output_type": "stream",
          "text": [
            "Selected Features in group:\n",
            "\n",
            " 0        sl_no\n",
            "11       mba_p\n",
            "4        hsc_p\n",
            "10     etest_p\n",
            "2        ssc_p\n",
            "7     degree_p\n",
            "Name: Feature, dtype: object\n"
          ],
          "name": "stdout"
        }
      ]
    },
    {
      "cell_type": "code",
      "metadata": {
        "id": "7tC4FVfnJzOo"
      },
      "source": [
        "Group_Features_Data=data[list(Features_Group['Feature'])]"
      ],
      "execution_count": 53,
      "outputs": []
    },
    {
      "cell_type": "code",
      "metadata": {
        "colab": {
          "base_uri": "https://localhost:8080/",
          "height": 419
        },
        "id": "QW04AEBDJ3rK",
        "outputId": "468f2eba-86d4-4314-c356-e86aba0005f9"
      },
      "source": [
        "Group_Features_Data"
      ],
      "execution_count": 54,
      "outputs": [
        {
          "output_type": "execute_result",
          "data": {
            "text/html": [
              "<div>\n",
              "<style scoped>\n",
              "    .dataframe tbody tr th:only-of-type {\n",
              "        vertical-align: middle;\n",
              "    }\n",
              "\n",
              "    .dataframe tbody tr th {\n",
              "        vertical-align: top;\n",
              "    }\n",
              "\n",
              "    .dataframe thead th {\n",
              "        text-align: right;\n",
              "    }\n",
              "</style>\n",
              "<table border=\"1\" class=\"dataframe\">\n",
              "  <thead>\n",
              "    <tr style=\"text-align: right;\">\n",
              "      <th></th>\n",
              "      <th>sl_no</th>\n",
              "      <th>mba_p</th>\n",
              "      <th>hsc_p</th>\n",
              "      <th>etest_p</th>\n",
              "      <th>ssc_p</th>\n",
              "      <th>degree_p</th>\n",
              "    </tr>\n",
              "  </thead>\n",
              "  <tbody>\n",
              "    <tr>\n",
              "      <th>0</th>\n",
              "      <td>0.000000</td>\n",
              "      <td>0.284483</td>\n",
              "      <td>0.889621</td>\n",
              "      <td>0.104167</td>\n",
              "      <td>0.538240</td>\n",
              "      <td>0.195122</td>\n",
              "    </tr>\n",
              "    <tr>\n",
              "      <th>1</th>\n",
              "      <td>0.004673</td>\n",
              "      <td>0.564843</td>\n",
              "      <td>0.680890</td>\n",
              "      <td>0.760417</td>\n",
              "      <td>0.792414</td>\n",
              "      <td>0.670244</td>\n",
              "    </tr>\n",
              "    <tr>\n",
              "      <th>2</th>\n",
              "      <td>0.009346</td>\n",
              "      <td>0.247001</td>\n",
              "      <td>0.510708</td>\n",
              "      <td>0.520833</td>\n",
              "      <td>0.497011</td>\n",
              "      <td>0.341463</td>\n",
              "    </tr>\n",
              "    <tr>\n",
              "      <th>3</th>\n",
              "      <td>0.014019</td>\n",
              "      <td>0.308096</td>\n",
              "      <td>0.247117</td>\n",
              "      <td>0.333333</td>\n",
              "      <td>0.311482</td>\n",
              "      <td>0.048780</td>\n",
              "    </tr>\n",
              "    <tr>\n",
              "      <th>4</th>\n",
              "      <td>0.018692</td>\n",
              "      <td>0.160795</td>\n",
              "      <td>0.602965</td>\n",
              "      <td>0.975000</td>\n",
              "      <td>0.925788</td>\n",
              "      <td>0.568293</td>\n",
              "    </tr>\n",
              "    <tr>\n",
              "      <th>...</th>\n",
              "      <td>...</td>\n",
              "      <td>...</td>\n",
              "      <td>...</td>\n",
              "      <td>...</td>\n",
              "      <td>...</td>\n",
              "      <td>...</td>\n",
              "    </tr>\n",
              "    <tr>\n",
              "      <th>210</th>\n",
              "      <td>0.981308</td>\n",
              "      <td>0.872564</td>\n",
              "      <td>0.741351</td>\n",
              "      <td>0.854167</td>\n",
              "      <td>0.818594</td>\n",
              "      <td>0.673171</td>\n",
              "    </tr>\n",
              "    <tr>\n",
              "      <th>211</th>\n",
              "      <td>0.985981</td>\n",
              "      <td>0.090330</td>\n",
              "      <td>0.378913</td>\n",
              "      <td>0.500000</td>\n",
              "      <td>0.352711</td>\n",
              "      <td>0.536585</td>\n",
              "    </tr>\n",
              "    <tr>\n",
              "      <th>212</th>\n",
              "      <td>0.990654</td>\n",
              "      <td>0.693778</td>\n",
              "      <td>0.494234</td>\n",
              "      <td>0.187500</td>\n",
              "      <td>0.538240</td>\n",
              "      <td>0.560976</td>\n",
              "    </tr>\n",
              "    <tr>\n",
              "      <th>213</th>\n",
              "      <td>0.995327</td>\n",
              "      <td>0.338081</td>\n",
              "      <td>0.477759</td>\n",
              "      <td>0.416667</td>\n",
              "      <td>0.682540</td>\n",
              "      <td>0.195122</td>\n",
              "    </tr>\n",
              "    <tr>\n",
              "      <th>214</th>\n",
              "      <td>1.000000</td>\n",
              "      <td>0.337706</td>\n",
              "      <td>0.345964</td>\n",
              "      <td>0.812500</td>\n",
              "      <td>0.435168</td>\n",
              "      <td>0.073171</td>\n",
              "    </tr>\n",
              "  </tbody>\n",
              "</table>\n",
              "<p>215 rows × 6 columns</p>\n",
              "</div>"
            ],
            "text/plain": [
              "        sl_no     mba_p     hsc_p   etest_p     ssc_p  degree_p\n",
              "0    0.000000  0.284483  0.889621  0.104167  0.538240  0.195122\n",
              "1    0.004673  0.564843  0.680890  0.760417  0.792414  0.670244\n",
              "2    0.009346  0.247001  0.510708  0.520833  0.497011  0.341463\n",
              "3    0.014019  0.308096  0.247117  0.333333  0.311482  0.048780\n",
              "4    0.018692  0.160795  0.602965  0.975000  0.925788  0.568293\n",
              "..        ...       ...       ...       ...       ...       ...\n",
              "210  0.981308  0.872564  0.741351  0.854167  0.818594  0.673171\n",
              "211  0.985981  0.090330  0.378913  0.500000  0.352711  0.536585\n",
              "212  0.990654  0.693778  0.494234  0.187500  0.538240  0.560976\n",
              "213  0.995327  0.338081  0.477759  0.416667  0.682540  0.195122\n",
              "214  1.000000  0.337706  0.345964  0.812500  0.435168  0.073171\n",
              "\n",
              "[215 rows x 6 columns]"
            ]
          },
          "metadata": {
            "tags": []
          },
          "execution_count": 54
        }
      ]
    },
    {
      "cell_type": "markdown",
      "metadata": {
        "id": "dEs1mbRCC9Uw"
      },
      "source": [
        "## **5- ExtraTreesRegressor**"
      ]
    },
    {
      "cell_type": "code",
      "metadata": {
        "id": "QKHoAWHgW0UG"
      },
      "source": [
        "from sklearn.ensemble import ExtraTreesRegressor\n",
        "from sklearn.model_selection import train_test_split\n",
        "from sklearn.metrics import accuracy_score as acc"
      ],
      "execution_count": 55,
      "outputs": []
    },
    {
      "cell_type": "code",
      "metadata": {
        "id": "1KIezkHaW6Y6"
      },
      "source": [
        "reg= ExtraTreesRegressor()\n"
      ],
      "execution_count": 56,
      "outputs": []
    },
    {
      "cell_type": "code",
      "metadata": {
        "id": "-E-B9TwWW8jR",
        "colab": {
          "base_uri": "https://localhost:8080/"
        },
        "outputId": "39c9235d-e676-4553-cfb1-b59f28cfde2b"
      },
      "source": [
        "reg.fit(X_train,y_train)\n"
      ],
      "execution_count": 57,
      "outputs": [
        {
          "output_type": "stream",
          "text": [
            "/usr/local/lib/python3.7/dist-packages/ipykernel_launcher.py:1: DataConversionWarning: A column-vector y was passed when a 1d array was expected. Please change the shape of y to (n_samples,), for example using ravel().\n",
            "  \"\"\"Entry point for launching an IPython kernel.\n"
          ],
          "name": "stderr"
        },
        {
          "output_type": "execute_result",
          "data": {
            "text/plain": [
              "ExtraTreesRegressor(bootstrap=False, ccp_alpha=0.0, criterion='mse',\n",
              "                    max_depth=None, max_features='auto', max_leaf_nodes=None,\n",
              "                    max_samples=None, min_impurity_decrease=0.0,\n",
              "                    min_impurity_split=None, min_samples_leaf=1,\n",
              "                    min_samples_split=2, min_weight_fraction_leaf=0.0,\n",
              "                    n_estimators=100, n_jobs=None, oob_score=False,\n",
              "                    random_state=None, verbose=0, warm_start=False)"
            ]
          },
          "metadata": {
            "tags": []
          },
          "execution_count": 57
        }
      ]
    },
    {
      "cell_type": "code",
      "metadata": {
        "colab": {
          "base_uri": "https://localhost:8080/"
        },
        "id": "Wy4rnbNwXXXc",
        "outputId": "6e9b7947-446c-4f23-ea2e-859d04c269d1"
      },
      "source": [
        "reg.feature_importances_\n"
      ],
      "execution_count": 58,
      "outputs": [
        {
          "output_type": "execute_result",
          "data": {
            "text/plain": [
              "array([0.07699165, 0.0293418 , 0.0844988 , 0.05288942, 0.08352577,\n",
              "       0.0473666 , 0.06290685, 0.12653859, 0.06038839, 0.0475845 ,\n",
              "       0.17848508, 0.10296371, 0.04651884])"
            ]
          },
          "metadata": {
            "tags": []
          },
          "execution_count": 58
        }
      ]
    },
    {
      "cell_type": "code",
      "metadata": {
        "colab": {
          "base_uri": "https://localhost:8080/",
          "height": 265
        },
        "id": "XbN6iqbAXe0P",
        "outputId": "37d706b7-8dc4-4197-dcb5-578e81eecdf0"
      },
      "source": [
        "feat_importances = pd.Series(reg.feature_importances_, index=X_train.columns)\n",
        "feat_importances.nlargest(5).plot(kind='barh')\n",
        "plt.show()"
      ],
      "execution_count": 59,
      "outputs": [
        {
          "output_type": "display_data",
          "data": {
            "image/png": "[encoded data removed]",
            "text/plain": [
              "<Figure size 432x288 with 1 Axes>"
            ]
          },
          "metadata": {
            "tags": [],
            "needs_background": "light"
          }
        }
      ]
    },
    {
      "cell_type": "markdown",
      "metadata": {
        "id": "R3H2avUbDO1O"
      },
      "source": [
        "## **6 — Features selection Using Information Gain For Classification**\n",
        "\n",
        "To understand this technique you need to have some statistical test knowledge like ANOVA test, t-test, chi-square test, p-value test."
      ]
    },
    {
      "cell_type": "markdown",
      "metadata": {
        "id": "TEmkwrceDkZa"
      },
      "source": [
        "**Mutual Information**\n"
      ]
    },
    {
      "cell_type": "markdown",
      "metadata": {
        "id": "F9ueqqzNDubs"
      },
      "source": [
        "MI Estimate mutual information for a discrete target variable.\n",
        "Mutual information (MI) between two random variables is a non-negative value, which measures the dependency between the variables. It is equal to zero if and only if two random variables are independent, and higher values mean higher dependency.\n",
        "The function relies on nonparametric methods based on entropy estimation from k-nearest neighbors distances."
      ]
    },
    {
      "cell_type": "markdown",
      "metadata": {
        "id": "SenylmjzD4Rc"
      },
      "source": [
        "In short\n",
        "A quantity called mutual information measures the amount of information one can obtain from one random variable given another.\n",
        "The mutual information between two random variables X and Y can be stated formally as follows:\n",
        "I(X; Y) = H(X) — H(X | Y) Where I(X; Y) is the mutual information for X and Y, H(X) is the entropy for X and H(X | Y) is the conditional entropy for X given Y. The result has units of bits."
      ]
    },
    {
      "cell_type": "markdown",
      "metadata": {
        "id": "91LJUEP5EGwx"
      },
      "source": [
        "**Import dataset**\n"
      ]
    },
    {
      "cell_type": "code",
      "metadata": {
        "colab": {
          "base_uri": "https://localhost:8080/",
          "height": 224
        },
        "id": "XXxZV9Z4EBV0",
        "outputId": "525728ef-200c-4293-9b74-c0f544e685de"
      },
      "source": [
        "import pandas as pd\n",
        "df=pd.read_csv('https://gist.githubusercontent.com/tijptjik/9408623/raw/b237fa5848349a14a14e5d4107dc7897c21951f5/wine.csv')\n",
        "df.head()"
      ],
      "execution_count": 62,
      "outputs": [
        {
          "output_type": "execute_result",
          "data": {
            "text/html": [
              "<div>\n",
              "<style scoped>\n",
              "    .dataframe tbody tr th:only-of-type {\n",
              "        vertical-align: middle;\n",
              "    }\n",
              "\n",
              "    .dataframe tbody tr th {\n",
              "        vertical-align: top;\n",
              "    }\n",
              "\n",
              "    .dataframe thead th {\n",
              "        text-align: right;\n",
              "    }\n",
              "</style>\n",
              "<table border=\"1\" class=\"dataframe\">\n",
              "  <thead>\n",
              "    <tr style=\"text-align: right;\">\n",
              "      <th></th>\n",
              "      <th>Wine</th>\n",
              "      <th>Alcohol</th>\n",
              "      <th>Malic.acid</th>\n",
              "      <th>Ash</th>\n",
              "      <th>Acl</th>\n",
              "      <th>Mg</th>\n",
              "      <th>Phenols</th>\n",
              "      <th>Flavanoids</th>\n",
              "      <th>Nonflavanoid.phenols</th>\n",
              "      <th>Proanth</th>\n",
              "      <th>Color.int</th>\n",
              "      <th>Hue</th>\n",
              "      <th>OD</th>\n",
              "      <th>Proline</th>\n",
              "    </tr>\n",
              "  </thead>\n",
              "  <tbody>\n",
              "    <tr>\n",
              "      <th>0</th>\n",
              "      <td>1</td>\n",
              "      <td>14.23</td>\n",
              "      <td>1.71</td>\n",
              "      <td>2.43</td>\n",
              "      <td>15.6</td>\n",
              "      <td>127</td>\n",
              "      <td>2.80</td>\n",
              "      <td>3.06</td>\n",
              "      <td>0.28</td>\n",
              "      <td>2.29</td>\n",
              "      <td>5.64</td>\n",
              "      <td>1.04</td>\n",
              "      <td>3.92</td>\n",
              "      <td>1065</td>\n",
              "    </tr>\n",
              "    <tr>\n",
              "      <th>1</th>\n",
              "      <td>1</td>\n",
              "      <td>13.20</td>\n",
              "      <td>1.78</td>\n",
              "      <td>2.14</td>\n",
              "      <td>11.2</td>\n",
              "      <td>100</td>\n",
              "      <td>2.65</td>\n",
              "      <td>2.76</td>\n",
              "      <td>0.26</td>\n",
              "      <td>1.28</td>\n",
              "      <td>4.38</td>\n",
              "      <td>1.05</td>\n",
              "      <td>3.40</td>\n",
              "      <td>1050</td>\n",
              "    </tr>\n",
              "    <tr>\n",
              "      <th>2</th>\n",
              "      <td>1</td>\n",
              "      <td>13.16</td>\n",
              "      <td>2.36</td>\n",
              "      <td>2.67</td>\n",
              "      <td>18.6</td>\n",
              "      <td>101</td>\n",
              "      <td>2.80</td>\n",
              "      <td>3.24</td>\n",
              "      <td>0.30</td>\n",
              "      <td>2.81</td>\n",
              "      <td>5.68</td>\n",
              "      <td>1.03</td>\n",
              "      <td>3.17</td>\n",
              "      <td>1185</td>\n",
              "    </tr>\n",
              "    <tr>\n",
              "      <th>3</th>\n",
              "      <td>1</td>\n",
              "      <td>14.37</td>\n",
              "      <td>1.95</td>\n",
              "      <td>2.50</td>\n",
              "      <td>16.8</td>\n",
              "      <td>113</td>\n",
              "      <td>3.85</td>\n",
              "      <td>3.49</td>\n",
              "      <td>0.24</td>\n",
              "      <td>2.18</td>\n",
              "      <td>7.80</td>\n",
              "      <td>0.86</td>\n",
              "      <td>3.45</td>\n",
              "      <td>1480</td>\n",
              "    </tr>\n",
              "    <tr>\n",
              "      <th>4</th>\n",
              "      <td>1</td>\n",
              "      <td>13.24</td>\n",
              "      <td>2.59</td>\n",
              "      <td>2.87</td>\n",
              "      <td>21.0</td>\n",
              "      <td>118</td>\n",
              "      <td>2.80</td>\n",
              "      <td>2.69</td>\n",
              "      <td>0.39</td>\n",
              "      <td>1.82</td>\n",
              "      <td>4.32</td>\n",
              "      <td>1.04</td>\n",
              "      <td>2.93</td>\n",
              "      <td>735</td>\n",
              "    </tr>\n",
              "  </tbody>\n",
              "</table>\n",
              "</div>"
            ],
            "text/plain": [
              "   Wine  Alcohol  Malic.acid   Ash  ...  Color.int   Hue    OD  Proline\n",
              "0     1    14.23        1.71  2.43  ...       5.64  1.04  3.92     1065\n",
              "1     1    13.20        1.78  2.14  ...       4.38  1.05  3.40     1050\n",
              "2     1    13.16        2.36  2.67  ...       5.68  1.03  3.17     1185\n",
              "3     1    14.37        1.95  2.50  ...       7.80  0.86  3.45     1480\n",
              "4     1    13.24        2.59  2.87  ...       4.32  1.04  2.93      735\n",
              "\n",
              "[5 rows x 14 columns]"
            ]
          },
          "metadata": {
            "tags": []
          },
          "execution_count": 62
        }
      ]
    },
    {
      "cell_type": "markdown",
      "metadata": {
        "id": "sBt1zOs4EMtW"
      },
      "source": [
        "**Checking how much unique values we have**\n"
      ]
    },
    {
      "cell_type": "code",
      "metadata": {
        "colab": {
          "base_uri": "https://localhost:8080/"
        },
        "id": "A0nUb5HLEPQ_",
        "outputId": "ddfb02cb-b48b-4e59-fe05-dfcf0c3d7860"
      },
      "source": [
        "df['Wine'].unique()"
      ],
      "execution_count": 63,
      "outputs": [
        {
          "output_type": "execute_result",
          "data": {
            "text/plain": [
              "array([1, 2, 3])"
            ]
          },
          "metadata": {
            "tags": []
          },
          "execution_count": 63
        }
      ]
    },
    {
      "cell_type": "markdown",
      "metadata": {
        "id": "n_7xi-gkEUeU"
      },
      "source": [
        "**Check the datatype of features**\n"
      ]
    },
    {
      "cell_type": "code",
      "metadata": {
        "colab": {
          "base_uri": "https://localhost:8080/"
        },
        "id": "LwTzjqJHEbOw",
        "outputId": "8ad6f6c2-a5f3-49ce-d33f-7f0f1324fd07"
      },
      "source": [
        "df.info()"
      ],
      "execution_count": 64,
      "outputs": [
        {
          "output_type": "stream",
          "text": [
            "<class 'pandas.core.frame.DataFrame'>\n",
            "RangeIndex: 178 entries, 0 to 177\n",
            "Data columns (total 14 columns):\n",
            " #   Column                Non-Null Count  Dtype  \n",
            "---  ------                --------------  -----  \n",
            " 0   Wine                  178 non-null    int64  \n",
            " 1   Alcohol               178 non-null    float64\n",
            " 2   Malic.acid            178 non-null    float64\n",
            " 3   Ash                   178 non-null    float64\n",
            " 4   Acl                   178 non-null    float64\n",
            " 5   Mg                    178 non-null    int64  \n",
            " 6   Phenols               178 non-null    float64\n",
            " 7   Flavanoids            178 non-null    float64\n",
            " 8   Nonflavanoid.phenols  178 non-null    float64\n",
            " 9   Proanth               178 non-null    float64\n",
            " 10  Color.int             178 non-null    float64\n",
            " 11  Hue                   178 non-null    float64\n",
            " 12  OD                    178 non-null    float64\n",
            " 13  Proline               178 non-null    int64  \n",
            "dtypes: float64(11), int64(3)\n",
            "memory usage: 19.6 KB\n"
          ],
          "name": "stdout"
        }
      ]
    },
    {
      "cell_type": "markdown",
      "metadata": {
        "id": "wHH9GfhlEh53"
      },
      "source": [
        "**Train test split**\n"
      ]
    },
    {
      "cell_type": "code",
      "metadata": {
        "id": "xjQbRgusEkpW"
      },
      "source": [
        "### Train test split to avoid overfitting\n",
        "from sklearn.model_selection import train_test_split\n",
        "X_train,X_test,y_train,y_test=train_test_split(df.drop(labels=['Wine'], axis=1),\n",
        "    df['Wine'],\n",
        "    test_size=0.3,\n",
        "    random_state=0)"
      ],
      "execution_count": 65,
      "outputs": []
    },
    {
      "cell_type": "markdown",
      "metadata": {
        "id": "aQwBkj3cEqZO"
      },
      "source": [
        "**X_train.head**"
      ]
    },
    {
      "cell_type": "code",
      "metadata": {
        "colab": {
          "base_uri": "https://localhost:8080/",
          "height": 224
        },
        "id": "VmRSB36bEwc0",
        "outputId": "6ff974b6-80eb-4153-88f1-aac7b2c95dea"
      },
      "source": [
        "X_train.head()"
      ],
      "execution_count": 66,
      "outputs": [
        {
          "output_type": "execute_result",
          "data": {
            "text/html": [
              "<div>\n",
              "<style scoped>\n",
              "    .dataframe tbody tr th:only-of-type {\n",
              "        vertical-align: middle;\n",
              "    }\n",
              "\n",
              "    .dataframe tbody tr th {\n",
              "        vertical-align: top;\n",
              "    }\n",
              "\n",
              "    .dataframe thead th {\n",
              "        text-align: right;\n",
              "    }\n",
              "</style>\n",
              "<table border=\"1\" class=\"dataframe\">\n",
              "  <thead>\n",
              "    <tr style=\"text-align: right;\">\n",
              "      <th></th>\n",
              "      <th>Alcohol</th>\n",
              "      <th>Malic.acid</th>\n",
              "      <th>Ash</th>\n",
              "      <th>Acl</th>\n",
              "      <th>Mg</th>\n",
              "      <th>Phenols</th>\n",
              "      <th>Flavanoids</th>\n",
              "      <th>Nonflavanoid.phenols</th>\n",
              "      <th>Proanth</th>\n",
              "      <th>Color.int</th>\n",
              "      <th>Hue</th>\n",
              "      <th>OD</th>\n",
              "      <th>Proline</th>\n",
              "    </tr>\n",
              "  </thead>\n",
              "  <tbody>\n",
              "    <tr>\n",
              "      <th>22</th>\n",
              "      <td>13.71</td>\n",
              "      <td>1.86</td>\n",
              "      <td>2.36</td>\n",
              "      <td>16.6</td>\n",
              "      <td>101</td>\n",
              "      <td>2.61</td>\n",
              "      <td>2.88</td>\n",
              "      <td>0.27</td>\n",
              "      <td>1.69</td>\n",
              "      <td>3.80</td>\n",
              "      <td>1.11</td>\n",
              "      <td>4.00</td>\n",
              "      <td>1035</td>\n",
              "    </tr>\n",
              "    <tr>\n",
              "      <th>108</th>\n",
              "      <td>12.22</td>\n",
              "      <td>1.29</td>\n",
              "      <td>1.94</td>\n",
              "      <td>19.0</td>\n",
              "      <td>92</td>\n",
              "      <td>2.36</td>\n",
              "      <td>2.04</td>\n",
              "      <td>0.39</td>\n",
              "      <td>2.08</td>\n",
              "      <td>2.70</td>\n",
              "      <td>0.86</td>\n",
              "      <td>3.02</td>\n",
              "      <td>312</td>\n",
              "    </tr>\n",
              "    <tr>\n",
              "      <th>175</th>\n",
              "      <td>13.27</td>\n",
              "      <td>4.28</td>\n",
              "      <td>2.26</td>\n",
              "      <td>20.0</td>\n",
              "      <td>120</td>\n",
              "      <td>1.59</td>\n",
              "      <td>0.69</td>\n",
              "      <td>0.43</td>\n",
              "      <td>1.35</td>\n",
              "      <td>10.20</td>\n",
              "      <td>0.59</td>\n",
              "      <td>1.56</td>\n",
              "      <td>835</td>\n",
              "    </tr>\n",
              "    <tr>\n",
              "      <th>145</th>\n",
              "      <td>13.16</td>\n",
              "      <td>3.57</td>\n",
              "      <td>2.15</td>\n",
              "      <td>21.0</td>\n",
              "      <td>102</td>\n",
              "      <td>1.50</td>\n",
              "      <td>0.55</td>\n",
              "      <td>0.43</td>\n",
              "      <td>1.30</td>\n",
              "      <td>4.00</td>\n",
              "      <td>0.60</td>\n",
              "      <td>1.68</td>\n",
              "      <td>830</td>\n",
              "    </tr>\n",
              "    <tr>\n",
              "      <th>71</th>\n",
              "      <td>13.86</td>\n",
              "      <td>1.51</td>\n",
              "      <td>2.67</td>\n",
              "      <td>25.0</td>\n",
              "      <td>86</td>\n",
              "      <td>2.95</td>\n",
              "      <td>2.86</td>\n",
              "      <td>0.21</td>\n",
              "      <td>1.87</td>\n",
              "      <td>3.38</td>\n",
              "      <td>1.36</td>\n",
              "      <td>3.16</td>\n",
              "      <td>410</td>\n",
              "    </tr>\n",
              "  </tbody>\n",
              "</table>\n",
              "</div>"
            ],
            "text/plain": [
              "     Alcohol  Malic.acid   Ash   Acl  ...  Color.int   Hue    OD  Proline\n",
              "22     13.71        1.86  2.36  16.6  ...       3.80  1.11  4.00     1035\n",
              "108    12.22        1.29  1.94  19.0  ...       2.70  0.86  3.02      312\n",
              "175    13.27        4.28  2.26  20.0  ...      10.20  0.59  1.56      835\n",
              "145    13.16        3.57  2.15  21.0  ...       4.00  0.60  1.68      830\n",
              "71     13.86        1.51  2.67  25.0  ...       3.38  1.36  3.16      410\n",
              "\n",
              "[5 rows x 13 columns]"
            ]
          },
          "metadata": {
            "tags": []
          },
          "execution_count": 66
        }
      ]
    },
    {
      "cell_type": "markdown",
      "metadata": {
        "id": "ALWKudLQE4FY"
      },
      "source": [
        "Note- Remove all the null values from the train and test dataset before applying mutual_info_classify."
      ]
    },
    {
      "cell_type": "markdown",
      "metadata": {
        "id": "swmKE0HYE-h0"
      },
      "source": [
        "A high value for any feature means that a particular feature is the best feature."
      ]
    },
    {
      "cell_type": "code",
      "metadata": {
        "colab": {
          "base_uri": "https://localhost:8080/"
        },
        "id": "ZsQLFL8zFCNg",
        "outputId": "51a05f9f-8c34-412b-b0d9-b2584d65be46"
      },
      "source": [
        "from sklearn.feature_selection import mutual_info_classif\n",
        "# determine the mutual information\n",
        "mutual_info = mutual_info_classif(X_train, y_train)\n",
        "mutual_info"
      ],
      "execution_count": 67,
      "outputs": [
        {
          "output_type": "execute_result",
          "data": {
            "text/plain": [
              "array([0.42098176, 0.30039584, 0.17516609, 0.26843333, 0.19528061,\n",
              "       0.48260015, 0.71462948, 0.1175939 , 0.27529979, 0.61606739,\n",
              "       0.56116403, 0.54666629, 0.53016593])"
            ]
          },
          "metadata": {
            "tags": []
          },
          "execution_count": 67
        }
      ]
    },
    {
      "cell_type": "markdown",
      "metadata": {
        "id": "T1NI3s12FJFR"
      },
      "source": [
        "Converting the information of features into series\n"
      ]
    },
    {
      "cell_type": "code",
      "metadata": {
        "colab": {
          "base_uri": "https://localhost:8080/"
        },
        "id": "f-L3Mu89FLIH",
        "outputId": "20fb647c-5efb-45bd-fd86-2f9ebaaf653a"
      },
      "source": [
        "mutual_info = pd.Series(mutual_info)\n",
        "mutual_info.index = X_train.columns\n",
        "mutual_info.sort_values(ascending=False)"
      ],
      "execution_count": 68,
      "outputs": [
        {
          "output_type": "execute_result",
          "data": {
            "text/plain": [
              "Flavanoids              0.714629\n",
              "Color.int               0.616067\n",
              "Hue                     0.561164\n",
              "OD                      0.546666\n",
              "Proline                 0.530166\n",
              "Phenols                 0.482600\n",
              "Alcohol                 0.420982\n",
              "Malic.acid              0.300396\n",
              "Proanth                 0.275300\n",
              "Acl                     0.268433\n",
              "Mg                      0.195281\n",
              "Ash                     0.175166\n",
              "Nonflavanoid.phenols    0.117594\n",
              "dtype: float64"
            ]
          },
          "metadata": {
            "tags": []
          },
          "execution_count": 68
        }
      ]
    },
    {
      "cell_type": "markdown",
      "metadata": {
        "id": "h-cmGdkYFSWy"
      },
      "source": [
        "Let’s plot the ordered mutual_info values per feature\n"
      ]
    },
    {
      "cell_type": "code",
      "metadata": {
        "colab": {
          "base_uri": "https://localhost:8080/",
          "height": 618
        },
        "id": "zin-5HeAFQ8J",
        "outputId": "0912b264-30b6-41cf-edca-a0631b42a212"
      },
      "source": [
        "mutual_info.sort_values(ascending=False).plot.bar(figsize=(20, 8))\n"
      ],
      "execution_count": 69,
      "outputs": [
        {
          "output_type": "execute_result",
          "data": {
            "text/plain": [
              "<matplotlib.axes._subplots.AxesSubplot at 0x7efbb7c1fd90>"
            ]
          },
          "metadata": {
            "tags": []
          },
          "execution_count": 69
        },
        {
          "output_type": "display_data",
          "data": {
            "image/png": "[encoded data removed]",
            "text/plain": [
              "<Figure size 1440x576 with 1 Axes>"
            ]
          },
          "metadata": {
            "tags": [],
            "needs_background": "light"
          }
        }
      ]
    },
    {
      "cell_type": "markdown",
      "metadata": {
        "id": "83e1y3RVFcCr"
      },
      "source": [
        "Import selectkbest function to pick top features\n"
      ]
    },
    {
      "cell_type": "code",
      "metadata": {
        "id": "K_yyHtu9FbK0"
      },
      "source": [
        "from sklearn.feature_selection import SelectKBest"
      ],
      "execution_count": 70,
      "outputs": []
    },
    {
      "cell_type": "markdown",
      "metadata": {
        "id": "D6tqOHEOFiR-"
      },
      "source": [
        "We will take only the top 5 features as our independent features"
      ]
    },
    {
      "cell_type": "code",
      "metadata": {
        "colab": {
          "base_uri": "https://localhost:8080/"
        },
        "id": "JNLQnnAcFmEs",
        "outputId": "2795aacc-0746-49de-8ee2-90c703e5bede"
      },
      "source": [
        "#No we Will select the  top 5 important features\n",
        "sel_five_cols = SelectKBest(mutual_info_classif, k=5)\n",
        "sel_five_cols.fit(X_train, y_train)\n",
        "X_train.columns[sel_five_cols.get_support()]"
      ],
      "execution_count": 71,
      "outputs": [
        {
          "output_type": "execute_result",
          "data": {
            "text/plain": [
              "Index(['Flavanoids', 'Color.int', 'Hue', 'OD', 'Proline'], dtype='object')"
            ]
          },
          "metadata": {
            "tags": []
          },
          "execution_count": 71
        }
      ]
    },
    {
      "cell_type": "markdown",
      "metadata": {
        "id": "mnSXR8j-FrPb"
      },
      "source": [
        "## **7 — Features selection Using Information Gain For Regression**"
      ]
    },
    {
      "cell_type": "markdown",
      "metadata": {
        "id": "5vYkEZARNftx"
      },
      "source": [
        "**Mutual Information**\n"
      ]
    },
    {
      "cell_type": "markdown",
      "metadata": {
        "id": "FIKgruKdNtv-"
      },
      "source": [
        "Estimate mutual information for a continuous target variable.\n",
        "Mutual information (MI) between two random variables is a non-negative value, which measures the dependency between the variables. It is equal to zero if and only if two random variables are independent, and higher values mean higher dependency.\n",
        "The function relies on nonparametric methods based on entropy estimation from k-nearest neighbors distances\n",
        "Mutual information is calculated between two variables and measures the reduction in uncertainty for one variable given a known value of the other variable."
      ]
    },
    {
      "cell_type": "markdown",
      "metadata": {
        "id": "Ih-UHC57N24f"
      },
      "source": [
        "In short\n",
        "A quantity called mutual information measures the amount of information one can obtain from one random variable given another.\n",
        "The mutual information between two random variables X and Y can be stated formally as follows:\n",
        "I(X; Y) = H(X) — H(X | Y) Where I(X; Y) is the mutual information for X and Y, H(X) is the entropy for X and H(X | Y) is the conditional entropy for X given Y. The result has units of bits.\n",
        "Here we are trying to find out the best features based on the specific sales price. And ales price is a continuous target variable."
      ]
    },
    {
      "cell_type": "code",
      "metadata": {
        "id": "2Pb_yB3QPH0k"
      },
      "source": [
        "import pandas as pd\n",
        "housing_df=pd.read_csv('/content/drive/MyDrive/Datasets/house prince_train.csv')"
      ],
      "execution_count": 72,
      "outputs": []
    },
    {
      "cell_type": "code",
      "metadata": {
        "id": "YgR7TGI5PSZS"
      },
      "source": [
        "housing_df.head()"
      ],
      "execution_count": null,
      "outputs": []
    },
    {
      "cell_type": "code",
      "metadata": {
        "id": "aYYkatFLPSnO"
      },
      "source": [
        "housing_df.info()"
      ],
      "execution_count": null,
      "outputs": []
    },
    {
      "cell_type": "markdown",
      "metadata": {
        "id": "W4Xyrsw_Pe6Y"
      },
      "source": [
        "Check null values\n"
      ]
    },
    {
      "cell_type": "code",
      "metadata": {
        "id": "1O6DmPMoPiPZ"
      },
      "source": [
        "housing_df.isnull().sum()"
      ],
      "execution_count": null,
      "outputs": []
    },
    {
      "cell_type": "markdown",
      "metadata": {
        "id": "-d4waHGmPm1y"
      },
      "source": [
        "**Taking only numerical variables to apply mutual information**"
      ]
    },
    {
      "cell_type": "code",
      "metadata": {
        "id": "FIseYPx-PpHD"
      },
      "source": [
        "numeric_lst=['int16', 'int32', 'int64', 'float16', 'float32', 'float64']\n",
        "numerical_cols = list(housing_df.select_dtypes(include=numeric_lst).columns)"
      ],
      "execution_count": 77,
      "outputs": []
    },
    {
      "cell_type": "markdown",
      "metadata": {
        "id": "yGtEvM1MPyHS"
      },
      "source": [
        "We have to find out mutual information with respect to each and every feature along with sales price"
      ]
    },
    {
      "cell_type": "markdown",
      "metadata": {
        "id": "cEWg4_B6P1gr"
      },
      "source": [
        "Numericals Columns\n"
      ]
    },
    {
      "cell_type": "code",
      "metadata": {
        "id": "EPBxnXHCP7M-"
      },
      "source": [
        "numerical_cols"
      ],
      "execution_count": null,
      "outputs": []
    },
    {
      "cell_type": "markdown",
      "metadata": {
        "id": "KGMoAsHoQAwm"
      },
      "source": [
        "Creating a data frame for all the numerical_cols"
      ]
    },
    {
      "cell_type": "code",
      "metadata": {
        "id": "DnP23-I5QD_e"
      },
      "source": [
        "housing_df=housing_df[numerical_cols]"
      ],
      "execution_count": 79,
      "outputs": []
    },
    {
      "cell_type": "code",
      "metadata": {
        "colab": {
          "base_uri": "https://localhost:8080/",
          "height": 224
        },
        "id": "ShS94cdNQHWq",
        "outputId": "b6e8355b-4ed7-4169-fc19-f34e59c53c94"
      },
      "source": [
        "housing_df.head()"
      ],
      "execution_count": 81,
      "outputs": [
        {
          "output_type": "execute_result",
          "data": {
            "text/html": [
              "<div>\n",
              "<style scoped>\n",
              "    .dataframe tbody tr th:only-of-type {\n",
              "        vertical-align: middle;\n",
              "    }\n",
              "\n",
              "    .dataframe tbody tr th {\n",
              "        vertical-align: top;\n",
              "    }\n",
              "\n",
              "    .dataframe thead th {\n",
              "        text-align: right;\n",
              "    }\n",
              "</style>\n",
              "<table border=\"1\" class=\"dataframe\">\n",
              "  <thead>\n",
              "    <tr style=\"text-align: right;\">\n",
              "      <th></th>\n",
              "      <th>Id</th>\n",
              "      <th>MSSubClass</th>\n",
              "      <th>LotFrontage</th>\n",
              "      <th>LotArea</th>\n",
              "      <th>OverallQual</th>\n",
              "      <th>OverallCond</th>\n",
              "      <th>YearBuilt</th>\n",
              "      <th>YearRemodAdd</th>\n",
              "      <th>MasVnrArea</th>\n",
              "      <th>BsmtFinSF1</th>\n",
              "      <th>BsmtFinSF2</th>\n",
              "      <th>BsmtUnfSF</th>\n",
              "      <th>TotalBsmtSF</th>\n",
              "      <th>1stFlrSF</th>\n",
              "      <th>2ndFlrSF</th>\n",
              "      <th>LowQualFinSF</th>\n",
              "      <th>GrLivArea</th>\n",
              "      <th>BsmtFullBath</th>\n",
              "      <th>BsmtHalfBath</th>\n",
              "      <th>FullBath</th>\n",
              "      <th>HalfBath</th>\n",
              "      <th>BedroomAbvGr</th>\n",
              "      <th>KitchenAbvGr</th>\n",
              "      <th>TotRmsAbvGrd</th>\n",
              "      <th>Fireplaces</th>\n",
              "      <th>GarageYrBlt</th>\n",
              "      <th>GarageCars</th>\n",
              "      <th>GarageArea</th>\n",
              "      <th>WoodDeckSF</th>\n",
              "      <th>OpenPorchSF</th>\n",
              "      <th>EnclosedPorch</th>\n",
              "      <th>3SsnPorch</th>\n",
              "      <th>ScreenPorch</th>\n",
              "      <th>PoolArea</th>\n",
              "      <th>MiscVal</th>\n",
              "      <th>MoSold</th>\n",
              "      <th>YrSold</th>\n",
              "      <th>SalePrice</th>\n",
              "    </tr>\n",
              "  </thead>\n",
              "  <tbody>\n",
              "    <tr>\n",
              "      <th>0</th>\n",
              "      <td>1</td>\n",
              "      <td>60</td>\n",
              "      <td>65.0</td>\n",
              "      <td>8450</td>\n",
              "      <td>7</td>\n",
              "      <td>5</td>\n",
              "      <td>2003</td>\n",
              "      <td>2003</td>\n",
              "      <td>196.0</td>\n",
              "      <td>706</td>\n",
              "      <td>0</td>\n",
              "      <td>150</td>\n",
              "      <td>856</td>\n",
              "      <td>856</td>\n",
              "      <td>854</td>\n",
              "      <td>0</td>\n",
              "      <td>1710</td>\n",
              "      <td>1</td>\n",
              "      <td>0</td>\n",
              "      <td>2</td>\n",
              "      <td>1</td>\n",
              "      <td>3</td>\n",
              "      <td>1</td>\n",
              "      <td>8</td>\n",
              "      <td>0</td>\n",
              "      <td>2003.0</td>\n",
              "      <td>2</td>\n",
              "      <td>548</td>\n",
              "      <td>0</td>\n",
              "      <td>61</td>\n",
              "      <td>0</td>\n",
              "      <td>0</td>\n",
              "      <td>0</td>\n",
              "      <td>0</td>\n",
              "      <td>0</td>\n",
              "      <td>2</td>\n",
              "      <td>2008</td>\n",
              "      <td>208500</td>\n",
              "    </tr>\n",
              "    <tr>\n",
              "      <th>1</th>\n",
              "      <td>2</td>\n",
              "      <td>20</td>\n",
              "      <td>80.0</td>\n",
              "      <td>9600</td>\n",
              "      <td>6</td>\n",
              "      <td>8</td>\n",
              "      <td>1976</td>\n",
              "      <td>1976</td>\n",
              "      <td>0.0</td>\n",
              "      <td>978</td>\n",
              "      <td>0</td>\n",
              "      <td>284</td>\n",
              "      <td>1262</td>\n",
              "      <td>1262</td>\n",
              "      <td>0</td>\n",
              "      <td>0</td>\n",
              "      <td>1262</td>\n",
              "      <td>0</td>\n",
              "      <td>1</td>\n",
              "      <td>2</td>\n",
              "      <td>0</td>\n",
              "      <td>3</td>\n",
              "      <td>1</td>\n",
              "      <td>6</td>\n",
              "      <td>1</td>\n",
              "      <td>1976.0</td>\n",
              "      <td>2</td>\n",
              "      <td>460</td>\n",
              "      <td>298</td>\n",
              "      <td>0</td>\n",
              "      <td>0</td>\n",
              "      <td>0</td>\n",
              "      <td>0</td>\n",
              "      <td>0</td>\n",
              "      <td>0</td>\n",
              "      <td>5</td>\n",
              "      <td>2007</td>\n",
              "      <td>181500</td>\n",
              "    </tr>\n",
              "    <tr>\n",
              "      <th>2</th>\n",
              "      <td>3</td>\n",
              "      <td>60</td>\n",
              "      <td>68.0</td>\n",
              "      <td>11250</td>\n",
              "      <td>7</td>\n",
              "      <td>5</td>\n",
              "      <td>2001</td>\n",
              "      <td>2002</td>\n",
              "      <td>162.0</td>\n",
              "      <td>486</td>\n",
              "      <td>0</td>\n",
              "      <td>434</td>\n",
              "      <td>920</td>\n",
              "      <td>920</td>\n",
              "      <td>866</td>\n",
              "      <td>0</td>\n",
              "      <td>1786</td>\n",
              "      <td>1</td>\n",
              "      <td>0</td>\n",
              "      <td>2</td>\n",
              "      <td>1</td>\n",
              "      <td>3</td>\n",
              "      <td>1</td>\n",
              "      <td>6</td>\n",
              "      <td>1</td>\n",
              "      <td>2001.0</td>\n",
              "      <td>2</td>\n",
              "      <td>608</td>\n",
              "      <td>0</td>\n",
              "      <td>42</td>\n",
              "      <td>0</td>\n",
              "      <td>0</td>\n",
              "      <td>0</td>\n",
              "      <td>0</td>\n",
              "      <td>0</td>\n",
              "      <td>9</td>\n",
              "      <td>2008</td>\n",
              "      <td>223500</td>\n",
              "    </tr>\n",
              "    <tr>\n",
              "      <th>3</th>\n",
              "      <td>4</td>\n",
              "      <td>70</td>\n",
              "      <td>60.0</td>\n",
              "      <td>9550</td>\n",
              "      <td>7</td>\n",
              "      <td>5</td>\n",
              "      <td>1915</td>\n",
              "      <td>1970</td>\n",
              "      <td>0.0</td>\n",
              "      <td>216</td>\n",
              "      <td>0</td>\n",
              "      <td>540</td>\n",
              "      <td>756</td>\n",
              "      <td>961</td>\n",
              "      <td>756</td>\n",
              "      <td>0</td>\n",
              "      <td>1717</td>\n",
              "      <td>1</td>\n",
              "      <td>0</td>\n",
              "      <td>1</td>\n",
              "      <td>0</td>\n",
              "      <td>3</td>\n",
              "      <td>1</td>\n",
              "      <td>7</td>\n",
              "      <td>1</td>\n",
              "      <td>1998.0</td>\n",
              "      <td>3</td>\n",
              "      <td>642</td>\n",
              "      <td>0</td>\n",
              "      <td>35</td>\n",
              "      <td>272</td>\n",
              "      <td>0</td>\n",
              "      <td>0</td>\n",
              "      <td>0</td>\n",
              "      <td>0</td>\n",
              "      <td>2</td>\n",
              "      <td>2006</td>\n",
              "      <td>140000</td>\n",
              "    </tr>\n",
              "    <tr>\n",
              "      <th>4</th>\n",
              "      <td>5</td>\n",
              "      <td>60</td>\n",
              "      <td>84.0</td>\n",
              "      <td>14260</td>\n",
              "      <td>8</td>\n",
              "      <td>5</td>\n",
              "      <td>2000</td>\n",
              "      <td>2000</td>\n",
              "      <td>350.0</td>\n",
              "      <td>655</td>\n",
              "      <td>0</td>\n",
              "      <td>490</td>\n",
              "      <td>1145</td>\n",
              "      <td>1145</td>\n",
              "      <td>1053</td>\n",
              "      <td>0</td>\n",
              "      <td>2198</td>\n",
              "      <td>1</td>\n",
              "      <td>0</td>\n",
              "      <td>2</td>\n",
              "      <td>1</td>\n",
              "      <td>4</td>\n",
              "      <td>1</td>\n",
              "      <td>9</td>\n",
              "      <td>1</td>\n",
              "      <td>2000.0</td>\n",
              "      <td>3</td>\n",
              "      <td>836</td>\n",
              "      <td>192</td>\n",
              "      <td>84</td>\n",
              "      <td>0</td>\n",
              "      <td>0</td>\n",
              "      <td>0</td>\n",
              "      <td>0</td>\n",
              "      <td>0</td>\n",
              "      <td>12</td>\n",
              "      <td>2008</td>\n",
              "      <td>250000</td>\n",
              "    </tr>\n",
              "  </tbody>\n",
              "</table>\n",
              "</div>"
            ],
            "text/plain": [
              "   Id  MSSubClass  LotFrontage  LotArea  ...  MiscVal  MoSold  YrSold  SalePrice\n",
              "0   1          60         65.0     8450  ...        0       2    2008     208500\n",
              "1   2          20         80.0     9600  ...        0       5    2007     181500\n",
              "2   3          60         68.0    11250  ...        0       9    2008     223500\n",
              "3   4          70         60.0     9550  ...        0       2    2006     140000\n",
              "4   5          60         84.0    14260  ...        0      12    2008     250000\n",
              "\n",
              "[5 rows x 38 columns]"
            ]
          },
          "metadata": {
            "tags": []
          },
          "execution_count": 81
        }
      ]
    },
    {
      "cell_type": "markdown",
      "metadata": {
        "id": "pKB3r9n4QM4H"
      },
      "source": [
        "Remove ID column\n"
      ]
    },
    {
      "cell_type": "code",
      "metadata": {
        "id": "xDmaYgITQLXB"
      },
      "source": [
        "housing_df=housing_df.drop(\"Id\",axis=1)\n"
      ],
      "execution_count": 82,
      "outputs": []
    },
    {
      "cell_type": "code",
      "metadata": {
        "id": "z4-fgRoqQWC0"
      },
      "source": [
        "#Train and Test Split\n",
        "### It is always a good practice to split train and test data to avoid\n",
        "#overfitting\n",
        "from sklearn.model_selection import train_test_split\n",
        "X_train,X_test,y_train,y_test=train_test_split(housing_df.drop(labels=['SalePrice'], axis=1),\n",
        "    housing_df['SalePrice'],\n",
        "    test_size=0.3,\n",
        "    random_state=0)"
      ],
      "execution_count": 83,
      "outputs": []
    },
    {
      "cell_type": "code",
      "metadata": {
        "id": "7xrCleUEQexC"
      },
      "source": [
        "X_train"
      ],
      "execution_count": null,
      "outputs": []
    },
    {
      "cell_type": "markdown",
      "metadata": {
        "id": "WKLhQCUcQkVv"
      },
      "source": [
        "Check null values\n"
      ]
    },
    {
      "cell_type": "code",
      "metadata": {
        "id": "XKCQDiHMQjsc"
      },
      "source": [
        "X_train.isnull().sum()"
      ],
      "execution_count": null,
      "outputs": []
    },
    {
      "cell_type": "markdown",
      "metadata": {
        "id": "4praIhFAQr_E"
      },
      "source": [
        "Applying mutual_info_regressionand filling null values with zero"
      ]
    },
    {
      "cell_type": "markdown",
      "metadata": {
        "id": "aGMpEtosQwE1"
      },
      "source": [
        "The higher the value you get for any feature, the better it is and more dependent on to target feature."
      ]
    },
    {
      "cell_type": "code",
      "metadata": {
        "colab": {
          "base_uri": "https://localhost:8080/"
        },
        "id": "QnkcqWMNQttD",
        "outputId": "2c796ce6-5b3d-4bc1-9df3-d892105d293c"
      },
      "source": [
        "from sklearn.feature_selection import mutual_info_regression\n",
        "# determine the mutual information\n",
        "mutual_info = mutual_info_regression(X_train.fillna(0), y_train)\n",
        "mutual_info"
      ],
      "execution_count": 86,
      "outputs": [
        {
          "output_type": "execute_result",
          "data": {
            "text/plain": [
              "array([0.2491294 , 0.21069317, 0.16694223, 0.53286437, 0.09848452,\n",
              "       0.34950411, 0.25422466, 0.10522903, 0.16412815, 0.00825104,\n",
              "       0.11565111, 0.38312062, 0.31260064, 0.22296479, 0.        ,\n",
              "       0.48319691, 0.03544364, 0.        , 0.26410915, 0.08236791,\n",
              "       0.04441535, 0.01748042, 0.18046341, 0.18192815, 0.27065734,\n",
              "       0.39004003, 0.3682535 , 0.07795326, 0.16963796, 0.01877224,\n",
              "       0.00187608, 0.01619159, 0.        , 0.        , 0.        ,\n",
              "       0.00592684])"
            ]
          },
          "metadata": {
            "tags": []
          },
          "execution_count": 86
        }
      ]
    },
    {
      "cell_type": "markdown",
      "metadata": {
        "id": "hWhNzXKNQ6X0"
      },
      "source": [
        "Mutual information (MI) [1] between two random variables is a non-negative value, which measures the dependency between the variables. It is equal to zero if and only if two random variables are independent, and higher values mean higher dependency. As the value near to one the more dependent that particular feature is."
      ]
    },
    {
      "cell_type": "markdown",
      "metadata": {
        "id": "fXVXgmE1Q-A3"
      },
      "source": [
        "Converting all the values into series\n"
      ]
    },
    {
      "cell_type": "code",
      "metadata": {
        "colab": {
          "base_uri": "https://localhost:8080/"
        },
        "id": "kPAtFic9Q5lx",
        "outputId": "ab8c295b-7296-4245-8e6f-d1e8feef7849"
      },
      "source": [
        "mutual_info = pd.Series(mutual_info)\n",
        "mutual_info.index = X_train.columns\n",
        "mutual_info.sort_values(ascending=False)"
      ],
      "execution_count": 87,
      "outputs": [
        {
          "output_type": "execute_result",
          "data": {
            "text/plain": [
              "OverallQual      0.532864\n",
              "GrLivArea        0.483197\n",
              "GarageCars       0.390040\n",
              "TotalBsmtSF      0.383121\n",
              "GarageArea       0.368253\n",
              "YearBuilt        0.349504\n",
              "1stFlrSF         0.312601\n",
              "GarageYrBlt      0.270657\n",
              "FullBath         0.264109\n",
              "YearRemodAdd     0.254225\n",
              "MSSubClass       0.249129\n",
              "2ndFlrSF         0.222965\n",
              "LotFrontage      0.210693\n",
              "Fireplaces       0.181928\n",
              "TotRmsAbvGrd     0.180463\n",
              "OpenPorchSF      0.169638\n",
              "LotArea          0.166942\n",
              "BsmtFinSF1       0.164128\n",
              "BsmtUnfSF        0.115651\n",
              "MasVnrArea       0.105229\n",
              "OverallCond      0.098485\n",
              "HalfBath         0.082368\n",
              "WoodDeckSF       0.077953\n",
              "BedroomAbvGr     0.044415\n",
              "BsmtFullBath     0.035444\n",
              "EnclosedPorch    0.018772\n",
              "KitchenAbvGr     0.017480\n",
              "ScreenPorch      0.016192\n",
              "BsmtFinSF2       0.008251\n",
              "YrSold           0.005927\n",
              "3SsnPorch        0.001876\n",
              "LowQualFinSF     0.000000\n",
              "MoSold           0.000000\n",
              "PoolArea         0.000000\n",
              "MiscVal          0.000000\n",
              "BsmtHalfBath     0.000000\n",
              "dtype: float64"
            ]
          },
          "metadata": {
            "tags": []
          },
          "execution_count": 87
        }
      ]
    },
    {
      "cell_type": "markdown",
      "metadata": {
        "id": "xkbAVp27RHjq"
      },
      "source": [
        "Plot the bar graph for mutual info\n"
      ]
    },
    {
      "cell_type": "code",
      "metadata": {
        "id": "kgS_-7VNRKbe"
      },
      "source": [
        "mutual_info.sort_values(ascending=False).plot.bar(figsize=(15,5))"
      ],
      "execution_count": null,
      "outputs": []
    },
    {
      "cell_type": "markdown",
      "metadata": {
        "id": "USqpkYNMRP-7"
      },
      "source": [
        "Import SelectPercentile to choose top columns\n"
      ]
    },
    {
      "cell_type": "code",
      "metadata": {
        "id": "e6FmdP4cRTBC"
      },
      "source": [
        "from sklearn.feature_selection import SelectPercentile"
      ],
      "execution_count": 89,
      "outputs": []
    },
    {
      "cell_type": "markdown",
      "metadata": {
        "id": "OrSU1xBgRXMQ"
      },
      "source": [
        "We will choose only top percentile features. SelectPercentile helps us to choose the top feature out of all the features."
      ]
    },
    {
      "cell_type": "code",
      "metadata": {
        "colab": {
          "base_uri": "https://localhost:8080/"
        },
        "id": "8k7_vEBARbJs",
        "outputId": "79ff4564-cd98-4516-ee1b-97485af53361"
      },
      "source": [
        "#Selecting the top 20 percentile\n",
        "selected_top_columns = SelectPercentile(mutual_info_regression, percentile=20)\n",
        "selected_top_columns.fit(X_train.fillna(0), y_train)\n"
      ],
      "execution_count": 90,
      "outputs": [
        {
          "output_type": "execute_result",
          "data": {
            "text/plain": [
              "SelectPercentile(percentile=20,\n",
              "                 score_func=<function mutual_info_regression at 0x7efbc5d40b00>)"
            ]
          },
          "metadata": {
            "tags": []
          },
          "execution_count": 90
        }
      ]
    },
    {
      "cell_type": "markdown",
      "metadata": {
        "id": "Otwmwx0gRjOG"
      },
      "source": [
        "Here, false means that a particular feature is not belonging to the top 20 percentile."
      ]
    },
    {
      "cell_type": "code",
      "metadata": {
        "colab": {
          "base_uri": "https://localhost:8080/"
        },
        "id": "dQ-Tt5WXRmlj",
        "outputId": "29376d2a-652f-4280-de2a-784f0efc499c"
      },
      "source": [
        "selected_top_columns.get_support()"
      ],
      "execution_count": 91,
      "outputs": [
        {
          "output_type": "execute_result",
          "data": {
            "text/plain": [
              "array([False, False, False,  True, False,  True, False, False, False,\n",
              "       False, False,  True,  True, False, False,  True, False, False,\n",
              "       False, False, False, False, False, False, False,  True,  True,\n",
              "       False, False, False, False, False, False, False, False, False])"
            ]
          },
          "metadata": {
            "tags": []
          },
          "execution_count": 91
        }
      ]
    },
    {
      "cell_type": "markdown",
      "metadata": {
        "id": "ZeSB58eURq5G"
      },
      "source": [
        "Getting top most important feature\n"
      ]
    },
    {
      "cell_type": "code",
      "metadata": {
        "colab": {
          "base_uri": "https://localhost:8080/"
        },
        "id": "1qVIFshQRqNQ",
        "outputId": "c15ee37a-41b0-45cf-9fa0-81f48d092d3b"
      },
      "source": [
        "X_train.columns[selected_top_columns.get_support()]"
      ],
      "execution_count": 92,
      "outputs": [
        {
          "output_type": "execute_result",
          "data": {
            "text/plain": [
              "Index(['OverallQual', 'YearBuilt', 'TotalBsmtSF', '1stFlrSF', 'GrLivArea',\n",
              "       'GarageCars', 'GarageArea'],\n",
              "      dtype='object')"
            ]
          },
          "metadata": {
            "tags": []
          },
          "execution_count": 92
        }
      ]
    },
    {
      "cell_type": "markdown",
      "metadata": {
        "id": "VPECVYl5R2aI"
      },
      "source": [
        "## **8 — Feature Selection Using Chi2 Statistical Analysis**"
      ]
    },
    {
      "cell_type": "markdown",
      "metadata": {
        "id": "p3uRbTjqVsbD"
      },
      "source": [
        "**Fisher Score- Chisquare Test For Feature Selection**"
      ]
    },
    {
      "cell_type": "markdown",
      "metadata": {
        "id": "yS45RxO_VxrP"
      },
      "source": [
        "Compute chi-squared stats between each non-negative feature and class.\n",
        "This score should be used to evaluate categorical variables in a classification task. This score can be used to select the n_features features with the highest values for the test chi-squared statistic from X, which must contain only non-negative features such as booleans or frequencies (e.g., term counts in document classification), relative to the classes.\n",
        "Recall that the chi-square test measures dependence between stochastic variables, so using this function “weeds out” the features that are the most likely to be independent of class and therefore irrelevant for classification. The Chi-Square statistic is commonly used for testing relationships between categorical variables.\n",
        "It compares the observed distribution of the different classes of target Y among the different categories of the feature, against the expected distribution of the target classes, regardless of the feature categories."
      ]
    },
    {
      "cell_type": "markdown",
      "metadata": {
        "id": "fTujO9wuWH36"
      },
      "source": [
        "**Import Dataset-**\n"
      ]
    },
    {
      "cell_type": "code",
      "metadata": {
        "id": "X8FH0SviWKHA"
      },
      "source": [
        "import seaborn as sns\n",
        "df=sns.load_dataset('titanic')\n",
        "import numpy as np"
      ],
      "execution_count": 93,
      "outputs": []
    },
    {
      "cell_type": "markdown",
      "metadata": {
        "id": "edvKGtlLWPtV"
      },
      "source": [
        "Top 10 columns\n"
      ]
    },
    {
      "cell_type": "code",
      "metadata": {
        "id": "v2STw23cWScP"
      },
      "source": [
        "df.head(10)"
      ],
      "execution_count": null,
      "outputs": []
    },
    {
      "cell_type": "markdown",
      "metadata": {
        "id": "5m6HGjPeWW_O"
      },
      "source": [
        "Information"
      ]
    },
    {
      "cell_type": "code",
      "metadata": {
        "id": "xU7WvhDSWYdH"
      },
      "source": [
        "df.info()"
      ],
      "execution_count": null,
      "outputs": []
    },
    {
      "cell_type": "markdown",
      "metadata": {
        "id": "9NpGlnWMWjD_"
      },
      "source": [
        "So, I am considering categorical features and will try to find out the top important features. Creating a data frame for categorical features. We need to compare all the categories with the output category (Survived)."
      ]
    },
    {
      "cell_type": "code",
      "metadata": {
        "colab": {
          "base_uri": "https://localhost:8080/",
          "height": 204
        },
        "id": "dlbdBNpLWmpG",
        "outputId": "057331f5-152a-4d93-861d-4afdf3c455b5"
      },
      "source": [
        "##['sex','embarked','alone','pclass','Survived']\n",
        "df=df[['sex','embarked','alone','pclass','survived']]\n",
        "df.head()"
      ],
      "execution_count": 96,
      "outputs": [
        {
          "output_type": "execute_result",
          "data": {
            "text/html": [
              "<div>\n",
              "<style scoped>\n",
              "    .dataframe tbody tr th:only-of-type {\n",
              "        vertical-align: middle;\n",
              "    }\n",
              "\n",
              "    .dataframe tbody tr th {\n",
              "        vertical-align: top;\n",
              "    }\n",
              "\n",
              "    .dataframe thead th {\n",
              "        text-align: right;\n",
              "    }\n",
              "</style>\n",
              "<table border=\"1\" class=\"dataframe\">\n",
              "  <thead>\n",
              "    <tr style=\"text-align: right;\">\n",
              "      <th></th>\n",
              "      <th>sex</th>\n",
              "      <th>embarked</th>\n",
              "      <th>alone</th>\n",
              "      <th>pclass</th>\n",
              "      <th>survived</th>\n",
              "    </tr>\n",
              "  </thead>\n",
              "  <tbody>\n",
              "    <tr>\n",
              "      <th>0</th>\n",
              "      <td>male</td>\n",
              "      <td>S</td>\n",
              "      <td>False</td>\n",
              "      <td>3</td>\n",
              "      <td>0</td>\n",
              "    </tr>\n",
              "    <tr>\n",
              "      <th>1</th>\n",
              "      <td>female</td>\n",
              "      <td>C</td>\n",
              "      <td>False</td>\n",
              "      <td>1</td>\n",
              "      <td>1</td>\n",
              "    </tr>\n",
              "    <tr>\n",
              "      <th>2</th>\n",
              "      <td>female</td>\n",
              "      <td>S</td>\n",
              "      <td>True</td>\n",
              "      <td>3</td>\n",
              "      <td>1</td>\n",
              "    </tr>\n",
              "    <tr>\n",
              "      <th>3</th>\n",
              "      <td>female</td>\n",
              "      <td>S</td>\n",
              "      <td>False</td>\n",
              "      <td>1</td>\n",
              "      <td>1</td>\n",
              "    </tr>\n",
              "    <tr>\n",
              "      <th>4</th>\n",
              "      <td>male</td>\n",
              "      <td>S</td>\n",
              "      <td>True</td>\n",
              "      <td>3</td>\n",
              "      <td>0</td>\n",
              "    </tr>\n",
              "  </tbody>\n",
              "</table>\n",
              "</div>"
            ],
            "text/plain": [
              "      sex embarked  alone  pclass  survived\n",
              "0    male        S  False       3         0\n",
              "1  female        C  False       1         1\n",
              "2  female        S   True       3         1\n",
              "3  female        S  False       1         1\n",
              "4    male        S   True       3         0"
            ]
          },
          "metadata": {
            "tags": []
          },
          "execution_count": 96
        }
      ]
    },
    {
      "cell_type": "markdown",
      "metadata": {
        "id": "FiWKWLgkWr_H"
      },
      "source": [
        "Let’s perform label encoding on the embarked\n"
      ]
    },
    {
      "cell_type": "code",
      "metadata": {
        "colab": {
          "base_uri": "https://localhost:8080/",
          "height": 204
        },
        "id": "XLa5CftfWzT6",
        "outputId": "f2789a16-0f9f-4ee9-a4ec-eb128bd058ed"
      },
      "source": [
        "df['sex']=np.where(df['sex']==\"male\",1,0)\n",
        "df.head()"
      ],
      "execution_count": 97,
      "outputs": [
        {
          "output_type": "execute_result",
          "data": {
            "text/html": [
              "<div>\n",
              "<style scoped>\n",
              "    .dataframe tbody tr th:only-of-type {\n",
              "        vertical-align: middle;\n",
              "    }\n",
              "\n",
              "    .dataframe tbody tr th {\n",
              "        vertical-align: top;\n",
              "    }\n",
              "\n",
              "    .dataframe thead th {\n",
              "        text-align: right;\n",
              "    }\n",
              "</style>\n",
              "<table border=\"1\" class=\"dataframe\">\n",
              "  <thead>\n",
              "    <tr style=\"text-align: right;\">\n",
              "      <th></th>\n",
              "      <th>sex</th>\n",
              "      <th>embarked</th>\n",
              "      <th>alone</th>\n",
              "      <th>pclass</th>\n",
              "      <th>survived</th>\n",
              "    </tr>\n",
              "  </thead>\n",
              "  <tbody>\n",
              "    <tr>\n",
              "      <th>0</th>\n",
              "      <td>1</td>\n",
              "      <td>S</td>\n",
              "      <td>False</td>\n",
              "      <td>3</td>\n",
              "      <td>0</td>\n",
              "    </tr>\n",
              "    <tr>\n",
              "      <th>1</th>\n",
              "      <td>0</td>\n",
              "      <td>C</td>\n",
              "      <td>False</td>\n",
              "      <td>1</td>\n",
              "      <td>1</td>\n",
              "    </tr>\n",
              "    <tr>\n",
              "      <th>2</th>\n",
              "      <td>0</td>\n",
              "      <td>S</td>\n",
              "      <td>True</td>\n",
              "      <td>3</td>\n",
              "      <td>1</td>\n",
              "    </tr>\n",
              "    <tr>\n",
              "      <th>3</th>\n",
              "      <td>0</td>\n",
              "      <td>S</td>\n",
              "      <td>False</td>\n",
              "      <td>1</td>\n",
              "      <td>1</td>\n",
              "    </tr>\n",
              "    <tr>\n",
              "      <th>4</th>\n",
              "      <td>1</td>\n",
              "      <td>S</td>\n",
              "      <td>True</td>\n",
              "      <td>3</td>\n",
              "      <td>0</td>\n",
              "    </tr>\n",
              "  </tbody>\n",
              "</table>\n",
              "</div>"
            ],
            "text/plain": [
              "   sex embarked  alone  pclass  survived\n",
              "0    1        S  False       3         0\n",
              "1    0        C  False       1         1\n",
              "2    0        S   True       3         1\n",
              "3    0        S  False       1         1\n",
              "4    1        S   True       3         0"
            ]
          },
          "metadata": {
            "tags": []
          },
          "execution_count": 97
        }
      ]
    },
    {
      "cell_type": "code",
      "metadata": {
        "id": "JyNpQGNwW6ph"
      },
      "source": [
        "#Let’s perform label encoding on the embarked\n"
      ],
      "execution_count": null,
      "outputs": []
    },
    {
      "cell_type": "code",
      "metadata": {
        "id": "mU6WigdQXEnd"
      },
      "source": [
        "import numpy as np\n",
        "### let's perform label encoding on embarked\n",
        "ordinal_label = {k: i for i, k in enumerate(df['embarked'].unique(), 0)}\n",
        "df['embarked'] = df['embarked'].map(ordinal_label)"
      ],
      "execution_count": 98,
      "outputs": []
    },
    {
      "cell_type": "code",
      "metadata": {
        "colab": {
          "base_uri": "https://localhost:8080/",
          "height": 204
        },
        "id": "ANKPF7pAXLZg",
        "outputId": "b0f3bb95-bcb9-4c95-8a1b-d7c10d7a8d11"
      },
      "source": [
        "df.head()"
      ],
      "execution_count": 99,
      "outputs": [
        {
          "output_type": "execute_result",
          "data": {
            "text/html": [
              "<div>\n",
              "<style scoped>\n",
              "    .dataframe tbody tr th:only-of-type {\n",
              "        vertical-align: middle;\n",
              "    }\n",
              "\n",
              "    .dataframe tbody tr th {\n",
              "        vertical-align: top;\n",
              "    }\n",
              "\n",
              "    .dataframe thead th {\n",
              "        text-align: right;\n",
              "    }\n",
              "</style>\n",
              "<table border=\"1\" class=\"dataframe\">\n",
              "  <thead>\n",
              "    <tr style=\"text-align: right;\">\n",
              "      <th></th>\n",
              "      <th>sex</th>\n",
              "      <th>embarked</th>\n",
              "      <th>alone</th>\n",
              "      <th>pclass</th>\n",
              "      <th>survived</th>\n",
              "    </tr>\n",
              "  </thead>\n",
              "  <tbody>\n",
              "    <tr>\n",
              "      <th>0</th>\n",
              "      <td>1</td>\n",
              "      <td>0</td>\n",
              "      <td>False</td>\n",
              "      <td>3</td>\n",
              "      <td>0</td>\n",
              "    </tr>\n",
              "    <tr>\n",
              "      <th>1</th>\n",
              "      <td>0</td>\n",
              "      <td>1</td>\n",
              "      <td>False</td>\n",
              "      <td>1</td>\n",
              "      <td>1</td>\n",
              "    </tr>\n",
              "    <tr>\n",
              "      <th>2</th>\n",
              "      <td>0</td>\n",
              "      <td>0</td>\n",
              "      <td>True</td>\n",
              "      <td>3</td>\n",
              "      <td>1</td>\n",
              "    </tr>\n",
              "    <tr>\n",
              "      <th>3</th>\n",
              "      <td>0</td>\n",
              "      <td>0</td>\n",
              "      <td>False</td>\n",
              "      <td>1</td>\n",
              "      <td>1</td>\n",
              "    </tr>\n",
              "    <tr>\n",
              "      <th>4</th>\n",
              "      <td>1</td>\n",
              "      <td>0</td>\n",
              "      <td>True</td>\n",
              "      <td>3</td>\n",
              "      <td>0</td>\n",
              "    </tr>\n",
              "  </tbody>\n",
              "</table>\n",
              "</div>"
            ],
            "text/plain": [
              "   sex  embarked  alone  pclass  survived\n",
              "0    1         0  False       3         0\n",
              "1    0         1  False       1         1\n",
              "2    0         0   True       3         1\n",
              "3    0         0  False       1         1\n",
              "4    1         0   True       3         0"
            ]
          },
          "metadata": {
            "tags": []
          },
          "execution_count": 99
        }
      ]
    },
    {
      "cell_type": "code",
      "metadata": {
        "id": "i_9FML-sXTFh"
      },
      "source": [
        "#Performing label encoding on alone\n",
        "## let's perform label encoding on alone\n",
        "df['alone']=np.where(df['alone']==True,1,0)"
      ],
      "execution_count": 100,
      "outputs": []
    },
    {
      "cell_type": "code",
      "metadata": {
        "id": "zi5rzHwCXb0f"
      },
      "source": [
        "df.head()"
      ],
      "execution_count": null,
      "outputs": []
    },
    {
      "cell_type": "markdown",
      "metadata": {
        "id": "cHRQ273yXgkE"
      },
      "source": [
        "Train Test split\n"
      ]
    },
    {
      "cell_type": "code",
      "metadata": {
        "id": "pgU6dXX4XiVI"
      },
      "source": [
        "from sklearn.model_selection import train_test_split\n",
        "X_train,X_test,y_train,y_test=train_test_split(df[['sex','embarked','alone','pclass']],\n",
        "                                              df['survived'],test_size=0.3,random_state=100)"
      ],
      "execution_count": 102,
      "outputs": []
    },
    {
      "cell_type": "markdown",
      "metadata": {
        "id": "0S9XWvbRXpZL"
      },
      "source": [
        "Check unique values for the sex column\n"
      ]
    },
    {
      "cell_type": "code",
      "metadata": {
        "colab": {
          "base_uri": "https://localhost:8080/"
        },
        "id": "xFyDf5RRXn5V",
        "outputId": "a87e75ec-413b-43c4-f15e-cdda0b439569"
      },
      "source": [
        "X_train['sex'].unique()"
      ],
      "execution_count": 103,
      "outputs": [
        {
          "output_type": "execute_result",
          "data": {
            "text/plain": [
              "array([1, 0])"
            ]
          },
          "metadata": {
            "tags": []
          },
          "execution_count": 103
        }
      ]
    },
    {
      "cell_type": "markdown",
      "metadata": {
        "id": "gEC3nELNXvq2"
      },
      "source": [
        "Check null values\n"
      ]
    },
    {
      "cell_type": "code",
      "metadata": {
        "colab": {
          "base_uri": "https://localhost:8080/"
        },
        "id": "p35AYEs9XzAV",
        "outputId": "85ad3168-c71e-4923-a581-6291d63df48d"
      },
      "source": [
        "X_train.isnull().sum()"
      ],
      "execution_count": 104,
      "outputs": [
        {
          "output_type": "execute_result",
          "data": {
            "text/plain": [
              "sex         0\n",
              "embarked    0\n",
              "alone       0\n",
              "pclass      0\n",
              "dtype: int64"
            ]
          },
          "metadata": {
            "tags": []
          },
          "execution_count": 104
        }
      ]
    },
    {
      "cell_type": "markdown",
      "metadata": {
        "id": "x91IrOIsX7th"
      },
      "source": [
        "**Perform chi2 test**\n"
      ]
    },
    {
      "cell_type": "code",
      "metadata": {
        "id": "UW2XdQa2X6OA"
      },
      "source": [
        "# Perform chi2 test\n",
        "### chi2 returns 2 values\n",
        "### Fscore and the pvalue\n",
        "from sklearn.feature_selection import chi2\n",
        "f_p_values=chi2(X_train,y_train)\n"
      ],
      "execution_count": 105,
      "outputs": []
    },
    {
      "cell_type": "markdown",
      "metadata": {
        "id": "bm571ddgYGQo"
      },
      "source": [
        "Chi2 gives us two values-\n",
        "F-score — fscore needs to be higher, the more the value of fscore the more important feature is\n",
        "P-value — lesser the pvalue the more important the feature is\n",
        "1st array values are of fscore\n",
        "2nd array values are of pvalue"
      ]
    },
    {
      "cell_type": "code",
      "metadata": {
        "colab": {
          "base_uri": "https://localhost:8080/"
        },
        "id": "hrng7aUOYFcQ",
        "outputId": "6f8531ce-0cd0-4e25-db4b-2bd81c80c828"
      },
      "source": [
        "f_p_values"
      ],
      "execution_count": 106,
      "outputs": [
        {
          "output_type": "execute_result",
          "data": {
            "text/plain": [
              "(array([65.67929505,  7.55053653, 10.88471585, 21.97994154]),\n",
              " array([5.30603805e-16, 5.99922095e-03, 9.69610546e-04, 2.75514881e-06]))"
            ]
          },
          "metadata": {
            "tags": []
          },
          "execution_count": 106
        }
      ]
    },
    {
      "cell_type": "markdown",
      "metadata": {
        "id": "bCSLhOOHYM4P"
      },
      "source": [
        "Make a series of these p_values\n"
      ]
    },
    {
      "cell_type": "code",
      "metadata": {
        "colab": {
          "base_uri": "https://localhost:8080/"
        },
        "id": "xvrQT2l3YRCY",
        "outputId": "af936c4c-c7d3-4a94-fad7-51d51d6c5cc4"
      },
      "source": [
        "import pandas as pd\n",
        "p_values=pd.Series(f_p_values[1])\n",
        "p_values.index=X_train.columns\n",
        "p_values"
      ],
      "execution_count": 107,
      "outputs": [
        {
          "output_type": "execute_result",
          "data": {
            "text/plain": [
              "sex         5.306038e-16\n",
              "embarked    5.999221e-03\n",
              "alone       9.696105e-04\n",
              "pclass      2.755149e-06\n",
              "dtype: float64"
            ]
          },
          "metadata": {
            "tags": []
          },
          "execution_count": 107
        }
      ]
    },
    {
      "cell_type": "markdown",
      "metadata": {
        "id": "hJAXvaDTYV81"
      },
      "source": [
        "Sort the series in ascending order\n"
      ]
    },
    {
      "cell_type": "code",
      "metadata": {
        "colab": {
          "base_uri": "https://localhost:8080/"
        },
        "id": "jf2yvV7FYaZj",
        "outputId": "6a31dab6-b49c-4616-b51c-cd60f01dac0e"
      },
      "source": [
        "p_values.sort_index(ascending=False)"
      ],
      "execution_count": 108,
      "outputs": [
        {
          "output_type": "execute_result",
          "data": {
            "text/plain": [
              "sex         5.306038e-16\n",
              "pclass      2.755149e-06\n",
              "embarked    5.999221e-03\n",
              "alone       9.696105e-04\n",
              "dtype: float64"
            ]
          },
          "metadata": {
            "tags": []
          },
          "execution_count": 108
        }
      ]
    },
    {
      "cell_type": "markdown",
      "metadata": {
        "id": "GpBEksB4YgRx"
      },
      "source": [
        "Observation\n",
        "Sex Column is the most important column when compared to the output feature Survived."
      ]
    },
    {
      "cell_type": "markdown",
      "metadata": {
        "id": "kis-IQv_YW0K"
      },
      "source": [
        "**References**"
      ]
    },
    {
      "cell_type": "markdown",
      "metadata": {
        "id": "_LrWBGiqGFNc"
      },
      "source": [
        "[Feature Selection Techniques](https://medium.com/geekculture/feature-selection-techniques-bc0c69e85b85)"
      ]
    }
  ]
}