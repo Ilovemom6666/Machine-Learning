{
  "nbformat": 4,
  "nbformat_minor": 0,
  "metadata": {
    "colab": {
      "name": "1-28-2020-Supervised_learning_with_Sklearn.ipynb",
      "provenance": [],
      "collapsed_sections": [],
      "toc_visible": true,
      "include_colab_link": true
    },
    "kernelspec": {
      "name": "python3",
      "display_name": "Python 3"
    }
  },
  "cells": [
    {
      "cell_type": "markdown",
      "metadata": {
        "id": "view-in-github",
        "colab_type": "text"
      },
      "source": [
        "<a href=\"https://colab.research.google.com/github/hussain0048/Machine-Learning/blob/master/1_28_2020_Supervised_learning_with_Sklearn.ipynb\" target=\"_parent\"><img src=\"https://colab.research.google.com/assets/colab-badge.svg\" alt=\"Open In Colab\"/></a>"
      ]
    },
    {
      "cell_type": "markdown",
      "metadata": {
        "id": "9B9THni-hHqx"
      },
      "source": [
        "# **1-Classification**\n",
        "\n"
      ]
    },
    {
      "cell_type": "markdown",
      "metadata": {
        "id": "n309L9RARmN6"
      },
      "source": [
        "##**1.1- Supervised Learning**\n",
        "\n",
        "\n",
        "**2. What is machine learning?**\n",
        "\n",
        "But what is machine learning? Machine learning is the science and art of giving computers the ability to learn to make decisions from data without being explicitly programmed. For example, your computer can learn to predict whether an email is spam or not spam given its content and sender. Another example: your computer can learn to cluster, say, Wikipedia entries, into different categories based on the words they contain. It could then assign any new Wikipedia article to one of the existing clusters. Notice that, in the first example, we are trying to predict a particular class label, that is, spam or not spam. In the second example, there is no such label. When there are labels present, we call it supervised learning. When there are no labels present, we call it unsupervised learning.\n",
        "\n",
        "**3. Unsupervised learning?**\n",
        "\n",
        "Unsupervised learning, in essence, is the machine learning task of uncovering hidden patterns and structures from unlabeled data. For example, a business may wish to group its customers into distinct categories based on their purchasing behavior without knowing in advance what these categories maybe. This is known as clustering, one branch of unsupervised learning.\n",
        "\n",
        "**4. Reinforcement learning**\n",
        "\n",
        "There is also reinforcement learning, in which machines or software agents interact with an environment. Reinforcement agents are able to automatically figure out how to optimize their behavior given a system of rewards and punishments. Reinforcement learning draws inspiration from behavioral psychology and has applications in many fields, such as, economics, genetics, as well as game playing. In 2016, reinforcement learning was used to train Google DeepMind's AlphaGo, which was the first computer program to beat the world champion in Go.\n",
        "\n",
        "**5. Supervised learning**\n",
        "\n",
        "But let's come back to supervised learning, which will be the focus of this course. In supervised learning, we have several data points or samples, described using predictor variables or features and a target variable. Our data is commonly represented in a table structure such as the one you see here, in which there is a row for each data point and a column for each feature. Here, we see the iris dataset: each row represents measurements of a different flower and each column is a particular kind of measurement, like the width and length of a certain part of the flower. The aim of supervised learning is to build a model that is able to predict the target variable, here the particular species of a flower, given the predictor variables, here the physical measurements. If the target variable consists of categories, like 'click' or 'no click', 'spam' or 'not spam', or different species of flowers, we call the learning task classification. Alternatively, if the target is a continuously varying variable, for example, the price of a house, it is a regression task. In this chapter, we will focus on classification. In the following, on regression.\n",
        "\n",
        "![](\n",
        "https://drive.google.com/uc?export=view&id=16Hdc-xwQKPyLSbBdgfkYgassyu2368Vw)\n",
        "\n",
        "\n",
        "\n"
      ]
    },
    {
      "cell_type": "markdown",
      "metadata": {
        "id": "SaYbgGcieCG3"
      },
      "source": [
        "**6. Naming conventions**\n",
        "\n",
        "A note on naming conventions: out in the wild, you will find that what we call a feature, others may call a predictor variable or independent variable, and what we call the target variable, others may call dependent variable or response variable."
      ]
    },
    {
      "cell_type": "markdown",
      "metadata": {
        "id": "w8tmZ9v4eT5e"
      },
      "source": [
        "**7. Supervised learning**\n",
        "\n",
        "The goal of supervised learning is frequently to either automate a time-consuming or expensive manual task, such as a doctor's diagnosis, or to make predictions about the future, say whether a customer will click on an add or not. For supervised learning, you need labeled data and there are many ways to get it: you can get historical data, which already has labels that you are interested in; you can perform experiments to get labeled data, such as A/B-testing to see how many clicks you get; or you can also crowdsourced labeling data which, like reCAPTCHA does for text recognition. In any case, the goal is to learn from data for which the right output is known, so that we can make predictions on new data for which we don't know the output."
      ]
    },
    {
      "cell_type": "markdown",
      "metadata": {
        "id": "-GOYgcZce0BE"
      },
      "source": [
        "**8. Supervised learning in Python**\n",
        "\n",
        "There are many ways to perform supervised learning in Python. In this course, we will use scikit-learn, or sklearn, one of the most popular and user-friendly machine learning libraries for Python. It also integrates very well with the SciPy stack, including libraries such as NumPy. There are a number of other ML libraries out there, such as TensorFlow and keras, which are well worth checking out once you got the basics down."
      ]
    },
    {
      "cell_type": "markdown",
      "metadata": {
        "id": "AA4oiwXKgsjc"
      },
      "source": [
        "## **1.2 Exploratory data analysis**\n"
      ]
    },
    {
      "cell_type": "markdown",
      "metadata": {
        "id": "Y3Ku3f2LmkWX"
      },
      "source": [
        "**1-The Iris dataset**\n",
        "\n",
        "![](\n",
        "https://drive.google.com/uc?export=view&id=1WTn1t7HRbkZbQRPcAQ4EzO1w630qkfXK\n",
        ")"
      ]
    },
    {
      "cell_type": "markdown",
      "metadata": {
        "id": "5b7P9TOonweD"
      },
      "source": [
        "**The Iris dataset in scikit-learn**"
      ]
    },
    {
      "cell_type": "code",
      "metadata": {
        "id": "D_axHWIwoPxU"
      },
      "source": [
        "from sklearn import datasets\n",
        "import pandas as pd\n",
        "import numpy as np\n",
        "import matplotlib.pyplot as plt\n",
        "plt.style.use('ggplot')\n",
        "iris = datasets.load_iris()\n"
      ],
      "execution_count": null,
      "outputs": []
    },
    {
      "cell_type": "code",
      "metadata": {
        "colab": {
          "base_uri": "https://localhost:8080/"
        },
        "id": "IEZ5LGUIpWX5",
        "outputId": "8d47aa8e-06af-4598-b5ee-a0766446ce23"
      },
      "source": [
        "iris = datasets.load_iris() \n",
        "In [7]: type(iris) "
      ],
      "execution_count": null,
      "outputs": [
        {
          "output_type": "execute_result",
          "data": {
            "text/plain": [
              "sklearn.utils.Bunch"
            ]
          },
          "metadata": {
            "tags": []
          },
          "execution_count": 3
        }
      ]
    },
    {
      "cell_type": "code",
      "metadata": {
        "colab": {
          "base_uri": "https://localhost:8080/"
        },
        "id": "EbfpuVMJphJL",
        "outputId": "feb17aba-7024-496d-d43c-bfe8948a6e0a"
      },
      "source": [
        "print(iris.keys()) "
      ],
      "execution_count": null,
      "outputs": [
        {
          "output_type": "stream",
          "text": [
            "dict_keys(['data', 'target', 'target_names', 'DESCR', 'feature_names', 'filename'])\n"
          ],
          "name": "stdout"
        }
      ]
    },
    {
      "cell_type": "code",
      "metadata": {
        "id": "0d-Q5AH6olQz"
      },
      "source": [
        "type(iris.data), type(iris.target)\n",
        "#Out(numpy.ndarray, numpy.ndarray)\n"
      ],
      "execution_count": null,
      "outputs": []
    },
    {
      "cell_type": "code",
      "metadata": {
        "colab": {
          "base_uri": "https://localhost:8080/"
        },
        "id": "MhOhuLw0pxkV",
        "outputId": "b809c8ea-c3d4-4b58-de04-86f626c438e0"
      },
      "source": [
        "iris.data.shape "
      ],
      "execution_count": null,
      "outputs": [
        {
          "output_type": "execute_result",
          "data": {
            "text/plain": [
              "(150, 4)"
            ]
          },
          "metadata": {
            "tags": []
          },
          "execution_count": 6
        }
      ]
    },
    {
      "cell_type": "code",
      "metadata": {
        "colab": {
          "base_uri": "https://localhost:8080/"
        },
        "id": "9Kwx8Oy1p2WC",
        "outputId": "f3325fd6-c5dd-4ab0-f54a-0f14acf8a053"
      },
      "source": [
        "iris.target_names "
      ],
      "execution_count": null,
      "outputs": [
        {
          "output_type": "execute_result",
          "data": {
            "text/plain": [
              "array(['setosa', 'versicolor', 'virginica'], dtype='<U10')"
            ]
          },
          "metadata": {
            "tags": []
          },
          "execution_count": 7
        }
      ]
    },
    {
      "cell_type": "markdown",
      "metadata": {
        "id": "sM6YCCFRp_IK"
      },
      "source": [
        "**Exploratory data analysis (EDA)**"
      ]
    },
    {
      "cell_type": "code",
      "metadata": {
        "id": "hgbWSURiqLva"
      },
      "source": [
        "X = iris.data\n",
        "y = iris.target"
      ],
      "execution_count": null,
      "outputs": []
    },
    {
      "cell_type": "code",
      "metadata": {
        "id": "kIxeM1SNqRJh"
      },
      "source": [
        "df = pd.DataFrame(X, columns=iris.feature_names) "
      ],
      "execution_count": null,
      "outputs": []
    },
    {
      "cell_type": "code",
      "metadata": {
        "colab": {
          "base_uri": "https://localhost:8080/"
        },
        "id": "pt5b8j-RqfOi",
        "outputId": "57503f51-70d0-43f9-ba45-bed31d46d7fc"
      },
      "source": [
        "print(df.head()) "
      ],
      "execution_count": null,
      "outputs": [
        {
          "output_type": "stream",
          "text": [
            "   sepal length (cm)  sepal width (cm)  petal length (cm)  petal width (cm)\n",
            "0                5.1               3.5                1.4               0.2\n",
            "1                4.9               3.0                1.4               0.2\n",
            "2                4.7               3.2                1.3               0.2\n",
            "3                4.6               3.1                1.5               0.2\n",
            "4                5.0               3.6                1.4               0.2\n"
          ],
          "name": "stdout"
        }
      ]
    },
    {
      "cell_type": "markdown",
      "metadata": {
        "id": "m_g0O6PbqqoZ"
      },
      "source": [
        "**Visual EDA**\n"
      ]
    },
    {
      "cell_type": "code",
      "metadata": {
        "id": "XAH2NelJqvlY"
      },
      "source": [
        "_ = pd.scatter_matrix(df, c = y, figsize = [8, 8], s=150, marker = 'D')"
      ],
      "execution_count": null,
      "outputs": []
    },
    {
      "cell_type": "markdown",
      "metadata": {
        "id": "ghF69fYuszdd"
      },
      "source": [
        "![](https://drive.google.com/uc?export=view&id=1UqiYyKsAmnrMPIG6Ahr6esFgPdy0RTlT)"
      ]
    },
    {
      "cell_type": "markdown",
      "metadata": {
        "id": "TRVuJVHLtIr2"
      },
      "source": [
        "### **1.2.1 Numerical EDA**\n",
        "In this chapter, you'll be working with a dataset obtained from the [UCI Machine Learning Repository](https://archive.ics.uci.edu/ml/datasets/Congressional+Voting+Records) UCI Machine Learning Repository consisting of votes made by US House of Representatives Congressmen. Your goal will be to predict their party affiliation ('Democrat' or 'Republican') based on how they voted on certain key issues. Here, it's worth noting that we have preprocessed this dataset to deal with missing values. This is so that your focus can be directed towards understanding how to train and evaluate supervised learning models. Once you have mastered these fundamentals, you will be introduced to preprocessing techniques in Chapter 4 and have the chance to apply them there yourself - including on this very same dataset!\n",
        "\n",
        "Before thinking about what supervised learning models you can apply to this, however, you need to perform Exploratory data analysis (EDA) in order to understand the structure of the data. For a refresher on the importance of EDA, check out the first two chapters of Statistical Thinking in Python (Part 1).\n",
        "\n",
        "Get started with your EDA now by exploring this voting records dataset numerically. It has been pre-loaded for you into a DataFrame called df. Use pandas' .head(), .info(), and .describe() methods in the IPython Shell to explore the DataFrame, and select the statement below that is not true.\n"
      ]
    },
    {
      "cell_type": "code",
      "metadata": {
        "id": "_OFC7ycmf5Xq"
      },
      "source": [
        "df.head()\n",
        "df.info()\n",
        "df.described()"
      ],
      "execution_count": null,
      "outputs": []
    },
    {
      "cell_type": "markdown",
      "metadata": {
        "id": "GVHGTmNqgRvy"
      },
      "source": [
        "### **1.2.2 Visual EDA**\n",
        "\n",
        "The Numerical EDA you did in the previous exercise gave you some very important information, such as the names and data types of the columns, and the dimensions of the DataFrame. Following this with some visual EDA will give you an even better understanding of the data. In the video, Hugo used the scatter_matrix() function on the Iris data for this purpose. However, you may have noticed in the previous exercise that all the features in this dataset are binary; that is, they are either 0 or 1. So a different type of plot would be more useful here, such as Seaborn's countplot.\n",
        "\n",
        "Given on the right is a countplot of the 'education' bill, generated from the following code:"
      ]
    },
    {
      "cell_type": "code",
      "metadata": {
        "id": "-EWSIcZngnxP"
      },
      "source": [
        "plt.figure()\n",
        "sns.countplot(x='education', hue='party', data=df, palette='RdBu')\n",
        "plt.xticks([0,1], ['No', 'Yes'])\n",
        "plt.show()"
      ],
      "execution_count": null,
      "outputs": []
    },
    {
      "cell_type": "markdown",
      "metadata": {
        "id": "WUnp7fm6iIsd"
      },
      "source": [
        "![](\n",
        "https://drive.google.com/uc?export=view&id=1ev2xHhcqCVsrZ4nipIrjG47DstY3OFLj)"
      ]
    },
    {
      "cell_type": "markdown",
      "metadata": {
        "id": "uzOxK_UhhGs5"
      },
      "source": [
        "In sns.countplot(), we specify the x-axis data to be 'education', and hue to be 'party'. Recall that 'party' is also our target variable. So the resulting plot shows the difference in voting behavior between the two parties for the 'education' bill, with each party colored differently. We manually specified the color to be 'RdBu', as the Republican party has been traditionally associated with red, and the Democratic party with blue.\n",
        "\n"
      ]
    },
    {
      "cell_type": "markdown",
      "metadata": {
        "id": "hcOo2vVLiPTa"
      },
      "source": [
        "It seems like Democrats voted resoundingly against this bill, compared to Republicans. This is the kind of information that our machine learning model will seek to learn when we try to predict party affiliation solely based on voting behavior. An expert in U.S politics may be able to predict this without machine learning, but probably not instantaneously - and certainly not if we are dealing with hundreds of samples!\n",
        "\n",
        "In the IPython Shell, explore the voting behavior further by generating countplots for the 'satellite' and 'missile' bills, and answer the following question: Of these two bills, for which ones do Democrats vote resoundingly in favor of, compared to Republicans? Be sure to begin your plotting statements for each figure with plt.figure() so that a new figure will be set up. Otherwise, your plots will be overlayed onto the same figure."
      ]
    },
    {
      "cell_type": "code",
      "metadata": {
        "id": "ACNfrD0IjkwO"
      },
      "source": [
        "plt.figure()\n",
        "sns.countplot(x='satellite', hue='party', data=df, palette='RdBu')\n",
        "plt.xticks([0,1], ['No', 'Yes'])\n",
        "plt.show()"
      ],
      "execution_count": null,
      "outputs": []
    },
    {
      "cell_type": "markdown",
      "metadata": {
        "id": "xytbzq6nj7g1"
      },
      "source": [
        "## **1.3 The classification challenge**\n"
      ]
    },
    {
      "cell_type": "markdown",
      "metadata": {
        "id": "kqa3HUwPkQ5m"
      },
      "source": [
        "**1. The classification challenge**\n",
        "\n",
        "We have a set of labeled data and we want to build a classifier that takes unlabeled data as input and outputs a label. So how do we construct this classifier? We first need choose a type of classifier and it needs to learn from the already labeled data. For this reason, we call the already labeled data the training data. So let's build our first classifier!"
      ]
    },
    {
      "cell_type": "markdown",
      "metadata": {
        "id": "mrr65SKpkVDn"
      },
      "source": [
        "**2. k-Nearest Neighbors**\n",
        "\n",
        "We'll choose a simple algorithm called K-nearest neighbors. The basic idea of K-nearest neighbors, or KNN, is to predict the label of any data point by looking at the K, for example, 3, closest labeled data points and getting them to vote on what label the unlabeled point should have.\n",
        "\n",
        "**3. k-Nearest Neighbors**\n",
        "\n",
        "In this image, there's an example of KNN in two dimensions: how do you classify the data point in the middle?\n",
        "\n",
        "![](https://drive.google.com/uc?export=view&id=1en3RyJ-TTung7hGabN1jgjUvfM5YOBK3)\n",
        "\n",
        "**5. k-Nearest Neighbors**\n",
        "\n",
        "you would classify it as red and, if k equals 5, as green.\n",
        "\n",
        "**6. k-Nearest Neighbors**\n",
        "\n",
        "and, if k equals 5,\n",
        "\n",
        "7. **k-Nearest Neighbors**\n",
        "\n",
        "as green."
      ]
    },
    {
      "cell_type": "markdown",
      "metadata": {
        "id": "zBW83jiAmaE-"
      },
      "source": [
        "**8. k-NN: Intuition**\n",
        "\n",
        "To get a bit of intuition for KNN, let's check out a scatter plot of two dimensions of the iris dataset, petal length and petal width. The following holds for higher dimensions, however, we'll show the 2D case for illustrative purposes.\n",
        "\n",
        "![](\n",
        "https://drive.google.com/uc?export=view&id=1iMg24DZBcSGlONoyYTu_Vm0vfYFd7K-d)"
      ]
    },
    {
      "cell_type": "markdown",
      "metadata": {
        "id": "4GZtZMa6sXB5"
      },
      "source": [
        "**10. k-NN: Intuition**\n",
        "\n",
        "Any new data point here will be predicted 'setosa',\n",
        "\n",
        "**11. k-NN: Intuition**\n",
        "\n",
        "any new data point here will be predicted 'virginica',\n",
        "\n",
        "**12**. **k-NN: Intuition**\n",
        "\n",
        "and any new data point here will be predicted 'versicolor'."
      ]
    },
    {
      "cell_type": "markdown",
      "metadata": {
        "id": "fobO_NR3si2r"
      },
      "source": [
        "**13. Scikit-learn fit and predict**\n",
        "\n",
        "All machine learning models in scikit-learn are implemented as python classes. These classes serve two purposes: they implement the algorithms for learning a model, and predicting, while also storing all the information that is learned from the data. Training a model on the data is also called fitting the model to the data. In scikit-learn, we use the fit method to do this. Similarly, the predict method is what we use to predict the label of an, unlabeled data point."
      ]
    },
    {
      "cell_type": "markdown",
      "metadata": {
        "id": "9AAavWQgtBFz"
      },
      "source": [
        "**14. Using scikit-learn to fit a classifier**\n",
        "\n",
        "Now we're going to fit our very first classifier using scikit-learn! To do so, we first need to import it. To this end, we import KNeighborsClassifier from sklearn dot neighbors. We then instantiate our KNeighborsClassifier, set the number of neighbors equal to 6, and assign it to the variable knn. Then we can fit this classifier to our training set, the labeled data. To do so, we apply the method fit to the classifier and pass it two arguments: the features as a NumPy array and the labels, or target, as a NumPy array. The scikit-learn API requires firstly that you have the data as a NumPy array or pandas DataFrame. It also requires that the features take on continuous values, such as the price of a house, as opposed to categories, such as 'male' or 'female'. It also requires that there are no missing values in the data. All datasets that we'll work with now satisfy these final two properties. Later in the course, you'll see how to deal with categorical features and missing data. In particular, the scikit-learn API requires that the features are in an array where each column is a feature and each row a different observation or data point. Looking at the shape of iris data, we see that there are 150 observations of four features. Similarly, the target needs to be a single column with the same number of observations as the feature data. We see in this case there are indeed also 150 labels. Also check out what is returned when we fit the classifier: it returns the classifier itself and modifies it to fit it to the data. Now that we have fit our classifier, lets use it to predict on some unlabeled data!"
      ]
    },
    {
      "cell_type": "code",
      "metadata": {
        "id": "7CCkJDultmDR"
      },
      "source": [
        "from sklearn.neighbors import KNeighborsClassifier\n",
        "knn = KNeighborsClassifier(n_neighbors=6)\n",
        "knn.fit(iris['data'], iris['target'])\n",
        "KNeighborsClassifier(algorithm='auto', leaf_size=30,\n",
        "metric='minkowski',metric_params=None, n_jobs=1,\n",
        "n_neighbors=6, p=2,weights='uniform')\n",
        "iris['data'].shape\n",
        "#(150, 4)\n",
        "iris['target'].shape\n",
        "#(150,)"
      ],
      "execution_count": null,
      "outputs": []
    },
    {
      "cell_type": "markdown",
      "metadata": {
        "id": "TZgx8B2It8dB"
      },
      "source": [
        "**15. Predicting on unlabeled data**\n",
        "\n",
        "Here we have set of observations, X new. We use the predict method on the classifier and pass it the data. Once again, the API requires that we pass the data as a NumPy array with features in columns and observations in rows; checking the shape of X new, we see that it has three rows and four columns, that is, three observations and four features. Then we would expect calling knn dot predict of X new to return a three-by-one array with a prediction for each observation or row in X new. And indeed it does! It predicts one, which corresponds to 'versicolor' for the first two observations and 0, which corresponds to 'setosa' for the third."
      ]
    },
    {
      "cell_type": "code",
      "metadata": {
        "id": "jDAuwkG3uT9p"
      },
      "source": [
        "prediction = knn.predict(X_new)\n",
        "X_new.shape\n",
        "#(3, 4)\n",
        "print('Prediction {}’.format(prediction))\n",
        "#Prediction: [1 1 0]"
      ],
      "execution_count": null,
      "outputs": []
    },
    {
      "cell_type": "markdown",
      "metadata": {
        "id": "ENrKTSWPeQnZ"
      },
      "source": [
        "### **1.3.1 k-Nearest Neighbors: Fit**\n",
        "Having explored the Congressional voting records dataset, it is time now to build your first classifier. In this exercise, you will fit a k-Nearest Neighbors classifier to the voting dataset, which has once again been pre-loaded for you into a DataFrame df.\n",
        "\n",
        "In the video, Hugo discussed the importance of ensuring your data adheres to the format required by the scikit-learn API. The features need to be in an array where each column is a feature and each row a different observation or data point - in this case, a Congressman's voting record. The target needs to be a single column with the same number of observations as the feature data. We have done this for you in this exercise. Notice we named the feature array X and response variable y: This is in accordance with the common scikit-learn practice.\n",
        "\n",
        "Your job is to create an instance of a k-NN classifier with 6 neighbors (by specifying the n_neighbors parameter) and then fit it to the data. The data has been pre-loaded into a DataFrame called df.\n",
        "\n",
        "**Instructions**\n",
        "\n",
        "- Import KNeighborsClassifier from sklearn.neighbors.\n",
        "- Create arrays X and y for the features and the target variable. Here this has been done for you. Note the use of .drop() to drop the target variable 'party' from the feature array X as well as the use of the .values attribute to ensure X and y are NumPy arrays. Without using .values, X and y are a DataFrame and Series respectively; the scikit-learn API will accept them in this form also as long as they are of the right shape.\n",
        "- Instantiate a KNeighborsClassifier called knn with 6 neighbors by specifying the n_neighbors parameter.\n",
        "- Fit the classifier to the data using the .fit() method.\n"
      ]
    },
    {
      "cell_type": "markdown",
      "metadata": {
        "id": "2GZZ5vLqe3ph"
      },
      "source": [
        "**Hint**\n",
        "\n",
        "- To import thing from pkg, use the command from pkg import thing.\n",
        "- To instantiate a KNeighborsClassifier with 6 neighbors, use the function KNeighborsClassifier() and specify the keyword argument n_neighbors=6.\n",
        "- Use the .fit() method on knn with X and y passed in as the arguments."
      ]
    },
    {
      "cell_type": "code",
      "metadata": {
        "id": "3iQwHhwzkNpV"
      },
      "source": [
        "# Import KNeighborsClassifier from sklearn.neighbors\n",
        "from sklearn.neighbors import KNeighborsClassifier\n",
        "# Create arrays for the features and the response variable\n",
        "y = df['party'].values\n",
        "X = df.drop('party', axis=1).values\n",
        "# Create a k-NN classifier with 6 neighbors\n",
        "knn = KNeighborsClassifier(n_neighbors=6)\n",
        "# Fit the classifier to the data\n",
        "knn.fit(X,y)"
      ],
      "execution_count": null,
      "outputs": []
    },
    {
      "cell_type": "markdown",
      "metadata": {
        "id": "VGhTbl_BkUyk"
      },
      "source": [
        "Excellent! Now that your k-NN classifier with 6 neighbors has been fit to the data, it can be used to predict the labels of new data points."
      ]
    },
    {
      "cell_type": "markdown",
      "metadata": {
        "id": "74fwCO3akETV"
      },
      "source": [
        "### **1.3.2 k-Nearest Neighbors: Predict**\n",
        "\n",
        "Having fit a k-NN classifier, you can now use it to predict the label of a new data point. However, there is no unlabeled data available since all of it was used to fit the model! You can still use the .predict() method on the X that was used to fit the model, but it is not a good indicator of the model's ability to generalize to new, unseen data.\n",
        "\n",
        "In the next video, Hugo will discuss a solution to this problem. For now, a random unlabeled data point has been generated and is available to you as X_new. You will use your classifier to predict the label for this new data point, as well as on the training data X that the model has already seen. Using .predict() on X_new will generate 1 prediction, while using it on X will generate 435 predictions: 1 for each sample.\n",
        "\n",
        "The DataFrame has been pre-loaded as df. This time, you will create the feature array X and target variable array y yourself.\n"
      ]
    },
    {
      "cell_type": "markdown",
      "metadata": {
        "id": "foGCoaK3kkZn"
      },
      "source": [
        "**Instruction**\n",
        "\n",
        "- Create arrays for the features and the target variable from df. As a reminder, the target variable is 'party'.\n",
        "- Instantiate a KNeighborsClassifier with 6 neighbors.\n",
        "- Fit the classifier to the data.\n",
        "- Predict the labels of the training data, X.\n",
        "- Predict the label of the new data point X_new."
      ]
    },
    {
      "cell_type": "code",
      "metadata": {
        "id": "f9vZqaWzm9ON"
      },
      "source": [
        "# Import KNeighborsClassifier from sklearn.neighbors\n",
        "from sklearn.neighbors import KNeighborsClassifier \n",
        "# Create arrays for the features and the response variable\n",
        "Y = df['party'].values\n",
        "X = df.drop('party',axis=1).values\n",
        "# Create a k-NN classifier with 6 neighbors: knn\n",
        "knn = KNeighborsClassifier(n_neighbors=6)\n",
        "# Fit the classifier to the data\n",
        "knn.fit(X,Y)\n",
        "# Predict the labels for the training data X\n",
        "y_pred = knn.predict(X)\n",
        "# Predict and print the label for the new data point X_new\n",
        "new_prediction = knn.predict(X_new)\n",
        "print(\"Prediction: {}\".format(new_prediction))\n"
      ],
      "execution_count": null,
      "outputs": []
    },
    {
      "cell_type": "markdown",
      "metadata": {
        "id": "pEk3MM1bneba"
      },
      "source": [
        "Great work! Did your model predict 'democrat' or 'republican'? How sure can you be of its predictions? In other words, how can you measure its performance? This is what you will learn in the next video."
      ]
    },
    {
      "cell_type": "markdown",
      "metadata": {
        "id": "QNpcM-Kmnleo"
      },
      "source": [
        "## **1.4-Measuring model performance**\n",
        "\n",
        "**1. Measuring model performance**\n",
        "\n",
        "Now that we know how to fit a classifier and use it to predict the labels of previously unseen data, we need to figure out how to measure its performance. That is, we need a metric.\n",
        "\n",
        "**2. Measuring model performance**\n",
        "\n",
        "In classification problems, accuracy is a commonly-used metric. The accuracy of a classifier is defined as the number of correct predictions divided by the total number of data points. This begs the question though: which data do we use to compute accuracy? What we are really interested in is how well our model will perform on new data, that is, samples that the algorithm has never seen before.\n",
        "\n",
        "**3. Measuring model performance**\n",
        "\n",
        "Well, you could compute the accuracy on the data you used to fit the classifier. However, as this data was used to train it, the classifier's performance will not be indicative of how well it can generalize to unseen data. For this reason, it is common practice to split your data into two sets, a training set and a test set. You train or fit the classifier on the training set. Then you make predictions on the labeled test set and compare these predictions with the known labels. You then compute the accuracy of your predictions.\n",
        "\n",
        "**4. Train/test split**\n",
        "\n",
        "To do this, we first import train test split from sklearn dot model selection. We then use the train test split function to randomly split our data. The first argument will be the feature data, the second the targets or labels. The test size keyword argument specifies what proportion of the original data is used for the test set. Lastly, the random state kwarg sets a seed for the random number generator that splits the data into train and test. Setting the seed with the same argument later will allow you to reproduce the exact split and your downstream results. train test split returns four arrays: the training data, the test data, the training labels, and the test labels. We unpack these into four variables: X train, X test, y train, and y test, respectively. By default, train test split splits the data into 75% training data and 25% test data, which is a good rule of thumb. We specify the size of the test size using the keyword argument test size, which we do here to set it to 30%. It is also best practice to perform your split so that the split reflects the the labels on your data. That is, you want the labels to be distributed in train and test sets as they are in the original dataset. To achieve this, we use the keyword argument stratify equals y, where y the list or array containing the labels. We then instantiate our K-nearest neighbors classifier, fit it to the training data using the fit method, make our predictions on the test data and store the results as y pred. Printing them shows that the predictions take on three values, as expected. To check out the accuracy of our model, we use the score method of the model and pass it X test and y test. See here that the accuracy of our K-nearest neighbors model is approximately 95%, which is pretty good for an out-of-the-box model!\n",
        "\n",
        "\n"
      ]
    },
    {
      "cell_type": "code",
      "metadata": {
        "id": "Xf2MI0WgrRAn"
      },
      "source": [
        "In [1]: from sklearn.model_selection import train_test_split\n",
        "In [2]: X_train, X_test, y_train, y_test =\n",
        " ...: train_test_split(X, y, test_size=0.3,\n",
        " ...: random_state=21, stratify=y)\n",
        "In [3]: knn = KNeighborsClassifier(n_neighbors=8)\n",
        "In [4]: knn.fit(X_train, y_train)\n",
        "In [5]: y_pred = knn.predict(X_test)\n",
        "In [6]: print(\"Test set predictions:\\n {}\".format(y_pred))\n",
        "Test set predictions:\n",
        " [2 1 2 2 1 0 1 0 0 1 0 2 0 2 2 0 0 0 1 0 2 2 2 0 1 1 1 0 0\n",
        " 1 2 2 0 0 2 2 1 1 2 1 1 0 2 1]\n",
        "In [7]: knn.score(X_test, y_test)\n",
        "Out[7]: 0.9555555555555556"
      ],
      "execution_count": null,
      "outputs": []
    },
    {
      "cell_type": "markdown",
      "metadata": {
        "id": "qXXVboCVrqZ_"
      },
      "source": [
        "**5. Model complexity**\n",
        "\n",
        "Recall that we recently discussed the concept of a decision boundary. Here, we visualize a decision boundary for several, increasing values of K in a KNN model. Note that, as K increases, the decision boundary gets smoother and less curvy. Therefore, we consider it to be a less complex model than those with a lower K. Generally, complex models run the risk of being sensitive to noise in the specific data that you have, rather than reflecting general trends in the data. This is know as overfitting.\n",
        "\n",
        "1 Source: Andreas Müller & Sarah Guido, Introduction to Machine Learning with Python"
      ]
    },
    {
      "cell_type": "markdown",
      "metadata": {
        "id": "f5prd8pCthFF"
      },
      "source": [
        "![](\n",
        "https://drive.google.com/uc?export=view&id=1dYN4OVLuOuVlm_Nk6aB5UJF5oOrCAHgu)"
      ]
    },
    {
      "cell_type": "markdown",
      "metadata": {
        "id": "3GZGec3mHGyv"
      },
      "source": [
        "**6. Model complexity and over/underfitting**\n",
        "\n",
        "If you increase K even more and make the model even simpler, then the model will perform less well on both test and training sets, as indicated in this schematic figure, known as a model complexity curve.\n",
        "\n",
        "**7. Model complexity and over/underfitting**\n",
        "\n",
        "This is called underfitting.\n",
        "\n",
        "8-**Model complexity and over/underfitting**\n",
        "\n",
        "We can see that there is a sweet spot in the middle that gives us the best performance on the test set."
      ]
    },
    {
      "cell_type": "markdown",
      "metadata": {
        "id": "-FIduBl4IkQE"
      },
      "source": [
        "![](\n",
        "https://drive.google.com/uc?export=view&id=1PpCtAvU7BRZ9jVv4u68bNYqM56wwu7DU)"
      ]
    },
    {
      "cell_type": "markdown",
      "metadata": {
        "id": "ycz4-NxmKIGS"
      },
      "source": [
        "### **1.4.1-The digits recognition dataset**\n",
        "\n",
        "Up until now, you have been performing binary classification, since the target variable had two possible outcomes. Hugo, however, got to perform multi-class classification in the videos, where the target variable could take on three possible outcomes. Why does he get to have all the fun?! In the following exercises, you'll be working with the [MNIST digits](http://yann.lecun.com/exdb/mnist/) recognition dataset, which has 10 classes, the digits 0 through 9! A reduced version of the MNIST dataset is one of scikit-learn's included datasets, and that is the one we will use in this exercise.\n",
        "\n",
        "Each sample in this scikit-learn dataset is an 8x8 image representing a handwritten digit. Each pixel is represented by an integer in the range 0 to 16, indicating varying levels of black. Recall that scikit-learn's built-in datasets are of type Bunch, which are dictionary-like objects. Helpfully for the MNIST dataset, scikit-learn provides an 'images' key in addition to the 'data' and 'target' keys that you have seen with the Iris data. Because it is a 2D array of the images corresponding to each sample, this 'images' key is useful for visualizing the images, as you'll see in this exercise (for more on plotting 2D arrays, see Chapter 2 of DataCamp's course on Data Visualization with Python). On the other hand, the 'data' key contains the feature array - that is, the images as a flattened array of 64 pixels.\n",
        "\n",
        "Notice that you can access the keys of these Bunch objects in two different ways: By using the . notation, as in digits.images, or the [] notation, as in digits['images'].\n",
        "\n",
        "For more on the MNIST data, check out this exercise in Part 1 of DataCamp's Importing Data in Python course. There, the full version of the MNIST dataset is used, in which the images are 28x28. It is a famous dataset in machine learning and computer vision, and frequently used as a benchmark to evaluate the performance of a new model.\n",
        "\n",
        "\n"
      ]
    },
    {
      "cell_type": "markdown",
      "metadata": {
        "id": "OzHI9pqGLp2z"
      },
      "source": [
        "**Instruction**\n",
        "- Import datasets from sklearn and matplotlib.pyplot as plt.\n",
        "- Load the digits dataset using the .load_digits() method on datasets.\n",
        "- Print the keys and DESCR of digits.\n",
        "- Print the shape of images and data keys using the . notation.\n",
        "- Display the 1011th image using plt.imshow(). This has been done for you, so - "
      ]
    },
    {
      "cell_type": "code",
      "metadata": {
        "id": "ni-INgDJPruZ"
      },
      "source": [
        "# Import necessary modules\n",
        "from sklearn import datasets\n",
        "import matplotlib.pyplot as plt\n",
        "# Load the digits dataset: digits\n",
        "digits = datasets.load_digits()\n",
        "# Print the keys and DESCR of the dataset\n",
        "print(digits.keys())\n",
        "print(digits.DESCR)\n",
        "# Print the shape of the images and data keys\n",
        "print(digits.images.shape)\n",
        "print(digits.data.shape)\n",
        "# Display digit 1010\n",
        "plt.imshow(digits.images[1010], cmap=plt.cm.gray_r, interpolation='nearest')\n",
        "plt.show()"
      ],
      "execution_count": null,
      "outputs": []
    },
    {
      "cell_type": "markdown",
      "metadata": {
        "id": "HzNkgyrCPuf6"
      },
      "source": [
        "![](https://drive.google.com/uc?export=view&id=1fxZvtyQK9aDEz5p5r6v507HSg9AOCH07)"
      ]
    },
    {
      "cell_type": "markdown",
      "metadata": {
        "id": "r9B6SKRPQAoL"
      },
      "source": [
        "Good job! It looks like the image in question corresponds to the digit '5'. Now, can you build a classifier that can make this prediction not only for this image, but for all the other ones in the dataset? You'll do so in the next exercise!"
      ]
    },
    {
      "cell_type": "markdown",
      "metadata": {
        "id": "3X9x-ul1QU7R"
      },
      "source": [
        "### **1.4.2 Train/Test Split + Fit/Predict/Accuracy**\n",
        "\n",
        "Now that you have learned about the importance of splitting your data into training and test sets, it's time to practice doing this on the digits dataset! After creating arrays for the features and target variable, you will split them into training and test sets, fit a k-NN classifier to the training data, and then compute its accuracy using the .score() method.\n",
        "\n",
        "\n"
      ]
    },
    {
      "cell_type": "markdown",
      "metadata": {
        "id": "Neb9FScKQlLe"
      },
      "source": [
        "**Instruction** \n",
        "\n",
        "- Import KNeighborsClassifier from sklearn.neighbors and train_test_split from sklearn.model_selection.\n",
        "- Create an array for the features using digits.data and an array for the target using digits.target.\n",
        "- Create stratified training and test sets using 0.2 for the size of the test set. Use a random state of 42. Stratify the split according to the labels so that they are distributed in the training and test sets as they are in the original dataset.\n",
        "- Create a k-NN classifier with 7 neighbors and fit it to the training data.\n",
        "Compute and print the accuracy of the classifier's predictions using the .score() method."
      ]
    },
    {
      "cell_type": "code",
      "metadata": {
        "id": "xJ2lDOruSYsW"
      },
      "source": [
        "# Import necessary modules\n",
        "from sklearn.neighbors import KNeighborsClassifier\n",
        "from sklearn.model_selection import train_test_split\n",
        "from sklearn import datasets\n",
        "# Create feature and target arrays\n",
        "X = digits.data\n",
        "y = digits.target\n",
        "# Split into training and test set\n",
        "X_train, X_test, y_train, y_test = train_test_split(X, y, test_size = 0.2, random_state=42, stratify=y)\n",
        "# Create a k-NN classifier with 7 neighbors: knn\n",
        "knn = KNeighborsClassifier(n_neighbors=7)\n",
        "# Fit the classifier to the training data\n",
        "knn.fit(X_train,y_train)\n",
        "# Print the accuracy\n",
        "print(knn.score(X_test, y_test))\n"
      ],
      "execution_count": null,
      "outputs": []
    },
    {
      "cell_type": "markdown",
      "metadata": {
        "id": "XmNElNccSbbo"
      },
      "source": [
        "- Print the accuracy\n",
        "- print(knn.score(X_test, y_test))\n",
        "- 0.9833333333333333"
      ]
    },
    {
      "cell_type": "markdown",
      "metadata": {
        "id": "neaNhYnRStbf"
      },
      "source": [
        "Excellent work! Incredibly, this out of the box k-NN classifier with 7 neighbors has learned from the training data and predicted the labels of the images in the test set with 98% accuracy, and it did so in less than a second! This is one illustration of how incredibly useful machine learning techniques can be."
      ]
    },
    {
      "cell_type": "markdown",
      "metadata": {
        "id": "H9N65LgZSv-U"
      },
      "source": [
        "### **1.4.3 Overfitting and underfitting**\n",
        "\n",
        "Remember the model complexity curve that Hugo showed in the video? You will now construct such a curve for the digits dataset! In this exercise, you will compute and plot the training and testing accuracy scores for a variety of different neighbor values. By observing how the accuracy scores differ for the training and testing sets with different values of k, you will develop your intuition for overfitting and underfitting.\n",
        "\n",
        "The training and testing sets are available to you in the workspace as X_train, X_test, y_train, y_test. In addition, KNeighborsClassifier has been imported from sklearn.neighbors.\n"
      ]
    },
    {
      "cell_type": "markdown",
      "metadata": {
        "id": "puY6eFcyS_Qc"
      },
      "source": [
        "**Insruction**\n",
        "\n",
        "- Inside the for loop:\n",
        "  - Setup a k-NN classifier with the number of neighbors equal to k.\n",
        "- Fit the classifier with k neighbors to the training data.\n",
        "- Compute accuracy scores the training set and test set separately using the .- score() method and assign the results to the train_accuracy and test_accuracy arrays respectively."
      ]
    },
    {
      "cell_type": "code",
      "metadata": {
        "id": "0lA9Q7x_sesw"
      },
      "source": [
        "# Setup arrays to store train and test accuracies\n",
        "neighbors = np.arange(1, 9)\n",
        "train_accuracy = np.empty(len(neighbors))\n",
        "test_accuracy = np.empty(len(neighbors))\n",
        "# Loop over different values of k\n",
        "for i, k in enumerate(neighbors):\n",
        "    # Setup a k-NN Classifier with k neighbors: knn\n",
        "    knn = KNeighborsClassifier(n_neighbors=k)\n",
        "    # Fit the classifier to the training data\n",
        "    knn.fit(X_train,y_train)\n",
        "    #Compute accuracy on the training set\n",
        "    train_accuracy[i] = knn.score(X_train, y_train)\n",
        "    #Compute accuracy on the testing set\n",
        "    test_accuracy[i] = knn.score(X_test, y_test)\n",
        "# Generate plot\n",
        "plt.title('k-NN: Varying Number of Neighbors')\n",
        "plt.plot(neighbors, test_accuracy, label = 'Testing Accuracy')\n",
        "plt.plot(neighbors, train_accuracy, label = 'Training Accuracy')\n",
        "plt.legend()\n",
        "plt.xlabel('Number of Neighbors')\n",
        "plt.ylabel('Accuracy')\n",
        "plt.show()\n"
      ],
      "execution_count": null,
      "outputs": []
    },
    {
      "cell_type": "markdown",
      "metadata": {
        "id": "jAGVZvf4sjLU"
      },
      "source": [
        "![](\n",
        "https://drive.google.com/uc?export=view&id=1YWwLXp6yvdcpm4cn4TKPAPTVkGsxUTnL\n",
        ")"
      ]
    },
    {
      "cell_type": "markdown",
      "metadata": {
        "id": "rU6Pe1PftCrK"
      },
      "source": [
        "Great work! It looks like the test accuracy is highest when using 3 and 5 neighbors. Using 8 neighbors or more seems to result in a simple model that underfits the data. Now that you've grasped the fundamentals of classification, you will learn about regression in the next chapter!"
      ]
    },
    {
      "cell_type": "markdown",
      "metadata": {
        "id": "Xj769rRxVaE6"
      },
      "source": [
        "# **2-Regression**\n",
        "\n"
      ]
    },
    {
      "cell_type": "markdown",
      "metadata": {
        "id": "IyVCKSxCmjK6"
      },
      "source": [
        "## **2.1 Introduction to regression**"
      ]
    },
    {
      "cell_type": "markdown",
      "metadata": {
        "id": "ujHIBC9JVpL6"
      },
      "source": [
        "\n",
        "**1. Introduction to regression**\n",
        "\n",
        "Congrats on making it through that introduction to supervised learning and classification. Now, we're going to check out the other type of supervised learning problem: regression. In regression tasks, the target value is a continuously varying variable, such as a country's GDP or the price of a house.\n",
        "\n",
        "**2. Boston housing data**\n",
        "\n",
        "Our first regression task will be using the Boston housing dataset! Let's check out the data. First, we load it from a comma-separated values file, also known as a csv file, using pandas' read csv function. See the DataCamp course on importing data for more information on file formats and loading your data. Note that you can also load this data from scikit-learn's built-in datasets. We then view the head of the data frame using the head method. The documentation tells us the feature 'CRIM' is per capita crime rate, 'NX' is nitric oxides concentration, and 'RM' average number of rooms per dwelling, for example. The target variable, 'MEDV', is the median value of owner occupied homes in thousands of dollars.\n"
      ]
    },
    {
      "cell_type": "code",
      "metadata": {
        "id": "_bXNLBV6Wzay"
      },
      "source": [
        " boston = pd.read_csv('boston.csv')\n",
        "print(boston.head())\n",
        "\n",
        "CRIM ZN INDUS CHAS NX RM AGE DIS RAD TAX \\\n",
        "0 0.00632 18.0 2.31 0 0.538 6.575 65.2 4.0900 1 296.0\n",
        "1 0.02731 0.0 7.07 0 0.469 6.421 78.9 4.9671 2 242.0\n",
        "2 0.02729 0.0 7.07 0 0.469 7.185 61.1 4.9671 2 242.0\n",
        "3 0.03237 0.0 2.18 0 0.458 6.998 45.8 6.0622 3 222.0\n",
        "4 0.06905 0.0 2.18 0 0.458 7.147 54.2 6.0622 3 222.0\n",
        " PTRATIO B LSTAT MEDV\n",
        "0 15.3 396.90 4.98 24.0\n",
        "1 17.8 396.90 9.14 21.6 "
      ],
      "execution_count": null,
      "outputs": []
    },
    {
      "cell_type": "markdown",
      "metadata": {
        "id": "hD1nRpj8XF2h"
      },
      "source": [
        "**3. Creating feature and target arrays**\n",
        "\n",
        "Now, given data as such, recall that scikit-learn wants 'features' and target' values in distinct arrays, X and y,. Thus, we split our DataFrame: in the first line here, we drop the target; in the second, we keep only the target. Using the values attributes returns the NumPy arrays that we will use."
      ]
    },
    {
      "cell_type": "code",
      "metadata": {
        "id": "lmbyGoxBXLoH"
      },
      "source": [
        " X = boston.drop('MEDV', axis=1).values\n",
        " y = boston['MEDV'].values"
      ],
      "execution_count": null,
      "outputs": []
    },
    {
      "cell_type": "markdown",
      "metadata": {
        "id": "Rp526EPKcsL6"
      },
      "source": [
        "**4. Predicting house value from a single feature**\n",
        "\n",
        "As a first task, let's try to predict the price from a single feature: the average number of rooms in a block. To do this, we slice out the number of rooms column of the DataFrame X, which is the fifth column into the variable X rooms. Checking the type of X rooms and y, we see that both are NumPy arrays. To turn them into NumPy arrays of the desired shape, we apply the reshape method to keep the first dimension, but add another dimension of size one to X."
      ]
    },
    {
      "cell_type": "code",
      "metadata": {
        "id": "OSRY9EQRdERj"
      },
      "source": [
        "X_rooms = X[:,5]\n",
        "type(X_rooms), type(y)\n",
        "(numpy.ndarray, numpy.ndarray)\n",
        "y = y.reshape(-1, 1)\n",
        "X_rooms = X_rooms.reshape(-1, 1)"
      ],
      "execution_count": null,
      "outputs": []
    },
    {
      "cell_type": "markdown",
      "metadata": {
        "id": "aupjha5JdVbw"
      },
      "source": [
        "**5. Plotting house value vs. number of rooms**\n",
        "\n",
        "Now, let's plot house value as a function of number of rooms using matplotlib's plt dot scatter. We'll also label our axes using x label and y label.\n",
        "\n",
        "**6. Plotting house value vs. number of rooms**\n",
        "\n",
        "We can immediately see that, as one might expect, more rooms lead to higher prices."
      ]
    },
    {
      "cell_type": "code",
      "metadata": {
        "id": "mKVJHBZ5dejq"
      },
      "source": [
        "plt.scatter(X_rooms, y)\n",
        "plt.ylabel('Value of house /1000 ($)')\n",
        "plt.xlabel('Number of rooms')\n",
        "plt.show();"
      ],
      "execution_count": null,
      "outputs": []
    },
    {
      "cell_type": "markdown",
      "metadata": {
        "id": "qzW9Jkuoltms"
      },
      "source": [
        "![](https://drive.google.com/uc?export=view&id=1jqCvIr04_b0bXGcSfc0hWeSK1C2uwBos)"
      ]
    },
    {
      "cell_type": "markdown",
      "metadata": {
        "id": "PQrS8Nsqu81Y"
      },
      "source": [
        "**7. Fitting a regression model**\n",
        "\n",
        "It's time to fit a regression model to our data. We're going to use a model called linear regression, which we'll explain in the next video. But first, I'm going to show you how to fit it and to plot its predictions. We import numpy as np, linear model from sklearn, and instantiate LinearRegression as regr. We then fit the regression to the data using regr dot fit and passing in the data, the number of rooms, and the target variable, the house price, as we did with the classification problems. After this, we want to check out the regressors predictions over the range of the data. We can achieve that by using np linspace between the maximum and minimum number of rooms and make a prediction for this data.\n",
        "\n",
        "**8. Fitting a regression model**\n",
        "\n",
        "Plotting this line with the scatter plot results in the figure you see here."
      ]
    },
    {
      "cell_type": "code",
      "metadata": {
        "id": "H3NFaX_TvFI-"
      },
      "source": [
        "import numpy as np\n",
        "from sklearn import linear_model\n",
        "reg = linear_model.LinearRegression()\n",
        "reg.fit(X_rooms, y)\n",
        "prediction_space = np.linspace(min(X_rooms),\n",
        "max(X_rooms)).reshape(-1, 1)\n",
        "plt.scatter(X_rooms, y, color='blue')\n",
        "plt.plot(prediction_space, reg.predict(prediction_space),\n",
        " ...: color='black', linewidth=3)\n",
        "plt.show()\n"
      ],
      "execution_count": null,
      "outputs": []
    },
    {
      "cell_type": "markdown",
      "metadata": {
        "id": "_sB1lUDxvtiM"
      },
      "source": [
        "![](\n",
        "https://drive.google.com/uc?export=view&id=1BDWAvjpKGo3iaNwy0ctajpVdQ2TiKdg2)"
      ]
    },
    {
      "cell_type": "markdown",
      "metadata": {
        "id": "lKcVRy4IacI6"
      },
      "source": [
        "### **2.1.1 Importing data for supervised learning**\n",
        "\n",
        "In this chapter, you will work with [Gapminder](https://www.gapminder.org/data/) data that we have consolidated into one CSV file available in the workspace as 'gapminder.csv'. Specifically, your goal will be to use this data to predict the life expectancy in a given country based on features such as the country's GDP, fertility rate, and population. As in Chapter 1, the dataset has been preprocessed.\n",
        "\n",
        "Since the target variable here is quantitative, this is a regression problem. To begin, you will fit a linear regression with just one feature: 'fertility', which is the average number of children a woman in a given country gives birth to. In later exercises, you will use all the features to build regression models.\n",
        "\n",
        "Before that, however, you need to import the data and get it into the form needed by scikit-learn. This involves creating feature and target variable arrays. Furthermore, since you are going to use only one feature to begin with, you need to do some reshaping using NumPy's .reshape() method. Don't worry too much about this reshaping right now, but it is something you will have to do occasionally when working with scikit-learn so it is useful to practice."
      ]
    },
    {
      "cell_type": "markdown",
      "metadata": {
        "id": "RctzEfYThTEx"
      },
      "source": [
        "**instruction**\n",
        "\n",
        "- Import numpy and pandas as their standard aliases.\n",
        "- Read the file 'gapminder.csv' into a DataFrame df using the read_csv() function.\n",
        "- Create array X for the 'fertility' feature and array y for the 'life' target variable.\n",
        "- Reshape the arrays by using the .reshape() method and passing in -1 and 1."
      ]
    },
    {
      "cell_type": "markdown",
      "metadata": {
        "id": "n83hDUknhdwi"
      },
      "source": [
        "**Hint**\n",
        "\n",
        "- Use import x as y to import x as the alias y.\n",
        "- To read in the CSV file 'gapminder.csv', pass it in as an argument to pd.read_csv().\n",
        "- To create the arrays, first select the column using df['column_name'] and then access its .values attribute.\n",
        "- Use .reshape(-1, 1) on X and y to reshape them."
      ]
    },
    {
      "cell_type": "code",
      "metadata": {
        "id": "VVyccSJui90a"
      },
      "source": [
        "# Import numpy and pandas\n",
        "import numpy as np\n",
        "import pandas as pd\n",
        "# Read the CSV file into a DataFrame: df\n",
        "df = pd.read_csv('gapminder.csv')\n",
        "# Create arrays for features and target variable\n",
        "y = df['life'].values\n",
        "X = df['fertility'].values\n",
        "# Print the dimensions of X and y before reshaping\n",
        "print(\"Dimensions of y before reshaping: {}\".format(y.shape))\n",
        "print(\"Dimensions of X before reshaping: {}\".format(X.shape))\n",
        "# Reshape X and y\n",
        "y = y.reshape(1,-1)\n",
        "X = X.reshape(1,-1)\n",
        "# Print the dimensions of X and y after reshaping\n",
        "print(\"Dimensions of y after reshaping: {}\".format(y.shape))\n",
        "print(\"Dimensions of X after reshaping: {}\".format(X.shape))"
      ],
      "execution_count": null,
      "outputs": []
    },
    {
      "cell_type": "markdown",
      "metadata": {
        "id": "SJiqlJpajmkH"
      },
      "source": [
        "Great work! Notice the differences in shape before and after applying the .reshape() method. Getting the feature and target variable arrays into the right format for scikit-learn is an important precursor to model building."
      ]
    },
    {
      "cell_type": "markdown",
      "metadata": {
        "id": "D4GK_RS8mZ2k"
      },
      "source": [
        "### **2.1.2 Exploring the Gapminder data**\n",
        "\n",
        "As always, it is important to explore your data before building models. On the right, we have constructed a heatmap showing the correlation between the different features of the Gapminder dataset, which has been pre-loaded into a DataFrame as df and is available for exploration in the IPython Shell. Cells that are in green show positive correlation, while cells that are in red show negative correlation. Take a moment to explore this: Which features are positively correlated with life, and which ones are negatively correlated? Does this match your intuition?\n",
        "\n",
        "Then, in the IPython Shell, explore the DataFrame using pandas methods such as .info(), .describe(), .head().\n",
        "\n",
        "In case you are curious, the heatmap was generated using Seaborn's heatmap function and the following line of code, where df.corr() computes the pairwise correlation between columns:\n",
        "\n",
        "sns.heatmap(df.corr(), square=True, cmap='RdYlGn')\n",
        "\n",
        "Once you have a feel for the data, consider the statements below and select the one that is not true. After this, Hugo will explain the mechanics of linear regression in the next video and you will be on your way building regression models!"
      ]
    },
    {
      "cell_type": "markdown",
      "metadata": {
        "id": "JoxxOGUFaBVs"
      },
      "source": [
        "![](https://drive.google.com/uc?export=view&id=1xvQRRgKKUOe-Tz9ZhC0Z-PpZJuenUZNQ)"
      ]
    },
    {
      "cell_type": "markdown",
      "metadata": {
        "id": "7iMkoWmvaM5E"
      },
      "source": [
        "**Possible Answers**\n",
        "\n",
        "\n",
        "- The DataFrame has 139 samples (or rows) and 9 columns.\n",
        "- life and fertility are negatively correlated.\n",
        "- The mean of life is 69.602878.\n",
        "- **fertility is of type int64.**\n",
        "- GDP and life are positively correlated."
      ]
    },
    {
      "cell_type": "markdown",
      "metadata": {
        "id": "EgsDpwE-a1L3"
      },
      "source": [
        "Good job! As seen by using df.info(), fertility, along with all the other columns, is of type float64, not int64"
      ]
    },
    {
      "cell_type": "markdown",
      "metadata": {
        "id": "wn0fRa8Fci_w"
      },
      "source": [
        "## **2.2- The basics of linear regression**\n",
        "\n",
        "1.**The basics of linear regression**\n",
        "\n",
        "Now, how does linear regression actually work?\n",
        "\n",
        "**2. Regression mechanics**\n",
        "\n",
        "We want to fit a line to the data and a line in two dimensions is always of the form y = ax + b, where y is the target, x is the single feature, and a and b are the parameters of the model that we want to learn. So the question of fitting is reduced to: how do we choose a and b? A common method is to define an error function for any given line and then to choose the line that minimizes the error function. Such an error function is also called a loss or a cost function.\n"
      ]
    },
    {
      "cell_type": "markdown",
      "metadata": {
        "id": "_z_h2SAsdNXp"
      },
      "source": [
        "**3. The loss function**\n",
        "\n",
        "What will our loss function be? Intuitively, we want the line to be as close to the\n",
        "\n",
        "**4. The loss function**\n",
        "\n",
        "actual data points as possible. For this reason, we wish to minimize the vertical distance between the fit and the data. So for each data point,"
      ]
    },
    {
      "cell_type": "markdown",
      "metadata": {
        "id": "eG44e7UJfGas"
      },
      "source": [
        "**5. The loss function**\n",
        "\n",
        "we calculate the vertical distance between it and the line. This distance is called a residual.\n",
        "\n",
        "**6. The loss function**\n",
        "\n",
        "Now, we could try to minimize the sum of the residuals,\n",
        "\n",
        "**7. The loss function**\n",
        "\n",
        "but then a large positive residual would cancel out\n",
        "\n",
        "**8. The loss function**\n",
        "\n",
        "a large negative residual. For this reason we minimize the sum of the squares of the residuals! This will be our loss function and using this loss function is commonly called ordinary least squares, or OLS for short. Note that this is the same as minimizing the mean squared error of the predictions on the training set. See our statistics curriculum for more detail. When you call fit on a linear regression model in scikit-learn, it performs this OLS under the hood."
      ]
    },
    {
      "cell_type": "markdown",
      "metadata": {
        "id": "Ol2Fg2tte3Hr"
      },
      "source": [
        "![](https://drive.google.com/uc?export=view&id=15dcv0DfIVn8qDtFCAvj6Aaxrr267PDxo)"
      ]
    },
    {
      "cell_type": "markdown",
      "metadata": {
        "id": "lIG8wdbPbIy0"
      },
      "source": [
        "### **2.2.1 Fit & predict for regression**\n",
        "\n",
        "Now, you will fit a linear regression and predict life expectancy using just one feature. You saw Andy do this earlier using the 'RM' feature of the Boston housing dataset. In this exercise, you will use the 'fertility' feature of the Gapminder dataset. Since the goal is to predict life expectancy, the target variable here is 'life'. The array for the target variable has been pre-loaded as y and the array for 'fertility' has been pre-loaded as X_fertility.\n",
        "\n",
        "A scatter plot with 'fertility' on the x-axis and 'life' on the y-axis has been generated. As you can see, there is a strongly negative correlation, so a linear regression should be able to capture this trend. Your job is to fit a linear regression and then predict the life expectancy, overlaying these predicted values on the plot to generate a regression line. You will also compute and print the  score using sckit-learn's .score() method."
      ]
    },
    {
      "cell_type": "markdown",
      "metadata": {
        "id": "Juk_945pcAGI"
      },
      "source": [
        "**Instruction**\n",
        "\n",
        "- Import LinearRegression from sklearn.linear_model.\n",
        "- Create a LinearRegression regressor called reg.\n",
        "- Set up the prediction space to range from the minimum to the maximum of X_fertility. This has been done for you.\n",
        "- Fit the regressor to the data (X_fertility and y) and  compute its predictions using the .predict() method and the prediction_space array.\n",
        "- Compute and print the  score using the .score() method.\n",
        "- Overlay the plot with your linear regression line. This has been done for you, so hit 'Submit Answer' to see the result!"
      ]
    },
    {
      "cell_type": "markdown",
      "metadata": {
        "id": "ktSdO0V9cc_e"
      },
      "source": [
        "**Hint**\n",
        "\n",
        "- You can import x from y using the command from y import x.\n",
        "- Use the function LinearRegression() to create the regressor.\n",
        "- Use the .fit() method on reg with X_fertility and y as arguments to fit the model.\n",
        "- Use the .predict() method on reg with prediction_space as the argument to compute the predictions.\n",
        "- Use the .score() method with X_fertility and y as arguments to compute the  score."
      ]
    },
    {
      "cell_type": "code",
      "metadata": {
        "id": "Z4oDGz_KeTgu"
      },
      "source": [
        "# Import LinearRegression\n",
        "from  sklearn.linear_model import LinearRegression \n",
        "\n",
        "# Create the regressor: reg\n",
        "reg = LinearRegression()\n",
        "\n",
        "# Create the prediction space\n",
        "prediction_space = np.linspace(min(X_fertility), max(X_fertility)).reshape(-1,1)\n",
        "\n",
        "# Fit the model to the data\n",
        "reg.fit(X_fertility,y)\n",
        "\n",
        "# Compute predictions over the prediction space: y_pred\n",
        "y_pred = reg.predict(prediction_space)\n",
        "\n",
        "# Print R^2 \n",
        "print(reg.score(X_fertility, y))\n",
        "\n",
        "# Plot regression line\n",
        "plt.plot(prediction_space, y_pred, color='black', linewidth=3)\n",
        "plt.show()\n"
      ],
      "execution_count": null,
      "outputs": []
    },
    {
      "cell_type": "markdown",
      "metadata": {
        "id": "ia78yQqteY88"
      },
      "source": [
        "0.6192442167740035\n",
        "![](https://drive.google.com/uc?export=view&id=17iAekZUxgGDNbyrLGGkTR1h7Cps-LKHm)"
      ]
    },
    {
      "cell_type": "markdown",
      "metadata": {
        "id": "3AVQHUT0f8ku"
      },
      "source": [
        "### **2.2.2 Train/test split for regression**"
      ]
    },
    {
      "cell_type": "markdown",
      "metadata": {
        "id": "4slCY06SgOMz"
      },
      "source": [
        "As you learned in Chapter 1, train and test sets are vital to ensure that your supervised learning model is able to generalize well to new data. This was true for classification models, and is equally true for linear regression models.\n",
        "\n",
        "In this exercise, you will split the Gapminder dataset into training and testing sets, and then fit and predict a linear regression over all features. In addition to computing the  score, you will also compute the Root Mean Squared Error (RMSE), which is another commonly used metric to evaluate regression models. The feature array X and target variable array y have been pre-loaded for you from the DataFrame df."
      ]
    },
    {
      "cell_type": "markdown",
      "metadata": {
        "id": "dOK-gUTzgV9d"
      },
      "source": [
        "**Instruction**\n",
        "\n",
        "- Import LinearRegression from sklearn.linear_model, mean_squared_error from sklearn.metrics, and train_test_split from sklearn.model_selection.\n",
        "- Using X and y, create training and test sets such that 30% is used for testing and 70% for training. Use a random state of 42.\n",
        "- Create a linear regression regressor called reg_all, fit it to the training set, and evaluate it on the test set.\n",
        "- Compute and print the  score using the .score() method on the test set.\n",
        "- Compute and print the RMSE. To do this, first compute the Mean Squared Error using the mean_squared_error() function with the arguments y_test and y_pred, and then take its square root using np.sqrt()."
      ]
    },
    {
      "cell_type": "code",
      "metadata": {
        "id": "GHUotWmGjxWq"
      },
      "source": [
        "# Import necessary modules\n",
        "from sklearn.linear_model import LinearRegression\n",
        "from sklearn.metrics import mean_squared_error\n",
        "from sklearn.model_selection import train_test_split\n",
        "# Create training and test sets\n",
        "X_train, X_test, y_train, y_test = train_test_split(X, y, test_size = 0.3, random_state=42)\n",
        "# Create the regressor: reg_all\n",
        "reg_all = LinearRegression()\n",
        "# Fit the regressor to the training data\n",
        "reg_all.fit(X_train,y_train)\n",
        "# Predict on the test data: y_pred\n",
        "y_pred = reg_all.predict(X_test)\n",
        "# Compute and print R^2 and RMSE\n",
        "print(\"R^2: {}\".format(reg_all.score(X_test, y_test)))\n",
        "rmse = np.sqrt(mean_squared_error(y_test,y_pred))\n",
        "print(\"Root Mean Squared Error: {}\".format(rmse))"
      ],
      "execution_count": null,
      "outputs": []
    },
    {
      "cell_type": "markdown",
      "metadata": {
        "id": "EwsWul3lkI2k"
      },
      "source": [
        "Compute and print R^2 and RMSE\n",
        "print(\"R^2: {}\".format(reg_all.score(X_test, y_test))) rmse = np.sqrt(mean_squared_error(y_test,y_pred)) print(\"Root Mean Squared Error: {}\".format(rmse))"
      ]
    },
    {
      "cell_type": "markdown",
      "metadata": {
        "id": "SxQKUDXrpiwa"
      },
      "source": [
        "Excellent! Using all features has improved the model score. This makes sense, as the model has more information to learn from. However, there is one potential pitfall to this process. Can you spot it? You'll learn about this as well how to better validate your models in the next video!"
      ]
    },
    {
      "cell_type": "markdown",
      "metadata": {
        "id": "iOhh6F5mpyNe"
      },
      "source": [
        "## 2.3 **Cross-validation**"
      ]
    },
    {
      "cell_type": "markdown",
      "metadata": {
        "id": "PzCwAt-7rzC_"
      },
      "source": [
        "**1. Cross-validation**\n",
        "\n",
        "Great work on those regression challenges! You are now also becoming more acquainted with train test split and computing model performance metrics on your test set. Can you spot a potential pitfall of this process? Well, let's think about it for a bit:"
      ]
    },
    {
      "cell_type": "markdown",
      "metadata": {
        "id": "PsEdi0uCsARN"
      },
      "source": [
        "**2. Cross-validation motivation**\n",
        "\n",
        "if you're computing R squared on your test set, the R squared returned is dependent on the way that you split up the data! The data points in the test set may have some peculiarities that mean the R squared computed on it is not representative of the model's ability to generalize to unseen data. To combat this dependence on what is essentially an arbitrary split, we use a technique called cross-validation."
      ]
    },
    {
      "cell_type": "markdown",
      "metadata": {
        "id": "tA3e16c9saqm"
      },
      "source": [
        "**3. Cross-validation basics**\n",
        "\n",
        "We begin by splitting the dataset into five groups or folds.\n",
        "\n",
        "**4. Cross-validation basics**\n",
        "\n",
        "Then we hold out the first fold as a test set,\n",
        "\n",
        "**5. Cross-validation basics **\n",
        "\n",
        "fit our model on the remaining four folds,\n",
        "\n",
        "**6. Cross-validation basics**\n",
        "\n",
        "predict on the test set, and\n",
        "\n",
        "**7. Cross-validation basics**\n",
        "\n",
        "compute the metric of interest.\n",
        "\n",
        "**8. Cross-validation basics**\n",
        "\n",
        "Next, we hold out the\n",
        "\n",
        "**9. Cross-validation basics**\n",
        "\n",
        "second fold as our test set,\n",
        "\n",
        "**10. Cross-validation basics**\n",
        "\n",
        "fit on the remaining data,\n",
        "\n",
        "**11. Cross-validation basics**\n",
        "\n",
        "predict on the test set, and\n",
        "\n",
        "**12. Cross-validation basics **\n",
        "\n",
        "compute the metric of interest. Then similarly\n",
        "\n",
        "**13. Cross-validation basics**\n",
        "\n",
        "with the third,\n",
        "\n",
        "**14. Cross-validation basics**\n",
        "\n",
        "fourth, and\n",
        "\n",
        "**15. Cross-validation basics**\n",
        "\n",
        "fifth fold.\n",
        "\n",
        "**16. Cross-validation basics**\n",
        "\n",
        "As a result we get five values of R squared from which we can compute statistics of interest, such as the mean and median and 95% confidence intervals."
      ]
    },
    {
      "cell_type": "markdown",
      "metadata": {
        "id": "HwkqCBzbuAWX"
      },
      "source": [
        "![](\n",
        "https://drive.google.com/uc?export=view&id=1b8bAOYtidKp9F497K6Hif40ZpOnIPU1k)"
      ]
    },
    {
      "cell_type": "markdown",
      "metadata": {
        "id": "4ivf-xPhui5N"
      },
      "source": [
        "**17. Cross-validation and model performance**\n",
        "\n",
        "As we split the dataset into five folds, we call this process 5-fold cross validation. If you use 10 folds, it is called 10-fold cross validation. More generally, if you use k folds, it is called k-fold cross validation or k-fold CV. There is, however, a trade-off as using more folds is more computationally expensive. This is because you are fittings and predicting more times. This method avoids the problem of your metric of choice being dependent on the train test split.\n",
        "\n",
        "**18. Cross-validation in scikit-learn**\n",
        "\n",
        "To perform k-fold CV in scikit-learn, we first import cross val score from sklearn dot model selection. As always, we instantiate our model, in this case, a regressor. We then call cross val score with the regressor, the feature data, and the target data as the first three positional arguments. We also specify the number of folds with the keyword argument, cv. This returns an array of cross-validation scores, which we assign to cv results. The length of the array is the number of folds utilized. Note that the score reported is R squared, as this is the default score for linear regression. . We print the scores here. We can also, for example, compute the mean, which we also do."
      ]
    },
    {
      "cell_type": "code",
      "metadata": {
        "id": "6s12P0SZu6bu"
      },
      "source": [
        "In [1]: from sklearn.model_selection import cross_val_score\n",
        "In [2]: reg = linear_model.LinearRegression()\n",
        "In [3]: cv_results = cross_val_score(reg, X, y, cv=5)\n",
        "In [4]: print(cv_results)\n",
        "[ 0.63919994 0.71386698 0.58702344 0.07923081 -0.25294154]\n",
        "In [5]: np.mean(cv_results)\n",
        "Out[5]: 0.35327592439587058"
      ],
      "execution_count": null,
      "outputs": []
    },
    {
      "cell_type": "markdown",
      "metadata": {
        "id": "A9vB4ZfEkOpI"
      },
      "source": [
        "### **2.3.1- 5-fold cross-validation**\n",
        "\n",
        "Cross-validation is a vital step in evaluating a model. It maximizes the amount of data that is used to train the model, as during the course of training, the model is not only trained, but also tested on all of the available data.\n",
        "\n",
        "In this exercise, you will practice 5-fold cross validation on the Gapminder data. By default, scikit-learn's cross_val_score() function uses  as the metric of choice for regression. Since you are performing 5-fold cross-validation, the function will return 5 scores. Your job is to compute these 5 scores and then take their average.\n",
        "\n",
        "The DataFrame has been loaded as df and split into the feature/target variable arrays X and y. The modules pandas and numpy have been imported as pd and np, respectively.\n",
        "\n",
        "**Instruction**\n",
        "\n",
        "- Import LinearRegression from sklearn.linear_model and cross_val_score from sklearn.model_selection.\n",
        "- Create a linear regression regressor called reg.\n",
        "- Use the cross_val_score() function to perform 5-fold cross-validation on X and y.\n",
        "- Compute and print the average cross-validation score. You can use NumPy's mean() function to compute the average."
      ]
    },
    {
      "cell_type": "code",
      "metadata": {
        "id": "kLF5ZeepqSr1"
      },
      "source": [
        "# Import the necessary modules\n",
        "from sklearn.linear_model import LinearRegression\n",
        "from sklearn.model_selection import cross_val_score\n",
        "# Create a linear regression object: reg\n",
        "reg = LinearRegression()\n",
        "# Compute 5-fold cross-validation scores: cv_scores\n",
        "cv_scores = cross_val_score(reg,X,y,cv=3)\n",
        "# Print the 5-fold cross-validation scores\n",
        "print(np.mean(cv_scores))"
      ],
      "execution_count": null,
      "outputs": []
    },
    {
      "cell_type": "markdown",
      "metadata": {
        "id": "qebutKhhqVl_"
      },
      "source": [
        "0.8718712782622108\n"
      ]
    },
    {
      "cell_type": "markdown",
      "metadata": {
        "id": "os8eNEE3q3Lw"
      },
      "source": [
        "### **2.3.2 K-Fold CV comparison**\n",
        "\n",
        "Cross validation is essential but do not forget that the more folds you use, the more computationally expensive cross-validation becomes. In this exercise, you will explore this for yourself. Your job is to perform 3-fold cross-validation and then 10-fold cross-validation on the Gapminder dataset.\n",
        "\n",
        "In the IPython Shell, you can use %timeit to see how long each 3-fold CV takes compared to 10-fold CV by executing the following cv=3 and cv=10:\n",
        "\n",
        "%timeit cross_val_score(reg, X, y, cv = ____)\n",
        "pandas and numpy are available in the workspace as pd and np. The DataFrame has been loaded as df and the feature/target variable arrays X and y have been created.\n",
        "\n",
        "- Import LinearRegression from sklearn.linear_model and cross_val_score from sklearn.model_selection.\n",
        "- Create a linear regression regressor called reg.\n",
        "- Perform 3-fold CV and then 10-fold CV. Compare the resulting mean scores."
      ]
    },
    {
      "cell_type": "code",
      "metadata": {
        "id": "WLgRWO13vxTc"
      },
      "source": [
        "# Import necessary modules\n",
        "from sklearn.linear_model import LinearRegression\n",
        "from sklearn.model_selection import cross_val_score\n",
        "\n",
        "# Create a linear regression object: reg\n",
        "reg = LinearRegression()\n",
        "\n",
        "# Perform 3-fold CV\n",
        "%timeit cvscores_3 = cross_val_score(reg,X,y,cv=3)\n",
        "print(np.mean(cvscores_3))\n",
        "\n",
        "# Perform 10-fold CV\n",
        "%timeit cvscores_10 = cross_val_score(reg,X,y,cv=10)\n",
        "print(np.mean(cvscores_10))\n",
        "\n"
      ],
      "execution_count": null,
      "outputs": []
    },
    {
      "cell_type": "markdown",
      "metadata": {
        "id": "kBXg-ibBwe1A"
      },
      "source": [
        "Perform 10-fold CV\n",
        "- %timeit cvscores_10 = cross_val_score(reg,X,y,cv=10)\n",
        "- print(np.mean(cvscores_10))\n",
        "- 100 loops, best of 3: 10.9 ms per loop\n",
        "- 0.8718712782622108\n",
        "- 10 loops, best of 3: 34.2 ms per loop\n",
        "- 0.8436128620131201"
      ]
    },
    {
      "cell_type": "markdown",
      "metadata": {
        "id": "nmflJFJX4EfR"
      },
      "source": [
        "## **2.4-Regularized regression**"
      ]
    },
    {
      "cell_type": "markdown",
      "metadata": {
        "id": "9UaemC3d4PoB"
      },
      "source": [
        "**1. Regularized regression**\n",
        "\n",
        "Recall that\n",
        "\n",
        "**2. Why regularize?**\n",
        "\n",
        "what fitting a linear regression does is minimize a loss function to choose a coefficient ai for each feature variable. If we allow these coefficients or parameters to be super large, we can get overfitting. It isn't so easy to see in two dimensions, but when you have loads and loads of features, that is, if your data sit in a high-dimensional space with large coefficients, it gets easy to predict nearly anything. For this reason, it is common practice to alter the loss function so that it penalizes for large coefficients. This is called regularization. The first type of regularized regression that we'll look at is called ridge regression"
      ]
    },
    {
      "cell_type": "markdown",
      "metadata": {
        "id": "2A1UvF4q5hEK"
      },
      "source": [
        "**3. Ridge regression**\n",
        "\n",
        "in which our loss function is the standard OLS loss function plus the squared value of each coefficient multiplied by some constant alpha. Thus, when minimizing the loss function to fit to our data, models are penalized for coefficients with a large magnitude: large positive and large negative coefficients, that is. Note that alpha is a parameter we need to choose in order to fit and predict. Essentially, we can select the alpha for which our model performs best. Picking alpha for ridge regression is similar to picking k in KNN. This is called hyperparameter tuning and we'll see much more of this soon. This alpha, which you may also see called lambda in the wild, can be thought of as a parameter that controls model complexity. Notice that when alpha is equal to zero, we get back OLS. Large coefficients in this case are not penalized and the overfitting problem is not accounted for. A very high alpha means that large coefficients are significantly penalized, which can lead to a model that is too simple and ends up underfitting the data. The method of performing ridge regression with scikit-learn mirrors the other models that we have seen."
      ]
    },
    {
      "cell_type": "markdown",
      "metadata": {
        "id": "rlstCJap8kT5"
      },
      "source": [
        "![](https://drive.google.com/uc?export=view&id=16TIM4nHfHU9Rc2Gfa3hRtfuRUjR5Z7II)"
      ]
    },
    {
      "cell_type": "markdown",
      "metadata": {
        "id": "kvy_XAFHOYeU"
      },
      "source": [
        "**4. Ridge regression in scikit-learn**\n",
        "\n",
        "We import Ridge from sklearn dot linear model, we split our data into test and train, fit on the training, and predict on the test. Note that we set alpha using the keyword argument alpha. Also notice the argument normalize: setting this equal to True ensures that all our variables are on the same scale and we will cover this in more depth later. There is another type of regularized regression called lasso regression,"
      ]
    },
    {
      "cell_type": "code",
      "metadata": {
        "id": "FJqfJ67HO7X4"
      },
      "source": [
        "In [1]: from sklearn.linear_model import Ridge\n",
        "In [2]: X_train, X_test, y_train, y_test = train_test_split(X, y,\n",
        " ...: test_size = 0.3, random_state=42)\n",
        "In [3]: ridge = Ridge(alpha=0.1, normalize=True)\n",
        "In [4]: ridge.fit(X_train, y_train)\n",
        "In [5]: ridge_pred = ridge.predict(X_test)\n",
        "In [6]: ridge.score(X_test, y_test)\n",
        "Out[6]: 0.69969382751273179"
      ],
      "execution_count": null,
      "outputs": []
    },
    {
      "cell_type": "markdown",
      "metadata": {
        "id": "CFffkIs0O9bZ"
      },
      "source": [
        "**5. Lasso regression**\n",
        "\n",
        "in which our loss function is the standard OLS loss function plus the absolute value of each coefficient multiplied by some constant alpha.\n",
        "\n",
        "**6. Lasso regression in scikit-learn**\n",
        "\n",
        "The method of performing lasso regression in scikit-learn mirrors ridge regression, as you can see here."
      ]
    },
    {
      "cell_type": "code",
      "metadata": {
        "id": "1VRg2l4nROZX"
      },
      "source": [
        "In [1]: from sklearn.linear_model import Lasso\n",
        "In [2]: X_train, X_test, y_train, y_test = train_test_split(X, y,\n",
        " ...: test_size = 0.3, random_state=42)\n",
        "In [3]: lasso = Lasso(alpha=0.1, normalize=True)\n",
        "In [4]: lasso.fit(X_train, y_train)\n",
        "In [5]: lasso_pred = lasso.predict(X_test)\n",
        "In [6]: lasso.score(X_test, y_test)\n",
        "Out[6]: 0.59502295353285506"
      ],
      "execution_count": null,
      "outputs": []
    },
    {
      "cell_type": "markdown",
      "metadata": {
        "id": "UeFWmLubRQBT"
      },
      "source": [
        "**7. Lasso regression for feature selection**\n",
        "\n",
        "One of the really cool aspects of lasso regression is that it can be used to select important features of a dataset. This is because it tends to shrink the coefficients of less important features to be exactly zero. The features whose coefficients are not shrunk to zero are 'selected' by the LASSO algorithm. Let's check this out in practice."
      ]
    },
    {
      "cell_type": "markdown",
      "metadata": {
        "id": "Gmvgs1ScRmZ6"
      },
      "source": [
        "**8. Lasso for feature selection in scikit-learn**\n",
        "\n",
        "We import Lasso as before and store the feature names in the variable names. We then instantiate our regressor, fit it to the data as always. Then we can extract the coef attribute and store in lasso coef. Plotting the coefficients as a function of feature name yields this figure\n",
        "\n",
        "**9. Lasso for feature selection in scikit-learn**\n",
        "\n",
        "and you can see directly that the most important predictor for our target variable, housing price, is number of rooms! This is not surprising and is a great sanity check. This type of feature selection is very important for machine learning in an industry or business setting because it allows you, as a Data Scientist, to communicate important results to non-technical colleagues. And bosses! The power of reporting important features from a linear model cannot be overestimated. It is also valuable in research science, in order identify which factors are important predictors for various physical phenomena."
      ]
    },
    {
      "cell_type": "code",
      "metadata": {
        "id": "Dgi9WFu6xU-b"
      },
      "source": [
        "In [1]: from sklearn.linear_model import Lasso\n",
        "In [2]: names = boston.drop('MEDV', axis=1).columns\n",
        "In [3]: lasso = Lasso(alpha=0.1)\n",
        "In [4]: lasso_coef = lasso.fit(X, y).coef_\n",
        "In [5]: _ = plt.plot(range(len(names)), lasso_coef)\n",
        "In [6]: _ = plt.xticks(range(len(names)), names, rotation=60)\n",
        "In [7]: _ = plt.ylabel('Coefficients')\n",
        "In [8]: plt.show()"
      ],
      "execution_count": null,
      "outputs": []
    },
    {
      "cell_type": "markdown",
      "metadata": {
        "id": "sxoxWxkeQDRi"
      },
      "source": [
        "# **References**\n",
        "\n",
        "[[1]Supervised Learning with scikit-learn](https://learn.datacamp.com/courses/supervised-learning-with-scikit-learn)\n",
        "\n",
        "[Exercise](https://github.com/wblakecannon/DataCamp/blob/master/17-supervised-learning-with-scikit-learn/01-classification/01-k-nearest-neighbors-fit.py)"
      ]
    }
  ]
}