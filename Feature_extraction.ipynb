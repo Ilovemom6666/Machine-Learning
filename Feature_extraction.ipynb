{
  "nbformat": 4,
  "nbformat_minor": 0,
  "metadata": {
    "colab": {
      "provenance": [],
      "toc_visible": true,
      "authorship_tag": "ABX9TyOoS7eOcWdNyMmrlBrwhvVd",
      "include_colab_link": true
    },
    "kernelspec": {
      "name": "python3",
      "display_name": "Python 3"
    },
    "language_info": {
      "name": "python"
    }
  },
  "cells": [
    {
      "cell_type": "markdown",
      "metadata": {
        "id": "view-in-github",
        "colab_type": "text"
      },
      "source": [
        "<a href=\"https://colab.research.google.com/github/hussain0048/Machine-Learning/blob/master/Feature_extraction.ipynb\" target=\"_parent\"><img src=\"https://colab.research.google.com/assets/colab-badge.svg\" alt=\"Open In Colab\"/></a>"
      ]
    },
    {
      "cell_type": "code",
      "execution_count": null,
      "metadata": {
        "id": "_4Hs43AiBUwb"
      },
      "outputs": [],
      "source": []
    },
    {
      "cell_type": "markdown",
      "source": [
        "# **The Breast Cancer Dataset**\n"
      ],
      "metadata": {
        "id": "WAst-plBB_9D"
      }
    },
    {
      "cell_type": "markdown",
      "source": [
        "# **Building the Baseline Model – Logistic Regression**"
      ],
      "metadata": {
        "id": "2TuEN61HCOGY"
      }
    },
    {
      "cell_type": "code",
      "source": [
        "#import the necessary libraries\n",
        "import numpy as np\n",
        "import pandas as pd\n",
        "import matplotlib.pyplot as plt\n",
        "import seaborn as sns\n",
        "from time import time\n",
        "from sklearn.datasets import load_breast_cancer"
      ],
      "metadata": {
        "id": "TuTa-fdcCTQp"
      },
      "execution_count": 1,
      "outputs": []
    },
    {
      "cell_type": "code",
      "source": [
        "cancer_dict = load_breast_cancer()\n"
      ],
      "metadata": {
        "id": "T5DNCGDACZC3"
      },
      "execution_count": 2,
      "outputs": []
    },
    {
      "cell_type": "code",
      "source": [
        "cancer_dict.keys()\n"
      ],
      "metadata": {
        "colab": {
          "base_uri": "https://localhost:8080/"
        },
        "id": "lBCaTjwiCdFq",
        "outputId": "96fad1dd-1457-4983-e97a-122ef7a290a9"
      },
      "execution_count": 3,
      "outputs": [
        {
          "output_type": "execute_result",
          "data": {
            "text/plain": [
              "dict_keys(['data', 'target', 'frame', 'target_names', 'DESCR', 'feature_names', 'filename', 'data_module'])"
            ]
          },
          "metadata": {},
          "execution_count": 3
        }
      ]
    },
    {
      "cell_type": "code",
      "source": [
        "#define the feature and labels in the data\n",
        "data = cancer_dict.data\n",
        "columns = cancer_dict.feature_names\n",
        "\n",
        "X = pd.DataFrame(data, columns=columns)\n",
        "y = pd.Series(cancer_dict.target, name='target')\n",
        "\n",
        "#merge the X and y data\n",
        "df = pd.concat([X, y], axis=1)\n",
        "df.sample(10)"
      ],
      "metadata": {
        "colab": {
          "base_uri": "https://localhost:8080/",
          "height": 491
        },
        "id": "kLNEPCT6Cisg",
        "outputId": "f3d74f4b-fc8f-4563-b1ad-a17c03515dc4"
      },
      "execution_count": 4,
      "outputs": [
        {
          "output_type": "execute_result",
          "data": {
            "text/plain": [
              "     mean radius  mean texture  mean perimeter  mean area  mean smoothness  \\\n",
              "355       12.560         19.07           81.92      485.8          0.08760   \n",
              "328       16.270         20.71          106.90      813.7          0.11690   \n",
              "451       19.590         25.00          127.70     1191.0          0.10320   \n",
              "393       21.610         22.28          144.40     1407.0          0.11670   \n",
              "318        9.042         18.90           60.07      244.5          0.09968   \n",
              "160       11.750         20.18           76.10      419.8          0.10890   \n",
              "116        8.950         15.76           58.74      245.2          0.09462   \n",
              "175        8.671         14.45           54.42      227.2          0.09138   \n",
              "273        9.742         15.67           61.50      289.9          0.09037   \n",
              "485       12.450         16.41           82.85      476.7          0.09514   \n",
              "\n",
              "     mean compactness  mean concavity  mean concave points  mean symmetry  \\\n",
              "355           0.10380         0.10300              0.04391         0.1533   \n",
              "328           0.13190         0.14780              0.08488         0.1948   \n",
              "451           0.09871         0.16550              0.09063         0.1663   \n",
              "393           0.20870         0.28100              0.15620         0.2162   \n",
              "318           0.19720         0.19750              0.04908         0.2330   \n",
              "160           0.11410         0.06843              0.03738         0.1993   \n",
              "116           0.12430         0.09263              0.02308         0.1305   \n",
              "175           0.04276         0.00000              0.00000         0.1722   \n",
              "273           0.04689         0.01103              0.01407         0.2081   \n",
              "485           0.15110         0.15440              0.04846         0.2082   \n",
              "\n",
              "     mean fractal dimension  ...  worst texture  worst perimeter  worst area  \\\n",
              "355                 0.06184  ...          22.43            89.02       547.4   \n",
              "328                 0.06277  ...          30.38           129.80      1121.0   \n",
              "451                 0.05391  ...          30.96           139.80      1421.0   \n",
              "393                 0.06606  ...          28.74           172.00      2081.0   \n",
              "318                 0.08743  ...          23.40            68.62       297.1   \n",
              "160                 0.06453  ...          26.21            88.91       543.9   \n",
              "116                 0.07163  ...          17.07            63.34       270.0   \n",
              "175                 0.06724  ...          17.04            58.36       259.2   \n",
              "273                 0.06312  ...          20.88            68.09       355.2   \n",
              "485                 0.07325  ...          21.03            97.82       580.6   \n",
              "\n",
              "     worst smoothness  worst compactness  worst concavity  \\\n",
              "355            0.1096            0.20020          0.23880   \n",
              "328            0.1590            0.29470          0.35970   \n",
              "451            0.1528            0.18450          0.39770   \n",
              "393            0.1502            0.57170          0.70530   \n",
              "318            0.1221            0.37480          0.46090   \n",
              "160            0.1358            0.18920          0.19560   \n",
              "116            0.1179            0.18790          0.15440   \n",
              "175            0.1162            0.07057          0.00000   \n",
              "273            0.1467            0.09370          0.04043   \n",
              "485            0.1175            0.40610          0.48960   \n",
              "\n",
              "     worst concave points  worst symmetry  worst fractal dimension  target  \n",
              "355               0.09265          0.2121                  0.07188       1  \n",
              "328               0.15830          0.3103                  0.08200       0  \n",
              "451               0.14660          0.2293                  0.06091       0  \n",
              "393               0.24220          0.3828                  0.10070       0  \n",
              "318               0.11450          0.3135                  0.10550       1  \n",
              "160               0.07909          0.3168                  0.07987       1  \n",
              "116               0.03846          0.1652                  0.07722       1  \n",
              "175               0.00000          0.2592                  0.07848       1  \n",
              "273               0.05159          0.2841                  0.08175       1  \n",
              "485               0.13420          0.3231                  0.10340       1  \n",
              "\n",
              "[10 rows x 31 columns]"
            ],
            "text/html": [
              "\n",
              "\n",
              "  <div id=\"df-a107c6a9-c089-4148-8fdd-846dfa193fdd\">\n",
              "    <div class=\"colab-df-container\">\n",
              "      <div>\n",
              "<style scoped>\n",
              "    .dataframe tbody tr th:only-of-type {\n",
              "        vertical-align: middle;\n",
              "    }\n",
              "\n",
              "    .dataframe tbody tr th {\n",
              "        vertical-align: top;\n",
              "    }\n",
              "\n",
              "    .dataframe thead th {\n",
              "        text-align: right;\n",
              "    }\n",
              "</style>\n",
              "<table border=\"1\" class=\"dataframe\">\n",
              "  <thead>\n",
              "    <tr style=\"text-align: right;\">\n",
              "      <th></th>\n",
              "      <th>mean radius</th>\n",
              "      <th>mean texture</th>\n",
              "      <th>mean perimeter</th>\n",
              "      <th>mean area</th>\n",
              "      <th>mean smoothness</th>\n",
              "      <th>mean compactness</th>\n",
              "      <th>mean concavity</th>\n",
              "      <th>mean concave points</th>\n",
              "      <th>mean symmetry</th>\n",
              "      <th>mean fractal dimension</th>\n",
              "      <th>...</th>\n",
              "      <th>worst texture</th>\n",
              "      <th>worst perimeter</th>\n",
              "      <th>worst area</th>\n",
              "      <th>worst smoothness</th>\n",
              "      <th>worst compactness</th>\n",
              "      <th>worst concavity</th>\n",
              "      <th>worst concave points</th>\n",
              "      <th>worst symmetry</th>\n",
              "      <th>worst fractal dimension</th>\n",
              "      <th>target</th>\n",
              "    </tr>\n",
              "  </thead>\n",
              "  <tbody>\n",
              "    <tr>\n",
              "      <th>355</th>\n",
              "      <td>12.560</td>\n",
              "      <td>19.07</td>\n",
              "      <td>81.92</td>\n",
              "      <td>485.8</td>\n",
              "      <td>0.08760</td>\n",
              "      <td>0.10380</td>\n",
              "      <td>0.10300</td>\n",
              "      <td>0.04391</td>\n",
              "      <td>0.1533</td>\n",
              "      <td>0.06184</td>\n",
              "      <td>...</td>\n",
              "      <td>22.43</td>\n",
              "      <td>89.02</td>\n",
              "      <td>547.4</td>\n",
              "      <td>0.1096</td>\n",
              "      <td>0.20020</td>\n",
              "      <td>0.23880</td>\n",
              "      <td>0.09265</td>\n",
              "      <td>0.2121</td>\n",
              "      <td>0.07188</td>\n",
              "      <td>1</td>\n",
              "    </tr>\n",
              "    <tr>\n",
              "      <th>328</th>\n",
              "      <td>16.270</td>\n",
              "      <td>20.71</td>\n",
              "      <td>106.90</td>\n",
              "      <td>813.7</td>\n",
              "      <td>0.11690</td>\n",
              "      <td>0.13190</td>\n",
              "      <td>0.14780</td>\n",
              "      <td>0.08488</td>\n",
              "      <td>0.1948</td>\n",
              "      <td>0.06277</td>\n",
              "      <td>...</td>\n",
              "      <td>30.38</td>\n",
              "      <td>129.80</td>\n",
              "      <td>1121.0</td>\n",
              "      <td>0.1590</td>\n",
              "      <td>0.29470</td>\n",
              "      <td>0.35970</td>\n",
              "      <td>0.15830</td>\n",
              "      <td>0.3103</td>\n",
              "      <td>0.08200</td>\n",
              "      <td>0</td>\n",
              "    </tr>\n",
              "    <tr>\n",
              "      <th>451</th>\n",
              "      <td>19.590</td>\n",
              "      <td>25.00</td>\n",
              "      <td>127.70</td>\n",
              "      <td>1191.0</td>\n",
              "      <td>0.10320</td>\n",
              "      <td>0.09871</td>\n",
              "      <td>0.16550</td>\n",
              "      <td>0.09063</td>\n",
              "      <td>0.1663</td>\n",
              "      <td>0.05391</td>\n",
              "      <td>...</td>\n",
              "      <td>30.96</td>\n",
              "      <td>139.80</td>\n",
              "      <td>1421.0</td>\n",
              "      <td>0.1528</td>\n",
              "      <td>0.18450</td>\n",
              "      <td>0.39770</td>\n",
              "      <td>0.14660</td>\n",
              "      <td>0.2293</td>\n",
              "      <td>0.06091</td>\n",
              "      <td>0</td>\n",
              "    </tr>\n",
              "    <tr>\n",
              "      <th>393</th>\n",
              "      <td>21.610</td>\n",
              "      <td>22.28</td>\n",
              "      <td>144.40</td>\n",
              "      <td>1407.0</td>\n",
              "      <td>0.11670</td>\n",
              "      <td>0.20870</td>\n",
              "      <td>0.28100</td>\n",
              "      <td>0.15620</td>\n",
              "      <td>0.2162</td>\n",
              "      <td>0.06606</td>\n",
              "      <td>...</td>\n",
              "      <td>28.74</td>\n",
              "      <td>172.00</td>\n",
              "      <td>2081.0</td>\n",
              "      <td>0.1502</td>\n",
              "      <td>0.57170</td>\n",
              "      <td>0.70530</td>\n",
              "      <td>0.24220</td>\n",
              "      <td>0.3828</td>\n",
              "      <td>0.10070</td>\n",
              "      <td>0</td>\n",
              "    </tr>\n",
              "    <tr>\n",
              "      <th>318</th>\n",
              "      <td>9.042</td>\n",
              "      <td>18.90</td>\n",
              "      <td>60.07</td>\n",
              "      <td>244.5</td>\n",
              "      <td>0.09968</td>\n",
              "      <td>0.19720</td>\n",
              "      <td>0.19750</td>\n",
              "      <td>0.04908</td>\n",
              "      <td>0.2330</td>\n",
              "      <td>0.08743</td>\n",
              "      <td>...</td>\n",
              "      <td>23.40</td>\n",
              "      <td>68.62</td>\n",
              "      <td>297.1</td>\n",
              "      <td>0.1221</td>\n",
              "      <td>0.37480</td>\n",
              "      <td>0.46090</td>\n",
              "      <td>0.11450</td>\n",
              "      <td>0.3135</td>\n",
              "      <td>0.10550</td>\n",
              "      <td>1</td>\n",
              "    </tr>\n",
              "    <tr>\n",
              "      <th>160</th>\n",
              "      <td>11.750</td>\n",
              "      <td>20.18</td>\n",
              "      <td>76.10</td>\n",
              "      <td>419.8</td>\n",
              "      <td>0.10890</td>\n",
              "      <td>0.11410</td>\n",
              "      <td>0.06843</td>\n",
              "      <td>0.03738</td>\n",
              "      <td>0.1993</td>\n",
              "      <td>0.06453</td>\n",
              "      <td>...</td>\n",
              "      <td>26.21</td>\n",
              "      <td>88.91</td>\n",
              "      <td>543.9</td>\n",
              "      <td>0.1358</td>\n",
              "      <td>0.18920</td>\n",
              "      <td>0.19560</td>\n",
              "      <td>0.07909</td>\n",
              "      <td>0.3168</td>\n",
              "      <td>0.07987</td>\n",
              "      <td>1</td>\n",
              "    </tr>\n",
              "    <tr>\n",
              "      <th>116</th>\n",
              "      <td>8.950</td>\n",
              "      <td>15.76</td>\n",
              "      <td>58.74</td>\n",
              "      <td>245.2</td>\n",
              "      <td>0.09462</td>\n",
              "      <td>0.12430</td>\n",
              "      <td>0.09263</td>\n",
              "      <td>0.02308</td>\n",
              "      <td>0.1305</td>\n",
              "      <td>0.07163</td>\n",
              "      <td>...</td>\n",
              "      <td>17.07</td>\n",
              "      <td>63.34</td>\n",
              "      <td>270.0</td>\n",
              "      <td>0.1179</td>\n",
              "      <td>0.18790</td>\n",
              "      <td>0.15440</td>\n",
              "      <td>0.03846</td>\n",
              "      <td>0.1652</td>\n",
              "      <td>0.07722</td>\n",
              "      <td>1</td>\n",
              "    </tr>\n",
              "    <tr>\n",
              "      <th>175</th>\n",
              "      <td>8.671</td>\n",
              "      <td>14.45</td>\n",
              "      <td>54.42</td>\n",
              "      <td>227.2</td>\n",
              "      <td>0.09138</td>\n",
              "      <td>0.04276</td>\n",
              "      <td>0.00000</td>\n",
              "      <td>0.00000</td>\n",
              "      <td>0.1722</td>\n",
              "      <td>0.06724</td>\n",
              "      <td>...</td>\n",
              "      <td>17.04</td>\n",
              "      <td>58.36</td>\n",
              "      <td>259.2</td>\n",
              "      <td>0.1162</td>\n",
              "      <td>0.07057</td>\n",
              "      <td>0.00000</td>\n",
              "      <td>0.00000</td>\n",
              "      <td>0.2592</td>\n",
              "      <td>0.07848</td>\n",
              "      <td>1</td>\n",
              "    </tr>\n",
              "    <tr>\n",
              "      <th>273</th>\n",
              "      <td>9.742</td>\n",
              "      <td>15.67</td>\n",
              "      <td>61.50</td>\n",
              "      <td>289.9</td>\n",
              "      <td>0.09037</td>\n",
              "      <td>0.04689</td>\n",
              "      <td>0.01103</td>\n",
              "      <td>0.01407</td>\n",
              "      <td>0.2081</td>\n",
              "      <td>0.06312</td>\n",
              "      <td>...</td>\n",
              "      <td>20.88</td>\n",
              "      <td>68.09</td>\n",
              "      <td>355.2</td>\n",
              "      <td>0.1467</td>\n",
              "      <td>0.09370</td>\n",
              "      <td>0.04043</td>\n",
              "      <td>0.05159</td>\n",
              "      <td>0.2841</td>\n",
              "      <td>0.08175</td>\n",
              "      <td>1</td>\n",
              "    </tr>\n",
              "    <tr>\n",
              "      <th>485</th>\n",
              "      <td>12.450</td>\n",
              "      <td>16.41</td>\n",
              "      <td>82.85</td>\n",
              "      <td>476.7</td>\n",
              "      <td>0.09514</td>\n",
              "      <td>0.15110</td>\n",
              "      <td>0.15440</td>\n",
              "      <td>0.04846</td>\n",
              "      <td>0.2082</td>\n",
              "      <td>0.07325</td>\n",
              "      <td>...</td>\n",
              "      <td>21.03</td>\n",
              "      <td>97.82</td>\n",
              "      <td>580.6</td>\n",
              "      <td>0.1175</td>\n",
              "      <td>0.40610</td>\n",
              "      <td>0.48960</td>\n",
              "      <td>0.13420</td>\n",
              "      <td>0.3231</td>\n",
              "      <td>0.10340</td>\n",
              "      <td>1</td>\n",
              "    </tr>\n",
              "  </tbody>\n",
              "</table>\n",
              "<p>10 rows × 31 columns</p>\n",
              "</div>\n",
              "      <button class=\"colab-df-convert\" onclick=\"convertToInteractive('df-a107c6a9-c089-4148-8fdd-846dfa193fdd')\"\n",
              "              title=\"Convert this dataframe to an interactive table.\"\n",
              "              style=\"display:none;\">\n",
              "\n",
              "  <svg xmlns=\"http://www.w3.org/2000/svg\" height=\"24px\"viewBox=\"0 0 24 24\"\n",
              "       width=\"24px\">\n",
              "    <path d=\"M0 0h24v24H0V0z\" fill=\"none\"/>\n",
              "    <path d=\"M18.56 5.44l.94 2.06.94-2.06 2.06-.94-2.06-.94-.94-2.06-.94 2.06-2.06.94zm-11 1L8.5 8.5l.94-2.06 2.06-.94-2.06-.94L8.5 2.5l-.94 2.06-2.06.94zm10 10l.94 2.06.94-2.06 2.06-.94-2.06-.94-.94-2.06-.94 2.06-2.06.94z\"/><path d=\"M17.41 7.96l-1.37-1.37c-.4-.4-.92-.59-1.43-.59-.52 0-1.04.2-1.43.59L10.3 9.45l-7.72 7.72c-.78.78-.78 2.05 0 2.83L4 21.41c.39.39.9.59 1.41.59.51 0 1.02-.2 1.41-.59l7.78-7.78 2.81-2.81c.8-.78.8-2.07 0-2.86zM5.41 20L4 18.59l7.72-7.72 1.47 1.35L5.41 20z\"/>\n",
              "  </svg>\n",
              "      </button>\n",
              "\n",
              "\n",
              "\n",
              "    <div id=\"df-dbe7bb60-b231-4d33-9231-e4d968c72d6d\">\n",
              "      <button class=\"colab-df-quickchart\" onclick=\"quickchart('df-dbe7bb60-b231-4d33-9231-e4d968c72d6d')\"\n",
              "              title=\"Suggest charts.\"\n",
              "              style=\"display:none;\">\n",
              "\n",
              "<svg xmlns=\"http://www.w3.org/2000/svg\" height=\"24px\"viewBox=\"0 0 24 24\"\n",
              "     width=\"24px\">\n",
              "    <g>\n",
              "        <path d=\"M19 3H5c-1.1 0-2 .9-2 2v14c0 1.1.9 2 2 2h14c1.1 0 2-.9 2-2V5c0-1.1-.9-2-2-2zM9 17H7v-7h2v7zm4 0h-2V7h2v10zm4 0h-2v-4h2v4z\"/>\n",
              "    </g>\n",
              "</svg>\n",
              "      </button>\n",
              "    </div>\n",
              "\n",
              "<style>\n",
              "  .colab-df-quickchart {\n",
              "    background-color: #E8F0FE;\n",
              "    border: none;\n",
              "    border-radius: 50%;\n",
              "    cursor: pointer;\n",
              "    display: none;\n",
              "    fill: #1967D2;\n",
              "    height: 32px;\n",
              "    padding: 0 0 0 0;\n",
              "    width: 32px;\n",
              "  }\n",
              "\n",
              "  .colab-df-quickchart:hover {\n",
              "    background-color: #E2EBFA;\n",
              "    box-shadow: 0px 1px 2px rgba(60, 64, 67, 0.3), 0px 1px 3px 1px rgba(60, 64, 67, 0.15);\n",
              "    fill: #174EA6;\n",
              "  }\n",
              "\n",
              "  [theme=dark] .colab-df-quickchart {\n",
              "    background-color: #3B4455;\n",
              "    fill: #D2E3FC;\n",
              "  }\n",
              "\n",
              "  [theme=dark] .colab-df-quickchart:hover {\n",
              "    background-color: #434B5C;\n",
              "    box-shadow: 0px 1px 3px 1px rgba(0, 0, 0, 0.15);\n",
              "    filter: drop-shadow(0px 1px 2px rgba(0, 0, 0, 0.3));\n",
              "    fill: #FFFFFF;\n",
              "  }\n",
              "</style>\n",
              "\n",
              "    <script>\n",
              "      async function quickchart(key) {\n",
              "        const containerElement = document.querySelector('#' + key);\n",
              "        const charts = await google.colab.kernel.invokeFunction(\n",
              "            'suggestCharts', [key], {});\n",
              "      }\n",
              "    </script>\n",
              "\n",
              "      <script>\n",
              "\n",
              "function displayQuickchartButton(domScope) {\n",
              "  let quickchartButtonEl =\n",
              "    domScope.querySelector('#df-dbe7bb60-b231-4d33-9231-e4d968c72d6d button.colab-df-quickchart');\n",
              "  quickchartButtonEl.style.display =\n",
              "    google.colab.kernel.accessAllowed ? 'block' : 'none';\n",
              "}\n",
              "\n",
              "        displayQuickchartButton(document);\n",
              "      </script>\n",
              "      <style>\n",
              "    .colab-df-container {\n",
              "      display:flex;\n",
              "      flex-wrap:wrap;\n",
              "      gap: 12px;\n",
              "    }\n",
              "\n",
              "    .colab-df-convert {\n",
              "      background-color: #E8F0FE;\n",
              "      border: none;\n",
              "      border-radius: 50%;\n",
              "      cursor: pointer;\n",
              "      display: none;\n",
              "      fill: #1967D2;\n",
              "      height: 32px;\n",
              "      padding: 0 0 0 0;\n",
              "      width: 32px;\n",
              "    }\n",
              "\n",
              "    .colab-df-convert:hover {\n",
              "      background-color: #E2EBFA;\n",
              "      box-shadow: 0px 1px 2px rgba(60, 64, 67, 0.3), 0px 1px 3px 1px rgba(60, 64, 67, 0.15);\n",
              "      fill: #174EA6;\n",
              "    }\n",
              "\n",
              "    [theme=dark] .colab-df-convert {\n",
              "      background-color: #3B4455;\n",
              "      fill: #D2E3FC;\n",
              "    }\n",
              "\n",
              "    [theme=dark] .colab-df-convert:hover {\n",
              "      background-color: #434B5C;\n",
              "      box-shadow: 0px 1px 3px 1px rgba(0, 0, 0, 0.15);\n",
              "      filter: drop-shadow(0px 1px 2px rgba(0, 0, 0, 0.3));\n",
              "      fill: #FFFFFF;\n",
              "    }\n",
              "  </style>\n",
              "\n",
              "      <script>\n",
              "        const buttonEl =\n",
              "          document.querySelector('#df-a107c6a9-c089-4148-8fdd-846dfa193fdd button.colab-df-convert');\n",
              "        buttonEl.style.display =\n",
              "          google.colab.kernel.accessAllowed ? 'block' : 'none';\n",
              "\n",
              "        async function convertToInteractive(key) {\n",
              "          const element = document.querySelector('#df-a107c6a9-c089-4148-8fdd-846dfa193fdd');\n",
              "          const dataTable =\n",
              "            await google.colab.kernel.invokeFunction('convertToInteractive',\n",
              "                                                     [key], {});\n",
              "          if (!dataTable) return;\n",
              "\n",
              "          const docLinkHtml = 'Like what you see? Visit the ' +\n",
              "            '<a target=\"_blank\" href=https://colab.research.google.com/notebooks/data_table.ipynb>data table notebook</a>'\n",
              "            + ' to learn more about interactive tables.';\n",
              "          element.innerHTML = '';\n",
              "          dataTable['output_type'] = 'display_data';\n",
              "          await google.colab.output.renderOutput(dataTable, element);\n",
              "          const docLink = document.createElement('div');\n",
              "          docLink.innerHTML = docLinkHtml;\n",
              "          element.appendChild(docLink);\n",
              "        }\n",
              "      </script>\n",
              "    </div>\n",
              "  </div>\n"
            ]
          },
          "metadata": {},
          "execution_count": 4
        }
      ]
    },
    {
      "cell_type": "code",
      "source": [
        "from sklearn.preprocessing import StandardScaler\n",
        "from sklearn.model_selection import train_test_split\n",
        "from sklearn.linear_model import LogisticRegression\n",
        "from sklearn.metrics import accuracy_score, recall_score, precision_score\n",
        "\n",
        "#scale the data\n",
        "scaler = StandardScaler()\n",
        "X_scaled = scaler.fit_transform(X)"
      ],
      "metadata": {
        "id": "SIdhq7StCqdU"
      },
      "execution_count": 5,
      "outputs": []
    },
    {
      "cell_type": "code",
      "source": [
        "def apply_model(X, y):\n",
        "    '''\n",
        "    This function receives the X and y dataset set, splits into train and test,\n",
        "    applies a Logistic Regression algorithm on the train data, make prediction after training,\n",
        "    and returns the recall\n",
        "    '''\n",
        "\n",
        "    #split the data\n",
        "    X_train, X_test, y_train, y_test = train_test_split(X, y, random_state=1, test_size=0.3)\n",
        "\n",
        "    #apply the Logistic Regression algorithm on the data\n",
        "    model = LogisticRegression()\n",
        "    model.fit(X_train, y_train)\n",
        "\n",
        "    #make prediction\n",
        "    y_pred = model.predict(X_test)\n",
        "\n",
        "    #compute the metrics\n",
        "    accuracy = accuracy_score(y_test, y_pred)\n",
        "    recall = recall_score(y_test, y_pred)\n",
        "    precision = precision_score(y_test, y_pred)\n",
        "\n",
        "    return(f\"Accuracy score: {accuracy}\",\n",
        "           f\"Recall score: {recall}\",\n",
        "           f\"Precision score: {precision}\"\n",
        "          )"
      ],
      "metadata": {
        "id": "8hUsaXobCv3Q"
      },
      "execution_count": 6,
      "outputs": []
    },
    {
      "cell_type": "code",
      "source": [
        "%time apply_model(X_scaled, y)\n"
      ],
      "metadata": {
        "colab": {
          "base_uri": "https://localhost:8080/"
        },
        "id": "ifXOg3ucC1JW",
        "outputId": "46dca784-a44b-4318-ddc5-56790b283941"
      },
      "execution_count": 7,
      "outputs": [
        {
          "output_type": "stream",
          "name": "stdout",
          "text": [
            "CPU times: user 26.9 ms, sys: 17.4 ms, total: 44.3 ms\n",
            "Wall time: 74.1 ms\n"
          ]
        },
        {
          "output_type": "execute_result",
          "data": {
            "text/plain": [
              "('Accuracy score: 0.9707602339181286',\n",
              " 'Recall score: 0.9722222222222222',\n",
              " 'Precision score: 0.9813084112149533')"
            ]
          },
          "metadata": {},
          "execution_count": 7
        }
      ]
    },
    {
      "cell_type": "markdown",
      "source": [
        "# **1-Feature Extraction with Principal Component Analysis (PCA)**"
      ],
      "metadata": {
        "id": "df7snfsGC5jL"
      }
    },
    {
      "cell_type": "code",
      "source": [
        "from sklearn.decomposition import PCA\n",
        "\n",
        "pca = PCA(n_components=2)\n",
        "\n",
        "#apply PCA to transform the features to 2\n",
        "X_pca = pca.fit_transform(X_scaled)\n",
        "\n",
        "#create the new dataframe\n",
        "df_pca = pd.concat([pd.DataFrame(X_pca), y], axis=1)"
      ],
      "metadata": {
        "id": "dX3Lsdq9DAT2"
      },
      "execution_count": 8,
      "outputs": []
    },
    {
      "cell_type": "code",
      "source": [
        "df_pca.head()\n"
      ],
      "metadata": {
        "id": "2B5Ij9yeDDg_"
      },
      "execution_count": null,
      "outputs": []
    },
    {
      "cell_type": "code",
      "source": [
        "#visualize the dataset\n",
        "sns.scatterplot(df_pca.iloc[:, 0], df_pca.iloc[:, 1], hue=df_pca['target'])"
      ],
      "metadata": {
        "id": "HDzWrOCmDJEG"
      },
      "execution_count": null,
      "outputs": []
    },
    {
      "cell_type": "code",
      "source": [
        "%time apply_model(X_scaled, y)"
      ],
      "metadata": {
        "colab": {
          "base_uri": "https://localhost:8080/"
        },
        "id": "xU95Gnw6DS1p",
        "outputId": "f018a4b6-e6bd-4804-9318-2ffdd6ca25d9"
      },
      "execution_count": 11,
      "outputs": [
        {
          "output_type": "stream",
          "name": "stdout",
          "text": [
            "CPU times: user 28 ms, sys: 15.3 ms, total: 43.2 ms\n",
            "Wall time: 86.2 ms\n"
          ]
        },
        {
          "output_type": "execute_result",
          "data": {
            "text/plain": [
              "('Accuracy score: 0.9707602339181286',\n",
              " 'Recall score: 0.9722222222222222',\n",
              " 'Precision score: 0.9813084112149533')"
            ]
          },
          "metadata": {},
          "execution_count": 11
        }
      ]
    },
    {
      "cell_type": "markdown",
      "source": [
        "# **2-Feature Extraction with Linear Discriminant Analysis (LDA)**"
      ],
      "metadata": {
        "id": "lbl37QKfDgyP"
      }
    },
    {
      "cell_type": "code",
      "source": [
        "#import the LDA class\n",
        "from sklearn.discriminant_analysis import LinearDiscriminantAnalysis\n",
        "\n",
        "#instantiate the LDA class and setting the number of components to 1\n",
        "lda = LinearDiscriminantAnalysis(n_components=1)\n",
        "\n",
        "#apply the LDA class\n",
        "lda.fit(X_scaled, y)\n",
        "X_lda = lda.transform(X_scaled)\n",
        "\n",
        "#get the resulting data\n",
        "df_lda = pd.concat([pd.DataFrame(X_lda), y], axis=1)"
      ],
      "metadata": {
        "id": "bFMChzc5DttG"
      },
      "execution_count": 12,
      "outputs": []
    },
    {
      "cell_type": "code",
      "source": [
        "%time apply_model(X_scaled, y)"
      ],
      "metadata": {
        "id": "l0PHIW0QDzCO"
      },
      "execution_count": null,
      "outputs": []
    },
    {
      "cell_type": "markdown",
      "source": [
        "# **3-Feature Extraction with Isomap**\n"
      ],
      "metadata": {
        "id": "swtU3DjBD50W"
      }
    },
    {
      "cell_type": "code",
      "source": [
        "#import Isomap\n",
        "from sklearn.manifold import Isomap\n",
        "\n",
        "#apply Isomap on the data\n",
        "iso = Isomap(n_components=2)\n",
        "X_iso = iso.fit_transform(X_scaled)\n",
        "\n",
        "#create the new dataset\n",
        "df_iso = pd.concat([pd.DataFrame(X_iso), y], axis=1)"
      ],
      "metadata": {
        "id": "qSpioc9hECin"
      },
      "execution_count": 14,
      "outputs": []
    },
    {
      "cell_type": "code",
      "source": [
        "sns.scatterplot(df_iso.iloc[:, 0], df_iso.iloc[:, 1], hue=df_iso['target'])\n"
      ],
      "metadata": {
        "id": "yIZXEIATEFfv"
      },
      "execution_count": null,
      "outputs": []
    },
    {
      "cell_type": "code",
      "source": [
        "%time apply_model(X_scaled, y)\n"
      ],
      "metadata": {
        "id": "lTwUeldtEKw9"
      },
      "execution_count": null,
      "outputs": []
    },
    {
      "cell_type": "markdown",
      "source": [
        "# **3-Feature Extraction with Locally Linear Embedding (LLE)**"
      ],
      "metadata": {
        "id": "ph0D5smAERt_"
      }
    },
    {
      "cell_type": "code",
      "source": [
        "#import LLE\n",
        "from sklearn.manifold import LocallyLinearEmbedding\n",
        "\n",
        "#create an instance of the class\n",
        "lle = LocallyLinearEmbedding(n_components=2)\n",
        "X_lle = lle.fit_transform(X_scaled)\n",
        "\n",
        "#create the new dataset\n",
        "df_lle = pd.concat([pd.DataFrame(X_lle), y], axis=1)"
      ],
      "metadata": {
        "id": "fdwT-ztfEZK9"
      },
      "execution_count": 17,
      "outputs": []
    },
    {
      "cell_type": "code",
      "source": [
        "%time apply_model(X_scaled, y)"
      ],
      "metadata": {
        "colab": {
          "base_uri": "https://localhost:8080/"
        },
        "id": "NvnKudYuEdU9",
        "outputId": "3ca6751c-da2d-4363-9464-02586de419c4"
      },
      "execution_count": 18,
      "outputs": [
        {
          "output_type": "stream",
          "name": "stdout",
          "text": [
            "CPU times: user 21.6 ms, sys: 13.5 ms, total: 35.2 ms\n",
            "Wall time: 25.2 ms\n"
          ]
        },
        {
          "output_type": "execute_result",
          "data": {
            "text/plain": [
              "('Accuracy score: 0.9707602339181286',\n",
              " 'Recall score: 0.9722222222222222',\n",
              " 'Precision score: 0.9813084112149533')"
            ]
          },
          "metadata": {},
          "execution_count": 18
        }
      ]
    }
  ]
}