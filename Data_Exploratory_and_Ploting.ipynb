{
  "nbformat": 4,
  "nbformat_minor": 0,
  "metadata": {
    "colab": {
      "name": "Data Exploratory and Ploting.ipynb",
      "provenance": [],
      "collapsed_sections": [],
      "toc_visible": true,
      "include_colab_link": true
    },
    "kernelspec": {
      "name": "python3",
      "display_name": "Python 3"
    },
    "language_info": {
      "name": "python"
    },
    "accelerator": "GPU",
    "widgets": {
      "application/vnd.jupyter.widget-state+json": {
        "fab38a3ff0ff4f8b86a1c8182c2d0df3": {
          "model_module": "@jupyter-widgets/controls",
          "model_name": "ButtonModel",
          "model_module_version": "1.5.0",
          "state": {
            "_view_name": "ButtonView",
            "style": "IPY_MODEL_332d7af1e7ba4606ab6dbdc10b907339",
            "_dom_classes": [],
            "description": "Toggle Pandas/Lux",
            "_model_name": "ButtonModel",
            "button_style": "",
            "_view_module": "@jupyter-widgets/controls",
            "_model_module_version": "1.5.0",
            "tooltip": "",
            "_view_count": null,
            "disabled": false,
            "_view_module_version": "1.5.0",
            "layout": "IPY_MODEL_00691caee89f40f5873ea16790330b7d",
            "_model_module": "@jupyter-widgets/controls",
            "icon": ""
          }
        },
        "332d7af1e7ba4606ab6dbdc10b907339": {
          "model_module": "@jupyter-widgets/controls",
          "model_name": "ButtonStyleModel",
          "model_module_version": "1.5.0",
          "state": {
            "_view_name": "StyleView",
            "_model_name": "ButtonStyleModel",
            "_view_module": "@jupyter-widgets/base",
            "_model_module_version": "1.5.0",
            "_view_count": null,
            "button_color": null,
            "font_weight": "",
            "_view_module_version": "1.2.0",
            "_model_module": "@jupyter-widgets/controls"
          }
        },
        "00691caee89f40f5873ea16790330b7d": {
          "model_module": "@jupyter-widgets/base",
          "model_name": "LayoutModel",
          "model_module_version": "1.2.0",
          "state": {
            "_view_name": "LayoutView",
            "grid_template_rows": null,
            "right": null,
            "justify_content": null,
            "_view_module": "@jupyter-widgets/base",
            "overflow": null,
            "_model_module_version": "1.2.0",
            "_view_count": null,
            "flex_flow": null,
            "width": "140px",
            "min_width": null,
            "border": null,
            "align_items": null,
            "bottom": null,
            "_model_module": "@jupyter-widgets/base",
            "top": "5px",
            "grid_column": null,
            "overflow_y": null,
            "overflow_x": null,
            "grid_auto_flow": null,
            "grid_area": null,
            "grid_template_columns": null,
            "flex": null,
            "_model_name": "LayoutModel",
            "justify_items": null,
            "grid_row": null,
            "max_height": null,
            "align_content": null,
            "visibility": null,
            "align_self": null,
            "height": null,
            "min_height": null,
            "padding": null,
            "grid_auto_rows": null,
            "grid_gap": null,
            "max_width": null,
            "order": null,
            "_view_module_version": "1.2.0",
            "grid_template_areas": null,
            "object_position": null,
            "object_fit": null,
            "grid_auto_columns": null,
            "margin": null,
            "display": null,
            "left": null
          }
        },
        "35bd1d0f8391450b983eae9c333e639a": {
          "model_module": "@jupyter-widgets/output",
          "model_name": "OutputModel",
          "model_module_version": "1.0.0",
          "state": {
            "_view_name": "OutputView",
            "msg_id": "",
            "_dom_classes": [],
            "_model_name": "OutputModel",
            "outputs": [
              {
                "output_type": "display_data",
                "data": {
                  "text/html": "<div>\n<style scoped>\n    .dataframe tbody tr th:only-of-type {\n        vertical-align: middle;\n    }\n\n    .dataframe tbody tr th {\n        vertical-align: top;\n    }\n\n    .dataframe thead th {\n        text-align: right;\n    }\n</style>\n<table border=\"1\" class=\"dataframe\">\n  <thead>\n    <tr style=\"text-align: right;\">\n      <th></th>\n      <th>HPIRank</th>\n      <th>Country</th>\n      <th>SubRegion</th>\n      <th>AvrgLifeExpectancy</th>\n      <th>AvrgWellBeing</th>\n      <th>HappyLifeYears</th>\n      <th>Footprint</th>\n      <th>Inequality</th>\n      <th>IneqAdjLifeExpectancy</th>\n      <th>IneqAdjWellbeing</th>\n      <th>HappyPlanetIndex</th>\n      <th>GDPPerCapita</th>\n      <th>Population</th>\n    </tr>\n  </thead>\n  <tbody>\n    <tr>\n      <th>0</th>\n      <td>110</td>\n      <td>Afghanistan</td>\n      <td>Middle East and North Africa</td>\n      <td>59.7</td>\n      <td>3.8</td>\n      <td>12.4</td>\n      <td>0.8</td>\n      <td>0.43</td>\n      <td>38.3</td>\n      <td>3.4</td>\n      <td>20.2</td>\n      <td>691</td>\n      <td>29726803</td>\n    </tr>\n    <tr>\n      <th>1</th>\n      <td>13</td>\n      <td>Albania</td>\n      <td>Post-communist</td>\n      <td>77.3</td>\n      <td>5.5</td>\n      <td>34.4</td>\n      <td>2.2</td>\n      <td>0.17</td>\n      <td>69.7</td>\n      <td>5.1</td>\n      <td>36.8</td>\n      <td>4247</td>\n      <td>2900489</td>\n    </tr>\n    <tr>\n      <th>2</th>\n      <td>30</td>\n      <td>Algeria</td>\n      <td>Middle East and North Africa</td>\n      <td>74.3</td>\n      <td>5.6</td>\n      <td>30.5</td>\n      <td>2.1</td>\n      <td>0.24</td>\n      <td>60.5</td>\n      <td>5.2</td>\n      <td>33.3</td>\n      <td>5584</td>\n      <td>37439427</td>\n    </tr>\n    <tr>\n      <th>3</th>\n      <td>19</td>\n      <td>Argentina</td>\n      <td>Americas</td>\n      <td>75.9</td>\n      <td>6.5</td>\n      <td>40.2</td>\n      <td>3.1</td>\n      <td>0.16</td>\n      <td>68.3</td>\n      <td>6.0</td>\n      <td>35.2</td>\n      <td>14357</td>\n      <td>42095224</td>\n    </tr>\n    <tr>\n      <th>4</th>\n      <td>73</td>\n      <td>Armenia</td>\n      <td>Post-communist</td>\n      <td>74.4</td>\n      <td>4.3</td>\n      <td>24.0</td>\n      <td>2.2</td>\n      <td>0.22</td>\n      <td>66.9</td>\n      <td>3.7</td>\n      <td>25.7</td>\n      <td>3566</td>\n      <td>2978339</td>\n    </tr>\n    <tr>\n      <th>...</th>\n      <td>...</td>\n      <td>...</td>\n      <td>...</td>\n      <td>...</td>\n      <td>...</td>\n      <td>...</td>\n      <td>...</td>\n      <td>...</td>\n      <td>...</td>\n      <td>...</td>\n      <td>...</td>\n      <td>...</td>\n      <td>...</td>\n    </tr>\n    <tr>\n      <th>135</th>\n      <td>29</td>\n      <td>Venezuela</td>\n      <td>Americas</td>\n      <td>73.9</td>\n      <td>7.1</td>\n      <td>41.5</td>\n      <td>3.6</td>\n      <td>0.19</td>\n      <td>65.5</td>\n      <td>6.5</td>\n      <td>33.6</td>\n      <td>12772</td>\n      <td>29854238</td>\n    </tr>\n    <tr>\n      <th>136</th>\n      <td>5</td>\n      <td>Vietnam</td>\n      <td>Asia Pacific</td>\n      <td>75.5</td>\n      <td>5.5</td>\n      <td>32.8</td>\n      <td>1.7</td>\n      <td>0.19</td>\n      <td>64.8</td>\n      <td>5.2</td>\n      <td>40.3</td>\n      <td>1755</td>\n      <td>88809200</td>\n    </tr>\n    <tr>\n      <th>137</th>\n      <td>94</td>\n      <td>Yemen</td>\n      <td>Middle East and North Africa</td>\n      <td>63.3</td>\n      <td>4.1</td>\n      <td>15.2</td>\n      <td>1.0</td>\n      <td>0.39</td>\n      <td>44.7</td>\n      <td>3.6</td>\n      <td>22.8</td>\n      <td>1289</td>\n      <td>24882792</td>\n    </tr>\n    <tr>\n      <th>138</th>\n      <td>77</td>\n      <td>Zambia</td>\n      <td>Sub Saharan Africa</td>\n      <td>58.4</td>\n      <td>5.0</td>\n      <td>16.7</td>\n      <td>1.0</td>\n      <td>0.41</td>\n      <td>38.7</td>\n      <td>4.5</td>\n      <td>25.2</td>\n      <td>1687</td>\n      <td>14786581</td>\n    </tr>\n    <tr>\n      <th>139</th>\n      <td>99</td>\n      <td>Zimbabwe</td>\n      <td>Sub Saharan Africa</td>\n      <td>53.7</td>\n      <td>5.0</td>\n      <td>16.4</td>\n      <td>1.4</td>\n      <td>0.37</td>\n      <td>36.9</td>\n      <td>4.6</td>\n      <td>22.1</td>\n      <td>851</td>\n      <td>14565482</td>\n    </tr>\n  </tbody>\n</table>\n<p>140 rows × 13 columns</p>\n</div>",
                  "text/plain": "     HPIRank      Country  ... GDPPerCapita  Population\n0        110  Afghanistan  ...          691    29726803\n1         13      Albania  ...         4247     2900489\n2         30      Algeria  ...         5584    37439427\n3         19    Argentina  ...        14357    42095224\n4         73      Armenia  ...         3566     2978339\n..       ...          ...  ...          ...         ...\n135       29    Venezuela  ...        12772    29854238\n136        5      Vietnam  ...         1755    88809200\n137       94        Yemen  ...         1289    24882792\n138       77       Zambia  ...         1687    14786581\n139       99     Zimbabwe  ...          851    14565482\n\n[140 rows x 13 columns]"
                },
                "metadata": {}
              }
            ],
            "_view_module": "@jupyter-widgets/output",
            "_model_module_version": "1.0.0",
            "_view_count": null,
            "_view_module_version": "1.0.0",
            "layout": "IPY_MODEL_a6712d8fb3674913b013bd9486f6f0ad",
            "_model_module": "@jupyter-widgets/output"
          }
        },
        "a6712d8fb3674913b013bd9486f6f0ad": {
          "model_module": "@jupyter-widgets/base",
          "model_name": "LayoutModel",
          "model_module_version": "1.2.0",
          "state": {
            "_view_name": "LayoutView",
            "grid_template_rows": null,
            "right": null,
            "justify_content": null,
            "_view_module": "@jupyter-widgets/base",
            "overflow": null,
            "_model_module_version": "1.2.0",
            "_view_count": null,
            "flex_flow": null,
            "width": null,
            "min_width": null,
            "border": null,
            "align_items": null,
            "bottom": null,
            "_model_module": "@jupyter-widgets/base",
            "top": null,
            "grid_column": null,
            "overflow_y": null,
            "overflow_x": null,
            "grid_auto_flow": null,
            "grid_area": null,
            "grid_template_columns": null,
            "flex": null,
            "_model_name": "LayoutModel",
            "justify_items": null,
            "grid_row": null,
            "max_height": null,
            "align_content": null,
            "visibility": null,
            "align_self": null,
            "height": null,
            "min_height": null,
            "padding": null,
            "grid_auto_rows": null,
            "grid_gap": null,
            "max_width": null,
            "order": null,
            "_view_module_version": "1.2.0",
            "grid_template_areas": null,
            "object_position": null,
            "object_fit": null,
            "grid_auto_columns": null,
            "margin": null,
            "display": null,
            "left": null
          }
        },
        "fb707fb8f53d43b5a9821cc19ab5e8de": {
          "model_module": "luxwidget",
          "model_name": "LuxModel",
          "model_module_version": "0.1.8",
          "state": {
            "_view_name": "LuxWidgetView",
            "_dom_classes": [],
            "_selectedVisIdxs": {},
            "_model_name": "LuxModel",
            "all_column": false,
            "data": [],
            "selectedIntentIndex": {},
            "_view_module": "luxwidget",
            "_model_module_version": "0.1.8",
            "_view_count": null,
            "deletedIndices": {},
            "plotting_scale": 1,
            "_view_module_version": "0.1.8",
            "intent": "",
            "recommendations": [
              {
                "action": "Correlation",
                "vspec": [
                  {
                    "selection": {
                      "selector033": {
                        "bind": "scales",
                        "type": "interval",
                        "encodings": [
                          "x",
                          "y"
                        ]
                      }
                    },
                    "encoding": {
                      "y": {
                        "field": "AvrgWellBeing",
                        "scale": {
                          "domain": [
                            2.9,
                            7.8
                          ]
                        },
                        "type": "quantitative",
                        "axis": {
                          "title": "AvrgWellBeing"
                        }
                      },
                      "x": {
                        "field": "IneqAdjWellbeing",
                        "scale": {
                          "domain": [
                            2.4,
                            7.6
                          ]
                        },
                        "type": "quantitative",
                        "axis": {
                          "title": "IneqAdjWellbeing"
                        }
                      }
                    },
                    "config": {
                      "mark": {
                        "tooltip": {
                          "content": "encoding"
                        }
                      },
                      "axis": {
                        "labelFont": "Helvetica Neue",
                        "labelFontSize": 9,
                        "labelColor": "#505050",
                        "titleFont": "Helvetica Neue",
                        "labelFontWeight": 400,
                        "titleFontSize": 11,
                        "titleFontWeight": 500
                      },
                      "title": {
                        "fontWeight": 500,
                        "font": "Helvetica Neue",
                        "fontSize": 13
                      },
                      "legend": {
                        "labelFont": "Helvetica Neue",
                        "labelFontSize": 9,
                        "titleFont": "Helvetica Neue",
                        "labelFontWeight": 400,
                        "titleFontSize": 10,
                        "titleFontWeight": 500
                      },
                      "view": {
                        "continuousWidth": 400,
                        "continuousHeight": 300
                      }
                    },
                    "height": 150,
                    "width": 160,
                    "datasets": {
                      "data-98583ca52d37464a542675f7506cb08a": [
                        {
                          "AvrgWellBeing": 3.8,
                          "IneqAdjWellbeing": 3.4
                        },
                        {
                          "AvrgWellBeing": 5.5,
                          "IneqAdjWellbeing": 5.1
                        },
                        {
                          "AvrgWellBeing": 5.6,
                          "IneqAdjWellbeing": 5.2
                        },
                        {
                          "AvrgWellBeing": 6.5,
                          "IneqAdjWellbeing": 6
                        },
                        {
                          "AvrgWellBeing": 4.3,
                          "IneqAdjWellbeing": 3.7
                        },
                        {
                          "AvrgWellBeing": 7.2,
                          "IneqAdjWellbeing": 6.9
                        },
                        {
                          "AvrgWellBeing": 7.4,
                          "IneqAdjWellbeing": 7.1
                        },
                        {
                          "AvrgWellBeing": 4.7,
                          "IneqAdjWellbeing": 4.3
                        },
                        {
                          "AvrgWellBeing": 5.7,
                          "IneqAdjWellbeing": 5.3
                        },
                        {
                          "AvrgWellBeing": 6.9,
                          "IneqAdjWellbeing": 6.6
                        },
                        {
                          "AvrgWellBeing": 6.1,
                          "IneqAdjWellbeing": 5.7
                        },
                        {
                          "AvrgWellBeing": 3.2,
                          "IneqAdjWellbeing": 2.8
                        },
                        {
                          "AvrgWellBeing": 5.6,
                          "IneqAdjWellbeing": 5.2
                        },
                        {
                          "AvrgWellBeing": 6,
                          "IneqAdjWellbeing": 5.5
                        },
                        {
                          "AvrgWellBeing": 4.8,
                          "IneqAdjWellbeing": 4.2
                        },
                        {
                          "AvrgWellBeing": 4.8,
                          "IneqAdjWellbeing": 4.3
                        },
                        {
                          "AvrgWellBeing": 6.9,
                          "IneqAdjWellbeing": 6.3
                        },
                        {
                          "AvrgWellBeing": 4.2,
                          "IneqAdjWellbeing": 3.7
                        },
                        {
                          "AvrgWellBeing": 4,
                          "IneqAdjWellbeing": 3.6
                        },
                        {
                          "AvrgWellBeing": 3.4,
                          "IneqAdjWellbeing": 3
                        },
                        {
                          "AvrgWellBeing": 3.9,
                          "IneqAdjWellbeing": 3.5
                        },
                        {
                          "AvrgWellBeing": 4.2,
                          "IneqAdjWellbeing": 3.7
                        },
                        {
                          "AvrgWellBeing": 7.4,
                          "IneqAdjWellbeing": 7.1
                        },
                        {
                          "AvrgWellBeing": 4,
                          "IneqAdjWellbeing": 3.7
                        },
                        {
                          "AvrgWellBeing": 6.6,
                          "IneqAdjWellbeing": 6.1
                        },
                        {
                          "AvrgWellBeing": 5.1,
                          "IneqAdjWellbeing": 4.6
                        },
                        {
                          "AvrgWellBeing": 6.4,
                          "IneqAdjWellbeing": 5.7
                        },
                        {
                          "AvrgWellBeing": 4,
                          "IneqAdjWellbeing": 3.7
                        },
                        {
                          "AvrgWellBeing": 7.3,
                          "IneqAdjWellbeing": 6.8
                        },
                        {
                          "AvrgWellBeing": 3.8,
                          "IneqAdjWellbeing": 3.5
                        },
                        {
                          "AvrgWellBeing": 6,
                          "IneqAdjWellbeing": 5.5
                        },
                        {
                          "AvrgWellBeing": 6.2,
                          "IneqAdjWellbeing": 5.7
                        },
                        {
                          "AvrgWellBeing": 6.3,
                          "IneqAdjWellbeing": 5.9
                        },
                        {
                          "AvrgWellBeing": 7.5,
                          "IneqAdjWellbeing": 7.2
                        },
                        {
                          "AvrgWellBeing": 4.4,
                          "IneqAdjWellbeing": 3.8
                        },
                        {
                          "AvrgWellBeing": 4.8,
                          "IneqAdjWellbeing": 4.1
                        },
                        {
                          "AvrgWellBeing": 6,
                          "IneqAdjWellbeing": 5.5
                        },
                        {
                          "AvrgWellBeing": 4.2,
                          "IneqAdjWellbeing": 3.7
                        },
                        {
                          "AvrgWellBeing": 5.9,
                          "IneqAdjWellbeing": 5.3
                        },
                        {
                          "AvrgWellBeing": 5.4,
                          "IneqAdjWellbeing": 5
                        },
                        {
                          "AvrgWellBeing": 4.6,
                          "IneqAdjWellbeing": 4.2
                        },
                        {
                          "AvrgWellBeing": 7.4,
                          "IneqAdjWellbeing": 7.2
                        },
                        {
                          "AvrgWellBeing": 6.6,
                          "IneqAdjWellbeing": 6.3
                        },
                        {
                          "AvrgWellBeing": 4,
                          "IneqAdjWellbeing": 3.5
                        },
                        {
                          "AvrgWellBeing": 4.3,
                          "IneqAdjWellbeing": 3.8
                        },
                        {
                          "AvrgWellBeing": 6.7,
                          "IneqAdjWellbeing": 6.4
                        },
                        {
                          "AvrgWellBeing": 5.1,
                          "IneqAdjWellbeing": 4.6
                        },
                        {
                          "AvrgWellBeing": 5.1,
                          "IneqAdjWellbeing": 4.5
                        },
                        {
                          "AvrgWellBeing": 5.9,
                          "IneqAdjWellbeing": 5.2
                        },
                        {
                          "AvrgWellBeing": 3.7,
                          "IneqAdjWellbeing": 3.3
                        },
                        {
                          "AvrgWellBeing": 4.4,
                          "IneqAdjWellbeing": 4
                        },
                        {
                          "AvrgWellBeing": 4.6,
                          "IneqAdjWellbeing": 3.9
                        },
                        {
                          "AvrgWellBeing": 5.5,
                          "IneqAdjWellbeing": 5.1
                        },
                        {
                          "AvrgWellBeing": 4.7,
                          "IneqAdjWellbeing": 4.2
                        },
                        {
                          "AvrgWellBeing": 7.6,
                          "IneqAdjWellbeing": 7.4
                        },
                        {
                          "AvrgWellBeing": 4.6,
                          "IneqAdjWellbeing": 4.2
                        },
                        {
                          "AvrgWellBeing": 5.4,
                          "IneqAdjWellbeing": 5.1
                        },
                        {
                          "AvrgWellBeing": 4.6,
                          "IneqAdjWellbeing": 4
                        },
                        {
                          "AvrgWellBeing": 4.7,
                          "IneqAdjWellbeing": 4.3
                        },
                        {
                          "AvrgWellBeing": 7,
                          "IneqAdjWellbeing": 6.7
                        },
                        {
                          "AvrgWellBeing": 7.1,
                          "IneqAdjWellbeing": 6.8
                        },
                        {
                          "AvrgWellBeing": 5.8,
                          "IneqAdjWellbeing": 5.3
                        },
                        {
                          "AvrgWellBeing": 5.6,
                          "IneqAdjWellbeing": 5
                        },
                        {
                          "AvrgWellBeing": 6,
                          "IneqAdjWellbeing": 5.6
                        },
                        {
                          "AvrgWellBeing": 5.8,
                          "IneqAdjWellbeing": 5.4
                        },
                        {
                          "AvrgWellBeing": 4.5,
                          "IneqAdjWellbeing": 4.1
                        },
                        {
                          "AvrgWellBeing": 5.2,
                          "IneqAdjWellbeing": 4.9
                        },
                        {
                          "AvrgWellBeing": 5.1,
                          "IneqAdjWellbeing": 4.7
                        },
                        {
                          "AvrgWellBeing": 4.6,
                          "IneqAdjWellbeing": 4
                        },
                        {
                          "AvrgWellBeing": 4.9,
                          "IneqAdjWellbeing": 4.3
                        },
                        {
                          "AvrgWellBeing": 4.4,
                          "IneqAdjWellbeing": 4.1
                        },
                        {
                          "AvrgWellBeing": 5.8,
                          "IneqAdjWellbeing": 5.4
                        },
                        {
                          "AvrgWellBeing": 7,
                          "IneqAdjWellbeing": 6.7
                        },
                        {
                          "AvrgWellBeing": 4.6,
                          "IneqAdjWellbeing": 4.1
                        },
                        {
                          "AvrgWellBeing": 4.3,
                          "IneqAdjWellbeing": 3.5
                        },
                        {
                          "AvrgWellBeing": 5.9,
                          "IneqAdjWellbeing": 5.7
                        },
                        {
                          "AvrgWellBeing": 6,
                          "IneqAdjWellbeing": 5.5
                        },
                        {
                          "AvrgWellBeing": 4.7,
                          "IneqAdjWellbeing": 4.5
                        },
                        {
                          "AvrgWellBeing": 5.5,
                          "IneqAdjWellbeing": 5.1
                        },
                        {
                          "AvrgWellBeing": 7.3,
                          "IneqAdjWellbeing": 6.8
                        },
                        {
                          "AvrgWellBeing": 4.9,
                          "IneqAdjWellbeing": 4.6
                        },
                        {
                          "AvrgWellBeing": 5.2,
                          "IneqAdjWellbeing": 4.6
                        },
                        {
                          "AvrgWellBeing": 5,
                          "IneqAdjWellbeing": 4.5
                        },
                        {
                          "AvrgWellBeing": 5,
                          "IneqAdjWellbeing": 4.5
                        },
                        {
                          "AvrgWellBeing": 4.4,
                          "IneqAdjWellbeing": 4
                        },
                        {
                          "AvrgWellBeing": 4.7,
                          "IneqAdjWellbeing": 4.4
                        },
                        {
                          "AvrgWellBeing": 4.2,
                          "IneqAdjWellbeing": 3.8
                        },
                        {
                          "AvrgWellBeing": 7.5,
                          "IneqAdjWellbeing": 7.5
                        },
                        {
                          "AvrgWellBeing": 7.2,
                          "IneqAdjWellbeing": 6.9
                        },
                        {
                          "AvrgWellBeing": 5.4,
                          "IneqAdjWellbeing": 4.8
                        },
                        {
                          "AvrgWellBeing": 3.8,
                          "IneqAdjWellbeing": 3.5
                        },
                        {
                          "AvrgWellBeing": 5.5,
                          "IneqAdjWellbeing": 5.2
                        },
                        {
                          "AvrgWellBeing": 7.7,
                          "IneqAdjWellbeing": 7.4
                        },
                        {
                          "AvrgWellBeing": 6.9,
                          "IneqAdjWellbeing": 6.4
                        },
                        {
                          "AvrgWellBeing": 5.1,
                          "IneqAdjWellbeing": 4.6
                        },
                        {
                          "AvrgWellBeing": 4.6,
                          "IneqAdjWellbeing": 4.1
                        },
                        {
                          "AvrgWellBeing": 6.9,
                          "IneqAdjWellbeing": 6.3
                        },
                        {
                          "AvrgWellBeing": 5.8,
                          "IneqAdjWellbeing": 5.5
                        },
                        {
                          "AvrgWellBeing": 5.8,
                          "IneqAdjWellbeing": 5.3
                        },
                        {
                          "AvrgWellBeing": 5,
                          "IneqAdjWellbeing": 4.4
                        },
                        {
                          "AvrgWellBeing": 5.9,
                          "IneqAdjWellbeing": 5.5
                        },
                        {
                          "AvrgWellBeing": 5,
                          "IneqAdjWellbeing": 4.3
                        },
                        {
                          "AvrgWellBeing": 3.9,
                          "IneqAdjWellbeing": 3.4
                        },
                        {
                          "AvrgWellBeing": 5.2,
                          "IneqAdjWellbeing": 4.6
                        },
                        {
                          "AvrgWellBeing": 5.6,
                          "IneqAdjWellbeing": 5.2
                        },
                        {
                          "AvrgWellBeing": 3.3,
                          "IneqAdjWellbeing": 3
                        },
                        {
                          "AvrgWellBeing": 3.7,
                          "IneqAdjWellbeing": 3.3
                        },
                        {
                          "AvrgWellBeing": 5.2,
                          "IneqAdjWellbeing": 4.6
                        },
                        {
                          "AvrgWellBeing": 4.5,
                          "IneqAdjWellbeing": 4
                        },
                        {
                          "AvrgWellBeing": 5.9,
                          "IneqAdjWellbeing": 5.4
                        },
                        {
                          "AvrgWellBeing": 6.1,
                          "IneqAdjWellbeing": 5.7
                        },
                        {
                          "AvrgWellBeing": 5.1,
                          "IneqAdjWellbeing": 4.6
                        },
                        {
                          "AvrgWellBeing": 6,
                          "IneqAdjWellbeing": 5.5
                        },
                        {
                          "AvrgWellBeing": 6.3,
                          "IneqAdjWellbeing": 5.9
                        },
                        {
                          "AvrgWellBeing": 4.2,
                          "IneqAdjWellbeing": 3.8
                        },
                        {
                          "AvrgWellBeing": 6.3,
                          "IneqAdjWellbeing": 5.9
                        },
                        {
                          "AvrgWellBeing": 4.9,
                          "IneqAdjWellbeing": 4.4
                        },
                        {
                          "AvrgWellBeing": 7.6,
                          "IneqAdjWellbeing": 7.4
                        },
                        {
                          "AvrgWellBeing": 7.8,
                          "IneqAdjWellbeing": 7.6
                        },
                        {
                          "AvrgWellBeing": 3.2,
                          "IneqAdjWellbeing": 2.6
                        },
                        {
                          "AvrgWellBeing": 4.5,
                          "IneqAdjWellbeing": 4.3
                        },
                        {
                          "AvrgWellBeing": 4,
                          "IneqAdjWellbeing": 3.6
                        },
                        {
                          "AvrgWellBeing": 6.3,
                          "IneqAdjWellbeing": 6
                        },
                        {
                          "AvrgWellBeing": 2.9,
                          "IneqAdjWellbeing": 2.4
                        },
                        {
                          "AvrgWellBeing": 6.4,
                          "IneqAdjWellbeing": 6
                        },
                        {
                          "AvrgWellBeing": 4.5,
                          "IneqAdjWellbeing": 4
                        },
                        {
                          "AvrgWellBeing": 5.3,
                          "IneqAdjWellbeing": 4.9
                        },
                        {
                          "AvrgWellBeing": 5.5,
                          "IneqAdjWellbeing": 5.1
                        },
                        {
                          "AvrgWellBeing": 4.3,
                          "IneqAdjWellbeing": 3.9
                        },
                        {
                          "AvrgWellBeing": 5,
                          "IneqAdjWellbeing": 4.6
                        },
                        {
                          "AvrgWellBeing": 6.9,
                          "IneqAdjWellbeing": 6.6
                        },
                        {
                          "AvrgWellBeing": 7,
                          "IneqAdjWellbeing": 6.5
                        },
                        {
                          "AvrgWellBeing": 6.4,
                          "IneqAdjWellbeing": 5.8
                        },
                        {
                          "AvrgWellBeing": 6,
                          "IneqAdjWellbeing": 5.6
                        },
                        {
                          "AvrgWellBeing": 6.5,
                          "IneqAdjWellbeing": 5.9
                        },
                        {
                          "AvrgWellBeing": 7.1,
                          "IneqAdjWellbeing": 6.5
                        },
                        {
                          "AvrgWellBeing": 5.5,
                          "IneqAdjWellbeing": 5.2
                        },
                        {
                          "AvrgWellBeing": 4.1,
                          "IneqAdjWellbeing": 3.6
                        },
                        {
                          "AvrgWellBeing": 5,
                          "IneqAdjWellbeing": 4.5
                        },
                        {
                          "AvrgWellBeing": 5,
                          "IneqAdjWellbeing": 4.6
                        }
                      ]
                    },
                    "vislib": "vegalite",
                    "$schema": "https://vega.github.io/schema/vega-lite/v4.8.1.json",
                    "mark": "circle",
                    "data": {
                      "name": "data-98583ca52d37464a542675f7506cb08a"
                    }
                  },
                  {
                    "selection": {
                      "selector034": {
                        "bind": "scales",
                        "type": "interval",
                        "encodings": [
                          "x",
                          "y"
                        ]
                      }
                    },
                    "encoding": {
                      "y": {
                        "field": "HappyPlanetIndex",
                        "scale": {
                          "domain": [
                            12.8,
                            44.7
                          ]
                        },
                        "type": "quantitative",
                        "axis": {
                          "title": "HappyPlanetIndex"
                        }
                      },
                      "x": {
                        "field": "HPIRank",
                        "scale": {
                          "domain": [
                            1,
                            140
                          ]
                        },
                        "type": "quantitative",
                        "axis": {
                          "title": "HPIRank"
                        }
                      }
                    },
                    "config": {
                      "mark": {
                        "tooltip": {
                          "content": "encoding"
                        }
                      },
                      "axis": {
                        "labelFont": "Helvetica Neue",
                        "labelFontSize": 9,
                        "labelColor": "#505050",
                        "titleFont": "Helvetica Neue",
                        "labelFontWeight": 400,
                        "titleFontSize": 11,
                        "titleFontWeight": 500
                      },
                      "title": {
                        "fontWeight": 500,
                        "font": "Helvetica Neue",
                        "fontSize": 13
                      },
                      "legend": {
                        "labelFont": "Helvetica Neue",
                        "labelFontSize": 9,
                        "titleFont": "Helvetica Neue",
                        "labelFontWeight": 400,
                        "titleFontSize": 10,
                        "titleFontWeight": 500
                      },
                      "view": {
                        "continuousWidth": 400,
                        "continuousHeight": 300
                      }
                    },
                    "height": 150,
                    "width": 160,
                    "datasets": {
                      "data-19c57e4fc493cc6c62adde4bfea95236": [
                        {
                          "HappyPlanetIndex": 20.2,
                          "HPIRank": 110
                        },
                        {
                          "HappyPlanetIndex": 36.8,
                          "HPIRank": 13
                        },
                        {
                          "HappyPlanetIndex": 33.3,
                          "HPIRank": 30
                        },
                        {
                          "HappyPlanetIndex": 35.2,
                          "HPIRank": 19
                        },
                        {
                          "HappyPlanetIndex": 25.7,
                          "HPIRank": 73
                        },
                        {
                          "HappyPlanetIndex": 21.2,
                          "HPIRank": 105
                        },
                        {
                          "HappyPlanetIndex": 30.5,
                          "HPIRank": 43
                        },
                        {
                          "HappyPlanetIndex": 38.4,
                          "HPIRank": 8
                        },
                        {
                          "HappyPlanetIndex": 21.7,
                          "HPIRank": 102
                        },
                        {
                          "HappyPlanetIndex": 23.7,
                          "HPIRank": 87
                        },
                        {
                          "HappyPlanetIndex": 33.8,
                          "HPIRank": 27
                        },
                        {
                          "HappyPlanetIndex": 13.4,
                          "HPIRank": 137
                        },
                        {
                          "HappyPlanetIndex": 28.6,
                          "HPIRank": 56
                        },
                        {
                          "HappyPlanetIndex": 23.3,
                          "HPIRank": 92
                        },
                        {
                          "HappyPlanetIndex": 25.3,
                          "HPIRank": 76
                        },
                        {
                          "HappyPlanetIndex": 16.6,
                          "HPIRank": 126
                        },
                        {
                          "HappyPlanetIndex": 34.3,
                          "HPIRank": 23
                        },
                        {
                          "HappyPlanetIndex": 20.4,
                          "HPIRank": 109
                        },
                        {
                          "HappyPlanetIndex": 17.9,
                          "HPIRank": 119
                        },
                        {
                          "HappyPlanetIndex": 15.6,
                          "HPIRank": 131
                        },
                        {
                          "HappyPlanetIndex": 25.6,
                          "HPIRank": 74
                        },
                        {
                          "HappyPlanetIndex": 16.7,
                          "HPIRank": 124
                        },
                        {
                          "HappyPlanetIndex": 23.9,
                          "HPIRank": 85
                        },
                        {
                          "HappyPlanetIndex": 12.8,
                          "HPIRank": 140
                        },
                        {
                          "HappyPlanetIndex": 31.7,
                          "HPIRank": 35
                        },
                        {
                          "HappyPlanetIndex": 25.7,
                          "HPIRank": 72
                        },
                        {
                          "HappyPlanetIndex": 40.7,
                          "HPIRank": 3
                        },
                        {
                          "HappyPlanetIndex": 23.1,
                          "HPIRank": 93
                        },
                        {
                          "HappyPlanetIndex": 44.7,
                          "HPIRank": 1
                        },
                        {
                          "HappyPlanetIndex": 14.4,
                          "HPIRank": 135
                        },
                        {
                          "HappyPlanetIndex": 30.2,
                          "HPIRank": 47
                        },
                        {
                          "HappyPlanetIndex": 30.7,
                          "HPIRank": 41
                        },
                        {
                          "HappyPlanetIndex": 27.3,
                          "HPIRank": 64
                        },
                        {
                          "HappyPlanetIndex": 32.7,
                          "HPIRank": 32
                        },
                        {
                          "HappyPlanetIndex": 16.4,
                          "HPIRank": 127
                        },
                        {
                          "HappyPlanetIndex": 30.3,
                          "HPIRank": 45
                        },
                        {
                          "HappyPlanetIndex": 37,
                          "HPIRank": 10
                        },
                        {
                          "HappyPlanetIndex": 23.8,
                          "HPIRank": 86
                        },
                        {
                          "HappyPlanetIndex": 35.6,
                          "HPIRank": 17
                        },
                        {
                          "HappyPlanetIndex": 17.9,
                          "HPIRank": 118
                        },
                        {
                          "HappyPlanetIndex": 26.7,
                          "HPIRank": 66
                        },
                        {
                          "HappyPlanetIndex": 31.3,
                          "HPIRank": 37
                        },
                        {
                          "HappyPlanetIndex": 30.4,
                          "HPIRank": 44
                        },
                        {
                          "HappyPlanetIndex": 17.5,
                          "HPIRank": 120
                        },
                        {
                          "HappyPlanetIndex": 31.1,
                          "HPIRank": 40
                        },
                        {
                          "HappyPlanetIndex": 29.8,
                          "HPIRank": 49
                        },
                        {
                          "HappyPlanetIndex": 21.4,
                          "HPIRank": 104
                        },
                        {
                          "HappyPlanetIndex": 23.6,
                          "HPIRank": 89
                        },
                        {
                          "HappyPlanetIndex": 34.2,
                          "HPIRank": 26
                        },
                        {
                          "HappyPlanetIndex": 15.9,
                          "HPIRank": 129
                        },
                        {
                          "HappyPlanetIndex": 28.6,
                          "HPIRank": 57
                        },
                        {
                          "HappyPlanetIndex": 27.2,
                          "HPIRank": 65
                        },
                        {
                          "HappyPlanetIndex": 16.8,
                          "HPIRank": 123
                        },
                        {
                          "HappyPlanetIndex": 26.4,
                          "HPIRank": 69
                        },
                        {
                          "HappyPlanetIndex": 31.1,
                          "HPIRank": 39
                        },
                        {
                          "HappyPlanetIndex": 29.2,
                          "HPIRank": 50
                        },
                        {
                          "HappyPlanetIndex": 35.7,
                          "HPIRank": 16
                        },
                        {
                          "HappyPlanetIndex": 24,
                          "HPIRank": 84
                        },
                        {
                          "HappyPlanetIndex": 26.5,
                          "HPIRank": 67
                        },
                        {
                          "HappyPlanetIndex": 30,
                          "HPIRank": 48
                        },
                        {
                          "HappyPlanetIndex": 28.8,
                          "HPIRank": 54
                        },
                        {
                          "HappyPlanetIndex": 28.1,
                          "HPIRank": 60
                        },
                        {
                          "HappyPlanetIndex": 36.9,
                          "HPIRank": 11
                        },
                        {
                          "HappyPlanetIndex": 28.3,
                          "HPIRank": 58
                        },
                        {
                          "HappyPlanetIndex": 19.1,
                          "HPIRank": 114
                        },
                        {
                          "HappyPlanetIndex": 24.2,
                          "HPIRank": 83
                        },
                        {
                          "HappyPlanetIndex": 33.1,
                          "HPIRank": 31
                        },
                        {
                          "HappyPlanetIndex": 17.1,
                          "HPIRank": 121
                        },
                        {
                          "HappyPlanetIndex": 21.9,
                          "HPIRank": 100
                        },
                        {
                          "HappyPlanetIndex": 16.7,
                          "HPIRank": 125
                        },
                        {
                          "HappyPlanetIndex": 22.2,
                          "HPIRank": 96
                        },
                        {
                          "HappyPlanetIndex": 21,
                          "HPIRank": 107
                        },
                        {
                          "HappyPlanetIndex": 13.2,
                          "HPIRank": 139
                        },
                        {
                          "HappyPlanetIndex": 23.4,
                          "HPIRank": 90
                        },
                        {
                          "HappyPlanetIndex": 22.1,
                          "HPIRank": 98
                        },
                        {
                          "HappyPlanetIndex": 30.3,
                          "HPIRank": 46
                        },
                        {
                          "HappyPlanetIndex": 29,
                          "HPIRank": 53
                        },
                        {
                          "HappyPlanetIndex": 18,
                          "HPIRank": 117
                        },
                        {
                          "HappyPlanetIndex": 27.4,
                          "HPIRank": 63
                        },
                        {
                          "HappyPlanetIndex": 40.7,
                          "HPIRank": 2
                        },
                        {
                          "HappyPlanetIndex": 14.3,
                          "HPIRank": 136
                        },
                        {
                          "HappyPlanetIndex": 25.1,
                          "HPIRank": 78
                        },
                        {
                          "HappyPlanetIndex": 32.7,
                          "HPIRank": 33
                        },
                        {
                          "HappyPlanetIndex": 23.7,
                          "HPIRank": 88
                        },
                        {
                          "HappyPlanetIndex": 24.7,
                          "HPIRank": 81
                        },
                        {
                          "HappyPlanetIndex": 21.6,
                          "HPIRank": 103
                        },
                        {
                          "HappyPlanetIndex": 30.5,
                          "HPIRank": 42
                        },
                        {
                          "HappyPlanetIndex": 35.3,
                          "HPIRank": 18
                        },
                        {
                          "HappyPlanetIndex": 31.3,
                          "HPIRank": 38
                        },
                        {
                          "HappyPlanetIndex": 38.7,
                          "HPIRank": 7
                        },
                        {
                          "HappyPlanetIndex": 16.8,
                          "HPIRank": 122
                        },
                        {
                          "HappyPlanetIndex": 22.2,
                          "HPIRank": 95
                        },
                        {
                          "HappyPlanetIndex": 36.8,
                          "HPIRank": 12
                        },
                        {
                          "HappyPlanetIndex": 21.1,
                          "HPIRank": 106
                        },
                        {
                          "HappyPlanetIndex": 31.5,
                          "HPIRank": 36
                        },
                        {
                          "HappyPlanetIndex": 34.5,
                          "HPIRank": 22
                        },
                        {
                          "HappyPlanetIndex": 39.5,
                          "HPIRank": 6
                        },
                        {
                          "HappyPlanetIndex": 23.3,
                          "HPIRank": 91
                        },
                        {
                          "HappyPlanetIndex": 34.6,
                          "HPIRank": 21
                        },
                        {
                          "HappyPlanetIndex": 35,
                          "HPIRank": 20
                        },
                        {
                          "HappyPlanetIndex": 27.5,
                          "HPIRank": 62
                        },
                        {
                          "HappyPlanetIndex": 24.8,
                          "HPIRank": 79
                        },
                        {
                          "HappyPlanetIndex": 18.8,
                          "HPIRank": 115
                        },
                        {
                          "HappyPlanetIndex": 28.8,
                          "HPIRank": 55
                        },
                        {
                          "HappyPlanetIndex": 18.7,
                          "HPIRank": 116
                        },
                        {
                          "HappyPlanetIndex": 19.6,
                          "HPIRank": 111
                        },
                        {
                          "HappyPlanetIndex": 21.9,
                          "HPIRank": 101
                        },
                        {
                          "HappyPlanetIndex": 29,
                          "HPIRank": 52
                        },
                        {
                          "HappyPlanetIndex": 15.3,
                          "HPIRank": 133
                        },
                        {
                          "HappyPlanetIndex": 28.2,
                          "HPIRank": 59
                        },
                        {
                          "HappyPlanetIndex": 24.6,
                          "HPIRank": 82
                        },
                        {
                          "HappyPlanetIndex": 15.9,
                          "HPIRank": 128
                        },
                        {
                          "HappyPlanetIndex": 24.8,
                          "HPIRank": 80
                        },
                        {
                          "HappyPlanetIndex": 36,
                          "HPIRank": 15
                        },
                        {
                          "HappyPlanetIndex": 33.8,
                          "HPIRank": 28
                        },
                        {
                          "HappyPlanetIndex": 25.4,
                          "HPIRank": 75
                        },
                        {
                          "HappyPlanetIndex": 15.5,
                          "HPIRank": 132
                        },
                        {
                          "HappyPlanetIndex": 28,
                          "HPIRank": 61
                        },
                        {
                          "HappyPlanetIndex": 34.3,
                          "HPIRank": 24
                        },
                        {
                          "HappyPlanetIndex": 19.1,
                          "HPIRank": 113
                        },
                        {
                          "HappyPlanetIndex": 34.2,
                          "HPIRank": 25
                        },
                        {
                          "HappyPlanetIndex": 22.1,
                          "HPIRank": 97
                        },
                        {
                          "HappyPlanetIndex": 37.3,
                          "HPIRank": 9
                        },
                        {
                          "HappyPlanetIndex": 13.2,
                          "HPIRank": 138
                        },
                        {
                          "HappyPlanetIndex": 15.7,
                          "HPIRank": 130
                        },
                        {
                          "HappyPlanetIndex": 26.2,
                          "HPIRank": 71
                        },
                        {
                          "HappyPlanetIndex": 26.4,
                          "HPIRank": 68
                        },
                        {
                          "HappyPlanetIndex": 14.6,
                          "HPIRank": 134
                        },
                        {
                          "HappyPlanetIndex": 19.4,
                          "HPIRank": 112
                        },
                        {
                          "HappyPlanetIndex": 26.4,
                          "HPIRank": 70
                        },
                        {
                          "HappyPlanetIndex": 31.9,
                          "HPIRank": 34
                        },
                        {
                          "HappyPlanetIndex": 20.7,
                          "HPIRank": 108
                        },
                        {
                          "HappyPlanetIndex": 36.1,
                          "HPIRank": 14
                        },
                        {
                          "HappyPlanetIndex": 29.1,
                          "HPIRank": 51
                        },
                        {
                          "HappyPlanetIndex": 40.6,
                          "HPIRank": 4
                        },
                        {
                          "HappyPlanetIndex": 33.6,
                          "HPIRank": 29
                        },
                        {
                          "HappyPlanetIndex": 40.3,
                          "HPIRank": 5
                        },
                        {
                          "HappyPlanetIndex": 22.8,
                          "HPIRank": 94
                        },
                        {
                          "HappyPlanetIndex": 25.2,
                          "HPIRank": 77
                        },
                        {
                          "HappyPlanetIndex": 22.1,
                          "HPIRank": 99
                        }
                      ]
                    },
                    "vislib": "vegalite",
                    "$schema": "https://vega.github.io/schema/vega-lite/v4.8.1.json",
                    "mark": "circle",
                    "data": {
                      "name": "data-19c57e4fc493cc6c62adde4bfea95236"
                    }
                  },
                  {
                    "selection": {
                      "selector035": {
                        "bind": "scales",
                        "type": "interval",
                        "encodings": [
                          "x",
                          "y"
                        ]
                      }
                    },
                    "encoding": {
                      "y": {
                        "field": "IneqAdjLifeExpectancy",
                        "scale": {
                          "domain": [
                            27.3,
                            81.3
                          ]
                        },
                        "type": "quantitative",
                        "axis": {
                          "title": "IneqAdjLifeExpectancy"
                        }
                      },
                      "x": {
                        "field": "AvrgLifeExpectancy",
                        "scale": {
                          "domain": [
                            48.9,
                            83.6
                          ]
                        },
                        "type": "quantitative",
                        "axis": {
                          "title": "AvrgLifeExpectancy"
                        }
                      }
                    },
                    "config": {
                      "mark": {
                        "tooltip": {
                          "content": "encoding"
                        }
                      },
                      "axis": {
                        "labelFont": "Helvetica Neue",
                        "labelFontSize": 9,
                        "labelColor": "#505050",
                        "titleFont": "Helvetica Neue",
                        "labelFontWeight": 400,
                        "titleFontSize": 11,
                        "titleFontWeight": 500
                      },
                      "title": {
                        "fontWeight": 500,
                        "font": "Helvetica Neue",
                        "fontSize": 13
                      },
                      "legend": {
                        "labelFont": "Helvetica Neue",
                        "labelFontSize": 9,
                        "titleFont": "Helvetica Neue",
                        "labelFontWeight": 400,
                        "titleFontSize": 10,
                        "titleFontWeight": 500
                      },
                      "view": {
                        "continuousWidth": 400,
                        "continuousHeight": 300
                      }
                    },
                    "height": 150,
                    "width": 160,
                    "datasets": {
                      "data-08756046cfc274baf30f032c9031cbd8": [
                        {
                          "IneqAdjLifeExpectancy": 38.3,
                          "AvrgLifeExpectancy": 59.7
                        },
                        {
                          "IneqAdjLifeExpectancy": 69.7,
                          "AvrgLifeExpectancy": 77.3
                        },
                        {
                          "IneqAdjLifeExpectancy": 60.5,
                          "AvrgLifeExpectancy": 74.3
                        },
                        {
                          "IneqAdjLifeExpectancy": 68.3,
                          "AvrgLifeExpectancy": 75.9
                        },
                        {
                          "IneqAdjLifeExpectancy": 66.9,
                          "AvrgLifeExpectancy": 74.4
                        },
                        {
                          "IneqAdjLifeExpectancy": 78.6,
                          "AvrgLifeExpectancy": 82.1
                        },
                        {
                          "IneqAdjLifeExpectancy": 78,
                          "AvrgLifeExpectancy": 81
                        },
                        {
                          "IneqAdjLifeExpectancy": 56.6,
                          "AvrgLifeExpectancy": 70.8
                        },
                        {
                          "IneqAdjLifeExpectancy": 66.7,
                          "AvrgLifeExpectancy": 70.9
                        },
                        {
                          "IneqAdjLifeExpectancy": 77.2,
                          "AvrgLifeExpectancy": 80.4
                        },
                        {
                          "IneqAdjLifeExpectancy": 61.7,
                          "AvrgLifeExpectancy": 69.8
                        },
                        {
                          "IneqAdjLifeExpectancy": 37.3,
                          "AvrgLifeExpectancy": 59.2
                        },
                        {
                          "IneqAdjLifeExpectancy": 54.5,
                          "AvrgLifeExpectancy": 68.7
                        },
                        {
                          "IneqAdjLifeExpectancy": 47.9,
                          "AvrgLifeExpectancy": 67.5
                        },
                        {
                          "IneqAdjLifeExpectancy": 71.1,
                          "AvrgLifeExpectancy": 76.2
                        },
                        {
                          "IneqAdjLifeExpectancy": 50.8,
                          "AvrgLifeExpectancy": 64.2
                        },
                        {
                          "IneqAdjLifeExpectancy": 63.3,
                          "AvrgLifeExpectancy": 73.9
                        },
                        {
                          "IneqAdjLifeExpectancy": 68.1,
                          "AvrgLifeExpectancy": 73.9
                        },
                        {
                          "IneqAdjLifeExpectancy": 36.5,
                          "AvrgLifeExpectancy": 58
                        },
                        {
                          "IneqAdjLifeExpectancy": 33,
                          "AvrgLifeExpectancy": 55.8
                        },
                        {
                          "IneqAdjLifeExpectancy": 54.2,
                          "AvrgLifeExpectancy": 67.5
                        },
                        {
                          "IneqAdjLifeExpectancy": 33.1,
                          "AvrgLifeExpectancy": 54.6
                        },
                        {
                          "IneqAdjLifeExpectancy": 77.8,
                          "AvrgLifeExpectancy": 81.7
                        },
                        {
                          "IneqAdjLifeExpectancy": 27.3,
                          "AvrgLifeExpectancy": 50.8
                        },
                        {
                          "IneqAdjLifeExpectancy": 74.9,
                          "AvrgLifeExpectancy": 81.1
                        },
                        {
                          "IneqAdjLifeExpectancy": 68.6,
                          "AvrgLifeExpectancy": 75.4
                        },
                        {
                          "IneqAdjLifeExpectancy": 63.1,
                          "AvrgLifeExpectancy": 73.7
                        },
                        {
                          "IneqAdjLifeExpectancy": 43.3,
                          "AvrgLifeExpectancy": 62.6
                        },
                        {
                          "IneqAdjLifeExpectancy": 72.6,
                          "AvrgLifeExpectancy": 79.1
                        },
                        {
                          "IneqAdjLifeExpectancy": 30.6,
                          "AvrgLifeExpectancy": 50.8
                        },
                        {
                          "IneqAdjLifeExpectancy": 73.5,
                          "AvrgLifeExpectancy": 77
                        },
                        {
                          "IneqAdjLifeExpectancy": 76.6,
                          "AvrgLifeExpectancy": 79.8
                        },
                        {
                          "IneqAdjLifeExpectancy": 75.5,
                          "AvrgLifeExpectancy": 78.2
                        },
                        {
                          "IneqAdjLifeExpectancy": 76.8,
                          "AvrgLifeExpectancy": 79.8
                        },
                        {
                          "IneqAdjLifeExpectancy": 41.4,
                          "AvrgLifeExpectancy": 61.3
                        },
                        {
                          "IneqAdjLifeExpectancy": 60.8,
                          "AvrgLifeExpectancy": 73.1
                        },
                        {
                          "IneqAdjLifeExpectancy": 64.1,
                          "AvrgLifeExpectancy": 75.4
                        },
                        {
                          "IneqAdjLifeExpectancy": 61.3,
                          "AvrgLifeExpectancy": 70.7
                        },
                        {
                          "IneqAdjLifeExpectancy": 62.5,
                          "AvrgLifeExpectancy": 72.5
                        },
                        {
                          "IneqAdjLifeExpectancy": 72.6,
                          "AvrgLifeExpectancy": 76.2
                        },
                        {
                          "IneqAdjLifeExpectancy": 43.8,
                          "AvrgLifeExpectancy": 62.8
                        },
                        {
                          "IneqAdjLifeExpectancy": 77.6,
                          "AvrgLifeExpectancy": 80.4
                        },
                        {
                          "IneqAdjLifeExpectancy": 78.5,
                          "AvrgLifeExpectancy": 81.8
                        },
                        {
                          "IneqAdjLifeExpectancy": 45.8,
                          "AvrgLifeExpectancy": 63.3
                        },
                        {
                          "IneqAdjLifeExpectancy": 66.9,
                          "AvrgLifeExpectancy": 74.6
                        },
                        {
                          "IneqAdjLifeExpectancy": 77.6,
                          "AvrgLifeExpectancy": 80.6
                        },
                        {
                          "IneqAdjLifeExpectancy": 42.2,
                          "AvrgLifeExpectancy": 61
                        },
                        {
                          "IneqAdjLifeExpectancy": 77.6,
                          "AvrgLifeExpectancy": 80.5
                        },
                        {
                          "IneqAdjLifeExpectancy": 59.2,
                          "AvrgLifeExpectancy": 71.4
                        },
                        {
                          "IneqAdjLifeExpectancy": 37.2,
                          "AvrgLifeExpectancy": 57.7
                        },
                        {
                          "IneqAdjLifeExpectancy": 42.9,
                          "AvrgLifeExpectancy": 62.1
                        },
                        {
                          "IneqAdjLifeExpectancy": 58.5,
                          "AvrgLifeExpectancy": 72.8
                        },
                        {
                          "IneqAdjLifeExpectancy": 81.3,
                          "AvrgLifeExpectancy": 83.6
                        },
                        {
                          "IneqAdjLifeExpectancy": 70.9,
                          "AvrgLifeExpectancy": 74.9
                        },
                        {
                          "IneqAdjLifeExpectancy": 79.8,
                          "AvrgLifeExpectancy": 82.2
                        },
                        {
                          "IneqAdjLifeExpectancy": 51.1,
                          "AvrgLifeExpectancy": 67.3
                        },
                        {
                          "IneqAdjLifeExpectancy": 57.2,
                          "AvrgLifeExpectancy": 68.5
                        },
                        {
                          "IneqAdjLifeExpectancy": 66.9,
                          "AvrgLifeExpectancy": 74.8
                        },
                        {
                          "IneqAdjLifeExpectancy": 55.6,
                          "AvrgLifeExpectancy": 69
                        },
                        {
                          "IneqAdjLifeExpectancy": 77.5,
                          "AvrgLifeExpectancy": 80.5
                        },
                        {
                          "IneqAdjLifeExpectancy": 78.7,
                          "AvrgLifeExpectancy": 81.9
                        },
                        {
                          "IneqAdjLifeExpectancy": 80.2,
                          "AvrgLifeExpectancy": 82.7
                        },
                        {
                          "IneqAdjLifeExpectancy": 66.3,
                          "AvrgLifeExpectancy": 75.3
                        },
                        {
                          "IneqAdjLifeExpectancy": 80.6,
                          "AvrgLifeExpectancy": 83.2
                        },
                        {
                          "IneqAdjLifeExpectancy": 60.7,
                          "AvrgLifeExpectancy": 68.6
                        },
                        {
                          "IneqAdjLifeExpectancy": 41,
                          "AvrgLifeExpectancy": 60.3
                        },
                        {
                          "IneqAdjLifeExpectancy": 60.2,
                          "AvrgLifeExpectancy": 69.7
                        },
                        {
                          "IneqAdjLifeExpectancy": 68.7,
                          "AvrgLifeExpectancy": 73.6
                        },
                        {
                          "IneqAdjLifeExpectancy": 73.1,
                          "AvrgLifeExpectancy": 78.8
                        },
                        {
                          "IneqAdjLifeExpectancy": 32.6,
                          "AvrgLifeExpectancy": 48.9
                        },
                        {
                          "IneqAdjLifeExpectancy": 40.3,
                          "AvrgLifeExpectancy": 60.2
                        },
                        {
                          "IneqAdjLifeExpectancy": 68.8,
                          "AvrgLifeExpectancy": 72.8
                        },
                        {
                          "IneqAdjLifeExpectancy": 79,
                          "AvrgLifeExpectancy": 81.1
                        },
                        {
                          "IneqAdjLifeExpectancy": 69.4,
                          "AvrgLifeExpectancy": 75.1
                        },
                        {
                          "IneqAdjLifeExpectancy": 40.4,
                          "AvrgLifeExpectancy": 60.1
                        },
                        {
                          "IneqAdjLifeExpectancy": 69.5,
                          "AvrgLifeExpectancy": 74.4
                        },
                        {
                          "IneqAdjLifeExpectancy": 76.6,
                          "AvrgLifeExpectancy": 80.2
                        },
                        {
                          "IneqAdjLifeExpectancy": 41.5,
                          "AvrgLifeExpectancy": 62.6
                        },
                        {
                          "IneqAdjLifeExpectancy": 66.7,
                          "AvrgLifeExpectancy": 74
                        },
                        {
                          "IneqAdjLifeExpectancy": 66.3,
                          "AvrgLifeExpectancy": 76.4
                        },
                        {
                          "IneqAdjLifeExpectancy": 56.9,
                          "AvrgLifeExpectancy": 68.6
                        },
                        {
                          "IneqAdjLifeExpectancy": 71.8,
                          "AvrgLifeExpectancy": 75.8
                        },
                        {
                          "IneqAdjLifeExpectancy": 61.6,
                          "AvrgLifeExpectancy": 73.4
                        },
                        {
                          "IneqAdjLifeExpectancy": 34.5,
                          "AvrgLifeExpectancy": 54.3
                        },
                        {
                          "IneqAdjLifeExpectancy": 48.4,
                          "AvrgLifeExpectancy": 65.5
                        },
                        {
                          "IneqAdjLifeExpectancy": 50.1,
                          "AvrgLifeExpectancy": 64
                        },
                        {
                          "IneqAdjLifeExpectancy": 55.3,
                          "AvrgLifeExpectancy": 68.8
                        },
                        {
                          "IneqAdjLifeExpectancy": 78.2,
                          "AvrgLifeExpectancy": 81.2
                        },
                        {
                          "IneqAdjLifeExpectancy": 77.7,
                          "AvrgLifeExpectancy": 81.4
                        },
                        {
                          "IneqAdjLifeExpectancy": 63.4,
                          "AvrgLifeExpectancy": 74.3
                        },
                        {
                          "IneqAdjLifeExpectancy": 38.9,
                          "AvrgLifeExpectancy": 60
                        },
                        {
                          "IneqAdjLifeExpectancy": 30.9,
                          "AvrgLifeExpectancy": 52.1
                        },
                        {
                          "IneqAdjLifeExpectancy": 78.6,
                          "AvrgLifeExpectancy": 81.3
                        },
                        {
                          "IneqAdjLifeExpectancy": 70.9,
                          "AvrgLifeExpectancy": 76.3
                        },
                        {
                          "IneqAdjLifeExpectancy": 44.1,
                          "AvrgLifeExpectancy": 65.7
                        },
                        {
                          "IneqAdjLifeExpectancy": 62.6,
                          "AvrgLifeExpectancy": 72.6
                        },
                        {
                          "IneqAdjLifeExpectancy": 68.3,
                          "AvrgLifeExpectancy": 77.2
                        },
                        {
                          "IneqAdjLifeExpectancy": 59.4,
                          "AvrgLifeExpectancy": 72.6
                        },
                        {
                          "IneqAdjLifeExpectancy": 63.5,
                          "AvrgLifeExpectancy": 74.1
                        },
                        {
                          "IneqAdjLifeExpectancy": 56.9,
                          "AvrgLifeExpectancy": 67.9
                        },
                        {
                          "IneqAdjLifeExpectancy": 72.9,
                          "AvrgLifeExpectancy": 76.9
                        },
                        {
                          "IneqAdjLifeExpectancy": 77.2,
                          "AvrgLifeExpectancy": 80.3
                        },
                        {
                          "IneqAdjLifeExpectancy": 42,
                          "AvrgLifeExpectancy": 61
                        },
                        {
                          "IneqAdjLifeExpectancy": 68.1,
                          "AvrgLifeExpectancy": 74.3
                        },
                        {
                          "IneqAdjLifeExpectancy": 63.4,
                          "AvrgLifeExpectancy": 69.5
                        },
                        {
                          "IneqAdjLifeExpectancy": 44.3,
                          "AvrgLifeExpectancy": 63.1
                        },
                        {
                          "IneqAdjLifeExpectancy": 49.1,
                          "AvrgLifeExpectancy": 65.4
                        },
                        {
                          "IneqAdjLifeExpectancy": 68.6,
                          "AvrgLifeExpectancy": 74.5
                        },
                        {
                          "IneqAdjLifeExpectancy": 28.2,
                          "AvrgLifeExpectancy": 49.8
                        },
                        {
                          "IneqAdjLifeExpectancy": 71.9,
                          "AvrgLifeExpectancy": 75.9
                        },
                        {
                          "IneqAdjLifeExpectancy": 77.1,
                          "AvrgLifeExpectancy": 80
                        },
                        {
                          "IneqAdjLifeExpectancy": 41.8,
                          "AvrgLifeExpectancy": 56.3
                        },
                        {
                          "IneqAdjLifeExpectancy": 78.3,
                          "AvrgLifeExpectancy": 81.3
                        },
                        {
                          "IneqAdjLifeExpectancy": 79.3,
                          "AvrgLifeExpectancy": 82.2
                        },
                        {
                          "IneqAdjLifeExpectancy": 68.6,
                          "AvrgLifeExpectancy": 74.6
                        },
                        {
                          "IneqAdjLifeExpectancy": 61.2,
                          "AvrgLifeExpectancy": 70.8
                        },
                        {
                          "IneqAdjLifeExpectancy": 31.8,
                          "AvrgLifeExpectancy": 48.9
                        },
                        {
                          "IneqAdjLifeExpectancy": 79.1,
                          "AvrgLifeExpectancy": 81.8
                        },
                        {
                          "IneqAdjLifeExpectancy": 79.4,
                          "AvrgLifeExpectancy": 82.6
                        },
                        {
                          "IneqAdjLifeExpectancy": 60.2,
                          "AvrgLifeExpectancy": 70.4
                        },
                        {
                          "IneqAdjLifeExpectancy": 53,
                          "AvrgLifeExpectancy": 69
                        },
                        {
                          "IneqAdjLifeExpectancy": 47.7,
                          "AvrgLifeExpectancy": 63.5
                        },
                        {
                          "IneqAdjLifeExpectancy": 66.3,
                          "AvrgLifeExpectancy": 74.1
                        },
                        {
                          "IneqAdjLifeExpectancy": 39.6,
                          "AvrgLifeExpectancy": 58.6
                        },
                        {
                          "IneqAdjLifeExpectancy": 58.4,
                          "AvrgLifeExpectancy": 70.1
                        },
                        {
                          "IneqAdjLifeExpectancy": 65.5,
                          "AvrgLifeExpectancy": 74.6
                        },
                        {
                          "IneqAdjLifeExpectancy": 66.2,
                          "AvrgLifeExpectancy": 74.7
                        },
                        {
                          "IneqAdjLifeExpectancy": 48.3,
                          "AvrgLifeExpectancy": 65.3
                        },
                        {
                          "IneqAdjLifeExpectancy": 36.8,
                          "AvrgLifeExpectancy": 57.1
                        },
                        {
                          "IneqAdjLifeExpectancy": 64.2,
                          "AvrgLifeExpectancy": 70.3
                        },
                        {
                          "IneqAdjLifeExpectancy": 76.8,
                          "AvrgLifeExpectancy": 80.4
                        },
                        {
                          "IneqAdjLifeExpectancy": 74,
                          "AvrgLifeExpectancy": 78.8
                        },
                        {
                          "IneqAdjLifeExpectancy": 69.6,
                          "AvrgLifeExpectancy": 76.9
                        },
                        {
                          "IneqAdjLifeExpectancy": 51.6,
                          "AvrgLifeExpectancy": 68.2
                        },
                        {
                          "IneqAdjLifeExpectancy": 60.3,
                          "AvrgLifeExpectancy": 71.3
                        },
                        {
                          "IneqAdjLifeExpectancy": 65.5,
                          "AvrgLifeExpectancy": 73.9
                        },
                        {
                          "IneqAdjLifeExpectancy": 64.8,
                          "AvrgLifeExpectancy": 75.5
                        },
                        {
                          "IneqAdjLifeExpectancy": 44.7,
                          "AvrgLifeExpectancy": 63.3
                        },
                        {
                          "IneqAdjLifeExpectancy": 38.7,
                          "AvrgLifeExpectancy": 58.4
                        },
                        {
                          "IneqAdjLifeExpectancy": 36.9,
                          "AvrgLifeExpectancy": 53.7
                        }
                      ]
                    },
                    "vislib": "vegalite",
                    "$schema": "https://vega.github.io/schema/vega-lite/v4.8.1.json",
                    "mark": "circle",
                    "data": {
                      "name": "data-08756046cfc274baf30f032c9031cbd8"
                    }
                  },
                  {
                    "selection": {
                      "selector036": {
                        "bind": "scales",
                        "type": "interval",
                        "encodings": [
                          "x",
                          "y"
                        ]
                      }
                    },
                    "encoding": {
                      "y": {
                        "field": "Inequality",
                        "scale": {
                          "domain": [
                            0.04,
                            0.51
                          ]
                        },
                        "type": "quantitative",
                        "axis": {
                          "title": "Inequality"
                        }
                      },
                      "x": {
                        "field": "IneqAdjLifeExpectancy",
                        "scale": {
                          "domain": [
                            27.3,
                            81.3
                          ]
                        },
                        "type": "quantitative",
                        "axis": {
                          "title": "IneqAdjLifeExpectancy"
                        }
                      }
                    },
                    "config": {
                      "mark": {
                        "tooltip": {
                          "content": "encoding"
                        }
                      },
                      "axis": {
                        "labelFont": "Helvetica Neue",
                        "labelFontSize": 9,
                        "labelColor": "#505050",
                        "titleFont": "Helvetica Neue",
                        "labelFontWeight": 400,
                        "titleFontSize": 11,
                        "titleFontWeight": 500
                      },
                      "title": {
                        "fontWeight": 500,
                        "font": "Helvetica Neue",
                        "fontSize": 13
                      },
                      "legend": {
                        "labelFont": "Helvetica Neue",
                        "labelFontSize": 9,
                        "titleFont": "Helvetica Neue",
                        "labelFontWeight": 400,
                        "titleFontSize": 10,
                        "titleFontWeight": 500
                      },
                      "view": {
                        "continuousWidth": 400,
                        "continuousHeight": 300
                      }
                    },
                    "height": 150,
                    "width": 160,
                    "datasets": {
                      "data-817a13036e49468a2613c3272ffd2c65": [
                        {
                          "Inequality": 0.43,
                          "IneqAdjLifeExpectancy": 38.3
                        },
                        {
                          "Inequality": 0.17,
                          "IneqAdjLifeExpectancy": 69.7
                        },
                        {
                          "Inequality": 0.24,
                          "IneqAdjLifeExpectancy": 60.5
                        },
                        {
                          "Inequality": 0.16,
                          "IneqAdjLifeExpectancy": 68.3
                        },
                        {
                          "Inequality": 0.22,
                          "IneqAdjLifeExpectancy": 66.9
                        },
                        {
                          "Inequality": 0.08,
                          "IneqAdjLifeExpectancy": 78.6
                        },
                        {
                          "Inequality": 0.07,
                          "IneqAdjLifeExpectancy": 78
                        },
                        {
                          "Inequality": 0.27,
                          "IneqAdjLifeExpectancy": 56.6
                        },
                        {
                          "Inequality": 0.13,
                          "IneqAdjLifeExpectancy": 66.7
                        },
                        {
                          "Inequality": 0.09,
                          "IneqAdjLifeExpectancy": 77.2
                        },
                        {
                          "Inequality": 0.18,
                          "IneqAdjLifeExpectancy": 61.7
                        },
                        {
                          "Inequality": 0.44,
                          "IneqAdjLifeExpectancy": 37.3
                        },
                        {
                          "Inequality": 0.27,
                          "IneqAdjLifeExpectancy": 54.5
                        },
                        {
                          "Inequality": 0.35,
                          "IneqAdjLifeExpectancy": 47.9
                        },
                        {
                          "Inequality": 0.19,
                          "IneqAdjLifeExpectancy": 71.1
                        },
                        {
                          "Inequality": 0.28,
                          "IneqAdjLifeExpectancy": 50.8
                        },
                        {
                          "Inequality": 0.22,
                          "IneqAdjLifeExpectancy": 63.3
                        },
                        {
                          "Inequality": 0.19,
                          "IneqAdjLifeExpectancy": 68.1
                        },
                        {
                          "Inequality": 0.43,
                          "IneqAdjLifeExpectancy": 36.5
                        },
                        {
                          "Inequality": 0.48,
                          "IneqAdjLifeExpectancy": 33
                        },
                        {
                          "Inequality": 0.28,
                          "IneqAdjLifeExpectancy": 54.2
                        },
                        {
                          "Inequality": 0.47,
                          "IneqAdjLifeExpectancy": 33.1
                        },
                        {
                          "Inequality": 0.09,
                          "IneqAdjLifeExpectancy": 77.8
                        },
                        {
                          "Inequality": 0.51,
                          "IneqAdjLifeExpectancy": 27.3
                        },
                        {
                          "Inequality": 0.14,
                          "IneqAdjLifeExpectancy": 74.9
                        },
                        {
                          "Inequality": 0.17,
                          "IneqAdjLifeExpectancy": 68.6
                        },
                        {
                          "Inequality": 0.24,
                          "IneqAdjLifeExpectancy": 63.1
                        },
                        {
                          "Inequality": 0.36,
                          "IneqAdjLifeExpectancy": 43.3
                        },
                        {
                          "Inequality": 0.15,
                          "IneqAdjLifeExpectancy": 72.6
                        },
                        {
                          "Inequality": 0.45,
                          "IneqAdjLifeExpectancy": 30.6
                        },
                        {
                          "Inequality": 0.12,
                          "IneqAdjLifeExpectancy": 73.5
                        },
                        {
                          "Inequality": 0.12,
                          "IneqAdjLifeExpectancy": 76.6
                        },
                        {
                          "Inequality": 0.09,
                          "IneqAdjLifeExpectancy": 75.5
                        },
                        {
                          "Inequality": 0.07,
                          "IneqAdjLifeExpectancy": 76.8
                        },
                        {
                          "Inequality": 0.42,
                          "IneqAdjLifeExpectancy": 41.4
                        },
                        {
                          "Inequality": 0.3,
                          "IneqAdjLifeExpectancy": 60.8
                        },
                        {
                          "Inequality": 0.22,
                          "IneqAdjLifeExpectancy": 64.1
                        },
                        {
                          "Inequality": 0.23,
                          "IneqAdjLifeExpectancy": 61.3
                        },
                        {
                          "Inequality": 0.22,
                          "IneqAdjLifeExpectancy": 62.5
                        },
                        {
                          "Inequality": 0.12,
                          "IneqAdjLifeExpectancy": 72.6
                        },
                        {
                          "Inequality": 0.36,
                          "IneqAdjLifeExpectancy": 43.8
                        },
                        {
                          "Inequality": 0.06,
                          "IneqAdjLifeExpectancy": 77.6
                        },
                        {
                          "Inequality": 0.09,
                          "IneqAdjLifeExpectancy": 78.5
                        },
                        {
                          "Inequality": 0.36,
                          "IneqAdjLifeExpectancy": 45.8
                        },
                        {
                          "Inequality": 0.2,
                          "IneqAdjLifeExpectancy": 66.9
                        },
                        {
                          "Inequality": 0.08,
                          "IneqAdjLifeExpectancy": 77.6
                        },
                        {
                          "Inequality": 0.38,
                          "IneqAdjLifeExpectancy": 42.2
                        },
                        {
                          "Inequality": 0.16,
                          "IneqAdjLifeExpectancy": 77.6
                        },
                        {
                          "Inequality": 0.27,
                          "IneqAdjLifeExpectancy": 59.2
                        },
                        {
                          "Inequality": 0.42,
                          "IneqAdjLifeExpectancy": 37.2
                        },
                        {
                          "Inequality": 0.37,
                          "IneqAdjLifeExpectancy": 42.9
                        },
                        {
                          "Inequality": 0.31,
                          "IneqAdjLifeExpectancy": 58.5
                        },
                        {
                          "Inequality": 0.1,
                          "IneqAdjLifeExpectancy": 81.3
                        },
                        {
                          "Inequality": 0.15,
                          "IneqAdjLifeExpectancy": 70.9
                        },
                        {
                          "Inequality": 0.05,
                          "IneqAdjLifeExpectancy": 79.8
                        },
                        {
                          "Inequality": 0.31,
                          "IneqAdjLifeExpectancy": 51.1
                        },
                        {
                          "Inequality": 0.21,
                          "IneqAdjLifeExpectancy": 57.2
                        },
                        {
                          "Inequality": 0.23,
                          "IneqAdjLifeExpectancy": 66.9
                        },
                        {
                          "Inequality": 0.27,
                          "IneqAdjLifeExpectancy": 55.6
                        },
                        {
                          "Inequality": 0.08,
                          "IneqAdjLifeExpectancy": 77.5
                        },
                        {
                          "Inequality": 0.08,
                          "IneqAdjLifeExpectancy": 78.7
                        },
                        {
                          "Inequality": 0.12,
                          "IneqAdjLifeExpectancy": 80.2
                        },
                        {
                          "Inequality": 0.21,
                          "IneqAdjLifeExpectancy": 66.3
                        },
                        {
                          "Inequality": 0.09,
                          "IneqAdjLifeExpectancy": 80.6
                        },
                        {
                          "Inequality": 0.18,
                          "IneqAdjLifeExpectancy": 60.7
                        },
                        {
                          "Inequality": 0.38,
                          "IneqAdjLifeExpectancy": 41
                        },
                        {
                          "Inequality": 0.18,
                          "IneqAdjLifeExpectancy": 60.2
                        },
                        {
                          "Inequality": 0.14,
                          "IneqAdjLifeExpectancy": 68.7
                        },
                        {
                          "Inequality": 0.19,
                          "IneqAdjLifeExpectancy": 73.1
                        },
                        {
                          "Inequality": 0.42,
                          "IneqAdjLifeExpectancy": 32.6
                        },
                        {
                          "Inequality": 0.38,
                          "IneqAdjLifeExpectancy": 40.3
                        },
                        {
                          "Inequality": 0.11,
                          "IneqAdjLifeExpectancy": 68.8
                        },
                        {
                          "Inequality": 0.07,
                          "IneqAdjLifeExpectancy": 79
                        },
                        {
                          "Inequality": 0.18,
                          "IneqAdjLifeExpectancy": 69.4
                        },
                        {
                          "Inequality": 0.45,
                          "IneqAdjLifeExpectancy": 40.4
                        },
                        {
                          "Inequality": 0.1,
                          "IneqAdjLifeExpectancy": 69.5
                        },
                        {
                          "Inequality": 0.13,
                          "IneqAdjLifeExpectancy": 76.6
                        },
                        {
                          "Inequality": 0.37,
                          "IneqAdjLifeExpectancy": 41.5
                        },
                        {
                          "Inequality": 0.17,
                          "IneqAdjLifeExpectancy": 66.7
                        },
                        {
                          "Inequality": 0.19,
                          "IneqAdjLifeExpectancy": 66.3
                        },
                        {
                          "Inequality": 0.22,
                          "IneqAdjLifeExpectancy": 56.9
                        },
                        {
                          "Inequality": 0.16,
                          "IneqAdjLifeExpectancy": 71.8
                        },
                        {
                          "Inequality": 0.25,
                          "IneqAdjLifeExpectancy": 61.6
                        },
                        {
                          "Inequality": 0.43,
                          "IneqAdjLifeExpectancy": 34.5
                        },
                        {
                          "Inequality": 0.32,
                          "IneqAdjLifeExpectancy": 48.4
                        },
                        {
                          "Inequality": 0.26,
                          "IneqAdjLifeExpectancy": 50.1
                        },
                        {
                          "Inequality": 0.27,
                          "IneqAdjLifeExpectancy": 55.3
                        },
                        {
                          "Inequality": 0.04,
                          "IneqAdjLifeExpectancy": 78.2
                        },
                        {
                          "Inequality": 0.08,
                          "IneqAdjLifeExpectancy": 77.7
                        },
                        {
                          "Inequality": 0.25,
                          "IneqAdjLifeExpectancy": 63.4
                        },
                        {
                          "Inequality": 0.4,
                          "IneqAdjLifeExpectancy": 38.9
                        },
                        {
                          "Inequality": 0.44,
                          "IneqAdjLifeExpectancy": 30.9
                        },
                        {
                          "Inequality": 0.07,
                          "IneqAdjLifeExpectancy": 78.6
                        },
                        {
                          "Inequality": 0.13,
                          "IneqAdjLifeExpectancy": 70.9
                        },
                        {
                          "Inequality": 0.4,
                          "IneqAdjLifeExpectancy": 44.1
                        },
                        {
                          "Inequality": 0.24,
                          "IneqAdjLifeExpectancy": 62.6
                        },
                        {
                          "Inequality": 0.19,
                          "IneqAdjLifeExpectancy": 68.3
                        },
                        {
                          "Inequality": 0.22,
                          "IneqAdjLifeExpectancy": 59.4
                        },
                        {
                          "Inequality": 0.21,
                          "IneqAdjLifeExpectancy": 63.5
                        },
                        {
                          "Inequality": 0.26,
                          "IneqAdjLifeExpectancy": 56.9
                        },
                        {
                          "Inequality": 0.11,
                          "IneqAdjLifeExpectancy": 72.9
                        },
                        {
                          "Inequality": 0.16,
                          "IneqAdjLifeExpectancy": 77.2
                        },
                        {
                          "Inequality": 0.4,
                          "IneqAdjLifeExpectancy": 42
                        },
                        {
                          "Inequality": 0.19,
                          "IneqAdjLifeExpectancy": 68.1
                        },
                        {
                          "Inequality": 0.16,
                          "IneqAdjLifeExpectancy": 63.4
                        },
                        {
                          "Inequality": 0.37,
                          "IneqAdjLifeExpectancy": 44.3
                        },
                        {
                          "Inequality": 0.33,
                          "IneqAdjLifeExpectancy": 49.1
                        },
                        {
                          "Inequality": 0.19,
                          "IneqAdjLifeExpectancy": 68.6
                        },
                        {
                          "Inequality": 0.5,
                          "IneqAdjLifeExpectancy": 28.2
                        },
                        {
                          "Inequality": 0.13,
                          "IneqAdjLifeExpectancy": 71.9
                        },
                        {
                          "Inequality": 0.1,
                          "IneqAdjLifeExpectancy": 77.1
                        },
                        {
                          "Inequality": 0.33,
                          "IneqAdjLifeExpectancy": 41.8
                        },
                        {
                          "Inequality": 0.11,
                          "IneqAdjLifeExpectancy": 78.3
                        },
                        {
                          "Inequality": 0.1,
                          "IneqAdjLifeExpectancy": 79.3
                        },
                        {
                          "Inequality": 0.17,
                          "IneqAdjLifeExpectancy": 68.6
                        },
                        {
                          "Inequality": 0.19,
                          "IneqAdjLifeExpectancy": 61.2
                        },
                        {
                          "Inequality": 0.41,
                          "IneqAdjLifeExpectancy": 31.8
                        },
                        {
                          "Inequality": 0.06,
                          "IneqAdjLifeExpectancy": 79.1
                        },
                        {
                          "Inequality": 0.06,
                          "IneqAdjLifeExpectancy": 79.4
                        },
                        {
                          "Inequality": 0.3,
                          "IneqAdjLifeExpectancy": 60.2
                        },
                        {
                          "Inequality": 0.26,
                          "IneqAdjLifeExpectancy": 53
                        },
                        {
                          "Inequality": 0.33,
                          "IneqAdjLifeExpectancy": 47.7
                        },
                        {
                          "Inequality": 0.15,
                          "IneqAdjLifeExpectancy": 66.3
                        },
                        {
                          "Inequality": 0.43,
                          "IneqAdjLifeExpectancy": 39.6
                        },
                        {
                          "Inequality": 0.21,
                          "IneqAdjLifeExpectancy": 58.4
                        },
                        {
                          "Inequality": 0.22,
                          "IneqAdjLifeExpectancy": 65.5
                        },
                        {
                          "Inequality": 0.19,
                          "IneqAdjLifeExpectancy": 66.2
                        },
                        {
                          "Inequality": 0.31,
                          "IneqAdjLifeExpectancy": 48.3
                        },
                        {
                          "Inequality": 0.41,
                          "IneqAdjLifeExpectancy": 36.8
                        },
                        {
                          "Inequality": 0.17,
                          "IneqAdjLifeExpectancy": 64.2
                        },
                        {
                          "Inequality": 0.09,
                          "IneqAdjLifeExpectancy": 76.8
                        },
                        {
                          "Inequality": 0.13,
                          "IneqAdjLifeExpectancy": 74
                        },
                        {
                          "Inequality": 0.18,
                          "IneqAdjLifeExpectancy": 69.6
                        },
                        {
                          "Inequality": 0.3,
                          "IneqAdjLifeExpectancy": 51.6
                        },
                        {
                          "Inequality": 0.22,
                          "IneqAdjLifeExpectancy": 60.3
                        },
                        {
                          "Inequality": 0.19,
                          "IneqAdjLifeExpectancy": 65.5
                        },
                        {
                          "Inequality": 0.19,
                          "IneqAdjLifeExpectancy": 64.8
                        },
                        {
                          "Inequality": 0.39,
                          "IneqAdjLifeExpectancy": 44.7
                        },
                        {
                          "Inequality": 0.41,
                          "IneqAdjLifeExpectancy": 38.7
                        },
                        {
                          "Inequality": 0.37,
                          "IneqAdjLifeExpectancy": 36.9
                        }
                      ]
                    },
                    "vislib": "vegalite",
                    "$schema": "https://vega.github.io/schema/vega-lite/v4.8.1.json",
                    "mark": "circle",
                    "data": {
                      "name": "data-817a13036e49468a2613c3272ffd2c65"
                    }
                  },
                  {
                    "selection": {
                      "selector037": {
                        "bind": "scales",
                        "type": "interval",
                        "encodings": [
                          "x",
                          "y"
                        ]
                      }
                    },
                    "encoding": {
                      "y": {
                        "field": "Inequality",
                        "scale": {
                          "domain": [
                            0.04,
                            0.51
                          ]
                        },
                        "type": "quantitative",
                        "axis": {
                          "title": "Inequality"
                        }
                      },
                      "x": {
                        "field": "AvrgLifeExpectancy",
                        "scale": {
                          "domain": [
                            48.9,
                            83.6
                          ]
                        },
                        "type": "quantitative",
                        "axis": {
                          "title": "AvrgLifeExpectancy"
                        }
                      }
                    },
                    "config": {
                      "mark": {
                        "tooltip": {
                          "content": "encoding"
                        }
                      },
                      "axis": {
                        "labelFont": "Helvetica Neue",
                        "labelFontSize": 9,
                        "labelColor": "#505050",
                        "titleFont": "Helvetica Neue",
                        "labelFontWeight": 400,
                        "titleFontSize": 11,
                        "titleFontWeight": 500
                      },
                      "title": {
                        "fontWeight": 500,
                        "font": "Helvetica Neue",
                        "fontSize": 13
                      },
                      "legend": {
                        "labelFont": "Helvetica Neue",
                        "labelFontSize": 9,
                        "titleFont": "Helvetica Neue",
                        "labelFontWeight": 400,
                        "titleFontSize": 10,
                        "titleFontWeight": 500
                      },
                      "view": {
                        "continuousWidth": 400,
                        "continuousHeight": 300
                      }
                    },
                    "height": 150,
                    "width": 160,
                    "datasets": {
                      "data-268fc370b4bb75365f6f5c449ee50285": [
                        {
                          "Inequality": 0.43,
                          "AvrgLifeExpectancy": 59.7
                        },
                        {
                          "Inequality": 0.17,
                          "AvrgLifeExpectancy": 77.3
                        },
                        {
                          "Inequality": 0.24,
                          "AvrgLifeExpectancy": 74.3
                        },
                        {
                          "Inequality": 0.16,
                          "AvrgLifeExpectancy": 75.9
                        },
                        {
                          "Inequality": 0.22,
                          "AvrgLifeExpectancy": 74.4
                        },
                        {
                          "Inequality": 0.08,
                          "AvrgLifeExpectancy": 82.1
                        },
                        {
                          "Inequality": 0.07,
                          "AvrgLifeExpectancy": 81
                        },
                        {
                          "Inequality": 0.27,
                          "AvrgLifeExpectancy": 70.8
                        },
                        {
                          "Inequality": 0.13,
                          "AvrgLifeExpectancy": 70.9
                        },
                        {
                          "Inequality": 0.09,
                          "AvrgLifeExpectancy": 80.4
                        },
                        {
                          "Inequality": 0.18,
                          "AvrgLifeExpectancy": 69.8
                        },
                        {
                          "Inequality": 0.44,
                          "AvrgLifeExpectancy": 59.2
                        },
                        {
                          "Inequality": 0.27,
                          "AvrgLifeExpectancy": 68.7
                        },
                        {
                          "Inequality": 0.35,
                          "AvrgLifeExpectancy": 67.5
                        },
                        {
                          "Inequality": 0.19,
                          "AvrgLifeExpectancy": 76.2
                        },
                        {
                          "Inequality": 0.28,
                          "AvrgLifeExpectancy": 64.2
                        },
                        {
                          "Inequality": 0.22,
                          "AvrgLifeExpectancy": 73.9
                        },
                        {
                          "Inequality": 0.19,
                          "AvrgLifeExpectancy": 73.9
                        },
                        {
                          "Inequality": 0.43,
                          "AvrgLifeExpectancy": 58
                        },
                        {
                          "Inequality": 0.48,
                          "AvrgLifeExpectancy": 55.8
                        },
                        {
                          "Inequality": 0.28,
                          "AvrgLifeExpectancy": 67.5
                        },
                        {
                          "Inequality": 0.47,
                          "AvrgLifeExpectancy": 54.6
                        },
                        {
                          "Inequality": 0.09,
                          "AvrgLifeExpectancy": 81.7
                        },
                        {
                          "Inequality": 0.51,
                          "AvrgLifeExpectancy": 50.8
                        },
                        {
                          "Inequality": 0.14,
                          "AvrgLifeExpectancy": 81.1
                        },
                        {
                          "Inequality": 0.17,
                          "AvrgLifeExpectancy": 75.4
                        },
                        {
                          "Inequality": 0.24,
                          "AvrgLifeExpectancy": 73.7
                        },
                        {
                          "Inequality": 0.36,
                          "AvrgLifeExpectancy": 62.6
                        },
                        {
                          "Inequality": 0.15,
                          "AvrgLifeExpectancy": 79.1
                        },
                        {
                          "Inequality": 0.45,
                          "AvrgLifeExpectancy": 50.8
                        },
                        {
                          "Inequality": 0.12,
                          "AvrgLifeExpectancy": 77
                        },
                        {
                          "Inequality": 0.12,
                          "AvrgLifeExpectancy": 79.8
                        },
                        {
                          "Inequality": 0.09,
                          "AvrgLifeExpectancy": 78.2
                        },
                        {
                          "Inequality": 0.07,
                          "AvrgLifeExpectancy": 79.8
                        },
                        {
                          "Inequality": 0.42,
                          "AvrgLifeExpectancy": 61.3
                        },
                        {
                          "Inequality": 0.3,
                          "AvrgLifeExpectancy": 73.1
                        },
                        {
                          "Inequality": 0.22,
                          "AvrgLifeExpectancy": 75.4
                        },
                        {
                          "Inequality": 0.23,
                          "AvrgLifeExpectancy": 70.7
                        },
                        {
                          "Inequality": 0.22,
                          "AvrgLifeExpectancy": 72.5
                        },
                        {
                          "Inequality": 0.12,
                          "AvrgLifeExpectancy": 76.2
                        },
                        {
                          "Inequality": 0.36,
                          "AvrgLifeExpectancy": 62.8
                        },
                        {
                          "Inequality": 0.06,
                          "AvrgLifeExpectancy": 80.4
                        },
                        {
                          "Inequality": 0.09,
                          "AvrgLifeExpectancy": 81.8
                        },
                        {
                          "Inequality": 0.36,
                          "AvrgLifeExpectancy": 63.3
                        },
                        {
                          "Inequality": 0.2,
                          "AvrgLifeExpectancy": 74.6
                        },
                        {
                          "Inequality": 0.08,
                          "AvrgLifeExpectancy": 80.6
                        },
                        {
                          "Inequality": 0.38,
                          "AvrgLifeExpectancy": 61
                        },
                        {
                          "Inequality": 0.16,
                          "AvrgLifeExpectancy": 80.5
                        },
                        {
                          "Inequality": 0.27,
                          "AvrgLifeExpectancy": 71.4
                        },
                        {
                          "Inequality": 0.42,
                          "AvrgLifeExpectancy": 57.7
                        },
                        {
                          "Inequality": 0.37,
                          "AvrgLifeExpectancy": 62.1
                        },
                        {
                          "Inequality": 0.31,
                          "AvrgLifeExpectancy": 72.8
                        },
                        {
                          "Inequality": 0.1,
                          "AvrgLifeExpectancy": 83.6
                        },
                        {
                          "Inequality": 0.15,
                          "AvrgLifeExpectancy": 74.9
                        },
                        {
                          "Inequality": 0.05,
                          "AvrgLifeExpectancy": 82.2
                        },
                        {
                          "Inequality": 0.31,
                          "AvrgLifeExpectancy": 67.3
                        },
                        {
                          "Inequality": 0.21,
                          "AvrgLifeExpectancy": 68.5
                        },
                        {
                          "Inequality": 0.23,
                          "AvrgLifeExpectancy": 74.8
                        },
                        {
                          "Inequality": 0.27,
                          "AvrgLifeExpectancy": 69
                        },
                        {
                          "Inequality": 0.08,
                          "AvrgLifeExpectancy": 80.5
                        },
                        {
                          "Inequality": 0.08,
                          "AvrgLifeExpectancy": 81.9
                        },
                        {
                          "Inequality": 0.12,
                          "AvrgLifeExpectancy": 82.7
                        },
                        {
                          "Inequality": 0.21,
                          "AvrgLifeExpectancy": 75.3
                        },
                        {
                          "Inequality": 0.09,
                          "AvrgLifeExpectancy": 83.2
                        },
                        {
                          "Inequality": 0.18,
                          "AvrgLifeExpectancy": 68.6
                        },
                        {
                          "Inequality": 0.38,
                          "AvrgLifeExpectancy": 60.3
                        },
                        {
                          "Inequality": 0.18,
                          "AvrgLifeExpectancy": 69.7
                        },
                        {
                          "Inequality": 0.14,
                          "AvrgLifeExpectancy": 73.6
                        },
                        {
                          "Inequality": 0.19,
                          "AvrgLifeExpectancy": 78.8
                        },
                        {
                          "Inequality": 0.42,
                          "AvrgLifeExpectancy": 48.9
                        },
                        {
                          "Inequality": 0.38,
                          "AvrgLifeExpectancy": 60.2
                        },
                        {
                          "Inequality": 0.11,
                          "AvrgLifeExpectancy": 72.8
                        },
                        {
                          "Inequality": 0.07,
                          "AvrgLifeExpectancy": 81.1
                        },
                        {
                          "Inequality": 0.18,
                          "AvrgLifeExpectancy": 75.1
                        },
                        {
                          "Inequality": 0.45,
                          "AvrgLifeExpectancy": 60.1
                        },
                        {
                          "Inequality": 0.1,
                          "AvrgLifeExpectancy": 74.4
                        },
                        {
                          "Inequality": 0.13,
                          "AvrgLifeExpectancy": 80.2
                        },
                        {
                          "Inequality": 0.37,
                          "AvrgLifeExpectancy": 62.6
                        },
                        {
                          "Inequality": 0.17,
                          "AvrgLifeExpectancy": 74
                        },
                        {
                          "Inequality": 0.19,
                          "AvrgLifeExpectancy": 76.4
                        },
                        {
                          "Inequality": 0.22,
                          "AvrgLifeExpectancy": 68.6
                        },
                        {
                          "Inequality": 0.16,
                          "AvrgLifeExpectancy": 75.8
                        },
                        {
                          "Inequality": 0.25,
                          "AvrgLifeExpectancy": 73.4
                        },
                        {
                          "Inequality": 0.43,
                          "AvrgLifeExpectancy": 54.3
                        },
                        {
                          "Inequality": 0.32,
                          "AvrgLifeExpectancy": 65.5
                        },
                        {
                          "Inequality": 0.26,
                          "AvrgLifeExpectancy": 64
                        },
                        {
                          "Inequality": 0.27,
                          "AvrgLifeExpectancy": 68.8
                        },
                        {
                          "Inequality": 0.04,
                          "AvrgLifeExpectancy": 81.2
                        },
                        {
                          "Inequality": 0.08,
                          "AvrgLifeExpectancy": 81.4
                        },
                        {
                          "Inequality": 0.25,
                          "AvrgLifeExpectancy": 74.3
                        },
                        {
                          "Inequality": 0.4,
                          "AvrgLifeExpectancy": 60
                        },
                        {
                          "Inequality": 0.44,
                          "AvrgLifeExpectancy": 52.1
                        },
                        {
                          "Inequality": 0.07,
                          "AvrgLifeExpectancy": 81.3
                        },
                        {
                          "Inequality": 0.13,
                          "AvrgLifeExpectancy": 76.3
                        },
                        {
                          "Inequality": 0.4,
                          "AvrgLifeExpectancy": 65.7
                        },
                        {
                          "Inequality": 0.24,
                          "AvrgLifeExpectancy": 72.6
                        },
                        {
                          "Inequality": 0.19,
                          "AvrgLifeExpectancy": 77.2
                        },
                        {
                          "Inequality": 0.22,
                          "AvrgLifeExpectancy": 72.6
                        },
                        {
                          "Inequality": 0.21,
                          "AvrgLifeExpectancy": 74.1
                        },
                        {
                          "Inequality": 0.26,
                          "AvrgLifeExpectancy": 67.9
                        },
                        {
                          "Inequality": 0.11,
                          "AvrgLifeExpectancy": 76.9
                        },
                        {
                          "Inequality": 0.16,
                          "AvrgLifeExpectancy": 80.3
                        },
                        {
                          "Inequality": 0.4,
                          "AvrgLifeExpectancy": 61
                        },
                        {
                          "Inequality": 0.19,
                          "AvrgLifeExpectancy": 74.3
                        },
                        {
                          "Inequality": 0.16,
                          "AvrgLifeExpectancy": 69.5
                        },
                        {
                          "Inequality": 0.37,
                          "AvrgLifeExpectancy": 63.1
                        },
                        {
                          "Inequality": 0.33,
                          "AvrgLifeExpectancy": 65.4
                        },
                        {
                          "Inequality": 0.19,
                          "AvrgLifeExpectancy": 74.5
                        },
                        {
                          "Inequality": 0.5,
                          "AvrgLifeExpectancy": 49.8
                        },
                        {
                          "Inequality": 0.13,
                          "AvrgLifeExpectancy": 75.9
                        },
                        {
                          "Inequality": 0.1,
                          "AvrgLifeExpectancy": 80
                        },
                        {
                          "Inequality": 0.33,
                          "AvrgLifeExpectancy": 56.3
                        },
                        {
                          "Inequality": 0.11,
                          "AvrgLifeExpectancy": 81.3
                        },
                        {
                          "Inequality": 0.1,
                          "AvrgLifeExpectancy": 82.2
                        },
                        {
                          "Inequality": 0.17,
                          "AvrgLifeExpectancy": 74.6
                        },
                        {
                          "Inequality": 0.19,
                          "AvrgLifeExpectancy": 70.8
                        },
                        {
                          "Inequality": 0.41,
                          "AvrgLifeExpectancy": 48.9
                        },
                        {
                          "Inequality": 0.06,
                          "AvrgLifeExpectancy": 81.8
                        },
                        {
                          "Inequality": 0.06,
                          "AvrgLifeExpectancy": 82.6
                        },
                        {
                          "Inequality": 0.3,
                          "AvrgLifeExpectancy": 70.4
                        },
                        {
                          "Inequality": 0.26,
                          "AvrgLifeExpectancy": 69
                        },
                        {
                          "Inequality": 0.33,
                          "AvrgLifeExpectancy": 63.5
                        },
                        {
                          "Inequality": 0.15,
                          "AvrgLifeExpectancy": 74.1
                        },
                        {
                          "Inequality": 0.43,
                          "AvrgLifeExpectancy": 58.6
                        },
                        {
                          "Inequality": 0.21,
                          "AvrgLifeExpectancy": 70.1
                        },
                        {
                          "Inequality": 0.22,
                          "AvrgLifeExpectancy": 74.6
                        },
                        {
                          "Inequality": 0.19,
                          "AvrgLifeExpectancy": 74.7
                        },
                        {
                          "Inequality": 0.31,
                          "AvrgLifeExpectancy": 65.3
                        },
                        {
                          "Inequality": 0.41,
                          "AvrgLifeExpectancy": 57.1
                        },
                        {
                          "Inequality": 0.17,
                          "AvrgLifeExpectancy": 70.3
                        },
                        {
                          "Inequality": 0.09,
                          "AvrgLifeExpectancy": 80.4
                        },
                        {
                          "Inequality": 0.13,
                          "AvrgLifeExpectancy": 78.8
                        },
                        {
                          "Inequality": 0.18,
                          "AvrgLifeExpectancy": 76.9
                        },
                        {
                          "Inequality": 0.3,
                          "AvrgLifeExpectancy": 68.2
                        },
                        {
                          "Inequality": 0.22,
                          "AvrgLifeExpectancy": 71.3
                        },
                        {
                          "Inequality": 0.19,
                          "AvrgLifeExpectancy": 73.9
                        },
                        {
                          "Inequality": 0.19,
                          "AvrgLifeExpectancy": 75.5
                        },
                        {
                          "Inequality": 0.39,
                          "AvrgLifeExpectancy": 63.3
                        },
                        {
                          "Inequality": 0.41,
                          "AvrgLifeExpectancy": 58.4
                        },
                        {
                          "Inequality": 0.37,
                          "AvrgLifeExpectancy": 53.7
                        }
                      ]
                    },
                    "vislib": "vegalite",
                    "$schema": "https://vega.github.io/schema/vega-lite/v4.8.1.json",
                    "mark": "circle",
                    "data": {
                      "name": "data-268fc370b4bb75365f6f5c449ee50285"
                    }
                  },
                  {
                    "selection": {
                      "selector038": {
                        "bind": "scales",
                        "type": "interval",
                        "encodings": [
                          "x",
                          "y"
                        ]
                      }
                    },
                    "encoding": {
                      "y": {
                        "field": "HappyLifeYears",
                        "scale": {
                          "domain": [
                            9,
                            59.3
                          ]
                        },
                        "type": "quantitative",
                        "axis": {
                          "title": "HappyLifeYears"
                        }
                      },
                      "x": {
                        "field": "IneqAdjWellbeing",
                        "scale": {
                          "domain": [
                            2.4,
                            7.6
                          ]
                        },
                        "type": "quantitative",
                        "axis": {
                          "title": "IneqAdjWellbeing"
                        }
                      }
                    },
                    "config": {
                      "mark": {
                        "tooltip": {
                          "content": "encoding"
                        }
                      },
                      "axis": {
                        "labelFont": "Helvetica Neue",
                        "labelFontSize": 9,
                        "labelColor": "#505050",
                        "titleFont": "Helvetica Neue",
                        "labelFontWeight": 400,
                        "titleFontSize": 11,
                        "titleFontWeight": 500
                      },
                      "title": {
                        "fontWeight": 500,
                        "font": "Helvetica Neue",
                        "fontSize": 13
                      },
                      "legend": {
                        "labelFont": "Helvetica Neue",
                        "labelFontSize": 9,
                        "titleFont": "Helvetica Neue",
                        "labelFontWeight": 400,
                        "titleFontSize": 10,
                        "titleFontWeight": 500
                      },
                      "view": {
                        "continuousWidth": 400,
                        "continuousHeight": 300
                      }
                    },
                    "height": 150,
                    "width": 160,
                    "datasets": {
                      "data-d26ccd40a59809d911d88028cf343619": [
                        {
                          "HappyLifeYears": 12.4,
                          "IneqAdjWellbeing": 3.4
                        },
                        {
                          "HappyLifeYears": 34.4,
                          "IneqAdjWellbeing": 5.1
                        },
                        {
                          "HappyLifeYears": 30.5,
                          "IneqAdjWellbeing": 5.2
                        },
                        {
                          "HappyLifeYears": 40.2,
                          "IneqAdjWellbeing": 6
                        },
                        {
                          "HappyLifeYears": 24,
                          "IneqAdjWellbeing": 3.7
                        },
                        {
                          "HappyLifeYears": 53.1,
                          "IneqAdjWellbeing": 6.9
                        },
                        {
                          "HappyLifeYears": 54.4,
                          "IneqAdjWellbeing": 7.1
                        },
                        {
                          "HappyLifeYears": 23.3,
                          "IneqAdjWellbeing": 4.3
                        },
                        {
                          "HappyLifeYears": 34,
                          "IneqAdjWellbeing": 5.3
                        },
                        {
                          "HappyLifeYears": 49.5,
                          "IneqAdjWellbeing": 6.6
                        },
                        {
                          "HappyLifeYears": 34.2,
                          "IneqAdjWellbeing": 5.7
                        },
                        {
                          "HappyLifeYears": 9.9,
                          "IneqAdjWellbeing": 2.8
                        },
                        {
                          "HappyLifeYears": 27.4,
                          "IneqAdjWellbeing": 5.2
                        },
                        {
                          "HappyLifeYears": 25.6,
                          "IneqAdjWellbeing": 5.5
                        },
                        {
                          "HappyLifeYears": 28.6,
                          "IneqAdjWellbeing": 4.2
                        },
                        {
                          "HappyLifeYears": 21.3,
                          "IneqAdjWellbeing": 4.3
                        },
                        {
                          "HappyLifeYears": 39,
                          "IneqAdjWellbeing": 6.3
                        },
                        {
                          "HappyLifeYears": 24,
                          "IneqAdjWellbeing": 3.7
                        },
                        {
                          "HappyLifeYears": 12.6,
                          "IneqAdjWellbeing": 3.6
                        },
                        {
                          "HappyLifeYears": 9.5,
                          "IneqAdjWellbeing": 3
                        },
                        {
                          "HappyLifeYears": 18.2,
                          "IneqAdjWellbeing": 3.5
                        },
                        {
                          "HappyLifeYears": 11.6,
                          "IneqAdjWellbeing": 3.7
                        },
                        {
                          "HappyLifeYears": 53.9,
                          "IneqAdjWellbeing": 7.1
                        },
                        {
                          "HappyLifeYears": 9.6,
                          "IneqAdjWellbeing": 3.7
                        },
                        {
                          "HappyLifeYears": 44.7,
                          "IneqAdjWellbeing": 6.1
                        },
                        {
                          "HappyLifeYears": 30.6,
                          "IneqAdjWellbeing": 4.6
                        },
                        {
                          "HappyLifeYears": 35.1,
                          "IneqAdjWellbeing": 5.7
                        },
                        {
                          "HappyLifeYears": 15.4,
                          "IneqAdjWellbeing": 3.7
                        },
                        {
                          "HappyLifeYears": 48.2,
                          "IneqAdjWellbeing": 6.8
                        },
                        {
                          "HappyLifeYears": 10.3,
                          "IneqAdjWellbeing": 3.5
                        },
                        {
                          "HappyLifeYears": 39.6,
                          "IneqAdjWellbeing": 5.5
                        },
                        {
                          "HappyLifeYears": 42.3,
                          "IneqAdjWellbeing": 5.7
                        },
                        {
                          "HappyLifeYears": 43.4,
                          "IneqAdjWellbeing": 5.9
                        },
                        {
                          "HappyLifeYears": 54.4,
                          "IneqAdjWellbeing": 7.2
                        },
                        {
                          "HappyLifeYears": 15.1,
                          "IneqAdjWellbeing": 3.8
                        },
                        {
                          "HappyLifeYears": 23.7,
                          "IneqAdjWellbeing": 4.1
                        },
                        {
                          "HappyLifeYears": 34.3,
                          "IneqAdjWellbeing": 5.5
                        },
                        {
                          "HappyLifeYears": 21.8,
                          "IneqAdjWellbeing": 3.7
                        },
                        {
                          "HappyLifeYears": 32.2,
                          "IneqAdjWellbeing": 5.3
                        },
                        {
                          "HappyLifeYears": 35,
                          "IneqAdjWellbeing": 5
                        },
                        {
                          "HappyLifeYears": 17.8,
                          "IneqAdjWellbeing": 4.2
                        },
                        {
                          "HappyLifeYears": 54.6,
                          "IneqAdjWellbeing": 7.2
                        },
                        {
                          "HappyLifeYears": 48.1,
                          "IneqAdjWellbeing": 6.3
                        },
                        {
                          "HappyLifeYears": 15.4,
                          "IneqAdjWellbeing": 3.5
                        },
                        {
                          "HappyLifeYears": 24.7,
                          "IneqAdjWellbeing": 3.8
                        },
                        {
                          "HappyLifeYears": 48.2,
                          "IneqAdjWellbeing": 6.4
                        },
                        {
                          "HappyLifeYears": 18.8,
                          "IneqAdjWellbeing": 4.6
                        },
                        {
                          "HappyLifeYears": 33.3,
                          "IneqAdjWellbeing": 4.5
                        },
                        {
                          "HappyLifeYears": 29.6,
                          "IneqAdjWellbeing": 5.2
                        },
                        {
                          "HappyLifeYears": 11.8,
                          "IneqAdjWellbeing": 3.3
                        },
                        {
                          "HappyLifeYears": 16.5,
                          "IneqAdjWellbeing": 4
                        },
                        {
                          "HappyLifeYears": 22.1,
                          "IneqAdjWellbeing": 3.9
                        },
                        {
                          "HappyLifeYears": 40.1,
                          "IneqAdjWellbeing": 5.1
                        },
                        {
                          "HappyLifeYears": 28.7,
                          "IneqAdjWellbeing": 4.2
                        },
                        {
                          "HappyLifeYears": 58,
                          "IneqAdjWellbeing": 7.4
                        },
                        {
                          "HappyLifeYears": 20.4,
                          "IneqAdjWellbeing": 4.2
                        },
                        {
                          "HappyLifeYears": 28.4,
                          "IneqAdjWellbeing": 5.1
                        },
                        {
                          "HappyLifeYears": 25.4,
                          "IneqAdjWellbeing": 4
                        },
                        {
                          "HappyLifeYears": 22.8,
                          "IneqAdjWellbeing": 4.3
                        },
                        {
                          "HappyLifeYears": 50.3,
                          "IneqAdjWellbeing": 6.7
                        },
                        {
                          "HappyLifeYears": 52.5,
                          "IneqAdjWellbeing": 6.8
                        },
                        {
                          "HappyLifeYears": 41.1,
                          "IneqAdjWellbeing": 5.3
                        },
                        {
                          "HappyLifeYears": 31.9,
                          "IneqAdjWellbeing": 5
                        },
                        {
                          "HappyLifeYears": 44,
                          "IneqAdjWellbeing": 5.6
                        },
                        {
                          "HappyLifeYears": 31.7,
                          "IneqAdjWellbeing": 5.4
                        },
                        {
                          "HappyLifeYears": 16.2,
                          "IneqAdjWellbeing": 4.1
                        },
                        {
                          "HappyLifeYears": 28.7,
                          "IneqAdjWellbeing": 4.9
                        },
                        {
                          "HappyLifeYears": 31.2,
                          "IneqAdjWellbeing": 4.7
                        },
                        {
                          "HappyLifeYears": 28.2,
                          "IneqAdjWellbeing": 4
                        },
                        {
                          "HappyLifeYears": 13.4,
                          "IneqAdjWellbeing": 4.3
                        },
                        {
                          "HappyLifeYears": 15.7,
                          "IneqAdjWellbeing": 4.1
                        },
                        {
                          "HappyLifeYears": 36.4,
                          "IneqAdjWellbeing": 5.4
                        },
                        {
                          "HappyLifeYears": 51.7,
                          "IneqAdjWellbeing": 6.7
                        },
                        {
                          "HappyLifeYears": 27.2,
                          "IneqAdjWellbeing": 4.1
                        },
                        {
                          "HappyLifeYears": 13.7,
                          "IneqAdjWellbeing": 3.5
                        },
                        {
                          "HappyLifeYears": 38.3,
                          "IneqAdjWellbeing": 5.7
                        },
                        {
                          "HappyLifeYears": 40.8,
                          "IneqAdjWellbeing": 5.5
                        },
                        {
                          "HappyLifeYears": 18,
                          "IneqAdjWellbeing": 4.5
                        },
                        {
                          "HappyLifeYears": 33.1,
                          "IneqAdjWellbeing": 5.1
                        },
                        {
                          "HappyLifeYears": 44.3,
                          "IneqAdjWellbeing": 6.8
                        },
                        {
                          "HappyLifeYears": 25.3,
                          "IneqAdjWellbeing": 4.6
                        },
                        {
                          "HappyLifeYears": 32.1,
                          "IneqAdjWellbeing": 4.6
                        },
                        {
                          "HappyLifeYears": 26.7,
                          "IneqAdjWellbeing": 4.5
                        },
                        {
                          "HappyLifeYears": 15,
                          "IneqAdjWellbeing": 4.5
                        },
                        {
                          "HappyLifeYears": 18.8,
                          "IneqAdjWellbeing": 4
                        },
                        {
                          "HappyLifeYears": 21.3,
                          "IneqAdjWellbeing": 4.4
                        },
                        {
                          "HappyLifeYears": 20.2,
                          "IneqAdjWellbeing": 3.8
                        },
                        {
                          "HappyLifeYears": 57,
                          "IneqAdjWellbeing": 7.5
                        },
                        {
                          "HappyLifeYears": 52.7,
                          "IneqAdjWellbeing": 6.9
                        },
                        {
                          "HappyLifeYears": 29.2,
                          "IneqAdjWellbeing": 4.8
                        },
                        {
                          "HappyLifeYears": 13.1,
                          "IneqAdjWellbeing": 3.5
                        },
                        {
                          "HappyLifeYears": 15.5,
                          "IneqAdjWellbeing": 5.2
                        },
                        {
                          "HappyLifeYears": 57.1,
                          "IneqAdjWellbeing": 7.4
                        },
                        {
                          "HappyLifeYears": 44.5,
                          "IneqAdjWellbeing": 6.4
                        },
                        {
                          "HappyLifeYears": 19.5,
                          "IneqAdjWellbeing": 4.6
                        },
                        {
                          "HappyLifeYears": 24.5,
                          "IneqAdjWellbeing": 4.1
                        },
                        {
                          "HappyLifeYears": 42.1,
                          "IneqAdjWellbeing": 6.3
                        },
                        {
                          "HappyLifeYears": 31.8,
                          "IneqAdjWellbeing": 5.5
                        },
                        {
                          "HappyLifeYears": 32.9,
                          "IneqAdjWellbeing": 5.3
                        },
                        {
                          "HappyLifeYears": 24.1,
                          "IneqAdjWellbeing": 4.4
                        },
                        {
                          "HappyLifeYears": 39.2,
                          "IneqAdjWellbeing": 5.5
                        },
                        {
                          "HappyLifeYears": 32.3,
                          "IneqAdjWellbeing": 4.3
                        },
                        {
                          "HappyLifeYears": 13.6,
                          "IneqAdjWellbeing": 3.4
                        },
                        {
                          "HappyLifeYears": 30.1,
                          "IneqAdjWellbeing": 4.6
                        },
                        {
                          "HappyLifeYears": 31.7,
                          "IneqAdjWellbeing": 5.2
                        },
                        {
                          "HappyLifeYears": 12.4,
                          "IneqAdjWellbeing": 3
                        },
                        {
                          "HappyLifeYears": 15.5,
                          "IneqAdjWellbeing": 3.3
                        },
                        {
                          "HappyLifeYears": 30.3,
                          "IneqAdjWellbeing": 4.6
                        },
                        {
                          "HappyLifeYears": 10.8,
                          "IneqAdjWellbeing": 4
                        },
                        {
                          "HappyLifeYears": 37.9,
                          "IneqAdjWellbeing": 5.4
                        },
                        {
                          "HappyLifeYears": 42.6,
                          "IneqAdjWellbeing": 5.7
                        },
                        {
                          "HappyLifeYears": 18.5,
                          "IneqAdjWellbeing": 4.6
                        },
                        {
                          "HappyLifeYears": 42.2,
                          "IneqAdjWellbeing": 5.5
                        },
                        {
                          "HappyLifeYears": 45.3,
                          "IneqAdjWellbeing": 5.9
                        },
                        {
                          "HappyLifeYears": 24.9,
                          "IneqAdjWellbeing": 3.8
                        },
                        {
                          "HappyLifeYears": 35.2,
                          "IneqAdjWellbeing": 5.9
                        },
                        {
                          "HappyLifeYears": 13.6,
                          "IneqAdjWellbeing": 4.4
                        },
                        {
                          "HappyLifeYears": 57.4,
                          "IneqAdjWellbeing": 7.4
                        },
                        {
                          "HappyLifeYears": 59.3,
                          "IneqAdjWellbeing": 7.6
                        },
                        {
                          "HappyLifeYears": 14.7,
                          "IneqAdjWellbeing": 2.6
                        },
                        {
                          "HappyLifeYears": 22.2,
                          "IneqAdjWellbeing": 4.3
                        },
                        {
                          "HappyLifeYears": 16.2,
                          "IneqAdjWellbeing": 3.6
                        },
                        {
                          "HappyLifeYears": 38.6,
                          "IneqAdjWellbeing": 6
                        },
                        {
                          "HappyLifeYears": 9,
                          "IneqAdjWellbeing": 2.4
                        },
                        {
                          "HappyLifeYears": 34.4,
                          "IneqAdjWellbeing": 6
                        },
                        {
                          "HappyLifeYears": 25.2,
                          "IneqAdjWellbeing": 4
                        },
                        {
                          "HappyLifeYears": 31.2,
                          "IneqAdjWellbeing": 4.9
                        },
                        {
                          "HappyLifeYears": 24,
                          "IneqAdjWellbeing": 5.1
                        },
                        {
                          "HappyLifeYears": 13.8,
                          "IneqAdjWellbeing": 3.9
                        },
                        {
                          "HappyLifeYears": 28.3,
                          "IneqAdjWellbeing": 4.6
                        },
                        {
                          "HappyLifeYears": 49.1,
                          "IneqAdjWellbeing": 6.6
                        },
                        {
                          "HappyLifeYears": 46.8,
                          "IneqAdjWellbeing": 6.5
                        },
                        {
                          "HappyLifeYears": 39.4,
                          "IneqAdjWellbeing": 5.8
                        },
                        {
                          "HappyLifeYears": 27.9,
                          "IneqAdjWellbeing": 5.6
                        },
                        {
                          "HappyLifeYears": 34.9,
                          "IneqAdjWellbeing": 5.9
                        },
                        {
                          "HappyLifeYears": 41.5,
                          "IneqAdjWellbeing": 6.5
                        },
                        {
                          "HappyLifeYears": 32.8,
                          "IneqAdjWellbeing": 5.2
                        },
                        {
                          "HappyLifeYears": 15.2,
                          "IneqAdjWellbeing": 3.6
                        },
                        {
                          "HappyLifeYears": 16.7,
                          "IneqAdjWellbeing": 4.5
                        },
                        {
                          "HappyLifeYears": 16.4,
                          "IneqAdjWellbeing": 4.6
                        }
                      ]
                    },
                    "vislib": "vegalite",
                    "$schema": "https://vega.github.io/schema/vega-lite/v4.8.1.json",
                    "mark": "circle",
                    "data": {
                      "name": "data-d26ccd40a59809d911d88028cf343619"
                    }
                  },
                  {
                    "selection": {
                      "selector039": {
                        "bind": "scales",
                        "type": "interval",
                        "encodings": [
                          "x",
                          "y"
                        ]
                      }
                    },
                    "encoding": {
                      "y": {
                        "field": "HappyLifeYears",
                        "scale": {
                          "domain": [
                            9,
                            59.3
                          ]
                        },
                        "type": "quantitative",
                        "axis": {
                          "title": "HappyLifeYears"
                        }
                      },
                      "x": {
                        "field": "AvrgWellBeing",
                        "scale": {
                          "domain": [
                            2.9,
                            7.8
                          ]
                        },
                        "type": "quantitative",
                        "axis": {
                          "title": "AvrgWellBeing"
                        }
                      }
                    },
                    "config": {
                      "mark": {
                        "tooltip": {
                          "content": "encoding"
                        }
                      },
                      "axis": {
                        "labelFont": "Helvetica Neue",
                        "labelFontSize": 9,
                        "labelColor": "#505050",
                        "titleFont": "Helvetica Neue",
                        "labelFontWeight": 400,
                        "titleFontSize": 11,
                        "titleFontWeight": 500
                      },
                      "title": {
                        "fontWeight": 500,
                        "font": "Helvetica Neue",
                        "fontSize": 13
                      },
                      "legend": {
                        "labelFont": "Helvetica Neue",
                        "labelFontSize": 9,
                        "titleFont": "Helvetica Neue",
                        "labelFontWeight": 400,
                        "titleFontSize": 10,
                        "titleFontWeight": 500
                      },
                      "view": {
                        "continuousWidth": 400,
                        "continuousHeight": 300
                      }
                    },
                    "height": 150,
                    "width": 160,
                    "datasets": {
                      "data-ee38e6e9a20d0b713c4bc7addcd2e50b": [
                        {
                          "HappyLifeYears": 12.4,
                          "AvrgWellBeing": 3.8
                        },
                        {
                          "HappyLifeYears": 34.4,
                          "AvrgWellBeing": 5.5
                        },
                        {
                          "HappyLifeYears": 30.5,
                          "AvrgWellBeing": 5.6
                        },
                        {
                          "HappyLifeYears": 40.2,
                          "AvrgWellBeing": 6.5
                        },
                        {
                          "HappyLifeYears": 24,
                          "AvrgWellBeing": 4.3
                        },
                        {
                          "HappyLifeYears": 53.1,
                          "AvrgWellBeing": 7.2
                        },
                        {
                          "HappyLifeYears": 54.4,
                          "AvrgWellBeing": 7.4
                        },
                        {
                          "HappyLifeYears": 23.3,
                          "AvrgWellBeing": 4.7
                        },
                        {
                          "HappyLifeYears": 34,
                          "AvrgWellBeing": 5.7
                        },
                        {
                          "HappyLifeYears": 49.5,
                          "AvrgWellBeing": 6.9
                        },
                        {
                          "HappyLifeYears": 34.2,
                          "AvrgWellBeing": 6.1
                        },
                        {
                          "HappyLifeYears": 9.9,
                          "AvrgWellBeing": 3.2
                        },
                        {
                          "HappyLifeYears": 27.4,
                          "AvrgWellBeing": 5.6
                        },
                        {
                          "HappyLifeYears": 25.6,
                          "AvrgWellBeing": 6
                        },
                        {
                          "HappyLifeYears": 28.6,
                          "AvrgWellBeing": 4.8
                        },
                        {
                          "HappyLifeYears": 21.3,
                          "AvrgWellBeing": 4.8
                        },
                        {
                          "HappyLifeYears": 39,
                          "AvrgWellBeing": 6.9
                        },
                        {
                          "HappyLifeYears": 24,
                          "AvrgWellBeing": 4.2
                        },
                        {
                          "HappyLifeYears": 12.6,
                          "AvrgWellBeing": 4
                        },
                        {
                          "HappyLifeYears": 9.5,
                          "AvrgWellBeing": 3.4
                        },
                        {
                          "HappyLifeYears": 18.2,
                          "AvrgWellBeing": 3.9
                        },
                        {
                          "HappyLifeYears": 11.6,
                          "AvrgWellBeing": 4.2
                        },
                        {
                          "HappyLifeYears": 53.9,
                          "AvrgWellBeing": 7.4
                        },
                        {
                          "HappyLifeYears": 9.6,
                          "AvrgWellBeing": 4
                        },
                        {
                          "HappyLifeYears": 44.7,
                          "AvrgWellBeing": 6.6
                        },
                        {
                          "HappyLifeYears": 30.6,
                          "AvrgWellBeing": 5.1
                        },
                        {
                          "HappyLifeYears": 35.1,
                          "AvrgWellBeing": 6.4
                        },
                        {
                          "HappyLifeYears": 15.4,
                          "AvrgWellBeing": 4
                        },
                        {
                          "HappyLifeYears": 48.2,
                          "AvrgWellBeing": 7.3
                        },
                        {
                          "HappyLifeYears": 10.3,
                          "AvrgWellBeing": 3.8
                        },
                        {
                          "HappyLifeYears": 39.6,
                          "AvrgWellBeing": 6
                        },
                        {
                          "HappyLifeYears": 42.3,
                          "AvrgWellBeing": 6.2
                        },
                        {
                          "HappyLifeYears": 43.4,
                          "AvrgWellBeing": 6.3
                        },
                        {
                          "HappyLifeYears": 54.4,
                          "AvrgWellBeing": 7.5
                        },
                        {
                          "HappyLifeYears": 15.1,
                          "AvrgWellBeing": 4.4
                        },
                        {
                          "HappyLifeYears": 23.7,
                          "AvrgWellBeing": 4.8
                        },
                        {
                          "HappyLifeYears": 34.3,
                          "AvrgWellBeing": 6
                        },
                        {
                          "HappyLifeYears": 21.8,
                          "AvrgWellBeing": 4.2
                        },
                        {
                          "HappyLifeYears": 32.2,
                          "AvrgWellBeing": 5.9
                        },
                        {
                          "HappyLifeYears": 35,
                          "AvrgWellBeing": 5.4
                        },
                        {
                          "HappyLifeYears": 17.8,
                          "AvrgWellBeing": 4.6
                        },
                        {
                          "HappyLifeYears": 54.6,
                          "AvrgWellBeing": 7.4
                        },
                        {
                          "HappyLifeYears": 48.1,
                          "AvrgWellBeing": 6.6
                        },
                        {
                          "HappyLifeYears": 15.4,
                          "AvrgWellBeing": 4
                        },
                        {
                          "HappyLifeYears": 24.7,
                          "AvrgWellBeing": 4.3
                        },
                        {
                          "HappyLifeYears": 48.2,
                          "AvrgWellBeing": 6.7
                        },
                        {
                          "HappyLifeYears": 18.8,
                          "AvrgWellBeing": 5.1
                        },
                        {
                          "HappyLifeYears": 33.3,
                          "AvrgWellBeing": 5.1
                        },
                        {
                          "HappyLifeYears": 29.6,
                          "AvrgWellBeing": 5.9
                        },
                        {
                          "HappyLifeYears": 11.8,
                          "AvrgWellBeing": 3.7
                        },
                        {
                          "HappyLifeYears": 16.5,
                          "AvrgWellBeing": 4.4
                        },
                        {
                          "HappyLifeYears": 22.1,
                          "AvrgWellBeing": 4.6
                        },
                        {
                          "HappyLifeYears": 40.1,
                          "AvrgWellBeing": 5.5
                        },
                        {
                          "HappyLifeYears": 28.7,
                          "AvrgWellBeing": 4.7
                        },
                        {
                          "HappyLifeYears": 58,
                          "AvrgWellBeing": 7.6
                        },
                        {
                          "HappyLifeYears": 20.4,
                          "AvrgWellBeing": 4.6
                        },
                        {
                          "HappyLifeYears": 28.4,
                          "AvrgWellBeing": 5.4
                        },
                        {
                          "HappyLifeYears": 25.4,
                          "AvrgWellBeing": 4.6
                        },
                        {
                          "HappyLifeYears": 22.8,
                          "AvrgWellBeing": 4.7
                        },
                        {
                          "HappyLifeYears": 50.3,
                          "AvrgWellBeing": 7
                        },
                        {
                          "HappyLifeYears": 52.5,
                          "AvrgWellBeing": 7.1
                        },
                        {
                          "HappyLifeYears": 41.1,
                          "AvrgWellBeing": 5.8
                        },
                        {
                          "HappyLifeYears": 31.9,
                          "AvrgWellBeing": 5.6
                        },
                        {
                          "HappyLifeYears": 44,
                          "AvrgWellBeing": 6
                        },
                        {
                          "HappyLifeYears": 31.7,
                          "AvrgWellBeing": 5.8
                        },
                        {
                          "HappyLifeYears": 16.2,
                          "AvrgWellBeing": 4.5
                        },
                        {
                          "HappyLifeYears": 28.7,
                          "AvrgWellBeing": 5.2
                        },
                        {
                          "HappyLifeYears": 31.2,
                          "AvrgWellBeing": 5.1
                        },
                        {
                          "HappyLifeYears": 28.2,
                          "AvrgWellBeing": 4.6
                        },
                        {
                          "HappyLifeYears": 13.4,
                          "AvrgWellBeing": 4.9
                        },
                        {
                          "HappyLifeYears": 15.7,
                          "AvrgWellBeing": 4.4
                        },
                        {
                          "HappyLifeYears": 36.4,
                          "AvrgWellBeing": 5.8
                        },
                        {
                          "HappyLifeYears": 51.7,
                          "AvrgWellBeing": 7
                        },
                        {
                          "HappyLifeYears": 27.2,
                          "AvrgWellBeing": 4.6
                        },
                        {
                          "HappyLifeYears": 13.7,
                          "AvrgWellBeing": 4.3
                        },
                        {
                          "HappyLifeYears": 38.3,
                          "AvrgWellBeing": 5.9
                        },
                        {
                          "HappyLifeYears": 40.8,
                          "AvrgWellBeing": 6
                        },
                        {
                          "HappyLifeYears": 18,
                          "AvrgWellBeing": 4.7
                        },
                        {
                          "HappyLifeYears": 33.1,
                          "AvrgWellBeing": 5.5
                        },
                        {
                          "HappyLifeYears": 44.3,
                          "AvrgWellBeing": 7.3
                        },
                        {
                          "HappyLifeYears": 25.3,
                          "AvrgWellBeing": 4.9
                        },
                        {
                          "HappyLifeYears": 32.1,
                          "AvrgWellBeing": 5.2
                        },
                        {
                          "HappyLifeYears": 26.7,
                          "AvrgWellBeing": 5
                        },
                        {
                          "HappyLifeYears": 15,
                          "AvrgWellBeing": 5
                        },
                        {
                          "HappyLifeYears": 18.8,
                          "AvrgWellBeing": 4.4
                        },
                        {
                          "HappyLifeYears": 21.3,
                          "AvrgWellBeing": 4.7
                        },
                        {
                          "HappyLifeYears": 20.2,
                          "AvrgWellBeing": 4.2
                        },
                        {
                          "HappyLifeYears": 57,
                          "AvrgWellBeing": 7.5
                        },
                        {
                          "HappyLifeYears": 52.7,
                          "AvrgWellBeing": 7.2
                        },
                        {
                          "HappyLifeYears": 29.2,
                          "AvrgWellBeing": 5.4
                        },
                        {
                          "HappyLifeYears": 13.1,
                          "AvrgWellBeing": 3.8
                        },
                        {
                          "HappyLifeYears": 15.5,
                          "AvrgWellBeing": 5.5
                        },
                        {
                          "HappyLifeYears": 57.1,
                          "AvrgWellBeing": 7.7
                        },
                        {
                          "HappyLifeYears": 44.5,
                          "AvrgWellBeing": 6.9
                        },
                        {
                          "HappyLifeYears": 19.5,
                          "AvrgWellBeing": 5.1
                        },
                        {
                          "HappyLifeYears": 24.5,
                          "AvrgWellBeing": 4.6
                        },
                        {
                          "HappyLifeYears": 42.1,
                          "AvrgWellBeing": 6.9
                        },
                        {
                          "HappyLifeYears": 31.8,
                          "AvrgWellBeing": 5.8
                        },
                        {
                          "HappyLifeYears": 32.9,
                          "AvrgWellBeing": 5.8
                        },
                        {
                          "HappyLifeYears": 24.1,
                          "AvrgWellBeing": 5
                        },
                        {
                          "HappyLifeYears": 39.2,
                          "AvrgWellBeing": 5.9
                        },
                        {
                          "HappyLifeYears": 32.3,
                          "AvrgWellBeing": 5
                        },
                        {
                          "HappyLifeYears": 13.6,
                          "AvrgWellBeing": 3.9
                        },
                        {
                          "HappyLifeYears": 30.1,
                          "AvrgWellBeing": 5.2
                        },
                        {
                          "HappyLifeYears": 31.7,
                          "AvrgWellBeing": 5.6
                        },
                        {
                          "HappyLifeYears": 12.4,
                          "AvrgWellBeing": 3.3
                        },
                        {
                          "HappyLifeYears": 15.5,
                          "AvrgWellBeing": 3.7
                        },
                        {
                          "HappyLifeYears": 30.3,
                          "AvrgWellBeing": 5.2
                        },
                        {
                          "HappyLifeYears": 10.8,
                          "AvrgWellBeing": 4.5
                        },
                        {
                          "HappyLifeYears": 37.9,
                          "AvrgWellBeing": 5.9
                        },
                        {
                          "HappyLifeYears": 42.6,
                          "AvrgWellBeing": 6.1
                        },
                        {
                          "HappyLifeYears": 18.5,
                          "AvrgWellBeing": 5.1
                        },
                        {
                          "HappyLifeYears": 42.2,
                          "AvrgWellBeing": 6
                        },
                        {
                          "HappyLifeYears": 45.3,
                          "AvrgWellBeing": 6.3
                        },
                        {
                          "HappyLifeYears": 24.9,
                          "AvrgWellBeing": 4.2
                        },
                        {
                          "HappyLifeYears": 35.2,
                          "AvrgWellBeing": 6.3
                        },
                        {
                          "HappyLifeYears": 13.6,
                          "AvrgWellBeing": 4.9
                        },
                        {
                          "HappyLifeYears": 57.4,
                          "AvrgWellBeing": 7.6
                        },
                        {
                          "HappyLifeYears": 59.3,
                          "AvrgWellBeing": 7.8
                        },
                        {
                          "HappyLifeYears": 14.7,
                          "AvrgWellBeing": 3.2
                        },
                        {
                          "HappyLifeYears": 22.2,
                          "AvrgWellBeing": 4.5
                        },
                        {
                          "HappyLifeYears": 16.2,
                          "AvrgWellBeing": 4
                        },
                        {
                          "HappyLifeYears": 38.6,
                          "AvrgWellBeing": 6.3
                        },
                        {
                          "HappyLifeYears": 9,
                          "AvrgWellBeing": 2.9
                        },
                        {
                          "HappyLifeYears": 34.4,
                          "AvrgWellBeing": 6.4
                        },
                        {
                          "HappyLifeYears": 25.2,
                          "AvrgWellBeing": 4.5
                        },
                        {
                          "HappyLifeYears": 31.2,
                          "AvrgWellBeing": 5.3
                        },
                        {
                          "HappyLifeYears": 24,
                          "AvrgWellBeing": 5.5
                        },
                        {
                          "HappyLifeYears": 13.8,
                          "AvrgWellBeing": 4.3
                        },
                        {
                          "HappyLifeYears": 28.3,
                          "AvrgWellBeing": 5
                        },
                        {
                          "HappyLifeYears": 49.1,
                          "AvrgWellBeing": 6.9
                        },
                        {
                          "HappyLifeYears": 46.8,
                          "AvrgWellBeing": 7
                        },
                        {
                          "HappyLifeYears": 39.4,
                          "AvrgWellBeing": 6.4
                        },
                        {
                          "HappyLifeYears": 27.9,
                          "AvrgWellBeing": 6
                        },
                        {
                          "HappyLifeYears": 34.9,
                          "AvrgWellBeing": 6.5
                        },
                        {
                          "HappyLifeYears": 41.5,
                          "AvrgWellBeing": 7.1
                        },
                        {
                          "HappyLifeYears": 32.8,
                          "AvrgWellBeing": 5.5
                        },
                        {
                          "HappyLifeYears": 15.2,
                          "AvrgWellBeing": 4.1
                        },
                        {
                          "HappyLifeYears": 16.7,
                          "AvrgWellBeing": 5
                        },
                        {
                          "HappyLifeYears": 16.4,
                          "AvrgWellBeing": 5
                        }
                      ]
                    },
                    "vislib": "vegalite",
                    "$schema": "https://vega.github.io/schema/vega-lite/v4.8.1.json",
                    "mark": "circle",
                    "data": {
                      "name": "data-ee38e6e9a20d0b713c4bc7addcd2e50b"
                    }
                  },
                  {
                    "selection": {
                      "selector040": {
                        "bind": "scales",
                        "type": "interval",
                        "encodings": [
                          "x",
                          "y"
                        ]
                      }
                    },
                    "encoding": {
                      "y": {
                        "field": "HappyLifeYears",
                        "scale": {
                          "domain": [
                            9,
                            59.3
                          ]
                        },
                        "type": "quantitative",
                        "axis": {
                          "title": "HappyLifeYears"
                        }
                      },
                      "x": {
                        "field": "Inequality",
                        "scale": {
                          "domain": [
                            0.04,
                            0.51
                          ]
                        },
                        "type": "quantitative",
                        "axis": {
                          "title": "Inequality"
                        }
                      }
                    },
                    "config": {
                      "mark": {
                        "tooltip": {
                          "content": "encoding"
                        }
                      },
                      "axis": {
                        "labelFont": "Helvetica Neue",
                        "labelFontSize": 9,
                        "labelColor": "#505050",
                        "titleFont": "Helvetica Neue",
                        "labelFontWeight": 400,
                        "titleFontSize": 11,
                        "titleFontWeight": 500
                      },
                      "title": {
                        "fontWeight": 500,
                        "font": "Helvetica Neue",
                        "fontSize": 13
                      },
                      "legend": {
                        "labelFont": "Helvetica Neue",
                        "labelFontSize": 9,
                        "titleFont": "Helvetica Neue",
                        "labelFontWeight": 400,
                        "titleFontSize": 10,
                        "titleFontWeight": 500
                      },
                      "view": {
                        "continuousWidth": 400,
                        "continuousHeight": 300
                      }
                    },
                    "height": 150,
                    "width": 160,
                    "datasets": {
                      "data-76b23ee37bc2ff67a80abf024ce1ae9f": [
                        {
                          "HappyLifeYears": 12.4,
                          "Inequality": 0.43
                        },
                        {
                          "HappyLifeYears": 34.4,
                          "Inequality": 0.17
                        },
                        {
                          "HappyLifeYears": 30.5,
                          "Inequality": 0.24
                        },
                        {
                          "HappyLifeYears": 40.2,
                          "Inequality": 0.16
                        },
                        {
                          "HappyLifeYears": 24,
                          "Inequality": 0.22
                        },
                        {
                          "HappyLifeYears": 53.1,
                          "Inequality": 0.08
                        },
                        {
                          "HappyLifeYears": 54.4,
                          "Inequality": 0.07
                        },
                        {
                          "HappyLifeYears": 23.3,
                          "Inequality": 0.27
                        },
                        {
                          "HappyLifeYears": 34,
                          "Inequality": 0.13
                        },
                        {
                          "HappyLifeYears": 49.5,
                          "Inequality": 0.09
                        },
                        {
                          "HappyLifeYears": 34.2,
                          "Inequality": 0.18
                        },
                        {
                          "HappyLifeYears": 9.9,
                          "Inequality": 0.44
                        },
                        {
                          "HappyLifeYears": 27.4,
                          "Inequality": 0.27
                        },
                        {
                          "HappyLifeYears": 25.6,
                          "Inequality": 0.35
                        },
                        {
                          "HappyLifeYears": 28.6,
                          "Inequality": 0.19
                        },
                        {
                          "HappyLifeYears": 21.3,
                          "Inequality": 0.28
                        },
                        {
                          "HappyLifeYears": 39,
                          "Inequality": 0.22
                        },
                        {
                          "HappyLifeYears": 24,
                          "Inequality": 0.19
                        },
                        {
                          "HappyLifeYears": 12.6,
                          "Inequality": 0.43
                        },
                        {
                          "HappyLifeYears": 9.5,
                          "Inequality": 0.48
                        },
                        {
                          "HappyLifeYears": 18.2,
                          "Inequality": 0.28
                        },
                        {
                          "HappyLifeYears": 11.6,
                          "Inequality": 0.47
                        },
                        {
                          "HappyLifeYears": 53.9,
                          "Inequality": 0.09
                        },
                        {
                          "HappyLifeYears": 9.6,
                          "Inequality": 0.51
                        },
                        {
                          "HappyLifeYears": 44.7,
                          "Inequality": 0.14
                        },
                        {
                          "HappyLifeYears": 30.6,
                          "Inequality": 0.17
                        },
                        {
                          "HappyLifeYears": 35.1,
                          "Inequality": 0.24
                        },
                        {
                          "HappyLifeYears": 15.4,
                          "Inequality": 0.36
                        },
                        {
                          "HappyLifeYears": 48.2,
                          "Inequality": 0.15
                        },
                        {
                          "HappyLifeYears": 10.3,
                          "Inequality": 0.45
                        },
                        {
                          "HappyLifeYears": 39.6,
                          "Inequality": 0.12
                        },
                        {
                          "HappyLifeYears": 42.3,
                          "Inequality": 0.12
                        },
                        {
                          "HappyLifeYears": 43.4,
                          "Inequality": 0.09
                        },
                        {
                          "HappyLifeYears": 54.4,
                          "Inequality": 0.07
                        },
                        {
                          "HappyLifeYears": 15.1,
                          "Inequality": 0.42
                        },
                        {
                          "HappyLifeYears": 23.7,
                          "Inequality": 0.3
                        },
                        {
                          "HappyLifeYears": 34.3,
                          "Inequality": 0.22
                        },
                        {
                          "HappyLifeYears": 21.8,
                          "Inequality": 0.23
                        },
                        {
                          "HappyLifeYears": 32.2,
                          "Inequality": 0.22
                        },
                        {
                          "HappyLifeYears": 35,
                          "Inequality": 0.12
                        },
                        {
                          "HappyLifeYears": 17.8,
                          "Inequality": 0.36
                        },
                        {
                          "HappyLifeYears": 54.6,
                          "Inequality": 0.06
                        },
                        {
                          "HappyLifeYears": 48.1,
                          "Inequality": 0.09
                        },
                        {
                          "HappyLifeYears": 15.4,
                          "Inequality": 0.36
                        },
                        {
                          "HappyLifeYears": 24.7,
                          "Inequality": 0.2
                        },
                        {
                          "HappyLifeYears": 48.2,
                          "Inequality": 0.08
                        },
                        {
                          "HappyLifeYears": 18.8,
                          "Inequality": 0.38
                        },
                        {
                          "HappyLifeYears": 33.3,
                          "Inequality": 0.16
                        },
                        {
                          "HappyLifeYears": 29.6,
                          "Inequality": 0.27
                        },
                        {
                          "HappyLifeYears": 11.8,
                          "Inequality": 0.42
                        },
                        {
                          "HappyLifeYears": 16.5,
                          "Inequality": 0.37
                        },
                        {
                          "HappyLifeYears": 22.1,
                          "Inequality": 0.31
                        },
                        {
                          "HappyLifeYears": 40.1,
                          "Inequality": 0.1
                        },
                        {
                          "HappyLifeYears": 28.7,
                          "Inequality": 0.15
                        },
                        {
                          "HappyLifeYears": 58,
                          "Inequality": 0.05
                        },
                        {
                          "HappyLifeYears": 20.4,
                          "Inequality": 0.31
                        },
                        {
                          "HappyLifeYears": 28.4,
                          "Inequality": 0.21
                        },
                        {
                          "HappyLifeYears": 25.4,
                          "Inequality": 0.23
                        },
                        {
                          "HappyLifeYears": 22.8,
                          "Inequality": 0.27
                        },
                        {
                          "HappyLifeYears": 50.3,
                          "Inequality": 0.08
                        },
                        {
                          "HappyLifeYears": 52.5,
                          "Inequality": 0.08
                        },
                        {
                          "HappyLifeYears": 41.1,
                          "Inequality": 0.12
                        },
                        {
                          "HappyLifeYears": 31.9,
                          "Inequality": 0.21
                        },
                        {
                          "HappyLifeYears": 44,
                          "Inequality": 0.09
                        },
                        {
                          "HappyLifeYears": 31.7,
                          "Inequality": 0.18
                        },
                        {
                          "HappyLifeYears": 16.2,
                          "Inequality": 0.38
                        },
                        {
                          "HappyLifeYears": 28.7,
                          "Inequality": 0.18
                        },
                        {
                          "HappyLifeYears": 31.2,
                          "Inequality": 0.14
                        },
                        {
                          "HappyLifeYears": 28.2,
                          "Inequality": 0.19
                        },
                        {
                          "HappyLifeYears": 13.4,
                          "Inequality": 0.42
                        },
                        {
                          "HappyLifeYears": 15.7,
                          "Inequality": 0.38
                        },
                        {
                          "HappyLifeYears": 36.4,
                          "Inequality": 0.11
                        },
                        {
                          "HappyLifeYears": 51.7,
                          "Inequality": 0.07
                        },
                        {
                          "HappyLifeYears": 27.2,
                          "Inequality": 0.18
                        },
                        {
                          "HappyLifeYears": 13.7,
                          "Inequality": 0.45
                        },
                        {
                          "HappyLifeYears": 38.3,
                          "Inequality": 0.1
                        },
                        {
                          "HappyLifeYears": 40.8,
                          "Inequality": 0.13
                        },
                        {
                          "HappyLifeYears": 18,
                          "Inequality": 0.37
                        },
                        {
                          "HappyLifeYears": 33.1,
                          "Inequality": 0.17
                        },
                        {
                          "HappyLifeYears": 44.3,
                          "Inequality": 0.19
                        },
                        {
                          "HappyLifeYears": 25.3,
                          "Inequality": 0.22
                        },
                        {
                          "HappyLifeYears": 32.1,
                          "Inequality": 0.16
                        },
                        {
                          "HappyLifeYears": 26.7,
                          "Inequality": 0.25
                        },
                        {
                          "HappyLifeYears": 15,
                          "Inequality": 0.43
                        },
                        {
                          "HappyLifeYears": 18.8,
                          "Inequality": 0.32
                        },
                        {
                          "HappyLifeYears": 21.3,
                          "Inequality": 0.26
                        },
                        {
                          "HappyLifeYears": 20.2,
                          "Inequality": 0.27
                        },
                        {
                          "HappyLifeYears": 57,
                          "Inequality": 0.04
                        },
                        {
                          "HappyLifeYears": 52.7,
                          "Inequality": 0.08
                        },
                        {
                          "HappyLifeYears": 29.2,
                          "Inequality": 0.25
                        },
                        {
                          "HappyLifeYears": 13.1,
                          "Inequality": 0.4
                        },
                        {
                          "HappyLifeYears": 15.5,
                          "Inequality": 0.44
                        },
                        {
                          "HappyLifeYears": 57.1,
                          "Inequality": 0.07
                        },
                        {
                          "HappyLifeYears": 44.5,
                          "Inequality": 0.13
                        },
                        {
                          "HappyLifeYears": 19.5,
                          "Inequality": 0.4
                        },
                        {
                          "HappyLifeYears": 24.5,
                          "Inequality": 0.24
                        },
                        {
                          "HappyLifeYears": 42.1,
                          "Inequality": 0.19
                        },
                        {
                          "HappyLifeYears": 31.8,
                          "Inequality": 0.22
                        },
                        {
                          "HappyLifeYears": 32.9,
                          "Inequality": 0.21
                        },
                        {
                          "HappyLifeYears": 24.1,
                          "Inequality": 0.26
                        },
                        {
                          "HappyLifeYears": 39.2,
                          "Inequality": 0.11
                        },
                        {
                          "HappyLifeYears": 32.3,
                          "Inequality": 0.16
                        },
                        {
                          "HappyLifeYears": 13.6,
                          "Inequality": 0.4
                        },
                        {
                          "HappyLifeYears": 30.1,
                          "Inequality": 0.19
                        },
                        {
                          "HappyLifeYears": 31.7,
                          "Inequality": 0.16
                        },
                        {
                          "HappyLifeYears": 12.4,
                          "Inequality": 0.37
                        },
                        {
                          "HappyLifeYears": 15.5,
                          "Inequality": 0.33
                        },
                        {
                          "HappyLifeYears": 30.3,
                          "Inequality": 0.19
                        },
                        {
                          "HappyLifeYears": 10.8,
                          "Inequality": 0.5
                        },
                        {
                          "HappyLifeYears": 37.9,
                          "Inequality": 0.13
                        },
                        {
                          "HappyLifeYears": 42.6,
                          "Inequality": 0.1
                        },
                        {
                          "HappyLifeYears": 18.5,
                          "Inequality": 0.33
                        },
                        {
                          "HappyLifeYears": 42.2,
                          "Inequality": 0.11
                        },
                        {
                          "HappyLifeYears": 45.3,
                          "Inequality": 0.1
                        },
                        {
                          "HappyLifeYears": 24.9,
                          "Inequality": 0.17
                        },
                        {
                          "HappyLifeYears": 35.2,
                          "Inequality": 0.19
                        },
                        {
                          "HappyLifeYears": 13.6,
                          "Inequality": 0.41
                        },
                        {
                          "HappyLifeYears": 57.4,
                          "Inequality": 0.06
                        },
                        {
                          "HappyLifeYears": 59.3,
                          "Inequality": 0.06
                        },
                        {
                          "HappyLifeYears": 14.7,
                          "Inequality": 0.3
                        },
                        {
                          "HappyLifeYears": 22.2,
                          "Inequality": 0.26
                        },
                        {
                          "HappyLifeYears": 16.2,
                          "Inequality": 0.33
                        },
                        {
                          "HappyLifeYears": 38.6,
                          "Inequality": 0.15
                        },
                        {
                          "HappyLifeYears": 9,
                          "Inequality": 0.43
                        },
                        {
                          "HappyLifeYears": 34.4,
                          "Inequality": 0.21
                        },
                        {
                          "HappyLifeYears": 25.2,
                          "Inequality": 0.22
                        },
                        {
                          "HappyLifeYears": 31.2,
                          "Inequality": 0.19
                        },
                        {
                          "HappyLifeYears": 24,
                          "Inequality": 0.31
                        },
                        {
                          "HappyLifeYears": 13.8,
                          "Inequality": 0.41
                        },
                        {
                          "HappyLifeYears": 28.3,
                          "Inequality": 0.17
                        },
                        {
                          "HappyLifeYears": 49.1,
                          "Inequality": 0.09
                        },
                        {
                          "HappyLifeYears": 46.8,
                          "Inequality": 0.13
                        },
                        {
                          "HappyLifeYears": 39.4,
                          "Inequality": 0.18
                        },
                        {
                          "HappyLifeYears": 27.9,
                          "Inequality": 0.3
                        },
                        {
                          "HappyLifeYears": 34.9,
                          "Inequality": 0.22
                        },
                        {
                          "HappyLifeYears": 41.5,
                          "Inequality": 0.19
                        },
                        {
                          "HappyLifeYears": 32.8,
                          "Inequality": 0.19
                        },
                        {
                          "HappyLifeYears": 15.2,
                          "Inequality": 0.39
                        },
                        {
                          "HappyLifeYears": 16.7,
                          "Inequality": 0.41
                        },
                        {
                          "HappyLifeYears": 16.4,
                          "Inequality": 0.37
                        }
                      ]
                    },
                    "vislib": "vegalite",
                    "$schema": "https://vega.github.io/schema/vega-lite/v4.8.1.json",
                    "mark": "circle",
                    "data": {
                      "name": "data-76b23ee37bc2ff67a80abf024ce1ae9f"
                    }
                  },
                  {
                    "selection": {
                      "selector041": {
                        "bind": "scales",
                        "type": "interval",
                        "encodings": [
                          "x",
                          "y"
                        ]
                      }
                    },
                    "encoding": {
                      "y": {
                        "field": "HappyLifeYears",
                        "scale": {
                          "domain": [
                            9,
                            59.3
                          ]
                        },
                        "type": "quantitative",
                        "axis": {
                          "title": "HappyLifeYears"
                        }
                      },
                      "x": {
                        "field": "IneqAdjLifeExpectancy",
                        "scale": {
                          "domain": [
                            27.3,
                            81.3
                          ]
                        },
                        "type": "quantitative",
                        "axis": {
                          "title": "IneqAdjLifeExpectancy"
                        }
                      }
                    },
                    "config": {
                      "mark": {
                        "tooltip": {
                          "content": "encoding"
                        }
                      },
                      "axis": {
                        "labelFont": "Helvetica Neue",
                        "labelFontSize": 9,
                        "labelColor": "#505050",
                        "titleFont": "Helvetica Neue",
                        "labelFontWeight": 400,
                        "titleFontSize": 11,
                        "titleFontWeight": 500
                      },
                      "title": {
                        "fontWeight": 500,
                        "font": "Helvetica Neue",
                        "fontSize": 13
                      },
                      "legend": {
                        "labelFont": "Helvetica Neue",
                        "labelFontSize": 9,
                        "titleFont": "Helvetica Neue",
                        "labelFontWeight": 400,
                        "titleFontSize": 10,
                        "titleFontWeight": 500
                      },
                      "view": {
                        "continuousWidth": 400,
                        "continuousHeight": 300
                      }
                    },
                    "height": 150,
                    "width": 160,
                    "datasets": {
                      "data-ea5cc9a73a2e8ea83b00026c67dee9f4": [
                        {
                          "HappyLifeYears": 12.4,
                          "IneqAdjLifeExpectancy": 38.3
                        },
                        {
                          "HappyLifeYears": 34.4,
                          "IneqAdjLifeExpectancy": 69.7
                        },
                        {
                          "HappyLifeYears": 30.5,
                          "IneqAdjLifeExpectancy": 60.5
                        },
                        {
                          "HappyLifeYears": 40.2,
                          "IneqAdjLifeExpectancy": 68.3
                        },
                        {
                          "HappyLifeYears": 24,
                          "IneqAdjLifeExpectancy": 66.9
                        },
                        {
                          "HappyLifeYears": 53.1,
                          "IneqAdjLifeExpectancy": 78.6
                        },
                        {
                          "HappyLifeYears": 54.4,
                          "IneqAdjLifeExpectancy": 78
                        },
                        {
                          "HappyLifeYears": 23.3,
                          "IneqAdjLifeExpectancy": 56.6
                        },
                        {
                          "HappyLifeYears": 34,
                          "IneqAdjLifeExpectancy": 66.7
                        },
                        {
                          "HappyLifeYears": 49.5,
                          "IneqAdjLifeExpectancy": 77.2
                        },
                        {
                          "HappyLifeYears": 34.2,
                          "IneqAdjLifeExpectancy": 61.7
                        },
                        {
                          "HappyLifeYears": 9.9,
                          "IneqAdjLifeExpectancy": 37.3
                        },
                        {
                          "HappyLifeYears": 27.4,
                          "IneqAdjLifeExpectancy": 54.5
                        },
                        {
                          "HappyLifeYears": 25.6,
                          "IneqAdjLifeExpectancy": 47.9
                        },
                        {
                          "HappyLifeYears": 28.6,
                          "IneqAdjLifeExpectancy": 71.1
                        },
                        {
                          "HappyLifeYears": 21.3,
                          "IneqAdjLifeExpectancy": 50.8
                        },
                        {
                          "HappyLifeYears": 39,
                          "IneqAdjLifeExpectancy": 63.3
                        },
                        {
                          "HappyLifeYears": 24,
                          "IneqAdjLifeExpectancy": 68.1
                        },
                        {
                          "HappyLifeYears": 12.6,
                          "IneqAdjLifeExpectancy": 36.5
                        },
                        {
                          "HappyLifeYears": 9.5,
                          "IneqAdjLifeExpectancy": 33
                        },
                        {
                          "HappyLifeYears": 18.2,
                          "IneqAdjLifeExpectancy": 54.2
                        },
                        {
                          "HappyLifeYears": 11.6,
                          "IneqAdjLifeExpectancy": 33.1
                        },
                        {
                          "HappyLifeYears": 53.9,
                          "IneqAdjLifeExpectancy": 77.8
                        },
                        {
                          "HappyLifeYears": 9.6,
                          "IneqAdjLifeExpectancy": 27.3
                        },
                        {
                          "HappyLifeYears": 44.7,
                          "IneqAdjLifeExpectancy": 74.9
                        },
                        {
                          "HappyLifeYears": 30.6,
                          "IneqAdjLifeExpectancy": 68.6
                        },
                        {
                          "HappyLifeYears": 35.1,
                          "IneqAdjLifeExpectancy": 63.1
                        },
                        {
                          "HappyLifeYears": 15.4,
                          "IneqAdjLifeExpectancy": 43.3
                        },
                        {
                          "HappyLifeYears": 48.2,
                          "IneqAdjLifeExpectancy": 72.6
                        },
                        {
                          "HappyLifeYears": 10.3,
                          "IneqAdjLifeExpectancy": 30.6
                        },
                        {
                          "HappyLifeYears": 39.6,
                          "IneqAdjLifeExpectancy": 73.5
                        },
                        {
                          "HappyLifeYears": 42.3,
                          "IneqAdjLifeExpectancy": 76.6
                        },
                        {
                          "HappyLifeYears": 43.4,
                          "IneqAdjLifeExpectancy": 75.5
                        },
                        {
                          "HappyLifeYears": 54.4,
                          "IneqAdjLifeExpectancy": 76.8
                        },
                        {
                          "HappyLifeYears": 15.1,
                          "IneqAdjLifeExpectancy": 41.4
                        },
                        {
                          "HappyLifeYears": 23.7,
                          "IneqAdjLifeExpectancy": 60.8
                        },
                        {
                          "HappyLifeYears": 34.3,
                          "IneqAdjLifeExpectancy": 64.1
                        },
                        {
                          "HappyLifeYears": 21.8,
                          "IneqAdjLifeExpectancy": 61.3
                        },
                        {
                          "HappyLifeYears": 32.2,
                          "IneqAdjLifeExpectancy": 62.5
                        },
                        {
                          "HappyLifeYears": 35,
                          "IneqAdjLifeExpectancy": 72.6
                        },
                        {
                          "HappyLifeYears": 17.8,
                          "IneqAdjLifeExpectancy": 43.8
                        },
                        {
                          "HappyLifeYears": 54.6,
                          "IneqAdjLifeExpectancy": 77.6
                        },
                        {
                          "HappyLifeYears": 48.1,
                          "IneqAdjLifeExpectancy": 78.5
                        },
                        {
                          "HappyLifeYears": 15.4,
                          "IneqAdjLifeExpectancy": 45.8
                        },
                        {
                          "HappyLifeYears": 24.7,
                          "IneqAdjLifeExpectancy": 66.9
                        },
                        {
                          "HappyLifeYears": 48.2,
                          "IneqAdjLifeExpectancy": 77.6
                        },
                        {
                          "HappyLifeYears": 18.8,
                          "IneqAdjLifeExpectancy": 42.2
                        },
                        {
                          "HappyLifeYears": 33.3,
                          "IneqAdjLifeExpectancy": 77.6
                        },
                        {
                          "HappyLifeYears": 29.6,
                          "IneqAdjLifeExpectancy": 59.2
                        },
                        {
                          "HappyLifeYears": 11.8,
                          "IneqAdjLifeExpectancy": 37.2
                        },
                        {
                          "HappyLifeYears": 16.5,
                          "IneqAdjLifeExpectancy": 42.9
                        },
                        {
                          "HappyLifeYears": 22.1,
                          "IneqAdjLifeExpectancy": 58.5
                        },
                        {
                          "HappyLifeYears": 40.1,
                          "IneqAdjLifeExpectancy": 81.3
                        },
                        {
                          "HappyLifeYears": 28.7,
                          "IneqAdjLifeExpectancy": 70.9
                        },
                        {
                          "HappyLifeYears": 58,
                          "IneqAdjLifeExpectancy": 79.8
                        },
                        {
                          "HappyLifeYears": 20.4,
                          "IneqAdjLifeExpectancy": 51.1
                        },
                        {
                          "HappyLifeYears": 28.4,
                          "IneqAdjLifeExpectancy": 57.2
                        },
                        {
                          "HappyLifeYears": 25.4,
                          "IneqAdjLifeExpectancy": 66.9
                        },
                        {
                          "HappyLifeYears": 22.8,
                          "IneqAdjLifeExpectancy": 55.6
                        },
                        {
                          "HappyLifeYears": 50.3,
                          "IneqAdjLifeExpectancy": 77.5
                        },
                        {
                          "HappyLifeYears": 52.5,
                          "IneqAdjLifeExpectancy": 78.7
                        },
                        {
                          "HappyLifeYears": 41.1,
                          "IneqAdjLifeExpectancy": 80.2
                        },
                        {
                          "HappyLifeYears": 31.9,
                          "IneqAdjLifeExpectancy": 66.3
                        },
                        {
                          "HappyLifeYears": 44,
                          "IneqAdjLifeExpectancy": 80.6
                        },
                        {
                          "HappyLifeYears": 31.7,
                          "IneqAdjLifeExpectancy": 60.7
                        },
                        {
                          "HappyLifeYears": 16.2,
                          "IneqAdjLifeExpectancy": 41
                        },
                        {
                          "HappyLifeYears": 28.7,
                          "IneqAdjLifeExpectancy": 60.2
                        },
                        {
                          "HappyLifeYears": 31.2,
                          "IneqAdjLifeExpectancy": 68.7
                        },
                        {
                          "HappyLifeYears": 28.2,
                          "IneqAdjLifeExpectancy": 73.1
                        },
                        {
                          "HappyLifeYears": 13.4,
                          "IneqAdjLifeExpectancy": 32.6
                        },
                        {
                          "HappyLifeYears": 15.7,
                          "IneqAdjLifeExpectancy": 40.3
                        },
                        {
                          "HappyLifeYears": 36.4,
                          "IneqAdjLifeExpectancy": 68.8
                        },
                        {
                          "HappyLifeYears": 51.7,
                          "IneqAdjLifeExpectancy": 79
                        },
                        {
                          "HappyLifeYears": 27.2,
                          "IneqAdjLifeExpectancy": 69.4
                        },
                        {
                          "HappyLifeYears": 13.7,
                          "IneqAdjLifeExpectancy": 40.4
                        },
                        {
                          "HappyLifeYears": 38.3,
                          "IneqAdjLifeExpectancy": 69.5
                        },
                        {
                          "HappyLifeYears": 40.8,
                          "IneqAdjLifeExpectancy": 76.6
                        },
                        {
                          "HappyLifeYears": 18,
                          "IneqAdjLifeExpectancy": 41.5
                        },
                        {
                          "HappyLifeYears": 33.1,
                          "IneqAdjLifeExpectancy": 66.7
                        },
                        {
                          "HappyLifeYears": 44.3,
                          "IneqAdjLifeExpectancy": 66.3
                        },
                        {
                          "HappyLifeYears": 25.3,
                          "IneqAdjLifeExpectancy": 56.9
                        },
                        {
                          "HappyLifeYears": 32.1,
                          "IneqAdjLifeExpectancy": 71.8
                        },
                        {
                          "HappyLifeYears": 26.7,
                          "IneqAdjLifeExpectancy": 61.6
                        },
                        {
                          "HappyLifeYears": 15,
                          "IneqAdjLifeExpectancy": 34.5
                        },
                        {
                          "HappyLifeYears": 18.8,
                          "IneqAdjLifeExpectancy": 48.4
                        },
                        {
                          "HappyLifeYears": 21.3,
                          "IneqAdjLifeExpectancy": 50.1
                        },
                        {
                          "HappyLifeYears": 20.2,
                          "IneqAdjLifeExpectancy": 55.3
                        },
                        {
                          "HappyLifeYears": 57,
                          "IneqAdjLifeExpectancy": 78.2
                        },
                        {
                          "HappyLifeYears": 52.7,
                          "IneqAdjLifeExpectancy": 77.7
                        },
                        {
                          "HappyLifeYears": 29.2,
                          "IneqAdjLifeExpectancy": 63.4
                        },
                        {
                          "HappyLifeYears": 13.1,
                          "IneqAdjLifeExpectancy": 38.9
                        },
                        {
                          "HappyLifeYears": 15.5,
                          "IneqAdjLifeExpectancy": 30.9
                        },
                        {
                          "HappyLifeYears": 57.1,
                          "IneqAdjLifeExpectancy": 78.6
                        },
                        {
                          "HappyLifeYears": 44.5,
                          "IneqAdjLifeExpectancy": 70.9
                        },
                        {
                          "HappyLifeYears": 19.5,
                          "IneqAdjLifeExpectancy": 44.1
                        },
                        {
                          "HappyLifeYears": 24.5,
                          "IneqAdjLifeExpectancy": 62.6
                        },
                        {
                          "HappyLifeYears": 42.1,
                          "IneqAdjLifeExpectancy": 68.3
                        },
                        {
                          "HappyLifeYears": 31.8,
                          "IneqAdjLifeExpectancy": 59.4
                        },
                        {
                          "HappyLifeYears": 32.9,
                          "IneqAdjLifeExpectancy": 63.5
                        },
                        {
                          "HappyLifeYears": 24.1,
                          "IneqAdjLifeExpectancy": 56.9
                        },
                        {
                          "HappyLifeYears": 39.2,
                          "IneqAdjLifeExpectancy": 72.9
                        },
                        {
                          "HappyLifeYears": 32.3,
                          "IneqAdjLifeExpectancy": 77.2
                        },
                        {
                          "HappyLifeYears": 13.6,
                          "IneqAdjLifeExpectancy": 42
                        },
                        {
                          "HappyLifeYears": 30.1,
                          "IneqAdjLifeExpectancy": 68.1
                        },
                        {
                          "HappyLifeYears": 31.7,
                          "IneqAdjLifeExpectancy": 63.4
                        },
                        {
                          "HappyLifeYears": 12.4,
                          "IneqAdjLifeExpectancy": 44.3
                        },
                        {
                          "HappyLifeYears": 15.5,
                          "IneqAdjLifeExpectancy": 49.1
                        },
                        {
                          "HappyLifeYears": 30.3,
                          "IneqAdjLifeExpectancy": 68.6
                        },
                        {
                          "HappyLifeYears": 10.8,
                          "IneqAdjLifeExpectancy": 28.2
                        },
                        {
                          "HappyLifeYears": 37.9,
                          "IneqAdjLifeExpectancy": 71.9
                        },
                        {
                          "HappyLifeYears": 42.6,
                          "IneqAdjLifeExpectancy": 77.1
                        },
                        {
                          "HappyLifeYears": 18.5,
                          "IneqAdjLifeExpectancy": 41.8
                        },
                        {
                          "HappyLifeYears": 42.2,
                          "IneqAdjLifeExpectancy": 78.3
                        },
                        {
                          "HappyLifeYears": 45.3,
                          "IneqAdjLifeExpectancy": 79.3
                        },
                        {
                          "HappyLifeYears": 24.9,
                          "IneqAdjLifeExpectancy": 68.6
                        },
                        {
                          "HappyLifeYears": 35.2,
                          "IneqAdjLifeExpectancy": 61.2
                        },
                        {
                          "HappyLifeYears": 13.6,
                          "IneqAdjLifeExpectancy": 31.8
                        },
                        {
                          "HappyLifeYears": 57.4,
                          "IneqAdjLifeExpectancy": 79.1
                        },
                        {
                          "HappyLifeYears": 59.3,
                          "IneqAdjLifeExpectancy": 79.4
                        },
                        {
                          "HappyLifeYears": 14.7,
                          "IneqAdjLifeExpectancy": 60.2
                        },
                        {
                          "HappyLifeYears": 22.2,
                          "IneqAdjLifeExpectancy": 53
                        },
                        {
                          "HappyLifeYears": 16.2,
                          "IneqAdjLifeExpectancy": 47.7
                        },
                        {
                          "HappyLifeYears": 38.6,
                          "IneqAdjLifeExpectancy": 66.3
                        },
                        {
                          "HappyLifeYears": 9,
                          "IneqAdjLifeExpectancy": 39.6
                        },
                        {
                          "HappyLifeYears": 34.4,
                          "IneqAdjLifeExpectancy": 58.4
                        },
                        {
                          "HappyLifeYears": 25.2,
                          "IneqAdjLifeExpectancy": 65.5
                        },
                        {
                          "HappyLifeYears": 31.2,
                          "IneqAdjLifeExpectancy": 66.2
                        },
                        {
                          "HappyLifeYears": 24,
                          "IneqAdjLifeExpectancy": 48.3
                        },
                        {
                          "HappyLifeYears": 13.8,
                          "IneqAdjLifeExpectancy": 36.8
                        },
                        {
                          "HappyLifeYears": 28.3,
                          "IneqAdjLifeExpectancy": 64.2
                        },
                        {
                          "HappyLifeYears": 49.1,
                          "IneqAdjLifeExpectancy": 76.8
                        },
                        {
                          "HappyLifeYears": 46.8,
                          "IneqAdjLifeExpectancy": 74
                        },
                        {
                          "HappyLifeYears": 39.4,
                          "IneqAdjLifeExpectancy": 69.6
                        },
                        {
                          "HappyLifeYears": 27.9,
                          "IneqAdjLifeExpectancy": 51.6
                        },
                        {
                          "HappyLifeYears": 34.9,
                          "IneqAdjLifeExpectancy": 60.3
                        },
                        {
                          "HappyLifeYears": 41.5,
                          "IneqAdjLifeExpectancy": 65.5
                        },
                        {
                          "HappyLifeYears": 32.8,
                          "IneqAdjLifeExpectancy": 64.8
                        },
                        {
                          "HappyLifeYears": 15.2,
                          "IneqAdjLifeExpectancy": 44.7
                        },
                        {
                          "HappyLifeYears": 16.7,
                          "IneqAdjLifeExpectancy": 38.7
                        },
                        {
                          "HappyLifeYears": 16.4,
                          "IneqAdjLifeExpectancy": 36.9
                        }
                      ]
                    },
                    "vislib": "vegalite",
                    "$schema": "https://vega.github.io/schema/vega-lite/v4.8.1.json",
                    "mark": "circle",
                    "data": {
                      "name": "data-ea5cc9a73a2e8ea83b00026c67dee9f4"
                    }
                  },
                  {
                    "selection": {
                      "selector042": {
                        "bind": "scales",
                        "type": "interval",
                        "encodings": [
                          "x",
                          "y"
                        ]
                      }
                    },
                    "encoding": {
                      "y": {
                        "field": "HappyLifeYears",
                        "scale": {
                          "domain": [
                            9,
                            59.3
                          ]
                        },
                        "type": "quantitative",
                        "axis": {
                          "title": "HappyLifeYears"
                        }
                      },
                      "x": {
                        "field": "AvrgLifeExpectancy",
                        "scale": {
                          "domain": [
                            48.9,
                            83.6
                          ]
                        },
                        "type": "quantitative",
                        "axis": {
                          "title": "AvrgLifeExpectancy"
                        }
                      }
                    },
                    "config": {
                      "mark": {
                        "tooltip": {
                          "content": "encoding"
                        }
                      },
                      "axis": {
                        "labelFont": "Helvetica Neue",
                        "labelFontSize": 9,
                        "labelColor": "#505050",
                        "titleFont": "Helvetica Neue",
                        "labelFontWeight": 400,
                        "titleFontSize": 11,
                        "titleFontWeight": 500
                      },
                      "title": {
                        "fontWeight": 500,
                        "font": "Helvetica Neue",
                        "fontSize": 13
                      },
                      "legend": {
                        "labelFont": "Helvetica Neue",
                        "labelFontSize": 9,
                        "titleFont": "Helvetica Neue",
                        "labelFontWeight": 400,
                        "titleFontSize": 10,
                        "titleFontWeight": 500
                      },
                      "view": {
                        "continuousWidth": 400,
                        "continuousHeight": 300
                      }
                    },
                    "height": 150,
                    "width": 160,
                    "datasets": {
                      "data-86618f86f42132be30d46a9b05c6e37d": [
                        {
                          "HappyLifeYears": 12.4,
                          "AvrgLifeExpectancy": 59.7
                        },
                        {
                          "HappyLifeYears": 34.4,
                          "AvrgLifeExpectancy": 77.3
                        },
                        {
                          "HappyLifeYears": 30.5,
                          "AvrgLifeExpectancy": 74.3
                        },
                        {
                          "HappyLifeYears": 40.2,
                          "AvrgLifeExpectancy": 75.9
                        },
                        {
                          "HappyLifeYears": 24,
                          "AvrgLifeExpectancy": 74.4
                        },
                        {
                          "HappyLifeYears": 53.1,
                          "AvrgLifeExpectancy": 82.1
                        },
                        {
                          "HappyLifeYears": 54.4,
                          "AvrgLifeExpectancy": 81
                        },
                        {
                          "HappyLifeYears": 23.3,
                          "AvrgLifeExpectancy": 70.8
                        },
                        {
                          "HappyLifeYears": 34,
                          "AvrgLifeExpectancy": 70.9
                        },
                        {
                          "HappyLifeYears": 49.5,
                          "AvrgLifeExpectancy": 80.4
                        },
                        {
                          "HappyLifeYears": 34.2,
                          "AvrgLifeExpectancy": 69.8
                        },
                        {
                          "HappyLifeYears": 9.9,
                          "AvrgLifeExpectancy": 59.2
                        },
                        {
                          "HappyLifeYears": 27.4,
                          "AvrgLifeExpectancy": 68.7
                        },
                        {
                          "HappyLifeYears": 25.6,
                          "AvrgLifeExpectancy": 67.5
                        },
                        {
                          "HappyLifeYears": 28.6,
                          "AvrgLifeExpectancy": 76.2
                        },
                        {
                          "HappyLifeYears": 21.3,
                          "AvrgLifeExpectancy": 64.2
                        },
                        {
                          "HappyLifeYears": 39,
                          "AvrgLifeExpectancy": 73.9
                        },
                        {
                          "HappyLifeYears": 24,
                          "AvrgLifeExpectancy": 73.9
                        },
                        {
                          "HappyLifeYears": 12.6,
                          "AvrgLifeExpectancy": 58
                        },
                        {
                          "HappyLifeYears": 9.5,
                          "AvrgLifeExpectancy": 55.8
                        },
                        {
                          "HappyLifeYears": 18.2,
                          "AvrgLifeExpectancy": 67.5
                        },
                        {
                          "HappyLifeYears": 11.6,
                          "AvrgLifeExpectancy": 54.6
                        },
                        {
                          "HappyLifeYears": 53.9,
                          "AvrgLifeExpectancy": 81.7
                        },
                        {
                          "HappyLifeYears": 9.6,
                          "AvrgLifeExpectancy": 50.8
                        },
                        {
                          "HappyLifeYears": 44.7,
                          "AvrgLifeExpectancy": 81.1
                        },
                        {
                          "HappyLifeYears": 30.6,
                          "AvrgLifeExpectancy": 75.4
                        },
                        {
                          "HappyLifeYears": 35.1,
                          "AvrgLifeExpectancy": 73.7
                        },
                        {
                          "HappyLifeYears": 15.4,
                          "AvrgLifeExpectancy": 62.6
                        },
                        {
                          "HappyLifeYears": 48.2,
                          "AvrgLifeExpectancy": 79.1
                        },
                        {
                          "HappyLifeYears": 10.3,
                          "AvrgLifeExpectancy": 50.8
                        },
                        {
                          "HappyLifeYears": 39.6,
                          "AvrgLifeExpectancy": 77
                        },
                        {
                          "HappyLifeYears": 42.3,
                          "AvrgLifeExpectancy": 79.8
                        },
                        {
                          "HappyLifeYears": 43.4,
                          "AvrgLifeExpectancy": 78.2
                        },
                        {
                          "HappyLifeYears": 54.4,
                          "AvrgLifeExpectancy": 79.8
                        },
                        {
                          "HappyLifeYears": 15.1,
                          "AvrgLifeExpectancy": 61.3
                        },
                        {
                          "HappyLifeYears": 23.7,
                          "AvrgLifeExpectancy": 73.1
                        },
                        {
                          "HappyLifeYears": 34.3,
                          "AvrgLifeExpectancy": 75.4
                        },
                        {
                          "HappyLifeYears": 21.8,
                          "AvrgLifeExpectancy": 70.7
                        },
                        {
                          "HappyLifeYears": 32.2,
                          "AvrgLifeExpectancy": 72.5
                        },
                        {
                          "HappyLifeYears": 35,
                          "AvrgLifeExpectancy": 76.2
                        },
                        {
                          "HappyLifeYears": 17.8,
                          "AvrgLifeExpectancy": 62.8
                        },
                        {
                          "HappyLifeYears": 54.6,
                          "AvrgLifeExpectancy": 80.4
                        },
                        {
                          "HappyLifeYears": 48.1,
                          "AvrgLifeExpectancy": 81.8
                        },
                        {
                          "HappyLifeYears": 15.4,
                          "AvrgLifeExpectancy": 63.3
                        },
                        {
                          "HappyLifeYears": 24.7,
                          "AvrgLifeExpectancy": 74.6
                        },
                        {
                          "HappyLifeYears": 48.2,
                          "AvrgLifeExpectancy": 80.6
                        },
                        {
                          "HappyLifeYears": 18.8,
                          "AvrgLifeExpectancy": 61
                        },
                        {
                          "HappyLifeYears": 33.3,
                          "AvrgLifeExpectancy": 80.5
                        },
                        {
                          "HappyLifeYears": 29.6,
                          "AvrgLifeExpectancy": 71.4
                        },
                        {
                          "HappyLifeYears": 11.8,
                          "AvrgLifeExpectancy": 57.7
                        },
                        {
                          "HappyLifeYears": 16.5,
                          "AvrgLifeExpectancy": 62.1
                        },
                        {
                          "HappyLifeYears": 22.1,
                          "AvrgLifeExpectancy": 72.8
                        },
                        {
                          "HappyLifeYears": 40.1,
                          "AvrgLifeExpectancy": 83.6
                        },
                        {
                          "HappyLifeYears": 28.7,
                          "AvrgLifeExpectancy": 74.9
                        },
                        {
                          "HappyLifeYears": 58,
                          "AvrgLifeExpectancy": 82.2
                        },
                        {
                          "HappyLifeYears": 20.4,
                          "AvrgLifeExpectancy": 67.3
                        },
                        {
                          "HappyLifeYears": 28.4,
                          "AvrgLifeExpectancy": 68.5
                        },
                        {
                          "HappyLifeYears": 25.4,
                          "AvrgLifeExpectancy": 74.8
                        },
                        {
                          "HappyLifeYears": 22.8,
                          "AvrgLifeExpectancy": 69
                        },
                        {
                          "HappyLifeYears": 50.3,
                          "AvrgLifeExpectancy": 80.5
                        },
                        {
                          "HappyLifeYears": 52.5,
                          "AvrgLifeExpectancy": 81.9
                        },
                        {
                          "HappyLifeYears": 41.1,
                          "AvrgLifeExpectancy": 82.7
                        },
                        {
                          "HappyLifeYears": 31.9,
                          "AvrgLifeExpectancy": 75.3
                        },
                        {
                          "HappyLifeYears": 44,
                          "AvrgLifeExpectancy": 83.2
                        },
                        {
                          "HappyLifeYears": 31.7,
                          "AvrgLifeExpectancy": 68.6
                        },
                        {
                          "HappyLifeYears": 16.2,
                          "AvrgLifeExpectancy": 60.3
                        },
                        {
                          "HappyLifeYears": 28.7,
                          "AvrgLifeExpectancy": 69.7
                        },
                        {
                          "HappyLifeYears": 31.2,
                          "AvrgLifeExpectancy": 73.6
                        },
                        {
                          "HappyLifeYears": 28.2,
                          "AvrgLifeExpectancy": 78.8
                        },
                        {
                          "HappyLifeYears": 13.4,
                          "AvrgLifeExpectancy": 48.9
                        },
                        {
                          "HappyLifeYears": 15.7,
                          "AvrgLifeExpectancy": 60.2
                        },
                        {
                          "HappyLifeYears": 36.4,
                          "AvrgLifeExpectancy": 72.8
                        },
                        {
                          "HappyLifeYears": 51.7,
                          "AvrgLifeExpectancy": 81.1
                        },
                        {
                          "HappyLifeYears": 27.2,
                          "AvrgLifeExpectancy": 75.1
                        },
                        {
                          "HappyLifeYears": 13.7,
                          "AvrgLifeExpectancy": 60.1
                        },
                        {
                          "HappyLifeYears": 38.3,
                          "AvrgLifeExpectancy": 74.4
                        },
                        {
                          "HappyLifeYears": 40.8,
                          "AvrgLifeExpectancy": 80.2
                        },
                        {
                          "HappyLifeYears": 18,
                          "AvrgLifeExpectancy": 62.6
                        },
                        {
                          "HappyLifeYears": 33.1,
                          "AvrgLifeExpectancy": 74
                        },
                        {
                          "HappyLifeYears": 44.3,
                          "AvrgLifeExpectancy": 76.4
                        },
                        {
                          "HappyLifeYears": 25.3,
                          "AvrgLifeExpectancy": 68.6
                        },
                        {
                          "HappyLifeYears": 32.1,
                          "AvrgLifeExpectancy": 75.8
                        },
                        {
                          "HappyLifeYears": 26.7,
                          "AvrgLifeExpectancy": 73.4
                        },
                        {
                          "HappyLifeYears": 15,
                          "AvrgLifeExpectancy": 54.3
                        },
                        {
                          "HappyLifeYears": 18.8,
                          "AvrgLifeExpectancy": 65.5
                        },
                        {
                          "HappyLifeYears": 21.3,
                          "AvrgLifeExpectancy": 64
                        },
                        {
                          "HappyLifeYears": 20.2,
                          "AvrgLifeExpectancy": 68.8
                        },
                        {
                          "HappyLifeYears": 57,
                          "AvrgLifeExpectancy": 81.2
                        },
                        {
                          "HappyLifeYears": 52.7,
                          "AvrgLifeExpectancy": 81.4
                        },
                        {
                          "HappyLifeYears": 29.2,
                          "AvrgLifeExpectancy": 74.3
                        },
                        {
                          "HappyLifeYears": 13.1,
                          "AvrgLifeExpectancy": 60
                        },
                        {
                          "HappyLifeYears": 15.5,
                          "AvrgLifeExpectancy": 52.1
                        },
                        {
                          "HappyLifeYears": 57.1,
                          "AvrgLifeExpectancy": 81.3
                        },
                        {
                          "HappyLifeYears": 44.5,
                          "AvrgLifeExpectancy": 76.3
                        },
                        {
                          "HappyLifeYears": 19.5,
                          "AvrgLifeExpectancy": 65.7
                        },
                        {
                          "HappyLifeYears": 24.5,
                          "AvrgLifeExpectancy": 72.6
                        },
                        {
                          "HappyLifeYears": 42.1,
                          "AvrgLifeExpectancy": 77.2
                        },
                        {
                          "HappyLifeYears": 31.8,
                          "AvrgLifeExpectancy": 72.6
                        },
                        {
                          "HappyLifeYears": 32.9,
                          "AvrgLifeExpectancy": 74.1
                        },
                        {
                          "HappyLifeYears": 24.1,
                          "AvrgLifeExpectancy": 67.9
                        },
                        {
                          "HappyLifeYears": 39.2,
                          "AvrgLifeExpectancy": 76.9
                        },
                        {
                          "HappyLifeYears": 32.3,
                          "AvrgLifeExpectancy": 80.3
                        },
                        {
                          "HappyLifeYears": 13.6,
                          "AvrgLifeExpectancy": 61
                        },
                        {
                          "HappyLifeYears": 30.1,
                          "AvrgLifeExpectancy": 74.3
                        },
                        {
                          "HappyLifeYears": 31.7,
                          "AvrgLifeExpectancy": 69.5
                        },
                        {
                          "HappyLifeYears": 12.4,
                          "AvrgLifeExpectancy": 63.1
                        },
                        {
                          "HappyLifeYears": 15.5,
                          "AvrgLifeExpectancy": 65.4
                        },
                        {
                          "HappyLifeYears": 30.3,
                          "AvrgLifeExpectancy": 74.5
                        },
                        {
                          "HappyLifeYears": 10.8,
                          "AvrgLifeExpectancy": 49.8
                        },
                        {
                          "HappyLifeYears": 37.9,
                          "AvrgLifeExpectancy": 75.9
                        },
                        {
                          "HappyLifeYears": 42.6,
                          "AvrgLifeExpectancy": 80
                        },
                        {
                          "HappyLifeYears": 18.5,
                          "AvrgLifeExpectancy": 56.3
                        },
                        {
                          "HappyLifeYears": 42.2,
                          "AvrgLifeExpectancy": 81.3
                        },
                        {
                          "HappyLifeYears": 45.3,
                          "AvrgLifeExpectancy": 82.2
                        },
                        {
                          "HappyLifeYears": 24.9,
                          "AvrgLifeExpectancy": 74.6
                        },
                        {
                          "HappyLifeYears": 35.2,
                          "AvrgLifeExpectancy": 70.8
                        },
                        {
                          "HappyLifeYears": 13.6,
                          "AvrgLifeExpectancy": 48.9
                        },
                        {
                          "HappyLifeYears": 57.4,
                          "AvrgLifeExpectancy": 81.8
                        },
                        {
                          "HappyLifeYears": 59.3,
                          "AvrgLifeExpectancy": 82.6
                        },
                        {
                          "HappyLifeYears": 14.7,
                          "AvrgLifeExpectancy": 70.4
                        },
                        {
                          "HappyLifeYears": 22.2,
                          "AvrgLifeExpectancy": 69
                        },
                        {
                          "HappyLifeYears": 16.2,
                          "AvrgLifeExpectancy": 63.5
                        },
                        {
                          "HappyLifeYears": 38.6,
                          "AvrgLifeExpectancy": 74.1
                        },
                        {
                          "HappyLifeYears": 9,
                          "AvrgLifeExpectancy": 58.6
                        },
                        {
                          "HappyLifeYears": 34.4,
                          "AvrgLifeExpectancy": 70.1
                        },
                        {
                          "HappyLifeYears": 25.2,
                          "AvrgLifeExpectancy": 74.6
                        },
                        {
                          "HappyLifeYears": 31.2,
                          "AvrgLifeExpectancy": 74.7
                        },
                        {
                          "HappyLifeYears": 24,
                          "AvrgLifeExpectancy": 65.3
                        },
                        {
                          "HappyLifeYears": 13.8,
                          "AvrgLifeExpectancy": 57.1
                        },
                        {
                          "HappyLifeYears": 28.3,
                          "AvrgLifeExpectancy": 70.3
                        },
                        {
                          "HappyLifeYears": 49.1,
                          "AvrgLifeExpectancy": 80.4
                        },
                        {
                          "HappyLifeYears": 46.8,
                          "AvrgLifeExpectancy": 78.8
                        },
                        {
                          "HappyLifeYears": 39.4,
                          "AvrgLifeExpectancy": 76.9
                        },
                        {
                          "HappyLifeYears": 27.9,
                          "AvrgLifeExpectancy": 68.2
                        },
                        {
                          "HappyLifeYears": 34.9,
                          "AvrgLifeExpectancy": 71.3
                        },
                        {
                          "HappyLifeYears": 41.5,
                          "AvrgLifeExpectancy": 73.9
                        },
                        {
                          "HappyLifeYears": 32.8,
                          "AvrgLifeExpectancy": 75.5
                        },
                        {
                          "HappyLifeYears": 15.2,
                          "AvrgLifeExpectancy": 63.3
                        },
                        {
                          "HappyLifeYears": 16.7,
                          "AvrgLifeExpectancy": 58.4
                        },
                        {
                          "HappyLifeYears": 16.4,
                          "AvrgLifeExpectancy": 53.7
                        }
                      ]
                    },
                    "vislib": "vegalite",
                    "$schema": "https://vega.github.io/schema/vega-lite/v4.8.1.json",
                    "mark": "circle",
                    "data": {
                      "name": "data-86618f86f42132be30d46a9b05c6e37d"
                    }
                  },
                  {
                    "selection": {
                      "selector043": {
                        "bind": "scales",
                        "type": "interval",
                        "encodings": [
                          "x",
                          "y"
                        ]
                      }
                    },
                    "encoding": {
                      "y": {
                        "field": "GDPPerCapita",
                        "scale": {
                          "domain": [
                            244,
                            105447
                          ]
                        },
                        "type": "quantitative",
                        "axis": {
                          "title": "GDPPerCapita"
                        }
                      },
                      "x": {
                        "field": "HappyLifeYears",
                        "scale": {
                          "domain": [
                            9,
                            59.3
                          ]
                        },
                        "type": "quantitative",
                        "axis": {
                          "title": "HappyLifeYears"
                        }
                      }
                    },
                    "config": {
                      "mark": {
                        "tooltip": {
                          "content": "encoding"
                        }
                      },
                      "axis": {
                        "labelFont": "Helvetica Neue",
                        "labelFontSize": 9,
                        "labelColor": "#505050",
                        "titleFont": "Helvetica Neue",
                        "labelFontWeight": 400,
                        "titleFontSize": 11,
                        "titleFontWeight": 500
                      },
                      "title": {
                        "fontWeight": 500,
                        "font": "Helvetica Neue",
                        "fontSize": 13
                      },
                      "legend": {
                        "labelFont": "Helvetica Neue",
                        "labelFontSize": 9,
                        "titleFont": "Helvetica Neue",
                        "labelFontWeight": 400,
                        "titleFontSize": 10,
                        "titleFontWeight": 500
                      },
                      "view": {
                        "continuousWidth": 400,
                        "continuousHeight": 300
                      }
                    },
                    "height": 150,
                    "width": 160,
                    "datasets": {
                      "data-c88618cb02f8c4e1d4f5dfaf70277945": [
                        {
                          "GDPPerCapita": 691,
                          "HappyLifeYears": 12.4
                        },
                        {
                          "GDPPerCapita": 4247,
                          "HappyLifeYears": 34.4
                        },
                        {
                          "GDPPerCapita": 5584,
                          "HappyLifeYears": 30.5
                        },
                        {
                          "GDPPerCapita": 14357,
                          "HappyLifeYears": 40.2
                        },
                        {
                          "GDPPerCapita": 3566,
                          "HappyLifeYears": 24
                        },
                        {
                          "GDPPerCapita": 67646,
                          "HappyLifeYears": 53.1
                        },
                        {
                          "GDPPerCapita": 48324,
                          "HappyLifeYears": 54.4
                        },
                        {
                          "GDPPerCapita": 859,
                          "HappyLifeYears": 23.3
                        },
                        {
                          "GDPPerCapita": 6722,
                          "HappyLifeYears": 34
                        },
                        {
                          "GDPPerCapita": 44731,
                          "HappyLifeYears": 49.5
                        },
                        {
                          "GDPPerCapita": 4674,
                          "HappyLifeYears": 34.2
                        },
                        {
                          "GDPPerCapita": 808,
                          "HappyLifeYears": 9.9
                        },
                        {
                          "GDPPerCapita": 2452,
                          "HappyLifeYears": 27.4
                        },
                        {
                          "GDPPerCapita": 2645,
                          "HappyLifeYears": 25.6
                        },
                        {
                          "GDPPerCapita": 4495,
                          "HappyLifeYears": 28.6
                        },
                        {
                          "GDPPerCapita": 6936,
                          "HappyLifeYears": 21.3
                        },
                        {
                          "GDPPerCapita": 12157,
                          "HappyLifeYears": 39
                        },
                        {
                          "GDPPerCapita": 7333,
                          "HappyLifeYears": 24
                        },
                        {
                          "GDPPerCapita": 673,
                          "HappyLifeYears": 12.6
                        },
                        {
                          "GDPPerCapita": 244,
                          "HappyLifeYears": 9.5
                        },
                        {
                          "GDPPerCapita": 946,
                          "HappyLifeYears": 18.2
                        },
                        {
                          "GDPPerCapita": 1222,
                          "HappyLifeYears": 11.6
                        },
                        {
                          "GDPPerCapita": 52738,
                          "HappyLifeYears": 53.9
                        },
                        {
                          "GDPPerCapita": 973,
                          "HappyLifeYears": 9.6
                        },
                        {
                          "GDPPerCapita": 15253,
                          "HappyLifeYears": 44.7
                        },
                        {
                          "GDPPerCapita": 6265,
                          "HappyLifeYears": 30.6
                        },
                        {
                          "GDPPerCapita": 7885,
                          "HappyLifeYears": 35.1
                        },
                        {
                          "GDPPerCapita": 750,
                          "HappyLifeYears": 15.4
                        },
                        {
                          "GDPPerCapita": 9733,
                          "HappyLifeYears": 48.2
                        },
                        {
                          "GDPPerCapita": 1281,
                          "HappyLifeYears": 10.3
                        },
                        {
                          "GDPPerCapita": 13236,
                          "HappyLifeYears": 39.6
                        },
                        {
                          "GDPPerCapita": 28868,
                          "HappyLifeYears": 42.3
                        },
                        {
                          "GDPPerCapita": 19641,
                          "HappyLifeYears": 43.4
                        },
                        {
                          "GDPPerCapita": 57636,
                          "HappyLifeYears": 54.4
                        },
                        {
                          "GDPPerCapita": 1587,
                          "HappyLifeYears": 15.1
                        },
                        {
                          "GDPPerCapita": 5967,
                          "HappyLifeYears": 23.7
                        },
                        {
                          "GDPPerCapita": 5702,
                          "HappyLifeYears": 34.3
                        },
                        {
                          "GDPPerCapita": 3226,
                          "HappyLifeYears": 21.8
                        },
                        {
                          "GDPPerCapita": 3922,
                          "HappyLifeYears": 32.2
                        },
                        {
                          "GDPPerCapita": 17491,
                          "HappyLifeYears": 35
                        },
                        {
                          "GDPPerCapita": 470,
                          "HappyLifeYears": 17.8
                        },
                        {
                          "GDPPerCapita": 47416,
                          "HappyLifeYears": 54.6
                        },
                        {
                          "GDPPerCapita": 40850,
                          "HappyLifeYears": 48.1
                        },
                        {
                          "GDPPerCapita": 10642,
                          "HappyLifeYears": 15.4
                        },
                        {
                          "GDPPerCapita": 4143,
                          "HappyLifeYears": 24.7
                        },
                        {
                          "GDPPerCapita": 44011,
                          "HappyLifeYears": 48.2
                        },
                        {
                          "GDPPerCapita": 1642,
                          "HappyLifeYears": 18.8
                        },
                        {
                          "GDPPerCapita": 22243,
                          "HappyLifeYears": 33.3
                        },
                        {
                          "GDPPerCapita": 3279,
                          "HappyLifeYears": 29.6
                        },
                        {
                          "GDPPerCapita": 487,
                          "HappyLifeYears": 11.8
                        },
                        {
                          "GDPPerCapita": 767,
                          "HappyLifeYears": 16.5
                        },
                        {
                          "GDPPerCapita": 2395,
                          "HappyLifeYears": 22.1
                        },
                        {
                          "GDPPerCapita": 36708,
                          "HappyLifeYears": 40.1
                        },
                        {
                          "GDPPerCapita": 12820,
                          "HappyLifeYears": 28.7
                        },
                        {
                          "GDPPerCapita": 44259,
                          "HappyLifeYears": 58
                        },
                        {
                          "GDPPerCapita": 1450,
                          "HappyLifeYears": 20.4
                        },
                        {
                          "GDPPerCapita": 3701,
                          "HappyLifeYears": 28.4
                        },
                        {
                          "GDPPerCapita": 7711,
                          "HappyLifeYears": 25.4
                        },
                        {
                          "GDPPerCapita": 6649,
                          "HappyLifeYears": 22.8
                        },
                        {
                          "GDPPerCapita": 48977,
                          "HappyLifeYears": 50.3
                        },
                        {
                          "GDPPerCapita": 32819,
                          "HappyLifeYears": 52.5
                        },
                        {
                          "GDPPerCapita": 34844,
                          "HappyLifeYears": 41.1
                        },
                        {
                          "GDPPerCapita": 5446,
                          "HappyLifeYears": 31.9
                        },
                        {
                          "GDPPerCapita": 46679,
                          "HappyLifeYears": 44
                        },
                        {
                          "GDPPerCapita": 12120,
                          "HappyLifeYears": 31.7
                        },
                        {
                          "GDPPerCapita": 1185,
                          "HappyLifeYears": 16.2
                        },
                        {
                          "GDPPerCapita": 1178,
                          "HappyLifeYears": 28.7
                        },
                        {
                          "GDPPerCapita": 13775,
                          "HappyLifeYears": 31.2
                        },
                        {
                          "GDPPerCapita": 9729,
                          "HappyLifeYears": 28.2
                        },
                        {
                          "GDPPerCapita": 1159,
                          "HappyLifeYears": 13.4
                        },
                        {
                          "GDPPerCapita": 414,
                          "HappyLifeYears": 15.7
                        },
                        {
                          "GDPPerCapita": 14343,
                          "HappyLifeYears": 36.4
                        },
                        {
                          "GDPPerCapita": 105447,
                          "HappyLifeYears": 51.7
                        },
                        {
                          "GDPPerCapita": 4710,
                          "HappyLifeYears": 27.2
                        },
                        {
                          "GDPPerCapita": 270,
                          "HappyLifeYears": 13.7
                        },
                        {
                          "GDPPerCapita": 10835,
                          "HappyLifeYears": 38.3
                        },
                        {
                          "GDPPerCapita": 21176,
                          "HappyLifeYears": 40.8
                        },
                        {
                          "GDPPerCapita": 1283,
                          "HappyLifeYears": 18
                        },
                        {
                          "GDPPerCapita": 9114,
                          "HappyLifeYears": 33.1
                        },
                        {
                          "GDPPerCapita": 9703,
                          "HappyLifeYears": 44.3
                        },
                        {
                          "GDPPerCapita": 4377,
                          "HappyLifeYears": 25.3
                        },
                        {
                          "GDPPerCapita": 6587,
                          "HappyLifeYears": 32.1
                        },
                        {
                          "GDPPerCapita": 2931,
                          "HappyLifeYears": 26.7
                        },
                        {
                          "GDPPerCapita": 565,
                          "HappyLifeYears": 15
                        },
                        {
                          "GDPPerCapita": 1421,
                          "HappyLifeYears": 18.8
                        },
                        {
                          "GDPPerCapita": 5680,
                          "HappyLifeYears": 21.3
                        },
                        {
                          "GDPPerCapita": 685,
                          "HappyLifeYears": 20.2
                        },
                        {
                          "GDPPerCapita": 49475,
                          "HappyLifeYears": 57
                        },
                        {
                          "GDPPerCapita": 39505,
                          "HappyLifeYears": 52.7
                        },
                        {
                          "GDPPerCapita": 1780,
                          "HappyLifeYears": 29.2
                        },
                        {
                          "GDPPerCapita": 394,
                          "HappyLifeYears": 13.1
                        },
                        {
                          "GDPPerCapita": 2740,
                          "HappyLifeYears": 15.5
                        },
                        {
                          "GDPPerCapita": 101564,
                          "HappyLifeYears": 57.1
                        },
                        {
                          "GDPPerCapita": 21534,
                          "HappyLifeYears": 44.5
                        },
                        {
                          "GDPPerCapita": 1266,
                          "HappyLifeYears": 19.5
                        },
                        {
                          "GDPPerCapita": 2783,
                          "HappyLifeYears": 24.5
                        },
                        {
                          "GDPPerCapita": 10139,
                          "HappyLifeYears": 42.1
                        },
                        {
                          "GDPPerCapita": 3858,
                          "HappyLifeYears": 31.8
                        },
                        {
                          "GDPPerCapita": 6389,
                          "HappyLifeYears": 32.9
                        },
                        {
                          "GDPPerCapita": 2605,
                          "HappyLifeYears": 24.1
                        },
                        {
                          "GDPPerCapita": 13142,
                          "HappyLifeYears": 39.2
                        },
                        {
                          "GDPPerCapita": 20577,
                          "HappyLifeYears": 32.3
                        },
                        {
                          "GDPPerCapita": 3191,
                          "HappyLifeYears": 13.6
                        },
                        {
                          "GDPPerCapita": 8577,
                          "HappyLifeYears": 30.1
                        },
                        {
                          "GDPPerCapita": 14079,
                          "HappyLifeYears": 31.7
                        },
                        {
                          "GDPPerCapita": 667,
                          "HappyLifeYears": 12.4
                        },
                        {
                          "GDPPerCapita": 1019,
                          "HappyLifeYears": 15.5
                        },
                        {
                          "GDPPerCapita": 5659,
                          "HappyLifeYears": 30.3
                        },
                        {
                          "GDPPerCapita": 619,
                          "HappyLifeYears": 10.8
                        },
                        {
                          "GDPPerCapita": 17207,
                          "HappyLifeYears": 37.9
                        },
                        {
                          "GDPPerCapita": 22478,
                          "HappyLifeYears": 42.6
                        },
                        {
                          "GDPPerCapita": 7592,
                          "HappyLifeYears": 18.5
                        },
                        {
                          "GDPPerCapita": 24454,
                          "HappyLifeYears": 42.2
                        },
                        {
                          "GDPPerCapita": 28648,
                          "HappyLifeYears": 45.3
                        },
                        {
                          "GDPPerCapita": 3351,
                          "HappyLifeYears": 24.9
                        },
                        {
                          "GDPPerCapita": 9422,
                          "HappyLifeYears": 35.2
                        },
                        {
                          "GDPPerCapita": 3989,
                          "HappyLifeYears": 13.6
                        },
                        {
                          "GDPPerCapita": 57134,
                          "HappyLifeYears": 57.4
                        },
                        {
                          "GDPPerCapita": 83209,
                          "HappyLifeYears": 59.3
                        },
                        {
                          "GDPPerCapita": 2080,
                          "HappyLifeYears": 14.7
                        },
                        {
                          "GDPPerCapita": 962,
                          "HappyLifeYears": 22.2
                        },
                        {
                          "GDPPerCapita": 828,
                          "HappyLifeYears": 16.2
                        },
                        {
                          "GDPPerCapita": 5918,
                          "HappyLifeYears": 38.6
                        },
                        {
                          "GDPPerCapita": 580,
                          "HappyLifeYears": 9
                        },
                        {
                          "GDPPerCapita": 18322,
                          "HappyLifeYears": 34.4
                        },
                        {
                          "GDPPerCapita": 4188,
                          "HappyLifeYears": 25.2
                        },
                        {
                          "GDPPerCapita": 10646,
                          "HappyLifeYears": 31.2
                        },
                        {
                          "GDPPerCapita": 6798,
                          "HappyLifeYears": 24
                        },
                        {
                          "GDPPerCapita": 656,
                          "HappyLifeYears": 13.8
                        },
                        {
                          "GDPPerCapita": 3855,
                          "HappyLifeYears": 28.3
                        },
                        {
                          "GDPPerCapita": 41295,
                          "HappyLifeYears": 49.1
                        },
                        {
                          "GDPPerCapita": 51457,
                          "HappyLifeYears": 46.8
                        },
                        {
                          "GDPPerCapita": 15128,
                          "HappyLifeYears": 39.4
                        },
                        {
                          "GDPPerCapita": 1719,
                          "HappyLifeYears": 27.9
                        },
                        {
                          "GDPPerCapita": 3158,
                          "HappyLifeYears": 34.9
                        },
                        {
                          "GDPPerCapita": 12772,
                          "HappyLifeYears": 41.5
                        },
                        {
                          "GDPPerCapita": 1755,
                          "HappyLifeYears": 32.8
                        },
                        {
                          "GDPPerCapita": 1289,
                          "HappyLifeYears": 15.2
                        },
                        {
                          "GDPPerCapita": 1687,
                          "HappyLifeYears": 16.7
                        },
                        {
                          "GDPPerCapita": 851,
                          "HappyLifeYears": 16.4
                        }
                      ]
                    },
                    "vislib": "vegalite",
                    "$schema": "https://vega.github.io/schema/vega-lite/v4.8.1.json",
                    "mark": "circle",
                    "data": {
                      "name": "data-c88618cb02f8c4e1d4f5dfaf70277945"
                    }
                  },
                  {
                    "selection": {
                      "selector044": {
                        "bind": "scales",
                        "type": "interval",
                        "encodings": [
                          "x",
                          "y"
                        ]
                      }
                    },
                    "encoding": {
                      "y": {
                        "field": "GDPPerCapita",
                        "scale": {
                          "domain": [
                            244,
                            105447
                          ]
                        },
                        "type": "quantitative",
                        "axis": {
                          "title": "GDPPerCapita"
                        }
                      },
                      "x": {
                        "field": "Footprint",
                        "scale": {
                          "domain": [
                            0.6,
                            15.8
                          ]
                        },
                        "type": "quantitative",
                        "axis": {
                          "title": "Footprint"
                        }
                      }
                    },
                    "config": {
                      "mark": {
                        "tooltip": {
                          "content": "encoding"
                        }
                      },
                      "axis": {
                        "labelFont": "Helvetica Neue",
                        "labelFontSize": 9,
                        "labelColor": "#505050",
                        "titleFont": "Helvetica Neue",
                        "labelFontWeight": 400,
                        "titleFontSize": 11,
                        "titleFontWeight": 500
                      },
                      "title": {
                        "fontWeight": 500,
                        "font": "Helvetica Neue",
                        "fontSize": 13
                      },
                      "legend": {
                        "labelFont": "Helvetica Neue",
                        "labelFontSize": 9,
                        "titleFont": "Helvetica Neue",
                        "labelFontWeight": 400,
                        "titleFontSize": 10,
                        "titleFontWeight": 500
                      },
                      "view": {
                        "continuousWidth": 400,
                        "continuousHeight": 300
                      }
                    },
                    "height": 150,
                    "width": 160,
                    "datasets": {
                      "data-cffbaddba8d2091d19631c8240894572": [
                        {
                          "Footprint": 0.8,
                          "GDPPerCapita": 691
                        },
                        {
                          "Footprint": 2.2,
                          "GDPPerCapita": 4247
                        },
                        {
                          "Footprint": 2.1,
                          "GDPPerCapita": 5584
                        },
                        {
                          "Footprint": 3.1,
                          "GDPPerCapita": 14357
                        },
                        {
                          "Footprint": 2.2,
                          "GDPPerCapita": 3566
                        },
                        {
                          "Footprint": 9.3,
                          "GDPPerCapita": 67646
                        },
                        {
                          "Footprint": 6.1,
                          "GDPPerCapita": 48324
                        },
                        {
                          "Footprint": 0.7,
                          "GDPPerCapita": 859
                        },
                        {
                          "Footprint": 5.1,
                          "GDPPerCapita": 6722
                        },
                        {
                          "Footprint": 7.4,
                          "GDPPerCapita": 44731
                        },
                        {
                          "Footprint": 2.5,
                          "GDPPerCapita": 4674
                        },
                        {
                          "Footprint": 1.4,
                          "GDPPerCapita": 808
                        },
                        {
                          "Footprint": 2.3,
                          "GDPPerCapita": 2452
                        },
                        {
                          "Footprint": 3,
                          "GDPPerCapita": 2645
                        },
                        {
                          "Footprint": 3.1,
                          "GDPPerCapita": 4495
                        },
                        {
                          "Footprint": 3.8,
                          "GDPPerCapita": 6936
                        },
                        {
                          "Footprint": 3.1,
                          "GDPPerCapita": 12157
                        },
                        {
                          "Footprint": 3.3,
                          "GDPPerCapita": 7333
                        },
                        {
                          "Footprint": 1.2,
                          "GDPPerCapita": 673
                        },
                        {
                          "Footprint": 0.8,
                          "GDPPerCapita": 244
                        },
                        {
                          "Footprint": 1.2,
                          "GDPPerCapita": 946
                        },
                        {
                          "Footprint": 1.2,
                          "GDPPerCapita": 1222
                        },
                        {
                          "Footprint": 8.2,
                          "GDPPerCapita": 52738
                        },
                        {
                          "Footprint": 1.5,
                          "GDPPerCapita": 973
                        },
                        {
                          "Footprint": 4.4,
                          "GDPPerCapita": 15253
                        },
                        {
                          "Footprint": 3.4,
                          "GDPPerCapita": 6265
                        },
                        {
                          "Footprint": 1.9,
                          "GDPPerCapita": 7885
                        },
                        {
                          "Footprint": 1,
                          "GDPPerCapita": 750
                        },
                        {
                          "Footprint": 2.8,
                          "GDPPerCapita": 9733
                        },
                        {
                          "Footprint": 1.3,
                          "GDPPerCapita": 1281
                        },
                        {
                          "Footprint": 3.9,
                          "GDPPerCapita": 13236
                        },
                        {
                          "Footprint": 4.2,
                          "GDPPerCapita": 28868
                        },
                        {
                          "Footprint": 5.2,
                          "GDPPerCapita": 19641
                        },
                        {
                          "Footprint": 5.5,
                          "GDPPerCapita": 57636
                        },
                        {
                          "Footprint": 2.2,
                          "GDPPerCapita": 1587
                        },
                        {
                          "Footprint": 1.5,
                          "GDPPerCapita": 5967
                        },
                        {
                          "Footprint": 2.2,
                          "GDPPerCapita": 5702
                        },
                        {
                          "Footprint": 2.2,
                          "GDPPerCapita": 3226
                        },
                        {
                          "Footprint": 2.1,
                          "GDPPerCapita": 3922
                        },
                        {
                          "Footprint": 6.9,
                          "GDPPerCapita": 17491
                        },
                        {
                          "Footprint": 1,
                          "GDPPerCapita": 470
                        },
                        {
                          "Footprint": 5.9,
                          "GDPPerCapita": 47416
                        },
                        {
                          "Footprint": 5.1,
                          "GDPPerCapita": 40850
                        },
                        {
                          "Footprint": 2,
                          "GDPPerCapita": 10642
                        },
                        {
                          "Footprint": 1.6,
                          "GDPPerCapita": 4143
                        },
                        {
                          "Footprint": 5.3,
                          "GDPPerCapita": 44011
                        },
                        {
                          "Footprint": 2,
                          "GDPPerCapita": 1642
                        },
                        {
                          "Footprint": 4.4,
                          "GDPPerCapita": 22243
                        },
                        {
                          "Footprint": 1.9,
                          "GDPPerCapita": 3279
                        },
                        {
                          "Footprint": 1.4,
                          "GDPPerCapita": 487
                        },
                        {
                          "Footprint": 0.6,
                          "GDPPerCapita": 767
                        },
                        {
                          "Footprint": 1.7,
                          "GDPPerCapita": 2395
                        },
                        {
                          "Footprint": 8.8,
                          "GDPPerCapita": 36708
                        },
                        {
                          "Footprint": 2.9,
                          "GDPPerCapita": 12820
                        },
                        {
                          "Footprint": 6.4,
                          "GDPPerCapita": 44259
                        },
                        {
                          "Footprint": 1.2,
                          "GDPPerCapita": 1450
                        },
                        {
                          "Footprint": 1.6,
                          "GDPPerCapita": 3701
                        },
                        {
                          "Footprint": 2.8,
                          "GDPPerCapita": 7711
                        },
                        {
                          "Footprint": 1.9,
                          "GDPPerCapita": 6649
                        },
                        {
                          "Footprint": 5.6,
                          "GDPPerCapita": 48977
                        },
                        {
                          "Footprint": 6.2,
                          "GDPPerCapita": 32819
                        },
                        {
                          "Footprint": 4.6,
                          "GDPPerCapita": 34844
                        },
                        {
                          "Footprint": 1.9,
                          "GDPPerCapita": 5446
                        },
                        {
                          "Footprint": 5,
                          "GDPPerCapita": 46679
                        },
                        {
                          "Footprint": 5.6,
                          "GDPPerCapita": 12120
                        },
                        {
                          "Footprint": 1,
                          "GDPPerCapita": 1185
                        },
                        {
                          "Footprint": 1.9,
                          "GDPPerCapita": 1178
                        },
                        {
                          "Footprint": 6.3,
                          "GDPPerCapita": 13775
                        },
                        {
                          "Footprint": 3.8,
                          "GDPPerCapita": 9729
                        },
                        {
                          "Footprint": 1.7,
                          "GDPPerCapita": 1159
                        },
                        {
                          "Footprint": 1.2,
                          "GDPPerCapita": 414
                        },
                        {
                          "Footprint": 5.8,
                          "GDPPerCapita": 14343
                        },
                        {
                          "Footprint": 15.8,
                          "GDPPerCapita": 105447
                        },
                        {
                          "Footprint": 3.3,
                          "GDPPerCapita": 4710
                        },
                        {
                          "Footprint": 0.8,
                          "GDPPerCapita": 270
                        },
                        {
                          "Footprint": 3.7,
                          "GDPPerCapita": 10835
                        },
                        {
                          "Footprint": 4.4,
                          "GDPPerCapita": 21176
                        },
                        {
                          "Footprint": 2.5,
                          "GDPPerCapita": 1283
                        },
                        {
                          "Footprint": 3.5,
                          "GDPPerCapita": 9114
                        },
                        {
                          "Footprint": 2.9,
                          "GDPPerCapita": 9703
                        },
                        {
                          "Footprint": 6.1,
                          "GDPPerCapita": 4377
                        },
                        {
                          "Footprint": 3.8,
                          "GDPPerCapita": 6587
                        },
                        {
                          "Footprint": 1.7,
                          "GDPPerCapita": 2931
                        },
                        {
                          "Footprint": 0.9,
                          "GDPPerCapita": 565
                        },
                        {
                          "Footprint": 1.4,
                          "GDPPerCapita": 1421
                        },
                        {
                          "Footprint": 2.5,
                          "GDPPerCapita": 5680
                        },
                        {
                          "Footprint": 1,
                          "GDPPerCapita": 685
                        },
                        {
                          "Footprint": 5.3,
                          "GDPPerCapita": 49475
                        },
                        {
                          "Footprint": 5.6,
                          "GDPPerCapita": 39505
                        },
                        {
                          "Footprint": 1.4,
                          "GDPPerCapita": 1780
                        },
                        {
                          "Footprint": 1.6,
                          "GDPPerCapita": 394
                        },
                        {
                          "Footprint": 1.2,
                          "GDPPerCapita": 2740
                        },
                        {
                          "Footprint": 5,
                          "GDPPerCapita": 101564
                        },
                        {
                          "Footprint": 7.5,
                          "GDPPerCapita": 21534
                        },
                        {
                          "Footprint": 0.8,
                          "GDPPerCapita": 1266
                        },
                        {
                          "Footprint": 1.2,
                          "GDPPerCapita": 2783
                        },
                        {
                          "Footprint": 2.8,
                          "GDPPerCapita": 10139
                        },
                        {
                          "Footprint": 4.2,
                          "GDPPerCapita": 3858
                        },
                        {
                          "Footprint": 2.3,
                          "GDPPerCapita": 6389
                        },
                        {
                          "Footprint": 1.1,
                          "GDPPerCapita": 2605
                        },
                        {
                          "Footprint": 4.4,
                          "GDPPerCapita": 13142
                        },
                        {
                          "Footprint": 3.9,
                          "GDPPerCapita": 20577
                        },
                        {
                          "Footprint": 1.3,
                          "GDPPerCapita": 3191
                        },
                        {
                          "Footprint": 2.7,
                          "GDPPerCapita": 8577
                        },
                        {
                          "Footprint": 5.7,
                          "GDPPerCapita": 14079
                        },
                        {
                          "Footprint": 0.9,
                          "GDPPerCapita": 667
                        },
                        {
                          "Footprint": 1.2,
                          "GDPPerCapita": 1019
                        },
                        {
                          "Footprint": 2.7,
                          "GDPPerCapita": 5659
                        },
                        {
                          "Footprint": 1.2,
                          "GDPPerCapita": 619
                        },
                        {
                          "Footprint": 4.1,
                          "GDPPerCapita": 17207
                        },
                        {
                          "Footprint": 5.8,
                          "GDPPerCapita": 22478
                        },
                        {
                          "Footprint": 3.3,
                          "GDPPerCapita": 7592
                        },
                        {
                          "Footprint": 5.7,
                          "GDPPerCapita": 24454
                        },
                        {
                          "Footprint": 3.7,
                          "GDPPerCapita": 28648
                        },
                        {
                          "Footprint": 1.3,
                          "GDPPerCapita": 3351
                        },
                        {
                          "Footprint": 4.3,
                          "GDPPerCapita": 9422
                        },
                        {
                          "Footprint": 2,
                          "GDPPerCapita": 3989
                        },
                        {
                          "Footprint": 7.3,
                          "GDPPerCapita": 57134
                        },
                        {
                          "Footprint": 5.8,
                          "GDPPerCapita": 83209
                        },
                        {
                          "Footprint": 1.5,
                          "GDPPerCapita": 2080
                        },
                        {
                          "Footprint": 0.9,
                          "GDPPerCapita": 962
                        },
                        {
                          "Footprint": 1.3,
                          "GDPPerCapita": 828
                        },
                        {
                          "Footprint": 2.7,
                          "GDPPerCapita": 5918
                        },
                        {
                          "Footprint": 1.1,
                          "GDPPerCapita": 580
                        },
                        {
                          "Footprint": 7.9,
                          "GDPPerCapita": 18322
                        },
                        {
                          "Footprint": 2.3,
                          "GDPPerCapita": 4188
                        },
                        {
                          "Footprint": 3.3,
                          "GDPPerCapita": 10646
                        },
                        {
                          "Footprint": 5.5,
                          "GDPPerCapita": 6798
                        },
                        {
                          "Footprint": 1.2,
                          "GDPPerCapita": 656
                        },
                        {
                          "Footprint": 2.8,
                          "GDPPerCapita": 3855
                        },
                        {
                          "Footprint": 4.9,
                          "GDPPerCapita": 41295
                        },
                        {
                          "Footprint": 8.2,
                          "GDPPerCapita": 51457
                        },
                        {
                          "Footprint": 2.9,
                          "GDPPerCapita": 15128
                        },
                        {
                          "Footprint": 2.3,
                          "GDPPerCapita": 1719
                        },
                        {
                          "Footprint": 1.9,
                          "GDPPerCapita": 3158
                        },
                        {
                          "Footprint": 3.6,
                          "GDPPerCapita": 12772
                        },
                        {
                          "Footprint": 1.7,
                          "GDPPerCapita": 1755
                        },
                        {
                          "Footprint": 1,
                          "GDPPerCapita": 1289
                        },
                        {
                          "Footprint": 1,
                          "GDPPerCapita": 1687
                        },
                        {
                          "Footprint": 1.4,
                          "GDPPerCapita": 851
                        }
                      ]
                    },
                    "vislib": "vegalite",
                    "$schema": "https://vega.github.io/schema/vega-lite/v4.8.1.json",
                    "mark": "circle",
                    "data": {
                      "name": "data-cffbaddba8d2091d19631c8240894572"
                    }
                  },
                  {
                    "selection": {
                      "selector045": {
                        "bind": "scales",
                        "type": "interval",
                        "encodings": [
                          "x",
                          "y"
                        ]
                      }
                    },
                    "encoding": {
                      "y": {
                        "field": "Inequality",
                        "scale": {
                          "domain": [
                            0.04,
                            0.51
                          ]
                        },
                        "type": "quantitative",
                        "axis": {
                          "title": "Inequality"
                        }
                      },
                      "x": {
                        "field": "IneqAdjWellbeing",
                        "scale": {
                          "domain": [
                            2.4,
                            7.6
                          ]
                        },
                        "type": "quantitative",
                        "axis": {
                          "title": "IneqAdjWellbeing"
                        }
                      }
                    },
                    "config": {
                      "mark": {
                        "tooltip": {
                          "content": "encoding"
                        }
                      },
                      "axis": {
                        "labelFont": "Helvetica Neue",
                        "labelFontSize": 9,
                        "labelColor": "#505050",
                        "titleFont": "Helvetica Neue",
                        "labelFontWeight": 400,
                        "titleFontSize": 11,
                        "titleFontWeight": 500
                      },
                      "title": {
                        "fontWeight": 500,
                        "font": "Helvetica Neue",
                        "fontSize": 13
                      },
                      "legend": {
                        "labelFont": "Helvetica Neue",
                        "labelFontSize": 9,
                        "titleFont": "Helvetica Neue",
                        "labelFontWeight": 400,
                        "titleFontSize": 10,
                        "titleFontWeight": 500
                      },
                      "view": {
                        "continuousWidth": 400,
                        "continuousHeight": 300
                      }
                    },
                    "height": 150,
                    "width": 160,
                    "datasets": {
                      "data-39181b1b0e438c93efffd728640f746b": [
                        {
                          "Inequality": 0.43,
                          "IneqAdjWellbeing": 3.4
                        },
                        {
                          "Inequality": 0.17,
                          "IneqAdjWellbeing": 5.1
                        },
                        {
                          "Inequality": 0.24,
                          "IneqAdjWellbeing": 5.2
                        },
                        {
                          "Inequality": 0.16,
                          "IneqAdjWellbeing": 6
                        },
                        {
                          "Inequality": 0.22,
                          "IneqAdjWellbeing": 3.7
                        },
                        {
                          "Inequality": 0.08,
                          "IneqAdjWellbeing": 6.9
                        },
                        {
                          "Inequality": 0.07,
                          "IneqAdjWellbeing": 7.1
                        },
                        {
                          "Inequality": 0.27,
                          "IneqAdjWellbeing": 4.3
                        },
                        {
                          "Inequality": 0.13,
                          "IneqAdjWellbeing": 5.3
                        },
                        {
                          "Inequality": 0.09,
                          "IneqAdjWellbeing": 6.6
                        },
                        {
                          "Inequality": 0.18,
                          "IneqAdjWellbeing": 5.7
                        },
                        {
                          "Inequality": 0.44,
                          "IneqAdjWellbeing": 2.8
                        },
                        {
                          "Inequality": 0.27,
                          "IneqAdjWellbeing": 5.2
                        },
                        {
                          "Inequality": 0.35,
                          "IneqAdjWellbeing": 5.5
                        },
                        {
                          "Inequality": 0.19,
                          "IneqAdjWellbeing": 4.2
                        },
                        {
                          "Inequality": 0.28,
                          "IneqAdjWellbeing": 4.3
                        },
                        {
                          "Inequality": 0.22,
                          "IneqAdjWellbeing": 6.3
                        },
                        {
                          "Inequality": 0.19,
                          "IneqAdjWellbeing": 3.7
                        },
                        {
                          "Inequality": 0.43,
                          "IneqAdjWellbeing": 3.6
                        },
                        {
                          "Inequality": 0.48,
                          "IneqAdjWellbeing": 3
                        },
                        {
                          "Inequality": 0.28,
                          "IneqAdjWellbeing": 3.5
                        },
                        {
                          "Inequality": 0.47,
                          "IneqAdjWellbeing": 3.7
                        },
                        {
                          "Inequality": 0.09,
                          "IneqAdjWellbeing": 7.1
                        },
                        {
                          "Inequality": 0.51,
                          "IneqAdjWellbeing": 3.7
                        },
                        {
                          "Inequality": 0.14,
                          "IneqAdjWellbeing": 6.1
                        },
                        {
                          "Inequality": 0.17,
                          "IneqAdjWellbeing": 4.6
                        },
                        {
                          "Inequality": 0.24,
                          "IneqAdjWellbeing": 5.7
                        },
                        {
                          "Inequality": 0.36,
                          "IneqAdjWellbeing": 3.7
                        },
                        {
                          "Inequality": 0.15,
                          "IneqAdjWellbeing": 6.8
                        },
                        {
                          "Inequality": 0.45,
                          "IneqAdjWellbeing": 3.5
                        },
                        {
                          "Inequality": 0.12,
                          "IneqAdjWellbeing": 5.5
                        },
                        {
                          "Inequality": 0.12,
                          "IneqAdjWellbeing": 5.7
                        },
                        {
                          "Inequality": 0.09,
                          "IneqAdjWellbeing": 5.9
                        },
                        {
                          "Inequality": 0.07,
                          "IneqAdjWellbeing": 7.2
                        },
                        {
                          "Inequality": 0.42,
                          "IneqAdjWellbeing": 3.8
                        },
                        {
                          "Inequality": 0.3,
                          "IneqAdjWellbeing": 4.1
                        },
                        {
                          "Inequality": 0.22,
                          "IneqAdjWellbeing": 5.5
                        },
                        {
                          "Inequality": 0.23,
                          "IneqAdjWellbeing": 3.7
                        },
                        {
                          "Inequality": 0.22,
                          "IneqAdjWellbeing": 5.3
                        },
                        {
                          "Inequality": 0.12,
                          "IneqAdjWellbeing": 5
                        },
                        {
                          "Inequality": 0.36,
                          "IneqAdjWellbeing": 4.2
                        },
                        {
                          "Inequality": 0.06,
                          "IneqAdjWellbeing": 7.2
                        },
                        {
                          "Inequality": 0.09,
                          "IneqAdjWellbeing": 6.3
                        },
                        {
                          "Inequality": 0.36,
                          "IneqAdjWellbeing": 3.5
                        },
                        {
                          "Inequality": 0.2,
                          "IneqAdjWellbeing": 3.8
                        },
                        {
                          "Inequality": 0.08,
                          "IneqAdjWellbeing": 6.4
                        },
                        {
                          "Inequality": 0.38,
                          "IneqAdjWellbeing": 4.6
                        },
                        {
                          "Inequality": 0.16,
                          "IneqAdjWellbeing": 4.5
                        },
                        {
                          "Inequality": 0.27,
                          "IneqAdjWellbeing": 5.2
                        },
                        {
                          "Inequality": 0.42,
                          "IneqAdjWellbeing": 3.3
                        },
                        {
                          "Inequality": 0.37,
                          "IneqAdjWellbeing": 4
                        },
                        {
                          "Inequality": 0.31,
                          "IneqAdjWellbeing": 3.9
                        },
                        {
                          "Inequality": 0.1,
                          "IneqAdjWellbeing": 5.1
                        },
                        {
                          "Inequality": 0.15,
                          "IneqAdjWellbeing": 4.2
                        },
                        {
                          "Inequality": 0.05,
                          "IneqAdjWellbeing": 7.4
                        },
                        {
                          "Inequality": 0.31,
                          "IneqAdjWellbeing": 4.2
                        },
                        {
                          "Inequality": 0.21,
                          "IneqAdjWellbeing": 5.1
                        },
                        {
                          "Inequality": 0.23,
                          "IneqAdjWellbeing": 4
                        },
                        {
                          "Inequality": 0.27,
                          "IneqAdjWellbeing": 4.3
                        },
                        {
                          "Inequality": 0.08,
                          "IneqAdjWellbeing": 6.7
                        },
                        {
                          "Inequality": 0.08,
                          "IneqAdjWellbeing": 6.8
                        },
                        {
                          "Inequality": 0.12,
                          "IneqAdjWellbeing": 5.3
                        },
                        {
                          "Inequality": 0.21,
                          "IneqAdjWellbeing": 5
                        },
                        {
                          "Inequality": 0.09,
                          "IneqAdjWellbeing": 5.6
                        },
                        {
                          "Inequality": 0.18,
                          "IneqAdjWellbeing": 5.4
                        },
                        {
                          "Inequality": 0.38,
                          "IneqAdjWellbeing": 4.1
                        },
                        {
                          "Inequality": 0.18,
                          "IneqAdjWellbeing": 4.9
                        },
                        {
                          "Inequality": 0.14,
                          "IneqAdjWellbeing": 4.7
                        },
                        {
                          "Inequality": 0.19,
                          "IneqAdjWellbeing": 4
                        },
                        {
                          "Inequality": 0.42,
                          "IneqAdjWellbeing": 4.3
                        },
                        {
                          "Inequality": 0.38,
                          "IneqAdjWellbeing": 4.1
                        },
                        {
                          "Inequality": 0.11,
                          "IneqAdjWellbeing": 5.4
                        },
                        {
                          "Inequality": 0.07,
                          "IneqAdjWellbeing": 6.7
                        },
                        {
                          "Inequality": 0.18,
                          "IneqAdjWellbeing": 4.1
                        },
                        {
                          "Inequality": 0.45,
                          "IneqAdjWellbeing": 3.5
                        },
                        {
                          "Inequality": 0.1,
                          "IneqAdjWellbeing": 5.7
                        },
                        {
                          "Inequality": 0.13,
                          "IneqAdjWellbeing": 5.5
                        },
                        {
                          "Inequality": 0.37,
                          "IneqAdjWellbeing": 4.5
                        },
                        {
                          "Inequality": 0.17,
                          "IneqAdjWellbeing": 5.1
                        },
                        {
                          "Inequality": 0.19,
                          "IneqAdjWellbeing": 6.8
                        },
                        {
                          "Inequality": 0.22,
                          "IneqAdjWellbeing": 4.6
                        },
                        {
                          "Inequality": 0.16,
                          "IneqAdjWellbeing": 4.6
                        },
                        {
                          "Inequality": 0.25,
                          "IneqAdjWellbeing": 4.5
                        },
                        {
                          "Inequality": 0.43,
                          "IneqAdjWellbeing": 4.5
                        },
                        {
                          "Inequality": 0.32,
                          "IneqAdjWellbeing": 4
                        },
                        {
                          "Inequality": 0.26,
                          "IneqAdjWellbeing": 4.4
                        },
                        {
                          "Inequality": 0.27,
                          "IneqAdjWellbeing": 3.8
                        },
                        {
                          "Inequality": 0.04,
                          "IneqAdjWellbeing": 7.5
                        },
                        {
                          "Inequality": 0.08,
                          "IneqAdjWellbeing": 6.9
                        },
                        {
                          "Inequality": 0.25,
                          "IneqAdjWellbeing": 4.8
                        },
                        {
                          "Inequality": 0.4,
                          "IneqAdjWellbeing": 3.5
                        },
                        {
                          "Inequality": 0.44,
                          "IneqAdjWellbeing": 5.2
                        },
                        {
                          "Inequality": 0.07,
                          "IneqAdjWellbeing": 7.4
                        },
                        {
                          "Inequality": 0.13,
                          "IneqAdjWellbeing": 6.4
                        },
                        {
                          "Inequality": 0.4,
                          "IneqAdjWellbeing": 4.6
                        },
                        {
                          "Inequality": 0.24,
                          "IneqAdjWellbeing": 4.1
                        },
                        {
                          "Inequality": 0.19,
                          "IneqAdjWellbeing": 6.3
                        },
                        {
                          "Inequality": 0.22,
                          "IneqAdjWellbeing": 5.5
                        },
                        {
                          "Inequality": 0.21,
                          "IneqAdjWellbeing": 5.3
                        },
                        {
                          "Inequality": 0.26,
                          "IneqAdjWellbeing": 4.4
                        },
                        {
                          "Inequality": 0.11,
                          "IneqAdjWellbeing": 5.5
                        },
                        {
                          "Inequality": 0.16,
                          "IneqAdjWellbeing": 4.3
                        },
                        {
                          "Inequality": 0.4,
                          "IneqAdjWellbeing": 3.4
                        },
                        {
                          "Inequality": 0.19,
                          "IneqAdjWellbeing": 4.6
                        },
                        {
                          "Inequality": 0.16,
                          "IneqAdjWellbeing": 5.2
                        },
                        {
                          "Inequality": 0.37,
                          "IneqAdjWellbeing": 3
                        },
                        {
                          "Inequality": 0.33,
                          "IneqAdjWellbeing": 3.3
                        },
                        {
                          "Inequality": 0.19,
                          "IneqAdjWellbeing": 4.6
                        },
                        {
                          "Inequality": 0.5,
                          "IneqAdjWellbeing": 4
                        },
                        {
                          "Inequality": 0.13,
                          "IneqAdjWellbeing": 5.4
                        },
                        {
                          "Inequality": 0.1,
                          "IneqAdjWellbeing": 5.7
                        },
                        {
                          "Inequality": 0.33,
                          "IneqAdjWellbeing": 4.6
                        },
                        {
                          "Inequality": 0.11,
                          "IneqAdjWellbeing": 5.5
                        },
                        {
                          "Inequality": 0.1,
                          "IneqAdjWellbeing": 5.9
                        },
                        {
                          "Inequality": 0.17,
                          "IneqAdjWellbeing": 3.8
                        },
                        {
                          "Inequality": 0.19,
                          "IneqAdjWellbeing": 5.9
                        },
                        {
                          "Inequality": 0.41,
                          "IneqAdjWellbeing": 4.4
                        },
                        {
                          "Inequality": 0.06,
                          "IneqAdjWellbeing": 7.4
                        },
                        {
                          "Inequality": 0.06,
                          "IneqAdjWellbeing": 7.6
                        },
                        {
                          "Inequality": 0.3,
                          "IneqAdjWellbeing": 2.6
                        },
                        {
                          "Inequality": 0.26,
                          "IneqAdjWellbeing": 4.3
                        },
                        {
                          "Inequality": 0.33,
                          "IneqAdjWellbeing": 3.6
                        },
                        {
                          "Inequality": 0.15,
                          "IneqAdjWellbeing": 6
                        },
                        {
                          "Inequality": 0.43,
                          "IneqAdjWellbeing": 2.4
                        },
                        {
                          "Inequality": 0.21,
                          "IneqAdjWellbeing": 6
                        },
                        {
                          "Inequality": 0.22,
                          "IneqAdjWellbeing": 4
                        },
                        {
                          "Inequality": 0.19,
                          "IneqAdjWellbeing": 4.9
                        },
                        {
                          "Inequality": 0.31,
                          "IneqAdjWellbeing": 5.1
                        },
                        {
                          "Inequality": 0.41,
                          "IneqAdjWellbeing": 3.9
                        },
                        {
                          "Inequality": 0.17,
                          "IneqAdjWellbeing": 4.6
                        },
                        {
                          "Inequality": 0.09,
                          "IneqAdjWellbeing": 6.6
                        },
                        {
                          "Inequality": 0.13,
                          "IneqAdjWellbeing": 6.5
                        },
                        {
                          "Inequality": 0.18,
                          "IneqAdjWellbeing": 5.8
                        },
                        {
                          "Inequality": 0.3,
                          "IneqAdjWellbeing": 5.6
                        },
                        {
                          "Inequality": 0.22,
                          "IneqAdjWellbeing": 5.9
                        },
                        {
                          "Inequality": 0.19,
                          "IneqAdjWellbeing": 6.5
                        },
                        {
                          "Inequality": 0.19,
                          "IneqAdjWellbeing": 5.2
                        },
                        {
                          "Inequality": 0.39,
                          "IneqAdjWellbeing": 3.6
                        },
                        {
                          "Inequality": 0.41,
                          "IneqAdjWellbeing": 4.5
                        },
                        {
                          "Inequality": 0.37,
                          "IneqAdjWellbeing": 4.6
                        }
                      ]
                    },
                    "vislib": "vegalite",
                    "$schema": "https://vega.github.io/schema/vega-lite/v4.8.1.json",
                    "mark": "circle",
                    "data": {
                      "name": "data-39181b1b0e438c93efffd728640f746b"
                    }
                  },
                  {
                    "selection": {
                      "selector046": {
                        "bind": "scales",
                        "type": "interval",
                        "encodings": [
                          "x",
                          "y"
                        ]
                      }
                    },
                    "encoding": {
                      "y": {
                        "field": "AvrgWellBeing",
                        "scale": {
                          "domain": [
                            2.9,
                            7.8
                          ]
                        },
                        "type": "quantitative",
                        "axis": {
                          "title": "AvrgWellBeing"
                        }
                      },
                      "x": {
                        "field": "Inequality",
                        "scale": {
                          "domain": [
                            0.04,
                            0.51
                          ]
                        },
                        "type": "quantitative",
                        "axis": {
                          "title": "Inequality"
                        }
                      }
                    },
                    "config": {
                      "mark": {
                        "tooltip": {
                          "content": "encoding"
                        }
                      },
                      "axis": {
                        "labelFont": "Helvetica Neue",
                        "labelFontSize": 9,
                        "labelColor": "#505050",
                        "titleFont": "Helvetica Neue",
                        "labelFontWeight": 400,
                        "titleFontSize": 11,
                        "titleFontWeight": 500
                      },
                      "title": {
                        "fontWeight": 500,
                        "font": "Helvetica Neue",
                        "fontSize": 13
                      },
                      "legend": {
                        "labelFont": "Helvetica Neue",
                        "labelFontSize": 9,
                        "titleFont": "Helvetica Neue",
                        "labelFontWeight": 400,
                        "titleFontSize": 10,
                        "titleFontWeight": 500
                      },
                      "view": {
                        "continuousWidth": 400,
                        "continuousHeight": 300
                      }
                    },
                    "height": 150,
                    "width": 160,
                    "datasets": {
                      "data-ea3a30a1f161677840dd807b0705224d": [
                        {
                          "AvrgWellBeing": 3.8,
                          "Inequality": 0.43
                        },
                        {
                          "AvrgWellBeing": 5.5,
                          "Inequality": 0.17
                        },
                        {
                          "AvrgWellBeing": 5.6,
                          "Inequality": 0.24
                        },
                        {
                          "AvrgWellBeing": 6.5,
                          "Inequality": 0.16
                        },
                        {
                          "AvrgWellBeing": 4.3,
                          "Inequality": 0.22
                        },
                        {
                          "AvrgWellBeing": 7.2,
                          "Inequality": 0.08
                        },
                        {
                          "AvrgWellBeing": 7.4,
                          "Inequality": 0.07
                        },
                        {
                          "AvrgWellBeing": 4.7,
                          "Inequality": 0.27
                        },
                        {
                          "AvrgWellBeing": 5.7,
                          "Inequality": 0.13
                        },
                        {
                          "AvrgWellBeing": 6.9,
                          "Inequality": 0.09
                        },
                        {
                          "AvrgWellBeing": 6.1,
                          "Inequality": 0.18
                        },
                        {
                          "AvrgWellBeing": 3.2,
                          "Inequality": 0.44
                        },
                        {
                          "AvrgWellBeing": 5.6,
                          "Inequality": 0.27
                        },
                        {
                          "AvrgWellBeing": 6,
                          "Inequality": 0.35
                        },
                        {
                          "AvrgWellBeing": 4.8,
                          "Inequality": 0.19
                        },
                        {
                          "AvrgWellBeing": 4.8,
                          "Inequality": 0.28
                        },
                        {
                          "AvrgWellBeing": 6.9,
                          "Inequality": 0.22
                        },
                        {
                          "AvrgWellBeing": 4.2,
                          "Inequality": 0.19
                        },
                        {
                          "AvrgWellBeing": 4,
                          "Inequality": 0.43
                        },
                        {
                          "AvrgWellBeing": 3.4,
                          "Inequality": 0.48
                        },
                        {
                          "AvrgWellBeing": 3.9,
                          "Inequality": 0.28
                        },
                        {
                          "AvrgWellBeing": 4.2,
                          "Inequality": 0.47
                        },
                        {
                          "AvrgWellBeing": 7.4,
                          "Inequality": 0.09
                        },
                        {
                          "AvrgWellBeing": 4,
                          "Inequality": 0.51
                        },
                        {
                          "AvrgWellBeing": 6.6,
                          "Inequality": 0.14
                        },
                        {
                          "AvrgWellBeing": 5.1,
                          "Inequality": 0.17
                        },
                        {
                          "AvrgWellBeing": 6.4,
                          "Inequality": 0.24
                        },
                        {
                          "AvrgWellBeing": 4,
                          "Inequality": 0.36
                        },
                        {
                          "AvrgWellBeing": 7.3,
                          "Inequality": 0.15
                        },
                        {
                          "AvrgWellBeing": 3.8,
                          "Inequality": 0.45
                        },
                        {
                          "AvrgWellBeing": 6,
                          "Inequality": 0.12
                        },
                        {
                          "AvrgWellBeing": 6.2,
                          "Inequality": 0.12
                        },
                        {
                          "AvrgWellBeing": 6.3,
                          "Inequality": 0.09
                        },
                        {
                          "AvrgWellBeing": 7.5,
                          "Inequality": 0.07
                        },
                        {
                          "AvrgWellBeing": 4.4,
                          "Inequality": 0.42
                        },
                        {
                          "AvrgWellBeing": 4.8,
                          "Inequality": 0.3
                        },
                        {
                          "AvrgWellBeing": 6,
                          "Inequality": 0.22
                        },
                        {
                          "AvrgWellBeing": 4.2,
                          "Inequality": 0.23
                        },
                        {
                          "AvrgWellBeing": 5.9,
                          "Inequality": 0.22
                        },
                        {
                          "AvrgWellBeing": 5.4,
                          "Inequality": 0.12
                        },
                        {
                          "AvrgWellBeing": 4.6,
                          "Inequality": 0.36
                        },
                        {
                          "AvrgWellBeing": 7.4,
                          "Inequality": 0.06
                        },
                        {
                          "AvrgWellBeing": 6.6,
                          "Inequality": 0.09
                        },
                        {
                          "AvrgWellBeing": 4,
                          "Inequality": 0.36
                        },
                        {
                          "AvrgWellBeing": 4.3,
                          "Inequality": 0.2
                        },
                        {
                          "AvrgWellBeing": 6.7,
                          "Inequality": 0.08
                        },
                        {
                          "AvrgWellBeing": 5.1,
                          "Inequality": 0.38
                        },
                        {
                          "AvrgWellBeing": 5.1,
                          "Inequality": 0.16
                        },
                        {
                          "AvrgWellBeing": 5.9,
                          "Inequality": 0.27
                        },
                        {
                          "AvrgWellBeing": 3.7,
                          "Inequality": 0.42
                        },
                        {
                          "AvrgWellBeing": 4.4,
                          "Inequality": 0.37
                        },
                        {
                          "AvrgWellBeing": 4.6,
                          "Inequality": 0.31
                        },
                        {
                          "AvrgWellBeing": 5.5,
                          "Inequality": 0.1
                        },
                        {
                          "AvrgWellBeing": 4.7,
                          "Inequality": 0.15
                        },
                        {
                          "AvrgWellBeing": 7.6,
                          "Inequality": 0.05
                        },
                        {
                          "AvrgWellBeing": 4.6,
                          "Inequality": 0.31
                        },
                        {
                          "AvrgWellBeing": 5.4,
                          "Inequality": 0.21
                        },
                        {
                          "AvrgWellBeing": 4.6,
                          "Inequality": 0.23
                        },
                        {
                          "AvrgWellBeing": 4.7,
                          "Inequality": 0.27
                        },
                        {
                          "AvrgWellBeing": 7,
                          "Inequality": 0.08
                        },
                        {
                          "AvrgWellBeing": 7.1,
                          "Inequality": 0.08
                        },
                        {
                          "AvrgWellBeing": 5.8,
                          "Inequality": 0.12
                        },
                        {
                          "AvrgWellBeing": 5.6,
                          "Inequality": 0.21
                        },
                        {
                          "AvrgWellBeing": 6,
                          "Inequality": 0.09
                        },
                        {
                          "AvrgWellBeing": 5.8,
                          "Inequality": 0.18
                        },
                        {
                          "AvrgWellBeing": 4.5,
                          "Inequality": 0.38
                        },
                        {
                          "AvrgWellBeing": 5.2,
                          "Inequality": 0.18
                        },
                        {
                          "AvrgWellBeing": 5.1,
                          "Inequality": 0.14
                        },
                        {
                          "AvrgWellBeing": 4.6,
                          "Inequality": 0.19
                        },
                        {
                          "AvrgWellBeing": 4.9,
                          "Inequality": 0.42
                        },
                        {
                          "AvrgWellBeing": 4.4,
                          "Inequality": 0.38
                        },
                        {
                          "AvrgWellBeing": 5.8,
                          "Inequality": 0.11
                        },
                        {
                          "AvrgWellBeing": 7,
                          "Inequality": 0.07
                        },
                        {
                          "AvrgWellBeing": 4.6,
                          "Inequality": 0.18
                        },
                        {
                          "AvrgWellBeing": 4.3,
                          "Inequality": 0.45
                        },
                        {
                          "AvrgWellBeing": 5.9,
                          "Inequality": 0.1
                        },
                        {
                          "AvrgWellBeing": 6,
                          "Inequality": 0.13
                        },
                        {
                          "AvrgWellBeing": 4.7,
                          "Inequality": 0.37
                        },
                        {
                          "AvrgWellBeing": 5.5,
                          "Inequality": 0.17
                        },
                        {
                          "AvrgWellBeing": 7.3,
                          "Inequality": 0.19
                        },
                        {
                          "AvrgWellBeing": 4.9,
                          "Inequality": 0.22
                        },
                        {
                          "AvrgWellBeing": 5.2,
                          "Inequality": 0.16
                        },
                        {
                          "AvrgWellBeing": 5,
                          "Inequality": 0.25
                        },
                        {
                          "AvrgWellBeing": 5,
                          "Inequality": 0.43
                        },
                        {
                          "AvrgWellBeing": 4.4,
                          "Inequality": 0.32
                        },
                        {
                          "AvrgWellBeing": 4.7,
                          "Inequality": 0.26
                        },
                        {
                          "AvrgWellBeing": 4.2,
                          "Inequality": 0.27
                        },
                        {
                          "AvrgWellBeing": 7.5,
                          "Inequality": 0.04
                        },
                        {
                          "AvrgWellBeing": 7.2,
                          "Inequality": 0.08
                        },
                        {
                          "AvrgWellBeing": 5.4,
                          "Inequality": 0.25
                        },
                        {
                          "AvrgWellBeing": 3.8,
                          "Inequality": 0.4
                        },
                        {
                          "AvrgWellBeing": 5.5,
                          "Inequality": 0.44
                        },
                        {
                          "AvrgWellBeing": 7.7,
                          "Inequality": 0.07
                        },
                        {
                          "AvrgWellBeing": 6.9,
                          "Inequality": 0.13
                        },
                        {
                          "AvrgWellBeing": 5.1,
                          "Inequality": 0.4
                        },
                        {
                          "AvrgWellBeing": 4.6,
                          "Inequality": 0.24
                        },
                        {
                          "AvrgWellBeing": 6.9,
                          "Inequality": 0.19
                        },
                        {
                          "AvrgWellBeing": 5.8,
                          "Inequality": 0.22
                        },
                        {
                          "AvrgWellBeing": 5.8,
                          "Inequality": 0.21
                        },
                        {
                          "AvrgWellBeing": 5,
                          "Inequality": 0.26
                        },
                        {
                          "AvrgWellBeing": 5.9,
                          "Inequality": 0.11
                        },
                        {
                          "AvrgWellBeing": 5,
                          "Inequality": 0.16
                        },
                        {
                          "AvrgWellBeing": 3.9,
                          "Inequality": 0.4
                        },
                        {
                          "AvrgWellBeing": 5.2,
                          "Inequality": 0.19
                        },
                        {
                          "AvrgWellBeing": 5.6,
                          "Inequality": 0.16
                        },
                        {
                          "AvrgWellBeing": 3.3,
                          "Inequality": 0.37
                        },
                        {
                          "AvrgWellBeing": 3.7,
                          "Inequality": 0.33
                        },
                        {
                          "AvrgWellBeing": 5.2,
                          "Inequality": 0.19
                        },
                        {
                          "AvrgWellBeing": 4.5,
                          "Inequality": 0.5
                        },
                        {
                          "AvrgWellBeing": 5.9,
                          "Inequality": 0.13
                        },
                        {
                          "AvrgWellBeing": 6.1,
                          "Inequality": 0.1
                        },
                        {
                          "AvrgWellBeing": 5.1,
                          "Inequality": 0.33
                        },
                        {
                          "AvrgWellBeing": 6,
                          "Inequality": 0.11
                        },
                        {
                          "AvrgWellBeing": 6.3,
                          "Inequality": 0.1
                        },
                        {
                          "AvrgWellBeing": 4.2,
                          "Inequality": 0.17
                        },
                        {
                          "AvrgWellBeing": 6.3,
                          "Inequality": 0.19
                        },
                        {
                          "AvrgWellBeing": 4.9,
                          "Inequality": 0.41
                        },
                        {
                          "AvrgWellBeing": 7.6,
                          "Inequality": 0.06
                        },
                        {
                          "AvrgWellBeing": 7.8,
                          "Inequality": 0.06
                        },
                        {
                          "AvrgWellBeing": 3.2,
                          "Inequality": 0.3
                        },
                        {
                          "AvrgWellBeing": 4.5,
                          "Inequality": 0.26
                        },
                        {
                          "AvrgWellBeing": 4,
                          "Inequality": 0.33
                        },
                        {
                          "AvrgWellBeing": 6.3,
                          "Inequality": 0.15
                        },
                        {
                          "AvrgWellBeing": 2.9,
                          "Inequality": 0.43
                        },
                        {
                          "AvrgWellBeing": 6.4,
                          "Inequality": 0.21
                        },
                        {
                          "AvrgWellBeing": 4.5,
                          "Inequality": 0.22
                        },
                        {
                          "AvrgWellBeing": 5.3,
                          "Inequality": 0.19
                        },
                        {
                          "AvrgWellBeing": 5.5,
                          "Inequality": 0.31
                        },
                        {
                          "AvrgWellBeing": 4.3,
                          "Inequality": 0.41
                        },
                        {
                          "AvrgWellBeing": 5,
                          "Inequality": 0.17
                        },
                        {
                          "AvrgWellBeing": 6.9,
                          "Inequality": 0.09
                        },
                        {
                          "AvrgWellBeing": 7,
                          "Inequality": 0.13
                        },
                        {
                          "AvrgWellBeing": 6.4,
                          "Inequality": 0.18
                        },
                        {
                          "AvrgWellBeing": 6,
                          "Inequality": 0.3
                        },
                        {
                          "AvrgWellBeing": 6.5,
                          "Inequality": 0.22
                        },
                        {
                          "AvrgWellBeing": 7.1,
                          "Inequality": 0.19
                        },
                        {
                          "AvrgWellBeing": 5.5,
                          "Inequality": 0.19
                        },
                        {
                          "AvrgWellBeing": 4.1,
                          "Inequality": 0.39
                        },
                        {
                          "AvrgWellBeing": 5,
                          "Inequality": 0.41
                        },
                        {
                          "AvrgWellBeing": 5,
                          "Inequality": 0.37
                        }
                      ]
                    },
                    "vislib": "vegalite",
                    "$schema": "https://vega.github.io/schema/vega-lite/v4.8.1.json",
                    "mark": "circle",
                    "data": {
                      "name": "data-ea3a30a1f161677840dd807b0705224d"
                    }
                  },
                  {
                    "selection": {
                      "selector047": {
                        "bind": "scales",
                        "type": "interval",
                        "encodings": [
                          "x",
                          "y"
                        ]
                      }
                    },
                    "encoding": {
                      "y": {
                        "field": "HappyLifeYears",
                        "scale": {
                          "domain": [
                            9,
                            59.3
                          ]
                        },
                        "type": "quantitative",
                        "axis": {
                          "title": "HappyLifeYears"
                        }
                      },
                      "x": {
                        "field": "Footprint",
                        "scale": {
                          "domain": [
                            0.6,
                            15.8
                          ]
                        },
                        "type": "quantitative",
                        "axis": {
                          "title": "Footprint"
                        }
                      }
                    },
                    "config": {
                      "mark": {
                        "tooltip": {
                          "content": "encoding"
                        }
                      },
                      "axis": {
                        "labelFont": "Helvetica Neue",
                        "labelFontSize": 9,
                        "labelColor": "#505050",
                        "titleFont": "Helvetica Neue",
                        "labelFontWeight": 400,
                        "titleFontSize": 11,
                        "titleFontWeight": 500
                      },
                      "title": {
                        "fontWeight": 500,
                        "font": "Helvetica Neue",
                        "fontSize": 13
                      },
                      "legend": {
                        "labelFont": "Helvetica Neue",
                        "labelFontSize": 9,
                        "titleFont": "Helvetica Neue",
                        "labelFontWeight": 400,
                        "titleFontSize": 10,
                        "titleFontWeight": 500
                      },
                      "view": {
                        "continuousWidth": 400,
                        "continuousHeight": 300
                      }
                    },
                    "height": 150,
                    "width": 160,
                    "datasets": {
                      "data-77602a0fbdbd3a1ca95e805d24598ac3": [
                        {
                          "Footprint": 0.8,
                          "HappyLifeYears": 12.4
                        },
                        {
                          "Footprint": 2.2,
                          "HappyLifeYears": 34.4
                        },
                        {
                          "Footprint": 2.1,
                          "HappyLifeYears": 30.5
                        },
                        {
                          "Footprint": 3.1,
                          "HappyLifeYears": 40.2
                        },
                        {
                          "Footprint": 2.2,
                          "HappyLifeYears": 24
                        },
                        {
                          "Footprint": 9.3,
                          "HappyLifeYears": 53.1
                        },
                        {
                          "Footprint": 6.1,
                          "HappyLifeYears": 54.4
                        },
                        {
                          "Footprint": 0.7,
                          "HappyLifeYears": 23.3
                        },
                        {
                          "Footprint": 5.1,
                          "HappyLifeYears": 34
                        },
                        {
                          "Footprint": 7.4,
                          "HappyLifeYears": 49.5
                        },
                        {
                          "Footprint": 2.5,
                          "HappyLifeYears": 34.2
                        },
                        {
                          "Footprint": 1.4,
                          "HappyLifeYears": 9.9
                        },
                        {
                          "Footprint": 2.3,
                          "HappyLifeYears": 27.4
                        },
                        {
                          "Footprint": 3,
                          "HappyLifeYears": 25.6
                        },
                        {
                          "Footprint": 3.1,
                          "HappyLifeYears": 28.6
                        },
                        {
                          "Footprint": 3.8,
                          "HappyLifeYears": 21.3
                        },
                        {
                          "Footprint": 3.1,
                          "HappyLifeYears": 39
                        },
                        {
                          "Footprint": 3.3,
                          "HappyLifeYears": 24
                        },
                        {
                          "Footprint": 1.2,
                          "HappyLifeYears": 12.6
                        },
                        {
                          "Footprint": 0.8,
                          "HappyLifeYears": 9.5
                        },
                        {
                          "Footprint": 1.2,
                          "HappyLifeYears": 18.2
                        },
                        {
                          "Footprint": 1.2,
                          "HappyLifeYears": 11.6
                        },
                        {
                          "Footprint": 8.2,
                          "HappyLifeYears": 53.9
                        },
                        {
                          "Footprint": 1.5,
                          "HappyLifeYears": 9.6
                        },
                        {
                          "Footprint": 4.4,
                          "HappyLifeYears": 44.7
                        },
                        {
                          "Footprint": 3.4,
                          "HappyLifeYears": 30.6
                        },
                        {
                          "Footprint": 1.9,
                          "HappyLifeYears": 35.1
                        },
                        {
                          "Footprint": 1,
                          "HappyLifeYears": 15.4
                        },
                        {
                          "Footprint": 2.8,
                          "HappyLifeYears": 48.2
                        },
                        {
                          "Footprint": 1.3,
                          "HappyLifeYears": 10.3
                        },
                        {
                          "Footprint": 3.9,
                          "HappyLifeYears": 39.6
                        },
                        {
                          "Footprint": 4.2,
                          "HappyLifeYears": 42.3
                        },
                        {
                          "Footprint": 5.2,
                          "HappyLifeYears": 43.4
                        },
                        {
                          "Footprint": 5.5,
                          "HappyLifeYears": 54.4
                        },
                        {
                          "Footprint": 2.2,
                          "HappyLifeYears": 15.1
                        },
                        {
                          "Footprint": 1.5,
                          "HappyLifeYears": 23.7
                        },
                        {
                          "Footprint": 2.2,
                          "HappyLifeYears": 34.3
                        },
                        {
                          "Footprint": 2.2,
                          "HappyLifeYears": 21.8
                        },
                        {
                          "Footprint": 2.1,
                          "HappyLifeYears": 32.2
                        },
                        {
                          "Footprint": 6.9,
                          "HappyLifeYears": 35
                        },
                        {
                          "Footprint": 1,
                          "HappyLifeYears": 17.8
                        },
                        {
                          "Footprint": 5.9,
                          "HappyLifeYears": 54.6
                        },
                        {
                          "Footprint": 5.1,
                          "HappyLifeYears": 48.1
                        },
                        {
                          "Footprint": 2,
                          "HappyLifeYears": 15.4
                        },
                        {
                          "Footprint": 1.6,
                          "HappyLifeYears": 24.7
                        },
                        {
                          "Footprint": 5.3,
                          "HappyLifeYears": 48.2
                        },
                        {
                          "Footprint": 2,
                          "HappyLifeYears": 18.8
                        },
                        {
                          "Footprint": 4.4,
                          "HappyLifeYears": 33.3
                        },
                        {
                          "Footprint": 1.9,
                          "HappyLifeYears": 29.6
                        },
                        {
                          "Footprint": 1.4,
                          "HappyLifeYears": 11.8
                        },
                        {
                          "Footprint": 0.6,
                          "HappyLifeYears": 16.5
                        },
                        {
                          "Footprint": 1.7,
                          "HappyLifeYears": 22.1
                        },
                        {
                          "Footprint": 8.8,
                          "HappyLifeYears": 40.1
                        },
                        {
                          "Footprint": 2.9,
                          "HappyLifeYears": 28.7
                        },
                        {
                          "Footprint": 6.4,
                          "HappyLifeYears": 58
                        },
                        {
                          "Footprint": 1.2,
                          "HappyLifeYears": 20.4
                        },
                        {
                          "Footprint": 1.6,
                          "HappyLifeYears": 28.4
                        },
                        {
                          "Footprint": 2.8,
                          "HappyLifeYears": 25.4
                        },
                        {
                          "Footprint": 1.9,
                          "HappyLifeYears": 22.8
                        },
                        {
                          "Footprint": 5.6,
                          "HappyLifeYears": 50.3
                        },
                        {
                          "Footprint": 6.2,
                          "HappyLifeYears": 52.5
                        },
                        {
                          "Footprint": 4.6,
                          "HappyLifeYears": 41.1
                        },
                        {
                          "Footprint": 1.9,
                          "HappyLifeYears": 31.9
                        },
                        {
                          "Footprint": 5,
                          "HappyLifeYears": 44
                        },
                        {
                          "Footprint": 5.6,
                          "HappyLifeYears": 31.7
                        },
                        {
                          "Footprint": 1,
                          "HappyLifeYears": 16.2
                        },
                        {
                          "Footprint": 1.9,
                          "HappyLifeYears": 28.7
                        },
                        {
                          "Footprint": 6.3,
                          "HappyLifeYears": 31.2
                        },
                        {
                          "Footprint": 3.8,
                          "HappyLifeYears": 28.2
                        },
                        {
                          "Footprint": 1.7,
                          "HappyLifeYears": 13.4
                        },
                        {
                          "Footprint": 1.2,
                          "HappyLifeYears": 15.7
                        },
                        {
                          "Footprint": 5.8,
                          "HappyLifeYears": 36.4
                        },
                        {
                          "Footprint": 15.8,
                          "HappyLifeYears": 51.7
                        },
                        {
                          "Footprint": 3.3,
                          "HappyLifeYears": 27.2
                        },
                        {
                          "Footprint": 0.8,
                          "HappyLifeYears": 13.7
                        },
                        {
                          "Footprint": 3.7,
                          "HappyLifeYears": 38.3
                        },
                        {
                          "Footprint": 4.4,
                          "HappyLifeYears": 40.8
                        },
                        {
                          "Footprint": 2.5,
                          "HappyLifeYears": 18
                        },
                        {
                          "Footprint": 3.5,
                          "HappyLifeYears": 33.1
                        },
                        {
                          "Footprint": 2.9,
                          "HappyLifeYears": 44.3
                        },
                        {
                          "Footprint": 6.1,
                          "HappyLifeYears": 25.3
                        },
                        {
                          "Footprint": 3.8,
                          "HappyLifeYears": 32.1
                        },
                        {
                          "Footprint": 1.7,
                          "HappyLifeYears": 26.7
                        },
                        {
                          "Footprint": 0.9,
                          "HappyLifeYears": 15
                        },
                        {
                          "Footprint": 1.4,
                          "HappyLifeYears": 18.8
                        },
                        {
                          "Footprint": 2.5,
                          "HappyLifeYears": 21.3
                        },
                        {
                          "Footprint": 1,
                          "HappyLifeYears": 20.2
                        },
                        {
                          "Footprint": 5.3,
                          "HappyLifeYears": 57
                        },
                        {
                          "Footprint": 5.6,
                          "HappyLifeYears": 52.7
                        },
                        {
                          "Footprint": 1.4,
                          "HappyLifeYears": 29.2
                        },
                        {
                          "Footprint": 1.6,
                          "HappyLifeYears": 13.1
                        },
                        {
                          "Footprint": 1.2,
                          "HappyLifeYears": 15.5
                        },
                        {
                          "Footprint": 5,
                          "HappyLifeYears": 57.1
                        },
                        {
                          "Footprint": 7.5,
                          "HappyLifeYears": 44.5
                        },
                        {
                          "Footprint": 0.8,
                          "HappyLifeYears": 19.5
                        },
                        {
                          "Footprint": 1.2,
                          "HappyLifeYears": 24.5
                        },
                        {
                          "Footprint": 2.8,
                          "HappyLifeYears": 42.1
                        },
                        {
                          "Footprint": 4.2,
                          "HappyLifeYears": 31.8
                        },
                        {
                          "Footprint": 2.3,
                          "HappyLifeYears": 32.9
                        },
                        {
                          "Footprint": 1.1,
                          "HappyLifeYears": 24.1
                        },
                        {
                          "Footprint": 4.4,
                          "HappyLifeYears": 39.2
                        },
                        {
                          "Footprint": 3.9,
                          "HappyLifeYears": 32.3
                        },
                        {
                          "Footprint": 1.3,
                          "HappyLifeYears": 13.6
                        },
                        {
                          "Footprint": 2.7,
                          "HappyLifeYears": 30.1
                        },
                        {
                          "Footprint": 5.7,
                          "HappyLifeYears": 31.7
                        },
                        {
                          "Footprint": 0.9,
                          "HappyLifeYears": 12.4
                        },
                        {
                          "Footprint": 1.2,
                          "HappyLifeYears": 15.5
                        },
                        {
                          "Footprint": 2.7,
                          "HappyLifeYears": 30.3
                        },
                        {
                          "Footprint": 1.2,
                          "HappyLifeYears": 10.8
                        },
                        {
                          "Footprint": 4.1,
                          "HappyLifeYears": 37.9
                        },
                        {
                          "Footprint": 5.8,
                          "HappyLifeYears": 42.6
                        },
                        {
                          "Footprint": 3.3,
                          "HappyLifeYears": 18.5
                        },
                        {
                          "Footprint": 5.7,
                          "HappyLifeYears": 42.2
                        },
                        {
                          "Footprint": 3.7,
                          "HappyLifeYears": 45.3
                        },
                        {
                          "Footprint": 1.3,
                          "HappyLifeYears": 24.9
                        },
                        {
                          "Footprint": 4.3,
                          "HappyLifeYears": 35.2
                        },
                        {
                          "Footprint": 2,
                          "HappyLifeYears": 13.6
                        },
                        {
                          "Footprint": 7.3,
                          "HappyLifeYears": 57.4
                        },
                        {
                          "Footprint": 5.8,
                          "HappyLifeYears": 59.3
                        },
                        {
                          "Footprint": 1.5,
                          "HappyLifeYears": 14.7
                        },
                        {
                          "Footprint": 0.9,
                          "HappyLifeYears": 22.2
                        },
                        {
                          "Footprint": 1.3,
                          "HappyLifeYears": 16.2
                        },
                        {
                          "Footprint": 2.7,
                          "HappyLifeYears": 38.6
                        },
                        {
                          "Footprint": 1.1,
                          "HappyLifeYears": 9
                        },
                        {
                          "Footprint": 7.9,
                          "HappyLifeYears": 34.4
                        },
                        {
                          "Footprint": 2.3,
                          "HappyLifeYears": 25.2
                        },
                        {
                          "Footprint": 3.3,
                          "HappyLifeYears": 31.2
                        },
                        {
                          "Footprint": 5.5,
                          "HappyLifeYears": 24
                        },
                        {
                          "Footprint": 1.2,
                          "HappyLifeYears": 13.8
                        },
                        {
                          "Footprint": 2.8,
                          "HappyLifeYears": 28.3
                        },
                        {
                          "Footprint": 4.9,
                          "HappyLifeYears": 49.1
                        },
                        {
                          "Footprint": 8.2,
                          "HappyLifeYears": 46.8
                        },
                        {
                          "Footprint": 2.9,
                          "HappyLifeYears": 39.4
                        },
                        {
                          "Footprint": 2.3,
                          "HappyLifeYears": 27.9
                        },
                        {
                          "Footprint": 1.9,
                          "HappyLifeYears": 34.9
                        },
                        {
                          "Footprint": 3.6,
                          "HappyLifeYears": 41.5
                        },
                        {
                          "Footprint": 1.7,
                          "HappyLifeYears": 32.8
                        },
                        {
                          "Footprint": 1,
                          "HappyLifeYears": 15.2
                        },
                        {
                          "Footprint": 1,
                          "HappyLifeYears": 16.7
                        },
                        {
                          "Footprint": 1.4,
                          "HappyLifeYears": 16.4
                        }
                      ]
                    },
                    "vislib": "vegalite",
                    "$schema": "https://vega.github.io/schema/vega-lite/v4.8.1.json",
                    "mark": "circle",
                    "data": {
                      "name": "data-77602a0fbdbd3a1ca95e805d24598ac3"
                    }
                  }
                ],
                "description": "Show relationships between two <p class='highlight-descriptor'>quantitative</p> attributes.",
                "long_description": "Correlation searches through all pairwise relationship between two quantitative attributes             (e.g., HappyPlanetIndex, GDPPerCapita). The visualizations are ranked from most to least linearly correlated based on                 their Pearson’s correlation score."
              },
              {
                "action": "Distribution",
                "vspec": [
                  {
                    "datasets": {
                      "data-d30ae9767f7413e3e48f52aa291ca330": [
                        {
                          "Population_end": 142044485.71,
                          "Number of Records": 131,
                          "Population": 247498
                        },
                        {
                          "Population_end": 277089235.90999997,
                          "Number of Records": 6,
                          "Population": 135292248.2
                        },
                        {
                          "Population_end": 412133986.11,
                          "Number of Records": 1,
                          "Population": 270336998.4
                        },
                        {
                          "Population_end": 547178736.31,
                          "Number of Records": 0,
                          "Population": 405381748.59999996
                        },
                        {
                          "Population_end": 682223486.51,
                          "Number of Records": 0,
                          "Population": 540426498.8
                        },
                        {
                          "Population_end": 817268236.71,
                          "Number of Records": 0,
                          "Population": 675471249
                        },
                        {
                          "Population_end": 952312986.91,
                          "Number of Records": 0,
                          "Population": 810515999.1999999
                        },
                        {
                          "Population_end": 1087357737.11,
                          "Number of Records": 0,
                          "Population": 945560749.3999999
                        },
                        {
                          "Population_end": 1222402487.31,
                          "Number of Records": 0,
                          "Population": 1080605499.6
                        },
                        {
                          "Population_end": 1357447237.51,
                          "Number of Records": 2,
                          "Population": 1215650249.8
                        }
                      ]
                    },
                    "encoding": {
                      "x2": {
                        "field": "Population_end"
                      },
                      "x": {
                        "bin": {
                          "binned": true,
                          "step": 135044750.2
                        },
                        "scale": {
                          "domain": [
                            247498,
                            1350695000
                          ]
                        },
                        "title": "Population (binned)",
                        "field": "Population",
                        "type": "quantitative",
                        "axis": {
                          "title": "Population (binned)"
                        }
                      },
                      "y": {
                        "field": "Number of Records",
                        "type": "quantitative"
                      }
                    },
                    "config": {
                      "title": {
                        "fontWeight": 500,
                        "font": "Helvetica Neue",
                        "fontSize": 13
                      },
                      "axis": {
                        "labelFont": "Helvetica Neue",
                        "labelFontSize": 9,
                        "labelColor": "#505050",
                        "titleFont": "Helvetica Neue",
                        "labelFontWeight": 400,
                        "titleFontSize": 11,
                        "titleFontWeight": 500
                      },
                      "legend": {
                        "labelFont": "Helvetica Neue",
                        "labelFontSize": 9,
                        "titleFont": "Helvetica Neue",
                        "labelFontWeight": 400,
                        "titleFontSize": 10,
                        "titleFontWeight": 500
                      },
                      "view": {
                        "continuousWidth": 400,
                        "continuousHeight": 300
                      }
                    },
                    "height": 150,
                    "width": 160,
                    "vislib": "vegalite",
                    "$schema": "https://vega.github.io/schema/vega-lite/v4.8.1.json",
                    "mark": "bar",
                    "data": {
                      "name": "data-d30ae9767f7413e3e48f52aa291ca330"
                    }
                  },
                  {
                    "datasets": {
                      "data-a1b17f8d2d05c83adbf96e19a182fd24": [
                        {
                          "GDPPerCapita": 244,
                          "GDPPerCapita_end": 11290.31,
                          "Number of Records": 93
                        },
                        {
                          "GDPPerCapita": 10764.3,
                          "GDPPerCapita_end": 21810.61,
                          "Number of Records": 19
                        },
                        {
                          "GDPPerCapita": 21284.6,
                          "GDPPerCapita_end": 32330.909999999996,
                          "Number of Records": 6
                        },
                        {
                          "GDPPerCapita": 31804.899999999998,
                          "GDPPerCapita_end": 42851.21,
                          "Number of Records": 6
                        },
                        {
                          "GDPPerCapita": 42325.2,
                          "GDPPerCapita_end": 53371.509999999995,
                          "Number of Records": 10
                        },
                        {
                          "GDPPerCapita": 52845.5,
                          "GDPPerCapita_end": 63891.81,
                          "Number of Records": 2
                        },
                        {
                          "GDPPerCapita": 63365.799999999996,
                          "GDPPerCapita_end": 74412.11,
                          "Number of Records": 1
                        },
                        {
                          "GDPPerCapita": 73886.09999999999,
                          "GDPPerCapita_end": 84932.40999999999,
                          "Number of Records": 1
                        },
                        {
                          "GDPPerCapita": 84406.4,
                          "GDPPerCapita_end": 95452.70999999999,
                          "Number of Records": 0
                        },
                        {
                          "GDPPerCapita": 94926.7,
                          "GDPPerCapita_end": 105973.01,
                          "Number of Records": 2
                        }
                      ]
                    },
                    "encoding": {
                      "x2": {
                        "field": "GDPPerCapita_end"
                      },
                      "x": {
                        "bin": {
                          "binned": true,
                          "step": 10520.3
                        },
                        "scale": {
                          "domain": [
                            244,
                            105447
                          ]
                        },
                        "title": "GDPPerCapita (binned)",
                        "field": "GDPPerCapita",
                        "type": "quantitative",
                        "axis": {
                          "title": "GDPPerCapita (binned)"
                        }
                      },
                      "y": {
                        "field": "Number of Records",
                        "type": "quantitative"
                      }
                    },
                    "config": {
                      "title": {
                        "fontWeight": 500,
                        "font": "Helvetica Neue",
                        "fontSize": 13
                      },
                      "axis": {
                        "labelFont": "Helvetica Neue",
                        "labelFontSize": 9,
                        "labelColor": "#505050",
                        "titleFont": "Helvetica Neue",
                        "labelFontWeight": 400,
                        "titleFontSize": 11,
                        "titleFontWeight": 500
                      },
                      "legend": {
                        "labelFont": "Helvetica Neue",
                        "labelFontSize": 9,
                        "titleFont": "Helvetica Neue",
                        "labelFontWeight": 400,
                        "titleFontSize": 10,
                        "titleFontWeight": 500
                      },
                      "view": {
                        "continuousWidth": 400,
                        "continuousHeight": 300
                      }
                    },
                    "height": 150,
                    "width": 160,
                    "vislib": "vegalite",
                    "$schema": "https://vega.github.io/schema/vega-lite/v4.8.1.json",
                    "mark": "bar",
                    "data": {
                      "name": "data-a1b17f8d2d05c83adbf96e19a182fd24"
                    }
                  },
                  {
                    "datasets": {
                      "data-bcd4b4accf2ec2f1c417d9931b638dd6": [
                        {
                          "Footprint": 0.6,
                          "Number of Records": 57,
                          "Footprint_end": 2.2
                        },
                        {
                          "Footprint": 2.12,
                          "Number of Records": 33,
                          "Footprint_end": 3.72
                        },
                        {
                          "Footprint": 3.64,
                          "Number of Records": 21,
                          "Footprint_end": 5.24
                        },
                        {
                          "Footprint": 5.16,
                          "Number of Records": 19,
                          "Footprint_end": 6.76
                        },
                        {
                          "Footprint": 6.68,
                          "Number of Records": 5,
                          "Footprint_end": 8.28
                        },
                        {
                          "Footprint": 8.2,
                          "Number of Records": 4,
                          "Footprint_end": 9.799999999999999
                        },
                        {
                          "Footprint": 9.72,
                          "Number of Records": 0,
                          "Footprint_end": 11.32
                        },
                        {
                          "Footprint": 11.24,
                          "Number of Records": 0,
                          "Footprint_end": 12.84
                        },
                        {
                          "Footprint": 12.76,
                          "Number of Records": 0,
                          "Footprint_end": 14.36
                        },
                        {
                          "Footprint": 14.28,
                          "Number of Records": 1,
                          "Footprint_end": 15.879999999999999
                        }
                      ]
                    },
                    "encoding": {
                      "x2": {
                        "field": "Footprint_end"
                      },
                      "x": {
                        "bin": {
                          "binned": true,
                          "step": 1.52
                        },
                        "scale": {
                          "domain": [
                            0.6,
                            15.8
                          ]
                        },
                        "title": "Footprint (binned)",
                        "field": "Footprint",
                        "type": "quantitative",
                        "axis": {
                          "title": "Footprint (binned)"
                        }
                      },
                      "y": {
                        "field": "Number of Records",
                        "type": "quantitative"
                      }
                    },
                    "config": {
                      "title": {
                        "fontWeight": 500,
                        "font": "Helvetica Neue",
                        "fontSize": 13
                      },
                      "axis": {
                        "labelFont": "Helvetica Neue",
                        "labelFontSize": 9,
                        "labelColor": "#505050",
                        "titleFont": "Helvetica Neue",
                        "labelFontWeight": 400,
                        "titleFontSize": 11,
                        "titleFontWeight": 500
                      },
                      "legend": {
                        "labelFont": "Helvetica Neue",
                        "labelFontSize": 9,
                        "titleFont": "Helvetica Neue",
                        "labelFontWeight": 400,
                        "titleFontSize": 10,
                        "titleFontWeight": 500
                      },
                      "view": {
                        "continuousWidth": 400,
                        "continuousHeight": 300
                      }
                    },
                    "height": 150,
                    "width": 160,
                    "vislib": "vegalite",
                    "$schema": "https://vega.github.io/schema/vega-lite/v4.8.1.json",
                    "mark": "bar",
                    "data": {
                      "name": "data-bcd4b4accf2ec2f1c417d9931b638dd6"
                    }
                  },
                  {
                    "datasets": {
                      "data-7c008a2b3f1dc733e6ee917bcea2ada2": [
                        {
                          "AvrgLifeExpectancy_end": 52.54,
                          "Number of Records": 6,
                          "AvrgLifeExpectancy": 48.9
                        },
                        {
                          "AvrgLifeExpectancy_end": 56.01,
                          "Number of Records": 4,
                          "AvrgLifeExpectancy": 52.37
                        },
                        {
                          "AvrgLifeExpectancy_end": 59.48,
                          "Number of Records": 7,
                          "AvrgLifeExpectancy": 55.839999999999996
                        },
                        {
                          "AvrgLifeExpectancy_end": 62.95,
                          "Number of Records": 11,
                          "AvrgLifeExpectancy": 59.31
                        },
                        {
                          "AvrgLifeExpectancy_end": 66.42,
                          "Number of Records": 11,
                          "AvrgLifeExpectancy": 62.78
                        },
                        {
                          "AvrgLifeExpectancy_end": 69.89,
                          "Number of Records": 14,
                          "AvrgLifeExpectancy": 66.25
                        },
                        {
                          "AvrgLifeExpectancy_end": 73.36,
                          "Number of Records": 16,
                          "AvrgLifeExpectancy": 69.72
                        },
                        {
                          "AvrgLifeExpectancy_end": 76.83,
                          "Number of Records": 33,
                          "AvrgLifeExpectancy": 73.19
                        },
                        {
                          "AvrgLifeExpectancy_end": 80.3,
                          "Number of Records": 12,
                          "AvrgLifeExpectancy": 76.66
                        },
                        {
                          "AvrgLifeExpectancy_end": 83.77,
                          "Number of Records": 26,
                          "AvrgLifeExpectancy": 80.13
                        }
                      ]
                    },
                    "encoding": {
                      "x2": {
                        "field": "AvrgLifeExpectancy_end"
                      },
                      "x": {
                        "bin": {
                          "binned": true,
                          "step": 3.469999999999999
                        },
                        "scale": {
                          "domain": [
                            48.9,
                            83.6
                          ]
                        },
                        "title": "AvrgLifeEx...ectancy (binned)",
                        "field": "AvrgLifeExpectancy",
                        "type": "quantitative",
                        "axis": {
                          "title": "AvrgLifeEx...ectancy (binned)"
                        }
                      },
                      "y": {
                        "field": "Number of Records",
                        "type": "quantitative"
                      }
                    },
                    "config": {
                      "title": {
                        "fontWeight": 500,
                        "font": "Helvetica Neue",
                        "fontSize": 13
                      },
                      "axis": {
                        "labelFont": "Helvetica Neue",
                        "labelFontSize": 9,
                        "labelColor": "#505050",
                        "titleFont": "Helvetica Neue",
                        "labelFontWeight": 400,
                        "titleFontSize": 11,
                        "titleFontWeight": 500
                      },
                      "legend": {
                        "labelFont": "Helvetica Neue",
                        "labelFontSize": 9,
                        "titleFont": "Helvetica Neue",
                        "labelFontWeight": 400,
                        "titleFontSize": 10,
                        "titleFontWeight": 500
                      },
                      "view": {
                        "continuousWidth": 400,
                        "continuousHeight": 300
                      }
                    },
                    "height": 150,
                    "width": 160,
                    "vislib": "vegalite",
                    "$schema": "https://vega.github.io/schema/vega-lite/v4.8.1.json",
                    "mark": "bar",
                    "data": {
                      "name": "data-7c008a2b3f1dc733e6ee917bcea2ada2"
                    }
                  },
                  {
                    "datasets": {
                      "data-f4148375d60bea56ac582acbbbd18afc": [
                        {
                          "IneqAdjLifeExpectancy": 27.3,
                          "Number of Records": 6,
                          "IneqAdjLifeExpectancy_end": 32.97
                        },
                        {
                          "IneqAdjLifeExpectancy": 32.7,
                          "Number of Records": 8,
                          "IneqAdjLifeExpectancy_end": 38.370000000000005
                        },
                        {
                          "IneqAdjLifeExpectancy": 38.1,
                          "Number of Records": 14,
                          "IneqAdjLifeExpectancy_end": 43.77
                        },
                        {
                          "IneqAdjLifeExpectancy": 43.5,
                          "Number of Records": 9,
                          "IneqAdjLifeExpectancy_end": 49.17
                        },
                        {
                          "IneqAdjLifeExpectancy": 48.900000000000006,
                          "Number of Records": 7,
                          "IneqAdjLifeExpectancy_end": 54.57000000000001
                        },
                        {
                          "IneqAdjLifeExpectancy": 54.3,
                          "Number of Records": 11,
                          "IneqAdjLifeExpectancy_end": 59.97
                        },
                        {
                          "IneqAdjLifeExpectancy": 59.7,
                          "Number of Records": 20,
                          "IneqAdjLifeExpectancy_end": 65.37
                        },
                        {
                          "IneqAdjLifeExpectancy": 65.10000000000001,
                          "Number of Records": 24,
                          "IneqAdjLifeExpectancy_end": 70.77000000000001
                        },
                        {
                          "IneqAdjLifeExpectancy": 70.5,
                          "Number of Records": 13,
                          "IneqAdjLifeExpectancy_end": 76.17
                        },
                        {
                          "IneqAdjLifeExpectancy": 75.9,
                          "Number of Records": 28,
                          "IneqAdjLifeExpectancy_end": 81.57000000000001
                        }
                      ]
                    },
                    "encoding": {
                      "x2": {
                        "field": "IneqAdjLifeExpectancy_end"
                      },
                      "x": {
                        "bin": {
                          "binned": true,
                          "step": 5.400000000000002
                        },
                        "scale": {
                          "domain": [
                            27.3,
                            81.3
                          ]
                        },
                        "title": "IneqAdjLif...ectancy (binned)",
                        "field": "IneqAdjLifeExpectancy",
                        "type": "quantitative",
                        "axis": {
                          "title": "IneqAdjLif...ectancy (binned)"
                        }
                      },
                      "y": {
                        "field": "Number of Records",
                        "type": "quantitative"
                      }
                    },
                    "config": {
                      "title": {
                        "fontWeight": 500,
                        "font": "Helvetica Neue",
                        "fontSize": 13
                      },
                      "axis": {
                        "labelFont": "Helvetica Neue",
                        "labelFontSize": 9,
                        "labelColor": "#505050",
                        "titleFont": "Helvetica Neue",
                        "labelFontWeight": 400,
                        "titleFontSize": 11,
                        "titleFontWeight": 500
                      },
                      "legend": {
                        "labelFont": "Helvetica Neue",
                        "labelFontSize": 9,
                        "titleFont": "Helvetica Neue",
                        "labelFontWeight": 400,
                        "titleFontSize": 10,
                        "titleFontWeight": 500
                      },
                      "view": {
                        "continuousWidth": 400,
                        "continuousHeight": 300
                      }
                    },
                    "height": 150,
                    "width": 160,
                    "vislib": "vegalite",
                    "$schema": "https://vega.github.io/schema/vega-lite/v4.8.1.json",
                    "mark": "bar",
                    "data": {
                      "name": "data-f4148375d60bea56ac582acbbbd18afc"
                    }
                  },
                  {
                    "datasets": {
                      "data-9c099a5bce354d120fb286f45eab10d5": [
                        {
                          "IneqAdjWellbeing_end": 2.95,
                          "IneqAdjWellbeing": 2.4,
                          "Number of Records": 3
                        },
                        {
                          "IneqAdjWellbeing_end": 3.4699999999999998,
                          "IneqAdjWellbeing": 2.92,
                          "Number of Records": 6
                        },
                        {
                          "IneqAdjWellbeing_end": 3.9899999999999993,
                          "IneqAdjWellbeing": 3.4399999999999995,
                          "Number of Records": 20
                        },
                        {
                          "IneqAdjWellbeing_end": 4.51,
                          "IneqAdjWellbeing": 3.9599999999999995,
                          "Number of Records": 24
                        },
                        {
                          "IneqAdjWellbeing_end": 5.029999999999999,
                          "IneqAdjWellbeing": 4.4799999999999995,
                          "Number of Records": 19
                        },
                        {
                          "IneqAdjWellbeing_end": 5.55,
                          "IneqAdjWellbeing": 5,
                          "Number of Records": 27
                        },
                        {
                          "IneqAdjWellbeing_end": 6.069999999999999,
                          "IneqAdjWellbeing": 5.52,
                          "Number of Records": 15
                        },
                        {
                          "IneqAdjWellbeing_end": 6.589999999999999,
                          "IneqAdjWellbeing": 6.039999999999999,
                          "Number of Records": 8
                        },
                        {
                          "IneqAdjWellbeing_end": 7.1099999999999985,
                          "IneqAdjWellbeing": 6.559999999999999,
                          "Number of Records": 9
                        },
                        {
                          "IneqAdjWellbeing_end": 7.629999999999998,
                          "IneqAdjWellbeing": 7.079999999999998,
                          "Number of Records": 9
                        }
                      ]
                    },
                    "encoding": {
                      "x2": {
                        "field": "IneqAdjWellbeing_end"
                      },
                      "x": {
                        "bin": {
                          "binned": true,
                          "step": 0.52
                        },
                        "scale": {
                          "domain": [
                            2.4,
                            7.6
                          ]
                        },
                        "title": "IneqAdjWellbeing (binned)",
                        "field": "IneqAdjWellbeing",
                        "type": "quantitative",
                        "axis": {
                          "title": "IneqAdjWellbeing (binned)"
                        }
                      },
                      "y": {
                        "field": "Number of Records",
                        "type": "quantitative"
                      }
                    },
                    "config": {
                      "title": {
                        "fontWeight": 500,
                        "font": "Helvetica Neue",
                        "fontSize": 13
                      },
                      "axis": {
                        "labelFont": "Helvetica Neue",
                        "labelFontSize": 9,
                        "labelColor": "#505050",
                        "titleFont": "Helvetica Neue",
                        "labelFontWeight": 400,
                        "titleFontSize": 11,
                        "titleFontWeight": 500
                      },
                      "legend": {
                        "labelFont": "Helvetica Neue",
                        "labelFontSize": 9,
                        "titleFont": "Helvetica Neue",
                        "labelFontWeight": 400,
                        "titleFontSize": 10,
                        "titleFontWeight": 500
                      },
                      "view": {
                        "continuousWidth": 400,
                        "continuousHeight": 300
                      }
                    },
                    "height": 150,
                    "width": 160,
                    "vislib": "vegalite",
                    "$schema": "https://vega.github.io/schema/vega-lite/v4.8.1.json",
                    "mark": "bar",
                    "data": {
                      "name": "data-9c099a5bce354d120fb286f45eab10d5"
                    }
                  },
                  {
                    "datasets": {
                      "data-4f04e70e9a4eadca4a208e2f964f2aa6": [
                        {
                          "Inequality": 0.04,
                          "Number of Records": 14,
                          "Inequality_end": 0.09
                        },
                        {
                          "Inequality": 0.087,
                          "Number of Records": 22,
                          "Inequality_end": 0.137
                        },
                        {
                          "Inequality": 0.134,
                          "Number of Records": 20,
                          "Inequality_end": 0.184
                        },
                        {
                          "Inequality": 0.18100000000000002,
                          "Number of Records": 24,
                          "Inequality_end": 0.23100000000000004
                        },
                        {
                          "Inequality": 0.228,
                          "Number of Records": 15,
                          "Inequality_end": 0.278
                        },
                        {
                          "Inequality": 0.27499999999999997,
                          "Number of Records": 9,
                          "Inequality_end": 0.32499999999999996
                        },
                        {
                          "Inequality": 0.322,
                          "Number of Records": 7,
                          "Inequality_end": 0.372
                        },
                        {
                          "Inequality": 0.369,
                          "Number of Records": 14,
                          "Inequality_end": 0.419
                        },
                        {
                          "Inequality": 0.416,
                          "Number of Records": 11,
                          "Inequality_end": 0.46599999999999997
                        },
                        {
                          "Inequality": 0.46299999999999997,
                          "Number of Records": 4,
                          "Inequality_end": 0.513
                        }
                      ]
                    },
                    "encoding": {
                      "x2": {
                        "field": "Inequality_end"
                      },
                      "x": {
                        "bin": {
                          "binned": true,
                          "step": 0.04699999999999999
                        },
                        "scale": {
                          "domain": [
                            0.04,
                            0.51
                          ]
                        },
                        "title": "Inequality (binned)",
                        "field": "Inequality",
                        "type": "quantitative",
                        "axis": {
                          "title": "Inequality (binned)"
                        }
                      },
                      "y": {
                        "field": "Number of Records",
                        "type": "quantitative"
                      }
                    },
                    "config": {
                      "title": {
                        "fontWeight": 500,
                        "font": "Helvetica Neue",
                        "fontSize": 13
                      },
                      "axis": {
                        "labelFont": "Helvetica Neue",
                        "labelFontSize": 9,
                        "labelColor": "#505050",
                        "titleFont": "Helvetica Neue",
                        "labelFontWeight": 400,
                        "titleFontSize": 11,
                        "titleFontWeight": 500
                      },
                      "legend": {
                        "labelFont": "Helvetica Neue",
                        "labelFontSize": 9,
                        "titleFont": "Helvetica Neue",
                        "labelFontWeight": 400,
                        "titleFontSize": 10,
                        "titleFontWeight": 500
                      },
                      "view": {
                        "continuousWidth": 400,
                        "continuousHeight": 300
                      }
                    },
                    "height": 150,
                    "width": 160,
                    "vislib": "vegalite",
                    "$schema": "https://vega.github.io/schema/vega-lite/v4.8.1.json",
                    "mark": "bar",
                    "data": {
                      "name": "data-4f04e70e9a4eadca4a208e2f964f2aa6"
                    }
                  },
                  {
                    "datasets": {
                      "data-44ad93e2acb1617835482bd874f77cd7": [
                        {
                          "HPIRank": 1,
                          "Number of Records": 14,
                          "HPIRank_end": 15.59
                        },
                        {
                          "HPIRank": 14.9,
                          "Number of Records": 14,
                          "HPIRank_end": 29.490000000000002
                        },
                        {
                          "HPIRank": 28.8,
                          "Number of Records": 14,
                          "HPIRank_end": 43.39
                        },
                        {
                          "HPIRank": 42.7,
                          "Number of Records": 14,
                          "HPIRank_end": 57.290000000000006
                        },
                        {
                          "HPIRank": 56.6,
                          "Number of Records": 14,
                          "HPIRank_end": 71.19
                        },
                        {
                          "HPIRank": 70.5,
                          "Number of Records": 14,
                          "HPIRank_end": 85.09
                        },
                        {
                          "HPIRank": 84.4,
                          "Number of Records": 14,
                          "HPIRank_end": 98.99000000000001
                        },
                        {
                          "HPIRank": 98.3,
                          "Number of Records": 14,
                          "HPIRank_end": 112.89
                        },
                        {
                          "HPIRank": 112.2,
                          "Number of Records": 14,
                          "HPIRank_end": 126.79
                        },
                        {
                          "HPIRank": 126.10000000000001,
                          "Number of Records": 14,
                          "HPIRank_end": 140.69
                        }
                      ]
                    },
                    "encoding": {
                      "x2": {
                        "field": "HPIRank_end"
                      },
                      "x": {
                        "bin": {
                          "binned": true,
                          "step": 13.9
                        },
                        "scale": {
                          "domain": [
                            1,
                            140
                          ]
                        },
                        "title": "HPIRank (binned)",
                        "field": "HPIRank",
                        "type": "quantitative",
                        "axis": {
                          "title": "HPIRank (binned)"
                        }
                      },
                      "y": {
                        "field": "Number of Records",
                        "type": "quantitative"
                      }
                    },
                    "config": {
                      "title": {
                        "fontWeight": 500,
                        "font": "Helvetica Neue",
                        "fontSize": 13
                      },
                      "axis": {
                        "labelFont": "Helvetica Neue",
                        "labelFontSize": 9,
                        "labelColor": "#505050",
                        "titleFont": "Helvetica Neue",
                        "labelFontWeight": 400,
                        "titleFontSize": 11,
                        "titleFontWeight": 500
                      },
                      "legend": {
                        "labelFont": "Helvetica Neue",
                        "labelFontSize": 9,
                        "titleFont": "Helvetica Neue",
                        "labelFontWeight": 400,
                        "titleFontSize": 10,
                        "titleFontWeight": 500
                      },
                      "view": {
                        "continuousWidth": 400,
                        "continuousHeight": 300
                      }
                    },
                    "height": 150,
                    "width": 160,
                    "vislib": "vegalite",
                    "$schema": "https://vega.github.io/schema/vega-lite/v4.8.1.json",
                    "mark": "bar",
                    "data": {
                      "name": "data-44ad93e2acb1617835482bd874f77cd7"
                    }
                  },
                  {
                    "datasets": {
                      "data-2d84fc438b93d0647d82da97ba35fa2b": [
                        {
                          "HappyLifeYears": 9,
                          "Number of Records": 17,
                          "HappyLifeYears_end": 14.280000000000001
                        },
                        {
                          "HappyLifeYears": 14.03,
                          "Number of Records": 20,
                          "HappyLifeYears_end": 19.31
                        },
                        {
                          "HappyLifeYears": 19.06,
                          "Number of Records": 14,
                          "HappyLifeYears_end": 24.34
                        },
                        {
                          "HappyLifeYears": 24.089999999999996,
                          "Number of Records": 18,
                          "HappyLifeYears_end": 29.369999999999997
                        },
                        {
                          "HappyLifeYears": 29.119999999999997,
                          "Number of Records": 20,
                          "HappyLifeYears_end": 34.4
                        },
                        {
                          "HappyLifeYears": 34.15,
                          "Number of Records": 13,
                          "HappyLifeYears_end": 39.43
                        },
                        {
                          "HappyLifeYears": 39.17999999999999,
                          "Number of Records": 14,
                          "HappyLifeYears_end": 44.459999999999994
                        },
                        {
                          "HappyLifeYears": 44.209999999999994,
                          "Number of Records": 9,
                          "HappyLifeYears_end": 49.489999999999995
                        },
                        {
                          "HappyLifeYears": 49.239999999999995,
                          "Number of Records": 7,
                          "HappyLifeYears_end": 54.519999999999996
                        },
                        {
                          "HappyLifeYears": 54.269999999999996,
                          "Number of Records": 8,
                          "HappyLifeYears_end": 59.55
                        }
                      ]
                    },
                    "encoding": {
                      "x2": {
                        "field": "HappyLifeYears_end"
                      },
                      "x": {
                        "bin": {
                          "binned": true,
                          "step": 5.029999999999999
                        },
                        "scale": {
                          "domain": [
                            9,
                            59.3
                          ]
                        },
                        "title": "HappyLifeYears (binned)",
                        "field": "HappyLifeYears",
                        "type": "quantitative",
                        "axis": {
                          "title": "HappyLifeYears (binned)"
                        }
                      },
                      "y": {
                        "field": "Number of Records",
                        "type": "quantitative"
                      }
                    },
                    "config": {
                      "title": {
                        "fontWeight": 500,
                        "font": "Helvetica Neue",
                        "fontSize": 13
                      },
                      "axis": {
                        "labelFont": "Helvetica Neue",
                        "labelFontSize": 9,
                        "labelColor": "#505050",
                        "titleFont": "Helvetica Neue",
                        "labelFontWeight": 400,
                        "titleFontSize": 11,
                        "titleFontWeight": 500
                      },
                      "legend": {
                        "labelFont": "Helvetica Neue",
                        "labelFontSize": 9,
                        "titleFont": "Helvetica Neue",
                        "labelFontWeight": 400,
                        "titleFontSize": 10,
                        "titleFontWeight": 500
                      },
                      "view": {
                        "continuousWidth": 400,
                        "continuousHeight": 300
                      }
                    },
                    "height": 150,
                    "width": 160,
                    "vislib": "vegalite",
                    "$schema": "https://vega.github.io/schema/vega-lite/v4.8.1.json",
                    "mark": "bar",
                    "data": {
                      "name": "data-2d84fc438b93d0647d82da97ba35fa2b"
                    }
                  },
                  {
                    "datasets": {
                      "data-65c04b6685ecdaba243bcf8853da5f73": [
                        {
                          "AvrgWellBeing": 2.9,
                          "Number of Records": 4,
                          "AvrgWellBeing_end": 3.41
                        },
                        {
                          "AvrgWellBeing": 3.39,
                          "Number of Records": 6,
                          "AvrgWellBeing_end": 3.9000000000000004
                        },
                        {
                          "AvrgWellBeing": 3.88,
                          "Number of Records": 17,
                          "AvrgWellBeing_end": 4.39
                        },
                        {
                          "AvrgWellBeing": 4.37,
                          "Number of Records": 23,
                          "AvrgWellBeing_end": 4.88
                        },
                        {
                          "AvrgWellBeing": 4.86,
                          "Number of Records": 21,
                          "AvrgWellBeing_end": 5.37
                        },
                        {
                          "AvrgWellBeing": 5.35,
                          "Number of Records": 19,
                          "AvrgWellBeing_end": 5.859999999999999
                        },
                        {
                          "AvrgWellBeing": 5.84,
                          "Number of Records": 19,
                          "AvrgWellBeing_end": 6.35
                        },
                        {
                          "AvrgWellBeing": 6.33,
                          "Number of Records": 8,
                          "AvrgWellBeing_end": 6.84
                        },
                        {
                          "AvrgWellBeing": 6.82,
                          "Number of Records": 14,
                          "AvrgWellBeing_end": 7.33
                        },
                        {
                          "AvrgWellBeing": 7.3100000000000005,
                          "Number of Records": 9,
                          "AvrgWellBeing_end": 7.82
                        }
                      ]
                    },
                    "encoding": {
                      "x2": {
                        "field": "AvrgWellBeing_end"
                      },
                      "x": {
                        "bin": {
                          "binned": true,
                          "step": 0.4900000000000002
                        },
                        "scale": {
                          "domain": [
                            2.9,
                            7.8
                          ]
                        },
                        "title": "AvrgWellBeing (binned)",
                        "field": "AvrgWellBeing",
                        "type": "quantitative",
                        "axis": {
                          "title": "AvrgWellBeing (binned)"
                        }
                      },
                      "y": {
                        "field": "Number of Records",
                        "type": "quantitative"
                      }
                    },
                    "config": {
                      "title": {
                        "fontWeight": 500,
                        "font": "Helvetica Neue",
                        "fontSize": 13
                      },
                      "axis": {
                        "labelFont": "Helvetica Neue",
                        "labelFontSize": 9,
                        "labelColor": "#505050",
                        "titleFont": "Helvetica Neue",
                        "labelFontWeight": 400,
                        "titleFontSize": 11,
                        "titleFontWeight": 500
                      },
                      "legend": {
                        "labelFont": "Helvetica Neue",
                        "labelFontSize": 9,
                        "titleFont": "Helvetica Neue",
                        "labelFontWeight": 400,
                        "titleFontSize": 10,
                        "titleFontWeight": 500
                      },
                      "view": {
                        "continuousWidth": 400,
                        "continuousHeight": 300
                      }
                    },
                    "height": 150,
                    "width": 160,
                    "vislib": "vegalite",
                    "$schema": "https://vega.github.io/schema/vega-lite/v4.8.1.json",
                    "mark": "bar",
                    "data": {
                      "name": "data-65c04b6685ecdaba243bcf8853da5f73"
                    }
                  },
                  {
                    "datasets": {
                      "data-654162649b456f5c2e03b9a8e3f453d4": [
                        {
                          "HappyPlanetIndex": 12.8,
                          "HappyPlanetIndex_end": 16.150000000000002,
                          "Number of Records": 13
                        },
                        {
                          "HappyPlanetIndex": 15.990000000000002,
                          "HappyPlanetIndex_end": 19.340000000000003,
                          "Number of Records": 15
                        },
                        {
                          "HappyPlanetIndex": 19.18,
                          "HappyPlanetIndex_end": 22.53,
                          "Number of Records": 18
                        },
                        {
                          "HappyPlanetIndex": 22.37,
                          "HappyPlanetIndex_end": 25.720000000000002,
                          "Number of Records": 20
                        },
                        {
                          "HappyPlanetIndex": 25.560000000000002,
                          "HappyPlanetIndex_end": 28.910000000000004,
                          "Number of Records": 19
                        },
                        {
                          "HappyPlanetIndex": 28.750000000000004,
                          "HappyPlanetIndex_end": 32.1,
                          "Number of Records": 22
                        },
                        {
                          "HappyPlanetIndex": 31.94,
                          "HappyPlanetIndex_end": 35.29,
                          "Number of Records": 14
                        },
                        {
                          "HappyPlanetIndex": 35.13,
                          "HappyPlanetIndex_end": 38.480000000000004,
                          "Number of Records": 11
                        },
                        {
                          "HappyPlanetIndex": 38.32000000000001,
                          "HappyPlanetIndex_end": 41.67000000000001,
                          "Number of Records": 7
                        },
                        {
                          "HappyPlanetIndex": 41.510000000000005,
                          "HappyPlanetIndex_end": 44.86000000000001,
                          "Number of Records": 1
                        }
                      ]
                    },
                    "encoding": {
                      "x2": {
                        "field": "HappyPlanetIndex_end"
                      },
                      "x": {
                        "bin": {
                          "binned": true,
                          "step": 3.1900000000000013
                        },
                        "scale": {
                          "domain": [
                            12.8,
                            44.7
                          ]
                        },
                        "title": "HappyPlanetIndex (binned)",
                        "field": "HappyPlanetIndex",
                        "type": "quantitative",
                        "axis": {
                          "title": "HappyPlanetIndex (binned)"
                        }
                      },
                      "y": {
                        "field": "Number of Records",
                        "type": "quantitative"
                      }
                    },
                    "config": {
                      "title": {
                        "fontWeight": 500,
                        "font": "Helvetica Neue",
                        "fontSize": 13
                      },
                      "axis": {
                        "labelFont": "Helvetica Neue",
                        "labelFontSize": 9,
                        "labelColor": "#505050",
                        "titleFont": "Helvetica Neue",
                        "labelFontWeight": 400,
                        "titleFontSize": 11,
                        "titleFontWeight": 500
                      },
                      "legend": {
                        "labelFont": "Helvetica Neue",
                        "labelFontSize": 9,
                        "titleFont": "Helvetica Neue",
                        "labelFontWeight": 400,
                        "titleFontSize": 10,
                        "titleFontWeight": 500
                      },
                      "view": {
                        "continuousWidth": 400,
                        "continuousHeight": 300
                      }
                    },
                    "height": 150,
                    "width": 160,
                    "vislib": "vegalite",
                    "$schema": "https://vega.github.io/schema/vega-lite/v4.8.1.json",
                    "mark": "bar",
                    "data": {
                      "name": "data-654162649b456f5c2e03b9a8e3f453d4"
                    }
                  }
                ],
                "description": "Show univariate histograms of <p class='highlight-descriptor'>quantitative</p>  attributes.",
                "long_description": "Distribution displays univariate histogram distributions of all quantitative attributes (e.g., HPIRank). Visualizations are ranked from most to least skewed."
              },
              {
                "action": "Occurrence",
                "vspec": [
                  {
                    "datasets": {
                      "data-3f114ecd602113b0575a92e1efb1cc84": [
                        {
                          "Record": 25,
                          "SubRegion": "Americas"
                        },
                        {
                          "Record": 21,
                          "SubRegion": "Asia Pacific"
                        },
                        {
                          "Record": 20,
                          "SubRegion": "Europe"
                        },
                        {
                          "Record": 14,
                          "SubRegion": "Middle East and North Africa"
                        },
                        {
                          "Record": 26,
                          "SubRegion": "Post-communist"
                        },
                        {
                          "Record": 34,
                          "SubRegion": "Sub Saharan Africa"
                        }
                      ]
                    },
                    "encoding": {
                      "y": {
                        "sort": "-x",
                        "field": "SubRegion",
                        "type": "nominal",
                        "axis": {
                          "title": "SubRegion",
                          "labelOverlap": true
                        }
                      },
                      "x": {
                        "field": "Record",
                        "title": "Number of Records",
                        "type": "quantitative",
                        "axis": {
                          "title": "Number of Records"
                        }
                      }
                    },
                    "config": {
                      "mark": {
                        "tooltip": {
                          "content": "encoding"
                        }
                      },
                      "axis": {
                        "labelFont": "Helvetica Neue",
                        "labelFontSize": 9,
                        "labelColor": "#505050",
                        "titleFont": "Helvetica Neue",
                        "labelFontWeight": 400,
                        "titleFontSize": 11,
                        "titleFontWeight": 500
                      },
                      "title": {
                        "fontWeight": 500,
                        "font": "Helvetica Neue",
                        "fontSize": 13
                      },
                      "legend": {
                        "labelFont": "Helvetica Neue",
                        "labelFontSize": 9,
                        "titleFont": "Helvetica Neue",
                        "labelFontWeight": 400,
                        "titleFontSize": 10,
                        "titleFontWeight": 500
                      },
                      "view": {
                        "continuousWidth": 400,
                        "continuousHeight": 300
                      }
                    },
                    "height": 150,
                    "width": 160,
                    "vislib": "vegalite",
                    "$schema": "https://vega.github.io/schema/vega-lite/v4.8.1.json",
                    "mark": "bar",
                    "data": {
                      "name": "data-3f114ecd602113b0575a92e1efb1cc84"
                    }
                  }
                ],
                "description": "Show frequency of occurrence for <p class='highlight-descriptor'>categorical</p> attributes.",
                "long_description": "Occurence displays bar charts of counts for all categorical attributes (e.g., SubRegion). Visualizations are ranked from most to least uneven across the bars. "
              },
              {
                "action": "Geographical",
                "vspec": [
                  {
                    "layer": [
                      {
                        "data": {
                          "url": "https://cdn.jsdelivr.net/npm/vega-datasets@v1.29.0/data/world-110m.json",
                          "format": {
                            "type": "topojson",
                            "feature": "countries"
                          }
                        },
                        "projection": {
                          "type": "equirectangular"
                        },
                        "mark": {
                          "stroke": "white",
                          "type": "geoshape",
                          "fill": "lightgray"
                        }
                      },
                      {
                        "projection": {
                          "type": "equirectangular"
                        },
                        "title": "Mean of HappyPlanetIndex across World",
                        "encoding": {
                          "color": {
                            "field": "HappyPlanetIndex",
                            "type": "quantitative"
                          }
                        },
                        "transform": [
                          {
                            "from": {
                              "fields": [
                                "HappyPlanetIndex"
                              ],
                              "data": {
                                "name": "data-c64708538f2ec84a0640ad9ac729d834"
                              },
                              "key": "Country"
                            },
                            "lookup": "id"
                          }
                        ],
                        "mark": "geoshape",
                        "data": {
                          "url": "https://cdn.jsdelivr.net/npm/vega-datasets@v1.29.0/data/world-110m.json",
                          "format": {
                            "type": "topojson",
                            "feature": "countries"
                          }
                        }
                      }
                    ],
                    "datasets": {
                      "data-c64708538f2ec84a0640ad9ac729d834": [
                        {
                          "HappyPlanetIndex": 20.2,
                          "Country": 4
                        },
                        {
                          "HappyPlanetIndex": 36.8,
                          "Country": 8
                        },
                        {
                          "HappyPlanetIndex": 33.3,
                          "Country": 12
                        },
                        {
                          "HappyPlanetIndex": 35.2,
                          "Country": 32
                        },
                        {
                          "HappyPlanetIndex": 25.7,
                          "Country": 51
                        },
                        {
                          "HappyPlanetIndex": 21.2,
                          "Country": 36
                        },
                        {
                          "HappyPlanetIndex": 30.5,
                          "Country": 40
                        },
                        {
                          "HappyPlanetIndex": 38.4,
                          "Country": 50
                        },
                        {
                          "HappyPlanetIndex": 21.7,
                          "Country": 112
                        },
                        {
                          "HappyPlanetIndex": 23.7,
                          "Country": 56
                        },
                        {
                          "HappyPlanetIndex": 33.8,
                          "Country": 84
                        },
                        {
                          "HappyPlanetIndex": 13.4,
                          "Country": 204
                        },
                        {
                          "HappyPlanetIndex": 28.6,
                          "Country": 64
                        },
                        {
                          "HappyPlanetIndex": 23.3,
                          "Country": "Bolivia"
                        },
                        {
                          "HappyPlanetIndex": 25.3,
                          "Country": 70
                        },
                        {
                          "HappyPlanetIndex": 16.6,
                          "Country": 72
                        },
                        {
                          "HappyPlanetIndex": 34.3,
                          "Country": 76
                        },
                        {
                          "HappyPlanetIndex": 20.4,
                          "Country": 100
                        },
                        {
                          "HappyPlanetIndex": 17.9,
                          "Country": 854
                        },
                        {
                          "HappyPlanetIndex": 15.6,
                          "Country": 108
                        },
                        {
                          "HappyPlanetIndex": 25.6,
                          "Country": 116
                        },
                        {
                          "HappyPlanetIndex": 16.7,
                          "Country": 120
                        },
                        {
                          "HappyPlanetIndex": 23.9,
                          "Country": 124
                        },
                        {
                          "HappyPlanetIndex": 12.8,
                          "Country": 148
                        },
                        {
                          "HappyPlanetIndex": 31.7,
                          "Country": 152
                        },
                        {
                          "HappyPlanetIndex": 25.7,
                          "Country": 156
                        },
                        {
                          "HappyPlanetIndex": 40.7,
                          "Country": 170
                        },
                        {
                          "HappyPlanetIndex": 23.1,
                          "Country": 174
                        },
                        {
                          "HappyPlanetIndex": 44.7,
                          "Country": 188
                        },
                        {
                          "HappyPlanetIndex": 14.4,
                          "Country": "Cote d'Ivoire"
                        },
                        {
                          "HappyPlanetIndex": 30.2,
                          "Country": 191
                        },
                        {
                          "HappyPlanetIndex": 30.7,
                          "Country": 196
                        },
                        {
                          "HappyPlanetIndex": 27.3,
                          "Country": "Czech Republic"
                        },
                        {
                          "HappyPlanetIndex": 32.7,
                          "Country": 208
                        },
                        {
                          "HappyPlanetIndex": 16.4,
                          "Country": 262
                        },
                        {
                          "HappyPlanetIndex": 30.3,
                          "Country": 214
                        },
                        {
                          "HappyPlanetIndex": 37,
                          "Country": 218
                        },
                        {
                          "HappyPlanetIndex": 23.8,
                          "Country": 818
                        },
                        {
                          "HappyPlanetIndex": 35.6,
                          "Country": 222
                        },
                        {
                          "HappyPlanetIndex": 17.9,
                          "Country": 233
                        },
                        {
                          "HappyPlanetIndex": 26.7,
                          "Country": 231
                        },
                        {
                          "HappyPlanetIndex": 31.3,
                          "Country": 246
                        },
                        {
                          "HappyPlanetIndex": 30.4,
                          "Country": 250
                        },
                        {
                          "HappyPlanetIndex": 17.5,
                          "Country": 266
                        },
                        {
                          "HappyPlanetIndex": 31.1,
                          "Country": 268
                        },
                        {
                          "HappyPlanetIndex": 29.8,
                          "Country": 276
                        },
                        {
                          "HappyPlanetIndex": 21.4,
                          "Country": 288
                        },
                        {
                          "HappyPlanetIndex": 23.6,
                          "Country": 300
                        },
                        {
                          "HappyPlanetIndex": 34.2,
                          "Country": 320
                        },
                        {
                          "HappyPlanetIndex": 15.9,
                          "Country": 324
                        },
                        {
                          "HappyPlanetIndex": 28.6,
                          "Country": 332
                        },
                        {
                          "HappyPlanetIndex": 27.2,
                          "Country": 340
                        },
                        {
                          "HappyPlanetIndex": 16.8,
                          "Country": 344
                        },
                        {
                          "HappyPlanetIndex": 26.4,
                          "Country": 348
                        },
                        {
                          "HappyPlanetIndex": 31.1,
                          "Country": 352
                        },
                        {
                          "HappyPlanetIndex": 29.2,
                          "Country": 356
                        },
                        {
                          "HappyPlanetIndex": 35.7,
                          "Country": 360
                        },
                        {
                          "HappyPlanetIndex": 24,
                          "Country": "Iran"
                        },
                        {
                          "HappyPlanetIndex": 26.5,
                          "Country": 368
                        },
                        {
                          "HappyPlanetIndex": 30,
                          "Country": 372
                        },
                        {
                          "HappyPlanetIndex": 28.8,
                          "Country": 376
                        },
                        {
                          "HappyPlanetIndex": 28.1,
                          "Country": 380
                        },
                        {
                          "HappyPlanetIndex": 36.9,
                          "Country": 388
                        },
                        {
                          "HappyPlanetIndex": 28.3,
                          "Country": 392
                        },
                        {
                          "HappyPlanetIndex": 19.1,
                          "Country": 398
                        },
                        {
                          "HappyPlanetIndex": 24.2,
                          "Country": 404
                        },
                        {
                          "HappyPlanetIndex": 33.1,
                          "Country": 417
                        },
                        {
                          "HappyPlanetIndex": 17.1,
                          "Country": 428
                        },
                        {
                          "HappyPlanetIndex": 21.9,
                          "Country": 422
                        },
                        {
                          "HappyPlanetIndex": 16.7,
                          "Country": 426
                        },
                        {
                          "HappyPlanetIndex": 22.2,
                          "Country": 430
                        },
                        {
                          "HappyPlanetIndex": 21,
                          "Country": 440
                        },
                        {
                          "HappyPlanetIndex": 13.2,
                          "Country": 442
                        },
                        {
                          "HappyPlanetIndex": 23.4,
                          "Country": "Macedonia"
                        },
                        {
                          "HappyPlanetIndex": 22.1,
                          "Country": 454
                        },
                        {
                          "HappyPlanetIndex": 30.3,
                          "Country": 458
                        },
                        {
                          "HappyPlanetIndex": 29,
                          "Country": 470
                        },
                        {
                          "HappyPlanetIndex": 18,
                          "Country": 478
                        },
                        {
                          "HappyPlanetIndex": 27.4,
                          "Country": 480
                        },
                        {
                          "HappyPlanetIndex": 40.7,
                          "Country": 484
                        },
                        {
                          "HappyPlanetIndex": 14.3,
                          "Country": 496
                        },
                        {
                          "HappyPlanetIndex": 25.1,
                          "Country": 499
                        },
                        {
                          "HappyPlanetIndex": 32.7,
                          "Country": 504
                        },
                        {
                          "HappyPlanetIndex": 23.7,
                          "Country": 508
                        },
                        {
                          "HappyPlanetIndex": 24.7,
                          "Country": 104
                        },
                        {
                          "HappyPlanetIndex": 21.6,
                          "Country": 516
                        },
                        {
                          "HappyPlanetIndex": 30.5,
                          "Country": 524
                        },
                        {
                          "HappyPlanetIndex": 35.3,
                          "Country": 528
                        },
                        {
                          "HappyPlanetIndex": 31.3,
                          "Country": 554
                        },
                        {
                          "HappyPlanetIndex": 38.7,
                          "Country": 558
                        },
                        {
                          "HappyPlanetIndex": 16.8,
                          "Country": 562
                        },
                        {
                          "HappyPlanetIndex": 22.2,
                          "Country": 566
                        },
                        {
                          "HappyPlanetIndex": 36.8,
                          "Country": 578
                        },
                        {
                          "HappyPlanetIndex": 21.1,
                          "Country": 512
                        },
                        {
                          "HappyPlanetIndex": 31.5,
                          "Country": 586
                        },
                        {
                          "HappyPlanetIndex": 34.5,
                          "Country": 275
                        },
                        {
                          "HappyPlanetIndex": 39.5,
                          "Country": 591
                        },
                        {
                          "HappyPlanetIndex": 23.3,
                          "Country": 600
                        },
                        {
                          "HappyPlanetIndex": 34.6,
                          "Country": 604
                        },
                        {
                          "HappyPlanetIndex": 35,
                          "Country": 608
                        },
                        {
                          "HappyPlanetIndex": 27.5,
                          "Country": 616
                        },
                        {
                          "HappyPlanetIndex": 24.8,
                          "Country": 620
                        },
                        {
                          "HappyPlanetIndex": 18.8,
                          "Country": "Republic of Congo"
                        },
                        {
                          "HappyPlanetIndex": 28.8,
                          "Country": 642
                        },
                        {
                          "HappyPlanetIndex": 18.7,
                          "Country": "Russia"
                        },
                        {
                          "HappyPlanetIndex": 19.6,
                          "Country": 646
                        },
                        {
                          "HappyPlanetIndex": 21.9,
                          "Country": 686
                        },
                        {
                          "HappyPlanetIndex": 29,
                          "Country": 688
                        },
                        {
                          "HappyPlanetIndex": 15.3,
                          "Country": 694
                        },
                        {
                          "HappyPlanetIndex": 28.2,
                          "Country": 703
                        },
                        {
                          "HappyPlanetIndex": 24.6,
                          "Country": 705
                        },
                        {
                          "HappyPlanetIndex": 15.9,
                          "Country": 710
                        },
                        {
                          "HappyPlanetIndex": 24.8,
                          "Country": "South Korea"
                        },
                        {
                          "HappyPlanetIndex": 36,
                          "Country": 724
                        },
                        {
                          "HappyPlanetIndex": 33.8,
                          "Country": 144
                        },
                        {
                          "HappyPlanetIndex": 25.4,
                          "Country": 740
                        },
                        {
                          "HappyPlanetIndex": 15.5,
                          "Country": "Swaziland"
                        },
                        {
                          "HappyPlanetIndex": 28,
                          "Country": 752
                        },
                        {
                          "HappyPlanetIndex": 34.3,
                          "Country": 756
                        },
                        {
                          "HappyPlanetIndex": 19.1,
                          "Country": "Syria"
                        },
                        {
                          "HappyPlanetIndex": 34.2,
                          "Country": 762
                        },
                        {
                          "HappyPlanetIndex": 22.1,
                          "Country": "Tanzania"
                        },
                        {
                          "HappyPlanetIndex": 37.3,
                          "Country": 764
                        },
                        {
                          "HappyPlanetIndex": 13.2,
                          "Country": 768
                        },
                        {
                          "HappyPlanetIndex": 15.7,
                          "Country": 780
                        },
                        {
                          "HappyPlanetIndex": 26.2,
                          "Country": 788
                        },
                        {
                          "HappyPlanetIndex": 26.4,
                          "Country": 792
                        },
                        {
                          "HappyPlanetIndex": 14.6,
                          "Country": 795
                        },
                        {
                          "HappyPlanetIndex": 19.4,
                          "Country": 800
                        },
                        {
                          "HappyPlanetIndex": 26.4,
                          "Country": 804
                        },
                        {
                          "HappyPlanetIndex": 31.9,
                          "Country": "United Kingdom"
                        },
                        {
                          "HappyPlanetIndex": 20.7,
                          "Country": 840
                        },
                        {
                          "HappyPlanetIndex": 36.1,
                          "Country": 858
                        },
                        {
                          "HappyPlanetIndex": 29.1,
                          "Country": 860
                        },
                        {
                          "HappyPlanetIndex": 40.6,
                          "Country": 548
                        },
                        {
                          "HappyPlanetIndex": 33.6,
                          "Country": "Venezuela"
                        },
                        {
                          "HappyPlanetIndex": 40.3,
                          "Country": "Vietnam"
                        },
                        {
                          "HappyPlanetIndex": 22.8,
                          "Country": 887
                        },
                        {
                          "HappyPlanetIndex": 25.2,
                          "Country": 894
                        },
                        {
                          "HappyPlanetIndex": 22.1,
                          "Country": 716
                        }
                      ]
                    },
                    "vislib": "vegalite",
                    "height": 150,
                    "width": 200,
                    "$schema": "https://vega.github.io/schema/vega-lite/v4.8.1.json",
                    "config": {
                      "mark": {
                        "tooltip": {
                          "content": "encoding"
                        }
                      },
                      "axis": {
                        "labelFont": "Helvetica Neue",
                        "labelFontSize": 9,
                        "labelColor": "#505050",
                        "titleFont": "Helvetica Neue",
                        "labelFontWeight": 400,
                        "titleFontSize": 11,
                        "titleFontWeight": 500
                      },
                      "title": {
                        "fontWeight": 500,
                        "font": "Helvetica Neue",
                        "fontSize": 13
                      },
                      "legend": {
                        "labelFont": "Helvetica Neue",
                        "labelFontSize": 9,
                        "titleFont": "Helvetica Neue",
                        "labelFontWeight": 400,
                        "titleFontSize": 10,
                        "titleFontWeight": 500
                      },
                      "view": {
                        "continuousWidth": 400,
                        "continuousHeight": 300
                      }
                    }
                  },
                  {
                    "layer": [
                      {
                        "data": {
                          "url": "https://cdn.jsdelivr.net/npm/vega-datasets@v1.29.0/data/world-110m.json",
                          "format": {
                            "type": "topojson",
                            "feature": "countries"
                          }
                        },
                        "projection": {
                          "type": "equirectangular"
                        },
                        "mark": {
                          "stroke": "white",
                          "type": "geoshape",
                          "fill": "lightgray"
                        }
                      },
                      {
                        "projection": {
                          "type": "equirectangular"
                        },
                        "title": "Mean of GDPPerCapita across World",
                        "encoding": {
                          "color": {
                            "field": "GDPPerCapita",
                            "type": "quantitative"
                          }
                        },
                        "transform": [
                          {
                            "from": {
                              "fields": [
                                "GDPPerCapita"
                              ],
                              "data": {
                                "name": "data-cdcc7fb3cd985ba4bd193d505317bf6b"
                              },
                              "key": "Country"
                            },
                            "lookup": "id"
                          }
                        ],
                        "mark": "geoshape",
                        "data": {
                          "url": "https://cdn.jsdelivr.net/npm/vega-datasets@v1.29.0/data/world-110m.json",
                          "format": {
                            "type": "topojson",
                            "feature": "countries"
                          }
                        }
                      }
                    ],
                    "datasets": {
                      "data-cdcc7fb3cd985ba4bd193d505317bf6b": [
                        {
                          "GDPPerCapita": 691,
                          "Country": 4
                        },
                        {
                          "GDPPerCapita": 4247,
                          "Country": 8
                        },
                        {
                          "GDPPerCapita": 5584,
                          "Country": 12
                        },
                        {
                          "GDPPerCapita": 14357,
                          "Country": 32
                        },
                        {
                          "GDPPerCapita": 3566,
                          "Country": 51
                        },
                        {
                          "GDPPerCapita": 67646,
                          "Country": 36
                        },
                        {
                          "GDPPerCapita": 48324,
                          "Country": 40
                        },
                        {
                          "GDPPerCapita": 859,
                          "Country": 50
                        },
                        {
                          "GDPPerCapita": 6722,
                          "Country": 112
                        },
                        {
                          "GDPPerCapita": 44731,
                          "Country": 56
                        },
                        {
                          "GDPPerCapita": 4674,
                          "Country": 84
                        },
                        {
                          "GDPPerCapita": 808,
                          "Country": 204
                        },
                        {
                          "GDPPerCapita": 2452,
                          "Country": 64
                        },
                        {
                          "GDPPerCapita": 2645,
                          "Country": "Bolivia"
                        },
                        {
                          "GDPPerCapita": 4495,
                          "Country": 70
                        },
                        {
                          "GDPPerCapita": 6936,
                          "Country": 72
                        },
                        {
                          "GDPPerCapita": 12157,
                          "Country": 76
                        },
                        {
                          "GDPPerCapita": 7333,
                          "Country": 100
                        },
                        {
                          "GDPPerCapita": 673,
                          "Country": 854
                        },
                        {
                          "GDPPerCapita": 244,
                          "Country": 108
                        },
                        {
                          "GDPPerCapita": 946,
                          "Country": 116
                        },
                        {
                          "GDPPerCapita": 1222,
                          "Country": 120
                        },
                        {
                          "GDPPerCapita": 52738,
                          "Country": 124
                        },
                        {
                          "GDPPerCapita": 973,
                          "Country": 148
                        },
                        {
                          "GDPPerCapita": 15253,
                          "Country": 152
                        },
                        {
                          "GDPPerCapita": 6265,
                          "Country": 156
                        },
                        {
                          "GDPPerCapita": 7885,
                          "Country": 170
                        },
                        {
                          "GDPPerCapita": 750,
                          "Country": 174
                        },
                        {
                          "GDPPerCapita": 9733,
                          "Country": 188
                        },
                        {
                          "GDPPerCapita": 1281,
                          "Country": "Cote d'Ivoire"
                        },
                        {
                          "GDPPerCapita": 13236,
                          "Country": 191
                        },
                        {
                          "GDPPerCapita": 28868,
                          "Country": 196
                        },
                        {
                          "GDPPerCapita": 19641,
                          "Country": "Czech Republic"
                        },
                        {
                          "GDPPerCapita": 57636,
                          "Country": 208
                        },
                        {
                          "GDPPerCapita": 1587,
                          "Country": 262
                        },
                        {
                          "GDPPerCapita": 5967,
                          "Country": 214
                        },
                        {
                          "GDPPerCapita": 5702,
                          "Country": 218
                        },
                        {
                          "GDPPerCapita": 3226,
                          "Country": 818
                        },
                        {
                          "GDPPerCapita": 3922,
                          "Country": 222
                        },
                        {
                          "GDPPerCapita": 17491,
                          "Country": 233
                        },
                        {
                          "GDPPerCapita": 470,
                          "Country": 231
                        },
                        {
                          "GDPPerCapita": 47416,
                          "Country": 246
                        },
                        {
                          "GDPPerCapita": 40850,
                          "Country": 250
                        },
                        {
                          "GDPPerCapita": 10642,
                          "Country": 266
                        },
                        {
                          "GDPPerCapita": 4143,
                          "Country": 268
                        },
                        {
                          "GDPPerCapita": 44011,
                          "Country": 276
                        },
                        {
                          "GDPPerCapita": 1642,
                          "Country": 288
                        },
                        {
                          "GDPPerCapita": 22243,
                          "Country": 300
                        },
                        {
                          "GDPPerCapita": 3279,
                          "Country": 320
                        },
                        {
                          "GDPPerCapita": 487,
                          "Country": 324
                        },
                        {
                          "GDPPerCapita": 767,
                          "Country": 332
                        },
                        {
                          "GDPPerCapita": 2395,
                          "Country": 340
                        },
                        {
                          "GDPPerCapita": 36708,
                          "Country": 344
                        },
                        {
                          "GDPPerCapita": 12820,
                          "Country": 348
                        },
                        {
                          "GDPPerCapita": 44259,
                          "Country": 352
                        },
                        {
                          "GDPPerCapita": 1450,
                          "Country": 356
                        },
                        {
                          "GDPPerCapita": 3701,
                          "Country": 360
                        },
                        {
                          "GDPPerCapita": 7711,
                          "Country": "Iran"
                        },
                        {
                          "GDPPerCapita": 6649,
                          "Country": 368
                        },
                        {
                          "GDPPerCapita": 48977,
                          "Country": 372
                        },
                        {
                          "GDPPerCapita": 32819,
                          "Country": 376
                        },
                        {
                          "GDPPerCapita": 34844,
                          "Country": 380
                        },
                        {
                          "GDPPerCapita": 5446,
                          "Country": 388
                        },
                        {
                          "GDPPerCapita": 46679,
                          "Country": 392
                        },
                        {
                          "GDPPerCapita": 12120,
                          "Country": 398
                        },
                        {
                          "GDPPerCapita": 1185,
                          "Country": 404
                        },
                        {
                          "GDPPerCapita": 1178,
                          "Country": 417
                        },
                        {
                          "GDPPerCapita": 13775,
                          "Country": 428
                        },
                        {
                          "GDPPerCapita": 9729,
                          "Country": 422
                        },
                        {
                          "GDPPerCapita": 1159,
                          "Country": 426
                        },
                        {
                          "GDPPerCapita": 414,
                          "Country": 430
                        },
                        {
                          "GDPPerCapita": 14343,
                          "Country": 440
                        },
                        {
                          "GDPPerCapita": 105447,
                          "Country": 442
                        },
                        {
                          "GDPPerCapita": 4710,
                          "Country": "Macedonia"
                        },
                        {
                          "GDPPerCapita": 270,
                          "Country": 454
                        },
                        {
                          "GDPPerCapita": 10835,
                          "Country": 458
                        },
                        {
                          "GDPPerCapita": 21176,
                          "Country": 470
                        },
                        {
                          "GDPPerCapita": 1283,
                          "Country": 478
                        },
                        {
                          "GDPPerCapita": 9114,
                          "Country": 480
                        },
                        {
                          "GDPPerCapita": 9703,
                          "Country": 484
                        },
                        {
                          "GDPPerCapita": 4377,
                          "Country": 496
                        },
                        {
                          "GDPPerCapita": 6587,
                          "Country": 499
                        },
                        {
                          "GDPPerCapita": 2931,
                          "Country": 504
                        },
                        {
                          "GDPPerCapita": 565,
                          "Country": 508
                        },
                        {
                          "GDPPerCapita": 1421,
                          "Country": 104
                        },
                        {
                          "GDPPerCapita": 5680,
                          "Country": 516
                        },
                        {
                          "GDPPerCapita": 685,
                          "Country": 524
                        },
                        {
                          "GDPPerCapita": 49475,
                          "Country": 528
                        },
                        {
                          "GDPPerCapita": 39505,
                          "Country": 554
                        },
                        {
                          "GDPPerCapita": 1780,
                          "Country": 558
                        },
                        {
                          "GDPPerCapita": 394,
                          "Country": 562
                        },
                        {
                          "GDPPerCapita": 2740,
                          "Country": 566
                        },
                        {
                          "GDPPerCapita": 101564,
                          "Country": 578
                        },
                        {
                          "GDPPerCapita": 21534,
                          "Country": 512
                        },
                        {
                          "GDPPerCapita": 1266,
                          "Country": 586
                        },
                        {
                          "GDPPerCapita": 2783,
                          "Country": 275
                        },
                        {
                          "GDPPerCapita": 10139,
                          "Country": 591
                        },
                        {
                          "GDPPerCapita": 3858,
                          "Country": 600
                        },
                        {
                          "GDPPerCapita": 6389,
                          "Country": 604
                        },
                        {
                          "GDPPerCapita": 2605,
                          "Country": 608
                        },
                        {
                          "GDPPerCapita": 13142,
                          "Country": 616
                        },
                        {
                          "GDPPerCapita": 20577,
                          "Country": 620
                        },
                        {
                          "GDPPerCapita": 3191,
                          "Country": "Republic of Congo"
                        },
                        {
                          "GDPPerCapita": 8577,
                          "Country": 642
                        },
                        {
                          "GDPPerCapita": 14079,
                          "Country": "Russia"
                        },
                        {
                          "GDPPerCapita": 667,
                          "Country": 646
                        },
                        {
                          "GDPPerCapita": 1019,
                          "Country": 686
                        },
                        {
                          "GDPPerCapita": 5659,
                          "Country": 688
                        },
                        {
                          "GDPPerCapita": 619,
                          "Country": 694
                        },
                        {
                          "GDPPerCapita": 17207,
                          "Country": 703
                        },
                        {
                          "GDPPerCapita": 22478,
                          "Country": 705
                        },
                        {
                          "GDPPerCapita": 7592,
                          "Country": 710
                        },
                        {
                          "GDPPerCapita": 24454,
                          "Country": "South Korea"
                        },
                        {
                          "GDPPerCapita": 28648,
                          "Country": 724
                        },
                        {
                          "GDPPerCapita": 3351,
                          "Country": 144
                        },
                        {
                          "GDPPerCapita": 9422,
                          "Country": 740
                        },
                        {
                          "GDPPerCapita": 3989,
                          "Country": "Swaziland"
                        },
                        {
                          "GDPPerCapita": 57134,
                          "Country": 752
                        },
                        {
                          "GDPPerCapita": 83209,
                          "Country": 756
                        },
                        {
                          "GDPPerCapita": 2080,
                          "Country": "Syria"
                        },
                        {
                          "GDPPerCapita": 962,
                          "Country": 762
                        },
                        {
                          "GDPPerCapita": 828,
                          "Country": "Tanzania"
                        },
                        {
                          "GDPPerCapita": 5918,
                          "Country": 764
                        },
                        {
                          "GDPPerCapita": 580,
                          "Country": 768
                        },
                        {
                          "GDPPerCapita": 18322,
                          "Country": 780
                        },
                        {
                          "GDPPerCapita": 4188,
                          "Country": 788
                        },
                        {
                          "GDPPerCapita": 10646,
                          "Country": 792
                        },
                        {
                          "GDPPerCapita": 6798,
                          "Country": 795
                        },
                        {
                          "GDPPerCapita": 656,
                          "Country": 800
                        },
                        {
                          "GDPPerCapita": 3855,
                          "Country": 804
                        },
                        {
                          "GDPPerCapita": 41295,
                          "Country": "United Kingdom"
                        },
                        {
                          "GDPPerCapita": 51457,
                          "Country": 840
                        },
                        {
                          "GDPPerCapita": 15128,
                          "Country": 858
                        },
                        {
                          "GDPPerCapita": 1719,
                          "Country": 860
                        },
                        {
                          "GDPPerCapita": 3158,
                          "Country": 548
                        },
                        {
                          "GDPPerCapita": 12772,
                          "Country": "Venezuela"
                        },
                        {
                          "GDPPerCapita": 1755,
                          "Country": "Vietnam"
                        },
                        {
                          "GDPPerCapita": 1289,
                          "Country": 887
                        },
                        {
                          "GDPPerCapita": 1687,
                          "Country": 894
                        },
                        {
                          "GDPPerCapita": 851,
                          "Country": 716
                        }
                      ]
                    },
                    "vislib": "vegalite",
                    "height": 150,
                    "width": 200,
                    "$schema": "https://vega.github.io/schema/vega-lite/v4.8.1.json",
                    "config": {
                      "mark": {
                        "tooltip": {
                          "content": "encoding"
                        }
                      },
                      "axis": {
                        "labelFont": "Helvetica Neue",
                        "labelFontSize": 9,
                        "labelColor": "#505050",
                        "titleFont": "Helvetica Neue",
                        "labelFontWeight": 400,
                        "titleFontSize": 11,
                        "titleFontWeight": 500
                      },
                      "title": {
                        "fontWeight": 500,
                        "font": "Helvetica Neue",
                        "fontSize": 13
                      },
                      "legend": {
                        "labelFont": "Helvetica Neue",
                        "labelFontSize": 9,
                        "titleFont": "Helvetica Neue",
                        "labelFontWeight": 400,
                        "titleFontSize": 10,
                        "titleFontWeight": 500
                      },
                      "view": {
                        "continuousWidth": 400,
                        "continuousHeight": 300
                      }
                    }
                  },
                  {
                    "layer": [
                      {
                        "data": {
                          "url": "https://cdn.jsdelivr.net/npm/vega-datasets@v1.29.0/data/world-110m.json",
                          "format": {
                            "type": "topojson",
                            "feature": "countries"
                          }
                        },
                        "projection": {
                          "type": "equirectangular"
                        },
                        "mark": {
                          "stroke": "white",
                          "type": "geoshape",
                          "fill": "lightgray"
                        }
                      },
                      {
                        "projection": {
                          "type": "equirectangular"
                        },
                        "title": "Mean of HappyLifeYears across World",
                        "encoding": {
                          "color": {
                            "field": "HappyLifeYears",
                            "type": "quantitative"
                          }
                        },
                        "transform": [
                          {
                            "from": {
                              "fields": [
                                "HappyLifeYears"
                              ],
                              "data": {
                                "name": "data-07e3b25bab8bd567c1a2f3b19774bc59"
                              },
                              "key": "Country"
                            },
                            "lookup": "id"
                          }
                        ],
                        "mark": "geoshape",
                        "data": {
                          "url": "https://cdn.jsdelivr.net/npm/vega-datasets@v1.29.0/data/world-110m.json",
                          "format": {
                            "type": "topojson",
                            "feature": "countries"
                          }
                        }
                      }
                    ],
                    "datasets": {
                      "data-07e3b25bab8bd567c1a2f3b19774bc59": [
                        {
                          "HappyLifeYears": 12.4,
                          "Country": 4
                        },
                        {
                          "HappyLifeYears": 34.4,
                          "Country": 8
                        },
                        {
                          "HappyLifeYears": 30.5,
                          "Country": 12
                        },
                        {
                          "HappyLifeYears": 40.2,
                          "Country": 32
                        },
                        {
                          "HappyLifeYears": 24,
                          "Country": 51
                        },
                        {
                          "HappyLifeYears": 53.1,
                          "Country": 36
                        },
                        {
                          "HappyLifeYears": 54.4,
                          "Country": 40
                        },
                        {
                          "HappyLifeYears": 23.3,
                          "Country": 50
                        },
                        {
                          "HappyLifeYears": 34,
                          "Country": 112
                        },
                        {
                          "HappyLifeYears": 49.5,
                          "Country": 56
                        },
                        {
                          "HappyLifeYears": 34.2,
                          "Country": 84
                        },
                        {
                          "HappyLifeYears": 9.9,
                          "Country": 204
                        },
                        {
                          "HappyLifeYears": 27.4,
                          "Country": 64
                        },
                        {
                          "HappyLifeYears": 25.6,
                          "Country": "Bolivia"
                        },
                        {
                          "HappyLifeYears": 28.6,
                          "Country": 70
                        },
                        {
                          "HappyLifeYears": 21.3,
                          "Country": 72
                        },
                        {
                          "HappyLifeYears": 39,
                          "Country": 76
                        },
                        {
                          "HappyLifeYears": 24,
                          "Country": 100
                        },
                        {
                          "HappyLifeYears": 12.6,
                          "Country": 854
                        },
                        {
                          "HappyLifeYears": 9.5,
                          "Country": 108
                        },
                        {
                          "HappyLifeYears": 18.2,
                          "Country": 116
                        },
                        {
                          "HappyLifeYears": 11.6,
                          "Country": 120
                        },
                        {
                          "HappyLifeYears": 53.9,
                          "Country": 124
                        },
                        {
                          "HappyLifeYears": 9.6,
                          "Country": 148
                        },
                        {
                          "HappyLifeYears": 44.7,
                          "Country": 152
                        },
                        {
                          "HappyLifeYears": 30.6,
                          "Country": 156
                        },
                        {
                          "HappyLifeYears": 35.1,
                          "Country": 170
                        },
                        {
                          "HappyLifeYears": 15.4,
                          "Country": 174
                        },
                        {
                          "HappyLifeYears": 48.2,
                          "Country": 188
                        },
                        {
                          "HappyLifeYears": 10.3,
                          "Country": "Cote d'Ivoire"
                        },
                        {
                          "HappyLifeYears": 39.6,
                          "Country": 191
                        },
                        {
                          "HappyLifeYears": 42.3,
                          "Country": 196
                        },
                        {
                          "HappyLifeYears": 43.4,
                          "Country": "Czech Republic"
                        },
                        {
                          "HappyLifeYears": 54.4,
                          "Country": 208
                        },
                        {
                          "HappyLifeYears": 15.1,
                          "Country": 262
                        },
                        {
                          "HappyLifeYears": 23.7,
                          "Country": 214
                        },
                        {
                          "HappyLifeYears": 34.3,
                          "Country": 218
                        },
                        {
                          "HappyLifeYears": 21.8,
                          "Country": 818
                        },
                        {
                          "HappyLifeYears": 32.2,
                          "Country": 222
                        },
                        {
                          "HappyLifeYears": 35,
                          "Country": 233
                        },
                        {
                          "HappyLifeYears": 17.8,
                          "Country": 231
                        },
                        {
                          "HappyLifeYears": 54.6,
                          "Country": 246
                        },
                        {
                          "HappyLifeYears": 48.1,
                          "Country": 250
                        },
                        {
                          "HappyLifeYears": 15.4,
                          "Country": 266
                        },
                        {
                          "HappyLifeYears": 24.7,
                          "Country": 268
                        },
                        {
                          "HappyLifeYears": 48.2,
                          "Country": 276
                        },
                        {
                          "HappyLifeYears": 18.8,
                          "Country": 288
                        },
                        {
                          "HappyLifeYears": 33.3,
                          "Country": 300
                        },
                        {
                          "HappyLifeYears": 29.6,
                          "Country": 320
                        },
                        {
                          "HappyLifeYears": 11.8,
                          "Country": 324
                        },
                        {
                          "HappyLifeYears": 16.5,
                          "Country": 332
                        },
                        {
                          "HappyLifeYears": 22.1,
                          "Country": 340
                        },
                        {
                          "HappyLifeYears": 40.1,
                          "Country": 344
                        },
                        {
                          "HappyLifeYears": 28.7,
                          "Country": 348
                        },
                        {
                          "HappyLifeYears": 58,
                          "Country": 352
                        },
                        {
                          "HappyLifeYears": 20.4,
                          "Country": 356
                        },
                        {
                          "HappyLifeYears": 28.4,
                          "Country": 360
                        },
                        {
                          "HappyLifeYears": 25.4,
                          "Country": "Iran"
                        },
                        {
                          "HappyLifeYears": 22.8,
                          "Country": 368
                        },
                        {
                          "HappyLifeYears": 50.3,
                          "Country": 372
                        },
                        {
                          "HappyLifeYears": 52.5,
                          "Country": 376
                        },
                        {
                          "HappyLifeYears": 41.1,
                          "Country": 380
                        },
                        {
                          "HappyLifeYears": 31.9,
                          "Country": 388
                        },
                        {
                          "HappyLifeYears": 44,
                          "Country": 392
                        },
                        {
                          "HappyLifeYears": 31.7,
                          "Country": 398
                        },
                        {
                          "HappyLifeYears": 16.2,
                          "Country": 404
                        },
                        {
                          "HappyLifeYears": 28.7,
                          "Country": 417
                        },
                        {
                          "HappyLifeYears": 31.2,
                          "Country": 428
                        },
                        {
                          "HappyLifeYears": 28.2,
                          "Country": 422
                        },
                        {
                          "HappyLifeYears": 13.4,
                          "Country": 426
                        },
                        {
                          "HappyLifeYears": 15.7,
                          "Country": 430
                        },
                        {
                          "HappyLifeYears": 36.4,
                          "Country": 440
                        },
                        {
                          "HappyLifeYears": 51.7,
                          "Country": 442
                        },
                        {
                          "HappyLifeYears": 27.2,
                          "Country": "Macedonia"
                        },
                        {
                          "HappyLifeYears": 13.7,
                          "Country": 454
                        },
                        {
                          "HappyLifeYears": 38.3,
                          "Country": 458
                        },
                        {
                          "HappyLifeYears": 40.8,
                          "Country": 470
                        },
                        {
                          "HappyLifeYears": 18,
                          "Country": 478
                        },
                        {
                          "HappyLifeYears": 33.1,
                          "Country": 480
                        },
                        {
                          "HappyLifeYears": 44.3,
                          "Country": 484
                        },
                        {
                          "HappyLifeYears": 25.3,
                          "Country": 496
                        },
                        {
                          "HappyLifeYears": 32.1,
                          "Country": 499
                        },
                        {
                          "HappyLifeYears": 26.7,
                          "Country": 504
                        },
                        {
                          "HappyLifeYears": 15,
                          "Country": 508
                        },
                        {
                          "HappyLifeYears": 18.8,
                          "Country": 104
                        },
                        {
                          "HappyLifeYears": 21.3,
                          "Country": 516
                        },
                        {
                          "HappyLifeYears": 20.2,
                          "Country": 524
                        },
                        {
                          "HappyLifeYears": 57,
                          "Country": 528
                        },
                        {
                          "HappyLifeYears": 52.7,
                          "Country": 554
                        },
                        {
                          "HappyLifeYears": 29.2,
                          "Country": 558
                        },
                        {
                          "HappyLifeYears": 13.1,
                          "Country": 562
                        },
                        {
                          "HappyLifeYears": 15.5,
                          "Country": 566
                        },
                        {
                          "HappyLifeYears": 57.1,
                          "Country": 578
                        },
                        {
                          "HappyLifeYears": 44.5,
                          "Country": 512
                        },
                        {
                          "HappyLifeYears": 19.5,
                          "Country": 586
                        },
                        {
                          "HappyLifeYears": 24.5,
                          "Country": 275
                        },
                        {
                          "HappyLifeYears": 42.1,
                          "Country": 591
                        },
                        {
                          "HappyLifeYears": 31.8,
                          "Country": 600
                        },
                        {
                          "HappyLifeYears": 32.9,
                          "Country": 604
                        },
                        {
                          "HappyLifeYears": 24.1,
                          "Country": 608
                        },
                        {
                          "HappyLifeYears": 39.2,
                          "Country": 616
                        },
                        {
                          "HappyLifeYears": 32.3,
                          "Country": 620
                        },
                        {
                          "HappyLifeYears": 13.6,
                          "Country": "Republic of Congo"
                        },
                        {
                          "HappyLifeYears": 30.1,
                          "Country": 642
                        },
                        {
                          "HappyLifeYears": 31.7,
                          "Country": "Russia"
                        },
                        {
                          "HappyLifeYears": 12.4,
                          "Country": 646
                        },
                        {
                          "HappyLifeYears": 15.5,
                          "Country": 686
                        },
                        {
                          "HappyLifeYears": 30.3,
                          "Country": 688
                        },
                        {
                          "HappyLifeYears": 10.8,
                          "Country": 694
                        },
                        {
                          "HappyLifeYears": 37.9,
                          "Country": 703
                        },
                        {
                          "HappyLifeYears": 42.6,
                          "Country": 705
                        },
                        {
                          "HappyLifeYears": 18.5,
                          "Country": 710
                        },
                        {
                          "HappyLifeYears": 42.2,
                          "Country": "South Korea"
                        },
                        {
                          "HappyLifeYears": 45.3,
                          "Country": 724
                        },
                        {
                          "HappyLifeYears": 24.9,
                          "Country": 144
                        },
                        {
                          "HappyLifeYears": 35.2,
                          "Country": 740
                        },
                        {
                          "HappyLifeYears": 13.6,
                          "Country": "Swaziland"
                        },
                        {
                          "HappyLifeYears": 57.4,
                          "Country": 752
                        },
                        {
                          "HappyLifeYears": 59.3,
                          "Country": 756
                        },
                        {
                          "HappyLifeYears": 14.7,
                          "Country": "Syria"
                        },
                        {
                          "HappyLifeYears": 22.2,
                          "Country": 762
                        },
                        {
                          "HappyLifeYears": 16.2,
                          "Country": "Tanzania"
                        },
                        {
                          "HappyLifeYears": 38.6,
                          "Country": 764
                        },
                        {
                          "HappyLifeYears": 9,
                          "Country": 768
                        },
                        {
                          "HappyLifeYears": 34.4,
                          "Country": 780
                        },
                        {
                          "HappyLifeYears": 25.2,
                          "Country": 788
                        },
                        {
                          "HappyLifeYears": 31.2,
                          "Country": 792
                        },
                        {
                          "HappyLifeYears": 24,
                          "Country": 795
                        },
                        {
                          "HappyLifeYears": 13.8,
                          "Country": 800
                        },
                        {
                          "HappyLifeYears": 28.3,
                          "Country": 804
                        },
                        {
                          "HappyLifeYears": 49.1,
                          "Country": "United Kingdom"
                        },
                        {
                          "HappyLifeYears": 46.8,
                          "Country": 840
                        },
                        {
                          "HappyLifeYears": 39.4,
                          "Country": 858
                        },
                        {
                          "HappyLifeYears": 27.9,
                          "Country": 860
                        },
                        {
                          "HappyLifeYears": 34.9,
                          "Country": 548
                        },
                        {
                          "HappyLifeYears": 41.5,
                          "Country": "Venezuela"
                        },
                        {
                          "HappyLifeYears": 32.8,
                          "Country": "Vietnam"
                        },
                        {
                          "HappyLifeYears": 15.2,
                          "Country": 887
                        },
                        {
                          "HappyLifeYears": 16.7,
                          "Country": 894
                        },
                        {
                          "HappyLifeYears": 16.4,
                          "Country": 716
                        }
                      ]
                    },
                    "vislib": "vegalite",
                    "height": 150,
                    "width": 200,
                    "$schema": "https://vega.github.io/schema/vega-lite/v4.8.1.json",
                    "config": {
                      "mark": {
                        "tooltip": {
                          "content": "encoding"
                        }
                      },
                      "axis": {
                        "labelFont": "Helvetica Neue",
                        "labelFontSize": 9,
                        "labelColor": "#505050",
                        "titleFont": "Helvetica Neue",
                        "labelFontWeight": 400,
                        "titleFontSize": 11,
                        "titleFontWeight": 500
                      },
                      "title": {
                        "fontWeight": 500,
                        "font": "Helvetica Neue",
                        "fontSize": 13
                      },
                      "legend": {
                        "labelFont": "Helvetica Neue",
                        "labelFontSize": 9,
                        "titleFont": "Helvetica Neue",
                        "labelFontWeight": 400,
                        "titleFontSize": 10,
                        "titleFontWeight": 500
                      },
                      "view": {
                        "continuousWidth": 400,
                        "continuousHeight": 300
                      }
                    }
                  },
                  {
                    "layer": [
                      {
                        "data": {
                          "url": "https://cdn.jsdelivr.net/npm/vega-datasets@v1.29.0/data/world-110m.json",
                          "format": {
                            "type": "topojson",
                            "feature": "countries"
                          }
                        },
                        "projection": {
                          "type": "equirectangular"
                        },
                        "mark": {
                          "stroke": "white",
                          "type": "geoshape",
                          "fill": "lightgray"
                        }
                      },
                      {
                        "projection": {
                          "type": "equirectangular"
                        },
                        "title": "Mean of AvrgWellBeing across World",
                        "encoding": {
                          "color": {
                            "field": "AvrgWellBeing",
                            "type": "quantitative"
                          }
                        },
                        "transform": [
                          {
                            "from": {
                              "fields": [
                                "AvrgWellBeing"
                              ],
                              "data": {
                                "name": "data-49d560687dba317e0f287bd0444ca147"
                              },
                              "key": "Country"
                            },
                            "lookup": "id"
                          }
                        ],
                        "mark": "geoshape",
                        "data": {
                          "url": "https://cdn.jsdelivr.net/npm/vega-datasets@v1.29.0/data/world-110m.json",
                          "format": {
                            "type": "topojson",
                            "feature": "countries"
                          }
                        }
                      }
                    ],
                    "datasets": {
                      "data-49d560687dba317e0f287bd0444ca147": [
                        {
                          "AvrgWellBeing": 3.8,
                          "Country": 4
                        },
                        {
                          "AvrgWellBeing": 5.5,
                          "Country": 8
                        },
                        {
                          "AvrgWellBeing": 5.6,
                          "Country": 12
                        },
                        {
                          "AvrgWellBeing": 6.5,
                          "Country": 32
                        },
                        {
                          "AvrgWellBeing": 4.3,
                          "Country": 51
                        },
                        {
                          "AvrgWellBeing": 7.2,
                          "Country": 36
                        },
                        {
                          "AvrgWellBeing": 7.4,
                          "Country": 40
                        },
                        {
                          "AvrgWellBeing": 4.7,
                          "Country": 50
                        },
                        {
                          "AvrgWellBeing": 5.7,
                          "Country": 112
                        },
                        {
                          "AvrgWellBeing": 6.9,
                          "Country": 56
                        },
                        {
                          "AvrgWellBeing": 6.1,
                          "Country": 84
                        },
                        {
                          "AvrgWellBeing": 3.2,
                          "Country": 204
                        },
                        {
                          "AvrgWellBeing": 5.6,
                          "Country": 64
                        },
                        {
                          "AvrgWellBeing": 6,
                          "Country": "Bolivia"
                        },
                        {
                          "AvrgWellBeing": 4.8,
                          "Country": 70
                        },
                        {
                          "AvrgWellBeing": 4.8,
                          "Country": 72
                        },
                        {
                          "AvrgWellBeing": 6.9,
                          "Country": 76
                        },
                        {
                          "AvrgWellBeing": 4.2,
                          "Country": 100
                        },
                        {
                          "AvrgWellBeing": 4,
                          "Country": 854
                        },
                        {
                          "AvrgWellBeing": 3.4,
                          "Country": 108
                        },
                        {
                          "AvrgWellBeing": 3.9,
                          "Country": 116
                        },
                        {
                          "AvrgWellBeing": 4.2,
                          "Country": 120
                        },
                        {
                          "AvrgWellBeing": 7.4,
                          "Country": 124
                        },
                        {
                          "AvrgWellBeing": 4,
                          "Country": 148
                        },
                        {
                          "AvrgWellBeing": 6.6,
                          "Country": 152
                        },
                        {
                          "AvrgWellBeing": 5.1,
                          "Country": 156
                        },
                        {
                          "AvrgWellBeing": 6.4,
                          "Country": 170
                        },
                        {
                          "AvrgWellBeing": 4,
                          "Country": 174
                        },
                        {
                          "AvrgWellBeing": 7.3,
                          "Country": 188
                        },
                        {
                          "AvrgWellBeing": 3.8,
                          "Country": "Cote d'Ivoire"
                        },
                        {
                          "AvrgWellBeing": 6,
                          "Country": 191
                        },
                        {
                          "AvrgWellBeing": 6.2,
                          "Country": 196
                        },
                        {
                          "AvrgWellBeing": 6.3,
                          "Country": "Czech Republic"
                        },
                        {
                          "AvrgWellBeing": 7.5,
                          "Country": 208
                        },
                        {
                          "AvrgWellBeing": 4.4,
                          "Country": 262
                        },
                        {
                          "AvrgWellBeing": 4.8,
                          "Country": 214
                        },
                        {
                          "AvrgWellBeing": 6,
                          "Country": 218
                        },
                        {
                          "AvrgWellBeing": 4.2,
                          "Country": 818
                        },
                        {
                          "AvrgWellBeing": 5.9,
                          "Country": 222
                        },
                        {
                          "AvrgWellBeing": 5.4,
                          "Country": 233
                        },
                        {
                          "AvrgWellBeing": 4.6,
                          "Country": 231
                        },
                        {
                          "AvrgWellBeing": 7.4,
                          "Country": 246
                        },
                        {
                          "AvrgWellBeing": 6.6,
                          "Country": 250
                        },
                        {
                          "AvrgWellBeing": 4,
                          "Country": 266
                        },
                        {
                          "AvrgWellBeing": 4.3,
                          "Country": 268
                        },
                        {
                          "AvrgWellBeing": 6.7,
                          "Country": 276
                        },
                        {
                          "AvrgWellBeing": 5.1,
                          "Country": 288
                        },
                        {
                          "AvrgWellBeing": 5.1,
                          "Country": 300
                        },
                        {
                          "AvrgWellBeing": 5.9,
                          "Country": 320
                        },
                        {
                          "AvrgWellBeing": 3.7,
                          "Country": 324
                        },
                        {
                          "AvrgWellBeing": 4.4,
                          "Country": 332
                        },
                        {
                          "AvrgWellBeing": 4.6,
                          "Country": 340
                        },
                        {
                          "AvrgWellBeing": 5.5,
                          "Country": 344
                        },
                        {
                          "AvrgWellBeing": 4.7,
                          "Country": 348
                        },
                        {
                          "AvrgWellBeing": 7.6,
                          "Country": 352
                        },
                        {
                          "AvrgWellBeing": 4.6,
                          "Country": 356
                        },
                        {
                          "AvrgWellBeing": 5.4,
                          "Country": 360
                        },
                        {
                          "AvrgWellBeing": 4.6,
                          "Country": "Iran"
                        },
                        {
                          "AvrgWellBeing": 4.7,
                          "Country": 368
                        },
                        {
                          "AvrgWellBeing": 7,
                          "Country": 372
                        },
                        {
                          "AvrgWellBeing": 7.1,
                          "Country": 376
                        },
                        {
                          "AvrgWellBeing": 5.8,
                          "Country": 380
                        },
                        {
                          "AvrgWellBeing": 5.6,
                          "Country": 388
                        },
                        {
                          "AvrgWellBeing": 6,
                          "Country": 392
                        },
                        {
                          "AvrgWellBeing": 5.8,
                          "Country": 398
                        },
                        {
                          "AvrgWellBeing": 4.5,
                          "Country": 404
                        },
                        {
                          "AvrgWellBeing": 5.2,
                          "Country": 417
                        },
                        {
                          "AvrgWellBeing": 5.1,
                          "Country": 428
                        },
                        {
                          "AvrgWellBeing": 4.6,
                          "Country": 422
                        },
                        {
                          "AvrgWellBeing": 4.9,
                          "Country": 426
                        },
                        {
                          "AvrgWellBeing": 4.4,
                          "Country": 430
                        },
                        {
                          "AvrgWellBeing": 5.8,
                          "Country": 440
                        },
                        {
                          "AvrgWellBeing": 7,
                          "Country": 442
                        },
                        {
                          "AvrgWellBeing": 4.6,
                          "Country": "Macedonia"
                        },
                        {
                          "AvrgWellBeing": 4.3,
                          "Country": 454
                        },
                        {
                          "AvrgWellBeing": 5.9,
                          "Country": 458
                        },
                        {
                          "AvrgWellBeing": 6,
                          "Country": 470
                        },
                        {
                          "AvrgWellBeing": 4.7,
                          "Country": 478
                        },
                        {
                          "AvrgWellBeing": 5.5,
                          "Country": 480
                        },
                        {
                          "AvrgWellBeing": 7.3,
                          "Country": 484
                        },
                        {
                          "AvrgWellBeing": 4.9,
                          "Country": 496
                        },
                        {
                          "AvrgWellBeing": 5.2,
                          "Country": 499
                        },
                        {
                          "AvrgWellBeing": 5,
                          "Country": 504
                        },
                        {
                          "AvrgWellBeing": 5,
                          "Country": 508
                        },
                        {
                          "AvrgWellBeing": 4.4,
                          "Country": 104
                        },
                        {
                          "AvrgWellBeing": 4.7,
                          "Country": 516
                        },
                        {
                          "AvrgWellBeing": 4.2,
                          "Country": 524
                        },
                        {
                          "AvrgWellBeing": 7.5,
                          "Country": 528
                        },
                        {
                          "AvrgWellBeing": 7.2,
                          "Country": 554
                        },
                        {
                          "AvrgWellBeing": 5.4,
                          "Country": 558
                        },
                        {
                          "AvrgWellBeing": 3.8,
                          "Country": 562
                        },
                        {
                          "AvrgWellBeing": 5.5,
                          "Country": 566
                        },
                        {
                          "AvrgWellBeing": 7.7,
                          "Country": 578
                        },
                        {
                          "AvrgWellBeing": 6.9,
                          "Country": 512
                        },
                        {
                          "AvrgWellBeing": 5.1,
                          "Country": 586
                        },
                        {
                          "AvrgWellBeing": 4.6,
                          "Country": 275
                        },
                        {
                          "AvrgWellBeing": 6.9,
                          "Country": 591
                        },
                        {
                          "AvrgWellBeing": 5.8,
                          "Country": 600
                        },
                        {
                          "AvrgWellBeing": 5.8,
                          "Country": 604
                        },
                        {
                          "AvrgWellBeing": 5,
                          "Country": 608
                        },
                        {
                          "AvrgWellBeing": 5.9,
                          "Country": 616
                        },
                        {
                          "AvrgWellBeing": 5,
                          "Country": 620
                        },
                        {
                          "AvrgWellBeing": 3.9,
                          "Country": "Republic of Congo"
                        },
                        {
                          "AvrgWellBeing": 5.2,
                          "Country": 642
                        },
                        {
                          "AvrgWellBeing": 5.6,
                          "Country": "Russia"
                        },
                        {
                          "AvrgWellBeing": 3.3,
                          "Country": 646
                        },
                        {
                          "AvrgWellBeing": 3.7,
                          "Country": 686
                        },
                        {
                          "AvrgWellBeing": 5.2,
                          "Country": 688
                        },
                        {
                          "AvrgWellBeing": 4.5,
                          "Country": 694
                        },
                        {
                          "AvrgWellBeing": 5.9,
                          "Country": 703
                        },
                        {
                          "AvrgWellBeing": 6.1,
                          "Country": 705
                        },
                        {
                          "AvrgWellBeing": 5.1,
                          "Country": 710
                        },
                        {
                          "AvrgWellBeing": 6,
                          "Country": "South Korea"
                        },
                        {
                          "AvrgWellBeing": 6.3,
                          "Country": 724
                        },
                        {
                          "AvrgWellBeing": 4.2,
                          "Country": 144
                        },
                        {
                          "AvrgWellBeing": 6.3,
                          "Country": 740
                        },
                        {
                          "AvrgWellBeing": 4.9,
                          "Country": "Swaziland"
                        },
                        {
                          "AvrgWellBeing": 7.6,
                          "Country": 752
                        },
                        {
                          "AvrgWellBeing": 7.8,
                          "Country": 756
                        },
                        {
                          "AvrgWellBeing": 3.2,
                          "Country": "Syria"
                        },
                        {
                          "AvrgWellBeing": 4.5,
                          "Country": 762
                        },
                        {
                          "AvrgWellBeing": 4,
                          "Country": "Tanzania"
                        },
                        {
                          "AvrgWellBeing": 6.3,
                          "Country": 764
                        },
                        {
                          "AvrgWellBeing": 2.9,
                          "Country": 768
                        },
                        {
                          "AvrgWellBeing": 6.4,
                          "Country": 780
                        },
                        {
                          "AvrgWellBeing": 4.5,
                          "Country": 788
                        },
                        {
                          "AvrgWellBeing": 5.3,
                          "Country": 792
                        },
                        {
                          "AvrgWellBeing": 5.5,
                          "Country": 795
                        },
                        {
                          "AvrgWellBeing": 4.3,
                          "Country": 800
                        },
                        {
                          "AvrgWellBeing": 5,
                          "Country": 804
                        },
                        {
                          "AvrgWellBeing": 6.9,
                          "Country": "United Kingdom"
                        },
                        {
                          "AvrgWellBeing": 7,
                          "Country": 840
                        },
                        {
                          "AvrgWellBeing": 6.4,
                          "Country": 858
                        },
                        {
                          "AvrgWellBeing": 6,
                          "Country": 860
                        },
                        {
                          "AvrgWellBeing": 6.5,
                          "Country": 548
                        },
                        {
                          "AvrgWellBeing": 7.1,
                          "Country": "Venezuela"
                        },
                        {
                          "AvrgWellBeing": 5.5,
                          "Country": "Vietnam"
                        },
                        {
                          "AvrgWellBeing": 4.1,
                          "Country": 887
                        },
                        {
                          "AvrgWellBeing": 5,
                          "Country": 894
                        },
                        {
                          "AvrgWellBeing": 5,
                          "Country": 716
                        }
                      ]
                    },
                    "vislib": "vegalite",
                    "height": 150,
                    "width": 200,
                    "$schema": "https://vega.github.io/schema/vega-lite/v4.8.1.json",
                    "config": {
                      "mark": {
                        "tooltip": {
                          "content": "encoding"
                        }
                      },
                      "axis": {
                        "labelFont": "Helvetica Neue",
                        "labelFontSize": 9,
                        "labelColor": "#505050",
                        "titleFont": "Helvetica Neue",
                        "labelFontWeight": 400,
                        "titleFontSize": 11,
                        "titleFontWeight": 500
                      },
                      "title": {
                        "fontWeight": 500,
                        "font": "Helvetica Neue",
                        "fontSize": 13
                      },
                      "legend": {
                        "labelFont": "Helvetica Neue",
                        "labelFontSize": 9,
                        "titleFont": "Helvetica Neue",
                        "labelFontWeight": 400,
                        "titleFontSize": 10,
                        "titleFontWeight": 500
                      },
                      "view": {
                        "continuousWidth": 400,
                        "continuousHeight": 300
                      }
                    }
                  },
                  {
                    "layer": [
                      {
                        "data": {
                          "url": "https://cdn.jsdelivr.net/npm/vega-datasets@v1.29.0/data/world-110m.json",
                          "format": {
                            "type": "topojson",
                            "feature": "countries"
                          }
                        },
                        "projection": {
                          "type": "equirectangular"
                        },
                        "mark": {
                          "stroke": "white",
                          "type": "geoshape",
                          "fill": "lightgray"
                        }
                      },
                      {
                        "projection": {
                          "type": "equirectangular"
                        },
                        "title": "Mean of Footprint across World",
                        "encoding": {
                          "color": {
                            "field": "Footprint",
                            "type": "quantitative"
                          }
                        },
                        "transform": [
                          {
                            "from": {
                              "fields": [
                                "Footprint"
                              ],
                              "data": {
                                "name": "data-936bac6e13dfc1306907f073d870a2b2"
                              },
                              "key": "Country"
                            },
                            "lookup": "id"
                          }
                        ],
                        "mark": "geoshape",
                        "data": {
                          "url": "https://cdn.jsdelivr.net/npm/vega-datasets@v1.29.0/data/world-110m.json",
                          "format": {
                            "type": "topojson",
                            "feature": "countries"
                          }
                        }
                      }
                    ],
                    "datasets": {
                      "data-936bac6e13dfc1306907f073d870a2b2": [
                        {
                          "Footprint": 0.8,
                          "Country": 4
                        },
                        {
                          "Footprint": 2.2,
                          "Country": 8
                        },
                        {
                          "Footprint": 2.1,
                          "Country": 12
                        },
                        {
                          "Footprint": 3.1,
                          "Country": 32
                        },
                        {
                          "Footprint": 2.2,
                          "Country": 51
                        },
                        {
                          "Footprint": 9.3,
                          "Country": 36
                        },
                        {
                          "Footprint": 6.1,
                          "Country": 40
                        },
                        {
                          "Footprint": 0.7,
                          "Country": 50
                        },
                        {
                          "Footprint": 5.1,
                          "Country": 112
                        },
                        {
                          "Footprint": 7.4,
                          "Country": 56
                        },
                        {
                          "Footprint": 2.5,
                          "Country": 84
                        },
                        {
                          "Footprint": 1.4,
                          "Country": 204
                        },
                        {
                          "Footprint": 2.3,
                          "Country": 64
                        },
                        {
                          "Footprint": 3,
                          "Country": "Bolivia"
                        },
                        {
                          "Footprint": 3.1,
                          "Country": 70
                        },
                        {
                          "Footprint": 3.8,
                          "Country": 72
                        },
                        {
                          "Footprint": 3.1,
                          "Country": 76
                        },
                        {
                          "Footprint": 3.3,
                          "Country": 100
                        },
                        {
                          "Footprint": 1.2,
                          "Country": 854
                        },
                        {
                          "Footprint": 0.8,
                          "Country": 108
                        },
                        {
                          "Footprint": 1.2,
                          "Country": 116
                        },
                        {
                          "Footprint": 1.2,
                          "Country": 120
                        },
                        {
                          "Footprint": 8.2,
                          "Country": 124
                        },
                        {
                          "Footprint": 1.5,
                          "Country": 148
                        },
                        {
                          "Footprint": 4.4,
                          "Country": 152
                        },
                        {
                          "Footprint": 3.4,
                          "Country": 156
                        },
                        {
                          "Footprint": 1.9,
                          "Country": 170
                        },
                        {
                          "Footprint": 1,
                          "Country": 174
                        },
                        {
                          "Footprint": 2.8,
                          "Country": 188
                        },
                        {
                          "Footprint": 1.3,
                          "Country": "Cote d'Ivoire"
                        },
                        {
                          "Footprint": 3.9,
                          "Country": 191
                        },
                        {
                          "Footprint": 4.2,
                          "Country": 196
                        },
                        {
                          "Footprint": 5.2,
                          "Country": "Czech Republic"
                        },
                        {
                          "Footprint": 5.5,
                          "Country": 208
                        },
                        {
                          "Footprint": 2.2,
                          "Country": 262
                        },
                        {
                          "Footprint": 1.5,
                          "Country": 214
                        },
                        {
                          "Footprint": 2.2,
                          "Country": 218
                        },
                        {
                          "Footprint": 2.2,
                          "Country": 818
                        },
                        {
                          "Footprint": 2.1,
                          "Country": 222
                        },
                        {
                          "Footprint": 6.9,
                          "Country": 233
                        },
                        {
                          "Footprint": 1,
                          "Country": 231
                        },
                        {
                          "Footprint": 5.9,
                          "Country": 246
                        },
                        {
                          "Footprint": 5.1,
                          "Country": 250
                        },
                        {
                          "Footprint": 2,
                          "Country": 266
                        },
                        {
                          "Footprint": 1.6,
                          "Country": 268
                        },
                        {
                          "Footprint": 5.3,
                          "Country": 276
                        },
                        {
                          "Footprint": 2,
                          "Country": 288
                        },
                        {
                          "Footprint": 4.4,
                          "Country": 300
                        },
                        {
                          "Footprint": 1.9,
                          "Country": 320
                        },
                        {
                          "Footprint": 1.4,
                          "Country": 324
                        },
                        {
                          "Footprint": 0.6,
                          "Country": 332
                        },
                        {
                          "Footprint": 1.7,
                          "Country": 340
                        },
                        {
                          "Footprint": 8.8,
                          "Country": 344
                        },
                        {
                          "Footprint": 2.9,
                          "Country": 348
                        },
                        {
                          "Footprint": 6.4,
                          "Country": 352
                        },
                        {
                          "Footprint": 1.2,
                          "Country": 356
                        },
                        {
                          "Footprint": 1.6,
                          "Country": 360
                        },
                        {
                          "Footprint": 2.8,
                          "Country": "Iran"
                        },
                        {
                          "Footprint": 1.9,
                          "Country": 368
                        },
                        {
                          "Footprint": 5.6,
                          "Country": 372
                        },
                        {
                          "Footprint": 6.2,
                          "Country": 376
                        },
                        {
                          "Footprint": 4.6,
                          "Country": 380
                        },
                        {
                          "Footprint": 1.9,
                          "Country": 388
                        },
                        {
                          "Footprint": 5,
                          "Country": 392
                        },
                        {
                          "Footprint": 5.6,
                          "Country": 398
                        },
                        {
                          "Footprint": 1,
                          "Country": 404
                        },
                        {
                          "Footprint": 1.9,
                          "Country": 417
                        },
                        {
                          "Footprint": 6.3,
                          "Country": 428
                        },
                        {
                          "Footprint": 3.8,
                          "Country": 422
                        },
                        {
                          "Footprint": 1.7,
                          "Country": 426
                        },
                        {
                          "Footprint": 1.2,
                          "Country": 430
                        },
                        {
                          "Footprint": 5.8,
                          "Country": 440
                        },
                        {
                          "Footprint": 15.8,
                          "Country": 442
                        },
                        {
                          "Footprint": 3.3,
                          "Country": "Macedonia"
                        },
                        {
                          "Footprint": 0.8,
                          "Country": 454
                        },
                        {
                          "Footprint": 3.7,
                          "Country": 458
                        },
                        {
                          "Footprint": 4.4,
                          "Country": 470
                        },
                        {
                          "Footprint": 2.5,
                          "Country": 478
                        },
                        {
                          "Footprint": 3.5,
                          "Country": 480
                        },
                        {
                          "Footprint": 2.9,
                          "Country": 484
                        },
                        {
                          "Footprint": 6.1,
                          "Country": 496
                        },
                        {
                          "Footprint": 3.8,
                          "Country": 499
                        },
                        {
                          "Footprint": 1.7,
                          "Country": 504
                        },
                        {
                          "Footprint": 0.9,
                          "Country": 508
                        },
                        {
                          "Footprint": 1.4,
                          "Country": 104
                        },
                        {
                          "Footprint": 2.5,
                          "Country": 516
                        },
                        {
                          "Footprint": 1,
                          "Country": 524
                        },
                        {
                          "Footprint": 5.3,
                          "Country": 528
                        },
                        {
                          "Footprint": 5.6,
                          "Country": 554
                        },
                        {
                          "Footprint": 1.4,
                          "Country": 558
                        },
                        {
                          "Footprint": 1.6,
                          "Country": 562
                        },
                        {
                          "Footprint": 1.2,
                          "Country": 566
                        },
                        {
                          "Footprint": 5,
                          "Country": 578
                        },
                        {
                          "Footprint": 7.5,
                          "Country": 512
                        },
                        {
                          "Footprint": 0.8,
                          "Country": 586
                        },
                        {
                          "Footprint": 1.2,
                          "Country": 275
                        },
                        {
                          "Footprint": 2.8,
                          "Country": 591
                        },
                        {
                          "Footprint": 4.2,
                          "Country": 600
                        },
                        {
                          "Footprint": 2.3,
                          "Country": 604
                        },
                        {
                          "Footprint": 1.1,
                          "Country": 608
                        },
                        {
                          "Footprint": 4.4,
                          "Country": 616
                        },
                        {
                          "Footprint": 3.9,
                          "Country": 620
                        },
                        {
                          "Footprint": 1.3,
                          "Country": "Republic of Congo"
                        },
                        {
                          "Footprint": 2.7,
                          "Country": 642
                        },
                        {
                          "Footprint": 5.7,
                          "Country": "Russia"
                        },
                        {
                          "Footprint": 0.9,
                          "Country": 646
                        },
                        {
                          "Footprint": 1.2,
                          "Country": 686
                        },
                        {
                          "Footprint": 2.7,
                          "Country": 688
                        },
                        {
                          "Footprint": 1.2,
                          "Country": 694
                        },
                        {
                          "Footprint": 4.1,
                          "Country": 703
                        },
                        {
                          "Footprint": 5.8,
                          "Country": 705
                        },
                        {
                          "Footprint": 3.3,
                          "Country": 710
                        },
                        {
                          "Footprint": 5.7,
                          "Country": "South Korea"
                        },
                        {
                          "Footprint": 3.7,
                          "Country": 724
                        },
                        {
                          "Footprint": 1.3,
                          "Country": 144
                        },
                        {
                          "Footprint": 4.3,
                          "Country": 740
                        },
                        {
                          "Footprint": 2,
                          "Country": "Swaziland"
                        },
                        {
                          "Footprint": 7.3,
                          "Country": 752
                        },
                        {
                          "Footprint": 5.8,
                          "Country": 756
                        },
                        {
                          "Footprint": 1.5,
                          "Country": "Syria"
                        },
                        {
                          "Footprint": 0.9,
                          "Country": 762
                        },
                        {
                          "Footprint": 1.3,
                          "Country": "Tanzania"
                        },
                        {
                          "Footprint": 2.7,
                          "Country": 764
                        },
                        {
                          "Footprint": 1.1,
                          "Country": 768
                        },
                        {
                          "Footprint": 7.9,
                          "Country": 780
                        },
                        {
                          "Footprint": 2.3,
                          "Country": 788
                        },
                        {
                          "Footprint": 3.3,
                          "Country": 792
                        },
                        {
                          "Footprint": 5.5,
                          "Country": 795
                        },
                        {
                          "Footprint": 1.2,
                          "Country": 800
                        },
                        {
                          "Footprint": 2.8,
                          "Country": 804
                        },
                        {
                          "Footprint": 4.9,
                          "Country": "United Kingdom"
                        },
                        {
                          "Footprint": 8.2,
                          "Country": 840
                        },
                        {
                          "Footprint": 2.9,
                          "Country": 858
                        },
                        {
                          "Footprint": 2.3,
                          "Country": 860
                        },
                        {
                          "Footprint": 1.9,
                          "Country": 548
                        },
                        {
                          "Footprint": 3.6,
                          "Country": "Venezuela"
                        },
                        {
                          "Footprint": 1.7,
                          "Country": "Vietnam"
                        },
                        {
                          "Footprint": 1,
                          "Country": 887
                        },
                        {
                          "Footprint": 1,
                          "Country": 894
                        },
                        {
                          "Footprint": 1.4,
                          "Country": 716
                        }
                      ]
                    },
                    "vislib": "vegalite",
                    "height": 150,
                    "width": 200,
                    "$schema": "https://vega.github.io/schema/vega-lite/v4.8.1.json",
                    "config": {
                      "mark": {
                        "tooltip": {
                          "content": "encoding"
                        }
                      },
                      "axis": {
                        "labelFont": "Helvetica Neue",
                        "labelFontSize": 9,
                        "labelColor": "#505050",
                        "titleFont": "Helvetica Neue",
                        "labelFontWeight": 400,
                        "titleFontSize": 11,
                        "titleFontWeight": 500
                      },
                      "title": {
                        "fontWeight": 500,
                        "font": "Helvetica Neue",
                        "fontSize": 13
                      },
                      "legend": {
                        "labelFont": "Helvetica Neue",
                        "labelFontSize": 9,
                        "titleFont": "Helvetica Neue",
                        "labelFontWeight": 400,
                        "titleFontSize": 10,
                        "titleFontWeight": 500
                      },
                      "view": {
                        "continuousWidth": 400,
                        "continuousHeight": 300
                      }
                    }
                  },
                  {
                    "layer": [
                      {
                        "data": {
                          "url": "https://cdn.jsdelivr.net/npm/vega-datasets@v1.29.0/data/world-110m.json",
                          "format": {
                            "type": "topojson",
                            "feature": "countries"
                          }
                        },
                        "projection": {
                          "type": "equirectangular"
                        },
                        "mark": {
                          "stroke": "white",
                          "type": "geoshape",
                          "fill": "lightgray"
                        }
                      },
                      {
                        "projection": {
                          "type": "equirectangular"
                        },
                        "title": "Mean of Inequality across World",
                        "encoding": {
                          "color": {
                            "field": "Inequality",
                            "type": "quantitative"
                          }
                        },
                        "transform": [
                          {
                            "from": {
                              "fields": [
                                "Inequality"
                              ],
                              "data": {
                                "name": "data-03801415beb2a9bfcdbf1d8796a4975d"
                              },
                              "key": "Country"
                            },
                            "lookup": "id"
                          }
                        ],
                        "mark": "geoshape",
                        "data": {
                          "url": "https://cdn.jsdelivr.net/npm/vega-datasets@v1.29.0/data/world-110m.json",
                          "format": {
                            "type": "topojson",
                            "feature": "countries"
                          }
                        }
                      }
                    ],
                    "datasets": {
                      "data-03801415beb2a9bfcdbf1d8796a4975d": [
                        {
                          "Country": 4,
                          "Inequality": 0.43
                        },
                        {
                          "Country": 8,
                          "Inequality": 0.17
                        },
                        {
                          "Country": 12,
                          "Inequality": 0.24
                        },
                        {
                          "Country": 32,
                          "Inequality": 0.16
                        },
                        {
                          "Country": 51,
                          "Inequality": 0.22
                        },
                        {
                          "Country": 36,
                          "Inequality": 0.08
                        },
                        {
                          "Country": 40,
                          "Inequality": 0.07
                        },
                        {
                          "Country": 50,
                          "Inequality": 0.27
                        },
                        {
                          "Country": 112,
                          "Inequality": 0.13
                        },
                        {
                          "Country": 56,
                          "Inequality": 0.09
                        },
                        {
                          "Country": 84,
                          "Inequality": 0.18
                        },
                        {
                          "Country": 204,
                          "Inequality": 0.44
                        },
                        {
                          "Country": 64,
                          "Inequality": 0.27
                        },
                        {
                          "Country": "Bolivia",
                          "Inequality": 0.35
                        },
                        {
                          "Country": 70,
                          "Inequality": 0.19
                        },
                        {
                          "Country": 72,
                          "Inequality": 0.28
                        },
                        {
                          "Country": 76,
                          "Inequality": 0.22
                        },
                        {
                          "Country": 100,
                          "Inequality": 0.19
                        },
                        {
                          "Country": 854,
                          "Inequality": 0.43
                        },
                        {
                          "Country": 108,
                          "Inequality": 0.48
                        },
                        {
                          "Country": 116,
                          "Inequality": 0.28
                        },
                        {
                          "Country": 120,
                          "Inequality": 0.47
                        },
                        {
                          "Country": 124,
                          "Inequality": 0.09
                        },
                        {
                          "Country": 148,
                          "Inequality": 0.51
                        },
                        {
                          "Country": 152,
                          "Inequality": 0.14
                        },
                        {
                          "Country": 156,
                          "Inequality": 0.17
                        },
                        {
                          "Country": 170,
                          "Inequality": 0.24
                        },
                        {
                          "Country": 174,
                          "Inequality": 0.36
                        },
                        {
                          "Country": 188,
                          "Inequality": 0.15
                        },
                        {
                          "Country": "Cote d'Ivoire",
                          "Inequality": 0.45
                        },
                        {
                          "Country": 191,
                          "Inequality": 0.12
                        },
                        {
                          "Country": 196,
                          "Inequality": 0.12
                        },
                        {
                          "Country": "Czech Republic",
                          "Inequality": 0.09
                        },
                        {
                          "Country": 208,
                          "Inequality": 0.07
                        },
                        {
                          "Country": 262,
                          "Inequality": 0.42
                        },
                        {
                          "Country": 214,
                          "Inequality": 0.3
                        },
                        {
                          "Country": 218,
                          "Inequality": 0.22
                        },
                        {
                          "Country": 818,
                          "Inequality": 0.23
                        },
                        {
                          "Country": 222,
                          "Inequality": 0.22
                        },
                        {
                          "Country": 233,
                          "Inequality": 0.12
                        },
                        {
                          "Country": 231,
                          "Inequality": 0.36
                        },
                        {
                          "Country": 246,
                          "Inequality": 0.06
                        },
                        {
                          "Country": 250,
                          "Inequality": 0.09
                        },
                        {
                          "Country": 266,
                          "Inequality": 0.36
                        },
                        {
                          "Country": 268,
                          "Inequality": 0.2
                        },
                        {
                          "Country": 276,
                          "Inequality": 0.08
                        },
                        {
                          "Country": 288,
                          "Inequality": 0.38
                        },
                        {
                          "Country": 300,
                          "Inequality": 0.16
                        },
                        {
                          "Country": 320,
                          "Inequality": 0.27
                        },
                        {
                          "Country": 324,
                          "Inequality": 0.42
                        },
                        {
                          "Country": 332,
                          "Inequality": 0.37
                        },
                        {
                          "Country": 340,
                          "Inequality": 0.31
                        },
                        {
                          "Country": 344,
                          "Inequality": 0.1
                        },
                        {
                          "Country": 348,
                          "Inequality": 0.15
                        },
                        {
                          "Country": 352,
                          "Inequality": 0.05
                        },
                        {
                          "Country": 356,
                          "Inequality": 0.31
                        },
                        {
                          "Country": 360,
                          "Inequality": 0.21
                        },
                        {
                          "Country": "Iran",
                          "Inequality": 0.23
                        },
                        {
                          "Country": 368,
                          "Inequality": 0.27
                        },
                        {
                          "Country": 372,
                          "Inequality": 0.08
                        },
                        {
                          "Country": 376,
                          "Inequality": 0.08
                        },
                        {
                          "Country": 380,
                          "Inequality": 0.12
                        },
                        {
                          "Country": 388,
                          "Inequality": 0.21
                        },
                        {
                          "Country": 392,
                          "Inequality": 0.09
                        },
                        {
                          "Country": 398,
                          "Inequality": 0.18
                        },
                        {
                          "Country": 404,
                          "Inequality": 0.38
                        },
                        {
                          "Country": 417,
                          "Inequality": 0.18
                        },
                        {
                          "Country": 428,
                          "Inequality": 0.14
                        },
                        {
                          "Country": 422,
                          "Inequality": 0.19
                        },
                        {
                          "Country": 426,
                          "Inequality": 0.42
                        },
                        {
                          "Country": 430,
                          "Inequality": 0.38
                        },
                        {
                          "Country": 440,
                          "Inequality": 0.11
                        },
                        {
                          "Country": 442,
                          "Inequality": 0.07
                        },
                        {
                          "Country": "Macedonia",
                          "Inequality": 0.18
                        },
                        {
                          "Country": 454,
                          "Inequality": 0.45
                        },
                        {
                          "Country": 458,
                          "Inequality": 0.1
                        },
                        {
                          "Country": 470,
                          "Inequality": 0.13
                        },
                        {
                          "Country": 478,
                          "Inequality": 0.37
                        },
                        {
                          "Country": 480,
                          "Inequality": 0.17
                        },
                        {
                          "Country": 484,
                          "Inequality": 0.19
                        },
                        {
                          "Country": 496,
                          "Inequality": 0.22
                        },
                        {
                          "Country": 499,
                          "Inequality": 0.16
                        },
                        {
                          "Country": 504,
                          "Inequality": 0.25
                        },
                        {
                          "Country": 508,
                          "Inequality": 0.43
                        },
                        {
                          "Country": 104,
                          "Inequality": 0.32
                        },
                        {
                          "Country": 516,
                          "Inequality": 0.26
                        },
                        {
                          "Country": 524,
                          "Inequality": 0.27
                        },
                        {
                          "Country": 528,
                          "Inequality": 0.04
                        },
                        {
                          "Country": 554,
                          "Inequality": 0.08
                        },
                        {
                          "Country": 558,
                          "Inequality": 0.25
                        },
                        {
                          "Country": 562,
                          "Inequality": 0.4
                        },
                        {
                          "Country": 566,
                          "Inequality": 0.44
                        },
                        {
                          "Country": 578,
                          "Inequality": 0.07
                        },
                        {
                          "Country": 512,
                          "Inequality": 0.13
                        },
                        {
                          "Country": 586,
                          "Inequality": 0.4
                        },
                        {
                          "Country": 275,
                          "Inequality": 0.24
                        },
                        {
                          "Country": 591,
                          "Inequality": 0.19
                        },
                        {
                          "Country": 600,
                          "Inequality": 0.22
                        },
                        {
                          "Country": 604,
                          "Inequality": 0.21
                        },
                        {
                          "Country": 608,
                          "Inequality": 0.26
                        },
                        {
                          "Country": 616,
                          "Inequality": 0.11
                        },
                        {
                          "Country": 620,
                          "Inequality": 0.16
                        },
                        {
                          "Country": "Republic of Congo",
                          "Inequality": 0.4
                        },
                        {
                          "Country": 642,
                          "Inequality": 0.19
                        },
                        {
                          "Country": "Russia",
                          "Inequality": 0.16
                        },
                        {
                          "Country": 646,
                          "Inequality": 0.37
                        },
                        {
                          "Country": 686,
                          "Inequality": 0.33
                        },
                        {
                          "Country": 688,
                          "Inequality": 0.19
                        },
                        {
                          "Country": 694,
                          "Inequality": 0.5
                        },
                        {
                          "Country": 703,
                          "Inequality": 0.13
                        },
                        {
                          "Country": 705,
                          "Inequality": 0.1
                        },
                        {
                          "Country": 710,
                          "Inequality": 0.33
                        },
                        {
                          "Country": "South Korea",
                          "Inequality": 0.11
                        },
                        {
                          "Country": 724,
                          "Inequality": 0.1
                        },
                        {
                          "Country": 144,
                          "Inequality": 0.17
                        },
                        {
                          "Country": 740,
                          "Inequality": 0.19
                        },
                        {
                          "Country": "Swaziland",
                          "Inequality": 0.41
                        },
                        {
                          "Country": 752,
                          "Inequality": 0.06
                        },
                        {
                          "Country": 756,
                          "Inequality": 0.06
                        },
                        {
                          "Country": "Syria",
                          "Inequality": 0.3
                        },
                        {
                          "Country": 762,
                          "Inequality": 0.26
                        },
                        {
                          "Country": "Tanzania",
                          "Inequality": 0.33
                        },
                        {
                          "Country": 764,
                          "Inequality": 0.15
                        },
                        {
                          "Country": 768,
                          "Inequality": 0.43
                        },
                        {
                          "Country": 780,
                          "Inequality": 0.21
                        },
                        {
                          "Country": 788,
                          "Inequality": 0.22
                        },
                        {
                          "Country": 792,
                          "Inequality": 0.19
                        },
                        {
                          "Country": 795,
                          "Inequality": 0.31
                        },
                        {
                          "Country": 800,
                          "Inequality": 0.41
                        },
                        {
                          "Country": 804,
                          "Inequality": 0.17
                        },
                        {
                          "Country": "United Kingdom",
                          "Inequality": 0.09
                        },
                        {
                          "Country": 840,
                          "Inequality": 0.13
                        },
                        {
                          "Country": 858,
                          "Inequality": 0.18
                        },
                        {
                          "Country": 860,
                          "Inequality": 0.3
                        },
                        {
                          "Country": 548,
                          "Inequality": 0.22
                        },
                        {
                          "Country": "Venezuela",
                          "Inequality": 0.19
                        },
                        {
                          "Country": "Vietnam",
                          "Inequality": 0.19
                        },
                        {
                          "Country": 887,
                          "Inequality": 0.39
                        },
                        {
                          "Country": 894,
                          "Inequality": 0.41
                        },
                        {
                          "Country": 716,
                          "Inequality": 0.37
                        }
                      ]
                    },
                    "vislib": "vegalite",
                    "height": 150,
                    "width": 200,
                    "$schema": "https://vega.github.io/schema/vega-lite/v4.8.1.json",
                    "config": {
                      "mark": {
                        "tooltip": {
                          "content": "encoding"
                        }
                      },
                      "axis": {
                        "labelFont": "Helvetica Neue",
                        "labelFontSize": 9,
                        "labelColor": "#505050",
                        "titleFont": "Helvetica Neue",
                        "labelFontWeight": 400,
                        "titleFontSize": 11,
                        "titleFontWeight": 500
                      },
                      "title": {
                        "fontWeight": 500,
                        "font": "Helvetica Neue",
                        "fontSize": 13
                      },
                      "legend": {
                        "labelFont": "Helvetica Neue",
                        "labelFontSize": 9,
                        "titleFont": "Helvetica Neue",
                        "labelFontWeight": 400,
                        "titleFontSize": 10,
                        "titleFontWeight": 500
                      },
                      "view": {
                        "continuousWidth": 400,
                        "continuousHeight": 300
                      }
                    }
                  },
                  {
                    "layer": [
                      {
                        "data": {
                          "url": "https://cdn.jsdelivr.net/npm/vega-datasets@v1.29.0/data/world-110m.json",
                          "format": {
                            "type": "topojson",
                            "feature": "countries"
                          }
                        },
                        "projection": {
                          "type": "equirectangular"
                        },
                        "mark": {
                          "stroke": "white",
                          "type": "geoshape",
                          "fill": "lightgray"
                        }
                      },
                      {
                        "projection": {
                          "type": "equirectangular"
                        },
                        "title": "Mean of HPIRank across World",
                        "encoding": {
                          "color": {
                            "field": "HPIRank",
                            "type": "quantitative"
                          }
                        },
                        "transform": [
                          {
                            "from": {
                              "fields": [
                                "HPIRank"
                              ],
                              "data": {
                                "name": "data-c9f248fa47b50a394a953b1585ba8e90"
                              },
                              "key": "Country"
                            },
                            "lookup": "id"
                          }
                        ],
                        "mark": "geoshape",
                        "data": {
                          "url": "https://cdn.jsdelivr.net/npm/vega-datasets@v1.29.0/data/world-110m.json",
                          "format": {
                            "type": "topojson",
                            "feature": "countries"
                          }
                        }
                      }
                    ],
                    "datasets": {
                      "data-c9f248fa47b50a394a953b1585ba8e90": [
                        {
                          "Country": 4,
                          "HPIRank": 110
                        },
                        {
                          "Country": 8,
                          "HPIRank": 13
                        },
                        {
                          "Country": 12,
                          "HPIRank": 30
                        },
                        {
                          "Country": 32,
                          "HPIRank": 19
                        },
                        {
                          "Country": 51,
                          "HPIRank": 73
                        },
                        {
                          "Country": 36,
                          "HPIRank": 105
                        },
                        {
                          "Country": 40,
                          "HPIRank": 43
                        },
                        {
                          "Country": 50,
                          "HPIRank": 8
                        },
                        {
                          "Country": 112,
                          "HPIRank": 102
                        },
                        {
                          "Country": 56,
                          "HPIRank": 87
                        },
                        {
                          "Country": 84,
                          "HPIRank": 27
                        },
                        {
                          "Country": 204,
                          "HPIRank": 137
                        },
                        {
                          "Country": 64,
                          "HPIRank": 56
                        },
                        {
                          "Country": "Bolivia",
                          "HPIRank": 92
                        },
                        {
                          "Country": 70,
                          "HPIRank": 76
                        },
                        {
                          "Country": 72,
                          "HPIRank": 126
                        },
                        {
                          "Country": 76,
                          "HPIRank": 23
                        },
                        {
                          "Country": 100,
                          "HPIRank": 109
                        },
                        {
                          "Country": 854,
                          "HPIRank": 119
                        },
                        {
                          "Country": 108,
                          "HPIRank": 131
                        },
                        {
                          "Country": 116,
                          "HPIRank": 74
                        },
                        {
                          "Country": 120,
                          "HPIRank": 124
                        },
                        {
                          "Country": 124,
                          "HPIRank": 85
                        },
                        {
                          "Country": 148,
                          "HPIRank": 140
                        },
                        {
                          "Country": 152,
                          "HPIRank": 35
                        },
                        {
                          "Country": 156,
                          "HPIRank": 72
                        },
                        {
                          "Country": 170,
                          "HPIRank": 3
                        },
                        {
                          "Country": 174,
                          "HPIRank": 93
                        },
                        {
                          "Country": 188,
                          "HPIRank": 1
                        },
                        {
                          "Country": "Cote d'Ivoire",
                          "HPIRank": 135
                        },
                        {
                          "Country": 191,
                          "HPIRank": 47
                        },
                        {
                          "Country": 196,
                          "HPIRank": 41
                        },
                        {
                          "Country": "Czech Republic",
                          "HPIRank": 64
                        },
                        {
                          "Country": 208,
                          "HPIRank": 32
                        },
                        {
                          "Country": 262,
                          "HPIRank": 127
                        },
                        {
                          "Country": 214,
                          "HPIRank": 45
                        },
                        {
                          "Country": 218,
                          "HPIRank": 10
                        },
                        {
                          "Country": 818,
                          "HPIRank": 86
                        },
                        {
                          "Country": 222,
                          "HPIRank": 17
                        },
                        {
                          "Country": 233,
                          "HPIRank": 118
                        },
                        {
                          "Country": 231,
                          "HPIRank": 66
                        },
                        {
                          "Country": 246,
                          "HPIRank": 37
                        },
                        {
                          "Country": 250,
                          "HPIRank": 44
                        },
                        {
                          "Country": 266,
                          "HPIRank": 120
                        },
                        {
                          "Country": 268,
                          "HPIRank": 40
                        },
                        {
                          "Country": 276,
                          "HPIRank": 49
                        },
                        {
                          "Country": 288,
                          "HPIRank": 104
                        },
                        {
                          "Country": 300,
                          "HPIRank": 89
                        },
                        {
                          "Country": 320,
                          "HPIRank": 26
                        },
                        {
                          "Country": 324,
                          "HPIRank": 129
                        },
                        {
                          "Country": 332,
                          "HPIRank": 57
                        },
                        {
                          "Country": 340,
                          "HPIRank": 65
                        },
                        {
                          "Country": 344,
                          "HPIRank": 123
                        },
                        {
                          "Country": 348,
                          "HPIRank": 69
                        },
                        {
                          "Country": 352,
                          "HPIRank": 39
                        },
                        {
                          "Country": 356,
                          "HPIRank": 50
                        },
                        {
                          "Country": 360,
                          "HPIRank": 16
                        },
                        {
                          "Country": "Iran",
                          "HPIRank": 84
                        },
                        {
                          "Country": 368,
                          "HPIRank": 67
                        },
                        {
                          "Country": 372,
                          "HPIRank": 48
                        },
                        {
                          "Country": 376,
                          "HPIRank": 54
                        },
                        {
                          "Country": 380,
                          "HPIRank": 60
                        },
                        {
                          "Country": 388,
                          "HPIRank": 11
                        },
                        {
                          "Country": 392,
                          "HPIRank": 58
                        },
                        {
                          "Country": 398,
                          "HPIRank": 114
                        },
                        {
                          "Country": 404,
                          "HPIRank": 83
                        },
                        {
                          "Country": 417,
                          "HPIRank": 31
                        },
                        {
                          "Country": 428,
                          "HPIRank": 121
                        },
                        {
                          "Country": 422,
                          "HPIRank": 100
                        },
                        {
                          "Country": 426,
                          "HPIRank": 125
                        },
                        {
                          "Country": 430,
                          "HPIRank": 96
                        },
                        {
                          "Country": 440,
                          "HPIRank": 107
                        },
                        {
                          "Country": 442,
                          "HPIRank": 139
                        },
                        {
                          "Country": "Macedonia",
                          "HPIRank": 90
                        },
                        {
                          "Country": 454,
                          "HPIRank": 98
                        },
                        {
                          "Country": 458,
                          "HPIRank": 46
                        },
                        {
                          "Country": 470,
                          "HPIRank": 53
                        },
                        {
                          "Country": 478,
                          "HPIRank": 117
                        },
                        {
                          "Country": 480,
                          "HPIRank": 63
                        },
                        {
                          "Country": 484,
                          "HPIRank": 2
                        },
                        {
                          "Country": 496,
                          "HPIRank": 136
                        },
                        {
                          "Country": 499,
                          "HPIRank": 78
                        },
                        {
                          "Country": 504,
                          "HPIRank": 33
                        },
                        {
                          "Country": 508,
                          "HPIRank": 88
                        },
                        {
                          "Country": 104,
                          "HPIRank": 81
                        },
                        {
                          "Country": 516,
                          "HPIRank": 103
                        },
                        {
                          "Country": 524,
                          "HPIRank": 42
                        },
                        {
                          "Country": 528,
                          "HPIRank": 18
                        },
                        {
                          "Country": 554,
                          "HPIRank": 38
                        },
                        {
                          "Country": 558,
                          "HPIRank": 7
                        },
                        {
                          "Country": 562,
                          "HPIRank": 122
                        },
                        {
                          "Country": 566,
                          "HPIRank": 95
                        },
                        {
                          "Country": 578,
                          "HPIRank": 12
                        },
                        {
                          "Country": 512,
                          "HPIRank": 106
                        },
                        {
                          "Country": 586,
                          "HPIRank": 36
                        },
                        {
                          "Country": 275,
                          "HPIRank": 22
                        },
                        {
                          "Country": 591,
                          "HPIRank": 6
                        },
                        {
                          "Country": 600,
                          "HPIRank": 91
                        },
                        {
                          "Country": 604,
                          "HPIRank": 21
                        },
                        {
                          "Country": 608,
                          "HPIRank": 20
                        },
                        {
                          "Country": 616,
                          "HPIRank": 62
                        },
                        {
                          "Country": 620,
                          "HPIRank": 79
                        },
                        {
                          "Country": "Republic of Congo",
                          "HPIRank": 115
                        },
                        {
                          "Country": 642,
                          "HPIRank": 55
                        },
                        {
                          "Country": "Russia",
                          "HPIRank": 116
                        },
                        {
                          "Country": 646,
                          "HPIRank": 111
                        },
                        {
                          "Country": 686,
                          "HPIRank": 101
                        },
                        {
                          "Country": 688,
                          "HPIRank": 52
                        },
                        {
                          "Country": 694,
                          "HPIRank": 133
                        },
                        {
                          "Country": 703,
                          "HPIRank": 59
                        },
                        {
                          "Country": 705,
                          "HPIRank": 82
                        },
                        {
                          "Country": 710,
                          "HPIRank": 128
                        },
                        {
                          "Country": "South Korea",
                          "HPIRank": 80
                        },
                        {
                          "Country": 724,
                          "HPIRank": 15
                        },
                        {
                          "Country": 144,
                          "HPIRank": 28
                        },
                        {
                          "Country": 740,
                          "HPIRank": 75
                        },
                        {
                          "Country": "Swaziland",
                          "HPIRank": 132
                        },
                        {
                          "Country": 752,
                          "HPIRank": 61
                        },
                        {
                          "Country": 756,
                          "HPIRank": 24
                        },
                        {
                          "Country": "Syria",
                          "HPIRank": 113
                        },
                        {
                          "Country": 762,
                          "HPIRank": 25
                        },
                        {
                          "Country": "Tanzania",
                          "HPIRank": 97
                        },
                        {
                          "Country": 764,
                          "HPIRank": 9
                        },
                        {
                          "Country": 768,
                          "HPIRank": 138
                        },
                        {
                          "Country": 780,
                          "HPIRank": 130
                        },
                        {
                          "Country": 788,
                          "HPIRank": 71
                        },
                        {
                          "Country": 792,
                          "HPIRank": 68
                        },
                        {
                          "Country": 795,
                          "HPIRank": 134
                        },
                        {
                          "Country": 800,
                          "HPIRank": 112
                        },
                        {
                          "Country": 804,
                          "HPIRank": 70
                        },
                        {
                          "Country": "United Kingdom",
                          "HPIRank": 34
                        },
                        {
                          "Country": 840,
                          "HPIRank": 108
                        },
                        {
                          "Country": 858,
                          "HPIRank": 14
                        },
                        {
                          "Country": 860,
                          "HPIRank": 51
                        },
                        {
                          "Country": 548,
                          "HPIRank": 4
                        },
                        {
                          "Country": "Venezuela",
                          "HPIRank": 29
                        },
                        {
                          "Country": "Vietnam",
                          "HPIRank": 5
                        },
                        {
                          "Country": 887,
                          "HPIRank": 94
                        },
                        {
                          "Country": 894,
                          "HPIRank": 77
                        },
                        {
                          "Country": 716,
                          "HPIRank": 99
                        }
                      ]
                    },
                    "vislib": "vegalite",
                    "height": 150,
                    "width": 200,
                    "$schema": "https://vega.github.io/schema/vega-lite/v4.8.1.json",
                    "config": {
                      "mark": {
                        "tooltip": {
                          "content": "encoding"
                        }
                      },
                      "axis": {
                        "labelFont": "Helvetica Neue",
                        "labelFontSize": 9,
                        "labelColor": "#505050",
                        "titleFont": "Helvetica Neue",
                        "labelFontWeight": 400,
                        "titleFontSize": 11,
                        "titleFontWeight": 500
                      },
                      "title": {
                        "fontWeight": 500,
                        "font": "Helvetica Neue",
                        "fontSize": 13
                      },
                      "legend": {
                        "labelFont": "Helvetica Neue",
                        "labelFontSize": 9,
                        "titleFont": "Helvetica Neue",
                        "labelFontWeight": 400,
                        "titleFontSize": 10,
                        "titleFontWeight": 500
                      },
                      "view": {
                        "continuousWidth": 400,
                        "continuousHeight": 300
                      }
                    }
                  },
                  {
                    "layer": [
                      {
                        "data": {
                          "url": "https://cdn.jsdelivr.net/npm/vega-datasets@v1.29.0/data/world-110m.json",
                          "format": {
                            "type": "topojson",
                            "feature": "countries"
                          }
                        },
                        "projection": {
                          "type": "equirectangular"
                        },
                        "mark": {
                          "stroke": "white",
                          "type": "geoshape",
                          "fill": "lightgray"
                        }
                      },
                      {
                        "projection": {
                          "type": "equirectangular"
                        },
                        "title": "Mean of IneqAdjLifeExpectancy across World",
                        "encoding": {
                          "color": {
                            "field": "IneqAdjLifeExpectancy",
                            "type": "quantitative"
                          }
                        },
                        "transform": [
                          {
                            "from": {
                              "fields": [
                                "IneqAdjLifeExpectancy"
                              ],
                              "data": {
                                "name": "data-42a5e8130fd8bd7e38db4bc656806d36"
                              },
                              "key": "Country"
                            },
                            "lookup": "id"
                          }
                        ],
                        "mark": "geoshape",
                        "data": {
                          "url": "https://cdn.jsdelivr.net/npm/vega-datasets@v1.29.0/data/world-110m.json",
                          "format": {
                            "type": "topojson",
                            "feature": "countries"
                          }
                        }
                      }
                    ],
                    "datasets": {
                      "data-42a5e8130fd8bd7e38db4bc656806d36": [
                        {
                          "Country": 4,
                          "IneqAdjLifeExpectancy": 38.3
                        },
                        {
                          "Country": 8,
                          "IneqAdjLifeExpectancy": 69.7
                        },
                        {
                          "Country": 12,
                          "IneqAdjLifeExpectancy": 60.5
                        },
                        {
                          "Country": 32,
                          "IneqAdjLifeExpectancy": 68.3
                        },
                        {
                          "Country": 51,
                          "IneqAdjLifeExpectancy": 66.9
                        },
                        {
                          "Country": 36,
                          "IneqAdjLifeExpectancy": 78.6
                        },
                        {
                          "Country": 40,
                          "IneqAdjLifeExpectancy": 78
                        },
                        {
                          "Country": 50,
                          "IneqAdjLifeExpectancy": 56.6
                        },
                        {
                          "Country": 112,
                          "IneqAdjLifeExpectancy": 66.7
                        },
                        {
                          "Country": 56,
                          "IneqAdjLifeExpectancy": 77.2
                        },
                        {
                          "Country": 84,
                          "IneqAdjLifeExpectancy": 61.7
                        },
                        {
                          "Country": 204,
                          "IneqAdjLifeExpectancy": 37.3
                        },
                        {
                          "Country": 64,
                          "IneqAdjLifeExpectancy": 54.5
                        },
                        {
                          "Country": "Bolivia",
                          "IneqAdjLifeExpectancy": 47.9
                        },
                        {
                          "Country": 70,
                          "IneqAdjLifeExpectancy": 71.1
                        },
                        {
                          "Country": 72,
                          "IneqAdjLifeExpectancy": 50.8
                        },
                        {
                          "Country": 76,
                          "IneqAdjLifeExpectancy": 63.3
                        },
                        {
                          "Country": 100,
                          "IneqAdjLifeExpectancy": 68.1
                        },
                        {
                          "Country": 854,
                          "IneqAdjLifeExpectancy": 36.5
                        },
                        {
                          "Country": 108,
                          "IneqAdjLifeExpectancy": 33
                        },
                        {
                          "Country": 116,
                          "IneqAdjLifeExpectancy": 54.2
                        },
                        {
                          "Country": 120,
                          "IneqAdjLifeExpectancy": 33.1
                        },
                        {
                          "Country": 124,
                          "IneqAdjLifeExpectancy": 77.8
                        },
                        {
                          "Country": 148,
                          "IneqAdjLifeExpectancy": 27.3
                        },
                        {
                          "Country": 152,
                          "IneqAdjLifeExpectancy": 74.9
                        },
                        {
                          "Country": 156,
                          "IneqAdjLifeExpectancy": 68.6
                        },
                        {
                          "Country": 170,
                          "IneqAdjLifeExpectancy": 63.1
                        },
                        {
                          "Country": 174,
                          "IneqAdjLifeExpectancy": 43.3
                        },
                        {
                          "Country": 188,
                          "IneqAdjLifeExpectancy": 72.6
                        },
                        {
                          "Country": "Cote d'Ivoire",
                          "IneqAdjLifeExpectancy": 30.6
                        },
                        {
                          "Country": 191,
                          "IneqAdjLifeExpectancy": 73.5
                        },
                        {
                          "Country": 196,
                          "IneqAdjLifeExpectancy": 76.6
                        },
                        {
                          "Country": "Czech Republic",
                          "IneqAdjLifeExpectancy": 75.5
                        },
                        {
                          "Country": 208,
                          "IneqAdjLifeExpectancy": 76.8
                        },
                        {
                          "Country": 262,
                          "IneqAdjLifeExpectancy": 41.4
                        },
                        {
                          "Country": 214,
                          "IneqAdjLifeExpectancy": 60.8
                        },
                        {
                          "Country": 218,
                          "IneqAdjLifeExpectancy": 64.1
                        },
                        {
                          "Country": 818,
                          "IneqAdjLifeExpectancy": 61.3
                        },
                        {
                          "Country": 222,
                          "IneqAdjLifeExpectancy": 62.5
                        },
                        {
                          "Country": 233,
                          "IneqAdjLifeExpectancy": 72.6
                        },
                        {
                          "Country": 231,
                          "IneqAdjLifeExpectancy": 43.8
                        },
                        {
                          "Country": 246,
                          "IneqAdjLifeExpectancy": 77.6
                        },
                        {
                          "Country": 250,
                          "IneqAdjLifeExpectancy": 78.5
                        },
                        {
                          "Country": 266,
                          "IneqAdjLifeExpectancy": 45.8
                        },
                        {
                          "Country": 268,
                          "IneqAdjLifeExpectancy": 66.9
                        },
                        {
                          "Country": 276,
                          "IneqAdjLifeExpectancy": 77.6
                        },
                        {
                          "Country": 288,
                          "IneqAdjLifeExpectancy": 42.2
                        },
                        {
                          "Country": 300,
                          "IneqAdjLifeExpectancy": 77.6
                        },
                        {
                          "Country": 320,
                          "IneqAdjLifeExpectancy": 59.2
                        },
                        {
                          "Country": 324,
                          "IneqAdjLifeExpectancy": 37.2
                        },
                        {
                          "Country": 332,
                          "IneqAdjLifeExpectancy": 42.9
                        },
                        {
                          "Country": 340,
                          "IneqAdjLifeExpectancy": 58.5
                        },
                        {
                          "Country": 344,
                          "IneqAdjLifeExpectancy": 81.3
                        },
                        {
                          "Country": 348,
                          "IneqAdjLifeExpectancy": 70.9
                        },
                        {
                          "Country": 352,
                          "IneqAdjLifeExpectancy": 79.8
                        },
                        {
                          "Country": 356,
                          "IneqAdjLifeExpectancy": 51.1
                        },
                        {
                          "Country": 360,
                          "IneqAdjLifeExpectancy": 57.2
                        },
                        {
                          "Country": "Iran",
                          "IneqAdjLifeExpectancy": 66.9
                        },
                        {
                          "Country": 368,
                          "IneqAdjLifeExpectancy": 55.6
                        },
                        {
                          "Country": 372,
                          "IneqAdjLifeExpectancy": 77.5
                        },
                        {
                          "Country": 376,
                          "IneqAdjLifeExpectancy": 78.7
                        },
                        {
                          "Country": 380,
                          "IneqAdjLifeExpectancy": 80.2
                        },
                        {
                          "Country": 388,
                          "IneqAdjLifeExpectancy": 66.3
                        },
                        {
                          "Country": 392,
                          "IneqAdjLifeExpectancy": 80.6
                        },
                        {
                          "Country": 398,
                          "IneqAdjLifeExpectancy": 60.7
                        },
                        {
                          "Country": 404,
                          "IneqAdjLifeExpectancy": 41
                        },
                        {
                          "Country": 417,
                          "IneqAdjLifeExpectancy": 60.2
                        },
                        {
                          "Country": 428,
                          "IneqAdjLifeExpectancy": 68.7
                        },
                        {
                          "Country": 422,
                          "IneqAdjLifeExpectancy": 73.1
                        },
                        {
                          "Country": 426,
                          "IneqAdjLifeExpectancy": 32.6
                        },
                        {
                          "Country": 430,
                          "IneqAdjLifeExpectancy": 40.3
                        },
                        {
                          "Country": 440,
                          "IneqAdjLifeExpectancy": 68.8
                        },
                        {
                          "Country": 442,
                          "IneqAdjLifeExpectancy": 79
                        },
                        {
                          "Country": "Macedonia",
                          "IneqAdjLifeExpectancy": 69.4
                        },
                        {
                          "Country": 454,
                          "IneqAdjLifeExpectancy": 40.4
                        },
                        {
                          "Country": 458,
                          "IneqAdjLifeExpectancy": 69.5
                        },
                        {
                          "Country": 470,
                          "IneqAdjLifeExpectancy": 76.6
                        },
                        {
                          "Country": 478,
                          "IneqAdjLifeExpectancy": 41.5
                        },
                        {
                          "Country": 480,
                          "IneqAdjLifeExpectancy": 66.7
                        },
                        {
                          "Country": 484,
                          "IneqAdjLifeExpectancy": 66.3
                        },
                        {
                          "Country": 496,
                          "IneqAdjLifeExpectancy": 56.9
                        },
                        {
                          "Country": 499,
                          "IneqAdjLifeExpectancy": 71.8
                        },
                        {
                          "Country": 504,
                          "IneqAdjLifeExpectancy": 61.6
                        },
                        {
                          "Country": 508,
                          "IneqAdjLifeExpectancy": 34.5
                        },
                        {
                          "Country": 104,
                          "IneqAdjLifeExpectancy": 48.4
                        },
                        {
                          "Country": 516,
                          "IneqAdjLifeExpectancy": 50.1
                        },
                        {
                          "Country": 524,
                          "IneqAdjLifeExpectancy": 55.3
                        },
                        {
                          "Country": 528,
                          "IneqAdjLifeExpectancy": 78.2
                        },
                        {
                          "Country": 554,
                          "IneqAdjLifeExpectancy": 77.7
                        },
                        {
                          "Country": 558,
                          "IneqAdjLifeExpectancy": 63.4
                        },
                        {
                          "Country": 562,
                          "IneqAdjLifeExpectancy": 38.9
                        },
                        {
                          "Country": 566,
                          "IneqAdjLifeExpectancy": 30.9
                        },
                        {
                          "Country": 578,
                          "IneqAdjLifeExpectancy": 78.6
                        },
                        {
                          "Country": 512,
                          "IneqAdjLifeExpectancy": 70.9
                        },
                        {
                          "Country": 586,
                          "IneqAdjLifeExpectancy": 44.1
                        },
                        {
                          "Country": 275,
                          "IneqAdjLifeExpectancy": 62.6
                        },
                        {
                          "Country": 591,
                          "IneqAdjLifeExpectancy": 68.3
                        },
                        {
                          "Country": 600,
                          "IneqAdjLifeExpectancy": 59.4
                        },
                        {
                          "Country": 604,
                          "IneqAdjLifeExpectancy": 63.5
                        },
                        {
                          "Country": 608,
                          "IneqAdjLifeExpectancy": 56.9
                        },
                        {
                          "Country": 616,
                          "IneqAdjLifeExpectancy": 72.9
                        },
                        {
                          "Country": 620,
                          "IneqAdjLifeExpectancy": 77.2
                        },
                        {
                          "Country": "Republic of Congo",
                          "IneqAdjLifeExpectancy": 42
                        },
                        {
                          "Country": 642,
                          "IneqAdjLifeExpectancy": 68.1
                        },
                        {
                          "Country": "Russia",
                          "IneqAdjLifeExpectancy": 63.4
                        },
                        {
                          "Country": 646,
                          "IneqAdjLifeExpectancy": 44.3
                        },
                        {
                          "Country": 686,
                          "IneqAdjLifeExpectancy": 49.1
                        },
                        {
                          "Country": 688,
                          "IneqAdjLifeExpectancy": 68.6
                        },
                        {
                          "Country": 694,
                          "IneqAdjLifeExpectancy": 28.2
                        },
                        {
                          "Country": 703,
                          "IneqAdjLifeExpectancy": 71.9
                        },
                        {
                          "Country": 705,
                          "IneqAdjLifeExpectancy": 77.1
                        },
                        {
                          "Country": 710,
                          "IneqAdjLifeExpectancy": 41.8
                        },
                        {
                          "Country": "South Korea",
                          "IneqAdjLifeExpectancy": 78.3
                        },
                        {
                          "Country": 724,
                          "IneqAdjLifeExpectancy": 79.3
                        },
                        {
                          "Country": 144,
                          "IneqAdjLifeExpectancy": 68.6
                        },
                        {
                          "Country": 740,
                          "IneqAdjLifeExpectancy": 61.2
                        },
                        {
                          "Country": "Swaziland",
                          "IneqAdjLifeExpectancy": 31.8
                        },
                        {
                          "Country": 752,
                          "IneqAdjLifeExpectancy": 79.1
                        },
                        {
                          "Country": 756,
                          "IneqAdjLifeExpectancy": 79.4
                        },
                        {
                          "Country": "Syria",
                          "IneqAdjLifeExpectancy": 60.2
                        },
                        {
                          "Country": 762,
                          "IneqAdjLifeExpectancy": 53
                        },
                        {
                          "Country": "Tanzania",
                          "IneqAdjLifeExpectancy": 47.7
                        },
                        {
                          "Country": 764,
                          "IneqAdjLifeExpectancy": 66.3
                        },
                        {
                          "Country": 768,
                          "IneqAdjLifeExpectancy": 39.6
                        },
                        {
                          "Country": 780,
                          "IneqAdjLifeExpectancy": 58.4
                        },
                        {
                          "Country": 788,
                          "IneqAdjLifeExpectancy": 65.5
                        },
                        {
                          "Country": 792,
                          "IneqAdjLifeExpectancy": 66.2
                        },
                        {
                          "Country": 795,
                          "IneqAdjLifeExpectancy": 48.3
                        },
                        {
                          "Country": 800,
                          "IneqAdjLifeExpectancy": 36.8
                        },
                        {
                          "Country": 804,
                          "IneqAdjLifeExpectancy": 64.2
                        },
                        {
                          "Country": "United Kingdom",
                          "IneqAdjLifeExpectancy": 76.8
                        },
                        {
                          "Country": 840,
                          "IneqAdjLifeExpectancy": 74
                        },
                        {
                          "Country": 858,
                          "IneqAdjLifeExpectancy": 69.6
                        },
                        {
                          "Country": 860,
                          "IneqAdjLifeExpectancy": 51.6
                        },
                        {
                          "Country": 548,
                          "IneqAdjLifeExpectancy": 60.3
                        },
                        {
                          "Country": "Venezuela",
                          "IneqAdjLifeExpectancy": 65.5
                        },
                        {
                          "Country": "Vietnam",
                          "IneqAdjLifeExpectancy": 64.8
                        },
                        {
                          "Country": 887,
                          "IneqAdjLifeExpectancy": 44.7
                        },
                        {
                          "Country": 894,
                          "IneqAdjLifeExpectancy": 38.7
                        },
                        {
                          "Country": 716,
                          "IneqAdjLifeExpectancy": 36.9
                        }
                      ]
                    },
                    "vislib": "vegalite",
                    "height": 150,
                    "width": 200,
                    "$schema": "https://vega.github.io/schema/vega-lite/v4.8.1.json",
                    "config": {
                      "mark": {
                        "tooltip": {
                          "content": "encoding"
                        }
                      },
                      "axis": {
                        "labelFont": "Helvetica Neue",
                        "labelFontSize": 9,
                        "labelColor": "#505050",
                        "titleFont": "Helvetica Neue",
                        "labelFontWeight": 400,
                        "titleFontSize": 11,
                        "titleFontWeight": 500
                      },
                      "title": {
                        "fontWeight": 500,
                        "font": "Helvetica Neue",
                        "fontSize": 13
                      },
                      "legend": {
                        "labelFont": "Helvetica Neue",
                        "labelFontSize": 9,
                        "titleFont": "Helvetica Neue",
                        "labelFontWeight": 400,
                        "titleFontSize": 10,
                        "titleFontWeight": 500
                      },
                      "view": {
                        "continuousWidth": 400,
                        "continuousHeight": 300
                      }
                    }
                  },
                  {
                    "layer": [
                      {
                        "data": {
                          "url": "https://cdn.jsdelivr.net/npm/vega-datasets@v1.29.0/data/world-110m.json",
                          "format": {
                            "type": "topojson",
                            "feature": "countries"
                          }
                        },
                        "projection": {
                          "type": "equirectangular"
                        },
                        "mark": {
                          "stroke": "white",
                          "type": "geoshape",
                          "fill": "lightgray"
                        }
                      },
                      {
                        "projection": {
                          "type": "equirectangular"
                        },
                        "title": "Mean of AvrgLifeExpectancy across World",
                        "encoding": {
                          "color": {
                            "field": "AvrgLifeExpectancy",
                            "type": "quantitative"
                          }
                        },
                        "transform": [
                          {
                            "from": {
                              "fields": [
                                "AvrgLifeExpectancy"
                              ],
                              "data": {
                                "name": "data-652251698c5b2a7639720f0d84b0bfc2"
                              },
                              "key": "Country"
                            },
                            "lookup": "id"
                          }
                        ],
                        "mark": "geoshape",
                        "data": {
                          "url": "https://cdn.jsdelivr.net/npm/vega-datasets@v1.29.0/data/world-110m.json",
                          "format": {
                            "type": "topojson",
                            "feature": "countries"
                          }
                        }
                      }
                    ],
                    "datasets": {
                      "data-652251698c5b2a7639720f0d84b0bfc2": [
                        {
                          "Country": 4,
                          "AvrgLifeExpectancy": 59.7
                        },
                        {
                          "Country": 8,
                          "AvrgLifeExpectancy": 77.3
                        },
                        {
                          "Country": 12,
                          "AvrgLifeExpectancy": 74.3
                        },
                        {
                          "Country": 32,
                          "AvrgLifeExpectancy": 75.9
                        },
                        {
                          "Country": 51,
                          "AvrgLifeExpectancy": 74.4
                        },
                        {
                          "Country": 36,
                          "AvrgLifeExpectancy": 82.1
                        },
                        {
                          "Country": 40,
                          "AvrgLifeExpectancy": 81
                        },
                        {
                          "Country": 50,
                          "AvrgLifeExpectancy": 70.8
                        },
                        {
                          "Country": 112,
                          "AvrgLifeExpectancy": 70.9
                        },
                        {
                          "Country": 56,
                          "AvrgLifeExpectancy": 80.4
                        },
                        {
                          "Country": 84,
                          "AvrgLifeExpectancy": 69.8
                        },
                        {
                          "Country": 204,
                          "AvrgLifeExpectancy": 59.2
                        },
                        {
                          "Country": 64,
                          "AvrgLifeExpectancy": 68.7
                        },
                        {
                          "Country": "Bolivia",
                          "AvrgLifeExpectancy": 67.5
                        },
                        {
                          "Country": 70,
                          "AvrgLifeExpectancy": 76.2
                        },
                        {
                          "Country": 72,
                          "AvrgLifeExpectancy": 64.2
                        },
                        {
                          "Country": 76,
                          "AvrgLifeExpectancy": 73.9
                        },
                        {
                          "Country": 100,
                          "AvrgLifeExpectancy": 73.9
                        },
                        {
                          "Country": 854,
                          "AvrgLifeExpectancy": 58
                        },
                        {
                          "Country": 108,
                          "AvrgLifeExpectancy": 55.8
                        },
                        {
                          "Country": 116,
                          "AvrgLifeExpectancy": 67.5
                        },
                        {
                          "Country": 120,
                          "AvrgLifeExpectancy": 54.6
                        },
                        {
                          "Country": 124,
                          "AvrgLifeExpectancy": 81.7
                        },
                        {
                          "Country": 148,
                          "AvrgLifeExpectancy": 50.8
                        },
                        {
                          "Country": 152,
                          "AvrgLifeExpectancy": 81.1
                        },
                        {
                          "Country": 156,
                          "AvrgLifeExpectancy": 75.4
                        },
                        {
                          "Country": 170,
                          "AvrgLifeExpectancy": 73.7
                        },
                        {
                          "Country": 174,
                          "AvrgLifeExpectancy": 62.6
                        },
                        {
                          "Country": 188,
                          "AvrgLifeExpectancy": 79.1
                        },
                        {
                          "Country": "Cote d'Ivoire",
                          "AvrgLifeExpectancy": 50.8
                        },
                        {
                          "Country": 191,
                          "AvrgLifeExpectancy": 77
                        },
                        {
                          "Country": 196,
                          "AvrgLifeExpectancy": 79.8
                        },
                        {
                          "Country": "Czech Republic",
                          "AvrgLifeExpectancy": 78.2
                        },
                        {
                          "Country": 208,
                          "AvrgLifeExpectancy": 79.8
                        },
                        {
                          "Country": 262,
                          "AvrgLifeExpectancy": 61.3
                        },
                        {
                          "Country": 214,
                          "AvrgLifeExpectancy": 73.1
                        },
                        {
                          "Country": 218,
                          "AvrgLifeExpectancy": 75.4
                        },
                        {
                          "Country": 818,
                          "AvrgLifeExpectancy": 70.7
                        },
                        {
                          "Country": 222,
                          "AvrgLifeExpectancy": 72.5
                        },
                        {
                          "Country": 233,
                          "AvrgLifeExpectancy": 76.2
                        },
                        {
                          "Country": 231,
                          "AvrgLifeExpectancy": 62.8
                        },
                        {
                          "Country": 246,
                          "AvrgLifeExpectancy": 80.4
                        },
                        {
                          "Country": 250,
                          "AvrgLifeExpectancy": 81.8
                        },
                        {
                          "Country": 266,
                          "AvrgLifeExpectancy": 63.3
                        },
                        {
                          "Country": 268,
                          "AvrgLifeExpectancy": 74.6
                        },
                        {
                          "Country": 276,
                          "AvrgLifeExpectancy": 80.6
                        },
                        {
                          "Country": 288,
                          "AvrgLifeExpectancy": 61
                        },
                        {
                          "Country": 300,
                          "AvrgLifeExpectancy": 80.5
                        },
                        {
                          "Country": 320,
                          "AvrgLifeExpectancy": 71.4
                        },
                        {
                          "Country": 324,
                          "AvrgLifeExpectancy": 57.7
                        },
                        {
                          "Country": 332,
                          "AvrgLifeExpectancy": 62.1
                        },
                        {
                          "Country": 340,
                          "AvrgLifeExpectancy": 72.8
                        },
                        {
                          "Country": 344,
                          "AvrgLifeExpectancy": 83.6
                        },
                        {
                          "Country": 348,
                          "AvrgLifeExpectancy": 74.9
                        },
                        {
                          "Country": 352,
                          "AvrgLifeExpectancy": 82.2
                        },
                        {
                          "Country": 356,
                          "AvrgLifeExpectancy": 67.3
                        },
                        {
                          "Country": 360,
                          "AvrgLifeExpectancy": 68.5
                        },
                        {
                          "Country": "Iran",
                          "AvrgLifeExpectancy": 74.8
                        },
                        {
                          "Country": 368,
                          "AvrgLifeExpectancy": 69
                        },
                        {
                          "Country": 372,
                          "AvrgLifeExpectancy": 80.5
                        },
                        {
                          "Country": 376,
                          "AvrgLifeExpectancy": 81.9
                        },
                        {
                          "Country": 380,
                          "AvrgLifeExpectancy": 82.7
                        },
                        {
                          "Country": 388,
                          "AvrgLifeExpectancy": 75.3
                        },
                        {
                          "Country": 392,
                          "AvrgLifeExpectancy": 83.2
                        },
                        {
                          "Country": 398,
                          "AvrgLifeExpectancy": 68.6
                        },
                        {
                          "Country": 404,
                          "AvrgLifeExpectancy": 60.3
                        },
                        {
                          "Country": 417,
                          "AvrgLifeExpectancy": 69.7
                        },
                        {
                          "Country": 428,
                          "AvrgLifeExpectancy": 73.6
                        },
                        {
                          "Country": 422,
                          "AvrgLifeExpectancy": 78.8
                        },
                        {
                          "Country": 426,
                          "AvrgLifeExpectancy": 48.9
                        },
                        {
                          "Country": 430,
                          "AvrgLifeExpectancy": 60.2
                        },
                        {
                          "Country": 440,
                          "AvrgLifeExpectancy": 72.8
                        },
                        {
                          "Country": 442,
                          "AvrgLifeExpectancy": 81.1
                        },
                        {
                          "Country": "Macedonia",
                          "AvrgLifeExpectancy": 75.1
                        },
                        {
                          "Country": 454,
                          "AvrgLifeExpectancy": 60.1
                        },
                        {
                          "Country": 458,
                          "AvrgLifeExpectancy": 74.4
                        },
                        {
                          "Country": 470,
                          "AvrgLifeExpectancy": 80.2
                        },
                        {
                          "Country": 478,
                          "AvrgLifeExpectancy": 62.6
                        },
                        {
                          "Country": 480,
                          "AvrgLifeExpectancy": 74
                        },
                        {
                          "Country": 484,
                          "AvrgLifeExpectancy": 76.4
                        },
                        {
                          "Country": 496,
                          "AvrgLifeExpectancy": 68.6
                        },
                        {
                          "Country": 499,
                          "AvrgLifeExpectancy": 75.8
                        },
                        {
                          "Country": 504,
                          "AvrgLifeExpectancy": 73.4
                        },
                        {
                          "Country": 508,
                          "AvrgLifeExpectancy": 54.3
                        },
                        {
                          "Country": 104,
                          "AvrgLifeExpectancy": 65.5
                        },
                        {
                          "Country": 516,
                          "AvrgLifeExpectancy": 64
                        },
                        {
                          "Country": 524,
                          "AvrgLifeExpectancy": 68.8
                        },
                        {
                          "Country": 528,
                          "AvrgLifeExpectancy": 81.2
                        },
                        {
                          "Country": 554,
                          "AvrgLifeExpectancy": 81.4
                        },
                        {
                          "Country": 558,
                          "AvrgLifeExpectancy": 74.3
                        },
                        {
                          "Country": 562,
                          "AvrgLifeExpectancy": 60
                        },
                        {
                          "Country": 566,
                          "AvrgLifeExpectancy": 52.1
                        },
                        {
                          "Country": 578,
                          "AvrgLifeExpectancy": 81.3
                        },
                        {
                          "Country": 512,
                          "AvrgLifeExpectancy": 76.3
                        },
                        {
                          "Country": 586,
                          "AvrgLifeExpectancy": 65.7
                        },
                        {
                          "Country": 275,
                          "AvrgLifeExpectancy": 72.6
                        },
                        {
                          "Country": 591,
                          "AvrgLifeExpectancy": 77.2
                        },
                        {
                          "Country": 600,
                          "AvrgLifeExpectancy": 72.6
                        },
                        {
                          "Country": 604,
                          "AvrgLifeExpectancy": 74.1
                        },
                        {
                          "Country": 608,
                          "AvrgLifeExpectancy": 67.9
                        },
                        {
                          "Country": 616,
                          "AvrgLifeExpectancy": 76.9
                        },
                        {
                          "Country": 620,
                          "AvrgLifeExpectancy": 80.3
                        },
                        {
                          "Country": "Republic of Congo",
                          "AvrgLifeExpectancy": 61
                        },
                        {
                          "Country": 642,
                          "AvrgLifeExpectancy": 74.3
                        },
                        {
                          "Country": "Russia",
                          "AvrgLifeExpectancy": 69.5
                        },
                        {
                          "Country": 646,
                          "AvrgLifeExpectancy": 63.1
                        },
                        {
                          "Country": 686,
                          "AvrgLifeExpectancy": 65.4
                        },
                        {
                          "Country": 688,
                          "AvrgLifeExpectancy": 74.5
                        },
                        {
                          "Country": 694,
                          "AvrgLifeExpectancy": 49.8
                        },
                        {
                          "Country": 703,
                          "AvrgLifeExpectancy": 75.9
                        },
                        {
                          "Country": 705,
                          "AvrgLifeExpectancy": 80
                        },
                        {
                          "Country": 710,
                          "AvrgLifeExpectancy": 56.3
                        },
                        {
                          "Country": "South Korea",
                          "AvrgLifeExpectancy": 81.3
                        },
                        {
                          "Country": 724,
                          "AvrgLifeExpectancy": 82.2
                        },
                        {
                          "Country": 144,
                          "AvrgLifeExpectancy": 74.6
                        },
                        {
                          "Country": 740,
                          "AvrgLifeExpectancy": 70.8
                        },
                        {
                          "Country": "Swaziland",
                          "AvrgLifeExpectancy": 48.9
                        },
                        {
                          "Country": 752,
                          "AvrgLifeExpectancy": 81.8
                        },
                        {
                          "Country": 756,
                          "AvrgLifeExpectancy": 82.6
                        },
                        {
                          "Country": "Syria",
                          "AvrgLifeExpectancy": 70.4
                        },
                        {
                          "Country": 762,
                          "AvrgLifeExpectancy": 69
                        },
                        {
                          "Country": "Tanzania",
                          "AvrgLifeExpectancy": 63.5
                        },
                        {
                          "Country": 764,
                          "AvrgLifeExpectancy": 74.1
                        },
                        {
                          "Country": 768,
                          "AvrgLifeExpectancy": 58.6
                        },
                        {
                          "Country": 780,
                          "AvrgLifeExpectancy": 70.1
                        },
                        {
                          "Country": 788,
                          "AvrgLifeExpectancy": 74.6
                        },
                        {
                          "Country": 792,
                          "AvrgLifeExpectancy": 74.7
                        },
                        {
                          "Country": 795,
                          "AvrgLifeExpectancy": 65.3
                        },
                        {
                          "Country": 800,
                          "AvrgLifeExpectancy": 57.1
                        },
                        {
                          "Country": 804,
                          "AvrgLifeExpectancy": 70.3
                        },
                        {
                          "Country": "United Kingdom",
                          "AvrgLifeExpectancy": 80.4
                        },
                        {
                          "Country": 840,
                          "AvrgLifeExpectancy": 78.8
                        },
                        {
                          "Country": 858,
                          "AvrgLifeExpectancy": 76.9
                        },
                        {
                          "Country": 860,
                          "AvrgLifeExpectancy": 68.2
                        },
                        {
                          "Country": 548,
                          "AvrgLifeExpectancy": 71.3
                        },
                        {
                          "Country": "Venezuela",
                          "AvrgLifeExpectancy": 73.9
                        },
                        {
                          "Country": "Vietnam",
                          "AvrgLifeExpectancy": 75.5
                        },
                        {
                          "Country": 887,
                          "AvrgLifeExpectancy": 63.3
                        },
                        {
                          "Country": 894,
                          "AvrgLifeExpectancy": 58.4
                        },
                        {
                          "Country": 716,
                          "AvrgLifeExpectancy": 53.7
                        }
                      ]
                    },
                    "vislib": "vegalite",
                    "height": 150,
                    "width": 200,
                    "$schema": "https://vega.github.io/schema/vega-lite/v4.8.1.json",
                    "config": {
                      "mark": {
                        "tooltip": {
                          "content": "encoding"
                        }
                      },
                      "axis": {
                        "labelFont": "Helvetica Neue",
                        "labelFontSize": 9,
                        "labelColor": "#505050",
                        "titleFont": "Helvetica Neue",
                        "labelFontWeight": 400,
                        "titleFontSize": 11,
                        "titleFontWeight": 500
                      },
                      "title": {
                        "fontWeight": 500,
                        "font": "Helvetica Neue",
                        "fontSize": 13
                      },
                      "legend": {
                        "labelFont": "Helvetica Neue",
                        "labelFontSize": 9,
                        "titleFont": "Helvetica Neue",
                        "labelFontWeight": 400,
                        "titleFontSize": 10,
                        "titleFontWeight": 500
                      },
                      "view": {
                        "continuousWidth": 400,
                        "continuousHeight": 300
                      }
                    }
                  },
                  {
                    "layer": [
                      {
                        "data": {
                          "url": "https://cdn.jsdelivr.net/npm/vega-datasets@v1.29.0/data/world-110m.json",
                          "format": {
                            "type": "topojson",
                            "feature": "countries"
                          }
                        },
                        "projection": {
                          "type": "equirectangular"
                        },
                        "mark": {
                          "stroke": "white",
                          "type": "geoshape",
                          "fill": "lightgray"
                        }
                      },
                      {
                        "projection": {
                          "type": "equirectangular"
                        },
                        "title": "Mean of Population across World",
                        "encoding": {
                          "color": {
                            "field": "Population",
                            "type": "quantitative"
                          }
                        },
                        "transform": [
                          {
                            "from": {
                              "fields": [
                                "Population"
                              ],
                              "data": {
                                "name": "data-8f61532c7905dc121d5f30952f147ea6"
                              },
                              "key": "Country"
                            },
                            "lookup": "id"
                          }
                        ],
                        "mark": "geoshape",
                        "data": {
                          "url": "https://cdn.jsdelivr.net/npm/vega-datasets@v1.29.0/data/world-110m.json",
                          "format": {
                            "type": "topojson",
                            "feature": "countries"
                          }
                        }
                      }
                    ],
                    "datasets": {
                      "data-8f61532c7905dc121d5f30952f147ea6": [
                        {
                          "Country": 4,
                          "Population": 29726803
                        },
                        {
                          "Country": 8,
                          "Population": 2900489
                        },
                        {
                          "Country": 12,
                          "Population": 37439427
                        },
                        {
                          "Country": 32,
                          "Population": 42095224
                        },
                        {
                          "Country": 51,
                          "Population": 2978339
                        },
                        {
                          "Country": 36,
                          "Population": 22728254
                        },
                        {
                          "Country": 40,
                          "Population": 8429991
                        },
                        {
                          "Country": 50,
                          "Population": 155257387
                        },
                        {
                          "Country": 112,
                          "Population": 9464000
                        },
                        {
                          "Country": 56,
                          "Population": 11128246
                        },
                        {
                          "Country": 84,
                          "Population": 336707
                        },
                        {
                          "Country": 204,
                          "Population": 10049792
                        },
                        {
                          "Country": 64,
                          "Population": 743711
                        },
                        {
                          "Country": "Bolivia",
                          "Population": 10238762
                        },
                        {
                          "Country": 70,
                          "Population": 3828419
                        },
                        {
                          "Country": 72,
                          "Population": 2132822
                        },
                        {
                          "Country": 76,
                          "Population": 202401584
                        },
                        {
                          "Country": 100,
                          "Population": 7305888
                        },
                        {
                          "Country": 854,
                          "Population": 16590813
                        },
                        {
                          "Country": 108,
                          "Population": 10124572
                        },
                        {
                          "Country": 116,
                          "Population": 14832255
                        },
                        {
                          "Country": 120,
                          "Population": 21659488
                        },
                        {
                          "Country": 124,
                          "Population": 34751476
                        },
                        {
                          "Country": 148,
                          "Population": 12715465
                        },
                        {
                          "Country": 152,
                          "Population": 17388437
                        },
                        {
                          "Country": 156,
                          "Population": 1350695000
                        },
                        {
                          "Country": 170,
                          "Population": 46881018
                        },
                        {
                          "Country": 174,
                          "Population": 733661
                        },
                        {
                          "Country": 188,
                          "Population": 4654148
                        },
                        {
                          "Country": "Cote d'Ivoire",
                          "Population": 21102641
                        },
                        {
                          "Country": 191,
                          "Population": 4267558
                        },
                        {
                          "Country": 196,
                          "Population": 1129303
                        },
                        {
                          "Country": "Czech Republic",
                          "Population": 10510785
                        },
                        {
                          "Country": 208,
                          "Population": 5591572
                        },
                        {
                          "Country": 262,
                          "Population": 853069
                        },
                        {
                          "Country": 214,
                          "Population": 10155036
                        },
                        {
                          "Country": 218,
                          "Population": 15419493
                        },
                        {
                          "Country": 818,
                          "Population": 85660902
                        },
                        {
                          "Country": 222,
                          "Population": 6072233
                        },
                        {
                          "Country": 233,
                          "Population": 1322696
                        },
                        {
                          "Country": 231,
                          "Population": 92191211
                        },
                        {
                          "Country": 246,
                          "Population": 5413971
                        },
                        {
                          "Country": 250,
                          "Population": 65639975
                        },
                        {
                          "Country": 266,
                          "Population": 1613489
                        },
                        {
                          "Country": 268,
                          "Population": 3825000
                        },
                        {
                          "Country": 276,
                          "Population": 80425823
                        },
                        {
                          "Country": 288,
                          "Population": 25544565
                        },
                        {
                          "Country": 300,
                          "Population": 11045011
                        },
                        {
                          "Country": 320,
                          "Population": 15368759
                        },
                        {
                          "Country": 324,
                          "Population": 11628767
                        },
                        {
                          "Country": 332,
                          "Population": 10288828
                        },
                        {
                          "Country": 340,
                          "Population": 7736131
                        },
                        {
                          "Country": 344,
                          "Population": 7154600
                        },
                        {
                          "Country": 348,
                          "Population": 9920362
                        },
                        {
                          "Country": 352,
                          "Population": 320716
                        },
                        {
                          "Country": 356,
                          "Population": 1263589639
                        },
                        {
                          "Country": 360,
                          "Population": 248037853
                        },
                        {
                          "Country": "Iran",
                          "Population": 76156975
                        },
                        {
                          "Country": 368,
                          "Population": 32780975
                        },
                        {
                          "Country": 372,
                          "Population": 4586897
                        },
                        {
                          "Country": 376,
                          "Population": 7910500
                        },
                        {
                          "Country": 380,
                          "Population": 59539717
                        },
                        {
                          "Country": 388,
                          "Population": 2707805
                        },
                        {
                          "Country": 392,
                          "Population": 127561489
                        },
                        {
                          "Country": 398,
                          "Population": 16791425
                        },
                        {
                          "Country": 404,
                          "Population": 42542978
                        },
                        {
                          "Country": 417,
                          "Population": 5607200
                        },
                        {
                          "Country": 428,
                          "Population": 2034319
                        },
                        {
                          "Country": 422,
                          "Population": 4440728
                        },
                        {
                          "Country": 426,
                          "Population": 2057331
                        },
                        {
                          "Country": 430,
                          "Population": 4190155
                        },
                        {
                          "Country": 440,
                          "Population": 2987773
                        },
                        {
                          "Country": 442,
                          "Population": 530946
                        },
                        {
                          "Country": "Macedonia",
                          "Population": 2069270
                        },
                        {
                          "Country": 454,
                          "Population": 15700436
                        },
                        {
                          "Country": 458,
                          "Population": 29021940
                        },
                        {
                          "Country": 470,
                          "Population": 419455
                        },
                        {
                          "Country": 478,
                          "Population": 3777067
                        },
                        {
                          "Country": 480,
                          "Population": 1255882
                        },
                        {
                          "Country": 484,
                          "Population": 122070963
                        },
                        {
                          "Country": 496,
                          "Population": 2808339
                        },
                        {
                          "Country": 499,
                          "Population": 620601
                        },
                        {
                          "Country": 504,
                          "Population": 32984190
                        },
                        {
                          "Country": 508,
                          "Population": 25732928
                        },
                        {
                          "Country": 104,
                          "Population": 52543841
                        },
                        {
                          "Country": 516,
                          "Population": 2291645
                        },
                        {
                          "Country": 524,
                          "Population": 27500515
                        },
                        {
                          "Country": 528,
                          "Population": 16754962
                        },
                        {
                          "Country": 554,
                          "Population": 4408100
                        },
                        {
                          "Country": 558,
                          "Population": 5877034
                        },
                        {
                          "Country": 562,
                          "Population": 17635782
                        },
                        {
                          "Country": 566,
                          "Population": 168240403
                        },
                        {
                          "Country": 578,
                          "Population": 5018573
                        },
                        {
                          "Country": 512,
                          "Population": 3545192
                        },
                        {
                          "Country": 586,
                          "Population": 177392252
                        },
                        {
                          "Country": 275,
                          "Population": 4046901
                        },
                        {
                          "Country": 591,
                          "Population": 3743761
                        },
                        {
                          "Country": 600,
                          "Population": 6379162
                        },
                        {
                          "Country": 604,
                          "Population": 30158768
                        },
                        {
                          "Country": 608,
                          "Population": 96017322
                        },
                        {
                          "Country": 616,
                          "Population": 38063164
                        },
                        {
                          "Country": 620,
                          "Population": 10514844
                        },
                        {
                          "Country": "Republic of Congo",
                          "Population": 4286188
                        },
                        {
                          "Country": 642,
                          "Population": 20058035
                        },
                        {
                          "Country": "Russia",
                          "Population": 143201676
                        },
                        {
                          "Country": 646,
                          "Population": 10817350
                        },
                        {
                          "Country": 686,
                          "Population": 13780108
                        },
                        {
                          "Country": 688,
                          "Population": 7199077
                        },
                        {
                          "Country": 694,
                          "Population": 6043157
                        },
                        {
                          "Country": 703,
                          "Population": 5407579
                        },
                        {
                          "Country": 705,
                          "Population": 2057159
                        },
                        {
                          "Country": 710,
                          "Population": 52341695
                        },
                        {
                          "Country": "South Korea",
                          "Population": 50004441
                        },
                        {
                          "Country": 724,
                          "Population": 46773055
                        },
                        {
                          "Country": 144,
                          "Population": 20424000
                        },
                        {
                          "Country": 740,
                          "Population": 528535
                        },
                        {
                          "Country": "Swaziland",
                          "Population": 1231694
                        },
                        {
                          "Country": 752,
                          "Population": 9519374
                        },
                        {
                          "Country": 756,
                          "Population": 7996861
                        },
                        {
                          "Country": "Syria",
                          "Population": 21427155
                        },
                        {
                          "Country": 762,
                          "Population": 7930929
                        },
                        {
                          "Country": "Tanzania",
                          "Population": 48645709
                        },
                        {
                          "Country": 764,
                          "Population": 67164130
                        },
                        {
                          "Country": 768,
                          "Population": 6745581
                        },
                        {
                          "Country": 780,
                          "Population": 1341579
                        },
                        {
                          "Country": 788,
                          "Population": 10777500
                        },
                        {
                          "Country": 792,
                          "Population": 74099255
                        },
                        {
                          "Country": 795,
                          "Population": 5172941
                        },
                        {
                          "Country": 800,
                          "Population": 35400620
                        },
                        {
                          "Country": 804,
                          "Population": 45593300
                        },
                        {
                          "Country": "United Kingdom",
                          "Population": 63700300
                        },
                        {
                          "Country": 840,
                          "Population": 314112078
                        },
                        {
                          "Country": 858,
                          "Population": 3396753
                        },
                        {
                          "Country": 860,
                          "Population": 29774500
                        },
                        {
                          "Country": 548,
                          "Population": 247498
                        },
                        {
                          "Country": "Venezuela",
                          "Population": 29854238
                        },
                        {
                          "Country": "Vietnam",
                          "Population": 88809200
                        },
                        {
                          "Country": 887,
                          "Population": 24882792
                        },
                        {
                          "Country": 894,
                          "Population": 14786581
                        },
                        {
                          "Country": 716,
                          "Population": 14565482
                        }
                      ]
                    },
                    "vislib": "vegalite",
                    "height": 150,
                    "width": 200,
                    "$schema": "https://vega.github.io/schema/vega-lite/v4.8.1.json",
                    "config": {
                      "mark": {
                        "tooltip": {
                          "content": "encoding"
                        }
                      },
                      "axis": {
                        "labelFont": "Helvetica Neue",
                        "labelFontSize": 9,
                        "labelColor": "#505050",
                        "titleFont": "Helvetica Neue",
                        "labelFontWeight": 400,
                        "titleFontSize": 11,
                        "titleFontWeight": 500
                      },
                      "title": {
                        "fontWeight": 500,
                        "font": "Helvetica Neue",
                        "fontSize": 13
                      },
                      "legend": {
                        "labelFont": "Helvetica Neue",
                        "labelFontSize": 9,
                        "titleFont": "Helvetica Neue",
                        "labelFontWeight": 400,
                        "titleFontSize": 10,
                        "titleFontWeight": 500
                      },
                      "view": {
                        "continuousWidth": 400,
                        "continuousHeight": 300
                      }
                    }
                  },
                  {
                    "layer": [
                      {
                        "data": {
                          "url": "https://cdn.jsdelivr.net/npm/vega-datasets@v1.29.0/data/world-110m.json",
                          "format": {
                            "type": "topojson",
                            "feature": "countries"
                          }
                        },
                        "projection": {
                          "type": "equirectangular"
                        },
                        "mark": {
                          "stroke": "white",
                          "type": "geoshape",
                          "fill": "lightgray"
                        }
                      },
                      {
                        "projection": {
                          "type": "equirectangular"
                        },
                        "title": "Mean of IneqAdjWellbeing across World",
                        "encoding": {
                          "color": {
                            "field": "IneqAdjWellbeing",
                            "type": "quantitative"
                          }
                        },
                        "transform": [
                          {
                            "from": {
                              "fields": [
                                "IneqAdjWellbeing"
                              ],
                              "data": {
                                "name": "data-2a1e951889488f2af9c0747bf3449b40"
                              },
                              "key": "Country"
                            },
                            "lookup": "id"
                          }
                        ],
                        "mark": "geoshape",
                        "data": {
                          "url": "https://cdn.jsdelivr.net/npm/vega-datasets@v1.29.0/data/world-110m.json",
                          "format": {
                            "type": "topojson",
                            "feature": "countries"
                          }
                        }
                      }
                    ],
                    "datasets": {
                      "data-2a1e951889488f2af9c0747bf3449b40": [
                        {
                          "Country": 4,
                          "IneqAdjWellbeing": 3.4
                        },
                        {
                          "Country": 8,
                          "IneqAdjWellbeing": 5.1
                        },
                        {
                          "Country": 12,
                          "IneqAdjWellbeing": 5.2
                        },
                        {
                          "Country": 32,
                          "IneqAdjWellbeing": 6
                        },
                        {
                          "Country": 51,
                          "IneqAdjWellbeing": 3.7
                        },
                        {
                          "Country": 36,
                          "IneqAdjWellbeing": 6.9
                        },
                        {
                          "Country": 40,
                          "IneqAdjWellbeing": 7.1
                        },
                        {
                          "Country": 50,
                          "IneqAdjWellbeing": 4.3
                        },
                        {
                          "Country": 112,
                          "IneqAdjWellbeing": 5.3
                        },
                        {
                          "Country": 56,
                          "IneqAdjWellbeing": 6.6
                        },
                        {
                          "Country": 84,
                          "IneqAdjWellbeing": 5.7
                        },
                        {
                          "Country": 204,
                          "IneqAdjWellbeing": 2.8
                        },
                        {
                          "Country": 64,
                          "IneqAdjWellbeing": 5.2
                        },
                        {
                          "Country": "Bolivia",
                          "IneqAdjWellbeing": 5.5
                        },
                        {
                          "Country": 70,
                          "IneqAdjWellbeing": 4.2
                        },
                        {
                          "Country": 72,
                          "IneqAdjWellbeing": 4.3
                        },
                        {
                          "Country": 76,
                          "IneqAdjWellbeing": 6.3
                        },
                        {
                          "Country": 100,
                          "IneqAdjWellbeing": 3.7
                        },
                        {
                          "Country": 854,
                          "IneqAdjWellbeing": 3.6
                        },
                        {
                          "Country": 108,
                          "IneqAdjWellbeing": 3
                        },
                        {
                          "Country": 116,
                          "IneqAdjWellbeing": 3.5
                        },
                        {
                          "Country": 120,
                          "IneqAdjWellbeing": 3.7
                        },
                        {
                          "Country": 124,
                          "IneqAdjWellbeing": 7.1
                        },
                        {
                          "Country": 148,
                          "IneqAdjWellbeing": 3.7
                        },
                        {
                          "Country": 152,
                          "IneqAdjWellbeing": 6.1
                        },
                        {
                          "Country": 156,
                          "IneqAdjWellbeing": 4.6
                        },
                        {
                          "Country": 170,
                          "IneqAdjWellbeing": 5.7
                        },
                        {
                          "Country": 174,
                          "IneqAdjWellbeing": 3.7
                        },
                        {
                          "Country": 188,
                          "IneqAdjWellbeing": 6.8
                        },
                        {
                          "Country": "Cote d'Ivoire",
                          "IneqAdjWellbeing": 3.5
                        },
                        {
                          "Country": 191,
                          "IneqAdjWellbeing": 5.5
                        },
                        {
                          "Country": 196,
                          "IneqAdjWellbeing": 5.7
                        },
                        {
                          "Country": "Czech Republic",
                          "IneqAdjWellbeing": 5.9
                        },
                        {
                          "Country": 208,
                          "IneqAdjWellbeing": 7.2
                        },
                        {
                          "Country": 262,
                          "IneqAdjWellbeing": 3.8
                        },
                        {
                          "Country": 214,
                          "IneqAdjWellbeing": 4.1
                        },
                        {
                          "Country": 218,
                          "IneqAdjWellbeing": 5.5
                        },
                        {
                          "Country": 818,
                          "IneqAdjWellbeing": 3.7
                        },
                        {
                          "Country": 222,
                          "IneqAdjWellbeing": 5.3
                        },
                        {
                          "Country": 233,
                          "IneqAdjWellbeing": 5
                        },
                        {
                          "Country": 231,
                          "IneqAdjWellbeing": 4.2
                        },
                        {
                          "Country": 246,
                          "IneqAdjWellbeing": 7.2
                        },
                        {
                          "Country": 250,
                          "IneqAdjWellbeing": 6.3
                        },
                        {
                          "Country": 266,
                          "IneqAdjWellbeing": 3.5
                        },
                        {
                          "Country": 268,
                          "IneqAdjWellbeing": 3.8
                        },
                        {
                          "Country": 276,
                          "IneqAdjWellbeing": 6.4
                        },
                        {
                          "Country": 288,
                          "IneqAdjWellbeing": 4.6
                        },
                        {
                          "Country": 300,
                          "IneqAdjWellbeing": 4.5
                        },
                        {
                          "Country": 320,
                          "IneqAdjWellbeing": 5.2
                        },
                        {
                          "Country": 324,
                          "IneqAdjWellbeing": 3.3
                        },
                        {
                          "Country": 332,
                          "IneqAdjWellbeing": 4
                        },
                        {
                          "Country": 340,
                          "IneqAdjWellbeing": 3.9
                        },
                        {
                          "Country": 344,
                          "IneqAdjWellbeing": 5.1
                        },
                        {
                          "Country": 348,
                          "IneqAdjWellbeing": 4.2
                        },
                        {
                          "Country": 352,
                          "IneqAdjWellbeing": 7.4
                        },
                        {
                          "Country": 356,
                          "IneqAdjWellbeing": 4.2
                        },
                        {
                          "Country": 360,
                          "IneqAdjWellbeing": 5.1
                        },
                        {
                          "Country": "Iran",
                          "IneqAdjWellbeing": 4
                        },
                        {
                          "Country": 368,
                          "IneqAdjWellbeing": 4.3
                        },
                        {
                          "Country": 372,
                          "IneqAdjWellbeing": 6.7
                        },
                        {
                          "Country": 376,
                          "IneqAdjWellbeing": 6.8
                        },
                        {
                          "Country": 380,
                          "IneqAdjWellbeing": 5.3
                        },
                        {
                          "Country": 388,
                          "IneqAdjWellbeing": 5
                        },
                        {
                          "Country": 392,
                          "IneqAdjWellbeing": 5.6
                        },
                        {
                          "Country": 398,
                          "IneqAdjWellbeing": 5.4
                        },
                        {
                          "Country": 404,
                          "IneqAdjWellbeing": 4.1
                        },
                        {
                          "Country": 417,
                          "IneqAdjWellbeing": 4.9
                        },
                        {
                          "Country": 428,
                          "IneqAdjWellbeing": 4.7
                        },
                        {
                          "Country": 422,
                          "IneqAdjWellbeing": 4
                        },
                        {
                          "Country": 426,
                          "IneqAdjWellbeing": 4.3
                        },
                        {
                          "Country": 430,
                          "IneqAdjWellbeing": 4.1
                        },
                        {
                          "Country": 440,
                          "IneqAdjWellbeing": 5.4
                        },
                        {
                          "Country": 442,
                          "IneqAdjWellbeing": 6.7
                        },
                        {
                          "Country": "Macedonia",
                          "IneqAdjWellbeing": 4.1
                        },
                        {
                          "Country": 454,
                          "IneqAdjWellbeing": 3.5
                        },
                        {
                          "Country": 458,
                          "IneqAdjWellbeing": 5.7
                        },
                        {
                          "Country": 470,
                          "IneqAdjWellbeing": 5.5
                        },
                        {
                          "Country": 478,
                          "IneqAdjWellbeing": 4.5
                        },
                        {
                          "Country": 480,
                          "IneqAdjWellbeing": 5.1
                        },
                        {
                          "Country": 484,
                          "IneqAdjWellbeing": 6.8
                        },
                        {
                          "Country": 496,
                          "IneqAdjWellbeing": 4.6
                        },
                        {
                          "Country": 499,
                          "IneqAdjWellbeing": 4.6
                        },
                        {
                          "Country": 504,
                          "IneqAdjWellbeing": 4.5
                        },
                        {
                          "Country": 508,
                          "IneqAdjWellbeing": 4.5
                        },
                        {
                          "Country": 104,
                          "IneqAdjWellbeing": 4
                        },
                        {
                          "Country": 516,
                          "IneqAdjWellbeing": 4.4
                        },
                        {
                          "Country": 524,
                          "IneqAdjWellbeing": 3.8
                        },
                        {
                          "Country": 528,
                          "IneqAdjWellbeing": 7.5
                        },
                        {
                          "Country": 554,
                          "IneqAdjWellbeing": 6.9
                        },
                        {
                          "Country": 558,
                          "IneqAdjWellbeing": 4.8
                        },
                        {
                          "Country": 562,
                          "IneqAdjWellbeing": 3.5
                        },
                        {
                          "Country": 566,
                          "IneqAdjWellbeing": 5.2
                        },
                        {
                          "Country": 578,
                          "IneqAdjWellbeing": 7.4
                        },
                        {
                          "Country": 512,
                          "IneqAdjWellbeing": 6.4
                        },
                        {
                          "Country": 586,
                          "IneqAdjWellbeing": 4.6
                        },
                        {
                          "Country": 275,
                          "IneqAdjWellbeing": 4.1
                        },
                        {
                          "Country": 591,
                          "IneqAdjWellbeing": 6.3
                        },
                        {
                          "Country": 600,
                          "IneqAdjWellbeing": 5.5
                        },
                        {
                          "Country": 604,
                          "IneqAdjWellbeing": 5.3
                        },
                        {
                          "Country": 608,
                          "IneqAdjWellbeing": 4.4
                        },
                        {
                          "Country": 616,
                          "IneqAdjWellbeing": 5.5
                        },
                        {
                          "Country": 620,
                          "IneqAdjWellbeing": 4.3
                        },
                        {
                          "Country": "Republic of Congo",
                          "IneqAdjWellbeing": 3.4
                        },
                        {
                          "Country": 642,
                          "IneqAdjWellbeing": 4.6
                        },
                        {
                          "Country": "Russia",
                          "IneqAdjWellbeing": 5.2
                        },
                        {
                          "Country": 646,
                          "IneqAdjWellbeing": 3
                        },
                        {
                          "Country": 686,
                          "IneqAdjWellbeing": 3.3
                        },
                        {
                          "Country": 688,
                          "IneqAdjWellbeing": 4.6
                        },
                        {
                          "Country": 694,
                          "IneqAdjWellbeing": 4
                        },
                        {
                          "Country": 703,
                          "IneqAdjWellbeing": 5.4
                        },
                        {
                          "Country": 705,
                          "IneqAdjWellbeing": 5.7
                        },
                        {
                          "Country": 710,
                          "IneqAdjWellbeing": 4.6
                        },
                        {
                          "Country": "South Korea",
                          "IneqAdjWellbeing": 5.5
                        },
                        {
                          "Country": 724,
                          "IneqAdjWellbeing": 5.9
                        },
                        {
                          "Country": 144,
                          "IneqAdjWellbeing": 3.8
                        },
                        {
                          "Country": 740,
                          "IneqAdjWellbeing": 5.9
                        },
                        {
                          "Country": "Swaziland",
                          "IneqAdjWellbeing": 4.4
                        },
                        {
                          "Country": 752,
                          "IneqAdjWellbeing": 7.4
                        },
                        {
                          "Country": 756,
                          "IneqAdjWellbeing": 7.6
                        },
                        {
                          "Country": "Syria",
                          "IneqAdjWellbeing": 2.6
                        },
                        {
                          "Country": 762,
                          "IneqAdjWellbeing": 4.3
                        },
                        {
                          "Country": "Tanzania",
                          "IneqAdjWellbeing": 3.6
                        },
                        {
                          "Country": 764,
                          "IneqAdjWellbeing": 6
                        },
                        {
                          "Country": 768,
                          "IneqAdjWellbeing": 2.4
                        },
                        {
                          "Country": 780,
                          "IneqAdjWellbeing": 6
                        },
                        {
                          "Country": 788,
                          "IneqAdjWellbeing": 4
                        },
                        {
                          "Country": 792,
                          "IneqAdjWellbeing": 4.9
                        },
                        {
                          "Country": 795,
                          "IneqAdjWellbeing": 5.1
                        },
                        {
                          "Country": 800,
                          "IneqAdjWellbeing": 3.9
                        },
                        {
                          "Country": 804,
                          "IneqAdjWellbeing": 4.6
                        },
                        {
                          "Country": "United Kingdom",
                          "IneqAdjWellbeing": 6.6
                        },
                        {
                          "Country": 840,
                          "IneqAdjWellbeing": 6.5
                        },
                        {
                          "Country": 858,
                          "IneqAdjWellbeing": 5.8
                        },
                        {
                          "Country": 860,
                          "IneqAdjWellbeing": 5.6
                        },
                        {
                          "Country": 548,
                          "IneqAdjWellbeing": 5.9
                        },
                        {
                          "Country": "Venezuela",
                          "IneqAdjWellbeing": 6.5
                        },
                        {
                          "Country": "Vietnam",
                          "IneqAdjWellbeing": 5.2
                        },
                        {
                          "Country": 887,
                          "IneqAdjWellbeing": 3.6
                        },
                        {
                          "Country": 894,
                          "IneqAdjWellbeing": 4.5
                        },
                        {
                          "Country": 716,
                          "IneqAdjWellbeing": 4.6
                        }
                      ]
                    },
                    "vislib": "vegalite",
                    "height": 150,
                    "width": 200,
                    "$schema": "https://vega.github.io/schema/vega-lite/v4.8.1.json",
                    "config": {
                      "mark": {
                        "tooltip": {
                          "content": "encoding"
                        }
                      },
                      "axis": {
                        "labelFont": "Helvetica Neue",
                        "labelFontSize": 9,
                        "labelColor": "#505050",
                        "titleFont": "Helvetica Neue",
                        "labelFontWeight": 400,
                        "titleFontSize": 11,
                        "titleFontWeight": 500
                      },
                      "title": {
                        "fontWeight": 500,
                        "font": "Helvetica Neue",
                        "fontSize": 13
                      },
                      "legend": {
                        "labelFont": "Helvetica Neue",
                        "labelFontSize": 9,
                        "titleFont": "Helvetica Neue",
                        "labelFontWeight": 400,
                        "titleFontSize": 10,
                        "titleFontWeight": 500
                      },
                      "view": {
                        "continuousWidth": 400,
                        "continuousHeight": 300
                      }
                    }
                  }
                ],
                "description": "Show choropleth maps of <p class='highlight-descriptor'>geographic</p> attributes",
                "long_description": "Occurence displays choropleths of averages for some geographic attribute (e.g., Country). Visualizations are ranked by diversity of the geographic attribute."
              }
            ],
            "layout": "IPY_MODEL_1d7706c7a1454886bd9b5188a77b2e93",
            "message": "",
            "current_vis": {},
            "_model_module": "luxwidget"
          }
        },
        "ae131c2bfc6f456ab5f238b8395bcf19": {
          "model_module": "@jupyter-widgets/controls",
          "model_name": "HBoxModel",
          "model_module_version": "1.5.0",
          "state": {
            "_view_name": "HBoxView",
            "_dom_classes": [],
            "_model_name": "HBoxModel",
            "_view_module": "@jupyter-widgets/controls",
            "_model_module_version": "1.5.0",
            "_view_count": null,
            "_view_module_version": "1.5.0",
            "box_style": "",
            "layout": "IPY_MODEL_dcdfcef8528b47018b0d80ebc65c4974",
            "_model_module": "@jupyter-widgets/controls",
            "children": [
              "IPY_MODEL_524a1483e24444749f2ea1ce3142628a",
              "IPY_MODEL_bd224a67b3404b87b89f22378802f624",
              "IPY_MODEL_4d7fc101198e4393a262f64b964e2c0f"
            ]
          }
        },
        "dcdfcef8528b47018b0d80ebc65c4974": {
          "model_module": "@jupyter-widgets/base",
          "model_name": "LayoutModel",
          "model_module_version": "1.2.0",
          "state": {
            "_view_name": "LayoutView",
            "grid_template_rows": null,
            "right": null,
            "justify_content": null,
            "_view_module": "@jupyter-widgets/base",
            "overflow": null,
            "_model_module_version": "1.2.0",
            "_view_count": null,
            "flex_flow": "row wrap",
            "width": "100%",
            "min_width": null,
            "border": null,
            "align_items": null,
            "bottom": null,
            "_model_module": "@jupyter-widgets/base",
            "top": null,
            "grid_column": null,
            "overflow_y": null,
            "overflow_x": null,
            "grid_auto_flow": null,
            "grid_area": null,
            "grid_template_columns": null,
            "flex": null,
            "_model_name": "LayoutModel",
            "justify_items": null,
            "grid_row": null,
            "max_height": null,
            "align_content": null,
            "visibility": null,
            "align_self": null,
            "height": null,
            "min_height": null,
            "padding": null,
            "grid_auto_rows": null,
            "grid_gap": null,
            "max_width": null,
            "order": null,
            "_view_module_version": "1.2.0",
            "grid_template_areas": null,
            "object_position": null,
            "object_fit": null,
            "grid_auto_columns": null,
            "margin": null,
            "display": "inline-flex",
            "left": null
          }
        },
        "524a1483e24444749f2ea1ce3142628a": {
          "model_module": "@jupyter-widgets/controls",
          "model_name": "HTMLModel",
          "model_module_version": "1.5.0",
          "state": {
            "_view_name": "HTMLView",
            "style": "IPY_MODEL_f0523f186f56458bb3f275bf6a5acefd",
            "_dom_classes": [],
            "description": "",
            "_model_name": "HTMLModel",
            "placeholder": "​",
            "_view_module": "@jupyter-widgets/controls",
            "_model_module_version": "1.5.0",
            "value": "Feature: target (TARGET)                     ",
            "_view_count": null,
            "_view_module_version": "1.5.0",
            "description_tooltip": null,
            "_model_module": "@jupyter-widgets/controls",
            "layout": "IPY_MODEL_aed47707f32f44c2b530db00d7caf2b6"
          }
        },
        "bd224a67b3404b87b89f22378802f624": {
          "model_module": "@jupyter-widgets/controls",
          "model_name": "FloatProgressModel",
          "model_module_version": "1.5.0",
          "state": {
            "_view_name": "ProgressView",
            "style": "IPY_MODEL_3d0c3cb46bb1483985820f4a79a63a0a",
            "_dom_classes": [],
            "description": "",
            "_model_name": "FloatProgressModel",
            "bar_style": "danger",
            "max": 14,
            "_view_module": "@jupyter-widgets/controls",
            "_model_module_version": "1.5.0",
            "value": 1,
            "_view_count": null,
            "_view_module_version": "1.5.0",
            "orientation": "horizontal",
            "min": 0,
            "description_tooltip": null,
            "_model_module": "@jupyter-widgets/controls",
            "layout": "IPY_MODEL_571318fe094440efa0bfd55532d02b09"
          }
        },
        "4d7fc101198e4393a262f64b964e2c0f": {
          "model_module": "@jupyter-widgets/controls",
          "model_name": "HTMLModel",
          "model_module_version": "1.5.0",
          "state": {
            "_view_name": "HTMLView",
            "style": "IPY_MODEL_0d6a77469ed847c9b7d76b674e58cd4b",
            "_dom_classes": [],
            "description": "",
            "_model_name": "HTMLModel",
            "placeholder": "​",
            "_view_module": "@jupyter-widgets/controls",
            "_model_module_version": "1.5.0",
            "value": " [  7%]   00:00 -&gt; (00:01 left)",
            "_view_count": null,
            "_view_module_version": "1.5.0",
            "description_tooltip": null,
            "_model_module": "@jupyter-widgets/controls",
            "layout": "IPY_MODEL_1b171bf41132490cbb677bdfb97cef50"
          }
        },
        "f0523f186f56458bb3f275bf6a5acefd": {
          "model_module": "@jupyter-widgets/controls",
          "model_name": "DescriptionStyleModel",
          "model_module_version": "1.5.0",
          "state": {
            "_view_name": "StyleView",
            "_model_name": "DescriptionStyleModel",
            "description_width": "",
            "_view_module": "@jupyter-widgets/base",
            "_model_module_version": "1.5.0",
            "_view_count": null,
            "_view_module_version": "1.2.0",
            "_model_module": "@jupyter-widgets/controls"
          }
        },
        "aed47707f32f44c2b530db00d7caf2b6": {
          "model_module": "@jupyter-widgets/base",
          "model_name": "LayoutModel",
          "model_module_version": "1.2.0",
          "state": {
            "_view_name": "LayoutView",
            "grid_template_rows": null,
            "right": null,
            "justify_content": null,
            "_view_module": "@jupyter-widgets/base",
            "overflow": null,
            "_model_module_version": "1.2.0",
            "_view_count": null,
            "flex_flow": null,
            "width": null,
            "min_width": null,
            "border": null,
            "align_items": null,
            "bottom": null,
            "_model_module": "@jupyter-widgets/base",
            "top": null,
            "grid_column": null,
            "overflow_y": null,
            "overflow_x": null,
            "grid_auto_flow": null,
            "grid_area": null,
            "grid_template_columns": null,
            "flex": null,
            "_model_name": "LayoutModel",
            "justify_items": null,
            "grid_row": null,
            "max_height": null,
            "align_content": null,
            "visibility": null,
            "align_self": null,
            "height": null,
            "min_height": null,
            "padding": null,
            "grid_auto_rows": null,
            "grid_gap": null,
            "max_width": null,
            "order": null,
            "_view_module_version": "1.2.0",
            "grid_template_areas": null,
            "object_position": null,
            "object_fit": null,
            "grid_auto_columns": null,
            "margin": null,
            "display": null,
            "left": null
          }
        },
        "3d0c3cb46bb1483985820f4a79a63a0a": {
          "model_module": "@jupyter-widgets/controls",
          "model_name": "ProgressStyleModel",
          "model_module_version": "1.5.0",
          "state": {
            "_view_name": "StyleView",
            "_model_name": "ProgressStyleModel",
            "description_width": "",
            "_view_module": "@jupyter-widgets/base",
            "_model_module_version": "1.5.0",
            "_view_count": null,
            "_view_module_version": "1.2.0",
            "bar_color": null,
            "_model_module": "@jupyter-widgets/controls"
          }
        },
        "571318fe094440efa0bfd55532d02b09": {
          "model_module": "@jupyter-widgets/base",
          "model_name": "LayoutModel",
          "model_module_version": "1.2.0",
          "state": {
            "_view_name": "LayoutView",
            "grid_template_rows": null,
            "right": null,
            "justify_content": null,
            "_view_module": "@jupyter-widgets/base",
            "overflow": null,
            "_model_module_version": "1.2.0",
            "_view_count": null,
            "flex_flow": null,
            "width": null,
            "min_width": null,
            "border": null,
            "align_items": null,
            "bottom": null,
            "_model_module": "@jupyter-widgets/base",
            "top": null,
            "grid_column": null,
            "overflow_y": null,
            "overflow_x": null,
            "grid_auto_flow": null,
            "grid_area": null,
            "grid_template_columns": null,
            "flex": "2",
            "_model_name": "LayoutModel",
            "justify_items": null,
            "grid_row": null,
            "max_height": null,
            "align_content": null,
            "visibility": null,
            "align_self": null,
            "height": null,
            "min_height": null,
            "padding": null,
            "grid_auto_rows": null,
            "grid_gap": null,
            "max_width": null,
            "order": null,
            "_view_module_version": "1.2.0",
            "grid_template_areas": null,
            "object_position": null,
            "object_fit": null,
            "grid_auto_columns": null,
            "margin": null,
            "display": null,
            "left": null
          }
        },
        "0d6a77469ed847c9b7d76b674e58cd4b": {
          "model_module": "@jupyter-widgets/controls",
          "model_name": "DescriptionStyleModel",
          "model_module_version": "1.5.0",
          "state": {
            "_view_name": "StyleView",
            "_model_name": "DescriptionStyleModel",
            "description_width": "",
            "_view_module": "@jupyter-widgets/base",
            "_model_module_version": "1.5.0",
            "_view_count": null,
            "_view_module_version": "1.2.0",
            "_model_module": "@jupyter-widgets/controls"
          }
        },
        "1b171bf41132490cbb677bdfb97cef50": {
          "model_module": "@jupyter-widgets/base",
          "model_name": "LayoutModel",
          "model_module_version": "1.2.0",
          "state": {
            "_view_name": "LayoutView",
            "grid_template_rows": null,
            "right": null,
            "justify_content": null,
            "_view_module": "@jupyter-widgets/base",
            "overflow": null,
            "_model_module_version": "1.2.0",
            "_view_count": null,
            "flex_flow": null,
            "width": null,
            "min_width": null,
            "border": null,
            "align_items": null,
            "bottom": null,
            "_model_module": "@jupyter-widgets/base",
            "top": null,
            "grid_column": null,
            "overflow_y": null,
            "overflow_x": null,
            "grid_auto_flow": null,
            "grid_area": null,
            "grid_template_columns": null,
            "flex": null,
            "_model_name": "LayoutModel",
            "justify_items": null,
            "grid_row": null,
            "max_height": null,
            "align_content": null,
            "visibility": null,
            "align_self": null,
            "height": null,
            "min_height": null,
            "padding": null,
            "grid_auto_rows": null,
            "grid_gap": null,
            "max_width": null,
            "order": null,
            "_view_module_version": "1.2.0",
            "grid_template_areas": null,
            "object_position": null,
            "object_fit": null,
            "grid_auto_columns": null,
            "margin": null,
            "display": null,
            "left": null
          }
        }
      }
    }
  },
  "cells": [
    {
      "cell_type": "markdown",
      "metadata": {
        "id": "view-in-github",
        "colab_type": "text"
      },
      "source": [
        "<a href=\"https://colab.research.google.com/github/hussain0048/Machine-Learning/blob/master/Data_Exploratory_and_Ploting.ipynb\" target=\"_parent\"><img src=\"https://colab.research.google.com/assets/colab-badge.svg\" alt=\"Open In Colab\"/></a>"
      ]
    },
    {
      "cell_type": "markdown",
      "metadata": {
        "id": "9uDd2FjLK9XE"
      },
      "source": [
        "# **Table Content**\n",
        "<div class=\"alert alert-block alert-info\" style=\"margin-top: 20px\">\n",
        "    <ul>\n",
        "        <li><a href=\"https:\">Introduction</a></li>\n",
        "        <li><a href=\"#downloading_data\">Import libaray</a></li>\n",
        "        <li><a href=\"#pre-processing\">Data Loading</a></li>\n",
        "         <li><a href=\"#pre-processing\">Preprocessing</a></li>\n",
        "        <li><a href=\"#evaluation\">Data Exploring \n",
        "        <ul>\n",
        "        <li><a href=\"#evaluation\">Dtale</a></li>\n",
        "        <li><a href=\"#evaluation\">Lux</a></li>\n",
        "        <li><a href=\"#evaluation\">Pandas Profiling</a></li>\n",
        "         <li><a href=\"#evaluation\">Logistic Regression</a></li>\n",
        "         <li><a href=\"#evaluation\">KNN</a></li>\n",
        "         <li><a href=\"#evaluation\">Naive Bayes</a></li>\n",
        "         <li><a href=\"#evaluation\">Deep Neural Multilayer Perceptron (MLP)</a></li>\n",
        "         <li><a href=\"#evaluation\">Gradient Boosting</a></li>\n",
        "         <li><a href=\"#evaluation\">ExtraTreesClassifier</a></li>\n",
        "         <li><a href=\"#evaluation\">LGBM Classifer</a></li>\n",
        "         <li><a href=\"#evaluation\">CatBoost</a></li>\n",
        "    </ul>\n",
        "</div>\n",
        "<br>\n",
        "<hr>\n"
      ]
    },
    {
      "cell_type": "markdown",
      "metadata": {
        "id": "-dEH-aOwYdNx"
      },
      "source": [
        "# **Introduction**"
      ]
    },
    {
      "cell_type": "markdown",
      "metadata": {
        "id": "BiE4HQuXA1jb"
      },
      "source": [
        "# **Import libaray**"
      ]
    },
    {
      "cell_type": "code",
      "metadata": {
        "id": "CYcSX5ofA8Yz"
      },
      "source": [
        "import numpy as np \n",
        "import pandas as pd \n",
        "import seaborn as sns \n",
        "import matplotlib.pyplot as plt\n",
        "from prettytable import PrettyTable\n",
        "from sklearn.metrics import roc_curve, auc\n",
        "from mlxtend.plotting import plot_confusion_matrix \n",
        "from sklearn.model_selection import train_test_split\n",
        "from sklearn.metrics import classification_report, confusion_matrix\n",
        "from sklearn.tree import DecisionTreeClassifier\n",
        "from sklearn.ensemble import RandomForestClassifier\n",
        "from sklearn.svm import LinearSVC\n",
        "from sklearn.linear_model import LogisticRegression\n",
        "from sklearn.neighbors import KNeighborsClassifier\n",
        "import warnings\n",
        "warnings.filterwarnings(\"ignore\")"
      ],
      "execution_count": null,
      "outputs": []
    },
    {
      "cell_type": "markdown",
      "metadata": {
        "id": "69-GFSEUYpQA"
      },
      "source": [
        "# **Data Loading**"
      ]
    },
    {
      "cell_type": "markdown",
      "metadata": {
        "id": "ucwJyax-cZmZ"
      },
      "source": [
        "**Load data from google drive** "
      ]
    },
    {
      "cell_type": "code",
      "metadata": {
        "colab": {
          "base_uri": "https://localhost:8080/"
        },
        "id": "fYNNsGgxmxyQ",
        "outputId": "ae9706ad-e5ca-49f7-afc7-d3b0127758b6"
      },
      "source": [
        "from google.colab import drive\n",
        "drive.mount('/content/drive')"
      ],
      "execution_count": null,
      "outputs": [
        {
          "output_type": "stream",
          "name": "stdout",
          "text": [
            "Mounted at /content/drive\n"
          ]
        }
      ]
    },
    {
      "cell_type": "code",
      "metadata": {
        "id": "bkoAdyxInLR4"
      },
      "source": [
        "import pandas as pd\n",
        "import numpy as np\n",
        "data = pd.read_csv(\"/content/drive/MyDrive/Datasets/Student field Recommendation /Placement_Data_Full_Class.csv\")"
      ],
      "execution_count": null,
      "outputs": []
    },
    {
      "cell_type": "markdown",
      "metadata": {
        "id": "wX_F6ZgVOzFU"
      },
      "source": [
        "# **Data Exploring**"
      ]
    },
    {
      "cell_type": "code",
      "metadata": {
        "id": "OE_f4-bToHWA"
      },
      "source": [
        "data.head()"
      ],
      "execution_count": null,
      "outputs": []
    },
    {
      "cell_type": "markdown",
      "metadata": {
        "id": "OugaKicqPKus"
      },
      "source": [
        "## **Hiding Function**[5]"
      ]
    },
    {
      "cell_type": "markdown",
      "metadata": {
        "id": "wd5sPyyBPSBG"
      },
      "source": [
        "Sometimes when you do analysis and presenting the result to the other, you only want to show the most important aspect. I know when I present my Data Frame to the non-technical person, the question is often about the Index in their default number such as “what is this number?”. For that reason, we could try to hide the index with the following code."
      ]
    },
    {
      "cell_type": "code",
      "metadata": {
        "colab": {
          "base_uri": "https://localhost:8080/",
          "height": 447
        },
        "id": "9X1lWJMdPVz1",
        "outputId": "cfe1ec86-0195-4337-cb19-cdc774b06aae"
      },
      "source": [
        "#Using hide_index() from the style function\n",
        " \n",
        "data.head(10).style.hide_index()"
      ],
      "execution_count": null,
      "outputs": [
        {
          "output_type": "execute_result",
          "data": {
            "text/html": [
              "<style  type=\"text/css\" >\n",
              "</style><table id=\"T_740b75c8_49d3_11ec_9105_0242ac1c0002\" class=\"dataframe\"><thead>    <tr>        <th class=\"col_heading level0 col0\" >sl_no</th>        <th class=\"col_heading level0 col1\" >gender</th>        <th class=\"col_heading level0 col2\" >ssc_p</th>        <th class=\"col_heading level0 col3\" >ssc_b</th>        <th class=\"col_heading level0 col4\" >hsc_p</th>        <th class=\"col_heading level0 col5\" >hsc_b</th>        <th class=\"col_heading level0 col6\" >hsc_s</th>        <th class=\"col_heading level0 col7\" >degree_p</th>        <th class=\"col_heading level0 col8\" >degree_t</th>        <th class=\"col_heading level0 col9\" >workex</th>        <th class=\"col_heading level0 col10\" >etest_p</th>        <th class=\"col_heading level0 col11\" >specialisation</th>        <th class=\"col_heading level0 col12\" >mba_p</th>        <th class=\"col_heading level0 col13\" >status</th>        <th class=\"col_heading level0 col14\" >salary</th>    </tr></thead><tbody>\n",
              "                <tr>\n",
              "                                <td id=\"T_740b75c8_49d3_11ec_9105_0242ac1c0002row0_col0\" class=\"data row0 col0\" >1</td>\n",
              "                        <td id=\"T_740b75c8_49d3_11ec_9105_0242ac1c0002row0_col1\" class=\"data row0 col1\" >M</td>\n",
              "                        <td id=\"T_740b75c8_49d3_11ec_9105_0242ac1c0002row0_col2\" class=\"data row0 col2\" >67.000000</td>\n",
              "                        <td id=\"T_740b75c8_49d3_11ec_9105_0242ac1c0002row0_col3\" class=\"data row0 col3\" >Others</td>\n",
              "                        <td id=\"T_740b75c8_49d3_11ec_9105_0242ac1c0002row0_col4\" class=\"data row0 col4\" >91.000000</td>\n",
              "                        <td id=\"T_740b75c8_49d3_11ec_9105_0242ac1c0002row0_col5\" class=\"data row0 col5\" >Others</td>\n",
              "                        <td id=\"T_740b75c8_49d3_11ec_9105_0242ac1c0002row0_col6\" class=\"data row0 col6\" >Commerce</td>\n",
              "                        <td id=\"T_740b75c8_49d3_11ec_9105_0242ac1c0002row0_col7\" class=\"data row0 col7\" >58.000000</td>\n",
              "                        <td id=\"T_740b75c8_49d3_11ec_9105_0242ac1c0002row0_col8\" class=\"data row0 col8\" >Sci&Tech</td>\n",
              "                        <td id=\"T_740b75c8_49d3_11ec_9105_0242ac1c0002row0_col9\" class=\"data row0 col9\" >No</td>\n",
              "                        <td id=\"T_740b75c8_49d3_11ec_9105_0242ac1c0002row0_col10\" class=\"data row0 col10\" >55.000000</td>\n",
              "                        <td id=\"T_740b75c8_49d3_11ec_9105_0242ac1c0002row0_col11\" class=\"data row0 col11\" >Mkt&HR</td>\n",
              "                        <td id=\"T_740b75c8_49d3_11ec_9105_0242ac1c0002row0_col12\" class=\"data row0 col12\" >58.800000</td>\n",
              "                        <td id=\"T_740b75c8_49d3_11ec_9105_0242ac1c0002row0_col13\" class=\"data row0 col13\" >Placed</td>\n",
              "                        <td id=\"T_740b75c8_49d3_11ec_9105_0242ac1c0002row0_col14\" class=\"data row0 col14\" >270000.000000</td>\n",
              "            </tr>\n",
              "            <tr>\n",
              "                                <td id=\"T_740b75c8_49d3_11ec_9105_0242ac1c0002row1_col0\" class=\"data row1 col0\" >2</td>\n",
              "                        <td id=\"T_740b75c8_49d3_11ec_9105_0242ac1c0002row1_col1\" class=\"data row1 col1\" >M</td>\n",
              "                        <td id=\"T_740b75c8_49d3_11ec_9105_0242ac1c0002row1_col2\" class=\"data row1 col2\" >79.330000</td>\n",
              "                        <td id=\"T_740b75c8_49d3_11ec_9105_0242ac1c0002row1_col3\" class=\"data row1 col3\" >Central</td>\n",
              "                        <td id=\"T_740b75c8_49d3_11ec_9105_0242ac1c0002row1_col4\" class=\"data row1 col4\" >78.330000</td>\n",
              "                        <td id=\"T_740b75c8_49d3_11ec_9105_0242ac1c0002row1_col5\" class=\"data row1 col5\" >Others</td>\n",
              "                        <td id=\"T_740b75c8_49d3_11ec_9105_0242ac1c0002row1_col6\" class=\"data row1 col6\" >Science</td>\n",
              "                        <td id=\"T_740b75c8_49d3_11ec_9105_0242ac1c0002row1_col7\" class=\"data row1 col7\" >77.480000</td>\n",
              "                        <td id=\"T_740b75c8_49d3_11ec_9105_0242ac1c0002row1_col8\" class=\"data row1 col8\" >Sci&Tech</td>\n",
              "                        <td id=\"T_740b75c8_49d3_11ec_9105_0242ac1c0002row1_col9\" class=\"data row1 col9\" >Yes</td>\n",
              "                        <td id=\"T_740b75c8_49d3_11ec_9105_0242ac1c0002row1_col10\" class=\"data row1 col10\" >86.500000</td>\n",
              "                        <td id=\"T_740b75c8_49d3_11ec_9105_0242ac1c0002row1_col11\" class=\"data row1 col11\" >Mkt&Fin</td>\n",
              "                        <td id=\"T_740b75c8_49d3_11ec_9105_0242ac1c0002row1_col12\" class=\"data row1 col12\" >66.280000</td>\n",
              "                        <td id=\"T_740b75c8_49d3_11ec_9105_0242ac1c0002row1_col13\" class=\"data row1 col13\" >Placed</td>\n",
              "                        <td id=\"T_740b75c8_49d3_11ec_9105_0242ac1c0002row1_col14\" class=\"data row1 col14\" >200000.000000</td>\n",
              "            </tr>\n",
              "            <tr>\n",
              "                                <td id=\"T_740b75c8_49d3_11ec_9105_0242ac1c0002row2_col0\" class=\"data row2 col0\" >3</td>\n",
              "                        <td id=\"T_740b75c8_49d3_11ec_9105_0242ac1c0002row2_col1\" class=\"data row2 col1\" >M</td>\n",
              "                        <td id=\"T_740b75c8_49d3_11ec_9105_0242ac1c0002row2_col2\" class=\"data row2 col2\" >65.000000</td>\n",
              "                        <td id=\"T_740b75c8_49d3_11ec_9105_0242ac1c0002row2_col3\" class=\"data row2 col3\" >Central</td>\n",
              "                        <td id=\"T_740b75c8_49d3_11ec_9105_0242ac1c0002row2_col4\" class=\"data row2 col4\" >68.000000</td>\n",
              "                        <td id=\"T_740b75c8_49d3_11ec_9105_0242ac1c0002row2_col5\" class=\"data row2 col5\" >Central</td>\n",
              "                        <td id=\"T_740b75c8_49d3_11ec_9105_0242ac1c0002row2_col6\" class=\"data row2 col6\" >Arts</td>\n",
              "                        <td id=\"T_740b75c8_49d3_11ec_9105_0242ac1c0002row2_col7\" class=\"data row2 col7\" >64.000000</td>\n",
              "                        <td id=\"T_740b75c8_49d3_11ec_9105_0242ac1c0002row2_col8\" class=\"data row2 col8\" >Comm&Mgmt</td>\n",
              "                        <td id=\"T_740b75c8_49d3_11ec_9105_0242ac1c0002row2_col9\" class=\"data row2 col9\" >No</td>\n",
              "                        <td id=\"T_740b75c8_49d3_11ec_9105_0242ac1c0002row2_col10\" class=\"data row2 col10\" >75.000000</td>\n",
              "                        <td id=\"T_740b75c8_49d3_11ec_9105_0242ac1c0002row2_col11\" class=\"data row2 col11\" >Mkt&Fin</td>\n",
              "                        <td id=\"T_740b75c8_49d3_11ec_9105_0242ac1c0002row2_col12\" class=\"data row2 col12\" >57.800000</td>\n",
              "                        <td id=\"T_740b75c8_49d3_11ec_9105_0242ac1c0002row2_col13\" class=\"data row2 col13\" >Placed</td>\n",
              "                        <td id=\"T_740b75c8_49d3_11ec_9105_0242ac1c0002row2_col14\" class=\"data row2 col14\" >250000.000000</td>\n",
              "            </tr>\n",
              "            <tr>\n",
              "                                <td id=\"T_740b75c8_49d3_11ec_9105_0242ac1c0002row3_col0\" class=\"data row3 col0\" >4</td>\n",
              "                        <td id=\"T_740b75c8_49d3_11ec_9105_0242ac1c0002row3_col1\" class=\"data row3 col1\" >M</td>\n",
              "                        <td id=\"T_740b75c8_49d3_11ec_9105_0242ac1c0002row3_col2\" class=\"data row3 col2\" >56.000000</td>\n",
              "                        <td id=\"T_740b75c8_49d3_11ec_9105_0242ac1c0002row3_col3\" class=\"data row3 col3\" >Central</td>\n",
              "                        <td id=\"T_740b75c8_49d3_11ec_9105_0242ac1c0002row3_col4\" class=\"data row3 col4\" >52.000000</td>\n",
              "                        <td id=\"T_740b75c8_49d3_11ec_9105_0242ac1c0002row3_col5\" class=\"data row3 col5\" >Central</td>\n",
              "                        <td id=\"T_740b75c8_49d3_11ec_9105_0242ac1c0002row3_col6\" class=\"data row3 col6\" >Science</td>\n",
              "                        <td id=\"T_740b75c8_49d3_11ec_9105_0242ac1c0002row3_col7\" class=\"data row3 col7\" >52.000000</td>\n",
              "                        <td id=\"T_740b75c8_49d3_11ec_9105_0242ac1c0002row3_col8\" class=\"data row3 col8\" >Sci&Tech</td>\n",
              "                        <td id=\"T_740b75c8_49d3_11ec_9105_0242ac1c0002row3_col9\" class=\"data row3 col9\" >No</td>\n",
              "                        <td id=\"T_740b75c8_49d3_11ec_9105_0242ac1c0002row3_col10\" class=\"data row3 col10\" >66.000000</td>\n",
              "                        <td id=\"T_740b75c8_49d3_11ec_9105_0242ac1c0002row3_col11\" class=\"data row3 col11\" >Mkt&HR</td>\n",
              "                        <td id=\"T_740b75c8_49d3_11ec_9105_0242ac1c0002row3_col12\" class=\"data row3 col12\" >59.430000</td>\n",
              "                        <td id=\"T_740b75c8_49d3_11ec_9105_0242ac1c0002row3_col13\" class=\"data row3 col13\" >Not Placed</td>\n",
              "                        <td id=\"T_740b75c8_49d3_11ec_9105_0242ac1c0002row3_col14\" class=\"data row3 col14\" >nan</td>\n",
              "            </tr>\n",
              "            <tr>\n",
              "                                <td id=\"T_740b75c8_49d3_11ec_9105_0242ac1c0002row4_col0\" class=\"data row4 col0\" >5</td>\n",
              "                        <td id=\"T_740b75c8_49d3_11ec_9105_0242ac1c0002row4_col1\" class=\"data row4 col1\" >M</td>\n",
              "                        <td id=\"T_740b75c8_49d3_11ec_9105_0242ac1c0002row4_col2\" class=\"data row4 col2\" >85.800000</td>\n",
              "                        <td id=\"T_740b75c8_49d3_11ec_9105_0242ac1c0002row4_col3\" class=\"data row4 col3\" >Central</td>\n",
              "                        <td id=\"T_740b75c8_49d3_11ec_9105_0242ac1c0002row4_col4\" class=\"data row4 col4\" >73.600000</td>\n",
              "                        <td id=\"T_740b75c8_49d3_11ec_9105_0242ac1c0002row4_col5\" class=\"data row4 col5\" >Central</td>\n",
              "                        <td id=\"T_740b75c8_49d3_11ec_9105_0242ac1c0002row4_col6\" class=\"data row4 col6\" >Commerce</td>\n",
              "                        <td id=\"T_740b75c8_49d3_11ec_9105_0242ac1c0002row4_col7\" class=\"data row4 col7\" >73.300000</td>\n",
              "                        <td id=\"T_740b75c8_49d3_11ec_9105_0242ac1c0002row4_col8\" class=\"data row4 col8\" >Comm&Mgmt</td>\n",
              "                        <td id=\"T_740b75c8_49d3_11ec_9105_0242ac1c0002row4_col9\" class=\"data row4 col9\" >No</td>\n",
              "                        <td id=\"T_740b75c8_49d3_11ec_9105_0242ac1c0002row4_col10\" class=\"data row4 col10\" >96.800000</td>\n",
              "                        <td id=\"T_740b75c8_49d3_11ec_9105_0242ac1c0002row4_col11\" class=\"data row4 col11\" >Mkt&Fin</td>\n",
              "                        <td id=\"T_740b75c8_49d3_11ec_9105_0242ac1c0002row4_col12\" class=\"data row4 col12\" >55.500000</td>\n",
              "                        <td id=\"T_740b75c8_49d3_11ec_9105_0242ac1c0002row4_col13\" class=\"data row4 col13\" >Placed</td>\n",
              "                        <td id=\"T_740b75c8_49d3_11ec_9105_0242ac1c0002row4_col14\" class=\"data row4 col14\" >425000.000000</td>\n",
              "            </tr>\n",
              "            <tr>\n",
              "                                <td id=\"T_740b75c8_49d3_11ec_9105_0242ac1c0002row5_col0\" class=\"data row5 col0\" >6</td>\n",
              "                        <td id=\"T_740b75c8_49d3_11ec_9105_0242ac1c0002row5_col1\" class=\"data row5 col1\" >M</td>\n",
              "                        <td id=\"T_740b75c8_49d3_11ec_9105_0242ac1c0002row5_col2\" class=\"data row5 col2\" >55.000000</td>\n",
              "                        <td id=\"T_740b75c8_49d3_11ec_9105_0242ac1c0002row5_col3\" class=\"data row5 col3\" >Others</td>\n",
              "                        <td id=\"T_740b75c8_49d3_11ec_9105_0242ac1c0002row5_col4\" class=\"data row5 col4\" >49.800000</td>\n",
              "                        <td id=\"T_740b75c8_49d3_11ec_9105_0242ac1c0002row5_col5\" class=\"data row5 col5\" >Others</td>\n",
              "                        <td id=\"T_740b75c8_49d3_11ec_9105_0242ac1c0002row5_col6\" class=\"data row5 col6\" >Science</td>\n",
              "                        <td id=\"T_740b75c8_49d3_11ec_9105_0242ac1c0002row5_col7\" class=\"data row5 col7\" >67.250000</td>\n",
              "                        <td id=\"T_740b75c8_49d3_11ec_9105_0242ac1c0002row5_col8\" class=\"data row5 col8\" >Sci&Tech</td>\n",
              "                        <td id=\"T_740b75c8_49d3_11ec_9105_0242ac1c0002row5_col9\" class=\"data row5 col9\" >Yes</td>\n",
              "                        <td id=\"T_740b75c8_49d3_11ec_9105_0242ac1c0002row5_col10\" class=\"data row5 col10\" >55.000000</td>\n",
              "                        <td id=\"T_740b75c8_49d3_11ec_9105_0242ac1c0002row5_col11\" class=\"data row5 col11\" >Mkt&Fin</td>\n",
              "                        <td id=\"T_740b75c8_49d3_11ec_9105_0242ac1c0002row5_col12\" class=\"data row5 col12\" >51.580000</td>\n",
              "                        <td id=\"T_740b75c8_49d3_11ec_9105_0242ac1c0002row5_col13\" class=\"data row5 col13\" >Not Placed</td>\n",
              "                        <td id=\"T_740b75c8_49d3_11ec_9105_0242ac1c0002row5_col14\" class=\"data row5 col14\" >nan</td>\n",
              "            </tr>\n",
              "            <tr>\n",
              "                                <td id=\"T_740b75c8_49d3_11ec_9105_0242ac1c0002row6_col0\" class=\"data row6 col0\" >7</td>\n",
              "                        <td id=\"T_740b75c8_49d3_11ec_9105_0242ac1c0002row6_col1\" class=\"data row6 col1\" >F</td>\n",
              "                        <td id=\"T_740b75c8_49d3_11ec_9105_0242ac1c0002row6_col2\" class=\"data row6 col2\" >46.000000</td>\n",
              "                        <td id=\"T_740b75c8_49d3_11ec_9105_0242ac1c0002row6_col3\" class=\"data row6 col3\" >Others</td>\n",
              "                        <td id=\"T_740b75c8_49d3_11ec_9105_0242ac1c0002row6_col4\" class=\"data row6 col4\" >49.200000</td>\n",
              "                        <td id=\"T_740b75c8_49d3_11ec_9105_0242ac1c0002row6_col5\" class=\"data row6 col5\" >Others</td>\n",
              "                        <td id=\"T_740b75c8_49d3_11ec_9105_0242ac1c0002row6_col6\" class=\"data row6 col6\" >Commerce</td>\n",
              "                        <td id=\"T_740b75c8_49d3_11ec_9105_0242ac1c0002row6_col7\" class=\"data row6 col7\" >79.000000</td>\n",
              "                        <td id=\"T_740b75c8_49d3_11ec_9105_0242ac1c0002row6_col8\" class=\"data row6 col8\" >Comm&Mgmt</td>\n",
              "                        <td id=\"T_740b75c8_49d3_11ec_9105_0242ac1c0002row6_col9\" class=\"data row6 col9\" >No</td>\n",
              "                        <td id=\"T_740b75c8_49d3_11ec_9105_0242ac1c0002row6_col10\" class=\"data row6 col10\" >74.280000</td>\n",
              "                        <td id=\"T_740b75c8_49d3_11ec_9105_0242ac1c0002row6_col11\" class=\"data row6 col11\" >Mkt&Fin</td>\n",
              "                        <td id=\"T_740b75c8_49d3_11ec_9105_0242ac1c0002row6_col12\" class=\"data row6 col12\" >53.290000</td>\n",
              "                        <td id=\"T_740b75c8_49d3_11ec_9105_0242ac1c0002row6_col13\" class=\"data row6 col13\" >Not Placed</td>\n",
              "                        <td id=\"T_740b75c8_49d3_11ec_9105_0242ac1c0002row6_col14\" class=\"data row6 col14\" >nan</td>\n",
              "            </tr>\n",
              "            <tr>\n",
              "                                <td id=\"T_740b75c8_49d3_11ec_9105_0242ac1c0002row7_col0\" class=\"data row7 col0\" >8</td>\n",
              "                        <td id=\"T_740b75c8_49d3_11ec_9105_0242ac1c0002row7_col1\" class=\"data row7 col1\" >M</td>\n",
              "                        <td id=\"T_740b75c8_49d3_11ec_9105_0242ac1c0002row7_col2\" class=\"data row7 col2\" >82.000000</td>\n",
              "                        <td id=\"T_740b75c8_49d3_11ec_9105_0242ac1c0002row7_col3\" class=\"data row7 col3\" >Central</td>\n",
              "                        <td id=\"T_740b75c8_49d3_11ec_9105_0242ac1c0002row7_col4\" class=\"data row7 col4\" >64.000000</td>\n",
              "                        <td id=\"T_740b75c8_49d3_11ec_9105_0242ac1c0002row7_col5\" class=\"data row7 col5\" >Central</td>\n",
              "                        <td id=\"T_740b75c8_49d3_11ec_9105_0242ac1c0002row7_col6\" class=\"data row7 col6\" >Science</td>\n",
              "                        <td id=\"T_740b75c8_49d3_11ec_9105_0242ac1c0002row7_col7\" class=\"data row7 col7\" >66.000000</td>\n",
              "                        <td id=\"T_740b75c8_49d3_11ec_9105_0242ac1c0002row7_col8\" class=\"data row7 col8\" >Sci&Tech</td>\n",
              "                        <td id=\"T_740b75c8_49d3_11ec_9105_0242ac1c0002row7_col9\" class=\"data row7 col9\" >Yes</td>\n",
              "                        <td id=\"T_740b75c8_49d3_11ec_9105_0242ac1c0002row7_col10\" class=\"data row7 col10\" >67.000000</td>\n",
              "                        <td id=\"T_740b75c8_49d3_11ec_9105_0242ac1c0002row7_col11\" class=\"data row7 col11\" >Mkt&Fin</td>\n",
              "                        <td id=\"T_740b75c8_49d3_11ec_9105_0242ac1c0002row7_col12\" class=\"data row7 col12\" >62.140000</td>\n",
              "                        <td id=\"T_740b75c8_49d3_11ec_9105_0242ac1c0002row7_col13\" class=\"data row7 col13\" >Placed</td>\n",
              "                        <td id=\"T_740b75c8_49d3_11ec_9105_0242ac1c0002row7_col14\" class=\"data row7 col14\" >252000.000000</td>\n",
              "            </tr>\n",
              "            <tr>\n",
              "                                <td id=\"T_740b75c8_49d3_11ec_9105_0242ac1c0002row8_col0\" class=\"data row8 col0\" >9</td>\n",
              "                        <td id=\"T_740b75c8_49d3_11ec_9105_0242ac1c0002row8_col1\" class=\"data row8 col1\" >M</td>\n",
              "                        <td id=\"T_740b75c8_49d3_11ec_9105_0242ac1c0002row8_col2\" class=\"data row8 col2\" >73.000000</td>\n",
              "                        <td id=\"T_740b75c8_49d3_11ec_9105_0242ac1c0002row8_col3\" class=\"data row8 col3\" >Central</td>\n",
              "                        <td id=\"T_740b75c8_49d3_11ec_9105_0242ac1c0002row8_col4\" class=\"data row8 col4\" >79.000000</td>\n",
              "                        <td id=\"T_740b75c8_49d3_11ec_9105_0242ac1c0002row8_col5\" class=\"data row8 col5\" >Central</td>\n",
              "                        <td id=\"T_740b75c8_49d3_11ec_9105_0242ac1c0002row8_col6\" class=\"data row8 col6\" >Commerce</td>\n",
              "                        <td id=\"T_740b75c8_49d3_11ec_9105_0242ac1c0002row8_col7\" class=\"data row8 col7\" >72.000000</td>\n",
              "                        <td id=\"T_740b75c8_49d3_11ec_9105_0242ac1c0002row8_col8\" class=\"data row8 col8\" >Comm&Mgmt</td>\n",
              "                        <td id=\"T_740b75c8_49d3_11ec_9105_0242ac1c0002row8_col9\" class=\"data row8 col9\" >No</td>\n",
              "                        <td id=\"T_740b75c8_49d3_11ec_9105_0242ac1c0002row8_col10\" class=\"data row8 col10\" >91.340000</td>\n",
              "                        <td id=\"T_740b75c8_49d3_11ec_9105_0242ac1c0002row8_col11\" class=\"data row8 col11\" >Mkt&Fin</td>\n",
              "                        <td id=\"T_740b75c8_49d3_11ec_9105_0242ac1c0002row8_col12\" class=\"data row8 col12\" >61.290000</td>\n",
              "                        <td id=\"T_740b75c8_49d3_11ec_9105_0242ac1c0002row8_col13\" class=\"data row8 col13\" >Placed</td>\n",
              "                        <td id=\"T_740b75c8_49d3_11ec_9105_0242ac1c0002row8_col14\" class=\"data row8 col14\" >231000.000000</td>\n",
              "            </tr>\n",
              "            <tr>\n",
              "                                <td id=\"T_740b75c8_49d3_11ec_9105_0242ac1c0002row9_col0\" class=\"data row9 col0\" >10</td>\n",
              "                        <td id=\"T_740b75c8_49d3_11ec_9105_0242ac1c0002row9_col1\" class=\"data row9 col1\" >M</td>\n",
              "                        <td id=\"T_740b75c8_49d3_11ec_9105_0242ac1c0002row9_col2\" class=\"data row9 col2\" >58.000000</td>\n",
              "                        <td id=\"T_740b75c8_49d3_11ec_9105_0242ac1c0002row9_col3\" class=\"data row9 col3\" >Central</td>\n",
              "                        <td id=\"T_740b75c8_49d3_11ec_9105_0242ac1c0002row9_col4\" class=\"data row9 col4\" >70.000000</td>\n",
              "                        <td id=\"T_740b75c8_49d3_11ec_9105_0242ac1c0002row9_col5\" class=\"data row9 col5\" >Central</td>\n",
              "                        <td id=\"T_740b75c8_49d3_11ec_9105_0242ac1c0002row9_col6\" class=\"data row9 col6\" >Commerce</td>\n",
              "                        <td id=\"T_740b75c8_49d3_11ec_9105_0242ac1c0002row9_col7\" class=\"data row9 col7\" >61.000000</td>\n",
              "                        <td id=\"T_740b75c8_49d3_11ec_9105_0242ac1c0002row9_col8\" class=\"data row9 col8\" >Comm&Mgmt</td>\n",
              "                        <td id=\"T_740b75c8_49d3_11ec_9105_0242ac1c0002row9_col9\" class=\"data row9 col9\" >No</td>\n",
              "                        <td id=\"T_740b75c8_49d3_11ec_9105_0242ac1c0002row9_col10\" class=\"data row9 col10\" >54.000000</td>\n",
              "                        <td id=\"T_740b75c8_49d3_11ec_9105_0242ac1c0002row9_col11\" class=\"data row9 col11\" >Mkt&Fin</td>\n",
              "                        <td id=\"T_740b75c8_49d3_11ec_9105_0242ac1c0002row9_col12\" class=\"data row9 col12\" >52.210000</td>\n",
              "                        <td id=\"T_740b75c8_49d3_11ec_9105_0242ac1c0002row9_col13\" class=\"data row9 col13\" >Not Placed</td>\n",
              "                        <td id=\"T_740b75c8_49d3_11ec_9105_0242ac1c0002row9_col14\" class=\"data row9 col14\" >nan</td>\n",
              "            </tr>\n",
              "    </tbody></table>"
            ],
            "text/plain": [
              "<pandas.io.formats.style.Styler at 0x7fdb5a5608d0>"
            ]
          },
          "metadata": {},
          "execution_count": 6
        }
      ]
    },
    {
      "cell_type": "markdown",
      "metadata": {
        "id": "Xg-xui0jPqWE"
      },
      "source": [
        "Just like that, we hide our index. It is a simple thing but in the working environment I know sometimes it would become a problem. Just one extra column that becomes a question.\n",
        "In addition, we could try to hide unnecessary columns with the chaining method. Let’s say I don't want to show the ‘method’ and ‘year’ columns then we could write it with the following code."
      ]
    },
    {
      "cell_type": "code",
      "metadata": {
        "id": "KfTfZk4TPuQT"
      },
      "source": [
        "#Using hide_columns to hide the unnecesary columns\n",
        "data.head(10).style.hide_index().hide_columns(['gender','ssc_p'])"
      ],
      "execution_count": null,
      "outputs": []
    },
    {
      "cell_type": "markdown",
      "metadata": {
        "id": "ID9eKkpcQl0N"
      },
      "source": [
        "## **Highlight Function**[5]"
      ]
    },
    {
      "cell_type": "markdown",
      "metadata": {
        "id": "VZaCbhBcQsO9"
      },
      "source": [
        "There is a time when we want to present our data frame and only highlight the important number, for example the highest number. In this case, we could use the built-in method to highlight it with the following code."
      ]
    },
    {
      "cell_type": "code",
      "metadata": {
        "id": "wb0DKYZJQ0SD"
      },
      "source": [
        "#Highlight the maximum number for each column\n",
        "data.head(10).style.highlight_max(color = 'yellow')"
      ],
      "execution_count": null,
      "outputs": []
    },
    {
      "cell_type": "markdown",
      "metadata": {
        "id": "FmnZc6FHQ-nl"
      },
      "source": [
        "In the data frame above, we highlight the maximum number in each column with the color yellow. If you want to highlight the minimum number instead, we could do it with the following code."
      ]
    },
    {
      "cell_type": "code",
      "metadata": {
        "id": "N_1Ju9UlRAO8"
      },
      "source": [
        "data.head(10).style.highlight_min(color = 'lightblue')\n"
      ],
      "execution_count": null,
      "outputs": []
    },
    {
      "cell_type": "markdown",
      "metadata": {
        "id": "GE4-6pMrRM6a"
      },
      "source": [
        "and if you want to chain it, we could also do that."
      ]
    },
    {
      "cell_type": "code",
      "metadata": {
        "id": "XnzAqwXVRMNL"
      },
      "source": [
        "#Highlight the minimum number with lightblue color and the maximum number with yellow color\n",
        "data.head(10).style.highlight_max(color='yellow').highlight_min(color = 'lightblue')"
      ],
      "execution_count": null,
      "outputs": []
    },
    {
      "cell_type": "markdown",
      "metadata": {
        "id": "tLwN4DgERZST"
      },
      "source": [
        "Instead of each column, you could actually highlight the minimum or maximum number for each row. I show it in the following code."
      ]
    },
    {
      "cell_type": "code",
      "metadata": {
        "id": "5kVoBcayRcns"
      },
      "source": [
        "#Adding Axis = 1 to change the direction from column to row\n",
        "data.head(10).style.highlight_max(color = 'yellow', axis =1)"
      ],
      "execution_count": null,
      "outputs": []
    },
    {
      "cell_type": "markdown",
      "metadata": {
        "id": "zCzIjmcvRjys"
      },
      "source": [
        "As we can see, it is useless right now to change the axis as it did not highlight any important information. It would be more useful in the case when each column is not that different from each other.\n",
        "As an addition, we could highlight the null value with the following code."
      ]
    },
    {
      "cell_type": "code",
      "metadata": {
        "id": "TdiB7_2_RoqS"
      },
      "source": [
        "#Higlight the null value\n",
        "data.head(10).style.highlight_null(null_color = 'red')"
      ],
      "execution_count": null,
      "outputs": []
    },
    {
      "cell_type": "markdown",
      "metadata": {
        "id": "Hx2Z7EvIEmuB"
      },
      "source": [
        "## **Gradient Function**[5]"
      ]
    },
    {
      "cell_type": "markdown",
      "metadata": {
        "id": "o8Td6uexE2rQ"
      },
      "source": [
        "While presenting your data, we could also use all the information as the main way to present the data. I often present the data with a background color to highlight which number is in the lower area and where is the one in the higher area. Let’s use the example by the following code."
      ]
    },
    {
      "cell_type": "code",
      "metadata": {
        "colab": {
          "base_uri": "https://localhost:8080/",
          "height": 447
        },
        "id": "dS9h-JzJE4QA",
        "outputId": "0c7523fe-7ac6-4a6d-cd78-64f5d9deec92"
      },
      "source": [
        "#Gradient background color for the numerical columns\n",
        "data.head(10).style.background_gradient(cmap = 'Blues')"
      ],
      "execution_count": null,
      "outputs": [
        {
          "output_type": "execute_result",
          "data": {
            "text/html": [
              "<style  type=\"text/css\" >\n",
              "#T_24497d2a_49f4_11ec_8d3a_0242ac1c0002row0_col0,#T_24497d2a_49f4_11ec_8d3a_0242ac1c0002row1_col14,#T_24497d2a_49f4_11ec_8d3a_0242ac1c0002row3_col7,#T_24497d2a_49f4_11ec_8d3a_0242ac1c0002row5_col12,#T_24497d2a_49f4_11ec_8d3a_0242ac1c0002row6_col2,#T_24497d2a_49f4_11ec_8d3a_0242ac1c0002row6_col4,#T_24497d2a_49f4_11ec_8d3a_0242ac1c0002row9_col10{\n",
              "            background-color:  #f7fbff;\n",
              "            color:  #000000;\n",
              "        }#T_24497d2a_49f4_11ec_8d3a_0242ac1c0002row0_col2{\n",
              "            background-color:  #61a7d2;\n",
              "            color:  #000000;\n",
              "        }#T_24497d2a_49f4_11ec_8d3a_0242ac1c0002row0_col4,#T_24497d2a_49f4_11ec_8d3a_0242ac1c0002row1_col12,#T_24497d2a_49f4_11ec_8d3a_0242ac1c0002row4_col2,#T_24497d2a_49f4_11ec_8d3a_0242ac1c0002row4_col10,#T_24497d2a_49f4_11ec_8d3a_0242ac1c0002row4_col14,#T_24497d2a_49f4_11ec_8d3a_0242ac1c0002row6_col7,#T_24497d2a_49f4_11ec_8d3a_0242ac1c0002row9_col0{\n",
              "            background-color:  #08306b;\n",
              "            color:  #f1f1f1;\n",
              "        }#T_24497d2a_49f4_11ec_8d3a_0242ac1c0002row0_col7,#T_24497d2a_49f4_11ec_8d3a_0242ac1c0002row2_col0,#T_24497d2a_49f4_11ec_8d3a_0242ac1c0002row2_col14{\n",
              "            background-color:  #ccdff1;\n",
              "            color:  #000000;\n",
              "        }#T_24497d2a_49f4_11ec_8d3a_0242ac1c0002row0_col10,#T_24497d2a_49f4_11ec_8d3a_0242ac1c0002row5_col10{\n",
              "            background-color:  #f3f8fe;\n",
              "            color:  #000000;\n",
              "        }#T_24497d2a_49f4_11ec_8d3a_0242ac1c0002row0_col12,#T_24497d2a_49f4_11ec_8d3a_0242ac1c0002row2_col10{\n",
              "            background-color:  #6fb0d7;\n",
              "            color:  #000000;\n",
              "        }#T_24497d2a_49f4_11ec_8d3a_0242ac1c0002row0_col14{\n",
              "            background-color:  #b3d3e8;\n",
              "            color:  #000000;\n",
              "        }#T_24497d2a_49f4_11ec_8d3a_0242ac1c0002row1_col0{\n",
              "            background-color:  #e1edf8;\n",
              "            color:  #000000;\n",
              "        }#T_24497d2a_49f4_11ec_8d3a_0242ac1c0002row1_col2{\n",
              "            background-color:  #0f5aa3;\n",
              "            color:  #f1f1f1;\n",
              "        }#T_24497d2a_49f4_11ec_8d3a_0242ac1c0002row1_col4{\n",
              "            background-color:  #2f7fbc;\n",
              "            color:  #000000;\n",
              "        }#T_24497d2a_49f4_11ec_8d3a_0242ac1c0002row1_col7{\n",
              "            background-color:  #083e81;\n",
              "            color:  #f1f1f1;\n",
              "        }#T_24497d2a_49f4_11ec_8d3a_0242ac1c0002row1_col10{\n",
              "            background-color:  #1f6eb3;\n",
              "            color:  #f1f1f1;\n",
              "        }#T_24497d2a_49f4_11ec_8d3a_0242ac1c0002row2_col2{\n",
              "            background-color:  #74b3d8;\n",
              "            color:  #000000;\n",
              "        }#T_24497d2a_49f4_11ec_8d3a_0242ac1c0002row2_col4{\n",
              "            background-color:  #7fb9da;\n",
              "            color:  #000000;\n",
              "        }#T_24497d2a_49f4_11ec_8d3a_0242ac1c0002row2_col7,#T_24497d2a_49f4_11ec_8d3a_0242ac1c0002row4_col0{\n",
              "            background-color:  #82bbdb;\n",
              "            color:  #000000;\n",
              "        }#T_24497d2a_49f4_11ec_8d3a_0242ac1c0002row2_col12{\n",
              "            background-color:  #8abfdd;\n",
              "            color:  #000000;\n",
              "        }#T_24497d2a_49f4_11ec_8d3a_0242ac1c0002row3_col0,#T_24497d2a_49f4_11ec_8d3a_0242ac1c0002row9_col7{\n",
              "            background-color:  #abd0e6;\n",
              "            color:  #000000;\n",
              "        }#T_24497d2a_49f4_11ec_8d3a_0242ac1c0002row3_col2{\n",
              "            background-color:  #c6dbef;\n",
              "            color:  #000000;\n",
              "        }#T_24497d2a_49f4_11ec_8d3a_0242ac1c0002row3_col4{\n",
              "            background-color:  #eaf2fb;\n",
              "            color:  #000000;\n",
              "        }#T_24497d2a_49f4_11ec_8d3a_0242ac1c0002row3_col10{\n",
              "            background-color:  #bdd7ec;\n",
              "            color:  #000000;\n",
              "        }#T_24497d2a_49f4_11ec_8d3a_0242ac1c0002row3_col12{\n",
              "            background-color:  #60a7d2;\n",
              "            color:  #000000;\n",
              "        }#T_24497d2a_49f4_11ec_8d3a_0242ac1c0002row3_col14,#T_24497d2a_49f4_11ec_8d3a_0242ac1c0002row5_col14,#T_24497d2a_49f4_11ec_8d3a_0242ac1c0002row6_col14,#T_24497d2a_49f4_11ec_8d3a_0242ac1c0002row9_col14{\n",
              "            background-color:  #000000;\n",
              "            color:  #f1f1f1;\n",
              "        }#T_24497d2a_49f4_11ec_8d3a_0242ac1c0002row4_col4{\n",
              "            background-color:  #4f9bcb;\n",
              "            color:  #000000;\n",
              "        }#T_24497d2a_49f4_11ec_8d3a_0242ac1c0002row4_col7{\n",
              "            background-color:  #1967ad;\n",
              "            color:  #f1f1f1;\n",
              "        }#T_24497d2a_49f4_11ec_8d3a_0242ac1c0002row4_col12{\n",
              "            background-color:  #c1d9ed;\n",
              "            color:  #000000;\n",
              "        }#T_24497d2a_49f4_11ec_8d3a_0242ac1c0002row5_col0{\n",
              "            background-color:  #58a1cf;\n",
              "            color:  #000000;\n",
              "        }#T_24497d2a_49f4_11ec_8d3a_0242ac1c0002row5_col2{\n",
              "            background-color:  #cbdef1;\n",
              "            color:  #000000;\n",
              "        }#T_24497d2a_49f4_11ec_8d3a_0242ac1c0002row5_col4{\n",
              "            background-color:  #f5f9fe;\n",
              "            color:  #000000;\n",
              "        }#T_24497d2a_49f4_11ec_8d3a_0242ac1c0002row5_col7{\n",
              "            background-color:  #56a0ce;\n",
              "            color:  #000000;\n",
              "        }#T_24497d2a_49f4_11ec_8d3a_0242ac1c0002row6_col0{\n",
              "            background-color:  #3787c0;\n",
              "            color:  #000000;\n",
              "        }#T_24497d2a_49f4_11ec_8d3a_0242ac1c0002row6_col10{\n",
              "            background-color:  #75b4d8;\n",
              "            color:  #000000;\n",
              "        }#T_24497d2a_49f4_11ec_8d3a_0242ac1c0002row6_col12{\n",
              "            background-color:  #e0ecf8;\n",
              "            color:  #000000;\n",
              "        }#T_24497d2a_49f4_11ec_8d3a_0242ac1c0002row7_col0{\n",
              "            background-color:  #1b69af;\n",
              "            color:  #f1f1f1;\n",
              "        }#T_24497d2a_49f4_11ec_8d3a_0242ac1c0002row7_col2{\n",
              "            background-color:  #084990;\n",
              "            color:  #f1f1f1;\n",
              "        }#T_24497d2a_49f4_11ec_8d3a_0242ac1c0002row7_col4{\n",
              "            background-color:  #a5cde3;\n",
              "            color:  #000000;\n",
              "        }#T_24497d2a_49f4_11ec_8d3a_0242ac1c0002row7_col7{\n",
              "            background-color:  #65aad4;\n",
              "            color:  #000000;\n",
              "        }#T_24497d2a_49f4_11ec_8d3a_0242ac1c0002row7_col10,#T_24497d2a_49f4_11ec_8d3a_0242ac1c0002row9_col2{\n",
              "            background-color:  #b5d4e9;\n",
              "            color:  #000000;\n",
              "        }#T_24497d2a_49f4_11ec_8d3a_0242ac1c0002row7_col12{\n",
              "            background-color:  #2a7ab9;\n",
              "            color:  #000000;\n",
              "        }#T_24497d2a_49f4_11ec_8d3a_0242ac1c0002row7_col14{\n",
              "            background-color:  #caddf0;\n",
              "            color:  #000000;\n",
              "        }#T_24497d2a_49f4_11ec_8d3a_0242ac1c0002row8_col0{\n",
              "            background-color:  #084d96;\n",
              "            color:  #f1f1f1;\n",
              "        }#T_24497d2a_49f4_11ec_8d3a_0242ac1c0002row8_col2{\n",
              "            background-color:  #3484bf;\n",
              "            color:  #000000;\n",
              "        }#T_24497d2a_49f4_11ec_8d3a_0242ac1c0002row8_col4{\n",
              "            background-color:  #2b7bba;\n",
              "            color:  #000000;\n",
              "        }#T_24497d2a_49f4_11ec_8d3a_0242ac1c0002row8_col7{\n",
              "            background-color:  #2373b6;\n",
              "            color:  #f1f1f1;\n",
              "        }#T_24497d2a_49f4_11ec_8d3a_0242ac1c0002row8_col10{\n",
              "            background-color:  #08519c;\n",
              "            color:  #f1f1f1;\n",
              "        }#T_24497d2a_49f4_11ec_8d3a_0242ac1c0002row8_col12{\n",
              "            background-color:  #3888c1;\n",
              "            color:  #000000;\n",
              "        }#T_24497d2a_49f4_11ec_8d3a_0242ac1c0002row8_col14{\n",
              "            background-color:  #dce9f6;\n",
              "            color:  #000000;\n",
              "        }#T_24497d2a_49f4_11ec_8d3a_0242ac1c0002row9_col4{\n",
              "            background-color:  #6caed6;\n",
              "            color:  #000000;\n",
              "        }#T_24497d2a_49f4_11ec_8d3a_0242ac1c0002row9_col12{\n",
              "            background-color:  #eff6fc;\n",
              "            color:  #000000;\n",
              "        }</style><table id=\"T_24497d2a_49f4_11ec_8d3a_0242ac1c0002\" class=\"dataframe\"><thead>    <tr>        <th class=\"blank level0\" ></th>        <th class=\"col_heading level0 col0\" >sl_no</th>        <th class=\"col_heading level0 col1\" >gender</th>        <th class=\"col_heading level0 col2\" >ssc_p</th>        <th class=\"col_heading level0 col3\" >ssc_b</th>        <th class=\"col_heading level0 col4\" >hsc_p</th>        <th class=\"col_heading level0 col5\" >hsc_b</th>        <th class=\"col_heading level0 col6\" >hsc_s</th>        <th class=\"col_heading level0 col7\" >degree_p</th>        <th class=\"col_heading level0 col8\" >degree_t</th>        <th class=\"col_heading level0 col9\" >workex</th>        <th class=\"col_heading level0 col10\" >etest_p</th>        <th class=\"col_heading level0 col11\" >specialisation</th>        <th class=\"col_heading level0 col12\" >mba_p</th>        <th class=\"col_heading level0 col13\" >status</th>        <th class=\"col_heading level0 col14\" >salary</th>    </tr></thead><tbody>\n",
              "                <tr>\n",
              "                        <th id=\"T_24497d2a_49f4_11ec_8d3a_0242ac1c0002level0_row0\" class=\"row_heading level0 row0\" >0</th>\n",
              "                        <td id=\"T_24497d2a_49f4_11ec_8d3a_0242ac1c0002row0_col0\" class=\"data row0 col0\" >1</td>\n",
              "                        <td id=\"T_24497d2a_49f4_11ec_8d3a_0242ac1c0002row0_col1\" class=\"data row0 col1\" >M</td>\n",
              "                        <td id=\"T_24497d2a_49f4_11ec_8d3a_0242ac1c0002row0_col2\" class=\"data row0 col2\" >67.000000</td>\n",
              "                        <td id=\"T_24497d2a_49f4_11ec_8d3a_0242ac1c0002row0_col3\" class=\"data row0 col3\" >Others</td>\n",
              "                        <td id=\"T_24497d2a_49f4_11ec_8d3a_0242ac1c0002row0_col4\" class=\"data row0 col4\" >91.000000</td>\n",
              "                        <td id=\"T_24497d2a_49f4_11ec_8d3a_0242ac1c0002row0_col5\" class=\"data row0 col5\" >Others</td>\n",
              "                        <td id=\"T_24497d2a_49f4_11ec_8d3a_0242ac1c0002row0_col6\" class=\"data row0 col6\" >Commerce</td>\n",
              "                        <td id=\"T_24497d2a_49f4_11ec_8d3a_0242ac1c0002row0_col7\" class=\"data row0 col7\" >58.000000</td>\n",
              "                        <td id=\"T_24497d2a_49f4_11ec_8d3a_0242ac1c0002row0_col8\" class=\"data row0 col8\" >Sci&Tech</td>\n",
              "                        <td id=\"T_24497d2a_49f4_11ec_8d3a_0242ac1c0002row0_col9\" class=\"data row0 col9\" >No</td>\n",
              "                        <td id=\"T_24497d2a_49f4_11ec_8d3a_0242ac1c0002row0_col10\" class=\"data row0 col10\" >55.000000</td>\n",
              "                        <td id=\"T_24497d2a_49f4_11ec_8d3a_0242ac1c0002row0_col11\" class=\"data row0 col11\" >Mkt&HR</td>\n",
              "                        <td id=\"T_24497d2a_49f4_11ec_8d3a_0242ac1c0002row0_col12\" class=\"data row0 col12\" >58.800000</td>\n",
              "                        <td id=\"T_24497d2a_49f4_11ec_8d3a_0242ac1c0002row0_col13\" class=\"data row0 col13\" >Placed</td>\n",
              "                        <td id=\"T_24497d2a_49f4_11ec_8d3a_0242ac1c0002row0_col14\" class=\"data row0 col14\" >270000.000000</td>\n",
              "            </tr>\n",
              "            <tr>\n",
              "                        <th id=\"T_24497d2a_49f4_11ec_8d3a_0242ac1c0002level0_row1\" class=\"row_heading level0 row1\" >1</th>\n",
              "                        <td id=\"T_24497d2a_49f4_11ec_8d3a_0242ac1c0002row1_col0\" class=\"data row1 col0\" >2</td>\n",
              "                        <td id=\"T_24497d2a_49f4_11ec_8d3a_0242ac1c0002row1_col1\" class=\"data row1 col1\" >M</td>\n",
              "                        <td id=\"T_24497d2a_49f4_11ec_8d3a_0242ac1c0002row1_col2\" class=\"data row1 col2\" >79.330000</td>\n",
              "                        <td id=\"T_24497d2a_49f4_11ec_8d3a_0242ac1c0002row1_col3\" class=\"data row1 col3\" >Central</td>\n",
              "                        <td id=\"T_24497d2a_49f4_11ec_8d3a_0242ac1c0002row1_col4\" class=\"data row1 col4\" >78.330000</td>\n",
              "                        <td id=\"T_24497d2a_49f4_11ec_8d3a_0242ac1c0002row1_col5\" class=\"data row1 col5\" >Others</td>\n",
              "                        <td id=\"T_24497d2a_49f4_11ec_8d3a_0242ac1c0002row1_col6\" class=\"data row1 col6\" >Science</td>\n",
              "                        <td id=\"T_24497d2a_49f4_11ec_8d3a_0242ac1c0002row1_col7\" class=\"data row1 col7\" >77.480000</td>\n",
              "                        <td id=\"T_24497d2a_49f4_11ec_8d3a_0242ac1c0002row1_col8\" class=\"data row1 col8\" >Sci&Tech</td>\n",
              "                        <td id=\"T_24497d2a_49f4_11ec_8d3a_0242ac1c0002row1_col9\" class=\"data row1 col9\" >Yes</td>\n",
              "                        <td id=\"T_24497d2a_49f4_11ec_8d3a_0242ac1c0002row1_col10\" class=\"data row1 col10\" >86.500000</td>\n",
              "                        <td id=\"T_24497d2a_49f4_11ec_8d3a_0242ac1c0002row1_col11\" class=\"data row1 col11\" >Mkt&Fin</td>\n",
              "                        <td id=\"T_24497d2a_49f4_11ec_8d3a_0242ac1c0002row1_col12\" class=\"data row1 col12\" >66.280000</td>\n",
              "                        <td id=\"T_24497d2a_49f4_11ec_8d3a_0242ac1c0002row1_col13\" class=\"data row1 col13\" >Placed</td>\n",
              "                        <td id=\"T_24497d2a_49f4_11ec_8d3a_0242ac1c0002row1_col14\" class=\"data row1 col14\" >200000.000000</td>\n",
              "            </tr>\n",
              "            <tr>\n",
              "                        <th id=\"T_24497d2a_49f4_11ec_8d3a_0242ac1c0002level0_row2\" class=\"row_heading level0 row2\" >2</th>\n",
              "                        <td id=\"T_24497d2a_49f4_11ec_8d3a_0242ac1c0002row2_col0\" class=\"data row2 col0\" >3</td>\n",
              "                        <td id=\"T_24497d2a_49f4_11ec_8d3a_0242ac1c0002row2_col1\" class=\"data row2 col1\" >M</td>\n",
              "                        <td id=\"T_24497d2a_49f4_11ec_8d3a_0242ac1c0002row2_col2\" class=\"data row2 col2\" >65.000000</td>\n",
              "                        <td id=\"T_24497d2a_49f4_11ec_8d3a_0242ac1c0002row2_col3\" class=\"data row2 col3\" >Central</td>\n",
              "                        <td id=\"T_24497d2a_49f4_11ec_8d3a_0242ac1c0002row2_col4\" class=\"data row2 col4\" >68.000000</td>\n",
              "                        <td id=\"T_24497d2a_49f4_11ec_8d3a_0242ac1c0002row2_col5\" class=\"data row2 col5\" >Central</td>\n",
              "                        <td id=\"T_24497d2a_49f4_11ec_8d3a_0242ac1c0002row2_col6\" class=\"data row2 col6\" >Arts</td>\n",
              "                        <td id=\"T_24497d2a_49f4_11ec_8d3a_0242ac1c0002row2_col7\" class=\"data row2 col7\" >64.000000</td>\n",
              "                        <td id=\"T_24497d2a_49f4_11ec_8d3a_0242ac1c0002row2_col8\" class=\"data row2 col8\" >Comm&Mgmt</td>\n",
              "                        <td id=\"T_24497d2a_49f4_11ec_8d3a_0242ac1c0002row2_col9\" class=\"data row2 col9\" >No</td>\n",
              "                        <td id=\"T_24497d2a_49f4_11ec_8d3a_0242ac1c0002row2_col10\" class=\"data row2 col10\" >75.000000</td>\n",
              "                        <td id=\"T_24497d2a_49f4_11ec_8d3a_0242ac1c0002row2_col11\" class=\"data row2 col11\" >Mkt&Fin</td>\n",
              "                        <td id=\"T_24497d2a_49f4_11ec_8d3a_0242ac1c0002row2_col12\" class=\"data row2 col12\" >57.800000</td>\n",
              "                        <td id=\"T_24497d2a_49f4_11ec_8d3a_0242ac1c0002row2_col13\" class=\"data row2 col13\" >Placed</td>\n",
              "                        <td id=\"T_24497d2a_49f4_11ec_8d3a_0242ac1c0002row2_col14\" class=\"data row2 col14\" >250000.000000</td>\n",
              "            </tr>\n",
              "            <tr>\n",
              "                        <th id=\"T_24497d2a_49f4_11ec_8d3a_0242ac1c0002level0_row3\" class=\"row_heading level0 row3\" >3</th>\n",
              "                        <td id=\"T_24497d2a_49f4_11ec_8d3a_0242ac1c0002row3_col0\" class=\"data row3 col0\" >4</td>\n",
              "                        <td id=\"T_24497d2a_49f4_11ec_8d3a_0242ac1c0002row3_col1\" class=\"data row3 col1\" >M</td>\n",
              "                        <td id=\"T_24497d2a_49f4_11ec_8d3a_0242ac1c0002row3_col2\" class=\"data row3 col2\" >56.000000</td>\n",
              "                        <td id=\"T_24497d2a_49f4_11ec_8d3a_0242ac1c0002row3_col3\" class=\"data row3 col3\" >Central</td>\n",
              "                        <td id=\"T_24497d2a_49f4_11ec_8d3a_0242ac1c0002row3_col4\" class=\"data row3 col4\" >52.000000</td>\n",
              "                        <td id=\"T_24497d2a_49f4_11ec_8d3a_0242ac1c0002row3_col5\" class=\"data row3 col5\" >Central</td>\n",
              "                        <td id=\"T_24497d2a_49f4_11ec_8d3a_0242ac1c0002row3_col6\" class=\"data row3 col6\" >Science</td>\n",
              "                        <td id=\"T_24497d2a_49f4_11ec_8d3a_0242ac1c0002row3_col7\" class=\"data row3 col7\" >52.000000</td>\n",
              "                        <td id=\"T_24497d2a_49f4_11ec_8d3a_0242ac1c0002row3_col8\" class=\"data row3 col8\" >Sci&Tech</td>\n",
              "                        <td id=\"T_24497d2a_49f4_11ec_8d3a_0242ac1c0002row3_col9\" class=\"data row3 col9\" >No</td>\n",
              "                        <td id=\"T_24497d2a_49f4_11ec_8d3a_0242ac1c0002row3_col10\" class=\"data row3 col10\" >66.000000</td>\n",
              "                        <td id=\"T_24497d2a_49f4_11ec_8d3a_0242ac1c0002row3_col11\" class=\"data row3 col11\" >Mkt&HR</td>\n",
              "                        <td id=\"T_24497d2a_49f4_11ec_8d3a_0242ac1c0002row3_col12\" class=\"data row3 col12\" >59.430000</td>\n",
              "                        <td id=\"T_24497d2a_49f4_11ec_8d3a_0242ac1c0002row3_col13\" class=\"data row3 col13\" >Not Placed</td>\n",
              "                        <td id=\"T_24497d2a_49f4_11ec_8d3a_0242ac1c0002row3_col14\" class=\"data row3 col14\" >nan</td>\n",
              "            </tr>\n",
              "            <tr>\n",
              "                        <th id=\"T_24497d2a_49f4_11ec_8d3a_0242ac1c0002level0_row4\" class=\"row_heading level0 row4\" >4</th>\n",
              "                        <td id=\"T_24497d2a_49f4_11ec_8d3a_0242ac1c0002row4_col0\" class=\"data row4 col0\" >5</td>\n",
              "                        <td id=\"T_24497d2a_49f4_11ec_8d3a_0242ac1c0002row4_col1\" class=\"data row4 col1\" >M</td>\n",
              "                        <td id=\"T_24497d2a_49f4_11ec_8d3a_0242ac1c0002row4_col2\" class=\"data row4 col2\" >85.800000</td>\n",
              "                        <td id=\"T_24497d2a_49f4_11ec_8d3a_0242ac1c0002row4_col3\" class=\"data row4 col3\" >Central</td>\n",
              "                        <td id=\"T_24497d2a_49f4_11ec_8d3a_0242ac1c0002row4_col4\" class=\"data row4 col4\" >73.600000</td>\n",
              "                        <td id=\"T_24497d2a_49f4_11ec_8d3a_0242ac1c0002row4_col5\" class=\"data row4 col5\" >Central</td>\n",
              "                        <td id=\"T_24497d2a_49f4_11ec_8d3a_0242ac1c0002row4_col6\" class=\"data row4 col6\" >Commerce</td>\n",
              "                        <td id=\"T_24497d2a_49f4_11ec_8d3a_0242ac1c0002row4_col7\" class=\"data row4 col7\" >73.300000</td>\n",
              "                        <td id=\"T_24497d2a_49f4_11ec_8d3a_0242ac1c0002row4_col8\" class=\"data row4 col8\" >Comm&Mgmt</td>\n",
              "                        <td id=\"T_24497d2a_49f4_11ec_8d3a_0242ac1c0002row4_col9\" class=\"data row4 col9\" >No</td>\n",
              "                        <td id=\"T_24497d2a_49f4_11ec_8d3a_0242ac1c0002row4_col10\" class=\"data row4 col10\" >96.800000</td>\n",
              "                        <td id=\"T_24497d2a_49f4_11ec_8d3a_0242ac1c0002row4_col11\" class=\"data row4 col11\" >Mkt&Fin</td>\n",
              "                        <td id=\"T_24497d2a_49f4_11ec_8d3a_0242ac1c0002row4_col12\" class=\"data row4 col12\" >55.500000</td>\n",
              "                        <td id=\"T_24497d2a_49f4_11ec_8d3a_0242ac1c0002row4_col13\" class=\"data row4 col13\" >Placed</td>\n",
              "                        <td id=\"T_24497d2a_49f4_11ec_8d3a_0242ac1c0002row4_col14\" class=\"data row4 col14\" >425000.000000</td>\n",
              "            </tr>\n",
              "            <tr>\n",
              "                        <th id=\"T_24497d2a_49f4_11ec_8d3a_0242ac1c0002level0_row5\" class=\"row_heading level0 row5\" >5</th>\n",
              "                        <td id=\"T_24497d2a_49f4_11ec_8d3a_0242ac1c0002row5_col0\" class=\"data row5 col0\" >6</td>\n",
              "                        <td id=\"T_24497d2a_49f4_11ec_8d3a_0242ac1c0002row5_col1\" class=\"data row5 col1\" >M</td>\n",
              "                        <td id=\"T_24497d2a_49f4_11ec_8d3a_0242ac1c0002row5_col2\" class=\"data row5 col2\" >55.000000</td>\n",
              "                        <td id=\"T_24497d2a_49f4_11ec_8d3a_0242ac1c0002row5_col3\" class=\"data row5 col3\" >Others</td>\n",
              "                        <td id=\"T_24497d2a_49f4_11ec_8d3a_0242ac1c0002row5_col4\" class=\"data row5 col4\" >49.800000</td>\n",
              "                        <td id=\"T_24497d2a_49f4_11ec_8d3a_0242ac1c0002row5_col5\" class=\"data row5 col5\" >Others</td>\n",
              "                        <td id=\"T_24497d2a_49f4_11ec_8d3a_0242ac1c0002row5_col6\" class=\"data row5 col6\" >Science</td>\n",
              "                        <td id=\"T_24497d2a_49f4_11ec_8d3a_0242ac1c0002row5_col7\" class=\"data row5 col7\" >67.250000</td>\n",
              "                        <td id=\"T_24497d2a_49f4_11ec_8d3a_0242ac1c0002row5_col8\" class=\"data row5 col8\" >Sci&Tech</td>\n",
              "                        <td id=\"T_24497d2a_49f4_11ec_8d3a_0242ac1c0002row5_col9\" class=\"data row5 col9\" >Yes</td>\n",
              "                        <td id=\"T_24497d2a_49f4_11ec_8d3a_0242ac1c0002row5_col10\" class=\"data row5 col10\" >55.000000</td>\n",
              "                        <td id=\"T_24497d2a_49f4_11ec_8d3a_0242ac1c0002row5_col11\" class=\"data row5 col11\" >Mkt&Fin</td>\n",
              "                        <td id=\"T_24497d2a_49f4_11ec_8d3a_0242ac1c0002row5_col12\" class=\"data row5 col12\" >51.580000</td>\n",
              "                        <td id=\"T_24497d2a_49f4_11ec_8d3a_0242ac1c0002row5_col13\" class=\"data row5 col13\" >Not Placed</td>\n",
              "                        <td id=\"T_24497d2a_49f4_11ec_8d3a_0242ac1c0002row5_col14\" class=\"data row5 col14\" >nan</td>\n",
              "            </tr>\n",
              "            <tr>\n",
              "                        <th id=\"T_24497d2a_49f4_11ec_8d3a_0242ac1c0002level0_row6\" class=\"row_heading level0 row6\" >6</th>\n",
              "                        <td id=\"T_24497d2a_49f4_11ec_8d3a_0242ac1c0002row6_col0\" class=\"data row6 col0\" >7</td>\n",
              "                        <td id=\"T_24497d2a_49f4_11ec_8d3a_0242ac1c0002row6_col1\" class=\"data row6 col1\" >F</td>\n",
              "                        <td id=\"T_24497d2a_49f4_11ec_8d3a_0242ac1c0002row6_col2\" class=\"data row6 col2\" >46.000000</td>\n",
              "                        <td id=\"T_24497d2a_49f4_11ec_8d3a_0242ac1c0002row6_col3\" class=\"data row6 col3\" >Others</td>\n",
              "                        <td id=\"T_24497d2a_49f4_11ec_8d3a_0242ac1c0002row6_col4\" class=\"data row6 col4\" >49.200000</td>\n",
              "                        <td id=\"T_24497d2a_49f4_11ec_8d3a_0242ac1c0002row6_col5\" class=\"data row6 col5\" >Others</td>\n",
              "                        <td id=\"T_24497d2a_49f4_11ec_8d3a_0242ac1c0002row6_col6\" class=\"data row6 col6\" >Commerce</td>\n",
              "                        <td id=\"T_24497d2a_49f4_11ec_8d3a_0242ac1c0002row6_col7\" class=\"data row6 col7\" >79.000000</td>\n",
              "                        <td id=\"T_24497d2a_49f4_11ec_8d3a_0242ac1c0002row6_col8\" class=\"data row6 col8\" >Comm&Mgmt</td>\n",
              "                        <td id=\"T_24497d2a_49f4_11ec_8d3a_0242ac1c0002row6_col9\" class=\"data row6 col9\" >No</td>\n",
              "                        <td id=\"T_24497d2a_49f4_11ec_8d3a_0242ac1c0002row6_col10\" class=\"data row6 col10\" >74.280000</td>\n",
              "                        <td id=\"T_24497d2a_49f4_11ec_8d3a_0242ac1c0002row6_col11\" class=\"data row6 col11\" >Mkt&Fin</td>\n",
              "                        <td id=\"T_24497d2a_49f4_11ec_8d3a_0242ac1c0002row6_col12\" class=\"data row6 col12\" >53.290000</td>\n",
              "                        <td id=\"T_24497d2a_49f4_11ec_8d3a_0242ac1c0002row6_col13\" class=\"data row6 col13\" >Not Placed</td>\n",
              "                        <td id=\"T_24497d2a_49f4_11ec_8d3a_0242ac1c0002row6_col14\" class=\"data row6 col14\" >nan</td>\n",
              "            </tr>\n",
              "            <tr>\n",
              "                        <th id=\"T_24497d2a_49f4_11ec_8d3a_0242ac1c0002level0_row7\" class=\"row_heading level0 row7\" >7</th>\n",
              "                        <td id=\"T_24497d2a_49f4_11ec_8d3a_0242ac1c0002row7_col0\" class=\"data row7 col0\" >8</td>\n",
              "                        <td id=\"T_24497d2a_49f4_11ec_8d3a_0242ac1c0002row7_col1\" class=\"data row7 col1\" >M</td>\n",
              "                        <td id=\"T_24497d2a_49f4_11ec_8d3a_0242ac1c0002row7_col2\" class=\"data row7 col2\" >82.000000</td>\n",
              "                        <td id=\"T_24497d2a_49f4_11ec_8d3a_0242ac1c0002row7_col3\" class=\"data row7 col3\" >Central</td>\n",
              "                        <td id=\"T_24497d2a_49f4_11ec_8d3a_0242ac1c0002row7_col4\" class=\"data row7 col4\" >64.000000</td>\n",
              "                        <td id=\"T_24497d2a_49f4_11ec_8d3a_0242ac1c0002row7_col5\" class=\"data row7 col5\" >Central</td>\n",
              "                        <td id=\"T_24497d2a_49f4_11ec_8d3a_0242ac1c0002row7_col6\" class=\"data row7 col6\" >Science</td>\n",
              "                        <td id=\"T_24497d2a_49f4_11ec_8d3a_0242ac1c0002row7_col7\" class=\"data row7 col7\" >66.000000</td>\n",
              "                        <td id=\"T_24497d2a_49f4_11ec_8d3a_0242ac1c0002row7_col8\" class=\"data row7 col8\" >Sci&Tech</td>\n",
              "                        <td id=\"T_24497d2a_49f4_11ec_8d3a_0242ac1c0002row7_col9\" class=\"data row7 col9\" >Yes</td>\n",
              "                        <td id=\"T_24497d2a_49f4_11ec_8d3a_0242ac1c0002row7_col10\" class=\"data row7 col10\" >67.000000</td>\n",
              "                        <td id=\"T_24497d2a_49f4_11ec_8d3a_0242ac1c0002row7_col11\" class=\"data row7 col11\" >Mkt&Fin</td>\n",
              "                        <td id=\"T_24497d2a_49f4_11ec_8d3a_0242ac1c0002row7_col12\" class=\"data row7 col12\" >62.140000</td>\n",
              "                        <td id=\"T_24497d2a_49f4_11ec_8d3a_0242ac1c0002row7_col13\" class=\"data row7 col13\" >Placed</td>\n",
              "                        <td id=\"T_24497d2a_49f4_11ec_8d3a_0242ac1c0002row7_col14\" class=\"data row7 col14\" >252000.000000</td>\n",
              "            </tr>\n",
              "            <tr>\n",
              "                        <th id=\"T_24497d2a_49f4_11ec_8d3a_0242ac1c0002level0_row8\" class=\"row_heading level0 row8\" >8</th>\n",
              "                        <td id=\"T_24497d2a_49f4_11ec_8d3a_0242ac1c0002row8_col0\" class=\"data row8 col0\" >9</td>\n",
              "                        <td id=\"T_24497d2a_49f4_11ec_8d3a_0242ac1c0002row8_col1\" class=\"data row8 col1\" >M</td>\n",
              "                        <td id=\"T_24497d2a_49f4_11ec_8d3a_0242ac1c0002row8_col2\" class=\"data row8 col2\" >73.000000</td>\n",
              "                        <td id=\"T_24497d2a_49f4_11ec_8d3a_0242ac1c0002row8_col3\" class=\"data row8 col3\" >Central</td>\n",
              "                        <td id=\"T_24497d2a_49f4_11ec_8d3a_0242ac1c0002row8_col4\" class=\"data row8 col4\" >79.000000</td>\n",
              "                        <td id=\"T_24497d2a_49f4_11ec_8d3a_0242ac1c0002row8_col5\" class=\"data row8 col5\" >Central</td>\n",
              "                        <td id=\"T_24497d2a_49f4_11ec_8d3a_0242ac1c0002row8_col6\" class=\"data row8 col6\" >Commerce</td>\n",
              "                        <td id=\"T_24497d2a_49f4_11ec_8d3a_0242ac1c0002row8_col7\" class=\"data row8 col7\" >72.000000</td>\n",
              "                        <td id=\"T_24497d2a_49f4_11ec_8d3a_0242ac1c0002row8_col8\" class=\"data row8 col8\" >Comm&Mgmt</td>\n",
              "                        <td id=\"T_24497d2a_49f4_11ec_8d3a_0242ac1c0002row8_col9\" class=\"data row8 col9\" >No</td>\n",
              "                        <td id=\"T_24497d2a_49f4_11ec_8d3a_0242ac1c0002row8_col10\" class=\"data row8 col10\" >91.340000</td>\n",
              "                        <td id=\"T_24497d2a_49f4_11ec_8d3a_0242ac1c0002row8_col11\" class=\"data row8 col11\" >Mkt&Fin</td>\n",
              "                        <td id=\"T_24497d2a_49f4_11ec_8d3a_0242ac1c0002row8_col12\" class=\"data row8 col12\" >61.290000</td>\n",
              "                        <td id=\"T_24497d2a_49f4_11ec_8d3a_0242ac1c0002row8_col13\" class=\"data row8 col13\" >Placed</td>\n",
              "                        <td id=\"T_24497d2a_49f4_11ec_8d3a_0242ac1c0002row8_col14\" class=\"data row8 col14\" >231000.000000</td>\n",
              "            </tr>\n",
              "            <tr>\n",
              "                        <th id=\"T_24497d2a_49f4_11ec_8d3a_0242ac1c0002level0_row9\" class=\"row_heading level0 row9\" >9</th>\n",
              "                        <td id=\"T_24497d2a_49f4_11ec_8d3a_0242ac1c0002row9_col0\" class=\"data row9 col0\" >10</td>\n",
              "                        <td id=\"T_24497d2a_49f4_11ec_8d3a_0242ac1c0002row9_col1\" class=\"data row9 col1\" >M</td>\n",
              "                        <td id=\"T_24497d2a_49f4_11ec_8d3a_0242ac1c0002row9_col2\" class=\"data row9 col2\" >58.000000</td>\n",
              "                        <td id=\"T_24497d2a_49f4_11ec_8d3a_0242ac1c0002row9_col3\" class=\"data row9 col3\" >Central</td>\n",
              "                        <td id=\"T_24497d2a_49f4_11ec_8d3a_0242ac1c0002row9_col4\" class=\"data row9 col4\" >70.000000</td>\n",
              "                        <td id=\"T_24497d2a_49f4_11ec_8d3a_0242ac1c0002row9_col5\" class=\"data row9 col5\" >Central</td>\n",
              "                        <td id=\"T_24497d2a_49f4_11ec_8d3a_0242ac1c0002row9_col6\" class=\"data row9 col6\" >Commerce</td>\n",
              "                        <td id=\"T_24497d2a_49f4_11ec_8d3a_0242ac1c0002row9_col7\" class=\"data row9 col7\" >61.000000</td>\n",
              "                        <td id=\"T_24497d2a_49f4_11ec_8d3a_0242ac1c0002row9_col8\" class=\"data row9 col8\" >Comm&Mgmt</td>\n",
              "                        <td id=\"T_24497d2a_49f4_11ec_8d3a_0242ac1c0002row9_col9\" class=\"data row9 col9\" >No</td>\n",
              "                        <td id=\"T_24497d2a_49f4_11ec_8d3a_0242ac1c0002row9_col10\" class=\"data row9 col10\" >54.000000</td>\n",
              "                        <td id=\"T_24497d2a_49f4_11ec_8d3a_0242ac1c0002row9_col11\" class=\"data row9 col11\" >Mkt&Fin</td>\n",
              "                        <td id=\"T_24497d2a_49f4_11ec_8d3a_0242ac1c0002row9_col12\" class=\"data row9 col12\" >52.210000</td>\n",
              "                        <td id=\"T_24497d2a_49f4_11ec_8d3a_0242ac1c0002row9_col13\" class=\"data row9 col13\" >Not Placed</td>\n",
              "                        <td id=\"T_24497d2a_49f4_11ec_8d3a_0242ac1c0002row9_col14\" class=\"data row9 col14\" >nan</td>\n",
              "            </tr>\n",
              "    </tbody></table>"
            ],
            "text/plain": [
              "<pandas.io.formats.style.Styler at 0x7f1baef58f50>"
            ]
          },
          "metadata": {},
          "execution_count": 6
        }
      ]
    },
    {
      "cell_type": "markdown",
      "metadata": {
        "id": "xPY5g9xvFIRm"
      },
      "source": [
        "With the background_gradient function, we could color the data frame as a gradient. The color would depend on the cmap parameter where the parameter is accepting colormaps from the matplotlib library."
      ]
    },
    {
      "cell_type": "markdown",
      "metadata": {
        "id": "VNq_-5ZpFLYQ"
      },
      "source": [
        "We could also use a bar chart as our gradient background color. Let me show it in the example below."
      ]
    },
    {
      "cell_type": "code",
      "metadata": {
        "id": "26cjWZbcFM0g"
      },
      "source": [
        "#Sort the values by the year column then creating a bar chart as the background\n",
        "data.head(10).sort_values(by = 'ssc_p').style.bar(color= 'lightblue')"
      ],
      "execution_count": null,
      "outputs": []
    },
    {
      "cell_type": "markdown",
      "metadata": {
        "id": "YQbNM_hTFn3w"
      },
      "source": [
        "As we could see above, we now highlight the number from the lowest to the highest number in a different way than the background_gradient function is. We could also see the index is not in order because of the sort function; it is better to hide the index as I told you in the passage above."
      ]
    },
    {
      "cell_type": "markdown",
      "metadata": {
        "id": "uVpNfRuKFs2f"
      },
      "source": [
        "## **Custom Function**[5]"
      ]
    },
    {
      "cell_type": "markdown",
      "metadata": {
        "id": "m5nq64w1FzEX"
      },
      "source": [
        "If you prefer to have a more specific requirement to style your data frame, you could actually do it. We could pass our style functions into one of the following methods:\n",
        "- Styler.applymap: element-wise\n",
        "- Styler.apply: column-/row-/table-wise\n",
        "Both of those methods take a function (and some other keyword arguments) and apply our function to the DataFrame in a certain way. Let’s say that I have a threshold that any number below 20 should be colored red. We could do that by using the following code."
      ]
    },
    {
      "cell_type": "code",
      "metadata": {
        "id": "QCRGUN2RF62-"
      },
      "source": [
        "#Create the function to color the numerical value into red color\n",
        "def color_below_20_red(value):\n",
        "    if type(value) == type(''):\n",
        "        return 'color:black'\n",
        "    else:\n",
        "        color = 'red' if value <= 20 else 'black'\n",
        "        return 'color: {}'.format(color)\n",
        "#We apply the function to all the element in the data frame by using the applymap function\n",
        "data.head(10).style.applymap(color_below_20_red)"
      ],
      "execution_count": null,
      "outputs": []
    },
    {
      "cell_type": "markdown",
      "metadata": {
        "id": "Y7r4GCZ_r578"
      },
      "source": [
        "# **Preprocessing**"
      ]
    },
    {
      "cell_type": "markdown",
      "metadata": {
        "id": "JL1FYrIa5kv8"
      },
      "source": [
        "**Check Missing Value**\n"
      ]
    },
    {
      "cell_type": "code",
      "metadata": {
        "id": "_6sqt75_5o9y",
        "colab": {
          "base_uri": "https://localhost:8080/",
          "height": 173
        },
        "outputId": "adb37177-1664-4f26-9fff-d92b518fe139"
      },
      "source": [
        "total = data.isnull().sum().sort_values(ascending=False)\n",
        "percent = (data.isnull().sum()/data.isnull().count()).sort_values(ascending=False)\n",
        "missing = pd.concat([total, percent], axis=1, keys=['Total', 'Percent'])\n",
        "missing.head(4)"
      ],
      "execution_count": null,
      "outputs": [
        {
          "output_type": "execute_result",
          "data": {
            "text/html": [
              "<div>\n",
              "<style scoped>\n",
              "    .dataframe tbody tr th:only-of-type {\n",
              "        vertical-align: middle;\n",
              "    }\n",
              "\n",
              "    .dataframe tbody tr th {\n",
              "        vertical-align: top;\n",
              "    }\n",
              "\n",
              "    .dataframe thead th {\n",
              "        text-align: right;\n",
              "    }\n",
              "</style>\n",
              "<table border=\"1\" class=\"dataframe\">\n",
              "  <thead>\n",
              "    <tr style=\"text-align: right;\">\n",
              "      <th></th>\n",
              "      <th>Total</th>\n",
              "      <th>Percent</th>\n",
              "    </tr>\n",
              "  </thead>\n",
              "  <tbody>\n",
              "    <tr>\n",
              "      <th>salary</th>\n",
              "      <td>67</td>\n",
              "      <td>0.311628</td>\n",
              "    </tr>\n",
              "    <tr>\n",
              "      <th>status</th>\n",
              "      <td>0</td>\n",
              "      <td>0.000000</td>\n",
              "    </tr>\n",
              "    <tr>\n",
              "      <th>mba_p</th>\n",
              "      <td>0</td>\n",
              "      <td>0.000000</td>\n",
              "    </tr>\n",
              "    <tr>\n",
              "      <th>specialisation</th>\n",
              "      <td>0</td>\n",
              "      <td>0.000000</td>\n",
              "    </tr>\n",
              "  </tbody>\n",
              "</table>\n",
              "</div>"
            ],
            "text/plain": [
              "                Total   Percent\n",
              "salary             67  0.311628\n",
              "status              0  0.000000\n",
              "mba_p               0  0.000000\n",
              "specialisation      0  0.000000"
            ]
          },
          "metadata": {},
          "execution_count": 45
        }
      ]
    },
    {
      "cell_type": "code",
      "metadata": {
        "colab": {
          "base_uri": "https://localhost:8080/"
        },
        "id": "Y_DhzYPtFlrL",
        "outputId": "cb307d6a-bf21-4e2f-a9b9-43e1c970977d"
      },
      "source": [
        "missing_v = [col for col in data.columns if (data[col].isnull().sum()/data.shape[0]) * 100 > 0.001]\n",
        "print(len(missing_v))\n",
        "for cols in missing_v:\n",
        "    del data[cols]"
      ],
      "execution_count": null,
      "outputs": [
        {
          "output_type": "stream",
          "name": "stdout",
          "text": [
            "1\n"
          ]
        }
      ]
    },
    {
      "cell_type": "code",
      "metadata": {
        "id": "21xYr0iDF-wc",
        "colab": {
          "base_uri": "https://localhost:8080/"
        },
        "outputId": "69f4bfda-bbe0-4f3c-f2f8-3677ee48ef18"
      },
      "source": [
        "np.sum(data.isnull().any(axis=1))"
      ],
      "execution_count": null,
      "outputs": [
        {
          "output_type": "execute_result",
          "data": {
            "text/plain": [
              "0"
            ]
          },
          "metadata": {},
          "execution_count": 47
        }
      ]
    },
    {
      "cell_type": "markdown",
      "metadata": {
        "id": "tnvVuWKg6vj1"
      },
      "source": [
        "**Hot Encoding**"
      ]
    },
    {
      "cell_type": "code",
      "metadata": {
        "colab": {
          "base_uri": "https://localhost:8080/"
        },
        "id": "2Fa0DkFL6yEq",
        "outputId": "69bf552f-3e76-4e04-cad0-e824f2317915"
      },
      "source": [
        "data.select_dtypes(include=['object']).columns"
      ],
      "execution_count": null,
      "outputs": [
        {
          "output_type": "execute_result",
          "data": {
            "text/plain": [
              "Index(['gender', 'ssc_b', 'hsc_b', 'hsc_s', 'degree_t', 'workex',\n",
              "       'specialisation', 'status'],\n",
              "      dtype='object')"
            ]
          },
          "metadata": {},
          "execution_count": 48
        }
      ]
    },
    {
      "cell_type": "code",
      "metadata": {
        "id": "7g24nkqr7Qx8"
      },
      "source": [
        "data['gender'] = data['gender'].fillna(data['gender'].mode()[0])\n",
        "data['ssc_b'] = data['ssc_b'].fillna(data['ssc_b'].mode()[0])\n",
        "data['hsc_b'] = data['hsc_b'].fillna(data['hsc_b'].mode()[0])\n",
        "data['hsc_s'] = data['hsc_s'].fillna(data['hsc_s'].mode()[0])\n",
        "data['degree_t'] = data['degree_t'].fillna(data['degree_t'].mode()[0])\n",
        "data['workex'] = data['workex'].fillna(data['workex'].mode()[0])\n",
        "data['specialisation'] = data['specialisation'].fillna(data['specialisation'].mode()[0])\n",
        "data['status'] = data['status'].fillna(data['status'].mode()[0])\n"
      ],
      "execution_count": null,
      "outputs": []
    },
    {
      "cell_type": "code",
      "metadata": {
        "id": "fLaZar8T-YkY"
      },
      "source": [
        "from sklearn.preprocessing import LabelEncoder\n",
        "lencoders = {}\n",
        "for col in data.select_dtypes(include=['object']).columns:\n",
        "    lencoders[col] = LabelEncoder()\n",
        "    data[col] = lencoders[col].fit_transform(data[col])"
      ],
      "execution_count": null,
      "outputs": []
    },
    {
      "cell_type": "code",
      "metadata": {
        "id": "w5GR2wIi-k--"
      },
      "source": [
        "data"
      ],
      "execution_count": null,
      "outputs": []
    },
    {
      "cell_type": "markdown",
      "metadata": {
        "id": "1X3_s7X8_hEc"
      },
      "source": [
        "**Feature Scaling**"
      ]
    },
    {
      "cell_type": "code",
      "metadata": {
        "id": "iQgnWr7Q_jey"
      },
      "source": [
        "# Standardizing data\n",
        "from sklearn import preprocessing\n",
        "r_scaler = preprocessing.MinMaxScaler()\n",
        "r_scaler.fit(data)\n",
        "data = pd.DataFrame(r_scaler.transform(data), index=data.index, columns=data.columns)"
      ],
      "execution_count": null,
      "outputs": []
    },
    {
      "cell_type": "markdown",
      "metadata": {
        "id": "2m6tWQEIAQfb"
      },
      "source": [
        "**Data spliting**\n"
      ]
    },
    {
      "cell_type": "code",
      "metadata": {
        "id": "j9t6Ik9SAUPX"
      },
      "source": [
        "X=data.drop('specialisation',axis=1)\n"
      ],
      "execution_count": null,
      "outputs": []
    },
    {
      "cell_type": "code",
      "metadata": {
        "id": "f52X64tDAYXY"
      },
      "source": [
        "y=data[['specialisation']]\n"
      ],
      "execution_count": null,
      "outputs": []
    },
    {
      "cell_type": "code",
      "metadata": {
        "id": "5-S8fYFyApQB"
      },
      "source": [
        "X_train, X_test, y_train, y_test = train_test_split(X, y, test_size=0.30, random_state=100)\n"
      ],
      "execution_count": null,
      "outputs": []
    },
    {
      "cell_type": "markdown",
      "metadata": {
        "id": "FjkTmt_o3QvP"
      },
      "source": [
        "#**Automatic Data Ploting**"
      ]
    },
    {
      "cell_type": "markdown",
      "metadata": {
        "id": "7sC_bFu6NNVK"
      },
      "source": [
        "## **Dtale**"
      ]
    },
    {
      "cell_type": "code",
      "metadata": {
        "id": "aLwIuW0x2htu"
      },
      "source": [
        "!pip install dtale"
      ],
      "execution_count": null,
      "outputs": []
    },
    {
      "cell_type": "code",
      "metadata": {
        "colab": {
          "base_uri": "https://localhost:8080/"
        },
        "id": "Tnfxwn-V3EKO",
        "outputId": "b547eb8b-926d-4926-ceeb-cf7f0e70c4ae"
      },
      "source": [
        "import dtale\n",
        "import pandas as pd\n",
        "df = pd.read_csv(\"/content/drive/MyDrive/Datasets/Recommended System/Placement_Data_Full_Class.csv\")\n",
        "d = dtale.show(df, ignore_duplicate=True)\n",
        "d"
      ],
      "execution_count": null,
      "outputs": [
        {
          "output_type": "execute_result",
          "data": {
            "text/plain": [
              "http://4ce9203885b8:40000/dtale/main/1"
            ]
          },
          "metadata": {
            "tags": []
          },
          "execution_count": 18
        }
      ]
    },
    {
      "cell_type": "markdown",
      "metadata": {
        "id": "lGdUk6uW15rP"
      },
      "source": [
        "## **Chartify** [4]"
      ]
    },
    {
      "cell_type": "markdown",
      "metadata": {
        "id": "giDmQBKx2GOj"
      },
      "source": [
        "Chartify is a visualization library that aims to make it as easy as possible for data scientists to create charts. It comes with user-friendly syntax and consistent data formatting compared to other tools. It takes less time to create beautiful and quick charts. This was developed by Spotify labs.\n",
        "Here, I am showing only the bar chart. For more details and charts, please check this documentation and notebook"
      ]
    },
    {
      "cell_type": "code",
      "metadata": {
        "id": "a02kU8q42KII"
      },
      "source": [
        "!pip install chartify\n"
      ],
      "execution_count": null,
      "outputs": []
    },
    {
      "cell_type": "code",
      "metadata": {
        "id": "u699hd9f2RNg",
        "colab": {
          "base_uri": "https://localhost:8080/",
          "height": 204
        },
        "outputId": "272bbc6e-3b30-44c5-dcd0-2255614e0800"
      },
      "source": [
        "# importing necessary library\n",
        "import numpy as np\n",
        "import pandas as pd\n",
        "import chartify\n",
        "#loading example dataset from chartify\n",
        "data = chartify.examples.example_data()\n",
        "data.head()"
      ],
      "execution_count": null,
      "outputs": [
        {
          "output_type": "execute_result",
          "data": {
            "text/html": [
              "<div>\n",
              "<style scoped>\n",
              "    .dataframe tbody tr th:only-of-type {\n",
              "        vertical-align: middle;\n",
              "    }\n",
              "\n",
              "    .dataframe tbody tr th {\n",
              "        vertical-align: top;\n",
              "    }\n",
              "\n",
              "    .dataframe thead th {\n",
              "        text-align: right;\n",
              "    }\n",
              "</style>\n",
              "<table border=\"1\" class=\"dataframe\">\n",
              "  <thead>\n",
              "    <tr style=\"text-align: right;\">\n",
              "      <th></th>\n",
              "      <th>date</th>\n",
              "      <th>country</th>\n",
              "      <th>fruit</th>\n",
              "      <th>unit_price</th>\n",
              "      <th>quantity</th>\n",
              "      <th>total_price</th>\n",
              "    </tr>\n",
              "  </thead>\n",
              "  <tbody>\n",
              "    <tr>\n",
              "      <th>0</th>\n",
              "      <td>2017-10-21</td>\n",
              "      <td>US</td>\n",
              "      <td>Banana</td>\n",
              "      <td>0.303711</td>\n",
              "      <td>4</td>\n",
              "      <td>1.214846</td>\n",
              "    </tr>\n",
              "    <tr>\n",
              "      <th>1</th>\n",
              "      <td>2017-05-30</td>\n",
              "      <td>JP</td>\n",
              "      <td>Banana</td>\n",
              "      <td>0.254109</td>\n",
              "      <td>4</td>\n",
              "      <td>1.016436</td>\n",
              "    </tr>\n",
              "    <tr>\n",
              "      <th>2</th>\n",
              "      <td>2017-05-21</td>\n",
              "      <td>CA</td>\n",
              "      <td>Banana</td>\n",
              "      <td>0.268635</td>\n",
              "      <td>4</td>\n",
              "      <td>1.074539</td>\n",
              "    </tr>\n",
              "    <tr>\n",
              "      <th>3</th>\n",
              "      <td>2017-09-18</td>\n",
              "      <td>BR</td>\n",
              "      <td>Grape</td>\n",
              "      <td>2.215277</td>\n",
              "      <td>2</td>\n",
              "      <td>4.430554</td>\n",
              "    </tr>\n",
              "    <tr>\n",
              "      <th>4</th>\n",
              "      <td>2017-12-08</td>\n",
              "      <td>US</td>\n",
              "      <td>Banana</td>\n",
              "      <td>0.308337</td>\n",
              "      <td>5</td>\n",
              "      <td>1.541687</td>\n",
              "    </tr>\n",
              "  </tbody>\n",
              "</table>\n",
              "</div>"
            ],
            "text/plain": [
              "        date country   fruit  unit_price  quantity  total_price\n",
              "0 2017-10-21      US  Banana    0.303711         4     1.214846\n",
              "1 2017-05-30      JP  Banana    0.254109         4     1.016436\n",
              "2 2017-05-21      CA  Banana    0.268635         4     1.074539\n",
              "3 2017-09-18      BR   Grape    2.215277         2     4.430554\n",
              "4 2017-12-08      US  Banana    0.308337         5     1.541687"
            ]
          },
          "metadata": {},
          "execution_count": 18
        }
      ]
    },
    {
      "cell_type": "code",
      "metadata": {
        "id": "w9Hs5RKw2gz0"
      },
      "source": [
        "# Calculating total quanity for each fruits\n",
        "quantity_by_fruit = (data.groupby(‘fruit’)[‘quantity’].sum().reset_index())\n",
        "ch = chartify.Chart(blank_labels=True, x_axis_type=’categorical’)\n",
        "ch.set_title(“Vertical bar plot”)\n",
        "ch.set_subtitle(“Automatically sorts by value counts.”)\n",
        "ch.plot.bar(\n",
        " data_frame=quantity_by_fruit,\n",
        " categorical_columns=’fruit’,\n",
        " numeric_column=’quantity’)\n",
        "ch.show()"
      ],
      "execution_count": null,
      "outputs": []
    },
    {
      "cell_type": "markdown",
      "metadata": {
        "id": "tUJeO3hsNfvX"
      },
      "source": [
        "## **Lux**"
      ]
    },
    {
      "cell_type": "code",
      "metadata": {
        "id": "9vggj6kLN3Y0"
      },
      "source": [
        "!pip install lux-api\n"
      ],
      "execution_count": null,
      "outputs": []
    },
    {
      "cell_type": "code",
      "metadata": {
        "id": "ubsSefJVPWRH"
      },
      "source": [
        "!pip install git+https://github.com/lux-org/lux.git\n"
      ],
      "execution_count": null,
      "outputs": []
    },
    {
      "cell_type": "code",
      "metadata": {
        "id": "ZsygDch0OLcP"
      },
      "source": [
        "import pandas as pd\n",
        "import lux"
      ],
      "execution_count": null,
      "outputs": []
    },
    {
      "cell_type": "code",
      "metadata": {
        "id": "QQg6omxvORTS"
      },
      "source": [
        "df = pd.read_csv(\"https://github.com/lux-org/lux-datasets/blob/master/data/hpi_full.csv?raw=True\")"
      ],
      "execution_count": null,
      "outputs": []
    },
    {
      "cell_type": "code",
      "metadata": {
        "colab": {
          "base_uri": "https://localhost:8080/",
          "height": 743,
          "referenced_widgets": [
            "fab38a3ff0ff4f8b86a1c8182c2d0df3",
            "332d7af1e7ba4606ab6dbdc10b907339",
            "00691caee89f40f5873ea16790330b7d",
            "35bd1d0f8391450b983eae9c333e639a",
            "a6712d8fb3674913b013bd9486f6f0ad",
            "fb707fb8f53d43b5a9821cc19ab5e8de"
          ]
        },
        "id": "Zfs3x64nOaZk",
        "outputId": "974a2031-767d-4d7a-a0ce-a7c5cbff6591"
      },
      "source": [
        "df"
      ],
      "execution_count": null,
      "outputs": [
        {
          "output_type": "display_data",
          "data": {
            "application/vnd.jupyter.widget-view+json": {
              "model_id": "fab38a3ff0ff4f8b86a1c8182c2d0df3",
              "version_minor": 0,
              "version_major": 2
            },
            "text/plain": [
              "Button(description='Toggle Pandas/Lux', layout=Layout(top='5px', width='140px'), style=ButtonStyle())"
            ]
          },
          "metadata": {}
        },
        {
          "output_type": "display_data",
          "data": {
            "application/vnd.jupyter.widget-view+json": {
              "model_id": "35bd1d0f8391450b983eae9c333e639a",
              "version_minor": 0,
              "version_major": 2
            },
            "text/plain": [
              "Output()"
            ]
          },
          "metadata": {}
        }
      ]
    },
    {
      "cell_type": "code",
      "metadata": {
        "id": "prFSWvptO0AJ"
      },
      "source": [
        "df.intent = [\"Inequality\",\"AvrgLifeExpectancy\"]"
      ],
      "execution_count": null,
      "outputs": []
    },
    {
      "cell_type": "code",
      "metadata": {
        "id": "e3xW_3WiO1-Q"
      },
      "source": [
        "df"
      ],
      "execution_count": null,
      "outputs": []
    },
    {
      "cell_type": "markdown",
      "metadata": {
        "id": "nyQlJ0oF1m0A"
      },
      "source": [
        "## **Pandas Profiling**"
      ]
    },
    {
      "cell_type": "markdown",
      "metadata": {
        "id": "z5kn2WaDHWvt"
      },
      "source": [
        "This should be no surprise to those of you who’ve been following me. The benefits of this tool are obvious. The animation below is the results of calling the simple method df.profile_report(), take a look at the resulting report yourself[6]"
      ]
    },
    {
      "cell_type": "markdown",
      "metadata": {
        "id": "31h4REkQHeAm"
      },
      "source": [
        "Using this tool is simple a matter of installing and importing the Pandas Profiling package.\n",
        "I wont spend too much time on this one since I’ve already written a small article on the subject, so if you want to know more about this gem of a package, then please read my article about Pandas Profiling here:"
      ]
    },
    {
      "cell_type": "code",
      "metadata": {
        "id": "SAhKmZjJ10Qx"
      },
      "source": [
        "!pip install pandas-profiling"
      ],
      "execution_count": null,
      "outputs": []
    },
    {
      "cell_type": "code",
      "metadata": {
        "id": "uUTS3kzn18Zo"
      },
      "source": [
        "import pandas as pd\n",
        "import pandas_profiling\n",
        "import numpy as np"
      ],
      "execution_count": null,
      "outputs": []
    },
    {
      "cell_type": "code",
      "metadata": {
        "id": "7-IQ-nXh2CRx"
      },
      "source": [
        "pandas_profiling.ProfileReport(data)"
      ],
      "execution_count": null,
      "outputs": []
    },
    {
      "cell_type": "markdown",
      "metadata": {
        "id": "iapf0tK6MV8I"
      },
      "source": [
        "## **Sweetviz**"
      ]
    },
    {
      "cell_type": "markdown",
      "metadata": {
        "id": "IGZL6SQfLu4p"
      },
      "source": [
        "Sweetviz is an open-source python library that generates beautiful, high-density visualizations to start your EDA. Let us explore Sweetviz and its functionalities in detail. The version which we will be exploring is V 2.0.6 which is released on 06/02/2021.[7]"
      ]
    },
    {
      "cell_type": "code",
      "metadata": {
        "id": "JShsU_Cx3j8Q"
      },
      "source": [
        "!pip install sweetviz"
      ],
      "execution_count": null,
      "outputs": []
    },
    {
      "cell_type": "code",
      "metadata": {
        "id": "teKO1mOX3tc-"
      },
      "source": [
        "import sweetviz\n",
        "import pandas as pd\n",
        "import sweetviz as sv\n",
        "my_report  = sweetviz.analyze([data,'Train'], target_feat='specialisation')\n",
        "my_report.show_html('FinalReport.html')"
      ],
      "execution_count": null,
      "outputs": []
    },
    {
      "cell_type": "markdown",
      "metadata": {
        "id": "GRtP575MNHno"
      },
      "source": [
        "**Create Analysis Report**"
      ]
    },
    {
      "cell_type": "markdown",
      "metadata": {
        "id": "-sLcKD9KNKJ3"
      },
      "source": [
        "Let’s start by creating an analysis report which will be helpful in performing Data analysis and creates an interactive HTML report of data with visualization.[7]"
      ]
    },
    {
      "cell_type": "code",
      "metadata": {
        "id": "rQSlHh2pNhKY"
      },
      "source": [
        "import sweetviz as sv\n"
      ],
      "execution_count": null,
      "outputs": []
    },
    {
      "cell_type": "code",
      "metadata": {
        "id": "clxKoowPNQnu"
      },
      "source": [
        "analyze_report = sv.analyze(X_train)\n",
        "analyze_report.show_html()"
      ],
      "execution_count": null,
      "outputs": []
    },
    {
      "cell_type": "markdown",
      "metadata": {
        "id": "EciviMWOOVBx"
      },
      "source": [
        "This is the main page of the report, Here on the right side you can see associations as highlighted which shows the corelation of the features. Similarly we can highlight different feature columns in order to analyze them, let me show you one example of analyzing a column.[6]"
      ]
    },
    {
      "cell_type": "markdown",
      "metadata": {
        "id": "JfKbCUozOZ8G"
      },
      "source": [
        "So, here in this image you can clearly see how you can select a particular column to analyze it in depth with visualization.\n",
        "Next we will see how we can create comparison reports. Sweetviz allows you to create Inter comapison and intra comparison(based on a particular column)."
      ]
    },
    {
      "cell_type": "markdown",
      "metadata": {
        "id": "MyosQksTObjN"
      },
      "source": [
        "**Train and Test Data Compaison[7]**"
      ]
    },
    {
      "cell_type": "markdown",
      "metadata": {
        "id": "s_UGNcVdOg5t"
      },
      "source": [
        "We can create a comparison report where we can analyze the similarities and differences between the test and the training data."
      ]
    },
    {
      "cell_type": "code",
      "metadata": {
        "colab": {
          "base_uri": "https://localhost:8080/",
          "height": 439
        },
        "id": "YekbdXokO8lE",
        "outputId": "ebf1a2c1-6d1c-4744-cc01-1b6a61e7d68d"
      },
      "source": [
        "data"
      ],
      "execution_count": null,
      "outputs": [
        {
          "output_type": "execute_result",
          "data": {
            "text/html": [
              "<div>\n",
              "<style scoped>\n",
              "    .dataframe tbody tr th:only-of-type {\n",
              "        vertical-align: middle;\n",
              "    }\n",
              "\n",
              "    .dataframe tbody tr th {\n",
              "        vertical-align: top;\n",
              "    }\n",
              "\n",
              "    .dataframe thead th {\n",
              "        text-align: right;\n",
              "    }\n",
              "</style>\n",
              "<table border=\"1\" class=\"dataframe\">\n",
              "  <thead>\n",
              "    <tr style=\"text-align: right;\">\n",
              "      <th></th>\n",
              "      <th>sl_no</th>\n",
              "      <th>gender</th>\n",
              "      <th>ssc_p</th>\n",
              "      <th>ssc_b</th>\n",
              "      <th>hsc_p</th>\n",
              "      <th>hsc_b</th>\n",
              "      <th>hsc_s</th>\n",
              "      <th>degree_p</th>\n",
              "      <th>degree_t</th>\n",
              "      <th>workex</th>\n",
              "      <th>etest_p</th>\n",
              "      <th>specialisation</th>\n",
              "      <th>mba_p</th>\n",
              "      <th>status</th>\n",
              "    </tr>\n",
              "  </thead>\n",
              "  <tbody>\n",
              "    <tr>\n",
              "      <th>0</th>\n",
              "      <td>0.000000</td>\n",
              "      <td>1.0</td>\n",
              "      <td>0.538240</td>\n",
              "      <td>1.0</td>\n",
              "      <td>0.889621</td>\n",
              "      <td>1.0</td>\n",
              "      <td>0.5</td>\n",
              "      <td>0.195122</td>\n",
              "      <td>1.0</td>\n",
              "      <td>0.0</td>\n",
              "      <td>0.104167</td>\n",
              "      <td>1.0</td>\n",
              "      <td>0.284483</td>\n",
              "      <td>1.0</td>\n",
              "    </tr>\n",
              "    <tr>\n",
              "      <th>1</th>\n",
              "      <td>0.004673</td>\n",
              "      <td>1.0</td>\n",
              "      <td>0.792414</td>\n",
              "      <td>0.0</td>\n",
              "      <td>0.680890</td>\n",
              "      <td>1.0</td>\n",
              "      <td>1.0</td>\n",
              "      <td>0.670244</td>\n",
              "      <td>1.0</td>\n",
              "      <td>1.0</td>\n",
              "      <td>0.760417</td>\n",
              "      <td>0.0</td>\n",
              "      <td>0.564843</td>\n",
              "      <td>1.0</td>\n",
              "    </tr>\n",
              "    <tr>\n",
              "      <th>2</th>\n",
              "      <td>0.009346</td>\n",
              "      <td>1.0</td>\n",
              "      <td>0.497011</td>\n",
              "      <td>0.0</td>\n",
              "      <td>0.510708</td>\n",
              "      <td>0.0</td>\n",
              "      <td>0.0</td>\n",
              "      <td>0.341463</td>\n",
              "      <td>0.0</td>\n",
              "      <td>0.0</td>\n",
              "      <td>0.520833</td>\n",
              "      <td>0.0</td>\n",
              "      <td>0.247001</td>\n",
              "      <td>1.0</td>\n",
              "    </tr>\n",
              "    <tr>\n",
              "      <th>3</th>\n",
              "      <td>0.014019</td>\n",
              "      <td>1.0</td>\n",
              "      <td>0.311482</td>\n",
              "      <td>0.0</td>\n",
              "      <td>0.247117</td>\n",
              "      <td>0.0</td>\n",
              "      <td>1.0</td>\n",
              "      <td>0.048780</td>\n",
              "      <td>1.0</td>\n",
              "      <td>0.0</td>\n",
              "      <td>0.333333</td>\n",
              "      <td>1.0</td>\n",
              "      <td>0.308096</td>\n",
              "      <td>0.0</td>\n",
              "    </tr>\n",
              "    <tr>\n",
              "      <th>4</th>\n",
              "      <td>0.018692</td>\n",
              "      <td>1.0</td>\n",
              "      <td>0.925788</td>\n",
              "      <td>0.0</td>\n",
              "      <td>0.602965</td>\n",
              "      <td>0.0</td>\n",
              "      <td>0.5</td>\n",
              "      <td>0.568293</td>\n",
              "      <td>0.0</td>\n",
              "      <td>0.0</td>\n",
              "      <td>0.975000</td>\n",
              "      <td>0.0</td>\n",
              "      <td>0.160795</td>\n",
              "      <td>1.0</td>\n",
              "    </tr>\n",
              "    <tr>\n",
              "      <th>...</th>\n",
              "      <td>...</td>\n",
              "      <td>...</td>\n",
              "      <td>...</td>\n",
              "      <td>...</td>\n",
              "      <td>...</td>\n",
              "      <td>...</td>\n",
              "      <td>...</td>\n",
              "      <td>...</td>\n",
              "      <td>...</td>\n",
              "      <td>...</td>\n",
              "      <td>...</td>\n",
              "      <td>...</td>\n",
              "      <td>...</td>\n",
              "      <td>...</td>\n",
              "    </tr>\n",
              "    <tr>\n",
              "      <th>210</th>\n",
              "      <td>0.981308</td>\n",
              "      <td>1.0</td>\n",
              "      <td>0.818594</td>\n",
              "      <td>1.0</td>\n",
              "      <td>0.741351</td>\n",
              "      <td>1.0</td>\n",
              "      <td>0.5</td>\n",
              "      <td>0.673171</td>\n",
              "      <td>0.0</td>\n",
              "      <td>0.0</td>\n",
              "      <td>0.854167</td>\n",
              "      <td>0.0</td>\n",
              "      <td>0.872564</td>\n",
              "      <td>1.0</td>\n",
              "    </tr>\n",
              "    <tr>\n",
              "      <th>211</th>\n",
              "      <td>0.985981</td>\n",
              "      <td>1.0</td>\n",
              "      <td>0.352711</td>\n",
              "      <td>1.0</td>\n",
              "      <td>0.378913</td>\n",
              "      <td>1.0</td>\n",
              "      <td>1.0</td>\n",
              "      <td>0.536585</td>\n",
              "      <td>1.0</td>\n",
              "      <td>0.0</td>\n",
              "      <td>0.500000</td>\n",
              "      <td>0.0</td>\n",
              "      <td>0.090330</td>\n",
              "      <td>1.0</td>\n",
              "    </tr>\n",
              "    <tr>\n",
              "      <th>212</th>\n",
              "      <td>0.990654</td>\n",
              "      <td>1.0</td>\n",
              "      <td>0.538240</td>\n",
              "      <td>1.0</td>\n",
              "      <td>0.494234</td>\n",
              "      <td>1.0</td>\n",
              "      <td>0.5</td>\n",
              "      <td>0.560976</td>\n",
              "      <td>0.0</td>\n",
              "      <td>1.0</td>\n",
              "      <td>0.187500</td>\n",
              "      <td>0.0</td>\n",
              "      <td>0.693778</td>\n",
              "      <td>1.0</td>\n",
              "    </tr>\n",
              "    <tr>\n",
              "      <th>213</th>\n",
              "      <td>0.995327</td>\n",
              "      <td>0.0</td>\n",
              "      <td>0.682540</td>\n",
              "      <td>1.0</td>\n",
              "      <td>0.477759</td>\n",
              "      <td>1.0</td>\n",
              "      <td>0.5</td>\n",
              "      <td>0.195122</td>\n",
              "      <td>0.0</td>\n",
              "      <td>0.0</td>\n",
              "      <td>0.416667</td>\n",
              "      <td>1.0</td>\n",
              "      <td>0.338081</td>\n",
              "      <td>1.0</td>\n",
              "    </tr>\n",
              "    <tr>\n",
              "      <th>214</th>\n",
              "      <td>1.000000</td>\n",
              "      <td>1.0</td>\n",
              "      <td>0.435168</td>\n",
              "      <td>0.0</td>\n",
              "      <td>0.345964</td>\n",
              "      <td>1.0</td>\n",
              "      <td>1.0</td>\n",
              "      <td>0.073171</td>\n",
              "      <td>0.0</td>\n",
              "      <td>0.0</td>\n",
              "      <td>0.812500</td>\n",
              "      <td>1.0</td>\n",
              "      <td>0.337706</td>\n",
              "      <td>0.0</td>\n",
              "    </tr>\n",
              "  </tbody>\n",
              "</table>\n",
              "<p>215 rows × 14 columns</p>\n",
              "</div>"
            ],
            "text/plain": [
              "        sl_no  gender     ssc_p  ...  specialisation     mba_p  status\n",
              "0    0.000000     1.0  0.538240  ...             1.0  0.284483     1.0\n",
              "1    0.004673     1.0  0.792414  ...             0.0  0.564843     1.0\n",
              "2    0.009346     1.0  0.497011  ...             0.0  0.247001     1.0\n",
              "3    0.014019     1.0  0.311482  ...             1.0  0.308096     0.0\n",
              "4    0.018692     1.0  0.925788  ...             0.0  0.160795     1.0\n",
              "..        ...     ...       ...  ...             ...       ...     ...\n",
              "210  0.981308     1.0  0.818594  ...             0.0  0.872564     1.0\n",
              "211  0.985981     1.0  0.352711  ...             0.0  0.090330     1.0\n",
              "212  0.990654     1.0  0.538240  ...             0.0  0.693778     1.0\n",
              "213  0.995327     0.0  0.682540  ...             1.0  0.338081     1.0\n",
              "214  1.000000     1.0  0.435168  ...             1.0  0.337706     0.0\n",
              "\n",
              "[215 rows x 14 columns]"
            ]
          },
          "metadata": {},
          "execution_count": 60
        }
      ]
    },
    {
      "cell_type": "code",
      "metadata": {
        "colab": {
          "base_uri": "https://localhost:8080/",
          "height": 373,
          "referenced_widgets": [
            "ae131c2bfc6f456ab5f238b8395bcf19",
            "dcdfcef8528b47018b0d80ebc65c4974",
            "524a1483e24444749f2ea1ce3142628a",
            "bd224a67b3404b87b89f22378802f624",
            "4d7fc101198e4393a262f64b964e2c0f",
            "f0523f186f56458bb3f275bf6a5acefd",
            "aed47707f32f44c2b530db00d7caf2b6",
            "3d0c3cb46bb1483985820f4a79a63a0a",
            "571318fe094440efa0bfd55532d02b09",
            "0d6a77469ed847c9b7d76b674e58cd4b",
            "1b171bf41132490cbb677bdfb97cef50"
          ]
        },
        "id": "p_edCB4NOqK9",
        "outputId": "6513ef81-5e2f-46c3-bff9-5a37bb0a4d98"
      },
      "source": [
        "compare = sv.compare([X_train, \"Training Data\"], [X_test, \"Test Data\"], \"target\")\n",
        "compare.show_html()"
      ],
      "execution_count": null,
      "outputs": [
        {
          "output_type": "display_data",
          "data": {
            "application/vnd.jupyter.widget-view+json": {
              "model_id": "ae131c2bfc6f456ab5f238b8395bcf19",
              "version_minor": 0,
              "version_major": 2
            },
            "text/plain": [
              "                                             |          | [  0%]   00:00 -> (? left)"
            ]
          },
          "metadata": {}
        },
        {
          "output_type": "error",
          "ename": "KeyError",
          "evalue": "ignored",
          "traceback": [
            "\u001b[0;31m---------------------------------------------------------------------------\u001b[0m",
            "\u001b[0;31mKeyError\u001b[0m                                  Traceback (most recent call last)",
            "\u001b[0;32m<ipython-input-63-a2f79e5cc002>\u001b[0m in \u001b[0;36m<module>\u001b[0;34m()\u001b[0m\n\u001b[0;32m----> 1\u001b[0;31m \u001b[0mcompare\u001b[0m \u001b[0;34m=\u001b[0m \u001b[0msv\u001b[0m\u001b[0;34m.\u001b[0m\u001b[0mcompare\u001b[0m\u001b[0;34m(\u001b[0m\u001b[0;34m[\u001b[0m\u001b[0mX_train\u001b[0m\u001b[0;34m,\u001b[0m \u001b[0;34m\"Training Data\"\u001b[0m\u001b[0;34m]\u001b[0m\u001b[0;34m,\u001b[0m \u001b[0;34m[\u001b[0m\u001b[0mX_test\u001b[0m\u001b[0;34m,\u001b[0m \u001b[0;34m\"Test Data\"\u001b[0m\u001b[0;34m]\u001b[0m\u001b[0;34m,\u001b[0m \u001b[0;34m\"target\"\u001b[0m\u001b[0;34m)\u001b[0m\u001b[0;34m\u001b[0m\u001b[0;34m\u001b[0m\u001b[0m\n\u001b[0m\u001b[1;32m      2\u001b[0m \u001b[0mcompare\u001b[0m\u001b[0;34m.\u001b[0m\u001b[0mshow_html\u001b[0m\u001b[0;34m(\u001b[0m\u001b[0;34m)\u001b[0m\u001b[0;34m\u001b[0m\u001b[0;34m\u001b[0m\u001b[0m\n",
            "\u001b[0;32m/usr/local/lib/python3.7/dist-packages/sweetviz/sv_public.py\u001b[0m in \u001b[0;36mcompare\u001b[0;34m(source, compare, target_feat, feat_cfg, pairwise_analysis)\u001b[0m\n\u001b[1;32m     21\u001b[0m             pairwise_analysis: str = 'auto'):\n\u001b[1;32m     22\u001b[0m     report = sweetviz.DataframeReport(source, target_feat, compare,\n\u001b[0;32m---> 23\u001b[0;31m                                       pairwise_analysis, feat_cfg)\n\u001b[0m\u001b[1;32m     24\u001b[0m     \u001b[0;32mreturn\u001b[0m \u001b[0mreport\u001b[0m\u001b[0;34m\u001b[0m\u001b[0;34m\u001b[0m\u001b[0m\n\u001b[1;32m     25\u001b[0m \u001b[0;34m\u001b[0m\u001b[0m\n",
            "\u001b[0;32m/usr/local/lib/python3.7/dist-packages/sweetviz/dataframe_report.py\u001b[0m in \u001b[0;36m__init__\u001b[0;34m(self, source, target_feature_name, compare, pairwise_analysis, fc)\u001b[0m\n\u001b[1;32m    171\u001b[0m             \u001b[0;32mif\u001b[0m \u001b[0mlen\u001b[0m\u001b[0;34m(\u001b[0m\u001b[0mtargets_found\u001b[0m\u001b[0;34m)\u001b[0m \u001b[0;34m==\u001b[0m \u001b[0;36m0\u001b[0m\u001b[0;34m:\u001b[0m\u001b[0;34m\u001b[0m\u001b[0;34m\u001b[0m\u001b[0m\n\u001b[1;32m    172\u001b[0m                 \u001b[0mself\u001b[0m\u001b[0;34m.\u001b[0m\u001b[0mprogress_bar\u001b[0m\u001b[0;34m.\u001b[0m\u001b[0mclose\u001b[0m\u001b[0;34m(\u001b[0m\u001b[0;34m)\u001b[0m\u001b[0;34m\u001b[0m\u001b[0;34m\u001b[0m\u001b[0m\n\u001b[0;32m--> 173\u001b[0;31m                 raise KeyError(f\"Feature '{target_feature_name}' was \"\n\u001b[0m\u001b[1;32m    174\u001b[0m                                \u001b[0;34mf\"specified as TARGET, but is NOT FOUND in \"\u001b[0m\u001b[0;34m\u001b[0m\u001b[0;34m\u001b[0m\u001b[0m\n\u001b[1;32m    175\u001b[0m                                f\"the dataframe (watch case-sensitivity?).\")\n",
            "\u001b[0;31mKeyError\u001b[0m: \"Feature 'target' was specified as TARGET, but is NOT FOUND in the dataframe (watch case-sensitivity?).\""
          ]
        }
      ]
    },
    {
      "cell_type": "markdown",
      "metadata": {
        "id": "ILX_1atPNwpw"
      },
      "source": [
        "## **Autoviz**"
      ]
    },
    {
      "cell_type": "markdown",
      "metadata": {
        "id": "9i0NMm8q4v7_"
      },
      "source": [
        "**Autoviz**\n",
        "\n",
        "It stands for Automatically Visualize. Visualization is possible with any size of the dataset with a few lines of code."
      ]
    },
    {
      "cell_type": "code",
      "metadata": {
        "id": "Y12-00F84Lj3"
      },
      "source": [
        "!pip install autoviz"
      ],
      "execution_count": null,
      "outputs": []
    },
    {
      "cell_type": "code",
      "metadata": {
        "id": "JW_PXBYQ4UN-"
      },
      "source": [
        "from autoviz.AutoViz_Class import AutoViz_Class\n",
        "AV = AutoViz_Class()\n",
        "df = AV.AutoViz('/content/drive/MyDrive/Datasets/Recommended System/Placement_Data_Full_Class.csv')"
      ],
      "execution_count": null,
      "outputs": []
    },
    {
      "cell_type": "markdown",
      "metadata": {
        "id": "AjOni5tVIGkO"
      },
      "source": [
        "## **Cufflinks & Plotly**[6]"
      ]
    },
    {
      "cell_type": "markdown",
      "metadata": {
        "id": "RzobnDdHIWL1"
      },
      "source": [
        "Most of us who’re quote-unquote “experienced” Data Scientist or Data Analysts, will be quite familiar with the integration between matplotlib and pandas. Namely the fact that you can make quick plots of a simple pd.DataFrame or pd.Series by simply calling the .plot() method:"
      ]
    },
    {
      "cell_type": "code",
      "metadata": {
        "id": "wVbMQmSTJmLl"
      },
      "source": [
        "! pip install cufflinks --upgrade"
      ],
      "execution_count": null,
      "outputs": []
    },
    {
      "cell_type": "code",
      "metadata": {
        "id": "CpbtfKdIDD_P"
      },
      "source": [
        "!pip install -U ipykernel\n"
      ],
      "execution_count": null,
      "outputs": []
    },
    {
      "cell_type": "code",
      "metadata": {
        "id": "ZXKwwZ1bDKiW"
      },
      "source": [
        ""
      ],
      "execution_count": null,
      "outputs": []
    },
    {
      "cell_type": "code",
      "metadata": {
        "colab": {
          "base_uri": "https://localhost:8080/",
          "height": 17
        },
        "id": "ytfD7ZpPIPLv",
        "outputId": "f533cdd7-bc8a-4f26-bef7-95d0f0d2c39f"
      },
      "source": [
        "import matplotlib.pyplot as plt\n",
        "import pandas as pd\n",
        "import numpy as np\n",
        "import cufflinks as cp\n",
        "cp.go_offline()"
      ],
      "execution_count": null,
      "outputs": [
        {
          "output_type": "display_data",
          "data": {
            "text/html": [
              "        <script type=\"text/javascript\">\n",
              "        window.PlotlyConfig = {MathJaxConfig: 'local'};\n",
              "        if (window.MathJax) {MathJax.Hub.Config({SVG: {font: \"STIX-Web\"}});}\n",
              "        if (typeof require !== 'undefined') {\n",
              "        require.undef(\"plotly\");\n",
              "        requirejs.config({\n",
              "            paths: {\n",
              "                'plotly': ['https://cdn.plot.ly/plotly-latest.min']\n",
              "            }\n",
              "        });\n",
              "        require(['plotly'], function(Plotly) {\n",
              "            window._Plotly = Plotly;\n",
              "        });\n",
              "        }\n",
              "        </script>\n",
              "        "
            ]
          },
          "metadata": {}
        }
      ]
    },
    {
      "cell_type": "code",
      "metadata": {
        "id": "CeU73wXaI0-t"
      },
      "source": [
        "X.satter_matrix()"
      ],
      "execution_count": null,
      "outputs": []
    },
    {
      "cell_type": "markdown",
      "metadata": {
        "id": "272Si6RTJQx8"
      },
      "source": [
        "Now this is all fine and dandy, but how about an interactive, pan-able, zoom-able, scale-able plot instead? Cufflinks to the rescue! (courtesy of Plotly)\n",
        "To install Cufflinks in your environment simply run ! pip install cufflinks --upgrade in your favorite terminal and you’re ready to go. Take a look at the following:"
      ]
    },
    {
      "cell_type": "markdown",
      "metadata": {
        "id": "5CKqdX86iIBc"
      },
      "source": [
        "# **References**"
      ]
    },
    {
      "cell_type": "markdown",
      "metadata": {
        "id": "Znwp0bXbL-4d"
      },
      "source": [
        "[1- Top Python Libraries to Automate Exploratory Data Analysis in 2021](https://www.analyticsvidhya.com/blog/2021/04/top-python-libraries-to-automate-exploratory-data-analysis-in-2021/)\n",
        "\n",
        "[2-Exploratory Data Analysis With One-Line of Code](https://medium.com/geekculture/exploratory-data-analysis-with-one-line-of-code-f4a8e0a55f56)\n",
        "\n",
        "[3-Handy Data Visualization Functions in matplotlib & Seaborn to Speed Up Your EDA](https://betterprogramming.pub/handy-data-visualization-functions-in-matplotlib-seaborn-to-speed-up-your-eda-241ba0a9c47d)\n",
        "\n",
        "[4-Five Cool Python Libraries for Data Science](https://pub.towardsai.net/five-cool-python-libraries-for-data-science-7f1fce402b90)\n",
        "\n",
        "[5-My top 4 functions to style the Pandas Dataframe](https://towardsdatascience.com/my-top-4-functions-to-style-the-pandas-dataframe-932cdc79be39)\n",
        "\n",
        "[6-7 things to quickly improve your Data Analysis in Python](https://towardsdatascience.com/7-things-to-quickly-improve-your-data-analysis-in-python-3d434243da7)\n",
        "\n",
        "[7-Automating Exploratory Data Analysis- Part 1](https://medium.com/swlh/automating-exploratory-data-analysis-part-1-f5f2b7d548e5)]\n",
        "\n",
        "[Bamboolib: One of the Most Useful Python Libraries You Have Ever Seen](https://towardsdatascience.com/bamboolib-one-of-the-most-useful-python-libraries-you-have-ever-seen-6ce331685bb7)\n",
        "\n",
        "[The Quickest Guide to Data Visualization in Python using Matplotlib](https://medium.com/mlearning-ai/the-quickest-guide-to-data-visualization-in-python-using-matplotlib-a6a079b5de07)\n",
        "\n",
        "[The Simplest Way to Create Visualizations in Python Isn’t With matplotlib.](https://medium.com/analytics-vidhya/the-simplest-way-to-create-complex-visualizations-in-python-isnt-with-matplotlib-a5802f2dba92)\n",
        "\n",
        "[3 Python Tools You Need to Try](https://medium.com/trymito/3-python-tools-you-need-to-try-72c3380974db)\n",
        "\n",
        "\n",
        "\n",
        "\n"
      ]
    }
  ]
}