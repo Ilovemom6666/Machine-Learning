{
  "nbformat": 4,
  "nbformat_minor": 0,
  "metadata": {
    "colab": {
      "name": "Data Exploratory and Ploting.ipynb",
      "provenance": [],
      "toc_visible": true,
      "include_colab_link": true
    },
    "kernelspec": {
      "name": "python3",
      "display_name": "Python 3"
    },
    "language_info": {
      "name": "python"
    },
    "accelerator": "GPU",
    "widgets": {
      "application/vnd.jupyter.widget-state+json": {
        "ae131c2bfc6f456ab5f238b8395bcf19": {
          "model_module": "@jupyter-widgets/controls",
          "model_name": "HBoxModel",
          "model_module_version": "1.5.0",
          "state": {
            "_view_name": "HBoxView",
            "_dom_classes": [],
            "_model_name": "HBoxModel",
            "_view_module": "@jupyter-widgets/controls",
            "_model_module_version": "1.5.0",
            "_view_count": null,
            "_view_module_version": "1.5.0",
            "box_style": "",
            "layout": "IPY_MODEL_dcdfcef8528b47018b0d80ebc65c4974",
            "_model_module": "@jupyter-widgets/controls",
            "children": [
              "IPY_MODEL_524a1483e24444749f2ea1ce3142628a",
              "IPY_MODEL_bd224a67b3404b87b89f22378802f624",
              "IPY_MODEL_4d7fc101198e4393a262f64b964e2c0f"
            ]
          }
        },
        "dcdfcef8528b47018b0d80ebc65c4974": {
          "model_module": "@jupyter-widgets/base",
          "model_name": "LayoutModel",
          "model_module_version": "1.2.0",
          "state": {
            "_view_name": "LayoutView",
            "grid_template_rows": null,
            "right": null,
            "justify_content": null,
            "_view_module": "@jupyter-widgets/base",
            "overflow": null,
            "_model_module_version": "1.2.0",
            "_view_count": null,
            "flex_flow": "row wrap",
            "width": "100%",
            "min_width": null,
            "border": null,
            "align_items": null,
            "bottom": null,
            "_model_module": "@jupyter-widgets/base",
            "top": null,
            "grid_column": null,
            "overflow_y": null,
            "overflow_x": null,
            "grid_auto_flow": null,
            "grid_area": null,
            "grid_template_columns": null,
            "flex": null,
            "_model_name": "LayoutModel",
            "justify_items": null,
            "grid_row": null,
            "max_height": null,
            "align_content": null,
            "visibility": null,
            "align_self": null,
            "height": null,
            "min_height": null,
            "padding": null,
            "grid_auto_rows": null,
            "grid_gap": null,
            "max_width": null,
            "order": null,
            "_view_module_version": "1.2.0",
            "grid_template_areas": null,
            "object_position": null,
            "object_fit": null,
            "grid_auto_columns": null,
            "margin": null,
            "display": "inline-flex",
            "left": null
          }
        },
        "524a1483e24444749f2ea1ce3142628a": {
          "model_module": "@jupyter-widgets/controls",
          "model_name": "HTMLModel",
          "model_module_version": "1.5.0",
          "state": {
            "_view_name": "HTMLView",
            "style": "IPY_MODEL_f0523f186f56458bb3f275bf6a5acefd",
            "_dom_classes": [],
            "description": "",
            "_model_name": "HTMLModel",
            "placeholder": "​",
            "_view_module": "@jupyter-widgets/controls",
            "_model_module_version": "1.5.0",
            "value": "Feature: target (TARGET)                     ",
            "_view_count": null,
            "_view_module_version": "1.5.0",
            "description_tooltip": null,
            "_model_module": "@jupyter-widgets/controls",
            "layout": "IPY_MODEL_aed47707f32f44c2b530db00d7caf2b6"
          }
        },
        "bd224a67b3404b87b89f22378802f624": {
          "model_module": "@jupyter-widgets/controls",
          "model_name": "FloatProgressModel",
          "model_module_version": "1.5.0",
          "state": {
            "_view_name": "ProgressView",
            "style": "IPY_MODEL_3d0c3cb46bb1483985820f4a79a63a0a",
            "_dom_classes": [],
            "description": "",
            "_model_name": "FloatProgressModel",
            "bar_style": "danger",
            "max": 14,
            "_view_module": "@jupyter-widgets/controls",
            "_model_module_version": "1.5.0",
            "value": 1,
            "_view_count": null,
            "_view_module_version": "1.5.0",
            "orientation": "horizontal",
            "min": 0,
            "description_tooltip": null,
            "_model_module": "@jupyter-widgets/controls",
            "layout": "IPY_MODEL_571318fe094440efa0bfd55532d02b09"
          }
        },
        "4d7fc101198e4393a262f64b964e2c0f": {
          "model_module": "@jupyter-widgets/controls",
          "model_name": "HTMLModel",
          "model_module_version": "1.5.0",
          "state": {
            "_view_name": "HTMLView",
            "style": "IPY_MODEL_0d6a77469ed847c9b7d76b674e58cd4b",
            "_dom_classes": [],
            "description": "",
            "_model_name": "HTMLModel",
            "placeholder": "​",
            "_view_module": "@jupyter-widgets/controls",
            "_model_module_version": "1.5.0",
            "value": " [  7%]   00:00 -&gt; (00:01 left)",
            "_view_count": null,
            "_view_module_version": "1.5.0",
            "description_tooltip": null,
            "_model_module": "@jupyter-widgets/controls",
            "layout": "IPY_MODEL_1b171bf41132490cbb677bdfb97cef50"
          }
        },
        "f0523f186f56458bb3f275bf6a5acefd": {
          "model_module": "@jupyter-widgets/controls",
          "model_name": "DescriptionStyleModel",
          "model_module_version": "1.5.0",
          "state": {
            "_view_name": "StyleView",
            "_model_name": "DescriptionStyleModel",
            "description_width": "",
            "_view_module": "@jupyter-widgets/base",
            "_model_module_version": "1.5.0",
            "_view_count": null,
            "_view_module_version": "1.2.0",
            "_model_module": "@jupyter-widgets/controls"
          }
        },
        "aed47707f32f44c2b530db00d7caf2b6": {
          "model_module": "@jupyter-widgets/base",
          "model_name": "LayoutModel",
          "model_module_version": "1.2.0",
          "state": {
            "_view_name": "LayoutView",
            "grid_template_rows": null,
            "right": null,
            "justify_content": null,
            "_view_module": "@jupyter-widgets/base",
            "overflow": null,
            "_model_module_version": "1.2.0",
            "_view_count": null,
            "flex_flow": null,
            "width": null,
            "min_width": null,
            "border": null,
            "align_items": null,
            "bottom": null,
            "_model_module": "@jupyter-widgets/base",
            "top": null,
            "grid_column": null,
            "overflow_y": null,
            "overflow_x": null,
            "grid_auto_flow": null,
            "grid_area": null,
            "grid_template_columns": null,
            "flex": null,
            "_model_name": "LayoutModel",
            "justify_items": null,
            "grid_row": null,
            "max_height": null,
            "align_content": null,
            "visibility": null,
            "align_self": null,
            "height": null,
            "min_height": null,
            "padding": null,
            "grid_auto_rows": null,
            "grid_gap": null,
            "max_width": null,
            "order": null,
            "_view_module_version": "1.2.0",
            "grid_template_areas": null,
            "object_position": null,
            "object_fit": null,
            "grid_auto_columns": null,
            "margin": null,
            "display": null,
            "left": null
          }
        },
        "3d0c3cb46bb1483985820f4a79a63a0a": {
          "model_module": "@jupyter-widgets/controls",
          "model_name": "ProgressStyleModel",
          "model_module_version": "1.5.0",
          "state": {
            "_view_name": "StyleView",
            "_model_name": "ProgressStyleModel",
            "description_width": "",
            "_view_module": "@jupyter-widgets/base",
            "_model_module_version": "1.5.0",
            "_view_count": null,
            "_view_module_version": "1.2.0",
            "bar_color": null,
            "_model_module": "@jupyter-widgets/controls"
          }
        },
        "571318fe094440efa0bfd55532d02b09": {
          "model_module": "@jupyter-widgets/base",
          "model_name": "LayoutModel",
          "model_module_version": "1.2.0",
          "state": {
            "_view_name": "LayoutView",
            "grid_template_rows": null,
            "right": null,
            "justify_content": null,
            "_view_module": "@jupyter-widgets/base",
            "overflow": null,
            "_model_module_version": "1.2.0",
            "_view_count": null,
            "flex_flow": null,
            "width": null,
            "min_width": null,
            "border": null,
            "align_items": null,
            "bottom": null,
            "_model_module": "@jupyter-widgets/base",
            "top": null,
            "grid_column": null,
            "overflow_y": null,
            "overflow_x": null,
            "grid_auto_flow": null,
            "grid_area": null,
            "grid_template_columns": null,
            "flex": "2",
            "_model_name": "LayoutModel",
            "justify_items": null,
            "grid_row": null,
            "max_height": null,
            "align_content": null,
            "visibility": null,
            "align_self": null,
            "height": null,
            "min_height": null,
            "padding": null,
            "grid_auto_rows": null,
            "grid_gap": null,
            "max_width": null,
            "order": null,
            "_view_module_version": "1.2.0",
            "grid_template_areas": null,
            "object_position": null,
            "object_fit": null,
            "grid_auto_columns": null,
            "margin": null,
            "display": null,
            "left": null
          }
        },
        "0d6a77469ed847c9b7d76b674e58cd4b": {
          "model_module": "@jupyter-widgets/controls",
          "model_name": "DescriptionStyleModel",
          "model_module_version": "1.5.0",
          "state": {
            "_view_name": "StyleView",
            "_model_name": "DescriptionStyleModel",
            "description_width": "",
            "_view_module": "@jupyter-widgets/base",
            "_model_module_version": "1.5.0",
            "_view_count": null,
            "_view_module_version": "1.2.0",
            "_model_module": "@jupyter-widgets/controls"
          }
        },
        "1b171bf41132490cbb677bdfb97cef50": {
          "model_module": "@jupyter-widgets/base",
          "model_name": "LayoutModel",
          "model_module_version": "1.2.0",
          "state": {
            "_view_name": "LayoutView",
            "grid_template_rows": null,
            "right": null,
            "justify_content": null,
            "_view_module": "@jupyter-widgets/base",
            "overflow": null,
            "_model_module_version": "1.2.0",
            "_view_count": null,
            "flex_flow": null,
            "width": null,
            "min_width": null,
            "border": null,
            "align_items": null,
            "bottom": null,
            "_model_module": "@jupyter-widgets/base",
            "top": null,
            "grid_column": null,
            "overflow_y": null,
            "overflow_x": null,
            "grid_auto_flow": null,
            "grid_area": null,
            "grid_template_columns": null,
            "flex": null,
            "_model_name": "LayoutModel",
            "justify_items": null,
            "grid_row": null,
            "max_height": null,
            "align_content": null,
            "visibility": null,
            "align_self": null,
            "height": null,
            "min_height": null,
            "padding": null,
            "grid_auto_rows": null,
            "grid_gap": null,
            "max_width": null,
            "order": null,
            "_view_module_version": "1.2.0",
            "grid_template_areas": null,
            "object_position": null,
            "object_fit": null,
            "grid_auto_columns": null,
            "margin": null,
            "display": null,
            "left": null
          }
        }
      }
    }
  },
  "cells": [
    {
      "cell_type": "markdown",
      "metadata": {
        "id": "view-in-github",
        "colab_type": "text"
      },
      "source": [
        "<a href=\"https://colab.research.google.com/github/hussain0048/Machine-Learning/blob/master/Data_Exploratory_and_Ploting.ipynb\" target=\"_parent\"><img src=\"https://colab.research.google.com/assets/colab-badge.svg\" alt=\"Open In Colab\"/></a>"
      ]
    },
    {
      "cell_type": "markdown",
      "metadata": {
        "id": "9uDd2FjLK9XE"
      },
      "source": [
        "# **Table Content**\n",
        "<div class=\"alert alert-block alert-info\" style=\"margin-top: 20px\">\n",
        "    <ul>\n",
        "        <li><a href=\"https:\">Introduction</a></li>\n",
        "        <li><a href=\"#downloading_data\">Import libaray</a></li>\n",
        "        <li><a href=\"#pre-processing\">Data Loading</a></li>\n",
        "         <li><a href=\"#pre-processing\">Preprocessing</a></li>\n",
        "        <li><a href=\"#evaluation\">Data Exploring\n",
        "        <ul>\n",
        "        <li><a href=\"#evaluation\">Dtale</a></li>\n",
        "        <li><a href=\"#evaluation\">Lux</a></li>\n",
        "        <li><a href=\"#evaluation\">Pandas Profiling</a></li>\n",
        "         <li><a href=\"#evaluation\">Logistic Regression</a></li>\n",
        "         <li><a href=\"#evaluation\">KNN</a></li>\n",
        "         <li><a href=\"#evaluation\">Naive Bayes</a></li>\n",
        "         <li><a href=\"#evaluation\">Deep Neural Multilayer Perceptron (MLP)</a></li>\n",
        "         <li><a href=\"#evaluation\">Gradient Boosting</a></li>\n",
        "         <li><a href=\"#evaluation\">ExtraTreesClassifier</a></li>\n",
        "         <li><a href=\"#evaluation\">LGBM Classifer</a></li>\n",
        "         <li><a href=\"#evaluation\">CatBoost</a></li>\n",
        "    </ul>\n",
        "</div>\n",
        "<br>\n",
        "<hr>\n"
      ]
    },
    {
      "cell_type": "markdown",
      "metadata": {
        "id": "-dEH-aOwYdNx"
      },
      "source": [
        "# **Introduction**"
      ]
    },
    {
      "cell_type": "markdown",
      "metadata": {
        "id": "BiE4HQuXA1jb"
      },
      "source": [
        "# **Import libaray**"
      ]
    },
    {
      "cell_type": "code",
      "metadata": {
        "id": "CYcSX5ofA8Yz"
      },
      "source": [
        "import numpy as np\n",
        "import pandas as pd\n",
        "import seaborn as sns\n",
        "import matplotlib.pyplot as plt\n",
        "from prettytable import PrettyTable\n",
        "from sklearn.metrics import roc_curve, auc\n",
        "from mlxtend.plotting import plot_confusion_matrix\n",
        "from sklearn.model_selection import train_test_split\n",
        "from sklearn.metrics import classification_report, confusion_matrix\n",
        "from sklearn.tree import DecisionTreeClassifier\n",
        "from sklearn.ensemble import RandomForestClassifier\n",
        "from sklearn.svm import LinearSVC\n",
        "from sklearn.linear_model import LogisticRegression\n",
        "from sklearn.neighbors import KNeighborsClassifier\n",
        "import warnings\n",
        "warnings.filterwarnings(\"ignore\")"
      ],
      "execution_count": 13,
      "outputs": []
    },
    {
      "cell_type": "markdown",
      "metadata": {
        "id": "69-GFSEUYpQA"
      },
      "source": [
        "# **Dataset**"
      ]
    },
    {
      "cell_type": "markdown",
      "metadata": {
        "id": "ucwJyax-cZmZ"
      },
      "source": [
        "**Load data from google drive**"
      ]
    },
    {
      "cell_type": "code",
      "metadata": {
        "colab": {
          "base_uri": "https://localhost:8080/"
        },
        "id": "fYNNsGgxmxyQ",
        "outputId": "7248ed2d-0fe4-48fe-d32f-4e5aa9b09232"
      },
      "source": [
        "from google.colab import drive\n",
        "drive.mount('/content/drive')"
      ],
      "execution_count": null,
      "outputs": [
        {
          "output_type": "stream",
          "name": "stdout",
          "text": [
            "Mounted at /content/drive\n"
          ]
        }
      ]
    },
    {
      "cell_type": "code",
      "metadata": {
        "id": "bkoAdyxInLR4"
      },
      "source": [
        "import pandas as pd\n",
        "import numpy as np\n",
        "data = pd.read_csv(\"/content/drive/MyDrive/Datasets/Student field Recommendation /Placement_Data_Full_Class.csv\")"
      ],
      "execution_count": null,
      "outputs": []
    },
    {
      "cell_type": "markdown",
      "source": [
        "**Builten Iris dataset in scikit-learn**"
      ],
      "metadata": {
        "id": "Uk_xHWnyyfR6"
      }
    },
    {
      "cell_type": "code",
      "source": [
        "from sklearn import datasets\n",
        "import pandas as pd\n",
        "import numpy as np\n",
        "import matplotlib.pyplot as plt\n",
        "plt.style.use('ggplot')\n",
        "iris = datasets.load_iris()"
      ],
      "metadata": {
        "id": "_3SclwDryw0G"
      },
      "execution_count": 1,
      "outputs": []
    },
    {
      "cell_type": "code",
      "source": [
        "iris = datasets.load_iris()\n",
        "type(iris)"
      ],
      "metadata": {
        "colab": {
          "base_uri": "https://localhost:8080/"
        },
        "id": "z_DnSRayy67-",
        "outputId": "ca314806-daa3-41f9-be6b-d2b9669b3aa4"
      },
      "execution_count": 2,
      "outputs": [
        {
          "output_type": "execute_result",
          "data": {
            "text/plain": [
              "sklearn.utils._bunch.Bunch"
            ]
          },
          "metadata": {},
          "execution_count": 2
        }
      ]
    },
    {
      "cell_type": "code",
      "source": [
        "print(iris.keys())"
      ],
      "metadata": {
        "id": "A-9qgg94zKJe",
        "colab": {
          "base_uri": "https://localhost:8080/"
        },
        "outputId": "acf61fbf-7849-4b16-c761-161960b66e8d"
      },
      "execution_count": 3,
      "outputs": [
        {
          "output_type": "stream",
          "name": "stdout",
          "text": [
            "dict_keys(['data', 'target', 'frame', 'target_names', 'DESCR', 'feature_names', 'filename', 'data_module'])\n"
          ]
        }
      ]
    },
    {
      "cell_type": "code",
      "source": [
        "type(iris.data), type(iris.target)"
      ],
      "metadata": {
        "colab": {
          "base_uri": "https://localhost:8080/"
        },
        "id": "zlTclGdnzRtW",
        "outputId": "51a40f3f-28a5-4149-a8e0-fc2fe97e71b8"
      },
      "execution_count": null,
      "outputs": [
        {
          "output_type": "execute_result",
          "data": {
            "text/plain": [
              "(numpy.ndarray, numpy.ndarray)"
            ]
          },
          "metadata": {},
          "execution_count": 4
        }
      ]
    },
    {
      "cell_type": "code",
      "source": [
        "iris.data.shape"
      ],
      "metadata": {
        "colab": {
          "base_uri": "https://localhost:8080/"
        },
        "id": "lXwMgLcZzWrF",
        "outputId": "4188a6a8-bc67-49d8-bc10-d5f349f9aa29"
      },
      "execution_count": null,
      "outputs": [
        {
          "output_type": "execute_result",
          "data": {
            "text/plain": [
              "(150, 4)"
            ]
          },
          "metadata": {},
          "execution_count": 5
        }
      ]
    },
    {
      "cell_type": "code",
      "source": [
        "iris.target_names"
      ],
      "metadata": {
        "colab": {
          "base_uri": "https://localhost:8080/"
        },
        "id": "tR5rFe5Xzawd",
        "outputId": "2f692432-f111-44c2-db07-909cd5b9bd7f"
      },
      "execution_count": null,
      "outputs": [
        {
          "output_type": "execute_result",
          "data": {
            "text/plain": [
              "array(['setosa', 'versicolor', 'virginica'], dtype='<U10')"
            ]
          },
          "metadata": {},
          "execution_count": 6
        }
      ]
    },
    {
      "cell_type": "markdown",
      "metadata": {
        "id": "wX_F6ZgVOzFU"
      },
      "source": [
        "# **1- Exploratory data analysis (EDA)(Begineer Level)**"
      ]
    },
    {
      "cell_type": "code",
      "source": [
        "X = iris.data\n",
        "y = iris.target"
      ],
      "metadata": {
        "id": "Ibss7s_B1L_y"
      },
      "execution_count": 4,
      "outputs": []
    },
    {
      "cell_type": "code",
      "source": [
        "df = pd.DataFrame(X, columns=iris.feature_names)\n"
      ],
      "metadata": {
        "id": "QOgRERXv1O4I"
      },
      "execution_count": 5,
      "outputs": []
    },
    {
      "cell_type": "markdown",
      "source": [
        "## **1.1-Numerical EDA**"
      ],
      "metadata": {
        "id": "epXmom091y2H"
      }
    },
    {
      "cell_type": "code",
      "source": [
        "print(df.head())"
      ],
      "metadata": {
        "id": "S6iIMIi_1SCo"
      },
      "execution_count": null,
      "outputs": []
    },
    {
      "cell_type": "code",
      "metadata": {
        "id": "OE_f4-bToHWA",
        "colab": {
          "base_uri": "https://localhost:8080/",
          "height": 206
        },
        "outputId": "e10ec7ed-4d40-4b25-fbc9-c1840df1c4d8"
      },
      "source": [
        "df.head()"
      ],
      "execution_count": 14,
      "outputs": [
        {
          "output_type": "execute_result",
          "data": {
            "text/plain": [
              "   sepal length (cm)  sepal width (cm)  petal length (cm)  petal width (cm)\n",
              "0                5.1               3.5                1.4               0.2\n",
              "1                4.9               3.0                1.4               0.2\n",
              "2                4.7               3.2                1.3               0.2\n",
              "3                4.6               3.1                1.5               0.2\n",
              "4                5.0               3.6                1.4               0.2"
            ],
            "text/html": [
              "\n",
              "\n",
              "  <div id=\"df-1bca99ff-7690-4e2b-bf39-ac57c310600a\">\n",
              "    <div class=\"colab-df-container\">\n",
              "      <div>\n",
              "<style scoped>\n",
              "    .dataframe tbody tr th:only-of-type {\n",
              "        vertical-align: middle;\n",
              "    }\n",
              "\n",
              "    .dataframe tbody tr th {\n",
              "        vertical-align: top;\n",
              "    }\n",
              "\n",
              "    .dataframe thead th {\n",
              "        text-align: right;\n",
              "    }\n",
              "</style>\n",
              "<table border=\"1\" class=\"dataframe\">\n",
              "  <thead>\n",
              "    <tr style=\"text-align: right;\">\n",
              "      <th></th>\n",
              "      <th>sepal length (cm)</th>\n",
              "      <th>sepal width (cm)</th>\n",
              "      <th>petal length (cm)</th>\n",
              "      <th>petal width (cm)</th>\n",
              "    </tr>\n",
              "  </thead>\n",
              "  <tbody>\n",
              "    <tr>\n",
              "      <th>0</th>\n",
              "      <td>5.1</td>\n",
              "      <td>3.5</td>\n",
              "      <td>1.4</td>\n",
              "      <td>0.2</td>\n",
              "    </tr>\n",
              "    <tr>\n",
              "      <th>1</th>\n",
              "      <td>4.9</td>\n",
              "      <td>3.0</td>\n",
              "      <td>1.4</td>\n",
              "      <td>0.2</td>\n",
              "    </tr>\n",
              "    <tr>\n",
              "      <th>2</th>\n",
              "      <td>4.7</td>\n",
              "      <td>3.2</td>\n",
              "      <td>1.3</td>\n",
              "      <td>0.2</td>\n",
              "    </tr>\n",
              "    <tr>\n",
              "      <th>3</th>\n",
              "      <td>4.6</td>\n",
              "      <td>3.1</td>\n",
              "      <td>1.5</td>\n",
              "      <td>0.2</td>\n",
              "    </tr>\n",
              "    <tr>\n",
              "      <th>4</th>\n",
              "      <td>5.0</td>\n",
              "      <td>3.6</td>\n",
              "      <td>1.4</td>\n",
              "      <td>0.2</td>\n",
              "    </tr>\n",
              "  </tbody>\n",
              "</table>\n",
              "</div>\n",
              "      <button class=\"colab-df-convert\" onclick=\"convertToInteractive('df-1bca99ff-7690-4e2b-bf39-ac57c310600a')\"\n",
              "              title=\"Convert this dataframe to an interactive table.\"\n",
              "              style=\"display:none;\">\n",
              "\n",
              "  <svg xmlns=\"http://www.w3.org/2000/svg\" height=\"24px\"viewBox=\"0 0 24 24\"\n",
              "       width=\"24px\">\n",
              "    <path d=\"M0 0h24v24H0V0z\" fill=\"none\"/>\n",
              "    <path d=\"M18.56 5.44l.94 2.06.94-2.06 2.06-.94-2.06-.94-.94-2.06-.94 2.06-2.06.94zm-11 1L8.5 8.5l.94-2.06 2.06-.94-2.06-.94L8.5 2.5l-.94 2.06-2.06.94zm10 10l.94 2.06.94-2.06 2.06-.94-2.06-.94-.94-2.06-.94 2.06-2.06.94z\"/><path d=\"M17.41 7.96l-1.37-1.37c-.4-.4-.92-.59-1.43-.59-.52 0-1.04.2-1.43.59L10.3 9.45l-7.72 7.72c-.78.78-.78 2.05 0 2.83L4 21.41c.39.39.9.59 1.41.59.51 0 1.02-.2 1.41-.59l7.78-7.78 2.81-2.81c.8-.78.8-2.07 0-2.86zM5.41 20L4 18.59l7.72-7.72 1.47 1.35L5.41 20z\"/>\n",
              "  </svg>\n",
              "      </button>\n",
              "\n",
              "\n",
              "\n",
              "    <div id=\"df-76a1a7c4-c93b-4a39-bf10-33ca7681bca0\">\n",
              "      <button class=\"colab-df-quickchart\" onclick=\"quickchart('df-76a1a7c4-c93b-4a39-bf10-33ca7681bca0')\"\n",
              "              title=\"Suggest charts.\"\n",
              "              style=\"display:none;\">\n",
              "\n",
              "<svg xmlns=\"http://www.w3.org/2000/svg\" height=\"24px\"viewBox=\"0 0 24 24\"\n",
              "     width=\"24px\">\n",
              "    <g>\n",
              "        <path d=\"M19 3H5c-1.1 0-2 .9-2 2v14c0 1.1.9 2 2 2h14c1.1 0 2-.9 2-2V5c0-1.1-.9-2-2-2zM9 17H7v-7h2v7zm4 0h-2V7h2v10zm4 0h-2v-4h2v4z\"/>\n",
              "    </g>\n",
              "</svg>\n",
              "      </button>\n",
              "    </div>\n",
              "\n",
              "<style>\n",
              "  .colab-df-quickchart {\n",
              "    background-color: #E8F0FE;\n",
              "    border: none;\n",
              "    border-radius: 50%;\n",
              "    cursor: pointer;\n",
              "    display: none;\n",
              "    fill: #1967D2;\n",
              "    height: 32px;\n",
              "    padding: 0 0 0 0;\n",
              "    width: 32px;\n",
              "  }\n",
              "\n",
              "  .colab-df-quickchart:hover {\n",
              "    background-color: #E2EBFA;\n",
              "    box-shadow: 0px 1px 2px rgba(60, 64, 67, 0.3), 0px 1px 3px 1px rgba(60, 64, 67, 0.15);\n",
              "    fill: #174EA6;\n",
              "  }\n",
              "\n",
              "  [theme=dark] .colab-df-quickchart {\n",
              "    background-color: #3B4455;\n",
              "    fill: #D2E3FC;\n",
              "  }\n",
              "\n",
              "  [theme=dark] .colab-df-quickchart:hover {\n",
              "    background-color: #434B5C;\n",
              "    box-shadow: 0px 1px 3px 1px rgba(0, 0, 0, 0.15);\n",
              "    filter: drop-shadow(0px 1px 2px rgba(0, 0, 0, 0.3));\n",
              "    fill: #FFFFFF;\n",
              "  }\n",
              "</style>\n",
              "\n",
              "    <script>\n",
              "      async function quickchart(key) {\n",
              "        const containerElement = document.querySelector('#' + key);\n",
              "        const charts = await google.colab.kernel.invokeFunction(\n",
              "            'suggestCharts', [key], {});\n",
              "      }\n",
              "    </script>\n",
              "\n",
              "      <script>\n",
              "\n",
              "function displayQuickchartButton(domScope) {\n",
              "  let quickchartButtonEl =\n",
              "    domScope.querySelector('#df-76a1a7c4-c93b-4a39-bf10-33ca7681bca0 button.colab-df-quickchart');\n",
              "  quickchartButtonEl.style.display =\n",
              "    google.colab.kernel.accessAllowed ? 'block' : 'none';\n",
              "}\n",
              "\n",
              "        displayQuickchartButton(document);\n",
              "      </script>\n",
              "      <style>\n",
              "    .colab-df-container {\n",
              "      display:flex;\n",
              "      flex-wrap:wrap;\n",
              "      gap: 12px;\n",
              "    }\n",
              "\n",
              "    .colab-df-convert {\n",
              "      background-color: #E8F0FE;\n",
              "      border: none;\n",
              "      border-radius: 50%;\n",
              "      cursor: pointer;\n",
              "      display: none;\n",
              "      fill: #1967D2;\n",
              "      height: 32px;\n",
              "      padding: 0 0 0 0;\n",
              "      width: 32px;\n",
              "    }\n",
              "\n",
              "    .colab-df-convert:hover {\n",
              "      background-color: #E2EBFA;\n",
              "      box-shadow: 0px 1px 2px rgba(60, 64, 67, 0.3), 0px 1px 3px 1px rgba(60, 64, 67, 0.15);\n",
              "      fill: #174EA6;\n",
              "    }\n",
              "\n",
              "    [theme=dark] .colab-df-convert {\n",
              "      background-color: #3B4455;\n",
              "      fill: #D2E3FC;\n",
              "    }\n",
              "\n",
              "    [theme=dark] .colab-df-convert:hover {\n",
              "      background-color: #434B5C;\n",
              "      box-shadow: 0px 1px 3px 1px rgba(0, 0, 0, 0.15);\n",
              "      filter: drop-shadow(0px 1px 2px rgba(0, 0, 0, 0.3));\n",
              "      fill: #FFFFFF;\n",
              "    }\n",
              "  </style>\n",
              "\n",
              "      <script>\n",
              "        const buttonEl =\n",
              "          document.querySelector('#df-1bca99ff-7690-4e2b-bf39-ac57c310600a button.colab-df-convert');\n",
              "        buttonEl.style.display =\n",
              "          google.colab.kernel.accessAllowed ? 'block' : 'none';\n",
              "\n",
              "        async function convertToInteractive(key) {\n",
              "          const element = document.querySelector('#df-1bca99ff-7690-4e2b-bf39-ac57c310600a');\n",
              "          const dataTable =\n",
              "            await google.colab.kernel.invokeFunction('convertToInteractive',\n",
              "                                                     [key], {});\n",
              "          if (!dataTable) return;\n",
              "\n",
              "          const docLinkHtml = 'Like what you see? Visit the ' +\n",
              "            '<a target=\"_blank\" href=https://colab.research.google.com/notebooks/data_table.ipynb>data table notebook</a>'\n",
              "            + ' to learn more about interactive tables.';\n",
              "          element.innerHTML = '';\n",
              "          dataTable['output_type'] = 'display_data';\n",
              "          await google.colab.output.renderOutput(dataTable, element);\n",
              "          const docLink = document.createElement('div');\n",
              "          docLink.innerHTML = docLinkHtml;\n",
              "          element.appendChild(docLink);\n",
              "        }\n",
              "      </script>\n",
              "    </div>\n",
              "  </div>\n"
            ]
          },
          "metadata": {},
          "execution_count": 14
        }
      ]
    },
    {
      "cell_type": "code",
      "source": [
        "df.info()"
      ],
      "metadata": {
        "id": "QM0dZDVKbxAG"
      },
      "execution_count": null,
      "outputs": []
    },
    {
      "cell_type": "code",
      "source": [
        "df.describe(include='all')\n"
      ],
      "metadata": {
        "id": "Rl34SBBSb1_N"
      },
      "execution_count": null,
      "outputs": []
    },
    {
      "cell_type": "markdown",
      "source": [
        "## **1.2-Visual EDA**"
      ],
      "metadata": {
        "id": "pFqwAMLmbgnf"
      }
    },
    {
      "cell_type": "code",
      "source": [
        "\n",
        "plt.figure()\n",
        "sns.countplot(X='sepal length (cm)', y='Setosa', data=df, palette='RdBu')\n",
        "plt.xticks([0,1], ['Virginica', 'Setosa'])\n",
        "plt.show()"
      ],
      "metadata": {
        "id": "Dgl_6g4iceID"
      },
      "execution_count": null,
      "outputs": []
    },
    {
      "cell_type": "markdown",
      "metadata": {
        "id": "OugaKicqPKus"
      },
      "source": [
        "## **1.2-Hiding Function**[5]"
      ]
    },
    {
      "cell_type": "markdown",
      "metadata": {
        "id": "wd5sPyyBPSBG"
      },
      "source": [
        "Sometimes when you do analysis and presenting the result to the other, you only want to show the most important aspect. I know when I present my Data Frame to the non-technical person, the question is often about the Index in their default number such as “what is this number?”. For that reason, we could try to hide the index with the following code."
      ]
    },
    {
      "cell_type": "code",
      "metadata": {
        "colab": {
          "base_uri": "https://localhost:8080/",
          "height": 398
        },
        "id": "9X1lWJMdPVz1",
        "outputId": "c1555652-dade-49bf-ed51-6836dd069fd7"
      },
      "source": [
        "#Using hide_index() from the style function\n",
        "\n",
        "df.head(10).style.hide_index()"
      ],
      "execution_count": null,
      "outputs": [
        {
          "output_type": "stream",
          "name": "stderr",
          "text": [
            "<ipython-input-11-ae401fca442f>:3: FutureWarning: this method is deprecated in favour of `Styler.hide(axis=\"index\")`\n",
            "  df.head(10).style.hide_index()\n"
          ]
        },
        {
          "output_type": "execute_result",
          "data": {
            "text/plain": [
              "<pandas.io.formats.style.Styler at 0x7fd6d6eed7b0>"
            ],
            "text/html": [
              "<style type=\"text/css\">\n",
              "</style>\n",
              "<table id=\"T_3c235\" class=\"dataframe\">\n",
              "  <thead>\n",
              "    <tr>\n",
              "      <th id=\"T_3c235_level0_col0\" class=\"col_heading level0 col0\" >sepal length (cm)</th>\n",
              "      <th id=\"T_3c235_level0_col1\" class=\"col_heading level0 col1\" >sepal width (cm)</th>\n",
              "      <th id=\"T_3c235_level0_col2\" class=\"col_heading level0 col2\" >petal length (cm)</th>\n",
              "      <th id=\"T_3c235_level0_col3\" class=\"col_heading level0 col3\" >petal width (cm)</th>\n",
              "    </tr>\n",
              "  </thead>\n",
              "  <tbody>\n",
              "    <tr>\n",
              "      <td id=\"T_3c235_row0_col0\" class=\"data row0 col0\" >5.100000</td>\n",
              "      <td id=\"T_3c235_row0_col1\" class=\"data row0 col1\" >3.500000</td>\n",
              "      <td id=\"T_3c235_row0_col2\" class=\"data row0 col2\" >1.400000</td>\n",
              "      <td id=\"T_3c235_row0_col3\" class=\"data row0 col3\" >0.200000</td>\n",
              "    </tr>\n",
              "    <tr>\n",
              "      <td id=\"T_3c235_row1_col0\" class=\"data row1 col0\" >4.900000</td>\n",
              "      <td id=\"T_3c235_row1_col1\" class=\"data row1 col1\" >3.000000</td>\n",
              "      <td id=\"T_3c235_row1_col2\" class=\"data row1 col2\" >1.400000</td>\n",
              "      <td id=\"T_3c235_row1_col3\" class=\"data row1 col3\" >0.200000</td>\n",
              "    </tr>\n",
              "    <tr>\n",
              "      <td id=\"T_3c235_row2_col0\" class=\"data row2 col0\" >4.700000</td>\n",
              "      <td id=\"T_3c235_row2_col1\" class=\"data row2 col1\" >3.200000</td>\n",
              "      <td id=\"T_3c235_row2_col2\" class=\"data row2 col2\" >1.300000</td>\n",
              "      <td id=\"T_3c235_row2_col3\" class=\"data row2 col3\" >0.200000</td>\n",
              "    </tr>\n",
              "    <tr>\n",
              "      <td id=\"T_3c235_row3_col0\" class=\"data row3 col0\" >4.600000</td>\n",
              "      <td id=\"T_3c235_row3_col1\" class=\"data row3 col1\" >3.100000</td>\n",
              "      <td id=\"T_3c235_row3_col2\" class=\"data row3 col2\" >1.500000</td>\n",
              "      <td id=\"T_3c235_row3_col3\" class=\"data row3 col3\" >0.200000</td>\n",
              "    </tr>\n",
              "    <tr>\n",
              "      <td id=\"T_3c235_row4_col0\" class=\"data row4 col0\" >5.000000</td>\n",
              "      <td id=\"T_3c235_row4_col1\" class=\"data row4 col1\" >3.600000</td>\n",
              "      <td id=\"T_3c235_row4_col2\" class=\"data row4 col2\" >1.400000</td>\n",
              "      <td id=\"T_3c235_row4_col3\" class=\"data row4 col3\" >0.200000</td>\n",
              "    </tr>\n",
              "    <tr>\n",
              "      <td id=\"T_3c235_row5_col0\" class=\"data row5 col0\" >5.400000</td>\n",
              "      <td id=\"T_3c235_row5_col1\" class=\"data row5 col1\" >3.900000</td>\n",
              "      <td id=\"T_3c235_row5_col2\" class=\"data row5 col2\" >1.700000</td>\n",
              "      <td id=\"T_3c235_row5_col3\" class=\"data row5 col3\" >0.400000</td>\n",
              "    </tr>\n",
              "    <tr>\n",
              "      <td id=\"T_3c235_row6_col0\" class=\"data row6 col0\" >4.600000</td>\n",
              "      <td id=\"T_3c235_row6_col1\" class=\"data row6 col1\" >3.400000</td>\n",
              "      <td id=\"T_3c235_row6_col2\" class=\"data row6 col2\" >1.400000</td>\n",
              "      <td id=\"T_3c235_row6_col3\" class=\"data row6 col3\" >0.300000</td>\n",
              "    </tr>\n",
              "    <tr>\n",
              "      <td id=\"T_3c235_row7_col0\" class=\"data row7 col0\" >5.000000</td>\n",
              "      <td id=\"T_3c235_row7_col1\" class=\"data row7 col1\" >3.400000</td>\n",
              "      <td id=\"T_3c235_row7_col2\" class=\"data row7 col2\" >1.500000</td>\n",
              "      <td id=\"T_3c235_row7_col3\" class=\"data row7 col3\" >0.200000</td>\n",
              "    </tr>\n",
              "    <tr>\n",
              "      <td id=\"T_3c235_row8_col0\" class=\"data row8 col0\" >4.400000</td>\n",
              "      <td id=\"T_3c235_row8_col1\" class=\"data row8 col1\" >2.900000</td>\n",
              "      <td id=\"T_3c235_row8_col2\" class=\"data row8 col2\" >1.400000</td>\n",
              "      <td id=\"T_3c235_row8_col3\" class=\"data row8 col3\" >0.200000</td>\n",
              "    </tr>\n",
              "    <tr>\n",
              "      <td id=\"T_3c235_row9_col0\" class=\"data row9 col0\" >4.900000</td>\n",
              "      <td id=\"T_3c235_row9_col1\" class=\"data row9 col1\" >3.100000</td>\n",
              "      <td id=\"T_3c235_row9_col2\" class=\"data row9 col2\" >1.500000</td>\n",
              "      <td id=\"T_3c235_row9_col3\" class=\"data row9 col3\" >0.100000</td>\n",
              "    </tr>\n",
              "  </tbody>\n",
              "</table>\n"
            ]
          },
          "metadata": {},
          "execution_count": 11
        }
      ]
    },
    {
      "cell_type": "markdown",
      "metadata": {
        "id": "Xg-xui0jPqWE"
      },
      "source": [
        "Just like that, we hide our index. It is a simple thing but in the working environment I know sometimes it would become a problem. Just one extra column that becomes a question.\n",
        "In addition, we could try to hide unnecessary columns with the chaining method. Let’s say I don't want to show the ‘method’ and ‘year’ columns then we could write it with the following code."
      ]
    },
    {
      "cell_type": "code",
      "metadata": {
        "id": "KfTfZk4TPuQT"
      },
      "source": [
        "#Using hide_columns to hide the unnecesary columns\n",
        "df.head(10).style.hide_index().hide_columns(['setosa', 'versicolor', 'virginica'])"
      ],
      "execution_count": null,
      "outputs": []
    },
    {
      "cell_type": "markdown",
      "metadata": {
        "id": "ID9eKkpcQl0N"
      },
      "source": [
        "## **1.3-Highlight Function**[5]"
      ]
    },
    {
      "cell_type": "markdown",
      "metadata": {
        "id": "VZaCbhBcQsO9"
      },
      "source": [
        "There is a time when we want to present our data frame and only highlight the important number, for example the highest number. In this case, we could use the built-in method to highlight it with the following code."
      ]
    },
    {
      "cell_type": "code",
      "metadata": {
        "id": "wb0DKYZJQ0SD"
      },
      "source": [
        "#Highlight the maximum number for each column\n",
        "data.head(10).style.highlight_max(color = 'yellow')"
      ],
      "execution_count": null,
      "outputs": []
    },
    {
      "cell_type": "markdown",
      "metadata": {
        "id": "FmnZc6FHQ-nl"
      },
      "source": [
        "In the data frame above, we highlight the maximum number in each column with the color yellow. If you want to highlight the minimum number instead, we could do it with the following code."
      ]
    },
    {
      "cell_type": "code",
      "metadata": {
        "id": "N_1Ju9UlRAO8"
      },
      "source": [
        "data.head(10).style.highlight_min(color = 'lightblue')\n"
      ],
      "execution_count": null,
      "outputs": []
    },
    {
      "cell_type": "markdown",
      "metadata": {
        "id": "GE4-6pMrRM6a"
      },
      "source": [
        "and if you want to chain it, we could also do that."
      ]
    },
    {
      "cell_type": "code",
      "metadata": {
        "id": "XnzAqwXVRMNL"
      },
      "source": [
        "#Highlight the minimum number with lightblue color and the maximum number with yellow color\n",
        "data.head(10).style.highlight_max(color='yellow').highlight_min(color = 'lightblue')"
      ],
      "execution_count": null,
      "outputs": []
    },
    {
      "cell_type": "markdown",
      "metadata": {
        "id": "tLwN4DgERZST"
      },
      "source": [
        "Instead of each column, you could actually highlight the minimum or maximum number for each row. I show it in the following code."
      ]
    },
    {
      "cell_type": "code",
      "metadata": {
        "id": "5kVoBcayRcns"
      },
      "source": [
        "#Adding Axis = 1 to change the direction from column to row\n",
        "data.head(10).style.highlight_max(color = 'yellow', axis =1)"
      ],
      "execution_count": null,
      "outputs": []
    },
    {
      "cell_type": "markdown",
      "metadata": {
        "id": "zCzIjmcvRjys"
      },
      "source": [
        "As we can see, it is useless right now to change the axis as it did not highlight any important information. It would be more useful in the case when each column is not that different from each other.\n",
        "As an addition, we could highlight the null value with the following code."
      ]
    },
    {
      "cell_type": "code",
      "metadata": {
        "id": "TdiB7_2_RoqS"
      },
      "source": [
        "#Higlight the null value\n",
        "data.head(10).style.highlight_null(null_color = 'red')"
      ],
      "execution_count": null,
      "outputs": []
    },
    {
      "cell_type": "markdown",
      "metadata": {
        "id": "Hx2Z7EvIEmuB"
      },
      "source": [
        "## **1.4-Gradient Function**[5]"
      ]
    },
    {
      "cell_type": "markdown",
      "metadata": {
        "id": "o8Td6uexE2rQ"
      },
      "source": [
        "While presenting your data, we could also use all the information as the main way to present the data. I often present the data with a background color to highlight which number is in the lower area and where is the one in the higher area. Let’s use the example by the following code."
      ]
    },
    {
      "cell_type": "code",
      "metadata": {
        "colab": {
          "base_uri": "https://localhost:8080/",
          "height": 447
        },
        "id": "dS9h-JzJE4QA",
        "outputId": "0c7523fe-7ac6-4a6d-cd78-64f5d9deec92"
      },
      "source": [
        "#Gradient background color for the numerical columns\n",
        "data.head(10).style.background_gradient(cmap = 'Blues')"
      ],
      "execution_count": null,
      "outputs": [
        {
          "output_type": "execute_result",
          "data": {
            "text/html": [
              "<style  type=\"text/css\" >\n",
              "#T_24497d2a_49f4_11ec_8d3a_0242ac1c0002row0_col0,#T_24497d2a_49f4_11ec_8d3a_0242ac1c0002row1_col14,#T_24497d2a_49f4_11ec_8d3a_0242ac1c0002row3_col7,#T_24497d2a_49f4_11ec_8d3a_0242ac1c0002row5_col12,#T_24497d2a_49f4_11ec_8d3a_0242ac1c0002row6_col2,#T_24497d2a_49f4_11ec_8d3a_0242ac1c0002row6_col4,#T_24497d2a_49f4_11ec_8d3a_0242ac1c0002row9_col10{\n",
              "            background-color:  #f7fbff;\n",
              "            color:  #000000;\n",
              "        }#T_24497d2a_49f4_11ec_8d3a_0242ac1c0002row0_col2{\n",
              "            background-color:  #61a7d2;\n",
              "            color:  #000000;\n",
              "        }#T_24497d2a_49f4_11ec_8d3a_0242ac1c0002row0_col4,#T_24497d2a_49f4_11ec_8d3a_0242ac1c0002row1_col12,#T_24497d2a_49f4_11ec_8d3a_0242ac1c0002row4_col2,#T_24497d2a_49f4_11ec_8d3a_0242ac1c0002row4_col10,#T_24497d2a_49f4_11ec_8d3a_0242ac1c0002row4_col14,#T_24497d2a_49f4_11ec_8d3a_0242ac1c0002row6_col7,#T_24497d2a_49f4_11ec_8d3a_0242ac1c0002row9_col0{\n",
              "            background-color:  #08306b;\n",
              "            color:  #f1f1f1;\n",
              "        }#T_24497d2a_49f4_11ec_8d3a_0242ac1c0002row0_col7,#T_24497d2a_49f4_11ec_8d3a_0242ac1c0002row2_col0,#T_24497d2a_49f4_11ec_8d3a_0242ac1c0002row2_col14{\n",
              "            background-color:  #ccdff1;\n",
              "            color:  #000000;\n",
              "        }#T_24497d2a_49f4_11ec_8d3a_0242ac1c0002row0_col10,#T_24497d2a_49f4_11ec_8d3a_0242ac1c0002row5_col10{\n",
              "            background-color:  #f3f8fe;\n",
              "            color:  #000000;\n",
              "        }#T_24497d2a_49f4_11ec_8d3a_0242ac1c0002row0_col12,#T_24497d2a_49f4_11ec_8d3a_0242ac1c0002row2_col10{\n",
              "            background-color:  #6fb0d7;\n",
              "            color:  #000000;\n",
              "        }#T_24497d2a_49f4_11ec_8d3a_0242ac1c0002row0_col14{\n",
              "            background-color:  #b3d3e8;\n",
              "            color:  #000000;\n",
              "        }#T_24497d2a_49f4_11ec_8d3a_0242ac1c0002row1_col0{\n",
              "            background-color:  #e1edf8;\n",
              "            color:  #000000;\n",
              "        }#T_24497d2a_49f4_11ec_8d3a_0242ac1c0002row1_col2{\n",
              "            background-color:  #0f5aa3;\n",
              "            color:  #f1f1f1;\n",
              "        }#T_24497d2a_49f4_11ec_8d3a_0242ac1c0002row1_col4{\n",
              "            background-color:  #2f7fbc;\n",
              "            color:  #000000;\n",
              "        }#T_24497d2a_49f4_11ec_8d3a_0242ac1c0002row1_col7{\n",
              "            background-color:  #083e81;\n",
              "            color:  #f1f1f1;\n",
              "        }#T_24497d2a_49f4_11ec_8d3a_0242ac1c0002row1_col10{\n",
              "            background-color:  #1f6eb3;\n",
              "            color:  #f1f1f1;\n",
              "        }#T_24497d2a_49f4_11ec_8d3a_0242ac1c0002row2_col2{\n",
              "            background-color:  #74b3d8;\n",
              "            color:  #000000;\n",
              "        }#T_24497d2a_49f4_11ec_8d3a_0242ac1c0002row2_col4{\n",
              "            background-color:  #7fb9da;\n",
              "            color:  #000000;\n",
              "        }#T_24497d2a_49f4_11ec_8d3a_0242ac1c0002row2_col7,#T_24497d2a_49f4_11ec_8d3a_0242ac1c0002row4_col0{\n",
              "            background-color:  #82bbdb;\n",
              "            color:  #000000;\n",
              "        }#T_24497d2a_49f4_11ec_8d3a_0242ac1c0002row2_col12{\n",
              "            background-color:  #8abfdd;\n",
              "            color:  #000000;\n",
              "        }#T_24497d2a_49f4_11ec_8d3a_0242ac1c0002row3_col0,#T_24497d2a_49f4_11ec_8d3a_0242ac1c0002row9_col7{\n",
              "            background-color:  #abd0e6;\n",
              "            color:  #000000;\n",
              "        }#T_24497d2a_49f4_11ec_8d3a_0242ac1c0002row3_col2{\n",
              "            background-color:  #c6dbef;\n",
              "            color:  #000000;\n",
              "        }#T_24497d2a_49f4_11ec_8d3a_0242ac1c0002row3_col4{\n",
              "            background-color:  #eaf2fb;\n",
              "            color:  #000000;\n",
              "        }#T_24497d2a_49f4_11ec_8d3a_0242ac1c0002row3_col10{\n",
              "            background-color:  #bdd7ec;\n",
              "            color:  #000000;\n",
              "        }#T_24497d2a_49f4_11ec_8d3a_0242ac1c0002row3_col12{\n",
              "            background-color:  #60a7d2;\n",
              "            color:  #000000;\n",
              "        }#T_24497d2a_49f4_11ec_8d3a_0242ac1c0002row3_col14,#T_24497d2a_49f4_11ec_8d3a_0242ac1c0002row5_col14,#T_24497d2a_49f4_11ec_8d3a_0242ac1c0002row6_col14,#T_24497d2a_49f4_11ec_8d3a_0242ac1c0002row9_col14{\n",
              "            background-color:  #000000;\n",
              "            color:  #f1f1f1;\n",
              "        }#T_24497d2a_49f4_11ec_8d3a_0242ac1c0002row4_col4{\n",
              "            background-color:  #4f9bcb;\n",
              "            color:  #000000;\n",
              "        }#T_24497d2a_49f4_11ec_8d3a_0242ac1c0002row4_col7{\n",
              "            background-color:  #1967ad;\n",
              "            color:  #f1f1f1;\n",
              "        }#T_24497d2a_49f4_11ec_8d3a_0242ac1c0002row4_col12{\n",
              "            background-color:  #c1d9ed;\n",
              "            color:  #000000;\n",
              "        }#T_24497d2a_49f4_11ec_8d3a_0242ac1c0002row5_col0{\n",
              "            background-color:  #58a1cf;\n",
              "            color:  #000000;\n",
              "        }#T_24497d2a_49f4_11ec_8d3a_0242ac1c0002row5_col2{\n",
              "            background-color:  #cbdef1;\n",
              "            color:  #000000;\n",
              "        }#T_24497d2a_49f4_11ec_8d3a_0242ac1c0002row5_col4{\n",
              "            background-color:  #f5f9fe;\n",
              "            color:  #000000;\n",
              "        }#T_24497d2a_49f4_11ec_8d3a_0242ac1c0002row5_col7{\n",
              "            background-color:  #56a0ce;\n",
              "            color:  #000000;\n",
              "        }#T_24497d2a_49f4_11ec_8d3a_0242ac1c0002row6_col0{\n",
              "            background-color:  #3787c0;\n",
              "            color:  #000000;\n",
              "        }#T_24497d2a_49f4_11ec_8d3a_0242ac1c0002row6_col10{\n",
              "            background-color:  #75b4d8;\n",
              "            color:  #000000;\n",
              "        }#T_24497d2a_49f4_11ec_8d3a_0242ac1c0002row6_col12{\n",
              "            background-color:  #e0ecf8;\n",
              "            color:  #000000;\n",
              "        }#T_24497d2a_49f4_11ec_8d3a_0242ac1c0002row7_col0{\n",
              "            background-color:  #1b69af;\n",
              "            color:  #f1f1f1;\n",
              "        }#T_24497d2a_49f4_11ec_8d3a_0242ac1c0002row7_col2{\n",
              "            background-color:  #084990;\n",
              "            color:  #f1f1f1;\n",
              "        }#T_24497d2a_49f4_11ec_8d3a_0242ac1c0002row7_col4{\n",
              "            background-color:  #a5cde3;\n",
              "            color:  #000000;\n",
              "        }#T_24497d2a_49f4_11ec_8d3a_0242ac1c0002row7_col7{\n",
              "            background-color:  #65aad4;\n",
              "            color:  #000000;\n",
              "        }#T_24497d2a_49f4_11ec_8d3a_0242ac1c0002row7_col10,#T_24497d2a_49f4_11ec_8d3a_0242ac1c0002row9_col2{\n",
              "            background-color:  #b5d4e9;\n",
              "            color:  #000000;\n",
              "        }#T_24497d2a_49f4_11ec_8d3a_0242ac1c0002row7_col12{\n",
              "            background-color:  #2a7ab9;\n",
              "            color:  #000000;\n",
              "        }#T_24497d2a_49f4_11ec_8d3a_0242ac1c0002row7_col14{\n",
              "            background-color:  #caddf0;\n",
              "            color:  #000000;\n",
              "        }#T_24497d2a_49f4_11ec_8d3a_0242ac1c0002row8_col0{\n",
              "            background-color:  #084d96;\n",
              "            color:  #f1f1f1;\n",
              "        }#T_24497d2a_49f4_11ec_8d3a_0242ac1c0002row8_col2{\n",
              "            background-color:  #3484bf;\n",
              "            color:  #000000;\n",
              "        }#T_24497d2a_49f4_11ec_8d3a_0242ac1c0002row8_col4{\n",
              "            background-color:  #2b7bba;\n",
              "            color:  #000000;\n",
              "        }#T_24497d2a_49f4_11ec_8d3a_0242ac1c0002row8_col7{\n",
              "            background-color:  #2373b6;\n",
              "            color:  #f1f1f1;\n",
              "        }#T_24497d2a_49f4_11ec_8d3a_0242ac1c0002row8_col10{\n",
              "            background-color:  #08519c;\n",
              "            color:  #f1f1f1;\n",
              "        }#T_24497d2a_49f4_11ec_8d3a_0242ac1c0002row8_col12{\n",
              "            background-color:  #3888c1;\n",
              "            color:  #000000;\n",
              "        }#T_24497d2a_49f4_11ec_8d3a_0242ac1c0002row8_col14{\n",
              "            background-color:  #dce9f6;\n",
              "            color:  #000000;\n",
              "        }#T_24497d2a_49f4_11ec_8d3a_0242ac1c0002row9_col4{\n",
              "            background-color:  #6caed6;\n",
              "            color:  #000000;\n",
              "        }#T_24497d2a_49f4_11ec_8d3a_0242ac1c0002row9_col12{\n",
              "            background-color:  #eff6fc;\n",
              "            color:  #000000;\n",
              "        }</style><table id=\"T_24497d2a_49f4_11ec_8d3a_0242ac1c0002\" class=\"dataframe\"><thead>    <tr>        <th class=\"blank level0\" ></th>        <th class=\"col_heading level0 col0\" >sl_no</th>        <th class=\"col_heading level0 col1\" >gender</th>        <th class=\"col_heading level0 col2\" >ssc_p</th>        <th class=\"col_heading level0 col3\" >ssc_b</th>        <th class=\"col_heading level0 col4\" >hsc_p</th>        <th class=\"col_heading level0 col5\" >hsc_b</th>        <th class=\"col_heading level0 col6\" >hsc_s</th>        <th class=\"col_heading level0 col7\" >degree_p</th>        <th class=\"col_heading level0 col8\" >degree_t</th>        <th class=\"col_heading level0 col9\" >workex</th>        <th class=\"col_heading level0 col10\" >etest_p</th>        <th class=\"col_heading level0 col11\" >specialisation</th>        <th class=\"col_heading level0 col12\" >mba_p</th>        <th class=\"col_heading level0 col13\" >status</th>        <th class=\"col_heading level0 col14\" >salary</th>    </tr></thead><tbody>\n",
              "                <tr>\n",
              "                        <th id=\"T_24497d2a_49f4_11ec_8d3a_0242ac1c0002level0_row0\" class=\"row_heading level0 row0\" >0</th>\n",
              "                        <td id=\"T_24497d2a_49f4_11ec_8d3a_0242ac1c0002row0_col0\" class=\"data row0 col0\" >1</td>\n",
              "                        <td id=\"T_24497d2a_49f4_11ec_8d3a_0242ac1c0002row0_col1\" class=\"data row0 col1\" >M</td>\n",
              "                        <td id=\"T_24497d2a_49f4_11ec_8d3a_0242ac1c0002row0_col2\" class=\"data row0 col2\" >67.000000</td>\n",
              "                        <td id=\"T_24497d2a_49f4_11ec_8d3a_0242ac1c0002row0_col3\" class=\"data row0 col3\" >Others</td>\n",
              "                        <td id=\"T_24497d2a_49f4_11ec_8d3a_0242ac1c0002row0_col4\" class=\"data row0 col4\" >91.000000</td>\n",
              "                        <td id=\"T_24497d2a_49f4_11ec_8d3a_0242ac1c0002row0_col5\" class=\"data row0 col5\" >Others</td>\n",
              "                        <td id=\"T_24497d2a_49f4_11ec_8d3a_0242ac1c0002row0_col6\" class=\"data row0 col6\" >Commerce</td>\n",
              "                        <td id=\"T_24497d2a_49f4_11ec_8d3a_0242ac1c0002row0_col7\" class=\"data row0 col7\" >58.000000</td>\n",
              "                        <td id=\"T_24497d2a_49f4_11ec_8d3a_0242ac1c0002row0_col8\" class=\"data row0 col8\" >Sci&Tech</td>\n",
              "                        <td id=\"T_24497d2a_49f4_11ec_8d3a_0242ac1c0002row0_col9\" class=\"data row0 col9\" >No</td>\n",
              "                        <td id=\"T_24497d2a_49f4_11ec_8d3a_0242ac1c0002row0_col10\" class=\"data row0 col10\" >55.000000</td>\n",
              "                        <td id=\"T_24497d2a_49f4_11ec_8d3a_0242ac1c0002row0_col11\" class=\"data row0 col11\" >Mkt&HR</td>\n",
              "                        <td id=\"T_24497d2a_49f4_11ec_8d3a_0242ac1c0002row0_col12\" class=\"data row0 col12\" >58.800000</td>\n",
              "                        <td id=\"T_24497d2a_49f4_11ec_8d3a_0242ac1c0002row0_col13\" class=\"data row0 col13\" >Placed</td>\n",
              "                        <td id=\"T_24497d2a_49f4_11ec_8d3a_0242ac1c0002row0_col14\" class=\"data row0 col14\" >270000.000000</td>\n",
              "            </tr>\n",
              "            <tr>\n",
              "                        <th id=\"T_24497d2a_49f4_11ec_8d3a_0242ac1c0002level0_row1\" class=\"row_heading level0 row1\" >1</th>\n",
              "                        <td id=\"T_24497d2a_49f4_11ec_8d3a_0242ac1c0002row1_col0\" class=\"data row1 col0\" >2</td>\n",
              "                        <td id=\"T_24497d2a_49f4_11ec_8d3a_0242ac1c0002row1_col1\" class=\"data row1 col1\" >M</td>\n",
              "                        <td id=\"T_24497d2a_49f4_11ec_8d3a_0242ac1c0002row1_col2\" class=\"data row1 col2\" >79.330000</td>\n",
              "                        <td id=\"T_24497d2a_49f4_11ec_8d3a_0242ac1c0002row1_col3\" class=\"data row1 col3\" >Central</td>\n",
              "                        <td id=\"T_24497d2a_49f4_11ec_8d3a_0242ac1c0002row1_col4\" class=\"data row1 col4\" >78.330000</td>\n",
              "                        <td id=\"T_24497d2a_49f4_11ec_8d3a_0242ac1c0002row1_col5\" class=\"data row1 col5\" >Others</td>\n",
              "                        <td id=\"T_24497d2a_49f4_11ec_8d3a_0242ac1c0002row1_col6\" class=\"data row1 col6\" >Science</td>\n",
              "                        <td id=\"T_24497d2a_49f4_11ec_8d3a_0242ac1c0002row1_col7\" class=\"data row1 col7\" >77.480000</td>\n",
              "                        <td id=\"T_24497d2a_49f4_11ec_8d3a_0242ac1c0002row1_col8\" class=\"data row1 col8\" >Sci&Tech</td>\n",
              "                        <td id=\"T_24497d2a_49f4_11ec_8d3a_0242ac1c0002row1_col9\" class=\"data row1 col9\" >Yes</td>\n",
              "                        <td id=\"T_24497d2a_49f4_11ec_8d3a_0242ac1c0002row1_col10\" class=\"data row1 col10\" >86.500000</td>\n",
              "                        <td id=\"T_24497d2a_49f4_11ec_8d3a_0242ac1c0002row1_col11\" class=\"data row1 col11\" >Mkt&Fin</td>\n",
              "                        <td id=\"T_24497d2a_49f4_11ec_8d3a_0242ac1c0002row1_col12\" class=\"data row1 col12\" >66.280000</td>\n",
              "                        <td id=\"T_24497d2a_49f4_11ec_8d3a_0242ac1c0002row1_col13\" class=\"data row1 col13\" >Placed</td>\n",
              "                        <td id=\"T_24497d2a_49f4_11ec_8d3a_0242ac1c0002row1_col14\" class=\"data row1 col14\" >200000.000000</td>\n",
              "            </tr>\n",
              "            <tr>\n",
              "                        <th id=\"T_24497d2a_49f4_11ec_8d3a_0242ac1c0002level0_row2\" class=\"row_heading level0 row2\" >2</th>\n",
              "                        <td id=\"T_24497d2a_49f4_11ec_8d3a_0242ac1c0002row2_col0\" class=\"data row2 col0\" >3</td>\n",
              "                        <td id=\"T_24497d2a_49f4_11ec_8d3a_0242ac1c0002row2_col1\" class=\"data row2 col1\" >M</td>\n",
              "                        <td id=\"T_24497d2a_49f4_11ec_8d3a_0242ac1c0002row2_col2\" class=\"data row2 col2\" >65.000000</td>\n",
              "                        <td id=\"T_24497d2a_49f4_11ec_8d3a_0242ac1c0002row2_col3\" class=\"data row2 col3\" >Central</td>\n",
              "                        <td id=\"T_24497d2a_49f4_11ec_8d3a_0242ac1c0002row2_col4\" class=\"data row2 col4\" >68.000000</td>\n",
              "                        <td id=\"T_24497d2a_49f4_11ec_8d3a_0242ac1c0002row2_col5\" class=\"data row2 col5\" >Central</td>\n",
              "                        <td id=\"T_24497d2a_49f4_11ec_8d3a_0242ac1c0002row2_col6\" class=\"data row2 col6\" >Arts</td>\n",
              "                        <td id=\"T_24497d2a_49f4_11ec_8d3a_0242ac1c0002row2_col7\" class=\"data row2 col7\" >64.000000</td>\n",
              "                        <td id=\"T_24497d2a_49f4_11ec_8d3a_0242ac1c0002row2_col8\" class=\"data row2 col8\" >Comm&Mgmt</td>\n",
              "                        <td id=\"T_24497d2a_49f4_11ec_8d3a_0242ac1c0002row2_col9\" class=\"data row2 col9\" >No</td>\n",
              "                        <td id=\"T_24497d2a_49f4_11ec_8d3a_0242ac1c0002row2_col10\" class=\"data row2 col10\" >75.000000</td>\n",
              "                        <td id=\"T_24497d2a_49f4_11ec_8d3a_0242ac1c0002row2_col11\" class=\"data row2 col11\" >Mkt&Fin</td>\n",
              "                        <td id=\"T_24497d2a_49f4_11ec_8d3a_0242ac1c0002row2_col12\" class=\"data row2 col12\" >57.800000</td>\n",
              "                        <td id=\"T_24497d2a_49f4_11ec_8d3a_0242ac1c0002row2_col13\" class=\"data row2 col13\" >Placed</td>\n",
              "                        <td id=\"T_24497d2a_49f4_11ec_8d3a_0242ac1c0002row2_col14\" class=\"data row2 col14\" >250000.000000</td>\n",
              "            </tr>\n",
              "            <tr>\n",
              "                        <th id=\"T_24497d2a_49f4_11ec_8d3a_0242ac1c0002level0_row3\" class=\"row_heading level0 row3\" >3</th>\n",
              "                        <td id=\"T_24497d2a_49f4_11ec_8d3a_0242ac1c0002row3_col0\" class=\"data row3 col0\" >4</td>\n",
              "                        <td id=\"T_24497d2a_49f4_11ec_8d3a_0242ac1c0002row3_col1\" class=\"data row3 col1\" >M</td>\n",
              "                        <td id=\"T_24497d2a_49f4_11ec_8d3a_0242ac1c0002row3_col2\" class=\"data row3 col2\" >56.000000</td>\n",
              "                        <td id=\"T_24497d2a_49f4_11ec_8d3a_0242ac1c0002row3_col3\" class=\"data row3 col3\" >Central</td>\n",
              "                        <td id=\"T_24497d2a_49f4_11ec_8d3a_0242ac1c0002row3_col4\" class=\"data row3 col4\" >52.000000</td>\n",
              "                        <td id=\"T_24497d2a_49f4_11ec_8d3a_0242ac1c0002row3_col5\" class=\"data row3 col5\" >Central</td>\n",
              "                        <td id=\"T_24497d2a_49f4_11ec_8d3a_0242ac1c0002row3_col6\" class=\"data row3 col6\" >Science</td>\n",
              "                        <td id=\"T_24497d2a_49f4_11ec_8d3a_0242ac1c0002row3_col7\" class=\"data row3 col7\" >52.000000</td>\n",
              "                        <td id=\"T_24497d2a_49f4_11ec_8d3a_0242ac1c0002row3_col8\" class=\"data row3 col8\" >Sci&Tech</td>\n",
              "                        <td id=\"T_24497d2a_49f4_11ec_8d3a_0242ac1c0002row3_col9\" class=\"data row3 col9\" >No</td>\n",
              "                        <td id=\"T_24497d2a_49f4_11ec_8d3a_0242ac1c0002row3_col10\" class=\"data row3 col10\" >66.000000</td>\n",
              "                        <td id=\"T_24497d2a_49f4_11ec_8d3a_0242ac1c0002row3_col11\" class=\"data row3 col11\" >Mkt&HR</td>\n",
              "                        <td id=\"T_24497d2a_49f4_11ec_8d3a_0242ac1c0002row3_col12\" class=\"data row3 col12\" >59.430000</td>\n",
              "                        <td id=\"T_24497d2a_49f4_11ec_8d3a_0242ac1c0002row3_col13\" class=\"data row3 col13\" >Not Placed</td>\n",
              "                        <td id=\"T_24497d2a_49f4_11ec_8d3a_0242ac1c0002row3_col14\" class=\"data row3 col14\" >nan</td>\n",
              "            </tr>\n",
              "            <tr>\n",
              "                        <th id=\"T_24497d2a_49f4_11ec_8d3a_0242ac1c0002level0_row4\" class=\"row_heading level0 row4\" >4</th>\n",
              "                        <td id=\"T_24497d2a_49f4_11ec_8d3a_0242ac1c0002row4_col0\" class=\"data row4 col0\" >5</td>\n",
              "                        <td id=\"T_24497d2a_49f4_11ec_8d3a_0242ac1c0002row4_col1\" class=\"data row4 col1\" >M</td>\n",
              "                        <td id=\"T_24497d2a_49f4_11ec_8d3a_0242ac1c0002row4_col2\" class=\"data row4 col2\" >85.800000</td>\n",
              "                        <td id=\"T_24497d2a_49f4_11ec_8d3a_0242ac1c0002row4_col3\" class=\"data row4 col3\" >Central</td>\n",
              "                        <td id=\"T_24497d2a_49f4_11ec_8d3a_0242ac1c0002row4_col4\" class=\"data row4 col4\" >73.600000</td>\n",
              "                        <td id=\"T_24497d2a_49f4_11ec_8d3a_0242ac1c0002row4_col5\" class=\"data row4 col5\" >Central</td>\n",
              "                        <td id=\"T_24497d2a_49f4_11ec_8d3a_0242ac1c0002row4_col6\" class=\"data row4 col6\" >Commerce</td>\n",
              "                        <td id=\"T_24497d2a_49f4_11ec_8d3a_0242ac1c0002row4_col7\" class=\"data row4 col7\" >73.300000</td>\n",
              "                        <td id=\"T_24497d2a_49f4_11ec_8d3a_0242ac1c0002row4_col8\" class=\"data row4 col8\" >Comm&Mgmt</td>\n",
              "                        <td id=\"T_24497d2a_49f4_11ec_8d3a_0242ac1c0002row4_col9\" class=\"data row4 col9\" >No</td>\n",
              "                        <td id=\"T_24497d2a_49f4_11ec_8d3a_0242ac1c0002row4_col10\" class=\"data row4 col10\" >96.800000</td>\n",
              "                        <td id=\"T_24497d2a_49f4_11ec_8d3a_0242ac1c0002row4_col11\" class=\"data row4 col11\" >Mkt&Fin</td>\n",
              "                        <td id=\"T_24497d2a_49f4_11ec_8d3a_0242ac1c0002row4_col12\" class=\"data row4 col12\" >55.500000</td>\n",
              "                        <td id=\"T_24497d2a_49f4_11ec_8d3a_0242ac1c0002row4_col13\" class=\"data row4 col13\" >Placed</td>\n",
              "                        <td id=\"T_24497d2a_49f4_11ec_8d3a_0242ac1c0002row4_col14\" class=\"data row4 col14\" >425000.000000</td>\n",
              "            </tr>\n",
              "            <tr>\n",
              "                        <th id=\"T_24497d2a_49f4_11ec_8d3a_0242ac1c0002level0_row5\" class=\"row_heading level0 row5\" >5</th>\n",
              "                        <td id=\"T_24497d2a_49f4_11ec_8d3a_0242ac1c0002row5_col0\" class=\"data row5 col0\" >6</td>\n",
              "                        <td id=\"T_24497d2a_49f4_11ec_8d3a_0242ac1c0002row5_col1\" class=\"data row5 col1\" >M</td>\n",
              "                        <td id=\"T_24497d2a_49f4_11ec_8d3a_0242ac1c0002row5_col2\" class=\"data row5 col2\" >55.000000</td>\n",
              "                        <td id=\"T_24497d2a_49f4_11ec_8d3a_0242ac1c0002row5_col3\" class=\"data row5 col3\" >Others</td>\n",
              "                        <td id=\"T_24497d2a_49f4_11ec_8d3a_0242ac1c0002row5_col4\" class=\"data row5 col4\" >49.800000</td>\n",
              "                        <td id=\"T_24497d2a_49f4_11ec_8d3a_0242ac1c0002row5_col5\" class=\"data row5 col5\" >Others</td>\n",
              "                        <td id=\"T_24497d2a_49f4_11ec_8d3a_0242ac1c0002row5_col6\" class=\"data row5 col6\" >Science</td>\n",
              "                        <td id=\"T_24497d2a_49f4_11ec_8d3a_0242ac1c0002row5_col7\" class=\"data row5 col7\" >67.250000</td>\n",
              "                        <td id=\"T_24497d2a_49f4_11ec_8d3a_0242ac1c0002row5_col8\" class=\"data row5 col8\" >Sci&Tech</td>\n",
              "                        <td id=\"T_24497d2a_49f4_11ec_8d3a_0242ac1c0002row5_col9\" class=\"data row5 col9\" >Yes</td>\n",
              "                        <td id=\"T_24497d2a_49f4_11ec_8d3a_0242ac1c0002row5_col10\" class=\"data row5 col10\" >55.000000</td>\n",
              "                        <td id=\"T_24497d2a_49f4_11ec_8d3a_0242ac1c0002row5_col11\" class=\"data row5 col11\" >Mkt&Fin</td>\n",
              "                        <td id=\"T_24497d2a_49f4_11ec_8d3a_0242ac1c0002row5_col12\" class=\"data row5 col12\" >51.580000</td>\n",
              "                        <td id=\"T_24497d2a_49f4_11ec_8d3a_0242ac1c0002row5_col13\" class=\"data row5 col13\" >Not Placed</td>\n",
              "                        <td id=\"T_24497d2a_49f4_11ec_8d3a_0242ac1c0002row5_col14\" class=\"data row5 col14\" >nan</td>\n",
              "            </tr>\n",
              "            <tr>\n",
              "                        <th id=\"T_24497d2a_49f4_11ec_8d3a_0242ac1c0002level0_row6\" class=\"row_heading level0 row6\" >6</th>\n",
              "                        <td id=\"T_24497d2a_49f4_11ec_8d3a_0242ac1c0002row6_col0\" class=\"data row6 col0\" >7</td>\n",
              "                        <td id=\"T_24497d2a_49f4_11ec_8d3a_0242ac1c0002row6_col1\" class=\"data row6 col1\" >F</td>\n",
              "                        <td id=\"T_24497d2a_49f4_11ec_8d3a_0242ac1c0002row6_col2\" class=\"data row6 col2\" >46.000000</td>\n",
              "                        <td id=\"T_24497d2a_49f4_11ec_8d3a_0242ac1c0002row6_col3\" class=\"data row6 col3\" >Others</td>\n",
              "                        <td id=\"T_24497d2a_49f4_11ec_8d3a_0242ac1c0002row6_col4\" class=\"data row6 col4\" >49.200000</td>\n",
              "                        <td id=\"T_24497d2a_49f4_11ec_8d3a_0242ac1c0002row6_col5\" class=\"data row6 col5\" >Others</td>\n",
              "                        <td id=\"T_24497d2a_49f4_11ec_8d3a_0242ac1c0002row6_col6\" class=\"data row6 col6\" >Commerce</td>\n",
              "                        <td id=\"T_24497d2a_49f4_11ec_8d3a_0242ac1c0002row6_col7\" class=\"data row6 col7\" >79.000000</td>\n",
              "                        <td id=\"T_24497d2a_49f4_11ec_8d3a_0242ac1c0002row6_col8\" class=\"data row6 col8\" >Comm&Mgmt</td>\n",
              "                        <td id=\"T_24497d2a_49f4_11ec_8d3a_0242ac1c0002row6_col9\" class=\"data row6 col9\" >No</td>\n",
              "                        <td id=\"T_24497d2a_49f4_11ec_8d3a_0242ac1c0002row6_col10\" class=\"data row6 col10\" >74.280000</td>\n",
              "                        <td id=\"T_24497d2a_49f4_11ec_8d3a_0242ac1c0002row6_col11\" class=\"data row6 col11\" >Mkt&Fin</td>\n",
              "                        <td id=\"T_24497d2a_49f4_11ec_8d3a_0242ac1c0002row6_col12\" class=\"data row6 col12\" >53.290000</td>\n",
              "                        <td id=\"T_24497d2a_49f4_11ec_8d3a_0242ac1c0002row6_col13\" class=\"data row6 col13\" >Not Placed</td>\n",
              "                        <td id=\"T_24497d2a_49f4_11ec_8d3a_0242ac1c0002row6_col14\" class=\"data row6 col14\" >nan</td>\n",
              "            </tr>\n",
              "            <tr>\n",
              "                        <th id=\"T_24497d2a_49f4_11ec_8d3a_0242ac1c0002level0_row7\" class=\"row_heading level0 row7\" >7</th>\n",
              "                        <td id=\"T_24497d2a_49f4_11ec_8d3a_0242ac1c0002row7_col0\" class=\"data row7 col0\" >8</td>\n",
              "                        <td id=\"T_24497d2a_49f4_11ec_8d3a_0242ac1c0002row7_col1\" class=\"data row7 col1\" >M</td>\n",
              "                        <td id=\"T_24497d2a_49f4_11ec_8d3a_0242ac1c0002row7_col2\" class=\"data row7 col2\" >82.000000</td>\n",
              "                        <td id=\"T_24497d2a_49f4_11ec_8d3a_0242ac1c0002row7_col3\" class=\"data row7 col3\" >Central</td>\n",
              "                        <td id=\"T_24497d2a_49f4_11ec_8d3a_0242ac1c0002row7_col4\" class=\"data row7 col4\" >64.000000</td>\n",
              "                        <td id=\"T_24497d2a_49f4_11ec_8d3a_0242ac1c0002row7_col5\" class=\"data row7 col5\" >Central</td>\n",
              "                        <td id=\"T_24497d2a_49f4_11ec_8d3a_0242ac1c0002row7_col6\" class=\"data row7 col6\" >Science</td>\n",
              "                        <td id=\"T_24497d2a_49f4_11ec_8d3a_0242ac1c0002row7_col7\" class=\"data row7 col7\" >66.000000</td>\n",
              "                        <td id=\"T_24497d2a_49f4_11ec_8d3a_0242ac1c0002row7_col8\" class=\"data row7 col8\" >Sci&Tech</td>\n",
              "                        <td id=\"T_24497d2a_49f4_11ec_8d3a_0242ac1c0002row7_col9\" class=\"data row7 col9\" >Yes</td>\n",
              "                        <td id=\"T_24497d2a_49f4_11ec_8d3a_0242ac1c0002row7_col10\" class=\"data row7 col10\" >67.000000</td>\n",
              "                        <td id=\"T_24497d2a_49f4_11ec_8d3a_0242ac1c0002row7_col11\" class=\"data row7 col11\" >Mkt&Fin</td>\n",
              "                        <td id=\"T_24497d2a_49f4_11ec_8d3a_0242ac1c0002row7_col12\" class=\"data row7 col12\" >62.140000</td>\n",
              "                        <td id=\"T_24497d2a_49f4_11ec_8d3a_0242ac1c0002row7_col13\" class=\"data row7 col13\" >Placed</td>\n",
              "                        <td id=\"T_24497d2a_49f4_11ec_8d3a_0242ac1c0002row7_col14\" class=\"data row7 col14\" >252000.000000</td>\n",
              "            </tr>\n",
              "            <tr>\n",
              "                        <th id=\"T_24497d2a_49f4_11ec_8d3a_0242ac1c0002level0_row8\" class=\"row_heading level0 row8\" >8</th>\n",
              "                        <td id=\"T_24497d2a_49f4_11ec_8d3a_0242ac1c0002row8_col0\" class=\"data row8 col0\" >9</td>\n",
              "                        <td id=\"T_24497d2a_49f4_11ec_8d3a_0242ac1c0002row8_col1\" class=\"data row8 col1\" >M</td>\n",
              "                        <td id=\"T_24497d2a_49f4_11ec_8d3a_0242ac1c0002row8_col2\" class=\"data row8 col2\" >73.000000</td>\n",
              "                        <td id=\"T_24497d2a_49f4_11ec_8d3a_0242ac1c0002row8_col3\" class=\"data row8 col3\" >Central</td>\n",
              "                        <td id=\"T_24497d2a_49f4_11ec_8d3a_0242ac1c0002row8_col4\" class=\"data row8 col4\" >79.000000</td>\n",
              "                        <td id=\"T_24497d2a_49f4_11ec_8d3a_0242ac1c0002row8_col5\" class=\"data row8 col5\" >Central</td>\n",
              "                        <td id=\"T_24497d2a_49f4_11ec_8d3a_0242ac1c0002row8_col6\" class=\"data row8 col6\" >Commerce</td>\n",
              "                        <td id=\"T_24497d2a_49f4_11ec_8d3a_0242ac1c0002row8_col7\" class=\"data row8 col7\" >72.000000</td>\n",
              "                        <td id=\"T_24497d2a_49f4_11ec_8d3a_0242ac1c0002row8_col8\" class=\"data row8 col8\" >Comm&Mgmt</td>\n",
              "                        <td id=\"T_24497d2a_49f4_11ec_8d3a_0242ac1c0002row8_col9\" class=\"data row8 col9\" >No</td>\n",
              "                        <td id=\"T_24497d2a_49f4_11ec_8d3a_0242ac1c0002row8_col10\" class=\"data row8 col10\" >91.340000</td>\n",
              "                        <td id=\"T_24497d2a_49f4_11ec_8d3a_0242ac1c0002row8_col11\" class=\"data row8 col11\" >Mkt&Fin</td>\n",
              "                        <td id=\"T_24497d2a_49f4_11ec_8d3a_0242ac1c0002row8_col12\" class=\"data row8 col12\" >61.290000</td>\n",
              "                        <td id=\"T_24497d2a_49f4_11ec_8d3a_0242ac1c0002row8_col13\" class=\"data row8 col13\" >Placed</td>\n",
              "                        <td id=\"T_24497d2a_49f4_11ec_8d3a_0242ac1c0002row8_col14\" class=\"data row8 col14\" >231000.000000</td>\n",
              "            </tr>\n",
              "            <tr>\n",
              "                        <th id=\"T_24497d2a_49f4_11ec_8d3a_0242ac1c0002level0_row9\" class=\"row_heading level0 row9\" >9</th>\n",
              "                        <td id=\"T_24497d2a_49f4_11ec_8d3a_0242ac1c0002row9_col0\" class=\"data row9 col0\" >10</td>\n",
              "                        <td id=\"T_24497d2a_49f4_11ec_8d3a_0242ac1c0002row9_col1\" class=\"data row9 col1\" >M</td>\n",
              "                        <td id=\"T_24497d2a_49f4_11ec_8d3a_0242ac1c0002row9_col2\" class=\"data row9 col2\" >58.000000</td>\n",
              "                        <td id=\"T_24497d2a_49f4_11ec_8d3a_0242ac1c0002row9_col3\" class=\"data row9 col3\" >Central</td>\n",
              "                        <td id=\"T_24497d2a_49f4_11ec_8d3a_0242ac1c0002row9_col4\" class=\"data row9 col4\" >70.000000</td>\n",
              "                        <td id=\"T_24497d2a_49f4_11ec_8d3a_0242ac1c0002row9_col5\" class=\"data row9 col5\" >Central</td>\n",
              "                        <td id=\"T_24497d2a_49f4_11ec_8d3a_0242ac1c0002row9_col6\" class=\"data row9 col6\" >Commerce</td>\n",
              "                        <td id=\"T_24497d2a_49f4_11ec_8d3a_0242ac1c0002row9_col7\" class=\"data row9 col7\" >61.000000</td>\n",
              "                        <td id=\"T_24497d2a_49f4_11ec_8d3a_0242ac1c0002row9_col8\" class=\"data row9 col8\" >Comm&Mgmt</td>\n",
              "                        <td id=\"T_24497d2a_49f4_11ec_8d3a_0242ac1c0002row9_col9\" class=\"data row9 col9\" >No</td>\n",
              "                        <td id=\"T_24497d2a_49f4_11ec_8d3a_0242ac1c0002row9_col10\" class=\"data row9 col10\" >54.000000</td>\n",
              "                        <td id=\"T_24497d2a_49f4_11ec_8d3a_0242ac1c0002row9_col11\" class=\"data row9 col11\" >Mkt&Fin</td>\n",
              "                        <td id=\"T_24497d2a_49f4_11ec_8d3a_0242ac1c0002row9_col12\" class=\"data row9 col12\" >52.210000</td>\n",
              "                        <td id=\"T_24497d2a_49f4_11ec_8d3a_0242ac1c0002row9_col13\" class=\"data row9 col13\" >Not Placed</td>\n",
              "                        <td id=\"T_24497d2a_49f4_11ec_8d3a_0242ac1c0002row9_col14\" class=\"data row9 col14\" >nan</td>\n",
              "            </tr>\n",
              "    </tbody></table>"
            ],
            "text/plain": [
              "<pandas.io.formats.style.Styler at 0x7f1baef58f50>"
            ]
          },
          "metadata": {},
          "execution_count": 6
        }
      ]
    },
    {
      "cell_type": "markdown",
      "metadata": {
        "id": "xPY5g9xvFIRm"
      },
      "source": [
        "With the background_gradient function, we could color the data frame as a gradient. The color would depend on the cmap parameter where the parameter is accepting colormaps from the matplotlib library."
      ]
    },
    {
      "cell_type": "markdown",
      "metadata": {
        "id": "VNq_-5ZpFLYQ"
      },
      "source": [
        "We could also use a bar chart as our gradient background color. Let me show it in the example below."
      ]
    },
    {
      "cell_type": "code",
      "metadata": {
        "id": "26cjWZbcFM0g"
      },
      "source": [
        "#Sort the values by the year column then creating a bar chart as the background\n",
        "data.head(10).sort_values(by = 'ssc_p').style.bar(color= 'lightblue')"
      ],
      "execution_count": null,
      "outputs": []
    },
    {
      "cell_type": "markdown",
      "metadata": {
        "id": "YQbNM_hTFn3w"
      },
      "source": [
        "As we could see above, we now highlight the number from the lowest to the highest number in a different way than the background_gradient function is. We could also see the index is not in order because of the sort function; it is better to hide the index as I told you in the passage above."
      ]
    },
    {
      "cell_type": "markdown",
      "metadata": {
        "id": "uVpNfRuKFs2f"
      },
      "source": [
        "## **1.5-Custom Function**[5]"
      ]
    },
    {
      "cell_type": "markdown",
      "metadata": {
        "id": "m5nq64w1FzEX"
      },
      "source": [
        "If you prefer to have a more specific requirement to style your data frame, you could actually do it. We could pass our style functions into one of the following methods:\n",
        "- Styler.applymap: element-wise\n",
        "- Styler.apply: column-/row-/table-wise\n",
        "Both of those methods take a function (and some other keyword arguments) and apply our function to the DataFrame in a certain way. Let’s say that I have a threshold that any number below 20 should be colored red. We could do that by using the following code."
      ]
    },
    {
      "cell_type": "code",
      "metadata": {
        "id": "QCRGUN2RF62-"
      },
      "source": [
        "#Create the function to color the numerical value into red color\n",
        "def color_below_20_red(value):\n",
        "    if type(value) == type(''):\n",
        "        return 'color:black'\n",
        "    else:\n",
        "        color = 'red' if value <= 20 else 'black'\n",
        "        return 'color: {}'.format(color)\n",
        "#We apply the function to all the element in the data frame by using the applymap function\n",
        "data.head(10).style.applymap(color_below_20_red)"
      ],
      "execution_count": null,
      "outputs": []
    },
    {
      "cell_type": "markdown",
      "metadata": {
        "id": "Y7r4GCZ_r578"
      },
      "source": [
        "# **Preprocessing**"
      ]
    },
    {
      "cell_type": "markdown",
      "metadata": {
        "id": "JL1FYrIa5kv8"
      },
      "source": [
        "**Check Missing Value**\n"
      ]
    },
    {
      "cell_type": "code",
      "metadata": {
        "id": "_6sqt75_5o9y",
        "colab": {
          "base_uri": "https://localhost:8080/",
          "height": 175
        },
        "outputId": "1a52b0b2-b083-4f83-c227-d9649e734469"
      },
      "source": [
        "total = data.isnull().sum().sort_values(ascending=False)\n",
        "percent = (data.isnull().sum()/data.isnull().count()).sort_values(ascending=False)\n",
        "missing = pd.concat([total, percent], axis=1, keys=['Total', 'Percent'])\n",
        "missing.head(4)"
      ],
      "execution_count": null,
      "outputs": [
        {
          "output_type": "execute_result",
          "data": {
            "text/html": [
              "\n",
              "  <div id=\"df-ba34a52e-7fc5-484e-a1f7-c25844a360e7\">\n",
              "    <div class=\"colab-df-container\">\n",
              "      <div>\n",
              "<style scoped>\n",
              "    .dataframe tbody tr th:only-of-type {\n",
              "        vertical-align: middle;\n",
              "    }\n",
              "\n",
              "    .dataframe tbody tr th {\n",
              "        vertical-align: top;\n",
              "    }\n",
              "\n",
              "    .dataframe thead th {\n",
              "        text-align: right;\n",
              "    }\n",
              "</style>\n",
              "<table border=\"1\" class=\"dataframe\">\n",
              "  <thead>\n",
              "    <tr style=\"text-align: right;\">\n",
              "      <th></th>\n",
              "      <th>Total</th>\n",
              "      <th>Percent</th>\n",
              "    </tr>\n",
              "  </thead>\n",
              "  <tbody>\n",
              "    <tr>\n",
              "      <th>salary</th>\n",
              "      <td>67</td>\n",
              "      <td>0.311628</td>\n",
              "    </tr>\n",
              "    <tr>\n",
              "      <th>sl_no</th>\n",
              "      <td>0</td>\n",
              "      <td>0.000000</td>\n",
              "    </tr>\n",
              "    <tr>\n",
              "      <th>gender</th>\n",
              "      <td>0</td>\n",
              "      <td>0.000000</td>\n",
              "    </tr>\n",
              "    <tr>\n",
              "      <th>ssc_p</th>\n",
              "      <td>0</td>\n",
              "      <td>0.000000</td>\n",
              "    </tr>\n",
              "  </tbody>\n",
              "</table>\n",
              "</div>\n",
              "      <button class=\"colab-df-convert\" onclick=\"convertToInteractive('df-ba34a52e-7fc5-484e-a1f7-c25844a360e7')\"\n",
              "              title=\"Convert this dataframe to an interactive table.\"\n",
              "              style=\"display:none;\">\n",
              "        \n",
              "  <svg xmlns=\"http://www.w3.org/2000/svg\" height=\"24px\"viewBox=\"0 0 24 24\"\n",
              "       width=\"24px\">\n",
              "    <path d=\"M0 0h24v24H0V0z\" fill=\"none\"/>\n",
              "    <path d=\"M18.56 5.44l.94 2.06.94-2.06 2.06-.94-2.06-.94-.94-2.06-.94 2.06-2.06.94zm-11 1L8.5 8.5l.94-2.06 2.06-.94-2.06-.94L8.5 2.5l-.94 2.06-2.06.94zm10 10l.94 2.06.94-2.06 2.06-.94-2.06-.94-.94-2.06-.94 2.06-2.06.94z\"/><path d=\"M17.41 7.96l-1.37-1.37c-.4-.4-.92-.59-1.43-.59-.52 0-1.04.2-1.43.59L10.3 9.45l-7.72 7.72c-.78.78-.78 2.05 0 2.83L4 21.41c.39.39.9.59 1.41.59.51 0 1.02-.2 1.41-.59l7.78-7.78 2.81-2.81c.8-.78.8-2.07 0-2.86zM5.41 20L4 18.59l7.72-7.72 1.47 1.35L5.41 20z\"/>\n",
              "  </svg>\n",
              "      </button>\n",
              "      \n",
              "  <style>\n",
              "    .colab-df-container {\n",
              "      display:flex;\n",
              "      flex-wrap:wrap;\n",
              "      gap: 12px;\n",
              "    }\n",
              "\n",
              "    .colab-df-convert {\n",
              "      background-color: #E8F0FE;\n",
              "      border: none;\n",
              "      border-radius: 50%;\n",
              "      cursor: pointer;\n",
              "      display: none;\n",
              "      fill: #1967D2;\n",
              "      height: 32px;\n",
              "      padding: 0 0 0 0;\n",
              "      width: 32px;\n",
              "    }\n",
              "\n",
              "    .colab-df-convert:hover {\n",
              "      background-color: #E2EBFA;\n",
              "      box-shadow: 0px 1px 2px rgba(60, 64, 67, 0.3), 0px 1px 3px 1px rgba(60, 64, 67, 0.15);\n",
              "      fill: #174EA6;\n",
              "    }\n",
              "\n",
              "    [theme=dark] .colab-df-convert {\n",
              "      background-color: #3B4455;\n",
              "      fill: #D2E3FC;\n",
              "    }\n",
              "\n",
              "    [theme=dark] .colab-df-convert:hover {\n",
              "      background-color: #434B5C;\n",
              "      box-shadow: 0px 1px 3px 1px rgba(0, 0, 0, 0.15);\n",
              "      filter: drop-shadow(0px 1px 2px rgba(0, 0, 0, 0.3));\n",
              "      fill: #FFFFFF;\n",
              "    }\n",
              "  </style>\n",
              "\n",
              "      <script>\n",
              "        const buttonEl =\n",
              "          document.querySelector('#df-ba34a52e-7fc5-484e-a1f7-c25844a360e7 button.colab-df-convert');\n",
              "        buttonEl.style.display =\n",
              "          google.colab.kernel.accessAllowed ? 'block' : 'none';\n",
              "\n",
              "        async function convertToInteractive(key) {\n",
              "          const element = document.querySelector('#df-ba34a52e-7fc5-484e-a1f7-c25844a360e7');\n",
              "          const dataTable =\n",
              "            await google.colab.kernel.invokeFunction('convertToInteractive',\n",
              "                                                     [key], {});\n",
              "          if (!dataTable) return;\n",
              "\n",
              "          const docLinkHtml = 'Like what you see? Visit the ' +\n",
              "            '<a target=\"_blank\" href=https://colab.research.google.com/notebooks/data_table.ipynb>data table notebook</a>'\n",
              "            + ' to learn more about interactive tables.';\n",
              "          element.innerHTML = '';\n",
              "          dataTable['output_type'] = 'display_data';\n",
              "          await google.colab.output.renderOutput(dataTable, element);\n",
              "          const docLink = document.createElement('div');\n",
              "          docLink.innerHTML = docLinkHtml;\n",
              "          element.appendChild(docLink);\n",
              "        }\n",
              "      </script>\n",
              "    </div>\n",
              "  </div>\n",
              "  "
            ],
            "text/plain": [
              "        Total   Percent\n",
              "salary     67  0.311628\n",
              "sl_no       0  0.000000\n",
              "gender      0  0.000000\n",
              "ssc_p       0  0.000000"
            ]
          },
          "metadata": {},
          "execution_count": 13
        }
      ]
    },
    {
      "cell_type": "code",
      "metadata": {
        "colab": {
          "base_uri": "https://localhost:8080/"
        },
        "id": "Y_DhzYPtFlrL",
        "outputId": "b0114f7f-ec80-42d2-a644-048cf6f796be"
      },
      "source": [
        "missing_v = [col for col in data.columns if (data[col].isnull().sum()/data.shape[0]) * 100 > 0.001]\n",
        "print(len(missing_v))\n",
        "for cols in missing_v:\n",
        "    del data[cols]"
      ],
      "execution_count": null,
      "outputs": [
        {
          "output_type": "stream",
          "name": "stdout",
          "text": [
            "1\n"
          ]
        }
      ]
    },
    {
      "cell_type": "code",
      "metadata": {
        "id": "21xYr0iDF-wc",
        "colab": {
          "base_uri": "https://localhost:8080/"
        },
        "outputId": "b0a1feeb-2125-4a05-bca7-f992b36f8953"
      },
      "source": [
        "np.sum(data.isnull().any(axis=1))"
      ],
      "execution_count": null,
      "outputs": [
        {
          "output_type": "execute_result",
          "data": {
            "text/plain": [
              "0"
            ]
          },
          "metadata": {},
          "execution_count": 15
        }
      ]
    },
    {
      "cell_type": "markdown",
      "metadata": {
        "id": "tnvVuWKg6vj1"
      },
      "source": [
        "**Hot Encoding**"
      ]
    },
    {
      "cell_type": "code",
      "metadata": {
        "colab": {
          "base_uri": "https://localhost:8080/"
        },
        "id": "2Fa0DkFL6yEq",
        "outputId": "a19c16ae-4ca2-45bb-e9a0-1fb32c73e9a7"
      },
      "source": [
        "data.select_dtypes(include=['object']).columns"
      ],
      "execution_count": null,
      "outputs": [
        {
          "output_type": "execute_result",
          "data": {
            "text/plain": [
              "Index(['gender', 'ssc_b', 'hsc_b', 'hsc_s', 'degree_t', 'workex',\n",
              "       'specialisation', 'status'],\n",
              "      dtype='object')"
            ]
          },
          "metadata": {},
          "execution_count": 16
        }
      ]
    },
    {
      "cell_type": "code",
      "metadata": {
        "id": "7g24nkqr7Qx8"
      },
      "source": [
        "data['gender'] = data['gender'].fillna(data['gender'].mode()[0])\n",
        "data['ssc_b'] = data['ssc_b'].fillna(data['ssc_b'].mode()[0])\n",
        "data['hsc_b'] = data['hsc_b'].fillna(data['hsc_b'].mode()[0])\n",
        "data['hsc_s'] = data['hsc_s'].fillna(data['hsc_s'].mode()[0])\n",
        "data['degree_t'] = data['degree_t'].fillna(data['degree_t'].mode()[0])\n",
        "data['workex'] = data['workex'].fillna(data['workex'].mode()[0])\n",
        "data['specialisation'] = data['specialisation'].fillna(data['specialisation'].mode()[0])\n",
        "data['status'] = data['status'].fillna(data['status'].mode()[0])\n"
      ],
      "execution_count": null,
      "outputs": []
    },
    {
      "cell_type": "code",
      "metadata": {
        "id": "fLaZar8T-YkY"
      },
      "source": [
        "from sklearn.preprocessing import LabelEncoder\n",
        "lencoders = {}\n",
        "for col in data.select_dtypes(include=['object']).columns:\n",
        "    lencoders[col] = LabelEncoder()\n",
        "    data[col] = lencoders[col].fit_transform(data[col])"
      ],
      "execution_count": null,
      "outputs": []
    },
    {
      "cell_type": "code",
      "metadata": {
        "id": "w5GR2wIi-k--"
      },
      "source": [
        "data"
      ],
      "execution_count": null,
      "outputs": []
    },
    {
      "cell_type": "markdown",
      "metadata": {
        "id": "1X3_s7X8_hEc"
      },
      "source": [
        "**Feature Scaling**"
      ]
    },
    {
      "cell_type": "code",
      "metadata": {
        "id": "iQgnWr7Q_jey"
      },
      "source": [
        "# Standardizing data\n",
        "from sklearn import preprocessing\n",
        "r_scaler = preprocessing.MinMaxScaler()\n",
        "r_scaler.fit(data)\n",
        "data = pd.DataFrame(r_scaler.transform(data), index=data.index, columns=data.columns)"
      ],
      "execution_count": null,
      "outputs": []
    },
    {
      "cell_type": "markdown",
      "metadata": {
        "id": "2m6tWQEIAQfb"
      },
      "source": [
        "**Data spliting**\n"
      ]
    },
    {
      "cell_type": "code",
      "metadata": {
        "id": "j9t6Ik9SAUPX"
      },
      "source": [
        "X=data.drop('specialisation',axis=1)\n"
      ],
      "execution_count": null,
      "outputs": []
    },
    {
      "cell_type": "code",
      "metadata": {
        "id": "f52X64tDAYXY"
      },
      "source": [
        "y=data[['specialisation']]\n"
      ],
      "execution_count": null,
      "outputs": []
    },
    {
      "cell_type": "code",
      "metadata": {
        "id": "5-S8fYFyApQB"
      },
      "source": [
        "X_train, X_test, y_train, y_test = train_test_split(X, y, test_size=0.30, random_state=100)\n"
      ],
      "execution_count": null,
      "outputs": []
    },
    {
      "cell_type": "markdown",
      "source": [
        "# **Data Ploting**"
      ],
      "metadata": {
        "id": "gdnWbi_14bjp"
      }
    },
    {
      "cell_type": "markdown",
      "source": [
        "Data Visualization is very important in data analysis and machine learning, it allows us to have a better understanding about the pattern of some variables in our data, conclude some correlation between multiple variables, and eventually we can take the right decision based on that [9]"
      ],
      "metadata": {
        "id": "YZ_whQZH4t0w"
      }
    },
    {
      "cell_type": "markdown",
      "source": [
        "I will use the Matplotlib package, which is a 2D graphical library in Python language, it supports plotting graphics and images of the data in an attractive way[9]"
      ],
      "metadata": {
        "id": "hGOB8pIb44Zf"
      }
    },
    {
      "cell_type": "markdown",
      "source": [
        "## **Matplotlib**"
      ],
      "metadata": {
        "id": "PH_Mp32l4lGH"
      }
    },
    {
      "cell_type": "markdown",
      "source": [
        "### **Simplest Way to Create Visualizations**"
      ],
      "metadata": {
        "id": "yAJXNS294_We"
      }
    },
    {
      "cell_type": "code",
      "source": [
        "data"
      ],
      "metadata": {
        "id": "URphCBaF6Vs7"
      },
      "execution_count": null,
      "outputs": []
    },
    {
      "cell_type": "code",
      "source": [
        "X_new=data.filter(['gender', 'ssc_p','ssc_b'])\n"
      ],
      "metadata": {
        "id": "TfUqWB6K5mtj"
      },
      "execution_count": null,
      "outputs": []
    },
    {
      "cell_type": "code",
      "source": [
        "X_new"
      ],
      "metadata": {
        "id": "w25cuSRa6j8K"
      },
      "execution_count": null,
      "outputs": []
    },
    {
      "cell_type": "markdown",
      "source": [
        "One can simply plot out the values for each of these columns per row simply with data.plot.bar();, where data should be replaced with the name of the DataFrame. Note that adding the semicolon (;) after the statement removes the cell from outputting other prints (that is, something like) [9]"
      ],
      "metadata": {
        "id": "r-DESqQI9ec1"
      }
    },
    {
      "cell_type": "markdown",
      "source": [
        "Alternatively, try adding a parameter stacked=True — this is a very easy way to create a stacked bar chart straight from the data source [9]"
      ],
      "metadata": {
        "id": "qDUYRTxQ9zpI"
      }
    },
    {
      "cell_type": "code",
      "source": [
        "X_new.plot.bar(stacked=True);"
      ],
      "metadata": {
        "colab": {
          "base_uri": "https://localhost:8080/",
          "height": 274
        },
        "id": "bElCshba5ESI",
        "outputId": "591aaac7-7dfc-4e5a-ab16-150159707086"
      },
      "execution_count": null,
      "outputs": [
        {
          "output_type": "display_data",
          "data": {
            "image/png": "[encoded data removed]",
            "text/plain": [
              "<Figure size 432x288 with 1 Axes>"
            ]
          },
          "metadata": {
            "needs_background": "light"
          }
        }
      ]
    },
    {
      "cell_type": "markdown",
      "source": [
        "Or, try using barh, which draws horizontal bars: data.plot.barh(stacked=True). All these variants can be easily created with only one line of code because they establish a direct flow with the data.[9]"
      ],
      "metadata": {
        "id": "R_nZbKuu-BE8"
      }
    },
    {
      "cell_type": "code",
      "source": [
        "X_new.plot.barh(stacked=True)"
      ],
      "metadata": {
        "colab": {
          "base_uri": "https://localhost:8080/",
          "height": 286
        },
        "id": "6zsqXNj789XR",
        "outputId": "b30ab77e-d1a3-45c1-c9b2-2cb80126e1f2"
      },
      "execution_count": null,
      "outputs": [
        {
          "output_type": "execute_result",
          "data": {
            "text/plain": [
              "<matplotlib.axes._subplots.AxesSubplot at 0x7fdef5b88990>"
            ]
          },
          "metadata": {},
          "execution_count": 25
        },
        {
          "output_type": "display_data",
          "data": {
            "image/png": "[encoded data removed]",
            "text/plain": [
              "<Figure size 432x288 with 1 Axes>"
            ]
          },
          "metadata": {
            "needs_background": "light"
          }
        }
      ]
    },
    {
      "cell_type": "markdown",
      "source": [
        "Another method of displaying this type of data would be an area chart, using"
      ],
      "metadata": {
        "id": "SNMYejYT-e6g"
      }
    },
    {
      "cell_type": "code",
      "source": [
        "X_new.plot.area();\n"
      ],
      "metadata": {
        "id": "z2XNtjgD-kgp"
      },
      "execution_count": null,
      "outputs": []
    },
    {
      "cell_type": "markdown",
      "source": [
        "Parameters within the code can be adjusted as they would normally would with a matplotlib or seaborn model. In the case of data.plot.area(stacked=False);, the parameter alpha (transparency) is set to 0.5 by default, but can be manually adjusted [9]"
      ],
      "metadata": {
        "id": "v7olFiLs-ytO"
      }
    },
    {
      "cell_type": "code",
      "source": [
        "X_new.plot.area(stacked=False);"
      ],
      "metadata": {
        "colab": {
          "base_uri": "https://localhost:8080/",
          "height": 265
        },
        "id": "YgdTBWA2-5hs",
        "outputId": "e6e7b39b-02c7-454c-d85f-00b8dcb57800"
      },
      "execution_count": null,
      "outputs": [
        {
          "output_type": "display_data",
          "data": {
            "image/png": "[encoded data removed]",
            "text/plain": [
              "<Figure size 432x288 with 1 Axes>"
            ]
          },
          "metadata": {
            "needs_background": "light"
          }
        }
      ]
    },
    {
      "cell_type": "markdown",
      "source": [
        "One of the major benefits of using pandas directly is that many of pandas’ helpful DataFrame manipulations can be directly used. For example, consider the result of data.diff(), which simply takes the difference between one row and the row before it (hence the presence of NaN in the first row). This is helpful in many time series applications."
      ],
      "metadata": {
        "id": "njzqqel1_FMc"
      }
    },
    {
      "cell_type": "code",
      "source": [
        "X_new.diff()"
      ],
      "metadata": {
        "id": "Y_K2nyFt_JRq"
      },
      "execution_count": null,
      "outputs": []
    },
    {
      "cell_type": "markdown",
      "source": [
        "For example, consider the following code, which plots out the differenced data, as well as demonstrating the usage of various parameters in pandas plotting, in this case, color:[9]"
      ],
      "metadata": {
        "id": "dCdchXof_aba"
      }
    },
    {
      "cell_type": "code",
      "source": [
        "X_new.diff().plot.box(vert=False,\n",
        "                     color={'medians':'lightblue',\n",
        "                            'boxes':'blue',\n",
        "                            'caps':'darkblue'});"
      ],
      "metadata": {
        "colab": {
          "base_uri": "https://localhost:8080/",
          "height": 265
        },
        "id": "bJc2hEeg_f9h",
        "outputId": "272ea43a-1537-49ba-e851-15f8932a146c"
      },
      "execution_count": null,
      "outputs": [
        {
          "output_type": "display_data",
          "data": {
            "image/png": "[encoded data removed]",
            "text/plain": [
              "<Figure size 432x288 with 1 Axes>"
            ]
          },
          "metadata": {
            "needs_background": "light"
          }
        }
      ]
    },
    {
      "cell_type": "markdown",
      "source": [
        "Another application of pandas’ handy data manipulation functions is with .rolling().mean(), which takes the average rolling mean, a common statistical method to reduce the noisiness of data that averages moving windows of data.[9]"
      ],
      "metadata": {
        "id": "PPcgWJ8-_scZ"
      }
    },
    {
      "cell_type": "code",
      "source": [
        "\n",
        "X_new['gender'].plot()\n",
        "X_new['gender'].rolling(10).mean().plot()"
      ],
      "metadata": {
        "id": "BdBOZjuw_y1g"
      },
      "execution_count": null,
      "outputs": []
    },
    {
      "cell_type": "markdown",
      "source": [
        "There are various other types of plots that can be created directly from the data:\n",
        "kde or density for density plots"
      ],
      "metadata": {
        "id": "PO07y0kNA8pB"
      }
    },
    {
      "cell_type": "code",
      "source": [
        "X_new.plot.kde(); #distribution plot"
      ],
      "metadata": {
        "colab": {
          "base_uri": "https://localhost:8080/",
          "height": 265
        },
        "id": "EScmY5x1ALIo",
        "outputId": "edb0cd5d-149c-42e0-d181-89af8de14940"
      },
      "execution_count": null,
      "outputs": [
        {
          "output_type": "display_data",
          "data": {
            "image/png": "[encoded data removed]",
            "text/plain": [
              "<Figure size 432x288 with 1 Axes>"
            ]
          },
          "metadata": {
            "needs_background": "light"
          }
        }
      ]
    },
    {
      "cell_type": "code",
      "source": [
        "y.plot.pie(subplots=True, figsize=(8, 4));\n",
        "\n"
      ],
      "metadata": {
        "id": "OFBw5HDsBGqK"
      },
      "execution_count": null,
      "outputs": []
    },
    {
      "cell_type": "markdown",
      "source": [
        "As another example of the convenience of subplots in direct-pandas plotting, consider plotting line data (the default when using .plot()):[9]"
      ],
      "metadata": {
        "id": "ikf5gg62B0td"
      }
    },
    {
      "cell_type": "code",
      "source": [
        "X_new.plot(subplots=True,figsize=(20,10));"
      ],
      "metadata": {
        "colab": {
          "base_uri": "https://localhost:8080/",
          "height": 592
        },
        "id": "VDIsSYb-BqK9",
        "outputId": "cf2bd28a-8f7e-42d9-8802-2a61f7c5f9e2"
      },
      "execution_count": null,
      "outputs": [
        {
          "output_type": "display_data",
          "data": {
            "image/png": "[encoded data removed]",
            "text/plain": [
              "<Figure size 1440x720 with 3 Axes>"
            ]
          },
          "metadata": {
            "needs_background": "light"
          }
        }
      ]
    },
    {
      "cell_type": "markdown",
      "source": [
        "Consider the result when adding a parameter layout=(2, 2) in the line of code that plots the visualization (after subplots=True): pandas automatically formats the subplots in a format according to the layout. The dimensions of each subplot are determined by the figsize argument, which specifies the size of the “master-plot” that encompasses all subplots [9]"
      ],
      "metadata": {
        "id": "j8iJJKTRB9Hp"
      }
    },
    {
      "cell_type": "code",
      "source": [
        "X_new.plot(subplots=True,figsize=(20,10), layout=(2, 2));"
      ],
      "metadata": {
        "id": "AkuXPOYxCnWt",
        "outputId": "6f09c3ca-f9fe-4cad-c53b-0994f25550df",
        "colab": {
          "base_uri": "https://localhost:8080/",
          "height": 592
        }
      },
      "execution_count": null,
      "outputs": [
        {
          "output_type": "display_data",
          "data": {
            "image/png": "[encoded data removed]",
            "text/plain": [
              "<Figure size 1440x720 with 4 Axes>"
            ]
          },
          "metadata": {
            "needs_background": "light"
          }
        }
      ]
    },
    {
      "cell_type": "markdown",
      "source": [
        "## **Seaborn**"
      ],
      "metadata": {
        "id": "91KNE5EjZY_p"
      }
    },
    {
      "cell_type": "markdown",
      "source": [
        "Developers created a new library based on matplotlib called seaborn. Seaborn is as powerful as matplotlib while also providing an abstraction to simplify plots and bring some unique features[11]"
      ],
      "metadata": {
        "id": "77KgVGw6ZwOa"
      }
    },
    {
      "cell_type": "markdown",
      "source": [
        "Seaborn is a library for making statistical graphics in Python. It builds on top of matplotlib and integrates closely with pandas data structures.\n",
        "Seaborn’s design allows you to explore and understand your data quickly. Seaborn works by capturing entire dataframes or arrays containing all your data and performing all the internal functions necessary for semantic mapping and statistical aggregation to convert data into informative plots.\n",
        "It abstracts complexity while allowing you to design your plots to your requirements [11]"
      ],
      "metadata": {
        "id": "pSlRJ7t6Z3bB"
      }
    },
    {
      "cell_type": "code",
      "source": [
        "!pip install seaborn notebook\n"
      ],
      "metadata": {
        "id": "j2GDuYbdXDCa"
      },
      "execution_count": null,
      "outputs": []
    },
    {
      "cell_type": "code",
      "source": [
        "import seaborn as sns\n",
        "import pandas as pd\n",
        "import numpy as np\n",
        "import matplotlib"
      ],
      "metadata": {
        "id": "tY3RMGzqXJwj"
      },
      "execution_count": null,
      "outputs": []
    },
    {
      "cell_type": "code",
      "source": [
        "X_new"
      ],
      "metadata": {
        "id": "O-zm76cGXLiq"
      },
      "execution_count": null,
      "outputs": []
    },
    {
      "cell_type": "markdown",
      "source": [
        "### **Scatter Plot**\n"
      ],
      "metadata": {
        "id": "DMD9qiEOaCww"
      }
    },
    {
      "cell_type": "markdown",
      "source": [
        "A scatter plot is a diagram that displays points based on two dimensions of the dataset. Creating a scatter plot in the seaborn library is so simple and requires just one line of code:[11]"
      ],
      "metadata": {
        "id": "ecvUdsfraL6R"
      }
    },
    {
      "cell_type": "code",
      "source": [
        "sns.scatterplot(data=X_new)\n"
      ],
      "metadata": {
        "id": "oXt5w4M8XisC"
      },
      "execution_count": null,
      "outputs": []
    },
    {
      "cell_type": "markdown",
      "source": [
        "### **Line Plot**"
      ],
      "metadata": {
        "id": "CwxbPk4Obp8x"
      }
    },
    {
      "cell_type": "markdown",
      "source": [
        "This plot draws a line that represents the revolution of continuous or categorical data. It is a popular and known type of chart, and it’s super easy to produce. Similarly to before, we use the function lineplot with the dataset and the columns represent the x and y axes. Seaborn will do the rest.[11]"
      ],
      "metadata": {
        "id": "_gsN15qJbunx"
      }
    },
    {
      "cell_type": "code",
      "source": [
        "sns.lineplot(data=X_new)\n"
      ],
      "metadata": {
        "id": "941JVqb9X1Fa"
      },
      "execution_count": null,
      "outputs": []
    },
    {
      "cell_type": "markdown",
      "source": [
        "### **Bar Plot**"
      ],
      "metadata": {
        "id": "afi5M1Nnb6hY"
      }
    },
    {
      "cell_type": "markdown",
      "source": [
        "This is probably the best-known type of chart, and as you may have predicted, we can plot this type of plot with seaborn in the same way as we did for line and scatter plots by using the function barplot.[11]"
      ],
      "metadata": {
        "id": "4EARvlY2cAHB"
      }
    },
    {
      "cell_type": "code",
      "source": [
        "sns.barplot(data=X_new)\n"
      ],
      "metadata": {
        "id": "1fkNx_N_YEYK",
        "outputId": "aceae71a-45f4-4564-f59d-6696fe4fd2c1",
        "colab": {
          "base_uri": "https://localhost:8080/",
          "height": 283
        }
      },
      "execution_count": null,
      "outputs": [
        {
          "output_type": "execute_result",
          "data": {
            "text/plain": [
              "<matplotlib.axes._subplots.AxesSubplot at 0x7f16460ce090>"
            ]
          },
          "metadata": {},
          "execution_count": 30
        },
        {
          "output_type": "display_data",
          "data": {
            "image/png": "[encoded data removed]",
            "text/plain": [
              "<Figure size 432x288 with 1 Axes>"
            ]
          },
          "metadata": {
            "needs_background": "light"
          }
        }
      ]
    },
    {
      "cell_type": "code",
      "source": [
        "sns.barplot(data=X_new)"
      ],
      "metadata": {
        "id": "WKStiTgvYTi6"
      },
      "execution_count": null,
      "outputs": []
    },
    {
      "cell_type": "markdown",
      "source": [
        "### **Making Beautiful Plots With Style**s\n"
      ],
      "metadata": {
        "id": "1WxcMGzucNfX"
      }
    },
    {
      "cell_type": "markdown",
      "source": [
        "Seaborn gives you the ability to change your graph’s interface, and it provides five different styles out of the box: darkgrid, whitegrid, dark, white, and ticks.[11]"
      ],
      "metadata": {
        "id": "kcZ8EN7UcSQ2"
      }
    },
    {
      "cell_type": "code",
      "source": [
        "sns.set_style(\"darkgrid\")\n",
        "sns.lineplot(data = X_new)"
      ],
      "metadata": {
        "id": "DaXYuNgIYiTC"
      },
      "execution_count": null,
      "outputs": []
    },
    {
      "cell_type": "code",
      "source": [
        "sns.hist(X_new)"
      ],
      "metadata": {
        "id": "CgPsI9pWYxty"
      },
      "execution_count": null,
      "outputs": []
    },
    {
      "cell_type": "markdown",
      "metadata": {
        "id": "FjkTmt_o3QvP"
      },
      "source": [
        "#**Automatic Data Ploting**"
      ]
    },
    {
      "cell_type": "markdown",
      "metadata": {
        "id": "7sC_bFu6NNVK"
      },
      "source": [
        "## **Dtale**"
      ]
    },
    {
      "cell_type": "code",
      "metadata": {
        "id": "aLwIuW0x2htu"
      },
      "source": [
        "!pip install dtale"
      ],
      "execution_count": null,
      "outputs": []
    },
    {
      "cell_type": "code",
      "metadata": {
        "colab": {
          "base_uri": "https://localhost:8080/"
        },
        "id": "Tnfxwn-V3EKO",
        "outputId": "b547eb8b-926d-4926-ceeb-cf7f0e70c4ae"
      },
      "source": [
        "import dtale\n",
        "import pandas as pd\n",
        "df = pd.read_csv(\"/content/drive/MyDrive/Datasets/Recommended System/Placement_Data_Full_Class.csv\")\n",
        "d = dtale.show(df, ignore_duplicate=True)\n",
        "d"
      ],
      "execution_count": null,
      "outputs": [
        {
          "output_type": "execute_result",
          "data": {
            "text/plain": [
              "http://4ce9203885b8:40000/dtale/main/1"
            ]
          },
          "metadata": {
            "tags": []
          },
          "execution_count": 18
        }
      ]
    },
    {
      "cell_type": "markdown",
      "metadata": {
        "id": "lGdUk6uW15rP"
      },
      "source": [
        "## **Chartify** [4]"
      ]
    },
    {
      "cell_type": "markdown",
      "metadata": {
        "id": "giDmQBKx2GOj"
      },
      "source": [
        "Chartify is a visualization library that aims to make it as easy as possible for data scientists to create charts. It comes with user-friendly syntax and consistent data formatting compared to other tools. It takes less time to create beautiful and quick charts. This was developed by Spotify labs.\n",
        "Here, I am showing only the bar chart. For more details and charts, please check this documentation and notebook"
      ]
    },
    {
      "cell_type": "code",
      "metadata": {
        "id": "a02kU8q42KII"
      },
      "source": [
        "!pip install chartify\n"
      ],
      "execution_count": null,
      "outputs": []
    },
    {
      "cell_type": "code",
      "metadata": {
        "id": "u699hd9f2RNg",
        "colab": {
          "base_uri": "https://localhost:8080/",
          "height": 204
        },
        "outputId": "272bbc6e-3b30-44c5-dcd0-2255614e0800"
      },
      "source": [
        "# importing necessary library\n",
        "import numpy as np\n",
        "import pandas as pd\n",
        "import chartify\n",
        "#loading example dataset from chartify\n",
        "data = chartify.examples.example_data()\n",
        "data.head()"
      ],
      "execution_count": null,
      "outputs": [
        {
          "output_type": "execute_result",
          "data": {
            "text/html": [
              "<div>\n",
              "<style scoped>\n",
              "    .dataframe tbody tr th:only-of-type {\n",
              "        vertical-align: middle;\n",
              "    }\n",
              "\n",
              "    .dataframe tbody tr th {\n",
              "        vertical-align: top;\n",
              "    }\n",
              "\n",
              "    .dataframe thead th {\n",
              "        text-align: right;\n",
              "    }\n",
              "</style>\n",
              "<table border=\"1\" class=\"dataframe\">\n",
              "  <thead>\n",
              "    <tr style=\"text-align: right;\">\n",
              "      <th></th>\n",
              "      <th>date</th>\n",
              "      <th>country</th>\n",
              "      <th>fruit</th>\n",
              "      <th>unit_price</th>\n",
              "      <th>quantity</th>\n",
              "      <th>total_price</th>\n",
              "    </tr>\n",
              "  </thead>\n",
              "  <tbody>\n",
              "    <tr>\n",
              "      <th>0</th>\n",
              "      <td>2017-10-21</td>\n",
              "      <td>US</td>\n",
              "      <td>Banana</td>\n",
              "      <td>0.303711</td>\n",
              "      <td>4</td>\n",
              "      <td>1.214846</td>\n",
              "    </tr>\n",
              "    <tr>\n",
              "      <th>1</th>\n",
              "      <td>2017-05-30</td>\n",
              "      <td>JP</td>\n",
              "      <td>Banana</td>\n",
              "      <td>0.254109</td>\n",
              "      <td>4</td>\n",
              "      <td>1.016436</td>\n",
              "    </tr>\n",
              "    <tr>\n",
              "      <th>2</th>\n",
              "      <td>2017-05-21</td>\n",
              "      <td>CA</td>\n",
              "      <td>Banana</td>\n",
              "      <td>0.268635</td>\n",
              "      <td>4</td>\n",
              "      <td>1.074539</td>\n",
              "    </tr>\n",
              "    <tr>\n",
              "      <th>3</th>\n",
              "      <td>2017-09-18</td>\n",
              "      <td>BR</td>\n",
              "      <td>Grape</td>\n",
              "      <td>2.215277</td>\n",
              "      <td>2</td>\n",
              "      <td>4.430554</td>\n",
              "    </tr>\n",
              "    <tr>\n",
              "      <th>4</th>\n",
              "      <td>2017-12-08</td>\n",
              "      <td>US</td>\n",
              "      <td>Banana</td>\n",
              "      <td>0.308337</td>\n",
              "      <td>5</td>\n",
              "      <td>1.541687</td>\n",
              "    </tr>\n",
              "  </tbody>\n",
              "</table>\n",
              "</div>"
            ],
            "text/plain": [
              "        date country   fruit  unit_price  quantity  total_price\n",
              "0 2017-10-21      US  Banana    0.303711         4     1.214846\n",
              "1 2017-05-30      JP  Banana    0.254109         4     1.016436\n",
              "2 2017-05-21      CA  Banana    0.268635         4     1.074539\n",
              "3 2017-09-18      BR   Grape    2.215277         2     4.430554\n",
              "4 2017-12-08      US  Banana    0.308337         5     1.541687"
            ]
          },
          "metadata": {},
          "execution_count": 18
        }
      ]
    },
    {
      "cell_type": "code",
      "metadata": {
        "id": "w9Hs5RKw2gz0"
      },
      "source": [
        "# Calculating total quanity for each fruits\n",
        "quantity_by_fruit = (data.groupby(‘fruit’)[‘quantity’].sum().reset_index())\n",
        "ch = chartify.Chart(blank_labels=True, x_axis_type=’categorical’)\n",
        "ch.set_title(“Vertical bar plot”)\n",
        "ch.set_subtitle(“Automatically sorts by value counts.”)\n",
        "ch.plot.bar(\n",
        " data_frame=quantity_by_fruit,\n",
        " categorical_columns=’fruit’,\n",
        " numeric_column=’quantity’)\n",
        "ch.show()"
      ],
      "execution_count": null,
      "outputs": []
    },
    {
      "cell_type": "markdown",
      "metadata": {
        "id": "tUJeO3hsNfvX"
      },
      "source": [
        "## **Lux**"
      ]
    },
    {
      "cell_type": "markdown",
      "source": [
        "Lux will take any data frame and automatically suggest visualizations that the user can click on and create in an instant. Getting the syntax correct for visualizations can be time consuming and Lux reduces this time to only a few seconds[10]"
      ],
      "metadata": {
        "id": "SYIlv1qpHsmP"
      }
    },
    {
      "cell_type": "code",
      "metadata": {
        "id": "9vggj6kLN3Y0",
        "colab": {
          "base_uri": "https://localhost:8080/",
          "height": 1000
        },
        "outputId": "75e15c29-3182-4b88-8b76-e6083c07ec22"
      },
      "source": [
        "!pip install lux-api\n"
      ],
      "execution_count": null,
      "outputs": [
        {
          "output_type": "stream",
          "name": "stdout",
          "text": [
            "Collecting lux-api\n",
            "  Downloading lux-api-0.4.0.tar.gz (123 kB)\n",
            "\u001b[?25l\r\u001b[K     |██▋                             | 10 kB 28.7 MB/s eta 0:00:01\r\u001b[K     |█████▎                          | 20 kB 20.7 MB/s eta 0:00:01\r\u001b[K     |████████                        | 30 kB 10.6 MB/s eta 0:00:01\r\u001b[K     |██████████▋                     | 40 kB 8.5 MB/s eta 0:00:01\r\u001b[K     |█████████████▎                  | 51 kB 5.4 MB/s eta 0:00:01\r\u001b[K     |████████████████                | 61 kB 5.6 MB/s eta 0:00:01\r\u001b[K     |██████████████████▋             | 71 kB 5.5 MB/s eta 0:00:01\r\u001b[K     |█████████████████████▎          | 81 kB 6.2 MB/s eta 0:00:01\r\u001b[K     |████████████████████████        | 92 kB 6.3 MB/s eta 0:00:01\r\u001b[K     |██████████████████████████▋     | 102 kB 5.2 MB/s eta 0:00:01\r\u001b[K     |█████████████████████████████▎  | 112 kB 5.2 MB/s eta 0:00:01\r\u001b[K     |████████████████████████████████| 122 kB 5.2 MB/s eta 0:00:01\r\u001b[K     |████████████████████████████████| 123 kB 5.2 MB/s \n",
            "\u001b[?25h  Installing build dependencies ... \u001b[?25l\u001b[?25hdone\n",
            "  Getting requirements to build wheel ... \u001b[?25l\u001b[?25hdone\n",
            "    Preparing wheel metadata ... \u001b[?25l\u001b[?25hdone\n",
            "Requirement already satisfied: altair>=4.0.0 in /usr/local/lib/python3.7/dist-packages (from lux-api) (4.2.0)\n",
            "Requirement already satisfied: numpy>=1.16.5 in /usr/local/lib/python3.7/dist-packages (from lux-api) (1.21.5)\n",
            "Requirement already satisfied: scipy>=1.3.3 in /usr/local/lib/python3.7/dist-packages (from lux-api) (1.4.1)\n",
            "Collecting pandas<1.3.0,>=1.2.0\n",
            "  Downloading pandas-1.2.5-cp37-cp37m-manylinux_2_5_x86_64.manylinux1_x86_64.whl (9.9 MB)\n",
            "\u001b[K     |████████████████████████████████| 9.9 MB 19.0 MB/s \n",
            "\u001b[?25hCollecting iso3166\n",
            "  Downloading iso3166-2.0.2-py3-none-any.whl (8.5 kB)\n",
            "Requirement already satisfied: matplotlib>=3.0.0 in /usr/local/lib/python3.7/dist-packages (from lux-api) (3.2.2)\n",
            "Collecting lux-widget>=0.1.4\n",
            "  Downloading lux-widget-0.1.10.tar.gz (2.5 MB)\n",
            "\u001b[K     |████████████████████████████████| 2.5 MB 36.8 MB/s \n",
            "\u001b[?25hRequirement already satisfied: scikit-learn>=0.22 in /usr/local/lib/python3.7/dist-packages (from lux-api) (0.24.2)\n",
            "Collecting autopep8>=1.5\n",
            "  Downloading autopep8-1.6.0-py2.py3-none-any.whl (45 kB)\n",
            "\u001b[K     |████████████████████████████████| 45 kB 2.7 MB/s \n",
            "\u001b[?25hRequirement already satisfied: entrypoints in /usr/local/lib/python3.7/dist-packages (from altair>=4.0.0->lux-api) (0.4)\n",
            "Requirement already satisfied: toolz in /usr/local/lib/python3.7/dist-packages (from altair>=4.0.0->lux-api) (0.11.2)\n",
            "Requirement already satisfied: jsonschema>=3.0 in /usr/local/lib/python3.7/dist-packages (from altair>=4.0.0->lux-api) (4.3.3)\n",
            "Requirement already satisfied: jinja2 in /usr/local/lib/python3.7/dist-packages (from altair>=4.0.0->lux-api) (2.11.3)\n",
            "Collecting pycodestyle>=2.8.0\n",
            "  Downloading pycodestyle-2.8.0-py2.py3-none-any.whl (42 kB)\n",
            "\u001b[K     |████████████████████████████████| 42 kB 712 kB/s \n",
            "\u001b[?25hRequirement already satisfied: toml in /usr/local/lib/python3.7/dist-packages (from autopep8>=1.5->lux-api) (0.10.2)\n",
            "Requirement already satisfied: importlib-metadata in /usr/local/lib/python3.7/dist-packages (from jsonschema>=3.0->altair>=4.0.0->lux-api) (4.11.0)\n",
            "Requirement already satisfied: attrs>=17.4.0 in /usr/local/lib/python3.7/dist-packages (from jsonschema>=3.0->altair>=4.0.0->lux-api) (21.4.0)\n",
            "Requirement already satisfied: typing-extensions in /usr/local/lib/python3.7/dist-packages (from jsonschema>=3.0->altair>=4.0.0->lux-api) (3.10.0.2)\n",
            "Requirement already satisfied: importlib-resources>=1.4.0 in /usr/local/lib/python3.7/dist-packages (from jsonschema>=3.0->altair>=4.0.0->lux-api) (5.4.0)\n",
            "Requirement already satisfied: pyrsistent!=0.17.0,!=0.17.1,!=0.17.2,>=0.14.0 in /usr/local/lib/python3.7/dist-packages (from jsonschema>=3.0->altair>=4.0.0->lux-api) (0.18.1)\n",
            "Requirement already satisfied: zipp>=3.1.0 in /usr/local/lib/python3.7/dist-packages (from importlib-resources>=1.4.0->jsonschema>=3.0->altair>=4.0.0->lux-api) (3.7.0)\n",
            "Requirement already satisfied: notebook>=4.0.0 in /usr/local/lib/python3.7/dist-packages (from lux-widget>=0.1.4->lux-api) (5.3.1)\n",
            "Requirement already satisfied: ipywidgets>=7.5.0 in /usr/local/lib/python3.7/dist-packages (from lux-widget>=0.1.4->lux-api) (7.6.5)\n",
            "Requirement already satisfied: ipykernel>=4.5.1 in /usr/local/lib/python3.7/dist-packages (from ipywidgets>=7.5.0->lux-widget>=0.1.4->lux-api) (4.10.1)\n",
            "Requirement already satisfied: ipython-genutils~=0.2.0 in /usr/local/lib/python3.7/dist-packages (from ipywidgets>=7.5.0->lux-widget>=0.1.4->lux-api) (0.2.0)\n",
            "Requirement already satisfied: traitlets>=4.3.1 in /usr/local/lib/python3.7/dist-packages (from ipywidgets>=7.5.0->lux-widget>=0.1.4->lux-api) (5.1.1)\n",
            "Requirement already satisfied: ipython>=4.0.0 in /usr/local/lib/python3.7/dist-packages (from ipywidgets>=7.5.0->lux-widget>=0.1.4->lux-api) (5.5.0)\n",
            "Requirement already satisfied: jupyterlab-widgets>=1.0.0 in /usr/local/lib/python3.7/dist-packages (from ipywidgets>=7.5.0->lux-widget>=0.1.4->lux-api) (1.0.2)\n",
            "Requirement already satisfied: nbformat>=4.2.0 in /usr/local/lib/python3.7/dist-packages (from ipywidgets>=7.5.0->lux-widget>=0.1.4->lux-api) (5.1.3)\n",
            "Requirement already satisfied: widgetsnbextension~=3.5.0 in /usr/local/lib/python3.7/dist-packages (from ipywidgets>=7.5.0->lux-widget>=0.1.4->lux-api) (3.5.2)\n",
            "Requirement already satisfied: jupyter-client in /usr/local/lib/python3.7/dist-packages (from ipykernel>=4.5.1->ipywidgets>=7.5.0->lux-widget>=0.1.4->lux-api) (5.3.5)\n",
            "Requirement already satisfied: tornado>=4.0 in /usr/local/lib/python3.7/dist-packages (from ipykernel>=4.5.1->ipywidgets>=7.5.0->lux-widget>=0.1.4->lux-api) (5.1.1)\n",
            "Requirement already satisfied: prompt-toolkit<2.0.0,>=1.0.4 in /usr/local/lib/python3.7/dist-packages (from ipython>=4.0.0->ipywidgets>=7.5.0->lux-widget>=0.1.4->lux-api) (1.0.18)\n",
            "Requirement already satisfied: pexpect in /usr/local/lib/python3.7/dist-packages (from ipython>=4.0.0->ipywidgets>=7.5.0->lux-widget>=0.1.4->lux-api) (4.8.0)\n",
            "Requirement already satisfied: pygments in /usr/local/lib/python3.7/dist-packages (from ipython>=4.0.0->ipywidgets>=7.5.0->lux-widget>=0.1.4->lux-api) (2.6.1)\n",
            "Requirement already satisfied: decorator in /usr/local/lib/python3.7/dist-packages (from ipython>=4.0.0->ipywidgets>=7.5.0->lux-widget>=0.1.4->lux-api) (4.4.2)\n",
            "Requirement already satisfied: pickleshare in /usr/local/lib/python3.7/dist-packages (from ipython>=4.0.0->ipywidgets>=7.5.0->lux-widget>=0.1.4->lux-api) (0.7.5)\n",
            "Requirement already satisfied: simplegeneric>0.8 in /usr/local/lib/python3.7/dist-packages (from ipython>=4.0.0->ipywidgets>=7.5.0->lux-widget>=0.1.4->lux-api) (0.8.1)\n",
            "Requirement already satisfied: setuptools>=18.5 in /usr/local/lib/python3.7/dist-packages (from ipython>=4.0.0->ipywidgets>=7.5.0->lux-widget>=0.1.4->lux-api) (57.4.0)\n",
            "Requirement already satisfied: python-dateutil>=2.1 in /usr/local/lib/python3.7/dist-packages (from matplotlib>=3.0.0->lux-api) (2.8.2)\n",
            "Requirement already satisfied: cycler>=0.10 in /usr/local/lib/python3.7/dist-packages (from matplotlib>=3.0.0->lux-api) (0.11.0)\n",
            "Requirement already satisfied: pyparsing!=2.0.4,!=2.1.2,!=2.1.6,>=2.0.1 in /usr/local/lib/python3.7/dist-packages (from matplotlib>=3.0.0->lux-api) (3.0.7)\n",
            "Requirement already satisfied: kiwisolver>=1.0.1 in /usr/local/lib/python3.7/dist-packages (from matplotlib>=3.0.0->lux-api) (1.3.2)\n",
            "Requirement already satisfied: jupyter-core in /usr/local/lib/python3.7/dist-packages (from nbformat>=4.2.0->ipywidgets>=7.5.0->lux-widget>=0.1.4->lux-api) (4.9.1)\n",
            "Requirement already satisfied: Send2Trash in /usr/local/lib/python3.7/dist-packages (from notebook>=4.0.0->lux-widget>=0.1.4->lux-api) (1.8.0)\n",
            "Requirement already satisfied: terminado>=0.8.1 in /usr/local/lib/python3.7/dist-packages (from notebook>=4.0.0->lux-widget>=0.1.4->lux-api) (0.13.1)\n",
            "Requirement already satisfied: nbconvert in /usr/local/lib/python3.7/dist-packages (from notebook>=4.0.0->lux-widget>=0.1.4->lux-api) (5.6.1)\n",
            "Requirement already satisfied: pyzmq>=13 in /usr/local/lib/python3.7/dist-packages (from jupyter-client->ipykernel>=4.5.1->ipywidgets>=7.5.0->lux-widget>=0.1.4->lux-api) (22.3.0)\n",
            "Requirement already satisfied: pytz>=2017.3 in /usr/local/lib/python3.7/dist-packages (from pandas<1.3.0,>=1.2.0->lux-api) (2021.3)\n",
            "Requirement already satisfied: wcwidth in /usr/local/lib/python3.7/dist-packages (from prompt-toolkit<2.0.0,>=1.0.4->ipython>=4.0.0->ipywidgets>=7.5.0->lux-widget>=0.1.4->lux-api) (0.2.5)\n",
            "Requirement already satisfied: six>=1.9.0 in /usr/local/lib/python3.7/dist-packages (from prompt-toolkit<2.0.0,>=1.0.4->ipython>=4.0.0->ipywidgets>=7.5.0->lux-widget>=0.1.4->lux-api) (1.15.0)\n",
            "Requirement already satisfied: joblib>=0.11 in /usr/local/lib/python3.7/dist-packages (from scikit-learn>=0.22->lux-api) (0.14.1)\n",
            "Requirement already satisfied: threadpoolctl>=2.0.0 in /usr/local/lib/python3.7/dist-packages (from scikit-learn>=0.22->lux-api) (3.1.0)\n",
            "Requirement already satisfied: ptyprocess in /usr/local/lib/python3.7/dist-packages (from terminado>=0.8.1->notebook>=4.0.0->lux-widget>=0.1.4->lux-api) (0.7.0)\n",
            "Requirement already satisfied: MarkupSafe>=0.23 in /usr/local/lib/python3.7/dist-packages (from jinja2->altair>=4.0.0->lux-api) (2.0.1)\n",
            "Requirement already satisfied: bleach in /usr/local/lib/python3.7/dist-packages (from nbconvert->notebook>=4.0.0->lux-widget>=0.1.4->lux-api) (4.1.0)\n",
            "Requirement already satisfied: pandocfilters>=1.4.1 in /usr/local/lib/python3.7/dist-packages (from nbconvert->notebook>=4.0.0->lux-widget>=0.1.4->lux-api) (1.5.0)\n",
            "Requirement already satisfied: defusedxml in /usr/local/lib/python3.7/dist-packages (from nbconvert->notebook>=4.0.0->lux-widget>=0.1.4->lux-api) (0.7.1)\n",
            "Requirement already satisfied: mistune<2,>=0.8.1 in /usr/local/lib/python3.7/dist-packages (from nbconvert->notebook>=4.0.0->lux-widget>=0.1.4->lux-api) (0.8.4)\n",
            "Requirement already satisfied: testpath in /usr/local/lib/python3.7/dist-packages (from nbconvert->notebook>=4.0.0->lux-widget>=0.1.4->lux-api) (0.5.0)\n",
            "Requirement already satisfied: webencodings in /usr/local/lib/python3.7/dist-packages (from bleach->nbconvert->notebook>=4.0.0->lux-widget>=0.1.4->lux-api) (0.5.1)\n",
            "Requirement already satisfied: packaging in /usr/local/lib/python3.7/dist-packages (from bleach->nbconvert->notebook>=4.0.0->lux-widget>=0.1.4->lux-api) (21.3)\n",
            "Building wheels for collected packages: lux-api, lux-widget\n",
            "  Building wheel for lux-api (PEP 517) ... \u001b[?25l\u001b[?25hdone\n",
            "  Created wheel for lux-api: filename=lux_api-0.4.0-py3-none-any.whl size=181967 sha256=945dd6ee597b67e6a2eb1ffcfdbc2f6a936bcbac9c67784ee55e0578a81d7940\n",
            "  Stored in directory: /root/.cache/pip/wheels/1d/2a/80/9e7f8b9c5642f147e99d9354bd41e21c14e912ef3224c30f43\n",
            "  Building wheel for lux-widget (setup.py) ... \u001b[?25l\u001b[?25hdone\n",
            "  Created wheel for lux-widget: filename=lux_widget-0.1.10-py3-none-any.whl size=2539952 sha256=08d68568b4abc4de9cc75cfbda1ee3a5b2923b6a83f223844c1dee456b0c4582\n",
            "  Stored in directory: /root/.cache/pip/wheels/6d/7c/ab/6b22af94201ab6ed98247aa8a2925eb5b62435ad8382b67f6e\n",
            "Successfully built lux-api lux-widget\n",
            "Installing collected packages: pycodestyle, pandas, lux-widget, iso3166, autopep8, lux-api\n",
            "  Attempting uninstall: pandas\n",
            "    Found existing installation: pandas 1.3.5\n",
            "    Uninstalling pandas-1.3.5:\n",
            "      Successfully uninstalled pandas-1.3.5\n",
            "\u001b[31mERROR: pip's dependency resolver does not currently take into account all the packages that are installed. This behaviour is the source of the following dependency conflicts.\n",
            "google-colab 1.0.0 requires requests~=2.23.0, but you have requests 2.27.1 which is incompatible.\u001b[0m\n",
            "Successfully installed autopep8-1.6.0 iso3166-2.0.2 lux-api-0.4.0 lux-widget-0.1.10 pandas-1.2.5 pycodestyle-2.8.0\n"
          ]
        },
        {
          "output_type": "display_data",
          "data": {
            "application/vnd.colab-display-data+json": {
              "pip_warning": {
                "packages": [
                  "pandas"
                ]
              }
            }
          },
          "metadata": {}
        }
      ]
    },
    {
      "cell_type": "code",
      "metadata": {
        "id": "ubsSefJVPWRH"
      },
      "source": [
        "!pip install git+https://github.com/lux-org/lux.git\n"
      ],
      "execution_count": null,
      "outputs": []
    },
    {
      "cell_type": "code",
      "metadata": {
        "id": "ZsygDch0OLcP"
      },
      "source": [
        "import pandas as pd\n",
        "import lux"
      ],
      "execution_count": null,
      "outputs": []
    },
    {
      "cell_type": "code",
      "metadata": {
        "id": "QQg6omxvORTS"
      },
      "source": [
        "df = pd.read_csv(\"https://github.com/lux-org/lux-datasets/blob/master/data/hpi_full.csv?raw=True\")"
      ],
      "execution_count": null,
      "outputs": []
    },
    {
      "cell_type": "code",
      "metadata": {
        "id": "Zfs3x64nOaZk"
      },
      "source": [
        "df"
      ],
      "execution_count": null,
      "outputs": []
    },
    {
      "cell_type": "markdown",
      "source": [
        "Lux also offer an intent feature, where you can specify which attributes (columns) they are interested in. Lux will offer charts specific to those columns."
      ],
      "metadata": {
        "id": "E-C-HEtrId5f"
      }
    },
    {
      "cell_type": "code",
      "metadata": {
        "id": "prFSWvptO0AJ"
      },
      "source": [
        "df.intent = [\"Inequality\",\"AvrgLifeExpectancy\"]"
      ],
      "execution_count": null,
      "outputs": []
    },
    {
      "cell_type": "code",
      "metadata": {
        "id": "e3xW_3WiO1-Q"
      },
      "source": [
        "df"
      ],
      "execution_count": null,
      "outputs": []
    },
    {
      "cell_type": "markdown",
      "metadata": {
        "id": "nyQlJ0oF1m0A"
      },
      "source": [
        "## **Pandas Profiling**"
      ]
    },
    {
      "cell_type": "markdown",
      "metadata": {
        "id": "z5kn2WaDHWvt"
      },
      "source": [
        "This should be no surprise to those of you who’ve been following me. The benefits of this tool are obvious. The animation below is the results of calling the simple method df.profile_report(), take a look at the resulting report yourself[6]"
      ]
    },
    {
      "cell_type": "markdown",
      "metadata": {
        "id": "31h4REkQHeAm"
      },
      "source": [
        "Using this tool is simple a matter of installing and importing the Pandas Profiling package.\n",
        "I wont spend too much time on this one since I’ve already written a small article on the subject, so if you want to know more about this gem of a package, then please read my article about Pandas Profiling here:"
      ]
    },
    {
      "cell_type": "code",
      "metadata": {
        "id": "SAhKmZjJ10Qx"
      },
      "source": [
        "!pip install pandas-profiling"
      ],
      "execution_count": null,
      "outputs": []
    },
    {
      "cell_type": "code",
      "metadata": {
        "id": "uUTS3kzn18Zo"
      },
      "source": [
        "import pandas as pd\n",
        "import pandas_profiling\n",
        "import numpy as np"
      ],
      "execution_count": null,
      "outputs": []
    },
    {
      "cell_type": "code",
      "metadata": {
        "id": "7-IQ-nXh2CRx"
      },
      "source": [
        "pandas_profiling.ProfileReport(data)"
      ],
      "execution_count": null,
      "outputs": []
    },
    {
      "cell_type": "markdown",
      "metadata": {
        "id": "iapf0tK6MV8I"
      },
      "source": [
        "## **Sweetviz**"
      ]
    },
    {
      "cell_type": "markdown",
      "metadata": {
        "id": "IGZL6SQfLu4p"
      },
      "source": [
        "Sweetviz is an open-source python library that generates beautiful, high-density visualizations to start your EDA. Let us explore Sweetviz and its functionalities in detail. The version which we will be exploring is V 2.0.6 which is released on 06/02/2021.[7]"
      ]
    },
    {
      "cell_type": "code",
      "metadata": {
        "id": "JShsU_Cx3j8Q"
      },
      "source": [
        "!pip install sweetviz"
      ],
      "execution_count": null,
      "outputs": []
    },
    {
      "cell_type": "code",
      "metadata": {
        "id": "teKO1mOX3tc-"
      },
      "source": [
        "import sweetviz\n",
        "import pandas as pd\n",
        "import sweetviz as sv\n",
        "my_report  = sweetviz.analyze([data,'Train'], target_feat='specialisation')\n",
        "my_report.show_html('FinalReport.html')"
      ],
      "execution_count": null,
      "outputs": []
    },
    {
      "cell_type": "markdown",
      "metadata": {
        "id": "GRtP575MNHno"
      },
      "source": [
        "**Create Analysis Report**"
      ]
    },
    {
      "cell_type": "markdown",
      "metadata": {
        "id": "-sLcKD9KNKJ3"
      },
      "source": [
        "Let’s start by creating an analysis report which will be helpful in performing Data analysis and creates an interactive HTML report of data with visualization.[7]"
      ]
    },
    {
      "cell_type": "code",
      "metadata": {
        "id": "rQSlHh2pNhKY"
      },
      "source": [
        "import sweetviz as sv\n"
      ],
      "execution_count": null,
      "outputs": []
    },
    {
      "cell_type": "code",
      "metadata": {
        "id": "clxKoowPNQnu"
      },
      "source": [
        "analyze_report = sv.analyze(X_train)\n",
        "analyze_report.show_html()"
      ],
      "execution_count": null,
      "outputs": []
    },
    {
      "cell_type": "markdown",
      "metadata": {
        "id": "EciviMWOOVBx"
      },
      "source": [
        "This is the main page of the report, Here on the right side you can see associations as highlighted which shows the corelation of the features. Similarly we can highlight different feature columns in order to analyze them, let me show you one example of analyzing a column.[6]"
      ]
    },
    {
      "cell_type": "markdown",
      "metadata": {
        "id": "JfKbCUozOZ8G"
      },
      "source": [
        "So, here in this image you can clearly see how you can select a particular column to analyze it in depth with visualization.\n",
        "Next we will see how we can create comparison reports. Sweetviz allows you to create Inter comapison and intra comparison(based on a particular column)."
      ]
    },
    {
      "cell_type": "markdown",
      "metadata": {
        "id": "MyosQksTObjN"
      },
      "source": [
        "**Train and Test Data Compaison[7]**"
      ]
    },
    {
      "cell_type": "markdown",
      "metadata": {
        "id": "s_UGNcVdOg5t"
      },
      "source": [
        "We can create a comparison report where we can analyze the similarities and differences between the test and the training data."
      ]
    },
    {
      "cell_type": "code",
      "metadata": {
        "colab": {
          "base_uri": "https://localhost:8080/",
          "height": 439
        },
        "id": "YekbdXokO8lE",
        "outputId": "ebf1a2c1-6d1c-4744-cc01-1b6a61e7d68d"
      },
      "source": [
        "data"
      ],
      "execution_count": null,
      "outputs": [
        {
          "output_type": "execute_result",
          "data": {
            "text/html": [
              "<div>\n",
              "<style scoped>\n",
              "    .dataframe tbody tr th:only-of-type {\n",
              "        vertical-align: middle;\n",
              "    }\n",
              "\n",
              "    .dataframe tbody tr th {\n",
              "        vertical-align: top;\n",
              "    }\n",
              "\n",
              "    .dataframe thead th {\n",
              "        text-align: right;\n",
              "    }\n",
              "</style>\n",
              "<table border=\"1\" class=\"dataframe\">\n",
              "  <thead>\n",
              "    <tr style=\"text-align: right;\">\n",
              "      <th></th>\n",
              "      <th>sl_no</th>\n",
              "      <th>gender</th>\n",
              "      <th>ssc_p</th>\n",
              "      <th>ssc_b</th>\n",
              "      <th>hsc_p</th>\n",
              "      <th>hsc_b</th>\n",
              "      <th>hsc_s</th>\n",
              "      <th>degree_p</th>\n",
              "      <th>degree_t</th>\n",
              "      <th>workex</th>\n",
              "      <th>etest_p</th>\n",
              "      <th>specialisation</th>\n",
              "      <th>mba_p</th>\n",
              "      <th>status</th>\n",
              "    </tr>\n",
              "  </thead>\n",
              "  <tbody>\n",
              "    <tr>\n",
              "      <th>0</th>\n",
              "      <td>0.000000</td>\n",
              "      <td>1.0</td>\n",
              "      <td>0.538240</td>\n",
              "      <td>1.0</td>\n",
              "      <td>0.889621</td>\n",
              "      <td>1.0</td>\n",
              "      <td>0.5</td>\n",
              "      <td>0.195122</td>\n",
              "      <td>1.0</td>\n",
              "      <td>0.0</td>\n",
              "      <td>0.104167</td>\n",
              "      <td>1.0</td>\n",
              "      <td>0.284483</td>\n",
              "      <td>1.0</td>\n",
              "    </tr>\n",
              "    <tr>\n",
              "      <th>1</th>\n",
              "      <td>0.004673</td>\n",
              "      <td>1.0</td>\n",
              "      <td>0.792414</td>\n",
              "      <td>0.0</td>\n",
              "      <td>0.680890</td>\n",
              "      <td>1.0</td>\n",
              "      <td>1.0</td>\n",
              "      <td>0.670244</td>\n",
              "      <td>1.0</td>\n",
              "      <td>1.0</td>\n",
              "      <td>0.760417</td>\n",
              "      <td>0.0</td>\n",
              "      <td>0.564843</td>\n",
              "      <td>1.0</td>\n",
              "    </tr>\n",
              "    <tr>\n",
              "      <th>2</th>\n",
              "      <td>0.009346</td>\n",
              "      <td>1.0</td>\n",
              "      <td>0.497011</td>\n",
              "      <td>0.0</td>\n",
              "      <td>0.510708</td>\n",
              "      <td>0.0</td>\n",
              "      <td>0.0</td>\n",
              "      <td>0.341463</td>\n",
              "      <td>0.0</td>\n",
              "      <td>0.0</td>\n",
              "      <td>0.520833</td>\n",
              "      <td>0.0</td>\n",
              "      <td>0.247001</td>\n",
              "      <td>1.0</td>\n",
              "    </tr>\n",
              "    <tr>\n",
              "      <th>3</th>\n",
              "      <td>0.014019</td>\n",
              "      <td>1.0</td>\n",
              "      <td>0.311482</td>\n",
              "      <td>0.0</td>\n",
              "      <td>0.247117</td>\n",
              "      <td>0.0</td>\n",
              "      <td>1.0</td>\n",
              "      <td>0.048780</td>\n",
              "      <td>1.0</td>\n",
              "      <td>0.0</td>\n",
              "      <td>0.333333</td>\n",
              "      <td>1.0</td>\n",
              "      <td>0.308096</td>\n",
              "      <td>0.0</td>\n",
              "    </tr>\n",
              "    <tr>\n",
              "      <th>4</th>\n",
              "      <td>0.018692</td>\n",
              "      <td>1.0</td>\n",
              "      <td>0.925788</td>\n",
              "      <td>0.0</td>\n",
              "      <td>0.602965</td>\n",
              "      <td>0.0</td>\n",
              "      <td>0.5</td>\n",
              "      <td>0.568293</td>\n",
              "      <td>0.0</td>\n",
              "      <td>0.0</td>\n",
              "      <td>0.975000</td>\n",
              "      <td>0.0</td>\n",
              "      <td>0.160795</td>\n",
              "      <td>1.0</td>\n",
              "    </tr>\n",
              "    <tr>\n",
              "      <th>...</th>\n",
              "      <td>...</td>\n",
              "      <td>...</td>\n",
              "      <td>...</td>\n",
              "      <td>...</td>\n",
              "      <td>...</td>\n",
              "      <td>...</td>\n",
              "      <td>...</td>\n",
              "      <td>...</td>\n",
              "      <td>...</td>\n",
              "      <td>...</td>\n",
              "      <td>...</td>\n",
              "      <td>...</td>\n",
              "      <td>...</td>\n",
              "      <td>...</td>\n",
              "    </tr>\n",
              "    <tr>\n",
              "      <th>210</th>\n",
              "      <td>0.981308</td>\n",
              "      <td>1.0</td>\n",
              "      <td>0.818594</td>\n",
              "      <td>1.0</td>\n",
              "      <td>0.741351</td>\n",
              "      <td>1.0</td>\n",
              "      <td>0.5</td>\n",
              "      <td>0.673171</td>\n",
              "      <td>0.0</td>\n",
              "      <td>0.0</td>\n",
              "      <td>0.854167</td>\n",
              "      <td>0.0</td>\n",
              "      <td>0.872564</td>\n",
              "      <td>1.0</td>\n",
              "    </tr>\n",
              "    <tr>\n",
              "      <th>211</th>\n",
              "      <td>0.985981</td>\n",
              "      <td>1.0</td>\n",
              "      <td>0.352711</td>\n",
              "      <td>1.0</td>\n",
              "      <td>0.378913</td>\n",
              "      <td>1.0</td>\n",
              "      <td>1.0</td>\n",
              "      <td>0.536585</td>\n",
              "      <td>1.0</td>\n",
              "      <td>0.0</td>\n",
              "      <td>0.500000</td>\n",
              "      <td>0.0</td>\n",
              "      <td>0.090330</td>\n",
              "      <td>1.0</td>\n",
              "    </tr>\n",
              "    <tr>\n",
              "      <th>212</th>\n",
              "      <td>0.990654</td>\n",
              "      <td>1.0</td>\n",
              "      <td>0.538240</td>\n",
              "      <td>1.0</td>\n",
              "      <td>0.494234</td>\n",
              "      <td>1.0</td>\n",
              "      <td>0.5</td>\n",
              "      <td>0.560976</td>\n",
              "      <td>0.0</td>\n",
              "      <td>1.0</td>\n",
              "      <td>0.187500</td>\n",
              "      <td>0.0</td>\n",
              "      <td>0.693778</td>\n",
              "      <td>1.0</td>\n",
              "    </tr>\n",
              "    <tr>\n",
              "      <th>213</th>\n",
              "      <td>0.995327</td>\n",
              "      <td>0.0</td>\n",
              "      <td>0.682540</td>\n",
              "      <td>1.0</td>\n",
              "      <td>0.477759</td>\n",
              "      <td>1.0</td>\n",
              "      <td>0.5</td>\n",
              "      <td>0.195122</td>\n",
              "      <td>0.0</td>\n",
              "      <td>0.0</td>\n",
              "      <td>0.416667</td>\n",
              "      <td>1.0</td>\n",
              "      <td>0.338081</td>\n",
              "      <td>1.0</td>\n",
              "    </tr>\n",
              "    <tr>\n",
              "      <th>214</th>\n",
              "      <td>1.000000</td>\n",
              "      <td>1.0</td>\n",
              "      <td>0.435168</td>\n",
              "      <td>0.0</td>\n",
              "      <td>0.345964</td>\n",
              "      <td>1.0</td>\n",
              "      <td>1.0</td>\n",
              "      <td>0.073171</td>\n",
              "      <td>0.0</td>\n",
              "      <td>0.0</td>\n",
              "      <td>0.812500</td>\n",
              "      <td>1.0</td>\n",
              "      <td>0.337706</td>\n",
              "      <td>0.0</td>\n",
              "    </tr>\n",
              "  </tbody>\n",
              "</table>\n",
              "<p>215 rows × 14 columns</p>\n",
              "</div>"
            ],
            "text/plain": [
              "        sl_no  gender     ssc_p  ...  specialisation     mba_p  status\n",
              "0    0.000000     1.0  0.538240  ...             1.0  0.284483     1.0\n",
              "1    0.004673     1.0  0.792414  ...             0.0  0.564843     1.0\n",
              "2    0.009346     1.0  0.497011  ...             0.0  0.247001     1.0\n",
              "3    0.014019     1.0  0.311482  ...             1.0  0.308096     0.0\n",
              "4    0.018692     1.0  0.925788  ...             0.0  0.160795     1.0\n",
              "..        ...     ...       ...  ...             ...       ...     ...\n",
              "210  0.981308     1.0  0.818594  ...             0.0  0.872564     1.0\n",
              "211  0.985981     1.0  0.352711  ...             0.0  0.090330     1.0\n",
              "212  0.990654     1.0  0.538240  ...             0.0  0.693778     1.0\n",
              "213  0.995327     0.0  0.682540  ...             1.0  0.338081     1.0\n",
              "214  1.000000     1.0  0.435168  ...             1.0  0.337706     0.0\n",
              "\n",
              "[215 rows x 14 columns]"
            ]
          },
          "metadata": {},
          "execution_count": 60
        }
      ]
    },
    {
      "cell_type": "code",
      "metadata": {
        "colab": {
          "base_uri": "https://localhost:8080/",
          "height": 373,
          "referenced_widgets": [
            "ae131c2bfc6f456ab5f238b8395bcf19",
            "dcdfcef8528b47018b0d80ebc65c4974",
            "524a1483e24444749f2ea1ce3142628a",
            "bd224a67b3404b87b89f22378802f624",
            "4d7fc101198e4393a262f64b964e2c0f",
            "f0523f186f56458bb3f275bf6a5acefd",
            "aed47707f32f44c2b530db00d7caf2b6",
            "3d0c3cb46bb1483985820f4a79a63a0a",
            "571318fe094440efa0bfd55532d02b09",
            "0d6a77469ed847c9b7d76b674e58cd4b",
            "1b171bf41132490cbb677bdfb97cef50"
          ]
        },
        "id": "p_edCB4NOqK9",
        "outputId": "6513ef81-5e2f-46c3-bff9-5a37bb0a4d98"
      },
      "source": [
        "compare = sv.compare([X_train, \"Training Data\"], [X_test, \"Test Data\"], \"target\")\n",
        "compare.show_html()"
      ],
      "execution_count": null,
      "outputs": [
        {
          "output_type": "display_data",
          "data": {
            "application/vnd.jupyter.widget-view+json": {
              "model_id": "ae131c2bfc6f456ab5f238b8395bcf19",
              "version_minor": 0,
              "version_major": 2
            },
            "text/plain": [
              "                                             |          | [  0%]   00:00 -> (? left)"
            ]
          },
          "metadata": {}
        },
        {
          "output_type": "error",
          "ename": "KeyError",
          "evalue": "ignored",
          "traceback": [
            "\u001b[0;31m---------------------------------------------------------------------------\u001b[0m",
            "\u001b[0;31mKeyError\u001b[0m                                  Traceback (most recent call last)",
            "\u001b[0;32m<ipython-input-63-a2f79e5cc002>\u001b[0m in \u001b[0;36m<module>\u001b[0;34m()\u001b[0m\n\u001b[0;32m----> 1\u001b[0;31m \u001b[0mcompare\u001b[0m \u001b[0;34m=\u001b[0m \u001b[0msv\u001b[0m\u001b[0;34m.\u001b[0m\u001b[0mcompare\u001b[0m\u001b[0;34m(\u001b[0m\u001b[0;34m[\u001b[0m\u001b[0mX_train\u001b[0m\u001b[0;34m,\u001b[0m \u001b[0;34m\"Training Data\"\u001b[0m\u001b[0;34m]\u001b[0m\u001b[0;34m,\u001b[0m \u001b[0;34m[\u001b[0m\u001b[0mX_test\u001b[0m\u001b[0;34m,\u001b[0m \u001b[0;34m\"Test Data\"\u001b[0m\u001b[0;34m]\u001b[0m\u001b[0;34m,\u001b[0m \u001b[0;34m\"target\"\u001b[0m\u001b[0;34m)\u001b[0m\u001b[0;34m\u001b[0m\u001b[0;34m\u001b[0m\u001b[0m\n\u001b[0m\u001b[1;32m      2\u001b[0m \u001b[0mcompare\u001b[0m\u001b[0;34m.\u001b[0m\u001b[0mshow_html\u001b[0m\u001b[0;34m(\u001b[0m\u001b[0;34m)\u001b[0m\u001b[0;34m\u001b[0m\u001b[0;34m\u001b[0m\u001b[0m\n",
            "\u001b[0;32m/usr/local/lib/python3.7/dist-packages/sweetviz/sv_public.py\u001b[0m in \u001b[0;36mcompare\u001b[0;34m(source, compare, target_feat, feat_cfg, pairwise_analysis)\u001b[0m\n\u001b[1;32m     21\u001b[0m             pairwise_analysis: str = 'auto'):\n\u001b[1;32m     22\u001b[0m     report = sweetviz.DataframeReport(source, target_feat, compare,\n\u001b[0;32m---> 23\u001b[0;31m                                       pairwise_analysis, feat_cfg)\n\u001b[0m\u001b[1;32m     24\u001b[0m     \u001b[0;32mreturn\u001b[0m \u001b[0mreport\u001b[0m\u001b[0;34m\u001b[0m\u001b[0;34m\u001b[0m\u001b[0m\n\u001b[1;32m     25\u001b[0m \u001b[0;34m\u001b[0m\u001b[0m\n",
            "\u001b[0;32m/usr/local/lib/python3.7/dist-packages/sweetviz/dataframe_report.py\u001b[0m in \u001b[0;36m__init__\u001b[0;34m(self, source, target_feature_name, compare, pairwise_analysis, fc)\u001b[0m\n\u001b[1;32m    171\u001b[0m             \u001b[0;32mif\u001b[0m \u001b[0mlen\u001b[0m\u001b[0;34m(\u001b[0m\u001b[0mtargets_found\u001b[0m\u001b[0;34m)\u001b[0m \u001b[0;34m==\u001b[0m \u001b[0;36m0\u001b[0m\u001b[0;34m:\u001b[0m\u001b[0;34m\u001b[0m\u001b[0;34m\u001b[0m\u001b[0m\n\u001b[1;32m    172\u001b[0m                 \u001b[0mself\u001b[0m\u001b[0;34m.\u001b[0m\u001b[0mprogress_bar\u001b[0m\u001b[0;34m.\u001b[0m\u001b[0mclose\u001b[0m\u001b[0;34m(\u001b[0m\u001b[0;34m)\u001b[0m\u001b[0;34m\u001b[0m\u001b[0;34m\u001b[0m\u001b[0m\n\u001b[0;32m--> 173\u001b[0;31m                 raise KeyError(f\"Feature '{target_feature_name}' was \"\n\u001b[0m\u001b[1;32m    174\u001b[0m                                \u001b[0;34mf\"specified as TARGET, but is NOT FOUND in \"\u001b[0m\u001b[0;34m\u001b[0m\u001b[0;34m\u001b[0m\u001b[0m\n\u001b[1;32m    175\u001b[0m                                f\"the dataframe (watch case-sensitivity?).\")\n",
            "\u001b[0;31mKeyError\u001b[0m: \"Feature 'target' was specified as TARGET, but is NOT FOUND in the dataframe (watch case-sensitivity?).\""
          ]
        }
      ]
    },
    {
      "cell_type": "markdown",
      "metadata": {
        "id": "ILX_1atPNwpw"
      },
      "source": [
        "## **Autoviz**"
      ]
    },
    {
      "cell_type": "markdown",
      "metadata": {
        "id": "9i0NMm8q4v7_"
      },
      "source": [
        "**Autoviz**\n",
        "\n",
        "It stands for Automatically Visualize. Visualization is possible with any size of the dataset with a few lines of code."
      ]
    },
    {
      "cell_type": "code",
      "metadata": {
        "id": "Y12-00F84Lj3"
      },
      "source": [
        "!pip install autoviz"
      ],
      "execution_count": null,
      "outputs": []
    },
    {
      "cell_type": "code",
      "metadata": {
        "id": "JW_PXBYQ4UN-"
      },
      "source": [
        "from autoviz.AutoViz_Class import AutoViz_Class\n",
        "AV = AutoViz_Class()\n",
        "df = AV.AutoViz('/content/drive/MyDrive/Datasets/Recommended System/Placement_Data_Full_Class.csv')"
      ],
      "execution_count": null,
      "outputs": []
    },
    {
      "cell_type": "markdown",
      "metadata": {
        "id": "AjOni5tVIGkO"
      },
      "source": [
        "## **Cufflinks & Plotly**[6]"
      ]
    },
    {
      "cell_type": "markdown",
      "metadata": {
        "id": "RzobnDdHIWL1"
      },
      "source": [
        "Most of us who’re quote-unquote “experienced” Data Scientist or Data Analysts, will be quite familiar with the integration between matplotlib and pandas. Namely the fact that you can make quick plots of a simple pd.DataFrame or pd.Series by simply calling the .plot() method:"
      ]
    },
    {
      "cell_type": "code",
      "metadata": {
        "id": "wVbMQmSTJmLl"
      },
      "source": [
        "! pip install cufflinks --upgrade"
      ],
      "execution_count": null,
      "outputs": []
    },
    {
      "cell_type": "code",
      "metadata": {
        "id": "CpbtfKdIDD_P"
      },
      "source": [
        "!pip install -U ipykernel\n"
      ],
      "execution_count": null,
      "outputs": []
    },
    {
      "cell_type": "code",
      "metadata": {
        "id": "ZXKwwZ1bDKiW"
      },
      "source": [],
      "execution_count": null,
      "outputs": []
    },
    {
      "cell_type": "code",
      "metadata": {
        "colab": {
          "base_uri": "https://localhost:8080/",
          "height": 17
        },
        "id": "ytfD7ZpPIPLv",
        "outputId": "f533cdd7-bc8a-4f26-bef7-95d0f0d2c39f"
      },
      "source": [
        "import matplotlib.pyplot as plt\n",
        "import pandas as pd\n",
        "import numpy as np\n",
        "import cufflinks as cp\n",
        "cp.go_offline()"
      ],
      "execution_count": null,
      "outputs": [
        {
          "output_type": "display_data",
          "data": {
            "text/html": [
              "        <script type=\"text/javascript\">\n",
              "        window.PlotlyConfig = {MathJaxConfig: 'local'};\n",
              "        if (window.MathJax) {MathJax.Hub.Config({SVG: {font: \"STIX-Web\"}});}\n",
              "        if (typeof require !== 'undefined') {\n",
              "        require.undef(\"plotly\");\n",
              "        requirejs.config({\n",
              "            paths: {\n",
              "                'plotly': ['https://cdn.plot.ly/plotly-latest.min']\n",
              "            }\n",
              "        });\n",
              "        require(['plotly'], function(Plotly) {\n",
              "            window._Plotly = Plotly;\n",
              "        });\n",
              "        }\n",
              "        </script>\n",
              "        "
            ]
          },
          "metadata": {}
        }
      ]
    },
    {
      "cell_type": "code",
      "metadata": {
        "id": "CeU73wXaI0-t"
      },
      "source": [
        "X.satter_matrix()"
      ],
      "execution_count": null,
      "outputs": []
    },
    {
      "cell_type": "markdown",
      "metadata": {
        "id": "272Si6RTJQx8"
      },
      "source": [
        "Now this is all fine and dandy, but how about an interactive, pan-able, zoom-able, scale-able plot instead? Cufflinks to the rescue! (courtesy of Plotly)\n",
        "To install Cufflinks in your environment simply run ! pip install cufflinks --upgrade in your favorite terminal and you’re ready to go. Take a look at the following:"
      ]
    },
    {
      "cell_type": "markdown",
      "source": [
        "## **Lens**"
      ],
      "metadata": {
        "id": "P3S3caSe11Ni"
      }
    },
    {
      "cell_type": "markdown",
      "source": [
        "Lens is a library for exploring data in Pandas DataFrames. It computes single-column summary statistics and estimates the correlation between columns [11]"
      ],
      "metadata": {
        "id": "KvAwzKFJSgMI"
      }
    },
    {
      "cell_type": "code",
      "source": [
        "!pip install lens\n"
      ],
      "metadata": {
        "id": "k9-n7oHF12hT"
      },
      "execution_count": null,
      "outputs": []
    },
    {
      "cell_type": "code",
      "source": [
        "import seaborn as sns\n"
      ],
      "metadata": {
        "id": "JFq9y6rv2v4v",
        "colab": {
          "base_uri": "https://localhost:8080/"
        },
        "outputId": "6d1476f0-4d28-4c05-9375-0ca5883c4403"
      },
      "execution_count": null,
      "outputs": [
        {
          "output_type": "stream",
          "name": "stderr",
          "text": [
            "/usr/local/lib/python3.7/dist-packages/statsmodels/tools/_testing.py:19: FutureWarning: pandas.util.testing is deprecated. Use the functions in the public API at pandas.testing instead.\n",
            "  import pandas.util.testing as tm\n"
          ]
        }
      ]
    },
    {
      "cell_type": "code",
      "source": [
        "df = sns.load_dataset(\"data\")\n",
        "df.head()"
      ],
      "metadata": {
        "id": "BlE_sNFF2QGV",
        "outputId": "cdb45486-13df-48df-8ba2-b89816086ee9",
        "colab": {
          "base_uri": "https://localhost:8080/",
          "height": 328
        }
      },
      "execution_count": null,
      "outputs": [
        {
          "output_type": "error",
          "ename": "HTTPError",
          "evalue": "ignored",
          "traceback": [
            "\u001b[0;31m---------------------------------------------------------------------------\u001b[0m",
            "\u001b[0;31mHTTPError\u001b[0m                                 Traceback (most recent call last)",
            "\u001b[0;32m<ipython-input-4-b07daf975c84>\u001b[0m in \u001b[0;36m<module>\u001b[0;34m()\u001b[0m\n\u001b[0;32m----> 1\u001b[0;31m \u001b[0mdf\u001b[0m \u001b[0;34m=\u001b[0m \u001b[0msns\u001b[0m\u001b[0;34m.\u001b[0m\u001b[0mload_dataset\u001b[0m\u001b[0;34m(\u001b[0m\u001b[0;34m\"data\"\u001b[0m\u001b[0;34m)\u001b[0m\u001b[0;34m\u001b[0m\u001b[0;34m\u001b[0m\u001b[0m\n\u001b[0m\u001b[1;32m      2\u001b[0m \u001b[0mdf\u001b[0m\u001b[0;34m.\u001b[0m\u001b[0mhead\u001b[0m\u001b[0;34m(\u001b[0m\u001b[0;34m)\u001b[0m\u001b[0;34m\u001b[0m\u001b[0;34m\u001b[0m\u001b[0m\n",
            "\u001b[0;32m/usr/local/lib/python3.7/dist-packages/seaborn/utils.py\u001b[0m in \u001b[0;36mload_dataset\u001b[0;34m(name, cache, data_home, **kws)\u001b[0m\n\u001b[1;32m    447\u001b[0m                                   os.path.basename(full_path))\n\u001b[1;32m    448\u001b[0m         \u001b[0;32mif\u001b[0m \u001b[0;32mnot\u001b[0m \u001b[0mos\u001b[0m\u001b[0;34m.\u001b[0m\u001b[0mpath\u001b[0m\u001b[0;34m.\u001b[0m\u001b[0mexists\u001b[0m\u001b[0;34m(\u001b[0m\u001b[0mcache_path\u001b[0m\u001b[0;34m)\u001b[0m\u001b[0;34m:\u001b[0m\u001b[0;34m\u001b[0m\u001b[0;34m\u001b[0m\u001b[0m\n\u001b[0;32m--> 449\u001b[0;31m             \u001b[0murlretrieve\u001b[0m\u001b[0;34m(\u001b[0m\u001b[0mfull_path\u001b[0m\u001b[0;34m,\u001b[0m \u001b[0mcache_path\u001b[0m\u001b[0;34m)\u001b[0m\u001b[0;34m\u001b[0m\u001b[0;34m\u001b[0m\u001b[0m\n\u001b[0m\u001b[1;32m    450\u001b[0m         \u001b[0mfull_path\u001b[0m \u001b[0;34m=\u001b[0m \u001b[0mcache_path\u001b[0m\u001b[0;34m\u001b[0m\u001b[0;34m\u001b[0m\u001b[0m\n\u001b[1;32m    451\u001b[0m \u001b[0;34m\u001b[0m\u001b[0m\n",
            "\u001b[0;32m/usr/lib/python3.7/urllib/request.py\u001b[0m in \u001b[0;36murlretrieve\u001b[0;34m(url, filename, reporthook, data)\u001b[0m\n\u001b[1;32m    245\u001b[0m     \u001b[0murl_type\u001b[0m\u001b[0;34m,\u001b[0m \u001b[0mpath\u001b[0m \u001b[0;34m=\u001b[0m \u001b[0msplittype\u001b[0m\u001b[0;34m(\u001b[0m\u001b[0murl\u001b[0m\u001b[0;34m)\u001b[0m\u001b[0;34m\u001b[0m\u001b[0;34m\u001b[0m\u001b[0m\n\u001b[1;32m    246\u001b[0m \u001b[0;34m\u001b[0m\u001b[0m\n\u001b[0;32m--> 247\u001b[0;31m     \u001b[0;32mwith\u001b[0m \u001b[0mcontextlib\u001b[0m\u001b[0;34m.\u001b[0m\u001b[0mclosing\u001b[0m\u001b[0;34m(\u001b[0m\u001b[0murlopen\u001b[0m\u001b[0;34m(\u001b[0m\u001b[0murl\u001b[0m\u001b[0;34m,\u001b[0m \u001b[0mdata\u001b[0m\u001b[0;34m)\u001b[0m\u001b[0;34m)\u001b[0m \u001b[0;32mas\u001b[0m \u001b[0mfp\u001b[0m\u001b[0;34m:\u001b[0m\u001b[0;34m\u001b[0m\u001b[0;34m\u001b[0m\u001b[0m\n\u001b[0m\u001b[1;32m    248\u001b[0m         \u001b[0mheaders\u001b[0m \u001b[0;34m=\u001b[0m \u001b[0mfp\u001b[0m\u001b[0;34m.\u001b[0m\u001b[0minfo\u001b[0m\u001b[0;34m(\u001b[0m\u001b[0;34m)\u001b[0m\u001b[0;34m\u001b[0m\u001b[0;34m\u001b[0m\u001b[0m\n\u001b[1;32m    249\u001b[0m \u001b[0;34m\u001b[0m\u001b[0m\n",
            "\u001b[0;32m/usr/lib/python3.7/urllib/request.py\u001b[0m in \u001b[0;36murlopen\u001b[0;34m(url, data, timeout, cafile, capath, cadefault, context)\u001b[0m\n\u001b[1;32m    220\u001b[0m     \u001b[0;32melse\u001b[0m\u001b[0;34m:\u001b[0m\u001b[0;34m\u001b[0m\u001b[0;34m\u001b[0m\u001b[0m\n\u001b[1;32m    221\u001b[0m         \u001b[0mopener\u001b[0m \u001b[0;34m=\u001b[0m \u001b[0m_opener\u001b[0m\u001b[0;34m\u001b[0m\u001b[0;34m\u001b[0m\u001b[0m\n\u001b[0;32m--> 222\u001b[0;31m     \u001b[0;32mreturn\u001b[0m \u001b[0mopener\u001b[0m\u001b[0;34m.\u001b[0m\u001b[0mopen\u001b[0m\u001b[0;34m(\u001b[0m\u001b[0murl\u001b[0m\u001b[0;34m,\u001b[0m \u001b[0mdata\u001b[0m\u001b[0;34m,\u001b[0m \u001b[0mtimeout\u001b[0m\u001b[0;34m)\u001b[0m\u001b[0;34m\u001b[0m\u001b[0;34m\u001b[0m\u001b[0m\n\u001b[0m\u001b[1;32m    223\u001b[0m \u001b[0;34m\u001b[0m\u001b[0m\n\u001b[1;32m    224\u001b[0m \u001b[0;32mdef\u001b[0m \u001b[0minstall_opener\u001b[0m\u001b[0;34m(\u001b[0m\u001b[0mopener\u001b[0m\u001b[0;34m)\u001b[0m\u001b[0;34m:\u001b[0m\u001b[0;34m\u001b[0m\u001b[0;34m\u001b[0m\u001b[0m\n",
            "\u001b[0;32m/usr/lib/python3.7/urllib/request.py\u001b[0m in \u001b[0;36mopen\u001b[0;34m(self, fullurl, data, timeout)\u001b[0m\n\u001b[1;32m    529\u001b[0m         \u001b[0;32mfor\u001b[0m \u001b[0mprocessor\u001b[0m \u001b[0;32min\u001b[0m \u001b[0mself\u001b[0m\u001b[0;34m.\u001b[0m\u001b[0mprocess_response\u001b[0m\u001b[0;34m.\u001b[0m\u001b[0mget\u001b[0m\u001b[0;34m(\u001b[0m\u001b[0mprotocol\u001b[0m\u001b[0;34m,\u001b[0m \u001b[0;34m[\u001b[0m\u001b[0;34m]\u001b[0m\u001b[0;34m)\u001b[0m\u001b[0;34m:\u001b[0m\u001b[0;34m\u001b[0m\u001b[0;34m\u001b[0m\u001b[0m\n\u001b[1;32m    530\u001b[0m             \u001b[0mmeth\u001b[0m \u001b[0;34m=\u001b[0m \u001b[0mgetattr\u001b[0m\u001b[0;34m(\u001b[0m\u001b[0mprocessor\u001b[0m\u001b[0;34m,\u001b[0m \u001b[0mmeth_name\u001b[0m\u001b[0;34m)\u001b[0m\u001b[0;34m\u001b[0m\u001b[0;34m\u001b[0m\u001b[0m\n\u001b[0;32m--> 531\u001b[0;31m             \u001b[0mresponse\u001b[0m \u001b[0;34m=\u001b[0m \u001b[0mmeth\u001b[0m\u001b[0;34m(\u001b[0m\u001b[0mreq\u001b[0m\u001b[0;34m,\u001b[0m \u001b[0mresponse\u001b[0m\u001b[0;34m)\u001b[0m\u001b[0;34m\u001b[0m\u001b[0;34m\u001b[0m\u001b[0m\n\u001b[0m\u001b[1;32m    532\u001b[0m \u001b[0;34m\u001b[0m\u001b[0m\n\u001b[1;32m    533\u001b[0m         \u001b[0;32mreturn\u001b[0m \u001b[0mresponse\u001b[0m\u001b[0;34m\u001b[0m\u001b[0;34m\u001b[0m\u001b[0m\n",
            "\u001b[0;32m/usr/lib/python3.7/urllib/request.py\u001b[0m in \u001b[0;36mhttp_response\u001b[0;34m(self, request, response)\u001b[0m\n\u001b[1;32m    639\u001b[0m         \u001b[0;32mif\u001b[0m \u001b[0;32mnot\u001b[0m \u001b[0;34m(\u001b[0m\u001b[0;36m200\u001b[0m \u001b[0;34m<=\u001b[0m \u001b[0mcode\u001b[0m \u001b[0;34m<\u001b[0m \u001b[0;36m300\u001b[0m\u001b[0;34m)\u001b[0m\u001b[0;34m:\u001b[0m\u001b[0;34m\u001b[0m\u001b[0;34m\u001b[0m\u001b[0m\n\u001b[1;32m    640\u001b[0m             response = self.parent.error(\n\u001b[0;32m--> 641\u001b[0;31m                 'http', request, response, code, msg, hdrs)\n\u001b[0m\u001b[1;32m    642\u001b[0m \u001b[0;34m\u001b[0m\u001b[0m\n\u001b[1;32m    643\u001b[0m         \u001b[0;32mreturn\u001b[0m \u001b[0mresponse\u001b[0m\u001b[0;34m\u001b[0m\u001b[0;34m\u001b[0m\u001b[0m\n",
            "\u001b[0;32m/usr/lib/python3.7/urllib/request.py\u001b[0m in \u001b[0;36merror\u001b[0;34m(self, proto, *args)\u001b[0m\n\u001b[1;32m    567\u001b[0m         \u001b[0;32mif\u001b[0m \u001b[0mhttp_err\u001b[0m\u001b[0;34m:\u001b[0m\u001b[0;34m\u001b[0m\u001b[0;34m\u001b[0m\u001b[0m\n\u001b[1;32m    568\u001b[0m             \u001b[0margs\u001b[0m \u001b[0;34m=\u001b[0m \u001b[0;34m(\u001b[0m\u001b[0mdict\u001b[0m\u001b[0;34m,\u001b[0m \u001b[0;34m'default'\u001b[0m\u001b[0;34m,\u001b[0m \u001b[0;34m'http_error_default'\u001b[0m\u001b[0;34m)\u001b[0m \u001b[0;34m+\u001b[0m \u001b[0morig_args\u001b[0m\u001b[0;34m\u001b[0m\u001b[0;34m\u001b[0m\u001b[0m\n\u001b[0;32m--> 569\u001b[0;31m             \u001b[0;32mreturn\u001b[0m \u001b[0mself\u001b[0m\u001b[0;34m.\u001b[0m\u001b[0m_call_chain\u001b[0m\u001b[0;34m(\u001b[0m\u001b[0;34m*\u001b[0m\u001b[0margs\u001b[0m\u001b[0;34m)\u001b[0m\u001b[0;34m\u001b[0m\u001b[0;34m\u001b[0m\u001b[0m\n\u001b[0m\u001b[1;32m    570\u001b[0m \u001b[0;34m\u001b[0m\u001b[0m\n\u001b[1;32m    571\u001b[0m \u001b[0;31m# XXX probably also want an abstract factory that knows when it makes\u001b[0m\u001b[0;34m\u001b[0m\u001b[0;34m\u001b[0m\u001b[0;34m\u001b[0m\u001b[0m\n",
            "\u001b[0;32m/usr/lib/python3.7/urllib/request.py\u001b[0m in \u001b[0;36m_call_chain\u001b[0;34m(self, chain, kind, meth_name, *args)\u001b[0m\n\u001b[1;32m    501\u001b[0m         \u001b[0;32mfor\u001b[0m \u001b[0mhandler\u001b[0m \u001b[0;32min\u001b[0m \u001b[0mhandlers\u001b[0m\u001b[0;34m:\u001b[0m\u001b[0;34m\u001b[0m\u001b[0;34m\u001b[0m\u001b[0m\n\u001b[1;32m    502\u001b[0m             \u001b[0mfunc\u001b[0m \u001b[0;34m=\u001b[0m \u001b[0mgetattr\u001b[0m\u001b[0;34m(\u001b[0m\u001b[0mhandler\u001b[0m\u001b[0;34m,\u001b[0m \u001b[0mmeth_name\u001b[0m\u001b[0;34m)\u001b[0m\u001b[0;34m\u001b[0m\u001b[0;34m\u001b[0m\u001b[0m\n\u001b[0;32m--> 503\u001b[0;31m             \u001b[0mresult\u001b[0m \u001b[0;34m=\u001b[0m \u001b[0mfunc\u001b[0m\u001b[0;34m(\u001b[0m\u001b[0;34m*\u001b[0m\u001b[0margs\u001b[0m\u001b[0;34m)\u001b[0m\u001b[0;34m\u001b[0m\u001b[0;34m\u001b[0m\u001b[0m\n\u001b[0m\u001b[1;32m    504\u001b[0m             \u001b[0;32mif\u001b[0m \u001b[0mresult\u001b[0m \u001b[0;32mis\u001b[0m \u001b[0;32mnot\u001b[0m \u001b[0;32mNone\u001b[0m\u001b[0;34m:\u001b[0m\u001b[0;34m\u001b[0m\u001b[0;34m\u001b[0m\u001b[0m\n\u001b[1;32m    505\u001b[0m                 \u001b[0;32mreturn\u001b[0m \u001b[0mresult\u001b[0m\u001b[0;34m\u001b[0m\u001b[0;34m\u001b[0m\u001b[0m\n",
            "\u001b[0;32m/usr/lib/python3.7/urllib/request.py\u001b[0m in \u001b[0;36mhttp_error_default\u001b[0;34m(self, req, fp, code, msg, hdrs)\u001b[0m\n\u001b[1;32m    647\u001b[0m \u001b[0;32mclass\u001b[0m \u001b[0mHTTPDefaultErrorHandler\u001b[0m\u001b[0;34m(\u001b[0m\u001b[0mBaseHandler\u001b[0m\u001b[0;34m)\u001b[0m\u001b[0;34m:\u001b[0m\u001b[0;34m\u001b[0m\u001b[0;34m\u001b[0m\u001b[0m\n\u001b[1;32m    648\u001b[0m     \u001b[0;32mdef\u001b[0m \u001b[0mhttp_error_default\u001b[0m\u001b[0;34m(\u001b[0m\u001b[0mself\u001b[0m\u001b[0;34m,\u001b[0m \u001b[0mreq\u001b[0m\u001b[0;34m,\u001b[0m \u001b[0mfp\u001b[0m\u001b[0;34m,\u001b[0m \u001b[0mcode\u001b[0m\u001b[0;34m,\u001b[0m \u001b[0mmsg\u001b[0m\u001b[0;34m,\u001b[0m \u001b[0mhdrs\u001b[0m\u001b[0;34m)\u001b[0m\u001b[0;34m:\u001b[0m\u001b[0;34m\u001b[0m\u001b[0;34m\u001b[0m\u001b[0m\n\u001b[0;32m--> 649\u001b[0;31m         \u001b[0;32mraise\u001b[0m \u001b[0mHTTPError\u001b[0m\u001b[0;34m(\u001b[0m\u001b[0mreq\u001b[0m\u001b[0;34m.\u001b[0m\u001b[0mfull_url\u001b[0m\u001b[0;34m,\u001b[0m \u001b[0mcode\u001b[0m\u001b[0;34m,\u001b[0m \u001b[0mmsg\u001b[0m\u001b[0;34m,\u001b[0m \u001b[0mhdrs\u001b[0m\u001b[0;34m,\u001b[0m \u001b[0mfp\u001b[0m\u001b[0;34m)\u001b[0m\u001b[0;34m\u001b[0m\u001b[0;34m\u001b[0m\u001b[0m\n\u001b[0m\u001b[1;32m    650\u001b[0m \u001b[0;34m\u001b[0m\u001b[0m\n\u001b[1;32m    651\u001b[0m \u001b[0;32mclass\u001b[0m \u001b[0mHTTPRedirectHandler\u001b[0m\u001b[0;34m(\u001b[0m\u001b[0mBaseHandler\u001b[0m\u001b[0;34m)\u001b[0m\u001b[0;34m:\u001b[0m\u001b[0;34m\u001b[0m\u001b[0;34m\u001b[0m\u001b[0m\n",
            "\u001b[0;31mHTTPError\u001b[0m: HTTP Error 404: Not Found"
          ]
        }
      ]
    },
    {
      "cell_type": "code",
      "source": [
        "!pip install pyyaml==5.4.1"
      ],
      "metadata": {
        "id": "dJzV0_RWTI-v",
        "outputId": "ea52e31c-659f-4128-f9a6-1e37ed7f53bb",
        "colab": {
          "base_uri": "https://localhost:8080/",
          "height": 259
        }
      },
      "execution_count": null,
      "outputs": [
        {
          "output_type": "stream",
          "name": "stdout",
          "text": [
            "Collecting pyyaml==5.4.1\n",
            "  Downloading PyYAML-5.4.1-cp37-cp37m-manylinux1_x86_64.whl (636 kB)\n",
            "\u001b[?25l\r\u001b[K     |▌                               | 10 kB 11.6 MB/s eta 0:00:01\r\u001b[K     |█                               | 20 kB 12.5 MB/s eta 0:00:01\r\u001b[K     |█▌                              | 30 kB 12.6 MB/s eta 0:00:01\r\u001b[K     |██                              | 40 kB 9.9 MB/s eta 0:00:01\r\u001b[K     |██▋                             | 51 kB 6.3 MB/s eta 0:00:01\r\u001b[K     |███                             | 61 kB 5.1 MB/s eta 0:00:01\r\u001b[K     |███▋                            | 71 kB 4.0 MB/s eta 0:00:01\r\u001b[K     |████▏                           | 81 kB 4.5 MB/s eta 0:00:01\r\u001b[K     |████▋                           | 92 kB 4.9 MB/s eta 0:00:01\r\u001b[K     |█████▏                          | 102 kB 5.4 MB/s eta 0:00:01\r\u001b[K     |█████▋                          | 112 kB 5.4 MB/s eta 0:00:01\r\u001b[K     |██████▏                         | 122 kB 5.4 MB/s eta 0:00:01\r\u001b[K     |██████▊                         | 133 kB 5.4 MB/s eta 0:00:01\r\u001b[K     |███████▏                        | 143 kB 5.4 MB/s eta 0:00:01\r\u001b[K     |███████▊                        | 153 kB 5.4 MB/s eta 0:00:01\r\u001b[K     |████████▎                       | 163 kB 5.4 MB/s eta 0:00:01\r\u001b[K     |████████▊                       | 174 kB 5.4 MB/s eta 0:00:01\r\u001b[K     |█████████▎                      | 184 kB 5.4 MB/s eta 0:00:01\r\u001b[K     |█████████▉                      | 194 kB 5.4 MB/s eta 0:00:01\r\u001b[K     |██████████▎                     | 204 kB 5.4 MB/s eta 0:00:01\r\u001b[K     |██████████▉                     | 215 kB 5.4 MB/s eta 0:00:01\r\u001b[K     |███████████▎                    | 225 kB 5.4 MB/s eta 0:00:01\r\u001b[K     |███████████▉                    | 235 kB 5.4 MB/s eta 0:00:01\r\u001b[K     |████████████▍                   | 245 kB 5.4 MB/s eta 0:00:01\r\u001b[K     |████████████▉                   | 256 kB 5.4 MB/s eta 0:00:01\r\u001b[K     |█████████████▍                  | 266 kB 5.4 MB/s eta 0:00:01\r\u001b[K     |██████████████                  | 276 kB 5.4 MB/s eta 0:00:01\r\u001b[K     |██████████████▍                 | 286 kB 5.4 MB/s eta 0:00:01\r\u001b[K     |███████████████                 | 296 kB 5.4 MB/s eta 0:00:01\r\u001b[K     |███████████████▍                | 307 kB 5.4 MB/s eta 0:00:01\r\u001b[K     |████████████████                | 317 kB 5.4 MB/s eta 0:00:01\r\u001b[K     |████████████████▌               | 327 kB 5.4 MB/s eta 0:00:01\r\u001b[K     |█████████████████               | 337 kB 5.4 MB/s eta 0:00:01\r\u001b[K     |█████████████████▌              | 348 kB 5.4 MB/s eta 0:00:01\r\u001b[K     |██████████████████              | 358 kB 5.4 MB/s eta 0:00:01\r\u001b[K     |██████████████████▌             | 368 kB 5.4 MB/s eta 0:00:01\r\u001b[K     |███████████████████             | 378 kB 5.4 MB/s eta 0:00:01\r\u001b[K     |███████████████████▋            | 389 kB 5.4 MB/s eta 0:00:01\r\u001b[K     |████████████████████            | 399 kB 5.4 MB/s eta 0:00:01\r\u001b[K     |████████████████████▋           | 409 kB 5.4 MB/s eta 0:00:01\r\u001b[K     |█████████████████████           | 419 kB 5.4 MB/s eta 0:00:01\r\u001b[K     |█████████████████████▋          | 430 kB 5.4 MB/s eta 0:00:01\r\u001b[K     |██████████████████████▏         | 440 kB 5.4 MB/s eta 0:00:01\r\u001b[K     |██████████████████████▋         | 450 kB 5.4 MB/s eta 0:00:01\r\u001b[K     |███████████████████████▏        | 460 kB 5.4 MB/s eta 0:00:01\r\u001b[K     |███████████████████████▊        | 471 kB 5.4 MB/s eta 0:00:01\r\u001b[K     |████████████████████████▏       | 481 kB 5.4 MB/s eta 0:00:01\r\u001b[K     |████████████████████████▊       | 491 kB 5.4 MB/s eta 0:00:01\r\u001b[K     |█████████████████████████▏      | 501 kB 5.4 MB/s eta 0:00:01\r\u001b[K     |█████████████████████████▊      | 512 kB 5.4 MB/s eta 0:00:01\r\u001b[K     |██████████████████████████▎     | 522 kB 5.4 MB/s eta 0:00:01\r\u001b[K     |██████████████████████████▊     | 532 kB 5.4 MB/s eta 0:00:01\r\u001b[K     |███████████████████████████▎    | 542 kB 5.4 MB/s eta 0:00:01\r\u001b[K     |███████████████████████████▉    | 552 kB 5.4 MB/s eta 0:00:01\r\u001b[K     |████████████████████████████▎   | 563 kB 5.4 MB/s eta 0:00:01\r\u001b[K     |████████████████████████████▉   | 573 kB 5.4 MB/s eta 0:00:01\r\u001b[K     |█████████████████████████████▍  | 583 kB 5.4 MB/s eta 0:00:01\r\u001b[K     |█████████████████████████████▉  | 593 kB 5.4 MB/s eta 0:00:01\r\u001b[K     |██████████████████████████████▍ | 604 kB 5.4 MB/s eta 0:00:01\r\u001b[K     |██████████████████████████████▉ | 614 kB 5.4 MB/s eta 0:00:01\r\u001b[K     |███████████████████████████████▍| 624 kB 5.4 MB/s eta 0:00:01\r\u001b[K     |████████████████████████████████| 634 kB 5.4 MB/s eta 0:00:01\r\u001b[K     |████████████████████████████████| 636 kB 5.4 MB/s \n",
            "\u001b[?25hInstalling collected packages: pyyaml\n",
            "  Attempting uninstall: pyyaml\n",
            "    Found existing installation: PyYAML 6.0\n",
            "    Uninstalling PyYAML-6.0:\n",
            "      Successfully uninstalled PyYAML-6.0\n",
            "Successfully installed pyyaml-5.4.1\n"
          ]
        },
        {
          "output_type": "display_data",
          "data": {
            "application/vnd.colab-display-data+json": {
              "pip_warning": {
                "packages": [
                  "yaml"
                ]
              }
            }
          },
          "metadata": {}
        }
      ]
    },
    {
      "cell_type": "code",
      "source": [
        "import lens\n",
        "import pandas as pd"
      ],
      "metadata": {
        "id": "80RcNroq2Cqv",
        "colab": {
          "base_uri": "https://localhost:8080/"
        },
        "outputId": "cf48fc00-273d-4612-e1ba-524dd23d9308"
      },
      "execution_count": null,
      "outputs": [
        {
          "output_type": "stream",
          "name": "stderr",
          "text": [
            "/usr/local/lib/python3.7/dist-packages/statsmodels/tools/_testing.py:19: FutureWarning:\n",
            "\n",
            "pandas.util.testing is deprecated. Use the functions in the public API at pandas.testing instead.\n",
            "\n",
            "/usr/local/lib/python3.7/dist-packages/distributed/config.py:20: YAMLLoadWarning:\n",
            "\n",
            "calling yaml.load() without Loader=... is deprecated, as the default Loader is unsafe. Please read https://msg.pyyaml.org/load for full details.\n",
            "\n"
          ]
        }
      ]
    },
    {
      "cell_type": "code",
      "source": [
        "X_new"
      ],
      "metadata": {
        "id": "aqNX4wPrTyPO",
        "outputId": "84960795-adbb-4075-d567-be998c7149d4",
        "colab": {
          "base_uri": "https://localhost:8080/",
          "height": 165
        }
      },
      "execution_count": null,
      "outputs": [
        {
          "output_type": "error",
          "ename": "NameError",
          "evalue": "ignored",
          "traceback": [
            "\u001b[0;31m---------------------------------------------------------------------------\u001b[0m",
            "\u001b[0;31mNameError\u001b[0m                                 Traceback (most recent call last)",
            "\u001b[0;32m<ipython-input-1-1129f4f25788>\u001b[0m in \u001b[0;36m<module>\u001b[0;34m()\u001b[0m\n\u001b[0;32m----> 1\u001b[0;31m \u001b[0mX_new\u001b[0m\u001b[0;34m\u001b[0m\u001b[0;34m\u001b[0m\u001b[0m\n\u001b[0m",
            "\u001b[0;31mNameError\u001b[0m: name 'X_new' is not defined"
          ]
        }
      ]
    },
    {
      "cell_type": "code",
      "source": [
        "X_new._get_value(index,'name')\n",
        "\n"
      ],
      "metadata": {
        "id": "figDr0e03wXa"
      },
      "execution_count": null,
      "outputs": []
    },
    {
      "cell_type": "code",
      "source": [
        "explorer = lens.explore(X_new)\n"
      ],
      "metadata": {
        "id": "4k23jqBK2JGf",
        "outputId": "15957f6b-3d26-4c0f-edb4-969f037e5728",
        "colab": {
          "base_uri": "https://localhost:8080/",
          "height": 311
        }
      },
      "execution_count": null,
      "outputs": [
        {
          "output_type": "error",
          "ename": "TypeError",
          "evalue": "ignored",
          "traceback": [
            "\u001b[0;31m---------------------------------------------------------------------------\u001b[0m",
            "\u001b[0;31mTypeError\u001b[0m                                 Traceback (most recent call last)",
            "\u001b[0;32m<ipython-input-19-c302fbfcb854>\u001b[0m in \u001b[0;36m<module>\u001b[0;34m()\u001b[0m\n\u001b[0;32m----> 1\u001b[0;31m \u001b[0mexplorer\u001b[0m \u001b[0;34m=\u001b[0m \u001b[0mlens\u001b[0m\u001b[0;34m.\u001b[0m\u001b[0mexplore\u001b[0m\u001b[0;34m(\u001b[0m\u001b[0mX_new\u001b[0m\u001b[0;34m)\u001b[0m\u001b[0;34m\u001b[0m\u001b[0;34m\u001b[0m\u001b[0m\n\u001b[0m",
            "\u001b[0;32m/usr/local/lib/python3.7/dist-packages/lens/explorer.py\u001b[0m in \u001b[0;36mexplore\u001b[0;34m(summary)\u001b[0m\n\u001b[1;32m    343\u001b[0m \u001b[0;32mdef\u001b[0m \u001b[0mexplore\u001b[0m\u001b[0;34m(\u001b[0m\u001b[0msummary\u001b[0m\u001b[0;34m)\u001b[0m\u001b[0;34m:\u001b[0m\u001b[0;34m\u001b[0m\u001b[0;34m\u001b[0m\u001b[0m\n\u001b[1;32m    344\u001b[0m     \u001b[0;34m\"\"\"Create an Explorer instance from a Lens Summary\"\"\"\u001b[0m\u001b[0;34m\u001b[0m\u001b[0;34m\u001b[0m\u001b[0m\n\u001b[0;32m--> 345\u001b[0;31m     \u001b[0;32mreturn\u001b[0m \u001b[0mExplorer\u001b[0m\u001b[0;34m(\u001b[0m\u001b[0msummary\u001b[0m\u001b[0;34m)\u001b[0m\u001b[0;34m\u001b[0m\u001b[0;34m\u001b[0m\u001b[0m\n\u001b[0m",
            "\u001b[0;32m/usr/local/lib/python3.7/dist-packages/lens/explorer.py\u001b[0m in \u001b[0;36m__init__\u001b[0;34m(self, summary, plot_renderer)\u001b[0m\n\u001b[1;32m     63\u001b[0m     \u001b[0;32mdef\u001b[0m \u001b[0m__init__\u001b[0m\u001b[0;34m(\u001b[0m\u001b[0mself\u001b[0m\u001b[0;34m,\u001b[0m \u001b[0msummary\u001b[0m\u001b[0;34m,\u001b[0m \u001b[0mplot_renderer\u001b[0m\u001b[0;34m=\u001b[0m\u001b[0m_render\u001b[0m\u001b[0;34m)\u001b[0m\u001b[0;34m:\u001b[0m\u001b[0;34m\u001b[0m\u001b[0;34m\u001b[0m\u001b[0m\n\u001b[1;32m     64\u001b[0m         \u001b[0;32mif\u001b[0m \u001b[0;32mnot\u001b[0m \u001b[0misinstance\u001b[0m\u001b[0;34m(\u001b[0m\u001b[0msummary\u001b[0m\u001b[0;34m,\u001b[0m \u001b[0mSummary\u001b[0m\u001b[0;34m)\u001b[0m\u001b[0;34m:\u001b[0m\u001b[0;34m\u001b[0m\u001b[0;34m\u001b[0m\u001b[0m\n\u001b[0;32m---> 65\u001b[0;31m             \u001b[0;32mraise\u001b[0m \u001b[0mTypeError\u001b[0m\u001b[0;34m(\u001b[0m\u001b[0;34m\"Can only explore a lens Summary\"\u001b[0m\u001b[0;34m)\u001b[0m\u001b[0;34m\u001b[0m\u001b[0;34m\u001b[0m\u001b[0m\n\u001b[0m\u001b[1;32m     66\u001b[0m         \u001b[0mself\u001b[0m\u001b[0;34m.\u001b[0m\u001b[0msummary\u001b[0m \u001b[0;34m=\u001b[0m \u001b[0msummary\u001b[0m\u001b[0;34m\u001b[0m\u001b[0;34m\u001b[0m\u001b[0m\n\u001b[1;32m     67\u001b[0m         \u001b[0mself\u001b[0m\u001b[0;34m.\u001b[0m\u001b[0mplot_renderer\u001b[0m \u001b[0;34m=\u001b[0m \u001b[0mplot_renderer\u001b[0m\u001b[0;34m\u001b[0m\u001b[0;34m\u001b[0m\u001b[0m\n",
            "\u001b[0;31mTypeError\u001b[0m: Can only explore a lens Summary"
          ]
        }
      ]
    },
    {
      "cell_type": "markdown",
      "source": [
        "## **TensorFlow Data Validation**"
      ],
      "metadata": {
        "id": "6aWX9HnOz2uw"
      }
    },
    {
      "cell_type": "markdown",
      "source": [
        "What it does: Makes data exploration for machine learning more intuitive\n",
        "How easy it is to use: Easy\n",
        "Who should use it: For those who need to a quick look at a dataset stats.\n",
        "TensorFlow Data Validation is a dataset that makes data exploration when creating machine learning models easier. Although it is not as powerful as Bamboolib, it’s worth knowing about it. It’s the solution that TensorFlow found to make exploring the data less stressful and save users from typing a few lines of code. You can check for missing data, outliers, data anomalies, redundant features, features with little or no unique predictive information, labels treated as features, and more. [8]"
      ],
      "metadata": {
        "id": "2-nHultN3Ngg"
      }
    },
    {
      "cell_type": "markdown",
      "source": [],
      "metadata": {
        "id": "3lLD1ZQL3K5g"
      }
    },
    {
      "cell_type": "code",
      "source": [
        "!pip install tensorflow-data-validation"
      ],
      "metadata": {
        "id": "0hqVzT3R0M6Y"
      },
      "execution_count": null,
      "outputs": []
    },
    {
      "cell_type": "code",
      "source": [
        "# Import Tensorflow Data Validation\n",
        "import tensorflow_data_validation as tfdv\n",
        "# Import Pandas\n",
        "import pandas as pd\n",
        "# Import Titanic dataset\n"
      ],
      "metadata": {
        "id": "LAi4XqO_2lHI"
      },
      "execution_count": null,
      "outputs": []
    },
    {
      "cell_type": "code",
      "source": [
        "import pandas as pd\n",
        "import numpy as np\n",
        "data = pd.read_csv(\"/content/drive/MyDrive/Datasets/Student field Recommendation /Placement_Data_Full_Class.csv\")"
      ],
      "metadata": {
        "id": "wVODAR3C2vWo"
      },
      "execution_count": null,
      "outputs": []
    },
    {
      "cell_type": "code",
      "source": [
        "stats = tfdv.generate_statistics_from_dataframe(data)\n",
        "\n",
        "tfdv.visualize_statistics(stats)"
      ],
      "metadata": {
        "id": "fa_Xi4xg20Sw"
      },
      "execution_count": null,
      "outputs": []
    },
    {
      "cell_type": "markdown",
      "metadata": {
        "id": "5CKqdX86iIBc"
      },
      "source": [
        "# **References**"
      ]
    },
    {
      "cell_type": "markdown",
      "metadata": {
        "id": "Znwp0bXbL-4d"
      },
      "source": [
        "[1- Top Python Libraries to Automate Exploratory Data Analysis in 2021](https://www.analyticsvidhya.com/blog/2021/04/top-python-libraries-to-automate-exploratory-data-analysis-in-2021/)\n",
        "\n",
        "[2-Exploratory Data Analysis With One-Line of Code](https://medium.com/geekculture/exploratory-data-analysis-with-one-line-of-code-f4a8e0a55f56)\n",
        "\n",
        "[3-Handy Data Visualization Functions in matplotlib & Seaborn to Speed Up Your EDA](https://betterprogramming.pub/handy-data-visualization-functions-in-matplotlib-seaborn-to-speed-up-your-eda-241ba0a9c47d)\n",
        "\n",
        "[4-Five Cool Python Libraries for Data Science](https://pub.towardsai.net/five-cool-python-libraries-for-data-science-7f1fce402b90)\n",
        "\n",
        "[5-My top 4 functions to style the Pandas Dataframe](https://towardsdatascience.com/my-top-4-functions-to-style-the-pandas-dataframe-932cdc79be39)\n",
        "\n",
        "[6-7 things to quickly improve your Data Analysis in Python](https://towardsdatascience.com/7-things-to-quickly-improve-your-data-analysis-in-python-3d434243da7)\n",
        "\n",
        "[7-Automating Exploratory Data Analysis- Part 1](https://medium.com/swlh/automating-exploratory-data-analysis-part-1-f5f2b7d548e5)]\n",
        "\n",
        "[8-4 Amazing Python Libraries That You Should Try Right Now](https://towardsdatascience.com/4-amazing-python-libraries-that-you-should-try-right-now-872df6f1c93)\n",
        "\n",
        "[9-The Simplest Way to Create Visualizations in Python Isn’t With matplotlib.](https://medium.com/analytics-vidhya/the-simplest-way-to-create-complex-visualizations-in-python-isnt-with-matplotlib-a5802f2dba92)\n",
        "\n",
        "[10-3 Python Tools You Need to Try](https://medium.com/trymito/3-python-tools-you-need-to-try-72c3380974db)\n",
        "\n",
        "[11-Beautiful Plots With Python and Seaborn](https://betterprogramming.pub/beautiful-plots-with-python-and-seaborn-9d05c9ead6ed)\n",
        "\n",
        "\n",
        "[Bamboolib: One of the Most Useful Python Libraries You Have Ever Seen](https://towardsdatascience.com/bamboolib-one-of-the-most-useful-python-libraries-you-have-ever-seen-6ce331685bb7)\n",
        "\n",
        "[The Quickest Guide to Data Visualization in Python using Matplotlib](https://medium.com/mlearning-ai/the-quickest-guide-to-data-visualization-in-python-using-matplotlib-a6a079b5de07)\n",
        "\n",
        "[Automating Exploratory Data Analysis- Part 4](https://medium.com/swlh/automating-exploratory-data-analysis-part-4-43920f03b2cb)\n",
        "\n",
        "[How to Automatically Generate Python Code for Spreadsheet Operations?](https://python.plainenglish.io/how-to-automatically-generate-python-code-for-spreadsheet-operations-ca3f59474971)\n",
        "\n",
        "[3 Seaborn Functions That Cover (Almost) All Your Visualization Tasks](https://towardsdatascience.com/3-seaborn-functions-that-cover-almost-all-your-visualization-tasks-793f76510ac3)\n",
        "\n",
        "[33 DATA VISUALIZATION TECHNIQUES ALL PROFESSIONALS SHOULD KNOW](https://dipesious.medium.com/33-data-visualization-techniques-all-professionals-should-know-ab999abe601a)\n",
        "\n",
        "[5 Python Libraries That Will Help Automate Your Life](https://medium.com/geekculture/5-python-libraries-that-will-help-automate-your-life-34aa91d93b9b)\n",
        "\n"
      ]
    }
  ]
}