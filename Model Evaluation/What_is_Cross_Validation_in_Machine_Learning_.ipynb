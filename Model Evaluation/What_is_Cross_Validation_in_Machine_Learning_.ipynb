{
  "nbformat": 4,
  "nbformat_minor": 0,
  "metadata": {
    "colab": {
      "name": "What is Cross-Validation in Machine Learning?.ipynb",
      "provenance": [],
      "collapsed_sections": [],
      "toc_visible": true
    },
    "kernelspec": {
      "name": "python3",
      "display_name": "Python 3"
    },
    "language_info": {
      "name": "python"
    }
  },
  "cells": [
    {
      "cell_type": "markdown",
      "metadata": {
        "id": "bIsI9dS-FNPO"
      },
      "source": [
        "# **Introduction**"
      ]
    },
    {
      "cell_type": "markdown",
      "metadata": {
        "id": "ZdupLwSYFUHh"
      },
      "source": [
        "In Machine Learning, Cross-validation is a statistical method of evaluating generalization performance that is more stable and thorough than using a division of dataset into a training and test set. In this article, I’ll walk you through what cross-validation is and how to use it for machine learning using the Python programming language."
      ]
    },
    {
      "cell_type": "markdown",
      "metadata": {
        "id": "aEQSzsbvGKch"
      },
      "source": [
        "![](https://drive.google.com/uc?export=view&id=1ZKQVeYKrTuLUxD6QYZ1nsoxP7cqbhmAq)"
      ]
    },
    {
      "cell_type": "markdown",
      "metadata": {
        "id": "OhNzcC8XGWxO"
      },
      "source": [
        "In cross-validation, the data is instead split multiple times and multiple models are trained. The most commonly used version of cross-validation is k-times cross-validation, where k is a user-specified number, usually 5 or 10."
      ]
    },
    {
      "cell_type": "markdown",
      "metadata": {
        "id": "aZE7qjSMGoGv"
      },
      "source": [
        "In five-way cross-validation, the data is first partitioned into five parts of (approximately) equal size, called folds. Then, a sequence of models is formed. The first model is trained using the first fold as a test set, and the remaining folds (2–5) are used as a training set."
      ]
    },
    {
      "cell_type": "markdown",
      "metadata": {
        "id": "95HA3eL9HBzf"
      },
      "source": [
        "The model is built using data from folds 2 to 5, then the precision is evaluated on fold 1. Then another model is built, this time using fold 2 as the test set and the data from folds 1, 3, 4 and 5 as a training set.\n",
        "\n",
        "This process is repeated using folds 3, 4 and 5 as test sets. For each of these five divisions of the data into training and testing sets, we calculate the precision. In the end, we collected five precision values."
      ]
    },
    {
      "cell_type": "markdown",
      "metadata": {
        "id": "22KV7aATHIU5"
      },
      "source": [
        "# **Implementation Of Cross-Validation with Python**\n"
      ]
    },
    {
      "cell_type": "markdown",
      "metadata": {
        "id": "8OYkq1D_HMbf"
      },
      "source": [
        "We can easily implement the process of Cross-validation with Python programming language by using the Scikit-learn library in Python."
      ]
    },
    {
      "cell_type": "markdown",
      "metadata": {
        "id": "TfTjWdy9HWK_"
      },
      "source": [
        "Cross-validation is implemented in scikit-learn using the cross_val_score function of the model_selection module. The parameters of the cross_val_score function are the model we want to evaluate, the training data, and the ground truth labels. Let’s evaluate LogisticRegression on the iris dataset:"
      ]
    },
    {
      "cell_type": "code",
      "metadata": {
        "id": "6JPdJfM3EJ-b"
      },
      "source": [
        "from sklearn.model_selection import cross_val_score\n",
        "from sklearn.datasets import load_iris\n",
        "from sklearn.linear_model import LogisticRegression\n",
        "\n",
        "iris = load_iris()\n",
        "logreg = LogisticRegression()\n",
        "\n",
        "scores = cross_val_score(logreg, iris.data, iris.target)\n",
        "print(\"Cross-validation scores: {}\".format(scores))"
      ],
      "execution_count": null,
      "outputs": []
    },
    {
      "cell_type": "markdown",
      "metadata": {
        "id": "316KH8M9HpDn"
      },
      "source": [
        "By default, cross_val_score performs triple cross-validation, returning three precision values. We can modify the number of folds used by modifying the cv parameter:"
      ]
    },
    {
      "cell_type": "code",
      "metadata": {
        "id": "w5hj18T1Htho"
      },
      "source": [
        "scores = cross_val_score(logreg, iris.data, iris.target, cv=5)\n",
        "print(\"Cross-validation scores: {}\".format(scores))"
      ],
      "execution_count": null,
      "outputs": []
    },
    {
      "cell_type": "markdown",
      "metadata": {
        "id": "VsCWOjgEH0AQ"
      },
      "source": [
        "A common way to summarize the precision of cross-validation is to calculate the mean:\n",
        "\n"
      ]
    },
    {
      "cell_type": "code",
      "metadata": {
        "colab": {
          "base_uri": "https://localhost:8080/"
        },
        "id": "TPFUGuP9H3_e",
        "outputId": "3334c1b9-6b81-4145-f6a9-7fd46ffb4e59"
      },
      "source": [
        "print(\"Average cross-validation score: {:.2f}\".format(scores.mean()))\n"
      ],
      "execution_count": 3,
      "outputs": [
        {
          "output_type": "stream",
          "text": [
            "Average cross-validation score: 0.97\n"
          ],
          "name": "stdout"
        }
      ]
    },
    {
      "cell_type": "markdown",
      "metadata": {
        "id": "XD-d44CUH_8n"
      },
      "source": [
        "# **Benefits & Drawbacks of Using Cross-Validation**\n"
      ]
    },
    {
      "cell_type": "markdown",
      "metadata": {
        "id": "we1jyh0CIElI"
      },
      "source": [
        "There are several advantages to using cross-validation instead of a single division into one training and one set of tests. First of all, remember that train_test_split performs a random division of data."
      ]
    },
    {
      "cell_type": "markdown",
      "metadata": {
        "id": "tUMXrkbEIRen"
      },
      "source": [
        "Imagine that we are “lucky” at randomly splitting the data, and all the hard-to-categorize examples end up in the training set. In this case, the test set will only contain “simple” examples, and the accuracy of our test set will be unrealistic.\n",
        "\n",
        "Conversely, if we are “unlucky” we may have randomly placed all of the hard-to-rank examples in the test set and therefore have an unrealistic score."
      ]
    },
    {
      "cell_type": "markdown",
      "metadata": {
        "id": "9H9IvQmtIqWW"
      },
      "source": [
        "However, when using cross-validation, each example will be in the test set exactly once: each example is in one of the folds, and each fold is the test set once. Therefore, the model must generalize well to all samples in the dataset for all cross-validation scores (and their mean) to be high.\n",
        "\n",
        "Having multiple splits of the data also provides information about the sensitivity of our model to the selection of the training data set. For the iris dataset, we saw accuracies between 90% and 100%. That’s quite a range, and it gives us an idea of ​​how the model might work in the worst-case scenario and the best-case scenario when applied to new data.\n",
        "\n",
        "Another advantage of cross-validation over using a single data division is that we use our data more efficiently. When using train_test_split, we typically use 75% of the data for training and 25% of the data for evaluation.\n",
        "\n",
        "When using five-fold cross-validation, on each iteration we can use four-fifths of the data (80%) to fit the model. When using 10 cross-validations, we can use the nine-tenths of the data (90%) to fit the model. More data will generally result in more accurate models.\n",
        "\n",
        "The main disadvantage is the increase in computational costs. Since we are currently training k models instead of a single model, the cross-validation will be about k times slower than doing a single division of the data."
      ]
    },
    {
      "cell_type": "markdown",
      "metadata": {
        "id": "Fby7CCu5E0-C"
      },
      "source": [
        "# **References**\n",
        "[What is Cross-Validation in Machine Learning?](https://thecleverprogrammer.com/2020/10/25/what-is-cross-validation-in-machine-learning/)"
      ]
    }
  ]
}