{
  "nbformat": 4,
  "nbformat_minor": 0,
  "metadata": {
    "colab": {
      "name": " Supervised (Classification) ML Model Training and Evulation .ipynb",
      "provenance": [],
      "collapsed_sections": [],
      "toc_visible": true,
      "include_colab_link": true
    },
    "kernelspec": {
      "name": "python3",
      "display_name": "Python 3"
    },
    "language_info": {
      "name": "python"
    }
  },
  "cells": [
    {
      "cell_type": "markdown",
      "metadata": {
        "id": "view-in-github",
        "colab_type": "text"
      },
      "source": [
        "<a href=\"https://colab.research.google.com/github/hussain0048/Machine-Learning/blob/master/Supervised_(Classification)_ML_Model_Training_and_Evulation_.ipynb\" target=\"_parent\"><img src=\"https://colab.research.google.com/assets/colab-badge.svg\" alt=\"Open In Colab\"/></a>"
      ]
    },
    {
      "cell_type": "markdown",
      "metadata": {
        "id": "YX1XA2lOe_hC"
      },
      "source": [
        "# **Table Content**"
      ]
    },
    {
      "cell_type": "markdown",
      "metadata": {
        "id": "iRvGGuOwfGui"
      },
      "source": [
        "\n",
        "<div class=\"alert alert-block alert-info\" style=\"margin-top: 20px\">\n",
        "    <ul>\n",
        "        <li><a href=\"https:\">Introduction</a></li>\n",
        "        <li><a href=\"#downloading_data\">Data Loading</a></li>\n",
        "        <li><a href=\"#pre-processing\">Dropping feature</a></li>\n",
        "         <li><a href=\"#pre-processing\">Convert target variable into binary Form</a></li>\n",
        "        <li><a href=\"#setting_up_tree\">Data Imbalanced problem </a></li>\n",
        "        <li><a href=\"#modeling\">Missing Values</a></li>\n",
        "         <li><a href=\"#modeling\">Inconsistent data/Irrelevant features</a></li>\n",
        "        <li><a href=\"#prediction\">Hot Encoding</a></li>\n",
        "        <li><a href=\"#evaluation\">Outlier Detection</a></li>\n",
        "        <li><a href=\"#evaluation\">Model Training and Evaluation\n",
        "        <ul>\n",
        "        <li><a href=\"#evaluation\">Decision Trees</a></li>\n",
        "        <li><a href=\"#evaluation\">Random Forest</a></li>\n",
        "        <li><a href=\"#evaluation\">Support Vector Machine</a></li>\n",
        "         <li><a href=\"#evaluation\">Logistic Regression</a></li>\n",
        "         <li><a href=\"#evaluation\">KNN</a></li>\n",
        "         <li><a href=\"#evaluation\">Naive Bayes</a></li>\n",
        "         <li><a href=\"#evaluation\">Deep Neural Multilayer Perceptron (MLP)</a></li>\n",
        "         <li><a href=\"#evaluation\">Gradient Boosting</a></li>\n",
        "         <li><a href=\"#evaluation\">ExtraTreesClassifier</a></li>\n",
        "         <li><a href=\"#evaluation\">LGBM Classifer</a></li>\n",
        "         <li><a href=\"#evaluation\">CatBoost</a></li>\n",
        "    </ul>\n",
        "</div>\n",
        "<br>\n",
        "<hr>\n"
      ]
    },
    {
      "cell_type": "markdown",
      "metadata": {
        "id": "s1xpAC0Sf0EQ"
      },
      "source": [
        "# **1- Introduction** "
      ]
    },
    {
      "cell_type": "markdown",
      "metadata": {
        "id": "o2tTizNTf7o3"
      },
      "source": [
        "Data preprocessing is an integral step in Machine Learning as the quality of data and the useful information that can be derived from it directly affects the ability of our model to learn; therefore, it is extremely important that we preprocess our data before feeding it into our model."
      ]
    },
    {
      "cell_type": "markdown",
      "metadata": {
        "id": "WZ0HWWxbvs86"
      },
      "source": [
        "# **Import libaray**"
      ]
    },
    {
      "cell_type": "code",
      "metadata": {
        "id": "LOHSx5sKvwti"
      },
      "source": [
        "import numpy as np \n",
        "import pandas as pd \n",
        "import seaborn as sns \n",
        "import matplotlib.pyplot as plt\n",
        "from prettytable import PrettyTable\n",
        "from sklearn.metrics import roc_curve, auc\n",
        "from mlxtend.plotting import plot_confusion_matrix \n",
        "from sklearn.model_selection import train_test_split\n",
        "from sklearn.metrics import classification_report, confusion_matrix\n",
        "from sklearn.tree import DecisionTreeClassifier\n",
        "from sklearn.ensemble import RandomForestClassifier\n",
        "from sklearn.svm import LinearSVC\n",
        "from sklearn.linear_model import LogisticRegression\n",
        "from sklearn.neighbors import KNeighborsClassifier\n",
        "import warnings\n",
        "warnings.filterwarnings(\"ignore\")"
      ],
      "execution_count": null,
      "outputs": []
    },
    {
      "cell_type": "markdown",
      "metadata": {
        "id": "G2WuuWtcgNG4"
      },
      "source": [
        "# **2- Data Loading**"
      ]
    },
    {
      "cell_type": "markdown",
      "metadata": {
        "id": "Biql2sZngvIB"
      },
      "source": [
        "## **2.1 Data Loading from Google Drive**"
      ]
    },
    {
      "cell_type": "code",
      "metadata": {
        "colab": {
          "base_uri": "https://localhost:8080/"
        },
        "id": "Gwp1rpowgTKQ",
        "outputId": "c9aa7e2f-9013-4831-82f0-eb7ab5b4a1f6"
      },
      "source": [
        "from google.colab import drive\n",
        "drive.mount('/content/drive')"
      ],
      "execution_count": 1,
      "outputs": [
        {
          "output_type": "stream",
          "name": "stdout",
          "text": [
            "Mounted at /content/drive\n"
          ]
        }
      ]
    },
    {
      "cell_type": "code",
      "metadata": {
        "id": "3RoIsrRghTBm"
      },
      "source": [
        "import pandas as pd \n",
        "Train_data = pd.read_csv('/content/drive/MyDrive/Datasets/Student field Recommendation /Placement_Data_Full_Class.csv',encoding = 'latin')"
      ],
      "execution_count": 33,
      "outputs": []
    },
    {
      "cell_type": "code",
      "metadata": {
        "id": "9hwlf9uUhdzP",
        "colab": {
          "base_uri": "https://localhost:8080/",
          "height": 473
        },
        "outputId": "dd191399-d592-4494-d3a0-dfff2d50137f"
      },
      "source": [
        "Train_data"
      ],
      "execution_count": 34,
      "outputs": [
        {
          "output_type": "execute_result",
          "data": {
            "text/html": [
              "<div>\n",
              "<style scoped>\n",
              "    .dataframe tbody tr th:only-of-type {\n",
              "        vertical-align: middle;\n",
              "    }\n",
              "\n",
              "    .dataframe tbody tr th {\n",
              "        vertical-align: top;\n",
              "    }\n",
              "\n",
              "    .dataframe thead th {\n",
              "        text-align: right;\n",
              "    }\n",
              "</style>\n",
              "<table border=\"1\" class=\"dataframe\">\n",
              "  <thead>\n",
              "    <tr style=\"text-align: right;\">\n",
              "      <th></th>\n",
              "      <th>sl_no</th>\n",
              "      <th>gender</th>\n",
              "      <th>ssc_p</th>\n",
              "      <th>ssc_b</th>\n",
              "      <th>hsc_p</th>\n",
              "      <th>hsc_b</th>\n",
              "      <th>hsc_s</th>\n",
              "      <th>degree_p</th>\n",
              "      <th>degree_t</th>\n",
              "      <th>workex</th>\n",
              "      <th>etest_p</th>\n",
              "      <th>specialisation</th>\n",
              "      <th>mba_p</th>\n",
              "      <th>status</th>\n",
              "      <th>salary</th>\n",
              "    </tr>\n",
              "  </thead>\n",
              "  <tbody>\n",
              "    <tr>\n",
              "      <th>0</th>\n",
              "      <td>1</td>\n",
              "      <td>M</td>\n",
              "      <td>67.00</td>\n",
              "      <td>Others</td>\n",
              "      <td>91.00</td>\n",
              "      <td>Others</td>\n",
              "      <td>Commerce</td>\n",
              "      <td>58.00</td>\n",
              "      <td>Sci&amp;Tech</td>\n",
              "      <td>No</td>\n",
              "      <td>55.0</td>\n",
              "      <td>Mkt&amp;HR</td>\n",
              "      <td>58.80</td>\n",
              "      <td>Placed</td>\n",
              "      <td>270000.0</td>\n",
              "    </tr>\n",
              "    <tr>\n",
              "      <th>1</th>\n",
              "      <td>2</td>\n",
              "      <td>M</td>\n",
              "      <td>79.33</td>\n",
              "      <td>Central</td>\n",
              "      <td>78.33</td>\n",
              "      <td>Others</td>\n",
              "      <td>Science</td>\n",
              "      <td>77.48</td>\n",
              "      <td>Sci&amp;Tech</td>\n",
              "      <td>Yes</td>\n",
              "      <td>86.5</td>\n",
              "      <td>Mkt&amp;Fin</td>\n",
              "      <td>66.28</td>\n",
              "      <td>Placed</td>\n",
              "      <td>200000.0</td>\n",
              "    </tr>\n",
              "    <tr>\n",
              "      <th>2</th>\n",
              "      <td>3</td>\n",
              "      <td>M</td>\n",
              "      <td>65.00</td>\n",
              "      <td>Central</td>\n",
              "      <td>68.00</td>\n",
              "      <td>Central</td>\n",
              "      <td>Arts</td>\n",
              "      <td>64.00</td>\n",
              "      <td>Comm&amp;Mgmt</td>\n",
              "      <td>No</td>\n",
              "      <td>75.0</td>\n",
              "      <td>Mkt&amp;Fin</td>\n",
              "      <td>57.80</td>\n",
              "      <td>Placed</td>\n",
              "      <td>250000.0</td>\n",
              "    </tr>\n",
              "    <tr>\n",
              "      <th>3</th>\n",
              "      <td>4</td>\n",
              "      <td>M</td>\n",
              "      <td>56.00</td>\n",
              "      <td>Central</td>\n",
              "      <td>52.00</td>\n",
              "      <td>Central</td>\n",
              "      <td>Science</td>\n",
              "      <td>52.00</td>\n",
              "      <td>Sci&amp;Tech</td>\n",
              "      <td>No</td>\n",
              "      <td>66.0</td>\n",
              "      <td>Mkt&amp;HR</td>\n",
              "      <td>59.43</td>\n",
              "      <td>Not Placed</td>\n",
              "      <td>NaN</td>\n",
              "    </tr>\n",
              "    <tr>\n",
              "      <th>4</th>\n",
              "      <td>5</td>\n",
              "      <td>M</td>\n",
              "      <td>85.80</td>\n",
              "      <td>Central</td>\n",
              "      <td>73.60</td>\n",
              "      <td>Central</td>\n",
              "      <td>Commerce</td>\n",
              "      <td>73.30</td>\n",
              "      <td>Comm&amp;Mgmt</td>\n",
              "      <td>No</td>\n",
              "      <td>96.8</td>\n",
              "      <td>Mkt&amp;Fin</td>\n",
              "      <td>55.50</td>\n",
              "      <td>Placed</td>\n",
              "      <td>425000.0</td>\n",
              "    </tr>\n",
              "    <tr>\n",
              "      <th>...</th>\n",
              "      <td>...</td>\n",
              "      <td>...</td>\n",
              "      <td>...</td>\n",
              "      <td>...</td>\n",
              "      <td>...</td>\n",
              "      <td>...</td>\n",
              "      <td>...</td>\n",
              "      <td>...</td>\n",
              "      <td>...</td>\n",
              "      <td>...</td>\n",
              "      <td>...</td>\n",
              "      <td>...</td>\n",
              "      <td>...</td>\n",
              "      <td>...</td>\n",
              "      <td>...</td>\n",
              "    </tr>\n",
              "    <tr>\n",
              "      <th>210</th>\n",
              "      <td>211</td>\n",
              "      <td>M</td>\n",
              "      <td>80.60</td>\n",
              "      <td>Others</td>\n",
              "      <td>82.00</td>\n",
              "      <td>Others</td>\n",
              "      <td>Commerce</td>\n",
              "      <td>77.60</td>\n",
              "      <td>Comm&amp;Mgmt</td>\n",
              "      <td>No</td>\n",
              "      <td>91.0</td>\n",
              "      <td>Mkt&amp;Fin</td>\n",
              "      <td>74.49</td>\n",
              "      <td>Placed</td>\n",
              "      <td>400000.0</td>\n",
              "    </tr>\n",
              "    <tr>\n",
              "      <th>211</th>\n",
              "      <td>212</td>\n",
              "      <td>M</td>\n",
              "      <td>58.00</td>\n",
              "      <td>Others</td>\n",
              "      <td>60.00</td>\n",
              "      <td>Others</td>\n",
              "      <td>Science</td>\n",
              "      <td>72.00</td>\n",
              "      <td>Sci&amp;Tech</td>\n",
              "      <td>No</td>\n",
              "      <td>74.0</td>\n",
              "      <td>Mkt&amp;Fin</td>\n",
              "      <td>53.62</td>\n",
              "      <td>Placed</td>\n",
              "      <td>275000.0</td>\n",
              "    </tr>\n",
              "    <tr>\n",
              "      <th>212</th>\n",
              "      <td>213</td>\n",
              "      <td>M</td>\n",
              "      <td>67.00</td>\n",
              "      <td>Others</td>\n",
              "      <td>67.00</td>\n",
              "      <td>Others</td>\n",
              "      <td>Commerce</td>\n",
              "      <td>73.00</td>\n",
              "      <td>Comm&amp;Mgmt</td>\n",
              "      <td>Yes</td>\n",
              "      <td>59.0</td>\n",
              "      <td>Mkt&amp;Fin</td>\n",
              "      <td>69.72</td>\n",
              "      <td>Placed</td>\n",
              "      <td>295000.0</td>\n",
              "    </tr>\n",
              "    <tr>\n",
              "      <th>213</th>\n",
              "      <td>214</td>\n",
              "      <td>F</td>\n",
              "      <td>74.00</td>\n",
              "      <td>Others</td>\n",
              "      <td>66.00</td>\n",
              "      <td>Others</td>\n",
              "      <td>Commerce</td>\n",
              "      <td>58.00</td>\n",
              "      <td>Comm&amp;Mgmt</td>\n",
              "      <td>No</td>\n",
              "      <td>70.0</td>\n",
              "      <td>Mkt&amp;HR</td>\n",
              "      <td>60.23</td>\n",
              "      <td>Placed</td>\n",
              "      <td>204000.0</td>\n",
              "    </tr>\n",
              "    <tr>\n",
              "      <th>214</th>\n",
              "      <td>215</td>\n",
              "      <td>M</td>\n",
              "      <td>62.00</td>\n",
              "      <td>Central</td>\n",
              "      <td>58.00</td>\n",
              "      <td>Others</td>\n",
              "      <td>Science</td>\n",
              "      <td>53.00</td>\n",
              "      <td>Comm&amp;Mgmt</td>\n",
              "      <td>No</td>\n",
              "      <td>89.0</td>\n",
              "      <td>Mkt&amp;HR</td>\n",
              "      <td>60.22</td>\n",
              "      <td>Not Placed</td>\n",
              "      <td>NaN</td>\n",
              "    </tr>\n",
              "  </tbody>\n",
              "</table>\n",
              "<p>215 rows × 15 columns</p>\n",
              "</div>"
            ],
            "text/plain": [
              "     sl_no gender  ssc_p    ssc_b  ...  specialisation  mba_p      status    salary\n",
              "0        1      M  67.00   Others  ...          Mkt&HR  58.80      Placed  270000.0\n",
              "1        2      M  79.33  Central  ...         Mkt&Fin  66.28      Placed  200000.0\n",
              "2        3      M  65.00  Central  ...         Mkt&Fin  57.80      Placed  250000.0\n",
              "3        4      M  56.00  Central  ...          Mkt&HR  59.43  Not Placed       NaN\n",
              "4        5      M  85.80  Central  ...         Mkt&Fin  55.50      Placed  425000.0\n",
              "..     ...    ...    ...      ...  ...             ...    ...         ...       ...\n",
              "210    211      M  80.60   Others  ...         Mkt&Fin  74.49      Placed  400000.0\n",
              "211    212      M  58.00   Others  ...         Mkt&Fin  53.62      Placed  275000.0\n",
              "212    213      M  67.00   Others  ...         Mkt&Fin  69.72      Placed  295000.0\n",
              "213    214      F  74.00   Others  ...          Mkt&HR  60.23      Placed  204000.0\n",
              "214    215      M  62.00  Central  ...          Mkt&HR  60.22  Not Placed       NaN\n",
              "\n",
              "[215 rows x 15 columns]"
            ]
          },
          "metadata": {},
          "execution_count": 34
        }
      ]
    },
    {
      "cell_type": "markdown",
      "metadata": {
        "id": "cjrtdkJdkvGz"
      },
      "source": [
        "# **4-Convert target variable into binary Form**"
      ]
    },
    {
      "cell_type": "code",
      "metadata": {
        "id": "jPeuZ7VPk50C"
      },
      "source": [
        "Train_data['specialisation'].replace({'Mkt&Fin': 0, 'Mkt&HR': 1},inplace = True)"
      ],
      "execution_count": 35,
      "outputs": []
    },
    {
      "cell_type": "markdown",
      "metadata": {
        "id": "orpFOyirp-Cd"
      },
      "source": [
        "# **8-Hot Encoding**"
      ]
    },
    {
      "cell_type": "code",
      "metadata": {
        "id": "xarFJmqzqNdt",
        "colab": {
          "base_uri": "https://localhost:8080/"
        },
        "outputId": "0313384c-92a7-402b-c62f-d86fa9287022"
      },
      "source": [
        "Train_data.select_dtypes(include=['object']).columns\n"
      ],
      "execution_count": 36,
      "outputs": [
        {
          "output_type": "execute_result",
          "data": {
            "text/plain": [
              "Index(['gender', 'ssc_b', 'hsc_b', 'hsc_s', 'degree_t', 'workex', 'status'], dtype='object')"
            ]
          },
          "metadata": {},
          "execution_count": 36
        }
      ]
    },
    {
      "cell_type": "code",
      "metadata": {
        "id": "VhkaSldpD0hN"
      },
      "source": [
        "data=Train_data"
      ],
      "execution_count": 37,
      "outputs": []
    },
    {
      "cell_type": "code",
      "metadata": {
        "id": "09J-VA51DubQ"
      },
      "source": [
        "data['gender'] = data['gender'].fillna(data['gender'].mode()[0])\n",
        "data['ssc_b'] = data['ssc_b'].fillna(data['ssc_b'].mode()[0])\n",
        "data['hsc_b'] = data['hsc_b'].fillna(data['hsc_b'].mode()[0])\n",
        "data['hsc_s'] = data['hsc_s'].fillna(data['hsc_s'].mode()[0])\n",
        "data['degree_t'] = data['degree_t'].fillna(data['degree_t'].mode()[0])\n",
        "data['workex'] = data['workex'].fillna(data['workex'].mode()[0])\n",
        "data['specialisation'] = data['specialisation'].fillna(data['specialisation'].mode()[0])\n",
        "data['status'] = data['status'].fillna(data['status'].mode()[0])"
      ],
      "execution_count": 38,
      "outputs": []
    },
    {
      "cell_type": "code",
      "metadata": {
        "id": "yrGan4YLqbCI"
      },
      "source": [
        "# Convert categorical features to continuous features with Label Encoding\n",
        "from sklearn.preprocessing import LabelEncoder\n",
        "lencoders = {}\n",
        "for col in data.select_dtypes(include=['object']).columns:\n",
        "    lencoders[col] = LabelEncoder()\n",
        "    data[col] = lencoders[col].fit_transform(data[col])"
      ],
      "execution_count": 39,
      "outputs": []
    },
    {
      "cell_type": "code",
      "metadata": {
        "id": "XPPO6refqh0o"
      },
      "source": [
        "import warnings\n",
        "warnings.filterwarnings(\"ignore\")\n",
        "# Multiple Imputation by Chained Equations\n",
        "from sklearn.experimental import enable_iterative_imputer\n",
        "from sklearn.impute import IterativeImputer\n",
        "MiceImputed = data.copy(deep=True) \n",
        "mice_imputer = IterativeImputer()\n",
        "MiceImputed.iloc[:, :] = mice_imputer.fit_transform(data)"
      ],
      "execution_count": 40,
      "outputs": []
    },
    {
      "cell_type": "code",
      "metadata": {
        "colab": {
          "base_uri": "https://localhost:8080/",
          "height": 439
        },
        "id": "7SU6nEUR6H83",
        "outputId": "bd06e109-e573-4eb6-e732-db1f80a5fdc6"
      },
      "source": [
        "MiceImputed"
      ],
      "execution_count": 41,
      "outputs": [
        {
          "output_type": "execute_result",
          "data": {
            "text/html": [
              "<div>\n",
              "<style scoped>\n",
              "    .dataframe tbody tr th:only-of-type {\n",
              "        vertical-align: middle;\n",
              "    }\n",
              "\n",
              "    .dataframe tbody tr th {\n",
              "        vertical-align: top;\n",
              "    }\n",
              "\n",
              "    .dataframe thead th {\n",
              "        text-align: right;\n",
              "    }\n",
              "</style>\n",
              "<table border=\"1\" class=\"dataframe\">\n",
              "  <thead>\n",
              "    <tr style=\"text-align: right;\">\n",
              "      <th></th>\n",
              "      <th>sl_no</th>\n",
              "      <th>gender</th>\n",
              "      <th>ssc_p</th>\n",
              "      <th>ssc_b</th>\n",
              "      <th>hsc_p</th>\n",
              "      <th>hsc_b</th>\n",
              "      <th>hsc_s</th>\n",
              "      <th>degree_p</th>\n",
              "      <th>degree_t</th>\n",
              "      <th>workex</th>\n",
              "      <th>etest_p</th>\n",
              "      <th>specialisation</th>\n",
              "      <th>mba_p</th>\n",
              "      <th>status</th>\n",
              "      <th>salary</th>\n",
              "    </tr>\n",
              "  </thead>\n",
              "  <tbody>\n",
              "    <tr>\n",
              "      <th>0</th>\n",
              "      <td>1.0</td>\n",
              "      <td>1.0</td>\n",
              "      <td>67.00</td>\n",
              "      <td>1.0</td>\n",
              "      <td>91.00</td>\n",
              "      <td>1.0</td>\n",
              "      <td>1.0</td>\n",
              "      <td>58.00</td>\n",
              "      <td>2.0</td>\n",
              "      <td>0.0</td>\n",
              "      <td>55.0</td>\n",
              "      <td>1.0</td>\n",
              "      <td>58.80</td>\n",
              "      <td>1.0</td>\n",
              "      <td>270000.000000</td>\n",
              "    </tr>\n",
              "    <tr>\n",
              "      <th>1</th>\n",
              "      <td>2.0</td>\n",
              "      <td>1.0</td>\n",
              "      <td>79.33</td>\n",
              "      <td>0.0</td>\n",
              "      <td>78.33</td>\n",
              "      <td>1.0</td>\n",
              "      <td>2.0</td>\n",
              "      <td>77.48</td>\n",
              "      <td>2.0</td>\n",
              "      <td>1.0</td>\n",
              "      <td>86.5</td>\n",
              "      <td>0.0</td>\n",
              "      <td>66.28</td>\n",
              "      <td>1.0</td>\n",
              "      <td>200000.000000</td>\n",
              "    </tr>\n",
              "    <tr>\n",
              "      <th>2</th>\n",
              "      <td>3.0</td>\n",
              "      <td>1.0</td>\n",
              "      <td>65.00</td>\n",
              "      <td>0.0</td>\n",
              "      <td>68.00</td>\n",
              "      <td>0.0</td>\n",
              "      <td>0.0</td>\n",
              "      <td>64.00</td>\n",
              "      <td>0.0</td>\n",
              "      <td>0.0</td>\n",
              "      <td>75.0</td>\n",
              "      <td>0.0</td>\n",
              "      <td>57.80</td>\n",
              "      <td>1.0</td>\n",
              "      <td>250000.000000</td>\n",
              "    </tr>\n",
              "    <tr>\n",
              "      <th>3</th>\n",
              "      <td>4.0</td>\n",
              "      <td>1.0</td>\n",
              "      <td>56.00</td>\n",
              "      <td>0.0</td>\n",
              "      <td>52.00</td>\n",
              "      <td>0.0</td>\n",
              "      <td>2.0</td>\n",
              "      <td>52.00</td>\n",
              "      <td>2.0</td>\n",
              "      <td>0.0</td>\n",
              "      <td>66.0</td>\n",
              "      <td>1.0</td>\n",
              "      <td>59.43</td>\n",
              "      <td>0.0</td>\n",
              "      <td>288655.133065</td>\n",
              "    </tr>\n",
              "    <tr>\n",
              "      <th>4</th>\n",
              "      <td>5.0</td>\n",
              "      <td>1.0</td>\n",
              "      <td>85.80</td>\n",
              "      <td>0.0</td>\n",
              "      <td>73.60</td>\n",
              "      <td>0.0</td>\n",
              "      <td>1.0</td>\n",
              "      <td>73.30</td>\n",
              "      <td>0.0</td>\n",
              "      <td>0.0</td>\n",
              "      <td>96.8</td>\n",
              "      <td>0.0</td>\n",
              "      <td>55.50</td>\n",
              "      <td>1.0</td>\n",
              "      <td>425000.000000</td>\n",
              "    </tr>\n",
              "    <tr>\n",
              "      <th>...</th>\n",
              "      <td>...</td>\n",
              "      <td>...</td>\n",
              "      <td>...</td>\n",
              "      <td>...</td>\n",
              "      <td>...</td>\n",
              "      <td>...</td>\n",
              "      <td>...</td>\n",
              "      <td>...</td>\n",
              "      <td>...</td>\n",
              "      <td>...</td>\n",
              "      <td>...</td>\n",
              "      <td>...</td>\n",
              "      <td>...</td>\n",
              "      <td>...</td>\n",
              "      <td>...</td>\n",
              "    </tr>\n",
              "    <tr>\n",
              "      <th>210</th>\n",
              "      <td>211.0</td>\n",
              "      <td>1.0</td>\n",
              "      <td>80.60</td>\n",
              "      <td>1.0</td>\n",
              "      <td>82.00</td>\n",
              "      <td>1.0</td>\n",
              "      <td>1.0</td>\n",
              "      <td>77.60</td>\n",
              "      <td>0.0</td>\n",
              "      <td>0.0</td>\n",
              "      <td>91.0</td>\n",
              "      <td>0.0</td>\n",
              "      <td>74.49</td>\n",
              "      <td>1.0</td>\n",
              "      <td>400000.000000</td>\n",
              "    </tr>\n",
              "    <tr>\n",
              "      <th>211</th>\n",
              "      <td>212.0</td>\n",
              "      <td>1.0</td>\n",
              "      <td>58.00</td>\n",
              "      <td>1.0</td>\n",
              "      <td>60.00</td>\n",
              "      <td>1.0</td>\n",
              "      <td>2.0</td>\n",
              "      <td>72.00</td>\n",
              "      <td>2.0</td>\n",
              "      <td>0.0</td>\n",
              "      <td>74.0</td>\n",
              "      <td>0.0</td>\n",
              "      <td>53.62</td>\n",
              "      <td>1.0</td>\n",
              "      <td>275000.000000</td>\n",
              "    </tr>\n",
              "    <tr>\n",
              "      <th>212</th>\n",
              "      <td>213.0</td>\n",
              "      <td>1.0</td>\n",
              "      <td>67.00</td>\n",
              "      <td>1.0</td>\n",
              "      <td>67.00</td>\n",
              "      <td>1.0</td>\n",
              "      <td>1.0</td>\n",
              "      <td>73.00</td>\n",
              "      <td>0.0</td>\n",
              "      <td>1.0</td>\n",
              "      <td>59.0</td>\n",
              "      <td>0.0</td>\n",
              "      <td>69.72</td>\n",
              "      <td>1.0</td>\n",
              "      <td>295000.000000</td>\n",
              "    </tr>\n",
              "    <tr>\n",
              "      <th>213</th>\n",
              "      <td>214.0</td>\n",
              "      <td>0.0</td>\n",
              "      <td>74.00</td>\n",
              "      <td>1.0</td>\n",
              "      <td>66.00</td>\n",
              "      <td>1.0</td>\n",
              "      <td>1.0</td>\n",
              "      <td>58.00</td>\n",
              "      <td>0.0</td>\n",
              "      <td>0.0</td>\n",
              "      <td>70.0</td>\n",
              "      <td>1.0</td>\n",
              "      <td>60.23</td>\n",
              "      <td>1.0</td>\n",
              "      <td>204000.000000</td>\n",
              "    </tr>\n",
              "    <tr>\n",
              "      <th>214</th>\n",
              "      <td>215.0</td>\n",
              "      <td>1.0</td>\n",
              "      <td>62.00</td>\n",
              "      <td>0.0</td>\n",
              "      <td>58.00</td>\n",
              "      <td>1.0</td>\n",
              "      <td>2.0</td>\n",
              "      <td>53.00</td>\n",
              "      <td>0.0</td>\n",
              "      <td>0.0</td>\n",
              "      <td>89.0</td>\n",
              "      <td>1.0</td>\n",
              "      <td>60.22</td>\n",
              "      <td>0.0</td>\n",
              "      <td>288655.684269</td>\n",
              "    </tr>\n",
              "  </tbody>\n",
              "</table>\n",
              "<p>215 rows × 15 columns</p>\n",
              "</div>"
            ],
            "text/plain": [
              "     sl_no  gender  ssc_p  ssc_b  ...  specialisation  mba_p  status         salary\n",
              "0      1.0     1.0  67.00    1.0  ...             1.0  58.80     1.0  270000.000000\n",
              "1      2.0     1.0  79.33    0.0  ...             0.0  66.28     1.0  200000.000000\n",
              "2      3.0     1.0  65.00    0.0  ...             0.0  57.80     1.0  250000.000000\n",
              "3      4.0     1.0  56.00    0.0  ...             1.0  59.43     0.0  288655.133065\n",
              "4      5.0     1.0  85.80    0.0  ...             0.0  55.50     1.0  425000.000000\n",
              "..     ...     ...    ...    ...  ...             ...    ...     ...            ...\n",
              "210  211.0     1.0  80.60    1.0  ...             0.0  74.49     1.0  400000.000000\n",
              "211  212.0     1.0  58.00    1.0  ...             0.0  53.62     1.0  275000.000000\n",
              "212  213.0     1.0  67.00    1.0  ...             0.0  69.72     1.0  295000.000000\n",
              "213  214.0     0.0  74.00    1.0  ...             1.0  60.23     1.0  204000.000000\n",
              "214  215.0     1.0  62.00    0.0  ...             1.0  60.22     0.0  288655.684269\n",
              "\n",
              "[215 rows x 15 columns]"
            ]
          },
          "metadata": {},
          "execution_count": 41
        }
      ]
    },
    {
      "cell_type": "code",
      "metadata": {
        "id": "pdpvsPxrEf3n"
      },
      "source": [
        "MiceImputed = MiceImputed.dropna(axis = 0, how ='any')\n"
      ],
      "execution_count": 42,
      "outputs": []
    },
    {
      "cell_type": "markdown",
      "metadata": {
        "id": "YAFiOSxhxeYd"
      },
      "source": [
        "# **10- Data spliting**"
      ]
    },
    {
      "cell_type": "code",
      "metadata": {
        "id": "Vf0zg0EIxjvt"
      },
      "source": [
        "X=MiceImputed.drop('specialisation',axis=1)"
      ],
      "execution_count": 43,
      "outputs": []
    },
    {
      "cell_type": "code",
      "metadata": {
        "id": "vlZjN0iUxwvk"
      },
      "source": [
        "y=MiceImputed[['specialisation']]\n"
      ],
      "execution_count": 44,
      "outputs": []
    },
    {
      "cell_type": "code",
      "metadata": {
        "id": "h-eJxgVEx57E"
      },
      "source": [
        "from sklearn.model_selection import train_test_split\n",
        "X_train, X_test, y_train, y_test = train_test_split(X, y, test_size=0.30, random_state=100)"
      ],
      "execution_count": 67,
      "outputs": []
    },
    {
      "cell_type": "markdown",
      "metadata": {
        "id": "mrILa6tqxQs2"
      },
      "source": [
        "# **11- Model Training and Evaluation**"
      ]
    },
    {
      "cell_type": "markdown",
      "metadata": {
        "id": "cvDMiUrcxdQz"
      },
      "source": [
        "## **11.1-Decision Trees**"
      ]
    },
    {
      "cell_type": "markdown",
      "metadata": {
        "id": "AQ-H819ny8GQ"
      },
      "source": [
        "### **Model Training**"
      ]
    },
    {
      "cell_type": "code",
      "metadata": {
        "id": "n4d68BKRx1Tu"
      },
      "source": [
        "from sklearn.tree import DecisionTreeClassifier\n",
        "DTC=DecisionTreeClassifier(random_state=0, max_depth=2)\n",
        "DTC_Model= DTC.fit(X_train , y_train)\n",
        "DTC_Model"
      ],
      "execution_count": null,
      "outputs": []
    },
    {
      "cell_type": "markdown",
      "metadata": {
        "id": "hh4GSJw-1Y5a"
      },
      "source": [
        "###**Model evaluation**"
      ]
    },
    {
      "cell_type": "markdown",
      "metadata": {
        "id": "Z0QWsRpFm-kq"
      },
      "source": [
        "**Predict Class Probability**"
      ]
    },
    {
      "cell_type": "code",
      "metadata": {
        "id": "1YoNNVILnDTr"
      },
      "source": [
        "preds_proba = DTC_Model.predict_proba(X_test)\n",
        "print(\"class = \", preds_proba)"
      ],
      "execution_count": null,
      "outputs": []
    },
    {
      "cell_type": "markdown",
      "metadata": {
        "id": "mijpI-Ej1iWT"
      },
      "source": [
        "**Accuracy**"
      ]
    },
    {
      "cell_type": "code",
      "metadata": {
        "id": "gp3SYWypykjn",
        "colab": {
          "base_uri": "https://localhost:8080/"
        },
        "outputId": "f8ef4239-5330-4f65-9c6b-4dc13258d4f9"
      },
      "source": [
        "y_pred_DT = DTC.predict(X_test)\n",
        "DT_Acc=DTC.score(X_test, y_test)\n",
        "print('Accuracy score= {:.4f}'.format(DTC.score(X_test, y_test)))"
      ],
      "execution_count": 48,
      "outputs": [
        {
          "output_type": "stream",
          "name": "stdout",
          "text": [
            "Accuracy score= 0.5538\n"
          ]
        }
      ]
    },
    {
      "cell_type": "markdown",
      "metadata": {
        "id": "icMHxJck3Qiq"
      },
      "source": [
        "**Confusion Matrix**"
      ]
    },
    {
      "cell_type": "code",
      "metadata": {
        "id": "9EC3IS1j3TMT",
        "colab": {
          "base_uri": "https://localhost:8080/",
          "height": 727
        },
        "outputId": "186349f8-4397-40b0-f092-21c376c4a26a"
      },
      "source": [
        "from mlxtend.plotting import plot_confusion_matrix \n",
        "from sklearn.metrics import classification_report, confusion_matrix\n",
        "print('\\n')\n",
        "print(\"confusion matrix\")\n",
        "print('\\n')\n",
        "CR=confusion_matrix(y_test, y_pred_DT)\n",
        "print(CR)\n",
        "print('\\n')\n",
        "\n",
        "fig, ax = plot_confusion_matrix(conf_mat=CR,figsize=(10, 10),\n",
        "                                show_absolute=True,\n",
        "                                show_normed=True,\n",
        "                                colorbar=True)\n",
        "plt.show()"
      ],
      "execution_count": null,
      "outputs": [
        {
          "output_type": "stream",
          "name": "stdout",
          "text": [
            "\n",
            "\n",
            "confusion matrix\n",
            "\n",
            "\n",
            "[[5826   45]\n",
            " [3906  590]]\n",
            "\n",
            "\n"
          ]
        },
        {
          "output_type": "display_data",
          "data": {
            "image/png": "[encoded data removed]",
            "text/plain": [
              "<Figure size 720x720 with 2 Axes>"
            ]
          },
          "metadata": {
            "needs_background": "light"
          }
        }
      ]
    },
    {
      "cell_type": "markdown",
      "metadata": {
        "id": "hJXgDrGO32Wg"
      },
      "source": [
        "**Precision, Recall, F1**"
      ]
    },
    {
      "cell_type": "code",
      "metadata": {
        "colab": {
          "base_uri": "https://localhost:8080/"
        },
        "id": "9eQS7l2Y347W",
        "outputId": "707ddf2c-4045-453a-c7a0-c855ed943691"
      },
      "source": [
        "print('\\n')\n",
        "print(\"Precision, Recall, F1\")\n",
        "print('\\n')\n",
        "CR=classification_report(y_test, y_pred_DT)\n",
        "print(CR)\n",
        "print('\\n')"
      ],
      "execution_count": null,
      "outputs": [
        {
          "output_type": "stream",
          "name": "stdout",
          "text": [
            "\n",
            "\n",
            "Precision, Recall, F1\n",
            "\n",
            "\n",
            "              precision    recall  f1-score   support\n",
            "\n",
            "         0.0       0.60      0.99      0.75      5871\n",
            "         1.0       0.93      0.13      0.23      4496\n",
            "\n",
            "    accuracy                           0.62     10367\n",
            "   macro avg       0.76      0.56      0.49     10367\n",
            "weighted avg       0.74      0.62      0.52     10367\n",
            "\n",
            "\n",
            "\n"
          ]
        }
      ]
    },
    {
      "cell_type": "markdown",
      "metadata": {
        "id": "IIhEuLTP4KZj"
      },
      "source": [
        "**ROC CURVE**"
      ]
    },
    {
      "cell_type": "code",
      "metadata": {
        "colab": {
          "base_uri": "https://localhost:8080/",
          "height": 295
        },
        "id": "EUaIEaoL4NMI",
        "outputId": "cdf04a88-0e8b-4873-cbdd-0205067121c7"
      },
      "source": [
        "from sklearn.metrics import roc_curve, auc\n",
        "fpr_DT, tpr_DT, thresholds = roc_curve(y_test, y_pred_DT)\n",
        "roc_auc_DT = auc(fpr_DT, tpr_DT)\n",
        "plt.figure()\n",
        "plt.plot(fpr_DT, tpr_DT, color='darkorange', lw=1, label='ROC curve (area = %0.4f)' % roc_auc_DT)\n",
        "plt.xlim([0.0, 1.0])\n",
        "plt.ylim([0.0, 1.05])\n",
        "plt.xlabel('False Positive Rate')\n",
        "plt.ylabel('True Positive Rate')\n",
        "plt.title('ROC CURVE')\n",
        "plt.legend(loc=\"lower right\")\n",
        "plt.show()"
      ],
      "execution_count": null,
      "outputs": [
        {
          "output_type": "display_data",
          "data": {
            "image/png": "[encoded data removed]",
            "text/plain": [
              "<Figure size 432x288 with 1 Axes>"
            ]
          },
          "metadata": {
            "needs_background": "light"
          }
        }
      ]
    },
    {
      "cell_type": "markdown",
      "metadata": {
        "id": "jUq5Mc5PwE_U"
      },
      "source": [
        "### **Motel explanation**"
      ]
    },
    {
      "cell_type": "markdown",
      "metadata": {
        "id": "qFn-MZU5whAV"
      },
      "source": [
        "####**Trelawney : a unified Python API** [8,9]"
      ]
    },
    {
      "cell_type": "code",
      "metadata": {
        "id": "TIdZDBKPwKxo"
      },
      "source": [
        "!pip install trelawney"
      ],
      "execution_count": null,
      "outputs": []
    },
    {
      "cell_type": "code",
      "metadata": {
        "id": "emh9u7m1zNvo",
        "colab": {
          "base_uri": "https://localhost:8080/"
        },
        "outputId": "f6cb59cf-3a12-412f-c614-931944a962e3"
      },
      "source": [
        "!pip install scipy"
      ],
      "execution_count": null,
      "outputs": [
        {
          "output_type": "stream",
          "name": "stdout",
          "text": [
            "Requirement already satisfied: scipy in /usr/local/lib/python3.7/dist-packages (1.4.1)\n",
            "Requirement already satisfied: numpy>=1.13.3 in /usr/local/lib/python3.7/dist-packages (from scipy) (1.17.2)\n"
          ]
        }
      ]
    },
    {
      "cell_type": "markdown",
      "metadata": {
        "id": "TGHF71g4xlGQ"
      },
      "source": [
        "**SHAP**"
      ]
    },
    {
      "cell_type": "code",
      "metadata": {
        "id": "qZGSbzfZyG0s"
      },
      "source": [
        "import warnings\n",
        "warnings.filterwarnings(\"ignore\")"
      ],
      "execution_count": null,
      "outputs": []
    },
    {
      "cell_type": "code",
      "metadata": {
        "id": "OC-nw8dayelL"
      },
      "source": [
        "from trelawney.shap_explainer import ShapExplainer"
      ],
      "execution_count": null,
      "outputs": []
    },
    {
      "cell_type": "code",
      "metadata": {
        "id": "KLrhs-RmxvYW",
        "colab": {
          "base_uri": "https://localhost:8080/"
        },
        "outputId": "1133c7bd-ced0-4922-a7f9-dbaf49e09861"
      },
      "source": [
        "from trelawney.shap_explainer import ShapExplainer\n",
        "explainer = ShapExplainer()\n",
        "explainer.fit(DTC_Model, X_train, y_train)"
      ],
      "execution_count": null,
      "outputs": [
        {
          "output_type": "execute_result",
          "data": {
            "text/plain": [
              "<trelawney.shap_explainer.ShapExplainer at 0x7fa873266a90>"
            ]
          },
          "metadata": {},
          "execution_count": 68
        }
      ]
    },
    {
      "cell_type": "markdown",
      "metadata": {
        "id": "w-HV8wMnzmyo"
      },
      "source": [
        "Feature importance of the model, according to SHAP\n"
      ]
    },
    {
      "cell_type": "code",
      "metadata": {
        "id": "F-Wx5uP0zvhV"
      },
      "source": [
        "feature_importance_graph = explainer.graph_feature_importance(X_train)\n",
        "feature_importance_graph.update_layout(title='Shap Feature Importance')\n",
        "feature_importance_graph.show()"
      ],
      "execution_count": null,
      "outputs": []
    },
    {
      "cell_type": "markdown",
      "metadata": {
        "id": "C9I57Q__Ap4M"
      },
      "source": [
        "**Surogate explainer**"
      ]
    },
    {
      "cell_type": "code",
      "metadata": {
        "id": "tTTkN03zAsnv"
      },
      "source": [
        "from trelawney.surrogate_explainer import SurrogateExplainer\n",
        "from sklearn.tree import DecisionTreeClassifier"
      ],
      "execution_count": null,
      "outputs": []
    },
    {
      "cell_type": "code",
      "metadata": {
        "id": "xqEhk7TLA377",
        "colab": {
          "base_uri": "https://localhost:8080/"
        },
        "outputId": "804e2305-86ea-4675-e16a-a6c293362620"
      },
      "source": [
        "explainer = SurrogateExplainer(DecisionTreeClassifier(max_depth=4))\n",
        "explainer.fit(DTC_Model, X_train, y_train)"
      ],
      "execution_count": null,
      "outputs": [
        {
          "output_type": "execute_result",
          "data": {
            "text/plain": [
              "<trelawney.surrogate_explainer.SurrogateExplainer at 0x7fa872ad8dd0>"
            ]
          },
          "metadata": {},
          "execution_count": 72
        }
      ]
    },
    {
      "cell_type": "markdown",
      "metadata": {
        "id": "sHgyaMTZBHnk"
      },
      "source": [
        "**surogate decision tree**\n",
        "\n"
      ]
    },
    {
      "cell_type": "code",
      "metadata": {
        "id": "tQ3Bfn67BKGS"
      },
      "source": [
        "from IPython.display import Image\n",
        "explainer.plot_tree(out_path='./tree_viz')\n",
        "Image('./tree_viz.png', width=1000, height=500)"
      ],
      "execution_count": null,
      "outputs": []
    },
    {
      "cell_type": "code",
      "metadata": {
        "id": "0KTrBtX4BbVA",
        "colab": {
          "base_uri": "https://localhost:8080/"
        },
        "outputId": "6104a7d6-2faa-43f3-c911-d615bbae06be"
      },
      "source": [
        "explainer.adequation_score()"
      ],
      "execution_count": null,
      "outputs": [
        {
          "output_type": "execute_result",
          "data": {
            "text/plain": [
              "1.0"
            ]
          },
          "metadata": {},
          "execution_count": 74
        }
      ]
    },
    {
      "cell_type": "markdown",
      "metadata": {
        "id": "IAPx37rvBiVz"
      },
      "source": [
        "**lime**"
      ]
    },
    {
      "cell_type": "code",
      "metadata": {
        "id": "n2zAHD4fBnWr"
      },
      "source": [
        "from trelawney.lime_explainer import LimeExplainer"
      ],
      "execution_count": null,
      "outputs": []
    },
    {
      "cell_type": "markdown",
      "metadata": {
        "id": "FG82tHJ464jf"
      },
      "source": [
        "### **Model Tunning**"
      ]
    },
    {
      "cell_type": "markdown",
      "metadata": {
        "id": "kZKUpDIx7DrE"
      },
      "source": [
        "**GridSearchCV**\n",
        "\n"
      ]
    },
    {
      "cell_type": "code",
      "metadata": {
        "id": "NXVYs8LA9tnG"
      },
      "source": [
        "from sklearn.model_selection import GridSearchCV\n",
        "from sklearn.tree import DecisionTreeClassifier"
      ],
      "execution_count": null,
      "outputs": []
    },
    {
      "cell_type": "code",
      "metadata": {
        "id": "rjAMeDEG_OgW"
      },
      "source": [
        "n_samples = 24187\n",
        "n_features = 9"
      ],
      "execution_count": null,
      "outputs": []
    },
    {
      "cell_type": "code",
      "metadata": {
        "id": "qcFkFprk_V0J"
      },
      "source": [
        "grid = GridSearchCV(DecisionTreeClassifier(random_state=1), cv=3, n_jobs=-1, verbose=5,\n",
        "                    param_grid ={\n",
        "                    'criterion': ['gini', 'entropy'],\n",
        "                    'max_depth': [None,1,2,3,4,5,6,7],\n",
        "                    'max_features': [None, 'sqrt', 'auto', 'log2', 0.3,0.5,0.7, n_features//2, n_features//3, ],\n",
        "                    'min_samples_split': [2,0.3,0.5, n_samples//2, n_samples//3, n_samples//5],\n",
        "                    'min_samples_leaf':[1, 0.3,0.5, n_samples//2, n_samples//3, n_samples//5]},\n",
        "                    )"
      ],
      "execution_count": null,
      "outputs": []
    },
    {
      "cell_type": "code",
      "metadata": {
        "colab": {
          "base_uri": "https://localhost:8080/"
        },
        "id": "uygI_2C7_Zui",
        "outputId": "7a815556-72f0-4abe-c143-b65c2e045f3b"
      },
      "source": [
        "grid.fit(X_train, y_train)"
      ],
      "execution_count": null,
      "outputs": [
        {
          "output_type": "stream",
          "name": "stdout",
          "text": [
            "Fitting 3 folds for each of 5184 candidates, totalling 15552 fits\n"
          ]
        },
        {
          "output_type": "stream",
          "name": "stderr",
          "text": [
            "[Parallel(n_jobs=-1)]: Using backend LokyBackend with 2 concurrent workers.\n",
            "[Parallel(n_jobs=-1)]: Done  14 tasks      | elapsed:    1.9s\n",
            "[Parallel(n_jobs=-1)]: Done 652 tasks      | elapsed:    7.4s\n",
            "[Parallel(n_jobs=-1)]: Done 2092 tasks      | elapsed:   18.9s\n",
            "[Parallel(n_jobs=-1)]: Done 4108 tasks      | elapsed:   35.2s\n",
            "[Parallel(n_jobs=-1)]: Done 6700 tasks      | elapsed:   56.3s\n",
            "[Parallel(n_jobs=-1)]: Done 9868 tasks      | elapsed:  1.4min\n",
            "[Parallel(n_jobs=-1)]: Done 13612 tasks      | elapsed:  1.9min\n",
            "[Parallel(n_jobs=-1)]: Done 15552 out of 15552 | elapsed:  2.2min finished\n"
          ]
        },
        {
          "output_type": "execute_result",
          "data": {
            "text/plain": [
              "GridSearchCV(cv=3, error_score='raise-deprecating',\n",
              "             estimator=DecisionTreeClassifier(class_weight=None,\n",
              "                                              criterion='gini', max_depth=None,\n",
              "                                              max_features=None,\n",
              "                                              max_leaf_nodes=None,\n",
              "                                              min_impurity_decrease=0.0,\n",
              "                                              min_impurity_split=None,\n",
              "                                              min_samples_leaf=1,\n",
              "                                              min_samples_split=2,\n",
              "                                              min_weight_fraction_leaf=0.0,\n",
              "                                              presort=False, random_state=1,\n",
              "                                              splitter='best'),\n",
              "             iid='warn', n_jobs=-1,\n",
              "             param_grid={'criterion': ['gini', 'entropy'],\n",
              "                         'max_depth': [None, 1, 2, 3, 4, 5, 6, 7],\n",
              "                         'max_features': [None, 'sqrt', 'auto', 'log2', 0.3,\n",
              "                                          0.5, 0.7, 4, 3],\n",
              "                         'min_samples_leaf': [1, 0.3, 0.5, 12093, 8062, 4837],\n",
              "                         'min_samples_split': [2, 0.3, 0.5, 12093, 8062, 4837]},\n",
              "             pre_dispatch='2*n_jobs', refit=True, return_train_score=False,\n",
              "             scoring=None, verbose=5)"
            ]
          },
          "metadata": {},
          "execution_count": 38
        }
      ]
    },
    {
      "cell_type": "code",
      "metadata": {
        "colab": {
          "base_uri": "https://localhost:8080/"
        },
        "id": "091tLuNI_oV5",
        "outputId": "e19c1a2f-b5fe-4d7d-e8a2-1d8baa6171f4"
      },
      "source": [
        "print('Train Accuracy : %.3f'%grid.best_estimator_.score(X_train, y_train))\n",
        "print('Test Accuracy : %.3f'%grid.best_estimator_.score(X_test, y_test))\n",
        "print('Best Score Through Grid Search : %.3f'%grid.best_score_)\n",
        "print('Best Parameters : ',grid.best_params_)"
      ],
      "execution_count": null,
      "outputs": [
        {
          "output_type": "stream",
          "name": "stdout",
          "text": [
            "Train Accuracy : 1.000\n",
            "Test Accuracy : 0.999\n",
            "Best Score Through Grid Search : 0.998\n",
            "Best Parameters :  {'criterion': 'entropy', 'max_depth': None, 'max_features': 'sqrt', 'min_samples_leaf': 1, 'min_samples_split': 2}\n"
          ]
        }
      ]
    },
    {
      "cell_type": "code",
      "metadata": {
        "id": "MbZ1Mbh91xhG",
        "colab": {
          "base_uri": "https://localhost:8080/",
          "height": 419
        },
        "outputId": "0bca29db-8d97-41ee-abe3-f544b2840227"
      },
      "source": [
        "y_train"
      ],
      "execution_count": null,
      "outputs": [
        {
          "output_type": "execute_result",
          "data": {
            "text/html": [
              "<div>\n",
              "<style scoped>\n",
              "    .dataframe tbody tr th:only-of-type {\n",
              "        vertical-align: middle;\n",
              "    }\n",
              "\n",
              "    .dataframe tbody tr th {\n",
              "        vertical-align: top;\n",
              "    }\n",
              "\n",
              "    .dataframe thead th {\n",
              "        text-align: right;\n",
              "    }\n",
              "</style>\n",
              "<table border=\"1\" class=\"dataframe\">\n",
              "  <thead>\n",
              "    <tr style=\"text-align: right;\">\n",
              "      <th></th>\n",
              "      <th>RESULT_TEXT</th>\n",
              "    </tr>\n",
              "  </thead>\n",
              "  <tbody>\n",
              "    <tr>\n",
              "      <td>12545</td>\n",
              "      <td>0.0</td>\n",
              "    </tr>\n",
              "    <tr>\n",
              "      <td>15205</td>\n",
              "      <td>0.0</td>\n",
              "    </tr>\n",
              "    <tr>\n",
              "      <td>13513</td>\n",
              "      <td>1.0</td>\n",
              "    </tr>\n",
              "    <tr>\n",
              "      <td>6203</td>\n",
              "      <td>0.0</td>\n",
              "    </tr>\n",
              "    <tr>\n",
              "      <td>3609</td>\n",
              "      <td>0.0</td>\n",
              "    </tr>\n",
              "    <tr>\n",
              "      <td>...</td>\n",
              "      <td>...</td>\n",
              "    </tr>\n",
              "    <tr>\n",
              "      <td>19544</td>\n",
              "      <td>0.0</td>\n",
              "    </tr>\n",
              "    <tr>\n",
              "      <td>19033</td>\n",
              "      <td>0.0</td>\n",
              "    </tr>\n",
              "    <tr>\n",
              "      <td>96</td>\n",
              "      <td>0.0</td>\n",
              "    </tr>\n",
              "    <tr>\n",
              "      <td>14140</td>\n",
              "      <td>0.0</td>\n",
              "    </tr>\n",
              "    <tr>\n",
              "      <td>16510</td>\n",
              "      <td>0.0</td>\n",
              "    </tr>\n",
              "  </tbody>\n",
              "</table>\n",
              "<p>24187 rows × 1 columns</p>\n",
              "</div>"
            ],
            "text/plain": [
              "       RESULT_TEXT\n",
              "12545          0.0\n",
              "15205          0.0\n",
              "13513          1.0\n",
              "6203           0.0\n",
              "3609           0.0\n",
              "...            ...\n",
              "19544          0.0\n",
              "19033          0.0\n",
              "96             0.0\n",
              "14140          0.0\n",
              "16510          0.0\n",
              "\n",
              "[24187 rows x 1 columns]"
            ]
          },
          "metadata": {},
          "execution_count": 40
        }
      ]
    },
    {
      "cell_type": "code",
      "metadata": {
        "id": "2uWOxAUl2pBr",
        "colab": {
          "base_uri": "https://localhost:8080/",
          "height": 419
        },
        "outputId": "65c93448-e15b-46ad-a1af-fcd4fd6cd275"
      },
      "source": [
        "MiceImputed"
      ],
      "execution_count": null,
      "outputs": [
        {
          "output_type": "execute_result",
          "data": {
            "text/html": [
              "<div>\n",
              "<style scoped>\n",
              "    .dataframe tbody tr th:only-of-type {\n",
              "        vertical-align: middle;\n",
              "    }\n",
              "\n",
              "    .dataframe tbody tr th {\n",
              "        vertical-align: top;\n",
              "    }\n",
              "\n",
              "    .dataframe thead th {\n",
              "        text-align: right;\n",
              "    }\n",
              "</style>\n",
              "<table border=\"1\" class=\"dataframe\">\n",
              "  <thead>\n",
              "    <tr style=\"text-align: right;\">\n",
              "      <th></th>\n",
              "      <th>MRNO</th>\n",
              "      <th>AGE</th>\n",
              "      <th>GENDER</th>\n",
              "      <th>DISTRICT</th>\n",
              "      <th>TEHSIL</th>\n",
              "      <th>REPORT_VERIFIED</th>\n",
              "      <th>CPT_ID</th>\n",
              "      <th>RESULT_VALUE</th>\n",
              "      <th>CPT_ID.1</th>\n",
              "      <th>RESULT_TEXT</th>\n",
              "    </tr>\n",
              "  </thead>\n",
              "  <tbody>\n",
              "    <tr>\n",
              "      <td>1</td>\n",
              "      <td>10373.0</td>\n",
              "      <td>41.0</td>\n",
              "      <td>1.0</td>\n",
              "      <td>0.0</td>\n",
              "      <td>1.0</td>\n",
              "      <td>21463.0</td>\n",
              "      <td>1.000000e+15</td>\n",
              "      <td>1.0</td>\n",
              "      <td>1.000000e+15</td>\n",
              "      <td>0.0</td>\n",
              "    </tr>\n",
              "    <tr>\n",
              "      <td>2</td>\n",
              "      <td>10373.0</td>\n",
              "      <td>41.0</td>\n",
              "      <td>1.0</td>\n",
              "      <td>0.0</td>\n",
              "      <td>1.0</td>\n",
              "      <td>21462.0</td>\n",
              "      <td>1.000000e+15</td>\n",
              "      <td>1.0</td>\n",
              "      <td>1.000000e+15</td>\n",
              "      <td>0.0</td>\n",
              "    </tr>\n",
              "    <tr>\n",
              "      <td>3</td>\n",
              "      <td>10312.0</td>\n",
              "      <td>23.0</td>\n",
              "      <td>1.0</td>\n",
              "      <td>0.0</td>\n",
              "      <td>1.0</td>\n",
              "      <td>10809.0</td>\n",
              "      <td>1.000000e+15</td>\n",
              "      <td>1.0</td>\n",
              "      <td>1.000000e+15</td>\n",
              "      <td>0.0</td>\n",
              "    </tr>\n",
              "    <tr>\n",
              "      <td>4</td>\n",
              "      <td>10313.0</td>\n",
              "      <td>40.0</td>\n",
              "      <td>1.0</td>\n",
              "      <td>0.0</td>\n",
              "      <td>1.0</td>\n",
              "      <td>12521.0</td>\n",
              "      <td>1.000000e+15</td>\n",
              "      <td>1.0</td>\n",
              "      <td>1.000000e+15</td>\n",
              "      <td>0.0</td>\n",
              "    </tr>\n",
              "    <tr>\n",
              "      <td>5</td>\n",
              "      <td>10315.0</td>\n",
              "      <td>26.0</td>\n",
              "      <td>0.0</td>\n",
              "      <td>0.0</td>\n",
              "      <td>1.0</td>\n",
              "      <td>2063.0</td>\n",
              "      <td>1.000000e+15</td>\n",
              "      <td>1.0</td>\n",
              "      <td>1.000000e+15</td>\n",
              "      <td>0.0</td>\n",
              "    </tr>\n",
              "    <tr>\n",
              "      <td>...</td>\n",
              "      <td>...</td>\n",
              "      <td>...</td>\n",
              "      <td>...</td>\n",
              "      <td>...</td>\n",
              "      <td>...</td>\n",
              "      <td>...</td>\n",
              "      <td>...</td>\n",
              "      <td>...</td>\n",
              "      <td>...</td>\n",
              "      <td>...</td>\n",
              "    </tr>\n",
              "    <tr>\n",
              "      <td>12343</td>\n",
              "      <td>3001.0</td>\n",
              "      <td>65.0</td>\n",
              "      <td>0.0</td>\n",
              "      <td>0.0</td>\n",
              "      <td>1.0</td>\n",
              "      <td>3669.0</td>\n",
              "      <td>1.000000e+15</td>\n",
              "      <td>1.0</td>\n",
              "      <td>1.000000e+15</td>\n",
              "      <td>1.0</td>\n",
              "    </tr>\n",
              "    <tr>\n",
              "      <td>15056</td>\n",
              "      <td>2531.0</td>\n",
              "      <td>29.0</td>\n",
              "      <td>0.0</td>\n",
              "      <td>0.0</td>\n",
              "      <td>1.0</td>\n",
              "      <td>19534.0</td>\n",
              "      <td>1.000000e+15</td>\n",
              "      <td>1.0</td>\n",
              "      <td>1.000000e+15</td>\n",
              "      <td>1.0</td>\n",
              "    </tr>\n",
              "    <tr>\n",
              "      <td>13513</td>\n",
              "      <td>7286.0</td>\n",
              "      <td>84.0</td>\n",
              "      <td>1.0</td>\n",
              "      <td>0.0</td>\n",
              "      <td>1.0</td>\n",
              "      <td>8439.0</td>\n",
              "      <td>1.000000e+15</td>\n",
              "      <td>1.0</td>\n",
              "      <td>1.000000e+15</td>\n",
              "      <td>1.0</td>\n",
              "    </tr>\n",
              "    <tr>\n",
              "      <td>8974</td>\n",
              "      <td>744.0</td>\n",
              "      <td>9.0</td>\n",
              "      <td>1.0</td>\n",
              "      <td>0.0</td>\n",
              "      <td>1.0</td>\n",
              "      <td>10606.0</td>\n",
              "      <td>1.000000e+15</td>\n",
              "      <td>1.0</td>\n",
              "      <td>1.000000e+15</td>\n",
              "      <td>1.0</td>\n",
              "    </tr>\n",
              "    <tr>\n",
              "      <td>18480</td>\n",
              "      <td>4737.0</td>\n",
              "      <td>20.0</td>\n",
              "      <td>1.0</td>\n",
              "      <td>0.0</td>\n",
              "      <td>1.0</td>\n",
              "      <td>12356.0</td>\n",
              "      <td>1.000000e+15</td>\n",
              "      <td>1.0</td>\n",
              "      <td>1.000000e+15</td>\n",
              "      <td>1.0</td>\n",
              "    </tr>\n",
              "  </tbody>\n",
              "</table>\n",
              "<p>34554 rows × 10 columns</p>\n",
              "</div>"
            ],
            "text/plain": [
              "          MRNO   AGE  GENDER  ...  RESULT_VALUE      CPT_ID.1  RESULT_TEXT\n",
              "1      10373.0  41.0     1.0  ...           1.0  1.000000e+15          0.0\n",
              "2      10373.0  41.0     1.0  ...           1.0  1.000000e+15          0.0\n",
              "3      10312.0  23.0     1.0  ...           1.0  1.000000e+15          0.0\n",
              "4      10313.0  40.0     1.0  ...           1.0  1.000000e+15          0.0\n",
              "5      10315.0  26.0     0.0  ...           1.0  1.000000e+15          0.0\n",
              "...        ...   ...     ...  ...           ...           ...          ...\n",
              "12343   3001.0  65.0     0.0  ...           1.0  1.000000e+15          1.0\n",
              "15056   2531.0  29.0     0.0  ...           1.0  1.000000e+15          1.0\n",
              "13513   7286.0  84.0     1.0  ...           1.0  1.000000e+15          1.0\n",
              "8974     744.0   9.0     1.0  ...           1.0  1.000000e+15          1.0\n",
              "18480   4737.0  20.0     1.0  ...           1.0  1.000000e+15          1.0\n",
              "\n",
              "[34554 rows x 10 columns]"
            ]
          },
          "metadata": {},
          "execution_count": 41
        }
      ]
    },
    {
      "cell_type": "markdown",
      "metadata": {
        "id": "50LdGlbF3Uro"
      },
      "source": [
        "### **Create DT Rules**"
      ]
    },
    {
      "cell_type": "markdown",
      "metadata": {
        "id": "JO-MVYg-06mK"
      },
      "source": [
        "**DT Rules**"
      ]
    },
    {
      "cell_type": "code",
      "metadata": {
        "id": "b_M7nqGW1W22"
      },
      "source": [
        "target = list(MiceImputed['RESULT_TEXT'].unique())\n",
        "feature_names = list(X_train.columns)"
      ],
      "execution_count": null,
      "outputs": []
    },
    {
      "cell_type": "code",
      "metadata": {
        "id": "cchkAXDf2S8w",
        "colab": {
          "base_uri": "https://localhost:8080/",
          "height": 34
        },
        "outputId": "84bfa635-8a00-4b3f-b475-8f3d1b569273"
      },
      "source": [
        "target"
      ],
      "execution_count": null,
      "outputs": [
        {
          "output_type": "execute_result",
          "data": {
            "text/html": [
              "[0.0, 1.0]"
            ],
            "text/plain": [
              "[0.0, 1.0]"
            ]
          },
          "metadata": {},
          "execution_count": 43
        }
      ]
    },
    {
      "cell_type": "code",
      "metadata": {
        "colab": {
          "base_uri": "https://localhost:8080/"
        },
        "id": "SY58r6nP0-iP",
        "outputId": "796775c0-523a-4f3f-ff54-3138e4fa2601"
      },
      "source": [
        "from sklearn.tree import export_text\n",
        "r = export_text(DTC_Model, feature_names=feature_names)\n",
        "print(r)"
      ],
      "execution_count": null,
      "outputs": [
        {
          "output_type": "stream",
          "name": "stdout",
          "text": [
            "|--- TEHSIL <= 6.50\n",
            "|   |--- REPORT_VERIFIED <= 7753.50\n",
            "|   |   |--- class: 0.0\n",
            "|   |--- REPORT_VERIFIED >  7753.50\n",
            "|   |   |--- class: 0.0\n",
            "|--- TEHSIL >  6.50\n",
            "|   |--- AGE <= 24.50\n",
            "|   |   |--- class: 0.0\n",
            "|   |--- AGE >  24.50\n",
            "|   |   |--- class: 1.0\n",
            "\n"
          ]
        }
      ]
    },
    {
      "cell_type": "markdown",
      "metadata": {
        "id": "drV6g1ik31BB"
      },
      "source": [
        "### **Visualization**"
      ]
    },
    {
      "cell_type": "code",
      "metadata": {
        "id": "DkLtz_2D39rm"
      },
      "source": [
        "from sklearn import tree\n",
        "import graphviz\n",
        "dot_data = tree.export_graphviz(DTC_Model,\n",
        "                                out_file=None, \n",
        "                      feature_names=feature_names,  \n",
        "                      class_names=target,  \n",
        "                      filled=True, rounded=True)\n",
        "\n"
      ],
      "execution_count": null,
      "outputs": []
    },
    {
      "cell_type": "markdown",
      "metadata": {
        "id": "3vx30Esf5SXn"
      },
      "source": [
        "##**11.2-Random Forest**"
      ]
    },
    {
      "cell_type": "markdown",
      "metadata": {
        "id": "V4H7rQlr5f0J"
      },
      "source": [
        "### **Model training**"
      ]
    },
    {
      "cell_type": "code",
      "metadata": {
        "id": "lI88nt9O6mBu"
      },
      "source": [
        "from sklearn.ensemble import RandomForestClassifier\n"
      ],
      "execution_count": null,
      "outputs": []
    },
    {
      "cell_type": "code",
      "metadata": {
        "id": "2ppQBN5k6MSc"
      },
      "source": [
        "RF= RandomForestClassifier(n_estimators=100,max_depth=15, random_state=11,max_leaf_nodes=10)\n",
        "RF_model= RF.fit(X_train , y_train)\n",
        "RF_model"
      ],
      "execution_count": null,
      "outputs": []
    },
    {
      "cell_type": "markdown",
      "metadata": {
        "id": "oE9sadV15oAH"
      },
      "source": [
        "### **Model evaluation**"
      ]
    },
    {
      "cell_type": "markdown",
      "metadata": {
        "id": "OGCtt0wQmoEr"
      },
      "source": [
        "**Predict Class Probability**"
      ]
    },
    {
      "cell_type": "code",
      "metadata": {
        "id": "V7QUg5pHmtLk"
      },
      "source": [
        "preds_proba = RF_model.predict_proba(X_test)\n",
        "print(\"class = \", preds_proba)"
      ],
      "execution_count": null,
      "outputs": []
    },
    {
      "cell_type": "markdown",
      "metadata": {
        "id": "CexvcuI06zGx"
      },
      "source": [
        "**Accuracy**"
      ]
    },
    {
      "cell_type": "code",
      "metadata": {
        "id": "5v-Y2wME61RM"
      },
      "source": [
        "y_pred_RF = RF_model.predict(X_test)\n",
        "RF_Acc=RF_model.score(X_test, y_test)\n",
        "print('Accuracy score= {:.4f}'.format(RF_model.score(X_test, y_test)))"
      ],
      "execution_count": null,
      "outputs": []
    },
    {
      "cell_type": "markdown",
      "metadata": {
        "id": "9aJ3PsGi7hUd"
      },
      "source": [
        "**Confusion Matrix**"
      ]
    },
    {
      "cell_type": "code",
      "metadata": {
        "id": "SUuDNq0r7oQW"
      },
      "source": [
        "from mlxtend.plotting import plot_confusion_matrix \n",
        "from sklearn.metrics import classification_report, confusion_matrix"
      ],
      "execution_count": null,
      "outputs": []
    },
    {
      "cell_type": "code",
      "metadata": {
        "id": "hgAr-9iY7q7f"
      },
      "source": [
        "print('\\n')\n",
        "print(\"confusion matrix\")\n",
        "print('\\n')\n",
        "CR_RF=confusion_matrix(y_test, y_pred_RF)\n",
        "print(CR_RF)\n",
        "print('\\n')\n",
        "\n",
        "fig, ax = plot_confusion_matrix(conf_mat=CR_RF,figsize=(10, 10),\n",
        "                                show_absolute=True,\n",
        "                                show_normed=True,\n",
        "                                colorbar=True)\n",
        "plt.show()"
      ],
      "execution_count": null,
      "outputs": []
    },
    {
      "cell_type": "markdown",
      "metadata": {
        "id": "72OQegBp97ow"
      },
      "source": [
        "**Precision, Recall, F1**"
      ]
    },
    {
      "cell_type": "code",
      "metadata": {
        "id": "G5rM8eY9-GW5"
      },
      "source": [
        "print('\\n')\n",
        "print(\"Precision, Recall, F1\")\n",
        "print('\\n')\n",
        "CR_RF=classification_report(y_test, y_pred_RF)\n",
        "print(CR_RF)\n",
        "print('\\n')"
      ],
      "execution_count": null,
      "outputs": []
    },
    {
      "cell_type": "markdown",
      "metadata": {
        "id": "nF6uIOME-gpi"
      },
      "source": [
        "**ROC CURVE**"
      ]
    },
    {
      "cell_type": "code",
      "metadata": {
        "id": "yjUTOsZX-tYE"
      },
      "source": [
        "from sklearn.metrics import roc_curve, auc"
      ],
      "execution_count": null,
      "outputs": []
    },
    {
      "cell_type": "code",
      "metadata": {
        "id": "hFfTN0fT-i1K"
      },
      "source": [
        "fpr_RF, tpr_RF, thresholds = roc_curve(y_test, y_pred_RF)\n",
        "roc_auc_RF = auc(fpr_RF, tpr_RF)\n",
        "plt.figure()\n",
        "plt.plot(fpr_RF, tpr_RF, color='darkorange', lw=1, label='ROC curve (area = %0.4f)' % roc_auc_RF)\n",
        "plt.xlim([0.0, 1.0])\n",
        "plt.ylim([0.0, 1.05])\n",
        "plt.xlabel('False Positive Rate')\n",
        "plt.ylabel('True Positive Rate')\n",
        "plt.title('ROC CURVE')\n",
        "plt.legend(loc=\"lower right\")\n",
        "plt.show()"
      ],
      "execution_count": null,
      "outputs": []
    },
    {
      "cell_type": "markdown",
      "metadata": {
        "id": "ou-hm7Ed-UWt"
      },
      "source": [
        "### **Model Tunning**"
      ]
    },
    {
      "cell_type": "markdown",
      "metadata": {
        "id": "Q_M5TUIU-etI"
      },
      "source": [
        "**GridSearchCV**"
      ]
    },
    {
      "cell_type": "code",
      "metadata": {
        "id": "7OeEjWzp-g8w"
      },
      "source": [
        "from sklearn.model_selection import GridSearchCV\n",
        "from sklearn.ensemble import RandomForestClassifier"
      ],
      "execution_count": null,
      "outputs": []
    },
    {
      "cell_type": "code",
      "metadata": {
        "id": "g-IeXaNU-nCA"
      },
      "source": [
        "n_samples = 24187\n",
        "n_features = 9"
      ],
      "execution_count": null,
      "outputs": []
    },
    {
      "cell_type": "code",
      "metadata": {
        "id": "pc77NjIC-qZt"
      },
      "source": [
        "params = {'n_estimators': [20,50,100],\n",
        "          'max_depth': [None, 2, 5,],\n",
        "          'min_samples_split': [2, 0.5, n_samples//2, ],\n",
        "          'min_samples_leaf': [1, 0.5, n_samples//2, ],\n",
        "          'max_features': [None, 'sqrt', 'auto', 'log2', 0.3,0.5, n_features//2, ],\n",
        "          'bootstrap':[True, False]\n",
        "         }"
      ],
      "execution_count": null,
      "outputs": []
    },
    {
      "cell_type": "code",
      "metadata": {
        "id": "F6gOv2a3-t80"
      },
      "source": [
        "rf_classifier_grid = GridSearchCV(RandomForestClassifier(random_state=1), param_grid=params, n_jobs=-1, cv=3, verbose=1)\n",
        "rf_classifier_grid.fit(X_train,y_train)"
      ],
      "execution_count": null,
      "outputs": []
    },
    {
      "cell_type": "code",
      "metadata": {
        "id": "I0WVoHkr-yWJ"
      },
      "source": [
        "print('Train Accuracy : %.3f'%rf_classifier_grid.best_estimator_.score(X_train, y_train))\n",
        "print('Test Accurqacy : %.3f'%rf_classifier_grid.best_estimator_.score(X_test, y_test))\n",
        "print('Best Accuracy Through Grid Search : %.3f'%rf_classifier_grid.best_score_)\n",
        "print('Best Parameters : ',rf_classifier_grid.best_params_)"
      ],
      "execution_count": null,
      "outputs": []
    },
    {
      "cell_type": "markdown",
      "metadata": {
        "id": "-G8zK6YcBWPA"
      },
      "source": [
        "## **11.3-SVM Support Vector Machine**"
      ]
    },
    {
      "cell_type": "markdown",
      "metadata": {
        "id": "JE2q0qt9BlKG"
      },
      "source": [
        "### **Model Training**"
      ]
    },
    {
      "cell_type": "code",
      "metadata": {
        "id": "hHAgtq6bCT9_"
      },
      "source": [
        "from sklearn.svm import LinearSVC\n",
        "from sklearn.svm import LinearSVC, SVC\n",
        "from sklearn import svm"
      ],
      "execution_count": null,
      "outputs": []
    },
    {
      "cell_type": "code",
      "metadata": {
        "id": "m4vSiOitB_7-"
      },
      "source": [
        "\n",
        "svc=svm.LinearSVC()\n",
        "\n",
        "SVM_Model= svc.fit(X_train , y_train)\n",
        "SVM_Model"
      ],
      "execution_count": null,
      "outputs": []
    },
    {
      "cell_type": "markdown",
      "metadata": {
        "id": "FNbSv_IaBtsW"
      },
      "source": [
        "### **Model Evaluation**"
      ]
    },
    {
      "cell_type": "markdown",
      "metadata": {
        "id": "kh-gZ95NncAF"
      },
      "source": [
        "**Predict Class Probability**"
      ]
    },
    {
      "cell_type": "code",
      "metadata": {
        "id": "gAfSNW1ynh4i"
      },
      "source": [
        "preds_proba = SVM_Model._predict_proba_lr(X_test)\n",
        "print(\"class = \", preds_proba)"
      ],
      "execution_count": null,
      "outputs": []
    },
    {
      "cell_type": "markdown",
      "metadata": {
        "id": "ycbOlQf6CgOi"
      },
      "source": [
        "**Accuracy**"
      ]
    },
    {
      "cell_type": "code",
      "metadata": {
        "id": "7P7a1-UWCisr"
      },
      "source": [
        "y_pred_SVM = SVM_Model.predict(X_test)\n",
        "SVM_Acc=SVM_Model.score(X_test, y_test)\n",
        "print('Accuracy score= {:.4f}'.format(SVM_Model.score(X_test, y_test)))"
      ],
      "execution_count": null,
      "outputs": []
    },
    {
      "cell_type": "markdown",
      "metadata": {
        "id": "xX2VPdaiDSMR"
      },
      "source": [
        "**Confusion Matrix**"
      ]
    },
    {
      "cell_type": "code",
      "metadata": {
        "id": "jJzXg1ZADRQN"
      },
      "source": [
        "from mlxtend.plotting import plot_confusion_matrix \n",
        "from sklearn.metrics import classification_report, confusion_matrix"
      ],
      "execution_count": null,
      "outputs": []
    },
    {
      "cell_type": "code",
      "metadata": {
        "id": "AJsC7CYxDYQ5"
      },
      "source": [
        "print('\\n')\n",
        "print(\"confusion matrix\")\n",
        "print('\\n')\n",
        "CM_SVM=confusion_matrix(y_test, y_pred_SVM)\n",
        "print(CR_SVM)\n",
        "print('\\n')\n",
        "\n",
        "fig, ax = plot_confusion_matrix(conf_mat=CM_SVM,figsize=(10, 10),\n",
        "                                show_absolute=True,\n",
        "                                show_normed=True,\n",
        "                                colorbar=True)\n",
        "plt.show()"
      ],
      "execution_count": null,
      "outputs": []
    },
    {
      "cell_type": "markdown",
      "metadata": {
        "id": "Wpd6e0sEDp0p"
      },
      "source": [
        "**Precision, Recall, F1**"
      ]
    },
    {
      "cell_type": "code",
      "metadata": {
        "id": "t3SFR3tQDsKC"
      },
      "source": [
        "print('\\n')\n",
        "print(\"Precision, Recall, F1\")\n",
        "print('\\n')\n",
        "CR_SVM=classification_report(y_test, y_pred_SVM)\n",
        "print(CR_SVM)\n",
        "print('\\n')"
      ],
      "execution_count": null,
      "outputs": []
    },
    {
      "cell_type": "markdown",
      "metadata": {
        "id": "epK8Ejf7EPgm"
      },
      "source": [
        "**ROC CURVE**"
      ]
    },
    {
      "cell_type": "code",
      "metadata": {
        "id": "8qos-eWYEV-B"
      },
      "source": [
        "from sklearn.metrics import roc_curve, auc"
      ],
      "execution_count": null,
      "outputs": []
    },
    {
      "cell_type": "code",
      "metadata": {
        "id": "5nP6Ca4qEaR7"
      },
      "source": [
        "fpr_SVM, tpr_SVM, thresholds = roc_curve(y_test, y_pred_SVM)\n",
        "roc_auc_SVM = auc(fpr_SVM, tpr_SVM)\n",
        "plt.figure()\n",
        "plt.plot(fpr_SVM, tpr_SVM, color='darkorange', lw=1, label='ROC curve (area = %0.4f)' % roc_auc_SVM)\n",
        "plt.xlim([0.0, 1.0])\n",
        "plt.ylim([0.0, 1.05])\n",
        "plt.xlabel('False Positive Rate')\n",
        "plt.ylabel('True Positive Rate')\n",
        "plt.title('ROC CURVE')\n",
        "plt.legend(loc=\"lower right\")\n",
        "plt.show()"
      ],
      "execution_count": null,
      "outputs": []
    },
    {
      "cell_type": "markdown",
      "metadata": {
        "id": "tbQVVlQqAXxj"
      },
      "source": [
        "### **Model Tunning**"
      ]
    },
    {
      "cell_type": "markdown",
      "metadata": {
        "id": "QX2vfSJlAoo6"
      },
      "source": [
        "**GridSearchCV**"
      ]
    },
    {
      "cell_type": "code",
      "metadata": {
        "id": "EkdQTlPMBBYl"
      },
      "source": [
        "from sklearn.model_selection import GridSearchCV\n",
        "from sklearn.svm import LinearSVC\n",
        "from sklearn.svm import LinearSVC, SVC\n",
        "from sklearn import svm\n"
      ],
      "execution_count": null,
      "outputs": []
    },
    {
      "cell_type": "code",
      "metadata": {
        "id": "OcjKw6azA4_P"
      },
      "source": [
        "params = {\n",
        "            'C': [0.1, 0.5, 1.0, 10.0],\n",
        "         }"
      ],
      "execution_count": null,
      "outputs": []
    },
    {
      "cell_type": "code",
      "metadata": {
        "id": "VhojIV_iA-AI"
      },
      "source": [
        "linear_svc_classifier_grid = GridSearchCV(LinearSVC(random_state=1, max_iter=1000000), param_grid=params, n_jobs=-1, cv=5, verbose=5)\n",
        "linear_svc_classifier_grid.fit(X_train,y_train)\n"
      ],
      "execution_count": null,
      "outputs": []
    },
    {
      "cell_type": "code",
      "metadata": {
        "id": "5jIaCXWwBWy7"
      },
      "source": [
        "print('Train Accuracy : %.3f'%linear_svc_classifier_grid.best_estimator_.score(X_train, y_train))\n",
        "print('Test Accuracy : %.3f'%linear_svc_classifier_grid.best_estimator_.score(X_test, y_test))\n",
        "print('Best Accuracy Through Grid Search : %.3f'%linear_svc_classifier_grid.best_score_)\n",
        "print('Best Parameters : ',linear_svc_classifier_grid.best_params_)"
      ],
      "execution_count": null,
      "outputs": []
    },
    {
      "cell_type": "markdown",
      "metadata": {
        "id": "Bj0rrdFhPouI"
      },
      "source": [
        "## **11.4-Logistic Regression(LR)**"
      ]
    },
    {
      "cell_type": "markdown",
      "metadata": {
        "id": "iUZZImmuP8Kv"
      },
      "source": [
        "### **Model Training**"
      ]
    },
    {
      "cell_type": "code",
      "metadata": {
        "id": "qUQNAd_DQNSA"
      },
      "source": [
        "from sklearn.linear_model import LogisticRegression\n"
      ],
      "execution_count": null,
      "outputs": []
    },
    {
      "cell_type": "code",
      "metadata": {
        "id": "ukwGF7AGQEVq"
      },
      "source": [
        "LR= LogisticRegression()\n",
        "LR_Model= LR.fit(X_train , y_train)\n",
        "LR_Model"
      ],
      "execution_count": null,
      "outputs": []
    },
    {
      "cell_type": "markdown",
      "metadata": {
        "id": "59qiX7OnP1f1"
      },
      "source": [
        "### **Model Evaluation**"
      ]
    },
    {
      "cell_type": "markdown",
      "metadata": {
        "id": "mFyP4OHXmala"
      },
      "source": [
        "**Predict Class Probability**"
      ]
    },
    {
      "cell_type": "code",
      "metadata": {
        "id": "yYFIJcjYl_UX"
      },
      "source": [
        "preds_proba = LR_Model.predict_proba(X_test)\n",
        "print(\"class = \", preds_proba)"
      ],
      "execution_count": null,
      "outputs": []
    },
    {
      "cell_type": "markdown",
      "metadata": {
        "id": "ucGjBCgyQbIJ"
      },
      "source": [
        "**Accuracy**"
      ]
    },
    {
      "cell_type": "code",
      "metadata": {
        "id": "qkKbZ-OoQdC6"
      },
      "source": [
        "y_pred_LR = LR.predict(X_test)\n",
        "LR_Acc=LR_Model.score(X_test, y_test)\n",
        "print('Accuracy score= {:.4f}'.format(LR_Model.score(X_test, y_test)))"
      ],
      "execution_count": null,
      "outputs": []
    },
    {
      "cell_type": "markdown",
      "metadata": {
        "id": "m6nHp3y4Qwed"
      },
      "source": [
        "**Confusion Matrix**"
      ]
    },
    {
      "cell_type": "code",
      "metadata": {
        "id": "f6uEm_FxQy-_"
      },
      "source": [
        "from mlxtend.plotting import plot_confusion_matrix \n",
        "from sklearn.metrics import classification_report, confusion_matrix"
      ],
      "execution_count": null,
      "outputs": []
    },
    {
      "cell_type": "code",
      "metadata": {
        "id": "4loJav7WQ99z"
      },
      "source": [
        "print('\\n')\n",
        "print(\"confusion matrix\")\n",
        "print('\\n')\n",
        "CM_LR=confusion_matrix(y_test, y_pred_LR)\n",
        "print(CR)\n",
        "print('\\n')\n",
        "\n",
        "fig, ax = plot_confusion_matrix(conf_mat=CM_LR,figsize=(10, 10),\n",
        "                                show_absolute=True,\n",
        "                                show_normed=True,\n",
        "                                colorbar=True)\n",
        "plt.show()"
      ],
      "execution_count": null,
      "outputs": []
    },
    {
      "cell_type": "markdown",
      "metadata": {
        "id": "FH6wzKVaRamv"
      },
      "source": [
        "**Precision, Recall, F1**"
      ]
    },
    {
      "cell_type": "code",
      "metadata": {
        "id": "QD0PVsaVRdM4"
      },
      "source": [
        "print('\\n')\n",
        "print(\"Precision, Recall, F1\")\n",
        "print('\\n')\n",
        "CR_LR=classification_report(y_test, y_pred_LR)\n",
        "print(CR_LR)\n",
        "print('\\n')"
      ],
      "execution_count": null,
      "outputs": []
    },
    {
      "cell_type": "markdown",
      "metadata": {
        "id": "McQ3t4c1Rp5P"
      },
      "source": [
        "**ROC CURVE**"
      ]
    },
    {
      "cell_type": "code",
      "metadata": {
        "id": "l1QiEgw-Up8E"
      },
      "source": [
        "from sklearn.metrics import roc_curve, auc"
      ],
      "execution_count": null,
      "outputs": []
    },
    {
      "cell_type": "code",
      "metadata": {
        "id": "x3kaX5aDUPfB"
      },
      "source": [
        "fpr_LR, tpr_LR, thresholds = roc_curve(y_test, y_pred_LR)\n",
        "roc_auc_LR = auc(fpr_LR, tpr_LR)\n",
        "plt.figure()\n",
        "plt.plot(fpr_LR, tpr_LR, color='darkorange', lw=1, label='ROC curve (area = %0.4f)' % roc_auc_LR)\n",
        "plt.xlim([0.0, 1.0])\n",
        "plt.ylim([0.0, 1.05])\n",
        "plt.xlabel('False Positive Rate')\n",
        "plt.ylabel('True Positive Rate')\n",
        "plt.title('ROC CURVE')\n",
        "plt.legend(loc=\"lower right\")\n",
        "plt.show()"
      ],
      "execution_count": null,
      "outputs": []
    },
    {
      "cell_type": "markdown",
      "metadata": {
        "id": "IHXlJENZBfRD"
      },
      "source": [
        "### **Model Tunning**"
      ]
    },
    {
      "cell_type": "markdown",
      "metadata": {
        "id": "ZsYUjAFTU3fR"
      },
      "source": [
        "## **11.5 KNN Algorithm**"
      ]
    },
    {
      "cell_type": "markdown",
      "metadata": {
        "id": "Shy7dxRGU_qD"
      },
      "source": [
        "### **Model Training**"
      ]
    },
    {
      "cell_type": "code",
      "metadata": {
        "id": "mDy-ppwLXkOO"
      },
      "source": [
        "from sklearn.neighbors import KNeighborsClassifier\n",
        "KNN=KNeighborsClassifier()\n",
        "KNN_Model= KNN.fit(X_train , y_train)\n",
        "KNN_Model"
      ],
      "execution_count": null,
      "outputs": []
    },
    {
      "cell_type": "markdown",
      "metadata": {
        "id": "nbTFmvoQVJVJ"
      },
      "source": [
        "### **Model Evaluation**"
      ]
    },
    {
      "cell_type": "markdown",
      "metadata": {
        "id": "sRRES0XMpiJh"
      },
      "source": [
        "**Predict Class Probability**"
      ]
    },
    {
      "cell_type": "code",
      "metadata": {
        "id": "rUdGWiK-pgf-"
      },
      "source": [
        "preds_proba = KNN_Model.predict_proba(X_test)\n",
        "print(\"class = \", preds_proba)"
      ],
      "execution_count": null,
      "outputs": []
    },
    {
      "cell_type": "markdown",
      "metadata": {
        "id": "qNYl8mp8Xu4l"
      },
      "source": [
        "**Accuracy**"
      ]
    },
    {
      "cell_type": "code",
      "metadata": {
        "id": "zKcYBYaFXzVt"
      },
      "source": [
        "y_pred_KNN = KNN.predict(X_test)\n",
        "KNN_Acc=KNN_Model.score(X_test, y_test)\n",
        "print('Accuracy score= {:.4f}'.format(KNN_Model.score(X_test, y_test)))"
      ],
      "execution_count": null,
      "outputs": []
    },
    {
      "cell_type": "markdown",
      "metadata": {
        "id": "Omazc3k2YI11"
      },
      "source": [
        "**Confusion Matrix**"
      ]
    },
    {
      "cell_type": "code",
      "metadata": {
        "id": "RpRtEX32YpS6"
      },
      "source": [
        "from mlxtend.plotting import plot_confusion_matrix \n",
        "from sklearn.metrics import classification_report, confusion_matrix"
      ],
      "execution_count": null,
      "outputs": []
    },
    {
      "cell_type": "code",
      "metadata": {
        "id": "OGmWPxq_YM14"
      },
      "source": [
        "print('\\n')\n",
        "print(\"confusion matrix\")\n",
        "print('\\n')\n",
        "CM_KNN=confusion_matrix(y_test, y_pred_KNN)\n",
        "print(CM_KNN)\n",
        "print('\\n')\n",
        "\n",
        "fig, ax = plot_confusion_matrix(conf_mat=CM_KNN,figsize=(10, 10),\n",
        "                                show_absolute=True,\n",
        "                                show_normed=True,\n",
        "                                colorbar=True)\n",
        "plt.show()"
      ],
      "execution_count": null,
      "outputs": []
    },
    {
      "cell_type": "markdown",
      "metadata": {
        "id": "Kp999eVUYtss"
      },
      "source": [
        "**Precision, Recall, F1**"
      ]
    },
    {
      "cell_type": "code",
      "metadata": {
        "id": "4h7ZZHY7Yy5_"
      },
      "source": [
        "print('\\n')\n",
        "print(\"Precision, Recall, F1\")\n",
        "print('\\n')\n",
        "CM_KNN=classification_report(y_test, y_pred_KNN)\n",
        "print(CM_KNN)\n",
        "print('\\n')"
      ],
      "execution_count": null,
      "outputs": []
    },
    {
      "cell_type": "markdown",
      "metadata": {
        "id": "p0f5Mr_zZFtL"
      },
      "source": [
        "**ROC CURVE**"
      ]
    },
    {
      "cell_type": "code",
      "metadata": {
        "id": "-3YeRiVXZLGR"
      },
      "source": [
        "from sklearn.metrics import roc_curve, auc"
      ],
      "execution_count": null,
      "outputs": []
    },
    {
      "cell_type": "code",
      "metadata": {
        "id": "uLlsoi21ZRiE"
      },
      "source": [
        "fpr_KNN, tpr_KNN, thresholds = roc_curve(y_test, y_pred_KNN)\n",
        "roc_auc_KNN = auc(fpr_KNN, tpr_KNN)\n",
        "plt.figure()\n",
        "plt.plot(fpr_KNN, tpr_KNN, color='darkorange', lw=1, label='ROC curve (area = %0.4f)' % roc_auc_KNN)\n",
        "plt.xlim([0.0, 1.0])\n",
        "plt.ylim([0.0, 1.05])\n",
        "plt.xlabel('False Positive Rate')\n",
        "plt.ylabel('True Positive Rate')\n",
        "plt.title('ROC CURVE')\n",
        "plt.legend(loc=\"lower right\")\n",
        "plt.show()"
      ],
      "execution_count": null,
      "outputs": []
    },
    {
      "cell_type": "markdown",
      "metadata": {
        "id": "8XNBx3s2tWbM"
      },
      "source": [
        "### **Model tunning**"
      ]
    },
    {
      "cell_type": "markdown",
      "metadata": {
        "id": "8xmvmnC-tgUq"
      },
      "source": [
        "**GridSearchCV**"
      ]
    },
    {
      "cell_type": "code",
      "metadata": {
        "id": "Rbn29LYKtcWv"
      },
      "source": [
        "from sklearn.model_selection import GridSearchCV\n",
        "from sklearn.neighbors import KNeighborsClassifier\n",
        "knn = KNeighborsClassifier()"
      ],
      "execution_count": null,
      "outputs": []
    },
    {
      "cell_type": "code",
      "metadata": {
        "id": "Mhv6hi05uOG8"
      },
      "source": [
        "k_range = list(range(1, 31))\n",
        "param_grid = dict(n_neighbors=k_range)"
      ],
      "execution_count": null,
      "outputs": []
    },
    {
      "cell_type": "code",
      "metadata": {
        "id": "T_iFoRO2uXzU"
      },
      "source": [
        "# defining parameter range\n",
        "grid = GridSearchCV(knn, param_grid, cv=10, scoring='accuracy', return_train_score=False,verbose=1)"
      ],
      "execution_count": null,
      "outputs": []
    },
    {
      "cell_type": "code",
      "metadata": {
        "id": "uhNHrUBBub4Q"
      },
      "source": [
        "# fitting the model for grid search\n",
        "grid_search=grid.fit(X_train, y_train)"
      ],
      "execution_count": null,
      "outputs": []
    },
    {
      "cell_type": "code",
      "metadata": {
        "id": "QMq1dNaxukTX"
      },
      "source": [
        "print('Train Accuracy : %.3f'%grid_search.score(X_train, y_train))\n",
        "print('Test Accurqacy : %.3f'%grid_search.score(X_test, y_test))\n",
        "print('Best Accuracy Through Grid Search : %.3f'%grid_search.best_score_)\n",
        "print('Best Parameters : ',grid_search.best_params_)"
      ],
      "execution_count": null,
      "outputs": []
    },
    {
      "cell_type": "markdown",
      "metadata": {
        "id": "lIgIc16pV_Nk"
      },
      "source": [
        "## **11.6-Naive Bayes (NB)**"
      ]
    },
    {
      "cell_type": "markdown",
      "metadata": {
        "id": "VwN4sB34WFuH"
      },
      "source": [
        "### **Modle Training**"
      ]
    },
    {
      "cell_type": "code",
      "metadata": {
        "id": "bhFF8en_Wjz9"
      },
      "source": [
        "from sklearn.naive_bayes import GaussianNB\n",
        "from sklearn.naive_bayes import MultinomialNB"
      ],
      "execution_count": null,
      "outputs": []
    },
    {
      "cell_type": "code",
      "metadata": {
        "id": "X-bCXvQlWa4j"
      },
      "source": [
        "\n",
        "NB = GaussianNB()\n",
        "NB_Model= NB.fit(X_train , y_train)\n",
        "NB_Model"
      ],
      "execution_count": null,
      "outputs": []
    },
    {
      "cell_type": "markdown",
      "metadata": {
        "id": "V8wS_GOoWL73"
      },
      "source": [
        "### **Model Evaluation**"
      ]
    },
    {
      "cell_type": "markdown",
      "metadata": {
        "id": "QvRhYZ7cp_e5"
      },
      "source": [
        "**Predict Class Probability**"
      ]
    },
    {
      "cell_type": "code",
      "metadata": {
        "id": "mJ-A_AdiqEaw"
      },
      "source": [
        "preds_proba = NB_Model.predict_proba(X_test)\n",
        "print(\"class = \", preds_proba)"
      ],
      "execution_count": null,
      "outputs": []
    },
    {
      "cell_type": "markdown",
      "metadata": {
        "id": "ZzYxuldXW3Zu"
      },
      "source": [
        "**Accuracy**"
      ]
    },
    {
      "cell_type": "code",
      "metadata": {
        "id": "Zp4krWR0XCZq"
      },
      "source": [
        "y_pred_NB = NB_Model.predict(X_test)\n",
        "NB_Acc=NB_Model.score(X_test, y_test)\n",
        "print('Accuracy score= {:.4f}'.format(NB_Model.score(X_test, y_test)))"
      ],
      "execution_count": null,
      "outputs": []
    },
    {
      "cell_type": "markdown",
      "metadata": {
        "id": "weJpHY7gXWz9"
      },
      "source": [
        "**Confusion Matrix**"
      ]
    },
    {
      "cell_type": "code",
      "metadata": {
        "id": "1AbVDHNrXZPw"
      },
      "source": [
        "from mlxtend.plotting import plot_confusion_matrix \n",
        "from sklearn.metrics import classification_report, confusion_matrix"
      ],
      "execution_count": null,
      "outputs": []
    },
    {
      "cell_type": "code",
      "metadata": {
        "id": "40CZvshYXnFb"
      },
      "source": [
        "print('\\n')\n",
        "print(\"confusion matrix\")\n",
        "print('\\n')\n",
        "CM_NB=confusion_matrix(y_test, y_pred_NB)\n",
        "print(CM_NB)\n",
        "print('\\n')\n",
        "\n",
        "fig, ax = plot_confusion_matrix(conf_mat=CM_NB,figsize=(10, 10),\n",
        "                                show_absolute=True,\n",
        "                                show_normed=True,\n",
        "                                colorbar=True)\n",
        "plt.show()"
      ],
      "execution_count": null,
      "outputs": []
    },
    {
      "cell_type": "markdown",
      "metadata": {
        "id": "GTLMV14AX5KG"
      },
      "source": [
        "**Precision, Recall, F1**"
      ]
    },
    {
      "cell_type": "code",
      "metadata": {
        "id": "oGkKiWGIX7tm"
      },
      "source": [
        "print('\\n')\n",
        "print(\"Precision, Recall, F1\")\n",
        "print('\\n')\n",
        "CM_NB=classification_report(y_test, y_pred_NB)\n",
        "print(CM_NB)\n",
        "print('\\n')"
      ],
      "execution_count": null,
      "outputs": []
    },
    {
      "cell_type": "markdown",
      "metadata": {
        "id": "alxnyNQZYYW7"
      },
      "source": [
        "**ROC CURVE**"
      ]
    },
    {
      "cell_type": "code",
      "metadata": {
        "id": "zZmVc0LmYmMH"
      },
      "source": [
        "from sklearn.metrics import roc_curve, auc\n"
      ],
      "execution_count": null,
      "outputs": []
    },
    {
      "cell_type": "code",
      "metadata": {
        "id": "ntSxlaSuYpXv"
      },
      "source": [
        "fpr_NB, tpr_NB, thresholds = roc_curve(y_test, y_pred_NB)\n",
        "roc_auc_NB = auc(fpr_NB, tpr_NB)\n",
        "plt.figure()\n",
        "plt.plot(fpr_NB, tpr_NB, color='darkorange', lw=1, label='ROC curve (area = %0.4f)' % roc_auc_NB)\n",
        "plt.xlim([0.0, 1.0])\n",
        "plt.ylim([0.0, 1.05])\n",
        "plt.xlabel('False Positive Rate')\n",
        "plt.ylabel('True Positive Rate')\n",
        "plt.title('ROC CURVE')\n",
        "plt.legend(loc=\"lower right\")\n",
        "plt.show()"
      ],
      "execution_count": null,
      "outputs": []
    },
    {
      "cell_type": "markdown",
      "metadata": {
        "id": "EWd0LbKIn6GI"
      },
      "source": [
        "### **Model tunning**"
      ]
    },
    {
      "cell_type": "markdown",
      "metadata": {
        "id": "wSuyojjXn_KP"
      },
      "source": [
        "**GridSearchCV**"
      ]
    },
    {
      "cell_type": "code",
      "metadata": {
        "id": "TK299hLVpn2h"
      },
      "source": [
        "params = {'alpha': [0.01, 0.1, 0.5, 1.0, 10.0, ],\n",
        "         }"
      ],
      "execution_count": null,
      "outputs": []
    },
    {
      "cell_type": "code",
      "metadata": {
        "id": "PM26MuWbrDj3"
      },
      "source": [
        "from sklearn.naive_bayes import ComplementNB\n",
        "\n",
        "complement_nb = ComplementNB()"
      ],
      "execution_count": null,
      "outputs": []
    },
    {
      "cell_type": "code",
      "metadata": {
        "id": "fl45BzaYqt9L"
      },
      "source": [
        "complement_nb_grid = GridSearchCV(ComplementNB(), param_grid=params, n_jobs=-1, cv=5, verbose=5)\n",
        "complement_nb_grid.fit(X_train,y_train)"
      ],
      "execution_count": null,
      "outputs": []
    },
    {
      "cell_type": "code",
      "metadata": {
        "id": "MQt5_8zYrnDJ"
      },
      "source": [
        "print('Train Accuracy : %.3f'%complement_nb_grid.best_estimator_.score(X_train, y_train))\n",
        "print('Test Accuracy : %.3f'%complement_nb_grid.best_estimator_.score(X_test, y_test))\n",
        "print('Best Accuracy Through Grid Search : %.3f'%complement_nb_grid.best_score_)\n",
        "print('Best Parameters : ',complement_nb_grid.best_params_)"
      ],
      "execution_count": null,
      "outputs": []
    },
    {
      "cell_type": "markdown",
      "metadata": {
        "id": "OgDf1zBLZvhT"
      },
      "source": [
        "## **11.7- Deep Neural Multilayer Perceptron (MLP)**"
      ]
    },
    {
      "cell_type": "markdown",
      "metadata": {
        "id": "V_9jqOBLZ7-G"
      },
      "source": [
        "### **Model Training**"
      ]
    },
    {
      "cell_type": "code",
      "metadata": {
        "id": "sDop5miFaPQ-"
      },
      "source": [
        "from sklearn.neural_network import MLPClassifier\n",
        "NN=MLPClassifier()\n",
        "NN_Model= NN.fit(X_train , y_train)\n",
        "NN_Model"
      ],
      "execution_count": null,
      "outputs": []
    },
    {
      "cell_type": "markdown",
      "metadata": {
        "id": "qP9-J8a6aCtg"
      },
      "source": [
        "### **Model Evulation**"
      ]
    },
    {
      "cell_type": "markdown",
      "metadata": {
        "id": "NWqEOhEPqVEu"
      },
      "source": [
        "**Predict Class Probability**"
      ]
    },
    {
      "cell_type": "code",
      "metadata": {
        "id": "DwD4sJguqkAl"
      },
      "source": [
        "preds_proba = NN_Model.predict_proba(X_test)\n",
        "print(\"class = \", preds_proba)"
      ],
      "execution_count": null,
      "outputs": []
    },
    {
      "cell_type": "markdown",
      "metadata": {
        "id": "faJ6mLn7atH9"
      },
      "source": [
        "**Accuracy**"
      ]
    },
    {
      "cell_type": "code",
      "metadata": {
        "id": "M4l_ttolazFX"
      },
      "source": [
        "y_pred_NN = NN.predict(X_test)\n",
        "NN_Acc=NN_Model.score(X_test, y_test)\n",
        "print('Accuracy score= {:.4f}'.format(NN_Model.score(X_test, y_test)))"
      ],
      "execution_count": null,
      "outputs": []
    },
    {
      "cell_type": "markdown",
      "metadata": {
        "id": "wReW3EkMbAXc"
      },
      "source": [
        "**Confusion Matrix**"
      ]
    },
    {
      "cell_type": "code",
      "metadata": {
        "id": "3a7XRiF5bDJd"
      },
      "source": [
        "from mlxtend.plotting import plot_confusion_matrix \n",
        "from sklearn.metrics import classification_report, confusion_matrix"
      ],
      "execution_count": null,
      "outputs": []
    },
    {
      "cell_type": "code",
      "metadata": {
        "id": "rYR-syJcbJlG"
      },
      "source": [
        "print('\\n')\n",
        "print(\"confusion matrix\")\n",
        "print('\\n')\n",
        "CM_NN=confusion_matrix(y_test, y_pred_NN)\n",
        "print(CM_NN)\n",
        "print('\\n')\n",
        "\n",
        "fig, ax = plot_confusion_matrix(conf_mat=CM_NN,figsize=(10, 10),\n",
        "                                show_absolute=True,\n",
        "                                show_normed=True,\n",
        "                                colorbar=True)\n",
        "plt.show()"
      ],
      "execution_count": null,
      "outputs": []
    },
    {
      "cell_type": "markdown",
      "metadata": {
        "id": "5TyXGiiFbUKv"
      },
      "source": [
        "**Precision, Recall, F1**"
      ]
    },
    {
      "cell_type": "code",
      "metadata": {
        "id": "DhVYGCnVbXAD"
      },
      "source": [
        "print('\\n')\n",
        "print(\"Precision, Recall, F1\")\n",
        "print('\\n')\n",
        "CM_NN=classification_report(y_test, y_pred_NN)\n",
        "print(CM_NN)\n",
        "print('\\n')"
      ],
      "execution_count": null,
      "outputs": []
    },
    {
      "cell_type": "markdown",
      "metadata": {
        "id": "HSSC24ilbf2_"
      },
      "source": [
        "**ROC CURVE**"
      ]
    },
    {
      "cell_type": "code",
      "metadata": {
        "id": "Ok428htfboHM"
      },
      "source": [
        "from sklearn.metrics import roc_curve, auc"
      ],
      "execution_count": null,
      "outputs": []
    },
    {
      "cell_type": "code",
      "metadata": {
        "id": "2ArYIEeebtmK"
      },
      "source": [
        "fpr_NN, tpr_NN, thresholds = roc_curve(y_test, y_pred_NN)\n",
        "roc_auc_NN = auc(fpr_NN, tpr_NN)\n",
        "plt.figure()\n",
        "plt.plot(fpr_NN, tpr_NN, color='darkorange', lw=1, label='ROC curve (area = %0.4f)' % roc_auc_NN)\n",
        "plt.xlim([0.0, 1.0])\n",
        "plt.ylim([0.0, 1.05])\n",
        "plt.xlabel('False Positive Rate')\n",
        "plt.ylabel('True Positive Rate')\n",
        "plt.title('ROC CURVE')\n",
        "plt.legend(loc=\"lower right\")\n",
        "plt.show()"
      ],
      "execution_count": null,
      "outputs": []
    },
    {
      "cell_type": "markdown",
      "metadata": {
        "id": "dapbG6n7C2n7"
      },
      "source": [
        "### **Model Tunning**"
      ]
    },
    {
      "cell_type": "markdown",
      "metadata": {
        "id": "iT3QIcg_C-52"
      },
      "source": [
        "**GridSearchCV**"
      ]
    },
    {
      "cell_type": "code",
      "metadata": {
        "id": "LOcABTXTDP5n"
      },
      "source": [
        "from sklearn.model_selection import GridSearchCV"
      ],
      "execution_count": null,
      "outputs": []
    },
    {
      "cell_type": "code",
      "metadata": {
        "id": "JYtIVsY2DRov"
      },
      "source": [
        "params = {'activation': ['relu', 'tanh', 'logistic', 'identity'],\n",
        "          'hidden_layer_sizes': [(100,), (50,100,), (50,75,100,)],\n",
        "          'solver': ['adam', 'sgd', 'lbfgs'],\n",
        "          'learning_rate' : ['constant', 'adaptive', 'invscaling']}"
      ],
      "execution_count": null,
      "outputs": []
    },
    {
      "cell_type": "code",
      "metadata": {
        "id": "oMbhJHkGDYL5"
      },
      "source": [
        "mlp_classif_grid = GridSearchCV(MLPClassifier(random_state=123), param_grid=params, n_jobs=-1, cv=5, verbose=5)\n",
        "mlp_classif_grid.fit(X_train,y_train)"
      ],
      "execution_count": null,
      "outputs": []
    },
    {
      "cell_type": "code",
      "metadata": {
        "id": "9YNgVzjZDa8X"
      },
      "source": [
        "print('Train Accuracy : %.3f'%mlp_classif_grid.best_estimator_.score(X_train, y_train))\n",
        "print('Test Accuracy : %.3f'%mlp_classif_grid.best_estimator_.score(X_test, y_test))\n",
        "print('Best Accuracy Through Grid Search : %.3f'%mlp_classif_grid.best_score_)\n",
        "print('Best Parameters : ',mlp_classif_grid.best_params_)"
      ],
      "execution_count": null,
      "outputs": []
    },
    {
      "cell_type": "markdown",
      "metadata": {
        "id": "Mi0fJBJIdG-A"
      },
      "source": [
        "## **11.8- XGBoost or Gradient Boosting (GB)**"
      ]
    },
    {
      "cell_type": "markdown",
      "metadata": {
        "id": "GB1Jh9VldVSN"
      },
      "source": [
        "### **Model Training**"
      ]
    },
    {
      "cell_type": "code",
      "metadata": {
        "id": "wSV9Tmi6eHAh"
      },
      "source": [
        "from xgboost import XGBClassifier\n",
        "GB=XGBClassifier()\n",
        "GB_Model= GB.fit(X_train , y_train)\n",
        "GB_Model"
      ],
      "execution_count": null,
      "outputs": []
    },
    {
      "cell_type": "markdown",
      "metadata": {
        "id": "vAuTy7qodb-h"
      },
      "source": [
        "### **Model Evaluation**"
      ]
    },
    {
      "cell_type": "markdown",
      "metadata": {
        "id": "0JR_ncnBqzOI"
      },
      "source": [
        "**Predict Class Probability**"
      ]
    },
    {
      "cell_type": "code",
      "metadata": {
        "id": "CCaU4GQZq3qd"
      },
      "source": [
        "preds_proba = GB_Model.predict_proba(X_test)\n",
        "print(\"class = \", preds_proba)"
      ],
      "execution_count": null,
      "outputs": []
    },
    {
      "cell_type": "markdown",
      "metadata": {
        "id": "Uiydmk6kew6S"
      },
      "source": [
        "**Accuracy**"
      ]
    },
    {
      "cell_type": "code",
      "metadata": {
        "id": "VSVg4uZRezCV"
      },
      "source": [
        "y_pred_GB = GB.predict(X_test)\n",
        "GB_Acc=GB_Model.score(X_test, y_test)\n",
        "print('Accuracy score= {:.4f}'.format(GB_Model.score(X_test, y_test)))"
      ],
      "execution_count": null,
      "outputs": []
    },
    {
      "cell_type": "markdown",
      "metadata": {
        "id": "iRlwY1ODfDdN"
      },
      "source": [
        "**Confusion Matrix**"
      ]
    },
    {
      "cell_type": "code",
      "metadata": {
        "id": "M7nWuSz1fFwW"
      },
      "source": [
        "from mlxtend.plotting import plot_confusion_matrix \n",
        "from sklearn.metrics import classification_report, confusion_matrix"
      ],
      "execution_count": null,
      "outputs": []
    },
    {
      "cell_type": "code",
      "metadata": {
        "id": "KLmKly05fVpu"
      },
      "source": [
        "print('\\n')\n",
        "print(\"confusion matrix\")\n",
        "print('\\n')\n",
        "CM_GB=confusion_matrix(y_test, y_pred_GB)\n",
        "print(CM_GB)\n",
        "print('\\n')\n",
        "\n",
        "fig, ax = plot_confusion_matrix(conf_mat=CM_GB,figsize=(10, 10),\n",
        "                                show_absolute=True,\n",
        "                                show_normed=True,\n",
        "                                colorbar=True)\n",
        "plt.show()"
      ],
      "execution_count": null,
      "outputs": []
    },
    {
      "cell_type": "markdown",
      "metadata": {
        "id": "UTuT_xQPhAUJ"
      },
      "source": [
        "**Precision, Recall, F1**\n",
        "\n"
      ]
    },
    {
      "cell_type": "code",
      "metadata": {
        "id": "jVetuqIahFO1"
      },
      "source": [
        "print('\\n')\n",
        "print(\"Precision, Recall, F1\")\n",
        "print('\\n')\n",
        "CR_GB=classification_report(y_test, y_pred_GB)\n",
        "print(CR_GB)\n",
        "print('\\n')"
      ],
      "execution_count": null,
      "outputs": []
    },
    {
      "cell_type": "markdown",
      "metadata": {
        "id": "6RF5FVCfhcKn"
      },
      "source": [
        "**ROC CURVE**"
      ]
    },
    {
      "cell_type": "code",
      "metadata": {
        "id": "7ruoDZ6dhe4U"
      },
      "source": [
        "from sklearn.metrics import roc_curve, auc"
      ],
      "execution_count": null,
      "outputs": []
    },
    {
      "cell_type": "code",
      "metadata": {
        "id": "L7i0Q_ZMhkmR"
      },
      "source": [
        "fpr_GB, tpr_GB, thresholds = roc_curve(y_test, y_pred_GB)\n",
        "roc_auc_GB = auc(fpr_GB, tpr_GB)\n",
        "plt.figure()\n",
        "plt.plot(fpr_GB, tpr_GB, color='darkorange', lw=1, label='ROC curve (area = %0.4f)' % roc_auc_GB)\n",
        "plt.xlim([0.0, 1.0])\n",
        "plt.ylim([0.0, 1.05])\n",
        "plt.xlabel('False Positive Rate')\n",
        "plt.ylabel('True Positive Rate')\n",
        "plt.title('ROC CURVE')\n",
        "plt.legend(loc=\"lower right\")\n",
        "plt.show()"
      ],
      "execution_count": null,
      "outputs": []
    },
    {
      "cell_type": "markdown",
      "metadata": {
        "id": "fnDcCULmncic"
      },
      "source": [
        "### **Model tunning**"
      ]
    },
    {
      "cell_type": "markdown",
      "metadata": {
        "id": "mcEBNfkbnhIh"
      },
      "source": [
        "**GridSearchCV**"
      ]
    },
    {
      "cell_type": "code",
      "metadata": {
        "id": "l1FhfWyWmjzk"
      },
      "source": [
        "from xgboost import XGBClassifier\n",
        "from sklearn.model_selection import GridSearchCV"
      ],
      "execution_count": null,
      "outputs": []
    },
    {
      "cell_type": "code",
      "metadata": {
        "id": "JY1FX4q6mpgd"
      },
      "source": [
        "estimator = XGBClassifier(\n",
        "    objective= 'binary:logistic',\n",
        "    nthread=4,\n",
        "    seed=42\n",
        ")"
      ],
      "execution_count": null,
      "outputs": []
    },
    {
      "cell_type": "code",
      "metadata": {
        "id": "pcYne6wxmuLb"
      },
      "source": [
        "parameters = {\n",
        "    'max_depth': range (2, 10, 1),\n",
        "    'n_estimators': range(60, 220, 40),\n",
        "    'learning_rate': [0.1, 0.01, 0.05]\n",
        "}"
      ],
      "execution_count": null,
      "outputs": []
    },
    {
      "cell_type": "code",
      "metadata": {
        "id": "gceiP9Cwm3it"
      },
      "source": [
        "grid_search = GridSearchCV(\n",
        "    estimator=estimator,\n",
        "    param_grid=parameters,\n",
        "    scoring = 'roc_auc',\n",
        "    n_jobs = 10,\n",
        "    cv = 10,\n",
        "    verbose=True\n",
        ")"
      ],
      "execution_count": null,
      "outputs": []
    },
    {
      "cell_type": "code",
      "metadata": {
        "id": "BEiuk_Tnm7RM"
      },
      "source": [
        "grid_search.fit(X_train,y_train)\n"
      ],
      "execution_count": null,
      "outputs": []
    },
    {
      "cell_type": "code",
      "metadata": {
        "id": "-CN_rrAynGKe"
      },
      "source": [
        "print('Train Accuracy : %.3f'%grid_search.best_estimator_.score(X_train, y_train))\n",
        "print('Test Accurqacy : %.3f'%grid_search.best_estimator_.score(X_test, y_test))\n",
        "print('Best Accuracy Through Grid Search : %.3f'%grid_search.best_score_)\n",
        "print('Best Parameters : ',grid_search.best_params_)"
      ],
      "execution_count": null,
      "outputs": []
    },
    {
      "cell_type": "markdown",
      "metadata": {
        "id": "xEXwi2bnIpXZ"
      },
      "source": [
        "## 11.9 **ExtraTreeClassifier(ET)**"
      ]
    },
    {
      "cell_type": "markdown",
      "metadata": {
        "id": "NSiCATaqMplP"
      },
      "source": [
        "### **Model Training**"
      ]
    },
    {
      "cell_type": "code",
      "metadata": {
        "id": "DsnTByPKI4nf"
      },
      "source": [
        "from sklearn.tree import ExtraTreeClassifier\n",
        "ET=ExtraTreeClassifier(random_state=0, max_depth=2)\n",
        "ET_model= ET.fit(X_train , y_train)\n",
        "ET_model"
      ],
      "execution_count": null,
      "outputs": []
    },
    {
      "cell_type": "markdown",
      "metadata": {
        "id": "W_WAlwDoI9O5"
      },
      "source": [
        "### **Model evaluation**"
      ]
    },
    {
      "cell_type": "markdown",
      "metadata": {
        "id": "8_dSAbrIrJWX"
      },
      "source": [
        "**Predict Class Probability**"
      ]
    },
    {
      "cell_type": "code",
      "metadata": {
        "id": "E5gND_o7rIje"
      },
      "source": [
        "preds_proba = ET_model.predict_proba(X_test)\n",
        "print(\"class = \", preds_proba)"
      ],
      "execution_count": null,
      "outputs": []
    },
    {
      "cell_type": "markdown",
      "metadata": {
        "id": "PedgqJguJqw1"
      },
      "source": [
        "**Accuracy**"
      ]
    },
    {
      "cell_type": "code",
      "metadata": {
        "id": "iBtlkcC8JsyL"
      },
      "source": [
        "y_pred_ET = ET_model.predict(X_test)\n",
        "ET_Acc=ET_model.score(X_test, y_test)\n",
        "print('Accuracy score= {:.4f}'.format(ET_model.score(X_test, y_test)))"
      ],
      "execution_count": null,
      "outputs": []
    },
    {
      "cell_type": "markdown",
      "metadata": {
        "id": "mumIMzJDJ9cd"
      },
      "source": [
        "**Confusion Matrix**\n",
        "\n"
      ]
    },
    {
      "cell_type": "code",
      "metadata": {
        "id": "y-pqAiwhKAR4"
      },
      "source": [
        "from mlxtend.plotting import plot_confusion_matrix \n",
        "from sklearn.metrics import classification_report, confusion_matrix\n",
        "print('\\n')\n",
        "print(\"confusion matrix\")\n",
        "print('\\n')\n",
        "CM_ET=confusion_matrix(y_test, y_pred_ET)\n",
        "print(CM_ET)\n",
        "print('\\n')\n",
        "\n",
        "fig, ax = plot_confusion_matrix(conf_mat=CM_ET,figsize=(10, 10),\n",
        "                                show_absolute=True,\n",
        "                                show_normed=True,\n",
        "                                colorbar=True)"
      ],
      "execution_count": null,
      "outputs": []
    },
    {
      "cell_type": "markdown",
      "metadata": {
        "id": "jrh1UAKUKuXV"
      },
      "source": [
        "**Precision, Recall, F1**"
      ]
    },
    {
      "cell_type": "code",
      "metadata": {
        "id": "-G6DfInmKxCg"
      },
      "source": [
        "print('\\n')\n",
        "print(\"Precision, Recall, F1\")\n",
        "print('\\n')\n",
        "CR_ET=classification_report(y_test, y_pred_ET)\n",
        "print(CR_ET)\n",
        "print('\\n')"
      ],
      "execution_count": null,
      "outputs": []
    },
    {
      "cell_type": "markdown",
      "metadata": {
        "id": "zcVFjcKUK8L5"
      },
      "source": [
        "**ROC CURVE**\n",
        "\n"
      ]
    },
    {
      "cell_type": "code",
      "metadata": {
        "id": "nf3O8xKFK_F2"
      },
      "source": [
        "from sklearn.metrics import roc_curve, auc\n",
        "fpr_ET, tpr_ET, thresholds = roc_curve(y_test, y_pred_ET)\n",
        "roc_auc_ET = auc(fpr_ET, tpr_ET)\n",
        "plt.figure()\n",
        "plt.plot(fpr_ET, tpr_ET, color='darkorange', lw=1, label='ROC curve (area = %0.4f)' % roc_auc_ET)\n",
        "plt.xlim([0.0, 1.0])\n",
        "plt.ylim([0.0, 1.05])\n",
        "plt.xlabel('False Positive Rate')\n",
        "plt.ylabel('True Positive Rate')\n",
        "plt.title('ROC CURVE')\n",
        "plt.legend(loc=\"lower right\")\n",
        "plt.show()"
      ],
      "execution_count": null,
      "outputs": []
    },
    {
      "cell_type": "markdown",
      "metadata": {
        "id": "KeOxLT9qJCs3"
      },
      "source": [
        "### **Model tunning**"
      ]
    },
    {
      "cell_type": "markdown",
      "metadata": {
        "id": "FvXPXwy8Lvy4"
      },
      "source": [
        "**Grid Search**"
      ]
    },
    {
      "cell_type": "code",
      "metadata": {
        "id": "_ZoX7j-FVOb1"
      },
      "source": [
        "import lightgbm as lgb\n",
        "from sklearn.model_selection import GridSearchCV\n",
        "from sklearn.model_selection import KFold"
      ],
      "execution_count": null,
      "outputs": []
    },
    {
      "cell_type": "code",
      "metadata": {
        "id": "0sRjZb_NLyaq"
      },
      "source": [
        "n_samples = 24187\n",
        "n_features = 9"
      ],
      "execution_count": null,
      "outputs": []
    },
    {
      "cell_type": "code",
      "metadata": {
        "id": "Z_oD7dKgMHEg"
      },
      "source": [
        "from sklearn.model_selection import GridSearchCV\n",
        "from sklearn.tree import ExtraTreeClassifier"
      ],
      "execution_count": null,
      "outputs": []
    },
    {
      "cell_type": "code",
      "metadata": {
        "id": "Wxc6hPIYMOM-"
      },
      "source": [
        "grid = GridSearchCV(ExtraTreeClassifier(random_state=1), cv=3, n_jobs=-1, verbose=5,\n",
        "                    param_grid ={\n",
        "                    'criterion': ['gini', 'entropy'],\n",
        "                    'max_depth': [None,1,2,3,4,5,6,7],\n",
        "                    'max_features': [None, 'sqrt', 'auto', 'log2', 0.3,0.5,0.7, n_features//2, n_features//3, ],\n",
        "                    'min_samples_split': [2,0.3,0.5, n_samples//2, n_samples//3, n_samples//5],\n",
        "                    'min_samples_leaf':[1, 0.3,0.5, n_samples//2, n_samples//3, n_samples//5]},\n",
        "                    )"
      ],
      "execution_count": null,
      "outputs": []
    },
    {
      "cell_type": "code",
      "metadata": {
        "id": "pkMVNLwVMZeI"
      },
      "source": [
        "grid.fit(X_train, y_train)\n"
      ],
      "execution_count": null,
      "outputs": []
    },
    {
      "cell_type": "code",
      "metadata": {
        "id": "7LYfb-nrMf06"
      },
      "source": [
        "print('Train Accuracy : %.3f'%grid.best_estimator_.score(X_train, y_train))\n",
        "print('Test Accuracy : %.3f'%grid.best_estimator_.score(X_test, y_test))\n",
        "print('Best Score Through Grid Search : %.3f'%grid.best_score_)\n",
        "print('Best Parameters : ',grid.best_params_)"
      ],
      "execution_count": null,
      "outputs": []
    },
    {
      "cell_type": "markdown",
      "metadata": {
        "id": "ZAA9SbSWNW49"
      },
      "source": [
        "## **11.10 LGBMClassifier**"
      ]
    },
    {
      "cell_type": "markdown",
      "metadata": {
        "id": "u3koLyoyQUmW"
      },
      "source": [
        "### **Model Training**"
      ]
    },
    {
      "cell_type": "code",
      "metadata": {
        "id": "HLFAhNYdQx4w"
      },
      "source": [
        "import lightgbm as lgb\n",
        "LGBM = lgb.LGBMClassifier(objective=\"binary\", n_estimators=10)\n",
        "LGBM_model= LGBM.fit(X_train , y_train)\n",
        "LGBM_model"
      ],
      "execution_count": null,
      "outputs": []
    },
    {
      "cell_type": "markdown",
      "metadata": {
        "id": "bgEQVgKHQZnC"
      },
      "source": [
        "### **Model evaluation**"
      ]
    },
    {
      "cell_type": "markdown",
      "metadata": {
        "id": "X8uZahMsrx2e"
      },
      "source": [
        "**Predict Class Probability**"
      ]
    },
    {
      "cell_type": "code",
      "metadata": {
        "id": "crYmD9pQr0pS"
      },
      "source": [
        "preds_proba = LGBM_model.predict_proba(X_test)\n",
        "print(\"class = \", preds_proba)"
      ],
      "execution_count": null,
      "outputs": []
    },
    {
      "cell_type": "markdown",
      "metadata": {
        "id": "vx81iYPHSXZU"
      },
      "source": [
        "\n",
        "**Accuracy**"
      ]
    },
    {
      "cell_type": "code",
      "metadata": {
        "id": "PqzmBnupSZq1"
      },
      "source": [
        "y_pred_LGBM = LGBM_model.predict(X_test)\n",
        "LGBM_Acc=LGBM_model.score(X_test, y_test)\n",
        "print('Accuracy score= {:.4f}'.format(LGBM_model.score(X_test, y_test)))"
      ],
      "execution_count": null,
      "outputs": []
    },
    {
      "cell_type": "markdown",
      "metadata": {
        "id": "BEuKmzNPSs8H"
      },
      "source": [
        "**Confusion Matrix**\n",
        "\n"
      ]
    },
    {
      "cell_type": "code",
      "metadata": {
        "id": "BTgoaf5jSwkZ"
      },
      "source": [
        "from mlxtend.plotting import plot_confusion_matrix \n",
        "from sklearn.metrics import classification_report, confusion_matrix\n",
        "print('\\n')\n",
        "print(\"confusion matrix\")\n",
        "print('\\n')\n",
        "CM_LGBM=confusion_matrix(y_test, y_pred_LGBM)\n",
        "print(CM_LGBM)\n",
        "print('\\n')\n",
        "\n",
        "fig, ax = plot_confusion_matrix(conf_mat=CM_LGBM,figsize=(10, 10),\n",
        "                                show_absolute=True,\n",
        "                                show_normed=True,\n",
        "                                colorbar=True)\n",
        "plt.show()"
      ],
      "execution_count": null,
      "outputs": []
    },
    {
      "cell_type": "markdown",
      "metadata": {
        "id": "_4gi9BudTHtO"
      },
      "source": [
        "**Precision, Recall, F1**\n",
        "\n"
      ]
    },
    {
      "cell_type": "code",
      "metadata": {
        "id": "SKd47KujTMEr"
      },
      "source": [
        "print('\\n')\n",
        "print(\"Precision, Recall, F1\")\n",
        "print('\\n')\n",
        "CR_LGBM=classification_report(y_test, y_pred_LGBM)\n",
        "print(CR_LGBM)\n",
        "print('\\n')"
      ],
      "execution_count": null,
      "outputs": []
    },
    {
      "cell_type": "markdown",
      "metadata": {
        "id": "ro9nPRRRTaKs"
      },
      "source": [
        "**ROC CURVE**\n",
        "\n"
      ]
    },
    {
      "cell_type": "code",
      "metadata": {
        "id": "RhKbWWT0Td-G"
      },
      "source": [
        "from sklearn.metrics import roc_curve, auc\n",
        "fpr_LGBM, tpr_LGBM, thresholds = roc_curve(y_test, y_pred_LGBM)\n",
        "roc_auc_LGBM = auc(fpr_LGBM, tpr_LGBM)\n",
        "plt.figure()\n",
        "plt.plot(fpr_LGBM, tpr_LGBM, color='darkorange', lw=1, label='ROC curve (area = %0.4f)' % roc_auc_LGBM)\n",
        "plt.xlim([0.0, 1.0])\n",
        "plt.ylim([0.0, 1.05])\n",
        "plt.xlabel('False Positive Rate')\n",
        "plt.ylabel('True Positive Rate')\n",
        "plt.title('ROC CURVE')\n",
        "plt.legend(loc=\"lower right\")\n",
        "plt.show()"
      ],
      "execution_count": null,
      "outputs": []
    },
    {
      "cell_type": "markdown",
      "metadata": {
        "id": "atlTj-vbQak5"
      },
      "source": [
        "### **Model Tunning**"
      ]
    },
    {
      "cell_type": "code",
      "metadata": {
        "id": "LVMDo9KkUWuU"
      },
      "source": [
        "n_samples = 24187\n",
        "n_features = 9"
      ],
      "execution_count": null,
      "outputs": []
    },
    {
      "cell_type": "code",
      "metadata": {
        "id": "iyRjZV_tUbw1"
      },
      "source": [
        "from sklearn.model_selection import GridSearchCV\n",
        "import lightgbm as lgb"
      ],
      "execution_count": null,
      "outputs": []
    },
    {
      "cell_type": "code",
      "metadata": {
        "id": "uGaTUeonWBjb"
      },
      "source": [
        "params = {\n",
        "    'num_leaves': [31, 127],\n",
        "    'reg_alpha': [0.1, 0.5],\n",
        "    'min_data_in_leaf': [30, 50, 100, 300, 400],\n",
        "    'lambda_l1': [0, 1, 1.5],\n",
        "    'lambda_l2': [0, 1]\n",
        "    }"
      ],
      "execution_count": null,
      "outputs": []
    },
    {
      "cell_type": "code",
      "metadata": {
        "id": "sIFFRRhCWOk9"
      },
      "source": [
        "\n",
        "LGBM = lgb.LGBMClassifier(objective=\"binary\", n_estimators=10)\n",
        "rf_classifier_grid = GridSearchCV(estimator=LGBM, param_grid=params)\n",
        "rf_classifier_grid.fit(X_train,y_train)"
      ],
      "execution_count": null,
      "outputs": []
    },
    {
      "cell_type": "code",
      "metadata": {
        "id": "THJms4yiWXDJ"
      },
      "source": [
        "print('Train Accuracy : %.3f'%rf_classifier_grid.best_estimator_.score(X_train, y_train))\n",
        "print('Test Accurqacy : %.3f'%rf_classifier_grid.best_estimator_.score(X_test, y_test))\n",
        "print('Best Accuracy Through Grid Search : %.3f'%rf_classifier_grid.best_score_)\n",
        "print('Best Parameters : ',rf_classifier_grid.best_params_)"
      ],
      "execution_count": null,
      "outputs": []
    },
    {
      "cell_type": "markdown",
      "metadata": {
        "id": "4VJb8yNvZI0E"
      },
      "source": [
        "## **11.11 CatBoost**"
      ]
    },
    {
      "cell_type": "markdown",
      "metadata": {
        "id": "zdJioBKnZQWj"
      },
      "source": [
        "### **Model Training**\n"
      ]
    },
    {
      "cell_type": "code",
      "metadata": {
        "id": "Ngcn1TOShZov"
      },
      "source": [
        "! pip install catboost"
      ],
      "execution_count": null,
      "outputs": []
    },
    {
      "cell_type": "code",
      "metadata": {
        "id": "mlNmkTkkfqaN"
      },
      "source": [
        "\n",
        "from catboost import CatBoostClassifier, Pool"
      ],
      "execution_count": null,
      "outputs": []
    },
    {
      "cell_type": "code",
      "metadata": {
        "id": "FkMCiVjRfbRj"
      },
      "source": [
        "\n",
        "#CTB = CatBoost(params={'iterations':100, 'verbose':10, 'loss_function':'Logloss'})\n",
        "CTB= CatBoostClassifier(iterations=2,\n",
        "                           depth=2,\n",
        "                           learning_rate=1,\n",
        "                           loss_function='Logloss',\n",
        "                           verbose=True)\n",
        "\n",
        "CTB_Model= CTB.fit(X_train , y_train)\n",
        "CTB_Model"
      ],
      "execution_count": null,
      "outputs": []
    },
    {
      "cell_type": "markdown",
      "metadata": {
        "id": "U1nbNDhOZQ-9"
      },
      "source": [
        "### **Model evaluation**\n"
      ]
    },
    {
      "cell_type": "markdown",
      "metadata": {
        "id": "cNrwFk23rpm_"
      },
      "source": [
        "**Predict Class Probability**"
      ]
    },
    {
      "cell_type": "code",
      "metadata": {
        "id": "66fQTKOfjQKp"
      },
      "source": [
        "preds_class = CTB_Model.predict(X_test)\n",
        "preds_proba = CTB_Model.predict_proba(X_test)\n",
        "print(\"class = \", preds_class)\n",
        "print(\"proba = \", preds_proba)"
      ],
      "execution_count": null,
      "outputs": []
    },
    {
      "cell_type": "markdown",
      "metadata": {
        "id": "o51YvFvlgYP6"
      },
      "source": [
        "**Accuracy**\n",
        "\n"
      ]
    },
    {
      "cell_type": "code",
      "metadata": {
        "id": "bj8qm8kRgfBF"
      },
      "source": [
        "\n",
        "y_pred_CTB = CTB_Model.predict(X_test)\n",
        "CTB_Acc=CTB_Model.score(X_test, y_test)\n",
        "print('Accuracy score= {:.4f}'.format(CTB_Model.score(X_test, y_test)))"
      ],
      "execution_count": null,
      "outputs": []
    },
    {
      "cell_type": "markdown",
      "metadata": {
        "id": "hppBM8Jfgu-C"
      },
      "source": [
        "**Confusion Matrix**\n",
        "\n"
      ]
    },
    {
      "cell_type": "code",
      "metadata": {
        "id": "rTf8HbqUkG1I"
      },
      "source": [
        "from mlxtend.plotting import plot_confusion_matrix \n",
        "from sklearn.metrics import classification_report, confusion_matrix\n",
        "print('\\n')\n",
        "print(\"confusion matrix\")\n",
        "print('\\n')\n",
        "CM_CTB=confusion_matrix(y_test, y_pred_CTB)\n",
        "print(CM_CTB)\n",
        "print('\\n')\n",
        "\n",
        "fig, ax = plot_confusion_matrix(conf_mat=CM_CTB,figsize=(10, 10),\n",
        "                                show_absolute=True,\n",
        "                                show_normed=True,\n",
        "                                colorbar=True)\n",
        "plt.show()"
      ],
      "execution_count": null,
      "outputs": []
    },
    {
      "cell_type": "markdown",
      "metadata": {
        "id": "Z8uXAxZlkdD5"
      },
      "source": [
        "**Precision, Recall, F1**"
      ]
    },
    {
      "cell_type": "code",
      "metadata": {
        "id": "msUdRUlFkhra"
      },
      "source": [
        "print('\\n')\n",
        "print(\"Precision, Recall, F1\")\n",
        "print('\\n')\n",
        "CR_CTB=classification_report(y_test, y_pred_CTB)\n",
        "print(CR_CTB)\n",
        "print('\\n')"
      ],
      "execution_count": null,
      "outputs": []
    },
    {
      "cell_type": "markdown",
      "metadata": {
        "id": "4EBCg90QkxId"
      },
      "source": [
        "**ROC CURVE**\n",
        "\n"
      ]
    },
    {
      "cell_type": "code",
      "metadata": {
        "id": "nxLLdoffkwat"
      },
      "source": [
        "from sklearn.metrics import roc_curve, auc\n",
        "fpr_CTB, tpr_CTB, thresholds = roc_curve(y_test, y_pred_CTB)\n",
        "roc_auc_CTB = auc(fpr_CTB, tpr_CTB)\n",
        "plt.figure()\n",
        "plt.plot(fpr_CTB, tpr_CTB, color='darkorange', lw=1, label='ROC curve (area = %0.4f)' % roc_auc_CTB)\n",
        "plt.xlim([0.0, 1.0])\n",
        "plt.ylim([0.0, 1.05])\n",
        "plt.xlabel('False Positive Rate')\n",
        "plt.ylabel('True Positive Rate')\n",
        "plt.title('ROC CURVE')\n",
        "plt.legend(loc=\"lower right\")\n",
        "plt.show()"
      ],
      "execution_count": null,
      "outputs": []
    },
    {
      "cell_type": "markdown",
      "metadata": {
        "id": "KKdB2OBqZRfl"
      },
      "source": [
        "### **Model Tunning**"
      ]
    },
    {
      "cell_type": "markdown",
      "metadata": {
        "id": "1pAFncgeaczf"
      },
      "source": [
        "# **12-Compare Modle performance**"
      ]
    },
    {
      "cell_type": "markdown",
      "metadata": {
        "id": "8vJui__Xal2w"
      },
      "source": [
        "## **12.1-ROC Curve for Models**"
      ]
    },
    {
      "cell_type": "code",
      "metadata": {
        "id": "TBR34ZI4awOq"
      },
      "source": [
        "plt.plot(fpr_DT, tpr_DT, marker='*', label='Decision Trees', color = 'black')\n",
        "plt.plot(fpr_RF, tpr_RF, marker='*', label='Random Forest', color = 'Red')\n",
        "plt.plot(fpr_SVM, tpr_SVM, marker='*', label='SVM', color = 'green')\n",
        "plt.plot(fpr_LR, tpr_LR, marker='*', label='LogisticRegression', color = 'yellow')\n",
        "plt.plot(fpr_KNN, tpr_KNN, marker='*', label='KNN', color = 'blue')\n",
        "plt.plot(fpr_NB, tpr_NB, marker='*', label='Naive Bayes', color = 'black')\n",
        "plt.plot(fpr_NN, tpr_NN, marker='*', label='Neural Network(NN)', color = 'black')\n",
        "plt.plot(fpr_NN, tpr_NN, marker='*', label='Gradient Boosting(GB)', color = 'black')\n",
        "plt.plot(fpr_ET, tpr_ET, marker='*', label='Etra Tree Classifier(ET)', color = 'black')\n",
        "plt.plot(fpr_LGBM, tpr_LGBM, marker='*', label='LGBMClassifer', color = 'black')\n",
        "plt.plot(fpr_CTB, tpr_CTB, marker='*', label='CatBoost', color = 'black')\n",
        "plt.xlabel('False Positive Rate')\n",
        "plt.ylabel('True Positive Rate')\n",
        "plt.title('ROC CURVES OF ALGORITHMS')\n",
        "plt.legend(loc=\"lower right\")\n",
        "plt.show()"
      ],
      "execution_count": null,
      "outputs": []
    },
    {
      "cell_type": "markdown",
      "metadata": {
        "id": "VWJPKzUcbMtP"
      },
      "source": [
        "## **12.2-Comparison of all algorithms Results**"
      ]
    },
    {
      "cell_type": "code",
      "metadata": {
        "id": "Oo09aaa0cJ-T"
      },
      "source": [
        "from prettytable import PrettyTable"
      ],
      "execution_count": null,
      "outputs": []
    },
    {
      "cell_type": "code",
      "metadata": {
        "id": "7G9tYQnobT90"
      },
      "source": [
        "x = PrettyTable()\n",
        "print('\\n')\n",
        "print(\"Comparison of all algorithm results\")\n",
        "x.field_names = [\"Model\", \"Accuracy\"]\n",
        "\n",
        "\n",
        "x.add_row([\"Decision Trees Algorithm\", round(DT_Acc,4)])\n",
        "x.add_row([\"Random Forest Algorithm\", round(RF_Acc,4)])\n",
        "x.add_row([\"Support Vector Machine Algorithm\", round(SVM_Acc,4)])\n",
        "x.add_row([\"LogisticRegression Algorithm\", round(LR_Acc,4)])\n",
        "x.add_row([\"KNN Algorithm\", round(KNN_Acc,4)])\n",
        "x.add_row([\"Naive Bayes\", round(NB_Acc,4)])\n",
        "x.add_row([\"Neural Network\", round(NN_Acc,4)])\n",
        "x.add_row([\"Gradient Boosting\", round(GB_Acc,4)])\n",
        "x.add_row([\"ExtraTree Classifer \", round(ET_Acc,4)])\n",
        "x.add_row([\"LGBM Classifier \", round(LGBM_Acc,4)])\n",
        "x.add_row([\"CatBoost \", round(CTB_Acc,4)])\n",
        "print(x)\n",
        "print('\\n')"
      ],
      "execution_count": null,
      "outputs": []
    },
    {
      "cell_type": "markdown",
      "metadata": {
        "id": "ktelzfxbi3nf"
      },
      "source": [
        "# **Pipelines** [11]\n",
        "\n",
        "The Pipeline tool in scikit-learn is very helpful to simplify your machine learning models. Pipelines can be used to chain multiple steps into one, so that the data will go through a fixed sequence of steps. Thus, instead of calling every step separately, the pipeline concatenates all steps into one system. To create such a pipeline, we make use of the make_pipeline function.\n",
        "Below, a simple example is shown, where the pipeline consists of an imputer, which imputes missing values (if there are any), and a logistic regression classifier"
      ]
    },
    {
      "cell_type": "code",
      "metadata": {
        "id": "toxGihk4jNS3"
      },
      "source": [
        "from sklearn.model_selection import train_test_split\n",
        "from sklearn.impute import SimpleImputer\n",
        "from sklearn.linear_model import LogisticRegression\n",
        "from sklearn.pipeline import make_pipeline\n",
        "from sklearn.datasets import make_classification\n",
        "import pandas as pd\n",
        "X, y = make_classification(n_samples=25, n_features=4, n_classes=2, random_state=123)\n",
        "\n",
        "X_train, X_test, y_train, y_test = train_test_split(X, y, test_size=0.2, random_state=123)\n",
        "\n",
        "imputer = SimpleImputer()\n",
        "clf = LogisticRegression()\n",
        "\n",
        "pipe = make_pipeline(imputer, clf)"
      ],
      "execution_count": null,
      "outputs": []
    },
    {
      "cell_type": "markdown",
      "metadata": {
        "id": "APEuATc6jUwm"
      },
      "source": [
        "Now, we can use the pipeline to fit our training data and to make predictions for the test data. First, the training data goes through to imputer, and then it starts training using the logistic regression classifier. Then, we are able to predict the classes for our test data:"
      ]
    },
    {
      "cell_type": "code",
      "metadata": {
        "id": "bBy87lXzjYgF"
      },
      "source": [
        "pipe.fit(X_train, y_train)\n",
        "\n",
        "y_pred = pipe.predict(X_test)\n",
        "pd.DataFrame({'Prediction': y_pred, 'True': y_test})"
      ],
      "execution_count": null,
      "outputs": []
    },
    {
      "cell_type": "markdown",
      "metadata": {
        "id": "fe1KyRNzjip_"
      },
      "source": [
        "**Save a Pipeline model using joblib**"
      ]
    },
    {
      "cell_type": "markdown",
      "metadata": {
        "id": "sk_hOzAkjpg2"
      },
      "source": [
        "Pipeline models created through scikit-learn can easily be saved by making use of joblib. In case your model contains large arrays of data, each array is stored in a separate file. Once saved locally, one can easily load (or, restore) their model for use in new applications."
      ]
    },
    {
      "cell_type": "code",
      "metadata": {
        "id": "ere-YFNnjlZm",
        "colab": {
          "base_uri": "https://localhost:8080/"
        },
        "outputId": "3aa662b2-ac12-4a23-f07d-abf4976f0647"
      },
      "source": [
        "from sklearn.model_selection import train_test_split\n",
        "from sklearn.impute import SimpleImputer\n",
        "from sklearn.linear_model import LogisticRegression\n",
        "from sklearn.pipeline import make_pipeline\n",
        "from sklearn.datasets import make_classification\n",
        "import joblib\n",
        "X, y = make_classification(n_samples=20, n_features=4, n_classes=2, random_state=123)\n",
        "X_train, X_test, y_train, y_test = train_test_split(X, y, test_size=0.2, random_state=123)\n",
        "\n",
        "imputer = SimpleImputer()\n",
        "clf = LogisticRegression()\n",
        "\n",
        "pipe = make_pipeline(imputer, clf)\n",
        "\n",
        "pipe.fit(X_train, y_train)\n",
        "joblib.dump(pipe, 'pipe.joblib')"
      ],
      "execution_count": null,
      "outputs": [
        {
          "output_type": "execute_result",
          "data": {
            "text/plain": [
              "['pipe.joblib']"
            ]
          },
          "metadata": {},
          "execution_count": 3
        }
      ]
    },
    {
      "cell_type": "markdown",
      "metadata": {
        "id": "45xRgPGnjx7U"
      },
      "source": [
        "Now, the fitted pipeline model is saved (dumped) on your computer through joblib.dump. This model is restored through joblib.load, and can be applied as usual afterwards:"
      ]
    },
    {
      "cell_type": "code",
      "metadata": {
        "id": "EggaBDuDj272"
      },
      "source": [
        "new_pipe = joblib.load('.../pipe.joblib')\n",
        "new_pipe.predict(X_test)"
      ],
      "execution_count": null,
      "outputs": []
    },
    {
      "cell_type": "markdown",
      "metadata": {
        "id": "HlhWPOLLJEL_"
      },
      "source": [
        "# **Ensemble techniques**"
      ]
    },
    {
      "cell_type": "markdown",
      "metadata": {
        "id": "NlHILGefNn3S"
      },
      "source": [
        "Ensemble methods improve generalisation of the machine learning solution. As a consequence, they prevent over-fitting.The goal is to create a meta-classifier. This meta-classifier has a better generalisation performance than the individual classifiers.[13]"
      ]
    },
    {
      "cell_type": "markdown",
      "metadata": {
        "id": "R9fL0QA0N0Sp"
      },
      "source": [
        "Think of ensemble meta classifier as a solution where a large number of classifiers are combined to produce more accurate and robust predictions than the predictions by each individual classifier.[13]\n"
      ]
    },
    {
      "cell_type": "markdown",
      "metadata": {
        "id": "RZt6ybgaOFvp"
      },
      "source": [
        "## **Principle Voting**[13]"
      ]
    },
    {
      "cell_type": "markdown",
      "metadata": {
        "id": "B0JkaodhOU0z"
      },
      "source": [
        "One of the most famous ensemble methods is based on the majority voting principle. Imagine we have a number of judges who are voting the candidates in a dancing competition. It is likely that the result of the combined judges will give us better candidates than the result by an individual judge."
      ]
    },
    {
      "cell_type": "markdown",
      "metadata": {
        "id": "7H0J_ovoOgOY"
      },
      "source": [
        "The key in majority voting principle is to take the predicted value that received the most number of votes."
      ]
    },
    {
      "cell_type": "markdown",
      "metadata": {
        "id": "HTayYXJFOnLo"
      },
      "source": [
        "**How Does Ensemble Work?**"
      ]
    },
    {
      "cell_type": "markdown",
      "metadata": {
        "id": "AafgQY38OtxZ"
      },
      "source": [
        "Let’s consider that there are five classification algorithms:\n",
        "- Random forests\n",
        "- Support vector machines\n",
        "- Logistic regression classifier\n",
        "- Boosted Trees\n",
        "- Nearest Neighbour\n",
        "\n",
        "Now what we could do is to build an ensemble that combines all of the five classification algorithms into one. We can also try passing and fitting different subsets of our training set into an algorithm to get better predictions.\n"
      ]
    },
    {
      "cell_type": "markdown",
      "metadata": {
        "id": "6Pd_2R28PTbg"
      },
      "source": [
        "![](https://drive.google.com/uc?export=view&id=1ljMD_0xWrHuSynn3nMZqiJEuH2Q4wCq8)"
      ]
    },
    {
      "cell_type": "markdown",
      "metadata": {
        "id": "QANO5HRQO9hn"
      },
      "source": [
        "Each of the classification algorithm will produce its predictions. We can them perform majority votes principle and take the prediction which occurred the most."
      ]
    },
    {
      "cell_type": "markdown",
      "metadata": {
        "id": "ZsZ_zcfbPbzH"
      },
      "source": [
        "When we combine the classifiers then the total error rate decreases if compared to the error rate of each individual classifier"
      ]
    },
    {
      "cell_type": "markdown",
      "metadata": {
        "id": "6v3kVENsPhH_"
      },
      "source": [
        "For example, let’s assume we are predicting whether a stock price will increase or decrease. Three out of five of the algorithms predict that the price will go up. Therefore, we will take the final prediction that the stock price will increase."
      ]
    },
    {
      "cell_type": "markdown",
      "metadata": {
        "id": "SBgsN6XtPxUc"
      },
      "source": [
        "Hence ensemble methods produce better predictions and are robust than individual ensembles."
      ]
    },
    {
      "cell_type": "markdown",
      "metadata": {
        "id": "XZo-1pQAP1FO"
      },
      "source": [
        "Majority voting is essentially built on top of the Mode mathematical concept, which takes the most occurring value as the average."
      ]
    },
    {
      "cell_type": "markdown",
      "metadata": {
        "id": "XhX7-BiiP9Uu"
      },
      "source": [
        "**Let’s Implement An Ensemble Classifier In Python**"
      ]
    },
    {
      "cell_type": "code",
      "metadata": {
        "id": "vEXUbUXLQENe"
      },
      "source": [
        "from sklearn.model_selection import cross_val_score\n",
        "from sklearn.ensemble import RandomForestClassifier\n",
        "from sklearn.neighbors import KNeighborsClassifier\n",
        "from sklearn.tree import DecisionTreeClassifier\n",
        "from sklearn.ensemble import VotingClassifier\n",
        "\n",
        "model1 = KNeighborsClassifier()\n",
        "model2 = RandomForestClassifier(n_estimators=50, random_state=0)\n",
        "model3 = DecisionTreeClassifier(max_depth=1,criterion='entropy')\n",
        "classifier = VotingClassifier(estimators=[\n",
        "   ('kn', model1), ('rf', model2), ('dt', model3)], voting='hard')\n",
        "\n",
        "for model in ([model1, model2, model3, classifier]):\n",
        "     scores = cross_val_score(model, X_test, y_test, cv=3,  scoring='accuracy')\n",
        "     print(scores)\n",
        "     print(\"Accuracy: \" % scores.mean())"
      ],
      "execution_count": null,
      "outputs": []
    },
    {
      "cell_type": "markdown",
      "metadata": {
        "id": "ODPsd0b1THuM"
      },
      "source": [
        "After running the code, I encountered that the mean of the ensemble model (VotingClassifer) was better than the other models. It implies that the predictive performance of an ensemble classifier is superior than the performance of the individual classifiers."
      ]
    },
    {
      "cell_type": "markdown",
      "metadata": {
        "id": "E2NF8rANTRFb"
      },
      "source": [
        "VotingClassifier is useful when we have a number of equally well performing models as it can balance out their individual weaknesses."
      ]
    },
    {
      "cell_type": "markdown",
      "metadata": {
        "id": "fr2la8l_Jbvr"
      },
      "source": [
        "## **Bagging**[12]"
      ]
    },
    {
      "cell_type": "markdown",
      "metadata": {
        "id": "-bgFnBEGJwf_"
      },
      "source": [
        "Bagging, which is also known as bootstrap aggregating sits on top of the majority voting principle. The samples are bootstrapped each time when the model is trained. When the samples are chosen, they are used to train and validate the predictions. The samples are then replaced back into the training set. The samples are selected at random. This technique is known as bagging."
      ]
    },
    {
      "cell_type": "markdown",
      "metadata": {
        "id": "xJI2-UTjJ8_8"
      },
      "source": [
        "To sum up, base classifiers such as decision trees are fitted on random subsets of the original training set. Subsequently, the individual predictions are aggregated (voting or averaging etc). The final results are then used as predictions. It reduces variance of a black box estimator."
      ]
    },
    {
      "cell_type": "markdown",
      "metadata": {
        "id": "fubRKBrqKCZ2"
      },
      "source": [
        "**Bagging can decrease the degree of overfitting**[12]\n"
      ]
    },
    {
      "cell_type": "markdown",
      "metadata": {
        "id": "1Qw4yHEuKEMs"
      },
      "source": [
        "Imagine you want to find the most visited city in the world next month. To represent the population, you pick a sample of 10000 people. Now imagine this sample is placed in a bag. You take 5000 people out of the bag each time and feed the input to your machine learning model. And then you place the samples back into your bag. Once the results are predicted, you then use the maximum voting to pick the best results."
      ]
    },
    {
      "cell_type": "markdown",
      "metadata": {
        "id": "G3rU6OTrNAfp"
      },
      "source": [
        "![](https://drive.google.com/uc?export=view&id=1bAh-egMhWqe28_mhp8PL0jgdG7_17lc6)"
      ]
    },
    {
      "cell_type": "markdown",
      "metadata": {
        "id": "E-HJIB8SKS1t"
      },
      "source": [
        "**Bagging can improve the accuracy of unstable models**[12]"
      ]
    },
    {
      "cell_type": "markdown",
      "metadata": {
        "id": "UsGLO3gVKc0l"
      },
      "source": [
        "This recursive nature of picking the samples at random with replacement can improve the accuracy of an unstable machine learning model. Additionally it prevents overfitting and makes your model genaralise better on unseen data"
      ]
    },
    {
      "cell_type": "markdown",
      "metadata": {
        "id": "u6y-Z2QxKsps"
      },
      "source": [
        "**Machine Learning Bagging In Python**[12]"
      ]
    },
    {
      "cell_type": "markdown",
      "metadata": {
        "id": "8lYMY1zJKvzL"
      },
      "source": [
        "Finally, this section demonstrates how we can implement bagging technique in Python."
      ]
    },
    {
      "cell_type": "code",
      "metadata": {
        "id": "1OXiaykfK7vW"
      },
      "source": [
        "from sklearn.ensemble import BaggingClassifier\n",
        "ds = DecisionTreeClassifier(criterion='entropy',max_depth=None)\n",
        "bag = BaggingClassifier(max_samples=1.0,bootstrap=True)\n",
        "DTC_Model_bag=bag.fit(X_train, y_train)"
      ],
      "execution_count": 57,
      "outputs": []
    },
    {
      "cell_type": "code",
      "metadata": {
        "id": "wbC7m1APLb_K",
        "outputId": "d6cb390d-5807-4649-a409-860815476d02",
        "colab": {
          "base_uri": "https://localhost:8080/"
        }
      },
      "source": [
        "y_pred_DT = DTC_Model_bag.predict(X_test)\n",
        "DT_Acc=DTC_Model_bag.score(X_test, y_test)\n",
        "print('Accuracy score= {:.4f}'.format(DTC_Model_bag.score(X_test, y_test)))"
      ],
      "execution_count": 60,
      "outputs": [
        {
          "output_type": "stream",
          "name": "stdout",
          "text": [
            "Accuracy score= 0.5846\n"
          ]
        }
      ]
    },
    {
      "cell_type": "markdown",
      "metadata": {
        "id": "jA7yBDO8L1ds"
      },
      "source": [
        "The code above will use the default base_estimator of decision tree. It will fit the random samples with replacements. Samples will be taken for all of the features in the training set."
      ]
    },
    {
      "cell_type": "markdown",
      "metadata": {
        "id": "uaBaqG72L9is"
      },
      "source": [
        "This code will yield results that are more accurate, the model will not be over-fitted to the training set data and most importantly it will reduce the variance of the decision tree."
      ]
    },
    {
      "cell_type": "markdown",
      "metadata": {
        "id": "uOu2ttBhIqPr"
      },
      "source": [
        "# **References**\n",
        "\n",
        "[1- Scikit-Learn - Ensemble Learning : Bootstrap Aggregation(Bagging) & Random Forests](https://coderzcolumn.com/tutorials/machine-learning/scikit-learn-sklearn-ensemble-learning-bagging-and-random-forests#2.4)\n",
        "\n",
        "[2- Scikit-Learn - Decision Trees](https://coderzcolumn.com/tutorials/machine-learning/scikit-learn-sklearn-decision-trees#2)\n",
        "\n",
        "[3- Deep Neural Multilayer Perceptron (MLP) with Scikit-learn](https://towardsdatascience.com/deep-neural-multilayer-perceptron-mlp-with-scikit-learn-2698e77155e)\n",
        "\n",
        "[4- Akramz\n",
        "/\n",
        "Hands-on-Machine-Learning-with-Scikit-Learn-Keras-and-TensorFlow\n",
        "Public](https://github.com/Akramz/Hands-on-Machine-Learning-with-Scikit-Learn-Keras-and-TensorFlow)\n",
        "\n",
        "[5- XGBoost hyperparameter tuning in Python using grid search](https://www.mikulskibartosz.name/xgboost-hyperparameter-tuning-in-python-using-grid-search/)\n",
        "\n",
        "[6- KNN Classifier in Sklearn using GridSearchCV with Example](https://machinelearningknowledge.ai/knn-classifier-in-sklearn-using-gridsearchcv-with-example/)\n",
        "\n",
        "[7-Decision Tree Classifier in Python Sklearn with Example](https://machinelearningknowledge.ai/decision-tree-classifier-in-python-sklearn-with-example/)\n",
        "\n",
        "[8- Introducing Trelawney : a unified Python API for interpretation of Machine Learning Models](https://medium.com/analytics-vidhya/introducing-trelawney-a-unified-python-api-for-interpretation-of-machine-learning-models-6fbc0a1fd6e7)\n",
        "\n",
        "[9-Titanic: explaining predictions with Trelawney](https://www.kaggle.com/aredier/titanic-explaining-predictions-with-trelawney)\n",
        "\n",
        "[10-Yellowbrick; Machine Learning Visualization-need to implement](https://hersanyagci.medium.com/yellowbrick-machine-learning-visualization-a8c2e9cae78e)\n",
        "\n",
        "[11-Scikit-Learn (Python): 6 Useful Tricks for Data Scientists](https://levelup.gitconnected.com/scikit-learn-python-6-useful-tricks-for-data-scientists-1a0a502a6aa3)\n",
        "\n",
        "[12-Machine Learning Bagging](https://medium.com/fintechexplained/machine-learning-bagging-6c0c2d002595)\n",
        "\n",
        "[13-Let’s Talk About Machine Learning Ensemble Learning In Python](https://medium.com/fintechexplained/lets-talk-about-machine-learning-ensemble-learning-in-python-382747e5fba8)\n",
        "\n",
        "\n",
        "[New ML algorithms developed by Facebook](https://www.reddit.com/r/MachineLearning/comments/it44ix/r_new_ml_algorithms_developed_by_facebook/)\n",
        "\n",
        "[An Introduction To Decision Trees and Predictive Analytics](https://towardsdatascience.com/an-introduction-to-decision-trees-and-predictive-analytics-92924a8a77e7)\n",
        "\n",
        "\n",
        "\n",
        "[Making Machine Learning Models Interpretable](https://medium.com/bitgrit-data-science-publication/making-machine-learning-models-interpretable-3f9efcf64a9)\n",
        "\n",
        "[10 Regression Metrics Data Scientist Must Know (Python-Sklearn Code Included)](https://medium.com/@tzjy/10-regression-metrics-data-scientist-must-know-python-code-included-c6ca40320504)\n",
        "\n",
        "[What is CatBoost Algorithm? Step-by-Step Tutorial](https://dhavalthakur.medium.com/what-is-catboost-algorithm-step-by-step-tutorial-2c93aa566068)\n",
        "\n"
      ]
    }
  ]
}