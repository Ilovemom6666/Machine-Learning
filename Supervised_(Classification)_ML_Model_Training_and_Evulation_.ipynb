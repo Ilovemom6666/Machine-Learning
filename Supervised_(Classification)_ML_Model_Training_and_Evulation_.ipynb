{
  "nbformat": 4,
  "nbformat_minor": 0,
  "metadata": {
    "colab": {
      "name": " Supervised (Classification) ML Model Training and Evulation .ipynb",
      "provenance": [],
      "collapsed_sections": [],
      "toc_visible": true,
      "include_colab_link": true
    },
    "kernelspec": {
      "name": "python3",
      "display_name": "Python 3"
    },
    "language_info": {
      "name": "python"
    }
  },
  "cells": [
    {
      "cell_type": "markdown",
      "metadata": {
        "id": "view-in-github",
        "colab_type": "text"
      },
      "source": [
        "<a href=\"https://colab.research.google.com/github/hussain0048/Machine-Learning/blob/master/Supervised_(Classification)_ML_Model_Training_and_Evulation_.ipynb\" target=\"_parent\"><img src=\"https://colab.research.google.com/assets/colab-badge.svg\" alt=\"Open In Colab\"/></a>"
      ]
    },
    {
      "cell_type": "markdown",
      "metadata": {
        "id": "YX1XA2lOe_hC"
      },
      "source": [
        "# **Table Content**"
      ]
    },
    {
      "cell_type": "markdown",
      "metadata": {
        "id": "iRvGGuOwfGui"
      },
      "source": [
        "\n",
        "<div class=\"alert alert-block alert-info\" style=\"margin-top: 20px\">\n",
        "    <ul>\n",
        "        <li><a href=\"https:\">Introduction</a></li>\n",
        "        <li><a href=\"#downloading_data\">Data Loading</a></li>\n",
        "        <li><a href=\"#pre-processing\">Dropping feature</a></li>\n",
        "         <li><a href=\"#pre-processing\">Convert target variable into binary Form</a></li>\n",
        "        <li><a href=\"#setting_up_tree\">Data Imbalanced problem </a></li>\n",
        "        <li><a href=\"#modeling\">Missing Values</a></li>\n",
        "         <li><a href=\"#modeling\">Inconsistent data/Irrelevant features</a></li>\n",
        "        <li><a href=\"#prediction\">Hot Encoding</a></li>\n",
        "        <li><a href=\"#evaluation\">Outlier Detection</a></li>\n",
        "        <li><a href=\"#evaluation\">Model Training and Evaluation\n",
        "        <ul>\n",
        "        <li><a href=\"#evaluation\">Decision Trees</a></li>\n",
        "        <li><a href=\"#evaluation\">Random Forest</a></li>\n",
        "        <li><a href=\"#evaluation\">Support Vector Machine</a></li>\n",
        "         <li><a href=\"#evaluation\">Logistic Regression</a></li>\n",
        "         <li><a href=\"#evaluation\">KNN</a></li>\n",
        "         <li><a href=\"#evaluation\">Naive Bayes</a></li>\n",
        "         <li><a href=\"#evaluation\">Deep Neural Multilayer Perceptron (MLP)</a></li>\n",
        "         <li><a href=\"#evaluation\">Gradient Boosting</a></li>\n",
        "         <li><a href=\"#evaluation\">ExtraTreesClassifier</a></li>\n",
        "         <li><a href=\"#evaluation\">LGBM Classifer</a></li>\n",
        "         <li><a href=\"#evaluation\">CatBoost</a></li>\n",
        "    </ul>\n",
        "</div>\n",
        "<br>\n",
        "<hr>\n"
      ]
    },
    {
      "cell_type": "markdown",
      "metadata": {
        "id": "s1xpAC0Sf0EQ"
      },
      "source": [
        "# **1- Introduction** "
      ]
    },
    {
      "cell_type": "markdown",
      "metadata": {
        "id": "o2tTizNTf7o3"
      },
      "source": [
        "Data preprocessing is an integral step in Machine Learning as the quality of data and the useful information that can be derived from it directly affects the ability of our model to learn; therefore, it is extremely important that we preprocess our data before feeding it into our model."
      ]
    },
    {
      "cell_type": "markdown",
      "metadata": {
        "id": "G2WuuWtcgNG4"
      },
      "source": [
        "# **2- Data Loading**"
      ]
    },
    {
      "cell_type": "markdown",
      "metadata": {
        "id": "Biql2sZngvIB"
      },
      "source": [
        "## **2.1 Data Loading from Google Drive**"
      ]
    },
    {
      "cell_type": "code",
      "metadata": {
        "colab": {
          "base_uri": "https://localhost:8080/"
        },
        "id": "Gwp1rpowgTKQ",
        "outputId": "9074e37f-9b11-4568-fdc8-50f97baf9aa3"
      },
      "source": [
        "from google.colab import drive\n",
        "drive.mount('/content/drive')"
      ],
      "execution_count": 1,
      "outputs": [
        {
          "output_type": "stream",
          "name": "stdout",
          "text": [
            "Mounted at /content/drive\n"
          ]
        }
      ]
    },
    {
      "cell_type": "code",
      "metadata": {
        "id": "3RoIsrRghTBm"
      },
      "source": [
        "import pandas as pd \n",
        "Train_data = pd.read_csv('/content/drive/MyDrive/Datasets/Water Brone diesease/Malyria_2-21-2021.csv',encoding = 'latin')"
      ],
      "execution_count": 2,
      "outputs": []
    },
    {
      "cell_type": "code",
      "metadata": {
        "id": "9hwlf9uUhdzP"
      },
      "source": [
        "Train_data"
      ],
      "execution_count": null,
      "outputs": []
    },
    {
      "cell_type": "markdown",
      "metadata": {
        "id": "gHpxi1PDlIEP"
      },
      "source": [
        "**Free Builten Dataset**"
      ]
    },
    {
      "cell_type": "markdown",
      "metadata": {
        "id": "pFxRLaVtlPtG"
      },
      "source": [
        "**Wine Dataset**"
      ]
    },
    {
      "cell_type": "code",
      "metadata": {
        "id": "zDAR3ImelM32"
      },
      "source": [
        "from sklearn.datasets import load_wine\n",
        "\n",
        "wine = load_wine()\n",
        "\n",
        "for line in wine.DESCR.split(\"\\n\")[5:29]:\n",
        "    print(line)\n",
        "\n",
        "wine_df = pd.DataFrame(data=wine.data, columns = wine.feature_names)\n",
        "wine_df[\"WineType\"] = wine.target\n",
        "\n",
        "wine_df.head()"
      ],
      "execution_count": null,
      "outputs": []
    },
    {
      "cell_type": "markdown",
      "metadata": {
        "id": "OC8zsEhPle4N"
      },
      "source": [
        "**Breast Cancer Dataset**\n"
      ]
    },
    {
      "cell_type": "code",
      "metadata": {
        "id": "VJA76k4rliLV"
      },
      "source": [
        "from sklearn.datasets import load_breast_cancer\n",
        "\n",
        "breast_cancer = load_breast_cancer()\n",
        "\n",
        "for line in breast_cancer.DESCR.split(\"\\n\")[5:31]:\n",
        "    print(line)\n",
        "\n",
        "breast_cancer_df = pd.DataFrame(data=breast_cancer.data, columns = breast_cancer.feature_names)\n",
        "breast_cancer_df[\"TumorType\"] = breast_cancer.target\n",
        "\n",
        "breast_cancer_df.head()"
      ],
      "execution_count": null,
      "outputs": []
    },
    {
      "cell_type": "markdown",
      "metadata": {
        "id": "tqb1TqfdlpT9"
      },
      "source": [
        "**Boston Housing Dataset**\n"
      ]
    },
    {
      "cell_type": "code",
      "metadata": {
        "id": "vVFIJjVYlvEw"
      },
      "source": [
        "from sklearn.datasets import load_boston\n",
        "\n",
        "boston = load_boston()\n",
        "\n",
        "for line in boston.DESCR.split(\"\\n\")[5:29]:\n",
        "    print(line)\n",
        "\n",
        "boston_df = pd.DataFrame(data=boston.data, columns = boston.feature_names)\n",
        "boston_df[\"Price\"] = boston.target\n",
        "\n",
        "boston_df.head()"
      ],
      "execution_count": null,
      "outputs": []
    },
    {
      "cell_type": "markdown",
      "metadata": {
        "id": "SbnAH9rKhntf"
      },
      "source": [
        "# **3- Dropping feature**\n",
        "\n",
        "Dropping feature usually isn’t recommended because you’re losing information. But if you’re sure that the column isn’t important, or simply has too many missing values, you can choose to drop them. For example, for this dataset, the host_name column was removed for ethical reasons, and id was removed because it was was unnecessary.\n",
        "To drop features, use drop and set axis to 1 and inplace to true. Axis is 1 because we want to drop columns (0 means row), and inplace is True because you're transforming it directly on your dataset."
      ]
    },
    {
      "cell_type": "markdown",
      "metadata": {
        "id": "sfufIU6Ph4DJ"
      },
      "source": [
        "## **3.1 Drop Index Columns**"
      ]
    },
    {
      "cell_type": "code",
      "metadata": {
        "id": "qRMwPJugh_cV"
      },
      "source": [
        "Train_data=Train_data.reset_index()\n",
        "Train_data=Train_data.drop(columns=['index'])"
      ],
      "execution_count": 4,
      "outputs": []
    },
    {
      "cell_type": "markdown",
      "metadata": {
        "id": "_ywNezHyiN1J"
      },
      "source": [
        "## **3.2 Drop Multiple featurs**"
      ]
    },
    {
      "cell_type": "code",
      "metadata": {
        "id": "0iDC_p4nigy-"
      },
      "source": [
        "New5=Train_data.drop(Train_data.columns[[0,1,3,4,5,6,7,10,17]], axis=1, inplace=True)"
      ],
      "execution_count": 5,
      "outputs": []
    },
    {
      "cell_type": "markdown",
      "metadata": {
        "id": "cjrtdkJdkvGz"
      },
      "source": [
        "# **4-Convert target variable into binary Form**"
      ]
    },
    {
      "cell_type": "code",
      "metadata": {
        "id": "jPeuZ7VPk50C"
      },
      "source": [
        "Train_data['RESULT_TEXT'].replace({'Negative': 0, 'Positive': 1},inplace = True)"
      ],
      "execution_count": 6,
      "outputs": []
    },
    {
      "cell_type": "markdown",
      "metadata": {
        "id": "XgG-pUdEI3CK"
      },
      "source": [
        "# **5- Data Imbalanced problem**\n"
      ]
    },
    {
      "cell_type": "markdown",
      "metadata": {
        "id": "JnxhM4IHjs2s"
      },
      "source": [
        "## **5.1 Check Imbalanced Problem in Data**"
      ]
    },
    {
      "cell_type": "code",
      "metadata": {
        "id": "3p7TRBevkGlk",
        "colab": {
          "base_uri": "https://localhost:8080/",
          "height": 336
        },
        "outputId": "4c1b9b49-2212-4161-ac41-92a5004d058b"
      },
      "source": [
        "import matplotlib.pyplot as plt\n",
        "fig = plt.figure(figsize = (8,5))\n",
        "Train_data.RESULT_TEXT.value_counts(normalize = True).plot(kind='bar', color= ['skyblue','navy'], alpha = 0.9, rot=0)\n",
        "plt.title('Results Status Negative(0) and Positive(1) in the Imbalanced Dataset')\n",
        "plt.show()"
      ],
      "execution_count": 7,
      "outputs": [
        {
          "output_type": "display_data",
          "data": {
            "image/png": "[encoded data removed]",
            "text/plain": [
              "<Figure size 576x360 with 1 Axes>"
            ]
          },
          "metadata": {
            "needs_background": "light"
          }
        }
      ]
    },
    {
      "cell_type": "markdown",
      "metadata": {
        "id": "S0qwuF7Dkaw2"
      },
      "source": [
        "## **5.2 Data resample**"
      ]
    },
    {
      "cell_type": "code",
      "metadata": {
        "id": "xAnm9UBIkiC1",
        "colab": {
          "base_uri": "https://localhost:8080/",
          "height": 336
        },
        "outputId": "d59170a5-e6fe-4875-d42d-bad5e62bcb57"
      },
      "source": [
        "from sklearn.utils import resample\n",
        "no = Train_data[Train_data.RESULT_TEXT == 0]\n",
        "yes = Train_data[Train_data.RESULT_TEXT == 1]\n",
        "yes_oversampled = resample(yes, replace=True, n_samples=len(no), random_state=123)\n",
        "oversampled = pd.concat([no, yes_oversampled])\n",
        "fig = plt.figure(figsize = (8,5))\n",
        "oversampled.RESULT_TEXT.value_counts(normalize = True).plot(kind='bar', color= ['skyblue','navy'], alpha = 0.9, rot=0)\n",
        "plt.title('Waterbrone Disease status Nagative(0) and Postive(1) after Oversampling (Balanced Dataset)')\n",
        "plt.show()"
      ],
      "execution_count": 8,
      "outputs": [
        {
          "output_type": "display_data",
          "data": {
            "image/png": "[encoded data removed]",
            "text/plain": [
              "<Figure size 576x360 with 1 Axes>"
            ]
          },
          "metadata": {
            "needs_background": "light"
          }
        }
      ]
    },
    {
      "cell_type": "markdown",
      "metadata": {
        "id": "hmcHEc1llpEt"
      },
      "source": [
        "#**6- Missing Values** "
      ]
    },
    {
      "cell_type": "markdown",
      "metadata": {
        "id": "z000rrTwmym1"
      },
      "source": [
        "## **6.2- Check missing Value**"
      ]
    },
    {
      "cell_type": "code",
      "metadata": {
        "colab": {
          "base_uri": "https://localhost:8080/",
          "height": 173
        },
        "id": "Jkrr2G-rm8Hj",
        "outputId": "32c488b9-7097-4f61-cdf2-8bac14b023be"
      },
      "source": [
        "total = oversampled.isnull().sum().sort_values(ascending=False)\n",
        "percent = (oversampled.isnull().sum()/oversampled.isnull().count()).sort_values(ascending=False)\n",
        "missing = pd.concat([total, percent], axis=1, keys=['Total', 'Percent'])\n",
        "missing.head(4)"
      ],
      "execution_count": 9,
      "outputs": [
        {
          "output_type": "execute_result",
          "data": {
            "text/html": [
              "<div>\n",
              "<style scoped>\n",
              "    .dataframe tbody tr th:only-of-type {\n",
              "        vertical-align: middle;\n",
              "    }\n",
              "\n",
              "    .dataframe tbody tr th {\n",
              "        vertical-align: top;\n",
              "    }\n",
              "\n",
              "    .dataframe thead th {\n",
              "        text-align: right;\n",
              "    }\n",
              "</style>\n",
              "<table border=\"1\" class=\"dataframe\">\n",
              "  <thead>\n",
              "    <tr style=\"text-align: right;\">\n",
              "      <th></th>\n",
              "      <th>Total</th>\n",
              "      <th>Percent</th>\n",
              "    </tr>\n",
              "  </thead>\n",
              "  <tbody>\n",
              "    <tr>\n",
              "      <th>REPORT_VERIFIED</th>\n",
              "      <td>796</td>\n",
              "      <td>0.01749</td>\n",
              "    </tr>\n",
              "    <tr>\n",
              "      <th>RESULT_TEXT</th>\n",
              "      <td>0</td>\n",
              "      <td>0.00000</td>\n",
              "    </tr>\n",
              "    <tr>\n",
              "      <th>CPT_ID.1</th>\n",
              "      <td>0</td>\n",
              "      <td>0.00000</td>\n",
              "    </tr>\n",
              "    <tr>\n",
              "      <th>RESULT_VALUE</th>\n",
              "      <td>0</td>\n",
              "      <td>0.00000</td>\n",
              "    </tr>\n",
              "  </tbody>\n",
              "</table>\n",
              "</div>"
            ],
            "text/plain": [
              "                 Total  Percent\n",
              "REPORT_VERIFIED    796  0.01749\n",
              "RESULT_TEXT          0  0.00000\n",
              "CPT_ID.1             0  0.00000\n",
              "RESULT_VALUE         0  0.00000"
            ]
          },
          "metadata": {},
          "execution_count": 9
        }
      ]
    },
    {
      "cell_type": "markdown",
      "metadata": {
        "id": "orpFOyirp-Cd"
      },
      "source": [
        "# **8-Hot Encoding**"
      ]
    },
    {
      "cell_type": "code",
      "metadata": {
        "id": "xarFJmqzqNdt",
        "colab": {
          "base_uri": "https://localhost:8080/"
        },
        "outputId": "a696ea04-0bd1-462a-be17-5448abb18721"
      },
      "source": [
        "oversampled.select_dtypes(include=['object']).columns\n"
      ],
      "execution_count": 10,
      "outputs": [
        {
          "output_type": "execute_result",
          "data": {
            "text/plain": [
              "Index(['MRNO', 'AGE', 'GENDER', 'DISTRICT', 'TEHSIL', 'REPORT_VERIFIED',\n",
              "       'RESULT_VALUE'],\n",
              "      dtype='object')"
            ]
          },
          "metadata": {},
          "execution_count": 10
        }
      ]
    },
    {
      "cell_type": "code",
      "metadata": {
        "id": "zkfkPLXEqSSi"
      },
      "source": [
        "# Impute categorical var with Mode\n",
        "oversampled['MRNO'] = oversampled['MRNO'].fillna(oversampled['MRNO'].mode()[0])\n",
        "oversampled['AGE'] = oversampled['AGE'].fillna(oversampled['AGE'].mode()[0])\n",
        "oversampled['GENDER'] = oversampled['GENDER'].fillna(oversampled['GENDER'].mode()[0])\n",
        "oversampled['DISTRICT'] = oversampled['DISTRICT'].fillna(oversampled['DISTRICT'].mode()[0])\n",
        "oversampled['TEHSIL'] = oversampled['TEHSIL'].fillna(oversampled['TEHSIL'].mode()[0])\n",
        "oversampled['REPORT_VERIFIED'] = oversampled['REPORT_VERIFIED'].fillna(oversampled['REPORT_VERIFIED'].mode()[0])\n",
        "oversampled['RESULT_VALUE'] = oversampled['RESULT_VALUE'].fillna(oversampled['RESULT_VALUE'].mode()[0])"
      ],
      "execution_count": 11,
      "outputs": []
    },
    {
      "cell_type": "code",
      "metadata": {
        "id": "yrGan4YLqbCI"
      },
      "source": [
        "# Convert categorical features to continuous features with Label Encoding\n",
        "from sklearn.preprocessing import LabelEncoder\n",
        "lencoders = {}\n",
        "for col in oversampled.select_dtypes(include=['object']).columns:\n",
        "    lencoders[col] = LabelEncoder()\n",
        "    oversampled[col] = lencoders[col].fit_transform(oversampled[col])"
      ],
      "execution_count": 12,
      "outputs": []
    },
    {
      "cell_type": "code",
      "metadata": {
        "id": "XPPO6refqh0o"
      },
      "source": [
        "import warnings\n",
        "warnings.filterwarnings(\"ignore\")\n",
        "# Multiple Imputation by Chained Equations\n",
        "from sklearn.experimental import enable_iterative_imputer\n",
        "from sklearn.impute import IterativeImputer\n",
        "MiceImputed = oversampled.copy(deep=True) \n",
        "mice_imputer = IterativeImputer()\n",
        "MiceImputed.iloc[:, :] = mice_imputer.fit_transform(oversampled)"
      ],
      "execution_count": 13,
      "outputs": []
    },
    {
      "cell_type": "markdown",
      "metadata": {
        "id": "-OoCHQ6TwE_f"
      },
      "source": [
        "# **9-Outlier detection**"
      ]
    },
    {
      "cell_type": "markdown",
      "metadata": {
        "id": "8tq6yjKx4jg8"
      },
      "source": [
        "Outliers can be dangerous as they can skew your model and give you predictions that are biased and erroneous.\n",
        "The best way to find outliers is to use the describe function and look at information such as maximum and mean."
      ]
    },
    {
      "cell_type": "code",
      "metadata": {
        "id": "FseYShGQwc1n",
        "colab": {
          "base_uri": "https://localhost:8080/"
        },
        "outputId": "0f96000c-cb85-4a88-a59b-b8826245788b"
      },
      "source": [
        "# Detecting outliers with IQR\n",
        "Q1 = MiceImputed.quantile(0.25)\n",
        "Q3 = MiceImputed.quantile(0.75)\n",
        "IQR = Q3 - Q1\n",
        "print(IQR)"
      ],
      "execution_count": 14,
      "outputs": [
        {
          "output_type": "stream",
          "name": "stdout",
          "text": [
            "MRNO               6094.25\n",
            "AGE                  28.00\n",
            "GENDER                1.00\n",
            "DISTRICT              3.00\n",
            "TEHSIL                7.00\n",
            "REPORT_VERIFIED    9501.50\n",
            "CPT_ID             2200.00\n",
            "RESULT_VALUE          0.00\n",
            "CPT_ID.1              0.00\n",
            "RESULT_TEXT           1.00\n",
            "dtype: float64\n"
          ]
        }
      ]
    },
    {
      "cell_type": "code",
      "metadata": {
        "id": "aLYT9hGawiaP",
        "colab": {
          "base_uri": "https://localhost:8080/"
        },
        "outputId": "e957ab34-81a8-4e16-8cf1-2980045212c2"
      },
      "source": [
        "# Removing outliers from the dataset\n",
        "MiceImputed = MiceImputed[~((MiceImputed < (Q1 - 1.5 * IQR)) |(MiceImputed > (Q3 + 1.5 * IQR))).any(axis=1)]\n",
        "MiceImputed.shape"
      ],
      "execution_count": 15,
      "outputs": [
        {
          "output_type": "execute_result",
          "data": {
            "text/plain": [
              "(34554, 10)"
            ]
          },
          "metadata": {},
          "execution_count": 15
        }
      ]
    },
    {
      "cell_type": "code",
      "metadata": {
        "colab": {
          "base_uri": "https://localhost:8080/",
          "height": 419
        },
        "id": "7SU6nEUR6H83",
        "outputId": "aacf5d97-4ab1-4927-b2fc-bf56818efa6a"
      },
      "source": [
        "MiceImputed"
      ],
      "execution_count": null,
      "outputs": [
        {
          "output_type": "execute_result",
          "data": {
            "text/html": [
              "<div>\n",
              "<style scoped>\n",
              "    .dataframe tbody tr th:only-of-type {\n",
              "        vertical-align: middle;\n",
              "    }\n",
              "\n",
              "    .dataframe tbody tr th {\n",
              "        vertical-align: top;\n",
              "    }\n",
              "\n",
              "    .dataframe thead th {\n",
              "        text-align: right;\n",
              "    }\n",
              "</style>\n",
              "<table border=\"1\" class=\"dataframe\">\n",
              "  <thead>\n",
              "    <tr style=\"text-align: right;\">\n",
              "      <th></th>\n",
              "      <th>MRNO</th>\n",
              "      <th>AGE</th>\n",
              "      <th>GENDER</th>\n",
              "      <th>DISTRICT</th>\n",
              "      <th>TEHSIL</th>\n",
              "      <th>REPORT_VERIFIED</th>\n",
              "      <th>CPT_ID</th>\n",
              "      <th>RESULT_VALUE</th>\n",
              "      <th>CPT_ID.1</th>\n",
              "      <th>RESULT_TEXT</th>\n",
              "    </tr>\n",
              "  </thead>\n",
              "  <tbody>\n",
              "    <tr>\n",
              "      <th>1</th>\n",
              "      <td>10373.0</td>\n",
              "      <td>41.0</td>\n",
              "      <td>1.0</td>\n",
              "      <td>0.0</td>\n",
              "      <td>1.0</td>\n",
              "      <td>21463.0</td>\n",
              "      <td>1.000000e+15</td>\n",
              "      <td>1.0</td>\n",
              "      <td>1.000000e+15</td>\n",
              "      <td>0.0</td>\n",
              "    </tr>\n",
              "    <tr>\n",
              "      <th>2</th>\n",
              "      <td>10373.0</td>\n",
              "      <td>41.0</td>\n",
              "      <td>1.0</td>\n",
              "      <td>0.0</td>\n",
              "      <td>1.0</td>\n",
              "      <td>21462.0</td>\n",
              "      <td>1.000000e+15</td>\n",
              "      <td>1.0</td>\n",
              "      <td>1.000000e+15</td>\n",
              "      <td>0.0</td>\n",
              "    </tr>\n",
              "    <tr>\n",
              "      <th>3</th>\n",
              "      <td>10312.0</td>\n",
              "      <td>23.0</td>\n",
              "      <td>1.0</td>\n",
              "      <td>0.0</td>\n",
              "      <td>1.0</td>\n",
              "      <td>10809.0</td>\n",
              "      <td>1.000000e+15</td>\n",
              "      <td>1.0</td>\n",
              "      <td>1.000000e+15</td>\n",
              "      <td>0.0</td>\n",
              "    </tr>\n",
              "    <tr>\n",
              "      <th>4</th>\n",
              "      <td>10313.0</td>\n",
              "      <td>40.0</td>\n",
              "      <td>1.0</td>\n",
              "      <td>0.0</td>\n",
              "      <td>1.0</td>\n",
              "      <td>12521.0</td>\n",
              "      <td>1.000000e+15</td>\n",
              "      <td>1.0</td>\n",
              "      <td>1.000000e+15</td>\n",
              "      <td>0.0</td>\n",
              "    </tr>\n",
              "    <tr>\n",
              "      <th>5</th>\n",
              "      <td>10315.0</td>\n",
              "      <td>26.0</td>\n",
              "      <td>0.0</td>\n",
              "      <td>0.0</td>\n",
              "      <td>1.0</td>\n",
              "      <td>2063.0</td>\n",
              "      <td>1.000000e+15</td>\n",
              "      <td>1.0</td>\n",
              "      <td>1.000000e+15</td>\n",
              "      <td>0.0</td>\n",
              "    </tr>\n",
              "    <tr>\n",
              "      <th>...</th>\n",
              "      <td>...</td>\n",
              "      <td>...</td>\n",
              "      <td>...</td>\n",
              "      <td>...</td>\n",
              "      <td>...</td>\n",
              "      <td>...</td>\n",
              "      <td>...</td>\n",
              "      <td>...</td>\n",
              "      <td>...</td>\n",
              "      <td>...</td>\n",
              "    </tr>\n",
              "    <tr>\n",
              "      <th>12343</th>\n",
              "      <td>3001.0</td>\n",
              "      <td>65.0</td>\n",
              "      <td>0.0</td>\n",
              "      <td>0.0</td>\n",
              "      <td>1.0</td>\n",
              "      <td>3669.0</td>\n",
              "      <td>1.000000e+15</td>\n",
              "      <td>1.0</td>\n",
              "      <td>1.000000e+15</td>\n",
              "      <td>1.0</td>\n",
              "    </tr>\n",
              "    <tr>\n",
              "      <th>15056</th>\n",
              "      <td>2531.0</td>\n",
              "      <td>29.0</td>\n",
              "      <td>0.0</td>\n",
              "      <td>0.0</td>\n",
              "      <td>1.0</td>\n",
              "      <td>19534.0</td>\n",
              "      <td>1.000000e+15</td>\n",
              "      <td>1.0</td>\n",
              "      <td>1.000000e+15</td>\n",
              "      <td>1.0</td>\n",
              "    </tr>\n",
              "    <tr>\n",
              "      <th>13513</th>\n",
              "      <td>7286.0</td>\n",
              "      <td>84.0</td>\n",
              "      <td>1.0</td>\n",
              "      <td>0.0</td>\n",
              "      <td>1.0</td>\n",
              "      <td>8439.0</td>\n",
              "      <td>1.000000e+15</td>\n",
              "      <td>1.0</td>\n",
              "      <td>1.000000e+15</td>\n",
              "      <td>1.0</td>\n",
              "    </tr>\n",
              "    <tr>\n",
              "      <th>8974</th>\n",
              "      <td>744.0</td>\n",
              "      <td>9.0</td>\n",
              "      <td>1.0</td>\n",
              "      <td>0.0</td>\n",
              "      <td>1.0</td>\n",
              "      <td>10606.0</td>\n",
              "      <td>1.000000e+15</td>\n",
              "      <td>1.0</td>\n",
              "      <td>1.000000e+15</td>\n",
              "      <td>1.0</td>\n",
              "    </tr>\n",
              "    <tr>\n",
              "      <th>18480</th>\n",
              "      <td>4737.0</td>\n",
              "      <td>20.0</td>\n",
              "      <td>1.0</td>\n",
              "      <td>0.0</td>\n",
              "      <td>1.0</td>\n",
              "      <td>12356.0</td>\n",
              "      <td>1.000000e+15</td>\n",
              "      <td>1.0</td>\n",
              "      <td>1.000000e+15</td>\n",
              "      <td>1.0</td>\n",
              "    </tr>\n",
              "  </tbody>\n",
              "</table>\n",
              "<p>34554 rows × 10 columns</p>\n",
              "</div>"
            ],
            "text/plain": [
              "          MRNO   AGE  GENDER  ...  RESULT_VALUE      CPT_ID.1  RESULT_TEXT\n",
              "1      10373.0  41.0     1.0  ...           1.0  1.000000e+15          0.0\n",
              "2      10373.0  41.0     1.0  ...           1.0  1.000000e+15          0.0\n",
              "3      10312.0  23.0     1.0  ...           1.0  1.000000e+15          0.0\n",
              "4      10313.0  40.0     1.0  ...           1.0  1.000000e+15          0.0\n",
              "5      10315.0  26.0     0.0  ...           1.0  1.000000e+15          0.0\n",
              "...        ...   ...     ...  ...           ...           ...          ...\n",
              "12343   3001.0  65.0     0.0  ...           1.0  1.000000e+15          1.0\n",
              "15056   2531.0  29.0     0.0  ...           1.0  1.000000e+15          1.0\n",
              "13513   7286.0  84.0     1.0  ...           1.0  1.000000e+15          1.0\n",
              "8974     744.0   9.0     1.0  ...           1.0  1.000000e+15          1.0\n",
              "18480   4737.0  20.0     1.0  ...           1.0  1.000000e+15          1.0\n",
              "\n",
              "[34554 rows x 10 columns]"
            ]
          },
          "metadata": {},
          "execution_count": 15
        }
      ]
    },
    {
      "cell_type": "markdown",
      "metadata": {
        "id": "YAFiOSxhxeYd"
      },
      "source": [
        "# **10- Data spliting**"
      ]
    },
    {
      "cell_type": "code",
      "metadata": {
        "id": "Vf0zg0EIxjvt"
      },
      "source": [
        "X=MiceImputed.drop('RESULT_TEXT',axis=1)"
      ],
      "execution_count": 16,
      "outputs": []
    },
    {
      "cell_type": "code",
      "metadata": {
        "id": "vlZjN0iUxwvk"
      },
      "source": [
        "y=MiceImputed[['RESULT_TEXT']]\n"
      ],
      "execution_count": 17,
      "outputs": []
    },
    {
      "cell_type": "code",
      "metadata": {
        "id": "h-eJxgVEx57E"
      },
      "source": [
        "from sklearn.model_selection import train_test_split\n",
        "X_train, X_test, y_train, y_test = train_test_split(X, y, test_size=0.30, random_state=100)"
      ],
      "execution_count": 18,
      "outputs": []
    },
    {
      "cell_type": "markdown",
      "metadata": {
        "id": "mrILa6tqxQs2"
      },
      "source": [
        "# **11- Model Training and Evaluation**"
      ]
    },
    {
      "cell_type": "markdown",
      "metadata": {
        "id": "cvDMiUrcxdQz"
      },
      "source": [
        "## **11.1-Decision Trees**"
      ]
    },
    {
      "cell_type": "markdown",
      "metadata": {
        "id": "AQ-H819ny8GQ"
      },
      "source": [
        "### **Model Training**"
      ]
    },
    {
      "cell_type": "code",
      "metadata": {
        "id": "n4d68BKRx1Tu",
        "colab": {
          "base_uri": "https://localhost:8080/"
        },
        "outputId": "84473657-1205-47f9-ee06-e958ab0b886e"
      },
      "source": [
        "from sklearn.tree import DecisionTreeClassifier\n",
        "DTC=DecisionTreeClassifier(random_state=0, max_depth=2)\n",
        "DTC_Model= DTC.fit(X_train , y_train)\n",
        "DTC_Model"
      ],
      "execution_count": 91,
      "outputs": [
        {
          "output_type": "execute_result",
          "data": {
            "text/plain": [
              "DecisionTreeClassifier(ccp_alpha=0.0, class_weight=None, criterion='gini',\n",
              "                       max_depth=2, max_features=None, max_leaf_nodes=None,\n",
              "                       min_impurity_decrease=0.0, min_impurity_split=None,\n",
              "                       min_samples_leaf=1, min_samples_split=2,\n",
              "                       min_weight_fraction_leaf=0.0, presort='deprecated',\n",
              "                       random_state=0, splitter='best')"
            ]
          },
          "metadata": {},
          "execution_count": 91
        }
      ]
    },
    {
      "cell_type": "markdown",
      "metadata": {
        "id": "hh4GSJw-1Y5a"
      },
      "source": [
        "###**Model evaluation**"
      ]
    },
    {
      "cell_type": "markdown",
      "metadata": {
        "id": "Z0QWsRpFm-kq"
      },
      "source": [
        "**Predict Class Probability**"
      ]
    },
    {
      "cell_type": "code",
      "metadata": {
        "id": "1YoNNVILnDTr",
        "colab": {
          "base_uri": "https://localhost:8080/"
        },
        "outputId": "f774c477-18b5-4266-c27d-5d8fbf32b0af"
      },
      "source": [
        "preds_proba = DTC_Model.predict_proba(X_test)\n",
        "print(\"class = \", preds_proba)"
      ],
      "execution_count": 20,
      "outputs": [
        {
          "output_type": "stream",
          "name": "stdout",
          "text": [
            "class =  [[0.53328915 0.46671085]\n",
            " [0.7675892  0.2324108 ]\n",
            " [0.53328915 0.46671085]\n",
            " ...\n",
            " [0.0722973  0.9277027 ]\n",
            " [0.53328915 0.46671085]\n",
            " [0.53328915 0.46671085]]\n"
          ]
        }
      ]
    },
    {
      "cell_type": "markdown",
      "metadata": {
        "id": "mijpI-Ej1iWT"
      },
      "source": [
        "**Accuracy**"
      ]
    },
    {
      "cell_type": "code",
      "metadata": {
        "id": "gp3SYWypykjn",
        "colab": {
          "base_uri": "https://localhost:8080/"
        },
        "outputId": "6c92d6b1-7627-4c2a-df8f-e819506685e0"
      },
      "source": [
        "y_pred_DT = DTC.predict(X_test)\n",
        "DT_Acc=DTC.score(X_test, y_test)\n",
        "print('Accuracy score= {:.4f}'.format(DTC.score(X_test, y_test)))"
      ],
      "execution_count": 21,
      "outputs": [
        {
          "output_type": "stream",
          "name": "stdout",
          "text": [
            "Accuracy score= 0.6189\n"
          ]
        }
      ]
    },
    {
      "cell_type": "markdown",
      "metadata": {
        "id": "icMHxJck3Qiq"
      },
      "source": [
        "**Confusion Matrix**"
      ]
    },
    {
      "cell_type": "code",
      "metadata": {
        "id": "9EC3IS1j3TMT"
      },
      "source": [
        "from mlxtend.plotting import plot_confusion_matrix \n",
        "from sklearn.metrics import classification_report, confusion_matrix\n",
        "print('\\n')\n",
        "print(\"confusion matrix\")\n",
        "print('\\n')\n",
        "CR=confusion_matrix(y_test, y_pred_DT)\n",
        "print(CR)\n",
        "print('\\n')\n",
        "\n",
        "fig, ax = plot_confusion_matrix(conf_mat=CR,figsize=(10, 10),\n",
        "                                show_absolute=True,\n",
        "                                show_normed=True,\n",
        "                                colorbar=True)\n",
        "plt.show()"
      ],
      "execution_count": null,
      "outputs": []
    },
    {
      "cell_type": "markdown",
      "metadata": {
        "id": "hJXgDrGO32Wg"
      },
      "source": [
        "**Precision, Recall, F1**"
      ]
    },
    {
      "cell_type": "code",
      "metadata": {
        "colab": {
          "base_uri": "https://localhost:8080/"
        },
        "id": "9eQS7l2Y347W",
        "outputId": "54e6a4c3-fa38-4f3d-d532-9f54d099ee28"
      },
      "source": [
        "print('\\n')\n",
        "print(\"Precision, Recall, F1\")\n",
        "print('\\n')\n",
        "CR=classification_report(y_test, y_pred_DT)\n",
        "print(CR)\n",
        "print('\\n')"
      ],
      "execution_count": 23,
      "outputs": [
        {
          "output_type": "stream",
          "name": "stdout",
          "text": [
            "\n",
            "\n",
            "Precision, Recall, F1\n",
            "\n",
            "\n",
            "              precision    recall  f1-score   support\n",
            "\n",
            "         0.0       0.60      0.99      0.75      5871\n",
            "         1.0       0.93      0.13      0.23      4496\n",
            "\n",
            "    accuracy                           0.62     10367\n",
            "   macro avg       0.76      0.56      0.49     10367\n",
            "weighted avg       0.74      0.62      0.52     10367\n",
            "\n",
            "\n",
            "\n"
          ]
        }
      ]
    },
    {
      "cell_type": "markdown",
      "metadata": {
        "id": "IIhEuLTP4KZj"
      },
      "source": [
        "**ROC CURVE**"
      ]
    },
    {
      "cell_type": "code",
      "metadata": {
        "colab": {
          "base_uri": "https://localhost:8080/",
          "height": 295
        },
        "id": "EUaIEaoL4NMI",
        "outputId": "3747a4a3-e0ea-4ae0-9194-1e6adb474bd2"
      },
      "source": [
        "from sklearn.metrics import roc_curve, auc\n",
        "fpr_DT, tpr_DT, thresholds = roc_curve(y_test, y_pred_DT)\n",
        "roc_auc_DT = auc(fpr_DT, tpr_DT)\n",
        "plt.figure()\n",
        "plt.plot(fpr_DT, tpr_DT, color='darkorange', lw=1, label='ROC curve (area = %0.4f)' % roc_auc_DT)\n",
        "plt.xlim([0.0, 1.0])\n",
        "plt.ylim([0.0, 1.05])\n",
        "plt.xlabel('False Positive Rate')\n",
        "plt.ylabel('True Positive Rate')\n",
        "plt.title('ROC CURVE')\n",
        "plt.legend(loc=\"lower right\")\n",
        "plt.show()"
      ],
      "execution_count": 24,
      "outputs": [
        {
          "output_type": "display_data",
          "data": {
            "image/png": "[encoded data removed]",
            "text/plain": [
              "<Figure size 432x288 with 1 Axes>"
            ]
          },
          "metadata": {
            "needs_background": "light"
          }
        }
      ]
    },
    {
      "cell_type": "markdown",
      "metadata": {
        "id": "FG82tHJ464jf"
      },
      "source": [
        "### **Model Tunning**"
      ]
    },
    {
      "cell_type": "markdown",
      "metadata": {
        "id": "kZKUpDIx7DrE"
      },
      "source": [
        "**GridSearchCV**\n",
        "\n"
      ]
    },
    {
      "cell_type": "code",
      "metadata": {
        "id": "NXVYs8LA9tnG"
      },
      "source": [
        "from sklearn.model_selection import GridSearchCV\n",
        "from sklearn.tree import DecisionTreeClassifier"
      ],
      "execution_count": 75,
      "outputs": []
    },
    {
      "cell_type": "code",
      "metadata": {
        "id": "rjAMeDEG_OgW"
      },
      "source": [
        "n_samples = 24187\n",
        "n_features = 9"
      ],
      "execution_count": 76,
      "outputs": []
    },
    {
      "cell_type": "code",
      "metadata": {
        "id": "qcFkFprk_V0J"
      },
      "source": [
        "grid = GridSearchCV(DecisionTreeClassifier(random_state=1), cv=3, n_jobs=-1, verbose=5,\n",
        "                    param_grid ={\n",
        "                    'criterion': ['gini', 'entropy'],\n",
        "                    'max_depth': [None,1,2,3,4,5,6,7],\n",
        "                    'max_features': [None, 'sqrt', 'auto', 'log2', 0.3,0.5,0.7, n_features//2, n_features//3, ],\n",
        "                    'min_samples_split': [2,0.3,0.5, n_samples//2, n_samples//3, n_samples//5],\n",
        "                    'min_samples_leaf':[1, 0.3,0.5, n_samples//2, n_samples//3, n_samples//5]},\n",
        "                    )"
      ],
      "execution_count": 77,
      "outputs": []
    },
    {
      "cell_type": "code",
      "metadata": {
        "colab": {
          "base_uri": "https://localhost:8080/"
        },
        "id": "uygI_2C7_Zui",
        "outputId": "635476dc-bf94-42e1-85db-f1396c854d17"
      },
      "source": [
        "grid.fit(X_train, y_train)"
      ],
      "execution_count": 78,
      "outputs": [
        {
          "output_type": "stream",
          "name": "stdout",
          "text": [
            "Fitting 3 folds for each of 5184 candidates, totalling 15552 fits\n"
          ]
        },
        {
          "output_type": "stream",
          "name": "stderr",
          "text": [
            "[Parallel(n_jobs=-1)]: Using backend LokyBackend with 2 concurrent workers.\n",
            "[Parallel(n_jobs=-1)]: Done  14 tasks      | elapsed:    1.4s\n",
            "[Parallel(n_jobs=-1)]: Done 682 tasks      | elapsed:    6.9s\n",
            "[Parallel(n_jobs=-1)]: Done 2122 tasks      | elapsed:   17.9s\n",
            "[Parallel(n_jobs=-1)]: Done 4138 tasks      | elapsed:   33.8s\n",
            "[Parallel(n_jobs=-1)]: Done 6730 tasks      | elapsed:   54.8s\n",
            "[Parallel(n_jobs=-1)]: Done 9898 tasks      | elapsed:  1.3min\n",
            "[Parallel(n_jobs=-1)]: Done 13642 tasks      | elapsed:  1.9min\n",
            "[Parallel(n_jobs=-1)]: Done 15552 out of 15552 | elapsed:  2.1min finished\n"
          ]
        },
        {
          "output_type": "execute_result",
          "data": {
            "text/plain": [
              "GridSearchCV(cv=3, error_score=nan,\n",
              "             estimator=DecisionTreeClassifier(ccp_alpha=0.0, class_weight=None,\n",
              "                                              criterion='gini', max_depth=None,\n",
              "                                              max_features=None,\n",
              "                                              max_leaf_nodes=None,\n",
              "                                              min_impurity_decrease=0.0,\n",
              "                                              min_impurity_split=None,\n",
              "                                              min_samples_leaf=1,\n",
              "                                              min_samples_split=2,\n",
              "                                              min_weight_fraction_leaf=0.0,\n",
              "                                              presort='deprecated',\n",
              "                                              random_state=1, splitter='best'),\n",
              "             iid='deprecated', n_jobs=-1,\n",
              "             param_grid={'criterion': ['gini', 'entropy'],\n",
              "                         'max_depth': [None, 1, 2, 3, 4, 5, 6, 7],\n",
              "                         'max_features': [None, 'sqrt', 'auto', 'log2', 0.3,\n",
              "                                          0.5, 0.7, 4, 3],\n",
              "                         'min_samples_leaf': [1, 0.3, 0.5, 12093, 8062, 4837],\n",
              "                         'min_samples_split': [2, 0.3, 0.5, 12093, 8062, 4837]},\n",
              "             pre_dispatch='2*n_jobs', refit=True, return_train_score=False,\n",
              "             scoring=None, verbose=5)"
            ]
          },
          "metadata": {},
          "execution_count": 78
        }
      ]
    },
    {
      "cell_type": "code",
      "metadata": {
        "colab": {
          "base_uri": "https://localhost:8080/"
        },
        "id": "091tLuNI_oV5",
        "outputId": "adb4f3c9-c694-412f-8501-ad01f4b8cf60"
      },
      "source": [
        "print('Train Accuracy : %.3f'%grid.best_estimator_.score(X_train, y_train))\n",
        "print('Test Accuracy : %.3f'%grid.best_estimator_.score(X_test, y_test))\n",
        "print('Best Score Through Grid Search : %.3f'%grid.best_score_)\n",
        "print('Best Parameters : ',grid.best_params_)"
      ],
      "execution_count": 89,
      "outputs": [
        {
          "output_type": "stream",
          "name": "stdout",
          "text": [
            "Train Accuracy : 1.000\n",
            "Test Accuracy : 0.999\n",
            "Best Score Through Grid Search : 0.998\n",
            "Best Parameters :  {'criterion': 'entropy', 'max_depth': None, 'max_features': 'sqrt', 'min_samples_leaf': 1, 'min_samples_split': 2}\n"
          ]
        }
      ]
    },
    {
      "cell_type": "code",
      "metadata": {
        "id": "MbZ1Mbh91xhG"
      },
      "source": [
        "y_train"
      ],
      "execution_count": null,
      "outputs": []
    },
    {
      "cell_type": "code",
      "metadata": {
        "id": "2uWOxAUl2pBr"
      },
      "source": [
        "MiceImputed"
      ],
      "execution_count": null,
      "outputs": []
    },
    {
      "cell_type": "markdown",
      "metadata": {
        "id": "50LdGlbF3Uro"
      },
      "source": [
        "### **Create DT Rules**"
      ]
    },
    {
      "cell_type": "markdown",
      "metadata": {
        "id": "JO-MVYg-06mK"
      },
      "source": [
        "**DT Rules**"
      ]
    },
    {
      "cell_type": "code",
      "metadata": {
        "id": "b_M7nqGW1W22"
      },
      "source": [
        "target = list(MiceImputed['RESULT_TEXT'].unique())\n",
        "feature_names = list(X_train.columns)"
      ],
      "execution_count": 86,
      "outputs": []
    },
    {
      "cell_type": "code",
      "metadata": {
        "id": "cchkAXDf2S8w"
      },
      "source": [
        "target"
      ],
      "execution_count": null,
      "outputs": []
    },
    {
      "cell_type": "code",
      "metadata": {
        "colab": {
          "base_uri": "https://localhost:8080/"
        },
        "id": "SY58r6nP0-iP",
        "outputId": "0d884268-6a79-4f03-da65-f39825786474"
      },
      "source": [
        "from sklearn.tree import export_text\n",
        "r = export_text(DTC_Model, feature_names=feature_names)\n",
        "print(r)"
      ],
      "execution_count": 92,
      "outputs": [
        {
          "output_type": "stream",
          "name": "stdout",
          "text": [
            "|--- TEHSIL <= 6.50\n",
            "|   |--- REPORT_VERIFIED <= 7753.50\n",
            "|   |   |--- class: 0.0\n",
            "|   |--- REPORT_VERIFIED >  7753.50\n",
            "|   |   |--- class: 0.0\n",
            "|--- TEHSIL >  6.50\n",
            "|   |--- AGE <= 24.50\n",
            "|   |   |--- class: 0.0\n",
            "|   |--- AGE >  24.50\n",
            "|   |   |--- class: 1.0\n",
            "\n"
          ]
        }
      ]
    },
    {
      "cell_type": "markdown",
      "metadata": {
        "id": "drV6g1ik31BB"
      },
      "source": [
        "### **Visualization**"
      ]
    },
    {
      "cell_type": "code",
      "metadata": {
        "id": "DkLtz_2D39rm"
      },
      "source": [
        "from sklearn import tree\n",
        "import graphviz\n",
        "dot_data = tree.export_graphviz(DTC_Model,\n",
        "                                out_file=None, \n",
        "                      feature_names=feature_names,  \n",
        "                      class_names=target,  \n",
        "                      filled=True, rounded=True)\n",
        "\n"
      ],
      "execution_count": null,
      "outputs": []
    },
    {
      "cell_type": "markdown",
      "metadata": {
        "id": "3vx30Esf5SXn"
      },
      "source": [
        "##**11.2-Random Forest**"
      ]
    },
    {
      "cell_type": "markdown",
      "metadata": {
        "id": "V4H7rQlr5f0J"
      },
      "source": [
        "### **Model training**"
      ]
    },
    {
      "cell_type": "code",
      "metadata": {
        "id": "lI88nt9O6mBu"
      },
      "source": [
        "from sklearn.ensemble import RandomForestClassifier\n"
      ],
      "execution_count": null,
      "outputs": []
    },
    {
      "cell_type": "code",
      "metadata": {
        "id": "2ppQBN5k6MSc"
      },
      "source": [
        "RF= RandomForestClassifier(n_estimators=100,max_depth=15, random_state=11,max_leaf_nodes=10)\n",
        "RF_model= RF.fit(X_train , y_train)\n",
        "RF_model"
      ],
      "execution_count": null,
      "outputs": []
    },
    {
      "cell_type": "markdown",
      "metadata": {
        "id": "oE9sadV15oAH"
      },
      "source": [
        "### **Model evaluation**"
      ]
    },
    {
      "cell_type": "markdown",
      "metadata": {
        "id": "OGCtt0wQmoEr"
      },
      "source": [
        "**Predict Class Probability**"
      ]
    },
    {
      "cell_type": "code",
      "metadata": {
        "id": "V7QUg5pHmtLk"
      },
      "source": [
        "preds_proba = RF_model.predict_proba(X_test)\n",
        "print(\"class = \", preds_proba)"
      ],
      "execution_count": null,
      "outputs": []
    },
    {
      "cell_type": "markdown",
      "metadata": {
        "id": "CexvcuI06zGx"
      },
      "source": [
        "**Accuracy**"
      ]
    },
    {
      "cell_type": "code",
      "metadata": {
        "id": "5v-Y2wME61RM"
      },
      "source": [
        "y_pred_RF = RF_model.predict(X_test)\n",
        "RF_Acc=RF_model.score(X_test, y_test)\n",
        "print('Accuracy score= {:.4f}'.format(RF_model.score(X_test, y_test)))"
      ],
      "execution_count": null,
      "outputs": []
    },
    {
      "cell_type": "markdown",
      "metadata": {
        "id": "9aJ3PsGi7hUd"
      },
      "source": [
        "**Confusion Matrix**"
      ]
    },
    {
      "cell_type": "code",
      "metadata": {
        "id": "SUuDNq0r7oQW"
      },
      "source": [
        "from mlxtend.plotting import plot_confusion_matrix \n",
        "from sklearn.metrics import classification_report, confusion_matrix"
      ],
      "execution_count": null,
      "outputs": []
    },
    {
      "cell_type": "code",
      "metadata": {
        "id": "hgAr-9iY7q7f"
      },
      "source": [
        "print('\\n')\n",
        "print(\"confusion matrix\")\n",
        "print('\\n')\n",
        "CR_RF=confusion_matrix(y_test, y_pred_RF)\n",
        "print(CR_RF)\n",
        "print('\\n')\n",
        "\n",
        "fig, ax = plot_confusion_matrix(conf_mat=CR_RF,figsize=(10, 10),\n",
        "                                show_absolute=True,\n",
        "                                show_normed=True,\n",
        "                                colorbar=True)\n",
        "plt.show()"
      ],
      "execution_count": null,
      "outputs": []
    },
    {
      "cell_type": "markdown",
      "metadata": {
        "id": "72OQegBp97ow"
      },
      "source": [
        "**Precision, Recall, F1**"
      ]
    },
    {
      "cell_type": "code",
      "metadata": {
        "colab": {
          "base_uri": "https://localhost:8080/"
        },
        "id": "G5rM8eY9-GW5",
        "outputId": "c2da5dec-7c17-46ea-8f4b-db000732acfd"
      },
      "source": [
        "print('\\n')\n",
        "print(\"Precision, Recall, F1\")\n",
        "print('\\n')\n",
        "CR_RF=classification_report(y_test, y_pred_RF)\n",
        "print(CR_RF)\n",
        "print('\\n')"
      ],
      "execution_count": null,
      "outputs": [
        {
          "output_type": "stream",
          "name": "stdout",
          "text": [
            "\n",
            "\n",
            "Precision, Recall, F1\n",
            "\n",
            "\n",
            "              precision    recall  f1-score   support\n",
            "\n",
            "         0.0       0.77      0.93      0.84      5871\n",
            "         1.0       0.87      0.63      0.73      4496\n",
            "\n",
            "    accuracy                           0.80     10367\n",
            "   macro avg       0.82      0.78      0.78     10367\n",
            "weighted avg       0.81      0.80      0.79     10367\n",
            "\n",
            "\n",
            "\n"
          ]
        }
      ]
    },
    {
      "cell_type": "markdown",
      "metadata": {
        "id": "nF6uIOME-gpi"
      },
      "source": [
        "**ROC CURVE**"
      ]
    },
    {
      "cell_type": "code",
      "metadata": {
        "id": "yjUTOsZX-tYE"
      },
      "source": [
        "from sklearn.metrics import roc_curve, auc"
      ],
      "execution_count": null,
      "outputs": []
    },
    {
      "cell_type": "code",
      "metadata": {
        "colab": {
          "base_uri": "https://localhost:8080/",
          "height": 295
        },
        "id": "hFfTN0fT-i1K",
        "outputId": "0e1aae13-5cb7-46f4-fab9-bd40c7e2cc59"
      },
      "source": [
        "fpr_RF, tpr_RF, thresholds = roc_curve(y_test, y_pred_RF)\n",
        "roc_auc_RF = auc(fpr_RF, tpr_RF)\n",
        "plt.figure()\n",
        "plt.plot(fpr_RF, tpr_RF, color='darkorange', lw=1, label='ROC curve (area = %0.4f)' % roc_auc_RF)\n",
        "plt.xlim([0.0, 1.0])\n",
        "plt.ylim([0.0, 1.05])\n",
        "plt.xlabel('False Positive Rate')\n",
        "plt.ylabel('True Positive Rate')\n",
        "plt.title('ROC CURVE')\n",
        "plt.legend(loc=\"lower right\")\n",
        "plt.show()"
      ],
      "execution_count": null,
      "outputs": [
        {
          "output_type": "display_data",
          "data": {
            "image/png": "[encoded data removed]",
            "text/plain": [
              "<Figure size 432x288 with 1 Axes>"
            ]
          },
          "metadata": {
            "needs_background": "light"
          }
        }
      ]
    },
    {
      "cell_type": "markdown",
      "metadata": {
        "id": "ou-hm7Ed-UWt"
      },
      "source": [
        "### **Model Tunning**"
      ]
    },
    {
      "cell_type": "markdown",
      "metadata": {
        "id": "Q_M5TUIU-etI"
      },
      "source": [
        "**GridSearchCV**"
      ]
    },
    {
      "cell_type": "code",
      "metadata": {
        "id": "7OeEjWzp-g8w"
      },
      "source": [
        "from sklearn.model_selection import GridSearchCV\n",
        "from sklearn.ensemble import RandomForestClassifier"
      ],
      "execution_count": null,
      "outputs": []
    },
    {
      "cell_type": "code",
      "metadata": {
        "id": "g-IeXaNU-nCA"
      },
      "source": [
        "n_samples = 24187\n",
        "n_features = 9"
      ],
      "execution_count": null,
      "outputs": []
    },
    {
      "cell_type": "code",
      "metadata": {
        "id": "pc77NjIC-qZt"
      },
      "source": [
        "params = {'n_estimators': [20,50,100],\n",
        "          'max_depth': [None, 2, 5,],\n",
        "          'min_samples_split': [2, 0.5, n_samples//2, ],\n",
        "          'min_samples_leaf': [1, 0.5, n_samples//2, ],\n",
        "          'max_features': [None, 'sqrt', 'auto', 'log2', 0.3,0.5, n_features//2, ],\n",
        "          'bootstrap':[True, False]\n",
        "         }"
      ],
      "execution_count": null,
      "outputs": []
    },
    {
      "cell_type": "code",
      "metadata": {
        "id": "F6gOv2a3-t80"
      },
      "source": [
        "rf_classifier_grid = GridSearchCV(RandomForestClassifier(random_state=1), param_grid=params, n_jobs=-1, cv=3, verbose=1)\n",
        "rf_classifier_grid.fit(X_train,y_train)"
      ],
      "execution_count": null,
      "outputs": []
    },
    {
      "cell_type": "code",
      "metadata": {
        "id": "I0WVoHkr-yWJ"
      },
      "source": [
        "print('Train Accuracy : %.3f'%rf_classifier_grid.best_estimator_.score(X_train, y_train))\n",
        "print('Test Accurqacy : %.3f'%rf_classifier_grid.best_estimator_.score(X_test, y_test))\n",
        "print('Best Accuracy Through Grid Search : %.3f'%rf_classifier_grid.best_score_)\n",
        "print('Best Parameters : ',rf_classifier_grid.best_params_)"
      ],
      "execution_count": null,
      "outputs": []
    },
    {
      "cell_type": "markdown",
      "metadata": {
        "id": "-G8zK6YcBWPA"
      },
      "source": [
        "## **11.3-SVM Support Vector Machine**"
      ]
    },
    {
      "cell_type": "markdown",
      "metadata": {
        "id": "JE2q0qt9BlKG"
      },
      "source": [
        "### **Model Training**"
      ]
    },
    {
      "cell_type": "code",
      "metadata": {
        "id": "hHAgtq6bCT9_"
      },
      "source": [
        "from sklearn.svm import LinearSVC\n",
        "from sklearn.svm import LinearSVC, SVC\n",
        "from sklearn import svm"
      ],
      "execution_count": 33,
      "outputs": []
    },
    {
      "cell_type": "code",
      "metadata": {
        "id": "m4vSiOitB_7-",
        "colab": {
          "base_uri": "https://localhost:8080/"
        },
        "outputId": "d58af72f-e010-44de-8006-673bfaa123dc"
      },
      "source": [
        "\n",
        "svc=svm.LinearSVC()\n",
        "\n",
        "SVM_Model= svc.fit(X_train , y_train)\n",
        "SVM_Model"
      ],
      "execution_count": 34,
      "outputs": [
        {
          "output_type": "execute_result",
          "data": {
            "text/plain": [
              "LinearSVC(C=1.0, class_weight=None, dual=True, fit_intercept=True,\n",
              "          intercept_scaling=1, loss='squared_hinge', max_iter=1000,\n",
              "          multi_class='ovr', penalty='l2', random_state=None, tol=0.0001,\n",
              "          verbose=0)"
            ]
          },
          "metadata": {},
          "execution_count": 34
        }
      ]
    },
    {
      "cell_type": "markdown",
      "metadata": {
        "id": "FNbSv_IaBtsW"
      },
      "source": [
        "### **Model Evaluation**"
      ]
    },
    {
      "cell_type": "markdown",
      "metadata": {
        "id": "kh-gZ95NncAF"
      },
      "source": [
        "**Predict Class Probability**"
      ]
    },
    {
      "cell_type": "code",
      "metadata": {
        "id": "gAfSNW1ynh4i",
        "colab": {
          "base_uri": "https://localhost:8080/"
        },
        "outputId": "6f56c021-f97d-4627-cee2-95413a6882ec"
      },
      "source": [
        "preds_proba = SVM_Model._predict_proba_lr(X_test)\n",
        "print(\"class = \", preds_proba)"
      ],
      "execution_count": 35,
      "outputs": [
        {
          "output_type": "stream",
          "name": "stdout",
          "text": [
            "class =  [[0.73105858 0.26894142]\n",
            " [0.73105858 0.26894142]\n",
            " [0.73105858 0.26894142]\n",
            " ...\n",
            " [0.73105858 0.26894142]\n",
            " [0.73105858 0.26894142]\n",
            " [0.73105858 0.26894142]]\n"
          ]
        }
      ]
    },
    {
      "cell_type": "markdown",
      "metadata": {
        "id": "ycbOlQf6CgOi"
      },
      "source": [
        "**Accuracy**"
      ]
    },
    {
      "cell_type": "code",
      "metadata": {
        "colab": {
          "base_uri": "https://localhost:8080/"
        },
        "id": "7P7a1-UWCisr",
        "outputId": "9f81ad83-91f9-441a-cb74-ca7d3a75d344"
      },
      "source": [
        "y_pred_SVM = SVM_Model.predict(X_test)\n",
        "SVM_Acc=SVM_Model.score(X_test, y_test)\n",
        "print('Accuracy score= {:.4f}'.format(SVM_Model.score(X_test, y_test)))"
      ],
      "execution_count": 36,
      "outputs": [
        {
          "output_type": "stream",
          "name": "stdout",
          "text": [
            "Accuracy score= 0.5663\n"
          ]
        }
      ]
    },
    {
      "cell_type": "markdown",
      "metadata": {
        "id": "xX2VPdaiDSMR"
      },
      "source": [
        "**Confusion Matrix**"
      ]
    },
    {
      "cell_type": "code",
      "metadata": {
        "id": "jJzXg1ZADRQN"
      },
      "source": [
        "from mlxtend.plotting import plot_confusion_matrix \n",
        "from sklearn.metrics import classification_report, confusion_matrix"
      ],
      "execution_count": 37,
      "outputs": []
    },
    {
      "cell_type": "code",
      "metadata": {
        "id": "AJsC7CYxDYQ5"
      },
      "source": [
        "print('\\n')\n",
        "print(\"confusion matrix\")\n",
        "print('\\n')\n",
        "CM_SVM=confusion_matrix(y_test, y_pred_SVM)\n",
        "print(CR_SVM)\n",
        "print('\\n')\n",
        "\n",
        "fig, ax = plot_confusion_matrix(conf_mat=CM_SVM,figsize=(10, 10),\n",
        "                                show_absolute=True,\n",
        "                                show_normed=True,\n",
        "                                colorbar=True)\n",
        "plt.show()"
      ],
      "execution_count": null,
      "outputs": []
    },
    {
      "cell_type": "markdown",
      "metadata": {
        "id": "Wpd6e0sEDp0p"
      },
      "source": [
        "**Precision, Recall, F1**"
      ]
    },
    {
      "cell_type": "code",
      "metadata": {
        "id": "t3SFR3tQDsKC"
      },
      "source": [
        "print('\\n')\n",
        "print(\"Precision, Recall, F1\")\n",
        "print('\\n')\n",
        "CR_SVM=classification_report(y_test, y_pred_SVM)\n",
        "print(CR_SVM)\n",
        "print('\\n')"
      ],
      "execution_count": null,
      "outputs": []
    },
    {
      "cell_type": "markdown",
      "metadata": {
        "id": "epK8Ejf7EPgm"
      },
      "source": [
        "**ROC CURVE**"
      ]
    },
    {
      "cell_type": "code",
      "metadata": {
        "id": "8qos-eWYEV-B"
      },
      "source": [
        "from sklearn.metrics import roc_curve, auc"
      ],
      "execution_count": null,
      "outputs": []
    },
    {
      "cell_type": "code",
      "metadata": {
        "id": "5nP6Ca4qEaR7"
      },
      "source": [
        "fpr_SVM, tpr_SVM, thresholds = roc_curve(y_test, y_pred_SVM)\n",
        "roc_auc_SVM = auc(fpr_SVM, tpr_SVM)\n",
        "plt.figure()\n",
        "plt.plot(fpr_SVM, tpr_SVM, color='darkorange', lw=1, label='ROC curve (area = %0.4f)' % roc_auc_SVM)\n",
        "plt.xlim([0.0, 1.0])\n",
        "plt.ylim([0.0, 1.05])\n",
        "plt.xlabel('False Positive Rate')\n",
        "plt.ylabel('True Positive Rate')\n",
        "plt.title('ROC CURVE')\n",
        "plt.legend(loc=\"lower right\")\n",
        "plt.show()"
      ],
      "execution_count": null,
      "outputs": []
    },
    {
      "cell_type": "markdown",
      "metadata": {
        "id": "tbQVVlQqAXxj"
      },
      "source": [
        "### **Model Tunning**"
      ]
    },
    {
      "cell_type": "markdown",
      "metadata": {
        "id": "QX2vfSJlAoo6"
      },
      "source": [
        "**GridSearchCV**"
      ]
    },
    {
      "cell_type": "code",
      "metadata": {
        "id": "EkdQTlPMBBYl"
      },
      "source": [
        "from sklearn.model_selection import GridSearchCV\n",
        "from sklearn.svm import LinearSVC\n",
        "from sklearn.svm import LinearSVC, SVC\n",
        "from sklearn import svm\n"
      ],
      "execution_count": 39,
      "outputs": []
    },
    {
      "cell_type": "code",
      "metadata": {
        "id": "OcjKw6azA4_P"
      },
      "source": [
        "params = {\n",
        "            'C': [0.1, 0.5, 1.0, 10.0],\n",
        "         }"
      ],
      "execution_count": 38,
      "outputs": []
    },
    {
      "cell_type": "code",
      "metadata": {
        "id": "VhojIV_iA-AI"
      },
      "source": [
        "linear_svc_classifier_grid = GridSearchCV(LinearSVC(random_state=1, max_iter=1000000), param_grid=params, n_jobs=-1, cv=5, verbose=5)\n",
        "linear_svc_classifier_grid.fit(X_train,y_train)\n"
      ],
      "execution_count": null,
      "outputs": []
    },
    {
      "cell_type": "code",
      "metadata": {
        "id": "5jIaCXWwBWy7"
      },
      "source": [
        "print('Train Accuracy : %.3f'%linear_svc_classifier_grid.best_estimator_.score(X_train, y_train))\n",
        "print('Test Accuracy : %.3f'%linear_svc_classifier_grid.best_estimator_.score(X_test, y_test))\n",
        "print('Best Accuracy Through Grid Search : %.3f'%linear_svc_classifier_grid.best_score_)\n",
        "print('Best Parameters : ',linear_svc_classifier_grid.best_params_)"
      ],
      "execution_count": null,
      "outputs": []
    },
    {
      "cell_type": "markdown",
      "metadata": {
        "id": "Bj0rrdFhPouI"
      },
      "source": [
        "## **11.4-Logistic Regression(LR)**"
      ]
    },
    {
      "cell_type": "markdown",
      "metadata": {
        "id": "iUZZImmuP8Kv"
      },
      "source": [
        "### **Model Training**"
      ]
    },
    {
      "cell_type": "code",
      "metadata": {
        "id": "qUQNAd_DQNSA"
      },
      "source": [
        "from sklearn.linear_model import LogisticRegression\n"
      ],
      "execution_count": null,
      "outputs": []
    },
    {
      "cell_type": "code",
      "metadata": {
        "id": "ukwGF7AGQEVq"
      },
      "source": [
        "LR= LogisticRegression()\n",
        "LR_Model= LR.fit(X_train , y_train)\n",
        "LR_Model"
      ],
      "execution_count": null,
      "outputs": []
    },
    {
      "cell_type": "markdown",
      "metadata": {
        "id": "59qiX7OnP1f1"
      },
      "source": [
        "### **Model Evaluation**"
      ]
    },
    {
      "cell_type": "markdown",
      "metadata": {
        "id": "mFyP4OHXmala"
      },
      "source": [
        "**Predict Class Probability**"
      ]
    },
    {
      "cell_type": "code",
      "metadata": {
        "id": "yYFIJcjYl_UX"
      },
      "source": [
        "preds_proba = LR_Model.predict_proba(X_test)\n",
        "print(\"class = \", preds_proba)"
      ],
      "execution_count": null,
      "outputs": []
    },
    {
      "cell_type": "markdown",
      "metadata": {
        "id": "ucGjBCgyQbIJ"
      },
      "source": [
        "**Accuracy**"
      ]
    },
    {
      "cell_type": "code",
      "metadata": {
        "colab": {
          "base_uri": "https://localhost:8080/"
        },
        "id": "qkKbZ-OoQdC6",
        "outputId": "0b3a138e-1063-4e65-cd6f-f6cca2d25d83"
      },
      "source": [
        "y_pred_LR = LR.predict(X_test)\n",
        "LR_Acc=LR_Model.score(X_test, y_test)\n",
        "print('Accuracy score= {:.4f}'.format(LR_Model.score(X_test, y_test)))"
      ],
      "execution_count": null,
      "outputs": [
        {
          "output_type": "stream",
          "name": "stdout",
          "text": [
            "Accuracy score= 0.5663\n"
          ]
        }
      ]
    },
    {
      "cell_type": "markdown",
      "metadata": {
        "id": "m6nHp3y4Qwed"
      },
      "source": [
        "**Confusion Matrix**"
      ]
    },
    {
      "cell_type": "code",
      "metadata": {
        "id": "f6uEm_FxQy-_"
      },
      "source": [
        "from mlxtend.plotting import plot_confusion_matrix \n",
        "from sklearn.metrics import classification_report, confusion_matrix"
      ],
      "execution_count": null,
      "outputs": []
    },
    {
      "cell_type": "code",
      "metadata": {
        "id": "4loJav7WQ99z"
      },
      "source": [
        "print('\\n')\n",
        "print(\"confusion matrix\")\n",
        "print('\\n')\n",
        "CM_LR=confusion_matrix(y_test, y_pred_LR)\n",
        "print(CR)\n",
        "print('\\n')\n",
        "\n",
        "fig, ax = plot_confusion_matrix(conf_mat=CM_LR,figsize=(10, 10),\n",
        "                                show_absolute=True,\n",
        "                                show_normed=True,\n",
        "                                colorbar=True)\n",
        "plt.show()"
      ],
      "execution_count": null,
      "outputs": []
    },
    {
      "cell_type": "markdown",
      "metadata": {
        "id": "FH6wzKVaRamv"
      },
      "source": [
        "**Precision, Recall, F1**"
      ]
    },
    {
      "cell_type": "code",
      "metadata": {
        "id": "QD0PVsaVRdM4"
      },
      "source": [
        "print('\\n')\n",
        "print(\"Precision, Recall, F1\")\n",
        "print('\\n')\n",
        "CR_LR=classification_report(y_test, y_pred_LR)\n",
        "print(CR_LR)\n",
        "print('\\n')"
      ],
      "execution_count": null,
      "outputs": []
    },
    {
      "cell_type": "markdown",
      "metadata": {
        "id": "McQ3t4c1Rp5P"
      },
      "source": [
        "**ROC CURVE**"
      ]
    },
    {
      "cell_type": "code",
      "metadata": {
        "id": "l1QiEgw-Up8E"
      },
      "source": [
        "from sklearn.metrics import roc_curve, auc"
      ],
      "execution_count": null,
      "outputs": []
    },
    {
      "cell_type": "code",
      "metadata": {
        "id": "x3kaX5aDUPfB"
      },
      "source": [
        "fpr_LR, tpr_LR, thresholds = roc_curve(y_test, y_pred_LR)\n",
        "roc_auc_LR = auc(fpr_LR, tpr_LR)\n",
        "plt.figure()\n",
        "plt.plot(fpr_LR, tpr_LR, color='darkorange', lw=1, label='ROC curve (area = %0.4f)' % roc_auc_LR)\n",
        "plt.xlim([0.0, 1.0])\n",
        "plt.ylim([0.0, 1.05])\n",
        "plt.xlabel('False Positive Rate')\n",
        "plt.ylabel('True Positive Rate')\n",
        "plt.title('ROC CURVE')\n",
        "plt.legend(loc=\"lower right\")\n",
        "plt.show()"
      ],
      "execution_count": null,
      "outputs": []
    },
    {
      "cell_type": "markdown",
      "metadata": {
        "id": "IHXlJENZBfRD"
      },
      "source": [
        "### **Model Tunning**"
      ]
    },
    {
      "cell_type": "markdown",
      "metadata": {
        "id": "ZsYUjAFTU3fR"
      },
      "source": [
        "## **11.5 KNN Algorithm**"
      ]
    },
    {
      "cell_type": "markdown",
      "metadata": {
        "id": "Shy7dxRGU_qD"
      },
      "source": [
        "### **Model Training**"
      ]
    },
    {
      "cell_type": "code",
      "metadata": {
        "colab": {
          "base_uri": "https://localhost:8080/"
        },
        "id": "mDy-ppwLXkOO",
        "outputId": "7e970eba-0bce-4523-8826-c3ea321e9ae7"
      },
      "source": [
        "from sklearn.neighbors import KNeighborsClassifier\n",
        "KNN=KNeighborsClassifier()\n",
        "KNN_Model= KNN.fit(X_train , y_train)\n",
        "KNN_Model"
      ],
      "execution_count": null,
      "outputs": [
        {
          "output_type": "execute_result",
          "data": {
            "text/plain": [
              "KNeighborsClassifier(algorithm='auto', leaf_size=30, metric='minkowski',\n",
              "                     metric_params=None, n_jobs=None, n_neighbors=5, p=2,\n",
              "                     weights='uniform')"
            ]
          },
          "metadata": {},
          "execution_count": 91
        }
      ]
    },
    {
      "cell_type": "markdown",
      "metadata": {
        "id": "nbTFmvoQVJVJ"
      },
      "source": [
        "### **Model Evaluation**"
      ]
    },
    {
      "cell_type": "markdown",
      "metadata": {
        "id": "sRRES0XMpiJh"
      },
      "source": [
        "**Predict Class Probability**"
      ]
    },
    {
      "cell_type": "code",
      "metadata": {
        "id": "rUdGWiK-pgf-"
      },
      "source": [
        "preds_proba = KNN_Model.predict_proba(X_test)\n",
        "print(\"class = \", preds_proba)"
      ],
      "execution_count": null,
      "outputs": []
    },
    {
      "cell_type": "markdown",
      "metadata": {
        "id": "qNYl8mp8Xu4l"
      },
      "source": [
        "**Accuracy**"
      ]
    },
    {
      "cell_type": "code",
      "metadata": {
        "colab": {
          "base_uri": "https://localhost:8080/"
        },
        "id": "zKcYBYaFXzVt",
        "outputId": "569af88f-07fa-4a4d-c164-7816afddbb7e"
      },
      "source": [
        "y_pred_KNN = KNN.predict(X_test)\n",
        "KNN_Acc=KNN_Model.score(X_test, y_test)\n",
        "print('Accuracy score= {:.4f}'.format(KNN_Model.score(X_test, y_test)))"
      ],
      "execution_count": null,
      "outputs": [
        {
          "output_type": "stream",
          "name": "stdout",
          "text": [
            "Accuracy score= 0.9882\n"
          ]
        }
      ]
    },
    {
      "cell_type": "markdown",
      "metadata": {
        "id": "Omazc3k2YI11"
      },
      "source": [
        "**Confusion Matrix**"
      ]
    },
    {
      "cell_type": "code",
      "metadata": {
        "id": "RpRtEX32YpS6"
      },
      "source": [
        "from mlxtend.plotting import plot_confusion_matrix \n",
        "from sklearn.metrics import classification_report, confusion_matrix"
      ],
      "execution_count": null,
      "outputs": []
    },
    {
      "cell_type": "code",
      "metadata": {
        "id": "OGmWPxq_YM14"
      },
      "source": [
        "print('\\n')\n",
        "print(\"confusion matrix\")\n",
        "print('\\n')\n",
        "CM_KNN=confusion_matrix(y_test, y_pred_KNN)\n",
        "print(CM_KNN)\n",
        "print('\\n')\n",
        "\n",
        "fig, ax = plot_confusion_matrix(conf_mat=CM_KNN,figsize=(10, 10),\n",
        "                                show_absolute=True,\n",
        "                                show_normed=True,\n",
        "                                colorbar=True)\n",
        "plt.show()"
      ],
      "execution_count": null,
      "outputs": []
    },
    {
      "cell_type": "markdown",
      "metadata": {
        "id": "Kp999eVUYtss"
      },
      "source": [
        "**Precision, Recall, F1**"
      ]
    },
    {
      "cell_type": "code",
      "metadata": {
        "id": "4h7ZZHY7Yy5_"
      },
      "source": [
        "print('\\n')\n",
        "print(\"Precision, Recall, F1\")\n",
        "print('\\n')\n",
        "CM_KNN=classification_report(y_test, y_pred_KNN)\n",
        "print(CM_KNN)\n",
        "print('\\n')"
      ],
      "execution_count": null,
      "outputs": []
    },
    {
      "cell_type": "markdown",
      "metadata": {
        "id": "p0f5Mr_zZFtL"
      },
      "source": [
        "**ROC CURVE**"
      ]
    },
    {
      "cell_type": "code",
      "metadata": {
        "id": "-3YeRiVXZLGR"
      },
      "source": [
        "from sklearn.metrics import roc_curve, auc"
      ],
      "execution_count": null,
      "outputs": []
    },
    {
      "cell_type": "code",
      "metadata": {
        "id": "uLlsoi21ZRiE"
      },
      "source": [
        "fpr_KNN, tpr_KNN, thresholds = roc_curve(y_test, y_pred_KNN)\n",
        "roc_auc_KNN = auc(fpr_KNN, tpr_KNN)\n",
        "plt.figure()\n",
        "plt.plot(fpr_KNN, tpr_KNN, color='darkorange', lw=1, label='ROC curve (area = %0.4f)' % roc_auc_KNN)\n",
        "plt.xlim([0.0, 1.0])\n",
        "plt.ylim([0.0, 1.05])\n",
        "plt.xlabel('False Positive Rate')\n",
        "plt.ylabel('True Positive Rate')\n",
        "plt.title('ROC CURVE')\n",
        "plt.legend(loc=\"lower right\")\n",
        "plt.show()"
      ],
      "execution_count": null,
      "outputs": []
    },
    {
      "cell_type": "markdown",
      "metadata": {
        "id": "8XNBx3s2tWbM"
      },
      "source": [
        "### **Model tunning**"
      ]
    },
    {
      "cell_type": "markdown",
      "metadata": {
        "id": "8xmvmnC-tgUq"
      },
      "source": [
        "**GridSearchCV**"
      ]
    },
    {
      "cell_type": "code",
      "metadata": {
        "id": "Rbn29LYKtcWv"
      },
      "source": [
        "from sklearn.model_selection import GridSearchCV\n",
        "from sklearn.neighbors import KNeighborsClassifier\n",
        "knn = KNeighborsClassifier()"
      ],
      "execution_count": 69,
      "outputs": []
    },
    {
      "cell_type": "code",
      "metadata": {
        "id": "Mhv6hi05uOG8"
      },
      "source": [
        "k_range = list(range(1, 31))\n",
        "param_grid = dict(n_neighbors=k_range)"
      ],
      "execution_count": 70,
      "outputs": []
    },
    {
      "cell_type": "code",
      "metadata": {
        "id": "T_iFoRO2uXzU"
      },
      "source": [
        "# defining parameter range\n",
        "grid = GridSearchCV(knn, param_grid, cv=10, scoring='accuracy', return_train_score=False,verbose=1)"
      ],
      "execution_count": 71,
      "outputs": []
    },
    {
      "cell_type": "code",
      "metadata": {
        "colab": {
          "base_uri": "https://localhost:8080/"
        },
        "id": "uhNHrUBBub4Q",
        "outputId": "4b6b1ec7-4b1c-4e9f-a7ac-f6b3bbfd9be4"
      },
      "source": [
        "# fitting the model for grid search\n",
        "grid_search=grid.fit(X_train, y_train)"
      ],
      "execution_count": 72,
      "outputs": [
        {
          "output_type": "stream",
          "name": "stdout",
          "text": [
            "Fitting 10 folds for each of 30 candidates, totalling 300 fits\n"
          ]
        },
        {
          "output_type": "stream",
          "name": "stderr",
          "text": [
            "[Parallel(n_jobs=1)]: Using backend SequentialBackend with 1 concurrent workers.\n",
            "[Parallel(n_jobs=1)]: Done 300 out of 300 | elapsed:   39.2s finished\n"
          ]
        }
      ]
    },
    {
      "cell_type": "code",
      "metadata": {
        "id": "QMq1dNaxukTX"
      },
      "source": [
        "print('Train Accuracy : %.3f'%grid_search.score(X_train, y_train))\n",
        "print('Test Accurqacy : %.3f'%grid_search.score(X_test, y_test))\n",
        "print('Best Accuracy Through Grid Search : %.3f'%grid_search.best_score_)\n",
        "print('Best Parameters : ',grid_search.best_params_)"
      ],
      "execution_count": null,
      "outputs": []
    },
    {
      "cell_type": "markdown",
      "metadata": {
        "id": "lIgIc16pV_Nk"
      },
      "source": [
        "## **11.6-Naive Bayes (NB)**"
      ]
    },
    {
      "cell_type": "markdown",
      "metadata": {
        "id": "VwN4sB34WFuH"
      },
      "source": [
        "### **Modle Training**"
      ]
    },
    {
      "cell_type": "code",
      "metadata": {
        "id": "bhFF8en_Wjz9"
      },
      "source": [
        "from sklearn.naive_bayes import GaussianNB\n",
        "from sklearn.naive_bayes import MultinomialNB"
      ],
      "execution_count": 62,
      "outputs": []
    },
    {
      "cell_type": "code",
      "metadata": {
        "colab": {
          "base_uri": "https://localhost:8080/"
        },
        "id": "X-bCXvQlWa4j",
        "outputId": "8fb6e3ef-5639-4253-d491-6bfb11331660"
      },
      "source": [
        "\n",
        "NB = GaussianNB()\n",
        "NB_Model= NB.fit(X_train , y_train)\n",
        "NB_Model"
      ],
      "execution_count": null,
      "outputs": [
        {
          "output_type": "execute_result",
          "data": {
            "text/plain": [
              "GaussianNB(priors=None, var_smoothing=1e-09)"
            ]
          },
          "metadata": {},
          "execution_count": 94
        }
      ]
    },
    {
      "cell_type": "markdown",
      "metadata": {
        "id": "V8wS_GOoWL73"
      },
      "source": [
        "### **Model Evaluation**"
      ]
    },
    {
      "cell_type": "markdown",
      "metadata": {
        "id": "QvRhYZ7cp_e5"
      },
      "source": [
        "**Predict Class Probability**"
      ]
    },
    {
      "cell_type": "code",
      "metadata": {
        "id": "mJ-A_AdiqEaw"
      },
      "source": [
        "preds_proba = NB_Model.predict_proba(X_test)\n",
        "print(\"class = \", preds_proba)"
      ],
      "execution_count": null,
      "outputs": []
    },
    {
      "cell_type": "markdown",
      "metadata": {
        "id": "ZzYxuldXW3Zu"
      },
      "source": [
        "**Accuracy**"
      ]
    },
    {
      "cell_type": "code",
      "metadata": {
        "colab": {
          "base_uri": "https://localhost:8080/"
        },
        "id": "Zp4krWR0XCZq",
        "outputId": "83a5d2a0-770b-4994-91c7-b0e41719f25d"
      },
      "source": [
        "y_pred_NB = NB_Model.predict(X_test)\n",
        "NB_Acc=NB_Model.score(X_test, y_test)\n",
        "print('Accuracy score= {:.4f}'.format(NB_Model.score(X_test, y_test)))"
      ],
      "execution_count": null,
      "outputs": [
        {
          "output_type": "stream",
          "name": "stdout",
          "text": [
            "Accuracy score= 0.4337\n"
          ]
        }
      ]
    },
    {
      "cell_type": "markdown",
      "metadata": {
        "id": "weJpHY7gXWz9"
      },
      "source": [
        "**Confusion Matrix**"
      ]
    },
    {
      "cell_type": "code",
      "metadata": {
        "id": "1AbVDHNrXZPw"
      },
      "source": [
        "from mlxtend.plotting import plot_confusion_matrix \n",
        "from sklearn.metrics import classification_report, confusion_matrix"
      ],
      "execution_count": null,
      "outputs": []
    },
    {
      "cell_type": "code",
      "metadata": {
        "id": "40CZvshYXnFb"
      },
      "source": [
        "print('\\n')\n",
        "print(\"confusion matrix\")\n",
        "print('\\n')\n",
        "CM_NB=confusion_matrix(y_test, y_pred_NB)\n",
        "print(CM_NB)\n",
        "print('\\n')\n",
        "\n",
        "fig, ax = plot_confusion_matrix(conf_mat=CM_NB,figsize=(10, 10),\n",
        "                                show_absolute=True,\n",
        "                                show_normed=True,\n",
        "                                colorbar=True)\n",
        "plt.show()"
      ],
      "execution_count": null,
      "outputs": []
    },
    {
      "cell_type": "markdown",
      "metadata": {
        "id": "GTLMV14AX5KG"
      },
      "source": [
        "**Precision, Recall, F1**"
      ]
    },
    {
      "cell_type": "code",
      "metadata": {
        "id": "oGkKiWGIX7tm"
      },
      "source": [
        "print('\\n')\n",
        "print(\"Precision, Recall, F1\")\n",
        "print('\\n')\n",
        "CM_NB=classification_report(y_test, y_pred_NB)\n",
        "print(CM_NB)\n",
        "print('\\n')"
      ],
      "execution_count": null,
      "outputs": []
    },
    {
      "cell_type": "markdown",
      "metadata": {
        "id": "alxnyNQZYYW7"
      },
      "source": [
        "**ROC CURVE**"
      ]
    },
    {
      "cell_type": "code",
      "metadata": {
        "id": "zZmVc0LmYmMH"
      },
      "source": [
        "from sklearn.metrics import roc_curve, auc\n"
      ],
      "execution_count": null,
      "outputs": []
    },
    {
      "cell_type": "code",
      "metadata": {
        "id": "ntSxlaSuYpXv"
      },
      "source": [
        "fpr_NB, tpr_NB, thresholds = roc_curve(y_test, y_pred_NB)\n",
        "roc_auc_NB = auc(fpr_NB, tpr_NB)\n",
        "plt.figure()\n",
        "plt.plot(fpr_NB, tpr_NB, color='darkorange', lw=1, label='ROC curve (area = %0.4f)' % roc_auc_NB)\n",
        "plt.xlim([0.0, 1.0])\n",
        "plt.ylim([0.0, 1.05])\n",
        "plt.xlabel('False Positive Rate')\n",
        "plt.ylabel('True Positive Rate')\n",
        "plt.title('ROC CURVE')\n",
        "plt.legend(loc=\"lower right\")\n",
        "plt.show()"
      ],
      "execution_count": null,
      "outputs": []
    },
    {
      "cell_type": "markdown",
      "metadata": {
        "id": "EWd0LbKIn6GI"
      },
      "source": [
        "### **Model tunning**"
      ]
    },
    {
      "cell_type": "markdown",
      "metadata": {
        "id": "wSuyojjXn_KP"
      },
      "source": [
        "**GridSearchCV**"
      ]
    },
    {
      "cell_type": "code",
      "metadata": {
        "id": "TK299hLVpn2h"
      },
      "source": [
        "params = {'alpha': [0.01, 0.1, 0.5, 1.0, 10.0, ],\n",
        "         }"
      ],
      "execution_count": 60,
      "outputs": []
    },
    {
      "cell_type": "code",
      "metadata": {
        "id": "PM26MuWbrDj3"
      },
      "source": [
        "from sklearn.naive_bayes import ComplementNB\n",
        "\n",
        "complement_nb = ComplementNB()"
      ],
      "execution_count": 66,
      "outputs": []
    },
    {
      "cell_type": "code",
      "metadata": {
        "colab": {
          "base_uri": "https://localhost:8080/"
        },
        "id": "fl45BzaYqt9L",
        "outputId": "1dfb12f3-f400-4680-f852-9d7c62041a98"
      },
      "source": [
        "complement_nb_grid = GridSearchCV(ComplementNB(), param_grid=params, n_jobs=-1, cv=5, verbose=5)\n",
        "complement_nb_grid.fit(X_train,y_train)"
      ],
      "execution_count": 67,
      "outputs": [
        {
          "output_type": "stream",
          "name": "stdout",
          "text": [
            "Fitting 5 folds for each of 5 candidates, totalling 25 fits\n"
          ]
        },
        {
          "output_type": "stream",
          "name": "stderr",
          "text": [
            "[Parallel(n_jobs=-1)]: Using backend LokyBackend with 2 concurrent workers.\n",
            "[Parallel(n_jobs=-1)]: Done  14 tasks      | elapsed:    1.2s\n",
            "[Parallel(n_jobs=-1)]: Done  22 out of  25 | elapsed:    1.3s remaining:    0.2s\n",
            "[Parallel(n_jobs=-1)]: Done  25 out of  25 | elapsed:    1.3s finished\n"
          ]
        },
        {
          "output_type": "execute_result",
          "data": {
            "text/plain": [
              "GridSearchCV(cv=5, error_score=nan,\n",
              "             estimator=ComplementNB(alpha=1.0, class_prior=None, fit_prior=True,\n",
              "                                    norm=False),\n",
              "             iid='deprecated', n_jobs=-1,\n",
              "             param_grid={'alpha': [0.01, 0.1, 0.5, 1.0, 10.0]},\n",
              "             pre_dispatch='2*n_jobs', refit=True, return_train_score=False,\n",
              "             scoring=None, verbose=5)"
            ]
          },
          "metadata": {},
          "execution_count": 67
        }
      ]
    },
    {
      "cell_type": "code",
      "metadata": {
        "colab": {
          "base_uri": "https://localhost:8080/"
        },
        "id": "MQt5_8zYrnDJ",
        "outputId": "f169f351-c3c0-473a-feb1-eac5fc58f9f1"
      },
      "source": [
        "print('Train Accuracy : %.3f'%complement_nb_grid.best_estimator_.score(X_train, y_train))\n",
        "print('Test Accuracy : %.3f'%complement_nb_grid.best_estimator_.score(X_test, y_test))\n",
        "print('Best Accuracy Through Grid Search : %.3f'%complement_nb_grid.best_score_)\n",
        "print('Best Parameters : ',complement_nb_grid.best_params_)"
      ],
      "execution_count": 68,
      "outputs": [
        {
          "output_type": "stream",
          "name": "stdout",
          "text": [
            "Train Accuracy : 0.526\n",
            "Test Accuracy : 0.518\n",
            "Best Accuracy Through Grid Search : 0.531\n",
            "Best Parameters :  {'alpha': 0.01}\n"
          ]
        }
      ]
    },
    {
      "cell_type": "markdown",
      "metadata": {
        "id": "OgDf1zBLZvhT"
      },
      "source": [
        "## **11.7- Deep Neural Multilayer Perceptron (MLP)**"
      ]
    },
    {
      "cell_type": "markdown",
      "metadata": {
        "id": "V_9jqOBLZ7-G"
      },
      "source": [
        "### **Model Training**"
      ]
    },
    {
      "cell_type": "code",
      "metadata": {
        "id": "sDop5miFaPQ-",
        "colab": {
          "base_uri": "https://localhost:8080/"
        },
        "outputId": "bd9691a9-a5b0-48a7-c997-ccee39de706a"
      },
      "source": [
        "from sklearn.neural_network import MLPClassifier\n",
        "NN=MLPClassifier()\n",
        "NN_Model= NN.fit(X_train , y_train)\n",
        "NN_Model"
      ],
      "execution_count": 41,
      "outputs": [
        {
          "output_type": "execute_result",
          "data": {
            "text/plain": [
              "MLPClassifier(activation='relu', alpha=0.0001, batch_size='auto', beta_1=0.9,\n",
              "              beta_2=0.999, early_stopping=False, epsilon=1e-08,\n",
              "              hidden_layer_sizes=(100,), learning_rate='constant',\n",
              "              learning_rate_init=0.001, max_fun=15000, max_iter=200,\n",
              "              momentum=0.9, n_iter_no_change=10, nesterovs_momentum=True,\n",
              "              power_t=0.5, random_state=None, shuffle=True, solver='adam',\n",
              "              tol=0.0001, validation_fraction=0.1, verbose=False,\n",
              "              warm_start=False)"
            ]
          },
          "metadata": {},
          "execution_count": 41
        }
      ]
    },
    {
      "cell_type": "markdown",
      "metadata": {
        "id": "qP9-J8a6aCtg"
      },
      "source": [
        "### **Model Evulation**"
      ]
    },
    {
      "cell_type": "markdown",
      "metadata": {
        "id": "NWqEOhEPqVEu"
      },
      "source": [
        "**Predict Class Probability**"
      ]
    },
    {
      "cell_type": "code",
      "metadata": {
        "id": "DwD4sJguqkAl",
        "colab": {
          "base_uri": "https://localhost:8080/"
        },
        "outputId": "a7ce04d6-b2b2-4c96-e70c-ca0e091e6fc5"
      },
      "source": [
        "preds_proba = NN_Model.predict_proba(X_test)\n",
        "print(\"class = \", preds_proba)"
      ],
      "execution_count": 42,
      "outputs": [
        {
          "output_type": "stream",
          "name": "stdout",
          "text": [
            "class =  [[0. 1.]\n",
            " [0. 1.]\n",
            " [0. 1.]\n",
            " ...\n",
            " [0. 1.]\n",
            " [0. 1.]\n",
            " [0. 1.]]\n"
          ]
        }
      ]
    },
    {
      "cell_type": "markdown",
      "metadata": {
        "id": "faJ6mLn7atH9"
      },
      "source": [
        "**Accuracy**"
      ]
    },
    {
      "cell_type": "code",
      "metadata": {
        "colab": {
          "base_uri": "https://localhost:8080/"
        },
        "id": "M4l_ttolazFX",
        "outputId": "c526f40f-66a6-41d6-dc07-6c8ac01cbeeb"
      },
      "source": [
        "y_pred_NN = NN.predict(X_test)\n",
        "NN_Acc=NN_Model.score(X_test, y_test)\n",
        "print('Accuracy score= {:.4f}'.format(NN_Model.score(X_test, y_test)))"
      ],
      "execution_count": 43,
      "outputs": [
        {
          "output_type": "stream",
          "name": "stdout",
          "text": [
            "Accuracy score= 0.4337\n"
          ]
        }
      ]
    },
    {
      "cell_type": "markdown",
      "metadata": {
        "id": "wReW3EkMbAXc"
      },
      "source": [
        "**Confusion Matrix**"
      ]
    },
    {
      "cell_type": "code",
      "metadata": {
        "id": "3a7XRiF5bDJd"
      },
      "source": [
        "from mlxtend.plotting import plot_confusion_matrix \n",
        "from sklearn.metrics import classification_report, confusion_matrix"
      ],
      "execution_count": null,
      "outputs": []
    },
    {
      "cell_type": "code",
      "metadata": {
        "id": "rYR-syJcbJlG"
      },
      "source": [
        "print('\\n')\n",
        "print(\"confusion matrix\")\n",
        "print('\\n')\n",
        "CM_NN=confusion_matrix(y_test, y_pred_NN)\n",
        "print(CM_NN)\n",
        "print('\\n')\n",
        "\n",
        "fig, ax = plot_confusion_matrix(conf_mat=CM_NN,figsize=(10, 10),\n",
        "                                show_absolute=True,\n",
        "                                show_normed=True,\n",
        "                                colorbar=True)\n",
        "plt.show()"
      ],
      "execution_count": null,
      "outputs": []
    },
    {
      "cell_type": "markdown",
      "metadata": {
        "id": "5TyXGiiFbUKv"
      },
      "source": [
        "**Precision, Recall, F1**"
      ]
    },
    {
      "cell_type": "code",
      "metadata": {
        "colab": {
          "base_uri": "https://localhost:8080/"
        },
        "id": "DhVYGCnVbXAD",
        "outputId": "fef0ebbd-1c33-4adb-f6e3-97a192d5a0b6"
      },
      "source": [
        "print('\\n')\n",
        "print(\"Precision, Recall, F1\")\n",
        "print('\\n')\n",
        "CM_NN=classification_report(y_test, y_pred_NN)\n",
        "print(CM_NN)\n",
        "print('\\n')"
      ],
      "execution_count": null,
      "outputs": [
        {
          "output_type": "stream",
          "name": "stdout",
          "text": [
            "\n",
            "\n",
            "Precision, Recall, F1\n",
            "\n",
            "\n",
            "              precision    recall  f1-score   support\n",
            "\n",
            "         0.0       0.00      0.00      0.00      5871\n",
            "         1.0       0.43      1.00      0.60      4496\n",
            "\n",
            "    accuracy                           0.43     10367\n",
            "   macro avg       0.22      0.50      0.30     10367\n",
            "weighted avg       0.19      0.43      0.26     10367\n",
            "\n",
            "\n",
            "\n"
          ]
        }
      ]
    },
    {
      "cell_type": "markdown",
      "metadata": {
        "id": "HSSC24ilbf2_"
      },
      "source": [
        "**ROC CURVE**"
      ]
    },
    {
      "cell_type": "code",
      "metadata": {
        "id": "Ok428htfboHM"
      },
      "source": [
        "from sklearn.metrics import roc_curve, auc"
      ],
      "execution_count": null,
      "outputs": []
    },
    {
      "cell_type": "code",
      "metadata": {
        "id": "2ArYIEeebtmK"
      },
      "source": [
        "fpr_NN, tpr_NN, thresholds = roc_curve(y_test, y_pred_NN)\n",
        "roc_auc_NN = auc(fpr_NN, tpr_NN)\n",
        "plt.figure()\n",
        "plt.plot(fpr_NN, tpr_NN, color='darkorange', lw=1, label='ROC curve (area = %0.4f)' % roc_auc_NN)\n",
        "plt.xlim([0.0, 1.0])\n",
        "plt.ylim([0.0, 1.05])\n",
        "plt.xlabel('False Positive Rate')\n",
        "plt.ylabel('True Positive Rate')\n",
        "plt.title('ROC CURVE')\n",
        "plt.legend(loc=\"lower right\")\n",
        "plt.show()"
      ],
      "execution_count": null,
      "outputs": []
    },
    {
      "cell_type": "markdown",
      "metadata": {
        "id": "dapbG6n7C2n7"
      },
      "source": [
        "### **Model Tunning**"
      ]
    },
    {
      "cell_type": "markdown",
      "metadata": {
        "id": "iT3QIcg_C-52"
      },
      "source": [
        "**GridSearchCV**"
      ]
    },
    {
      "cell_type": "code",
      "metadata": {
        "id": "LOcABTXTDP5n"
      },
      "source": [
        "from sklearn.model_selection import GridSearchCV"
      ],
      "execution_count": 44,
      "outputs": []
    },
    {
      "cell_type": "code",
      "metadata": {
        "id": "JYtIVsY2DRov"
      },
      "source": [
        "params = {'activation': ['relu', 'tanh', 'logistic', 'identity'],\n",
        "          'hidden_layer_sizes': [(100,), (50,100,), (50,75,100,)],\n",
        "          'solver': ['adam', 'sgd', 'lbfgs'],\n",
        "          'learning_rate' : ['constant', 'adaptive', 'invscaling']}"
      ],
      "execution_count": 47,
      "outputs": []
    },
    {
      "cell_type": "code",
      "metadata": {
        "id": "oMbhJHkGDYL5"
      },
      "source": [
        "mlp_classif_grid = GridSearchCV(MLPClassifier(random_state=123), param_grid=params, n_jobs=-1, cv=5, verbose=5)\n",
        "mlp_classif_grid.fit(X_train,y_train)"
      ],
      "execution_count": null,
      "outputs": []
    },
    {
      "cell_type": "code",
      "metadata": {
        "id": "9YNgVzjZDa8X"
      },
      "source": [
        "print('Train Accuracy : %.3f'%mlp_classif_grid.best_estimator_.score(X_train, y_train))\n",
        "print('Test Accuracy : %.3f'%mlp_classif_grid.best_estimator_.score(X_test, y_test))\n",
        "print('Best Accuracy Through Grid Search : %.3f'%mlp_classif_grid.best_score_)\n",
        "print('Best Parameters : ',mlp_classif_grid.best_params_)"
      ],
      "execution_count": null,
      "outputs": []
    },
    {
      "cell_type": "markdown",
      "metadata": {
        "id": "Mi0fJBJIdG-A"
      },
      "source": [
        "## **11.8- XGBoost or Gradient Boosting (GB)**"
      ]
    },
    {
      "cell_type": "markdown",
      "metadata": {
        "id": "GB1Jh9VldVSN"
      },
      "source": [
        "### **Model Training**"
      ]
    },
    {
      "cell_type": "code",
      "metadata": {
        "id": "wSV9Tmi6eHAh"
      },
      "source": [
        "from xgboost import XGBClassifier\n",
        "GB=XGBClassifier()\n",
        "GB_Model= GB.fit(X_train , y_train)\n",
        "GB_Model"
      ],
      "execution_count": null,
      "outputs": []
    },
    {
      "cell_type": "markdown",
      "metadata": {
        "id": "vAuTy7qodb-h"
      },
      "source": [
        "### **Model Evaluation**"
      ]
    },
    {
      "cell_type": "markdown",
      "metadata": {
        "id": "0JR_ncnBqzOI"
      },
      "source": [
        "**Predict Class Probability**"
      ]
    },
    {
      "cell_type": "code",
      "metadata": {
        "id": "CCaU4GQZq3qd"
      },
      "source": [
        "preds_proba = GB_Model.predict_proba(X_test)\n",
        "print(\"class = \", preds_proba)"
      ],
      "execution_count": null,
      "outputs": []
    },
    {
      "cell_type": "markdown",
      "metadata": {
        "id": "Uiydmk6kew6S"
      },
      "source": [
        "**Accuracy**"
      ]
    },
    {
      "cell_type": "code",
      "metadata": {
        "colab": {
          "base_uri": "https://localhost:8080/"
        },
        "id": "VSVg4uZRezCV",
        "outputId": "e240128b-9e1d-46e3-ffbb-f8af86016da8"
      },
      "source": [
        "y_pred_GB = GB.predict(X_test)\n",
        "GB_Acc=GB_Model.score(X_test, y_test)\n",
        "print('Accuracy score= {:.4f}'.format(GB_Model.score(X_test, y_test)))"
      ],
      "execution_count": null,
      "outputs": [
        {
          "output_type": "stream",
          "name": "stdout",
          "text": [
            "Accuracy score= 0.9372\n"
          ]
        }
      ]
    },
    {
      "cell_type": "markdown",
      "metadata": {
        "id": "iRlwY1ODfDdN"
      },
      "source": [
        "**Confusion Matrix**"
      ]
    },
    {
      "cell_type": "code",
      "metadata": {
        "id": "M7nWuSz1fFwW"
      },
      "source": [
        "from mlxtend.plotting import plot_confusion_matrix \n",
        "from sklearn.metrics import classification_report, confusion_matrix"
      ],
      "execution_count": null,
      "outputs": []
    },
    {
      "cell_type": "code",
      "metadata": {
        "id": "KLmKly05fVpu"
      },
      "source": [
        "print('\\n')\n",
        "print(\"confusion matrix\")\n",
        "print('\\n')\n",
        "CM_GB=confusion_matrix(y_test, y_pred_GB)\n",
        "print(CM_GB)\n",
        "print('\\n')\n",
        "\n",
        "fig, ax = plot_confusion_matrix(conf_mat=CM_GB,figsize=(10, 10),\n",
        "                                show_absolute=True,\n",
        "                                show_normed=True,\n",
        "                                colorbar=True)\n",
        "plt.show()"
      ],
      "execution_count": null,
      "outputs": []
    },
    {
      "cell_type": "markdown",
      "metadata": {
        "id": "UTuT_xQPhAUJ"
      },
      "source": [
        "**Precision, Recall, F1**\n",
        "\n"
      ]
    },
    {
      "cell_type": "code",
      "metadata": {
        "id": "jVetuqIahFO1"
      },
      "source": [
        "print('\\n')\n",
        "print(\"Precision, Recall, F1\")\n",
        "print('\\n')\n",
        "CR_GB=classification_report(y_test, y_pred_GB)\n",
        "print(CR_GB)\n",
        "print('\\n')"
      ],
      "execution_count": null,
      "outputs": []
    },
    {
      "cell_type": "markdown",
      "metadata": {
        "id": "6RF5FVCfhcKn"
      },
      "source": [
        "**ROC CURVE**"
      ]
    },
    {
      "cell_type": "code",
      "metadata": {
        "id": "7ruoDZ6dhe4U"
      },
      "source": [
        "from sklearn.metrics import roc_curve, auc"
      ],
      "execution_count": null,
      "outputs": []
    },
    {
      "cell_type": "code",
      "metadata": {
        "colab": {
          "base_uri": "https://localhost:8080/",
          "height": 295
        },
        "id": "L7i0Q_ZMhkmR",
        "outputId": "28d10fb0-3269-4665-83fd-d0a7e6a3000b"
      },
      "source": [
        "fpr_GB, tpr_GB, thresholds = roc_curve(y_test, y_pred_GB)\n",
        "roc_auc_GB = auc(fpr_GB, tpr_GB)\n",
        "plt.figure()\n",
        "plt.plot(fpr_GB, tpr_GB, color='darkorange', lw=1, label='ROC curve (area = %0.4f)' % roc_auc_GB)\n",
        "plt.xlim([0.0, 1.0])\n",
        "plt.ylim([0.0, 1.05])\n",
        "plt.xlabel('False Positive Rate')\n",
        "plt.ylabel('True Positive Rate')\n",
        "plt.title('ROC CURVE')\n",
        "plt.legend(loc=\"lower right\")\n",
        "plt.show()"
      ],
      "execution_count": null,
      "outputs": [
        {
          "output_type": "display_data",
          "data": {
            "image/png": "[encoded data removed]",
            "text/plain": [
              "<Figure size 432x288 with 1 Axes>"
            ]
          },
          "metadata": {
            "needs_background": "light"
          }
        }
      ]
    },
    {
      "cell_type": "markdown",
      "metadata": {
        "id": "fnDcCULmncic"
      },
      "source": [
        "### **Model tunning**"
      ]
    },
    {
      "cell_type": "markdown",
      "metadata": {
        "id": "mcEBNfkbnhIh"
      },
      "source": [
        "**GridSearchCV**"
      ]
    },
    {
      "cell_type": "code",
      "metadata": {
        "id": "l1FhfWyWmjzk"
      },
      "source": [
        "from xgboost import XGBClassifier\n",
        "from sklearn.model_selection import GridSearchCV"
      ],
      "execution_count": 52,
      "outputs": []
    },
    {
      "cell_type": "code",
      "metadata": {
        "id": "JY1FX4q6mpgd"
      },
      "source": [
        "estimator = XGBClassifier(\n",
        "    objective= 'binary:logistic',\n",
        "    nthread=4,\n",
        "    seed=42\n",
        ")"
      ],
      "execution_count": 53,
      "outputs": []
    },
    {
      "cell_type": "code",
      "metadata": {
        "id": "pcYne6wxmuLb"
      },
      "source": [
        "parameters = {\n",
        "    'max_depth': range (2, 10, 1),\n",
        "    'n_estimators': range(60, 220, 40),\n",
        "    'learning_rate': [0.1, 0.01, 0.05]\n",
        "}"
      ],
      "execution_count": 54,
      "outputs": []
    },
    {
      "cell_type": "code",
      "metadata": {
        "id": "gceiP9Cwm3it"
      },
      "source": [
        "grid_search = GridSearchCV(\n",
        "    estimator=estimator,\n",
        "    param_grid=parameters,\n",
        "    scoring = 'roc_auc',\n",
        "    n_jobs = 10,\n",
        "    cv = 10,\n",
        "    verbose=True\n",
        ")"
      ],
      "execution_count": 55,
      "outputs": []
    },
    {
      "cell_type": "code",
      "metadata": {
        "id": "BEiuk_Tnm7RM"
      },
      "source": [
        "grid_search.fit(X_train,y_train)\n"
      ],
      "execution_count": null,
      "outputs": []
    },
    {
      "cell_type": "code",
      "metadata": {
        "id": "-CN_rrAynGKe"
      },
      "source": [
        "print('Train Accuracy : %.3f'%grid_search.best_estimator_.score(X_train, y_train))\n",
        "print('Test Accurqacy : %.3f'%grid_search.best_estimator_.score(X_test, y_test))\n",
        "print('Best Accuracy Through Grid Search : %.3f'%grid_search.best_score_)\n",
        "print('Best Parameters : ',grid_search.best_params_)"
      ],
      "execution_count": null,
      "outputs": []
    },
    {
      "cell_type": "markdown",
      "metadata": {
        "id": "xEXwi2bnIpXZ"
      },
      "source": [
        "## 11.9 **ExtraTreeClassifier(ET)**"
      ]
    },
    {
      "cell_type": "markdown",
      "metadata": {
        "id": "NSiCATaqMplP"
      },
      "source": [
        "### **Model Training**"
      ]
    },
    {
      "cell_type": "code",
      "metadata": {
        "colab": {
          "base_uri": "https://localhost:8080/"
        },
        "id": "DsnTByPKI4nf",
        "outputId": "0d337aa3-d20e-4163-b0fc-d6b045bba427"
      },
      "source": [
        "from sklearn.tree import ExtraTreeClassifier\n",
        "ET=ExtraTreeClassifier(random_state=0, max_depth=2)\n",
        "ET_model= ET.fit(X_train , y_train)\n",
        "ET_model"
      ],
      "execution_count": null,
      "outputs": [
        {
          "output_type": "execute_result",
          "data": {
            "text/plain": [
              "ExtraTreeClassifier(ccp_alpha=0.0, class_weight=None, criterion='gini',\n",
              "                    max_depth=2, max_features='auto', max_leaf_nodes=None,\n",
              "                    min_impurity_decrease=0.0, min_impurity_split=None,\n",
              "                    min_samples_leaf=1, min_samples_split=2,\n",
              "                    min_weight_fraction_leaf=0.0, random_state=0,\n",
              "                    splitter='random')"
            ]
          },
          "metadata": {},
          "execution_count": 101
        }
      ]
    },
    {
      "cell_type": "markdown",
      "metadata": {
        "id": "W_WAlwDoI9O5"
      },
      "source": [
        "### **Model evaluation**"
      ]
    },
    {
      "cell_type": "markdown",
      "metadata": {
        "id": "8_dSAbrIrJWX"
      },
      "source": [
        "**Predict Class Probability**"
      ]
    },
    {
      "cell_type": "code",
      "metadata": {
        "id": "E5gND_o7rIje"
      },
      "source": [
        "preds_proba = ET_model.predict_proba(X_test)\n",
        "print(\"class = \", preds_proba)"
      ],
      "execution_count": null,
      "outputs": []
    },
    {
      "cell_type": "markdown",
      "metadata": {
        "id": "PedgqJguJqw1"
      },
      "source": [
        "**Accuracy**"
      ]
    },
    {
      "cell_type": "code",
      "metadata": {
        "colab": {
          "base_uri": "https://localhost:8080/"
        },
        "id": "iBtlkcC8JsyL",
        "outputId": "ff0040cc-6603-41fd-99a3-8be6a8036c25"
      },
      "source": [
        "y_pred_ET = ET_model.predict(X_test)\n",
        "ET_Acc=ET_model.score(X_test, y_test)\n",
        "print('Accuracy score= {:.4f}'.format(ET_model.score(X_test, y_test)))"
      ],
      "execution_count": null,
      "outputs": [
        {
          "output_type": "stream",
          "name": "stdout",
          "text": [
            "Accuracy score= 0.6155\n"
          ]
        }
      ]
    },
    {
      "cell_type": "markdown",
      "metadata": {
        "id": "mumIMzJDJ9cd"
      },
      "source": [
        "**Confusion Matrix**\n",
        "\n"
      ]
    },
    {
      "cell_type": "code",
      "metadata": {
        "id": "y-pqAiwhKAR4"
      },
      "source": [
        "from mlxtend.plotting import plot_confusion_matrix \n",
        "from sklearn.metrics import classification_report, confusion_matrix\n",
        "print('\\n')\n",
        "print(\"confusion matrix\")\n",
        "print('\\n')\n",
        "CM_ET=confusion_matrix(y_test, y_pred_ET)\n",
        "print(CM_ET)\n",
        "print('\\n')\n",
        "\n",
        "fig, ax = plot_confusion_matrix(conf_mat=CM_ET,figsize=(10, 10),\n",
        "                                show_absolute=True,\n",
        "                                show_normed=True,\n",
        "                                colorbar=True)"
      ],
      "execution_count": null,
      "outputs": []
    },
    {
      "cell_type": "markdown",
      "metadata": {
        "id": "jrh1UAKUKuXV"
      },
      "source": [
        "**Precision, Recall, F1**"
      ]
    },
    {
      "cell_type": "code",
      "metadata": {
        "id": "-G6DfInmKxCg"
      },
      "source": [
        "print('\\n')\n",
        "print(\"Precision, Recall, F1\")\n",
        "print('\\n')\n",
        "CR_ET=classification_report(y_test, y_pred_ET)\n",
        "print(CR_ET)\n",
        "print('\\n')"
      ],
      "execution_count": null,
      "outputs": []
    },
    {
      "cell_type": "markdown",
      "metadata": {
        "id": "zcVFjcKUK8L5"
      },
      "source": [
        "**ROC CURVE**\n",
        "\n"
      ]
    },
    {
      "cell_type": "code",
      "metadata": {
        "colab": {
          "base_uri": "https://localhost:8080/",
          "height": 295
        },
        "id": "nf3O8xKFK_F2",
        "outputId": "b4817947-0879-4c22-9ca0-4dee0468cc10"
      },
      "source": [
        "from sklearn.metrics import roc_curve, auc\n",
        "fpr_ET, tpr_ET, thresholds = roc_curve(y_test, y_pred_ET)\n",
        "roc_auc_ET = auc(fpr_ET, tpr_ET)\n",
        "plt.figure()\n",
        "plt.plot(fpr_ET, tpr_ET, color='darkorange', lw=1, label='ROC curve (area = %0.4f)' % roc_auc_ET)\n",
        "plt.xlim([0.0, 1.0])\n",
        "plt.ylim([0.0, 1.05])\n",
        "plt.xlabel('False Positive Rate')\n",
        "plt.ylabel('True Positive Rate')\n",
        "plt.title('ROC CURVE')\n",
        "plt.legend(loc=\"lower right\")\n",
        "plt.show()"
      ],
      "execution_count": null,
      "outputs": [
        {
          "output_type": "display_data",
          "data": {
            "image/png": "[encoded data removed]",
            "text/plain": [
              "<Figure size 432x288 with 1 Axes>"
            ]
          },
          "metadata": {
            "needs_background": "light"
          }
        }
      ]
    },
    {
      "cell_type": "markdown",
      "metadata": {
        "id": "KeOxLT9qJCs3"
      },
      "source": [
        "### **Model tunning**"
      ]
    },
    {
      "cell_type": "markdown",
      "metadata": {
        "id": "FvXPXwy8Lvy4"
      },
      "source": [
        "**Grid Search**"
      ]
    },
    {
      "cell_type": "code",
      "metadata": {
        "id": "_ZoX7j-FVOb1"
      },
      "source": [
        "import lightgbm as lgb\n",
        "from sklearn.model_selection import GridSearchCV\n",
        "from sklearn.model_selection import KFold"
      ],
      "execution_count": null,
      "outputs": []
    },
    {
      "cell_type": "code",
      "metadata": {
        "id": "0sRjZb_NLyaq"
      },
      "source": [
        "n_samples = 24187\n",
        "n_features = 9"
      ],
      "execution_count": null,
      "outputs": []
    },
    {
      "cell_type": "code",
      "metadata": {
        "id": "Z_oD7dKgMHEg"
      },
      "source": [
        "from sklearn.model_selection import GridSearchCV\n",
        "from sklearn.tree import ExtraTreeClassifier"
      ],
      "execution_count": null,
      "outputs": []
    },
    {
      "cell_type": "code",
      "metadata": {
        "id": "Wxc6hPIYMOM-"
      },
      "source": [
        "grid = GridSearchCV(ExtraTreeClassifier(random_state=1), cv=3, n_jobs=-1, verbose=5,\n",
        "                    param_grid ={\n",
        "                    'criterion': ['gini', 'entropy'],\n",
        "                    'max_depth': [None,1,2,3,4,5,6,7],\n",
        "                    'max_features': [None, 'sqrt', 'auto', 'log2', 0.3,0.5,0.7, n_features//2, n_features//3, ],\n",
        "                    'min_samples_split': [2,0.3,0.5, n_samples//2, n_samples//3, n_samples//5],\n",
        "                    'min_samples_leaf':[1, 0.3,0.5, n_samples//2, n_samples//3, n_samples//5]},\n",
        "                    )"
      ],
      "execution_count": null,
      "outputs": []
    },
    {
      "cell_type": "code",
      "metadata": {
        "colab": {
          "base_uri": "https://localhost:8080/"
        },
        "id": "pkMVNLwVMZeI",
        "outputId": "75f04170-24f7-4e7c-dceb-486e312b64da"
      },
      "source": [
        "grid.fit(X_train, y_train)\n"
      ],
      "execution_count": null,
      "outputs": [
        {
          "output_type": "stream",
          "name": "stdout",
          "text": [
            "Fitting 3 folds for each of 5184 candidates, totalling 15552 fits\n"
          ]
        },
        {
          "output_type": "stream",
          "name": "stderr",
          "text": [
            "[Parallel(n_jobs=-1)]: Using backend LokyBackend with 2 concurrent workers.\n",
            "[Parallel(n_jobs=-1)]: Done  14 tasks      | elapsed:    1.6s\n",
            "[Parallel(n_jobs=-1)]: Done 682 tasks      | elapsed:    6.9s\n",
            "[Parallel(n_jobs=-1)]: Done 2122 tasks      | elapsed:   17.9s\n",
            "[Parallel(n_jobs=-1)]: Done 4138 tasks      | elapsed:   33.5s\n",
            "[Parallel(n_jobs=-1)]: Done 6730 tasks      | elapsed:   54.5s\n",
            "[Parallel(n_jobs=-1)]: Done 9898 tasks      | elapsed:  1.3min\n",
            "[Parallel(n_jobs=-1)]: Done 13642 tasks      | elapsed:  1.8min\n",
            "[Parallel(n_jobs=-1)]: Done 15552 out of 15552 | elapsed:  2.1min finished\n"
          ]
        },
        {
          "output_type": "execute_result",
          "data": {
            "text/plain": [
              "GridSearchCV(cv=3, error_score=nan,\n",
              "             estimator=ExtraTreeClassifier(ccp_alpha=0.0, class_weight=None,\n",
              "                                           criterion='gini', max_depth=None,\n",
              "                                           max_features='auto',\n",
              "                                           max_leaf_nodes=None,\n",
              "                                           min_impurity_decrease=0.0,\n",
              "                                           min_impurity_split=None,\n",
              "                                           min_samples_leaf=1,\n",
              "                                           min_samples_split=2,\n",
              "                                           min_weight_fraction_leaf=0.0,\n",
              "                                           random_state=1, splitter='random'),\n",
              "             iid='deprecated', n_jobs=-1,\n",
              "             param_grid={'criterion': ['gini', 'entropy'],\n",
              "                         'max_depth': [None, 1, 2, 3, 4, 5, 6, 7],\n",
              "                         'max_features': [None, 'sqrt', 'auto', 'log2', 0.3,\n",
              "                                          0.5, 0.7, 4, 3],\n",
              "                         'min_samples_leaf': [1, 0.3, 0.5, 12093, 8062, 4837],\n",
              "                         'min_samples_split': [2, 0.3, 0.5, 12093, 8062, 4837]},\n",
              "             pre_dispatch='2*n_jobs', refit=True, return_train_score=False,\n",
              "             scoring=None, verbose=5)"
            ]
          },
          "metadata": {},
          "execution_count": 30
        }
      ]
    },
    {
      "cell_type": "code",
      "metadata": {
        "id": "7LYfb-nrMf06"
      },
      "source": [
        "print('Train Accuracy : %.3f'%grid.best_estimator_.score(X_train, y_train))\n",
        "print('Test Accuracy : %.3f'%grid.best_estimator_.score(X_test, y_test))\n",
        "print('Best Score Through Grid Search : %.3f'%grid.best_score_)\n",
        "print('Best Parameters : ',grid.best_params_)"
      ],
      "execution_count": null,
      "outputs": []
    },
    {
      "cell_type": "markdown",
      "metadata": {
        "id": "ZAA9SbSWNW49"
      },
      "source": [
        "## **11.10 LGBMClassifier**"
      ]
    },
    {
      "cell_type": "markdown",
      "metadata": {
        "id": "u3koLyoyQUmW"
      },
      "source": [
        "### **Model Training**"
      ]
    },
    {
      "cell_type": "code",
      "metadata": {
        "colab": {
          "base_uri": "https://localhost:8080/"
        },
        "id": "HLFAhNYdQx4w",
        "outputId": "5f26b2b7-da4b-4c50-f04b-653676d1581a"
      },
      "source": [
        "import lightgbm as lgb\n",
        "LGBM = lgb.LGBMClassifier(objective=\"binary\", n_estimators=10)\n",
        "LGBM_model= LGBM.fit(X_train , y_train)\n",
        "LGBM_model"
      ],
      "execution_count": null,
      "outputs": [
        {
          "output_type": "execute_result",
          "data": {
            "text/plain": [
              "LGBMClassifier(boosting_type='gbdt', class_weight=None, colsample_bytree=1.0,\n",
              "               importance_type='split', learning_rate=0.1, max_depth=-1,\n",
              "               min_child_samples=20, min_child_weight=0.001, min_split_gain=0.0,\n",
              "               n_estimators=10, n_jobs=-1, num_leaves=31, objective='binary',\n",
              "               random_state=None, reg_alpha=0.0, reg_lambda=0.0, silent=True,\n",
              "               subsample=1.0, subsample_for_bin=200000, subsample_freq=0)"
            ]
          },
          "metadata": {},
          "execution_count": 103
        }
      ]
    },
    {
      "cell_type": "markdown",
      "metadata": {
        "id": "bgEQVgKHQZnC"
      },
      "source": [
        "### **Model evaluation**"
      ]
    },
    {
      "cell_type": "markdown",
      "metadata": {
        "id": "X8uZahMsrx2e"
      },
      "source": [
        "**Predict Class Probability**"
      ]
    },
    {
      "cell_type": "code",
      "metadata": {
        "id": "crYmD9pQr0pS"
      },
      "source": [
        "preds_proba = LGBM_model.predict_proba(X_test)\n",
        "print(\"class = \", preds_proba)"
      ],
      "execution_count": null,
      "outputs": []
    },
    {
      "cell_type": "markdown",
      "metadata": {
        "id": "vx81iYPHSXZU"
      },
      "source": [
        "\n",
        "**Accuracy**"
      ]
    },
    {
      "cell_type": "code",
      "metadata": {
        "id": "PqzmBnupSZq1"
      },
      "source": [
        "y_pred_LGBM = LGBM_model.predict(X_test)\n",
        "LGBM_Acc=LGBM_model.score(X_test, y_test)\n",
        "print('Accuracy score= {:.4f}'.format(LGBM_model.score(X_test, y_test)))"
      ],
      "execution_count": null,
      "outputs": []
    },
    {
      "cell_type": "markdown",
      "metadata": {
        "id": "BEuKmzNPSs8H"
      },
      "source": [
        "**Confusion Matrix**\n",
        "\n"
      ]
    },
    {
      "cell_type": "code",
      "metadata": {
        "id": "BTgoaf5jSwkZ"
      },
      "source": [
        "from mlxtend.plotting import plot_confusion_matrix \n",
        "from sklearn.metrics import classification_report, confusion_matrix\n",
        "print('\\n')\n",
        "print(\"confusion matrix\")\n",
        "print('\\n')\n",
        "CM_LGBM=confusion_matrix(y_test, y_pred_LGBM)\n",
        "print(CM_LGBM)\n",
        "print('\\n')\n",
        "\n",
        "fig, ax = plot_confusion_matrix(conf_mat=CM_LGBM,figsize=(10, 10),\n",
        "                                show_absolute=True,\n",
        "                                show_normed=True,\n",
        "                                colorbar=True)\n",
        "plt.show()"
      ],
      "execution_count": null,
      "outputs": []
    },
    {
      "cell_type": "markdown",
      "metadata": {
        "id": "_4gi9BudTHtO"
      },
      "source": [
        "**Precision, Recall, F1**\n",
        "\n"
      ]
    },
    {
      "cell_type": "code",
      "metadata": {
        "id": "SKd47KujTMEr"
      },
      "source": [
        "print('\\n')\n",
        "print(\"Precision, Recall, F1\")\n",
        "print('\\n')\n",
        "CR_LGBM=classification_report(y_test, y_pred_LGBM)\n",
        "print(CR_LGBM)\n",
        "print('\\n')"
      ],
      "execution_count": null,
      "outputs": []
    },
    {
      "cell_type": "markdown",
      "metadata": {
        "id": "ro9nPRRRTaKs"
      },
      "source": [
        "**ROC CURVE**\n",
        "\n"
      ]
    },
    {
      "cell_type": "code",
      "metadata": {
        "id": "RhKbWWT0Td-G"
      },
      "source": [
        "from sklearn.metrics import roc_curve, auc\n",
        "fpr_LGBM, tpr_LGBM, thresholds = roc_curve(y_test, y_pred_LGBM)\n",
        "roc_auc_LGBM = auc(fpr_LGBM, tpr_LGBM)\n",
        "plt.figure()\n",
        "plt.plot(fpr_LGBM, tpr_LGBM, color='darkorange', lw=1, label='ROC curve (area = %0.4f)' % roc_auc_LGBM)\n",
        "plt.xlim([0.0, 1.0])\n",
        "plt.ylim([0.0, 1.05])\n",
        "plt.xlabel('False Positive Rate')\n",
        "plt.ylabel('True Positive Rate')\n",
        "plt.title('ROC CURVE')\n",
        "plt.legend(loc=\"lower right\")\n",
        "plt.show()"
      ],
      "execution_count": null,
      "outputs": []
    },
    {
      "cell_type": "markdown",
      "metadata": {
        "id": "atlTj-vbQak5"
      },
      "source": [
        "### **Model Tunning**"
      ]
    },
    {
      "cell_type": "code",
      "metadata": {
        "id": "LVMDo9KkUWuU"
      },
      "source": [
        "n_samples = 24187\n",
        "n_features = 9"
      ],
      "execution_count": null,
      "outputs": []
    },
    {
      "cell_type": "code",
      "metadata": {
        "id": "iyRjZV_tUbw1"
      },
      "source": [
        "from sklearn.model_selection import GridSearchCV\n",
        "import lightgbm as lgb"
      ],
      "execution_count": null,
      "outputs": []
    },
    {
      "cell_type": "code",
      "metadata": {
        "id": "uGaTUeonWBjb"
      },
      "source": [
        "params = {\n",
        "    'num_leaves': [31, 127],\n",
        "    'reg_alpha': [0.1, 0.5],\n",
        "    'min_data_in_leaf': [30, 50, 100, 300, 400],\n",
        "    'lambda_l1': [0, 1, 1.5],\n",
        "    'lambda_l2': [0, 1]\n",
        "    }"
      ],
      "execution_count": null,
      "outputs": []
    },
    {
      "cell_type": "code",
      "metadata": {
        "colab": {
          "base_uri": "https://localhost:8080/"
        },
        "id": "sIFFRRhCWOk9",
        "outputId": "b9d60a18-daf7-4453-a4ce-720a7ec07ad0"
      },
      "source": [
        "\n",
        "LGBM = lgb.LGBMClassifier(objective=\"binary\", n_estimators=10)\n",
        "rf_classifier_grid = GridSearchCV(estimator=LGBM, param_grid=params)\n",
        "rf_classifier_grid.fit(X_train,y_train)"
      ],
      "execution_count": null,
      "outputs": [
        {
          "output_type": "execute_result",
          "data": {
            "text/plain": [
              "GridSearchCV(cv=None, error_score=nan,\n",
              "             estimator=LGBMClassifier(boosting_type='gbdt', class_weight=None,\n",
              "                                      colsample_bytree=1.0,\n",
              "                                      importance_type='split',\n",
              "                                      learning_rate=0.1, max_depth=-1,\n",
              "                                      min_child_samples=20,\n",
              "                                      min_child_weight=0.001,\n",
              "                                      min_split_gain=0.0, n_estimators=10,\n",
              "                                      n_jobs=-1, num_leaves=31,\n",
              "                                      objective='binary', random_state=None,\n",
              "                                      reg_alpha=0.0, reg_lambda=0.0,\n",
              "                                      silent=True, subsample=1.0,\n",
              "                                      subsample_for_bin=200000,\n",
              "                                      subsample_freq=0),\n",
              "             iid='deprecated', n_jobs=None,\n",
              "             param_grid={'lambda_l1': [0, 1, 1.5], 'lambda_l2': [0, 1],\n",
              "                         'min_data_in_leaf': [30, 50, 100, 300, 400],\n",
              "                         'num_leaves': [31, 127], 'reg_alpha': [0.1, 0.5]},\n",
              "             pre_dispatch='2*n_jobs', refit=True, return_train_score=False,\n",
              "             scoring=None, verbose=0)"
            ]
          },
          "metadata": {},
          "execution_count": 45
        }
      ]
    },
    {
      "cell_type": "code",
      "metadata": {
        "id": "THJms4yiWXDJ"
      },
      "source": [
        "print('Train Accuracy : %.3f'%rf_classifier_grid.best_estimator_.score(X_train, y_train))\n",
        "print('Test Accurqacy : %.3f'%rf_classifier_grid.best_estimator_.score(X_test, y_test))\n",
        "print('Best Accuracy Through Grid Search : %.3f'%rf_classifier_grid.best_score_)\n",
        "print('Best Parameters : ',rf_classifier_grid.best_params_)"
      ],
      "execution_count": null,
      "outputs": []
    },
    {
      "cell_type": "markdown",
      "metadata": {
        "id": "4VJb8yNvZI0E"
      },
      "source": [
        "## **11.11 CatBoost**"
      ]
    },
    {
      "cell_type": "markdown",
      "metadata": {
        "id": "zdJioBKnZQWj"
      },
      "source": [
        "### **Model Training**\n"
      ]
    },
    {
      "cell_type": "code",
      "metadata": {
        "id": "Ngcn1TOShZov"
      },
      "source": [
        "! pip install catboost"
      ],
      "execution_count": null,
      "outputs": []
    },
    {
      "cell_type": "code",
      "metadata": {
        "id": "mlNmkTkkfqaN"
      },
      "source": [
        "\n",
        "from catboost import CatBoostClassifier, Pool"
      ],
      "execution_count": null,
      "outputs": []
    },
    {
      "cell_type": "code",
      "metadata": {
        "colab": {
          "base_uri": "https://localhost:8080/"
        },
        "id": "FkMCiVjRfbRj",
        "outputId": "0daf9eb3-5146-411e-b25a-3bc7a2b8c1af"
      },
      "source": [
        "\n",
        "#CTB = CatBoost(params={'iterations':100, 'verbose':10, 'loss_function':'Logloss'})\n",
        "CTB= CatBoostClassifier(iterations=2,\n",
        "                           depth=2,\n",
        "                           learning_rate=1,\n",
        "                           loss_function='Logloss',\n",
        "                           verbose=True)\n",
        "\n",
        "CTB_Model= CTB.fit(X_train , y_train)\n",
        "CTB_Model"
      ],
      "execution_count": null,
      "outputs": [
        {
          "output_type": "stream",
          "name": "stdout",
          "text": [
            "0:\tlearn: 0.6386544\ttotal: 4.57ms\tremaining: 4.57ms\n",
            "1:\tlearn: 0.5970608\ttotal: 8.37ms\tremaining: 0us\n"
          ]
        },
        {
          "output_type": "execute_result",
          "data": {
            "text/plain": [
              "<catboost.core.CatBoostClassifier at 0x7fb3fced8750>"
            ]
          },
          "metadata": {},
          "execution_count": 64
        }
      ]
    },
    {
      "cell_type": "markdown",
      "metadata": {
        "id": "U1nbNDhOZQ-9"
      },
      "source": [
        "### **Model evaluation**\n"
      ]
    },
    {
      "cell_type": "markdown",
      "metadata": {
        "id": "cNrwFk23rpm_"
      },
      "source": [
        "**Predict Class Probability**"
      ]
    },
    {
      "cell_type": "code",
      "metadata": {
        "id": "66fQTKOfjQKp"
      },
      "source": [
        "preds_class = CTB_Model.predict(X_test)\n",
        "preds_proba = CTB_Model.predict_proba(X_test)\n",
        "print(\"class = \", preds_class)\n",
        "print(\"proba = \", preds_proba)"
      ],
      "execution_count": null,
      "outputs": []
    },
    {
      "cell_type": "markdown",
      "metadata": {
        "id": "o51YvFvlgYP6"
      },
      "source": [
        "**Accuracy**\n",
        "\n"
      ]
    },
    {
      "cell_type": "code",
      "metadata": {
        "colab": {
          "base_uri": "https://localhost:8080/"
        },
        "id": "bj8qm8kRgfBF",
        "outputId": "7d9e4187-1cd8-4651-d62a-104fc11e0caa"
      },
      "source": [
        "\n",
        "y_pred_CTB = CTB_Model.predict(X_test)\n",
        "CTB_Acc=CTB_Model.score(X_test, y_test)\n",
        "print('Accuracy score= {:.4f}'.format(CTB_Model.score(X_test, y_test)))"
      ],
      "execution_count": null,
      "outputs": [
        {
          "output_type": "stream",
          "name": "stdout",
          "text": [
            "Accuracy score= 0.6515\n"
          ]
        }
      ]
    },
    {
      "cell_type": "markdown",
      "metadata": {
        "id": "hppBM8Jfgu-C"
      },
      "source": [
        "**Confusion Matrix**\n",
        "\n"
      ]
    },
    {
      "cell_type": "code",
      "metadata": {
        "id": "rTf8HbqUkG1I"
      },
      "source": [
        "from mlxtend.plotting import plot_confusion_matrix \n",
        "from sklearn.metrics import classification_report, confusion_matrix\n",
        "print('\\n')\n",
        "print(\"confusion matrix\")\n",
        "print('\\n')\n",
        "CM_CTB=confusion_matrix(y_test, y_pred_CTB)\n",
        "print(CM_CTB)\n",
        "print('\\n')\n",
        "\n",
        "fig, ax = plot_confusion_matrix(conf_mat=CM_CTB,figsize=(10, 10),\n",
        "                                show_absolute=True,\n",
        "                                show_normed=True,\n",
        "                                colorbar=True)\n",
        "plt.show()"
      ],
      "execution_count": null,
      "outputs": []
    },
    {
      "cell_type": "markdown",
      "metadata": {
        "id": "Z8uXAxZlkdD5"
      },
      "source": [
        "**Precision, Recall, F1**"
      ]
    },
    {
      "cell_type": "code",
      "metadata": {
        "id": "msUdRUlFkhra"
      },
      "source": [
        "print('\\n')\n",
        "print(\"Precision, Recall, F1\")\n",
        "print('\\n')\n",
        "CR_CTB=classification_report(y_test, y_pred_CTB)\n",
        "print(CR_CTB)\n",
        "print('\\n')"
      ],
      "execution_count": null,
      "outputs": []
    },
    {
      "cell_type": "markdown",
      "metadata": {
        "id": "4EBCg90QkxId"
      },
      "source": [
        "**ROC CURVE**\n",
        "\n"
      ]
    },
    {
      "cell_type": "code",
      "metadata": {
        "id": "nxLLdoffkwat"
      },
      "source": [
        "from sklearn.metrics import roc_curve, auc\n",
        "fpr_CTB, tpr_CTB, thresholds = roc_curve(y_test, y_pred_CTB)\n",
        "roc_auc_CTB = auc(fpr_CTB, tpr_CTB)\n",
        "plt.figure()\n",
        "plt.plot(fpr_CTB, tpr_CTB, color='darkorange', lw=1, label='ROC curve (area = %0.4f)' % roc_auc_CTB)\n",
        "plt.xlim([0.0, 1.0])\n",
        "plt.ylim([0.0, 1.05])\n",
        "plt.xlabel('False Positive Rate')\n",
        "plt.ylabel('True Positive Rate')\n",
        "plt.title('ROC CURVE')\n",
        "plt.legend(loc=\"lower right\")\n",
        "plt.show()"
      ],
      "execution_count": null,
      "outputs": []
    },
    {
      "cell_type": "markdown",
      "metadata": {
        "id": "KKdB2OBqZRfl"
      },
      "source": [
        "### **Model Tunning**"
      ]
    },
    {
      "cell_type": "markdown",
      "metadata": {
        "id": "1pAFncgeaczf"
      },
      "source": [
        "# **12-Compare Modle performance**"
      ]
    },
    {
      "cell_type": "markdown",
      "metadata": {
        "id": "8vJui__Xal2w"
      },
      "source": [
        "## **12.1-ROC Curve for Models**"
      ]
    },
    {
      "cell_type": "code",
      "metadata": {
        "id": "TBR34ZI4awOq"
      },
      "source": [
        "plt.plot(fpr_DT, tpr_DT, marker='*', label='Decision Trees', color = 'black')\n",
        "plt.plot(fpr_RF, tpr_RF, marker='*', label='Random Forest', color = 'Red')\n",
        "plt.plot(fpr_SVM, tpr_SVM, marker='*', label='SVM', color = 'green')\n",
        "plt.plot(fpr_LR, tpr_LR, marker='*', label='LogisticRegression', color = 'yellow')\n",
        "plt.plot(fpr_KNN, tpr_KNN, marker='*', label='KNN', color = 'blue')\n",
        "plt.plot(fpr_NB, tpr_NB, marker='*', label='Naive Bayes', color = 'black')\n",
        "plt.plot(fpr_NN, tpr_NN, marker='*', label='Neural Network(NN)', color = 'black')\n",
        "plt.plot(fpr_NN, tpr_NN, marker='*', label='Gradient Boosting(GB)', color = 'black')\n",
        "plt.plot(fpr_ET, tpr_ET, marker='*', label='Etra Tree Classifier(ET)', color = 'black')\n",
        "plt.plot(fpr_LGBM, tpr_LGBM, marker='*', label='LGBMClassifer', color = 'black')\n",
        "plt.plot(fpr_CTB, tpr_CTB, marker='*', label='CatBoost', color = 'black')\n",
        "plt.xlabel('False Positive Rate')\n",
        "plt.ylabel('True Positive Rate')\n",
        "plt.title('ROC CURVES OF ALGORITHMS')\n",
        "plt.legend(loc=\"lower right\")\n",
        "plt.show()"
      ],
      "execution_count": null,
      "outputs": []
    },
    {
      "cell_type": "markdown",
      "metadata": {
        "id": "VWJPKzUcbMtP"
      },
      "source": [
        "## **12.2-Comparison of all algorithms Results**"
      ]
    },
    {
      "cell_type": "code",
      "metadata": {
        "id": "Oo09aaa0cJ-T"
      },
      "source": [
        "from prettytable import PrettyTable"
      ],
      "execution_count": null,
      "outputs": []
    },
    {
      "cell_type": "code",
      "metadata": {
        "colab": {
          "base_uri": "https://localhost:8080/"
        },
        "id": "7G9tYQnobT90",
        "outputId": "7ad857e6-cff5-404d-fd71-45fb048b954d"
      },
      "source": [
        "x = PrettyTable()\n",
        "print('\\n')\n",
        "print(\"Comparison of all algorithm results\")\n",
        "x.field_names = [\"Model\", \"Accuracy\"]\n",
        "\n",
        "\n",
        "x.add_row([\"Decision Trees Algorithm\", round(DT_Acc,4)])\n",
        "x.add_row([\"Random Forest Algorithm\", round(RF_Acc,4)])\n",
        "x.add_row([\"Support Vector Machine Algorithm\", round(SVM_Acc,4)])\n",
        "x.add_row([\"LogisticRegression Algorithm\", round(LR_Acc,4)])\n",
        "x.add_row([\"KNN Algorithm\", round(KNN_Acc,4)])\n",
        "x.add_row([\"Naive Bayes\", round(NB_Acc,4)])\n",
        "x.add_row([\"Neural Network\", round(NN_Acc,4)])\n",
        "x.add_row([\"Gradient Boosting\", round(GB_Acc,4)])\n",
        "x.add_row([\"ExtraTree Classifer \", round(ET_Acc,4)])\n",
        "x.add_row([\"LGBM Classifier \", round(LGBM_Acc,4)])\n",
        "x.add_row([\"CatBoost \", round(CTB_Acc,4)])\n",
        "print(x)\n",
        "print('\\n')"
      ],
      "execution_count": null,
      "outputs": [
        {
          "output_type": "stream",
          "name": "stdout",
          "text": [
            "\n",
            "\n",
            "Comparison of all algorithm results\n",
            "+----------------------------------+----------+\n",
            "|              Model               | Accuracy |\n",
            "+----------------------------------+----------+\n",
            "|     Decision Trees Algorithm     |  0.6189  |\n",
            "|     Random Forest Algorithm      |  0.7967  |\n",
            "| Support Vector Machine Algorithm |  0.4337  |\n",
            "|   LogisticRegression Algorithm   |  0.5663  |\n",
            "|          KNN Algorithm           |  0.4337  |\n",
            "+----------------------------------+----------+\n",
            "\n",
            "\n"
          ]
        }
      ]
    },
    {
      "cell_type": "markdown",
      "metadata": {
        "id": "uOu2ttBhIqPr"
      },
      "source": [
        "# **References**\n",
        "\n",
        "[Scikit-Learn - Ensemble Learning : Bootstrap Aggregation(Bagging) & Random Forests](https://coderzcolumn.com/tutorials/machine-learning/scikit-learn-sklearn-ensemble-learning-bagging-and-random-forests#2.4)\n",
        "\n",
        "[Scikit-Learn - Decision Trees](https://coderzcolumn.com/tutorials/machine-learning/scikit-learn-sklearn-decision-trees#2)\n",
        "\n",
        "[Deep Neural Multilayer Perceptron (MLP) with Scikit-learn](https://towardsdatascience.com/deep-neural-multilayer-perceptron-mlp-with-scikit-learn-2698e77155e)\n",
        "\n",
        "[Akramz\n",
        "/\n",
        "Hands-on-Machine-Learning-with-Scikit-Learn-Keras-and-TensorFlow\n",
        "Public](https://github.com/Akramz/Hands-on-Machine-Learning-with-Scikit-Learn-Keras-and-TensorFlow)\n",
        "\n",
        "[XGBoost hyperparameter tuning in Python using grid search](https://www.mikulskibartosz.name/xgboost-hyperparameter-tuning-in-python-using-grid-search/)\n",
        "\n",
        "[KNN Classifier in Sklearn using GridSearchCV with Example](https://machinelearningknowledge.ai/knn-classifier-in-sklearn-using-gridsearchcv-with-example/)\n",
        "\n",
        "[Decision Tree Classifier in Python Sklearn with Example](https://machinelearningknowledge.ai/decision-tree-classifier-in-python-sklearn-with-example/)"
      ]
    }
  ]
}