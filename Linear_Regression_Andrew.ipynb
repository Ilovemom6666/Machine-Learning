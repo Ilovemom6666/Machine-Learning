{
  "nbformat": 4,
  "nbformat_minor": 0,
  "metadata": {
    "colab": {
      "name": "Linear Regression_Andrew.ipynb",
      "provenance": [],
      "toc_visible": true,
      "authorship_tag": "ABX9TyN4l25DPCzf0qqTWbaxMsL3",
      "include_colab_link": true
    },
    "kernelspec": {
      "name": "python3",
      "display_name": "Python 3"
    },
    "language_info": {
      "name": "python"
    }
  },
  "cells": [
    {
      "cell_type": "markdown",
      "metadata": {
        "id": "view-in-github",
        "colab_type": "text"
      },
      "source": [
        "<a href=\"https://colab.research.google.com/github/hussain0048/Machine-Learning/blob/master/Linear_Regression_Andrew.ipynb\" target=\"_parent\"><img src=\"https://colab.research.google.com/assets/colab-badge.svg\" alt=\"Open In Colab\"/></a>"
      ]
    },
    {
      "cell_type": "markdown",
      "source": [
        "# **Import Library**"
      ],
      "metadata": {
        "id": "aFhgt8BlEUoe"
      }
    },
    {
      "cell_type": "code",
      "source": [
        "import os\n",
        "import numpy as np\n",
        "import pandas as pd\n",
        "import matplotlib.pyplot as plt\n",
        "%matplotlib inline"
      ],
      "metadata": {
        "id": "mjZ4jdnjEOxZ"
      },
      "execution_count": 3,
      "outputs": []
    },
    {
      "cell_type": "markdown",
      "source": [
        "#**Data Loading**"
      ],
      "metadata": {
        "id": "hvEfJ3q0CA5x"
      }
    },
    {
      "cell_type": "code",
      "execution_count": 1,
      "metadata": {
        "colab": {
          "base_uri": "https://localhost:8080/"
        },
        "id": "atqAnm0-BmD1",
        "outputId": "2998fe6c-1486-4708-b263-019d4cf7631b"
      },
      "outputs": [
        {
          "output_type": "stream",
          "name": "stdout",
          "text": [
            "Mounted at /content/drive\n"
          ]
        }
      ],
      "source": [
        "from google.colab import drive\n",
        "drive.mount('/content/drive')"
      ]
    },
    {
      "cell_type": "code",
      "source": [
        "import pandas as pd \n",
        "data = pd.read_csv('/content/drive/MyDrive/Datasets/Andrew ML/ex1data1.txt', header=None, names=['Population', 'Profit'])\n",
        "data.head()"
      ],
      "metadata": {
        "id": "QLJ6QGfDEl3Z"
      },
      "execution_count": null,
      "outputs": []
    },
    {
      "cell_type": "code",
      "source": [
        "data.describe()"
      ],
      "metadata": {
        "id": "Oz8isQlvFPou"
      },
      "execution_count": null,
      "outputs": []
    },
    {
      "cell_type": "markdown",
      "source": [
        "# **Data Visulization** "
      ],
      "metadata": {
        "id": "D0r5ByIxFXPh"
      }
    },
    {
      "cell_type": "code",
      "source": [
        "data.plot(kind='scatter', x='Population', y='Profit', figsize=(12,8))"
      ],
      "metadata": {
        "id": "rEScbwTrFVq8"
      },
      "execution_count": null,
      "outputs": []
    },
    {
      "cell_type": "markdown",
      "source": [
        "# **Implementing Simple Linear Regression**"
      ],
      "metadata": {
        "id": "I1VWaJsoFjTX"
      }
    },
    {
      "cell_type": "code",
      "source": [
        "def computeCost(X, y, theta):\n",
        "    inner = np.power(((X * theta.T) - y), 2)\n",
        "    return np.sum(inner) / (2 * len(X))"
      ],
      "metadata": {
        "id": "a332MtBLFrEs"
      },
      "execution_count": 10,
      "outputs": []
    },
    {
      "cell_type": "code",
      "source": [
        "# append a ones column to the front of the data set\n",
        "data.insert(0, 'Ones', 1)\n",
        "\n",
        "# set X (training data) and y (target variable)\n",
        "cols = data.shape[1]\n",
        "X = data.iloc[:,0:cols-1]\n",
        "y = data.iloc[:,cols-1:cols]"
      ],
      "metadata": {
        "id": "H3b7t7oiFynE"
      },
      "execution_count": 11,
      "outputs": []
    },
    {
      "cell_type": "code",
      "source": [
        "# convert from data frames to numpy matrices\n",
        "X = np.matrix(X.values)\n",
        "y = np.matrix(y.values)\n",
        "theta = np.matrix(np.array([0,0]))"
      ],
      "metadata": {
        "id": "MKu-CyaZF-nV"
      },
      "execution_count": 12,
      "outputs": []
    },
    {
      "cell_type": "code",
      "source": [
        "X.shape, theta.shape, y.shape\n"
      ],
      "metadata": {
        "colab": {
          "base_uri": "https://localhost:8080/"
        },
        "id": "Trlb3TYBGI07",
        "outputId": "55b6e536-5796-47e8-fcca-c3a6210197ed"
      },
      "execution_count": 13,
      "outputs": [
        {
          "output_type": "execute_result",
          "data": {
            "text/plain": [
              "((97, 2), (1, 2), (97, 1))"
            ]
          },
          "metadata": {},
          "execution_count": 13
        }
      ]
    },
    {
      "cell_type": "code",
      "source": [
        "computeCost(X, y, theta)"
      ],
      "metadata": {
        "colab": {
          "base_uri": "https://localhost:8080/"
        },
        "id": "8T1Tl-rhGPIM",
        "outputId": "83e6d883-c476-403f-faab-b0f5877bc22e"
      },
      "execution_count": 14,
      "outputs": [
        {
          "output_type": "execute_result",
          "data": {
            "text/plain": [
              "32.072733877455676"
            ]
          },
          "metadata": {},
          "execution_count": 14
        }
      ]
    },
    {
      "cell_type": "code",
      "source": [
        "def gradientDescent(X, y, theta, alpha, iters):\n",
        "    temp = np.matrix(np.zeros(theta.shape))\n",
        "    parameters = int(theta.ravel().shape[1])\n",
        "    cost = np.zeros(iters)\n",
        "    \n",
        "    for i in range(iters):\n",
        "        error = (X * theta.T) - y\n",
        "        \n",
        "        for j in range(parameters):\n",
        "            term = np.multiply(error, X[:,j])\n",
        "            temp[0,j] = theta[0,j] - ((alpha / len(X)) * np.sum(term))\n",
        "            \n",
        "        theta = temp\n",
        "        cost[i] = computeCost(X, y, theta)\n",
        "        \n",
        "    return theta, cost"
      ],
      "metadata": {
        "id": "tL3KXbuHGVtE"
      },
      "execution_count": 15,
      "outputs": []
    },
    {
      "cell_type": "code",
      "source": [
        "# initialize variables for learning rate and iterations\n",
        "alpha = 0.01\n",
        "iters = 1000\n",
        "\n",
        "# perform gradient descent to \"fit\" the model parameters\n",
        "g, cost = gradientDescent(X, y, theta, alpha, iters)\n",
        "g"
      ],
      "metadata": {
        "colab": {
          "base_uri": "https://localhost:8080/"
        },
        "id": "Yd_XQPBNGcJN",
        "outputId": "75b41708-336b-4858-cf80-f3cec3536aa5"
      },
      "execution_count": 16,
      "outputs": [
        {
          "output_type": "execute_result",
          "data": {
            "text/plain": [
              "matrix([[-3.24140214,  1.1272942 ]])"
            ]
          },
          "metadata": {},
          "execution_count": 16
        }
      ]
    },
    {
      "cell_type": "code",
      "source": [
        "computeCost(X, y, g)\n"
      ],
      "metadata": {
        "colab": {
          "base_uri": "https://localhost:8080/"
        },
        "id": "f6tD8yQsGlRr",
        "outputId": "fd350dd8-9b36-4410-d41b-35d2c7b364d8"
      },
      "execution_count": 17,
      "outputs": [
        {
          "output_type": "execute_result",
          "data": {
            "text/plain": [
              "4.515955503078914"
            ]
          },
          "metadata": {},
          "execution_count": 17
        }
      ]
    },
    {
      "cell_type": "markdown",
      "source": [
        "# **Viewing The Results**"
      ],
      "metadata": {
        "id": "nJ9qKgLDGqs-"
      }
    },
    {
      "cell_type": "code",
      "source": [
        "x = np.linspace(data.Population.min(), data.Population.max(), 100)\n",
        "f = g[0, 0] + (g[0, 1] * x)\n",
        "\n",
        "fig, ax = plt.subplots(figsize=(12,8))\n",
        "ax.plot(x, f, 'r', label='Prediction')\n",
        "ax.scatter(data.Population, data.Profit, label='Traning Data')\n",
        "ax.legend(loc=2)\n",
        "ax.set_xlabel('Population')\n",
        "ax.set_ylabel('Profit')\n",
        "ax.set_title('Predicted Profit vs. Population Size')"
      ],
      "metadata": {
        "colab": {
          "base_uri": "https://localhost:8080/",
          "height": 530
        },
        "id": "pQ3HmNFxGzBk",
        "outputId": "6277480c-7536-47eb-c2ba-5ca3ce801b23"
      },
      "execution_count": 18,
      "outputs": [
        {
          "output_type": "execute_result",
          "data": {
            "text/plain": [
              "Text(0.5, 1.0, 'Predicted Profit vs. Population Size')"
            ]
          },
          "metadata": {},
          "execution_count": 18
        },
        {
          "output_type": "display_data",
          "data": {
            "text/plain": [
              "<Figure size 864x576 with 1 Axes>"
            ],
            "image/png": "[encoded data removed]"
          },
          "metadata": {
            "needs_background": "light"
          }
        }
      ]
    },
    {
      "cell_type": "code",
      "source": [
        "fig, ax = plt.subplots(figsize=(12,8))\n",
        "ax.plot(np.arange(iters), cost, 'r')\n",
        "ax.set_xlabel('Iterations')\n",
        "ax.set_ylabel('Cost')\n",
        "ax.set_title('Error vs. Training Epoch')"
      ],
      "metadata": {
        "colab": {
          "base_uri": "https://localhost:8080/",
          "height": 530
        },
        "id": "-x_TmgQsG771",
        "outputId": "cb9c49e2-5e8b-46b4-9f52-118c5d700f23"
      },
      "execution_count": 19,
      "outputs": [
        {
          "output_type": "execute_result",
          "data": {
            "text/plain": [
              "Text(0.5, 1.0, 'Error vs. Training Epoch')"
            ]
          },
          "metadata": {},
          "execution_count": 19
        },
        {
          "output_type": "display_data",
          "data": {
            "text/plain": [
              "<Figure size 864x576 with 1 Axes>"
            ],
            "image/png": "[encoded data removed]"
          },
          "metadata": {
            "needs_background": "light"
          }
        }
      ]
    }
  ]
}