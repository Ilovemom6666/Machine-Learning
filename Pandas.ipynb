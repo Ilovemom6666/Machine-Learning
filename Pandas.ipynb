{
  "nbformat": 4,
  "nbformat_minor": 0,
  "metadata": {
    "colab": {
      "provenance": [],
      "toc_visible": true,
      "authorship_tag": "ABX9TyOyvh324sNrYbt14LzWeegU",
      "include_colab_link": true
    },
    "kernelspec": {
      "name": "python3",
      "display_name": "Python 3"
    },
    "language_info": {
      "name": "python"
    }
  },
  "cells": [
    {
      "cell_type": "markdown",
      "metadata": {
        "id": "view-in-github",
        "colab_type": "text"
      },
      "source": [
        "<a href=\"https://colab.research.google.com/github/hussain0048/Machine-Learning/blob/master/Pandas.ipynb\" target=\"_parent\"><img src=\"https://colab.research.google.com/assets/colab-badge.svg\" alt=\"Open In Colab\"/></a>"
      ]
    },
    {
      "cell_type": "code",
      "execution_count": null,
      "metadata": {
        "id": "N9CHI-8fZJk_"
      },
      "outputs": [],
      "source": []
    },
    {
      "cell_type": "markdown",
      "source": [
        "#  **Pandas(Beginer Level)**"
      ],
      "metadata": {
        "id": "8FcBowAEZN5e"
      }
    },
    {
      "cell_type": "markdown",
      "source": [
        "##1-**Installing Pandas**"
      ],
      "metadata": {
        "id": "r_gREz_oZeB6"
      }
    },
    {
      "cell_type": "code",
      "source": [
        "conda install pandas"
      ],
      "metadata": {
        "id": "F9_SDT9dZnsY"
      },
      "execution_count": null,
      "outputs": []
    },
    {
      "cell_type": "code",
      "source": [
        "!pip install pandas"
      ],
      "metadata": {
        "id": "McLSSQsSZrFY"
      },
      "execution_count": null,
      "outputs": []
    },
    {
      "cell_type": "markdown",
      "source": [
        "## **2-Importing**"
      ],
      "metadata": {
        "id": "81yvE49DZ1Zj"
      }
    },
    {
      "cell_type": "code",
      "source": [
        "import pandas as pd\n",
        "import numpy as np"
      ],
      "metadata": {
        "id": "UtS8O87jaIww"
      },
      "execution_count": 2,
      "outputs": []
    },
    {
      "cell_type": "markdown",
      "source": [
        "## **3- Pandas Data Structures**\n"
      ],
      "metadata": {
        "id": "CdpSUCjmcb93"
      }
    },
    {
      "cell_type": "markdown",
      "source": [
        "### **3.1- Series**"
      ],
      "metadata": {
        "id": "DMZqc4-TcmDt"
      }
    },
    {
      "cell_type": "code",
      "source": [
        "newSeries = pd.Series(data , index)"
      ],
      "metadata": {
        "id": "Vpp4lxljcwSt"
      },
      "execution_count": null,
      "outputs": []
    },
    {
      "cell_type": "markdown",
      "source": [
        "**Let’s build a series from Python List:**\n",
        "\n"
      ],
      "metadata": {
        "id": "70aC5mvmdFLc"
      }
    },
    {
      "cell_type": "code",
      "source": [
        "mylist = ['Ahmad','Machine Learning', 20, 'Pakistan']\n",
        "labels = ['Name', 'Career', 'Age', 'Country']\n",
        "newSeries = pd.Series(mylist,labels)\n",
        "print(newSeries)"
      ],
      "metadata": {
        "colab": {
          "base_uri": "https://localhost:8080/"
        },
        "id": "-wCCa-oHdQqs",
        "outputId": "7345c469-3bab-49b5-d6b7-cffef89d00f9"
      },
      "execution_count": 3,
      "outputs": [
        {
          "output_type": "stream",
          "name": "stdout",
          "text": [
            "Name                  Ahmad\n",
            "Career     Machine Learning\n",
            "Age                      20\n",
            "Country            Pakistan\n",
            "dtype: object\n"
          ]
        }
      ]
    },
    {
      "cell_type": "markdown",
      "source": [
        "It is not necessary to add an index in a pandas Series. In that case, it will automatically start index from 0."
      ],
      "metadata": {
        "id": "SclW2Vx8durV"
      }
    },
    {
      "cell_type": "code",
      "source": [
        "mylist = ['Ahmad','Machine Learning', 20, 'Pakistan']\n",
        "newSeries = pd.Series(mylist)\n",
        "print(newSeries)"
      ],
      "metadata": {
        "id": "5ZccTmPAdmZk"
      },
      "execution_count": null,
      "outputs": []
    },
    {
      "cell_type": "markdown",
      "source": [
        "**Create a Series using a Python Dictionary**"
      ],
      "metadata": {
        "id": "V4I8ICSMd2YW"
      }
    },
    {
      "cell_type": "code",
      "source": [
        "myDict = {'Name': 'Ahmad',\n",
        "         'Career': 'Machine Learning',\n",
        "         'Age': 20,\n",
        "          'Country': 'Pakistan'}\n",
        "mySeries = pd.Series(myDict)\n",
        "print(mySeries)"
      ],
      "metadata": {
        "colab": {
          "base_uri": "https://localhost:8080/"
        },
        "id": "u7O8w0ped-9V",
        "outputId": "916d22c2-a503-456b-b3e5-85eb6e535ba2"
      },
      "execution_count": 5,
      "outputs": [
        {
          "output_type": "stream",
          "name": "stdout",
          "text": [
            "Name                  Ahmad\n",
            "Career     Machine Learning\n",
            "Age                      20\n",
            "Country            Pakistan\n",
            "dtype: object\n"
          ]
        }
      ]
    },
    {
      "cell_type": "markdown",
      "source": [
        "**Accessing data from Series**\n"
      ],
      "metadata": {
        "id": "G4WWSNfUeHy0"
      }
    },
    {
      "cell_type": "code",
      "source": [
        "seriesName['IndexName']"
      ],
      "metadata": {
        "id": "OPD613P-eNCL"
      },
      "execution_count": null,
      "outputs": []
    },
    {
      "cell_type": "code",
      "source": [
        "print(mySeries['Name'])\n",
        "print(mySeries['Age'])\n",
        "print(mySeries['Career'])"
      ],
      "metadata": {
        "id": "puzHiEo9eN-7"
      },
      "execution_count": null,
      "outputs": []
    },
    {
      "cell_type": "markdown",
      "source": [
        "**Basic Operations on Pandas Series**\n"
      ],
      "metadata": {
        "id": "pklm2nU4eZxc"
      }
    },
    {
      "cell_type": "code",
      "source": [
        "newSeries = pd.Series([10,20,30,40],index=['LONDON','NEWYORK','Washington','Manchester'])\n",
        "newSeries1 = pd.Series([10,20,35,46],index=['LONDON','NEWYORK','Istanbul','Karachi'])\n",
        "print(newSeries,newSeries1,sep='\\n\\n')"
      ],
      "metadata": {
        "id": "dgp8QWUIegEk"
      },
      "execution_count": null,
      "outputs": []
    },
    {
      "cell_type": "markdown",
      "source": [
        "Basic Arithmetic operations include +-*/ operations. These are done over-index, so let’s perform them."
      ],
      "metadata": {
        "id": "BEp-hGbjetHH"
      }
    },
    {
      "cell_type": "code",
      "source": [
        "newSeries + newSeries1"
      ],
      "metadata": {
        "colab": {
          "base_uri": "https://localhost:8080/"
        },
        "id": "r4JAuVsheo3s",
        "outputId": "0a554be5-100a-465c-9590-3d7282e2c2d0"
      },
      "execution_count": 8,
      "outputs": [
        {
          "output_type": "execute_result",
          "data": {
            "text/plain": [
              "Istanbul       NaN\n",
              "Karachi        NaN\n",
              "LONDON        20.0\n",
              "Manchester     NaN\n",
              "NEWYORK       40.0\n",
              "Washington     NaN\n",
              "dtype: float64"
            ]
          },
          "metadata": {},
          "execution_count": 8
        }
      ]
    },
    {
      "cell_type": "markdown",
      "source": [
        "Here we can see that since London and NEWYORK index are present in both Series, so it has added the value of both and output of rest is NaN (Not a number)"
      ],
      "metadata": {
        "id": "2IhTAvBve2q7"
      }
    }
  ]
}