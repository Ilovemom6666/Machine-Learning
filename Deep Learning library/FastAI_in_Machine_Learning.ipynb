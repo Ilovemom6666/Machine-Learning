{
  "nbformat": 4,
  "nbformat_minor": 0,
  "metadata": {
    "colab": {
      "name": "FastAI in Machine Learning",
      "provenance": [],
      "collapsed_sections": [],
      "toc_visible": true
    },
    "kernelspec": {
      "name": "python3",
      "display_name": "Python 3"
    },
    "language_info": {
      "name": "python"
    }
  },
  "cells": [
    {
      "cell_type": "markdown",
      "metadata": {
        "id": "gDzSpvtHNZPb"
      },
      "source": [
        "# **Introduction**"
      ]
    },
    {
      "cell_type": "markdown",
      "metadata": {
        "id": "7PanCid7NoX9"
      },
      "source": [
        "FastAI is a Machine Learning library used for Deep Learning tasks. It helps by providing top-level components that can be easily used to achieve cutting edge results. In this article, I will walk you through a tutorial on FastAI in Machine Learning using Python."
      ]
    },
    {
      "cell_type": "markdown",
      "metadata": {
        "id": "tAWclN5xNvSa"
      },
      "source": [
        "The FastAI library is created for two main goals:\n",
        "\n",
        "- to be approachable\n",
        "- rapidly productive\n",
        "\n"
      ]
    },
    {
      "cell_type": "markdown",
      "metadata": {
        "id": "bgfKKQUON9MK"
      },
      "source": [
        "FastAI aims to provide high-level components to researchers who use low-level components that can be used to build new approaches. The best part about this library is that it does all of this without substantial components in ease of use, flexibility, and performance."
      ]
    },
    {
      "cell_type": "markdown",
      "metadata": {
        "id": "NS2_1L5qOImL"
      },
      "source": [
        "FastAI is built on Pytorch, NumPy, PIL, pandas, and a few other libraries. To achieve its goals, it does not aim to hide the lower levels of its foundation. Using this machine learning library, we can directly interact with the underlying PyTorch primitive models.\n",
        "\n",
        "By using the FastAI library in Machine Learning, we can easily build and train advanced neural network models using transfer learning with very few lines of code. In the section below, I’ll show you an example of this library."
      ]
    },
    {
      "cell_type": "markdown",
      "metadata": {
        "id": "srGXt7ipON7a"
      },
      "source": [
        "In this section, I’ll walk you through an example of how to use the FastAI Machine Learning Library on a very popular task within the Machine Learning community that is about classifying dogs and cats."
      ]
    },
    {
      "cell_type": "markdown",
      "metadata": {
        "id": "sSN_BlZ3OSvT"
      },
      "source": [
        "To use this library, you need to run these three commands below in your command prompt or terminal:"
      ]
    },
    {
      "cell_type": "code",
      "metadata": {
        "id": "qD7IiuE1OUL0"
      },
      "source": [
        "!pip install fastai\n",
        "!pip install fastbook --upgrade\n",
        "!pip install -Uqq fastbook"
      ],
      "execution_count": null,
      "outputs": []
    },
    {
      "cell_type": "markdown",
      "metadata": {
        "id": "bkF7ZCndOovC"
      },
      "source": [
        "After executing the above commands we need to prepare the environment to work on this library, which we can easily do by importing the fastbook library and passing the setup_book() function:"
      ]
    },
    {
      "cell_type": "code",
      "metadata": {
        "colab": {
          "base_uri": "https://localhost:8080/"
        },
        "id": "jr3xu6mmOsCV",
        "outputId": "5609f189-9ace-4bbb-f823-cd861d6b7018"
      },
      "source": [
        "import fastbook\n",
        "fastbook.setup_book()"
      ],
      "execution_count": 10,
      "outputs": [
        {
          "output_type": "stream",
          "text": [
            "Mounted at /content/gdrive\n"
          ],
          "name": "stdout"
        }
      ]
    },
    {
      "cell_type": "markdown",
      "metadata": {
        "id": "4mosj6MlO1IB"
      },
      "source": [
        "Now let’s import the necessary libraries and the dataset that we need to work on in this tutorial:"
      ]
    },
    {
      "cell_type": "code",
      "metadata": {
        "colab": {
          "base_uri": "https://localhost:8080/",
          "height": 17
        },
        "id": "_XSNLrm_O6hZ",
        "outputId": "d78baa28-6f79-4596-8616-b6ec0aa69608"
      },
      "source": [
        "from fastai.vision.all import *\n",
        "path = untar_data(URLs.PETS)"
      ],
      "execution_count": 11,
      "outputs": [
        {
          "output_type": "display_data",
          "data": {
            "text/html": [
              ""
            ],
            "text/plain": [
              "<IPython.core.display.HTML object>"
            ]
          },
          "metadata": {
            "tags": []
          }
        }
      ]
    },
    {
      "cell_type": "markdown",
      "metadata": {
        "id": "yNhIIIj5O_iq"
      },
      "source": [
        "In FastAI, untar_data is a very powerful convenience function to download files from a URL. We are using the PETS dataset here which includes 37 categories of pets with roughly around 200 images of each class. Now let’s determine the labels:"
      ]
    },
    {
      "cell_type": "code",
      "metadata": {
        "id": "bEIFujpKPPFQ"
      },
      "source": [
        "def is_cat(x):\n",
        "  return x[0].isupper()"
      ],
      "execution_count": 12,
      "outputs": []
    },
    {
      "cell_type": "markdown",
      "metadata": {
        "id": "qFDQ35bdPT2Y"
      },
      "source": [
        "Now I will use the ImageDataLoader function which raps around several data loaders for the problems of computer vision:"
      ]
    },
    {
      "cell_type": "code",
      "metadata": {
        "id": "7T4AzbKaPZm4"
      },
      "source": [
        "dls = ImageDataLoaders.from_name_func(\n",
        "    path,\n",
        "    get_image_files(path),\n",
        "    valid_pct = 0.2,\n",
        "    seed = 42,\n",
        "    label_func = is_cat,\n",
        "    item_tfms = Resize(224)\n",
        ")"
      ],
      "execution_count": 13,
      "outputs": []
    },
    {
      "cell_type": "markdown",
      "metadata": {
        "id": "VAXSqaU7Pi7p"
      },
      "source": [
        "**Final Step: Making Predictions**\n"
      ]
    },
    {
      "cell_type": "markdown",
      "metadata": {
        "id": "gWHm8lNLPnDY"
      },
      "source": [
        "Now let’s train the model and make predictions:\n",
        "\n"
      ]
    },
    {
      "cell_type": "code",
      "metadata": {
        "id": "w5A80ZU_PlLR"
      },
      "source": [
        "learn =cnn_learner(dls,\n",
        "                   resnet34,\n",
        "                   metrics = error_rate)\n",
        "\n",
        "learn.fine_tune(1)\n",
        "import ipywidgets as widgets\n",
        "\n",
        "uploader = widgets.FileUpload()\n",
        "uploader\n",
        "def pred():\n",
        "  img = PILImage.create(uploader.data[0])\n",
        "  img.show()\n",
        "\n",
        "  #Make Prediction\n",
        "  is_cat,_,probs = learn.predict(img)\n",
        "\n",
        "  print(f\"Image is of a Cat: {is_cat}.\")\n",
        "  print(f\"Probability image is a cat: {probs[1].item():.6f}\")\n",
        "  pred()"
      ],
      "execution_count": null,
      "outputs": []
    },
    {
      "cell_type": "markdown",
      "metadata": {
        "id": "qOG-HMzONLd1"
      },
      "source": [
        "# **References**"
      ]
    },
    {
      "cell_type": "markdown",
      "metadata": {
        "id": "ljFIXtDbNPtz"
      },
      "source": [
        "[FastAI in Machine Learning](https://thecleverprogrammer.com/2021/01/22/fastai-in-machine-learning/)"
      ]
    }
  ]
}